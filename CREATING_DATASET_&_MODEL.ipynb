{
 "cells": [
  {
   "cell_type": "code",
   "execution_count": 1,
   "metadata": {
    "scrolled": true
   },
   "outputs": [
    {
     "name": "stderr",
     "output_type": "stream",
     "text": [
      "S:\\anaconda\\lib\\site-packages\\h5py\\__init__.py:36: FutureWarning: Conversion of the second argument of issubdtype from `float` to `np.floating` is deprecated. In future, it will be treated as `np.float64 == np.dtype(float).type`.\n",
      "  from ._conv import register_converters as _register_converters\n",
      "Using TensorFlow backend.\n"
     ]
    }
   ],
   "source": [
    "import cv2\n",
    "import numpy as np\n",
    "import os\n",
    "from random import shuffle\n",
    "from PIL import Image\n",
    "import sys\n",
    "from tqdm import tqdm\n",
    "import pickle\n",
    "import tensorflow as tf\n",
    "from tensorflow import keras\n",
    "from keras.models import model_from_json"
   ]
  },
  {
   "cell_type": "code",
   "execution_count": 1,
   "metadata": {},
   "outputs": [
    {
     "name": "stdout",
     "output_type": "stream",
     "text": [
      "https://encrypted-tbn0.gstatic.com/images?q=tbn:ANd9GcS0MOBrI_Z2A9l9pjpVEHCWb9QK5WSMiLWqhMU_mHgXTeT4btQSBQLPsA\n",
      "https://encrypted-tbn0.gstatic.com/images?q=tbn:ANd9GcQGI0B4F2tHP1Oa4h61P9ElRnq6IK6T3MtnkWbxT5tPGts3pTdNu3LGVg\n",
      "https://encrypted-tbn0.gstatic.com/images?q=tbn:ANd9GcQz6vjFRhToMoH9ZZS75YWetySPfjOozRnddkfGC5XKvaAGKt_-HMcjiNU\n",
      "https://encrypted-tbn0.gstatic.com/images?q=tbn:ANd9GcSrPA1LZk3D7t9-Ug8VpG8G1xmGixckF1Vdz3SThvrJCDBilI6RpGTwruci\n",
      "https://encrypted-tbn0.gstatic.com/images?q=tbn:ANd9GcT3JI7T2OswitQkvcn5_AiBZ0AdP0dI8nqDKUpqo-DhNH8EWbguLuZb8xk\n",
      "https://encrypted-tbn0.gstatic.com/images?q=tbn:ANd9GcR4QenP0lEtz_yA4kPZT4h4yTgQ6oxMclceM1RiE_pI79KzcBKnrXmiH4dI\n",
      "https://encrypted-tbn0.gstatic.com/images?q=tbn:ANd9GcS3V0nZxYeHpVAEnf_MykKyO6iRzN2-PPqVq0hnD-K2PL11QHmeq_4qZg8VXQ\n",
      "https://encrypted-tbn0.gstatic.com/images?q=tbn:ANd9GcQVE9YjUF-h_tsHAy8Itsc6IGWktDtd3kGVafS4-sqnrvP00RxIN7Escftn\n",
      "https://encrypted-tbn0.gstatic.com/images?q=tbn:ANd9GcT46DH-Z-37uSqsZRke0NDOuD3-qGgRO4GvzS204YWFbXInbfwua7Qj_5bGzw\n",
      "https://encrypted-tbn0.gstatic.com/images?q=tbn:ANd9GcSiCgywosIIkqvu2D6j05NseC8ulgR7Wln5UUBRRVEuo2vAArG4LOd_5A\n",
      "https://encrypted-tbn0.gstatic.com/images?q=tbn:ANd9GcSP9xJQYwZaoSV_1v3h56_Nx7NATFqzlxkOK2_6Y4rns9xxSBzMmOG89s0\n",
      "https://encrypted-tbn0.gstatic.com/images?q=tbn:ANd9GcQHlKXLEKqYz6DxBfluqW1aBsOxw3mp7TIj4gfGA417lWJo78hLxLtxIg\n",
      "https://encrypted-tbn0.gstatic.com/images?q=tbn:ANd9GcS7-tHrnpxpTQbOuLbm1m9oZ8EAWzflYQGI1FQi3cj3P_vP24vDhSgnpdw\n",
      "https://encrypted-tbn0.gstatic.com/images?q=tbn:ANd9GcTUR1iT_g__VQmIzlvhSgLfgxsaFXy1XrZb1oSmkXAMWuOpWl5HiUjOGsJ9\n",
      "https://encrypted-tbn0.gstatic.com/images?q=tbn:ANd9GcRecQSGYpqlBrzpmjcs4ELiu4oePb0mPUK_mV5FojqmIGjGcCW8bnH9n21Y\n",
      "https://encrypted-tbn0.gstatic.com/images?q=tbn:ANd9GcRamK0z4IVehRBAvFNroraleZUnniPYf91yGKcurAUCRWqnHapC-eSoJl8t\n",
      "https://encrypted-tbn0.gstatic.com/images?q=tbn:ANd9GcTfDLo69D8_eUcVuvO1eSnKXUzok286r6hsMKnSlmX4nukrWDBsQBSFZvIn\n",
      "https://encrypted-tbn0.gstatic.com/images?q=tbn:ANd9GcSqIuAQLzkSSR3JCqarjwUXyuqi5SJPDRUsmE06Zz0DNHfmORLaPcC4bA0\n",
      "https://encrypted-tbn0.gstatic.com/images?q=tbn:ANd9GcQhLFrGBzzjIcQJnx-ARtDNg5zcWeTDOiufRVdPapm13pUNn-64SzIj_PU\n",
      "https://encrypted-tbn0.gstatic.com/images?q=tbn:ANd9GcTu5kMTmNlGpUUMdf5i0yAAaGJ9Wpw18DQcCe48OEvoV-Io1CWF5a5RnFs-\n",
      "https://encrypted-tbn0.gstatic.com/images?q=tbn:ANd9GcS3iLEoySIzz5YjoqB_ezPRSbrp4nfo4A9WAcOsaeNl-QJe6C9-vZAmjeQ\n",
      "https://encrypted-tbn0.gstatic.com/images?q=tbn:ANd9GcSKrA996gVANGtOSUId2fWHd2luO9BOfG8Lb_XvYRTUGNSuY9eQxPpU-ow\n",
      "https://encrypted-tbn0.gstatic.com/images?q=tbn:ANd9GcQjqhgyDSYnDh3yxgk8WhR8_C9JGx6EIGed_GI1dmWFe0VCwpcZsSyEEPs\n",
      "https://encrypted-tbn0.gstatic.com/images?q=tbn:ANd9GcQP2GCfeuiCNMMFLSphnPgKxK5LExCqi5lNOi0CD2-qQ0O9Yqxj4D19OjQ\n",
      "https://encrypted-tbn0.gstatic.com/images?q=tbn:ANd9GcS0MOBrI_Z2A9l9pjpVEHCWb9QK5WSMiLWqhMU_mHgXTeT4btQSBQLPsA\n",
      "https://encrypted-tbn0.gstatic.com/images?q=tbn:ANd9GcT3V_92pg16JHXkTzyWIS6_jOWHWmiDnVR1ag--BAJ9RcTyXoOeCYIjkII\n",
      "https://encrypted-tbn0.gstatic.com/images?q=tbn:ANd9GcStcVxxBJb5tRoCr9GepiiyQmUCZrQaHaicgjaAJhO7VWypa-9m93jr-Q\n",
      "https://encrypted-tbn0.gstatic.com/images?q=tbn:ANd9GcS9UXw_TpclsaDW7NrR0Rwm_RgtffnklM-cu1n-RdwSqwQJ7ExwcOW543_H\n",
      "https://encrypted-tbn0.gstatic.com/images?q=tbn:ANd9GcT3JI7T2OswitQkvcn5_AiBZ0AdP0dI8nqDKUpqo-DhNH8EWbguLuZb8xk\n",
      "https://encrypted-tbn0.gstatic.com/images?q=tbn:ANd9GcR4QenP0lEtz_yA4kPZT4h4yTgQ6oxMclceM1RiE_pI79KzcBKnrXmiH4dI\n",
      "https://encrypted-tbn0.gstatic.com/images?q=tbn:ANd9GcRVCXAyZ1xynqu-cbUDutsyV-KQxB3Q9p727pm16U2l-mX1NTEKTgDbuYLX\n",
      "https://encrypted-tbn0.gstatic.com/images?q=tbn:ANd9GcRecQSGYpqlBrzpmjcs4ELiu4oePb0mPUK_mV5FojqmIGjGcCW8bnH9n21Y\n",
      "https://encrypted-tbn0.gstatic.com/images?q=tbn:ANd9GcRhn89zEinVzmodME1wrl54ChCMCgT3Jyrh2IZgBrw33G-wuJzMkv2uGGadSw\n",
      "https://encrypted-tbn0.gstatic.com/images?q=tbn:ANd9GcQ74EL8zLPze7ivuiTPFBGUQhKNEIbGvrhfkNkn7kENGH6lM1JcD80g5e3C\n",
      "https://encrypted-tbn0.gstatic.com/images?q=tbn:ANd9GcS5CLAxRzzfpE5YQah8oQvMPsZXC_kDYOff9_3lAkCTHQSTkolZpixmvSkM\n",
      "https://encrypted-tbn0.gstatic.com/images?q=tbn:ANd9GcR6UR279sJ9hGnuKCUBfcbF97IAmE0As0-3HP8hVb_OnsqA-_8MSZJIUtc\n",
      "https://encrypted-tbn0.gstatic.com/images?q=tbn:ANd9GcSiCgywosIIkqvu2D6j05NseC8ulgR7Wln5UUBRRVEuo2vAArG4LOd_5A\n",
      "https://encrypted-tbn0.gstatic.com/images?q=tbn:ANd9GcTUR1iT_g__VQmIzlvhSgLfgxsaFXy1XrZb1oSmkXAMWuOpWl5HiUjOGsJ9\n",
      "https://encrypted-tbn0.gstatic.com/images?q=tbn:ANd9GcS9VWXBFXojH5DiX2LCQM6n1QlnF6sJUzTjtvqAGDBZvkVrFRzIfUSokeoe\n",
      "https://encrypted-tbn0.gstatic.com/images?q=tbn:ANd9GcRu5qjJtiyx5LiSL8IJ0I9L2HU7RFaV4E9kBuxybj9lavUJhZuwHewFKyoA\n",
      "https://encrypted-tbn0.gstatic.com/images?q=tbn:ANd9GcQ2Z_iysNL-TJ3iKDjzf2yF_Vkx-JoCoVqCiapnn1oZpBdIonLEdaW6E0U\n",
      "https://encrypted-tbn0.gstatic.com/images?q=tbn:ANd9GcT3GfDaVTRe_12HKDB9M6rBF41acWYSsjrNFNzfEFuAtbk3seoCHBXL1A0\n",
      "https://encrypted-tbn0.gstatic.com/images?q=tbn:ANd9GcTfDLo69D8_eUcVuvO1eSnKXUzok286r6hsMKnSlmX4nukrWDBsQBSFZvIn\n",
      "https://encrypted-tbn0.gstatic.com/images?q=tbn:ANd9GcRamK0z4IVehRBAvFNroraleZUnniPYf91yGKcurAUCRWqnHapC-eSoJl8t\n",
      "https://encrypted-tbn0.gstatic.com/images?q=tbn:ANd9GcTu5kMTmNlGpUUMdf5i0yAAaGJ9Wpw18DQcCe48OEvoV-Io1CWF5a5RnFs-\n",
      "https://encrypted-tbn0.gstatic.com/images?q=tbn:ANd9GcQVE9YjUF-h_tsHAy8Itsc6IGWktDtd3kGVafS4-sqnrvP00RxIN7Escftn\n",
      "https://encrypted-tbn0.gstatic.com/images?q=tbn:ANd9GcSaTWuvmsnjb830QqFYz-Nz6bb55eSfYS5zctAgi--NKIOjFl5Aio1FA2pB\n",
      "https://encrypted-tbn0.gstatic.com/images?q=tbn:ANd9GcTulNRUicXXY2LAV360khibdjzgvOTw3zGygXessvFuE2OcUqRSMAzo_79k\n",
      "https://encrypted-tbn0.gstatic.com/images?q=tbn:ANd9GcTp4FWuH_oPE42W9nf5WKIbb6j1o56jPcgM6InSfqNRepq8mGYD1kz7Fg\n",
      "https://encrypted-tbn0.gstatic.com/images?q=tbn:ANd9GcQtkXh1f3-eiChz2kSb4aQRtDSQyLKgV8P1pTKauwX_bFBUeG_k1qAcxBMb\n",
      "https://encrypted-tbn0.gstatic.com/images?q=tbn:ANd9GcSVU2P43MSxxA9MfV7ZrFnH5U8QQt5oXgTW9ug_svrBeIoA9GuNPDFIpTgX\n",
      "https://encrypted-tbn0.gstatic.com/images?q=tbn:ANd9GcSvGOxFzQ4v8H_pke1Q12P7gZCfuJbss5hcQyA9DMNW-kVLMqAXD9_oVtk\n",
      "https://encrypted-tbn0.gstatic.com/images?q=tbn:ANd9GcQOszER6JxreQg-TDPqt5kTVxFvXMYbHY53wsXd7oVsUxPKacIJKYQTVvwS\n",
      "https://encrypted-tbn0.gstatic.com/images?q=tbn:ANd9GcRV2dvf5FHWb1nlH1gSh-jH1Q6SvMBWb3rEx0v2YKKRM0Lbd7hS8P6e4flgqg\n",
      "https://encrypted-tbn0.gstatic.com/images?q=tbn:ANd9GcTGSXa69GBuxaPdrIdVhk7sa5uP5-YI7GYCx9acdOga5rXQdldDRejsaLk\n",
      "https://encrypted-tbn0.gstatic.com/images?q=tbn:ANd9GcR9up6x3JUZXREsjb0VwycnFcynTZVljvZtuqDQlCjPr-kE5A7gCNkvgVk\n",
      "https://encrypted-tbn0.gstatic.com/images?q=tbn:ANd9GcQzSTc5p6g7i3YdAM28Yp0Cf4AQpYt3MIt2eLS2wge6WwEq532VqRNj-zs\n",
      "https://encrypted-tbn0.gstatic.com/images?q=tbn:ANd9GcTmS8my3vN_imV57xI6uQ0s5xgYiICh5WAY53ZNxnpRamjIQAlgj5A3hJds\n",
      "https://encrypted-tbn0.gstatic.com/images?q=tbn:ANd9GcT_M380rdiNTQ1wcyq5ktH4-iVUdhw6Yp_8Wido6pYRVaGvJ1WcPBL92n0\n",
      "https://encrypted-tbn0.gstatic.com/images?q=tbn:ANd9GcS8fyqZ-hrDuDUk6S57S9XAVxt782dIS34ojHSNBGovMokQinWujv5Zbzc\n",
      "https://encrypted-tbn0.gstatic.com/images?q=tbn:ANd9GcRab-cOHimLbB7VZ07KcGWu53mQ3T700qbswmQbimCEBuNGFxydMBAVFD3p\n",
      "https://encrypted-tbn0.gstatic.com/images?q=tbn:ANd9GcRFCpG1myIsUNFk9gkzR1Z2BL6iY18IY9IIAanaJotZL4dDzjUXT-zDxKc\n",
      "https://encrypted-tbn0.gstatic.com/images?q=tbn:ANd9GcSrCuJZca0d1ruOYEWwWcs-K0ND7_zfoLK58RSBqWakYvffYreXt-s0lvo\n",
      "https://encrypted-tbn0.gstatic.com/images?q=tbn:ANd9GcToikI9sWfkNUtChcP-6Hs7jIcoGCT8dl9_7yjR8vtkrPwxFyV--EOJdYy9\n",
      "https://encrypted-tbn0.gstatic.com/images?q=tbn:ANd9GcROD4y6cyFiT9Mhrwxnv-Ft3UyeDjK3MlToinnJpGAs3oUehFYNsk-gVBk\n",
      "https://encrypted-tbn0.gstatic.com/images?q=tbn:ANd9GcQFEFwQBVeQtS2KxNDnkAIe7LkK0RZJak3WHXVC2fuFRGYSyR_pUMJm0j60mg\n",
      "https://encrypted-tbn0.gstatic.com/images?q=tbn:ANd9GcRfqR2rw0JyTlfNQXPu9KjTnGbXnf1r_AKX-g8W8oOBHxVk5FLTc7FY1EDQ\n",
      "https://encrypted-tbn0.gstatic.com/images?q=tbn:ANd9GcT0Njdb78gtIiQ3_71XYMd7XDX9kacwwunqbMXzMsMGrbbTKRvXfUcg7NQ\n",
      "https://encrypted-tbn0.gstatic.com/images?q=tbn:ANd9GcTeejUVOkT-Q8hWVG8NTPQOuPZbqSDKOJpbqO_fm-pvyBbNUdh3IvicBE0\n",
      "https://encrypted-tbn0.gstatic.com/images?q=tbn:ANd9GcRdfV6cuOUYPBu7Fuwa9jYAZQNEtQ8ZNaljeNMzPusJpg32Hl3Mf2322tedfA\n",
      "https://encrypted-tbn0.gstatic.com/images?q=tbn:ANd9GcQ2d2t_iPzw7G1usu75lT0SsTcqerPhVdCaEpS5aShAI0vOzUHcXK3wWOvN\n",
      "https://encrypted-tbn0.gstatic.com/images?q=tbn:ANd9GcQ0O4JBnKbMAvgoYO-wbTl4TGvOqFPxNZzGA53k111mfDBfhd5zREMMGFk\n",
      "https://encrypted-tbn0.gstatic.com/images?q=tbn:ANd9GcQRNwp-2pPD-jX9lM7cCKTMPW2OEC15LUFfzzy0FAZGPD7RgDEOg-LcCGM\n"
     ]
    },
    {
     "name": "stdout",
     "output_type": "stream",
     "text": [
      "https://encrypted-tbn0.gstatic.com/images?q=tbn:ANd9GcSlM_k-jmTmrCXC-ohHd-053pCmwMJVoBUkICQKQVn1tBVEkIs5hdyFcL0\n",
      "https://encrypted-tbn0.gstatic.com/images?q=tbn:ANd9GcSLfcWprsH7NErow88PMyPhdMs1Z7sx0PvAbi1x6cctSU1bx7rmHFq9T3s\n",
      "https://encrypted-tbn0.gstatic.com/images?q=tbn:ANd9GcQ1OCQ7DdsPCdyx_ruNkjLSMjGv6YBdT-Vmkhu6YHOsYzKvfL0hKu8coEF_\n",
      "https://encrypted-tbn0.gstatic.com/images?q=tbn:ANd9GcSRzQcLBBhAf-vtw81eSSO-PAYzsR7-YXjXDa-f3Ao_-D27zSxcR-i9gYI\n",
      "https://encrypted-tbn0.gstatic.com/images?q=tbn:ANd9GcQhT_UEtWL_u4YuoBiJq0D2HIEEBksBOI-NotKFUJ3zR_bYyk31R_pXP9M\n",
      "https://encrypted-tbn0.gstatic.com/images?q=tbn:ANd9GcRSRXX7_ixRLCe02qS_zyvrIV1SeeIK7WoIAv9GznjqTw7hUAB1G86tx7w\n",
      "https://encrypted-tbn0.gstatic.com/images?q=tbn:ANd9GcQiKA82h2dmoXswoOuuYTVZcK3JTibmRnmWEp53E8QJWE-RhakJ42beH6f6\n",
      "https://encrypted-tbn0.gstatic.com/images?q=tbn:ANd9GcRa_QihJ-8BiX_T3ByZde-Cd95fwzX6VVNyvcMpiLqL8-o2RAwIRr76dT0\n",
      "https://encrypted-tbn0.gstatic.com/images?q=tbn:ANd9GcQQnIiIDlscEGkIcQHaay9S_PZrHVYVCE6q3X2e0buJKB7w0cXicE02QgbBew\n",
      "https://encrypted-tbn0.gstatic.com/images?q=tbn:ANd9GcTAZ5NabU5AXCgWRXiCzFiejKmAz_7p-WcUIihNzE-F3EJ-BukttlUmVIMU\n",
      "https://encrypted-tbn0.gstatic.com/images?q=tbn:ANd9GcR0cMojfQ8wvNppWQvo9yBfpVCFGVQG5BVWB1A-p9GDy-ChsqQKwpzX17Mg\n",
      "https://encrypted-tbn0.gstatic.com/images?q=tbn:ANd9GcQXuE2r9YTO9rW0Ijs1uF8PpLfHztnw9uYnIgi0vYth-LN4q_l02BZZGgl9\n",
      "https://encrypted-tbn0.gstatic.com/images?q=tbn:ANd9GcSvqvDs3h5Bawb8Vz2dF0Vm0O8meR_Ru62HZzvZb80UYL60cb2Q5D898BCZ\n",
      "https://encrypted-tbn0.gstatic.com/images?q=tbn:ANd9GcSdz1KzjXpmwfJQD4hs4Dmn-iUKiEa6b4mNBnKjaohSiA86wB-aybInO7sM\n",
      "https://encrypted-tbn0.gstatic.com/images?q=tbn:ANd9GcR7p_hz-ZHe6umwJ9UvffjcKHYIrFPhkqUmI9k4V_uJuDrhoHMxsux_OPvo\n",
      "https://encrypted-tbn0.gstatic.com/images?q=tbn:ANd9GcQQClv6fP5M3HAVSa-p_XxKHXXEI15aNiVfRm5o7W-vT29NWrUaxXX32eDi\n",
      "https://encrypted-tbn0.gstatic.com/images?q=tbn:ANd9GcSXRjrb57BndKTlb4BJKm9OcnRYYVcm0-7r1JU76eKywI7-8DNfq0M0Cy0\n",
      "https://encrypted-tbn0.gstatic.com/images?q=tbn:ANd9GcT2IXaVtPhWqLPiCe5J1eM5RsN3wmsF7e7C4FO_wfc9opByIiab9ZMBbN8S\n",
      "https://encrypted-tbn0.gstatic.com/images?q=tbn:ANd9GcQTGODKeRr6ZeQL-DhyZNlpGdwK2lZ8pU7Ay25A1ZAbIk3LqTbwcrZ_HpI\n",
      "https://encrypted-tbn0.gstatic.com/images?q=tbn:ANd9GcQiU4y6of5zQs4QQq77WeEPqw3V96ztVOTat08lo58dgQ27NAeoiWll2wyz\n",
      "https://encrypted-tbn0.gstatic.com/images?q=tbn:ANd9GcTykWsT13U0fSJUnH-I62xohg-1LgY-Mp8O4LqAJYaCwoiGTJjgX55btl7w\n",
      "https://encrypted-tbn0.gstatic.com/images?q=tbn:ANd9GcTq7jsvgQ4-y-RbEi7adltQ9Stde-KNo43-sTFQh7SQuI2YxvCzoMUhX78\n",
      "https://encrypted-tbn0.gstatic.com/images?q=tbn:ANd9GcQ1ThCE3wWGHRhUm341LNZfdazC6e7nZxXxn_9sHlFSS1RiyEqylq7jRgE\n",
      "https://encrypted-tbn0.gstatic.com/images?q=tbn:ANd9GcRyj1uM-O88dvlBRu5TZ0lVhooatDifqB_4p3oFO-U1a_le2hsl89Gxy-qv\n",
      "https://encrypted-tbn0.gstatic.com/images?q=tbn:ANd9GcSYzSRDKAZcHf72pfUZ6rfrld6TkLeW5tPmGuU1XpnJb9LwwXXb8JzM454\n",
      "https://encrypted-tbn0.gstatic.com/images?q=tbn:ANd9GcQFAd5cq3bTMUhlv7rn1LcRjjD3oUqmkVGmfIOPVl53ckMoOvEOu-J2gX8\n",
      "https://encrypted-tbn0.gstatic.com/images?q=tbn:ANd9GcRt0sO_6dvVgQWTpuK1YItKmRHPgLEesFLoGQQ2q6JZ8-vBuRgjh_m3NZM\n",
      "https://encrypted-tbn0.gstatic.com/images?q=tbn:ANd9GcTWgnyRIl2QnHds6M54fCe15tj26dzcGPEYOJjmNEFbDMu8WA0VYnV2K2E\n",
      "https://encrypted-tbn0.gstatic.com/images?q=tbn:ANd9GcQYTjBhdnxEsM8WVH21gqBeaJMJdpKRHglCCj8wgnyDBhOLbZ-LJEAh7gEI\n",
      "https://encrypted-tbn0.gstatic.com/images?q=tbn:ANd9GcRQM2c0BFkOYSxClzfSI4eLqujQUD4-EYG8QfaZBIQ1QF1mSQqqzvIUMw\n",
      "https://encrypted-tbn0.gstatic.com/images?q=tbn:ANd9GcR2bbd43cLrCSrPbr5YL1pOu4T9Qsxe2n5eWurc-8j8mX_gWXGgBwu2VwkL\n",
      "https://encrypted-tbn0.gstatic.com/images?q=tbn:ANd9GcRmZoLutAe79kGS3BhUgXVhNmkg7Fd7Od4wHyTjstEAHfik8kyumIJZ4jQ\n",
      "https://encrypted-tbn0.gstatic.com/images?q=tbn:ANd9GcRbwy6oct-oDa_awileziWLbtuxMrFHq7pu9pomIrNY7ZLkT7vzpMQPQPEJ\n",
      "https://encrypted-tbn0.gstatic.com/images?q=tbn:ANd9GcRM9MQXfJT17HXPC3FKooOEl0EZ5WGjvwdfpkvsnzMcc50DpMX7rxCwJs4\n",
      "https://encrypted-tbn0.gstatic.com/images?q=tbn:ANd9GcSRCE_kIvnUjrcHOf-rsDkYPu7MB2GO6HUNe1tH6a0szJxmIUr9lujT30A\n",
      "https://encrypted-tbn0.gstatic.com/images?q=tbn:ANd9GcTedVJ8XZ7Gkfn8G4-ngTIO-2YzDiuwpAlQYz3ytjgT-u4Dse_01lZ9L8OD\n",
      "https://encrypted-tbn0.gstatic.com/images?q=tbn:ANd9GcRt6sqFhloQTTS0OSSP6Oms3xHxpJwQeHSFAgGjky9Y5v2khn8wKjbEzg\n",
      "https://encrypted-tbn0.gstatic.com/images?q=tbn:ANd9GcT65TulpteIbP9vr8zRKOdMaGDzftIF05MOWNWJ6j6K0IAUcYLHzimXog\n",
      "https://encrypted-tbn0.gstatic.com/images?q=tbn:ANd9GcS5wI12RcVEc6K9LHzqCvyH_MTGM3gdexBVl2GdKo-70Og91f61JxT4l9hf\n",
      "https://encrypted-tbn0.gstatic.com/images?q=tbn:ANd9GcRIV8gcgAbwMNdBiS7C1MLlsER1kd6YUw9mKIuQg1WIVuXYZwC38nb8pXAilw\n",
      "https://encrypted-tbn0.gstatic.com/images?q=tbn:ANd9GcRXuhU-FNoCi3MP9SU6Vb8zom5D5BHOmvCzea-lxxSVPkSDnpszMfgodb4\n",
      "https://encrypted-tbn0.gstatic.com/images?q=tbn:ANd9GcQ3oXdb50nA6yYmRBktM3JV5hdWBWTxC6QP-xKoCJGH5d3zD9SsV2lWXjk\n",
      "https://encrypted-tbn0.gstatic.com/images?q=tbn:ANd9GcSReudz-T8VTTw2FSQ5C5tYvE5lFfp6M4T3DvSPoJcjTEaun_olUg_djtY\n",
      "https://encrypted-tbn0.gstatic.com/images?q=tbn:ANd9GcQGJfixW53bhrUeBr_oL97_DnmJZTDfPaukRjPx1GeE8ksPPBex5Xlm_c1rSg\n",
      "https://encrypted-tbn0.gstatic.com/images?q=tbn:ANd9GcTxhkcmdBTT8JZl5wBuUiBtNEKBlVWelaUoRzs3MroYLCpx9p_fBprQM7ez\n",
      "https://encrypted-tbn0.gstatic.com/images?q=tbn:ANd9GcTeWZ_bQxSce-9hH60o_zUDEiUYl71NHrwcjqLIt606ZjUvPp3QtWUS9N-x\n",
      "https://encrypted-tbn0.gstatic.com/images?q=tbn:ANd9GcTscNnZWqtLO5hyReshDZQ_0mnZ4fw5UPc9e9omMXuYv2JVwwO0YjeyM84\n",
      "https://encrypted-tbn0.gstatic.com/images?q=tbn:ANd9GcQMyWd-w0YVhauI_xzYMQcp03mZgbzRVQXu1zwrStKeH04iSve17gd-ApsA\n",
      "https://encrypted-tbn0.gstatic.com/images?q=tbn:ANd9GcT6dIL-CIyluNsi6EwIRkFjh-tgalB_DijOvtdSGkdUzxd3DRuXD2Z6JyP0\n",
      "https://encrypted-tbn0.gstatic.com/images?q=tbn:ANd9GcSvS_Vi084PDi-w8p-y7zPLUzn88-HLfHWTLmZvl39BF6l3n5MKO0XJ1zA\n",
      "https://encrypted-tbn0.gstatic.com/images?q=tbn:ANd9GcTM4zfg_WZ2matAlKgxbeyU-BGEQ1J2eJEdhYTrkcN1guaaeirdt9_WFbvL\n",
      "https://encrypted-tbn0.gstatic.com/images?q=tbn:ANd9GcRUAm7yChw3VoBPcKgLwQRTEvzaURuDTaxVBK9dBMcjvQdI9xEh5bkl-apW\n",
      "https://encrypted-tbn0.gstatic.com/images?q=tbn:ANd9GcT-n1CBSteikLBY8Shj0IwJxUZYMpPlHK_UrQQh6z2OEKdQu3qjrDs8bXg\n",
      "https://encrypted-tbn0.gstatic.com/images?q=tbn:ANd9GcSQJhyZ4ITUD3abwP8a4iDhQL5R1WOnUs8DBzPHz3QX7ch27pCHgat1ScJ8\n",
      "https://encrypted-tbn0.gstatic.com/images?q=tbn:ANd9GcSJgkqLRpfMAQ_UscruCEQZbUxiV4LI0ju80zM5AR4aSRuAZJGoI1EW4KQ\n",
      "https://encrypted-tbn0.gstatic.com/images?q=tbn:ANd9GcQnZqS7G9eMYb0ZECS79PYSLqfDPpgqmb6sJNAEsWXVcuBKh7YIhbGE1ZM_\n",
      "https://encrypted-tbn0.gstatic.com/images?q=tbn:ANd9GcTHLHHywWg3M6IjOmRAclrwZ9Lc9pjHvIdtkAcYQPTIqiGOmJ3le3RFO-Zk\n",
      "https://encrypted-tbn0.gstatic.com/images?q=tbn:ANd9GcRd1omgt6RPcYcrRwA1RsvwhOhZN20xBK34ZLLGIApebxKexw28YV7WErK2\n",
      "https://encrypted-tbn0.gstatic.com/images?q=tbn:ANd9GcSi2X37u_IzvAn_zdAB4_BTKxMZ1t6IWZu9xugHX_3asdxFLZdtKceBjlZocA\n",
      "https://encrypted-tbn0.gstatic.com/images?q=tbn:ANd9GcS5OmjBYoohspkMuamN7V5QU7ZQ8o3e-o8CzwWnzaAUO2jd6uArp6JbwHY\n",
      "https://encrypted-tbn0.gstatic.com/images?q=tbn:ANd9GcSRSb_ULwr3SUMLdrqtqI-qA4haUmsTZr83fwF3vbI8Qdffy0IZYqMqdHKI\n",
      "https://encrypted-tbn0.gstatic.com/images?q=tbn:ANd9GcSUqIg8m2QGI6SXQAFpjX086nDLXlEQm83ISjZ_LyIyZ2ov3OHKJk60GNw\n",
      "https://encrypted-tbn0.gstatic.com/images?q=tbn:ANd9GcRsiLFzbJAmW0zBoyZTeHJvzXMvLKn0lMTt4bTefq1ylnpGV-aPCVwLr3A4wQ\n",
      "https://encrypted-tbn0.gstatic.com/images?q=tbn:ANd9GcR3nQFItiwA4P9CveaB59BeEyvOW6f9nH_Zf7OWW33Q2v2_WE8ZcDVCBDg\n",
      "https://encrypted-tbn0.gstatic.com/images?q=tbn:ANd9GcR9q9MlI2idL7B69_LhUUdIBeimhckgsVWuEnothi57vTDqlhnxplEYnQ\n",
      "https://encrypted-tbn0.gstatic.com/images?q=tbn:ANd9GcQDyYI8CBGzTaBeEOM2UpFkdcl98rdTm6rxtHiS6PVYOdYM8uCnw50gGh-0\n",
      "https://encrypted-tbn0.gstatic.com/images?q=tbn:ANd9GcTstmU_nB4rCD7YtudGz9oxt8Q83lP7Y-wCJhKZr_V3rMdtingBNfmVWcE\n",
      "https://encrypted-tbn0.gstatic.com/images?q=tbn:ANd9GcRlF4M3Ca3NBuv6gaRNfZcbdtDX2KXet0TUVAF014vOqMDj85277WmhE3M\n",
      "https://encrypted-tbn0.gstatic.com/images?q=tbn:ANd9GcQhwGLdnZdI2D3PANlm0Qbdg1lpmyXywwAy6p1nwSlJSt_IzHLSh4QBvQ\n",
      "https://encrypted-tbn0.gstatic.com/images?q=tbn:ANd9GcSfkprTb8Rt0IHNcj_C982sGkCmF5Js1c9O2vq3Zrm3v4-KOWJdYUW-5o8\n",
      "https://encrypted-tbn0.gstatic.com/images?q=tbn:ANd9GcSa5krFlMuIfgy_upBbVVLjA8k0v9X9y2Uliy7gwYoy0jHpERPyyxYwSg\n",
      "https://encrypted-tbn0.gstatic.com/images?q=tbn:ANd9GcQFVsFrZP43Mz-FT7nSrAB3MiYOozcElJpzQ35_oIj4ZO3UHrEX2xd2WL6g\n",
      "https://encrypted-tbn0.gstatic.com/images?q=tbn:ANd9GcSpvjnMTeXy4J5vIZHRz7f00a_G0FNf3GeV3ykXPklUw0mXjqZdIRJzC2I\n"
     ]
    },
    {
     "name": "stdout",
     "output_type": "stream",
     "text": [
      "https://encrypted-tbn0.gstatic.com/images?q=tbn:ANd9GcRbFmqo1DCJqD9GujOks0Jg5b-VegIQD99Wg4NvuvIR2CgivtRzJBhCCcvo\n",
      "https://encrypted-tbn0.gstatic.com/images?q=tbn:ANd9GcTXkg-c4ta06s21TfLLmU3scKOo9FfDJ8BAj6uvdgFzEcGA8tBMlSzBuZDs\n",
      "https://encrypted-tbn0.gstatic.com/images?q=tbn:ANd9GcQ6hFS9t3dlfQRtv8JXwy8jqCkWOcRseXtiIiwlhcNxwR5cAgC8O-L37hI\n",
      "https://encrypted-tbn0.gstatic.com/images?q=tbn:ANd9GcTji8QoB9a8LtOh1wnoKp8KGKXe6fQM6b8J2uvcq7obvOufxEvtD6v8Gw\n",
      "https://encrypted-tbn0.gstatic.com/images?q=tbn:ANd9GcSV_pKq5goNLpY45bBpZuaKL-b01LeA0U-6ed9A01_kGFOeSoYeoUoDWU4\n",
      "https://encrypted-tbn0.gstatic.com/images?q=tbn:ANd9GcRdnQcJam4d0r7kNH5nYdQf-VBQ9Cu3uLjOp9jtxcZAeKsi0UtMGOOMbo8\n",
      "https://encrypted-tbn0.gstatic.com/images?q=tbn:ANd9GcSw1d3uUmfhLq-enG9OkZHsNgc99RnfPe1W8EZF74hp1QZnFIivGdGY-OY\n",
      "https://encrypted-tbn0.gstatic.com/images?q=tbn:ANd9GcSL70utAZbXlV9O4_NZ1u1FTwYsn1bK9x77MqMGItaJ4tg8JMnEXxZuM1U\n",
      "https://encrypted-tbn0.gstatic.com/images?q=tbn:ANd9GcQ3y-70dotyx6LaE3k4li3NnQjjpBKnFL3Xscfxz3BObCtd6oM6lES_HkoF\n",
      "https://encrypted-tbn0.gstatic.com/images?q=tbn:ANd9GcQX0MfG8xX140Zy6kQWZMi5tU9BVJs_9wgwz5vtqs8Il1UoInj23JaBRao\n",
      "https://encrypted-tbn0.gstatic.com/images?q=tbn:ANd9GcRE65UNa2KMXSgyHRoLjf7d17GEOaQtaVOUHy_RZSQ8s6LHTKi2J2KVv7c\n",
      "https://encrypted-tbn0.gstatic.com/images?q=tbn:ANd9GcR1wdG-wvxQx4OsGZR2SSlhuLxVltoskSJkBlRicLXUWowvnb_mtmiBww\n",
      "https://encrypted-tbn0.gstatic.com/images?q=tbn:ANd9GcQGFdhqEEHl1-rNrbK3NHRSJlPrzzhn_E0oaRNtLL5w51ow_8RiPHfwAfjQFg\n",
      "https://encrypted-tbn0.gstatic.com/images?q=tbn:ANd9GcSCrUyGfovBBDUu8bE37ivBwEdasOs0P0Lxlhg37F9ntz-DbzmgDDaVnLeM\n",
      "https://encrypted-tbn0.gstatic.com/images?q=tbn:ANd9GcSB-l0Rei2f81dSvPpjmjL27WlfirlIEFxB6JBPWqagjWICHs5kkAjeRYP5\n",
      "https://encrypted-tbn0.gstatic.com/images?q=tbn:ANd9GcRP0j0s2A4fYKbjpQjBTO84E3vdG4yPKlDiw_KogL9APbBAAhhwB6P7pwU\n",
      "https://encrypted-tbn0.gstatic.com/images?q=tbn:ANd9GcSCztoY_1pOmTuge2iqX1YhQJ9vlRzPsmx6iBO1cYsx05ao9yGz68M_2st5\n",
      "https://encrypted-tbn0.gstatic.com/images?q=tbn:ANd9GcQDQh_VaI7Wc-NZE47EQZ3UonKe4oFNcG1IiXwlEfegkBE0AmmRHkuw5E3M\n",
      "https://encrypted-tbn0.gstatic.com/images?q=tbn:ANd9GcRUGzi5tloPSAPHbMu1-eAj1gHafGAid2C2nivVag9OHBrFbTMhP-uqBDQ\n",
      "https://encrypted-tbn0.gstatic.com/images?q=tbn:ANd9GcTlzCRdLWyGoYirjML3Zge9NghFshfn1QHw0eARyZo6D-Oeb5IpJsQmHZLgvw\n",
      "https://encrypted-tbn0.gstatic.com/images?q=tbn:ANd9GcTaGxD64jnQx5SKthsyNnJEcJ2-QPUMf0ac0trs-Y5-4DgMsoj8PDu29yHw\n",
      "https://encrypted-tbn0.gstatic.com/images?q=tbn:ANd9GcS7t0A__TLeo1Nq635ornCr1Q8aPx9k8cjtNMLJEwrc-Bzrf7KuvkW6_M0\n",
      "https://encrypted-tbn0.gstatic.com/images?q=tbn:ANd9GcQKzQib7_DJQa3F_KMFQB7RbDI6lGkaGz4BBW8kTph_JDmzXrEopOZl5x8B\n",
      "https://encrypted-tbn0.gstatic.com/images?q=tbn:ANd9GcR6wo44viw5WIkuSHFaCszt_SGGtqLXv11ubqLT9FWohK77dJ5lIvE-v5wyxg\n",
      "https://encrypted-tbn0.gstatic.com/images?q=tbn:ANd9GcQzPUO-oA3jkfZHa75nRkRO-EnoFVqm2_3OIfJzQYXF3MRRJRuGOwZXG_Q\n",
      "https://encrypted-tbn0.gstatic.com/images?q=tbn:ANd9GcSc_E76_S5MdSfAbwA_yT1rx97h2U20uucA6GvExwA1aSKAbCR2qFGhpZk\n",
      "https://encrypted-tbn0.gstatic.com/images?q=tbn:ANd9GcRWOPjLHmvdvt8ivwQocWTMk6umPIuJI09MullLJiq6vhETXpb6zGezTlo\n",
      "https://encrypted-tbn0.gstatic.com/images?q=tbn:ANd9GcTlwQo-A9BOA2Lk39t0AlSy7ytBuy-iGkewC2rkgMoW85t-6TR6OTY8_Ek\n",
      "https://encrypted-tbn0.gstatic.com/images?q=tbn:ANd9GcQFSJqpH_pd2948pJyTnvOhH3oQ4MBJCoS5MQKm3mCKw61rl0_ro92rbCmX\n",
      "https://encrypted-tbn0.gstatic.com/images?q=tbn:ANd9GcSwnGN9zdLVW3pJCM0v8-X76Cpd3Jm1UbH7fGXg5fIU_q-bccNTxzUeCC2j\n",
      "https://encrypted-tbn0.gstatic.com/images?q=tbn:ANd9GcRs8GlKaR88bemkm8RatlsYHpSBGVCUXlhzUVxDd4o6s94YqhCKvlfEH08\n",
      "https://encrypted-tbn0.gstatic.com/images?q=tbn:ANd9GcSwRcCvBtpjDV6OAACazaXvJNrjgtvrVQNKBJoTmTNMUorn9aGnfJweDiSJ\n",
      "https://encrypted-tbn0.gstatic.com/images?q=tbn:ANd9GcTbJb5039e8XQyunpBf_IyaCCC-paq-f5urTM0vH4ezJ6uW8-ggUEeZNg\n",
      "https://encrypted-tbn0.gstatic.com/images?q=tbn:ANd9GcRcENgwRHgjcBL8CS_doTEfUKyN0AbUb7-NYYxoQAYiAwVo18Jd2dR7ig\n",
      "https://encrypted-tbn0.gstatic.com/images?q=tbn:ANd9GcQ3y-70dotyx6LaE3k4li3NnQjjpBKnFL3Xscfxz3BObCtd6oM6lES_HkoF\n",
      "https://encrypted-tbn0.gstatic.com/images?q=tbn:ANd9GcQU22sSWcKG0oCrBpJHPDl1NmXYnCxgrRk8ez5XIfTpbImvVmM1x373whI\n",
      "https://encrypted-tbn0.gstatic.com/images?q=tbn:ANd9GcSwnGN9zdLVW3pJCM0v8-X76Cpd3Jm1UbH7fGXg5fIU_q-bccNTxzUeCC2j\n",
      "https://encrypted-tbn0.gstatic.com/images?q=tbn:ANd9GcQYTPqJ-KWKS7CC23ABYZ1JtEnQnpR-WjLlo59X17iTZT6ZWRsPq3v_EHA\n",
      "https://encrypted-tbn0.gstatic.com/images?q=tbn:ANd9GcSc_E76_S5MdSfAbwA_yT1rx97h2U20uucA6GvExwA1aSKAbCR2qFGhpZk\n",
      "https://encrypted-tbn0.gstatic.com/images?q=tbn:ANd9GcQKzQib7_DJQa3F_KMFQB7RbDI6lGkaGz4BBW8kTph_JDmzXrEopOZl5x8B\n",
      "https://encrypted-tbn0.gstatic.com/images?q=tbn:ANd9GcTedVJ8XZ7Gkfn8G4-ngTIO-2YzDiuwpAlQYz3ytjgT-u4Dse_01lZ9L8OD\n",
      "https://encrypted-tbn0.gstatic.com/images?q=tbn:ANd9GcRUGzi5tloPSAPHbMu1-eAj1gHafGAid2C2nivVag9OHBrFbTMhP-uqBDQ\n",
      "https://encrypted-tbn0.gstatic.com/images?q=tbn:ANd9GcTp4FWuH_oPE42W9nf5WKIbb6j1o56jPcgM6InSfqNRepq8mGYD1kz7Fg\n",
      "https://encrypted-tbn0.gstatic.com/images?q=tbn:ANd9GcTlwQo-A9BOA2Lk39t0AlSy7ytBuy-iGkewC2rkgMoW85t-6TR6OTY8_Ek\n",
      "https://encrypted-tbn0.gstatic.com/images?q=tbn:ANd9GcR6wo44viw5WIkuSHFaCszt_SGGtqLXv11ubqLT9FWohK77dJ5lIvE-v5wyxg\n",
      "https://encrypted-tbn0.gstatic.com/images?q=tbn:ANd9GcQkMgacYadr8qQ8QoJ-NkM46gBf7E9mNa4V7mDQCvp3rfSUN-iy8FXSaQrM\n",
      "https://encrypted-tbn0.gstatic.com/images?q=tbn:ANd9GcRGm-xf197Gjyrs_QgyCXvCXbooiHUYglsjixFLRqbi6YDmxCj3YMj2n8j0\n",
      "https://encrypted-tbn0.gstatic.com/images?q=tbn:ANd9GcQzPUO-oA3jkfZHa75nRkRO-EnoFVqm2_3OIfJzQYXF3MRRJRuGOwZXG_Q\n",
      "https://encrypted-tbn0.gstatic.com/images?q=tbn:ANd9GcR3nQFItiwA4P9CveaB59BeEyvOW6f9nH_Zf7OWW33Q2v2_WE8ZcDVCBDg\n",
      "https://encrypted-tbn0.gstatic.com/images?q=tbn:ANd9GcTWuHZoTQaSVWEQtTvRt1JDOIDaLl2Wb6uqJZvCuZFXR0GayxadXZpB3HM\n",
      "https://encrypted-tbn0.gstatic.com/images?q=tbn:ANd9GcQsrNZnTKd7o_bbeqVIlxd4moVtB3OfyKfWeRKgMRvsCw63NdBDqh6M5A\n",
      "https://encrypted-tbn0.gstatic.com/images?q=tbn:ANd9GcRsS3d0cDZu5EZxr9imhIXVsLZqvWUAA1YZ-hUFbo2szhZGXI8xuXjhHhbw\n",
      "https://encrypted-tbn0.gstatic.com/images?q=tbn:ANd9GcTlzCRdLWyGoYirjML3Zge9NghFshfn1QHw0eARyZo6D-Oeb5IpJsQmHZLgvw\n",
      "https://encrypted-tbn0.gstatic.com/images?q=tbn:ANd9GcRs8GlKaR88bemkm8RatlsYHpSBGVCUXlhzUVxDd4o6s94YqhCKvlfEH08\n",
      "https://encrypted-tbn0.gstatic.com/images?q=tbn:ANd9GcTsesIu0CuqIncxDpnjTaj8G-QRdMJlMCUW9Se7boeKxPgS9NL-hUIc0qo\n",
      "https://encrypted-tbn0.gstatic.com/images?q=tbn:ANd9GcQ6hFS9t3dlfQRtv8JXwy8jqCkWOcRseXtiIiwlhcNxwR5cAgC8O-L37hI\n",
      "https://encrypted-tbn0.gstatic.com/images?q=tbn:ANd9GcQniTVhDRt8ZOzA3DL3NCZJmn68T3deGkYEim_paetZZDxm2uv_StHW-j8\n",
      "https://encrypted-tbn0.gstatic.com/images?q=tbn:ANd9GcS4MNJWHTVP9zYFKGTOrRZjCR_F7Ssj6ogxokAVSSeEKBWMnSFSJoG0dAJO\n",
      "https://encrypted-tbn0.gstatic.com/images?q=tbn:ANd9GcQdTp7Nxn0MJNwGaymlRopGHmHMmJa5tJdszy1IbThcCs2bOg35AeMpHqu2\n",
      "https://encrypted-tbn0.gstatic.com/images?q=tbn:ANd9GcSCEeGaXPW5ZOuxEAdr25DMUYO3CgZHK9AMJIhBWmYIyVJvH-beByAqUyk\n",
      "https://encrypted-tbn0.gstatic.com/images?q=tbn:ANd9GcTji8QoB9a8LtOh1wnoKp8KGKXe6fQM6b8J2uvcq7obvOufxEvtD6v8Gw\n",
      "https://encrypted-tbn0.gstatic.com/images?q=tbn:ANd9GcQjsBWM6TWxeQ_pqKVn3bBig_uswsx8CdHnjewGMWZPuS3hf_aviaO4Vcg\n",
      "https://encrypted-tbn0.gstatic.com/images?q=tbn:ANd9GcQQwUZLz4iNvUWJKIszkOW8BqCvexI4rExB-ThT0yf4TFvWcugFxc5ddIZF\n",
      "https://encrypted-tbn0.gstatic.com/images?q=tbn:ANd9GcRNGikcPvCn31FSNqaDt0gRxTZN3QJVkaetoUlVOt-1dxX3gdt4gBRR7tGA\n",
      "https://encrypted-tbn0.gstatic.com/images?q=tbn:ANd9GcTyWGtjwbLsSuUu806H710u0fdo4vGsRcV0HVWb7xy8YWDCr0vrw-QTuR4T\n",
      "https://encrypted-tbn0.gstatic.com/images?q=tbn:ANd9GcTBMiRaG5jGbLh33htCxJY9szdmAvX6X0A8hlGL6xPkm7aW4kBJdJqPTwmr\n",
      "https://encrypted-tbn0.gstatic.com/images?q=tbn:ANd9GcS45nSs0thR2KEnT9iFCj9ayAIs4CFd3tR5fiJgU2iYhPLcqcWQwgAuEWuR\n",
      "https://encrypted-tbn0.gstatic.com/images?q=tbn:ANd9GcRuVcN1CPwyx0mJtIYD9XA8YnoksJ7ncGKRu8LTIKMXYO2NqtAvVjJdrJY\n",
      "https://encrypted-tbn0.gstatic.com/images?q=tbn:ANd9GcQT1JS07iePkFg2ypOjPUXXaaP_rGhJUuulBzIPuL1JUdYi71fcHvXm51M\n",
      "https://encrypted-tbn0.gstatic.com/images?q=tbn:ANd9GcS5AyhSMeIHIIMd1bV-y8uU92PT6rMyqlV_PvbJxOlLgsEFbgp4fhyMFkPL\n",
      "https://encrypted-tbn0.gstatic.com/images?q=tbn:ANd9GcQQRx63wyL4Z35IK2ZNbemBQklMbbg0V3d4WGIkUCe__KdseO8WURBgsQ\n",
      "https://encrypted-tbn0.gstatic.com/images?q=tbn:ANd9GcQ1fPcrHcvjMS_1duVWDNVSPtdWGsKCYw4qnoiPXFmAo4308YoaKe819A\n",
      "https://encrypted-tbn0.gstatic.com/images?q=tbn:ANd9GcRgEXOiHqSYNDGODD4Eqs3PVZbWz2e8LH9GS0RSnMz71NlYbjrnS5DQhikdJQ\n"
     ]
    },
    {
     "name": "stdout",
     "output_type": "stream",
     "text": [
      "https://encrypted-tbn0.gstatic.com/images?q=tbn:ANd9GcRgZoIIv7lAMpOg6x1bsMEx_1M8zyxZWW9yoJaG_kkc8rAPXtMB9-8ECB4\n",
      "https://encrypted-tbn0.gstatic.com/images?q=tbn:ANd9GcSu-jp5K6WSHvQnvePODQKFPMt0-7cLiX2ANUBLQiOksYl0An4yZjJMtGAK\n",
      "https://encrypted-tbn0.gstatic.com/images?q=tbn:ANd9GcT9nyGOhwUO__987zUgtZLHy8NmAG2fTLeTPcayf4jF3urSjpjDS2mpjv4\n",
      "https://encrypted-tbn0.gstatic.com/images?q=tbn:ANd9GcQ0Rslqy5RnDAOM3uIqLeE6rRk88C5G15mzNePN9EDGcfy-LxDZTjvaW-Y7\n",
      "https://encrypted-tbn0.gstatic.com/images?q=tbn:ANd9GcShBbK5LH9a6yVVmboLFdPrt3RW4kG3vQYNhVgFQx5dso7qcj5ZEg5DbYo\n",
      "https://encrypted-tbn0.gstatic.com/images?q=tbn:ANd9GcQlXfkd_nDySaR8QsRodEd9M50gdWsEyZ7aCOKflADEnjUOSL8Y0xusW4w\n",
      "https://encrypted-tbn0.gstatic.com/images?q=tbn:ANd9GcR9-HulUVVJkG6RJ3UE_zNcQMmHPG1oIFULsUZSO9_lxclTv2IGWPlw1vs\n",
      "https://encrypted-tbn0.gstatic.com/images?q=tbn:ANd9GcTDga8GlWACRnKRFC333Khh3EmXfnA-2CcEOYnyOKiNskyEUQuGia7I4vo\n",
      "https://encrypted-tbn0.gstatic.com/images?q=tbn:ANd9GcSLnsqxaLxPz44fMWtzSbm_QQTciYG8uYABqM-jNznsNtVU6-t9bwSgU9c\n",
      "https://encrypted-tbn0.gstatic.com/images?q=tbn:ANd9GcSs5brkQd0R7U5WuoibsqCltmX2kZUlI9Nr7CRNyDiWP1aObkzzYLSTOFI\n",
      "https://encrypted-tbn0.gstatic.com/images?q=tbn:ANd9GcS8vC9HJ9ekgiCMNAcsqSOSjPetJdAA_niabsNJqlfMuwUjKRuxhaMAREk\n",
      "https://encrypted-tbn0.gstatic.com/images?q=tbn:ANd9GcTHbbeMo5qDl5V-WlMx_n0BZR95pNthBUviuRdJXDF-vZQDM5XCFOnp9g\n",
      "https://encrypted-tbn0.gstatic.com/images?q=tbn:ANd9GcQT3cFHjksf8OU-w3f7J44p0WzBcQyPefqI7IlRF6D22dgA16h-dfvvImY\n",
      "https://encrypted-tbn0.gstatic.com/images?q=tbn:ANd9GcRxGyR-3AQn8TPZfPqczh4lVIMcS6uzyRrFPkSmrwY-dBXPDP6nVZBOwP16\n",
      "https://encrypted-tbn0.gstatic.com/images?q=tbn:ANd9GcQbeBnEW7P81ILR6eGs_IroFganMCqUd6x_7n-LBHA5gQZYrh1qc6sHTvhp\n",
      "https://encrypted-tbn0.gstatic.com/images?q=tbn:ANd9GcTfsdKz2gOEOFFnmfuD2RLpKSZN1cXm8nEX81kjugYoXyzIVI4NAA9brrZO\n",
      "https://encrypted-tbn0.gstatic.com/images?q=tbn:ANd9GcQ2v4yN1EtaanFZiqB1De_tFnepIyUaxub_TU3rzW3CssS5m9tCUTosIfXr\n",
      "https://encrypted-tbn0.gstatic.com/images?q=tbn:ANd9GcSujKekIgmzEG-XySqbz8KauN-7cwA0emDrRWKHb04kxgVxpo1WtwrlM0zgCw\n",
      "https://encrypted-tbn0.gstatic.com/images?q=tbn:ANd9GcTANYq9eBQd5sqQQz5hgOUDtEjAhUhVzAyttHyNAwnRht1YC9dYsZONjw\n",
      "https://encrypted-tbn0.gstatic.com/images?q=tbn:ANd9GcQFoXph9QmJ-gvDIL6ZKlw8HJNIILEAQnxeqx_wUWKyitElFqeFJ13VFL0\n",
      "https://encrypted-tbn0.gstatic.com/images?q=tbn:ANd9GcQ8EYmMgpNP7UECxSBu4dvFasxop49jzVG0XysMQka3vE4XAH5pTbViw3vN\n",
      "https://encrypted-tbn0.gstatic.com/images?q=tbn:ANd9GcTkYGGZ3XAhgld7A2N51AivJaxlffqi7ivHn_X2ympPqPzzJiOpd2yDltKy\n",
      "https://encrypted-tbn0.gstatic.com/images?q=tbn:ANd9GcSujKekIgmzEG-XySqbz8KauN-7cwA0emDrRWKHb04kxgVxpo1WtwrlM0zgCw\n",
      "https://encrypted-tbn0.gstatic.com/images?q=tbn:ANd9GcQi6mrg5y726QopKiXHnbA4OlDJpPaO51BVMnkhQzNnrKsmX5QyxneKzNw\n",
      "https://encrypted-tbn0.gstatic.com/images?q=tbn:ANd9GcQW5WQQUzKNBWqU3oKivzm6-YqOCtRsr5oigSMUFPxRnwYuHAln5RBIic-j\n",
      "https://encrypted-tbn0.gstatic.com/images?q=tbn:ANd9GcS7A0MHOXCzKfgSNKy-u44SPRD1BkG4rO1qZG42yqjMffRPQsi2g7xk9Jfe\n",
      "https://encrypted-tbn0.gstatic.com/images?q=tbn:ANd9GcQfwPiEZjb_fUp4fRQBBBBKdh3lbg0QaA9xWv1FROPEbi_ebuvLjlpdYA\n",
      "https://encrypted-tbn0.gstatic.com/images?q=tbn:ANd9GcS8wlFHX_iJpQwYabKvjM3BMRQTS2Kokls3KlLTBaCb9NslIViaKrraCtpV\n",
      "https://encrypted-tbn0.gstatic.com/images?q=tbn:ANd9GcQOShHDcz22OEMl_kAI3d7ZpNi1NrqEayumha0dl67GcHnA7mqAdrr4dLA\n",
      "https://encrypted-tbn0.gstatic.com/images?q=tbn:ANd9GcSbQ8AxHo_1LctvDz-VpuTcwZk7ZI5_OLnrSxz8337vgXf8aE943orcLtM\n",
      "https://encrypted-tbn0.gstatic.com/images?q=tbn:ANd9GcQojkZvc6CkSJNh1rFx0KOni-eSDtkdE1XEj-GzpIT6v4McsCdVr9CBIA\n",
      "https://encrypted-tbn0.gstatic.com/images?q=tbn:ANd9GcRkv2gKRlnaSQrqX58CLUgfuK87hORP9OPZ9EgBSxJzlde5Zz4POGeCAg\n",
      "https://encrypted-tbn0.gstatic.com/images?q=tbn:ANd9GcQv5otMteeXZXQ-dREPGQwaz2fxuWRtEcd0gdHG81QIhwFIzlxUrxPtsFI\n",
      "https://encrypted-tbn0.gstatic.com/images?q=tbn:ANd9GcSmDzgGZcMUTb4ZFUBX5IWwwqtbD_EzOvx1cNKmlgR1_WntQxjdNaTMjDy8Cw\n",
      "https://encrypted-tbn0.gstatic.com/images?q=tbn:ANd9GcSweL8HAlRHSISW9I55WLSxHLfOwStuzmz_pelMmeC-6MpKK4MKXhZxqMSa\n",
      "https://encrypted-tbn0.gstatic.com/images?q=tbn:ANd9GcQrIjCijaJAJUERdSCk90fMeaObFIAJ6wZvdaYAQvTVtOoGinfqBQvtuQ\n",
      "https://encrypted-tbn0.gstatic.com/images?q=tbn:ANd9GcS8iYQawSK4Qew37PSNrh5hGgYWS39OBESC9htBGG7F0zESbHq4KE8kmgdK\n"
     ]
    }
   ],
   "source": [
    "import requests\n",
    "from lxml import html\n",
    "from time import sleep as slp\n",
    "\n",
    "\n",
    "global count\n",
    "def save_img(keyword):\n",
    "    count=0\n",
    "    for page_no in range(410, 800, 20):\n",
    "        slp(10)\n",
    "        r = requests.get('https://www.google.co.in/search?q=' + keyword +'&gbv=1&tbm=isch&start=' + str(page_no))\n",
    "        img_urls = html.fromstring(r.content).xpath('//table[@class=\"images_table\"]//img/@src')\n",
    "        for i, img_url in enumerate(img_urls):\n",
    "            print(img_url)\n",
    "            j=count\n",
    "            f = open(\"C:/Users/SHUBHAM PANDEY/GRAFFERSID_PROJECTS/SWEETS_RECOG/New folder/xyz/\"+ str(j) + \".jpg\", \"wb\")\n",
    "            f.write(requests.get(img_url).content)\n",
    "            j=j+1\n",
    "            count=j\n",
    "    \n",
    "\n",
    "\n",
    "\n",
    "save_img(\"Samosa\")\n"
   ]
  },
  {
   "cell_type": "code",
   "execution_count": 2,
   "metadata": {},
   "outputs": [],
   "source": [
    "TRAIN_DIR=\"C:/Users/SHUBHAM PANDEY/GRAFFERSID_PROJECTS/SWEETS_RECOG/train/train\"\n",
    "IMG_SIZE=50\n",
    "LR=1e-3"
   ]
  },
  {
   "cell_type": "code",
   "execution_count": 3,
   "metadata": {},
   "outputs": [],
   "source": [
    "def label_img(img):\n",
    "    word_label=img.split('.')[-2]\n",
    "    print(word_label)\n",
    "    if \"Barfi\" in word_label:\n",
    "        return[1,0,0,0]   \n",
    "    if \"Gulab-Jamun\" in word_label:\n",
    "        return[0,1,0,0]\n",
    "    if \"Jalebi\" in word_label:\n",
    "        return[0,0,1,0]\n",
    "    if \"RASMALAI\" in word_label:\n",
    "        return[0,0,0,1]"
   ]
  },
  {
   "cell_type": "code",
   "execution_count": 4,
   "metadata": {},
   "outputs": [
    {
     "name": "stderr",
     "output_type": "stream",
     "text": [
      "\r",
      "  0%|                                                                                        | 0/11648 [00:00<?, ?it/s]"
     ]
    },
    {
     "name": "stdout",
     "output_type": "stream",
     "text": [
      "Barfi (1)\n",
      "Barfi (1)\n"
     ]
    },
    {
     "name": "stderr",
     "output_type": "stream",
     "text": [
      "\r",
      "  0%|                                                                                | 2/11648 [00:00<10:44, 18.07it/s]"
     ]
    },
    {
     "name": "stdout",
     "output_type": "stream",
     "text": [
      "Barfi (1)\n",
      "Barfi (10)\n",
      "Barfi (10)\n",
      "Barfi (100)\n",
      "Barfi (101)\n",
      "Barfi (102)\n",
      "Barfi (103)\n",
      "Barfi (104)\n"
     ]
    },
    {
     "name": "stderr",
     "output_type": "stream",
     "text": [
      "\r",
      "  0%|                                                                               | 10/11648 [00:00<08:15, 23.47it/s]"
     ]
    },
    {
     "name": "stdout",
     "output_type": "stream",
     "text": [
      "Barfi (105)\n",
      "Barfi (106)\n",
      "Barfi (107)\n",
      "Barfi (108)\n",
      "Barfi (109)\n"
     ]
    },
    {
     "name": "stderr",
     "output_type": "stream",
     "text": [
      "\r",
      "  0%|                                                                               | 15/11648 [00:00<07:02, 27.56it/s]"
     ]
    },
    {
     "name": "stdout",
     "output_type": "stream",
     "text": [
      "Barfi (11)\n",
      "Barfi (11)\n",
      "Barfi (110)\n",
      "Barfi (111)\n",
      "Barfi (112)\n",
      "Barfi (113)\n",
      "Barfi (114)\n"
     ]
    },
    {
     "name": "stderr",
     "output_type": "stream",
     "text": [
      "\r",
      "  0%|▏                                                                              | 22/11648 [00:00<05:47, 33.46it/s]"
     ]
    },
    {
     "name": "stdout",
     "output_type": "stream",
     "text": [
      "Barfi (115)\n",
      "Barfi (116)\n",
      "Barfi (117)\n",
      "Barfi (118)\n",
      "Barfi (119)\n",
      "Barfi (12)\n",
      "Barfi (12)\n",
      "Barfi (120)\n",
      "Barfi (121)\n"
     ]
    },
    {
     "name": "stderr",
     "output_type": "stream",
     "text": [
      "\r",
      "  0%|▏                                                                              | 31/11648 [00:00<04:42, 41.08it/s]"
     ]
    },
    {
     "name": "stdout",
     "output_type": "stream",
     "text": [
      "Barfi (122)\n",
      "Barfi (123)\n",
      "Barfi (124)\n",
      "Barfi (125)\n",
      "Barfi (126)\n",
      "Barfi (127)\n",
      "Barfi (128)\n",
      "Barfi (129)\n",
      "Barfi (13)\n",
      "Barfi (13)\n",
      "Barfi (130)\n"
     ]
    },
    {
     "name": "stderr",
     "output_type": "stream",
     "text": [
      "\r",
      "  0%|▎                                                                              | 42/11648 [00:00<03:49, 50.54it/s]"
     ]
    },
    {
     "name": "stdout",
     "output_type": "stream",
     "text": [
      "Barfi (131)\n",
      "Barfi (132)\n",
      "Barfi (133)\n",
      "Barfi (134)\n",
      "Barfi (135)\n",
      "Barfi (136)\n",
      "Barfi (137)\n",
      "Barfi (138)\n",
      "Barfi (139)\n",
      "Barfi (14)\n",
      "Barfi (14)\n",
      "Barfi (140)\n",
      "Barfi (141)\n",
      "Barfi (142)\n",
      "Barfi (143)\n",
      "Barfi (144)\n"
     ]
    },
    {
     "name": "stderr",
     "output_type": "stream",
     "text": [
      "\r",
      "  0%|▍                                                                              | 58/11648 [00:00<03:02, 63.38it/s]"
     ]
    },
    {
     "name": "stdout",
     "output_type": "stream",
     "text": [
      "Barfi (145)\n",
      "Barfi (146)\n",
      "Barfi (147)\n",
      "Barfi (148)\n",
      "Barfi (149)\n",
      "Barfi (15)\n",
      "Barfi (15)\n",
      "Barfi (150)\n",
      "Barfi (151)\n",
      "Barfi (152)\n",
      "Barfi (153)\n",
      "Barfi (154)\n",
      "Barfi (155)\n",
      "Barfi (156)\n",
      "Barfi (157)\n",
      "Barfi (158)\n",
      "Barfi (159)\n",
      "Barfi (16)\n"
     ]
    },
    {
     "name": "stderr",
     "output_type": "stream",
     "text": [
      "\r",
      "  1%|▌                                                                              | 76/11648 [00:00<02:30, 76.89it/s]"
     ]
    },
    {
     "name": "stdout",
     "output_type": "stream",
     "text": [
      "Barfi (16)\n",
      "Barfi (160)\n",
      "Barfi (161)\n",
      "Barfi (162)\n",
      "Barfi (163)\n",
      "Barfi (164)\n",
      "Barfi (165)\n",
      "Barfi (166)\n",
      "Barfi (167)\n",
      "Barfi (168)\n",
      "Barfi (169)\n",
      "Barfi (17)\n",
      "Barfi (17)\n",
      "Barfi (170)\n",
      "Barfi (171)\n",
      "Barfi (172)\n"
     ]
    },
    {
     "name": "stderr",
     "output_type": "stream",
     "text": [
      "\r",
      "  1%|▌                                                                              | 92/11648 [00:00<02:07, 90.51it/s]"
     ]
    },
    {
     "name": "stdout",
     "output_type": "stream",
     "text": [
      "Barfi (173)\n",
      "Barfi (174)\n",
      "Barfi (175)\n",
      "Barfi (176)\n",
      "Barfi (177)\n",
      "Barfi (178)\n",
      "Barfi (179)\n",
      "Barfi (18)\n",
      "Barfi (18)\n",
      "Barfi (180)\n",
      "Barfi (181)\n",
      "Barfi (182)\n",
      "Barfi (183)\n"
     ]
    },
    {
     "name": "stderr",
     "output_type": "stream",
     "text": [
      "\r",
      "  1%|▋                                                                             | 105/11648 [00:01<02:09, 89.39it/s]"
     ]
    },
    {
     "name": "stdout",
     "output_type": "stream",
     "text": [
      "Barfi (184)\n",
      "Barfi (185)\n",
      "Barfi (186)\n",
      "Barfi (187)\n",
      "Barfi (188)\n",
      "Barfi (189)\n",
      "Barfi (19)\n",
      "Barfi (19)\n",
      "Barfi (190)\n",
      "Barfi (191)\n",
      "Barfi (192)\n",
      "Barfi (193)\n",
      "Barfi (194)\n"
     ]
    },
    {
     "name": "stderr",
     "output_type": "stream",
     "text": [
      "\r",
      "  1%|▊                                                                             | 118/11648 [00:01<01:58, 96.93it/s]"
     ]
    },
    {
     "name": "stdout",
     "output_type": "stream",
     "text": [
      "Barfi (195)\n",
      "Barfi (196)\n",
      "Barfi (197)\n",
      "Barfi (198)\n",
      "Barfi (199)\n",
      "Barfi (2)\n",
      "Barfi (2)\n",
      "Barfi (2)\n",
      "Barfi (20)\n",
      "Barfi (20)\n",
      "Barfi (200)\n",
      "Barfi (201)\n"
     ]
    },
    {
     "name": "stderr",
     "output_type": "stream",
     "text": [
      "\r",
      "  1%|▊                                                                             | 130/11648 [00:01<02:18, 82.93it/s]"
     ]
    },
    {
     "name": "stdout",
     "output_type": "stream",
     "text": [
      "Barfi (202)\n",
      "Barfi (203)\n",
      "Barfi (204)\n",
      "Barfi (205)\n",
      "Barfi (206)\n",
      "Barfi (207)\n",
      "Barfi (208)\n",
      "Barfi (209)\n",
      "Barfi (21)\n",
      "Barfi (21)\n"
     ]
    },
    {
     "name": "stderr",
     "output_type": "stream",
     "text": [
      "\r",
      "  1%|▉                                                                             | 140/11648 [00:01<02:26, 78.80it/s]"
     ]
    },
    {
     "name": "stdout",
     "output_type": "stream",
     "text": [
      "Barfi (210)\n",
      "Barfi (211)\n",
      "Barfi (212)\n",
      "Barfi (213)\n",
      "Barfi (214)\n",
      "Barfi (215)\n",
      "Barfi (216)\n",
      "Barfi (217)\n",
      "Barfi (218)\n",
      "Barfi (219)\n",
      "Barfi (22)\n",
      "Barfi (22)\n"
     ]
    },
    {
     "name": "stderr",
     "output_type": "stream",
     "text": [
      "\r",
      "  1%|█                                                                             | 152/11648 [00:01<02:14, 85.65it/s]"
     ]
    },
    {
     "name": "stdout",
     "output_type": "stream",
     "text": [
      "Barfi (220)\n",
      "Barfi (221)\n",
      "Barfi (222)\n",
      "Barfi (223)\n",
      "Barfi (224)\n",
      "Barfi (225)\n",
      "Barfi (226)\n",
      "Barfi (227)\n",
      "Barfi (228)\n",
      "Barfi (229)\n",
      "Barfi (23)\n"
     ]
    },
    {
     "name": "stderr",
     "output_type": "stream",
     "text": [
      "\r",
      "  1%|█                                                                             | 163/11648 [00:01<02:08, 89.35it/s]"
     ]
    },
    {
     "name": "stdout",
     "output_type": "stream",
     "text": [
      "Barfi (23)\n",
      "Barfi (230)\n",
      "Barfi (231)\n",
      "Barfi (232)\n",
      "Barfi (233)\n",
      "Barfi (234)\n",
      "Barfi (235)\n",
      "Barfi (236)\n",
      "Barfi (237)\n",
      "Barfi (238)\n",
      "Barfi (239)\n"
     ]
    },
    {
     "name": "stderr",
     "output_type": "stream",
     "text": [
      "\r",
      "  1%|█▏                                                                            | 174/11648 [00:01<02:03, 93.07it/s]"
     ]
    },
    {
     "name": "stdout",
     "output_type": "stream",
     "text": [
      "Barfi (24)\n",
      "Barfi (24)\n",
      "Barfi (240)\n",
      "Barfi (241)\n",
      "Barfi (242)\n",
      "Barfi (243)\n",
      "Barfi (244)\n",
      "Barfi (245)\n",
      "Barfi (246)\n",
      "Barfi (247)\n",
      "Barfi (248)\n"
     ]
    },
    {
     "name": "stderr",
     "output_type": "stream",
     "text": [
      "\r",
      "  2%|█▏                                                                            | 185/11648 [00:01<01:58, 96.36it/s]"
     ]
    },
    {
     "name": "stdout",
     "output_type": "stream",
     "text": [
      "Barfi (249)\n",
      "Barfi (25)\n",
      "Barfi (25)\n",
      "Barfi (250)\n",
      "Barfi (251)\n",
      "Barfi (252)\n",
      "Barfi (253)\n",
      "Barfi (254)\n",
      "Barfi (255)\n",
      "Barfi (256)\n",
      "Barfi (257)\n"
     ]
    },
    {
     "name": "stderr",
     "output_type": "stream",
     "text": [
      "\r",
      "  2%|█▎                                                                            | 196/11648 [00:02<02:00, 95.23it/s]"
     ]
    },
    {
     "name": "stdout",
     "output_type": "stream",
     "text": [
      "Barfi (258)\n",
      "Barfi (259)\n",
      "Barfi (26)\n",
      "Barfi (26)\n",
      "Barfi (260)\n",
      "Barfi (261)\n",
      "Barfi (262)\n",
      "Barfi (263)\n",
      "Barfi (264)\n",
      "Barfi (265)\n"
     ]
    },
    {
     "name": "stderr",
     "output_type": "stream",
     "text": [
      "\r",
      "  2%|█▍                                                                            | 206/11648 [00:02<02:10, 87.80it/s]"
     ]
    },
    {
     "name": "stdout",
     "output_type": "stream",
     "text": [
      "Barfi (266)\n",
      "Barfi (267)\n",
      "Barfi (268)\n",
      "Barfi (269)\n",
      "Barfi (27)\n",
      "Barfi (27)\n",
      "Barfi (270)\n",
      "Barfi (271)\n",
      "Barfi (272)\n",
      "Barfi (273)\n",
      "Barfi (274)\n",
      "Barfi (275)\n",
      "Barfi (276)\n"
     ]
    },
    {
     "name": "stderr",
     "output_type": "stream",
     "text": [
      "\r",
      "  2%|█▍                                                                            | 219/11648 [00:02<01:59, 96.04it/s]"
     ]
    },
    {
     "name": "stdout",
     "output_type": "stream",
     "text": [
      "Barfi (277)\n",
      "Barfi (278)\n",
      "Barfi (279)\n",
      "Barfi (28)\n",
      "Barfi (28)\n",
      "Barfi (280)\n",
      "Barfi (281)\n",
      "Barfi (282)\n",
      "Barfi (283)\n",
      "Barfi (284)\n",
      "Barfi (285)\n"
     ]
    },
    {
     "name": "stderr",
     "output_type": "stream",
     "text": [
      "\r",
      "  2%|█▌                                                                            | 230/11648 [00:02<02:20, 81.16it/s]"
     ]
    },
    {
     "name": "stdout",
     "output_type": "stream",
     "text": [
      "Barfi (286)\n",
      "Barfi (287)\n",
      "Barfi (288)\n",
      "Barfi (289)\n",
      "Barfi (29)\n",
      "Barfi (29)\n",
      "Barfi (290)\n",
      "Barfi (291)\n",
      "Barfi (292)\n",
      "Barfi (293)\n",
      "Barfi (294)\n",
      "Barfi (295)\n",
      "Barfi (296)\n",
      "Barfi (297)\n"
     ]
    },
    {
     "name": "stderr",
     "output_type": "stream",
     "text": [
      "\r",
      "  2%|█▋                                                                            | 244/11648 [00:02<02:03, 92.55it/s]"
     ]
    },
    {
     "name": "stdout",
     "output_type": "stream",
     "text": [
      "Barfi (298)\n",
      "Barfi (299)\n",
      "Barfi (3)\n",
      "Barfi (3)\n",
      "Barfi (3)\n",
      "Barfi (30)\n",
      "Barfi (30)\n",
      "Barfi (300)\n",
      "Barfi (301)\n",
      "Barfi (302)\n",
      "Barfi (303)\n",
      "Barfi (304)\n",
      "Barfi (305)\n",
      "Barfi (306)\n",
      "Barfi (307)\n"
     ]
    },
    {
     "name": "stderr",
     "output_type": "stream",
     "text": [
      "\r",
      "  2%|█▋                                                                           | 259/11648 [00:02<01:49, 104.19it/s]"
     ]
    },
    {
     "name": "stdout",
     "output_type": "stream",
     "text": [
      "Barfi (308)\n",
      "Barfi (309)\n",
      "Barfi (31)\n",
      "Barfi (310)\n",
      "Barfi (311)\n",
      "Barfi (312)\n",
      "Barfi (313)\n",
      "Barfi (314)\n",
      "Barfi (315)\n",
      "Barfi (316)\n",
      "Barfi (317)\n",
      "Barfi (318)\n",
      "Barfi (319)\n",
      "Barfi (32)\n",
      "Barfi (320)\n",
      "Barfi (321)\n",
      "Barfi (322)\n"
     ]
    },
    {
     "name": "stderr",
     "output_type": "stream",
     "text": [
      "\r",
      "  2%|█▊                                                                           | 276/11648 [00:02<01:38, 116.02it/s]"
     ]
    },
    {
     "name": "stdout",
     "output_type": "stream",
     "text": [
      "Barfi (323)\n",
      "Barfi (324)\n",
      "Barfi (325)\n",
      "Barfi (326)\n",
      "Barfi (327)\n",
      "Barfi (328)\n",
      "Barfi (329)\n",
      "Barfi (33)\n",
      "Barfi (330)\n",
      "Barfi (331)\n",
      "Barfi (332)\n",
      "Barfi (333)\n",
      "Barfi (334)\n",
      "Barfi (335)\n"
     ]
    },
    {
     "name": "stderr",
     "output_type": "stream",
     "text": [
      "\r",
      "  2%|█▉                                                                           | 290/11648 [00:02<01:34, 120.50it/s]"
     ]
    },
    {
     "name": "stdout",
     "output_type": "stream",
     "text": [
      "Barfi (336)\n",
      "Barfi (337)\n",
      "Barfi (338)\n",
      "Barfi (339)\n",
      "Barfi (34)\n",
      "Barfi (340)\n",
      "Barfi (341)\n",
      "Barfi (342)\n",
      "Barfi (343)\n",
      "Barfi (344)\n",
      "Barfi (345)\n",
      "Barfi (346)\n",
      "Barfi (347)\n"
     ]
    },
    {
     "name": "stderr",
     "output_type": "stream",
     "text": [
      "\r",
      "  3%|██                                                                           | 303/11648 [00:03<01:45, 107.71it/s]"
     ]
    },
    {
     "name": "stdout",
     "output_type": "stream",
     "text": [
      "Barfi (348)\n",
      "Barfi (349)\n",
      "Barfi (35)\n",
      "Barfi (350)\n",
      "Barfi (351)\n",
      "Barfi (352)\n",
      "Barfi (353)\n",
      "Barfi (354)\n",
      "Barfi (355)\n",
      "Barfi (356)\n",
      "Barfi (357)\n",
      "Barfi (358)\n"
     ]
    },
    {
     "name": "stderr",
     "output_type": "stream",
     "text": [
      "\r",
      "  3%|██                                                                           | 315/11648 [00:03<01:44, 108.20it/s]"
     ]
    },
    {
     "name": "stdout",
     "output_type": "stream",
     "text": [
      "Barfi (359)\n",
      "Barfi (36)\n",
      "Barfi (360)\n",
      "Barfi (361)\n",
      "Barfi (362)\n",
      "Barfi (363)\n",
      "Barfi (364)\n",
      "Barfi (365)\n",
      "Barfi (366)\n",
      "Barfi (367)\n",
      "Barfi (368)\n",
      "Barfi (369)\n"
     ]
    },
    {
     "name": "stderr",
     "output_type": "stream",
     "text": [
      "\r",
      "  3%|██▏                                                                           | 327/11648 [00:03<02:24, 78.26it/s]"
     ]
    },
    {
     "name": "stdout",
     "output_type": "stream",
     "text": [
      "Barfi (37)\n",
      "Barfi (370)\n",
      "Barfi (371)\n",
      "Barfi (372)\n",
      "Barfi (373)\n",
      "Barfi (374)\n",
      "Barfi (375)\n",
      "Barfi (376)\n",
      "Barfi (377)\n",
      "Barfi (378)\n",
      "Barfi (379)\n",
      "Barfi (38)\n"
     ]
    },
    {
     "name": "stderr",
     "output_type": "stream",
     "text": [
      "\r",
      "  3%|██▎                                                                           | 339/11648 [00:03<02:09, 87.05it/s]"
     ]
    },
    {
     "name": "stdout",
     "output_type": "stream",
     "text": [
      "Barfi (380)\n",
      "Barfi (381)\n",
      "Barfi (382)\n",
      "Barfi (383)\n",
      "Barfi (384)\n",
      "Barfi (385)\n",
      "Barfi (386)\n",
      "Barfi (387)\n",
      "Barfi (388)\n",
      "Barfi (389)\n",
      "Barfi (39)\n",
      "Barfi (390)\n",
      "Barfi (391)\n",
      "Barfi (392)\n",
      "Barfi (393)\n",
      "Barfi (394)\n",
      "Barfi (395)\n"
     ]
    },
    {
     "name": "stderr",
     "output_type": "stream",
     "text": [
      "\r",
      "  3%|██▎                                                                          | 356/11648 [00:03<01:51, 101.48it/s]"
     ]
    },
    {
     "name": "stdout",
     "output_type": "stream",
     "text": [
      "Barfi (396)\n",
      "Barfi (397)\n",
      "Barfi (398)\n",
      "Barfi (399)\n",
      "Barfi (4)\n",
      "Barfi (4)\n",
      "Barfi (4)\n",
      "Barfi (40)\n",
      "Barfi (400)\n",
      "Barfi (401)\n",
      "Barfi (402)\n",
      "Barfi (403)\n",
      "Barfi (404)\n"
     ]
    },
    {
     "name": "stderr",
     "output_type": "stream",
     "text": [
      "\r",
      "  3%|██▍                                                                           | 369/11648 [00:04<03:23, 55.37it/s]"
     ]
    },
    {
     "name": "stdout",
     "output_type": "stream",
     "text": [
      "Barfi (405)\n",
      "Barfi (406)\n",
      "Barfi (407)\n",
      "Barfi (408)\n",
      "Barfi (409)\n",
      "Barfi (41)\n",
      "Barfi (410)\n",
      "Barfi (411)\n",
      "Barfi (412)\n",
      "Barfi (413)\n"
     ]
    },
    {
     "name": "stderr",
     "output_type": "stream",
     "text": [
      "\r",
      "  3%|██▌                                                                           | 379/11648 [00:04<03:42, 50.60it/s]"
     ]
    },
    {
     "name": "stdout",
     "output_type": "stream",
     "text": [
      "Barfi (414)\n",
      "Barfi (415)\n",
      "Barfi (416)\n",
      "Barfi (417)\n",
      "Barfi (418)\n",
      "Barfi (419)\n",
      "Barfi (42)\n",
      "Barfi (420)\n",
      "Barfi (421)\n",
      "Barfi (422)\n",
      "Barfi (423)\n",
      "Barfi (424)\n",
      "Barfi (425)\n",
      "Barfi (426)\n"
     ]
    },
    {
     "name": "stderr",
     "output_type": "stream",
     "text": [
      "\r",
      "  3%|██▋                                                                           | 393/11648 [00:04<03:00, 62.28it/s]"
     ]
    },
    {
     "name": "stdout",
     "output_type": "stream",
     "text": [
      "Barfi (427)\n",
      "Barfi (428)\n",
      "Barfi (429)\n",
      "Barfi (43)\n",
      "Barfi (430)\n",
      "Barfi (431)\n",
      "Barfi (432)\n",
      "Barfi (433)\n",
      "Barfi (434)\n",
      "Barfi (435)\n",
      "Barfi (436)\n",
      "Barfi (437)\n",
      "Barfi (438)\n",
      "Barfi (439)\n",
      "Barfi (44)\n"
     ]
    },
    {
     "name": "stderr",
     "output_type": "stream",
     "text": [
      "\r",
      "  4%|██▋                                                                           | 408/11648 [00:04<02:28, 75.45it/s]"
     ]
    },
    {
     "name": "stdout",
     "output_type": "stream",
     "text": [
      "Barfi (440)\n",
      "Barfi (441)\n",
      "Barfi (442)\n",
      "Barfi (443)\n",
      "Barfi (444)\n",
      "Barfi (445)\n",
      "Barfi (446)\n",
      "Barfi (447)\n",
      "Barfi (448)\n",
      "Barfi (449)\n",
      "Barfi (45)\n",
      "Barfi (450)\n"
     ]
    },
    {
     "name": "stderr",
     "output_type": "stream",
     "text": [
      "\r",
      "  4%|██▊                                                                           | 420/11648 [00:04<02:23, 78.32it/s]"
     ]
    },
    {
     "name": "stdout",
     "output_type": "stream",
     "text": [
      "Barfi (451)\n",
      "Barfi (452)\n",
      "Barfi (453)\n",
      "Barfi (454)\n",
      "Barfi (455)\n",
      "Barfi (456)\n",
      "Barfi (457)\n",
      "Barfi (458)\n",
      "Barfi (459)\n",
      "Barfi (46)\n",
      "Barfi (460)\n"
     ]
    },
    {
     "name": "stderr",
     "output_type": "stream",
     "text": [
      "\r",
      "  4%|██▉                                                                           | 431/11648 [00:04<02:12, 84.79it/s]"
     ]
    },
    {
     "name": "stdout",
     "output_type": "stream",
     "text": [
      "Barfi (461)\n",
      "Barfi (462)\n",
      "Barfi (463)\n",
      "Barfi (464)\n",
      "Barfi (465)\n",
      "Barfi (466)\n",
      "Barfi (467)\n",
      "Barfi (468)\n",
      "Barfi (469)\n",
      "Barfi (47)\n",
      "Barfi (470)\n",
      "Barfi (471)\n",
      "Barfi (472)\n",
      "Barfi (473)\n",
      "Barfi (474)\n"
     ]
    },
    {
     "name": "stderr",
     "output_type": "stream",
     "text": [
      "\r",
      "  4%|██▉                                                                           | 446/11648 [00:04<01:55, 96.62it/s]"
     ]
    },
    {
     "name": "stdout",
     "output_type": "stream",
     "text": [
      "Barfi (475)\n",
      "Barfi (476)\n",
      "Barfi (477)\n",
      "Barfi (478)\n",
      "Barfi (479)\n",
      "Barfi (48)\n",
      "Barfi (480)\n",
      "Barfi (481)\n",
      "Barfi (482)\n",
      "Barfi (483)\n",
      "Barfi (484)\n",
      "Barfi (485)\n",
      "Barfi (486)\n",
      "Barfi (487)\n"
     ]
    },
    {
     "name": "stderr",
     "output_type": "stream",
     "text": [
      "\r",
      "  4%|███                                                                          | 460/11648 [00:05<01:45, 106.10it/s]"
     ]
    },
    {
     "name": "stdout",
     "output_type": "stream",
     "text": [
      "Barfi (488)\n",
      "Barfi (489)\n",
      "Barfi (49)\n",
      "Barfi (490)\n",
      "Barfi (491)\n",
      "Barfi (492)\n",
      "Barfi (493)\n",
      "Barfi (494)\n",
      "Barfi (495)\n",
      "Barfi (496)\n",
      "Barfi (497)\n",
      "Barfi (498)\n",
      "Barfi (499)\n"
     ]
    },
    {
     "name": "stderr",
     "output_type": "stream",
     "text": [
      "\r",
      "  4%|███▏                                                                          | 473/11648 [00:05<02:12, 84.59it/s]"
     ]
    },
    {
     "name": "stdout",
     "output_type": "stream",
     "text": [
      "Barfi (5)\n",
      "Barfi (5)\n",
      "Barfi (5)\n",
      "Barfi (50)\n",
      "Barfi (500)\n",
      "Barfi (501)\n",
      "Barfi (502)\n",
      "Barfi (503)\n",
      "Barfi (504)\n",
      "Barfi (505)\n",
      "Barfi (506)\n"
     ]
    },
    {
     "name": "stderr",
     "output_type": "stream",
     "text": [
      "\r",
      "  4%|███▏                                                                          | 484/11648 [00:05<02:17, 81.29it/s]"
     ]
    },
    {
     "name": "stdout",
     "output_type": "stream",
     "text": [
      "Barfi (507)\n",
      "Barfi (508)\n",
      "Barfi (509)\n",
      "Barfi (51)\n",
      "Barfi (510)\n",
      "Barfi (511)\n",
      "Barfi (512)\n",
      "Barfi (513)\n",
      "Barfi (514)\n",
      "Barfi (515)\n",
      "Barfi (516)\n"
     ]
    },
    {
     "name": "stderr",
     "output_type": "stream",
     "text": [
      "\r",
      "  4%|███▎                                                                          | 495/11648 [00:05<02:06, 87.83it/s]"
     ]
    },
    {
     "name": "stdout",
     "output_type": "stream",
     "text": [
      "Barfi (517)\n",
      "Barfi (518)\n",
      "Barfi (519)\n",
      "Barfi (52)\n",
      "Barfi (520)\n",
      "Barfi (521)\n",
      "Barfi (522)\n",
      "Barfi (523)\n",
      "Barfi (524)\n",
      "Barfi (525)\n",
      "Barfi (526)\n",
      "Barfi (527)\n",
      "Barfi (528)\n",
      "Barfi (529)\n",
      "Barfi (53)\n"
     ]
    },
    {
     "name": "stderr",
     "output_type": "stream",
     "text": [
      "\r",
      "  4%|███▍                                                                          | 510/11648 [00:05<02:14, 82.52it/s]"
     ]
    },
    {
     "name": "stdout",
     "output_type": "stream",
     "text": [
      "Barfi (530)\n",
      "Barfi (531)\n",
      "Barfi (532)\n",
      "Barfi (533)\n",
      "Barfi (534)\n",
      "Barfi (535)\n",
      "Barfi (536)\n",
      "Barfi (537)\n",
      "Barfi (538)\n",
      "Barfi (539)\n",
      "Barfi (54)\n",
      "Barfi (540)\n",
      "Barfi (541)\n",
      "Barfi (542)\n",
      "Barfi (543)\n",
      "Barfi (544)\n",
      "Barfi (545)\n",
      "Barfi (546)\n"
     ]
    },
    {
     "name": "stderr",
     "output_type": "stream",
     "text": [
      "\r",
      "  5%|███▌                                                                          | 528/11648 [00:05<01:53, 98.09it/s]"
     ]
    },
    {
     "name": "stdout",
     "output_type": "stream",
     "text": [
      "Barfi (547)\n",
      "Barfi (548)\n",
      "Barfi (549)\n",
      "Barfi (55)\n",
      "Barfi (550)\n",
      "Barfi (551)\n",
      "Barfi (552)\n",
      "Barfi (553)\n",
      "Barfi (554)\n",
      "Barfi (555)\n",
      "Barfi (556)\n",
      "Barfi (557)\n",
      "Barfi (558)\n",
      "Barfi (559)\n",
      "Barfi (56)\n",
      "Barfi (560)\n",
      "Barfi (561)\n"
     ]
    },
    {
     "name": "stderr",
     "output_type": "stream",
     "text": [
      "\r",
      "  5%|███▌                                                                         | 545/11648 [00:05<01:40, 110.65it/s]"
     ]
    },
    {
     "name": "stdout",
     "output_type": "stream",
     "text": [
      "Barfi (562)\n",
      "Barfi (563)\n",
      "Barfi (564)\n",
      "Barfi (565)\n",
      "Barfi (566)\n",
      "Barfi (567)\n",
      "Barfi (568)\n",
      "Barfi (569)\n",
      "Barfi (57)\n",
      "Barfi (570)\n",
      "Barfi (571)\n",
      "Barfi (572)\n",
      "Barfi (573)\n",
      "Barfi (574)\n",
      "Barfi (575)\n"
     ]
    },
    {
     "name": "stderr",
     "output_type": "stream",
     "text": [
      "\r",
      "  5%|███▋                                                                         | 560/11648 [00:06<01:33, 118.20it/s]"
     ]
    },
    {
     "name": "stdout",
     "output_type": "stream",
     "text": [
      "Barfi (576)\n",
      "Barfi (577)\n",
      "Barfi (578)\n",
      "Barfi (579)\n",
      "Barfi (58)\n",
      "Barfi (580)\n",
      "Barfi (581)\n",
      "Barfi (582)\n",
      "Barfi (583)\n",
      "Barfi (584)\n",
      "Barfi (585)\n",
      "Barfi (586)\n",
      "Barfi (587)\n",
      "Barfi (588)\n"
     ]
    },
    {
     "name": "stderr",
     "output_type": "stream",
     "text": [
      "\r",
      "  5%|███▊                                                                         | 574/11648 [00:06<01:44, 105.84it/s]"
     ]
    },
    {
     "name": "stdout",
     "output_type": "stream",
     "text": [
      "Barfi (589)\n",
      "Barfi (59)\n",
      "Barfi (590)\n",
      "Barfi (591)\n",
      "Barfi (592)\n",
      "Barfi (593)\n",
      "Barfi (594)\n",
      "Barfi (595)\n",
      "Barfi (596)\n",
      "Barfi (597)\n",
      "Barfi (598)\n",
      "Barfi (599)\n"
     ]
    },
    {
     "name": "stderr",
     "output_type": "stream",
     "text": [
      "\r",
      "  5%|███▉                                                                          | 586/11648 [00:06<04:52, 37.86it/s]"
     ]
    },
    {
     "name": "stdout",
     "output_type": "stream",
     "text": [
      "Barfi (6)\n",
      "Barfi (6)\n",
      "Barfi (6)\n",
      "Barfi (60)\n",
      "Barfi (600)\n",
      "Barfi (601)\n",
      "Barfi (602)\n",
      "Barfi (603)\n",
      "Barfi (604)\n"
     ]
    },
    {
     "name": "stderr",
     "output_type": "stream",
     "text": [
      "\r",
      "  5%|███▉                                                                          | 595/11648 [00:07<05:51, 31.43it/s]"
     ]
    },
    {
     "name": "stdout",
     "output_type": "stream",
     "text": [
      "Barfi (605)\n",
      "Barfi (606)\n",
      "Barfi (607)\n",
      "Barfi (608)\n",
      "Barfi (609)\n",
      "Barfi (61)\n",
      "Barfi (610)\n",
      "Barfi (611)\n",
      "Barfi (612)\n",
      "Barfi (613)\n",
      "Barfi (614)\n",
      "Barfi (615)\n",
      "Barfi (616)\n"
     ]
    },
    {
     "name": "stderr",
     "output_type": "stream",
     "text": [
      "\r",
      "  5%|████                                                                          | 608/11648 [00:07<04:32, 40.50it/s]"
     ]
    },
    {
     "name": "stdout",
     "output_type": "stream",
     "text": [
      "Barfi (617)\n",
      "Barfi (618)\n",
      "Barfi (619)\n",
      "Barfi (62)\n",
      "Barfi (620)\n",
      "Barfi (621)\n",
      "Barfi (622)\n",
      "Barfi (623)\n",
      "Barfi (624)\n",
      "Barfi (625)\n",
      "Barfi (626)\n",
      "Barfi (627)\n",
      "Barfi (628)\n",
      "Barfi (629)\n",
      "Barfi (63)\n"
     ]
    },
    {
     "name": "stderr",
     "output_type": "stream",
     "text": [
      "\r",
      "  5%|████▏                                                                         | 623/11648 [00:07<03:34, 51.50it/s]"
     ]
    },
    {
     "name": "stdout",
     "output_type": "stream",
     "text": [
      "Barfi (630)\n",
      "Barfi (631)\n",
      "Barfi (632)\n",
      "Barfi (633)\n",
      "Barfi (634)\n",
      "Barfi (635)\n",
      "Barfi (636)\n",
      "Barfi (637)\n",
      "Barfi (638)\n",
      "Barfi (639)\n",
      "Barfi (64)\n",
      "Barfi (640)\n",
      "Barfi (641)\n",
      "Barfi (642)\n",
      "Barfi (643)\n",
      "Barfi (644)\n",
      "Barfi (645)\n"
     ]
    },
    {
     "name": "stderr",
     "output_type": "stream",
     "text": [
      "\r",
      "  5%|████▎                                                                         | 640/11648 [00:07<02:49, 65.06it/s]"
     ]
    },
    {
     "name": "stdout",
     "output_type": "stream",
     "text": [
      "Barfi (646)\n",
      "Barfi (647)\n",
      "Barfi (648)\n",
      "Barfi (649)\n",
      "Barfi (65)\n",
      "Barfi (650)\n",
      "Barfi (651)\n",
      "Barfi (652)\n",
      "Barfi (653)\n",
      "Barfi (654)\n",
      "Barfi (655)\n",
      "Barfi (656)\n",
      "Barfi (657)\n",
      "Barfi (658)\n",
      "Barfi (659)\n",
      "Barfi (66)\n",
      "Barfi (660)\n"
     ]
    },
    {
     "name": "stderr",
     "output_type": "stream",
     "text": [
      "\r",
      "  6%|████▍                                                                         | 657/11648 [00:07<02:18, 79.32it/s]"
     ]
    },
    {
     "name": "stdout",
     "output_type": "stream",
     "text": [
      "Barfi (661)\n",
      "Barfi (662)\n",
      "Barfi (663)\n",
      "Barfi (664)\n",
      "Barfi (665)\n",
      "Barfi (666)\n",
      "Barfi (667)\n",
      "Barfi (668)\n",
      "Barfi (669)\n",
      "Barfi (67)\n",
      "Barfi (670)\n",
      "Barfi (671)\n",
      "Barfi (672)\n",
      "Barfi (673)\n",
      "Barfi (674)\n"
     ]
    },
    {
     "name": "stderr",
     "output_type": "stream",
     "text": [
      "\r",
      "  6%|████▌                                                                         | 672/11648 [00:07<02:03, 88.82it/s]"
     ]
    },
    {
     "name": "stdout",
     "output_type": "stream",
     "text": [
      "Barfi (675)\n",
      "Barfi (676)\n",
      "Barfi (677)\n",
      "Barfi (678)\n",
      "Barfi (679)\n",
      "Barfi (68)\n",
      "Barfi (680)\n",
      "Barfi (681)\n",
      "Barfi (682)\n",
      "Barfi (69)\n",
      "Barfi (7)\n",
      "Barfi (7)\n",
      "Barfi (7)\n",
      "Barfi (70)\n"
     ]
    },
    {
     "name": "stderr",
     "output_type": "stream",
     "text": [
      "\r",
      "  6%|████▌                                                                         | 686/11648 [00:08<01:50, 98.98it/s]"
     ]
    },
    {
     "name": "stdout",
     "output_type": "stream",
     "text": [
      "Barfi (71)\n",
      "Barfi (72)\n",
      "Barfi (73)\n",
      "Barfi (74)\n",
      "Barfi (75)\n",
      "Barfi (76)\n",
      "Barfi (77)\n",
      "Barfi (78)\n",
      "Barfi (79)\n",
      "Barfi (8)\n",
      "Barfi (8)\n",
      "Barfi (8)\n",
      "Barfi (80)\n",
      "Barfi (81)\n",
      "Barfi (82)\n",
      "Barfi (83)\n",
      "Barfi (84)\n"
     ]
    },
    {
     "name": "stderr",
     "output_type": "stream",
     "text": [
      "\r",
      "  6%|████▋                                                                        | 703/11648 [00:08<01:37, 112.33it/s]"
     ]
    },
    {
     "name": "stdout",
     "output_type": "stream",
     "text": [
      "Barfi (85)\n",
      "Barfi (86)\n",
      "Barfi (87)\n",
      "Barfi (88)\n",
      "Barfi (89)\n",
      "Barfi (9)\n",
      "Barfi (9)\n",
      "Barfi (90)\n",
      "Barfi (91)\n",
      "Barfi (92)\n",
      "Barfi (93)\n",
      "Barfi (94)\n",
      "Barfi (95)\n",
      "Barfi (96)\n",
      "Barfi (97)\n"
     ]
    },
    {
     "name": "stderr",
     "output_type": "stream",
     "text": [
      "\r",
      "  6%|████▋                                                                        | 718/11648 [00:08<01:30, 120.97it/s]"
     ]
    },
    {
     "name": "stdout",
     "output_type": "stream",
     "text": [
      "Barfi (98)\n",
      "Barfi (99)\n",
      "Barfi 3 (1)\n",
      "Barfi 3 (1)\n",
      "Barfi 3 (10)\n",
      "Barfi 3 (10)\n",
      "Barfi 3 (10)\n",
      "Barfi 3 (100)\n",
      "Barfi 3 (1000)\n",
      "Barfi 3 (1001)\n",
      "Barfi 3 (1002)\n",
      "Barfi 3 (1003)\n",
      "Barfi 3 (1004)\n",
      "Barfi 3 (1005)\n",
      "Barfi 3 (1006)\n"
     ]
    },
    {
     "name": "stderr",
     "output_type": "stream",
     "text": [
      "\r",
      "  6%|████▊                                                                        | 733/11648 [00:08<01:31, 119.62it/s]"
     ]
    },
    {
     "name": "stdout",
     "output_type": "stream",
     "text": [
      "Barfi 3 (1007)\n",
      "Barfi 3 (1008)\n",
      "Barfi 3 (1009)\n",
      "Barfi 3 (101)\n",
      "Barfi 3 (1010)\n",
      "Barfi 3 (1011)\n",
      "Barfi 3 (1012)\n",
      "Barfi 3 (1013)\n",
      "Barfi 3 (1014)\n",
      "Barfi 3 (1015)\n",
      "Barfi 3 (1016)\n",
      "Barfi 3 (1017)\n",
      "Barfi 3 (1018)\n",
      "Barfi 3 (1019)\n",
      "Barfi 3 (102)\n",
      "Barfi 3 (1020)\n",
      "Barfi 3 (1021)\n",
      "Barfi 3 (1022)\n"
     ]
    },
    {
     "name": "stderr",
     "output_type": "stream",
     "text": [
      "\r",
      "  6%|████▉                                                                        | 751/11648 [00:08<01:22, 131.92it/s]"
     ]
    },
    {
     "name": "stdout",
     "output_type": "stream",
     "text": [
      "Barfi 3 (1023)\n",
      "Barfi 3 (1024)\n",
      "Barfi 3 (1025)\n",
      "Barfi 3 (1026)\n",
      "Barfi 3 (1027)\n",
      "Barfi 3 (1028)\n",
      "Barfi 3 (1029)\n",
      "Barfi 3 (103)\n",
      "Barfi 3 (1030)\n",
      "Barfi 3 (1031)\n",
      "Barfi 3 (1032)\n",
      "Barfi 3 (1033)\n",
      "Barfi 3 (1034)\n",
      "Barfi 3 (1035)\n",
      "Barfi 3 (1036)\n"
     ]
    },
    {
     "name": "stderr",
     "output_type": "stream",
     "text": [
      "\r",
      "  7%|█████▏                                                                        | 766/11648 [00:08<01:58, 91.48it/s]"
     ]
    },
    {
     "name": "stdout",
     "output_type": "stream",
     "text": [
      "Barfi 3 (1037)\n",
      "Barfi 3 (1038)\n",
      "Barfi 3 (1039)\n",
      "Barfi 3 (104)\n",
      "Barfi 3 (1040)\n",
      "Barfi 3 (1041)\n",
      "Barfi 3 (1042)\n",
      "Barfi 3 (1043)\n",
      "Barfi 3 (1044)\n",
      "Barfi 3 (1045)\n",
      "Barfi 3 (1046)\n",
      "Barfi 3 (1047)\n"
     ]
    },
    {
     "name": "stderr",
     "output_type": "stream",
     "text": [
      "\r",
      "  7%|█████▏                                                                        | 778/11648 [00:08<02:27, 73.88it/s]"
     ]
    },
    {
     "name": "stdout",
     "output_type": "stream",
     "text": [
      "Barfi 3 (1048)\n",
      "Barfi 3 (1049)\n",
      "Barfi 3 (105)\n",
      "Barfi 3 (1050)\n",
      "Barfi 3 (1051)\n",
      "Barfi 3 (1052)\n",
      "Barfi 3 (1053)\n",
      "Barfi 3 (1054)\n",
      "Barfi 3 (1055)\n",
      "Barfi 3 (1056)\n"
     ]
    },
    {
     "name": "stderr",
     "output_type": "stream",
     "text": [
      "\r",
      "  7%|█████▎                                                                        | 788/11648 [00:09<02:34, 70.11it/s]"
     ]
    },
    {
     "name": "stdout",
     "output_type": "stream",
     "text": [
      "Barfi 3 (1057)\n",
      "Barfi 3 (1058)\n",
      "Barfi 3 (1059)\n",
      "Barfi 3 (106)\n",
      "Barfi 3 (1060)\n",
      "Barfi 3 (1061)\n",
      "Barfi 3 (1062)\n",
      "Barfi 3 (1063)\n",
      "Barfi 3 (1064)\n",
      "Barfi 3 (1065)\n"
     ]
    },
    {
     "name": "stderr",
     "output_type": "stream",
     "text": [
      "\r",
      "  7%|█████▎                                                                        | 798/11648 [00:09<02:22, 76.36it/s]"
     ]
    },
    {
     "name": "stdout",
     "output_type": "stream",
     "text": [
      "Barfi 3 (1066)\n",
      "Barfi 3 (1067)\n",
      "Barfi 3 (1068)\n",
      "Barfi 3 (1069)\n",
      "Barfi 3 (107)\n",
      "Barfi 3 (1070)\n",
      "Barfi 3 (1071)\n",
      "Barfi 3 (1072)\n",
      "Barfi 3 (1073)\n",
      "Barfi 3 (1074)\n",
      "Barfi 3 (1075)\n",
      "Barfi 3 (1076)\n"
     ]
    },
    {
     "name": "stderr",
     "output_type": "stream",
     "text": [
      "\r",
      "  7%|█████▍                                                                        | 810/11648 [00:09<02:06, 85.40it/s]"
     ]
    },
    {
     "name": "stdout",
     "output_type": "stream",
     "text": [
      "Barfi 3 (1077)\n",
      "Barfi 3 (1078)\n",
      "Barfi 3 (1079)\n",
      "Barfi 3 (108)\n",
      "Barfi 3 (1080)\n",
      "Barfi 3 (1081)\n",
      "Barfi 3 (1082)\n",
      "Barfi 3 (1083)\n",
      "Barfi 3 (1084)\n",
      "Barfi 3 (1085)\n",
      "Barfi 3 (1086)\n",
      "Barfi 3 (1087)\n",
      "Barfi 3 (1088)\n",
      "Barfi 3 (1089)\n"
     ]
    },
    {
     "name": "stderr",
     "output_type": "stream",
     "text": [
      "\r",
      "  7%|█████▌                                                                        | 824/11648 [00:09<01:53, 95.39it/s]"
     ]
    },
    {
     "name": "stdout",
     "output_type": "stream",
     "text": [
      "Barfi 3 (109)\n",
      "Barfi 3 (1090)\n",
      "Barfi 3 (1091)\n",
      "Barfi 3 (1092)\n",
      "Barfi 3 (1093)\n",
      "Barfi 3 (1094)\n",
      "Barfi 3 (1095)\n",
      "Barfi 3 (1096)\n",
      "Barfi 3 (1097)\n",
      "Barfi 3 (1098)\n",
      "Barfi 3 (1099)\n",
      "Barfi 3 (11)\n",
      "Barfi 3 (11)\n",
      "Barfi 3 (11)\n"
     ]
    },
    {
     "name": "stderr",
     "output_type": "stream",
     "text": [
      "\r",
      "  7%|█████▌                                                                       | 838/11648 [00:09<01:43, 104.12it/s]"
     ]
    },
    {
     "name": "stdout",
     "output_type": "stream",
     "text": [
      "Barfi 3 (110)\n",
      "Barfi 3 (1100)\n",
      "Barfi 3 (1101)\n",
      "Barfi 3 (1102)\n",
      "Barfi 3 (1103)\n",
      "Barfi 3 (1104)\n",
      "Barfi 3 (1105)\n",
      "Barfi 3 (1106)\n",
      "Barfi 3 (1107)\n",
      "Barfi 3 (1108)\n",
      "Barfi 3 (1109)\n",
      "Barfi 3 (111)\n",
      "Barfi 3 (1110)\n",
      "Barfi 3 (1111)\n",
      "Barfi 3 (1112)\n",
      "Barfi 3 (1113)\n"
     ]
    },
    {
     "name": "stderr",
     "output_type": "stream",
     "text": [
      "\r",
      "  7%|█████▋                                                                       | 854/11648 [00:09<01:33, 115.87it/s]"
     ]
    },
    {
     "name": "stdout",
     "output_type": "stream",
     "text": [
      "Barfi 3 (1114)\n",
      "Barfi 3 (1115)\n",
      "Barfi 3 (1116)\n",
      "Barfi 3 (1117)\n",
      "Barfi 3 (1118)\n",
      "Barfi 3 (1119)\n",
      "Barfi 3 (112)\n",
      "Barfi 3 (1120)\n",
      "Barfi 3 (1121)\n",
      "Barfi 3 (1122)\n",
      "Barfi 3 (1123)\n",
      "Barfi 3 (1124)\n",
      "Barfi 3 (1125)\n"
     ]
    },
    {
     "name": "stderr",
     "output_type": "stream",
     "text": [
      "\r",
      "  7%|█████▊                                                                        | 867/11648 [00:10<03:22, 53.28it/s]"
     ]
    },
    {
     "name": "stdout",
     "output_type": "stream",
     "text": [
      "Barfi 3 (1126)\n",
      "Barfi 3 (1127)\n",
      "Barfi 3 (1128)\n",
      "Barfi 3 (1129)\n",
      "Barfi 3 (113)\n",
      "Barfi 3 (1130)\n",
      "Barfi 3 (1131)\n",
      "Barfi 3 (1132)\n",
      "Barfi 3 (1133)\n",
      "Barfi 3 (1134)\n"
     ]
    },
    {
     "name": "stderr",
     "output_type": "stream",
     "text": [
      "\r",
      "  8%|█████▊                                                                        | 877/11648 [00:10<05:39, 31.74it/s]"
     ]
    },
    {
     "name": "stdout",
     "output_type": "stream",
     "text": [
      "Barfi 3 (1135)\n",
      "Barfi 3 (1136)\n",
      "Barfi 3 (1137)\n",
      "Barfi 3 (1138)\n",
      "Barfi 3 (1139)\n",
      "Barfi 3 (114)\n",
      "Barfi 3 (1140)\n",
      "Barfi 3 (1141)\n",
      "Barfi 3 (1142)\n",
      "Barfi 3 (1143)\n",
      "Barfi 3 (1144)\n",
      "Barfi 3 (1145)\n"
     ]
    },
    {
     "name": "stderr",
     "output_type": "stream",
     "text": [
      "\r",
      "  8%|█████▉                                                                        | 889/11648 [00:10<04:25, 40.53it/s]"
     ]
    },
    {
     "name": "stdout",
     "output_type": "stream",
     "text": [
      "Barfi 3 (1146)\n",
      "Barfi 3 (1147)\n",
      "Barfi 3 (1148)\n",
      "Barfi 3 (1149)\n",
      "Barfi 3 (115)\n",
      "Barfi 3 (1150)\n",
      "Barfi 3 (1151)\n",
      "Barfi 3 (1152)\n",
      "Barfi 3 (1153)\n",
      "Barfi 3 (1154)\n",
      "Barfi 3 (1155)\n",
      "Barfi 3 (1156)\n",
      "Barfi 3 (1157)\n",
      "Barfi 3 (1158)\n",
      "Barfi 3 (1159)\n",
      "Barfi 3 (116)\n",
      "Barfi 3 (1160)\n"
     ]
    },
    {
     "name": "stderr",
     "output_type": "stream",
     "text": [
      "\r",
      "  8%|██████                                                                        | 906/11648 [00:11<03:25, 52.40it/s]"
     ]
    },
    {
     "name": "stdout",
     "output_type": "stream",
     "text": [
      "Barfi 3 (1161)\n",
      "Barfi 3 (1162)\n",
      "Barfi 3 (1163)\n",
      "Barfi 3 (1164)\n",
      "Barfi 3 (1165)\n",
      "Barfi 3 (1166)\n",
      "Barfi 3 (1167)\n",
      "Barfi 3 (1168)\n",
      "Barfi 3 (1169)\n",
      "Barfi 3 (117)\n",
      "Barfi 3 (1170)\n",
      "Barfi 3 (1171)\n",
      "Barfi 3 (1172)\n",
      "Barfi 3 (1173)\n",
      "Barfi 3 (1174)\n",
      "Barfi 3 (1175)\n",
      "Barfi 3 (1176)\n",
      "Barfi 3 (1177)\n"
     ]
    },
    {
     "name": "stderr",
     "output_type": "stream",
     "text": [
      "\r",
      "  8%|██████▏                                                                       | 924/11648 [00:11<02:41, 66.50it/s]"
     ]
    },
    {
     "name": "stdout",
     "output_type": "stream",
     "text": [
      "Barfi 3 (1178)\n",
      "Barfi 3 (1179)\n",
      "Barfi 3 (118)\n",
      "Barfi 3 (1180)\n",
      "Barfi 3 (1181)\n",
      "Barfi 3 (1182)\n",
      "Barfi 3 (1183)\n",
      "Barfi 3 (1184)\n",
      "Barfi 3 (1185)\n",
      "Barfi 3 (1186)\n",
      "Barfi 3 (1187)\n",
      "Barfi 3 (1188)\n",
      "Barfi 3 (1189)\n",
      "Barfi 3 (119)\n",
      "Barfi 3 (1190)\n",
      "Barfi 3 (1191)\n",
      "Barfi 3 (1192)\n",
      "Barfi 3 (1193)\n",
      "Barfi 3 (1194)\n",
      "Barfi 3 (1195)\n",
      "Barfi 3 (1196)\n",
      "Barfi 3 (1197)\n",
      "Barfi 3 (1198)\n",
      "Barfi 3 (1199)\n"
     ]
    },
    {
     "name": "stderr",
     "output_type": "stream",
     "text": [
      "\r",
      "  8%|██████▎                                                                       | 948/11648 [00:11<02:06, 84.85it/s]"
     ]
    },
    {
     "name": "stdout",
     "output_type": "stream",
     "text": [
      "Barfi 3 (12)\n",
      "Barfi 3 (12)\n",
      "Barfi 3 (12)\n",
      "Barfi 3 (120)\n",
      "Barfi 3 (1200)\n",
      "Barfi 3 (1201)\n",
      "Barfi 3 (1202)\n",
      "Barfi 3 (1203)\n",
      "Barfi 3 (1204)\n",
      "Barfi 3 (1205)\n",
      "Barfi 3 (1206)\n",
      "Barfi 3 (1207)\n",
      "Barfi 3 (1208)\n",
      "Barfi 3 (1209)\n",
      "Barfi 3 (121)\n",
      "Barfi 3 (1210)\n",
      "Barfi 3 (1211)\n"
     ]
    },
    {
     "name": "stderr",
     "output_type": "stream",
     "text": [
      "\r",
      "  8%|██████▍                                                                       | 965/11648 [00:11<01:48, 98.51it/s]"
     ]
    },
    {
     "name": "stdout",
     "output_type": "stream",
     "text": [
      "Barfi 3 (1212)\n",
      "Barfi 3 (1213)\n",
      "Barfi 3 (1214)\n",
      "Barfi 3 (1215)\n",
      "Barfi 3 (1216)\n",
      "Barfi 3 (1217)\n",
      "Barfi 3 (1218)\n",
      "Barfi 3 (1219)\n",
      "Barfi 3 (122)\n",
      "Barfi 3 (1220)\n",
      "Barfi 3 (1221)\n",
      "Barfi 3 (1222)\n",
      "Barfi 3 (1223)\n",
      "Barfi 3 (1224)\n",
      "Barfi 3 (1225)\n",
      "Barfi 3 (1226)\n",
      "Barfi 3 (1227)\n",
      "Barfi 3 (1228)\n",
      "Barfi 3 (1229)\n",
      "Barfi 3 (123)\n",
      "Barfi 3 (1230)\n"
     ]
    },
    {
     "name": "stderr",
     "output_type": "stream",
     "text": [
      "\r",
      "  8%|██████▌                                                                      | 986/11648 [00:11<01:31, 116.84it/s]"
     ]
    },
    {
     "name": "stdout",
     "output_type": "stream",
     "text": [
      "Barfi 3 (1231)\n",
      "Barfi 3 (1232)\n",
      "Barfi 3 (1233)\n",
      "Barfi 3 (1234)\n",
      "Barfi 3 (1235)\n",
      "Barfi 3 (1236)\n",
      "Barfi 3 (1237)\n",
      "Barfi 3 (1238)\n",
      "Barfi 3 (1239)\n",
      "Barfi 3 (124)\n",
      "Barfi 3 (1240)\n",
      "Barfi 3 (1241)\n",
      "Barfi 3 (1242)\n",
      "Barfi 3 (1243)\n",
      "Barfi 3 (1244)\n",
      "Barfi 3 (1245)\n",
      "Barfi 3 (1246)\n",
      "Barfi 3 (1247)\n"
     ]
    },
    {
     "name": "stderr",
     "output_type": "stream",
     "text": [
      "\r",
      "  9%|██████▋                                                                      | 1004/11648 [00:11<01:52, 94.98it/s]"
     ]
    },
    {
     "name": "stdout",
     "output_type": "stream",
     "text": [
      "Barfi 3 (1248)\n",
      "Barfi 3 (1249)\n",
      "Barfi 3 (125)\n",
      "Barfi 3 (1250)\n",
      "Barfi 3 (1251)\n",
      "Barfi 3 (1252)\n",
      "Barfi 3 (1253)\n",
      "Barfi 3 (1254)\n",
      "Barfi 3 (1255)\n",
      "Barfi 3 (1256)\n",
      "Barfi 3 (1257)\n",
      "Barfi 3 (1258)\n",
      "Barfi 3 (1259)\n",
      "Barfi 3 (126)\n",
      "Barfi 3 (1260)\n"
     ]
    },
    {
     "name": "stderr",
     "output_type": "stream",
     "text": [
      "\r",
      "  9%|██████▋                                                                      | 1019/11648 [00:11<02:17, 77.31it/s]"
     ]
    },
    {
     "name": "stdout",
     "output_type": "stream",
     "text": [
      "Barfi 3 (1261)\n",
      "Barfi 3 (1262)\n",
      "Barfi 3 (1263)\n",
      "Barfi 3 (1264)\n",
      "Barfi 3 (1265)\n",
      "Barfi 3 (1266)\n",
      "Barfi 3 (1267)\n",
      "Barfi 3 (1268)\n",
      "Barfi 3 (1269)\n",
      "Barfi 3 (127)\n",
      "Barfi 3 (1270)\n",
      "Barfi 3 (1271)\n",
      "Barfi 3 (1272)\n",
      "Barfi 3 (1273)\n",
      "Barfi 3 (1274)\n",
      "Barfi 3 (1275)\n",
      "Barfi 3 (1276)\n"
     ]
    },
    {
     "name": "stderr",
     "output_type": "stream",
     "text": [
      "\r",
      "  9%|██████▊                                                                      | 1036/11648 [00:12<01:56, 91.42it/s]"
     ]
    },
    {
     "name": "stdout",
     "output_type": "stream",
     "text": [
      "Barfi 3 (1277)\n",
      "Barfi 3 (1278)\n",
      "Barfi 3 (1279)\n",
      "Barfi 3 (128)\n",
      "Barfi 3 (1280)\n",
      "Barfi 3 (1281)\n",
      "Barfi 3 (1282)\n",
      "Barfi 3 (1283)\n",
      "Barfi 3 (1284)\n",
      "Barfi 3 (1285)\n",
      "Barfi 3 (1286)\n",
      "Barfi 3 (1287)\n",
      "Barfi 3 (1288)\n",
      "Barfi 3 (1289)\n",
      "Barfi 3 (129)\n",
      "Barfi 3 (1290)\n",
      "Barfi 3 (1291)\n",
      "Barfi 3 (1292)\n"
     ]
    },
    {
     "name": "stderr",
     "output_type": "stream",
     "text": [
      "\r",
      "  9%|██████▉                                                                     | 1054/11648 [00:12<01:39, 106.36it/s]"
     ]
    },
    {
     "name": "stdout",
     "output_type": "stream",
     "text": [
      "Barfi 3 (1293)\n",
      "Barfi 3 (1294)\n",
      "Barfi 3 (1295)\n",
      "Barfi 3 (1296)\n",
      "Barfi 3 (1297)\n",
      "Barfi 3 (1298)\n",
      "Barfi 3 (1299)\n",
      "Barfi 3 (13)\n",
      "Barfi 3 (13)\n",
      "Barfi 3 (13)\n",
      "Barfi 3 (130)\n",
      "Barfi 3 (1300)\n",
      "Barfi 3 (1301)\n",
      "Barfi 3 (1302)\n",
      "Barfi 3 (1303)\n"
     ]
    },
    {
     "name": "stderr",
     "output_type": "stream",
     "text": [
      "\r",
      "  9%|███████                                                                      | 1069/11648 [00:12<01:53, 93.54it/s]"
     ]
    },
    {
     "name": "stdout",
     "output_type": "stream",
     "text": [
      "Barfi 3 (1304)\n",
      "Barfi 3 (1305)\n",
      "Barfi 3 (1306)\n",
      "Barfi 3 (1307)\n",
      "Barfi 3 (1308)\n",
      "Barfi 3 (1309)\n",
      "Barfi 3 (131)\n",
      "Barfi 3 (1310)\n",
      "Barfi 3 (1311)\n",
      "Barfi 3 (1312)\n",
      "Barfi 3 (1313)\n",
      "Barfi 3 (1314)\n",
      "Barfi 3 (1315)\n"
     ]
    },
    {
     "name": "stderr",
     "output_type": "stream",
     "text": [
      "\r",
      "  9%|███████▏                                                                     | 1082/11648 [00:12<01:57, 89.56it/s]"
     ]
    },
    {
     "name": "stdout",
     "output_type": "stream",
     "text": [
      "Barfi 3 (1316)\n",
      "Barfi 3 (1317)\n",
      "Barfi 3 (1318)\n",
      "Barfi 3 (1319)\n",
      "Barfi 3 (132)\n",
      "Barfi 3 (1320)\n",
      "Barfi 3 (1321)\n",
      "Barfi 3 (1322)\n",
      "Barfi 3 (1323)\n",
      "Barfi 3 (1324)\n",
      "Barfi 3 (1325)\n"
     ]
    },
    {
     "name": "stderr",
     "output_type": "stream",
     "text": [
      "\r",
      "  9%|███████▏                                                                     | 1093/11648 [00:12<02:04, 84.84it/s]"
     ]
    },
    {
     "name": "stdout",
     "output_type": "stream",
     "text": [
      "Barfi 3 (1326)\n",
      "Barfi 3 (1327)\n",
      "Barfi 3 (1328)\n",
      "Barfi 3 (1329)\n",
      "Barfi 3 (133)\n",
      "Barfi 3 (1330)\n",
      "Barfi 3 (1331)\n",
      "Barfi 3 (1332)\n",
      "Barfi 3 (1333)\n",
      "Barfi 3 (1334)\n",
      "Barfi 3 (1335)\n",
      "Barfi 3 (1336)\n",
      "Barfi 3 (1337)\n",
      "Barfi 3 (1338)\n",
      "Barfi 3 (1339)\n",
      "Barfi 3 (134)\n",
      "Barfi 3 (1340)\n",
      "Barfi 3 (1341)\n"
     ]
    },
    {
     "name": "stderr",
     "output_type": "stream",
     "text": [
      "\r",
      " 10%|███████▏                                                                    | 1111/11648 [00:12<01:44, 100.37it/s]"
     ]
    },
    {
     "name": "stdout",
     "output_type": "stream",
     "text": [
      "Barfi 3 (1342)\n",
      "Barfi 3 (1343)\n",
      "Barfi 3 (1344)\n",
      "Barfi 3 (1345)\n",
      "Barfi 3 (1346)\n",
      "Barfi 3 (1347)\n",
      "Barfi 3 (1348)\n",
      "Barfi 3 (1349)\n",
      "Barfi 3 (135)\n",
      "Barfi 3 (1350)\n",
      "Barfi 3 (1351)\n",
      "Barfi 3 (1352)\n",
      "Barfi 3 (1353)\n",
      "Barfi 3 (1354)\n",
      "Barfi 3 (1355)\n"
     ]
    },
    {
     "name": "stderr",
     "output_type": "stream",
     "text": [
      "\r",
      " 10%|███████▎                                                                    | 1126/11648 [00:12<01:36, 109.55it/s]"
     ]
    },
    {
     "name": "stdout",
     "output_type": "stream",
     "text": [
      "Barfi 3 (1356)\n",
      "Barfi 3 (1357)\n",
      "Barfi 3 (1358)\n",
      "Barfi 3 (1359)\n",
      "Barfi 3 (136)\n",
      "Barfi 3 (1360)\n",
      "Barfi 3 (1361)\n",
      "Barfi 3 (1362)\n",
      "Barfi 3 (1363)\n",
      "Barfi 3 (1364)\n",
      "Barfi 3 (1365)\n",
      "Barfi 3 (1366)\n",
      "Barfi 3 (1367)\n"
     ]
    },
    {
     "name": "stderr",
     "output_type": "stream",
     "text": [
      "\r",
      " 10%|███████▍                                                                    | 1139/11648 [00:13<01:37, 107.38it/s]"
     ]
    },
    {
     "name": "stdout",
     "output_type": "stream",
     "text": [
      "Barfi 3 (1368)\n",
      "Barfi 3 (1369)\n",
      "Barfi 3 (137)\n",
      "Barfi 3 (1370)\n",
      "Barfi 3 (1371)\n",
      "Barfi 3 (1372)\n",
      "Barfi 3 (1373)\n",
      "Barfi 3 (1374)\n",
      "Barfi 3 (1375)\n",
      "Barfi 3 (1376)\n",
      "Barfi 3 (1377)\n",
      "Barfi 3 (1378)\n"
     ]
    },
    {
     "name": "stderr",
     "output_type": "stream",
     "text": [
      "\r",
      " 10%|███████▌                                                                     | 1151/11648 [00:13<01:56, 90.24it/s]"
     ]
    },
    {
     "name": "stdout",
     "output_type": "stream",
     "text": [
      "Barfi 3 (1379)\n",
      "Barfi 3 (138)\n",
      "Barfi 3 (1380)\n",
      "Barfi 3 (1381)\n",
      "Barfi 3 (1382)\n",
      "Barfi 3 (1383)\n",
      "Barfi 3 (1384)\n",
      "Barfi 3 (1385)\n",
      "Barfi 3 (1386)\n",
      "Barfi 3 (1387)\n",
      "Barfi 3 (1388)\n"
     ]
    },
    {
     "name": "stderr",
     "output_type": "stream",
     "text": [
      "\r",
      " 10%|███████▋                                                                     | 1162/11648 [00:13<02:24, 72.63it/s]"
     ]
    },
    {
     "name": "stdout",
     "output_type": "stream",
     "text": [
      "Barfi 3 (1389)\n",
      "Barfi 3 (139)\n",
      "Barfi 3 (1390)\n",
      "Barfi 3 (1391)\n",
      "Barfi 3 (1392)\n",
      "Barfi 3 (1393)\n",
      "Barfi 3 (1394)\n",
      "Barfi 3 (1395)\n",
      "Barfi 3 (1396)\n"
     ]
    },
    {
     "name": "stderr",
     "output_type": "stream",
     "text": [
      "\r",
      " 10%|███████▋                                                                     | 1171/11648 [00:13<02:42, 64.29it/s]"
     ]
    },
    {
     "name": "stdout",
     "output_type": "stream",
     "text": [
      "Barfi 3 (1397)\n",
      "Barfi 3 (1398)\n",
      "Barfi 3 (1399)\n",
      "Barfi 3 (14)\n",
      "Barfi 3 (14)\n",
      "Barfi 3 (14)\n",
      "Barfi 3 (140)\n",
      "Barfi 3 (1400)\n"
     ]
    },
    {
     "name": "stderr",
     "output_type": "stream",
     "text": [
      "\r",
      " 10%|███████▊                                                                     | 1179/11648 [00:13<02:48, 62.02it/s]"
     ]
    },
    {
     "name": "stdout",
     "output_type": "stream",
     "text": [
      "Barfi 3 (1401)\n",
      "Barfi 3 (1402)\n",
      "Barfi 3 (1403)\n",
      "Barfi 3 (1404)\n",
      "Barfi 3 (1405)\n",
      "Barfi 3 (1406)\n",
      "Barfi 3 (1407)\n",
      "Barfi 3 (1408)\n"
     ]
    },
    {
     "name": "stderr",
     "output_type": "stream",
     "text": [
      "\r",
      " 10%|███████▊                                                                     | 1187/11648 [00:13<02:48, 62.07it/s]"
     ]
    },
    {
     "name": "stdout",
     "output_type": "stream",
     "text": [
      "Barfi 3 (1409)\n",
      "Barfi 3 (141)\n",
      "Barfi 3 (1410)\n",
      "Barfi 3 (1411)\n",
      "Barfi 3 (1412)\n",
      "Barfi 3 (1413)\n",
      "Barfi 3 (1414)\n",
      "Barfi 3 (1415)\n",
      "Barfi 3 (1416)\n",
      "Barfi 3 (1417)\n",
      "Barfi 3 (1418)\n",
      "Barfi 3 (1419)\n",
      "Barfi 3 (142)\n"
     ]
    },
    {
     "name": "stderr",
     "output_type": "stream",
     "text": [
      "\r",
      " 10%|███████▉                                                                     | 1200/11648 [00:14<02:24, 72.41it/s]"
     ]
    },
    {
     "name": "stdout",
     "output_type": "stream",
     "text": [
      "Barfi 3 (1420)\n",
      "Barfi 3 (1421)\n",
      "Barfi 3 (1422)\n",
      "Barfi 3 (1423)\n",
      "Barfi 3 (1424)\n",
      "Barfi 3 (1425)\n",
      "Barfi 3 (1426)\n",
      "Barfi 3 (1427)\n",
      "Barfi 3 (1428)\n",
      "Barfi 3 (1429)\n",
      "Barfi 3 (143)\n",
      "Barfi 3 (1430)\n"
     ]
    },
    {
     "name": "stderr",
     "output_type": "stream",
     "text": [
      "\r",
      " 10%|████████                                                                     | 1212/11648 [00:14<02:07, 81.90it/s]"
     ]
    },
    {
     "name": "stdout",
     "output_type": "stream",
     "text": [
      "Barfi 3 (1431)\n",
      "Barfi 3 (1432)\n",
      "Barfi 3 (1433)\n",
      "Barfi 3 (1434)\n",
      "Barfi 3 (1435)\n",
      "Barfi 3 (1436)\n",
      "Barfi 3 (1437)\n",
      "Barfi 3 (1438)\n",
      "Barfi 3 (1439)\n",
      "Barfi 3 (144)\n",
      "Barfi 3 (1440)\n",
      "Barfi 3 (1441)\n",
      "Barfi 3 (1442)\n",
      "Barfi 3 (1443)\n",
      "Barfi 3 (1444)\n",
      "Barfi 3 (1445)\n",
      "Barfi 3 (1446)\n",
      "Barfi 3 (1447)\n",
      "Barfi 3 (1448)\n",
      "Barfi 3 (1449)\n"
     ]
    },
    {
     "name": "stderr",
     "output_type": "stream",
     "text": [
      "\r",
      " 11%|████████▏                                                                    | 1232/11648 [00:14<01:45, 98.83it/s]"
     ]
    },
    {
     "name": "stdout",
     "output_type": "stream",
     "text": [
      "Barfi 3 (145)\n",
      "Barfi 3 (1450)\n",
      "Barfi 3 (1451)\n",
      "Barfi 3 (1452)\n",
      "Barfi 3 (1453)\n",
      "Barfi 3 (1454)\n",
      "Barfi 3 (1455)\n",
      "Barfi 3 (1456)\n",
      "Barfi 3 (1457)\n",
      "Barfi 3 (1458)\n",
      "Barfi 3 (1459)\n",
      "Barfi 3 (146)\n",
      "Barfi 3 (1460)\n",
      "Barfi 3 (1461)\n",
      "Barfi 3 (1462)\n",
      "Barfi 3 (1463)\n",
      "Barfi 3 (1464)\n",
      "Barfi 3 (1465)\n",
      "Barfi 3 (1466)\n"
     ]
    },
    {
     "name": "stderr",
     "output_type": "stream",
     "text": [
      "\r",
      " 11%|████████▏                                                                   | 1251/11648 [00:14<01:30, 114.67it/s]"
     ]
    },
    {
     "name": "stdout",
     "output_type": "stream",
     "text": [
      "Barfi 3 (1467)\n",
      "Barfi 3 (1468)\n",
      "Barfi 3 (1469)\n",
      "Barfi 3 (147)\n",
      "Barfi 3 (1470)\n",
      "Barfi 3 (1471)\n",
      "Barfi 3 (1472)\n",
      "Barfi 3 (1473)\n",
      "Barfi 3 (1474)\n",
      "Barfi 3 (1475)\n",
      "Barfi 3 (1476)\n",
      "Barfi 3 (1477)\n",
      "Barfi 3 (1478)\n",
      "Barfi 3 (1479)\n",
      "Barfi 3 (148)\n",
      "Barfi 3 (1480)\n",
      "Barfi 3 (1481)\n",
      "Barfi 3 (1482)\n",
      "Barfi 3 (1483)\n",
      "Barfi 3 (1484)\n",
      "Barfi 3 (1485)\n",
      "Barfi 3 (1486)\n",
      "Barfi 3 (1487)\n",
      "Barfi 3 (1488)\n",
      "Barfi 3 (1489)\n",
      "Barfi 3 (149)\n"
     ]
    },
    {
     "name": "stderr",
     "output_type": "stream",
     "text": [
      "\r",
      " 11%|████████▎                                                                   | 1277/11648 [00:14<01:15, 137.40it/s]"
     ]
    },
    {
     "name": "stdout",
     "output_type": "stream",
     "text": [
      "Barfi 3 (1490)\n",
      "Barfi 3 (1491)\n",
      "Barfi 3 (1492)\n",
      "Barfi 3 (1493)\n",
      "Barfi 3 (1494)\n",
      "Barfi 3 (1495)\n",
      "Barfi 3 (1496)\n",
      "Barfi 3 (1497)\n",
      "Barfi 3 (1498)\n",
      "Barfi 3 (1499)\n",
      "Barfi 3 (15)\n",
      "Barfi 3 (15)\n",
      "Barfi 3 (15)\n",
      "Barfi 3 (150)\n",
      "Barfi 3 (1500)\n",
      "Barfi 3 (1501)\n",
      "Barfi 3 (1502)\n",
      "Barfi 3 (1503)\n"
     ]
    },
    {
     "name": "stderr",
     "output_type": "stream",
     "text": [
      "\r",
      " 11%|████████▍                                                                   | 1295/11648 [00:14<01:10, 146.91it/s]"
     ]
    },
    {
     "name": "stdout",
     "output_type": "stream",
     "text": [
      "Barfi 3 (1504)\n",
      "Barfi 3 (1505)\n",
      "Barfi 3 (1506)\n",
      "Barfi 3 (1507)\n",
      "Barfi 3 (1508)\n",
      "Barfi 3 (1509)\n",
      "Barfi 3 (151)\n",
      "Barfi 3 (1510)\n",
      "Barfi 3 (1511)\n",
      "Barfi 3 (1512)\n",
      "Barfi 3 (1513)\n",
      "Barfi 3 (1514)\n",
      "Barfi 3 (1515)\n",
      "Barfi 3 (1516)\n",
      "Barfi 3 (1517)\n",
      "Barfi 3 (1518)\n",
      "Barfi 3 (1519)\n",
      "Barfi 3 (152)\n",
      "Barfi 3 (1520)\n",
      "Barfi 3 (1521)\n",
      "Barfi 3 (1522)\n"
     ]
    },
    {
     "name": "stderr",
     "output_type": "stream",
     "text": [
      "\r",
      " 11%|████████▌                                                                   | 1316/11648 [00:14<01:04, 160.46it/s]"
     ]
    },
    {
     "name": "stdout",
     "output_type": "stream",
     "text": [
      "Barfi 3 (1523)\n",
      "Barfi 3 (1524)\n",
      "Barfi 3 (1525)\n",
      "Barfi 3 (1526)\n",
      "Barfi 3 (1527)\n",
      "Barfi 3 (1528)\n",
      "Barfi 3 (1529)\n",
      "Barfi 3 (153)\n",
      "Barfi 3 (1530)\n",
      "Barfi 3 (1531)\n",
      "Barfi 3 (1532)\n",
      "Barfi 3 (1533)\n",
      "Barfi 3 (1534)\n",
      "Barfi 3 (1535)\n",
      "Barfi 3 (1536)\n",
      "Barfi 3 (1537)\n",
      "Barfi 3 (1538)\n",
      "Barfi 3 (1539)\n",
      "Barfi 3 (154)\n",
      "Barfi 3 (1540)\n",
      "Barfi 3 (1541)\n"
     ]
    },
    {
     "name": "stderr",
     "output_type": "stream",
     "text": [
      "\r",
      " 11%|████████▋                                                                   | 1337/11648 [00:14<00:59, 172.37it/s]"
     ]
    },
    {
     "name": "stdout",
     "output_type": "stream",
     "text": [
      "Barfi 3 (1542)\n",
      "Barfi 3 (1543)\n",
      "Barfi 3 (1544)\n",
      "Barfi 3 (1545)\n",
      "Barfi 3 (1546)\n",
      "Barfi 3 (1547)\n",
      "Barfi 3 (1548)\n",
      "Barfi 3 (1549)\n",
      "Barfi 3 (155)\n",
      "Barfi 3 (1550)\n",
      "Barfi 3 (1551)\n",
      "Barfi 3 (1552)\n",
      "Barfi 3 (1553)\n",
      "Barfi 3 (1554)\n",
      "Barfi 3 (1555)\n",
      "Barfi 3 (1556)\n",
      "Barfi 3 (1557)\n",
      "Barfi 3 (1558)\n",
      "Barfi 3 (1559)\n",
      "Barfi 3 (156)\n"
     ]
    },
    {
     "name": "stderr",
     "output_type": "stream",
     "text": [
      "\r",
      " 12%|████████▊                                                                   | 1357/11648 [00:14<00:59, 174.32it/s]"
     ]
    },
    {
     "name": "stdout",
     "output_type": "stream",
     "text": [
      "Barfi 3 (1560)\n",
      "Barfi 3 (1561)\n",
      "Barfi 3 (1562)\n",
      "Barfi 3 (1563)\n",
      "Barfi 3 (1564)\n",
      "Barfi 3 (1565)\n",
      "Barfi 3 (1566)\n",
      "Barfi 3 (1567)\n",
      "Barfi 3 (1568)\n",
      "Barfi 3 (1569)\n",
      "Barfi 3 (157)\n",
      "Barfi 3 (1570)\n",
      "Barfi 3 (1571)\n",
      "Barfi 3 (1572)\n",
      "Barfi 3 (1573)\n",
      "Barfi 3 (1574)\n",
      "Barfi 3 (1575)\n",
      "Barfi 3 (1576)\n",
      "Barfi 3 (1577)\n"
     ]
    },
    {
     "name": "stderr",
     "output_type": "stream",
     "text": [
      "\r",
      " 12%|████████▉                                                                   | 1376/11648 [00:14<01:03, 161.58it/s]"
     ]
    },
    {
     "name": "stdout",
     "output_type": "stream",
     "text": [
      "Barfi 3 (1578)\n",
      "Barfi 3 (1579)\n",
      "Barfi 3 (158)\n",
      "Barfi 3 (1580)\n",
      "Barfi 3 (1581)\n",
      "Barfi 3 (1582)\n",
      "Barfi 3 (1583)\n",
      "Barfi 3 (1584)\n",
      "Barfi 3 (1585)\n",
      "Barfi 3 (1586)\n",
      "Barfi 3 (1587)\n",
      "Barfi 3 (1588)\n",
      "Barfi 3 (1589)\n",
      "Barfi 3 (159)\n",
      "Barfi 3 (1590)\n",
      "Barfi 3 (1591)\n",
      "Barfi 3 (1592)\n",
      "Barfi 3 (1593)\n"
     ]
    },
    {
     "name": "stderr",
     "output_type": "stream",
     "text": [
      "\r",
      " 12%|█████████                                                                   | 1394/11648 [00:15<01:06, 154.01it/s]"
     ]
    },
    {
     "name": "stdout",
     "output_type": "stream",
     "text": [
      "Barfi 3 (1594)\n",
      "Barfi 3 (1595)\n",
      "Barfi 3 (1596)\n",
      "Barfi 3 (1597)\n",
      "Barfi 3 (1598)\n",
      "Barfi 3 (1599)\n",
      "Barfi 3 (16)\n",
      "Barfi 3 (16)\n",
      "Barfi 3 (16)\n",
      "Barfi 3 (160)\n",
      "Barfi 3 (1600)\n",
      "Barfi 3 (1601)\n",
      "Barfi 3 (1602)\n",
      "Barfi 3 (1603)\n",
      "Barfi 3 (1604)\n",
      "Barfi 3 (1605)\n",
      "Barfi 3 (1606)\n"
     ]
    },
    {
     "name": "stderr",
     "output_type": "stream",
     "text": [
      "\r",
      " 12%|█████████▏                                                                  | 1411/11648 [00:15<01:11, 142.32it/s]"
     ]
    },
    {
     "name": "stdout",
     "output_type": "stream",
     "text": [
      "Barfi 3 (1607)\n",
      "Barfi 3 (1608)\n",
      "Barfi 3 (1609)\n",
      "Barfi 3 (161)\n",
      "Barfi 3 (1610)\n",
      "Barfi 3 (1611)\n",
      "Barfi 3 (1612)\n",
      "Barfi 3 (1613)\n",
      "Barfi 3 (1614)\n",
      "Barfi 3 (1615)\n",
      "Barfi 3 (1616)\n",
      "Barfi 3 (1617)\n",
      "Barfi 3 (1618)\n",
      "Barfi 3 (1619)\n",
      "Barfi 3 (162)\n",
      "Barfi 3 (1620)\n"
     ]
    },
    {
     "name": "stderr",
     "output_type": "stream",
     "text": [
      "\r",
      " 12%|█████████▎                                                                  | 1427/11648 [00:15<01:31, 111.87it/s]"
     ]
    },
    {
     "name": "stdout",
     "output_type": "stream",
     "text": [
      "Barfi 3 (1621)\n",
      "Barfi 3 (1622)\n",
      "Barfi 3 (1623)\n",
      "Barfi 3 (1624)\n",
      "Barfi 3 (1625)\n",
      "Barfi 3 (1626)\n",
      "Barfi 3 (1627)\n",
      "Barfi 3 (1628)\n",
      "Barfi 3 (1629)\n",
      "Barfi 3 (163)\n",
      "Barfi 3 (1630)\n",
      "Barfi 3 (1631)\n",
      "Barfi 3 (1632)\n"
     ]
    },
    {
     "name": "stderr",
     "output_type": "stream",
     "text": [
      "\r",
      " 12%|█████████▌                                                                   | 1440/11648 [00:15<01:47, 94.69it/s]"
     ]
    },
    {
     "name": "stdout",
     "output_type": "stream",
     "text": [
      "Barfi 3 (1633)\n",
      "Barfi 3 (1634)\n",
      "Barfi 3 (1635)\n",
      "Barfi 3 (1636)\n",
      "Barfi 3 (1637)\n",
      "Barfi 3 (1638)\n",
      "Barfi 3 (1639)\n",
      "Barfi 3 (164)\n",
      "Barfi 3 (1640)\n",
      "Barfi 3 (1641)\n",
      "Barfi 3 (1642)\n",
      "Barfi 3 (1643)\n"
     ]
    },
    {
     "name": "stderr",
     "output_type": "stream",
     "text": [
      "\r",
      " 12%|█████████▌                                                                   | 1452/11648 [00:16<05:20, 31.77it/s]"
     ]
    },
    {
     "name": "stdout",
     "output_type": "stream",
     "text": [
      "Barfi 3 (1644)\n",
      "Barfi 3 (1645)\n",
      "Barfi 3 (1646)\n",
      "Barfi 3 (1647)\n",
      "Barfi 3 (1648)\n",
      "Barfi 3 (1649)\n",
      "Barfi 3 (165)\n",
      "Barfi 3 (1650)\n",
      "Barfi 3 (1651)\n"
     ]
    },
    {
     "name": "stderr",
     "output_type": "stream",
     "text": [
      "\r",
      " 13%|█████████▋                                                                   | 1461/11648 [00:17<07:39, 22.17it/s]"
     ]
    },
    {
     "name": "stdout",
     "output_type": "stream",
     "text": [
      "Barfi 3 (1652)\n",
      "Barfi 3 (1653)\n",
      "Barfi 3 (1654)\n",
      "Barfi 3 (1655)\n",
      "Barfi 3 (1656)\n",
      "Barfi 3 (1657)\n",
      "Barfi 3 (1658)\n"
     ]
    },
    {
     "name": "stderr",
     "output_type": "stream",
     "text": [
      "\r",
      " 13%|█████████▋                                                                   | 1468/11648 [00:17<09:32, 17.78it/s]"
     ]
    },
    {
     "name": "stdout",
     "output_type": "stream",
     "text": [
      "Barfi 3 (1659)\n",
      "Barfi 3 (166)\n",
      "Barfi 3 (1660)\n",
      "Barfi 3 (1661)\n",
      "Barfi 3 (1662)\n"
     ]
    },
    {
     "name": "stderr",
     "output_type": "stream",
     "text": [
      "\r",
      " 13%|█████████▋                                                                   | 1473/11648 [00:18<10:10, 16.68it/s]"
     ]
    },
    {
     "name": "stdout",
     "output_type": "stream",
     "text": [
      "Barfi 3 (1663)\n",
      "Barfi 3 (1664)\n",
      "Barfi 3 (1665)\n",
      "Barfi 3 (1666)\n"
     ]
    },
    {
     "name": "stderr",
     "output_type": "stream",
     "text": [
      "\r",
      " 13%|█████████▊                                                                   | 1477/11648 [00:18<10:50, 15.64it/s]"
     ]
    },
    {
     "name": "stdout",
     "output_type": "stream",
     "text": [
      "Barfi 3 (1667)\n",
      "Barfi 3 (1668)\n",
      "Barfi 3 (1669)\n",
      "Barfi 3 (167)\n",
      "Barfi 3 (1670)\n",
      "Barfi 3 (1671)\n",
      "Barfi 3 (1672)\n",
      "Barfi 3 (1673)\n",
      "Barfi 3 (1674)\n",
      "Barfi 3 (1675)\n",
      "Barfi 3 (1676)\n",
      "Barfi 3 (1677)\n",
      "Barfi 3 (1678)\n",
      "Barfi 3 (1679)\n",
      "Barfi 3 (168)\n"
     ]
    },
    {
     "name": "stderr",
     "output_type": "stream",
     "text": [
      "\r",
      " 13%|█████████▊                                                                   | 1492/11648 [00:18<07:55, 21.34it/s]"
     ]
    },
    {
     "name": "stdout",
     "output_type": "stream",
     "text": [
      "Barfi 3 (1680)\n",
      "Barfi 3 (1681)\n",
      "Barfi 3 (1682)\n",
      "Barfi 3 (1683)\n",
      "Barfi 3 (1684)\n",
      "Barfi 3 (1685)\n",
      "Barfi 3 (1686)\n",
      "Barfi 3 (1687)\n",
      "Barfi 3 (1688)\n",
      "Barfi 3 (1689)\n",
      "Barfi 3 (169)\n",
      "Barfi 3 (1690)\n"
     ]
    },
    {
     "name": "stderr",
     "output_type": "stream",
     "text": [
      "\r",
      " 13%|█████████▉                                                                   | 1504/11648 [00:18<05:58, 28.31it/s]"
     ]
    },
    {
     "name": "stdout",
     "output_type": "stream",
     "text": [
      "Barfi 3 (1691)\n",
      "Barfi 3 (1692)\n",
      "Barfi 3 (1693)\n",
      "Barfi 3 (1694)\n",
      "Barfi 3 (1695)\n",
      "Barfi 3 (1696)\n",
      "Barfi 3 (1697)\n",
      "Barfi 3 (1698)\n",
      "Barfi 3 (1699)\n",
      "Barfi 3 (17)\n",
      "Barfi 3 (17)\n",
      "Barfi 3 (17)\n"
     ]
    },
    {
     "name": "stderr",
     "output_type": "stream",
     "text": [
      "\r",
      " 13%|██████████                                                                   | 1516/11648 [00:18<04:36, 36.60it/s]"
     ]
    },
    {
     "name": "stdout",
     "output_type": "stream",
     "text": [
      "Barfi 3 (170)\n",
      "Barfi 3 (1700)\n",
      "Barfi 3 (1701)\n",
      "Barfi 3 (1702)\n",
      "Barfi 3 (1703)\n",
      "Barfi 3 (1704)\n",
      "Barfi 3 (1705)\n",
      "Barfi 3 (1706)\n",
      "Barfi 3 (1707)\n",
      "Barfi 3 (1708)\n",
      "Barfi 3 (1709)\n",
      "Barfi 3 (171)\n",
      "Barfi 3 (1710)\n"
     ]
    },
    {
     "name": "stderr",
     "output_type": "stream",
     "text": [
      "\r",
      " 13%|██████████                                                                   | 1529/11648 [00:18<03:38, 46.28it/s]"
     ]
    },
    {
     "name": "stdout",
     "output_type": "stream",
     "text": [
      "Barfi 3 (1711)\n",
      "Barfi 3 (1712)\n",
      "Barfi 3 (1713)\n",
      "Barfi 3 (1714)\n",
      "Barfi 3 (1715)\n",
      "Barfi 3 (1716)\n",
      "Barfi 3 (1717)\n",
      "Barfi 3 (1718)\n",
      "Barfi 3 (1719)\n",
      "Barfi 3 (172)\n",
      "Barfi 3 (1720)\n",
      "Barfi 3 (1721)\n",
      "Barfi 3 (1722)\n",
      "Barfi 3 (1723)\n",
      "Barfi 3 (1724)\n"
     ]
    },
    {
     "name": "stderr",
     "output_type": "stream",
     "text": [
      "\r",
      " 13%|██████████▏                                                                  | 1544/11648 [00:19<02:53, 58.34it/s]"
     ]
    },
    {
     "name": "stdout",
     "output_type": "stream",
     "text": [
      "Barfi 3 (1725)\n",
      "Barfi 3 (1726)\n",
      "Barfi 3 (1727)\n",
      "Barfi 3 (1728)\n",
      "Barfi 3 (1729)\n",
      "Barfi 3 (173)\n",
      "Barfi 3 (1730)\n",
      "Barfi 3 (1731)\n",
      "Barfi 3 (1732)\n",
      "Barfi 3 (1733)\n",
      "Barfi 3 (1734)\n",
      "Barfi 3 (1735)\n",
      "Barfi 3 (1736)\n",
      "Barfi 3 (1737)\n",
      "Barfi 3 (1738)\n",
      "Barfi 3 (1739)\n"
     ]
    },
    {
     "name": "stderr",
     "output_type": "stream",
     "text": [
      "\r",
      " 13%|██████████▎                                                                  | 1560/11648 [00:19<02:20, 71.62it/s]"
     ]
    },
    {
     "name": "stdout",
     "output_type": "stream",
     "text": [
      "Barfi 3 (174)\n",
      "Barfi 3 (1740)\n",
      "Barfi 3 (1741)\n",
      "Barfi 3 (1742)\n",
      "Barfi 3 (1743)\n",
      "Barfi 3 (1744)\n",
      "Barfi 3 (1745)\n",
      "Barfi 3 (1746)\n",
      "Barfi 3 (1747)\n",
      "Barfi 3 (1748)\n",
      "Barfi 3 (1749)\n",
      "Barfi 3 (175)\n",
      "Barfi 3 (1750)\n",
      "Barfi 3 (1751)\n",
      "Barfi 3 (1752)\n",
      "Barfi 3 (1753)\n"
     ]
    },
    {
     "name": "stderr",
     "output_type": "stream",
     "text": [
      "\r",
      " 14%|██████████▍                                                                  | 1576/11648 [00:19<01:58, 84.79it/s]"
     ]
    },
    {
     "name": "stdout",
     "output_type": "stream",
     "text": [
      "Barfi 3 (1754)\n",
      "Barfi 3 (1755)\n",
      "Barfi 3 (1756)\n",
      "Barfi 3 (1757)\n",
      "Barfi 3 (1758)\n",
      "Barfi 3 (1759)\n",
      "Barfi 3 (176)\n",
      "Barfi 3 (1760)\n",
      "Barfi 3 (1761)\n",
      "Barfi 3 (1762)\n",
      "Barfi 3 (1763)\n",
      "Barfi 3 (1764)\n",
      "Barfi 3 (1765)\n",
      "Barfi 3 (1766)\n",
      "Barfi 3 (1767)\n",
      "Barfi 3 (1768)\n"
     ]
    },
    {
     "name": "stderr",
     "output_type": "stream",
     "text": [
      "\r",
      " 14%|██████████▌                                                                  | 1592/11648 [00:19<01:42, 98.04it/s]"
     ]
    },
    {
     "name": "stdout",
     "output_type": "stream",
     "text": [
      "Barfi 3 (1769)\n",
      "Barfi 3 (177)\n",
      "Barfi 3 (1770)\n",
      "Barfi 3 (1771)\n",
      "Barfi 3 (1772)\n",
      "Barfi 3 (1773)\n",
      "Barfi 3 (1774)\n",
      "Barfi 3 (1775)\n",
      "Barfi 3 (1776)\n",
      "Barfi 3 (1777)\n",
      "Barfi 3 (1778)\n",
      "Barfi 3 (1779)\n",
      "Barfi 3 (178)\n",
      "Barfi 3 (1780)\n",
      "Barfi 3 (1781)\n",
      "Barfi 3 (1782)\n",
      "Barfi 3 (1783)\n",
      "Barfi 3 (1784)\n",
      "Barfi 3 (1785)\n"
     ]
    },
    {
     "name": "stderr",
     "output_type": "stream",
     "text": [
      "\r",
      " 14%|██████████▌                                                                 | 1611/11648 [00:19<01:27, 114.33it/s]"
     ]
    },
    {
     "name": "stdout",
     "output_type": "stream",
     "text": [
      "Barfi 3 (1786)\n",
      "Barfi 3 (1787)\n",
      "Barfi 3 (1788)\n",
      "Barfi 3 (1789)\n",
      "Barfi 3 (179)\n",
      "Barfi 3 (1790)\n",
      "Barfi 3 (1791)\n",
      "Barfi 3 (1792)\n",
      "Barfi 3 (1793)\n",
      "Barfi 3 (1794)\n",
      "Barfi 3 (1795)\n",
      "Barfi 3 (1796)\n",
      "Barfi 3 (1797)\n",
      "Barfi 3 (1798)\n",
      "Barfi 3 (1799)\n",
      "Barfi 3 (18)\n"
     ]
    },
    {
     "name": "stderr",
     "output_type": "stream",
     "text": [
      "\r",
      " 14%|██████████▌                                                                 | 1627/11648 [00:19<01:27, 114.90it/s]"
     ]
    },
    {
     "name": "stdout",
     "output_type": "stream",
     "text": [
      "Barfi 3 (18)\n",
      "Barfi 3 (18)\n",
      "Barfi 3 (180)\n",
      "Barfi 3 (1800)\n",
      "Barfi 3 (1801)\n",
      "Barfi 3 (1802)\n",
      "Barfi 3 (1803)\n",
      "Barfi 3 (1804)\n",
      "Barfi 3 (1805)\n",
      "Barfi 3 (1806)\n",
      "Barfi 3 (1807)\n",
      "Barfi 3 (1808)\n",
      "Barfi 3 (1809)\n",
      "Barfi 3 (181)\n",
      "Barfi 3 (1810)\n",
      "Barfi 3 (1811)\n",
      "Barfi 3 (1812)\n",
      "Barfi 3 (1813)\n"
     ]
    },
    {
     "name": "stderr",
     "output_type": "stream",
     "text": [
      "\r",
      " 14%|██████████▋                                                                 | 1645/11648 [00:19<01:17, 128.41it/s]"
     ]
    },
    {
     "name": "stdout",
     "output_type": "stream",
     "text": [
      "Barfi 3 (1814)\n",
      "Barfi 3 (1815)\n",
      "Barfi 3 (1816)\n",
      "Barfi 3 (1817)\n",
      "Barfi 3 (1818)\n",
      "Barfi 3 (1819)\n",
      "Barfi 3 (182)\n",
      "Barfi 3 (1820)\n",
      "Barfi 3 (1821)\n",
      "Barfi 3 (1822)\n",
      "Barfi 3 (1823)\n",
      "Barfi 3 (1824)\n",
      "Barfi 3 (1825)\n",
      "Barfi 3 (1826)\n",
      "Barfi 3 (1827)\n",
      "Barfi 3 (1828)\n",
      "Barfi 3 (1829)\n",
      "Barfi 3 (183)\n",
      "Barfi 3 (1830)\n",
      "Barfi 3 (1831)\n",
      "Barfi 3 (1832)\n",
      "Barfi 3 (1833)\n"
     ]
    },
    {
     "name": "stderr",
     "output_type": "stream",
     "text": [
      "\r",
      " 14%|██████████▉                                                                 | 1667/11648 [00:19<01:08, 146.23it/s]"
     ]
    },
    {
     "name": "stdout",
     "output_type": "stream",
     "text": [
      "Barfi 3 (1834)\n",
      "Barfi 3 (1835)\n",
      "Barfi 3 (1836)\n",
      "Barfi 3 (1837)\n",
      "Barfi 3 (1838)\n",
      "Barfi 3 (1839)\n",
      "Barfi 3 (184)\n",
      "Barfi 3 (1840)\n",
      "Barfi 3 (1841)\n",
      "Barfi 3 (1842)\n",
      "Barfi 3 (1843)\n",
      "Barfi 3 (1844)\n",
      "Barfi 3 (1845)\n",
      "Barfi 3 (1846)\n",
      "Barfi 3 (1847)\n",
      "Barfi 3 (1848)\n",
      "Barfi 3 (1849)\n",
      "Barfi 3 (185)\n",
      "Barfi 3 (1850)\n",
      "Barfi 3 (1851)\n",
      "Barfi 3 (1852)\n",
      "Barfi 3 (1853)\n"
     ]
    },
    {
     "name": "stderr",
     "output_type": "stream",
     "text": [
      "\r",
      " 15%|███████████                                                                 | 1689/11648 [00:19<01:02, 160.55it/s]"
     ]
    },
    {
     "name": "stdout",
     "output_type": "stream",
     "text": [
      "Barfi 3 (1854)\n",
      "Barfi 3 (1855)\n",
      "Barfi 3 (1856)\n",
      "Barfi 3 (1857)\n",
      "Barfi 3 (1858)\n",
      "Barfi 3 (1859)\n",
      "Barfi 3 (186)\n",
      "Barfi 3 (1860)\n",
      "Barfi 3 (1861)\n",
      "Barfi 3 (1862)\n",
      "Barfi 3 (1863)\n",
      "Barfi 3 (1864)\n",
      "Barfi 3 (1865)\n",
      "Barfi 3 (1866)\n",
      "Barfi 3 (1867)\n",
      "Barfi 3 (1868)\n",
      "Barfi 3 (1869)\n",
      "Barfi 3 (187)\n",
      "Barfi 3 (1870)\n"
     ]
    },
    {
     "name": "stderr",
     "output_type": "stream",
     "text": [
      "\r",
      " 15%|███████████▏                                                                | 1708/11648 [00:20<01:01, 161.23it/s]"
     ]
    },
    {
     "name": "stdout",
     "output_type": "stream",
     "text": [
      "Barfi 3 (1871)\n",
      "Barfi 3 (1872)\n",
      "Barfi 3 (1873)\n",
      "Barfi 3 (1874)\n",
      "Barfi 3 (1875)\n",
      "Barfi 3 (1876)\n",
      "Barfi 3 (1877)\n",
      "Barfi 3 (1878)\n",
      "Barfi 3 (1879)\n",
      "Barfi 3 (188)\n",
      "Barfi 3 (1880)\n",
      "Barfi 3 (1881)\n",
      "Barfi 3 (1882)\n",
      "Barfi 3 (1883)\n",
      "Barfi 3 (1884)\n",
      "Barfi 3 (1885)\n",
      "Barfi 3 (1886)\n",
      "Barfi 3 (1887)\n"
     ]
    },
    {
     "name": "stderr",
     "output_type": "stream",
     "text": [
      "\r",
      " 15%|███████████▎                                                                | 1726/11648 [00:20<01:00, 162.95it/s]"
     ]
    },
    {
     "name": "stdout",
     "output_type": "stream",
     "text": [
      "Barfi 3 (1888)\n",
      "Barfi 3 (1889)\n",
      "Barfi 3 (189)\n",
      "Barfi 3 (1890)\n",
      "Barfi 3 (1891)\n",
      "Barfi 3 (1892)\n",
      "Barfi 3 (19)\n",
      "Barfi 3 (19)\n",
      "Barfi 3 (190)\n",
      "Barfi 3 (191)\n",
      "Barfi 3 (192)\n",
      "Barfi 3 (193)\n",
      "Barfi 3 (194)\n",
      "Barfi 3 (195)\n",
      "Barfi 3 (196)\n",
      "Barfi 3 (197)\n",
      "Barfi 3 (198)\n",
      "Barfi 3 (199)\n"
     ]
    },
    {
     "name": "stderr",
     "output_type": "stream",
     "text": [
      "\r",
      " 15%|███████████▍                                                                | 1744/11648 [00:20<01:02, 157.72it/s]"
     ]
    },
    {
     "name": "stdout",
     "output_type": "stream",
     "text": [
      "Barfi 3 (2)\n",
      "Barfi 3 (2)\n",
      "Barfi 3 (20)\n",
      "Barfi 3 (20)\n",
      "Barfi 3 (200)\n",
      "Barfi 3 (201)\n",
      "Barfi 3 (202)\n",
      "Barfi 3 (203)\n",
      "Barfi 3 (204)\n",
      "Barfi 3 (205)\n",
      "Barfi 3 (206)\n",
      "Barfi 3 (207)\n",
      "Barfi 3 (208)\n",
      "Barfi 3 (209)\n",
      "Barfi 3 (21)\n",
      "Barfi 3 (21)\n",
      "Barfi 3 (210)\n"
     ]
    },
    {
     "name": "stderr",
     "output_type": "stream",
     "text": [
      "\r",
      " 15%|███████████▍                                                                | 1761/11648 [00:20<01:09, 141.98it/s]"
     ]
    },
    {
     "name": "stdout",
     "output_type": "stream",
     "text": [
      "Barfi 3 (211)\n",
      "Barfi 3 (212)\n",
      "Barfi 3 (213)\n",
      "Barfi 3 (214)\n",
      "Barfi 3 (215)\n",
      "Barfi 3 (216)\n",
      "Barfi 3 (217)\n",
      "Barfi 3 (218)\n",
      "Barfi 3 (219)\n",
      "Barfi 3 (22)\n",
      "Barfi 3 (22)\n",
      "Barfi 3 (220)\n",
      "Barfi 3 (221)\n",
      "Barfi 3 (222)\n",
      "Barfi 3 (223)\n",
      "Barfi 3 (224)\n",
      "Barfi 3 (225)\n",
      "Barfi 3 (226)\n"
     ]
    },
    {
     "name": "stderr",
     "output_type": "stream",
     "text": [
      "\r",
      " 15%|███████████▌                                                                | 1779/11648 [00:20<01:05, 150.18it/s]"
     ]
    },
    {
     "name": "stdout",
     "output_type": "stream",
     "text": [
      "Barfi 3 (227)\n",
      "Barfi 3 (228)\n",
      "Barfi 3 (229)\n",
      "Barfi 3 (23)\n",
      "Barfi 3 (23)\n",
      "Barfi 3 (230)\n",
      "Barfi 3 (231)\n",
      "Barfi 3 (232)\n",
      "Barfi 3 (233)\n",
      "Barfi 3 (234)\n",
      "Barfi 3 (235)\n",
      "Barfi 3 (236)\n",
      "Barfi 3 (237)\n",
      "Barfi 3 (238)\n",
      "Barfi 3 (239)\n",
      "Barfi 3 (24)\n",
      "Barfi 3 (24)\n"
     ]
    },
    {
     "name": "stderr",
     "output_type": "stream",
     "text": [
      "\r",
      " 15%|███████████▋                                                                | 1796/11648 [00:20<01:07, 146.87it/s]"
     ]
    },
    {
     "name": "stdout",
     "output_type": "stream",
     "text": [
      "Barfi 3 (240)\n",
      "Barfi 3 (241)\n",
      "Barfi 3 (242)\n",
      "Barfi 3 (243)\n",
      "Barfi 3 (244)\n",
      "Barfi 3 (245)\n",
      "Barfi 3 (246)\n",
      "Barfi 3 (247)\n",
      "Barfi 3 (248)\n",
      "Barfi 3 (249)\n",
      "Barfi 3 (25)\n",
      "Barfi 3 (25)\n",
      "Barfi 3 (250)\n",
      "Barfi 3 (251)\n",
      "Barfi 3 (252)\n",
      "Barfi 3 (253)\n",
      "Barfi 3 (254)\n",
      "Barfi 3 (255)\n",
      "Barfi 3 (256)\n",
      "Barfi 3 (257)\n"
     ]
    },
    {
     "name": "stderr",
     "output_type": "stream",
     "text": [
      "\r",
      " 16%|███████████▊                                                                | 1816/11648 [00:20<01:02, 158.19it/s]"
     ]
    },
    {
     "name": "stdout",
     "output_type": "stream",
     "text": [
      "Barfi 3 (258)\n",
      "Barfi 3 (259)\n",
      "Barfi 3 (26)\n",
      "Barfi 3 (26)\n",
      "Barfi 3 (260)\n",
      "Barfi 3 (261)\n",
      "Barfi 3 (262)\n",
      "Barfi 3 (263)\n",
      "Barfi 3 (264)\n",
      "Barfi 3 (265)\n",
      "Barfi 3 (266)\n",
      "Barfi 3 (267)\n",
      "Barfi 3 (268)\n",
      "Barfi 3 (269)\n",
      "Barfi 3 (27)\n",
      "Barfi 3 (27)\n",
      "Barfi 3 (270)\n"
     ]
    },
    {
     "name": "stderr",
     "output_type": "stream",
     "text": [
      "\r",
      " 16%|███████████▉                                                                | 1833/11648 [00:20<01:09, 140.84it/s]"
     ]
    },
    {
     "name": "stdout",
     "output_type": "stream",
     "text": [
      "Barfi 3 (271)\n",
      "Barfi 3 (272)\n",
      "Barfi 3 (273)\n",
      "Barfi 3 (274)\n",
      "Barfi 3 (275)\n",
      "Barfi 3 (276)\n",
      "Barfi 3 (277)\n",
      "Barfi 3 (278)\n",
      "Barfi 3 (279)\n",
      "Barfi 3 (28)\n",
      "Barfi 3 (28)\n",
      "Barfi 3 (280)\n",
      "Barfi 3 (281)\n",
      "Barfi 3 (282)\n",
      "Barfi 3 (283)\n"
     ]
    },
    {
     "name": "stderr",
     "output_type": "stream",
     "text": [
      "\r",
      " 16%|████████████                                                                | 1848/11648 [00:21<01:25, 115.20it/s]"
     ]
    },
    {
     "name": "stdout",
     "output_type": "stream",
     "text": [
      "Barfi 3 (284)\n",
      "Barfi 3 (285)\n",
      "Barfi 3 (286)\n",
      "Barfi 3 (287)\n",
      "Barfi 3 (288)\n",
      "Barfi 3 (289)\n",
      "Barfi 3 (29)\n",
      "Barfi 3 (29)\n",
      "Barfi 3 (290)\n",
      "Barfi 3 (291)\n",
      "Barfi 3 (292)\n",
      "Barfi 3 (293)\n",
      "Barfi 3 (294)\n"
     ]
    },
    {
     "name": "stderr",
     "output_type": "stream",
     "text": [
      "\r",
      " 16%|████████████▏                                                               | 1861/11648 [00:21<01:30, 107.81it/s]"
     ]
    },
    {
     "name": "stdout",
     "output_type": "stream",
     "text": [
      "Barfi 3 (295)\n",
      "Barfi 3 (296)\n",
      "Barfi 3 (297)\n",
      "Barfi 3 (298)\n",
      "Barfi 3 (299)\n",
      "Barfi 3 (3)\n",
      "Barfi 3 (3)\n",
      "Barfi 3 (3)\n",
      "Barfi 3 (30)\n",
      "Barfi 3 (30)\n",
      "Barfi 3 (300)\n",
      "Barfi 3 (301)\n"
     ]
    },
    {
     "name": "stderr",
     "output_type": "stream",
     "text": [
      "\r",
      " 16%|████████████▏                                                               | 1873/11648 [00:21<01:29, 108.86it/s]"
     ]
    },
    {
     "name": "stdout",
     "output_type": "stream",
     "text": [
      "Barfi 3 (302)\n",
      "Barfi 3 (303)\n",
      "Barfi 3 (304)\n",
      "Barfi 3 (305)\n",
      "Barfi 3 (306)\n",
      "Barfi 3 (307)\n",
      "Barfi 3 (308)\n",
      "Barfi 3 (309)\n",
      "Barfi 3 (31)\n",
      "Barfi 3 (31)\n",
      "Barfi 3 (310)\n",
      "Barfi 3 (311)\n"
     ]
    },
    {
     "name": "stderr",
     "output_type": "stream",
     "text": [
      "\r",
      " 16%|████████████▎                                                               | 1885/11648 [00:21<01:27, 111.76it/s]"
     ]
    },
    {
     "name": "stdout",
     "output_type": "stream",
     "text": [
      "Barfi 3 (312)\n",
      "Barfi 3 (313)\n",
      "Barfi 3 (314)\n",
      "Barfi 3 (315)\n",
      "Barfi 3 (316)\n",
      "Barfi 3 (317)\n",
      "Barfi 3 (318)\n",
      "Barfi 3 (319)\n",
      "Barfi 3 (32)\n",
      "Barfi 3 (32)\n",
      "Barfi 3 (320)\n",
      "Barfi 3 (321)\n"
     ]
    },
    {
     "name": "stderr",
     "output_type": "stream",
     "text": [
      "\r",
      " 16%|████████████▍                                                               | 1897/11648 [00:21<01:28, 110.42it/s]"
     ]
    },
    {
     "name": "stdout",
     "output_type": "stream",
     "text": [
      "Barfi 3 (322)\n",
      "Barfi 3 (323)\n",
      "Barfi 3 (324)\n",
      "Barfi 3 (325)\n",
      "Barfi 3 (326)\n",
      "Barfi 3 (327)\n",
      "Barfi 3 (328)\n",
      "Barfi 3 (329)\n",
      "Barfi 3 (33)\n",
      "Barfi 3 (33)\n",
      "Barfi 3 (330)\n",
      "Barfi 3 (331)\n",
      "Barfi 3 (332)\n",
      "Barfi 3 (333)\n",
      "Barfi 3 (334)\n",
      "Barfi 3 (335)\n",
      "Barfi 3 (336)\n"
     ]
    },
    {
     "name": "stderr",
     "output_type": "stream",
     "text": [
      "\r",
      " 16%|████████████▍                                                               | 1914/11648 [00:21<01:19, 121.88it/s]"
     ]
    },
    {
     "name": "stdout",
     "output_type": "stream",
     "text": [
      "Barfi 3 (337)\n",
      "Barfi 3 (338)\n",
      "Barfi 3 (339)\n",
      "Barfi 3 (34)\n",
      "Barfi 3 (34)\n",
      "Barfi 3 (340)\n",
      "Barfi 3 (341)\n",
      "Barfi 3 (342)\n",
      "Barfi 3 (343)\n",
      "Barfi 3 (344)\n",
      "Barfi 3 (345)\n",
      "Barfi 3 (346)\n",
      "Barfi 3 (347)\n",
      "Barfi 3 (348)\n",
      "Barfi 3 (349)\n",
      "Barfi 3 (35)\n",
      "Barfi 3 (35)\n",
      "Barfi 3 (350)\n",
      "Barfi 3 (351)\n"
     ]
    },
    {
     "name": "stderr",
     "output_type": "stream",
     "text": [
      "\r",
      " 17%|████████████▌                                                               | 1933/11648 [00:21<01:11, 135.48it/s]"
     ]
    },
    {
     "name": "stdout",
     "output_type": "stream",
     "text": [
      "Barfi 3 (352)\n",
      "Barfi 3 (353)\n",
      "Barfi 3 (354)\n",
      "Barfi 3 (355)\n",
      "Barfi 3 (356)\n",
      "Barfi 3 (357)\n",
      "Barfi 3 (358)\n",
      "Barfi 3 (359)\n",
      "Barfi 3 (36)\n",
      "Barfi 3 (36)\n",
      "Barfi 3 (360)\n",
      "Barfi 3 (361)\n",
      "Barfi 3 (362)\n",
      "Barfi 3 (363)\n",
      "Barfi 3 (364)\n",
      "Barfi 3 (365)\n",
      "Barfi 3 (366)\n",
      "Barfi 3 (367)\n",
      "Barfi 3 (368)\n",
      "Barfi 3 (369)\n",
      "Barfi 3 (37)\n"
     ]
    },
    {
     "name": "stderr",
     "output_type": "stream",
     "text": [
      "\r",
      " 17%|████████████▋                                                               | 1954/11648 [00:21<01:04, 150.41it/s]"
     ]
    },
    {
     "name": "stdout",
     "output_type": "stream",
     "text": [
      "Barfi 3 (37)\n",
      "Barfi 3 (370)\n",
      "Barfi 3 (371)\n",
      "Barfi 3 (372)\n",
      "Barfi 3 (373)\n",
      "Barfi 3 (374)\n",
      "Barfi 3 (375)\n",
      "Barfi 3 (376)\n",
      "Barfi 3 (377)\n",
      "Barfi 3 (378)\n",
      "Barfi 3 (379)\n",
      "Barfi 3 (38)\n",
      "Barfi 3 (38)\n",
      "Barfi 3 (380)\n",
      "Barfi 3 (381)\n",
      "Barfi 3 (382)\n",
      "Barfi 3 (383)\n",
      "Barfi 3 (384)\n",
      "Barfi 3 (385)\n",
      "Barfi 3 (386)\n",
      "Barfi 3 (387)\n"
     ]
    },
    {
     "name": "stderr",
     "output_type": "stream",
     "text": [
      "\r",
      " 17%|████████████▉                                                               | 1975/11648 [00:21<00:59, 163.36it/s]"
     ]
    },
    {
     "name": "stdout",
     "output_type": "stream",
     "text": [
      "Barfi 3 (388)\n",
      "Barfi 3 (389)\n",
      "Barfi 3 (39)\n",
      "Barfi 3 (39)\n",
      "Barfi 3 (390)\n",
      "Barfi 3 (391)\n",
      "Barfi 3 (392)\n",
      "Barfi 3 (393)\n",
      "Barfi 3 (394)\n",
      "Barfi 3 (395)\n",
      "Barfi 3 (396)\n",
      "Barfi 3 (397)\n",
      "Barfi 3 (398)\n",
      "Barfi 3 (399)\n",
      "Barfi 3 (4)\n",
      "Barfi 3 (4)\n",
      "Barfi 3 (4)\n",
      "Barfi 3 (40)\n"
     ]
    },
    {
     "name": "stderr",
     "output_type": "stream",
     "text": [
      "\r",
      " 17%|█████████████                                                               | 1993/11648 [00:22<00:58, 164.02it/s]"
     ]
    },
    {
     "name": "stdout",
     "output_type": "stream",
     "text": [
      "Barfi 3 (40)\n",
      "Barfi 3 (400)\n",
      "Barfi 3 (401)\n",
      "Barfi 3 (402)\n",
      "Barfi 3 (403)\n",
      "Barfi 3 (404)\n",
      "Barfi 3 (405)\n",
      "Barfi 3 (406)\n",
      "Barfi 3 (407)\n",
      "Barfi 3 (408)\n",
      "Barfi 3 (409)\n",
      "Barfi 3 (41)\n",
      "Barfi 3 (41)\n",
      "Barfi 3 (410)\n",
      "Barfi 3 (411)\n",
      "Barfi 3 (412)\n",
      "Barfi 3 (413)\n",
      "Barfi 3 (414)\n",
      "Barfi 3 (415)\n",
      "Barfi 3 (416)\n",
      "Barfi 3 (417)\n",
      "Barfi 3 (418)\n",
      "Barfi 3 (419)\n"
     ]
    },
    {
     "name": "stderr",
     "output_type": "stream",
     "text": [
      "\r",
      " 17%|█████████████▏                                                              | 2016/11648 [00:22<00:54, 177.91it/s]"
     ]
    },
    {
     "name": "stdout",
     "output_type": "stream",
     "text": [
      "Barfi 3 (42)\n",
      "Barfi 3 (42)\n",
      "Barfi 3 (420)\n",
      "Barfi 3 (421)\n",
      "Barfi 3 (422)\n",
      "Barfi 3 (423)\n",
      "Barfi 3 (424)\n",
      "Barfi 3 (425)\n",
      "Barfi 3 (426)\n",
      "Barfi 3 (427)\n",
      "Barfi 3 (428)\n",
      "Barfi 3 (429)\n",
      "Barfi 3 (43)\n",
      "Barfi 3 (43)\n",
      "Barfi 3 (430)\n",
      "Barfi 3 (431)\n",
      "Barfi 3 (432)\n",
      "Barfi 3 (433)\n",
      "Barfi 3 (434)\n",
      "Barfi 3 (435)\n",
      "Barfi 3 (436)\n"
     ]
    },
    {
     "name": "stderr",
     "output_type": "stream",
     "text": [
      "\r",
      " 17%|█████████████▎                                                              | 2037/11648 [00:22<00:52, 184.13it/s]"
     ]
    },
    {
     "name": "stdout",
     "output_type": "stream",
     "text": [
      "Barfi 3 (437)\n",
      "Barfi 3 (438)\n",
      "Barfi 3 (439)\n",
      "Barfi 3 (44)\n",
      "Barfi 3 (44)\n",
      "Barfi 3 (440)\n",
      "Barfi 3 (441)\n",
      "Barfi 3 (442)\n",
      "Barfi 3 (443)\n",
      "Barfi 3 (444)\n",
      "Barfi 3 (445)\n",
      "Barfi 3 (446)\n",
      "Barfi 3 (447)\n",
      "Barfi 3 (448)\n",
      "Barfi 3 (449)\n",
      "Barfi 3 (45)\n",
      "Barfi 3 (45)\n",
      "Barfi 3 (450)\n",
      "Barfi 3 (451)\n",
      "Barfi 3 (452)\n"
     ]
    },
    {
     "name": "stderr",
     "output_type": "stream",
     "text": [
      "\r",
      " 18%|█████████████▍                                                              | 2057/11648 [00:22<00:52, 183.59it/s]"
     ]
    },
    {
     "name": "stdout",
     "output_type": "stream",
     "text": [
      "Barfi 3 (453)\n",
      "Barfi 3 (454)\n",
      "Barfi 3 (455)\n",
      "Barfi 3 (456)\n",
      "Barfi 3 (457)\n",
      "Barfi 3 (458)\n",
      "Barfi 3 (459)\n",
      "Barfi 3 (46)\n",
      "Barfi 3 (46)\n",
      "Barfi 3 (460)\n",
      "Barfi 3 (461)\n",
      "Barfi 3 (462)\n",
      "Barfi 3 (463)\n",
      "Barfi 3 (464)\n",
      "Barfi 3 (465)\n",
      "Barfi 3 (466)\n",
      "Barfi 3 (467)\n",
      "Barfi 3 (468)\n",
      "Barfi 3 (469)\n",
      "Barfi 3 (47)\n"
     ]
    },
    {
     "name": "stderr",
     "output_type": "stream",
     "text": [
      "\r",
      " 18%|█████████████▌                                                              | 2077/11648 [00:22<00:51, 185.75it/s]"
     ]
    },
    {
     "name": "stdout",
     "output_type": "stream",
     "text": [
      "Barfi 3 (47)\n",
      "Barfi 3 (470)\n",
      "Barfi 3 (471)\n",
      "Barfi 3 (472)\n",
      "Barfi 3 (473)\n",
      "Barfi 3 (474)\n",
      "Barfi 3 (475)\n",
      "Barfi 3 (476)\n",
      "Barfi 3 (477)\n",
      "Barfi 3 (478)\n",
      "Barfi 3 (479)\n",
      "Barfi 3 (48)\n",
      "Barfi 3 (48)\n",
      "Barfi 3 (480)\n",
      "Barfi 3 (481)\n",
      "Barfi 3 (482)\n",
      "Barfi 3 (483)\n",
      "Barfi 3 (484)\n",
      "Barfi 3 (485)\n"
     ]
    },
    {
     "name": "stderr",
     "output_type": "stream",
     "text": [
      "\r",
      " 18%|█████████████▋                                                              | 2096/11648 [00:22<00:51, 184.97it/s]"
     ]
    },
    {
     "name": "stdout",
     "output_type": "stream",
     "text": [
      "Barfi 3 (486)\n",
      "Barfi 3 (487)\n",
      "Barfi 3 (488)\n",
      "Barfi 3 (489)\n",
      "Barfi 3 (49)\n",
      "Barfi 3 (49)\n",
      "Barfi 3 (490)\n",
      "Barfi 3 (491)\n",
      "Barfi 3 (492)\n",
      "Barfi 3 (493)\n",
      "Barfi 3 (494)\n",
      "Barfi 3 (495)\n",
      "Barfi 3 (496)\n",
      "Barfi 3 (497)\n",
      "Barfi 3 (498)\n",
      "Barfi 3 (499)\n",
      "Barfi 3 (5)\n",
      "Barfi 3 (5)\n",
      "Barfi 3 (5)\n"
     ]
    },
    {
     "name": "stderr",
     "output_type": "stream",
     "text": [
      "\r",
      " 18%|█████████████▊                                                              | 2115/11648 [00:22<00:58, 163.94it/s]"
     ]
    },
    {
     "name": "stdout",
     "output_type": "stream",
     "text": [
      "Barfi 3 (50)\n",
      "Barfi 3 (50)\n",
      "Barfi 3 (500)\n",
      "Barfi 3 (501)\n",
      "Barfi 3 (502)\n",
      "Barfi 3 (503)\n",
      "Barfi 3 (504)\n",
      "Barfi 3 (505)\n",
      "Barfi 3 (506)\n",
      "Barfi 3 (507)\n",
      "Barfi 3 (508)\n",
      "Barfi 3 (509)\n",
      "Barfi 3 (51)\n",
      "Barfi 3 (51)\n",
      "Barfi 3 (510)\n",
      "Barfi 3 (511)\n",
      "Barfi 3 (512)\n",
      "Barfi 3 (513)\n"
     ]
    },
    {
     "name": "stderr",
     "output_type": "stream",
     "text": [
      "\r",
      " 18%|█████████████▉                                                              | 2133/11648 [00:22<01:06, 143.29it/s]"
     ]
    },
    {
     "name": "stdout",
     "output_type": "stream",
     "text": [
      "Barfi 3 (514)\n",
      "Barfi 3 (515)\n",
      "Barfi 3 (516)\n",
      "Barfi 3 (517)\n",
      "Barfi 3 (518)\n",
      "Barfi 3 (519)\n",
      "Barfi 3 (52)\n",
      "Barfi 3 (52)\n",
      "Barfi 3 (520)\n",
      "Barfi 3 (521)\n",
      "Barfi 3 (522)\n",
      "Barfi 3 (523)\n",
      "Barfi 3 (524)\n",
      "Barfi 3 (525)\n",
      "Barfi 3 (526)\n",
      "Barfi 3 (527)\n"
     ]
    },
    {
     "name": "stderr",
     "output_type": "stream",
     "text": [
      "\r",
      " 18%|██████████████                                                              | 2149/11648 [00:22<01:05, 144.05it/s]"
     ]
    },
    {
     "name": "stdout",
     "output_type": "stream",
     "text": [
      "Barfi 3 (528)\n",
      "Barfi 3 (529)\n",
      "Barfi 3 (53)\n",
      "Barfi 3 (53)\n",
      "Barfi 3 (530)\n",
      "Barfi 3 (531)\n",
      "Barfi 3 (532)\n",
      "Barfi 3 (533)\n",
      "Barfi 3 (534)\n",
      "Barfi 3 (535)\n",
      "Barfi 3 (536)\n",
      "Barfi 3 (537)\n",
      "Barfi 3 (538)\n",
      "Barfi 3 (539)\n",
      "Barfi 3 (54)\n",
      "Barfi 3 (54)\n"
     ]
    },
    {
     "name": "stderr",
     "output_type": "stream",
     "text": [
      "\r",
      " 19%|██████████████▏                                                             | 2165/11648 [00:23<01:07, 141.15it/s]"
     ]
    },
    {
     "name": "stdout",
     "output_type": "stream",
     "text": [
      "Barfi 3 (540)\n",
      "Barfi 3 (541)\n",
      "Barfi 3 (542)\n",
      "Barfi 3 (543)\n",
      "Barfi 3 (544)\n",
      "Barfi 3 (545)\n",
      "Barfi 3 (546)\n",
      "Barfi 3 (547)\n",
      "Barfi 3 (548)\n",
      "Barfi 3 (549)\n",
      "Barfi 3 (55)\n",
      "Barfi 3 (55)\n",
      "Barfi 3 (550)\n",
      "Barfi 3 (551)\n",
      "Barfi 3 (552)\n"
     ]
    },
    {
     "name": "stderr",
     "output_type": "stream",
     "text": [
      "\r",
      " 19%|██████████████▏                                                             | 2180/11648 [00:23<01:10, 134.54it/s]"
     ]
    },
    {
     "name": "stdout",
     "output_type": "stream",
     "text": [
      "Barfi 3 (553)\n",
      "Barfi 3 (554)\n",
      "Barfi 3 (555)\n",
      "Barfi 3 (556)\n",
      "Barfi 3 (557)\n",
      "Barfi 3 (558)\n",
      "Barfi 3 (559)\n",
      "Barfi 3 (56)\n",
      "Barfi 3 (56)\n",
      "Barfi 3 (560)\n",
      "Barfi 3 (561)\n",
      "Barfi 3 (562)\n",
      "Barfi 3 (563)\n",
      "Barfi 3 (564)\n"
     ]
    },
    {
     "name": "stderr",
     "output_type": "stream",
     "text": [
      "\r",
      " 19%|██████████████▎                                                             | 2194/11648 [00:23<01:15, 124.96it/s]"
     ]
    },
    {
     "name": "stdout",
     "output_type": "stream",
     "text": [
      "Barfi 3 (565)\n",
      "Barfi 3 (566)\n",
      "Barfi 3 (567)\n",
      "Barfi 3 (568)\n",
      "Barfi 3 (569)\n",
      "Barfi 3 (57)\n",
      "Barfi 3 (57)\n",
      "Barfi 3 (570)\n",
      "Barfi 3 (571)\n",
      "Barfi 3 (572)\n",
      "Barfi 3 (573)\n",
      "Barfi 3 (574)\n",
      "Barfi 3 (575)\n"
     ]
    },
    {
     "name": "stderr",
     "output_type": "stream",
     "text": [
      "\r",
      " 19%|██████████████▍                                                             | 2207/11648 [00:23<01:27, 107.44it/s]"
     ]
    },
    {
     "name": "stdout",
     "output_type": "stream",
     "text": [
      "Barfi 3 (576)\n",
      "Barfi 3 (577)\n",
      "Barfi 3 (578)\n",
      "Barfi 3 (579)\n",
      "Barfi 3 (58)\n",
      "Barfi 3 (58)\n",
      "Barfi 3 (580)\n",
      "Barfi 3 (581)\n",
      "Barfi 3 (582)\n",
      "Barfi 3 (583)\n",
      "Barfi 3 (584)\n",
      "Barfi 3 (585)\n"
     ]
    },
    {
     "name": "stderr",
     "output_type": "stream",
     "text": [
      "\r",
      " 19%|██████████████▋                                                              | 2219/11648 [00:23<01:36, 97.51it/s]"
     ]
    },
    {
     "name": "stdout",
     "output_type": "stream",
     "text": [
      "Barfi 3 (586)\n",
      "Barfi 3 (587)\n",
      "Barfi 3 (588)\n",
      "Barfi 3 (589)\n",
      "Barfi 3 (59)\n",
      "Barfi 3 (59)\n",
      "Barfi 3 (590)\n",
      "Barfi 3 (591)\n",
      "Barfi 3 (592)\n",
      "Barfi 3 (593)\n",
      "Barfi 3 (594)\n"
     ]
    },
    {
     "name": "stderr",
     "output_type": "stream",
     "text": [
      "\r",
      " 19%|██████████████▋                                                              | 2230/11648 [00:23<01:43, 91.02it/s]"
     ]
    },
    {
     "name": "stdout",
     "output_type": "stream",
     "text": [
      "Barfi 3 (595)\n",
      "Barfi 3 (596)\n",
      "Barfi 3 (597)\n",
      "Barfi 3 (598)\n",
      "Barfi 3 (599)\n",
      "Barfi 3 (6)\n",
      "Barfi 3 (6)\n",
      "Barfi 3 (6)\n",
      "Barfi 3 (60)\n",
      "Barfi 3 (60)\n"
     ]
    },
    {
     "name": "stderr",
     "output_type": "stream",
     "text": [
      "\r",
      " 19%|██████████████▊                                                              | 2240/11648 [00:23<01:41, 92.31it/s]"
     ]
    },
    {
     "name": "stdout",
     "output_type": "stream",
     "text": [
      "Barfi 3 (600)\n",
      "Barfi 3 (601)\n",
      "Barfi 3 (602)\n",
      "Barfi 3 (603)\n",
      "Barfi 3 (604)\n",
      "Barfi 3 (605)\n",
      "Barfi 3 (606)\n",
      "Barfi 3 (607)\n",
      "Barfi 3 (608)\n",
      "Barfi 3 (609)\n",
      "Barfi 3 (61)\n",
      "Barfi 3 (61)\n"
     ]
    },
    {
     "name": "stderr",
     "output_type": "stream",
     "text": [
      "\r",
      " 19%|██████████████▉                                                              | 2252/11648 [00:24<01:35, 98.03it/s]"
     ]
    },
    {
     "name": "stdout",
     "output_type": "stream",
     "text": [
      "Barfi 3 (610)\n",
      "Barfi 3 (611)\n",
      "Barfi 3 (612)\n",
      "Barfi 3 (613)\n",
      "Barfi 3 (614)\n",
      "Barfi 3 (615)\n",
      "Barfi 3 (616)\n",
      "Barfi 3 (617)\n",
      "Barfi 3 (618)\n",
      "Barfi 3 (619)\n",
      "Barfi 3 (62)\n",
      "Barfi 3 (62)\n"
     ]
    },
    {
     "name": "stderr",
     "output_type": "stream",
     "text": [
      "\r",
      " 19%|██████████████▊                                                             | 2264/11648 [00:24<01:30, 103.53it/s]"
     ]
    },
    {
     "name": "stdout",
     "output_type": "stream",
     "text": [
      "Barfi 3 (620)\n",
      "Barfi 3 (621)\n",
      "Barfi 3 (622)\n",
      "Barfi 3 (623)\n",
      "Barfi 3 (624)\n",
      "Barfi 3 (625)\n",
      "Barfi 3 (626)\n",
      "Barfi 3 (627)\n",
      "Barfi 3 (628)\n",
      "Barfi 3 (629)\n",
      "Barfi 3 (63)\n",
      "Barfi 3 (63)\n",
      "Barfi 3 (630)\n"
     ]
    },
    {
     "name": "stderr",
     "output_type": "stream",
     "text": [
      "\r",
      " 20%|██████████████▊                                                             | 2277/11648 [00:24<01:26, 108.69it/s]"
     ]
    },
    {
     "name": "stdout",
     "output_type": "stream",
     "text": [
      "Barfi 3 (631)\n",
      "Barfi 3 (632)\n",
      "Barfi 3 (633)\n",
      "Barfi 3 (634)\n",
      "Barfi 3 (635)\n",
      "Barfi 3 (636)\n",
      "Barfi 3 (637)\n",
      "Barfi 3 (638)\n",
      "Barfi 3 (639)\n",
      "Barfi 3 (64)\n",
      "Barfi 3 (64)\n",
      "Barfi 3 (640)\n",
      "Barfi 3 (641)\n"
     ]
    },
    {
     "name": "stderr",
     "output_type": "stream",
     "text": [
      "\r",
      " 20%|██████████████▉                                                             | 2290/11648 [00:24<01:23, 112.03it/s]"
     ]
    },
    {
     "name": "stdout",
     "output_type": "stream",
     "text": [
      "Barfi 3 (642)\n",
      "Barfi 3 (643)\n",
      "Barfi 3 (644)\n",
      "Barfi 3 (645)\n",
      "Barfi 3 (646)\n",
      "Barfi 3 (647)\n",
      "Barfi 3 (648)\n",
      "Barfi 3 (649)\n",
      "Barfi 3 (65)\n",
      "Barfi 3 (65)\n",
      "Barfi 3 (650)\n",
      "Barfi 3 (651)\n"
     ]
    },
    {
     "name": "stderr",
     "output_type": "stream",
     "text": [
      "\r",
      " 20%|███████████████                                                             | 2302/11648 [00:24<01:22, 113.43it/s]"
     ]
    },
    {
     "name": "stdout",
     "output_type": "stream",
     "text": [
      "Barfi 3 (652)\n",
      "Barfi 3 (653)\n",
      "Barfi 3 (654)\n",
      "Barfi 3 (655)\n",
      "Barfi 3 (656)\n",
      "Barfi 3 (657)\n",
      "Barfi 3 (658)\n",
      "Barfi 3 (659)\n",
      "Barfi 3 (66)\n",
      "Barfi 3 (66)\n",
      "Barfi 3 (660)\n",
      "Barfi 3 (661)\n"
     ]
    },
    {
     "name": "stderr",
     "output_type": "stream",
     "text": [
      "\r",
      " 20%|███████████████                                                             | 2314/11648 [00:24<01:22, 113.45it/s]"
     ]
    },
    {
     "name": "stdout",
     "output_type": "stream",
     "text": [
      "Barfi 3 (662)\n",
      "Barfi 3 (663)\n",
      "Barfi 3 (664)\n",
      "Barfi 3 (665)\n",
      "Barfi 3 (666)\n",
      "Barfi 3 (667)\n",
      "Barfi 3 (668)\n",
      "Barfi 3 (669)\n",
      "Barfi 3 (67)\n",
      "Barfi 3 (67)\n",
      "Barfi 3 (670)\n",
      "Barfi 3 (671)\n",
      "Barfi 3 (672)\n"
     ]
    },
    {
     "name": "stderr",
     "output_type": "stream",
     "text": [
      "\r",
      " 20%|███████████████▏                                                            | 2327/11648 [00:24<01:20, 116.46it/s]"
     ]
    },
    {
     "name": "stdout",
     "output_type": "stream",
     "text": [
      "Barfi 3 (673)\n",
      "Barfi 3 (674)\n",
      "Barfi 3 (675)\n",
      "Barfi 3 (676)\n",
      "Barfi 3 (677)\n",
      "Barfi 3 (678)\n",
      "Barfi 3 (679)\n",
      "Barfi 3 (68)\n",
      "Barfi 3 (68)\n",
      "Barfi 3 (680)\n",
      "Barfi 3 (681)\n",
      "Barfi 3 (682)\n"
     ]
    },
    {
     "name": "stderr",
     "output_type": "stream",
     "text": [
      "\r",
      " 20%|███████████████▎                                                            | 2339/11648 [00:24<01:19, 116.91it/s]"
     ]
    },
    {
     "name": "stdout",
     "output_type": "stream",
     "text": [
      "Barfi 3 (683)\n",
      "Barfi 3 (684)\n",
      "Barfi 3 (685)\n",
      "Barfi 3 (686)\n",
      "Barfi 3 (687)\n",
      "Barfi 3 (688)\n",
      "Barfi 3 (689)\n",
      "Barfi 3 (69)\n",
      "Barfi 3 (69)\n",
      "Barfi 3 (690)\n",
      "Barfi 3 (691)\n",
      "Barfi 3 (692)\n",
      "Barfi 3 (693)\n"
     ]
    },
    {
     "name": "stderr",
     "output_type": "stream",
     "text": [
      "\r",
      " 20%|███████████████▎                                                            | 2352/11648 [00:24<01:18, 118.34it/s]"
     ]
    },
    {
     "name": "stdout",
     "output_type": "stream",
     "text": [
      "Barfi 3 (694)\n",
      "Barfi 3 (695)\n",
      "Barfi 3 (696)\n",
      "Barfi 3 (697)\n",
      "Barfi 3 (698)\n",
      "Barfi 3 (699)\n",
      "Barfi 3 (7)\n",
      "Barfi 3 (7)\n",
      "Barfi 3 (7)\n",
      "Barfi 3 (70)\n",
      "Barfi 3 (70)\n",
      "Barfi 3 (700)\n"
     ]
    },
    {
     "name": "stderr",
     "output_type": "stream",
     "text": [
      "\r",
      " 20%|███████████████▍                                                            | 2364/11648 [00:24<01:21, 114.19it/s]"
     ]
    },
    {
     "name": "stdout",
     "output_type": "stream",
     "text": [
      "Barfi 3 (701)\n",
      "Barfi 3 (702)\n",
      "Barfi 3 (703)\n",
      "Barfi 3 (704)\n",
      "Barfi 3 (705)\n",
      "Barfi 3 (706)\n",
      "Barfi 3 (707)\n",
      "Barfi 3 (708)\n",
      "Barfi 3 (709)\n",
      "Barfi 3 (71)\n",
      "Barfi 3 (71)\n",
      "Barfi 3 (710)\n",
      "Barfi 3 (711)\n",
      "Barfi 3 (712)\n"
     ]
    },
    {
     "name": "stderr",
     "output_type": "stream",
     "text": [
      "\r",
      " 20%|███████████████▌                                                            | 2378/11648 [00:25<01:17, 119.72it/s]"
     ]
    },
    {
     "name": "stdout",
     "output_type": "stream",
     "text": [
      "Barfi 3 (713)\n",
      "Barfi 3 (714)\n",
      "Barfi 3 (715)\n",
      "Barfi 3 (716)\n",
      "Barfi 3 (717)\n",
      "Barfi 3 (718)\n",
      "Barfi 3 (719)\n",
      "Barfi 3 (72)\n",
      "Barfi 3 (72)\n",
      "Barfi 3 (720)\n",
      "Barfi 3 (721)\n",
      "Barfi 3 (722)\n",
      "Barfi 3 (723)\n"
     ]
    },
    {
     "name": "stderr",
     "output_type": "stream",
     "text": [
      "\r",
      " 21%|███████████████▌                                                            | 2391/11648 [00:25<01:15, 122.03it/s]"
     ]
    },
    {
     "name": "stdout",
     "output_type": "stream",
     "text": [
      "Barfi 3 (724)\n",
      "Barfi 3 (725)\n",
      "Barfi 3 (726)\n",
      "Barfi 3 (727)\n",
      "Barfi 3 (728)\n",
      "Barfi 3 (729)\n",
      "Barfi 3 (73)\n",
      "Barfi 3 (73)\n",
      "Barfi 3 (730)\n",
      "Barfi 3 (731)\n",
      "Barfi 3 (732)\n",
      "Barfi 3 (733)\n",
      "Barfi 3 (734)\n"
     ]
    },
    {
     "name": "stderr",
     "output_type": "stream",
     "text": [
      "\r",
      " 21%|███████████████▋                                                            | 2404/11648 [00:25<01:18, 118.31it/s]"
     ]
    },
    {
     "name": "stdout",
     "output_type": "stream",
     "text": [
      "Barfi 3 (735)\n",
      "Barfi 3 (736)\n",
      "Barfi 3 (737)\n",
      "Barfi 3 (738)\n",
      "Barfi 3 (739)\n",
      "Barfi 3 (74)\n",
      "Barfi 3 (74)\n",
      "Barfi 3 (740)\n",
      "Barfi 3 (741)\n",
      "Barfi 3 (742)\n",
      "Barfi 3 (743)\n",
      "Barfi 3 (744)\n"
     ]
    },
    {
     "name": "stderr",
     "output_type": "stream",
     "text": [
      "\r",
      " 21%|███████████████▊                                                            | 2416/11648 [00:25<01:24, 109.49it/s]"
     ]
    },
    {
     "name": "stdout",
     "output_type": "stream",
     "text": [
      "Barfi 3 (745)\n",
      "Barfi 3 (746)\n",
      "Barfi 3 (747)\n",
      "Barfi 3 (748)\n",
      "Barfi 3 (749)\n",
      "Barfi 3 (75)\n",
      "Barfi 3 (75)\n",
      "Barfi 3 (750)\n",
      "Barfi 3 (751)\n",
      "Barfi 3 (752)\n",
      "Barfi 3 (753)\n",
      "Barfi 3 (754)\n",
      "Barfi 3 (755)\n",
      "Barfi 3 (756)\n",
      "Barfi 3 (757)\n",
      "Barfi 3 (758)\n",
      "Barfi 3 (759)\n"
     ]
    },
    {
     "name": "stderr",
     "output_type": "stream",
     "text": [
      "\r",
      " 21%|███████████████▊                                                            | 2433/11648 [00:25<01:15, 122.13it/s]"
     ]
    },
    {
     "name": "stdout",
     "output_type": "stream",
     "text": [
      "Barfi 3 (76)\n",
      "Barfi 3 (76)\n",
      "Barfi 3 (760)\n",
      "Barfi 3 (761)\n",
      "Barfi 3 (762)\n",
      "Barfi 3 (763)\n",
      "Barfi 3 (764)\n",
      "Barfi 3 (765)\n",
      "Barfi 3 (766)\n",
      "Barfi 3 (767)\n",
      "Barfi 3 (768)\n",
      "Barfi 3 (769)\n",
      "Barfi 3 (77)\n",
      "Barfi 3 (77)\n",
      "Barfi 3 (770)\n"
     ]
    },
    {
     "name": "stderr",
     "output_type": "stream",
     "text": [
      "\r",
      " 21%|███████████████▉                                                            | 2448/11648 [00:25<01:11, 128.76it/s]"
     ]
    },
    {
     "name": "stdout",
     "output_type": "stream",
     "text": [
      "Barfi 3 (771)\n",
      "Barfi 3 (772)\n",
      "Barfi 3 (773)\n",
      "Barfi 3 (774)\n",
      "Barfi 3 (775)\n",
      "Barfi 3 (776)\n",
      "Barfi 3 (777)\n",
      "Barfi 3 (778)\n",
      "Barfi 3 (779)\n",
      "Barfi 3 (78)\n",
      "Barfi 3 (78)\n",
      "Barfi 3 (780)\n",
      "Barfi 3 (781)\n",
      "Barfi 3 (782)\n",
      "Barfi 3 (783)\n",
      "Barfi 3 (784)\n",
      "Barfi 3 (785)\n",
      "Barfi 3 (786)\n"
     ]
    },
    {
     "name": "stderr",
     "output_type": "stream",
     "text": [
      "\r",
      " 21%|████████████████                                                            | 2466/11648 [00:25<01:05, 140.22it/s]"
     ]
    },
    {
     "name": "stdout",
     "output_type": "stream",
     "text": [
      "Barfi 3 (787)\n",
      "Barfi 3 (788)\n",
      "Barfi 3 (789)\n",
      "Barfi 3 (79)\n",
      "Barfi 3 (79)\n",
      "Barfi 3 (790)\n",
      "Barfi 3 (791)\n",
      "Barfi 3 (792)\n",
      "Barfi 3 (793)\n",
      "Barfi 3 (794)\n",
      "Barfi 3 (795)\n",
      "Barfi 3 (796)\n",
      "Barfi 3 (797)\n",
      "Barfi 3 (798)\n",
      "Barfi 3 (799)\n",
      "Barfi 3 (8)\n",
      "Barfi 3 (8)\n",
      "Barfi 3 (8)\n"
     ]
    },
    {
     "name": "stderr",
     "output_type": "stream",
     "text": [
      "\r",
      " 21%|████████████████▏                                                           | 2484/11648 [00:25<01:02, 146.25it/s]"
     ]
    },
    {
     "name": "stdout",
     "output_type": "stream",
     "text": [
      "Barfi 3 (80)\n",
      "Barfi 3 (80)\n",
      "Barfi 3 (800)\n",
      "Barfi 3 (801)\n",
      "Barfi 3 (802)\n",
      "Barfi 3 (803)\n",
      "Barfi 3 (804)\n",
      "Barfi 3 (805)\n",
      "Barfi 3 (806)\n",
      "Barfi 3 (807)\n",
      "Barfi 3 (808)\n",
      "Barfi 3 (809)\n",
      "Barfi 3 (81)\n",
      "Barfi 3 (81)\n",
      "Barfi 3 (810)\n",
      "Barfi 3 (811)\n",
      "Barfi 3 (812)\n",
      "Barfi 3 (813)\n"
     ]
    },
    {
     "name": "stderr",
     "output_type": "stream",
     "text": [
      "\r",
      " 21%|████████████████▎                                                           | 2502/11648 [00:25<00:59, 154.28it/s]"
     ]
    },
    {
     "name": "stdout",
     "output_type": "stream",
     "text": [
      "Barfi 3 (814)\n",
      "Barfi 3 (815)\n",
      "Barfi 3 (816)\n",
      "Barfi 3 (817)\n",
      "Barfi 3 (818)\n",
      "Barfi 3 (819)\n",
      "Barfi 3 (82)\n",
      "Barfi 3 (82)\n",
      "Barfi 3 (820)\n",
      "Barfi 3 (821)\n",
      "Barfi 3 (822)\n",
      "Barfi 3 (823)\n",
      "Barfi 3 (824)\n",
      "Barfi 3 (825)\n",
      "Barfi 3 (826)\n",
      "Barfi 3 (827)\n",
      "Barfi 3 (828)\n",
      "Barfi 3 (829)\n",
      "Barfi 3 (83)\n",
      "Barfi 3 (83)\n"
     ]
    },
    {
     "name": "stderr",
     "output_type": "stream",
     "text": [
      "\r",
      " 22%|████████████████▍                                                           | 2522/11648 [00:26<00:56, 161.35it/s]"
     ]
    },
    {
     "name": "stdout",
     "output_type": "stream",
     "text": [
      "Barfi 3 (830)\n",
      "Barfi 3 (831)\n",
      "Barfi 3 (832)\n",
      "Barfi 3 (833)\n",
      "Barfi 3 (834)\n",
      "Barfi 3 (835)\n",
      "Barfi 3 (836)\n",
      "Barfi 3 (837)\n",
      "Barfi 3 (838)\n",
      "Barfi 3 (839)\n",
      "Barfi 3 (84)\n",
      "Barfi 3 (84)\n",
      "Barfi 3 (840)\n",
      "Barfi 3 (841)\n",
      "Barfi 3 (842)\n",
      "Barfi 3 (843)\n",
      "Barfi 3 (844)\n"
     ]
    },
    {
     "name": "stderr",
     "output_type": "stream",
     "text": [
      "\r",
      " 22%|████████████████▌                                                           | 2539/11648 [00:26<00:55, 163.51it/s]"
     ]
    },
    {
     "name": "stdout",
     "output_type": "stream",
     "text": [
      "Barfi 3 (845)\n",
      "Barfi 3 (846)\n",
      "Barfi 3 (847)\n",
      "Barfi 3 (848)\n",
      "Barfi 3 (849)\n",
      "Barfi 3 (85)\n",
      "Barfi 3 (85)\n",
      "Barfi 3 (850)\n",
      "Barfi 3 (851)\n",
      "Barfi 3 (852)\n",
      "Barfi 3 (853)\n",
      "Barfi 3 (854)\n",
      "Barfi 3 (855)\n",
      "Barfi 3 (856)\n",
      "Barfi 3 (857)\n",
      "Barfi 3 (858)\n",
      "Barfi 3 (859)\n"
     ]
    },
    {
     "name": "stderr",
     "output_type": "stream",
     "text": [
      "\r",
      " 22%|████████████████▋                                                           | 2556/11648 [00:26<00:57, 159.49it/s]"
     ]
    },
    {
     "name": "stdout",
     "output_type": "stream",
     "text": [
      "Barfi 3 (86)\n",
      "Barfi 3 (860)\n",
      "Barfi 3 (861)\n",
      "Barfi 3 (862)\n",
      "Barfi 3 (863)\n",
      "Barfi 3 (864)\n",
      "Barfi 3 (865)\n",
      "Barfi 3 (866)\n",
      "Barfi 3 (867)\n",
      "Barfi 3 (868)\n",
      "Barfi 3 (869)\n",
      "Barfi 3 (87)\n",
      "Barfi 3 (870)\n",
      "Barfi 3 (871)\n",
      "Barfi 3 (872)\n",
      "Barfi 3 (873)\n",
      "Barfi 3 (874)\n",
      "Barfi 3 (875)\n",
      "Barfi 3 (876)\n",
      "Barfi 3 (877)\n",
      "Barfi 3 (878)\n"
     ]
    },
    {
     "name": "stderr",
     "output_type": "stream",
     "text": [
      "\r",
      " 22%|████████████████▊                                                           | 2577/11648 [00:26<00:53, 169.92it/s]"
     ]
    },
    {
     "name": "stdout",
     "output_type": "stream",
     "text": [
      "Barfi 3 (879)\n",
      "Barfi 3 (88)\n",
      "Barfi 3 (880)\n",
      "Barfi 3 (881)\n",
      "Barfi 3 (882)\n",
      "Barfi 3 (883)\n",
      "Barfi 3 (884)\n",
      "Barfi 3 (885)\n",
      "Barfi 3 (886)\n",
      "Barfi 3 (887)\n",
      "Barfi 3 (888)\n",
      "Barfi 3 (889)\n",
      "Barfi 3 (89)\n",
      "Barfi 3 (890)\n",
      "Barfi 3 (891)\n",
      "Barfi 3 (892)\n",
      "Barfi 3 (893)\n",
      "Barfi 3 (894)\n"
     ]
    },
    {
     "name": "stderr",
     "output_type": "stream",
     "text": [
      "\r",
      " 22%|████████████████▉                                                           | 2595/11648 [00:26<00:53, 168.60it/s]"
     ]
    },
    {
     "name": "stdout",
     "output_type": "stream",
     "text": [
      "Barfi 3 (895)\n",
      "Barfi 3 (896)\n",
      "Barfi 3 (897)\n",
      "Barfi 3 (898)\n",
      "Barfi 3 (899)\n",
      "Barfi 3 (9)\n",
      "Barfi 3 (9)\n",
      "Barfi 3 (9)\n",
      "Barfi 3 (90)\n",
      "Barfi 3 (900)\n",
      "Barfi 3 (901)\n",
      "Barfi 3 (902)\n",
      "Barfi 3 (903)\n",
      "Barfi 3 (904)\n",
      "Barfi 3 (905)\n",
      "Barfi 3 (906)\n",
      "Barfi 3 (907)\n",
      "Barfi 3 (908)\n"
     ]
    },
    {
     "name": "stderr",
     "output_type": "stream",
     "text": [
      "\r",
      " 22%|█████████████████                                                           | 2613/11648 [00:26<01:01, 146.81it/s]"
     ]
    },
    {
     "name": "stdout",
     "output_type": "stream",
     "text": [
      "Barfi 3 (909)\n",
      "Barfi 3 (91)\n",
      "Barfi 3 (910)\n",
      "Barfi 3 (911)\n",
      "Barfi 3 (912)\n",
      "Barfi 3 (913)\n",
      "Barfi 3 (914)\n",
      "Barfi 3 (915)\n",
      "Barfi 3 (916)\n",
      "Barfi 3 (917)\n",
      "Barfi 3 (918)\n",
      "Barfi 3 (919)\n",
      "Barfi 3 (92)\n",
      "Barfi 3 (920)\n",
      "Barfi 3 (921)\n",
      "Barfi 3 (922)\n"
     ]
    },
    {
     "name": "stderr",
     "output_type": "stream",
     "text": [
      "\r",
      " 23%|█████████████████▏                                                          | 2629/11648 [00:26<01:11, 126.73it/s]"
     ]
    },
    {
     "name": "stdout",
     "output_type": "stream",
     "text": [
      "Barfi 3 (923)\n",
      "Barfi 3 (924)\n",
      "Barfi 3 (925)\n",
      "Barfi 3 (926)\n",
      "Barfi 3 (927)\n",
      "Barfi 3 (928)\n",
      "Barfi 3 (929)\n",
      "Barfi 3 (93)\n",
      "Barfi 3 (930)\n",
      "Barfi 3 (931)\n",
      "Barfi 3 (932)\n",
      "Barfi 3 (933)\n",
      "Barfi 3 (934)\n",
      "Barfi 3 (935)\n"
     ]
    },
    {
     "name": "stderr",
     "output_type": "stream",
     "text": [
      "\r",
      " 23%|█████████████████▏                                                          | 2643/11648 [00:26<01:12, 123.96it/s]"
     ]
    },
    {
     "name": "stdout",
     "output_type": "stream",
     "text": [
      "Barfi 3 (936)\n",
      "Barfi 3 (937)\n",
      "Barfi 3 (938)\n",
      "Barfi 3 (939)\n",
      "Barfi 3 (94)\n",
      "Barfi 3 (940)\n",
      "Barfi 3 (941)\n",
      "Barfi 3 (942)\n",
      "Barfi 3 (943)\n",
      "Barfi 3 (944)\n",
      "Barfi 3 (945)\n",
      "Barfi 3 (946)\n",
      "Barfi 3 (947)\n",
      "Barfi 3 (948)\n"
     ]
    },
    {
     "name": "stderr",
     "output_type": "stream",
     "text": [
      "\r",
      " 23%|█████████████████▎                                                          | 2657/11648 [00:27<01:15, 118.99it/s]"
     ]
    },
    {
     "name": "stdout",
     "output_type": "stream",
     "text": [
      "Barfi 3 (949)\n",
      "Barfi 3 (95)\n",
      "Barfi 3 (950)\n",
      "Barfi 3 (951)\n",
      "Barfi 3 (952)\n",
      "Barfi 3 (953)\n",
      "Barfi 3 (954)\n",
      "Barfi 3 (955)\n",
      "Barfi 3 (956)\n",
      "Barfi 3 (957)\n",
      "Barfi 3 (958)\n",
      "Barfi 3 (959)\n",
      "Barfi 3 (96)\n"
     ]
    },
    {
     "name": "stderr",
     "output_type": "stream",
     "text": [
      "\r",
      " 23%|█████████████████▍                                                          | 2670/11648 [00:27<01:22, 109.28it/s]"
     ]
    },
    {
     "name": "stdout",
     "output_type": "stream",
     "text": [
      "Barfi 3 (960)\n",
      "Barfi 3 (961)\n",
      "Barfi 3 (962)\n",
      "Barfi 3 (963)\n",
      "Barfi 3 (964)\n",
      "Barfi 3 (965)\n",
      "Barfi 3 (966)\n",
      "Barfi 3 (967)\n",
      "Barfi 3 (968)\n",
      "Barfi 3 (969)\n",
      "Barfi 3 (97)\n",
      "Barfi 3 (970)\n"
     ]
    },
    {
     "name": "stderr",
     "output_type": "stream",
     "text": [
      "\r",
      " 23%|█████████████████▍                                                          | 2682/11648 [00:27<01:23, 106.98it/s]"
     ]
    },
    {
     "name": "stdout",
     "output_type": "stream",
     "text": [
      "Barfi 3 (971)\n",
      "Barfi 3 (972)\n",
      "Barfi 3 (973)\n",
      "Barfi 3 (974)\n",
      "Barfi 3 (975)\n",
      "Barfi 3 (976)\n",
      "Barfi 3 (977)\n",
      "Barfi 3 (978)\n",
      "Barfi 3 (979)\n",
      "Barfi 3 (98)\n",
      "Barfi 3 (980)\n",
      "Barfi 3 (981)\n"
     ]
    },
    {
     "name": "stderr",
     "output_type": "stream",
     "text": [
      "\r",
      " 23%|█████████████████▊                                                           | 2694/11648 [00:27<01:38, 90.86it/s]"
     ]
    },
    {
     "name": "stdout",
     "output_type": "stream",
     "text": [
      "Barfi 3 (982)\n",
      "Barfi 3 (983)\n",
      "Barfi 3 (984)\n",
      "Barfi 3 (985)\n",
      "Barfi 3 (986)\n",
      "Barfi 3 (987)\n",
      "Barfi 3 (988)\n",
      "Barfi 3 (989)\n",
      "Barfi 3 (99)\n",
      "Barfi 3 (990)\n"
     ]
    },
    {
     "name": "stderr",
     "output_type": "stream",
     "text": [
      "\r",
      " 23%|█████████████████▉                                                           | 2704/11648 [00:27<01:53, 78.55it/s]"
     ]
    },
    {
     "name": "stdout",
     "output_type": "stream",
     "text": [
      "Barfi 3 (991)\n",
      "Barfi 3 (992)\n",
      "Barfi 3 (993)\n",
      "Barfi 3 (994)\n",
      "Barfi 3 (995)\n",
      "Barfi 3 (996)\n",
      "Barfi 3 (997)\n",
      "Barfi 3 (998)\n",
      "Barfi 3 (999)\n"
     ]
    },
    {
     "name": "stderr",
     "output_type": "stream",
     "text": [
      "\r",
      " 23%|█████████████████▉                                                           | 2713/11648 [00:27<01:49, 81.50it/s]"
     ]
    },
    {
     "name": "stdout",
     "output_type": "stream",
     "text": [
      "Barfi 5 (10)\n",
      "Barfi 5 (10)\n",
      "Barfi 5 (100)\n",
      "Barfi 5 (101)\n",
      "Barfi 5 (102)\n",
      "Barfi 5 (103)\n",
      "Barfi 5 (104)\n",
      "Barfi 5 (105)\n",
      "Barfi 5 (106)\n",
      "Barfi 5 (107)\n",
      "Barfi 5 (108)\n",
      "Barfi 5 (109)\n",
      "Barfi 5 (11)\n",
      "Barfi 5 (11)\n",
      "Barfi 5 (110)\n",
      "Barfi 5 (111)\n"
     ]
    },
    {
     "name": "stderr",
     "output_type": "stream",
     "text": [
      "\r",
      " 23%|██████████████████                                                           | 2729/11648 [00:27<01:33, 95.10it/s]"
     ]
    },
    {
     "name": "stdout",
     "output_type": "stream",
     "text": [
      "Barfi 5 (112)\n",
      "Barfi 5 (113)\n",
      "Barfi 5 (114)\n",
      "Barfi 5 (115)\n",
      "Barfi 5 (116)\n",
      "Barfi 5 (117)\n",
      "Barfi 5 (118)\n",
      "Barfi 5 (119)\n",
      "Barfi 5 (12)\n",
      "Barfi 5 (12)\n",
      "Barfi 5 (120)\n",
      "Barfi 5 (121)\n",
      "Barfi 5 (122)\n",
      "Barfi 5 (123)\n",
      "Barfi 5 (124)\n",
      "Barfi 5 (125)\n",
      "Barfi 5 (126)\n"
     ]
    },
    {
     "name": "stderr",
     "output_type": "stream",
     "text": [
      "\r",
      " 24%|█████████████████▉                                                          | 2746/11648 [00:27<01:21, 109.01it/s]"
     ]
    },
    {
     "name": "stdout",
     "output_type": "stream",
     "text": [
      "Barfi 5 (127)\n",
      "Barfi 5 (128)\n",
      "Barfi 5 (129)\n",
      "Barfi 5 (13)\n",
      "Barfi 5 (13)\n",
      "Barfi 5 (130)\n",
      "Barfi 5 (131)\n",
      "Barfi 5 (132)\n",
      "Barfi 5 (133)\n",
      "Barfi 5 (134)\n",
      "Barfi 5 (135)\n",
      "Barfi 5 (136)\n",
      "Barfi 5 (137)\n"
     ]
    },
    {
     "name": "stderr",
     "output_type": "stream",
     "text": [
      "\r",
      " 24%|██████████████████▏                                                          | 2759/11648 [00:28<01:34, 94.25it/s]"
     ]
    },
    {
     "name": "stdout",
     "output_type": "stream",
     "text": [
      "Barfi 5 (138)\n",
      "Barfi 5 (139)\n",
      "Barfi 5 (14)\n",
      "Barfi 5 (14)\n",
      "Barfi 5 (140)\n",
      "Barfi 5 (141)\n",
      "Barfi 5 (142)\n",
      "Barfi 5 (143)\n",
      "Barfi 5 (144)\n",
      "Barfi 5 (145)\n",
      "Barfi 5 (146)\n"
     ]
    },
    {
     "name": "stderr",
     "output_type": "stream",
     "text": [
      "\r",
      " 24%|██████████████████▎                                                          | 2770/11648 [00:28<01:30, 98.29it/s]"
     ]
    },
    {
     "name": "stdout",
     "output_type": "stream",
     "text": [
      "Barfi 5 (147)\n",
      "Barfi 5 (148)\n",
      "Barfi 5 (149)\n",
      "Barfi 5 (15)\n",
      "Barfi 5 (15)\n",
      "Barfi 5 (150)\n",
      "Barfi 5 (151)\n",
      "Barfi 5 (152)\n",
      "Barfi 5 (153)\n",
      "Barfi 5 (154)\n",
      "Barfi 5 (155)\n",
      "Barfi 5 (156)\n",
      "Barfi 5 (157)\n",
      "Barfi 5 (158)\n",
      "Barfi 5 (159)\n",
      "Barfi 5 (16)\n"
     ]
    },
    {
     "name": "stderr",
     "output_type": "stream",
     "text": [
      "\r",
      " 24%|██████████████████▏                                                         | 2786/11648 [00:28<01:20, 110.29it/s]"
     ]
    },
    {
     "name": "stdout",
     "output_type": "stream",
     "text": [
      "Barfi 5 (16)\n",
      "Barfi 5 (160)\n",
      "Barfi 5 (161)\n",
      "Barfi 5 (162)\n",
      "Barfi 5 (163)\n",
      "Barfi 5 (164)\n",
      "Barfi 5 (165)\n",
      "Barfi 5 (166)\n",
      "Barfi 5 (167)\n",
      "Barfi 5 (168)\n",
      "Barfi 5 (169)\n",
      "Barfi 5 (17)\n",
      "Barfi 5 (17)\n",
      "Barfi 5 (170)\n",
      "Barfi 5 (171)\n",
      "Barfi 5 (172)\n",
      "Barfi 5 (173)\n",
      "Barfi 5 (174)\n"
     ]
    },
    {
     "name": "stderr",
     "output_type": "stream",
     "text": [
      "\r",
      " 24%|██████████████████▎                                                         | 2804/11648 [00:28<01:10, 124.60it/s]"
     ]
    },
    {
     "name": "stdout",
     "output_type": "stream",
     "text": [
      "Barfi 5 (175)\n",
      "Barfi 5 (176)\n",
      "Barfi 5 (177)\n",
      "Barfi 5 (18)\n",
      "Barfi 5 (18)\n",
      "Barfi 5 (19)\n",
      "Barfi 5 (19)\n",
      "Barfi 5 (20)\n",
      "Barfi 5 (20)\n",
      "Barfi 5 (21)\n",
      "Barfi 5 (21)\n",
      "Barfi 5 (22)\n",
      "Barfi 5 (22)\n",
      "Barfi 5 (23)\n"
     ]
    },
    {
     "name": "stderr",
     "output_type": "stream",
     "text": [
      "\r",
      " 24%|██████████████████▍                                                         | 2818/11648 [00:28<01:16, 116.15it/s]"
     ]
    },
    {
     "name": "stdout",
     "output_type": "stream",
     "text": [
      "Barfi 5 (23)\n",
      "Barfi 5 (24)\n",
      "Barfi 5 (24)\n",
      "Barfi 5 (25)\n",
      "Barfi 5 (25)\n",
      "Barfi 5 (26)\n",
      "Barfi 5 (26)\n",
      "Barfi 5 (27)\n",
      "Barfi 5 (27)\n",
      "Barfi 5 (28)\n",
      "Barfi 5 (28)\n",
      "Barfi 5 (29)\n",
      "Barfi 5 (29)\n"
     ]
    },
    {
     "name": "stderr",
     "output_type": "stream",
     "text": [
      "\r",
      " 24%|██████████████████▋                                                          | 2831/11648 [00:28<01:37, 89.98it/s]"
     ]
    },
    {
     "name": "stdout",
     "output_type": "stream",
     "text": [
      "Barfi 5 (3)\n",
      "Barfi 5 (3)\n",
      "Barfi 5 (3)\n",
      "Barfi 5 (30)\n",
      "Barfi 5 (30)\n",
      "Barfi 5 (31)\n",
      "Barfi 5 (32)\n",
      "Barfi 5 (33)\n",
      "Barfi 5 (34)\n",
      "Barfi 5 (35)\n",
      "Barfi 5 (36)\n"
     ]
    },
    {
     "name": "stderr",
     "output_type": "stream",
     "text": [
      "\r",
      " 24%|██████████████████▊                                                          | 2842/11648 [00:28<01:37, 90.33it/s]"
     ]
    },
    {
     "name": "stdout",
     "output_type": "stream",
     "text": [
      "Barfi 5 (37)\n",
      "Barfi 5 (38)\n",
      "Barfi 5 (39)\n",
      "Barfi 5 (4)\n",
      "Barfi 5 (4)\n",
      "Barfi 5 (4)\n",
      "Barfi 5 (40)\n",
      "Barfi 5 (41)\n",
      "Barfi 5 (42)\n",
      "Barfi 5 (43)\n",
      "Barfi 5 (44)\n"
     ]
    },
    {
     "name": "stderr",
     "output_type": "stream",
     "text": [
      "\r",
      " 24%|██████████████████▊                                                          | 2853/11648 [00:29<01:39, 88.40it/s]"
     ]
    },
    {
     "name": "stdout",
     "output_type": "stream",
     "text": [
      "Barfi 5 (45)\n",
      "Barfi 5 (46)\n",
      "Barfi 5 (47)\n",
      "Barfi 5 (48)\n",
      "Barfi 5 (49)\n",
      "Barfi 5 (5)\n",
      "Barfi 5 (5)\n",
      "Barfi 5 (5)\n",
      "Barfi 5 (50)\n",
      "Barfi 5 (51)\n"
     ]
    },
    {
     "name": "stderr",
     "output_type": "stream",
     "text": [
      "\r",
      " 25%|██████████████████▉                                                          | 2863/11648 [00:29<01:45, 83.21it/s]"
     ]
    },
    {
     "name": "stdout",
     "output_type": "stream",
     "text": [
      "Barfi 5 (52)\n",
      "Barfi 5 (53)\n",
      "Barfi 5 (54)\n",
      "Barfi 5 (55)\n",
      "Barfi 5 (56)\n",
      "Barfi 5 (57)\n",
      "Barfi 5 (58)\n",
      "Barfi 5 (59)\n",
      "Barfi 5 (6)\n"
     ]
    },
    {
     "name": "stderr",
     "output_type": "stream",
     "text": [
      "\r",
      " 25%|██████████████████▉                                                          | 2872/11648 [00:29<02:06, 69.30it/s]"
     ]
    },
    {
     "name": "stdout",
     "output_type": "stream",
     "text": [
      "Barfi 5 (6)\n",
      "Barfi 5 (6)\n",
      "Barfi 5 (60)\n",
      "Barfi 5 (61)\n",
      "Barfi 5 (62)\n",
      "Barfi 5 (63)\n",
      "Barfi 5 (64)\n",
      "Barfi 5 (65)\n",
      "Barfi 5 (66)\n"
     ]
    },
    {
     "name": "stderr",
     "output_type": "stream",
     "text": [
      "\r",
      " 25%|███████████████████                                                          | 2881/11648 [00:29<02:05, 69.98it/s]"
     ]
    },
    {
     "name": "stdout",
     "output_type": "stream",
     "text": [
      "Barfi 5 (67)\n",
      "Barfi 5 (68)\n",
      "Barfi 5 (69)\n",
      "Barfi 5 (7)\n",
      "Barfi 5 (7)\n",
      "Barfi 5 (7)\n",
      "Barfi 5 (70)\n",
      "Barfi 5 (71)\n"
     ]
    },
    {
     "name": "stderr",
     "output_type": "stream",
     "text": [
      "\r",
      " 25%|███████████████████                                                          | 2889/11648 [00:29<02:02, 71.22it/s]"
     ]
    },
    {
     "name": "stdout",
     "output_type": "stream",
     "text": [
      "Barfi 5 (72)\n",
      "Barfi 5 (73)\n",
      "Barfi 5 (74)\n",
      "Barfi 5 (75)\n",
      "Barfi 5 (76)\n",
      "Barfi 5 (77)\n",
      "Barfi 5 (78)\n",
      "Barfi 5 (79)\n"
     ]
    },
    {
     "name": "stderr",
     "output_type": "stream",
     "text": [
      "\r",
      " 25%|███████████████████▏                                                         | 2897/11648 [00:29<02:39, 54.92it/s]"
     ]
    },
    {
     "name": "stdout",
     "output_type": "stream",
     "text": [
      "Barfi 5 (8)\n",
      "Barfi 5 (8)\n",
      "Barfi 5 (8)\n",
      "Barfi 5 (80)\n",
      "Barfi 5 (81)\n",
      "Barfi 5 (82)\n",
      "Barfi 5 (83)\n",
      "Barfi 5 (84)\n",
      "Barfi 5 (85)\n",
      "Barfi 5 (86)\n"
     ]
    },
    {
     "name": "stderr",
     "output_type": "stream",
     "text": [
      "\r",
      " 25%|███████████████████▏                                                         | 2907/11648 [00:29<02:19, 62.59it/s]"
     ]
    },
    {
     "name": "stdout",
     "output_type": "stream",
     "text": [
      "Barfi 5 (87)\n",
      "Barfi 5 (88)\n",
      "Barfi 5 (89)\n",
      "Barfi 5 (9)\n",
      "Barfi 5 (9)\n",
      "Barfi 5 (90)\n",
      "Barfi 5 (91)\n",
      "Barfi 5 (92)\n",
      "Barfi 5 (93)\n",
      "Barfi 5 (94)\n"
     ]
    },
    {
     "name": "stderr",
     "output_type": "stream",
     "text": [
      "\r",
      " 25%|███████████████████▎                                                         | 2917/11648 [00:30<02:05, 69.81it/s]"
     ]
    },
    {
     "name": "stdout",
     "output_type": "stream",
     "text": [
      "Barfi 5 (95)\n",
      "Barfi 5 (96)\n",
      "Barfi 5 (97)\n",
      "Barfi 5 (98)\n",
      "Barfi 5 (99)\n",
      "Gulab-Jamun (1)\n",
      "Gulab-Jamun (1)\n",
      "Gulab-Jamun (10)\n"
     ]
    },
    {
     "name": "stderr",
     "output_type": "stream",
     "text": [
      "\r",
      " 25%|███████████████████▎                                                         | 2925/11648 [00:30<02:13, 65.52it/s]"
     ]
    },
    {
     "name": "stdout",
     "output_type": "stream",
     "text": [
      "Gulab-Jamun (10)\n",
      "Gulab-Jamun (100)\n",
      "Gulab-Jamun (101)\n",
      "Gulab-Jamun (102)\n",
      "Gulab-Jamun (103)\n",
      "Gulab-Jamun (104)\n",
      "Gulab-Jamun (105)\n",
      "Gulab-Jamun (106)\n",
      "Gulab-Jamun (107)\n"
     ]
    },
    {
     "name": "stderr",
     "output_type": "stream",
     "text": [
      "\r",
      " 25%|███████████████████▍                                                         | 2934/11648 [00:30<02:05, 69.41it/s]"
     ]
    },
    {
     "name": "stdout",
     "output_type": "stream",
     "text": [
      "Gulab-Jamun (108)\n",
      "Gulab-Jamun (109)\n",
      "Gulab-Jamun (11)\n",
      "Gulab-Jamun (11)\n",
      "Gulab-Jamun (110)\n",
      "Gulab-Jamun (111)\n",
      "Gulab-Jamun (112)\n",
      "Gulab-Jamun (113)\n"
     ]
    },
    {
     "name": "stderr",
     "output_type": "stream",
     "text": [
      "\r",
      " 25%|███████████████████▍                                                         | 2942/11648 [00:30<02:09, 67.24it/s]"
     ]
    },
    {
     "name": "stdout",
     "output_type": "stream",
     "text": [
      "Gulab-Jamun (114)\n",
      "Gulab-Jamun (115)\n",
      "Gulab-Jamun (116)\n",
      "Gulab-Jamun (117)\n",
      "Gulab-Jamun (118)\n",
      "Gulab-Jamun (119)\n",
      "Gulab-Jamun (12)\n",
      "Gulab-Jamun (12)\n"
     ]
    },
    {
     "name": "stderr",
     "output_type": "stream",
     "text": [
      "\r",
      " 25%|███████████████████▌                                                         | 2950/11648 [00:30<02:25, 59.63it/s]"
     ]
    },
    {
     "name": "stdout",
     "output_type": "stream",
     "text": [
      "Gulab-Jamun (120)\n",
      "Gulab-Jamun (121)\n",
      "Gulab-Jamun (122)\n",
      "Gulab-Jamun (123)\n",
      "Gulab-Jamun (124)\n",
      "Gulab-Jamun (125)\n",
      "Gulab-Jamun (126)\n",
      "Gulab-Jamun (127)\n",
      "Gulab-Jamun (128)\n"
     ]
    },
    {
     "name": "stderr",
     "output_type": "stream",
     "text": [
      "\r",
      " 25%|███████████████████▌                                                         | 2959/11648 [00:30<02:11, 66.10it/s]"
     ]
    },
    {
     "name": "stdout",
     "output_type": "stream",
     "text": [
      "Gulab-Jamun (129)\n",
      "Gulab-Jamun (13)\n",
      "Gulab-Jamun (13)\n",
      "Gulab-Jamun (130)\n",
      "Gulab-Jamun (131)\n",
      "Gulab-Jamun (132)\n",
      "Gulab-Jamun (133)\n",
      "Gulab-Jamun (134)\n",
      "Gulab-Jamun (135)\n",
      "Gulab-Jamun (136)\n"
     ]
    },
    {
     "name": "stderr",
     "output_type": "stream",
     "text": [
      "\r",
      " 25%|███████████████████▋                                                         | 2969/11648 [00:30<01:59, 72.35it/s]"
     ]
    },
    {
     "name": "stdout",
     "output_type": "stream",
     "text": [
      "Gulab-Jamun (137)\n",
      "Gulab-Jamun (138)\n",
      "Gulab-Jamun (139)\n",
      "Gulab-Jamun (14)\n",
      "Gulab-Jamun (14)\n",
      "Gulab-Jamun (140)\n",
      "Gulab-Jamun (141)\n",
      "Gulab-Jamun (142)\n"
     ]
    },
    {
     "name": "stderr",
     "output_type": "stream",
     "text": [
      "\r",
      " 26%|███████████████████▋                                                         | 2977/11648 [00:31<02:42, 53.40it/s]"
     ]
    },
    {
     "name": "stdout",
     "output_type": "stream",
     "text": [
      "Gulab-Jamun (143)\n",
      "Gulab-Jamun (144)\n",
      "Gulab-Jamun (145)\n",
      "Gulab-Jamun (146)\n",
      "Gulab-Jamun (147)\n",
      "Gulab-Jamun (148)\n",
      "Gulab-Jamun (149)\n",
      "Gulab-Jamun (15)\n"
     ]
    },
    {
     "name": "stderr",
     "output_type": "stream",
     "text": [
      "\r",
      " 26%|███████████████████▋                                                         | 2985/11648 [00:31<02:44, 52.58it/s]"
     ]
    },
    {
     "name": "stdout",
     "output_type": "stream",
     "text": [
      "Gulab-Jamun (15)\n",
      "Gulab-Jamun (150)\n",
      "Gulab-Jamun (151)\n",
      "Gulab-Jamun (152)\n",
      "Gulab-Jamun (153)\n",
      "Gulab-Jamun (154)\n",
      "Gulab-Jamun (155)\n"
     ]
    },
    {
     "name": "stderr",
     "output_type": "stream",
     "text": [
      "\r",
      " 26%|███████████████████▊                                                         | 2992/11648 [00:31<03:00, 48.00it/s]"
     ]
    },
    {
     "name": "stdout",
     "output_type": "stream",
     "text": [
      "Gulab-Jamun (156)\n",
      "Gulab-Jamun (157)\n",
      "Gulab-Jamun (158)\n",
      "Gulab-Jamun (159)\n",
      "Gulab-Jamun (16)\n",
      "Gulab-Jamun (16)\n"
     ]
    },
    {
     "name": "stderr",
     "output_type": "stream",
     "text": [
      "\r",
      " 26%|███████████████████▊                                                         | 2998/11648 [00:31<03:19, 43.36it/s]"
     ]
    },
    {
     "name": "stdout",
     "output_type": "stream",
     "text": [
      "Gulab-Jamun (160)\n",
      "Gulab-Jamun (161)\n",
      "Gulab-Jamun (162)\n",
      "Gulab-Jamun (163)\n",
      "Gulab-Jamun (164)\n",
      "Gulab-Jamun (165)\n",
      "Gulab-Jamun (166)\n",
      "Gulab-Jamun (167)\n",
      "Gulab-Jamun (168)\n",
      "Gulab-Jamun (169)\n",
      "Gulab-Jamun (17)\n",
      "Gulab-Jamun (17)\n",
      "Gulab-Jamun (170)\n",
      "Gulab-Jamun (171)\n",
      "Gulab-Jamun (172)\n"
     ]
    },
    {
     "name": "stderr",
     "output_type": "stream",
     "text": [
      "\r",
      " 26%|███████████████████▉                                                         | 3013/11648 [00:31<02:37, 54.77it/s]"
     ]
    },
    {
     "name": "stdout",
     "output_type": "stream",
     "text": [
      "Gulab-Jamun (173)\n",
      "Gulab-Jamun (174)\n",
      "Gulab-Jamun (175)\n",
      "Gulab-Jamun (176)\n",
      "Gulab-Jamun (177)\n",
      "Gulab-Jamun (178)\n",
      "Gulab-Jamun (179)\n",
      "Gulab-Jamun (18)\n",
      "Gulab-Jamun (18)\n",
      "Gulab-Jamun (180)\n",
      "Gulab-Jamun (181)\n",
      "Gulab-Jamun (182)\n",
      "Gulab-Jamun (183)\n"
     ]
    },
    {
     "name": "stderr",
     "output_type": "stream",
     "text": [
      "\r",
      " 26%|████████████████████                                                         | 3026/11648 [00:31<02:11, 65.60it/s]"
     ]
    },
    {
     "name": "stdout",
     "output_type": "stream",
     "text": [
      "Gulab-Jamun (184)\n",
      "Gulab-Jamun (185)\n",
      "Gulab-Jamun (186)\n",
      "Gulab-Jamun (187)\n",
      "Gulab-Jamun (188)\n",
      "Gulab-Jamun (189)\n",
      "Gulab-Jamun (19)\n",
      "Gulab-Jamun (19)\n",
      "Gulab-Jamun (190)\n",
      "Gulab-Jamun (191)\n"
     ]
    },
    {
     "name": "stderr",
     "output_type": "stream",
     "text": [
      "\r",
      " 26%|████████████████████                                                         | 3036/11648 [00:32<03:31, 40.63it/s]"
     ]
    },
    {
     "name": "stdout",
     "output_type": "stream",
     "text": [
      "Gulab-Jamun (192)\n",
      "Gulab-Jamun (193)\n",
      "Gulab-Jamun (194)\n",
      "Gulab-Jamun (195)\n",
      "Gulab-Jamun (196)\n",
      "Gulab-Jamun (197)\n",
      "Gulab-Jamun (198)\n"
     ]
    },
    {
     "name": "stderr",
     "output_type": "stream",
     "text": [
      "\r",
      " 26%|████████████████████                                                         | 3043/11648 [00:32<04:04, 35.18it/s]"
     ]
    },
    {
     "name": "stdout",
     "output_type": "stream",
     "text": [
      "Gulab-Jamun (199)\n",
      "Gulab-Jamun (2)\n",
      "Gulab-Jamun (2)\n",
      "Gulab-Jamun (20)\n",
      "Gulab-Jamun (20)\n",
      "Gulab-Jamun (200)\n"
     ]
    },
    {
     "name": "stderr",
     "output_type": "stream",
     "text": [
      "\r",
      " 26%|████████████████████▏                                                        | 3049/11648 [00:32<04:05, 35.06it/s]"
     ]
    },
    {
     "name": "stdout",
     "output_type": "stream",
     "text": [
      "Gulab-Jamun (201)\n",
      "Gulab-Jamun (202)\n",
      "Gulab-Jamun (203)\n",
      "Gulab-Jamun (204)\n",
      "Gulab-Jamun (205)\n",
      "Gulab-Jamun (206)\n",
      "Gulab-Jamun (207)\n"
     ]
    },
    {
     "name": "stderr",
     "output_type": "stream",
     "text": [
      "\r",
      " 26%|████████████████████▏                                                        | 3056/11648 [00:32<03:29, 40.96it/s]"
     ]
    },
    {
     "name": "stdout",
     "output_type": "stream",
     "text": [
      "Gulab-Jamun (208)\n",
      "Gulab-Jamun (209)\n",
      "Gulab-Jamun (21)\n",
      "Gulab-Jamun (21)\n",
      "Gulab-Jamun (210)\n",
      "Gulab-Jamun (211)\n"
     ]
    },
    {
     "name": "stderr",
     "output_type": "stream",
     "text": [
      "\r",
      " 26%|████████████████████▏                                                        | 3062/11648 [00:32<03:14, 44.20it/s]"
     ]
    },
    {
     "name": "stdout",
     "output_type": "stream",
     "text": [
      "Gulab-Jamun (212)\n",
      "Gulab-Jamun (213)\n",
      "Gulab-Jamun (214)\n",
      "Gulab-Jamun (215)\n",
      "Gulab-Jamun (216)\n",
      "Gulab-Jamun (217)\n",
      "Gulab-Jamun (218)\n",
      "Gulab-Jamun (219)\n",
      "Gulab-Jamun (22)\n"
     ]
    },
    {
     "name": "stderr",
     "output_type": "stream",
     "text": [
      "\r",
      " 26%|████████████████████▎                                                        | 3071/11648 [00:33<02:56, 48.72it/s]"
     ]
    },
    {
     "name": "stdout",
     "output_type": "stream",
     "text": [
      "Gulab-Jamun (22)\n",
      "Gulab-Jamun (220)\n",
      "Gulab-Jamun (221)\n",
      "Gulab-Jamun (222)\n",
      "Gulab-Jamun (223)\n",
      "Gulab-Jamun (224)\n"
     ]
    },
    {
     "name": "stderr",
     "output_type": "stream",
     "text": [
      "\r",
      " 26%|████████████████████▎                                                        | 3077/11648 [00:33<03:05, 46.09it/s]"
     ]
    },
    {
     "name": "stdout",
     "output_type": "stream",
     "text": [
      "Gulab-Jamun (225)\n",
      "Gulab-Jamun (226)\n",
      "Gulab-Jamun (227)\n",
      "Gulab-Jamun (228)\n",
      "Gulab-Jamun (229)\n",
      "Gulab-Jamun (23)\n"
     ]
    },
    {
     "name": "stderr",
     "output_type": "stream",
     "text": [
      "\r",
      " 26%|████████████████████▍                                                        | 3083/11648 [00:33<03:43, 38.30it/s]"
     ]
    },
    {
     "name": "stdout",
     "output_type": "stream",
     "text": [
      "Gulab-Jamun (23)\n",
      "Gulab-Jamun (230)\n",
      "Gulab-Jamun (231)\n",
      "Gulab-Jamun (232)\n",
      "Gulab-Jamun (233)\n",
      "Gulab-Jamun (234)\n",
      "Gulab-Jamun (235)\n",
      "Gulab-Jamun (236)\n",
      "Gulab-Jamun (237)\n",
      "Gulab-Jamun (238)\n",
      "Gulab-Jamun (239)\n"
     ]
    },
    {
     "name": "stderr",
     "output_type": "stream",
     "text": [
      "\r",
      " 27%|████████████████████▍                                                        | 3094/11648 [00:33<03:00, 47.26it/s]"
     ]
    },
    {
     "name": "stdout",
     "output_type": "stream",
     "text": [
      "Gulab-Jamun (24)\n",
      "Gulab-Jamun (24)\n",
      "Gulab-Jamun (240)\n",
      "Gulab-Jamun (241)\n",
      "Gulab-Jamun (242)\n",
      "Gulab-Jamun (243)\n",
      "Gulab-Jamun (244)\n"
     ]
    },
    {
     "name": "stderr",
     "output_type": "stream",
     "text": [
      "\r",
      " 27%|████████████████████▍                                                        | 3101/11648 [00:33<02:53, 49.30it/s]"
     ]
    },
    {
     "name": "stdout",
     "output_type": "stream",
     "text": [
      "Gulab-Jamun (245)\n",
      "Gulab-Jamun (246)\n",
      "Gulab-Jamun (247)\n",
      "Gulab-Jamun (248)\n",
      "Gulab-Jamun (249)\n",
      "Gulab-Jamun (25)\n",
      "Gulab-Jamun (25)\n"
     ]
    },
    {
     "name": "stderr",
     "output_type": "stream",
     "text": [
      "\r",
      " 27%|████████████████████▌                                                        | 3108/11648 [00:33<02:40, 53.27it/s]"
     ]
    },
    {
     "name": "stdout",
     "output_type": "stream",
     "text": [
      "Gulab-Jamun (250)\n",
      "Gulab-Jamun (251)\n",
      "Gulab-Jamun (252)\n",
      "Gulab-Jamun (253)\n",
      "Gulab-Jamun (254)\n",
      "Gulab-Jamun (255)\n",
      "Gulab-Jamun (256)\n",
      "Gulab-Jamun (257)\n",
      "Gulab-Jamun (258)\n",
      "Gulab-Jamun (259)\n",
      "Gulab-Jamun (26)\n"
     ]
    },
    {
     "name": "stderr",
     "output_type": "stream",
     "text": [
      "\r",
      " 27%|████████████████████▌                                                        | 3119/11648 [00:33<02:19, 60.96it/s]"
     ]
    },
    {
     "name": "stdout",
     "output_type": "stream",
     "text": [
      "Gulab-Jamun (26)\n",
      "Gulab-Jamun (260)\n",
      "Gulab-Jamun (261)\n",
      "Gulab-Jamun (262)\n",
      "Gulab-Jamun (263)\n",
      "Gulab-Jamun (264)\n",
      "Gulab-Jamun (265)\n",
      "Gulab-Jamun (266)\n",
      "Gulab-Jamun (267)\n"
     ]
    },
    {
     "name": "stderr",
     "output_type": "stream",
     "text": [
      "\r",
      " 27%|████████████████████▋                                                        | 3128/11648 [00:33<02:10, 65.33it/s]"
     ]
    },
    {
     "name": "stdout",
     "output_type": "stream",
     "text": [
      "Gulab-Jamun (268)\n",
      "Gulab-Jamun (269)\n",
      "Gulab-Jamun (27)\n",
      "Gulab-Jamun (270)\n",
      "Gulab-Jamun (271)\n",
      "Gulab-Jamun (272)\n",
      "Gulab-Jamun (273)\n",
      "Gulab-Jamun (274)\n"
     ]
    },
    {
     "name": "stderr",
     "output_type": "stream",
     "text": [
      "\r",
      " 27%|████████████████████▋                                                        | 3136/11648 [00:34<02:42, 52.48it/s]"
     ]
    },
    {
     "name": "stdout",
     "output_type": "stream",
     "text": [
      "Gulab-Jamun (275)\n",
      "Gulab-Jamun (276)\n",
      "Gulab-Jamun (277)\n",
      "Gulab-Jamun (278)\n",
      "Gulab-Jamun (279)\n",
      "Gulab-Jamun (28)\n",
      "Gulab-Jamun (280)\n"
     ]
    },
    {
     "name": "stderr",
     "output_type": "stream",
     "text": [
      "\r",
      " 27%|████████████████████▊                                                        | 3143/11648 [00:34<02:41, 52.57it/s]"
     ]
    },
    {
     "name": "stdout",
     "output_type": "stream",
     "text": [
      "Gulab-Jamun (281)\n",
      "Gulab-Jamun (282)\n",
      "Gulab-Jamun (283)\n",
      "Gulab-Jamun (284)\n",
      "Gulab-Jamun (285)\n",
      "Gulab-Jamun (286)\n",
      "Gulab-Jamun (287)\n",
      "Gulab-Jamun (288)\n",
      "Gulab-Jamun (289)\n",
      "Gulab-Jamun (29)\n"
     ]
    },
    {
     "name": "stderr",
     "output_type": "stream",
     "text": [
      "\r",
      " 27%|████████████████████▊                                                        | 3153/11648 [00:34<02:19, 61.10it/s]"
     ]
    },
    {
     "name": "stdout",
     "output_type": "stream",
     "text": [
      "Gulab-Jamun (290)\n",
      "Gulab-Jamun (291)\n",
      "Gulab-Jamun (292)\n",
      "Gulab-Jamun (293)\n",
      "Gulab-Jamun (294)\n",
      "Gulab-Jamun (295)\n",
      "Gulab-Jamun (296)\n",
      "Gulab-Jamun (297)\n",
      "Gulab-Jamun (298)\n"
     ]
    },
    {
     "name": "stderr",
     "output_type": "stream",
     "text": [
      "\r",
      " 27%|████████████████████▉                                                        | 3162/11648 [00:34<02:08, 65.87it/s]"
     ]
    },
    {
     "name": "stdout",
     "output_type": "stream",
     "text": [
      "Gulab-Jamun (299)\n",
      "Gulab-Jamun (3)\n",
      "Gulab-Jamun (3)\n",
      "Gulab-Jamun (30)\n",
      "Gulab-Jamun (300)\n",
      "Gulab-Jamun (301)\n",
      "Gulab-Jamun (302)\n",
      "Gulab-Jamun (303)\n"
     ]
    },
    {
     "name": "stderr",
     "output_type": "stream",
     "text": [
      "\r",
      " 27%|████████████████████▉                                                        | 3170/11648 [00:34<02:13, 63.64it/s]"
     ]
    },
    {
     "name": "stdout",
     "output_type": "stream",
     "text": [
      "Gulab-Jamun (304)\n",
      "Gulab-Jamun (305)\n",
      "Gulab-Jamun (306)\n",
      "Gulab-Jamun (307)\n",
      "Gulab-Jamun (308)\n",
      "Gulab-Jamun (309)\n",
      "Gulab-Jamun (31)\n"
     ]
    },
    {
     "name": "stderr",
     "output_type": "stream",
     "text": [
      "\r",
      " 27%|█████████████████████                                                        | 3177/11648 [00:34<02:43, 51.95it/s]"
     ]
    },
    {
     "name": "stdout",
     "output_type": "stream",
     "text": [
      "Gulab-Jamun (310)\n",
      "Gulab-Jamun (311)\n",
      "Gulab-Jamun (312)\n",
      "Gulab-Jamun (313)\n",
      "Gulab-Jamun (314)\n",
      "Gulab-Jamun (315)\n"
     ]
    },
    {
     "name": "stderr",
     "output_type": "stream",
     "text": [
      "\r",
      " 27%|█████████████████████                                                        | 3183/11648 [00:35<03:22, 41.76it/s]"
     ]
    },
    {
     "name": "stdout",
     "output_type": "stream",
     "text": [
      "Gulab-Jamun (316)\n",
      "Gulab-Jamun (317)\n",
      "Gulab-Jamun (318)\n",
      "Gulab-Jamun (319)\n",
      "Gulab-Jamun (32)\n",
      "Gulab-Jamun (320)\n",
      "Gulab-Jamun (321)\n",
      "Gulab-Jamun (322)\n"
     ]
    },
    {
     "name": "stderr",
     "output_type": "stream",
     "text": [
      "\r",
      " 27%|█████████████████████                                                        | 3191/11648 [00:35<02:53, 48.69it/s]"
     ]
    },
    {
     "name": "stdout",
     "output_type": "stream",
     "text": [
      "Gulab-Jamun (323)\n",
      "Gulab-Jamun (324)\n",
      "Gulab-Jamun (325)\n",
      "Gulab-Jamun (326)\n",
      "Gulab-Jamun (327)\n",
      "Gulab-Jamun (328)\n",
      "Gulab-Jamun (329)\n"
     ]
    },
    {
     "name": "stderr",
     "output_type": "stream",
     "text": [
      "\r",
      " 27%|█████████████████████▏                                                       | 3198/11648 [00:35<02:41, 52.41it/s]"
     ]
    },
    {
     "name": "stdout",
     "output_type": "stream",
     "text": [
      "Gulab-Jamun (33)\n",
      "Gulab-Jamun (330)\n",
      "Gulab-Jamun (331)\n",
      "Gulab-Jamun (332)\n",
      "Gulab-Jamun (333)\n",
      "Gulab-Jamun (334)\n",
      "Gulab-Jamun (335)\n"
     ]
    },
    {
     "name": "stderr",
     "output_type": "stream",
     "text": [
      "\r",
      " 28%|█████████████████████▏                                                       | 3205/11648 [00:35<02:32, 55.25it/s]"
     ]
    },
    {
     "name": "stdout",
     "output_type": "stream",
     "text": [
      "Gulab-Jamun (336)\n",
      "Gulab-Jamun (337)\n",
      "Gulab-Jamun (338)\n",
      "Gulab-Jamun (339)\n",
      "Gulab-Jamun (34)\n",
      "Gulab-Jamun (340)\n",
      "Gulab-Jamun (341)\n",
      "Gulab-Jamun (342)\n",
      "Gulab-Jamun (343)\n"
     ]
    },
    {
     "name": "stderr",
     "output_type": "stream",
     "text": [
      "\r",
      " 28%|█████████████████████▏                                                       | 3214/11648 [00:35<02:17, 61.50it/s]"
     ]
    },
    {
     "name": "stdout",
     "output_type": "stream",
     "text": [
      "Gulab-Jamun (344)\n",
      "Gulab-Jamun (345)\n",
      "Gulab-Jamun (346)\n",
      "Gulab-Jamun (347)\n",
      "Gulab-Jamun (348)\n",
      "Gulab-Jamun (35)\n",
      "Gulab-Jamun (36)\n"
     ]
    },
    {
     "name": "stderr",
     "output_type": "stream",
     "text": [
      "\r",
      " 28%|█████████████████████▎                                                       | 3221/11648 [00:35<02:18, 60.88it/s]"
     ]
    },
    {
     "name": "stdout",
     "output_type": "stream",
     "text": [
      "Gulab-Jamun (37)\n",
      "Gulab-Jamun (38)\n",
      "Gulab-Jamun (39)\n",
      "Gulab-Jamun (4)\n",
      "Gulab-Jamun (4)\n",
      "Gulab-Jamun (40)\n",
      "Gulab-Jamun (41)\n"
     ]
    },
    {
     "name": "stderr",
     "output_type": "stream",
     "text": [
      "\r",
      " 28%|█████████████████████▎                                                       | 3228/11648 [00:35<02:42, 51.76it/s]"
     ]
    },
    {
     "name": "stdout",
     "output_type": "stream",
     "text": [
      "Gulab-Jamun (42)\n",
      "Gulab-Jamun (43)\n",
      "Gulab-Jamun (44)\n",
      "Gulab-Jamun (45)\n",
      "Gulab-Jamun (46)\n",
      "Gulab-Jamun (47)\n",
      "Gulab-Jamun (48)\n",
      "Gulab-Jamun (49)\n",
      "Gulab-Jamun (5)\n",
      "Gulab-Jamun (5)\n",
      "Gulab-Jamun (50)\n"
     ]
    },
    {
     "name": "stderr",
     "output_type": "stream",
     "text": [
      "\r",
      " 28%|█████████████████████▍                                                       | 3239/11648 [00:35<02:17, 61.25it/s]"
     ]
    },
    {
     "name": "stdout",
     "output_type": "stream",
     "text": [
      "Gulab-Jamun (51)\n",
      "Gulab-Jamun (52)\n",
      "Gulab-Jamun (53)\n",
      "Gulab-Jamun (54)\n",
      "Gulab-Jamun (55)\n",
      "Gulab-Jamun (56)\n",
      "Gulab-Jamun (57)\n",
      "Gulab-Jamun (58)\n",
      "Gulab-Jamun (59)\n",
      "Gulab-Jamun (6)\n"
     ]
    },
    {
     "name": "stderr",
     "output_type": "stream",
     "text": [
      "\r",
      " 28%|█████████████████████▍                                                       | 3249/11648 [00:36<02:10, 64.40it/s]"
     ]
    },
    {
     "name": "stdout",
     "output_type": "stream",
     "text": [
      "Gulab-Jamun (6)\n",
      "Gulab-Jamun (60)\n",
      "Gulab-Jamun (61)\n",
      "Gulab-Jamun (62)\n",
      "Gulab-Jamun (63)\n",
      "Gulab-Jamun (64)\n",
      "Gulab-Jamun (65)\n",
      "Gulab-Jamun (66)\n",
      "Gulab-Jamun (67)\n",
      "Gulab-Jamun (68)\n",
      "Gulab-Jamun (69)\n",
      "Gulab-Jamun (7)\n"
     ]
    },
    {
     "name": "stderr",
     "output_type": "stream",
     "text": [
      "\r",
      " 28%|█████████████████████▌                                                       | 3261/11648 [00:36<01:58, 70.62it/s]"
     ]
    },
    {
     "name": "stdout",
     "output_type": "stream",
     "text": [
      "Gulab-Jamun (7)\n",
      "Gulab-Jamun (70)\n",
      "Gulab-Jamun (71)\n",
      "Gulab-Jamun (72)\n",
      "Gulab-Jamun (73)\n",
      "Gulab-Jamun (74)\n",
      "Gulab-Jamun (75)\n",
      "Gulab-Jamun (76)\n"
     ]
    },
    {
     "name": "stderr",
     "output_type": "stream",
     "text": [
      "\r",
      " 28%|█████████████████████▌                                                       | 3269/11648 [00:36<02:54, 48.00it/s]"
     ]
    },
    {
     "name": "stdout",
     "output_type": "stream",
     "text": [
      "Gulab-Jamun (77)\n",
      "Gulab-Jamun (78)\n",
      "Gulab-Jamun (79)\n",
      "Gulab-Jamun (8)\n",
      "Gulab-Jamun (8)\n",
      "Gulab-Jamun (80)\n",
      "Gulab-Jamun (81)\n"
     ]
    },
    {
     "name": "stderr",
     "output_type": "stream",
     "text": [
      "\r",
      " 28%|█████████████████████▋                                                       | 3276/11648 [00:36<02:54, 47.92it/s]"
     ]
    },
    {
     "name": "stdout",
     "output_type": "stream",
     "text": [
      "Gulab-Jamun (82)\n",
      "Gulab-Jamun (83)\n",
      "Gulab-Jamun (84)\n",
      "Gulab-Jamun (85)\n",
      "Gulab-Jamun (86)\n",
      "Gulab-Jamun (87)\n",
      "Gulab-Jamun (88)\n",
      "Gulab-Jamun (89)\n",
      "Gulab-Jamun (9)\n"
     ]
    },
    {
     "name": "stderr",
     "output_type": "stream",
     "text": [
      "\r",
      " 28%|█████████████████████▋                                                       | 3285/11648 [00:36<02:34, 53.97it/s]"
     ]
    },
    {
     "name": "stdout",
     "output_type": "stream",
     "text": [
      "Gulab-Jamun (9)\n",
      "Gulab-Jamun (90)\n",
      "Gulab-Jamun (91)\n",
      "Gulab-Jamun (92)\n",
      "Gulab-Jamun (93)\n",
      "Gulab-Jamun (94)\n",
      "Gulab-Jamun (95)\n",
      "Gulab-Jamun (96)\n"
     ]
    },
    {
     "name": "stderr",
     "output_type": "stream",
     "text": [
      "\r",
      " 28%|█████████████████████▊                                                       | 3293/11648 [00:36<02:20, 59.58it/s]"
     ]
    },
    {
     "name": "stdout",
     "output_type": "stream",
     "text": [
      "Gulab-Jamun (97)\n",
      "Gulab-Jamun (98)\n",
      "Gulab-Jamun (99)\n",
      "Gulab-Jamun 1 (100)\n",
      "Gulab-Jamun 1 (101)\n",
      "Gulab-Jamun 1 (102)\n",
      "Gulab-Jamun 1 (103)\n",
      "Gulab-Jamun 1 (104)\n",
      "Gulab-Jamun 1 (105)\n",
      "Gulab-Jamun 1 (106)\n",
      "Gulab-Jamun 1 (99)\n",
      "Gulab-Jamun 3 (1)\n"
     ]
    },
    {
     "name": "stderr",
     "output_type": "stream",
     "text": [
      "\r",
      " 28%|█████████████████████▊                                                       | 3305/11648 [00:36<02:06, 65.83it/s]"
     ]
    },
    {
     "name": "stdout",
     "output_type": "stream",
     "text": [
      "Gulab-Jamun 3 (1)\n",
      "Gulab-Jamun 3 (10)\n",
      "Gulab-Jamun 3 (10)\n",
      "Gulab-Jamun 3 (100)\n",
      "Gulab-Jamun 3 (100)\n",
      "Gulab-Jamun 3 (1000)\n",
      "Gulab-Jamun 3 (1001)\n",
      "Gulab-Jamun 3 (1002)\n"
     ]
    },
    {
     "name": "stderr",
     "output_type": "stream",
     "text": [
      "\r",
      " 28%|█████████████████████▉                                                       | 3313/11648 [00:37<02:10, 63.77it/s]"
     ]
    },
    {
     "name": "stdout",
     "output_type": "stream",
     "text": [
      "Gulab-Jamun 3 (1003)\n",
      "Gulab-Jamun 3 (1004)\n",
      "Gulab-Jamun 3 (1005)\n",
      "Gulab-Jamun 3 (1006)\n",
      "Gulab-Jamun 3 (1007)\n",
      "Gulab-Jamun 3 (1008)\n",
      "Gulab-Jamun 3 (1009)\n"
     ]
    },
    {
     "name": "stderr",
     "output_type": "stream",
     "text": [
      "\r",
      " 29%|█████████████████████▉                                                       | 3320/11648 [00:37<02:29, 55.59it/s]"
     ]
    },
    {
     "name": "stdout",
     "output_type": "stream",
     "text": [
      "Gulab-Jamun 3 (101)\n",
      "Gulab-Jamun 3 (101)\n",
      "Gulab-Jamun 3 (1010)\n",
      "Gulab-Jamun 3 (1011)\n",
      "Gulab-Jamun 3 (1012)\n",
      "Gulab-Jamun 3 (1013)\n",
      "Gulab-Jamun 3 (1014)\n"
     ]
    },
    {
     "name": "stderr",
     "output_type": "stream",
     "text": [
      "\r",
      " 29%|█████████████████████▉                                                       | 3327/11648 [00:37<02:57, 46.92it/s]"
     ]
    },
    {
     "name": "stdout",
     "output_type": "stream",
     "text": [
      "Gulab-Jamun 3 (1015)\n",
      "Gulab-Jamun 3 (1016)\n",
      "Gulab-Jamun 3 (1017)\n",
      "Gulab-Jamun 3 (1018)\n",
      "Gulab-Jamun 3 (1019)\n",
      "Gulab-Jamun 3 (102)\n"
     ]
    },
    {
     "name": "stderr",
     "output_type": "stream",
     "text": [
      "\r",
      " 29%|██████████████████████                                                       | 3333/11648 [00:37<03:19, 41.59it/s]"
     ]
    },
    {
     "name": "stdout",
     "output_type": "stream",
     "text": [
      "Gulab-Jamun 3 (102)\n",
      "Gulab-Jamun 3 (1020)\n",
      "Gulab-Jamun 3 (1021)\n",
      "Gulab-Jamun 3 (1022)\n",
      "Gulab-Jamun 3 (1023)\n"
     ]
    },
    {
     "name": "stderr",
     "output_type": "stream",
     "text": [
      "\r",
      " 29%|██████████████████████                                                       | 3338/11648 [00:37<03:10, 43.72it/s]"
     ]
    },
    {
     "name": "stdout",
     "output_type": "stream",
     "text": [
      "Gulab-Jamun 3 (1024)\n",
      "Gulab-Jamun 3 (1025)\n",
      "Gulab-Jamun 3 (1026)\n",
      "Gulab-Jamun 3 (1027)\n",
      "Gulab-Jamun 3 (1028)\n",
      "Gulab-Jamun 3 (1029)\n",
      "Gulab-Jamun 3 (103)\n",
      "Gulab-Jamun 3 (103)\n"
     ]
    },
    {
     "name": "stderr",
     "output_type": "stream",
     "text": [
      "\r",
      " 29%|██████████████████████                                                       | 3346/11648 [00:37<02:45, 50.06it/s]"
     ]
    },
    {
     "name": "stdout",
     "output_type": "stream",
     "text": [
      "Gulab-Jamun 3 (1030)\n",
      "Gulab-Jamun 3 (1031)\n",
      "Gulab-Jamun 3 (1032)\n",
      "Gulab-Jamun 3 (1033)\n",
      "Gulab-Jamun 3 (1034)\n",
      "Gulab-Jamun 3 (1035)\n",
      "Gulab-Jamun 3 (1036)\n",
      "Gulab-Jamun 3 (1037)\n",
      "Gulab-Jamun 3 (1038)\n",
      "Gulab-Jamun 3 (1039)\n",
      "Gulab-Jamun 3 (104)\n"
     ]
    },
    {
     "name": "stderr",
     "output_type": "stream",
     "text": [
      "\r",
      " 29%|██████████████████████▏                                                      | 3357/11648 [00:37<02:26, 56.64it/s]"
     ]
    },
    {
     "name": "stdout",
     "output_type": "stream",
     "text": [
      "Gulab-Jamun 3 (104)\n",
      "Gulab-Jamun 3 (1040)\n",
      "Gulab-Jamun 3 (1041)\n",
      "Gulab-Jamun 3 (1042)\n",
      "Gulab-Jamun 3 (1043)\n",
      "Gulab-Jamun 3 (1044)\n",
      "Gulab-Jamun 3 (1045)\n",
      "Gulab-Jamun 3 (1046)\n",
      "Gulab-Jamun 3 (1047)\n",
      "Gulab-Jamun 3 (1048)\n"
     ]
    },
    {
     "name": "stderr",
     "output_type": "stream",
     "text": [
      "\r",
      " 29%|██████████████████████▎                                                      | 3367/11648 [00:38<02:09, 64.14it/s]"
     ]
    },
    {
     "name": "stdout",
     "output_type": "stream",
     "text": [
      "Gulab-Jamun 3 (1049)\n",
      "Gulab-Jamun 3 (105)\n",
      "Gulab-Jamun 3 (105)\n",
      "Gulab-Jamun 3 (1050)\n",
      "Gulab-Jamun 3 (1051)\n",
      "Gulab-Jamun 3 (1052)\n",
      "Gulab-Jamun 3 (1053)\n",
      "Gulab-Jamun 3 (1054)\n"
     ]
    },
    {
     "name": "stderr",
     "output_type": "stream",
     "text": [
      "\r",
      " 29%|██████████████████████▎                                                      | 3375/11648 [00:38<02:31, 54.59it/s]"
     ]
    },
    {
     "name": "stdout",
     "output_type": "stream",
     "text": [
      "Gulab-Jamun 3 (1055)\n",
      "Gulab-Jamun 3 (1056)\n",
      "Gulab-Jamun 3 (1057)\n",
      "Gulab-Jamun 3 (1058)\n",
      "Gulab-Jamun 3 (1059)\n",
      "Gulab-Jamun 3 (106)\n",
      "Gulab-Jamun 3 (106)\n"
     ]
    },
    {
     "name": "stderr",
     "output_type": "stream",
     "text": [
      "\r",
      " 29%|██████████████████████▎                                                      | 3382/11648 [00:38<02:57, 46.70it/s]"
     ]
    },
    {
     "name": "stdout",
     "output_type": "stream",
     "text": [
      "Gulab-Jamun 3 (1060)\n",
      "Gulab-Jamun 3 (1061)\n",
      "Gulab-Jamun 3 (1062)\n",
      "Gulab-Jamun 3 (1063)\n",
      "Gulab-Jamun 3 (1064)\n",
      "Gulab-Jamun 3 (1065)\n",
      "Gulab-Jamun 3 (1066)\n",
      "Gulab-Jamun 3 (1067)\n",
      "Gulab-Jamun 3 (1068)\n",
      "Gulab-Jamun 3 (1069)\n"
     ]
    },
    {
     "name": "stderr",
     "output_type": "stream",
     "text": [
      "\r",
      " 29%|██████████████████████▍                                                      | 3392/11648 [00:38<02:34, 53.48it/s]"
     ]
    },
    {
     "name": "stdout",
     "output_type": "stream",
     "text": [
      "Gulab-Jamun 3 (107)\n",
      "Gulab-Jamun 3 (107)\n",
      "Gulab-Jamun 3 (1070)\n",
      "Gulab-Jamun 3 (1071)\n",
      "Gulab-Jamun 3 (1072)\n",
      "Gulab-Jamun 3 (1073)\n",
      "Gulab-Jamun 3 (1074)\n"
     ]
    },
    {
     "name": "stderr",
     "output_type": "stream",
     "text": [
      "\r",
      " 29%|██████████████████████▍                                                      | 3399/11648 [00:38<02:36, 52.66it/s]"
     ]
    },
    {
     "name": "stdout",
     "output_type": "stream",
     "text": [
      "Gulab-Jamun 3 (1075)\n",
      "Gulab-Jamun 3 (1076)\n",
      "Gulab-Jamun 3 (1077)\n",
      "Gulab-Jamun 3 (1078)\n",
      "Gulab-Jamun 3 (1079)\n",
      "Gulab-Jamun 3 (108)\n",
      "Gulab-Jamun 3 (108)\n",
      "Gulab-Jamun 3 (1080)\n"
     ]
    },
    {
     "name": "stderr",
     "output_type": "stream",
     "text": [
      "\r",
      " 29%|██████████████████████▌                                                      | 3407/11648 [00:38<02:22, 57.82it/s]"
     ]
    },
    {
     "name": "stdout",
     "output_type": "stream",
     "text": [
      "Gulab-Jamun 3 (1081)\n",
      "Gulab-Jamun 3 (1082)\n",
      "Gulab-Jamun 3 (1083)\n",
      "Gulab-Jamun 3 (1084)\n",
      "Gulab-Jamun 3 (1085)\n",
      "Gulab-Jamun 3 (1086)\n",
      "Gulab-Jamun 3 (1087)\n",
      "Gulab-Jamun 3 (1088)\n",
      "Gulab-Jamun 3 (1089)\n",
      "Gulab-Jamun 3 (109)\n"
     ]
    },
    {
     "name": "stderr",
     "output_type": "stream",
     "text": [
      "\r",
      " 29%|██████████████████████▌                                                      | 3417/11648 [00:38<02:10, 63.23it/s]"
     ]
    },
    {
     "name": "stdout",
     "output_type": "stream",
     "text": [
      "Gulab-Jamun 3 (109)\n",
      "Gulab-Jamun 3 (1090)\n",
      "Gulab-Jamun 3 (1091)\n",
      "Gulab-Jamun 3 (1092)\n",
      "Gulab-Jamun 3 (1093)\n",
      "Gulab-Jamun 3 (1094)\n",
      "Gulab-Jamun 3 (1095)\n",
      "Gulab-Jamun 3 (1096)\n",
      "Gulab-Jamun 3 (1097)\n",
      "Gulab-Jamun 3 (1098)\n",
      "Gulab-Jamun 3 (1099)\n",
      "Gulab-Jamun 3 (11)\n"
     ]
    },
    {
     "name": "stderr",
     "output_type": "stream",
     "text": [
      "\r",
      " 29%|██████████████████████▋                                                      | 3429/11648 [00:39<01:59, 68.56it/s]"
     ]
    },
    {
     "name": "stdout",
     "output_type": "stream",
     "text": [
      "Gulab-Jamun 3 (11)\n",
      "Gulab-Jamun 3 (110)\n",
      "Gulab-Jamun 3 (110)\n",
      "Gulab-Jamun 3 (1100)\n",
      "Gulab-Jamun 3 (1101)\n",
      "Gulab-Jamun 3 (1102)\n",
      "Gulab-Jamun 3 (1103)\n",
      "Gulab-Jamun 3 (1104)\n",
      "Gulab-Jamun 3 (1105)\n"
     ]
    },
    {
     "name": "stderr",
     "output_type": "stream",
     "text": [
      "\r",
      " 30%|██████████████████████▋                                                      | 3438/11648 [00:39<01:51, 73.52it/s]"
     ]
    },
    {
     "name": "stdout",
     "output_type": "stream",
     "text": [
      "Gulab-Jamun 3 (1106)\n",
      "Gulab-Jamun 3 (1107)\n",
      "Gulab-Jamun 3 (1108)\n",
      "Gulab-Jamun 3 (1109)\n",
      "Gulab-Jamun 3 (111)\n",
      "Gulab-Jamun 3 (111)\n",
      "Gulab-Jamun 3 (1110)\n",
      "Gulab-Jamun 3 (1111)\n",
      "Gulab-Jamun 3 (1112)\n",
      "Gulab-Jamun 3 (1113)\n",
      "Gulab-Jamun 3 (1114)\n"
     ]
    },
    {
     "name": "stderr",
     "output_type": "stream",
     "text": [
      "\r",
      " 30%|██████████████████████▊                                                      | 3449/11648 [00:39<01:41, 81.15it/s]"
     ]
    },
    {
     "name": "stdout",
     "output_type": "stream",
     "text": [
      "Gulab-Jamun 3 (1115)\n",
      "Gulab-Jamun 3 (1116)\n",
      "Gulab-Jamun 3 (1117)\n",
      "Gulab-Jamun 3 (1118)\n",
      "Gulab-Jamun 3 (1119)\n",
      "Gulab-Jamun 3 (112)\n",
      "Gulab-Jamun 3 (112)\n",
      "Gulab-Jamun 3 (1120)\n",
      "Gulab-Jamun 3 (1121)\n",
      "Gulab-Jamun 3 (1122)\n",
      "Gulab-Jamun 3 (1123)\n",
      "Gulab-Jamun 3 (1124)\n",
      "Gulab-Jamun 3 (1125)\n",
      "Gulab-Jamun 3 (1126)\n"
     ]
    },
    {
     "name": "stderr",
     "output_type": "stream",
     "text": [
      "\r",
      " 30%|██████████████████████▉                                                      | 3463/11648 [00:39<01:28, 92.36it/s]"
     ]
    },
    {
     "name": "stdout",
     "output_type": "stream",
     "text": [
      "Gulab-Jamun 3 (1127)\n",
      "Gulab-Jamun 3 (1128)\n",
      "Gulab-Jamun 3 (1129)\n",
      "Gulab-Jamun 3 (113)\n",
      "Gulab-Jamun 3 (113)\n",
      "Gulab-Jamun 3 (1130)\n",
      "Gulab-Jamun 3 (1131)\n",
      "Gulab-Jamun 3 (1132)\n",
      "Gulab-Jamun 3 (1133)\n",
      "Gulab-Jamun 3 (1134)\n",
      "Gulab-Jamun 3 (1135)\n"
     ]
    },
    {
     "name": "stderr",
     "output_type": "stream",
     "text": [
      "\r",
      " 30%|██████████████████████▉                                                      | 3474/11648 [00:39<01:27, 92.92it/s]"
     ]
    },
    {
     "name": "stdout",
     "output_type": "stream",
     "text": [
      "Gulab-Jamun 3 (1136)\n",
      "Gulab-Jamun 3 (1137)\n",
      "Gulab-Jamun 3 (1138)\n",
      "Gulab-Jamun 3 (1139)\n",
      "Gulab-Jamun 3 (114)\n",
      "Gulab-Jamun 3 (114)\n",
      "Gulab-Jamun 3 (1140)\n",
      "Gulab-Jamun 3 (1141)\n",
      "Gulab-Jamun 3 (1142)\n",
      "Gulab-Jamun 3 (1143)\n"
     ]
    },
    {
     "name": "stderr",
     "output_type": "stream",
     "text": [
      "\r",
      " 30%|███████████████████████                                                      | 3484/11648 [00:39<01:30, 90.14it/s]"
     ]
    },
    {
     "name": "stdout",
     "output_type": "stream",
     "text": [
      "Gulab-Jamun 3 (1144)\n",
      "Gulab-Jamun 3 (1145)\n",
      "Gulab-Jamun 3 (1146)\n",
      "Gulab-Jamun 3 (1147)\n",
      "Gulab-Jamun 3 (1148)\n",
      "Gulab-Jamun 3 (1149)\n",
      "Gulab-Jamun 3 (115)\n",
      "Gulab-Jamun 3 (115)\n",
      "Gulab-Jamun 3 (1150)\n",
      "Gulab-Jamun 3 (1151)\n"
     ]
    },
    {
     "name": "stderr",
     "output_type": "stream",
     "text": [
      "\r",
      " 30%|███████████████████████                                                      | 3494/11648 [00:39<01:35, 85.14it/s]"
     ]
    },
    {
     "name": "stdout",
     "output_type": "stream",
     "text": [
      "Gulab-Jamun 3 (1152)\n",
      "Gulab-Jamun 3 (1153)\n",
      "Gulab-Jamun 3 (1154)\n",
      "Gulab-Jamun 3 (1155)\n",
      "Gulab-Jamun 3 (1156)\n",
      "Gulab-Jamun 3 (1157)\n",
      "Gulab-Jamun 3 (1158)\n",
      "Gulab-Jamun 3 (1159)\n",
      "Gulab-Jamun 3 (116)\n"
     ]
    },
    {
     "name": "stderr",
     "output_type": "stream",
     "text": [
      "\r",
      " 30%|███████████████████████▏                                                     | 3503/11648 [00:40<02:15, 60.00it/s]"
     ]
    },
    {
     "name": "stdout",
     "output_type": "stream",
     "text": [
      "Gulab-Jamun 3 (116)\n",
      "Gulab-Jamun 3 (1160)\n",
      "Gulab-Jamun 3 (1161)\n",
      "Gulab-Jamun 3 (1162)\n",
      "Gulab-Jamun 3 (1163)\n",
      "Gulab-Jamun 3 (1164)\n",
      "Gulab-Jamun 3 (1165)\n",
      "Gulab-Jamun 3 (1166)\n"
     ]
    },
    {
     "name": "stderr",
     "output_type": "stream",
     "text": [
      "\r",
      " 30%|███████████████████████▏                                                     | 3511/11648 [00:40<02:26, 55.48it/s]"
     ]
    },
    {
     "name": "stdout",
     "output_type": "stream",
     "text": [
      "Gulab-Jamun 3 (1167)\n",
      "Gulab-Jamun 3 (1168)\n",
      "Gulab-Jamun 3 (1169)\n",
      "Gulab-Jamun 3 (117)\n",
      "Gulab-Jamun 3 (117)\n",
      "Gulab-Jamun 3 (1170)\n",
      "Gulab-Jamun 3 (1171)\n"
     ]
    },
    {
     "name": "stderr",
     "output_type": "stream",
     "text": [
      "\r",
      " 30%|███████████████████████▎                                                     | 3518/11648 [00:40<02:50, 47.63it/s]"
     ]
    },
    {
     "name": "stdout",
     "output_type": "stream",
     "text": [
      "Gulab-Jamun 3 (1172)\n",
      "Gulab-Jamun 3 (1173)\n",
      "Gulab-Jamun 3 (1174)\n",
      "Gulab-Jamun 3 (1175)\n",
      "Gulab-Jamun 3 (1176)\n",
      "Gulab-Jamun 3 (1177)\n"
     ]
    },
    {
     "name": "stderr",
     "output_type": "stream",
     "text": [
      "\r",
      " 30%|███████████████████████▎                                                     | 3524/11648 [00:40<03:02, 44.59it/s]"
     ]
    },
    {
     "name": "stdout",
     "output_type": "stream",
     "text": [
      "Gulab-Jamun 3 (1178)\n",
      "Gulab-Jamun 3 (1179)\n",
      "Gulab-Jamun 3 (118)\n",
      "Gulab-Jamun 3 (118)\n",
      "Gulab-Jamun 3 (1180)\n",
      "Gulab-Jamun 3 (1181)\n"
     ]
    },
    {
     "name": "stderr",
     "output_type": "stream",
     "text": [
      "\r",
      " 30%|███████████████████████▎                                                     | 3530/11648 [00:40<03:06, 43.52it/s]"
     ]
    },
    {
     "name": "stdout",
     "output_type": "stream",
     "text": [
      "Gulab-Jamun 3 (1182)\n",
      "Gulab-Jamun 3 (1183)\n",
      "Gulab-Jamun 3 (1184)\n",
      "Gulab-Jamun 3 (1185)\n",
      "Gulab-Jamun 3 (1186)\n",
      "Gulab-Jamun 3 (1187)\n",
      "Gulab-Jamun 3 (1188)\n",
      "Gulab-Jamun 3 (1189)\n",
      "Gulab-Jamun 3 (119)\n"
     ]
    },
    {
     "name": "stderr",
     "output_type": "stream",
     "text": [
      "\r",
      " 30%|███████████████████████▍                                                     | 3539/11648 [00:40<02:44, 49.16it/s]"
     ]
    },
    {
     "name": "stdout",
     "output_type": "stream",
     "text": [
      "Gulab-Jamun 3 (119)\n",
      "Gulab-Jamun 3 (1190)\n",
      "Gulab-Jamun 3 (1191)\n",
      "Gulab-Jamun 3 (1192)\n",
      "Gulab-Jamun 3 (1193)\n",
      "Gulab-Jamun 3 (1194)\n",
      "Gulab-Jamun 3 (1195)\n",
      "Gulab-Jamun 3 (1196)\n",
      "Gulab-Jamun 3 (1197)\n",
      "Gulab-Jamun 3 (1198)\n",
      "Gulab-Jamun 3 (1199)\n",
      "Gulab-Jamun 3 (12)\n"
     ]
    },
    {
     "name": "stderr",
     "output_type": "stream",
     "text": [
      "\r",
      " 30%|███████████████████████▍                                                     | 3551/11648 [00:40<02:18, 58.29it/s]"
     ]
    },
    {
     "name": "stdout",
     "output_type": "stream",
     "text": [
      "Gulab-Jamun 3 (12)\n",
      "Gulab-Jamun 3 (120)\n",
      "Gulab-Jamun 3 (120)\n",
      "Gulab-Jamun 3 (1200)\n",
      "Gulab-Jamun 3 (1201)\n",
      "Gulab-Jamun 3 (1202)\n",
      "Gulab-Jamun 3 (1203)\n",
      "Gulab-Jamun 3 (1204)\n",
      "Gulab-Jamun 3 (1205)\n"
     ]
    },
    {
     "name": "stderr",
     "output_type": "stream",
     "text": [
      "\r",
      " 31%|███████████████████████▌                                                     | 3560/11648 [00:41<02:05, 64.52it/s]"
     ]
    },
    {
     "name": "stdout",
     "output_type": "stream",
     "text": [
      "Gulab-Jamun 3 (1206)\n",
      "Gulab-Jamun 3 (1207)\n",
      "Gulab-Jamun 3 (1208)\n",
      "Gulab-Jamun 3 (1209)\n",
      "Gulab-Jamun 3 (121)\n",
      "Gulab-Jamun 3 (121)\n",
      "Gulab-Jamun 3 (1210)\n",
      "Gulab-Jamun 3 (1211)\n"
     ]
    },
    {
     "name": "stderr",
     "output_type": "stream",
     "text": [
      "\r",
      " 31%|███████████████████████▌                                                     | 3568/11648 [00:41<01:58, 68.19it/s]"
     ]
    },
    {
     "name": "stdout",
     "output_type": "stream",
     "text": [
      "Gulab-Jamun 3 (1212)\n",
      "Gulab-Jamun 3 (1213)\n",
      "Gulab-Jamun 3 (1214)\n",
      "Gulab-Jamun 3 (1215)\n",
      "Gulab-Jamun 3 (1216)\n",
      "Gulab-Jamun 3 (1217)\n",
      "Gulab-Jamun 3 (1218)\n",
      "Gulab-Jamun 3 (1219)\n",
      "Gulab-Jamun 3 (122)\n",
      "Gulab-Jamun 3 (122)\n",
      "Gulab-Jamun 3 (1220)\n"
     ]
    },
    {
     "name": "stderr",
     "output_type": "stream",
     "text": [
      "\r",
      " 31%|███████████████████████▋                                                     | 3579/11648 [00:41<01:45, 76.21it/s]"
     ]
    },
    {
     "name": "stdout",
     "output_type": "stream",
     "text": [
      "Gulab-Jamun 3 (1221)\n",
      "Gulab-Jamun 3 (1222)\n",
      "Gulab-Jamun 3 (1223)\n",
      "Gulab-Jamun 3 (1224)\n",
      "Gulab-Jamun 3 (1225)\n",
      "Gulab-Jamun 3 (1226)\n",
      "Gulab-Jamun 3 (1227)\n",
      "Gulab-Jamun 3 (1228)\n",
      "Gulab-Jamun 3 (1229)\n",
      "Gulab-Jamun 3 (123)\n"
     ]
    },
    {
     "name": "stderr",
     "output_type": "stream",
     "text": [
      "\r",
      " 31%|███████████████████████▋                                                     | 3589/11648 [00:41<01:47, 74.94it/s]"
     ]
    },
    {
     "name": "stdout",
     "output_type": "stream",
     "text": [
      "Gulab-Jamun 3 (123)\n",
      "Gulab-Jamun 3 (1230)\n",
      "Gulab-Jamun 3 (1231)\n",
      "Gulab-Jamun 3 (1232)\n",
      "Gulab-Jamun 3 (1233)\n",
      "Gulab-Jamun 3 (1234)\n",
      "Gulab-Jamun 3 (1235)\n",
      "Gulab-Jamun 3 (1236)\n",
      "Gulab-Jamun 3 (1237)\n",
      "Gulab-Jamun 3 (1238)\n",
      "Gulab-Jamun 3 (1239)\n"
     ]
    },
    {
     "name": "stderr",
     "output_type": "stream",
     "text": [
      "\r",
      " 31%|███████████████████████▊                                                     | 3600/11648 [00:41<01:38, 81.99it/s]"
     ]
    },
    {
     "name": "stdout",
     "output_type": "stream",
     "text": [
      "Gulab-Jamun 3 (124)\n",
      "Gulab-Jamun 3 (124)\n",
      "Gulab-Jamun 3 (1240)\n",
      "Gulab-Jamun 3 (1241)\n",
      "Gulab-Jamun 3 (1242)\n",
      "Gulab-Jamun 3 (1243)\n",
      "Gulab-Jamun 3 (1244)\n",
      "Gulab-Jamun 3 (1245)\n",
      "Gulab-Jamun 3 (1246)\n"
     ]
    },
    {
     "name": "stderr",
     "output_type": "stream",
     "text": [
      "\r",
      " 31%|███████████████████████▊                                                     | 3609/11648 [00:41<01:37, 82.45it/s]"
     ]
    },
    {
     "name": "stdout",
     "output_type": "stream",
     "text": [
      "Gulab-Jamun 3 (1247)\n",
      "Gulab-Jamun 3 (1248)\n",
      "Gulab-Jamun 3 (1249)\n",
      "Gulab-Jamun 3 (125)\n",
      "Gulab-Jamun 3 (125)\n",
      "Gulab-Jamun 3 (1250)\n",
      "Gulab-Jamun 3 (1251)\n",
      "Gulab-Jamun 3 (1252)\n",
      "Gulab-Jamun 3 (1253)\n",
      "Gulab-Jamun 3 (1254)\n"
     ]
    },
    {
     "name": "stderr",
     "output_type": "stream",
     "text": [
      "\r",
      " 31%|███████████████████████▉                                                     | 3619/11648 [00:41<01:32, 86.87it/s]"
     ]
    },
    {
     "name": "stdout",
     "output_type": "stream",
     "text": [
      "Gulab-Jamun 3 (1255)\n",
      "Gulab-Jamun 3 (1256)\n",
      "Gulab-Jamun 3 (1257)\n",
      "Gulab-Jamun 3 (1258)\n",
      "Gulab-Jamun 3 (1259)\n",
      "Gulab-Jamun 3 (126)\n",
      "Gulab-Jamun 3 (126)\n",
      "Gulab-Jamun 3 (1260)\n",
      "Gulab-Jamun 3 (1261)\n",
      "Gulab-Jamun 3 (1262)\n",
      "Gulab-Jamun 3 (1263)\n"
     ]
    },
    {
     "name": "stderr",
     "output_type": "stream",
     "text": [
      "\r",
      " 31%|███████████████████████▉                                                     | 3630/11648 [00:41<01:27, 91.85it/s]"
     ]
    },
    {
     "name": "stdout",
     "output_type": "stream",
     "text": [
      "Gulab-Jamun 3 (1264)\n",
      "Gulab-Jamun 3 (1265)\n",
      "Gulab-Jamun 3 (1266)\n",
      "Gulab-Jamun 3 (1267)\n",
      "Gulab-Jamun 3 (1268)\n",
      "Gulab-Jamun 3 (1269)\n",
      "Gulab-Jamun 3 (127)\n",
      "Gulab-Jamun 3 (127)\n",
      "Gulab-Jamun 3 (1270)\n",
      "Gulab-Jamun 3 (1271)\n",
      "Gulab-Jamun 3 (1272)\n"
     ]
    },
    {
     "name": "stderr",
     "output_type": "stream",
     "text": [
      "\r",
      " 31%|████████████████████████                                                     | 3641/11648 [00:41<01:23, 95.70it/s]"
     ]
    },
    {
     "name": "stdout",
     "output_type": "stream",
     "text": [
      "Gulab-Jamun 3 (1273)\n",
      "Gulab-Jamun 3 (1274)\n",
      "Gulab-Jamun 3 (1275)\n",
      "Gulab-Jamun 3 (1276)\n",
      "Gulab-Jamun 3 (1277)\n",
      "Gulab-Jamun 3 (1278)\n",
      "Gulab-Jamun 3 (1279)\n",
      "Gulab-Jamun 3 (128)\n",
      "Gulab-Jamun 3 (128)\n",
      "Gulab-Jamun 3 (1280)\n",
      "Gulab-Jamun 3 (1281)\n"
     ]
    },
    {
     "name": "stderr",
     "output_type": "stream",
     "text": [
      "\r",
      " 31%|████████████████████████▏                                                    | 3652/11648 [00:42<01:20, 99.12it/s]"
     ]
    },
    {
     "name": "stdout",
     "output_type": "stream",
     "text": [
      "Gulab-Jamun 3 (1282)\n",
      "Gulab-Jamun 3 (1283)\n",
      "Gulab-Jamun 3 (1284)\n",
      "Gulab-Jamun 3 (1285)\n",
      "Gulab-Jamun 3 (1286)\n",
      "Gulab-Jamun 3 (1287)\n",
      "Gulab-Jamun 3 (1288)\n",
      "Gulab-Jamun 3 (1289)\n",
      "Gulab-Jamun 3 (129)\n",
      "Gulab-Jamun 3 (129)\n",
      "Gulab-Jamun 3 (1290)\n"
     ]
    },
    {
     "name": "stderr",
     "output_type": "stream",
     "text": [
      "\r",
      " 31%|████████████████████████▏                                                    | 3663/11648 [00:42<01:20, 98.92it/s]"
     ]
    },
    {
     "name": "stdout",
     "output_type": "stream",
     "text": [
      "Gulab-Jamun 3 (1291)\n",
      "Gulab-Jamun 3 (1292)\n",
      "Gulab-Jamun 3 (1293)\n",
      "Gulab-Jamun 3 (1294)\n",
      "Gulab-Jamun 3 (1295)\n",
      "Gulab-Jamun 3 (1296)\n",
      "Gulab-Jamun 3 (1297)\n",
      "Gulab-Jamun 3 (1298)\n",
      "Gulab-Jamun 3 (1299)\n",
      "Gulab-Jamun 3 (13)\n",
      "Gulab-Jamun 3 (13)\n"
     ]
    },
    {
     "name": "stderr",
     "output_type": "stream",
     "text": [
      "\r",
      " 32%|███████████████████████▉                                                    | 3674/11648 [00:42<01:19, 100.68it/s]"
     ]
    },
    {
     "name": "stdout",
     "output_type": "stream",
     "text": [
      "Gulab-Jamun 3 (130)\n",
      "Gulab-Jamun 3 (130)\n",
      "Gulab-Jamun 3 (1300)\n",
      "Gulab-Jamun 3 (1301)\n",
      "Gulab-Jamun 3 (1302)\n",
      "Gulab-Jamun 3 (1303)\n",
      "Gulab-Jamun 3 (1304)\n",
      "Gulab-Jamun 3 (1305)\n",
      "Gulab-Jamun 3 (1306)\n",
      "Gulab-Jamun 3 (1307)\n",
      "Gulab-Jamun 3 (1308)\n",
      "Gulab-Jamun 3 (1309)\n",
      "Gulab-Jamun 3 (131)\n"
     ]
    },
    {
     "name": "stderr",
     "output_type": "stream",
     "text": [
      "\r",
      " 32%|████████████████████████▎                                                    | 3687/11648 [00:42<01:21, 98.28it/s]"
     ]
    },
    {
     "name": "stdout",
     "output_type": "stream",
     "text": [
      "Gulab-Jamun 3 (131)\n",
      "Gulab-Jamun 3 (1310)\n",
      "Gulab-Jamun 3 (1311)\n",
      "Gulab-Jamun 3 (1312)\n",
      "Gulab-Jamun 3 (1313)\n",
      "Gulab-Jamun 3 (1314)\n",
      "Gulab-Jamun 3 (1315)\n",
      "Gulab-Jamun 3 (1316)\n",
      "Gulab-Jamun 3 (1317)\n",
      "Gulab-Jamun 3 (1318)\n",
      "Gulab-Jamun 3 (1319)\n",
      "Gulab-Jamun 3 (132)\n"
     ]
    },
    {
     "name": "stderr",
     "output_type": "stream",
     "text": [
      "\r",
      " 32%|████████████████████████▏                                                   | 3699/11648 [00:42<01:17, 102.93it/s]"
     ]
    },
    {
     "name": "stdout",
     "output_type": "stream",
     "text": [
      "Gulab-Jamun 3 (132)\n",
      "Gulab-Jamun 3 (1320)\n",
      "Gulab-Jamun 3 (1321)\n",
      "Gulab-Jamun 3 (1322)\n",
      "Gulab-Jamun 3 (1323)\n",
      "Gulab-Jamun 3 (1324)\n",
      "Gulab-Jamun 3 (1325)\n",
      "Gulab-Jamun 3 (1326)\n",
      "Gulab-Jamun 3 (1327)\n",
      "Gulab-Jamun 3 (1328)\n",
      "Gulab-Jamun 3 (1329)\n",
      "Gulab-Jamun 3 (133)\n",
      "Gulab-Jamun 3 (133)\n"
     ]
    },
    {
     "name": "stderr",
     "output_type": "stream",
     "text": [
      "\r",
      " 32%|████████████████████████▏                                                   | 3712/11648 [00:42<01:12, 109.04it/s]"
     ]
    },
    {
     "name": "stdout",
     "output_type": "stream",
     "text": [
      "Gulab-Jamun 3 (1330)\n",
      "Gulab-Jamun 3 (1331)\n",
      "Gulab-Jamun 3 (1332)\n",
      "Gulab-Jamun 3 (1333)\n",
      "Gulab-Jamun 3 (1334)\n",
      "Gulab-Jamun 3 (1335)\n",
      "Gulab-Jamun 3 (1336)\n",
      "Gulab-Jamun 3 (1337)\n",
      "Gulab-Jamun 3 (1338)\n",
      "Gulab-Jamun 3 (1339)\n",
      "Gulab-Jamun 3 (134)\n",
      "Gulab-Jamun 3 (134)\n"
     ]
    },
    {
     "name": "stderr",
     "output_type": "stream",
     "text": [
      "\r",
      " 32%|████████████████████████▎                                                   | 3724/11648 [00:42<01:10, 111.88it/s]"
     ]
    },
    {
     "name": "stdout",
     "output_type": "stream",
     "text": [
      "Gulab-Jamun 3 (1340)\n",
      "Gulab-Jamun 3 (1341)\n",
      "Gulab-Jamun 3 (1342)\n",
      "Gulab-Jamun 3 (1343)\n",
      "Gulab-Jamun 3 (1344)\n",
      "Gulab-Jamun 3 (1345)\n",
      "Gulab-Jamun 3 (1346)\n",
      "Gulab-Jamun 3 (1347)\n",
      "Gulab-Jamun 3 (1348)\n",
      "Gulab-Jamun 3 (1349)\n",
      "Gulab-Jamun 3 (135)\n",
      "Gulab-Jamun 3 (135)\n"
     ]
    },
    {
     "name": "stderr",
     "output_type": "stream",
     "text": [
      "\r",
      " 32%|████████████████████████▍                                                   | 3736/11648 [00:42<01:11, 110.20it/s]"
     ]
    },
    {
     "name": "stdout",
     "output_type": "stream",
     "text": [
      "Gulab-Jamun 3 (1350)\n",
      "Gulab-Jamun 3 (1351)\n",
      "Gulab-Jamun 3 (1352)\n",
      "Gulab-Jamun 3 (1353)\n",
      "Gulab-Jamun 3 (1354)\n",
      "Gulab-Jamun 3 (1355)\n",
      "Gulab-Jamun 3 (1356)\n",
      "Gulab-Jamun 3 (1357)\n",
      "Gulab-Jamun 3 (1358)\n",
      "Gulab-Jamun 3 (1359)\n",
      "Gulab-Jamun 3 (136)\n",
      "Gulab-Jamun 3 (136)\n"
     ]
    },
    {
     "name": "stderr",
     "output_type": "stream",
     "text": [
      "\r",
      " 32%|████████████████████████▍                                                   | 3748/11648 [00:42<01:12, 108.76it/s]"
     ]
    },
    {
     "name": "stdout",
     "output_type": "stream",
     "text": [
      "Gulab-Jamun 3 (1360)\n",
      "Gulab-Jamun 3 (1361)\n",
      "Gulab-Jamun 3 (1362)\n",
      "Gulab-Jamun 3 (1363)\n",
      "Gulab-Jamun 3 (1364)\n",
      "Gulab-Jamun 3 (1365)\n",
      "Gulab-Jamun 3 (1366)\n",
      "Gulab-Jamun 3 (1367)\n",
      "Gulab-Jamun 3 (1368)\n",
      "Gulab-Jamun 3 (1369)\n",
      "Gulab-Jamun 3 (137)\n"
     ]
    },
    {
     "name": "stderr",
     "output_type": "stream",
     "text": [
      "\r",
      " 32%|████████████████████████▌                                                   | 3759/11648 [00:43<01:15, 104.56it/s]"
     ]
    },
    {
     "name": "stdout",
     "output_type": "stream",
     "text": [
      "Gulab-Jamun 3 (137)\n",
      "Gulab-Jamun 3 (1370)\n",
      "Gulab-Jamun 3 (1371)\n",
      "Gulab-Jamun 3 (1372)\n",
      "Gulab-Jamun 3 (1373)\n",
      "Gulab-Jamun 3 (1374)\n",
      "Gulab-Jamun 3 (1375)\n",
      "Gulab-Jamun 3 (1376)\n",
      "Gulab-Jamun 3 (1377)\n",
      "Gulab-Jamun 3 (1378)\n",
      "Gulab-Jamun 3 (1379)\n",
      "Gulab-Jamun 3 (138)\n"
     ]
    },
    {
     "name": "stderr",
     "output_type": "stream",
     "text": [
      "\r",
      " 32%|████████████████████████▌                                                   | 3771/11648 [00:43<01:17, 101.15it/s]"
     ]
    },
    {
     "name": "stdout",
     "output_type": "stream",
     "text": [
      "Gulab-Jamun 3 (138)\n",
      "Gulab-Jamun 3 (1380)\n",
      "Gulab-Jamun 3 (1381)\n",
      "Gulab-Jamun 3 (1382)\n",
      "Gulab-Jamun 3 (1383)\n",
      "Gulab-Jamun 3 (1384)\n",
      "Gulab-Jamun 3 (1385)\n",
      "Gulab-Jamun 3 (1386)\n",
      "Gulab-Jamun 3 (1387)\n",
      "Gulab-Jamun 3 (1388)\n",
      "Gulab-Jamun 3 (1389)\n"
     ]
    },
    {
     "name": "stderr",
     "output_type": "stream",
     "text": [
      "\r",
      " 32%|█████████████████████████                                                    | 3782/11648 [00:43<01:35, 82.35it/s]"
     ]
    },
    {
     "name": "stdout",
     "output_type": "stream",
     "text": [
      "Gulab-Jamun 3 (139)\n",
      "Gulab-Jamun 3 (139)\n",
      "Gulab-Jamun 3 (1390)\n",
      "Gulab-Jamun 3 (1391)\n",
      "Gulab-Jamun 3 (1392)\n",
      "Gulab-Jamun 3 (1393)\n",
      "Gulab-Jamun 3 (1394)\n",
      "Gulab-Jamun 3 (1395)\n",
      "Gulab-Jamun 3 (1396)\n"
     ]
    },
    {
     "name": "stderr",
     "output_type": "stream",
     "text": [
      "\r",
      " 33%|█████████████████████████                                                    | 3791/11648 [00:43<02:11, 59.72it/s]"
     ]
    },
    {
     "name": "stdout",
     "output_type": "stream",
     "text": [
      "Gulab-Jamun 3 (1397)\n",
      "Gulab-Jamun 3 (1398)\n",
      "Gulab-Jamun 3 (1399)\n",
      "Gulab-Jamun 3 (14)\n",
      "Gulab-Jamun 3 (14)\n",
      "Gulab-Jamun 3 (140)\n",
      "Gulab-Jamun 3 (140)\n",
      "Gulab-Jamun 3 (1400)\n"
     ]
    },
    {
     "name": "stderr",
     "output_type": "stream",
     "text": [
      "\r",
      " 33%|█████████████████████████                                                    | 3799/11648 [00:43<02:36, 50.03it/s]"
     ]
    },
    {
     "name": "stdout",
     "output_type": "stream",
     "text": [
      "Gulab-Jamun 3 (1401)\n",
      "Gulab-Jamun 3 (1402)\n",
      "Gulab-Jamun 3 (1403)\n",
      "Gulab-Jamun 3 (1404)\n",
      "Gulab-Jamun 3 (1405)\n",
      "Gulab-Jamun 3 (1406)\n",
      "Gulab-Jamun 3 (1407)\n"
     ]
    },
    {
     "name": "stderr",
     "output_type": "stream",
     "text": [
      "\r",
      " 33%|█████████████████████████▏                                                   | 3806/11648 [00:44<02:53, 45.14it/s]"
     ]
    },
    {
     "name": "stdout",
     "output_type": "stream",
     "text": [
      "Gulab-Jamun 3 (1408)\n",
      "Gulab-Jamun 3 (1409)\n",
      "Gulab-Jamun 3 (141)\n",
      "Gulab-Jamun 3 (141)\n",
      "Gulab-Jamun 3 (1410)\n",
      "Gulab-Jamun 3 (1411)\n"
     ]
    },
    {
     "name": "stderr",
     "output_type": "stream",
     "text": [
      "\r",
      " 33%|█████████████████████████▏                                                   | 3812/11648 [00:44<03:08, 41.52it/s]"
     ]
    },
    {
     "name": "stdout",
     "output_type": "stream",
     "text": [
      "Gulab-Jamun 3 (1412)\n",
      "Gulab-Jamun 3 (1413)\n",
      "Gulab-Jamun 3 (1414)\n",
      "Gulab-Jamun 3 (1415)\n",
      "Gulab-Jamun 3 (1416)\n"
     ]
    },
    {
     "name": "stderr",
     "output_type": "stream",
     "text": [
      "\r",
      " 33%|█████████████████████████▏                                                   | 3817/11648 [00:44<03:13, 40.39it/s]"
     ]
    },
    {
     "name": "stdout",
     "output_type": "stream",
     "text": [
      "Gulab-Jamun 3 (1417)\n",
      "Gulab-Jamun 3 (1418)\n",
      "Gulab-Jamun 3 (1419)\n",
      "Gulab-Jamun 3 (142)\n",
      "Gulab-Jamun 3 (142)\n"
     ]
    },
    {
     "name": "stderr",
     "output_type": "stream",
     "text": [
      "\r",
      " 33%|█████████████████████████▎                                                   | 3822/11648 [00:44<03:27, 37.76it/s]"
     ]
    },
    {
     "name": "stdout",
     "output_type": "stream",
     "text": [
      "Gulab-Jamun 3 (1420)\n",
      "Gulab-Jamun 3 (1421)\n",
      "Gulab-Jamun 3 (1422)\n",
      "Gulab-Jamun 3 (1423)\n",
      "Gulab-Jamun 3 (1424)\n"
     ]
    },
    {
     "name": "stderr",
     "output_type": "stream",
     "text": [
      "\r",
      " 33%|█████████████████████████▎                                                   | 3827/11648 [00:44<03:31, 36.99it/s]"
     ]
    },
    {
     "name": "stdout",
     "output_type": "stream",
     "text": [
      "Gulab-Jamun 3 (1425)\n",
      "Gulab-Jamun 3 (1426)\n",
      "Gulab-Jamun 3 (1427)\n",
      "Gulab-Jamun 3 (1428)\n"
     ]
    },
    {
     "name": "stderr",
     "output_type": "stream",
     "text": [
      "\r",
      " 33%|█████████████████████████▎                                                   | 3831/11648 [00:44<03:36, 36.13it/s]"
     ]
    },
    {
     "name": "stdout",
     "output_type": "stream",
     "text": [
      "Gulab-Jamun 3 (1429)\n",
      "Gulab-Jamun 3 (143)\n",
      "Gulab-Jamun 3 (143)\n",
      "Gulab-Jamun 3 (1430)\n",
      "Gulab-Jamun 3 (1431)\n",
      "Gulab-Jamun 3 (1432)\n",
      "Gulab-Jamun 3 (1433)\n",
      "Gulab-Jamun 3 (1434)\n"
     ]
    },
    {
     "name": "stderr",
     "output_type": "stream",
     "text": [
      "\r",
      " 33%|█████████████████████████▍                                                   | 3839/11648 [00:44<03:00, 43.19it/s]"
     ]
    },
    {
     "name": "stdout",
     "output_type": "stream",
     "text": [
      "Gulab-Jamun 3 (1435)\n",
      "Gulab-Jamun 3 (1436)\n",
      "Gulab-Jamun 3 (1437)\n",
      "Gulab-Jamun 3 (1438)\n",
      "Gulab-Jamun 3 (1439)\n",
      "Gulab-Jamun 3 (144)\n",
      "Gulab-Jamun 3 (144)\n"
     ]
    },
    {
     "name": "stderr",
     "output_type": "stream",
     "text": [
      "\r",
      " 33%|█████████████████████████▍                                                   | 3846/11648 [00:44<02:41, 48.32it/s]"
     ]
    },
    {
     "name": "stdout",
     "output_type": "stream",
     "text": [
      "Gulab-Jamun 3 (1440)\n",
      "Gulab-Jamun 3 (1441)\n",
      "Gulab-Jamun 3 (1442)\n",
      "Gulab-Jamun 3 (1443)\n",
      "Gulab-Jamun 3 (1444)\n",
      "Gulab-Jamun 3 (1445)\n",
      "Gulab-Jamun 3 (1446)\n",
      "Gulab-Jamun 3 (1447)\n",
      "Gulab-Jamun 3 (1448)\n",
      "Gulab-Jamun 3 (1449)\n",
      "Gulab-Jamun 3 (145)\n"
     ]
    },
    {
     "name": "stderr",
     "output_type": "stream",
     "text": [
      "\r",
      " 33%|█████████████████████████▍                                                   | 3857/11648 [00:45<02:14, 58.03it/s]"
     ]
    },
    {
     "name": "stdout",
     "output_type": "stream",
     "text": [
      "Gulab-Jamun 3 (145)\n",
      "Gulab-Jamun 3 (1450)\n",
      "Gulab-Jamun 3 (1451)\n",
      "Gulab-Jamun 3 (1452)\n",
      "Gulab-Jamun 3 (1453)\n",
      "Gulab-Jamun 3 (1454)\n",
      "Gulab-Jamun 3 (1455)\n",
      "Gulab-Jamun 3 (1456)\n",
      "Gulab-Jamun 3 (1457)\n",
      "Gulab-Jamun 3 (1458)\n",
      "Gulab-Jamun 3 (1459)\n",
      "Gulab-Jamun 3 (146)\n"
     ]
    },
    {
     "name": "stderr",
     "output_type": "stream",
     "text": [
      "\r",
      " 33%|█████████████████████████▌                                                   | 3869/11648 [00:45<02:00, 64.29it/s]"
     ]
    },
    {
     "name": "stdout",
     "output_type": "stream",
     "text": [
      "Gulab-Jamun 3 (146)\n",
      "Gulab-Jamun 3 (1460)\n",
      "Gulab-Jamun 3 (1461)\n",
      "Gulab-Jamun 3 (1462)\n",
      "Gulab-Jamun 3 (1463)\n",
      "Gulab-Jamun 3 (1464)\n",
      "Gulab-Jamun 3 (1465)\n",
      "Gulab-Jamun 3 (1466)\n",
      "Gulab-Jamun 3 (1467)\n",
      "Gulab-Jamun 3 (1468)\n",
      "Gulab-Jamun 3 (1469)\n",
      "Gulab-Jamun 3 (147)\n"
     ]
    },
    {
     "name": "stderr",
     "output_type": "stream",
     "text": [
      "\r",
      " 33%|█████████████████████████▋                                                   | 3881/11648 [00:45<01:45, 73.50it/s]"
     ]
    },
    {
     "name": "stdout",
     "output_type": "stream",
     "text": [
      "Gulab-Jamun 3 (147)\n",
      "Gulab-Jamun 3 (1470)\n",
      "Gulab-Jamun 3 (1471)\n",
      "Gulab-Jamun 3 (1472)\n",
      "Gulab-Jamun 3 (1473)\n",
      "Gulab-Jamun 3 (1474)\n",
      "Gulab-Jamun 3 (1475)\n",
      "Gulab-Jamun 3 (1476)\n",
      "Gulab-Jamun 3 (1477)\n",
      "Gulab-Jamun 3 (1478)\n",
      "Gulab-Jamun 3 (1479)\n",
      "Gulab-Jamun 3 (148)\n"
     ]
    },
    {
     "name": "stderr",
     "output_type": "stream",
     "text": [
      "\r",
      " 33%|█████████████████████████▋                                                   | 3893/11648 [00:45<01:34, 82.36it/s]"
     ]
    },
    {
     "name": "stdout",
     "output_type": "stream",
     "text": [
      "Gulab-Jamun 3 (148)\n",
      "Gulab-Jamun 3 (1480)\n",
      "Gulab-Jamun 3 (1481)\n",
      "Gulab-Jamun 3 (1482)\n",
      "Gulab-Jamun 3 (1483)\n",
      "Gulab-Jamun 3 (1484)\n",
      "Gulab-Jamun 3 (1485)\n",
      "Gulab-Jamun 3 (1486)\n",
      "Gulab-Jamun 3 (1487)\n",
      "Gulab-Jamun 3 (1488)\n",
      "Gulab-Jamun 3 (1489)\n",
      "Gulab-Jamun 3 (149)\n"
     ]
    },
    {
     "name": "stderr",
     "output_type": "stream",
     "text": [
      "\r",
      " 34%|█████████████████████████▊                                                   | 3905/11648 [00:45<01:25, 90.15it/s]"
     ]
    },
    {
     "name": "stdout",
     "output_type": "stream",
     "text": [
      "Gulab-Jamun 3 (149)\n",
      "Gulab-Jamun 3 (1490)\n",
      "Gulab-Jamun 3 (1491)\n",
      "Gulab-Jamun 3 (1492)\n",
      "Gulab-Jamun 3 (1493)\n",
      "Gulab-Jamun 3 (1494)\n",
      "Gulab-Jamun 3 (1495)\n",
      "Gulab-Jamun 3 (1496)\n",
      "Gulab-Jamun 3 (1497)\n",
      "Gulab-Jamun 3 (1498)\n",
      "Gulab-Jamun 3 (1499)\n",
      "Gulab-Jamun 3 (15)\n"
     ]
    },
    {
     "name": "stderr",
     "output_type": "stream",
     "text": [
      "\r",
      " 34%|█████████████████████████▉                                                   | 3917/11648 [00:45<01:20, 96.55it/s]"
     ]
    },
    {
     "name": "stdout",
     "output_type": "stream",
     "text": [
      "Gulab-Jamun 3 (15)\n",
      "Gulab-Jamun 3 (150)\n",
      "Gulab-Jamun 3 (150)\n",
      "Gulab-Jamun 3 (1500)\n",
      "Gulab-Jamun 3 (1501)\n",
      "Gulab-Jamun 3 (1502)\n",
      "Gulab-Jamun 3 (1503)\n",
      "Gulab-Jamun 3 (1504)\n",
      "Gulab-Jamun 3 (1505)\n",
      "Gulab-Jamun 3 (1506)\n",
      "Gulab-Jamun 3 (1507)\n"
     ]
    },
    {
     "name": "stderr",
     "output_type": "stream",
     "text": [
      "\r",
      " 34%|█████████████████████████▉                                                   | 3928/11648 [00:45<01:17, 99.75it/s]"
     ]
    },
    {
     "name": "stdout",
     "output_type": "stream",
     "text": [
      "Gulab-Jamun 3 (1508)\n",
      "Gulab-Jamun 3 (1509)\n",
      "Gulab-Jamun 3 (151)\n",
      "Gulab-Jamun 3 (151)\n",
      "Gulab-Jamun 3 (1510)\n",
      "Gulab-Jamun 3 (1511)\n",
      "Gulab-Jamun 3 (1512)\n",
      "Gulab-Jamun 3 (1513)\n",
      "Gulab-Jamun 3 (1514)\n",
      "Gulab-Jamun 3 (1515)\n",
      "Gulab-Jamun 3 (1516)\n"
     ]
    },
    {
     "name": "stderr",
     "output_type": "stream",
     "text": [
      "\r",
      " 34%|██████████████████████████                                                   | 3939/11648 [00:45<01:18, 97.78it/s]"
     ]
    },
    {
     "name": "stdout",
     "output_type": "stream",
     "text": [
      "Gulab-Jamun 3 (1517)\n",
      "Gulab-Jamun 3 (1518)\n",
      "Gulab-Jamun 3 (1519)\n",
      "Gulab-Jamun 3 (152)\n",
      "Gulab-Jamun 3 (152)\n",
      "Gulab-Jamun 3 (1520)\n",
      "Gulab-Jamun 3 (1521)\n",
      "Gulab-Jamun 3 (1522)\n",
      "Gulab-Jamun 3 (1523)\n",
      "Gulab-Jamun 3 (1524)\n",
      "Gulab-Jamun 3 (1525)\n"
     ]
    },
    {
     "name": "stderr",
     "output_type": "stream",
     "text": [
      "\r",
      " 34%|██████████████████████████                                                   | 3950/11648 [00:45<01:22, 93.74it/s]"
     ]
    },
    {
     "name": "stdout",
     "output_type": "stream",
     "text": [
      "Gulab-Jamun 3 (1526)\n",
      "Gulab-Jamun 3 (1527)\n",
      "Gulab-Jamun 3 (1528)\n",
      "Gulab-Jamun 3 (1529)\n",
      "Gulab-Jamun 3 (153)\n",
      "Gulab-Jamun 3 (153)\n",
      "Gulab-Jamun 3 (1530)\n",
      "Gulab-Jamun 3 (1531)\n",
      "Gulab-Jamun 3 (1532)\n",
      "Gulab-Jamun 3 (1533)\n"
     ]
    },
    {
     "name": "stderr",
     "output_type": "stream",
     "text": [
      "\r",
      " 34%|██████████████████████████▏                                                  | 3960/11648 [00:46<01:23, 91.93it/s]"
     ]
    },
    {
     "name": "stdout",
     "output_type": "stream",
     "text": [
      "Gulab-Jamun 3 (1534)\n",
      "Gulab-Jamun 3 (1535)\n",
      "Gulab-Jamun 3 (1536)\n",
      "Gulab-Jamun 3 (1537)\n",
      "Gulab-Jamun 3 (1538)\n",
      "Gulab-Jamun 3 (1539)\n",
      "Gulab-Jamun 3 (154)\n",
      "Gulab-Jamun 3 (154)\n",
      "Gulab-Jamun 3 (1540)\n",
      "Gulab-Jamun 3 (1541)\n"
     ]
    },
    {
     "name": "stderr",
     "output_type": "stream",
     "text": [
      "\r",
      " 34%|██████████████████████████▏                                                  | 3970/11648 [00:46<01:23, 92.20it/s]"
     ]
    },
    {
     "name": "stdout",
     "output_type": "stream",
     "text": [
      "Gulab-Jamun 3 (1542)\n",
      "Gulab-Jamun 3 (1543)\n",
      "Gulab-Jamun 3 (1544)\n",
      "Gulab-Jamun 3 (1545)\n",
      "Gulab-Jamun 3 (1546)\n",
      "Gulab-Jamun 3 (1547)\n",
      "Gulab-Jamun 3 (1548)\n",
      "Gulab-Jamun 3 (1549)\n",
      "Gulab-Jamun 3 (155)\n",
      "Gulab-Jamun 3 (155)\n"
     ]
    },
    {
     "name": "stderr",
     "output_type": "stream",
     "text": [
      "\r",
      " 34%|██████████████████████████▎                                                  | 3980/11648 [00:46<01:28, 86.20it/s]"
     ]
    },
    {
     "name": "stdout",
     "output_type": "stream",
     "text": [
      "Gulab-Jamun 3 (1550)\n",
      "Gulab-Jamun 3 (1551)\n",
      "Gulab-Jamun 3 (1552)\n",
      "Gulab-Jamun 3 (1553)\n",
      "Gulab-Jamun 3 (1554)\n",
      "Gulab-Jamun 3 (1555)\n",
      "Gulab-Jamun 3 (1556)\n",
      "Gulab-Jamun 3 (1557)\n",
      "Gulab-Jamun 3 (1558)\n",
      "Gulab-Jamun 3 (1559)\n",
      "Gulab-Jamun 3 (156)\n"
     ]
    },
    {
     "name": "stderr",
     "output_type": "stream",
     "text": [
      "\r",
      " 34%|██████████████████████████▍                                                  | 3991/11648 [00:46<01:30, 84.80it/s]"
     ]
    },
    {
     "name": "stdout",
     "output_type": "stream",
     "text": [
      "Gulab-Jamun 3 (156)\n",
      "Gulab-Jamun 3 (1560)\n",
      "Gulab-Jamun 3 (1561)\n",
      "Gulab-Jamun 3 (1562)\n",
      "Gulab-Jamun 3 (1563)\n",
      "Gulab-Jamun 3 (1564)\n",
      "Gulab-Jamun 3 (1565)\n",
      "Gulab-Jamun 3 (1566)\n",
      "Gulab-Jamun 3 (1567)\n",
      "Gulab-Jamun 3 (1568)\n",
      "Gulab-Jamun 3 (1569)\n",
      "Gulab-Jamun 3 (157)\n"
     ]
    },
    {
     "name": "stderr",
     "output_type": "stream",
     "text": [
      "\r",
      " 34%|██████████████████████████▍                                                  | 4003/11648 [00:46<01:27, 87.55it/s]"
     ]
    },
    {
     "name": "stdout",
     "output_type": "stream",
     "text": [
      "Gulab-Jamun 3 (157)\n",
      "Gulab-Jamun 3 (1570)\n",
      "Gulab-Jamun 3 (1571)\n",
      "Gulab-Jamun 3 (1572)\n",
      "Gulab-Jamun 3 (1573)\n",
      "Gulab-Jamun 3 (1574)\n",
      "Gulab-Jamun 3 (1575)\n",
      "Gulab-Jamun 3 (1576)\n",
      "Gulab-Jamun 3 (1577)\n",
      "Gulab-Jamun 3 (1578)\n",
      "Gulab-Jamun 3 (1579)\n",
      "Gulab-Jamun 3 (158)\n"
     ]
    },
    {
     "name": "stderr",
     "output_type": "stream",
     "text": [
      "\r",
      " 34%|██████████████████████████▌                                                  | 4015/11648 [00:46<01:27, 87.06it/s]"
     ]
    },
    {
     "name": "stdout",
     "output_type": "stream",
     "text": [
      "Gulab-Jamun 3 (158)\n",
      "Gulab-Jamun 3 (1580)\n",
      "Gulab-Jamun 3 (1581)\n",
      "Gulab-Jamun 3 (1582)\n",
      "Gulab-Jamun 3 (1583)\n",
      "Gulab-Jamun 3 (1584)\n",
      "Gulab-Jamun 3 (1585)\n",
      "Gulab-Jamun 3 (1586)\n",
      "Gulab-Jamun 3 (1587)\n"
     ]
    },
    {
     "name": "stderr",
     "output_type": "stream",
     "text": [
      "\r",
      " 35%|██████████████████████████▌                                                  | 4024/11648 [00:46<01:32, 82.22it/s]"
     ]
    },
    {
     "name": "stdout",
     "output_type": "stream",
     "text": [
      "Gulab-Jamun 3 (1588)\n",
      "Gulab-Jamun 3 (1589)\n",
      "Gulab-Jamun 3 (159)\n",
      "Gulab-Jamun 3 (1590)\n",
      "Gulab-Jamun 3 (1591)\n",
      "Gulab-Jamun 3 (1592)\n",
      "Gulab-Jamun 3 (1593)\n",
      "Gulab-Jamun 3 (1594)\n",
      "Gulab-Jamun 3 (1595)\n"
     ]
    },
    {
     "name": "stderr",
     "output_type": "stream",
     "text": [
      "\r",
      " 35%|██████████████████████████▋                                                  | 4033/11648 [00:47<01:53, 67.13it/s]"
     ]
    },
    {
     "name": "stdout",
     "output_type": "stream",
     "text": [
      "Gulab-Jamun 3 (1596)\n",
      "Gulab-Jamun 3 (1597)\n",
      "Gulab-Jamun 3 (1598)\n",
      "Gulab-Jamun 3 (1599)\n",
      "Gulab-Jamun 3 (16)\n",
      "Gulab-Jamun 3 (16)\n",
      "Gulab-Jamun 3 (160)\n",
      "Gulab-Jamun 3 (1600)\n"
     ]
    },
    {
     "name": "stderr",
     "output_type": "stream",
     "text": [
      "\r",
      " 35%|██████████████████████████▋                                                  | 4041/11648 [00:47<02:13, 57.16it/s]"
     ]
    },
    {
     "name": "stdout",
     "output_type": "stream",
     "text": [
      "Gulab-Jamun 3 (1601)\n",
      "Gulab-Jamun 3 (1602)\n",
      "Gulab-Jamun 3 (1603)\n",
      "Gulab-Jamun 3 (1604)\n",
      "Gulab-Jamun 3 (1605)\n",
      "Gulab-Jamun 3 (1606)\n",
      "Gulab-Jamun 3 (1607)\n"
     ]
    },
    {
     "name": "stderr",
     "output_type": "stream",
     "text": [
      "\r",
      " 35%|██████████████████████████▊                                                  | 4048/11648 [00:47<02:33, 49.41it/s]"
     ]
    },
    {
     "name": "stdout",
     "output_type": "stream",
     "text": [
      "Gulab-Jamun 3 (1608)\n",
      "Gulab-Jamun 3 (1609)\n",
      "Gulab-Jamun 3 (161)\n",
      "Gulab-Jamun 3 (1610)\n",
      "Gulab-Jamun 3 (1611)\n",
      "Gulab-Jamun 3 (1612)\n"
     ]
    },
    {
     "name": "stderr",
     "output_type": "stream",
     "text": [
      "\r",
      " 35%|██████████████████████████▊                                                  | 4054/11648 [00:47<03:36, 35.05it/s]"
     ]
    },
    {
     "name": "stdout",
     "output_type": "stream",
     "text": [
      "Gulab-Jamun 3 (1613)\n",
      "Gulab-Jamun 3 (1614)\n",
      "Gulab-Jamun 3 (1615)\n",
      "Gulab-Jamun 3 (1616)\n",
      "Gulab-Jamun 3 (1617)\n"
     ]
    },
    {
     "name": "stderr",
     "output_type": "stream",
     "text": [
      "\r",
      " 35%|██████████████████████████▊                                                  | 4059/11648 [00:47<04:37, 27.32it/s]"
     ]
    },
    {
     "name": "stdout",
     "output_type": "stream",
     "text": [
      "Gulab-Jamun 3 (1618)\n",
      "Gulab-Jamun 3 (1619)\n",
      "Gulab-Jamun 3 (162)\n",
      "Gulab-Jamun 3 (1620)\n"
     ]
    },
    {
     "name": "stderr",
     "output_type": "stream",
     "text": [
      "\r",
      " 35%|██████████████████████████▊                                                  | 4063/11648 [00:48<04:57, 25.53it/s]"
     ]
    },
    {
     "name": "stdout",
     "output_type": "stream",
     "text": [
      "Gulab-Jamun 3 (1621)\n",
      "Gulab-Jamun 3 (1622)\n",
      "Gulab-Jamun 3 (1623)\n",
      "Gulab-Jamun 3 (1624)\n"
     ]
    },
    {
     "name": "stderr",
     "output_type": "stream",
     "text": [
      "\r",
      " 35%|██████████████████████████▉                                                  | 4067/11648 [00:48<05:38, 22.37it/s]"
     ]
    },
    {
     "name": "stdout",
     "output_type": "stream",
     "text": [
      "Gulab-Jamun 3 (1625)\n",
      "Gulab-Jamun 3 (1626)\n",
      "Gulab-Jamun 3 (1627)\n"
     ]
    },
    {
     "name": "stderr",
     "output_type": "stream",
     "text": [
      "\r",
      " 35%|██████████████████████████▉                                                  | 4070/11648 [00:48<06:03, 20.86it/s]"
     ]
    },
    {
     "name": "stdout",
     "output_type": "stream",
     "text": [
      "Gulab-Jamun 3 (1628)\n",
      "Gulab-Jamun 3 (1629)\n",
      "Gulab-Jamun 3 (163)\n",
      "Gulab-Jamun 3 (1630)\n",
      "Gulab-Jamun 3 (1631)\n"
     ]
    },
    {
     "name": "stderr",
     "output_type": "stream",
     "text": [
      "\r",
      " 35%|██████████████████████████▉                                                  | 4075/11648 [00:48<05:06, 24.73it/s]"
     ]
    },
    {
     "name": "stdout",
     "output_type": "stream",
     "text": [
      "Gulab-Jamun 3 (1632)\n",
      "Gulab-Jamun 3 (1633)\n",
      "Gulab-Jamun 3 (1634)\n",
      "Gulab-Jamun 3 (1635)\n"
     ]
    },
    {
     "name": "stderr",
     "output_type": "stream",
     "text": [
      "\r",
      " 35%|██████████████████████████▉                                                  | 4079/11648 [00:48<04:39, 27.09it/s]"
     ]
    },
    {
     "name": "stdout",
     "output_type": "stream",
     "text": [
      "Gulab-Jamun 3 (1636)\n",
      "Gulab-Jamun 3 (1637)\n",
      "Gulab-Jamun 3 (1638)\n",
      "Gulab-Jamun 3 (1639)\n"
     ]
    },
    {
     "name": "stderr",
     "output_type": "stream",
     "text": [
      "\r",
      " 35%|██████████████████████████▉                                                  | 4083/11648 [00:48<04:27, 28.24it/s]"
     ]
    },
    {
     "name": "stdout",
     "output_type": "stream",
     "text": [
      "Gulab-Jamun 3 (164)\n",
      "Gulab-Jamun 3 (1640)\n",
      "Gulab-Jamun 3 (1641)\n",
      "Gulab-Jamun 3 (1642)\n",
      "Gulab-Jamun 3 (1643)\n"
     ]
    },
    {
     "name": "stderr",
     "output_type": "stream",
     "text": [
      "\r",
      " 35%|███████████████████████████                                                  | 4088/11648 [00:49<04:04, 30.88it/s]"
     ]
    },
    {
     "name": "stdout",
     "output_type": "stream",
     "text": [
      "Gulab-Jamun 3 (1644)\n",
      "Gulab-Jamun 3 (1645)\n",
      "Gulab-Jamun 3 (1646)\n",
      "Gulab-Jamun 3 (1647)\n",
      "Gulab-Jamun 3 (1648)\n"
     ]
    },
    {
     "name": "stderr",
     "output_type": "stream",
     "text": [
      "\r",
      " 35%|███████████████████████████                                                  | 4093/11648 [00:49<03:41, 34.11it/s]"
     ]
    },
    {
     "name": "stdout",
     "output_type": "stream",
     "text": [
      "Gulab-Jamun 3 (1649)\n",
      "Gulab-Jamun 3 (165)\n",
      "Gulab-Jamun 3 (1650)\n",
      "Gulab-Jamun 3 (1651)\n",
      "Gulab-Jamun 3 (1652)\n",
      "Gulab-Jamun 3 (1653)\n",
      "Gulab-Jamun 3 (1654)\n",
      "Gulab-Jamun 3 (1655)\n"
     ]
    },
    {
     "name": "stderr",
     "output_type": "stream",
     "text": [
      "\r",
      " 35%|███████████████████████████                                                  | 4101/11648 [00:49<03:05, 40.72it/s]"
     ]
    },
    {
     "name": "stdout",
     "output_type": "stream",
     "text": [
      "Gulab-Jamun 3 (1656)\n",
      "Gulab-Jamun 3 (1657)\n",
      "Gulab-Jamun 3 (1658)\n",
      "Gulab-Jamun 3 (1659)\n",
      "Gulab-Jamun 3 (166)\n",
      "Gulab-Jamun 3 (1660)\n",
      "Gulab-Jamun 3 (1661)\n"
     ]
    },
    {
     "name": "stderr",
     "output_type": "stream",
     "text": [
      "\r",
      " 35%|███████████████████████████▏                                                 | 4108/11648 [00:49<02:43, 46.13it/s]"
     ]
    },
    {
     "name": "stdout",
     "output_type": "stream",
     "text": [
      "Gulab-Jamun 3 (1662)\n",
      "Gulab-Jamun 3 (1663)\n",
      "Gulab-Jamun 3 (1664)\n",
      "Gulab-Jamun 3 (1665)\n",
      "Gulab-Jamun 3 (1666)\n",
      "Gulab-Jamun 3 (1667)\n",
      "Gulab-Jamun 3 (1668)\n",
      "Gulab-Jamun 3 (1669)\n",
      "Gulab-Jamun 3 (167)\n",
      "Gulab-Jamun 3 (1670)\n",
      "Gulab-Jamun 3 (1671)\n",
      "Gulab-Jamun 3 (1672)\n"
     ]
    },
    {
     "name": "stderr",
     "output_type": "stream",
     "text": [
      "\r",
      " 35%|███████████████████████████▏                                                 | 4120/11648 [00:49<02:14, 56.12it/s]"
     ]
    },
    {
     "name": "stdout",
     "output_type": "stream",
     "text": [
      "Gulab-Jamun 3 (1673)\n",
      "Gulab-Jamun 3 (1674)\n",
      "Gulab-Jamun 3 (1675)\n",
      "Gulab-Jamun 3 (1676)\n",
      "Gulab-Jamun 3 (1677)\n",
      "Gulab-Jamun 3 (1678)\n",
      "Gulab-Jamun 3 (1679)\n",
      "Gulab-Jamun 3 (168)\n",
      "Gulab-Jamun 3 (1680)\n",
      "Gulab-Jamun 3 (1681)\n",
      "Gulab-Jamun 3 (1682)\n",
      "Gulab-Jamun 3 (1683)\n",
      "Gulab-Jamun 3 (1684)\n",
      "Gulab-Jamun 3 (1685)\n"
     ]
    },
    {
     "name": "stderr",
     "output_type": "stream",
     "text": [
      "\r",
      " 35%|███████████████████████████▎                                                 | 4134/11648 [00:49<01:50, 68.25it/s]"
     ]
    },
    {
     "name": "stdout",
     "output_type": "stream",
     "text": [
      "Gulab-Jamun 3 (1686)\n",
      "Gulab-Jamun 3 (1687)\n",
      "Gulab-Jamun 3 (1688)\n",
      "Gulab-Jamun 3 (1689)\n",
      "Gulab-Jamun 3 (169)\n",
      "Gulab-Jamun 3 (1690)\n",
      "Gulab-Jamun 3 (1691)\n",
      "Gulab-Jamun 3 (1692)\n",
      "Gulab-Jamun 3 (1693)\n",
      "Gulab-Jamun 3 (1694)\n",
      "Gulab-Jamun 3 (1695)\n",
      "Gulab-Jamun 3 (1696)\n",
      "Gulab-Jamun 3 (1697)\n",
      "Gulab-Jamun 3 (1698)\n",
      "Gulab-Jamun 3 (1699)\n"
     ]
    },
    {
     "name": "stderr",
     "output_type": "stream",
     "text": [
      "\r",
      " 36%|███████████████████████████▍                                                 | 4149/11648 [00:49<01:32, 81.36it/s]"
     ]
    },
    {
     "name": "stdout",
     "output_type": "stream",
     "text": [
      "Gulab-Jamun 3 (17)\n",
      "Gulab-Jamun 3 (17)\n",
      "Gulab-Jamun 3 (170)\n",
      "Gulab-Jamun 3 (1700)\n",
      "Gulab-Jamun 3 (1701)\n",
      "Gulab-Jamun 3 (1702)\n",
      "Gulab-Jamun 3 (1703)\n",
      "Gulab-Jamun 3 (1704)\n",
      "Gulab-Jamun 3 (1705)\n",
      "Gulab-Jamun 3 (1706)\n",
      "Gulab-Jamun 3 (1707)\n"
     ]
    },
    {
     "name": "stderr",
     "output_type": "stream",
     "text": [
      "\r",
      " 36%|███████████████████████████▌                                                 | 4160/11648 [00:49<01:35, 78.67it/s]"
     ]
    },
    {
     "name": "stdout",
     "output_type": "stream",
     "text": [
      "Gulab-Jamun 3 (1708)\n",
      "Gulab-Jamun 3 (1709)\n",
      "Gulab-Jamun 3 (171)\n",
      "Gulab-Jamun 3 (1710)\n",
      "Gulab-Jamun 3 (1711)\n",
      "Gulab-Jamun 3 (1712)\n",
      "Gulab-Jamun 3 (1713)\n",
      "Gulab-Jamun 3 (1714)\n",
      "Gulab-Jamun 3 (1715)\n",
      "Gulab-Jamun 3 (1716)\n",
      "Gulab-Jamun 3 (1717)\n",
      "Gulab-Jamun 3 (1718)\n",
      "Gulab-Jamun 3 (1719)\n"
     ]
    },
    {
     "name": "stderr",
     "output_type": "stream",
     "text": [
      "\r",
      " 36%|███████████████████████████▌                                                 | 4173/11648 [00:49<01:24, 88.93it/s]"
     ]
    },
    {
     "name": "stdout",
     "output_type": "stream",
     "text": [
      "Gulab-Jamun 3 (172)\n",
      "Gulab-Jamun 3 (1720)\n",
      "Gulab-Jamun 3 (1721)\n",
      "Gulab-Jamun 3 (1722)\n",
      "Gulab-Jamun 3 (1723)\n",
      "Gulab-Jamun 3 (1724)\n",
      "Gulab-Jamun 3 (1725)\n",
      "Gulab-Jamun 3 (1726)\n",
      "Gulab-Jamun 3 (1727)\n",
      "Gulab-Jamun 3 (1728)\n",
      "Gulab-Jamun 3 (1729)\n"
     ]
    },
    {
     "name": "stderr",
     "output_type": "stream",
     "text": [
      "\r",
      " 36%|███████████████████████████▋                                                 | 4184/11648 [00:50<01:26, 86.01it/s]"
     ]
    },
    {
     "name": "stdout",
     "output_type": "stream",
     "text": [
      "Gulab-Jamun 3 (173)\n",
      "Gulab-Jamun 3 (1730)\n",
      "Gulab-Jamun 3 (1731)\n",
      "Gulab-Jamun 3 (1732)\n",
      "Gulab-Jamun 3 (1733)\n",
      "Gulab-Jamun 3 (1734)\n",
      "Gulab-Jamun 3 (1735)\n",
      "Gulab-Jamun 3 (1736)\n",
      "Gulab-Jamun 3 (1737)\n",
      "Gulab-Jamun 3 (1738)\n",
      "Gulab-Jamun 3 (1739)\n"
     ]
    },
    {
     "name": "stderr",
     "output_type": "stream",
     "text": [
      "\r",
      " 36%|███████████████████████████▋                                                 | 4195/11648 [00:50<01:22, 90.51it/s]"
     ]
    },
    {
     "name": "stdout",
     "output_type": "stream",
     "text": [
      "Gulab-Jamun 3 (174)\n",
      "Gulab-Jamun 3 (1740)\n",
      "Gulab-Jamun 3 (1741)\n",
      "Gulab-Jamun 3 (1742)\n",
      "Gulab-Jamun 3 (1743)\n",
      "Gulab-Jamun 3 (1744)\n",
      "Gulab-Jamun 3 (1745)\n",
      "Gulab-Jamun 3 (1746)\n",
      "Gulab-Jamun 3 (1747)\n",
      "Gulab-Jamun 3 (1748)\n",
      "Gulab-Jamun 3 (1749)\n",
      "Gulab-Jamun 3 (175)\n",
      "Gulab-Jamun 3 (1750)\n",
      "Gulab-Jamun 3 (1751)\n"
     ]
    },
    {
     "name": "stderr",
     "output_type": "stream",
     "text": [
      "\r",
      " 36%|███████████████████████████▍                                                | 4209/11648 [00:50<01:13, 100.66it/s]"
     ]
    },
    {
     "name": "stdout",
     "output_type": "stream",
     "text": [
      "Gulab-Jamun 3 (1752)\n",
      "Gulab-Jamun 3 (1753)\n",
      "Gulab-Jamun 3 (1754)\n",
      "Gulab-Jamun 3 (1755)\n",
      "Gulab-Jamun 3 (1756)\n",
      "Gulab-Jamun 3 (1757)\n",
      "Gulab-Jamun 3 (1758)\n",
      "Gulab-Jamun 3 (1759)\n",
      "Gulab-Jamun 3 (176)\n",
      "Gulab-Jamun 3 (1760)\n",
      "Gulab-Jamun 3 (1761)\n",
      "Gulab-Jamun 3 (1762)\n"
     ]
    },
    {
     "name": "stderr",
     "output_type": "stream",
     "text": [
      "\r",
      " 36%|███████████████████████████▌                                                | 4221/11648 [00:50<01:12, 102.33it/s]"
     ]
    },
    {
     "name": "stdout",
     "output_type": "stream",
     "text": [
      "Gulab-Jamun 3 (1763)\n",
      "Gulab-Jamun 3 (1764)\n",
      "Gulab-Jamun 3 (1765)\n",
      "Gulab-Jamun 3 (1766)\n",
      "Gulab-Jamun 3 (1767)\n",
      "Gulab-Jamun 3 (1768)\n",
      "Gulab-Jamun 3 (1769)\n",
      "Gulab-Jamun 3 (177)\n",
      "Gulab-Jamun 3 (1770)\n",
      "Gulab-Jamun 3 (1771)\n",
      "Gulab-Jamun 3 (1772)\n"
     ]
    },
    {
     "name": "stderr",
     "output_type": "stream",
     "text": [
      "\r",
      " 36%|███████████████████████████▌                                                | 4232/11648 [00:50<01:13, 101.15it/s]"
     ]
    },
    {
     "name": "stdout",
     "output_type": "stream",
     "text": [
      "Gulab-Jamun 3 (1773)\n",
      "Gulab-Jamun 3 (1774)\n",
      "Gulab-Jamun 3 (1775)\n",
      "Gulab-Jamun 3 (1776)\n",
      "Gulab-Jamun 3 (1777)\n",
      "Gulab-Jamun 3 (1778)\n",
      "Gulab-Jamun 3 (1779)\n",
      "Gulab-Jamun 3 (178)\n",
      "Gulab-Jamun 3 (1780)\n",
      "Gulab-Jamun 3 (1781)\n",
      "Gulab-Jamun 3 (1782)\n",
      "Gulab-Jamun 3 (1783)\n"
     ]
    },
    {
     "name": "stderr",
     "output_type": "stream",
     "text": [
      "\r",
      " 36%|███████████████████████████▋                                                | 4244/11648 [00:50<01:10, 104.29it/s]"
     ]
    },
    {
     "name": "stdout",
     "output_type": "stream",
     "text": [
      "Gulab-Jamun 3 (1784)\n",
      "Gulab-Jamun 3 (1785)\n",
      "Gulab-Jamun 3 (1786)\n",
      "Gulab-Jamun 3 (1787)\n",
      "Gulab-Jamun 3 (1788)\n",
      "Gulab-Jamun 3 (1789)\n",
      "Gulab-Jamun 3 (179)\n",
      "Gulab-Jamun 3 (1790)\n",
      "Gulab-Jamun 3 (1791)\n",
      "Gulab-Jamun 3 (1792)\n",
      "Gulab-Jamun 3 (1793)\n"
     ]
    },
    {
     "name": "stderr",
     "output_type": "stream",
     "text": [
      "\r",
      " 37%|███████████████████████████▊                                                | 4255/11648 [00:50<01:10, 105.11it/s]"
     ]
    },
    {
     "name": "stdout",
     "output_type": "stream",
     "text": [
      "Gulab-Jamun 3 (1794)\n",
      "Gulab-Jamun 3 (1795)\n",
      "Gulab-Jamun 3 (1796)\n",
      "Gulab-Jamun 3 (1797)\n",
      "Gulab-Jamun 3 (1798)\n",
      "Gulab-Jamun 3 (1799)\n",
      "Gulab-Jamun 3 (18)\n",
      "Gulab-Jamun 3 (18)\n",
      "Gulab-Jamun 3 (180)\n",
      "Gulab-Jamun 3 (1800)\n",
      "Gulab-Jamun 3 (1801)\n"
     ]
    },
    {
     "name": "stderr",
     "output_type": "stream",
     "text": [
      "\r",
      " 37%|████████████████████████████▏                                                | 4266/11648 [00:50<01:16, 97.05it/s]"
     ]
    },
    {
     "name": "stdout",
     "output_type": "stream",
     "text": [
      "Gulab-Jamun 3 (1802)\n",
      "Gulab-Jamun 3 (1803)\n",
      "Gulab-Jamun 3 (1804)\n",
      "Gulab-Jamun 3 (1805)\n",
      "Gulab-Jamun 3 (1806)\n",
      "Gulab-Jamun 3 (1807)\n",
      "Gulab-Jamun 3 (1808)\n",
      "Gulab-Jamun 3 (1809)\n",
      "Gulab-Jamun 3 (181)\n",
      "Gulab-Jamun 3 (1810)\n",
      "Gulab-Jamun 3 (1811)\n"
     ]
    },
    {
     "name": "stderr",
     "output_type": "stream",
     "text": [
      "\r",
      " 37%|████████████████████████████▎                                                | 4277/11648 [00:50<01:14, 99.31it/s]"
     ]
    },
    {
     "name": "stdout",
     "output_type": "stream",
     "text": [
      "Gulab-Jamun 3 (1812)\n",
      "Gulab-Jamun 3 (1813)\n",
      "Gulab-Jamun 3 (1814)\n",
      "Gulab-Jamun 3 (1815)\n",
      "Gulab-Jamun 3 (1816)\n",
      "Gulab-Jamun 3 (1817)\n",
      "Gulab-Jamun 3 (1818)\n",
      "Gulab-Jamun 3 (1819)\n",
      "Gulab-Jamun 3 (182)\n",
      "Gulab-Jamun 3 (1820)\n",
      "Gulab-Jamun 3 (1821)\n",
      "Gulab-Jamun 3 (1822)\n",
      "Gulab-Jamun 3 (1823)\n"
     ]
    },
    {
     "name": "stderr",
     "output_type": "stream",
     "text": [
      "\r",
      " 37%|███████████████████████████▉                                                | 4290/11648 [00:51<01:10, 104.63it/s]"
     ]
    },
    {
     "name": "stdout",
     "output_type": "stream",
     "text": [
      "Gulab-Jamun 3 (1824)\n",
      "Gulab-Jamun 3 (1825)\n",
      "Gulab-Jamun 3 (1826)\n",
      "Gulab-Jamun 3 (1827)\n",
      "Gulab-Jamun 3 (1828)\n",
      "Gulab-Jamun 3 (1829)\n",
      "Gulab-Jamun 3 (183)\n",
      "Gulab-Jamun 3 (1830)\n",
      "Gulab-Jamun 3 (1831)\n",
      "Gulab-Jamun 3 (1832)\n",
      "Gulab-Jamun 3 (1833)\n"
     ]
    },
    {
     "name": "stderr",
     "output_type": "stream",
     "text": [
      "\r",
      " 37%|████████████████████████████▍                                                | 4301/11648 [00:51<01:15, 97.79it/s]"
     ]
    },
    {
     "name": "stdout",
     "output_type": "stream",
     "text": [
      "Gulab-Jamun 3 (1834)\n",
      "Gulab-Jamun 3 (1835)\n",
      "Gulab-Jamun 3 (1836)\n",
      "Gulab-Jamun 3 (1837)\n",
      "Gulab-Jamun 3 (1838)\n",
      "Gulab-Jamun 3 (1839)\n",
      "Gulab-Jamun 3 (184)\n",
      "Gulab-Jamun 3 (1840)\n",
      "Gulab-Jamun 3 (1841)\n",
      "Gulab-Jamun 3 (1842)\n",
      "Gulab-Jamun 3 (185)\n"
     ]
    },
    {
     "name": "stderr",
     "output_type": "stream",
     "text": [
      "\r",
      " 37%|████████████████████████████▌                                                | 4312/11648 [00:51<01:16, 95.70it/s]"
     ]
    },
    {
     "name": "stdout",
     "output_type": "stream",
     "text": [
      "Gulab-Jamun 3 (186)\n",
      "Gulab-Jamun 3 (187)\n",
      "Gulab-Jamun 3 (188)\n",
      "Gulab-Jamun 3 (189)\n",
      "Gulab-Jamun 3 (19)\n",
      "Gulab-Jamun 3 (19)\n",
      "Gulab-Jamun 3 (190)\n",
      "Gulab-Jamun 3 (191)\n",
      "Gulab-Jamun 3 (192)\n",
      "Gulab-Jamun 3 (193)\n"
     ]
    },
    {
     "name": "stderr",
     "output_type": "stream",
     "text": [
      "\r",
      " 37%|████████████████████████████▌                                                | 4322/11648 [00:51<02:36, 46.91it/s]"
     ]
    },
    {
     "name": "stdout",
     "output_type": "stream",
     "text": [
      "Gulab-Jamun 3 (194)\n",
      "Gulab-Jamun 3 (195)\n",
      "Gulab-Jamun 3 (196)\n",
      "Gulab-Jamun 3 (197)\n",
      "Gulab-Jamun 3 (198)\n",
      "Gulab-Jamun 3 (199)\n",
      "Gulab-Jamun 3 (2)\n",
      "Gulab-Jamun 3 (2)\n"
     ]
    },
    {
     "name": "stderr",
     "output_type": "stream",
     "text": [
      "\r",
      " 37%|████████████████████████████▌                                                | 4330/11648 [00:51<02:58, 41.01it/s]"
     ]
    },
    {
     "name": "stdout",
     "output_type": "stream",
     "text": [
      "Gulab-Jamun 3 (20)\n",
      "Gulab-Jamun 3 (20)\n",
      "Gulab-Jamun 3 (200)\n",
      "Gulab-Jamun 3 (201)\n",
      "Gulab-Jamun 3 (202)\n",
      "Gulab-Jamun 3 (203)\n",
      "Gulab-Jamun 3 (204)\n"
     ]
    },
    {
     "name": "stderr",
     "output_type": "stream",
     "text": [
      "\r",
      " 37%|████████████████████████████▋                                                | 4337/11648 [00:52<02:54, 41.98it/s]"
     ]
    },
    {
     "name": "stdout",
     "output_type": "stream",
     "text": [
      "Gulab-Jamun 3 (205)\n",
      "Gulab-Jamun 3 (206)\n",
      "Gulab-Jamun 3 (207)\n",
      "Gulab-Jamun 3 (208)\n",
      "Gulab-Jamun 3 (209)\n",
      "Gulab-Jamun 3 (21)\n"
     ]
    },
    {
     "name": "stderr",
     "output_type": "stream",
     "text": [
      "\r",
      " 37%|████████████████████████████▋                                                | 4343/11648 [00:52<02:51, 42.54it/s]"
     ]
    },
    {
     "name": "stdout",
     "output_type": "stream",
     "text": [
      "Gulab-Jamun 3 (21)\n",
      "Gulab-Jamun 3 (210)\n",
      "Gulab-Jamun 3 (211)\n",
      "Gulab-Jamun 3 (212)\n",
      "Gulab-Jamun 3 (213)\n",
      "Gulab-Jamun 3 (214)\n",
      "Gulab-Jamun 3 (215)\n",
      "Gulab-Jamun 3 (216)\n",
      "Gulab-Jamun 3 (217)\n",
      "Gulab-Jamun 3 (218)\n",
      "Gulab-Jamun 3 (219)\n",
      "Gulab-Jamun 3 (22)\n"
     ]
    },
    {
     "name": "stderr",
     "output_type": "stream",
     "text": [
      "\r",
      " 37%|████████████████████████████▊                                                | 4355/11648 [00:52<02:25, 50.26it/s]"
     ]
    },
    {
     "name": "stdout",
     "output_type": "stream",
     "text": [
      "Gulab-Jamun 3 (22)\n",
      "Gulab-Jamun 3 (220)\n",
      "Gulab-Jamun 3 (221)\n",
      "Gulab-Jamun 3 (222)\n",
      "Gulab-Jamun 3 (223)\n",
      "Gulab-Jamun 3 (224)\n",
      "Gulab-Jamun 3 (225)\n",
      "Gulab-Jamun 3 (226)\n",
      "Gulab-Jamun 3 (227)\n",
      "Gulab-Jamun 3 (228)\n",
      "Gulab-Jamun 3 (229)\n",
      "Gulab-Jamun 3 (23)\n"
     ]
    },
    {
     "name": "stderr",
     "output_type": "stream",
     "text": [
      "\r",
      " 37%|████████████████████████████▊                                                | 4367/11648 [00:52<02:03, 59.19it/s]"
     ]
    },
    {
     "name": "stdout",
     "output_type": "stream",
     "text": [
      "Gulab-Jamun 3 (23)\n",
      "Gulab-Jamun 3 (230)\n",
      "Gulab-Jamun 3 (231)\n",
      "Gulab-Jamun 3 (232)\n",
      "Gulab-Jamun 3 (233)\n",
      "Gulab-Jamun 3 (234)\n",
      "Gulab-Jamun 3 (235)\n",
      "Gulab-Jamun 3 (236)\n",
      "Gulab-Jamun 3 (237)\n",
      "Gulab-Jamun 3 (238)\n",
      "Gulab-Jamun 3 (239)\n",
      "Gulab-Jamun 3 (24)\n"
     ]
    },
    {
     "name": "stderr",
     "output_type": "stream",
     "text": [
      "\r",
      " 38%|████████████████████████████▉                                                | 4379/11648 [00:52<01:45, 68.88it/s]"
     ]
    },
    {
     "name": "stdout",
     "output_type": "stream",
     "text": [
      "Gulab-Jamun 3 (24)\n",
      "Gulab-Jamun 3 (240)\n",
      "Gulab-Jamun 3 (241)\n",
      "Gulab-Jamun 3 (242)\n",
      "Gulab-Jamun 3 (243)\n",
      "Gulab-Jamun 3 (244)\n",
      "Gulab-Jamun 3 (245)\n",
      "Gulab-Jamun 3 (246)\n",
      "Gulab-Jamun 3 (247)\n",
      "Gulab-Jamun 3 (248)\n",
      "Gulab-Jamun 3 (249)\n",
      "Gulab-Jamun 3 (25)\n"
     ]
    },
    {
     "name": "stderr",
     "output_type": "stream",
     "text": [
      "\r",
      " 38%|█████████████████████████████                                                | 4391/11648 [00:52<01:34, 77.19it/s]"
     ]
    },
    {
     "name": "stdout",
     "output_type": "stream",
     "text": [
      "Gulab-Jamun 3 (25)\n",
      "Gulab-Jamun 3 (250)\n",
      "Gulab-Jamun 3 (251)\n",
      "Gulab-Jamun 3 (252)\n",
      "Gulab-Jamun 3 (253)\n",
      "Gulab-Jamun 3 (254)\n",
      "Gulab-Jamun 3 (255)\n",
      "Gulab-Jamun 3 (256)\n",
      "Gulab-Jamun 3 (257)\n",
      "Gulab-Jamun 3 (258)\n",
      "Gulab-Jamun 3 (259)\n",
      "Gulab-Jamun 3 (26)\n"
     ]
    },
    {
     "name": "stderr",
     "output_type": "stream",
     "text": [
      "\r",
      " 38%|█████████████████████████████                                                | 4403/11648 [00:52<01:25, 85.02it/s]"
     ]
    },
    {
     "name": "stdout",
     "output_type": "stream",
     "text": [
      "Gulab-Jamun 3 (26)\n",
      "Gulab-Jamun 3 (260)\n",
      "Gulab-Jamun 3 (261)\n",
      "Gulab-Jamun 3 (262)\n",
      "Gulab-Jamun 3 (263)\n",
      "Gulab-Jamun 3 (264)\n",
      "Gulab-Jamun 3 (265)\n",
      "Gulab-Jamun 3 (266)\n",
      "Gulab-Jamun 3 (267)\n",
      "Gulab-Jamun 3 (268)\n",
      "Gulab-Jamun 3 (269)\n"
     ]
    },
    {
     "name": "stderr",
     "output_type": "stream",
     "text": [
      "\r",
      " 38%|█████████████████████████████▏                                               | 4414/11648 [00:52<01:20, 90.40it/s]"
     ]
    },
    {
     "name": "stdout",
     "output_type": "stream",
     "text": [
      "Gulab-Jamun 3 (27)\n",
      "Gulab-Jamun 3 (27)\n",
      "Gulab-Jamun 3 (270)\n",
      "Gulab-Jamun 3 (271)\n",
      "Gulab-Jamun 3 (272)\n",
      "Gulab-Jamun 3 (273)\n",
      "Gulab-Jamun 3 (274)\n",
      "Gulab-Jamun 3 (275)\n",
      "Gulab-Jamun 3 (276)\n",
      "Gulab-Jamun 3 (277)\n",
      "Gulab-Jamun 3 (278)\n"
     ]
    },
    {
     "name": "stderr",
     "output_type": "stream",
     "text": [
      "\r",
      " 38%|█████████████████████████████▎                                               | 4425/11648 [00:53<01:46, 67.75it/s]"
     ]
    },
    {
     "name": "stdout",
     "output_type": "stream",
     "text": [
      "Gulab-Jamun 3 (279)\n",
      "Gulab-Jamun 3 (28)\n",
      "Gulab-Jamun 3 (28)\n",
      "Gulab-Jamun 3 (280)\n",
      "Gulab-Jamun 3 (281)\n",
      "Gulab-Jamun 3 (282)\n",
      "Gulab-Jamun 3 (283)\n",
      "Gulab-Jamun 3 (284)\n",
      "Gulab-Jamun 3 (285)\n"
     ]
    },
    {
     "name": "stderr",
     "output_type": "stream",
     "text": [
      "\r",
      " 38%|█████████████████████████████▎                                               | 4434/11648 [00:53<02:04, 58.09it/s]"
     ]
    },
    {
     "name": "stdout",
     "output_type": "stream",
     "text": [
      "Gulab-Jamun 3 (286)\n",
      "Gulab-Jamun 3 (287)\n",
      "Gulab-Jamun 3 (288)\n",
      "Gulab-Jamun 3 (289)\n",
      "Gulab-Jamun 3 (29)\n",
      "Gulab-Jamun 3 (29)\n",
      "Gulab-Jamun 3 (290)\n",
      "Gulab-Jamun 3 (291)\n"
     ]
    },
    {
     "name": "stderr",
     "output_type": "stream",
     "text": [
      "\r",
      " 38%|█████████████████████████████▎                                               | 4442/11648 [00:53<02:17, 52.30it/s]"
     ]
    },
    {
     "name": "stdout",
     "output_type": "stream",
     "text": [
      "Gulab-Jamun 3 (292)\n",
      "Gulab-Jamun 3 (293)\n",
      "Gulab-Jamun 3 (294)\n",
      "Gulab-Jamun 3 (295)\n",
      "Gulab-Jamun 3 (296)\n",
      "Gulab-Jamun 3 (297)\n",
      "Gulab-Jamun 3 (298)\n",
      "Gulab-Jamun 3 (299)\n",
      "Gulab-Jamun 3 (3)\n"
     ]
    },
    {
     "name": "stderr",
     "output_type": "stream",
     "text": [
      "\r",
      " 38%|█████████████████████████████▍                                               | 4451/11648 [00:53<02:08, 56.17it/s]"
     ]
    },
    {
     "name": "stdout",
     "output_type": "stream",
     "text": [
      "Gulab-Jamun 3 (3)\n",
      "Gulab-Jamun 3 (30)\n",
      "Gulab-Jamun 3 (30)\n",
      "Gulab-Jamun 3 (300)\n",
      "Gulab-Jamun 3 (301)\n",
      "Gulab-Jamun 3 (302)\n",
      "Gulab-Jamun 3 (303)\n"
     ]
    },
    {
     "name": "stderr",
     "output_type": "stream",
     "text": [
      "\r",
      " 38%|█████████████████████████████▍                                               | 4458/11648 [00:53<02:24, 49.72it/s]"
     ]
    },
    {
     "name": "stdout",
     "output_type": "stream",
     "text": [
      "Gulab-Jamun 3 (304)\n",
      "Gulab-Jamun 3 (305)\n",
      "Gulab-Jamun 3 (306)\n",
      "Gulab-Jamun 3 (307)\n",
      "Gulab-Jamun 3 (308)\n",
      "Gulab-Jamun 3 (309)\n",
      "Gulab-Jamun 3 (31)\n",
      "Gulab-Jamun 3 (31)\n"
     ]
    },
    {
     "name": "stderr",
     "output_type": "stream",
     "text": [
      "\r",
      " 38%|█████████████████████████████▌                                               | 4466/11648 [00:54<02:30, 47.79it/s]"
     ]
    },
    {
     "name": "stdout",
     "output_type": "stream",
     "text": [
      "Gulab-Jamun 3 (310)\n",
      "Gulab-Jamun 3 (311)\n",
      "Gulab-Jamun 3 (312)\n",
      "Gulab-Jamun 3 (313)\n",
      "Gulab-Jamun 3 (314)\n",
      "Gulab-Jamun 3 (315)\n",
      "Gulab-Jamun 3 (316)\n",
      "Gulab-Jamun 3 (317)\n",
      "Gulab-Jamun 3 (318)\n",
      "Gulab-Jamun 3 (319)\n",
      "Gulab-Jamun 3 (32)\n"
     ]
    },
    {
     "name": "stderr",
     "output_type": "stream",
     "text": [
      "\r",
      " 38%|█████████████████████████████▌                                               | 4477/11648 [00:54<02:07, 56.17it/s]"
     ]
    },
    {
     "name": "stdout",
     "output_type": "stream",
     "text": [
      "Gulab-Jamun 3 (32)\n",
      "Gulab-Jamun 3 (320)\n",
      "Gulab-Jamun 3 (321)\n",
      "Gulab-Jamun 3 (322)\n",
      "Gulab-Jamun 3 (323)\n",
      "Gulab-Jamun 3 (324)\n",
      "Gulab-Jamun 3 (325)\n",
      "Gulab-Jamun 3 (326)\n",
      "Gulab-Jamun 3 (327)\n",
      "Gulab-Jamun 3 (328)\n",
      "Gulab-Jamun 3 (329)\n",
      "Gulab-Jamun 3 (33)\n"
     ]
    },
    {
     "name": "stderr",
     "output_type": "stream",
     "text": [
      "\r",
      " 39%|█████████████████████████████▋                                               | 4489/11648 [00:54<01:52, 63.78it/s]"
     ]
    },
    {
     "name": "stdout",
     "output_type": "stream",
     "text": [
      "Gulab-Jamun 3 (33)\n",
      "Gulab-Jamun 3 (330)\n",
      "Gulab-Jamun 3 (331)\n",
      "Gulab-Jamun 3 (332)\n",
      "Gulab-Jamun 3 (333)\n",
      "Gulab-Jamun 3 (334)\n",
      "Gulab-Jamun 3 (335)\n",
      "Gulab-Jamun 3 (336)\n",
      "Gulab-Jamun 3 (337)\n",
      "Gulab-Jamun 3 (338)\n",
      "Gulab-Jamun 3 (339)\n",
      "Gulab-Jamun 3 (34)\n"
     ]
    },
    {
     "name": "stderr",
     "output_type": "stream",
     "text": [
      "\r",
      " 39%|█████████████████████████████▊                                               | 4501/11648 [00:54<01:40, 71.35it/s]"
     ]
    },
    {
     "name": "stdout",
     "output_type": "stream",
     "text": [
      "Gulab-Jamun 3 (34)\n",
      "Gulab-Jamun 3 (340)\n",
      "Gulab-Jamun 3 (341)\n",
      "Gulab-Jamun 3 (342)\n",
      "Gulab-Jamun 3 (343)\n",
      "Gulab-Jamun 3 (344)\n",
      "Gulab-Jamun 3 (345)\n",
      "Gulab-Jamun 3 (346)\n",
      "Gulab-Jamun 3 (347)\n",
      "Gulab-Jamun 3 (348)\n"
     ]
    },
    {
     "name": "stderr",
     "output_type": "stream",
     "text": [
      "\r",
      " 39%|█████████████████████████████▊                                               | 4511/11648 [00:54<01:32, 77.56it/s]"
     ]
    },
    {
     "name": "stdout",
     "output_type": "stream",
     "text": [
      "Gulab-Jamun 3 (349)\n",
      "Gulab-Jamun 3 (35)\n",
      "Gulab-Jamun 3 (35)\n",
      "Gulab-Jamun 3 (350)\n",
      "Gulab-Jamun 3 (351)\n",
      "Gulab-Jamun 3 (352)\n",
      "Gulab-Jamun 3 (353)\n",
      "Gulab-Jamun 3 (354)\n",
      "Gulab-Jamun 3 (355)\n"
     ]
    },
    {
     "name": "stderr",
     "output_type": "stream",
     "text": [
      "\r",
      " 39%|█████████████████████████████▉                                               | 4520/11648 [00:54<01:34, 75.68it/s]"
     ]
    },
    {
     "name": "stdout",
     "output_type": "stream",
     "text": [
      "Gulab-Jamun 3 (356)\n",
      "Gulab-Jamun 3 (357)\n",
      "Gulab-Jamun 3 (358)\n",
      "Gulab-Jamun 3 (359)\n",
      "Gulab-Jamun 3 (36)\n",
      "Gulab-Jamun 3 (36)\n",
      "Gulab-Jamun 3 (360)\n",
      "Gulab-Jamun 3 (361)\n",
      "Gulab-Jamun 3 (362)\n"
     ]
    },
    {
     "name": "stderr",
     "output_type": "stream",
     "text": [
      "\r",
      " 39%|█████████████████████████████▉                                               | 4529/11648 [00:54<01:34, 75.72it/s]"
     ]
    },
    {
     "name": "stdout",
     "output_type": "stream",
     "text": [
      "Gulab-Jamun 3 (363)\n",
      "Gulab-Jamun 3 (364)\n",
      "Gulab-Jamun 3 (365)\n",
      "Gulab-Jamun 3 (366)\n",
      "Gulab-Jamun 3 (367)\n",
      "Gulab-Jamun 3 (368)\n",
      "Gulab-Jamun 3 (369)\n",
      "Gulab-Jamun 3 (37)\n"
     ]
    },
    {
     "name": "stderr",
     "output_type": "stream",
     "text": [
      "\r",
      " 39%|█████████████████████████████▉                                               | 4537/11648 [00:54<01:39, 71.27it/s]"
     ]
    },
    {
     "name": "stdout",
     "output_type": "stream",
     "text": [
      "Gulab-Jamun 3 (37)\n",
      "Gulab-Jamun 3 (370)\n",
      "Gulab-Jamun 3 (371)\n",
      "Gulab-Jamun 3 (372)\n",
      "Gulab-Jamun 3 (373)\n",
      "Gulab-Jamun 3 (374)\n",
      "Gulab-Jamun 3 (375)\n",
      "Gulab-Jamun 3 (376)\n",
      "Gulab-Jamun 3 (377)\n",
      "Gulab-Jamun 3 (378)\n",
      "Gulab-Jamun 3 (379)\n",
      "Gulab-Jamun 3 (38)\n"
     ]
    },
    {
     "name": "stderr",
     "output_type": "stream",
     "text": [
      "\r",
      " 39%|██████████████████████████████                                               | 4549/11648 [00:55<01:33, 76.26it/s]"
     ]
    },
    {
     "name": "stdout",
     "output_type": "stream",
     "text": [
      "Gulab-Jamun 3 (38)\n",
      "Gulab-Jamun 3 (380)\n",
      "Gulab-Jamun 3 (381)\n",
      "Gulab-Jamun 3 (382)\n",
      "Gulab-Jamun 3 (383)\n",
      "Gulab-Jamun 3 (384)\n",
      "Gulab-Jamun 3 (385)\n",
      "Gulab-Jamun 3 (386)\n"
     ]
    },
    {
     "name": "stderr",
     "output_type": "stream",
     "text": [
      "\r",
      " 39%|██████████████████████████████                                               | 4557/11648 [00:55<01:43, 68.48it/s]"
     ]
    },
    {
     "name": "stdout",
     "output_type": "stream",
     "text": [
      "Gulab-Jamun 3 (387)\n",
      "Gulab-Jamun 3 (388)\n",
      "Gulab-Jamun 3 (389)\n",
      "Gulab-Jamun 3 (39)\n",
      "Gulab-Jamun 3 (39)\n",
      "Gulab-Jamun 3 (390)\n",
      "Gulab-Jamun 3 (391)\n",
      "Gulab-Jamun 3 (392)\n"
     ]
    },
    {
     "name": "stderr",
     "output_type": "stream",
     "text": [
      "\r",
      " 39%|██████████████████████████████▏                                              | 4565/11648 [00:55<02:06, 56.14it/s]"
     ]
    },
    {
     "name": "stdout",
     "output_type": "stream",
     "text": [
      "Gulab-Jamun 3 (393)\n",
      "Gulab-Jamun 3 (394)\n",
      "Gulab-Jamun 3 (395)\n",
      "Gulab-Jamun 3 (396)\n",
      "Gulab-Jamun 3 (397)\n",
      "Gulab-Jamun 3 (398)\n",
      "Gulab-Jamun 3 (399)\n"
     ]
    },
    {
     "name": "stderr",
     "output_type": "stream",
     "text": [
      "\r",
      " 39%|██████████████████████████████▏                                              | 4572/11648 [00:55<02:04, 56.96it/s]"
     ]
    },
    {
     "name": "stdout",
     "output_type": "stream",
     "text": [
      "Gulab-Jamun 3 (4)\n",
      "Gulab-Jamun 3 (4)\n",
      "Gulab-Jamun 3 (40)\n",
      "Gulab-Jamun 3 (40)\n",
      "Gulab-Jamun 3 (400)\n",
      "Gulab-Jamun 3 (401)\n",
      "Gulab-Jamun 3 (402)\n"
     ]
    },
    {
     "name": "stderr",
     "output_type": "stream",
     "text": [
      "\r",
      " 39%|██████████████████████████████▎                                              | 4579/11648 [00:55<02:22, 49.51it/s]"
     ]
    },
    {
     "name": "stdout",
     "output_type": "stream",
     "text": [
      "Gulab-Jamun 3 (403)\n",
      "Gulab-Jamun 3 (404)\n",
      "Gulab-Jamun 3 (405)\n",
      "Gulab-Jamun 3 (406)\n",
      "Gulab-Jamun 3 (407)\n",
      "Gulab-Jamun 3 (408)\n",
      "Gulab-Jamun 3 (409)\n",
      "Gulab-Jamun 3 (41)\n"
     ]
    },
    {
     "name": "stderr",
     "output_type": "stream",
     "text": [
      "\r",
      " 39%|██████████████████████████████▎                                              | 4587/11648 [00:55<02:17, 51.42it/s]"
     ]
    },
    {
     "name": "stdout",
     "output_type": "stream",
     "text": [
      "Gulab-Jamun 3 (41)\n",
      "Gulab-Jamun 3 (410)\n",
      "Gulab-Jamun 3 (411)\n",
      "Gulab-Jamun 3 (412)\n",
      "Gulab-Jamun 3 (413)\n",
      "Gulab-Jamun 3 (414)\n",
      "Gulab-Jamun 3 (415)\n",
      "Gulab-Jamun 3 (416)\n",
      "Gulab-Jamun 3 (417)\n"
     ]
    },
    {
     "name": "stderr",
     "output_type": "stream",
     "text": [
      "\r",
      " 39%|██████████████████████████████▍                                              | 4596/11648 [00:55<02:00, 58.46it/s]"
     ]
    },
    {
     "name": "stdout",
     "output_type": "stream",
     "text": [
      "Gulab-Jamun 3 (418)\n",
      "Gulab-Jamun 3 (419)\n",
      "Gulab-Jamun 3 (42)\n",
      "Gulab-Jamun 3 (42)\n",
      "Gulab-Jamun 3 (420)\n",
      "Gulab-Jamun 3 (421)\n",
      "Gulab-Jamun 3 (422)\n"
     ]
    },
    {
     "name": "stderr",
     "output_type": "stream",
     "text": [
      "\r",
      " 40%|██████████████████████████████▍                                              | 4603/11648 [00:56<02:02, 57.47it/s]"
     ]
    },
    {
     "name": "stdout",
     "output_type": "stream",
     "text": [
      "Gulab-Jamun 3 (423)\n",
      "Gulab-Jamun 3 (424)\n",
      "Gulab-Jamun 3 (425)\n",
      "Gulab-Jamun 3 (426)\n",
      "Gulab-Jamun 3 (427)\n",
      "Gulab-Jamun 3 (428)\n",
      "Gulab-Jamun 3 (429)\n",
      "Gulab-Jamun 3 (43)\n"
     ]
    },
    {
     "name": "stderr",
     "output_type": "stream",
     "text": [
      "\r",
      " 40%|██████████████████████████████▍                                              | 4611/11648 [00:56<01:53, 62.23it/s]"
     ]
    },
    {
     "name": "stdout",
     "output_type": "stream",
     "text": [
      "Gulab-Jamun 3 (43)\n",
      "Gulab-Jamun 3 (430)\n",
      "Gulab-Jamun 3 (431)\n",
      "Gulab-Jamun 3 (432)\n",
      "Gulab-Jamun 3 (433)\n",
      "Gulab-Jamun 3 (434)\n",
      "Gulab-Jamun 3 (435)\n",
      "Gulab-Jamun 3 (436)\n",
      "Gulab-Jamun 3 (437)\n",
      "Gulab-Jamun 3 (438)\n",
      "Gulab-Jamun 3 (439)\n",
      "Gulab-Jamun 3 (44)\n"
     ]
    },
    {
     "name": "stderr",
     "output_type": "stream",
     "text": [
      "\r",
      " 40%|██████████████████████████████▌                                              | 4623/11648 [00:56<01:41, 68.89it/s]"
     ]
    },
    {
     "name": "stdout",
     "output_type": "stream",
     "text": [
      "Gulab-Jamun 3 (44)\n",
      "Gulab-Jamun 3 (440)\n",
      "Gulab-Jamun 3 (441)\n",
      "Gulab-Jamun 3 (442)\n",
      "Gulab-Jamun 3 (443)\n",
      "Gulab-Jamun 3 (444)\n",
      "Gulab-Jamun 3 (445)\n",
      "Gulab-Jamun 3 (446)\n",
      "Gulab-Jamun 3 (447)\n",
      "Gulab-Jamun 3 (448)\n",
      "Gulab-Jamun 3 (449)\n",
      "Gulab-Jamun 3 (45)\n"
     ]
    },
    {
     "name": "stderr",
     "output_type": "stream",
     "text": [
      "\r",
      " 40%|██████████████████████████████▋                                              | 4635/11648 [00:56<01:34, 74.34it/s]"
     ]
    },
    {
     "name": "stdout",
     "output_type": "stream",
     "text": [
      "Gulab-Jamun 3 (45)\n",
      "Gulab-Jamun 3 (450)\n",
      "Gulab-Jamun 3 (451)\n",
      "Gulab-Jamun 3 (452)\n",
      "Gulab-Jamun 3 (453)\n",
      "Gulab-Jamun 3 (454)\n",
      "Gulab-Jamun 3 (455)\n",
      "Gulab-Jamun 3 (456)\n",
      "Gulab-Jamun 3 (457)\n",
      "Gulab-Jamun 3 (458)\n",
      "Gulab-Jamun 3 (459)\n",
      "Gulab-Jamun 3 (46)\n"
     ]
    },
    {
     "name": "stderr",
     "output_type": "stream",
     "text": [
      "\r",
      " 40%|██████████████████████████████▋                                              | 4647/11648 [00:56<01:28, 79.16it/s]"
     ]
    },
    {
     "name": "stdout",
     "output_type": "stream",
     "text": [
      "Gulab-Jamun 3 (46)\n",
      "Gulab-Jamun 3 (460)\n",
      "Gulab-Jamun 3 (461)\n",
      "Gulab-Jamun 3 (462)\n",
      "Gulab-Jamun 3 (463)\n",
      "Gulab-Jamun 3 (464)\n",
      "Gulab-Jamun 3 (465)\n",
      "Gulab-Jamun 3 (466)\n",
      "Gulab-Jamun 3 (467)\n",
      "Gulab-Jamun 3 (468)\n",
      "Gulab-Jamun 3 (469)\n",
      "Gulab-Jamun 3 (47)\n"
     ]
    },
    {
     "name": "stderr",
     "output_type": "stream",
     "text": [
      "\r",
      " 40%|██████████████████████████████▊                                              | 4659/11648 [00:56<01:26, 80.59it/s]"
     ]
    },
    {
     "name": "stdout",
     "output_type": "stream",
     "text": [
      "Gulab-Jamun 3 (47)\n",
      "Gulab-Jamun 3 (470)\n",
      "Gulab-Jamun 3 (471)\n",
      "Gulab-Jamun 3 (472)\n",
      "Gulab-Jamun 3 (473)\n",
      "Gulab-Jamun 3 (474)\n",
      "Gulab-Jamun 3 (475)\n",
      "Gulab-Jamun 3 (476)\n",
      "Gulab-Jamun 3 (477)\n",
      "Gulab-Jamun 3 (478)\n",
      "Gulab-Jamun 3 (479)\n"
     ]
    },
    {
     "name": "stderr",
     "output_type": "stream",
     "text": [
      "\r",
      " 40%|██████████████████████████████▊                                              | 4670/11648 [00:56<01:21, 85.63it/s]"
     ]
    },
    {
     "name": "stdout",
     "output_type": "stream",
     "text": [
      "Gulab-Jamun 3 (48)\n",
      "Gulab-Jamun 3 (48)\n",
      "Gulab-Jamun 3 (480)\n",
      "Gulab-Jamun 3 (481)\n",
      "Gulab-Jamun 3 (482)\n",
      "Gulab-Jamun 3 (483)\n",
      "Gulab-Jamun 3 (484)\n",
      "Gulab-Jamun 3 (485)\n",
      "Gulab-Jamun 3 (486)\n"
     ]
    },
    {
     "name": "stderr",
     "output_type": "stream",
     "text": [
      "\r",
      " 40%|██████████████████████████████▉                                              | 4679/11648 [00:57<01:29, 77.75it/s]"
     ]
    },
    {
     "name": "stdout",
     "output_type": "stream",
     "text": [
      "Gulab-Jamun 3 (487)\n",
      "Gulab-Jamun 3 (488)\n",
      "Gulab-Jamun 3 (489)\n",
      "Gulab-Jamun 3 (49)\n",
      "Gulab-Jamun 3 (49)\n",
      "Gulab-Jamun 3 (490)\n",
      "Gulab-Jamun 3 (491)\n",
      "Gulab-Jamun 3 (492)\n",
      "Gulab-Jamun 3 (493)\n"
     ]
    },
    {
     "name": "stderr",
     "output_type": "stream",
     "text": [
      "\r",
      " 40%|██████████████████████████████▉                                              | 4688/11648 [00:57<01:30, 76.57it/s]"
     ]
    },
    {
     "name": "stdout",
     "output_type": "stream",
     "text": [
      "Gulab-Jamun 3 (494)\n",
      "Gulab-Jamun 3 (495)\n",
      "Gulab-Jamun 3 (496)\n",
      "Gulab-Jamun 3 (497)\n",
      "Gulab-Jamun 3 (498)\n",
      "Gulab-Jamun 3 (499)\n",
      "Gulab-Jamun 3 (5)\n",
      "Gulab-Jamun 3 (5)\n",
      "Gulab-Jamun 3 (50)\n"
     ]
    },
    {
     "name": "stderr",
     "output_type": "stream",
     "text": [
      "\r",
      " 40%|███████████████████████████████                                              | 4697/11648 [00:57<01:38, 70.45it/s]"
     ]
    },
    {
     "name": "stdout",
     "output_type": "stream",
     "text": [
      "Gulab-Jamun 3 (50)\n",
      "Gulab-Jamun 3 (500)\n",
      "Gulab-Jamun 3 (501)\n",
      "Gulab-Jamun 3 (502)\n",
      "Gulab-Jamun 3 (503)\n",
      "Gulab-Jamun 3 (504)\n",
      "Gulab-Jamun 3 (505)\n",
      "Gulab-Jamun 3 (506)\n",
      "Gulab-Jamun 3 (507)\n",
      "Gulab-Jamun 3 (508)\n",
      "Gulab-Jamun 3 (509)\n",
      "Gulab-Jamun 3 (51)\n"
     ]
    },
    {
     "name": "stderr",
     "output_type": "stream",
     "text": [
      "\r",
      " 40%|███████████████████████████████▏                                             | 4709/11648 [00:57<01:29, 77.65it/s]"
     ]
    },
    {
     "name": "stdout",
     "output_type": "stream",
     "text": [
      "Gulab-Jamun 3 (51)\n",
      "Gulab-Jamun 3 (510)\n",
      "Gulab-Jamun 3 (511)\n",
      "Gulab-Jamun 3 (512)\n",
      "Gulab-Jamun 3 (513)\n",
      "Gulab-Jamun 3 (514)\n",
      "Gulab-Jamun 3 (515)\n",
      "Gulab-Jamun 3 (516)\n",
      "Gulab-Jamun 3 (517)\n",
      "Gulab-Jamun 3 (518)\n",
      "Gulab-Jamun 3 (519)\n",
      "Gulab-Jamun 3 (52)\n"
     ]
    },
    {
     "name": "stderr",
     "output_type": "stream",
     "text": [
      "\r",
      " 41%|███████████████████████████████▏                                             | 4721/11648 [00:57<01:27, 79.02it/s]"
     ]
    },
    {
     "name": "stdout",
     "output_type": "stream",
     "text": [
      "Gulab-Jamun 3 (52)\n",
      "Gulab-Jamun 3 (520)\n",
      "Gulab-Jamun 3 (521)\n",
      "Gulab-Jamun 3 (522)\n",
      "Gulab-Jamun 3 (523)\n",
      "Gulab-Jamun 3 (524)\n",
      "Gulab-Jamun 3 (525)\n",
      "Gulab-Jamun 3 (526)\n",
      "Gulab-Jamun 3 (527)\n",
      "Gulab-Jamun 3 (528)\n",
      "Gulab-Jamun 3 (529)\n"
     ]
    },
    {
     "name": "stderr",
     "output_type": "stream",
     "text": [
      "\r",
      " 41%|███████████████████████████████▎                                             | 4732/11648 [00:57<01:21, 84.77it/s]"
     ]
    },
    {
     "name": "stdout",
     "output_type": "stream",
     "text": [
      "Gulab-Jamun 3 (53)\n",
      "Gulab-Jamun 3 (53)\n",
      "Gulab-Jamun 3 (530)\n",
      "Gulab-Jamun 3 (531)\n",
      "Gulab-Jamun 3 (532)\n",
      "Gulab-Jamun 3 (533)\n",
      "Gulab-Jamun 3 (534)\n",
      "Gulab-Jamun 3 (535)\n",
      "Gulab-Jamun 3 (536)\n"
     ]
    },
    {
     "name": "stderr",
     "output_type": "stream",
     "text": [
      "\r",
      " 41%|███████████████████████████████▎                                             | 4741/11648 [00:57<01:26, 79.92it/s]"
     ]
    },
    {
     "name": "stdout",
     "output_type": "stream",
     "text": [
      "Gulab-Jamun 3 (537)\n",
      "Gulab-Jamun 3 (538)\n",
      "Gulab-Jamun 3 (539)\n",
      "Gulab-Jamun 3 (54)\n",
      "Gulab-Jamun 3 (54)\n",
      "Gulab-Jamun 3 (540)\n",
      "Gulab-Jamun 3 (541)\n",
      "Gulab-Jamun 3 (542)\n",
      "Gulab-Jamun 3 (543)\n"
     ]
    },
    {
     "name": "stderr",
     "output_type": "stream",
     "text": [
      "\r",
      " 41%|███████████████████████████████▍                                             | 4750/11648 [00:57<01:33, 74.00it/s]"
     ]
    },
    {
     "name": "stdout",
     "output_type": "stream",
     "text": [
      "Gulab-Jamun 3 (544)\n",
      "Gulab-Jamun 3 (545)\n",
      "Gulab-Jamun 3 (546)\n",
      "Gulab-Jamun 3 (547)\n",
      "Gulab-Jamun 3 (548)\n",
      "Gulab-Jamun 3 (549)\n",
      "Gulab-Jamun 3 (55)\n",
      "Gulab-Jamun 3 (55)\n"
     ]
    },
    {
     "name": "stderr",
     "output_type": "stream",
     "text": [
      "\r",
      " 41%|███████████████████████████████▍                                             | 4758/11648 [00:58<01:40, 68.57it/s]"
     ]
    },
    {
     "name": "stdout",
     "output_type": "stream",
     "text": [
      "Gulab-Jamun 3 (550)\n",
      "Gulab-Jamun 3 (551)\n",
      "Gulab-Jamun 3 (552)\n",
      "Gulab-Jamun 3 (553)\n",
      "Gulab-Jamun 3 (554)\n",
      "Gulab-Jamun 3 (555)\n",
      "Gulab-Jamun 3 (556)\n",
      "Gulab-Jamun 3 (557)\n"
     ]
    },
    {
     "name": "stderr",
     "output_type": "stream",
     "text": [
      "\r",
      " 41%|███████████████████████████████▌                                             | 4766/11648 [00:58<01:38, 70.01it/s]"
     ]
    },
    {
     "name": "stdout",
     "output_type": "stream",
     "text": [
      "Gulab-Jamun 3 (558)\n",
      "Gulab-Jamun 3 (559)\n",
      "Gulab-Jamun 3 (56)\n",
      "Gulab-Jamun 3 (56)\n",
      "Gulab-Jamun 3 (560)\n",
      "Gulab-Jamun 3 (561)\n",
      "Gulab-Jamun 3 (562)\n",
      "Gulab-Jamun 3 (563)\n"
     ]
    },
    {
     "name": "stderr",
     "output_type": "stream",
     "text": [
      "\r",
      " 41%|███████████████████████████████▌                                             | 4774/11648 [00:58<01:46, 64.53it/s]"
     ]
    },
    {
     "name": "stdout",
     "output_type": "stream",
     "text": [
      "Gulab-Jamun 3 (564)\n",
      "Gulab-Jamun 3 (565)\n",
      "Gulab-Jamun 3 (566)\n",
      "Gulab-Jamun 3 (567)\n",
      "Gulab-Jamun 3 (568)\n",
      "Gulab-Jamun 3 (569)\n",
      "Gulab-Jamun 3 (57)\n"
     ]
    },
    {
     "name": "stderr",
     "output_type": "stream",
     "text": [
      "\r",
      " 41%|███████████████████████████████▌                                             | 4781/11648 [00:58<02:01, 56.68it/s]"
     ]
    },
    {
     "name": "stdout",
     "output_type": "stream",
     "text": [
      "Gulab-Jamun 3 (57)\n",
      "Gulab-Jamun 3 (570)\n",
      "Gulab-Jamun 3 (571)\n",
      "Gulab-Jamun 3 (572)\n",
      "Gulab-Jamun 3 (573)\n",
      "Gulab-Jamun 3 (574)\n",
      "Gulab-Jamun 3 (575)\n",
      "Gulab-Jamun 3 (576)\n"
     ]
    },
    {
     "name": "stderr",
     "output_type": "stream",
     "text": [
      "\r",
      " 41%|███████████████████████████████▋                                             | 4789/11648 [00:58<01:51, 61.57it/s]"
     ]
    },
    {
     "name": "stdout",
     "output_type": "stream",
     "text": [
      "Gulab-Jamun 3 (577)\n",
      "Gulab-Jamun 3 (578)\n",
      "Gulab-Jamun 3 (579)\n",
      "Gulab-Jamun 3 (58)\n",
      "Gulab-Jamun 3 (58)\n",
      "Gulab-Jamun 3 (580)\n",
      "Gulab-Jamun 3 (581)\n"
     ]
    },
    {
     "name": "stderr",
     "output_type": "stream",
     "text": [
      "\r",
      " 41%|███████████████████████████████▋                                             | 4796/11648 [00:58<01:56, 58.79it/s]"
     ]
    },
    {
     "name": "stdout",
     "output_type": "stream",
     "text": [
      "Gulab-Jamun 3 (582)\n",
      "Gulab-Jamun 3 (583)\n",
      "Gulab-Jamun 3 (584)\n",
      "Gulab-Jamun 3 (585)\n",
      "Gulab-Jamun 3 (586)\n",
      "Gulab-Jamun 3 (587)\n",
      "Gulab-Jamun 3 (588)\n",
      "Gulab-Jamun 3 (589)\n"
     ]
    },
    {
     "name": "stderr",
     "output_type": "stream",
     "text": [
      "\r",
      " 41%|███████████████████████████████▊                                             | 4804/11648 [00:58<01:48, 62.86it/s]"
     ]
    },
    {
     "name": "stdout",
     "output_type": "stream",
     "text": [
      "Gulab-Jamun 3 (59)\n",
      "Gulab-Jamun 3 (59)\n",
      "Gulab-Jamun 3 (590)\n",
      "Gulab-Jamun 3 (591)\n",
      "Gulab-Jamun 3 (592)\n",
      "Gulab-Jamun 3 (593)\n",
      "Gulab-Jamun 3 (594)\n"
     ]
    },
    {
     "name": "stderr",
     "output_type": "stream",
     "text": [
      "\r",
      " 41%|███████████████████████████████▊                                             | 4811/11648 [00:58<01:46, 64.00it/s]"
     ]
    },
    {
     "name": "stdout",
     "output_type": "stream",
     "text": [
      "Gulab-Jamun 3 (595)\n",
      "Gulab-Jamun 3 (596)\n",
      "Gulab-Jamun 3 (597)\n",
      "Gulab-Jamun 3 (598)\n",
      "Gulab-Jamun 3 (599)\n",
      "Gulab-Jamun 3 (6)\n",
      "Gulab-Jamun 3 (6)\n",
      "Gulab-Jamun 3 (60)\n"
     ]
    },
    {
     "name": "stderr",
     "output_type": "stream",
     "text": [
      "\r",
      " 41%|███████████████████████████████▊                                             | 4819/11648 [00:59<01:52, 60.85it/s]"
     ]
    },
    {
     "name": "stdout",
     "output_type": "stream",
     "text": [
      "Gulab-Jamun 3 (60)\n",
      "Gulab-Jamun 3 (600)\n",
      "Gulab-Jamun 3 (601)\n",
      "Gulab-Jamun 3 (602)\n",
      "Gulab-Jamun 3 (603)\n",
      "Gulab-Jamun 3 (604)\n",
      "Gulab-Jamun 3 (605)\n",
      "Gulab-Jamun 3 (606)\n",
      "Gulab-Jamun 3 (607)\n",
      "Gulab-Jamun 3 (608)\n",
      "Gulab-Jamun 3 (609)\n",
      "Gulab-Jamun 3 (61)\n"
     ]
    },
    {
     "name": "stderr",
     "output_type": "stream",
     "text": [
      "\r",
      " 41%|███████████████████████████████▉                                             | 4831/11648 [00:59<01:37, 69.82it/s]"
     ]
    },
    {
     "name": "stdout",
     "output_type": "stream",
     "text": [
      "Gulab-Jamun 3 (61)\n",
      "Gulab-Jamun 3 (610)\n",
      "Gulab-Jamun 3 (611)\n",
      "Gulab-Jamun 3 (612)\n",
      "Gulab-Jamun 3 (613)\n",
      "Gulab-Jamun 3 (614)\n",
      "Gulab-Jamun 3 (615)\n",
      "Gulab-Jamun 3 (616)\n",
      "Gulab-Jamun 3 (617)\n",
      "Gulab-Jamun 3 (618)\n",
      "Gulab-Jamun 3 (619)\n",
      "Gulab-Jamun 3 (62)\n"
     ]
    },
    {
     "name": "stderr",
     "output_type": "stream",
     "text": [
      "\r",
      " 42%|████████████████████████████████                                             | 4843/11648 [00:59<01:33, 72.52it/s]"
     ]
    },
    {
     "name": "stdout",
     "output_type": "stream",
     "text": [
      "Gulab-Jamun 3 (62)\n",
      "Gulab-Jamun 3 (620)\n",
      "Gulab-Jamun 3 (621)\n",
      "Gulab-Jamun 3 (622)\n",
      "Gulab-Jamun 3 (623)\n",
      "Gulab-Jamun 3 (624)\n",
      "Gulab-Jamun 3 (625)\n",
      "Gulab-Jamun 3 (626)\n",
      "Gulab-Jamun 3 (627)\n",
      "Gulab-Jamun 3 (628)\n",
      "Gulab-Jamun 3 (629)\n"
     ]
    },
    {
     "name": "stderr",
     "output_type": "stream",
     "text": [
      "\r",
      " 42%|████████████████████████████████                                             | 4854/11648 [00:59<01:24, 79.94it/s]"
     ]
    },
    {
     "name": "stdout",
     "output_type": "stream",
     "text": [
      "Gulab-Jamun 3 (63)\n",
      "Gulab-Jamun 3 (63)\n",
      "Gulab-Jamun 3 (630)\n",
      "Gulab-Jamun 3 (631)\n",
      "Gulab-Jamun 3 (632)\n",
      "Gulab-Jamun 3 (633)\n",
      "Gulab-Jamun 3 (634)\n",
      "Gulab-Jamun 3 (635)\n",
      "Gulab-Jamun 3 (636)\n"
     ]
    },
    {
     "name": "stderr",
     "output_type": "stream",
     "text": [
      "\r",
      " 42%|████████████████████████████████▏                                            | 4863/11648 [00:59<01:28, 76.66it/s]"
     ]
    },
    {
     "name": "stdout",
     "output_type": "stream",
     "text": [
      "Gulab-Jamun 3 (637)\n",
      "Gulab-Jamun 3 (638)\n",
      "Gulab-Jamun 3 (639)\n",
      "Gulab-Jamun 3 (64)\n",
      "Gulab-Jamun 3 (64)\n",
      "Gulab-Jamun 3 (640)\n",
      "Gulab-Jamun 3 (641)\n",
      "Gulab-Jamun 3 (642)\n",
      "Gulab-Jamun 3 (643)\n",
      "Gulab-Jamun 3 (644)\n"
     ]
    },
    {
     "name": "stderr",
     "output_type": "stream",
     "text": [
      "\r",
      " 42%|████████████████████████████████▏                                            | 4873/11648 [00:59<01:22, 82.08it/s]"
     ]
    },
    {
     "name": "stdout",
     "output_type": "stream",
     "text": [
      "Gulab-Jamun 3 (645)\n",
      "Gulab-Jamun 3 (646)\n",
      "Gulab-Jamun 3 (647)\n",
      "Gulab-Jamun 3 (648)\n",
      "Gulab-Jamun 3 (649)\n",
      "Gulab-Jamun 3 (65)\n",
      "Gulab-Jamun 3 (65)\n",
      "Gulab-Jamun 3 (650)\n",
      "Gulab-Jamun 3 (651)\n",
      "Gulab-Jamun 3 (652)\n"
     ]
    },
    {
     "name": "stderr",
     "output_type": "stream",
     "text": [
      "\r",
      " 42%|████████████████████████████████▎                                            | 4883/11648 [00:59<01:18, 86.13it/s]"
     ]
    },
    {
     "name": "stdout",
     "output_type": "stream",
     "text": [
      "Gulab-Jamun 3 (653)\n",
      "Gulab-Jamun 3 (654)\n",
      "Gulab-Jamun 3 (655)\n",
      "Gulab-Jamun 3 (656)\n",
      "Gulab-Jamun 3 (657)\n",
      "Gulab-Jamun 3 (658)\n",
      "Gulab-Jamun 3 (659)\n",
      "Gulab-Jamun 3 (66)\n",
      "Gulab-Jamun 3 (66)\n",
      "Gulab-Jamun 3 (660)\n",
      "Gulab-Jamun 3 (661)\n",
      "Gulab-Jamun 3 (662)\n",
      "Gulab-Jamun 3 (663)\n",
      "Gulab-Jamun 3 (664)\n",
      "Gulab-Jamun 3 (665)\n",
      "Gulab-Jamun 3 (666)\n",
      "Gulab-Jamun 3 (667)\n",
      "Gulab-Jamun 3 (668)\n",
      "Gulab-Jamun 3 (669)\n"
     ]
    },
    {
     "name": "stderr",
     "output_type": "stream",
     "text": [
      "\r",
      " 42%|███████████████████████████████▉                                            | 4902/11648 [00:59<01:05, 102.57it/s]"
     ]
    },
    {
     "name": "stdout",
     "output_type": "stream",
     "text": [
      "Gulab-Jamun 3 (67)\n",
      "Gulab-Jamun 3 (67)\n",
      "Gulab-Jamun 3 (670)\n",
      "Gulab-Jamun 3 (671)\n",
      "Gulab-Jamun 3 (672)\n",
      "Gulab-Jamun 3 (673)\n",
      "Gulab-Jamun 3 (674)\n",
      "Gulab-Jamun 3 (675)\n",
      "Gulab-Jamun 3 (676)\n",
      "Gulab-Jamun 3 (677)\n",
      "Gulab-Jamun 3 (678)\n",
      "Gulab-Jamun 3 (679)\n"
     ]
    },
    {
     "name": "stderr",
     "output_type": "stream",
     "text": [
      "\r",
      " 42%|████████████████████████████████▍                                            | 4914/11648 [01:00<01:08, 98.13it/s]"
     ]
    },
    {
     "name": "stdout",
     "output_type": "stream",
     "text": [
      "Gulab-Jamun 3 (68)\n",
      "Gulab-Jamun 3 (68)\n",
      "Gulab-Jamun 3 (680)\n",
      "Gulab-Jamun 3 (681)\n",
      "Gulab-Jamun 3 (682)\n",
      "Gulab-Jamun 3 (683)\n",
      "Gulab-Jamun 3 (684)\n",
      "Gulab-Jamun 3 (685)\n",
      "Gulab-Jamun 3 (686)\n",
      "Gulab-Jamun 3 (687)\n",
      "Gulab-Jamun 3 (688)\n",
      "Gulab-Jamun 3 (689)\n",
      "Gulab-Jamun 3 (69)\n",
      "Gulab-Jamun 3 (69)\n",
      "Gulab-Jamun 3 (690)\n",
      "Gulab-Jamun 3 (691)\n"
     ]
    },
    {
     "name": "stderr",
     "output_type": "stream",
     "text": [
      "\r",
      " 42%|████████████████████████████████▏                                           | 4930/11648 [01:00<01:00, 110.16it/s]"
     ]
    },
    {
     "name": "stdout",
     "output_type": "stream",
     "text": [
      "Gulab-Jamun 3 (692)\n",
      "Gulab-Jamun 3 (693)\n",
      "Gulab-Jamun 3 (694)\n",
      "Gulab-Jamun 3 (695)\n",
      "Gulab-Jamun 3 (696)\n",
      "Gulab-Jamun 3 (697)\n",
      "Gulab-Jamun 3 (698)\n",
      "Gulab-Jamun 3 (699)\n",
      "Gulab-Jamun 3 (7)\n",
      "Gulab-Jamun 3 (7)\n",
      "Gulab-Jamun 3 (70)\n",
      "Gulab-Jamun 3 (70)\n",
      "Gulab-Jamun 3 (700)\n"
     ]
    },
    {
     "name": "stderr",
     "output_type": "stream",
     "text": [
      "\r",
      " 42%|████████████████████████████████▋                                            | 4943/11648 [01:00<01:09, 96.32it/s]"
     ]
    },
    {
     "name": "stdout",
     "output_type": "stream",
     "text": [
      "Gulab-Jamun 3 (701)\n",
      "Gulab-Jamun 3 (702)\n",
      "Gulab-Jamun 3 (703)\n",
      "Gulab-Jamun 3 (704)\n",
      "Gulab-Jamun 3 (705)\n",
      "Gulab-Jamun 3 (706)\n",
      "Gulab-Jamun 3 (707)\n",
      "Gulab-Jamun 3 (708)\n",
      "Gulab-Jamun 3 (709)\n",
      "Gulab-Jamun 3 (71)\n",
      "Gulab-Jamun 3 (71)\n"
     ]
    },
    {
     "name": "stderr",
     "output_type": "stream",
     "text": [
      "\r",
      " 43%|████████████████████████████████▋                                            | 4954/11648 [01:00<01:25, 78.19it/s]"
     ]
    },
    {
     "name": "stdout",
     "output_type": "stream",
     "text": [
      "Gulab-Jamun 3 (710)\n",
      "Gulab-Jamun 3 (711)\n",
      "Gulab-Jamun 3 (712)\n",
      "Gulab-Jamun 3 (713)\n",
      "Gulab-Jamun 3 (714)\n",
      "Gulab-Jamun 3 (715)\n",
      "Gulab-Jamun 3 (716)\n",
      "Gulab-Jamun 3 (717)\n",
      "Gulab-Jamun 3 (718)\n",
      "Gulab-Jamun 3 (719)\n"
     ]
    },
    {
     "name": "stderr",
     "output_type": "stream",
     "text": [
      "\r",
      " 43%|████████████████████████████████▊                                            | 4964/11648 [01:00<01:20, 82.69it/s]"
     ]
    },
    {
     "name": "stdout",
     "output_type": "stream",
     "text": [
      "Gulab-Jamun 3 (72)\n",
      "Gulab-Jamun 3 (72)\n",
      "Gulab-Jamun 3 (720)\n",
      "Gulab-Jamun 3 (721)\n",
      "Gulab-Jamun 3 (722)\n",
      "Gulab-Jamun 3 (723)\n",
      "Gulab-Jamun 3 (724)\n",
      "Gulab-Jamun 3 (725)\n",
      "Gulab-Jamun 3 (726)\n",
      "Gulab-Jamun 3 (727)\n"
     ]
    },
    {
     "name": "stderr",
     "output_type": "stream",
     "text": [
      "\r",
      " 43%|████████████████████████████████▉                                            | 4974/11648 [01:00<01:29, 74.95it/s]"
     ]
    },
    {
     "name": "stdout",
     "output_type": "stream",
     "text": [
      "Gulab-Jamun 3 (728)\n",
      "Gulab-Jamun 3 (729)\n",
      "Gulab-Jamun 3 (73)\n",
      "Gulab-Jamun 3 (73)\n",
      "Gulab-Jamun 3 (730)\n",
      "Gulab-Jamun 3 (731)\n",
      "Gulab-Jamun 3 (732)\n",
      "Gulab-Jamun 3 (733)\n",
      "Gulab-Jamun 3 (734)\n"
     ]
    },
    {
     "name": "stderr",
     "output_type": "stream",
     "text": [
      "\r",
      " 43%|████████████████████████████████▉                                            | 4983/11648 [01:00<01:25, 78.34it/s]"
     ]
    },
    {
     "name": "stdout",
     "output_type": "stream",
     "text": [
      "Gulab-Jamun 3 (735)\n",
      "Gulab-Jamun 3 (736)\n",
      "Gulab-Jamun 3 (737)\n",
      "Gulab-Jamun 3 (738)\n",
      "Gulab-Jamun 3 (739)\n",
      "Gulab-Jamun 3 (74)\n",
      "Gulab-Jamun 3 (74)\n",
      "Gulab-Jamun 3 (740)\n",
      "Gulab-Jamun 3 (741)\n"
     ]
    },
    {
     "name": "stderr",
     "output_type": "stream",
     "text": [
      "\r",
      " 43%|█████████████████████████████████                                            | 4992/11648 [01:00<01:28, 75.43it/s]"
     ]
    },
    {
     "name": "stdout",
     "output_type": "stream",
     "text": [
      "Gulab-Jamun 3 (742)\n",
      "Gulab-Jamun 3 (743)\n",
      "Gulab-Jamun 3 (744)\n",
      "Gulab-Jamun 3 (745)\n",
      "Gulab-Jamun 3 (746)\n",
      "Gulab-Jamun 3 (747)\n",
      "Gulab-Jamun 3 (748)\n",
      "Gulab-Jamun 3 (749)\n",
      "Gulab-Jamun 3 (75)\n"
     ]
    },
    {
     "name": "stderr",
     "output_type": "stream",
     "text": [
      "\r",
      " 43%|█████████████████████████████████                                            | 5001/11648 [01:01<01:24, 78.51it/s]"
     ]
    },
    {
     "name": "stdout",
     "output_type": "stream",
     "text": [
      "Gulab-Jamun 3 (75)\n",
      "Gulab-Jamun 3 (750)\n",
      "Gulab-Jamun 3 (751)\n",
      "Gulab-Jamun 3 (752)\n",
      "Gulab-Jamun 3 (753)\n",
      "Gulab-Jamun 3 (754)\n",
      "Gulab-Jamun 3 (755)\n",
      "Gulab-Jamun 3 (756)\n",
      "Gulab-Jamun 3 (757)\n",
      "Gulab-Jamun 3 (758)\n",
      "Gulab-Jamun 3 (759)\n"
     ]
    },
    {
     "name": "stderr",
     "output_type": "stream",
     "text": [
      "\r",
      " 43%|█████████████████████████████████▏                                           | 5012/11648 [01:01<01:17, 85.14it/s]"
     ]
    },
    {
     "name": "stdout",
     "output_type": "stream",
     "text": [
      "Gulab-Jamun 3 (76)\n",
      "Gulab-Jamun 3 (76)\n",
      "Gulab-Jamun 3 (760)\n",
      "Gulab-Jamun 3 (761)\n",
      "Gulab-Jamun 3 (762)\n",
      "Gulab-Jamun 3 (763)\n",
      "Gulab-Jamun 3 (764)\n",
      "Gulab-Jamun 3 (765)\n",
      "Gulab-Jamun 3 (766)\n"
     ]
    },
    {
     "name": "stderr",
     "output_type": "stream",
     "text": [
      "\r",
      " 43%|█████████████████████████████████▏                                           | 5021/11648 [01:01<01:24, 78.27it/s]"
     ]
    },
    {
     "name": "stdout",
     "output_type": "stream",
     "text": [
      "Gulab-Jamun 3 (767)\n",
      "Gulab-Jamun 3 (768)\n",
      "Gulab-Jamun 3 (769)\n",
      "Gulab-Jamun 3 (77)\n",
      "Gulab-Jamun 3 (77)\n",
      "Gulab-Jamun 3 (770)\n",
      "Gulab-Jamun 3 (771)\n",
      "Gulab-Jamun 3 (772)\n",
      "Gulab-Jamun 3 (773)\n"
     ]
    },
    {
     "name": "stderr",
     "output_type": "stream",
     "text": [
      "\r",
      " 43%|█████████████████████████████████▎                                           | 5030/11648 [01:01<01:23, 79.36it/s]"
     ]
    },
    {
     "name": "stdout",
     "output_type": "stream",
     "text": [
      "Gulab-Jamun 3 (774)\n",
      "Gulab-Jamun 3 (775)\n",
      "Gulab-Jamun 3 (776)\n",
      "Gulab-Jamun 3 (777)\n",
      "Gulab-Jamun 3 (778)\n",
      "Gulab-Jamun 3 (779)\n",
      "Gulab-Jamun 3 (78)\n",
      "Gulab-Jamun 3 (78)\n",
      "Gulab-Jamun 3 (780)\n"
     ]
    },
    {
     "name": "stderr",
     "output_type": "stream",
     "text": [
      "\r",
      " 43%|█████████████████████████████████▎                                           | 5039/11648 [01:01<01:23, 79.30it/s]"
     ]
    },
    {
     "name": "stdout",
     "output_type": "stream",
     "text": [
      "Gulab-Jamun 3 (781)\n",
      "Gulab-Jamun 3 (782)\n",
      "Gulab-Jamun 3 (783)\n",
      "Gulab-Jamun 3 (784)\n",
      "Gulab-Jamun 3 (785)\n",
      "Gulab-Jamun 3 (786)\n",
      "Gulab-Jamun 3 (787)\n",
      "Gulab-Jamun 3 (788)\n",
      "Gulab-Jamun 3 (789)\n",
      "Gulab-Jamun 3 (79)\n"
     ]
    },
    {
     "name": "stderr",
     "output_type": "stream",
     "text": [
      "\r",
      " 43%|█████████████████████████████████▍                                           | 5049/11648 [01:01<01:18, 84.18it/s]"
     ]
    },
    {
     "name": "stdout",
     "output_type": "stream",
     "text": [
      "Gulab-Jamun 3 (79)\n",
      "Gulab-Jamun 3 (790)\n",
      "Gulab-Jamun 3 (791)\n",
      "Gulab-Jamun 3 (792)\n",
      "Gulab-Jamun 3 (793)\n",
      "Gulab-Jamun 3 (794)\n",
      "Gulab-Jamun 3 (795)\n",
      "Gulab-Jamun 3 (796)\n",
      "Gulab-Jamun 3 (797)\n"
     ]
    },
    {
     "name": "stderr",
     "output_type": "stream",
     "text": [
      "\r",
      " 43%|█████████████████████████████████▍                                           | 5058/11648 [01:01<01:18, 84.23it/s]"
     ]
    },
    {
     "name": "stdout",
     "output_type": "stream",
     "text": [
      "Gulab-Jamun 3 (798)\n",
      "Gulab-Jamun 3 (799)\n",
      "Gulab-Jamun 3 (8)\n",
      "Gulab-Jamun 3 (8)\n",
      "Gulab-Jamun 3 (80)\n",
      "Gulab-Jamun 3 (80)\n",
      "Gulab-Jamun 3 (800)\n",
      "Gulab-Jamun 3 (801)\n",
      "Gulab-Jamun 3 (802)\n"
     ]
    },
    {
     "name": "stderr",
     "output_type": "stream",
     "text": [
      "\r",
      " 44%|█████████████████████████████████▍                                           | 5067/11648 [01:01<01:27, 75.39it/s]"
     ]
    },
    {
     "name": "stdout",
     "output_type": "stream",
     "text": [
      "Gulab-Jamun 3 (803)\n",
      "Gulab-Jamun 3 (804)\n",
      "Gulab-Jamun 3 (805)\n",
      "Gulab-Jamun 3 (806)\n",
      "Gulab-Jamun 3 (807)\n",
      "Gulab-Jamun 3 (808)\n",
      "Gulab-Jamun 3 (809)\n",
      "Gulab-Jamun 3 (81)\n"
     ]
    },
    {
     "name": "stderr",
     "output_type": "stream",
     "text": [
      "\r",
      " 44%|█████████████████████████████████▌                                           | 5075/11648 [01:02<01:29, 73.61it/s]"
     ]
    },
    {
     "name": "stdout",
     "output_type": "stream",
     "text": [
      "Gulab-Jamun 3 (81)\n",
      "Gulab-Jamun 3 (810)\n",
      "Gulab-Jamun 3 (811)\n",
      "Gulab-Jamun 3 (812)\n",
      "Gulab-Jamun 3 (813)\n",
      "Gulab-Jamun 3 (814)\n",
      "Gulab-Jamun 3 (815)\n",
      "Gulab-Jamun 3 (816)\n",
      "Gulab-Jamun 3 (817)\n",
      "Gulab-Jamun 3 (818)\n",
      "Gulab-Jamun 3 (819)\n"
     ]
    },
    {
     "name": "stderr",
     "output_type": "stream",
     "text": [
      "\r",
      " 44%|█████████████████████████████████▌                                           | 5086/11648 [01:02<01:20, 81.41it/s]"
     ]
    },
    {
     "name": "stdout",
     "output_type": "stream",
     "text": [
      "Gulab-Jamun 3 (82)\n",
      "Gulab-Jamun 3 (82)\n",
      "Gulab-Jamun 3 (820)\n",
      "Gulab-Jamun 3 (821)\n",
      "Gulab-Jamun 3 (822)\n",
      "Gulab-Jamun 3 (823)\n",
      "Gulab-Jamun 3 (824)\n",
      "Gulab-Jamun 3 (825)\n",
      "Gulab-Jamun 3 (826)\n"
     ]
    },
    {
     "name": "stderr",
     "output_type": "stream",
     "text": [
      "\r",
      " 44%|█████████████████████████████████▋                                           | 5095/11648 [01:02<01:23, 78.61it/s]"
     ]
    },
    {
     "name": "stdout",
     "output_type": "stream",
     "text": [
      "Gulab-Jamun 3 (827)\n",
      "Gulab-Jamun 3 (828)\n",
      "Gulab-Jamun 3 (829)\n",
      "Gulab-Jamun 3 (83)\n",
      "Gulab-Jamun 3 (83)\n",
      "Gulab-Jamun 3 (830)\n",
      "Gulab-Jamun 3 (831)\n",
      "Gulab-Jamun 3 (832)\n",
      "Gulab-Jamun 3 (833)\n"
     ]
    },
    {
     "name": "stderr",
     "output_type": "stream",
     "text": [
      "\r",
      " 44%|█████████████████████████████████▋                                           | 5104/11648 [01:02<01:24, 77.35it/s]"
     ]
    },
    {
     "name": "stdout",
     "output_type": "stream",
     "text": [
      "Gulab-Jamun 3 (834)\n",
      "Gulab-Jamun 3 (835)\n",
      "Gulab-Jamun 3 (836)\n",
      "Gulab-Jamun 3 (837)\n",
      "Gulab-Jamun 3 (838)\n",
      "Gulab-Jamun 3 (839)\n",
      "Gulab-Jamun 3 (84)\n",
      "Gulab-Jamun 3 (84)\n"
     ]
    },
    {
     "name": "stderr",
     "output_type": "stream",
     "text": [
      "\r",
      " 44%|█████████████████████████████████▊                                           | 5112/11648 [01:02<01:27, 74.90it/s]"
     ]
    },
    {
     "name": "stdout",
     "output_type": "stream",
     "text": [
      "Gulab-Jamun 3 (840)\n",
      "Gulab-Jamun 3 (841)\n",
      "Gulab-Jamun 3 (842)\n",
      "Gulab-Jamun 3 (843)\n",
      "Gulab-Jamun 3 (844)\n",
      "Gulab-Jamun 3 (845)\n",
      "Gulab-Jamun 3 (846)\n",
      "Gulab-Jamun 3 (847)\n",
      "Gulab-Jamun 3 (848)\n",
      "Gulab-Jamun 3 (849)\n",
      "Gulab-Jamun 3 (85)\n"
     ]
    },
    {
     "name": "stderr",
     "output_type": "stream",
     "text": [
      "\r",
      " 44%|█████████████████████████████████▊                                           | 5123/11648 [01:02<01:23, 78.29it/s]"
     ]
    },
    {
     "name": "stdout",
     "output_type": "stream",
     "text": [
      "Gulab-Jamun 3 (85)\n",
      "Gulab-Jamun 3 (850)\n",
      "Gulab-Jamun 3 (851)\n",
      "Gulab-Jamun 3 (852)\n",
      "Gulab-Jamun 3 (853)\n",
      "Gulab-Jamun 3 (854)\n",
      "Gulab-Jamun 3 (855)\n",
      "Gulab-Jamun 3 (856)\n",
      "Gulab-Jamun 3 (857)\n",
      "Gulab-Jamun 3 (858)\n",
      "Gulab-Jamun 3 (859)\n",
      "Gulab-Jamun 3 (86)\n"
     ]
    },
    {
     "name": "stderr",
     "output_type": "stream",
     "text": [
      "\r",
      " 44%|█████████████████████████████████▉                                           | 5135/11648 [01:02<01:17, 84.33it/s]"
     ]
    },
    {
     "name": "stdout",
     "output_type": "stream",
     "text": [
      "Gulab-Jamun 3 (86)\n",
      "Gulab-Jamun 3 (860)\n",
      "Gulab-Jamun 3 (861)\n",
      "Gulab-Jamun 3 (862)\n",
      "Gulab-Jamun 3 (863)\n",
      "Gulab-Jamun 3 (864)\n",
      "Gulab-Jamun 3 (865)\n",
      "Gulab-Jamun 3 (866)\n",
      "Gulab-Jamun 3 (867)\n",
      "Gulab-Jamun 3 (868)\n",
      "Gulab-Jamun 3 (869)\n",
      "Gulab-Jamun 3 (87)\n",
      "Gulab-Jamun 3 (87)\n",
      "Gulab-Jamun 3 (870)\n",
      "Gulab-Jamun 3 (871)\n",
      "Gulab-Jamun 3 (872)\n",
      "Gulab-Jamun 3 (873)\n",
      "Gulab-Jamun 3 (874)\n",
      "Gulab-Jamun 3 (875)\n"
     ]
    },
    {
     "name": "stderr",
     "output_type": "stream",
     "text": [
      "\r",
      " 44%|█████████████████████████████████▋                                          | 5154/11648 [01:02<01:04, 100.94it/s]"
     ]
    },
    {
     "name": "stdout",
     "output_type": "stream",
     "text": [
      "Gulab-Jamun 3 (876)\n",
      "Gulab-Jamun 3 (877)\n",
      "Gulab-Jamun 3 (878)\n",
      "Gulab-Jamun 3 (879)\n",
      "Gulab-Jamun 3 (88)\n",
      "Gulab-Jamun 3 (88)\n",
      "Gulab-Jamun 3 (880)\n",
      "Gulab-Jamun 3 (881)\n",
      "Gulab-Jamun 3 (882)\n",
      "Gulab-Jamun 3 (883)\n",
      "Gulab-Jamun 3 (884)\n",
      "Gulab-Jamun 3 (885)\n",
      "Gulab-Jamun 3 (886)\n",
      "Gulab-Jamun 3 (887)\n",
      "Gulab-Jamun 3 (888)\n",
      "Gulab-Jamun 3 (889)\n",
      "Gulab-Jamun 3 (89)\n"
     ]
    },
    {
     "name": "stderr",
     "output_type": "stream",
     "text": [
      "\r",
      " 44%|█████████████████████████████████▋                                          | 5171/11648 [01:02<01:01, 104.63it/s]"
     ]
    },
    {
     "name": "stdout",
     "output_type": "stream",
     "text": [
      "Gulab-Jamun 3 (89)\n",
      "Gulab-Jamun 3 (890)\n",
      "Gulab-Jamun 3 (891)\n",
      "Gulab-Jamun 3 (892)\n",
      "Gulab-Jamun 3 (893)\n",
      "Gulab-Jamun 3 (894)\n",
      "Gulab-Jamun 3 (895)\n",
      "Gulab-Jamun 3 (896)\n",
      "Gulab-Jamun 3 (897)\n",
      "Gulab-Jamun 3 (898)\n",
      "Gulab-Jamun 3 (899)\n",
      "Gulab-Jamun 3 (9)\n",
      "Gulab-Jamun 3 (9)\n",
      "Gulab-Jamun 3 (90)\n"
     ]
    },
    {
     "name": "stderr",
     "output_type": "stream",
     "text": [
      "\r",
      " 45%|█████████████████████████████████▊                                          | 5185/11648 [01:03<01:01, 105.62it/s]"
     ]
    },
    {
     "name": "stdout",
     "output_type": "stream",
     "text": [
      "Gulab-Jamun 3 (90)\n",
      "Gulab-Jamun 3 (900)\n",
      "Gulab-Jamun 3 (901)\n",
      "Gulab-Jamun 3 (902)\n",
      "Gulab-Jamun 3 (903)\n",
      "Gulab-Jamun 3 (904)\n",
      "Gulab-Jamun 3 (905)\n",
      "Gulab-Jamun 3 (906)\n",
      "Gulab-Jamun 3 (907)\n",
      "Gulab-Jamun 3 (908)\n",
      "Gulab-Jamun 3 (909)\n",
      "Gulab-Jamun 3 (91)\n",
      "Gulab-Jamun 3 (91)\n",
      "Gulab-Jamun 3 (910)\n",
      "Gulab-Jamun 3 (911)\n",
      "Gulab-Jamun 3 (912)\n",
      "Gulab-Jamun 3 (913)\n"
     ]
    },
    {
     "name": "stderr",
     "output_type": "stream",
     "text": [
      "\r",
      " 45%|█████████████████████████████████▉                                          | 5202/11648 [01:03<00:54, 118.72it/s]"
     ]
    },
    {
     "name": "stdout",
     "output_type": "stream",
     "text": [
      "Gulab-Jamun 3 (914)\n",
      "Gulab-Jamun 3 (915)\n",
      "Gulab-Jamun 3 (916)\n",
      "Gulab-Jamun 3 (917)\n",
      "Gulab-Jamun 3 (918)\n",
      "Gulab-Jamun 3 (919)\n",
      "Gulab-Jamun 3 (92)\n",
      "Gulab-Jamun 3 (92)\n",
      "Gulab-Jamun 3 (920)\n",
      "Gulab-Jamun 3 (921)\n",
      "Gulab-Jamun 3 (922)\n",
      "Gulab-Jamun 3 (923)\n",
      "Gulab-Jamun 3 (924)\n",
      "Gulab-Jamun 3 (925)\n",
      "Gulab-Jamun 3 (926)\n",
      "Gulab-Jamun 3 (927)\n"
     ]
    },
    {
     "name": "stderr",
     "output_type": "stream",
     "text": [
      "\r",
      " 45%|██████████████████████████████████                                          | 5218/11648 [01:03<00:50, 128.46it/s]"
     ]
    },
    {
     "name": "stdout",
     "output_type": "stream",
     "text": [
      "Gulab-Jamun 3 (928)\n",
      "Gulab-Jamun 3 (929)\n",
      "Gulab-Jamun 3 (93)\n",
      "Gulab-Jamun 3 (93)\n",
      "Gulab-Jamun 3 (930)\n",
      "Gulab-Jamun 3 (931)\n",
      "Gulab-Jamun 3 (932)\n",
      "Gulab-Jamun 3 (933)\n",
      "Gulab-Jamun 3 (934)\n",
      "Gulab-Jamun 3 (935)\n",
      "Gulab-Jamun 3 (936)\n",
      "Gulab-Jamun 3 (937)\n",
      "Gulab-Jamun 3 (938)\n",
      "Gulab-Jamun 3 (939)\n"
     ]
    },
    {
     "name": "stderr",
     "output_type": "stream",
     "text": [
      "\r",
      " 45%|██████████████████████████████████▏                                         | 5232/11648 [01:03<00:54, 116.98it/s]"
     ]
    },
    {
     "name": "stdout",
     "output_type": "stream",
     "text": [
      "Gulab-Jamun 3 (94)\n",
      "Gulab-Jamun 3 (94)\n",
      "Gulab-Jamun 3 (940)\n",
      "Gulab-Jamun 3 (941)\n",
      "Gulab-Jamun 3 (942)\n",
      "Gulab-Jamun 3 (943)\n",
      "Gulab-Jamun 3 (944)\n",
      "Gulab-Jamun 3 (945)\n",
      "Gulab-Jamun 3 (946)\n",
      "Gulab-Jamun 3 (947)\n",
      "Gulab-Jamun 3 (948)\n",
      "Gulab-Jamun 3 (949)\n",
      "Gulab-Jamun 3 (95)\n",
      "Gulab-Jamun 3 (95)\n",
      "Gulab-Jamun 3 (950)\n",
      "Gulab-Jamun 3 (951)\n"
     ]
    },
    {
     "name": "stderr",
     "output_type": "stream",
     "text": [
      "\r",
      " 45%|██████████████████████████████████▏                                         | 5248/11648 [01:03<00:50, 126.42it/s]"
     ]
    },
    {
     "name": "stdout",
     "output_type": "stream",
     "text": [
      "Gulab-Jamun 3 (952)\n",
      "Gulab-Jamun 3 (953)\n",
      "Gulab-Jamun 3 (954)\n",
      "Gulab-Jamun 3 (955)\n",
      "Gulab-Jamun 3 (956)\n",
      "Gulab-Jamun 3 (957)\n",
      "Gulab-Jamun 3 (958)\n",
      "Gulab-Jamun 3 (959)\n",
      "Gulab-Jamun 3 (96)\n",
      "Gulab-Jamun 3 (96)\n",
      "Gulab-Jamun 3 (960)\n",
      "Gulab-Jamun 3 (961)\n",
      "Gulab-Jamun 3 (962)\n",
      "Gulab-Jamun 3 (963)\n",
      "Gulab-Jamun 3 (964)\n",
      "Gulab-Jamun 3 (965)\n"
     ]
    },
    {
     "name": "stderr",
     "output_type": "stream",
     "text": [
      "\r",
      " 45%|██████████████████████████████████▎                                         | 5264/11648 [01:03<00:47, 133.66it/s]"
     ]
    },
    {
     "name": "stdout",
     "output_type": "stream",
     "text": [
      "Gulab-Jamun 3 (966)\n",
      "Gulab-Jamun 3 (967)\n",
      "Gulab-Jamun 3 (968)\n",
      "Gulab-Jamun 3 (969)\n",
      "Gulab-Jamun 3 (97)\n",
      "Gulab-Jamun 3 (97)\n",
      "Gulab-Jamun 3 (970)\n",
      "Gulab-Jamun 3 (971)\n",
      "Gulab-Jamun 3 (972)\n",
      "Gulab-Jamun 3 (973)\n",
      "Gulab-Jamun 3 (974)\n",
      "Gulab-Jamun 3 (975)\n",
      "Gulab-Jamun 3 (976)\n",
      "Gulab-Jamun 3 (977)\n",
      "Gulab-Jamun 3 (978)\n"
     ]
    },
    {
     "name": "stderr",
     "output_type": "stream",
     "text": [
      "\r",
      " 45%|██████████████████████████████████▉                                          | 5279/11648 [01:03<01:09, 91.06it/s]"
     ]
    },
    {
     "name": "stdout",
     "output_type": "stream",
     "text": [
      "Gulab-Jamun 3 (979)\n",
      "Gulab-Jamun 3 (98)\n",
      "Gulab-Jamun 3 (98)\n",
      "Gulab-Jamun 3 (980)\n",
      "Gulab-Jamun 3 (981)\n",
      "Gulab-Jamun 3 (982)\n",
      "Gulab-Jamun 3 (983)\n",
      "Gulab-Jamun 3 (984)\n",
      "Gulab-Jamun 3 (985)\n",
      "Gulab-Jamun 3 (986)\n",
      "Gulab-Jamun 3 (987)\n",
      "Gulab-Jamun 3 (988)\n"
     ]
    },
    {
     "name": "stderr",
     "output_type": "stream",
     "text": [
      "\r",
      " 45%|██████████████████████████████████▉                                          | 5291/11648 [01:04<03:11, 33.22it/s]"
     ]
    },
    {
     "name": "stdout",
     "output_type": "stream",
     "text": [
      "Gulab-Jamun 3 (989)\n",
      "Gulab-Jamun 3 (99)\n",
      "Gulab-Jamun 3 (99)\n",
      "Gulab-Jamun 3 (990)\n",
      "Gulab-Jamun 3 (991)\n",
      "Gulab-Jamun 3 (992)\n",
      "Gulab-Jamun 3 (993)\n",
      "Gulab-Jamun 3 (994)\n",
      "Gulab-Jamun 3 (995)\n"
     ]
    },
    {
     "name": "stderr",
     "output_type": "stream",
     "text": [
      "\r",
      " 46%|███████████████████████████████████                                          | 5300/11648 [01:05<03:51, 27.45it/s]"
     ]
    },
    {
     "name": "stdout",
     "output_type": "stream",
     "text": [
      "Gulab-Jamun 3 (996)\n",
      "Gulab-Jamun 3 (997)\n",
      "Gulab-Jamun 3 (998)\n",
      "Gulab-Jamun 3 (999)\n",
      "Gulab-Jamun 4 (1)\n",
      "Gulab-Jamun 4 (1)\n",
      "Gulab-Jamun 4 (10)\n"
     ]
    },
    {
     "name": "stderr",
     "output_type": "stream",
     "text": [
      "\r",
      " 46%|███████████████████████████████████                                          | 5307/11648 [01:05<03:33, 29.74it/s]"
     ]
    },
    {
     "name": "stdout",
     "output_type": "stream",
     "text": [
      "Gulab-Jamun 4 (10)\n",
      "Gulab-Jamun 4 (100)\n",
      "Gulab-Jamun 4 (101)\n",
      "Gulab-Jamun 4 (102)\n",
      "Gulab-Jamun 4 (103)\n",
      "Gulab-Jamun 4 (104)\n"
     ]
    },
    {
     "name": "stderr",
     "output_type": "stream",
     "text": [
      "\r",
      " 46%|███████████████████████████████████                                          | 5313/11648 [01:05<03:15, 32.40it/s]"
     ]
    },
    {
     "name": "stdout",
     "output_type": "stream",
     "text": [
      "Gulab-Jamun 4 (105)\n",
      "Gulab-Jamun 4 (106)\n",
      "Gulab-Jamun 4 (107)\n",
      "Gulab-Jamun 4 (108)\n",
      "Gulab-Jamun 4 (109)\n",
      "Gulab-Jamun 4 (11)\n"
     ]
    },
    {
     "name": "stderr",
     "output_type": "stream",
     "text": [
      "\r",
      " 46%|███████████████████████████████████▏                                         | 5319/11648 [01:05<02:55, 36.05it/s]"
     ]
    },
    {
     "name": "stdout",
     "output_type": "stream",
     "text": [
      "Gulab-Jamun 4 (11)\n",
      "Gulab-Jamun 4 (110)\n",
      "Gulab-Jamun 4 (111)\n",
      "Gulab-Jamun 4 (112)\n",
      "Gulab-Jamun 4 (113)\n",
      "Gulab-Jamun 4 (114)\n",
      "Gulab-Jamun 4 (115)\n",
      "Gulab-Jamun 4 (116)\n",
      "Gulab-Jamun 4 (117)\n",
      "Gulab-Jamun 4 (118)\n",
      "Gulab-Jamun 4 (119)\n",
      "Gulab-Jamun 4 (12)\n",
      "Gulab-Jamun 4 (12)\n",
      "Gulab-Jamun 4 (120)\n",
      "Gulab-Jamun 4 (121)\n",
      "Gulab-Jamun 4 (122)\n"
     ]
    },
    {
     "name": "stderr",
     "output_type": "stream",
     "text": [
      "\r",
      " 46%|███████████████████████████████████▎                                         | 5335/11648 [01:05<02:15, 46.61it/s]"
     ]
    },
    {
     "name": "stdout",
     "output_type": "stream",
     "text": [
      "Gulab-Jamun 4 (123)\n",
      "Gulab-Jamun 4 (124)\n",
      "Gulab-Jamun 4 (125)\n",
      "Gulab-Jamun 4 (126)\n",
      "Gulab-Jamun 4 (127)\n",
      "Gulab-Jamun 4 (128)\n",
      "Gulab-Jamun 4 (129)\n",
      "Gulab-Jamun 4 (13)\n",
      "Gulab-Jamun 4 (13)\n",
      "Gulab-Jamun 4 (130)\n",
      "Gulab-Jamun 4 (131)\n",
      "Gulab-Jamun 4 (132)\n",
      "Gulab-Jamun 4 (133)\n",
      "Gulab-Jamun 4 (134)\n"
     ]
    },
    {
     "name": "stderr",
     "output_type": "stream",
     "text": [
      "\r",
      " 46%|███████████████████████████████████▎                                         | 5349/11648 [01:05<01:48, 58.07it/s]"
     ]
    },
    {
     "name": "stdout",
     "output_type": "stream",
     "text": [
      "Gulab-Jamun 4 (135)\n",
      "Gulab-Jamun 4 (136)\n",
      "Gulab-Jamun 4 (137)\n",
      "Gulab-Jamun 4 (138)\n",
      "Gulab-Jamun 4 (139)\n",
      "Gulab-Jamun 4 (14)\n",
      "Gulab-Jamun 4 (14)\n",
      "Gulab-Jamun 4 (140)\n",
      "Gulab-Jamun 4 (141)\n",
      "Gulab-Jamun 4 (142)\n"
     ]
    },
    {
     "name": "stderr",
     "output_type": "stream",
     "text": [
      "\r",
      " 46%|███████████████████████████████████▍                                         | 5359/11648 [01:06<01:48, 57.84it/s]"
     ]
    },
    {
     "name": "stdout",
     "output_type": "stream",
     "text": [
      "Gulab-Jamun 4 (143)\n",
      "Gulab-Jamun 4 (144)\n",
      "Gulab-Jamun 4 (145)\n",
      "Gulab-Jamun 4 (146)\n",
      "Gulab-Jamun 4 (147)\n",
      "Gulab-Jamun 4 (148)\n",
      "Gulab-Jamun 4 (149)\n",
      "Gulab-Jamun 4 (15)\n",
      "Gulab-Jamun 4 (15)\n"
     ]
    },
    {
     "name": "stderr",
     "output_type": "stream",
     "text": [
      "\r",
      " 46%|███████████████████████████████████▍                                         | 5368/11648 [01:06<01:42, 61.01it/s]"
     ]
    },
    {
     "name": "stdout",
     "output_type": "stream",
     "text": [
      "Gulab-Jamun 4 (150)\n",
      "Gulab-Jamun 4 (151)\n",
      "Gulab-Jamun 4 (152)\n",
      "Gulab-Jamun 4 (153)\n",
      "Gulab-Jamun 4 (154)\n",
      "Gulab-Jamun 4 (155)\n",
      "Gulab-Jamun 4 (156)\n",
      "Gulab-Jamun 4 (157)\n",
      "Gulab-Jamun 4 (158)\n",
      "Gulab-Jamun 4 (159)\n",
      "Gulab-Jamun 4 (16)\n"
     ]
    },
    {
     "name": "stderr",
     "output_type": "stream",
     "text": [
      "\r",
      " 46%|███████████████████████████████████▌                                         | 5379/11648 [01:06<01:31, 68.74it/s]"
     ]
    },
    {
     "name": "stdout",
     "output_type": "stream",
     "text": [
      "Gulab-Jamun 4 (16)\n",
      "Gulab-Jamun 4 (160)\n",
      "Gulab-Jamun 4 (161)\n",
      "Gulab-Jamun 4 (162)\n",
      "Gulab-Jamun 4 (163)\n",
      "Gulab-Jamun 4 (164)\n",
      "Gulab-Jamun 4 (165)\n",
      "Gulab-Jamun 4 (166)\n",
      "Gulab-Jamun 4 (167)\n",
      "Gulab-Jamun 4 (168)\n",
      "Gulab-Jamun 4 (169)\n",
      "Gulab-Jamun 4 (17)\n"
     ]
    },
    {
     "name": "stderr",
     "output_type": "stream",
     "text": [
      "\r",
      " 46%|███████████████████████████████████▋                                         | 5391/11648 [01:06<01:23, 74.91it/s]"
     ]
    },
    {
     "name": "stdout",
     "output_type": "stream",
     "text": [
      "Gulab-Jamun 4 (17)\n",
      "Gulab-Jamun 4 (170)\n",
      "Gulab-Jamun 4 (171)\n",
      "Gulab-Jamun 4 (172)\n",
      "Gulab-Jamun 4 (173)\n",
      "Gulab-Jamun 4 (174)\n",
      "Gulab-Jamun 4 (175)\n",
      "Gulab-Jamun 4 (176)\n",
      "Gulab-Jamun 4 (177)\n",
      "Gulab-Jamun 4 (178)\n"
     ]
    },
    {
     "name": "stderr",
     "output_type": "stream",
     "text": [
      "\r",
      " 46%|███████████████████████████████████▋                                         | 5401/11648 [01:06<01:18, 79.51it/s]"
     ]
    },
    {
     "name": "stdout",
     "output_type": "stream",
     "text": [
      "Gulab-Jamun 4 (179)\n",
      "Gulab-Jamun 4 (18)\n",
      "Gulab-Jamun 4 (18)\n",
      "Gulab-Jamun 4 (180)\n",
      "Gulab-Jamun 4 (181)\n",
      "Gulab-Jamun 4 (182)\n",
      "Gulab-Jamun 4 (183)\n",
      "Gulab-Jamun 4 (184)\n",
      "Gulab-Jamun 4 (185)\n"
     ]
    },
    {
     "name": "stderr",
     "output_type": "stream",
     "text": [
      "\r",
      " 46%|███████████████████████████████████▊                                         | 5410/11648 [01:06<01:18, 79.62it/s]"
     ]
    },
    {
     "name": "stdout",
     "output_type": "stream",
     "text": [
      "Gulab-Jamun 4 (186)\n",
      "Gulab-Jamun 4 (187)\n",
      "Gulab-Jamun 4 (188)\n",
      "Gulab-Jamun 4 (189)\n",
      "Gulab-Jamun 4 (19)\n",
      "Gulab-Jamun 4 (19)\n",
      "Gulab-Jamun 4 (190)\n",
      "Gulab-Jamun 4 (191)\n",
      "Gulab-Jamun 4 (192)\n"
     ]
    },
    {
     "name": "stderr",
     "output_type": "stream",
     "text": [
      "\r",
      " 47%|███████████████████████████████████▊                                         | 5419/11648 [01:06<01:17, 80.11it/s]"
     ]
    },
    {
     "name": "stdout",
     "output_type": "stream",
     "text": [
      "Gulab-Jamun 4 (193)\n",
      "Gulab-Jamun 4 (194)\n",
      "Gulab-Jamun 4 (195)\n",
      "Gulab-Jamun 4 (196)\n",
      "Gulab-Jamun 4 (197)\n",
      "Gulab-Jamun 4 (198)\n",
      "Gulab-Jamun 4 (199)\n",
      "Gulab-Jamun 4 (2)\n",
      "Gulab-Jamun 4 (2)\n"
     ]
    },
    {
     "name": "stderr",
     "output_type": "stream",
     "text": [
      "\r",
      " 47%|███████████████████████████████████▉                                         | 5428/11648 [01:07<01:25, 73.04it/s]"
     ]
    },
    {
     "name": "stdout",
     "output_type": "stream",
     "text": [
      "Gulab-Jamun 4 (20)\n",
      "Gulab-Jamun 4 (20)\n",
      "Gulab-Jamun 4 (200)\n",
      "Gulab-Jamun 4 (201)\n",
      "Gulab-Jamun 4 (202)\n",
      "Gulab-Jamun 4 (203)\n",
      "Gulab-Jamun 4 (204)\n",
      "Gulab-Jamun 4 (205)\n"
     ]
    },
    {
     "name": "stderr",
     "output_type": "stream",
     "text": [
      "\r",
      " 47%|███████████████████████████████████▉                                         | 5436/11648 [01:07<01:33, 66.64it/s]"
     ]
    },
    {
     "name": "stdout",
     "output_type": "stream",
     "text": [
      "Gulab-Jamun 4 (206)\n",
      "Gulab-Jamun 4 (207)\n",
      "Gulab-Jamun 4 (208)\n",
      "Gulab-Jamun 4 (209)\n",
      "Gulab-Jamun 4 (21)\n",
      "Gulab-Jamun 4 (21)\n",
      "Gulab-Jamun 4 (210)\n",
      "Gulab-Jamun 4 (211)\n"
     ]
    },
    {
     "name": "stderr",
     "output_type": "stream",
     "text": [
      "\r",
      " 47%|███████████████████████████████████▉                                         | 5444/11648 [01:07<01:29, 69.29it/s]"
     ]
    },
    {
     "name": "stdout",
     "output_type": "stream",
     "text": [
      "Gulab-Jamun 4 (212)\n",
      "Gulab-Jamun 4 (213)\n",
      "Gulab-Jamun 4 (214)\n",
      "Gulab-Jamun 4 (215)\n",
      "Gulab-Jamun 4 (216)\n",
      "Gulab-Jamun 4 (217)\n",
      "Gulab-Jamun 4 (218)\n",
      "Gulab-Jamun 4 (219)\n",
      "Gulab-Jamun 4 (22)\n"
     ]
    },
    {
     "name": "stderr",
     "output_type": "stream",
     "text": [
      "\r",
      " 47%|████████████████████████████████████                                         | 5453/11648 [01:07<01:35, 65.13it/s]"
     ]
    },
    {
     "name": "stdout",
     "output_type": "stream",
     "text": [
      "Gulab-Jamun 4 (22)\n",
      "Gulab-Jamun 4 (220)\n",
      "Gulab-Jamun 4 (221)\n",
      "Gulab-Jamun 4 (222)\n",
      "Gulab-Jamun 4 (223)\n",
      "Gulab-Jamun 4 (224)\n",
      "Gulab-Jamun 4 (225)\n"
     ]
    },
    {
     "name": "stderr",
     "output_type": "stream",
     "text": [
      "\r",
      " 47%|████████████████████████████████████                                         | 5460/11648 [01:07<01:34, 65.82it/s]"
     ]
    },
    {
     "name": "stdout",
     "output_type": "stream",
     "text": [
      "Gulab-Jamun 4 (226)\n",
      "Gulab-Jamun 4 (227)\n",
      "Gulab-Jamun 4 (228)\n",
      "Gulab-Jamun 4 (229)\n",
      "Gulab-Jamun 4 (23)\n",
      "Gulab-Jamun 4 (23)\n",
      "Gulab-Jamun 4 (230)\n"
     ]
    },
    {
     "name": "stderr",
     "output_type": "stream",
     "text": [
      "\r",
      " 47%|████████████████████████████████████▏                                        | 5467/11648 [01:07<01:38, 62.75it/s]"
     ]
    },
    {
     "name": "stdout",
     "output_type": "stream",
     "text": [
      "Gulab-Jamun 4 (231)\n",
      "Gulab-Jamun 4 (232)\n",
      "Gulab-Jamun 4 (233)\n",
      "Gulab-Jamun 4 (234)\n",
      "Gulab-Jamun 4 (235)\n",
      "Gulab-Jamun 4 (236)\n",
      "Gulab-Jamun 4 (237)\n",
      "Gulab-Jamun 4 (238)\n",
      "Gulab-Jamun 4 (239)\n",
      "Gulab-Jamun 4 (24)\n"
     ]
    },
    {
     "name": "stderr",
     "output_type": "stream",
     "text": [
      "\r",
      " 47%|████████████████████████████████████▏                                        | 5477/11648 [01:07<01:33, 66.34it/s]"
     ]
    },
    {
     "name": "stdout",
     "output_type": "stream",
     "text": [
      "Gulab-Jamun 4 (24)\n",
      "Gulab-Jamun 4 (240)\n",
      "Gulab-Jamun 4 (241)\n",
      "Gulab-Jamun 4 (242)\n",
      "Gulab-Jamun 4 (243)\n",
      "Gulab-Jamun 4 (244)\n",
      "Gulab-Jamun 4 (245)\n",
      "Gulab-Jamun 4 (246)\n",
      "Gulab-Jamun 4 (247)\n",
      "Gulab-Jamun 4 (248)\n",
      "Gulab-Jamun 4 (249)\n"
     ]
    },
    {
     "name": "stderr",
     "output_type": "stream",
     "text": [
      "\r",
      " 47%|████████████████████████████████████▎                                        | 5488/11648 [01:07<01:21, 75.19it/s]"
     ]
    },
    {
     "name": "stdout",
     "output_type": "stream",
     "text": [
      "Gulab-Jamun 4 (25)\n",
      "Gulab-Jamun 4 (25)\n",
      "Gulab-Jamun 4 (250)\n",
      "Gulab-Jamun 4 (251)\n",
      "Gulab-Jamun 4 (252)\n",
      "Gulab-Jamun 4 (253)\n",
      "Gulab-Jamun 4 (254)\n",
      "Gulab-Jamun 4 (255)\n",
      "Gulab-Jamun 4 (256)\n"
     ]
    },
    {
     "name": "stderr",
     "output_type": "stream",
     "text": [
      "\r",
      " 47%|████████████████████████████████████▎                                        | 5497/11648 [01:08<01:48, 56.86it/s]"
     ]
    },
    {
     "name": "stdout",
     "output_type": "stream",
     "text": [
      "Gulab-Jamun 4 (257)\n",
      "Gulab-Jamun 4 (258)\n",
      "Gulab-Jamun 4 (259)\n",
      "Gulab-Jamun 4 (26)\n",
      "Gulab-Jamun 4 (26)\n",
      "Gulab-Jamun 4 (260)\n",
      "Gulab-Jamun 4 (261)\n"
     ]
    },
    {
     "name": "stderr",
     "output_type": "stream",
     "text": [
      "\r",
      " 47%|████████████████████████████████████▍                                        | 5504/11648 [01:08<02:49, 36.21it/s]"
     ]
    },
    {
     "name": "stdout",
     "output_type": "stream",
     "text": [
      "Gulab-Jamun 4 (262)\n",
      "Gulab-Jamun 4 (263)\n",
      "Gulab-Jamun 4 (264)\n",
      "Gulab-Jamun 4 (265)\n",
      "Gulab-Jamun 4 (266)\n",
      "Gulab-Jamun 4 (267)\n"
     ]
    },
    {
     "name": "stderr",
     "output_type": "stream",
     "text": [
      "\r",
      " 47%|████████████████████████████████████▍                                        | 5510/11648 [01:08<02:29, 41.04it/s]"
     ]
    },
    {
     "name": "stdout",
     "output_type": "stream",
     "text": [
      "Gulab-Jamun 4 (268)\n",
      "Gulab-Jamun 4 (269)\n",
      "Gulab-Jamun 4 (27)\n",
      "Gulab-Jamun 4 (27)\n",
      "Gulab-Jamun 4 (270)\n",
      "Gulab-Jamun 4 (271)\n"
     ]
    },
    {
     "name": "stderr",
     "output_type": "stream",
     "text": [
      "\r",
      " 47%|████████████████████████████████████▍                                        | 5516/11648 [01:08<02:26, 41.77it/s]"
     ]
    },
    {
     "name": "stdout",
     "output_type": "stream",
     "text": [
      "Gulab-Jamun 4 (272)\n",
      "Gulab-Jamun 4 (273)\n",
      "Gulab-Jamun 4 (274)\n",
      "Gulab-Jamun 4 (275)\n",
      "Gulab-Jamun 4 (276)\n",
      "Gulab-Jamun 4 (277)\n",
      "Gulab-Jamun 4 (278)\n",
      "Gulab-Jamun 4 (279)\n",
      "Gulab-Jamun 4 (28)\n"
     ]
    },
    {
     "name": "stderr",
     "output_type": "stream",
     "text": [
      "\r",
      " 47%|████████████████████████████████████▌                                        | 5525/11648 [01:08<02:11, 46.63it/s]"
     ]
    },
    {
     "name": "stdout",
     "output_type": "stream",
     "text": [
      "Gulab-Jamun 4 (28)\n",
      "Gulab-Jamun 4 (280)\n",
      "Gulab-Jamun 4 (281)\n",
      "Gulab-Jamun 4 (282)\n",
      "Gulab-Jamun 4 (283)\n",
      "Gulab-Jamun 4 (284)\n",
      "Gulab-Jamun 4 (285)\n",
      "Gulab-Jamun 4 (286)\n",
      "Gulab-Jamun 4 (287)\n",
      "Gulab-Jamun 4 (288)\n",
      "Gulab-Jamun 4 (289)\n"
     ]
    },
    {
     "name": "stderr",
     "output_type": "stream",
     "text": [
      "\r",
      " 48%|████████████████████████████████████▌                                        | 5536/11648 [01:08<01:54, 53.29it/s]"
     ]
    },
    {
     "name": "stdout",
     "output_type": "stream",
     "text": [
      "Gulab-Jamun 4 (29)\n",
      "Gulab-Jamun 4 (29)\n",
      "Gulab-Jamun 4 (290)\n",
      "Gulab-Jamun 4 (291)\n",
      "Gulab-Jamun 4 (292)\n",
      "Gulab-Jamun 4 (293)\n",
      "Gulab-Jamun 4 (294)\n"
     ]
    },
    {
     "name": "stderr",
     "output_type": "stream",
     "text": [
      "\r",
      " 48%|████████████████████████████████████▋                                        | 5543/11648 [01:09<02:29, 40.81it/s]"
     ]
    },
    {
     "name": "stdout",
     "output_type": "stream",
     "text": [
      "Gulab-Jamun 4 (295)\n",
      "Gulab-Jamun 4 (296)\n",
      "Gulab-Jamun 4 (297)\n",
      "Gulab-Jamun 4 (298)\n",
      "Gulab-Jamun 4 (299)\n",
      "Gulab-Jamun 4 (3)\n"
     ]
    },
    {
     "name": "stderr",
     "output_type": "stream",
     "text": [
      "\r",
      " 48%|████████████████████████████████████▋                                        | 5549/11648 [01:09<02:26, 41.52it/s]"
     ]
    },
    {
     "name": "stdout",
     "output_type": "stream",
     "text": [
      "Gulab-Jamun 4 (3)\n",
      "Gulab-Jamun 4 (30)\n",
      "Gulab-Jamun 4 (30)\n",
      "Gulab-Jamun 4 (300)\n",
      "Gulab-Jamun 4 (301)\n",
      "Gulab-Jamun 4 (302)\n",
      "Gulab-Jamun 4 (303)\n",
      "Gulab-Jamun 4 (304)\n",
      "Gulab-Jamun 4 (305)\n",
      "Gulab-Jamun 4 (306)\n",
      "Gulab-Jamun 4 (307)\n"
     ]
    },
    {
     "name": "stderr",
     "output_type": "stream",
     "text": [
      "\r",
      " 48%|████████████████████████████████████▊                                        | 5560/11648 [01:09<01:59, 50.79it/s]"
     ]
    },
    {
     "name": "stdout",
     "output_type": "stream",
     "text": [
      "Gulab-Jamun 4 (308)\n",
      "Gulab-Jamun 4 (309)\n",
      "Gulab-Jamun 4 (31)\n",
      "Gulab-Jamun 4 (31)\n",
      "Gulab-Jamun 4 (310)\n",
      "Gulab-Jamun 4 (311)\n",
      "Gulab-Jamun 4 (312)\n"
     ]
    },
    {
     "name": "stderr",
     "output_type": "stream",
     "text": [
      "\r",
      " 48%|████████████████████████████████████▊                                        | 5567/11648 [01:09<01:53, 53.73it/s]"
     ]
    },
    {
     "name": "stdout",
     "output_type": "stream",
     "text": [
      "Gulab-Jamun 4 (313)\n",
      "Gulab-Jamun 4 (314)\n",
      "Gulab-Jamun 4 (315)\n",
      "Gulab-Jamun 4 (316)\n",
      "Gulab-Jamun 4 (317)\n",
      "Gulab-Jamun 4 (318)\n",
      "Gulab-Jamun 4 (319)\n",
      "Gulab-Jamun 4 (32)\n",
      "Gulab-Jamun 4 (32)\n"
     ]
    },
    {
     "name": "stderr",
     "output_type": "stream",
     "text": [
      "\r",
      " 48%|████████████████████████████████████▊                                        | 5576/11648 [01:09<01:39, 61.03it/s]"
     ]
    },
    {
     "name": "stdout",
     "output_type": "stream",
     "text": [
      "Gulab-Jamun 4 (320)\n",
      "Gulab-Jamun 4 (321)\n",
      "Gulab-Jamun 4 (322)\n",
      "Gulab-Jamun 4 (323)\n",
      "Gulab-Jamun 4 (324)\n",
      "Gulab-Jamun 4 (325)\n",
      "Gulab-Jamun 4 (326)\n",
      "Gulab-Jamun 4 (327)\n",
      "Gulab-Jamun 4 (328)\n",
      "Gulab-Jamun 4 (329)\n",
      "Gulab-Jamun 4 (33)\n"
     ]
    },
    {
     "name": "stderr",
     "output_type": "stream",
     "text": [
      "\r",
      " 48%|████████████████████████████████████▉                                        | 5587/11648 [01:09<01:30, 66.88it/s]"
     ]
    },
    {
     "name": "stdout",
     "output_type": "stream",
     "text": [
      "Gulab-Jamun 4 (33)\n",
      "Gulab-Jamun 4 (330)\n",
      "Gulab-Jamun 4 (331)\n",
      "Gulab-Jamun 4 (332)\n",
      "Gulab-Jamun 4 (333)\n",
      "Gulab-Jamun 4 (334)\n",
      "Gulab-Jamun 4 (335)\n",
      "Gulab-Jamun 4 (336)\n"
     ]
    },
    {
     "name": "stderr",
     "output_type": "stream",
     "text": [
      "\r",
      " 48%|████████████████████████████████████▉                                        | 5595/11648 [01:10<01:45, 57.64it/s]"
     ]
    },
    {
     "name": "stdout",
     "output_type": "stream",
     "text": [
      "Gulab-Jamun 4 (337)\n",
      "Gulab-Jamun 4 (338)\n",
      "Gulab-Jamun 4 (339)\n",
      "Gulab-Jamun 4 (34)\n",
      "Gulab-Jamun 4 (340)\n",
      "Gulab-Jamun 4 (341)\n",
      "Gulab-Jamun 4 (342)\n"
     ]
    },
    {
     "name": "stderr",
     "output_type": "stream",
     "text": [
      "\r",
      " 48%|█████████████████████████████████████                                        | 5602/11648 [01:10<01:47, 56.36it/s]"
     ]
    },
    {
     "name": "stdout",
     "output_type": "stream",
     "text": [
      "Gulab-Jamun 4 (343)\n",
      "Gulab-Jamun 4 (344)\n",
      "Gulab-Jamun 4 (345)\n",
      "Gulab-Jamun 4 (346)\n",
      "Gulab-Jamun 4 (347)\n",
      "Gulab-Jamun 4 (348)\n",
      "Gulab-Jamun 4 (349)\n",
      "Gulab-Jamun 4 (35)\n",
      "Gulab-Jamun 4 (350)\n",
      "Gulab-Jamun 4 (351)\n",
      "Gulab-Jamun 4 (352)\n",
      "Gulab-Jamun 4 (353)\n",
      "Gulab-Jamun 4 (354)\n",
      "Gulab-Jamun 4 (355)\n"
     ]
    },
    {
     "name": "stderr",
     "output_type": "stream",
     "text": [
      "\r",
      " 48%|█████████████████████████████████████▏                                       | 5616/11648 [01:10<01:28, 68.10it/s]"
     ]
    },
    {
     "name": "stdout",
     "output_type": "stream",
     "text": [
      "Gulab-Jamun 4 (356)\n",
      "Gulab-Jamun 4 (357)\n",
      "Gulab-Jamun 4 (358)\n",
      "Gulab-Jamun 4 (359)\n",
      "Gulab-Jamun 4 (36)\n",
      "Gulab-Jamun 4 (360)\n",
      "Gulab-Jamun 4 (361)\n",
      "Gulab-Jamun 4 (362)\n",
      "Gulab-Jamun 4 (363)\n",
      "Gulab-Jamun 4 (364)\n"
     ]
    },
    {
     "name": "stderr",
     "output_type": "stream",
     "text": [
      "\r",
      " 48%|█████████████████████████████████████▏                                       | 5626/11648 [01:10<01:20, 74.67it/s]"
     ]
    },
    {
     "name": "stdout",
     "output_type": "stream",
     "text": [
      "Gulab-Jamun 4 (365)\n",
      "Gulab-Jamun 4 (366)\n",
      "Gulab-Jamun 4 (367)\n",
      "Gulab-Jamun 4 (368)\n",
      "Gulab-Jamun 4 (369)\n",
      "Gulab-Jamun 4 (37)\n",
      "Gulab-Jamun 4 (370)\n",
      "Gulab-Jamun 4 (371)\n",
      "Gulab-Jamun 4 (372)\n"
     ]
    },
    {
     "name": "stderr",
     "output_type": "stream",
     "text": [
      "\r",
      " 48%|█████████████████████████████████████▎                                       | 5635/11648 [01:10<01:22, 72.84it/s]"
     ]
    },
    {
     "name": "stdout",
     "output_type": "stream",
     "text": [
      "Gulab-Jamun 4 (373)\n",
      "Gulab-Jamun 4 (374)\n",
      "Gulab-Jamun 4 (375)\n",
      "Gulab-Jamun 4 (376)\n",
      "Gulab-Jamun 4 (377)\n",
      "Gulab-Jamun 4 (378)\n",
      "Gulab-Jamun 4 (379)\n",
      "Gulab-Jamun 4 (38)\n",
      "Gulab-Jamun 4 (380)\n"
     ]
    },
    {
     "name": "stderr",
     "output_type": "stream",
     "text": [
      "\r",
      " 48%|█████████████████████████████████████▎                                       | 5644/11648 [01:10<02:22, 42.12it/s]"
     ]
    },
    {
     "name": "stdout",
     "output_type": "stream",
     "text": [
      "Gulab-Jamun 4 (381)\n",
      "Gulab-Jamun 4 (382)\n",
      "Gulab-Jamun 4 (383)\n",
      "Gulab-Jamun 4 (384)\n",
      "Gulab-Jamun 4 (385)\n",
      "Gulab-Jamun 4 (386)\n",
      "Gulab-Jamun 4 (387)\n"
     ]
    },
    {
     "name": "stderr",
     "output_type": "stream",
     "text": [
      "\r",
      " 49%|█████████████████████████████████████▎                                       | 5651/11648 [01:11<02:10, 45.98it/s]"
     ]
    },
    {
     "name": "stdout",
     "output_type": "stream",
     "text": [
      "Gulab-Jamun 4 (388)\n",
      "Gulab-Jamun 4 (389)\n",
      "Gulab-Jamun 4 (39)\n",
      "Gulab-Jamun 4 (390)\n",
      "Gulab-Jamun 4 (391)\n",
      "Gulab-Jamun 4 (392)\n",
      "Gulab-Jamun 4 (393)\n",
      "Gulab-Jamun 4 (394)\n"
     ]
    },
    {
     "name": "stderr",
     "output_type": "stream",
     "text": [
      "\r",
      " 49%|█████████████████████████████████████▍                                       | 5659/11648 [01:11<01:54, 52.12it/s]"
     ]
    },
    {
     "name": "stdout",
     "output_type": "stream",
     "text": [
      "Gulab-Jamun 4 (395)\n",
      "Gulab-Jamun 4 (396)\n",
      "Gulab-Jamun 4 (397)\n",
      "Gulab-Jamun 4 (398)\n",
      "Gulab-Jamun 4 (399)\n",
      "Gulab-Jamun 4 (4)\n",
      "Gulab-Jamun 4 (4)\n"
     ]
    },
    {
     "name": "stderr",
     "output_type": "stream",
     "text": [
      "\r",
      " 49%|█████████████████████████████████████▍                                       | 5666/11648 [01:11<02:00, 49.65it/s]"
     ]
    },
    {
     "name": "stdout",
     "output_type": "stream",
     "text": [
      "Gulab-Jamun 4 (40)\n",
      "Gulab-Jamun 4 (400)\n",
      "Gulab-Jamun 4 (401)\n",
      "Gulab-Jamun 4 (402)\n",
      "Gulab-Jamun 4 (403)\n",
      "Gulab-Jamun 4 (404)\n",
      "Gulab-Jamun 4 (405)\n"
     ]
    },
    {
     "name": "stderr",
     "output_type": "stream",
     "text": [
      "\r",
      " 49%|█████████████████████████████████████▌                                       | 5673/11648 [01:11<01:52, 53.31it/s]"
     ]
    },
    {
     "name": "stdout",
     "output_type": "stream",
     "text": [
      "Gulab-Jamun 4 (406)\n",
      "Gulab-Jamun 4 (407)\n",
      "Gulab-Jamun 4 (408)\n",
      "Gulab-Jamun 4 (409)\n",
      "Gulab-Jamun 4 (41)\n",
      "Gulab-Jamun 4 (410)\n",
      "Gulab-Jamun 4 (411)\n",
      "Gulab-Jamun 4 (412)\n"
     ]
    },
    {
     "name": "stderr",
     "output_type": "stream",
     "text": [
      "\r",
      " 49%|█████████████████████████████████████▌                                       | 5681/11648 [01:11<01:42, 58.50it/s]"
     ]
    },
    {
     "name": "stdout",
     "output_type": "stream",
     "text": [
      "Gulab-Jamun 4 (413)\n",
      "Gulab-Jamun 4 (414)\n",
      "Gulab-Jamun 4 (415)\n",
      "Gulab-Jamun 4 (416)\n",
      "Gulab-Jamun 4 (417)\n",
      "Gulab-Jamun 4 (418)\n",
      "Gulab-Jamun 4 (419)\n"
     ]
    },
    {
     "name": "stderr",
     "output_type": "stream",
     "text": [
      "\r",
      " 49%|█████████████████████████████████████▌                                       | 5688/11648 [01:11<02:07, 46.89it/s]"
     ]
    },
    {
     "name": "stdout",
     "output_type": "stream",
     "text": [
      "Gulab-Jamun 4 (42)\n",
      "Gulab-Jamun 4 (420)\n",
      "Gulab-Jamun 4 (421)\n",
      "Gulab-Jamun 4 (422)\n",
      "Gulab-Jamun 4 (423)\n",
      "Gulab-Jamun 4 (424)\n",
      "Gulab-Jamun 4 (425)\n",
      "Gulab-Jamun 4 (426)\n",
      "Gulab-Jamun 4 (427)\n",
      "Gulab-Jamun 4 (428)\n",
      "Gulab-Jamun 4 (429)\n"
     ]
    },
    {
     "name": "stderr",
     "output_type": "stream",
     "text": [
      "\r",
      " 49%|█████████████████████████████████████▋                                       | 5699/11648 [01:11<01:45, 56.49it/s]"
     ]
    },
    {
     "name": "stdout",
     "output_type": "stream",
     "text": [
      "Gulab-Jamun 4 (43)\n",
      "Gulab-Jamun 4 (430)\n",
      "Gulab-Jamun 4 (431)\n",
      "Gulab-Jamun 4 (432)\n",
      "Gulab-Jamun 4 (433)\n",
      "Gulab-Jamun 4 (434)\n",
      "Gulab-Jamun 4 (435)\n",
      "Gulab-Jamun 4 (436)\n",
      "Gulab-Jamun 4 (437)\n",
      "Gulab-Jamun 4 (438)\n",
      "Gulab-Jamun 4 (439)\n",
      "Gulab-Jamun 4 (44)\n",
      "Gulab-Jamun 4 (440)\n"
     ]
    },
    {
     "name": "stderr",
     "output_type": "stream",
     "text": [
      "\r",
      " 49%|█████████████████████████████████████▊                                       | 5712/11648 [01:11<01:27, 67.53it/s]"
     ]
    },
    {
     "name": "stdout",
     "output_type": "stream",
     "text": [
      "Gulab-Jamun 4 (441)\n",
      "Gulab-Jamun 4 (442)\n",
      "Gulab-Jamun 4 (443)\n",
      "Gulab-Jamun 4 (444)\n",
      "Gulab-Jamun 4 (445)\n",
      "Gulab-Jamun 4 (446)\n",
      "Gulab-Jamun 4 (447)\n",
      "Gulab-Jamun 4 (448)\n",
      "Gulab-Jamun 4 (449)\n"
     ]
    },
    {
     "name": "stderr",
     "output_type": "stream",
     "text": [
      "\r",
      " 49%|█████████████████████████████████████▊                                       | 5721/11648 [01:12<01:21, 72.34it/s]"
     ]
    },
    {
     "name": "stdout",
     "output_type": "stream",
     "text": [
      "Gulab-Jamun 4 (45)\n",
      "Gulab-Jamun 4 (450)\n",
      "Gulab-Jamun 4 (451)\n",
      "Gulab-Jamun 4 (452)\n",
      "Gulab-Jamun 4 (453)\n",
      "Gulab-Jamun 4 (454)\n",
      "Gulab-Jamun 4 (455)\n",
      "Gulab-Jamun 4 (456)\n",
      "Gulab-Jamun 4 (457)\n",
      "Gulab-Jamun 4 (458)\n",
      "Gulab-Jamun 4 (459)\n"
     ]
    },
    {
     "name": "stderr",
     "output_type": "stream",
     "text": [
      "\r",
      " 49%|█████████████████████████████████████▉                                       | 5732/11648 [01:12<01:13, 79.97it/s]"
     ]
    },
    {
     "name": "stdout",
     "output_type": "stream",
     "text": [
      "Gulab-Jamun 4 (46)\n",
      "Gulab-Jamun 4 (460)\n",
      "Gulab-Jamun 4 (461)\n",
      "Gulab-Jamun 4 (462)\n",
      "Gulab-Jamun 4 (463)\n",
      "Gulab-Jamun 4 (464)\n",
      "Gulab-Jamun 4 (465)\n",
      "Gulab-Jamun 4 (466)\n",
      "Gulab-Jamun 4 (467)\n",
      "Gulab-Jamun 4 (468)\n",
      "Gulab-Jamun 4 (469)\n",
      "Gulab-Jamun 4 (47)\n",
      "Gulab-Jamun 4 (470)\n",
      "Gulab-Jamun 4 (471)\n",
      "Gulab-Jamun 4 (472)\n",
      "Gulab-Jamun 4 (473)\n"
     ]
    },
    {
     "name": "stderr",
     "output_type": "stream",
     "text": [
      "\r",
      " 49%|█████████████████████████████████████▉                                       | 5748/11648 [01:12<01:05, 90.46it/s]"
     ]
    },
    {
     "name": "stdout",
     "output_type": "stream",
     "text": [
      "Gulab-Jamun 4 (474)\n",
      "Gulab-Jamun 4 (475)\n",
      "Gulab-Jamun 4 (476)\n",
      "Gulab-Jamun 4 (477)\n",
      "Gulab-Jamun 4 (478)\n",
      "Gulab-Jamun 4 (479)\n",
      "Gulab-Jamun 4 (48)\n",
      "Gulab-Jamun 4 (480)\n",
      "Gulab-Jamun 4 (481)\n",
      "Gulab-Jamun 4 (482)\n",
      "Gulab-Jamun 4 (483)\n"
     ]
    },
    {
     "name": "stderr",
     "output_type": "stream",
     "text": [
      "\r",
      " 49%|██████████████████████████████████████                                       | 5759/11648 [01:12<01:03, 92.03it/s]"
     ]
    },
    {
     "name": "stdout",
     "output_type": "stream",
     "text": [
      "Gulab-Jamun 4 (484)\n",
      "Gulab-Jamun 4 (485)\n",
      "Gulab-Jamun 4 (486)\n",
      "Gulab-Jamun 4 (487)\n",
      "Gulab-Jamun 4 (488)\n",
      "Gulab-Jamun 4 (489)\n",
      "Gulab-Jamun 4 (49)\n",
      "Gulab-Jamun 4 (490)\n",
      "Gulab-Jamun 4 (491)\n",
      "Gulab-Jamun 4 (492)\n",
      "Gulab-Jamun 4 (493)\n"
     ]
    },
    {
     "name": "stderr",
     "output_type": "stream",
     "text": [
      "\r",
      " 50%|██████████████████████████████████████▏                                      | 5770/11648 [01:12<01:07, 86.78it/s]"
     ]
    },
    {
     "name": "stdout",
     "output_type": "stream",
     "text": [
      "Gulab-Jamun 4 (494)\n",
      "Gulab-Jamun 4 (495)\n",
      "Gulab-Jamun 4 (496)\n",
      "Gulab-Jamun 4 (497)\n",
      "Gulab-Jamun 4 (498)\n",
      "Gulab-Jamun 4 (499)\n",
      "Gulab-Jamun 4 (5)\n",
      "Gulab-Jamun 4 (5)\n",
      "Gulab-Jamun 4 (50)\n",
      "Gulab-Jamun 4 (500)\n",
      "Gulab-Jamun 4 (501)\n"
     ]
    },
    {
     "name": "stderr",
     "output_type": "stream",
     "text": [
      "\r",
      " 50%|██████████████████████████████████████▏                                      | 5781/11648 [01:12<01:04, 91.11it/s]"
     ]
    },
    {
     "name": "stdout",
     "output_type": "stream",
     "text": [
      "Gulab-Jamun 4 (502)\n",
      "Gulab-Jamun 4 (503)\n",
      "Gulab-Jamun 4 (504)\n",
      "Gulab-Jamun 4 (505)\n",
      "Gulab-Jamun 4 (506)\n",
      "Gulab-Jamun 4 (507)\n",
      "Gulab-Jamun 4 (508)\n",
      "Gulab-Jamun 4 (509)\n",
      "Gulab-Jamun 4 (51)\n",
      "Gulab-Jamun 4 (510)\n",
      "Gulab-Jamun 4 (511)\n",
      "Gulab-Jamun 4 (512)\n"
     ]
    },
    {
     "name": "stderr",
     "output_type": "stream",
     "text": [
      "\r",
      " 50%|██████████████████████████████████████▎                                      | 5793/11648 [01:12<01:01, 94.78it/s]"
     ]
    },
    {
     "name": "stdout",
     "output_type": "stream",
     "text": [
      "Gulab-Jamun 4 (513)\n",
      "Gulab-Jamun 4 (514)\n",
      "Gulab-Jamun 4 (515)\n",
      "Gulab-Jamun 4 (516)\n",
      "Gulab-Jamun 4 (517)\n",
      "Gulab-Jamun 4 (518)\n",
      "Gulab-Jamun 4 (519)\n",
      "Gulab-Jamun 4 (52)\n",
      "Gulab-Jamun 4 (520)\n",
      "Gulab-Jamun 4 (521)\n"
     ]
    },
    {
     "name": "stderr",
     "output_type": "stream",
     "text": [
      "\r",
      " 50%|██████████████████████████████████████▎                                      | 5803/11648 [01:13<01:34, 61.80it/s]"
     ]
    },
    {
     "name": "stdout",
     "output_type": "stream",
     "text": [
      "Gulab-Jamun 4 (522)\n",
      "Gulab-Jamun 4 (523)\n",
      "Gulab-Jamun 4 (524)\n",
      "Gulab-Jamun 4 (525)\n",
      "Gulab-Jamun 4 (526)\n",
      "Gulab-Jamun 4 (527)\n",
      "Gulab-Jamun 4 (528)\n",
      "Gulab-Jamun 4 (529)\n"
     ]
    },
    {
     "name": "stderr",
     "output_type": "stream",
     "text": [
      "\r",
      " 50%|██████████████████████████████████████▍                                      | 5811/11648 [01:13<01:31, 63.53it/s]"
     ]
    },
    {
     "name": "stdout",
     "output_type": "stream",
     "text": [
      "Gulab-Jamun 4 (53)\n",
      "Gulab-Jamun 4 (530)\n",
      "Gulab-Jamun 4 (531)\n",
      "Gulab-Jamun 4 (532)\n",
      "Gulab-Jamun 4 (533)\n",
      "Gulab-Jamun 4 (534)\n",
      "Gulab-Jamun 4 (535)\n",
      "Gulab-Jamun 4 (536)\n"
     ]
    },
    {
     "name": "stderr",
     "output_type": "stream",
     "text": [
      "\r",
      " 50%|██████████████████████████████████████▍                                      | 5819/11648 [01:13<01:42, 56.82it/s]"
     ]
    },
    {
     "name": "stdout",
     "output_type": "stream",
     "text": [
      "Gulab-Jamun 4 (537)\n",
      "Gulab-Jamun 4 (538)\n",
      "Gulab-Jamun 4 (539)\n",
      "Gulab-Jamun 4 (54)\n",
      "Gulab-Jamun 4 (540)\n",
      "Gulab-Jamun 4 (541)\n",
      "Gulab-Jamun 4 (542)\n",
      "Gulab-Jamun 4 (543)\n",
      "Gulab-Jamun 4 (544)\n"
     ]
    },
    {
     "name": "stderr",
     "output_type": "stream",
     "text": [
      "\r",
      " 50%|██████████████████████████████████████▌                                      | 5828/11648 [01:13<01:31, 63.51it/s]"
     ]
    },
    {
     "name": "stdout",
     "output_type": "stream",
     "text": [
      "Gulab-Jamun 4 (545)\n",
      "Gulab-Jamun 4 (546)\n",
      "Gulab-Jamun 4 (547)\n",
      "Gulab-Jamun 4 (548)\n",
      "Gulab-Jamun 4 (549)\n",
      "Gulab-Jamun 4 (55)\n",
      "Gulab-Jamun 4 (550)\n",
      "Gulab-Jamun 4 (56)\n"
     ]
    },
    {
     "name": "stderr",
     "output_type": "stream",
     "text": [
      "\r",
      " 50%|██████████████████████████████████████▌                                      | 5836/11648 [01:13<01:38, 58.81it/s]"
     ]
    },
    {
     "name": "stdout",
     "output_type": "stream",
     "text": [
      "Gulab-Jamun 4 (57)\n",
      "Gulab-Jamun 4 (58)\n",
      "Gulab-Jamun 4 (59)\n",
      "Gulab-Jamun 4 (6)\n",
      "Gulab-Jamun 4 (6)\n",
      "Gulab-Jamun 4 (60)\n",
      "Gulab-Jamun 4 (61)\n"
     ]
    },
    {
     "name": "stderr",
     "output_type": "stream",
     "text": [
      "\r",
      " 50%|██████████████████████████████████████▋                                      | 5843/11648 [01:13<01:58, 49.00it/s]"
     ]
    },
    {
     "name": "stdout",
     "output_type": "stream",
     "text": [
      "Gulab-Jamun 4 (62)\n",
      "Gulab-Jamun 4 (63)\n",
      "Gulab-Jamun 4 (64)\n",
      "Gulab-Jamun 4 (65)\n",
      "Gulab-Jamun 4 (66)\n",
      "Gulab-Jamun 4 (67)\n",
      "Gulab-Jamun 4 (68)\n",
      "Gulab-Jamun 4 (69)\n",
      "Gulab-Jamun 4 (7)\n"
     ]
    },
    {
     "name": "stderr",
     "output_type": "stream",
     "text": [
      "\r",
      " 50%|██████████████████████████████████████▋                                      | 5852/11648 [01:13<01:58, 49.09it/s]"
     ]
    },
    {
     "name": "stdout",
     "output_type": "stream",
     "text": [
      "Gulab-Jamun 4 (7)\n",
      "Gulab-Jamun 4 (70)\n",
      "Gulab-Jamun 4 (71)\n",
      "Gulab-Jamun 4 (72)\n",
      "Gulab-Jamun 4 (73)\n",
      "Gulab-Jamun 4 (74)\n"
     ]
    },
    {
     "name": "stderr",
     "output_type": "stream",
     "text": [
      "\r",
      " 50%|██████████████████████████████████████▋                                      | 5858/11648 [01:14<03:07, 30.90it/s]"
     ]
    },
    {
     "name": "stdout",
     "output_type": "stream",
     "text": [
      "Gulab-Jamun 4 (75)\n",
      "Gulab-Jamun 4 (76)\n",
      "Gulab-Jamun 4 (77)\n",
      "Gulab-Jamun 4 (78)\n",
      "Gulab-Jamun 4 (79)\n",
      "Gulab-Jamun 4 (8)\n",
      "Gulab-Jamun 4 (8)\n",
      "Gulab-Jamun 4 (80)\n"
     ]
    },
    {
     "name": "stderr",
     "output_type": "stream",
     "text": [
      "\r",
      " 50%|██████████████████████████████████████▊                                      | 5866/11648 [01:14<02:37, 36.74it/s]"
     ]
    },
    {
     "name": "stdout",
     "output_type": "stream",
     "text": [
      "Gulab-Jamun 4 (81)\n",
      "Gulab-Jamun 4 (82)\n",
      "Gulab-Jamun 4 (83)\n",
      "Gulab-Jamun 4 (84)\n",
      "Gulab-Jamun 4 (85)\n"
     ]
    },
    {
     "name": "stderr",
     "output_type": "stream",
     "text": [
      "\r",
      " 50%|██████████████████████████████████████▊                                      | 5871/11648 [01:14<02:31, 38.04it/s]"
     ]
    },
    {
     "name": "stdout",
     "output_type": "stream",
     "text": [
      "Gulab-Jamun 4 (86)\n",
      "Gulab-Jamun 4 (87)\n",
      "Gulab-Jamun 4 (88)\n",
      "Gulab-Jamun 4 (89)\n",
      "Gulab-Jamun 4 (9)\n"
     ]
    },
    {
     "name": "stderr",
     "output_type": "stream",
     "text": [
      "\r",
      " 50%|██████████████████████████████████████▊                                      | 5876/11648 [01:14<02:47, 34.56it/s]"
     ]
    },
    {
     "name": "stdout",
     "output_type": "stream",
     "text": [
      "Gulab-Jamun 4 (9)\n",
      "Gulab-Jamun 4 (90)\n",
      "Gulab-Jamun 4 (91)\n",
      "Gulab-Jamun 4 (92)\n",
      "Gulab-Jamun 4 (93)\n",
      "Gulab-Jamun 4 (94)\n"
     ]
    },
    {
     "name": "stderr",
     "output_type": "stream",
     "text": [
      "\r",
      " 50%|██████████████████████████████████████▉                                      | 5882/11648 [01:14<02:43, 35.36it/s]"
     ]
    },
    {
     "name": "stdout",
     "output_type": "stream",
     "text": [
      "Gulab-Jamun 4 (95)\n",
      "Gulab-Jamun 4 (96)\n",
      "Gulab-Jamun 4 (97)\n",
      "Gulab-Jamun 4 (98)\n",
      "Gulab-Jamun 4 (99)\n",
      "Jalebi (1)\n",
      "Jalebi (1)\n"
     ]
    },
    {
     "name": "stderr",
     "output_type": "stream",
     "text": [
      "\r",
      " 51%|██████████████████████████████████████▉                                      | 5889/11648 [01:15<02:22, 40.46it/s]"
     ]
    },
    {
     "name": "stdout",
     "output_type": "stream",
     "text": [
      "Jalebi (1)\n",
      "Jalebi (10)\n",
      "Jalebi (10)\n",
      "Jalebi (100)\n",
      "Jalebi (101)\n"
     ]
    },
    {
     "name": "stderr",
     "output_type": "stream",
     "text": [
      "\r",
      " 51%|██████████████████████████████████████▉                                      | 5894/11648 [01:15<02:58, 32.19it/s]"
     ]
    },
    {
     "name": "stdout",
     "output_type": "stream",
     "text": [
      "Jalebi (102)\n",
      "Jalebi (103)\n",
      "Jalebi (104)\n",
      "Jalebi (105)\n"
     ]
    },
    {
     "name": "stderr",
     "output_type": "stream",
     "text": [
      "\r",
      " 51%|██████████████████████████████████████▉                                      | 5898/11648 [01:15<02:50, 33.70it/s]"
     ]
    },
    {
     "name": "stdout",
     "output_type": "stream",
     "text": [
      "Jalebi (106)\n",
      "Jalebi (107)\n",
      "Jalebi (108)\n",
      "Jalebi (109)\n",
      "Jalebi (11)\n",
      "Jalebi (110)\n",
      "Jalebi (111)\n",
      "Jalebi (112)\n",
      "Jalebi (113)\n",
      "Jalebi (114)\n",
      "Jalebi (115)\n",
      "Jalebi (116)\n",
      "Jalebi (117)\n"
     ]
    },
    {
     "name": "stderr",
     "output_type": "stream",
     "text": [
      "\r",
      " 51%|███████████████████████████████████████                                      | 5911/11648 [01:15<02:12, 43.21it/s]"
     ]
    },
    {
     "name": "stdout",
     "output_type": "stream",
     "text": [
      "Jalebi (118)\n",
      "Jalebi (119)\n",
      "Jalebi (12)\n",
      "Jalebi (120)\n",
      "Jalebi (121)\n",
      "Jalebi (122)\n",
      "Jalebi (123)\n",
      "Jalebi (124)\n",
      "Jalebi (125)\n",
      "Jalebi (126)\n",
      "Jalebi (127)\n",
      "Jalebi (128)\n",
      "Jalebi (129)\n",
      "Jalebi (13)\n",
      "Jalebi (130)\n"
     ]
    },
    {
     "name": "stderr",
     "output_type": "stream",
     "text": [
      "\r",
      " 51%|███████████████████████████████████████▏                                     | 5926/11648 [01:15<01:45, 54.49it/s]"
     ]
    },
    {
     "name": "stdout",
     "output_type": "stream",
     "text": [
      "Jalebi (131)\n",
      "Jalebi (132)\n",
      "Jalebi (133)\n",
      "Jalebi (134)\n",
      "Jalebi (135)\n",
      "Jalebi (136)\n",
      "Jalebi (137)\n",
      "Jalebi (138)\n",
      "Jalebi (139)\n",
      "Jalebi (14)\n"
     ]
    },
    {
     "name": "stderr",
     "output_type": "stream",
     "text": [
      "\r",
      " 51%|███████████████████████████████████████▏                                     | 5936/11648 [01:15<01:32, 61.62it/s]"
     ]
    },
    {
     "name": "stdout",
     "output_type": "stream",
     "text": [
      "Jalebi (140)\n",
      "Jalebi (141)\n",
      "Jalebi (142)\n",
      "Jalebi (143)\n",
      "Jalebi (144)\n",
      "Jalebi (145)\n",
      "Jalebi (146)\n",
      "Jalebi (147)\n",
      "Jalebi (148)\n",
      "Jalebi (149)\n",
      "Jalebi (15)\n",
      "Jalebi (150)\n",
      "Jalebi (151)\n"
     ]
    },
    {
     "name": "stderr",
     "output_type": "stream",
     "text": [
      "\r",
      " 51%|███████████████████████████████████████▎                                     | 5949/11648 [01:15<01:18, 72.59it/s]"
     ]
    },
    {
     "name": "stdout",
     "output_type": "stream",
     "text": [
      "Jalebi (152)\n",
      "Jalebi (153)\n",
      "Jalebi (154)\n",
      "Jalebi (155)\n",
      "Jalebi (156)\n",
      "Jalebi (157)\n",
      "Jalebi (158)\n",
      "Jalebi (159)\n",
      "Jalebi (16)\n",
      "Jalebi (160)\n",
      "Jalebi (161)\n",
      "Jalebi (162)\n",
      "Jalebi (163)\n",
      "Jalebi (164)\n"
     ]
    },
    {
     "name": "stderr",
     "output_type": "stream",
     "text": [
      "\r",
      " 51%|███████████████████████████████████████▍                                     | 5963/11648 [01:15<01:07, 83.97it/s]"
     ]
    },
    {
     "name": "stdout",
     "output_type": "stream",
     "text": [
      "Jalebi (165)\n",
      "Jalebi (166)\n",
      "Jalebi (167)\n",
      "Jalebi (168)\n",
      "Jalebi (169)\n",
      "Jalebi (17)\n",
      "Jalebi (170)\n",
      "Jalebi (171)\n",
      "Jalebi (172)\n",
      "Jalebi (173)\n",
      "Jalebi (174)\n",
      "Jalebi (175)\n",
      "Jalebi (176)\n",
      "Jalebi (177)\n",
      "Jalebi (178)\n",
      "Jalebi (179)\n",
      "Jalebi (18)\n"
     ]
    },
    {
     "name": "stderr",
     "output_type": "stream",
     "text": [
      "\r",
      " 51%|███████████████████████████████████████▌                                     | 5980/11648 [01:16<01:00, 94.28it/s]"
     ]
    },
    {
     "name": "stdout",
     "output_type": "stream",
     "text": [
      "Jalebi (180)\n",
      "Jalebi (181)\n",
      "Jalebi (182)\n",
      "Jalebi (183)\n",
      "Jalebi (184)\n",
      "Jalebi (185)\n",
      "Jalebi (186)\n",
      "Jalebi (187)\n",
      "Jalebi (188)\n",
      "Jalebi (189)\n",
      "Jalebi (19)\n",
      "Jalebi (190)\n"
     ]
    },
    {
     "name": "stderr",
     "output_type": "stream",
     "text": [
      "\r",
      " 51%|███████████████████████████████████████▌                                     | 5992/11648 [01:16<01:12, 77.76it/s]"
     ]
    },
    {
     "name": "stdout",
     "output_type": "stream",
     "text": [
      "Jalebi (191)\n",
      "Jalebi (192)\n",
      "Jalebi (193)\n",
      "Jalebi (194)\n",
      "Jalebi (195)\n",
      "Jalebi (196)\n",
      "Jalebi (197)\n",
      "Jalebi (198)\n",
      "Jalebi (199)\n",
      "Jalebi (2)\n"
     ]
    },
    {
     "name": "stderr",
     "output_type": "stream",
     "text": [
      "\r",
      " 52%|███████████████████████████████████████▋                                     | 6002/11648 [01:16<01:24, 66.73it/s]"
     ]
    },
    {
     "name": "stdout",
     "output_type": "stream",
     "text": [
      "Jalebi (2)\n",
      "Jalebi (2)\n",
      "Jalebi (20)\n",
      "Jalebi (200)\n",
      "Jalebi (201)\n",
      "Jalebi (202)\n",
      "Jalebi (203)\n",
      "Jalebi (204)\n",
      "Jalebi (205)\n"
     ]
    },
    {
     "name": "stderr",
     "output_type": "stream",
     "text": [
      "\r",
      " 52%|███████████████████████████████████████▋                                     | 6011/11648 [01:16<01:22, 68.12it/s]"
     ]
    },
    {
     "name": "stdout",
     "output_type": "stream",
     "text": [
      "Jalebi (206)\n",
      "Jalebi (207)\n",
      "Jalebi (208)\n",
      "Jalebi (209)\n",
      "Jalebi (21)\n",
      "Jalebi (210)\n",
      "Jalebi (211)\n",
      "Jalebi (212)\n"
     ]
    },
    {
     "name": "stderr",
     "output_type": "stream",
     "text": [
      "\r",
      " 52%|███████████████████████████████████████▊                                     | 6019/11648 [01:16<01:26, 65.41it/s]"
     ]
    },
    {
     "name": "stdout",
     "output_type": "stream",
     "text": [
      "Jalebi (213)\n",
      "Jalebi (214)\n",
      "Jalebi (215)\n",
      "Jalebi (22)\n",
      "Jalebi (23)\n",
      "Jalebi (24)\n",
      "Jalebi (25)\n",
      "Jalebi (26)\n",
      "Jalebi (27)\n",
      "Jalebi (28)\n"
     ]
    },
    {
     "name": "stderr",
     "output_type": "stream",
     "text": [
      "\r",
      " 52%|███████████████████████████████████████▊                                     | 6029/11648 [01:16<01:18, 71.62it/s]"
     ]
    },
    {
     "name": "stdout",
     "output_type": "stream",
     "text": [
      "Jalebi (29)\n",
      "Jalebi (3)\n",
      "Jalebi (3)\n",
      "Jalebi (3)\n",
      "Jalebi (30)\n",
      "Jalebi (31)\n",
      "Jalebi (32)\n",
      "Jalebi (33)\n"
     ]
    },
    {
     "name": "stderr",
     "output_type": "stream",
     "text": [
      "\r",
      " 52%|███████████████████████████████████████▉                                     | 6037/11648 [01:17<01:44, 53.66it/s]"
     ]
    },
    {
     "name": "stdout",
     "output_type": "stream",
     "text": [
      "Jalebi (34)\n",
      "Jalebi (35)\n",
      "Jalebi (36)\n",
      "Jalebi (37)\n",
      "Jalebi (38)\n",
      "Jalebi (39)\n",
      "Jalebi (4)\n",
      "Jalebi (4)\n"
     ]
    },
    {
     "name": "stderr",
     "output_type": "stream",
     "text": [
      "\r",
      " 52%|███████████████████████████████████████▉                                     | 6045/11648 [01:17<01:37, 57.40it/s]"
     ]
    },
    {
     "name": "stdout",
     "output_type": "stream",
     "text": [
      "Jalebi (4)\n",
      "Jalebi (40)\n",
      "Jalebi (41)\n",
      "Jalebi (42)\n",
      "Jalebi (43)\n",
      "Jalebi (44)\n",
      "Jalebi (45)\n"
     ]
    },
    {
     "name": "stderr",
     "output_type": "stream",
     "text": [
      "\r",
      " 52%|████████████████████████████████████████                                     | 6052/11648 [01:17<01:34, 59.48it/s]"
     ]
    },
    {
     "name": "stdout",
     "output_type": "stream",
     "text": [
      "Jalebi (46)\n",
      "Jalebi (47)\n",
      "Jalebi (48)\n",
      "Jalebi (49)\n",
      "Jalebi (5)\n",
      "Jalebi (5)\n",
      "Jalebi (5)\n"
     ]
    },
    {
     "name": "stderr",
     "output_type": "stream",
     "text": [
      "\r",
      " 52%|████████████████████████████████████████                                     | 6059/11648 [01:17<01:33, 59.79it/s]"
     ]
    },
    {
     "name": "stdout",
     "output_type": "stream",
     "text": [
      "Jalebi (50)\n",
      "Jalebi (51)\n",
      "Jalebi (52)\n",
      "Jalebi (53)\n",
      "Jalebi (54)\n",
      "Jalebi (55)\n",
      "Jalebi (56)\n"
     ]
    },
    {
     "name": "stderr",
     "output_type": "stream",
     "text": [
      "\r",
      " 52%|████████████████████████████████████████                                     | 6066/11648 [01:17<01:38, 56.52it/s]"
     ]
    },
    {
     "name": "stdout",
     "output_type": "stream",
     "text": [
      "Jalebi (57)\n",
      "Jalebi (58)\n",
      "Jalebi (59)\n",
      "Jalebi (6)\n",
      "Jalebi (6)\n",
      "Jalebi (6)\n",
      "Jalebi (60)\n"
     ]
    },
    {
     "name": "stderr",
     "output_type": "stream",
     "text": [
      "\r",
      " 52%|████████████████████████████████████████▏                                    | 6073/11648 [01:17<01:36, 57.66it/s]"
     ]
    },
    {
     "name": "stdout",
     "output_type": "stream",
     "text": [
      "Jalebi (61)\n",
      "Jalebi (62)\n",
      "Jalebi (63)\n",
      "Jalebi (64)\n",
      "Jalebi (65)\n",
      "Jalebi (66)\n",
      "Jalebi (67)\n",
      "Jalebi (68)\n",
      "Jalebi (69)\n",
      "Jalebi (7)\n",
      "Jalebi (7)\n"
     ]
    },
    {
     "name": "stderr",
     "output_type": "stream",
     "text": [
      "\r",
      " 52%|████████████████████████████████████████▏                                    | 6084/11648 [01:17<01:24, 65.50it/s]"
     ]
    },
    {
     "name": "stdout",
     "output_type": "stream",
     "text": [
      "Jalebi (70)\n",
      "Jalebi (71)\n",
      "Jalebi (72)\n",
      "Jalebi (73)\n",
      "Jalebi (74)\n",
      "Jalebi (75)\n",
      "Jalebi (76)\n",
      "Jalebi (77)\n",
      "Jalebi (78)\n"
     ]
    },
    {
     "name": "stderr",
     "output_type": "stream",
     "text": [
      "\r",
      " 52%|████████████████████████████████████████▎                                    | 6093/11648 [01:17<01:18, 70.36it/s]"
     ]
    },
    {
     "name": "stdout",
     "output_type": "stream",
     "text": [
      "Jalebi (79)\n",
      "Jalebi (8)\n",
      "Jalebi (8)\n",
      "Jalebi (80)\n",
      "Jalebi (81)\n",
      "Jalebi (82)\n",
      "Jalebi (83)\n",
      "Jalebi (84)\n",
      "Jalebi (85)\n"
     ]
    },
    {
     "name": "stderr",
     "output_type": "stream",
     "text": [
      "\r",
      " 52%|████████████████████████████████████████▎                                    | 6102/11648 [01:17<01:14, 74.60it/s]"
     ]
    },
    {
     "name": "stdout",
     "output_type": "stream",
     "text": [
      "Jalebi (86)\n",
      "Jalebi (87)\n",
      "Jalebi (88)\n",
      "Jalebi (89)\n",
      "Jalebi (9)\n",
      "Jalebi (9)\n",
      "Jalebi (90)\n",
      "Jalebi (91)\n",
      "Jalebi (92)\n",
      "Jalebi (93)\n",
      "Jalebi (94)\n",
      "Jalebi (95)\n",
      "Jalebi (96)\n"
     ]
    },
    {
     "name": "stderr",
     "output_type": "stream",
     "text": [
      "\r",
      " 52%|████████████████████████████████████████▍                                    | 6115/11648 [01:18<01:05, 83.92it/s]"
     ]
    },
    {
     "name": "stdout",
     "output_type": "stream",
     "text": [
      "Jalebi (97)\n",
      "Jalebi (98)\n",
      "Jalebi (99)\n",
      "Jalebi 2 (1)\n",
      "Jalebi 2 (1)\n",
      "Jalebi 2 (1)\n",
      "Jalebi 2 (10)\n",
      "Jalebi 2 (10)\n",
      "Jalebi 2 (10)\n",
      "Jalebi 2 (100)\n"
     ]
    },
    {
     "name": "stderr",
     "output_type": "stream",
     "text": [
      "\r",
      " 53%|████████████████████████████████████████▍                                    | 6125/11648 [01:18<01:30, 61.24it/s]"
     ]
    },
    {
     "name": "stdout",
     "output_type": "stream",
     "text": [
      "Jalebi 2 (1000)\n",
      "Jalebi 2 (1001)\n",
      "Jalebi 2 (1002)\n",
      "Jalebi 2 (1003)\n",
      "Jalebi 2 (1004)\n",
      "Jalebi 2 (1005)\n",
      "Jalebi 2 (1006)\n",
      "Jalebi 2 (1007)\n",
      "Jalebi 2 (1008)\n",
      "Jalebi 2 (1009)\n"
     ]
    },
    {
     "name": "stderr",
     "output_type": "stream",
     "text": [
      "\r",
      " 53%|████████████████████████████████████████▌                                    | 6135/11648 [01:18<01:19, 69.05it/s]"
     ]
    },
    {
     "name": "stdout",
     "output_type": "stream",
     "text": [
      "Jalebi 2 (101)\n",
      "Jalebi 2 (1010)\n",
      "Jalebi 2 (1011)\n",
      "Jalebi 2 (1012)\n",
      "Jalebi 2 (1013)\n",
      "Jalebi 2 (1014)\n",
      "Jalebi 2 (1015)\n",
      "Jalebi 2 (1016)\n",
      "Jalebi 2 (1017)\n",
      "Jalebi 2 (1018)\n",
      "Jalebi 2 (1019)\n",
      "Jalebi 2 (102)\n",
      "Jalebi 2 (1020)\n",
      "Jalebi 2 (1021)\n",
      "Jalebi 2 (1022)\n",
      "Jalebi 2 (1023)\n"
     ]
    },
    {
     "name": "stderr",
     "output_type": "stream",
     "text": [
      "\r",
      " 53%|████████████████████████████████████████▋                                    | 6151/11648 [01:18<01:06, 83.02it/s]"
     ]
    },
    {
     "name": "stdout",
     "output_type": "stream",
     "text": [
      "Jalebi 2 (1024)\n",
      "Jalebi 2 (1025)\n",
      "Jalebi 2 (1026)\n",
      "Jalebi 2 (1027)\n",
      "Jalebi 2 (1028)\n",
      "Jalebi 2 (1029)\n",
      "Jalebi 2 (103)\n",
      "Jalebi 2 (1030)\n",
      "Jalebi 2 (1031)\n",
      "Jalebi 2 (1032)\n",
      "Jalebi 2 (1033)\n",
      "Jalebi 2 (1034)\n",
      "Jalebi 2 (1035)\n",
      "Jalebi 2 (1036)\n",
      "Jalebi 2 (1037)\n",
      "Jalebi 2 (1038)\n",
      "Jalebi 2 (1039)\n",
      "Jalebi 2 (104)\n",
      "Jalebi 2 (1040)\n",
      "Jalebi 2 (1041)\n",
      "Jalebi 2 (1042)\n",
      "Jalebi 2 (1043)\n",
      "Jalebi 2 (1044)\n",
      "Jalebi 2 (1045)\n",
      "Jalebi 2 (1046)\n",
      "Jalebi 2 (1047)\n",
      "Jalebi 2 (1048)\n",
      "Jalebi 2 (1049)\n",
      "Jalebi 2 (105)\n"
     ]
    },
    {
     "name": "stderr",
     "output_type": "stream",
     "text": [
      "\r",
      " 53%|████████████████████████████████████████▎                                   | 6180/11648 [01:18<00:51, 105.33it/s]"
     ]
    },
    {
     "name": "stdout",
     "output_type": "stream",
     "text": [
      "Jalebi 2 (1050)\n",
      "Jalebi 2 (1051)\n",
      "Jalebi 2 (1052)\n",
      "Jalebi 2 (1053)\n",
      "Jalebi 2 (1054)\n",
      "Jalebi 2 (1055)\n",
      "Jalebi 2 (1056)\n",
      "Jalebi 2 (1057)\n",
      "Jalebi 2 (1058)\n",
      "Jalebi 2 (1059)\n",
      "Jalebi 2 (106)\n",
      "Jalebi 2 (1060)\n",
      "Jalebi 2 (1061)\n",
      "Jalebi 2 (1062)\n",
      "Jalebi 2 (1063)\n",
      "Jalebi 2 (1064)\n"
     ]
    },
    {
     "name": "stderr",
     "output_type": "stream",
     "text": [
      "\r",
      " 53%|████████████████████████████████████████▉                                    | 6196/11648 [01:18<01:04, 84.69it/s]"
     ]
    },
    {
     "name": "stdout",
     "output_type": "stream",
     "text": [
      "Jalebi 2 (1065)\n",
      "Jalebi 2 (1066)\n",
      "Jalebi 2 (1067)\n",
      "Jalebi 2 (1068)\n",
      "Jalebi 2 (1069)\n",
      "Jalebi 2 (107)\n",
      "Jalebi 2 (1070)\n",
      "Jalebi 2 (1071)\n",
      "Jalebi 2 (1072)\n",
      "Jalebi 2 (1073)\n",
      "Jalebi 2 (1074)\n",
      "Jalebi 2 (1075)\n",
      "Jalebi 2 (1076)\n"
     ]
    },
    {
     "name": "stderr",
     "output_type": "stream",
     "text": [
      "\r",
      " 53%|█████████████████████████████████████████                                    | 6209/11648 [01:19<01:08, 79.27it/s]"
     ]
    },
    {
     "name": "stdout",
     "output_type": "stream",
     "text": [
      "Jalebi 2 (1077)\n",
      "Jalebi 2 (1078)\n",
      "Jalebi 2 (1079)\n",
      "Jalebi 2 (108)\n",
      "Jalebi 2 (1080)\n",
      "Jalebi 2 (1081)\n",
      "Jalebi 2 (1082)\n",
      "Jalebi 2 (1083)\n",
      "Jalebi 2 (1084)\n",
      "Jalebi 2 (1085)\n",
      "Jalebi 2 (1086)\n",
      "Jalebi 2 (1087)\n",
      "Jalebi 2 (1088)\n",
      "Jalebi 2 (1089)\n",
      "Jalebi 2 (109)\n",
      "Jalebi 2 (1090)\n",
      "Jalebi 2 (1091)\n",
      "Jalebi 2 (1092)\n",
      "Jalebi 2 (1093)\n",
      "Jalebi 2 (1094)\n"
     ]
    },
    {
     "name": "stderr",
     "output_type": "stream",
     "text": [
      "\r",
      " 53%|█████████████████████████████████████████▏                                   | 6229/11648 [01:19<00:56, 96.28it/s]"
     ]
    },
    {
     "name": "stdout",
     "output_type": "stream",
     "text": [
      "Jalebi 2 (1095)\n",
      "Jalebi 2 (1096)\n",
      "Jalebi 2 (1097)\n",
      "Jalebi 2 (1098)\n",
      "Jalebi 2 (1099)\n",
      "Jalebi 2 (11)\n",
      "Jalebi 2 (11)\n",
      "Jalebi 2 (11)\n",
      "Jalebi 2 (110)\n",
      "Jalebi 2 (1100)\n",
      "Jalebi 2 (1101)\n",
      "Jalebi 2 (1102)\n",
      "Jalebi 2 (1103)\n",
      "Jalebi 2 (1104)\n"
     ]
    },
    {
     "name": "stderr",
     "output_type": "stream",
     "text": [
      "\r",
      " 54%|█████████████████████████████████████████▎                                   | 6243/11648 [01:19<01:05, 81.92it/s]"
     ]
    },
    {
     "name": "stdout",
     "output_type": "stream",
     "text": [
      "Jalebi 2 (1105)\n",
      "Jalebi 2 (1106)\n",
      "Jalebi 2 (1107)\n",
      "Jalebi 2 (1108)\n",
      "Jalebi 2 (1109)\n",
      "Jalebi 2 (111)\n",
      "Jalebi 2 (1110)\n",
      "Jalebi 2 (1111)\n",
      "Jalebi 2 (1112)\n",
      "Jalebi 2 (1113)\n",
      "Jalebi 2 (1114)\n",
      "Jalebi 2 (1115)\n"
     ]
    },
    {
     "name": "stderr",
     "output_type": "stream",
     "text": [
      "\r",
      " 54%|█████████████████████████████████████████▎                                   | 6255/11648 [01:19<01:04, 84.13it/s]"
     ]
    },
    {
     "name": "stdout",
     "output_type": "stream",
     "text": [
      "Jalebi 2 (1116)\n",
      "Jalebi 2 (1117)\n",
      "Jalebi 2 (1118)\n",
      "Jalebi 2 (1119)\n",
      "Jalebi 2 (112)\n",
      "Jalebi 2 (1120)\n",
      "Jalebi 2 (1121)\n",
      "Jalebi 2 (1122)\n",
      "Jalebi 2 (1123)\n",
      "Jalebi 2 (1124)\n",
      "Jalebi 2 (1125)\n"
     ]
    },
    {
     "name": "stderr",
     "output_type": "stream",
     "text": [
      "\r",
      " 54%|█████████████████████████████████████████▍                                   | 6266/11648 [01:19<01:02, 86.53it/s]"
     ]
    },
    {
     "name": "stdout",
     "output_type": "stream",
     "text": [
      "Jalebi 2 (1126)\n",
      "Jalebi 2 (1127)\n",
      "Jalebi 2 (1128)\n",
      "Jalebi 2 (1129)\n",
      "Jalebi 2 (113)\n",
      "Jalebi 2 (1130)\n",
      "Jalebi 2 (1131)\n",
      "Jalebi 2 (1132)\n",
      "Jalebi 2 (1133)\n",
      "Jalebi 2 (1134)\n",
      "Jalebi 2 (1135)\n"
     ]
    },
    {
     "name": "stderr",
     "output_type": "stream",
     "text": [
      "\r",
      " 54%|█████████████████████████████████████████▍                                   | 6277/11648 [01:19<01:04, 83.29it/s]"
     ]
    },
    {
     "name": "stdout",
     "output_type": "stream",
     "text": [
      "Jalebi 2 (1136)\n",
      "Jalebi 2 (1137)\n",
      "Jalebi 2 (1138)\n",
      "Jalebi 2 (1139)\n",
      "Jalebi 2 (114)\n",
      "Jalebi 2 (1140)\n",
      "Jalebi 2 (1141)\n",
      "Jalebi 2 (1142)\n",
      "Jalebi 2 (1143)\n",
      "Jalebi 2 (1144)\n"
     ]
    },
    {
     "name": "stderr",
     "output_type": "stream",
     "text": [
      "\r",
      " 54%|█████████████████████████████████████████▌                                   | 6287/11648 [01:19<01:04, 83.36it/s]"
     ]
    },
    {
     "name": "stdout",
     "output_type": "stream",
     "text": [
      "Jalebi 2 (1145)\n",
      "Jalebi 2 (1146)\n",
      "Jalebi 2 (1147)\n",
      "Jalebi 2 (1148)\n",
      "Jalebi 2 (1149)\n",
      "Jalebi 2 (115)\n",
      "Jalebi 2 (1150)\n",
      "Jalebi 2 (1151)\n",
      "Jalebi 2 (1152)\n",
      "Jalebi 2 (1153)\n"
     ]
    },
    {
     "name": "stderr",
     "output_type": "stream",
     "text": [
      "\r",
      " 54%|█████████████████████████████████████████▋                                   | 6297/11648 [01:20<01:05, 81.79it/s]"
     ]
    },
    {
     "name": "stdout",
     "output_type": "stream",
     "text": [
      "Jalebi 2 (1154)\n",
      "Jalebi 2 (1155)\n",
      "Jalebi 2 (1156)\n",
      "Jalebi 2 (1157)\n",
      "Jalebi 2 (1158)\n",
      "Jalebi 2 (1159)\n",
      "Jalebi 2 (116)\n",
      "Jalebi 2 (1160)\n",
      "Jalebi 2 (1161)\n"
     ]
    },
    {
     "name": "stderr",
     "output_type": "stream",
     "text": [
      "\r",
      " 54%|█████████████████████████████████████████▋                                   | 6306/11648 [01:20<01:04, 83.45it/s]"
     ]
    },
    {
     "name": "stdout",
     "output_type": "stream",
     "text": [
      "Jalebi 2 (1162)\n",
      "Jalebi 2 (1163)\n",
      "Jalebi 2 (1164)\n",
      "Jalebi 2 (1165)\n",
      "Jalebi 2 (1166)\n",
      "Jalebi 2 (1167)\n",
      "Jalebi 2 (1168)\n",
      "Jalebi 2 (1169)\n",
      "Jalebi 2 (117)\n",
      "Jalebi 2 (1170)\n"
     ]
    },
    {
     "name": "stderr",
     "output_type": "stream",
     "text": [
      "\r",
      " 54%|█████████████████████████████████████████▊                                   | 6316/11648 [01:20<01:01, 86.06it/s]"
     ]
    },
    {
     "name": "stdout",
     "output_type": "stream",
     "text": [
      "Jalebi 2 (1171)\n",
      "Jalebi 2 (1172)\n",
      "Jalebi 2 (1173)\n",
      "Jalebi 2 (1174)\n",
      "Jalebi 2 (1175)\n",
      "Jalebi 2 (1176)\n",
      "Jalebi 2 (1177)\n",
      "Jalebi 2 (1178)\n",
      "Jalebi 2 (1179)\n",
      "Jalebi 2 (118)\n",
      "Jalebi 2 (1180)\n"
     ]
    },
    {
     "name": "stderr",
     "output_type": "stream",
     "text": [
      "\r",
      " 54%|█████████████████████████████████████████▊                                   | 6327/11648 [01:20<00:58, 91.22it/s]"
     ]
    },
    {
     "name": "stdout",
     "output_type": "stream",
     "text": [
      "Jalebi 2 (1181)\n",
      "Jalebi 2 (1182)\n",
      "Jalebi 2 (1183)\n",
      "Jalebi 2 (1184)\n",
      "Jalebi 2 (1185)\n",
      "Jalebi 2 (1186)\n",
      "Jalebi 2 (1187)\n",
      "Jalebi 2 (1188)\n",
      "Jalebi 2 (1189)\n",
      "Jalebi 2 (119)\n",
      "Jalebi 2 (1190)\n",
      "Jalebi 2 (1191)\n",
      "Jalebi 2 (1192)\n",
      "Jalebi 2 (1193)\n",
      "Jalebi 2 (1194)\n",
      "Jalebi 2 (1195)\n",
      "Jalebi 2 (1196)\n",
      "Jalebi 2 (1197)\n"
     ]
    },
    {
     "name": "stderr",
     "output_type": "stream",
     "text": [
      "\r",
      " 54%|█████████████████████████████████████████▍                                  | 6345/11648 [01:20<00:49, 106.55it/s]"
     ]
    },
    {
     "name": "stdout",
     "output_type": "stream",
     "text": [
      "Jalebi 2 (1198)\n",
      "Jalebi 2 (1199)\n",
      "Jalebi 2 (12)\n",
      "Jalebi 2 (12)\n",
      "Jalebi 2 (12)\n",
      "Jalebi 2 (120)\n",
      "Jalebi 2 (1200)\n",
      "Jalebi 2 (1201)\n",
      "Jalebi 2 (1202)\n",
      "Jalebi 2 (1203)\n",
      "Jalebi 2 (1204)\n",
      "Jalebi 2 (1205)\n"
     ]
    },
    {
     "name": "stderr",
     "output_type": "stream",
     "text": [
      "\r",
      " 55%|██████████████████████████████████████████                                   | 6357/11648 [01:20<00:56, 93.38it/s]"
     ]
    },
    {
     "name": "stdout",
     "output_type": "stream",
     "text": [
      "Jalebi 2 (1206)\n",
      "Jalebi 2 (1207)\n",
      "Jalebi 2 (1208)\n",
      "Jalebi 2 (1209)\n",
      "Jalebi 2 (121)\n",
      "Jalebi 2 (1210)\n",
      "Jalebi 2 (1211)\n",
      "Jalebi 2 (1212)\n",
      "Jalebi 2 (1213)\n",
      "Jalebi 2 (1214)\n",
      "Jalebi 2 (1215)\n",
      "Jalebi 2 (1216)\n",
      "Jalebi 2 (1217)\n",
      "Jalebi 2 (1218)\n",
      "Jalebi 2 (1219)\n"
     ]
    },
    {
     "name": "stderr",
     "output_type": "stream",
     "text": [
      "\r",
      " 55%|█████████████████████████████████████████▌                                  | 6372/11648 [01:20<00:50, 104.49it/s]"
     ]
    },
    {
     "name": "stdout",
     "output_type": "stream",
     "text": [
      "Jalebi 2 (122)\n",
      "Jalebi 2 (1220)\n",
      "Jalebi 2 (1221)\n",
      "Jalebi 2 (1222)\n",
      "Jalebi 2 (1223)\n",
      "Jalebi 2 (1224)\n",
      "Jalebi 2 (1225)\n",
      "Jalebi 2 (1226)\n",
      "Jalebi 2 (1227)\n",
      "Jalebi 2 (1228)\n",
      "Jalebi 2 (1229)\n",
      "Jalebi 2 (123)\n"
     ]
    },
    {
     "name": "stderr",
     "output_type": "stream",
     "text": [
      "\r",
      " 55%|██████████████████████████████████████████▏                                  | 6384/11648 [01:20<00:52, 99.60it/s]"
     ]
    },
    {
     "name": "stdout",
     "output_type": "stream",
     "text": [
      "Jalebi 2 (1230)\n",
      "Jalebi 2 (1231)\n",
      "Jalebi 2 (1232)\n",
      "Jalebi 2 (1233)\n",
      "Jalebi 2 (1234)\n",
      "Jalebi 2 (1235)\n",
      "Jalebi 2 (1236)\n",
      "Jalebi 2 (1237)\n",
      "Jalebi 2 (1238)\n",
      "Jalebi 2 (1239)\n",
      "Jalebi 2 (124)\n"
     ]
    },
    {
     "name": "stderr",
     "output_type": "stream",
     "text": [
      "\r",
      " 55%|██████████████████████████████████████████▎                                  | 6395/11648 [01:21<00:53, 97.68it/s]"
     ]
    },
    {
     "name": "stdout",
     "output_type": "stream",
     "text": [
      "Jalebi 2 (1240)\n",
      "Jalebi 2 (1241)\n",
      "Jalebi 2 (1242)\n",
      "Jalebi 2 (1243)\n",
      "Jalebi 2 (1244)\n",
      "Jalebi 2 (1245)\n",
      "Jalebi 2 (1246)\n",
      "Jalebi 2 (1247)\n",
      "Jalebi 2 (1248)\n",
      "Jalebi 2 (1249)\n",
      "Jalebi 2 (125)\n",
      "Jalebi 2 (1250)\n",
      "Jalebi 2 (1251)\n",
      "Jalebi 2 (1252)\n"
     ]
    },
    {
     "name": "stderr",
     "output_type": "stream",
     "text": [
      "\r",
      " 55%|█████████████████████████████████████████▊                                  | 6409/11648 [01:21<00:48, 106.99it/s]"
     ]
    },
    {
     "name": "stdout",
     "output_type": "stream",
     "text": [
      "Jalebi 2 (1253)\n",
      "Jalebi 2 (1254)\n",
      "Jalebi 2 (1255)\n",
      "Jalebi 2 (1256)\n",
      "Jalebi 2 (1257)\n",
      "Jalebi 2 (1258)\n",
      "Jalebi 2 (1259)\n",
      "Jalebi 2 (126)\n",
      "Jalebi 2 (1260)\n",
      "Jalebi 2 (1261)\n",
      "Jalebi 2 (1262)\n",
      "Jalebi 2 (1263)\n",
      "Jalebi 2 (1264)\n",
      "Jalebi 2 (1265)\n",
      "Jalebi 2 (1266)\n",
      "Jalebi 2 (1267)\n"
     ]
    },
    {
     "name": "stderr",
     "output_type": "stream",
     "text": [
      "\r",
      " 55%|█████████████████████████████████████████▉                                  | 6425/11648 [01:21<00:44, 118.61it/s]"
     ]
    },
    {
     "name": "stdout",
     "output_type": "stream",
     "text": [
      "Jalebi 2 (1268)\n",
      "Jalebi 2 (1269)\n",
      "Jalebi 2 (127)\n",
      "Jalebi 2 (1270)\n",
      "Jalebi 2 (1271)\n",
      "Jalebi 2 (1272)\n",
      "Jalebi 2 (1273)\n",
      "Jalebi 2 (1274)\n",
      "Jalebi 2 (1275)\n",
      "Jalebi 2 (1276)\n",
      "Jalebi 2 (1277)\n",
      "Jalebi 2 (1278)\n",
      "Jalebi 2 (1279)\n"
     ]
    },
    {
     "name": "stderr",
     "output_type": "stream",
     "text": [
      "\r",
      " 55%|██████████████████████████████████████████                                  | 6438/11648 [01:21<00:43, 118.90it/s]"
     ]
    },
    {
     "name": "stdout",
     "output_type": "stream",
     "text": [
      "Jalebi 2 (128)\n",
      "Jalebi 2 (1280)\n",
      "Jalebi 2 (1281)\n",
      "Jalebi 2 (1282)\n",
      "Jalebi 2 (1283)\n",
      "Jalebi 2 (1284)\n",
      "Jalebi 2 (1285)\n",
      "Jalebi 2 (1286)\n",
      "Jalebi 2 (1287)\n",
      "Jalebi 2 (1288)\n",
      "Jalebi 2 (1289)\n",
      "Jalebi 2 (129)\n",
      "Jalebi 2 (1290)\n"
     ]
    },
    {
     "name": "stderr",
     "output_type": "stream",
     "text": [
      "\r",
      " 55%|██████████████████████████████████████████                                  | 6451/11648 [01:21<00:45, 115.01it/s]"
     ]
    },
    {
     "name": "stdout",
     "output_type": "stream",
     "text": [
      "Jalebi 2 (1291)\n",
      "Jalebi 2 (1292)\n",
      "Jalebi 2 (1293)\n",
      "Jalebi 2 (1294)\n",
      "Jalebi 2 (1295)\n",
      "Jalebi 2 (1296)\n",
      "Jalebi 2 (1297)\n",
      "Jalebi 2 (1298)\n",
      "Jalebi 2 (1299)\n",
      "Jalebi 2 (13)\n",
      "Jalebi 2 (13)\n",
      "Jalebi 2 (13)\n"
     ]
    },
    {
     "name": "stderr",
     "output_type": "stream",
     "text": [
      "\r",
      " 55%|██████████████████████████████████████████▋                                  | 6463/11648 [01:21<00:57, 90.72it/s]"
     ]
    },
    {
     "name": "stdout",
     "output_type": "stream",
     "text": [
      "Jalebi 2 (130)\n",
      "Jalebi 2 (1300)\n",
      "Jalebi 2 (1301)\n",
      "Jalebi 2 (1302)\n",
      "Jalebi 2 (1303)\n",
      "Jalebi 2 (1304)\n",
      "Jalebi 2 (1305)\n",
      "Jalebi 2 (1306)\n",
      "Jalebi 2 (1307)\n",
      "Jalebi 2 (1308)\n",
      "Jalebi 2 (1309)\n",
      "Jalebi 2 (131)\n",
      "Jalebi 2 (1310)\n"
     ]
    },
    {
     "name": "stderr",
     "output_type": "stream",
     "text": [
      "\r",
      " 56%|██████████████████████████████████████████▊                                  | 6476/11648 [01:21<00:52, 98.91it/s]"
     ]
    },
    {
     "name": "stdout",
     "output_type": "stream",
     "text": [
      "Jalebi 2 (1311)\n",
      "Jalebi 2 (1312)\n",
      "Jalebi 2 (1313)\n",
      "Jalebi 2 (1314)\n",
      "Jalebi 2 (1315)\n",
      "Jalebi 2 (1316)\n",
      "Jalebi 2 (1317)\n",
      "Jalebi 2 (1318)\n",
      "Jalebi 2 (1319)\n",
      "Jalebi 2 (132)\n",
      "Jalebi 2 (1320)\n",
      "Jalebi 2 (1321)\n",
      "Jalebi 2 (1322)\n",
      "Jalebi 2 (1323)\n",
      "Jalebi 2 (1324)\n"
     ]
    },
    {
     "name": "stderr",
     "output_type": "stream",
     "text": [
      "\r",
      " 56%|██████████████████████████████████████████▎                                 | 6491/11648 [01:21<00:47, 109.51it/s]"
     ]
    },
    {
     "name": "stdout",
     "output_type": "stream",
     "text": [
      "Jalebi 2 (1325)\n",
      "Jalebi 2 (1326)\n",
      "Jalebi 2 (1327)\n",
      "Jalebi 2 (1328)\n",
      "Jalebi 2 (1329)\n",
      "Jalebi 2 (133)\n",
      "Jalebi 2 (1330)\n",
      "Jalebi 2 (1331)\n",
      "Jalebi 2 (1332)\n",
      "Jalebi 2 (1333)\n",
      "Jalebi 2 (1334)\n",
      "Jalebi 2 (1335)\n",
      "Jalebi 2 (1336)\n",
      "Jalebi 2 (1337)\n",
      "Jalebi 2 (1338)\n",
      "Jalebi 2 (1339)\n",
      "Jalebi 2 (134)\n"
     ]
    },
    {
     "name": "stderr",
     "output_type": "stream",
     "text": [
      "\r",
      " 56%|██████████████████████████████████████████▍                                 | 6508/11648 [01:21<00:42, 122.14it/s]"
     ]
    },
    {
     "name": "stdout",
     "output_type": "stream",
     "text": [
      "Jalebi 2 (1340)\n",
      "Jalebi 2 (1341)\n",
      "Jalebi 2 (1342)\n",
      "Jalebi 2 (1343)\n",
      "Jalebi 2 (1344)\n",
      "Jalebi 2 (1345)\n",
      "Jalebi 2 (1346)\n",
      "Jalebi 2 (1347)\n",
      "Jalebi 2 (1348)\n",
      "Jalebi 2 (1349)\n",
      "Jalebi 2 (135)\n",
      "Jalebi 2 (1350)\n",
      "Jalebi 2 (1351)\n",
      "Jalebi 2 (1352)\n"
     ]
    },
    {
     "name": "stderr",
     "output_type": "stream",
     "text": [
      "\r",
      " 56%|██████████████████████████████████████████▌                                 | 6522/11648 [01:22<00:42, 121.17it/s]"
     ]
    },
    {
     "name": "stdout",
     "output_type": "stream",
     "text": [
      "Jalebi 2 (1353)\n",
      "Jalebi 2 (1354)\n",
      "Jalebi 2 (1355)\n",
      "Jalebi 2 (1356)\n",
      "Jalebi 2 (1357)\n",
      "Jalebi 2 (1358)\n",
      "Jalebi 2 (1359)\n",
      "Jalebi 2 (136)\n",
      "Jalebi 2 (1360)\n",
      "Jalebi 2 (1361)\n",
      "Jalebi 2 (1362)\n",
      "Jalebi 2 (1363)\n",
      "Jalebi 2 (1364)\n",
      "Jalebi 2 (1365)\n",
      "Jalebi 2 (1366)\n",
      "Jalebi 2 (1367)\n"
     ]
    },
    {
     "name": "stderr",
     "output_type": "stream",
     "text": [
      "\r",
      " 56%|██████████████████████████████████████████▋                                 | 6538/11648 [01:22<00:39, 129.19it/s]"
     ]
    },
    {
     "name": "stdout",
     "output_type": "stream",
     "text": [
      "Jalebi 2 (1368)\n",
      "Jalebi 2 (1369)\n",
      "Jalebi 2 (137)\n",
      "Jalebi 2 (1370)\n",
      "Jalebi 2 (1371)\n",
      "Jalebi 2 (1372)\n",
      "Jalebi 2 (1373)\n",
      "Jalebi 2 (1374)\n",
      "Jalebi 2 (1375)\n",
      "Jalebi 2 (1376)\n",
      "Jalebi 2 (1377)\n",
      "Jalebi 2 (1378)\n",
      "Jalebi 2 (1379)\n",
      "Jalebi 2 (138)\n",
      "Jalebi 2 (1380)\n"
     ]
    },
    {
     "name": "stderr",
     "output_type": "stream",
     "text": [
      "\r",
      " 56%|██████████████████████████████████████████▊                                 | 6553/11648 [01:22<00:38, 133.46it/s]"
     ]
    },
    {
     "name": "stdout",
     "output_type": "stream",
     "text": [
      "Jalebi 2 (1381)\n",
      "Jalebi 2 (1382)\n",
      "Jalebi 2 (1383)\n",
      "Jalebi 2 (1384)\n",
      "Jalebi 2 (1385)\n",
      "Jalebi 2 (1386)\n",
      "Jalebi 2 (1387)\n",
      "Jalebi 2 (1388)\n",
      "Jalebi 2 (1389)\n",
      "Jalebi 2 (139)\n",
      "Jalebi 2 (1390)\n",
      "Jalebi 2 (1391)\n",
      "Jalebi 2 (1392)\n",
      "Jalebi 2 (1393)\n",
      "Jalebi 2 (1394)\n",
      "Jalebi 2 (1395)\n",
      "Jalebi 2 (1396)\n",
      "Jalebi 2 (1397)\n",
      "Jalebi 2 (1398)\n",
      "Jalebi 2 (1399)\n"
     ]
    },
    {
     "name": "stderr",
     "output_type": "stream",
     "text": [
      "\r",
      " 56%|██████████████████████████████████████████▉                                 | 6573/11648 [01:22<00:34, 147.04it/s]"
     ]
    },
    {
     "name": "stdout",
     "output_type": "stream",
     "text": [
      "Jalebi 2 (14)\n",
      "Jalebi 2 (14)\n",
      "Jalebi 2 (14)\n",
      "Jalebi 2 (140)\n",
      "Jalebi 2 (1400)\n",
      "Jalebi 2 (1401)\n",
      "Jalebi 2 (1402)\n",
      "Jalebi 2 (1403)\n",
      "Jalebi 2 (1404)\n",
      "Jalebi 2 (1405)\n",
      "Jalebi 2 (1406)\n",
      "Jalebi 2 (1407)\n",
      "Jalebi 2 (1408)\n",
      "Jalebi 2 (1409)\n",
      "Jalebi 2 (141)\n",
      "Jalebi 2 (1410)\n"
     ]
    },
    {
     "name": "stderr",
     "output_type": "stream",
     "text": [
      "\r",
      " 57%|██████████████████████████████████████████▉                                 | 6589/11648 [01:22<00:40, 124.78it/s]"
     ]
    },
    {
     "name": "stdout",
     "output_type": "stream",
     "text": [
      "Jalebi 2 (1411)\n",
      "Jalebi 2 (1412)\n",
      "Jalebi 2 (1413)\n",
      "Jalebi 2 (1414)\n",
      "Jalebi 2 (1415)\n",
      "Jalebi 2 (1416)\n",
      "Jalebi 2 (1417)\n",
      "Jalebi 2 (1418)\n",
      "Jalebi 2 (1419)\n",
      "Jalebi 2 (142)\n",
      "Jalebi 2 (1420)\n",
      "Jalebi 2 (1421)\n",
      "Jalebi 2 (1422)\n",
      "Jalebi 2 (1423)\n",
      "Jalebi 2 (1424)\n",
      "Jalebi 2 (1425)\n",
      "Jalebi 2 (1426)\n",
      "Jalebi 2 (1427)\n",
      "Jalebi 2 (1428)\n",
      "Jalebi 2 (1429)\n"
     ]
    },
    {
     "name": "stderr",
     "output_type": "stream",
     "text": [
      "\r",
      " 57%|███████████████████████████████████████████                                 | 6609/11648 [01:22<00:35, 140.43it/s]"
     ]
    },
    {
     "name": "stdout",
     "output_type": "stream",
     "text": [
      "Jalebi 2 (143)\n",
      "Jalebi 2 (1430)\n",
      "Jalebi 2 (1431)\n",
      "Jalebi 2 (1432)\n",
      "Jalebi 2 (1433)\n",
      "Jalebi 2 (1434)\n",
      "Jalebi 2 (1435)\n",
      "Jalebi 2 (1436)\n",
      "Jalebi 2 (1437)\n",
      "Jalebi 2 (1438)\n",
      "Jalebi 2 (1439)\n",
      "Jalebi 2 (144)\n",
      "Jalebi 2 (1440)\n",
      "Jalebi 2 (1441)\n",
      "Jalebi 2 (1442)\n",
      "Jalebi 2 (1443)\n",
      "Jalebi 2 (1444)\n",
      "Jalebi 2 (1445)\n",
      "Jalebi 2 (1446)\n"
     ]
    },
    {
     "name": "stderr",
     "output_type": "stream",
     "text": [
      "\r",
      " 57%|███████████████████████████████████████████▏                                | 6628/11648 [01:22<00:33, 150.29it/s]"
     ]
    },
    {
     "name": "stdout",
     "output_type": "stream",
     "text": [
      "Jalebi 2 (1447)\n",
      "Jalebi 2 (1448)\n",
      "Jalebi 2 (1449)\n",
      "Jalebi 2 (145)\n",
      "Jalebi 2 (1450)\n",
      "Jalebi 2 (1451)\n",
      "Jalebi 2 (1452)\n",
      "Jalebi 2 (1453)\n",
      "Jalebi 2 (1454)\n",
      "Jalebi 2 (1455)\n",
      "Jalebi 2 (1456)\n",
      "Jalebi 2 (1457)\n",
      "Jalebi 2 (1458)\n",
      "Jalebi 2 (1459)\n",
      "Jalebi 2 (146)\n",
      "Jalebi 2 (1460)\n",
      "Jalebi 2 (1461)\n",
      "Jalebi 2 (1462)\n",
      "Jalebi 2 (1463)\n"
     ]
    },
    {
     "name": "stderr",
     "output_type": "stream",
     "text": [
      "\r",
      " 57%|███████████████████████████████████████████▎                                | 6647/11648 [01:22<00:31, 159.24it/s]"
     ]
    },
    {
     "name": "stdout",
     "output_type": "stream",
     "text": [
      "Jalebi 2 (1464)\n",
      "Jalebi 2 (1465)\n",
      "Jalebi 2 (1466)\n",
      "Jalebi 2 (1467)\n",
      "Jalebi 2 (1468)\n",
      "Jalebi 2 (1469)\n",
      "Jalebi 2 (147)\n",
      "Jalebi 2 (1470)\n",
      "Jalebi 2 (1471)\n",
      "Jalebi 2 (1472)\n",
      "Jalebi 2 (1473)\n",
      "Jalebi 2 (1474)\n",
      "Jalebi 2 (1475)\n",
      "Jalebi 2 (1476)\n",
      "Jalebi 2 (1477)\n",
      "Jalebi 2 (1478)\n",
      "Jalebi 2 (1479)\n",
      "Jalebi 2 (148)\n",
      "Jalebi 2 (1480)\n",
      "Jalebi 2 (1481)\n"
     ]
    },
    {
     "name": "stderr",
     "output_type": "stream",
     "text": [
      "\r",
      " 57%|███████████████████████████████████████████▌                                | 6667/11648 [01:22<00:29, 168.44it/s]"
     ]
    },
    {
     "name": "stdout",
     "output_type": "stream",
     "text": [
      "Jalebi 2 (1482)\n",
      "Jalebi 2 (1483)\n",
      "Jalebi 2 (1484)\n",
      "Jalebi 2 (1485)\n",
      "Jalebi 2 (1486)\n",
      "Jalebi 2 (1487)\n",
      "Jalebi 2 (1488)\n",
      "Jalebi 2 (1489)\n",
      "Jalebi 2 (149)\n",
      "Jalebi 2 (1490)\n",
      "Jalebi 2 (1491)\n",
      "Jalebi 2 (1492)\n",
      "Jalebi 2 (1493)\n",
      "Jalebi 2 (1494)\n",
      "Jalebi 2 (1495)\n",
      "Jalebi 2 (1496)\n",
      "Jalebi 2 (1497)\n",
      "Jalebi 2 (1498)\n",
      "Jalebi 2 (1499)\n",
      "Jalebi 2 (15)\n",
      "Jalebi 2 (15)\n"
     ]
    },
    {
     "name": "stderr",
     "output_type": "stream",
     "text": [
      "\r",
      " 57%|███████████████████████████████████████████▋                                | 6688/11648 [01:23<00:31, 157.13it/s]"
     ]
    },
    {
     "name": "stdout",
     "output_type": "stream",
     "text": [
      "Jalebi 2 (15)\n",
      "Jalebi 2 (150)\n",
      "Jalebi 2 (1500)\n",
      "Jalebi 2 (1501)\n",
      "Jalebi 2 (1502)\n",
      "Jalebi 2 (1503)\n",
      "Jalebi 2 (1504)\n",
      "Jalebi 2 (1505)\n",
      "Jalebi 2 (1506)\n",
      "Jalebi 2 (1507)\n",
      "Jalebi 2 (1508)\n",
      "Jalebi 2 (1509)\n",
      "Jalebi 2 (151)\n",
      "Jalebi 2 (1510)\n",
      "Jalebi 2 (1511)\n",
      "Jalebi 2 (1512)\n",
      "Jalebi 2 (1513)\n"
     ]
    },
    {
     "name": "stderr",
     "output_type": "stream",
     "text": [
      "\r",
      " 58%|███████████████████████████████████████████▋                                | 6705/11648 [01:23<00:32, 153.93it/s]"
     ]
    },
    {
     "name": "stdout",
     "output_type": "stream",
     "text": [
      "Jalebi 2 (1514)\n",
      "Jalebi 2 (1515)\n",
      "Jalebi 2 (1516)\n",
      "Jalebi 2 (1517)\n",
      "Jalebi 2 (1518)\n",
      "Jalebi 2 (1519)\n",
      "Jalebi 2 (152)\n",
      "Jalebi 2 (1520)\n",
      "Jalebi 2 (1521)\n",
      "Jalebi 2 (1522)\n",
      "Jalebi 2 (1523)\n",
      "Jalebi 2 (1524)\n",
      "Jalebi 2 (1525)\n",
      "Jalebi 2 (1526)\n",
      "Jalebi 2 (1527)\n",
      "Jalebi 2 (1528)\n"
     ]
    },
    {
     "name": "stderr",
     "output_type": "stream",
     "text": [
      "\r",
      " 58%|███████████████████████████████████████████▊                                | 6721/11648 [01:23<00:33, 145.64it/s]"
     ]
    },
    {
     "name": "stdout",
     "output_type": "stream",
     "text": [
      "Jalebi 2 (1529)\n",
      "Jalebi 2 (153)\n",
      "Jalebi 2 (1530)\n",
      "Jalebi 2 (1531)\n",
      "Jalebi 2 (1532)\n",
      "Jalebi 2 (1533)\n",
      "Jalebi 2 (1534)\n",
      "Jalebi 2 (1535)\n",
      "Jalebi 2 (1536)\n",
      "Jalebi 2 (1537)\n",
      "Jalebi 2 (1538)\n",
      "Jalebi 2 (1539)\n",
      "Jalebi 2 (154)\n",
      "Jalebi 2 (1540)\n",
      "Jalebi 2 (1541)\n",
      "Jalebi 2 (1542)\n",
      "Jalebi 2 (1543)\n",
      "Jalebi 2 (1544)\n",
      "Jalebi 2 (1545)\n"
     ]
    },
    {
     "name": "stderr",
     "output_type": "stream",
     "text": [
      "\r",
      " 58%|███████████████████████████████████████████▉                                | 6740/11648 [01:23<00:31, 155.18it/s]"
     ]
    },
    {
     "name": "stdout",
     "output_type": "stream",
     "text": [
      "Jalebi 2 (1546)\n",
      "Jalebi 2 (1547)\n",
      "Jalebi 2 (1548)\n",
      "Jalebi 2 (1549)\n",
      "Jalebi 2 (155)\n",
      "Jalebi 2 (1550)\n",
      "Jalebi 2 (1551)\n",
      "Jalebi 2 (1552)\n",
      "Jalebi 2 (1553)\n",
      "Jalebi 2 (1554)\n",
      "Jalebi 2 (1555)\n",
      "Jalebi 2 (1556)\n",
      "Jalebi 2 (1557)\n",
      "Jalebi 2 (1558)\n",
      "Jalebi 2 (1559)\n",
      "Jalebi 2 (156)\n",
      "Jalebi 2 (1560)\n"
     ]
    },
    {
     "name": "stderr",
     "output_type": "stream",
     "text": [
      "\r",
      " 58%|████████████████████████████████████████████                                | 6757/11648 [01:23<00:42, 113.80it/s]"
     ]
    },
    {
     "name": "stdout",
     "output_type": "stream",
     "text": [
      "Jalebi 2 (1561)\n",
      "Jalebi 2 (1562)\n",
      "Jalebi 2 (1563)\n",
      "Jalebi 2 (1564)\n",
      "Jalebi 2 (1565)\n",
      "Jalebi 2 (1566)\n",
      "Jalebi 2 (1567)\n",
      "Jalebi 2 (1568)\n",
      "Jalebi 2 (1569)\n",
      "Jalebi 2 (157)\n",
      "Jalebi 2 (1570)\n",
      "Jalebi 2 (1571)\n",
      "Jalebi 2 (1572)\n",
      "Jalebi 2 (1573)\n",
      "Jalebi 2 (1574)\n",
      "Jalebi 2 (1575)\n",
      "Jalebi 2 (1576)\n",
      "Jalebi 2 (1577)\n",
      "Jalebi 2 (1578)\n",
      "Jalebi 2 (1579)\n",
      "Jalebi 2 (158)\n",
      "Jalebi 2 (1580)\n",
      "Jalebi 2 (1581)\n",
      "Jalebi 2 (1582)\n"
     ]
    },
    {
     "name": "stderr",
     "output_type": "stream",
     "text": [
      "\r",
      " 58%|████████████████████████████████████████████▏                               | 6781/11648 [01:23<00:36, 134.94it/s]"
     ]
    },
    {
     "name": "stdout",
     "output_type": "stream",
     "text": [
      "Jalebi 2 (1583)\n",
      "Jalebi 2 (1584)\n",
      "Jalebi 2 (1585)\n",
      "Jalebi 2 (1586)\n",
      "Jalebi 2 (1587)\n",
      "Jalebi 2 (1588)\n",
      "Jalebi 2 (1589)\n",
      "Jalebi 2 (159)\n",
      "Jalebi 2 (1590)\n",
      "Jalebi 2 (1591)\n",
      "Jalebi 2 (1592)\n",
      "Jalebi 2 (1593)\n",
      "Jalebi 2 (1594)\n",
      "Jalebi 2 (1595)\n",
      "Jalebi 2 (1596)\n",
      "Jalebi 2 (1597)\n",
      "Jalebi 2 (1598)\n",
      "Jalebi 2 (1599)\n",
      "Jalebi 2 (16)\n",
      "Jalebi 2 (16)\n"
     ]
    },
    {
     "name": "stderr",
     "output_type": "stream",
     "text": [
      "\r",
      " 58%|████████████████████████████████████████████▎                               | 6801/11648 [01:23<00:33, 146.35it/s]"
     ]
    },
    {
     "name": "stdout",
     "output_type": "stream",
     "text": [
      "Jalebi 2 (16)\n",
      "Jalebi 2 (160)\n",
      "Jalebi 2 (1600)\n",
      "Jalebi 2 (1601)\n",
      "Jalebi 2 (1602)\n",
      "Jalebi 2 (1603)\n",
      "Jalebi 2 (1604)\n",
      "Jalebi 2 (1605)\n",
      "Jalebi 2 (1606)\n",
      "Jalebi 2 (1607)\n",
      "Jalebi 2 (1608)\n",
      "Jalebi 2 (1609)\n",
      "Jalebi 2 (161)\n",
      "Jalebi 2 (1610)\n",
      "Jalebi 2 (1611)\n",
      "Jalebi 2 (1612)\n",
      "Jalebi 2 (1613)\n"
     ]
    },
    {
     "name": "stderr",
     "output_type": "stream",
     "text": [
      "\r",
      " 59%|████████████████████████████████████████████▍                               | 6818/11648 [01:24<00:41, 115.07it/s]"
     ]
    },
    {
     "name": "stdout",
     "output_type": "stream",
     "text": [
      "Jalebi 2 (1614)\n",
      "Jalebi 2 (1615)\n",
      "Jalebi 2 (1616)\n",
      "Jalebi 2 (1617)\n",
      "Jalebi 2 (1618)\n",
      "Jalebi 2 (1619)\n",
      "Jalebi 2 (162)\n",
      "Jalebi 2 (1620)\n",
      "Jalebi 2 (1621)\n",
      "Jalebi 2 (1622)\n",
      "Jalebi 2 (1623)\n",
      "Jalebi 2 (1624)\n",
      "Jalebi 2 (1625)\n",
      "Jalebi 2 (1626)\n",
      "Jalebi 2 (1627)\n"
     ]
    },
    {
     "name": "stderr",
     "output_type": "stream",
     "text": [
      "\r",
      " 59%|█████████████████████████████████████████████▏                               | 6833/11648 [01:24<00:54, 88.58it/s]"
     ]
    },
    {
     "name": "stdout",
     "output_type": "stream",
     "text": [
      "Jalebi 2 (1628)\n",
      "Jalebi 2 (1629)\n",
      "Jalebi 2 (163)\n",
      "Jalebi 2 (1630)\n",
      "Jalebi 2 (1631)\n",
      "Jalebi 2 (1632)\n",
      "Jalebi 2 (1633)\n",
      "Jalebi 2 (1634)\n",
      "Jalebi 2 (1635)\n",
      "Jalebi 2 (1636)\n",
      "Jalebi 2 (1637)\n",
      "Jalebi 2 (1638)\n"
     ]
    },
    {
     "name": "stderr",
     "output_type": "stream",
     "text": [
      "\r",
      " 59%|█████████████████████████████████████████████▏                               | 6845/11648 [01:24<01:10, 67.75it/s]"
     ]
    },
    {
     "name": "stdout",
     "output_type": "stream",
     "text": [
      "Jalebi 2 (1639)\n",
      "Jalebi 2 (164)\n",
      "Jalebi 2 (1640)\n",
      "Jalebi 2 (1641)\n",
      "Jalebi 2 (1642)\n",
      "Jalebi 2 (1643)\n",
      "Jalebi 2 (1644)\n",
      "Jalebi 2 (1645)\n",
      "Jalebi 2 (1646)\n",
      "Jalebi 2 (1647)\n"
     ]
    },
    {
     "name": "stderr",
     "output_type": "stream",
     "text": [
      "\r",
      " 59%|█████████████████████████████████████████████▎                               | 6855/11648 [01:25<01:43, 46.27it/s]"
     ]
    },
    {
     "name": "stdout",
     "output_type": "stream",
     "text": [
      "Jalebi 2 (1648)\n",
      "Jalebi 2 (1649)\n",
      "Jalebi 2 (165)\n",
      "Jalebi 2 (1650)\n",
      "Jalebi 2 (1651)\n",
      "Jalebi 2 (1652)\n",
      "Jalebi 2 (1653)\n",
      "Jalebi 2 (1654)\n"
     ]
    },
    {
     "name": "stderr",
     "output_type": "stream",
     "text": [
      "\r",
      " 59%|█████████████████████████████████████████████▎                               | 6863/11648 [01:25<02:06, 37.69it/s]"
     ]
    },
    {
     "name": "stdout",
     "output_type": "stream",
     "text": [
      "Jalebi 2 (1655)\n",
      "Jalebi 2 (1656)\n",
      "Jalebi 2 (1657)\n",
      "Jalebi 2 (1658)\n",
      "Jalebi 2 (1659)\n",
      "Jalebi 2 (166)\n"
     ]
    },
    {
     "name": "stderr",
     "output_type": "stream",
     "text": [
      "\r",
      " 59%|█████████████████████████████████████████████▍                               | 6869/11648 [01:25<02:19, 34.37it/s]"
     ]
    },
    {
     "name": "stdout",
     "output_type": "stream",
     "text": [
      "Jalebi 2 (1660)\n",
      "Jalebi 2 (1661)\n",
      "Jalebi 2 (1662)\n",
      "Jalebi 2 (1663)\n",
      "Jalebi 2 (1664)\n",
      "Jalebi 2 (1665)\n"
     ]
    },
    {
     "name": "stderr",
     "output_type": "stream",
     "text": [
      "\r",
      " 59%|█████████████████████████████████████████████▍                               | 6875/11648 [01:25<02:14, 35.53it/s]"
     ]
    },
    {
     "name": "stdout",
     "output_type": "stream",
     "text": [
      "Jalebi 2 (1666)\n",
      "Jalebi 2 (1667)\n",
      "Jalebi 2 (1668)\n",
      "Jalebi 2 (1669)\n",
      "Jalebi 2 (167)\n",
      "Jalebi 2 (1670)\n",
      "Jalebi 2 (1671)\n",
      "Jalebi 2 (1672)\n",
      "Jalebi 2 (1673)\n",
      "Jalebi 2 (1674)\n",
      "Jalebi 2 (1675)\n",
      "Jalebi 2 (1676)\n",
      "Jalebi 2 (1677)\n",
      "Jalebi 2 (1678)\n",
      "Jalebi 2 (1679)\n"
     ]
    },
    {
     "name": "stderr",
     "output_type": "stream",
     "text": [
      "\r",
      " 59%|█████████████████████████████████████████████▌                               | 6890/11648 [01:25<01:45, 45.26it/s]"
     ]
    },
    {
     "name": "stdout",
     "output_type": "stream",
     "text": [
      "Jalebi 2 (168)\n",
      "Jalebi 2 (1680)\n",
      "Jalebi 2 (1681)\n",
      "Jalebi 2 (1682)\n",
      "Jalebi 2 (1683)\n",
      "Jalebi 2 (1684)\n",
      "Jalebi 2 (1685)\n",
      "Jalebi 2 (1686)\n"
     ]
    },
    {
     "name": "stderr",
     "output_type": "stream",
     "text": [
      "\r",
      " 59%|█████████████████████████████████████████████▌                               | 6898/11648 [01:25<01:37, 48.56it/s]"
     ]
    },
    {
     "name": "stdout",
     "output_type": "stream",
     "text": [
      "Jalebi 2 (1687)\n",
      "Jalebi 2 (1688)\n",
      "Jalebi 2 (1689)\n",
      "Jalebi 2 (169)\n",
      "Jalebi 2 (1690)\n",
      "Jalebi 2 (1691)\n",
      "Jalebi 2 (1692)\n",
      "Jalebi 2 (1693)\n",
      "Jalebi 2 (1694)\n",
      "Jalebi 2 (1695)\n",
      "Jalebi 2 (1696)\n",
      "Jalebi 2 (1697)\n",
      "Jalebi 2 (1698)\n",
      "Jalebi 2 (1699)\n",
      "Jalebi 2 (17)\n",
      "Jalebi 2 (17)\n"
     ]
    },
    {
     "name": "stderr",
     "output_type": "stream",
     "text": [
      "\r",
      " 59%|█████████████████████████████████████████████▋                               | 6914/11648 [01:26<01:18, 60.17it/s]"
     ]
    },
    {
     "name": "stdout",
     "output_type": "stream",
     "text": [
      "Jalebi 2 (17)\n",
      "Jalebi 2 (170)\n",
      "Jalebi 2 (1700)\n",
      "Jalebi 2 (1701)\n",
      "Jalebi 2 (1702)\n",
      "Jalebi 2 (1703)\n",
      "Jalebi 2 (1704)\n",
      "Jalebi 2 (1705)\n",
      "Jalebi 2 (1706)\n"
     ]
    },
    {
     "name": "stderr",
     "output_type": "stream",
     "text": [
      "\r",
      " 59%|█████████████████████████████████████████████▊                               | 6923/11648 [01:26<01:12, 65.26it/s]"
     ]
    },
    {
     "name": "stdout",
     "output_type": "stream",
     "text": [
      "Jalebi 2 (1707)\n",
      "Jalebi 2 (1708)\n",
      "Jalebi 2 (1709)\n",
      "Jalebi 2 (171)\n",
      "Jalebi 2 (1710)\n",
      "Jalebi 2 (1711)\n",
      "Jalebi 2 (1712)\n",
      "Jalebi 2 (1713)\n",
      "Jalebi 2 (1714)\n",
      "Jalebi 2 (1715)\n",
      "Jalebi 2 (1716)\n"
     ]
    },
    {
     "name": "stderr",
     "output_type": "stream",
     "text": [
      "\r",
      " 60%|█████████████████████████████████████████████▊                               | 6934/11648 [01:26<01:03, 74.22it/s]"
     ]
    },
    {
     "name": "stdout",
     "output_type": "stream",
     "text": [
      "Jalebi 2 (1717)\n",
      "Jalebi 2 (1718)\n",
      "Jalebi 2 (1719)\n",
      "Jalebi 2 (172)\n",
      "Jalebi 2 (1720)\n",
      "Jalebi 2 (1721)\n",
      "Jalebi 2 (1722)\n",
      "Jalebi 2 (1723)\n",
      "Jalebi 2 (1724)\n",
      "Jalebi 2 (1725)\n",
      "Jalebi 2 (1726)\n",
      "Jalebi 2 (1727)\n",
      "Jalebi 2 (1728)\n",
      "Jalebi 2 (1729)\n",
      "Jalebi 2 (173)\n",
      "Jalebi 2 (1730)\n",
      "Jalebi 2 (1731)\n",
      "Jalebi 2 (1732)\n"
     ]
    },
    {
     "name": "stderr",
     "output_type": "stream",
     "text": [
      "\r",
      " 60%|█████████████████████████████████████████████▉                               | 6952/11648 [01:26<00:52, 89.87it/s]"
     ]
    },
    {
     "name": "stdout",
     "output_type": "stream",
     "text": [
      "Jalebi 2 (1733)\n",
      "Jalebi 2 (1734)\n",
      "Jalebi 2 (1735)\n",
      "Jalebi 2 (1736)\n",
      "Jalebi 2 (1737)\n",
      "Jalebi 2 (1738)\n",
      "Jalebi 2 (1739)\n",
      "Jalebi 2 (174)\n",
      "Jalebi 2 (1740)\n",
      "Jalebi 2 (1741)\n",
      "Jalebi 2 (1742)\n",
      "Jalebi 2 (1743)\n",
      "Jalebi 2 (1744)\n",
      "Jalebi 2 (1745)\n"
     ]
    },
    {
     "name": "stderr",
     "output_type": "stream",
     "text": [
      "\r",
      " 60%|██████████████████████████████████████████████                               | 6966/11648 [01:26<00:48, 97.18it/s]"
     ]
    },
    {
     "name": "stdout",
     "output_type": "stream",
     "text": [
      "Jalebi 2 (1746)\n",
      "Jalebi 2 (1747)\n",
      "Jalebi 2 (1748)\n",
      "Jalebi 2 (1749)\n",
      "Jalebi 2 (175)\n",
      "Jalebi 2 (1750)\n",
      "Jalebi 2 (1751)\n",
      "Jalebi 2 (1752)\n",
      "Jalebi 2 (1753)\n",
      "Jalebi 2 (1754)\n",
      "Jalebi 2 (1755)\n",
      "Jalebi 2 (1756)\n"
     ]
    },
    {
     "name": "stderr",
     "output_type": "stream",
     "text": [
      "\r",
      " 60%|██████████████████████████████████████████████▏                              | 6978/11648 [01:26<00:51, 91.38it/s]"
     ]
    },
    {
     "name": "stdout",
     "output_type": "stream",
     "text": [
      "Jalebi 2 (1757)\n",
      "Jalebi 2 (1758)\n",
      "Jalebi 2 (1759)\n",
      "Jalebi 2 (176)\n",
      "Jalebi 2 (1760)\n",
      "Jalebi 2 (1761)\n",
      "Jalebi 2 (1762)\n",
      "Jalebi 2 (1763)\n",
      "Jalebi 2 (1764)\n",
      "Jalebi 2 (1765)\n",
      "Jalebi 2 (1766)\n"
     ]
    },
    {
     "name": "stderr",
     "output_type": "stream",
     "text": [
      "\r",
      " 60%|██████████████████████████████████████████████▏                              | 6989/11648 [01:26<00:50, 93.17it/s]"
     ]
    },
    {
     "name": "stdout",
     "output_type": "stream",
     "text": [
      "Jalebi 2 (1767)\n",
      "Jalebi 2 (1768)\n",
      "Jalebi 2 (1769)\n",
      "Jalebi 2 (177)\n",
      "Jalebi 2 (1770)\n",
      "Jalebi 2 (1771)\n",
      "Jalebi 2 (1772)\n",
      "Jalebi 2 (1773)\n",
      "Jalebi 2 (1774)\n",
      "Jalebi 2 (1775)\n",
      "Jalebi 2 (1776)\n"
     ]
    },
    {
     "name": "stderr",
     "output_type": "stream",
     "text": [
      "\r",
      " 60%|██████████████████████████████████████████████▎                              | 7000/11648 [01:26<00:48, 96.18it/s]"
     ]
    },
    {
     "name": "stdout",
     "output_type": "stream",
     "text": [
      "Jalebi 2 (1777)\n",
      "Jalebi 2 (1778)\n",
      "Jalebi 2 (1779)\n",
      "Jalebi 2 (178)\n",
      "Jalebi 2 (1780)\n",
      "Jalebi 2 (1781)\n",
      "Jalebi 2 (1782)\n",
      "Jalebi 2 (1783)\n",
      "Jalebi 2 (1784)\n",
      "Jalebi 2 (1785)\n",
      "Jalebi 2 (1786)\n"
     ]
    },
    {
     "name": "stderr",
     "output_type": "stream",
     "text": [
      "\r",
      " 60%|██████████████████████████████████████████████▎                              | 7011/11648 [01:27<00:50, 92.01it/s]"
     ]
    },
    {
     "name": "stdout",
     "output_type": "stream",
     "text": [
      "Jalebi 2 (1787)\n",
      "Jalebi 2 (1788)\n",
      "Jalebi 2 (1789)\n",
      "Jalebi 2 (179)\n",
      "Jalebi 2 (1790)\n",
      "Jalebi 2 (1791)\n",
      "Jalebi 2 (1792)\n",
      "Jalebi 2 (1793)\n",
      "Jalebi 2 (1794)\n",
      "Jalebi 2 (1795)\n"
     ]
    },
    {
     "name": "stderr",
     "output_type": "stream",
     "text": [
      "\r",
      " 60%|██████████████████████████████████████████████▍                              | 7021/11648 [01:27<01:09, 66.54it/s]"
     ]
    },
    {
     "name": "stdout",
     "output_type": "stream",
     "text": [
      "Jalebi 2 (1796)\n",
      "Jalebi 2 (1797)\n",
      "Jalebi 2 (1798)\n",
      "Jalebi 2 (1799)\n",
      "Jalebi 2 (18)\n",
      "Jalebi 2 (18)\n",
      "Jalebi 2 (18)\n",
      "Jalebi 2 (180)\n",
      "Jalebi 2 (1800)\n"
     ]
    },
    {
     "name": "stderr",
     "output_type": "stream",
     "text": [
      "\r",
      " 60%|██████████████████████████████████████████████▍                              | 7030/11648 [01:27<01:11, 64.35it/s]"
     ]
    },
    {
     "name": "stdout",
     "output_type": "stream",
     "text": [
      "Jalebi 2 (1801)\n",
      "Jalebi 2 (1802)\n",
      "Jalebi 2 (1803)\n",
      "Jalebi 2 (1804)\n",
      "Jalebi 2 (1805)\n",
      "Jalebi 2 (1806)\n",
      "Jalebi 2 (1807)\n",
      "Jalebi 2 (1808)\n",
      "Jalebi 2 (1809)\n",
      "Jalebi 2 (181)\n",
      "Jalebi 2 (1810)\n",
      "Jalebi 2 (1811)\n",
      "Jalebi 2 (1812)\n",
      "Jalebi 2 (1813)\n",
      "Jalebi 2 (1814)\n",
      "Jalebi 2 (1815)\n",
      "Jalebi 2 (1816)\n"
     ]
    },
    {
     "name": "stderr",
     "output_type": "stream",
     "text": [
      "\r",
      " 60%|██████████████████████████████████████████████▌                              | 7047/11648 [01:27<00:58, 79.02it/s]"
     ]
    },
    {
     "name": "stdout",
     "output_type": "stream",
     "text": [
      "Jalebi 2 (1817)\n",
      "Jalebi 2 (1818)\n",
      "Jalebi 2 (1819)\n",
      "Jalebi 2 (182)\n",
      "Jalebi 2 (1820)\n",
      "Jalebi 2 (1821)\n",
      "Jalebi 2 (1822)\n",
      "Jalebi 2 (1823)\n",
      "Jalebi 2 (1824)\n",
      "Jalebi 2 (1825)\n",
      "Jalebi 2 (1826)\n",
      "Jalebi 2 (1827)\n",
      "Jalebi 2 (1828)\n",
      "Jalebi 2 (1829)\n",
      "Jalebi 2 (183)\n",
      "Jalebi 2 (1830)\n",
      "Jalebi 2 (1831)\n"
     ]
    },
    {
     "name": "stderr",
     "output_type": "stream",
     "text": [
      "\r",
      " 61%|██████████████████████████████████████████████▋                              | 7064/11648 [01:27<00:48, 93.86it/s]"
     ]
    },
    {
     "name": "stdout",
     "output_type": "stream",
     "text": [
      "Jalebi 2 (1832)\n",
      "Jalebi 2 (1833)\n",
      "Jalebi 2 (1834)\n",
      "Jalebi 2 (1835)\n",
      "Jalebi 2 (1836)\n",
      "Jalebi 2 (1837)\n",
      "Jalebi 2 (1838)\n",
      "Jalebi 2 (1839)\n",
      "Jalebi 2 (184)\n",
      "Jalebi 2 (1840)\n",
      "Jalebi 2 (1841)\n",
      "Jalebi 2 (1842)\n",
      "Jalebi 2 (1843)\n",
      "Jalebi 2 (1844)\n",
      "Jalebi 2 (1845)\n",
      "Jalebi 2 (1846)\n",
      "Jalebi 2 (1847)\n",
      "Jalebi 2 (1848)\n"
     ]
    },
    {
     "name": "stderr",
     "output_type": "stream",
     "text": [
      "\r",
      " 61%|██████████████████████████████████████████████▏                             | 7082/11648 [01:27<00:41, 109.45it/s]"
     ]
    },
    {
     "name": "stdout",
     "output_type": "stream",
     "text": [
      "Jalebi 2 (1849)\n",
      "Jalebi 2 (185)\n",
      "Jalebi 2 (1850)\n",
      "Jalebi 2 (1851)\n",
      "Jalebi 2 (1852)\n",
      "Jalebi 2 (1853)\n",
      "Jalebi 2 (1854)\n",
      "Jalebi 2 (1855)\n",
      "Jalebi 2 (1856)\n",
      "Jalebi 2 (1857)\n",
      "Jalebi 2 (1858)\n",
      "Jalebi 2 (1859)\n",
      "Jalebi 2 (186)\n",
      "Jalebi 2 (1860)\n",
      "Jalebi 2 (1861)\n"
     ]
    },
    {
     "name": "stderr",
     "output_type": "stream",
     "text": [
      "\r",
      " 61%|██████████████████████████████████████████████▎                             | 7097/11648 [01:27<00:38, 117.51it/s]"
     ]
    },
    {
     "name": "stdout",
     "output_type": "stream",
     "text": [
      "Jalebi 2 (1862)\n",
      "Jalebi 2 (1863)\n",
      "Jalebi 2 (1864)\n",
      "Jalebi 2 (1865)\n",
      "Jalebi 2 (1866)\n",
      "Jalebi 2 (1867)\n",
      "Jalebi 2 (1868)\n",
      "Jalebi 2 (1869)\n",
      "Jalebi 2 (187)\n",
      "Jalebi 2 (1870)\n",
      "Jalebi 2 (1871)\n",
      "Jalebi 2 (1872)\n",
      "Jalebi 2 (1873)\n",
      "Jalebi 2 (1874)\n",
      "Jalebi 2 (188)\n"
     ]
    },
    {
     "name": "stderr",
     "output_type": "stream",
     "text": [
      "\r",
      " 61%|██████████████████████████████████████████████▍                             | 7112/11648 [01:27<00:36, 125.13it/s]"
     ]
    },
    {
     "name": "stdout",
     "output_type": "stream",
     "text": [
      "Jalebi 2 (189)\n",
      "Jalebi 2 (19)\n",
      "Jalebi 2 (19)\n",
      "Jalebi 2 (19)\n",
      "Jalebi 2 (190)\n",
      "Jalebi 2 (191)\n",
      "Jalebi 2 (192)\n",
      "Jalebi 2 (193)\n",
      "Jalebi 2 (194)\n",
      "Jalebi 2 (195)\n",
      "Jalebi 2 (196)\n",
      "Jalebi 2 (197)\n",
      "Jalebi 2 (198)\n",
      "Jalebi 2 (199)\n",
      "Jalebi 2 (2)\n"
     ]
    },
    {
     "name": "stderr",
     "output_type": "stream",
     "text": [
      "\r",
      " 61%|██████████████████████████████████████████████▌                             | 7127/11648 [01:28<00:36, 123.34it/s]"
     ]
    },
    {
     "name": "stdout",
     "output_type": "stream",
     "text": [
      "Jalebi 2 (2)\n",
      "Jalebi 2 (2)\n",
      "Jalebi 2 (20)\n",
      "Jalebi 2 (20)\n",
      "Jalebi 2 (20)\n",
      "Jalebi 2 (200)\n",
      "Jalebi 2 (201)\n",
      "Jalebi 2 (202)\n",
      "Jalebi 2 (203)\n",
      "Jalebi 2 (204)\n",
      "Jalebi 2 (205)\n",
      "Jalebi 2 (206)\n",
      "Jalebi 2 (207)\n",
      "Jalebi 2 (208)\n"
     ]
    },
    {
     "name": "stderr",
     "output_type": "stream",
     "text": [
      "\r",
      " 61%|██████████████████████████████████████████████▌                             | 7141/11648 [01:28<00:43, 104.32it/s]"
     ]
    },
    {
     "name": "stdout",
     "output_type": "stream",
     "text": [
      "Jalebi 2 (209)\n",
      "Jalebi 2 (21)\n",
      "Jalebi 2 (21)\n",
      "Jalebi 2 (21)\n",
      "Jalebi 2 (210)\n",
      "Jalebi 2 (211)\n",
      "Jalebi 2 (212)\n",
      "Jalebi 2 (213)\n",
      "Jalebi 2 (214)\n",
      "Jalebi 2 (215)\n",
      "Jalebi 2 (216)\n",
      "Jalebi 2 (217)\n"
     ]
    },
    {
     "name": "stderr",
     "output_type": "stream",
     "text": [
      "\r",
      " 61%|███████████████████████████████████████████████▎                             | 7153/11648 [01:28<00:50, 88.90it/s]"
     ]
    },
    {
     "name": "stdout",
     "output_type": "stream",
     "text": [
      "Jalebi 2 (218)\n",
      "Jalebi 2 (219)\n",
      "Jalebi 2 (22)\n",
      "Jalebi 2 (22)\n",
      "Jalebi 2 (22)\n",
      "Jalebi 2 (220)\n",
      "Jalebi 2 (221)\n",
      "Jalebi 2 (222)\n",
      "Jalebi 2 (223)\n",
      "Jalebi 2 (224)\n",
      "Jalebi 2 (225)\n",
      "Jalebi 2 (226)\n"
     ]
    },
    {
     "name": "stderr",
     "output_type": "stream",
     "text": [
      "\r",
      " 62%|███████████████████████████████████████████████▎                             | 7165/11648 [01:28<00:47, 94.64it/s]"
     ]
    },
    {
     "name": "stdout",
     "output_type": "stream",
     "text": [
      "Jalebi 2 (227)\n",
      "Jalebi 2 (228)\n",
      "Jalebi 2 (229)\n",
      "Jalebi 2 (23)\n",
      "Jalebi 2 (23)\n",
      "Jalebi 2 (23)\n",
      "Jalebi 2 (230)\n",
      "Jalebi 2 (231)\n",
      "Jalebi 2 (232)\n",
      "Jalebi 2 (233)\n",
      "Jalebi 2 (234)\n"
     ]
    },
    {
     "name": "stderr",
     "output_type": "stream",
     "text": [
      "\r",
      " 62%|███████████████████████████████████████████████▍                             | 7176/11648 [01:28<00:48, 92.62it/s]"
     ]
    },
    {
     "name": "stdout",
     "output_type": "stream",
     "text": [
      "Jalebi 2 (235)\n",
      "Jalebi 2 (236)\n",
      "Jalebi 2 (237)\n",
      "Jalebi 2 (238)\n",
      "Jalebi 2 (239)\n",
      "Jalebi 2 (24)\n",
      "Jalebi 2 (24)\n",
      "Jalebi 2 (24)\n",
      "Jalebi 2 (240)\n",
      "Jalebi 2 (241)\n",
      "Jalebi 2 (242)\n",
      "Jalebi 2 (243)\n"
     ]
    },
    {
     "name": "stderr",
     "output_type": "stream",
     "text": [
      "\r",
      " 62%|███████████████████████████████████████████████▌                             | 7188/11648 [01:28<00:45, 98.76it/s]"
     ]
    },
    {
     "name": "stdout",
     "output_type": "stream",
     "text": [
      "Jalebi 2 (244)\n",
      "Jalebi 2 (245)\n",
      "Jalebi 2 (246)\n",
      "Jalebi 2 (247)\n",
      "Jalebi 2 (248)\n",
      "Jalebi 2 (249)\n",
      "Jalebi 2 (25)\n",
      "Jalebi 2 (25)\n",
      "Jalebi 2 (25)\n",
      "Jalebi 2 (250)\n",
      "Jalebi 2 (251)\n"
     ]
    },
    {
     "name": "stderr",
     "output_type": "stream",
     "text": [
      "\r",
      " 62%|███████████████████████████████████████████████▌                             | 7199/11648 [01:28<00:46, 95.84it/s]"
     ]
    },
    {
     "name": "stdout",
     "output_type": "stream",
     "text": [
      "Jalebi 2 (252)\n",
      "Jalebi 2 (253)\n",
      "Jalebi 2 (254)\n",
      "Jalebi 2 (255)\n",
      "Jalebi 2 (256)\n",
      "Jalebi 2 (257)\n",
      "Jalebi 2 (258)\n",
      "Jalebi 2 (259)\n",
      "Jalebi 2 (26)\n",
      "Jalebi 2 (26)\n",
      "Jalebi 2 (26)\n"
     ]
    },
    {
     "name": "stderr",
     "output_type": "stream",
     "text": [
      "\r",
      " 62%|███████████████████████████████████████████████▋                             | 7210/11648 [01:29<00:46, 95.86it/s]"
     ]
    },
    {
     "name": "stdout",
     "output_type": "stream",
     "text": [
      "Jalebi 2 (260)\n",
      "Jalebi 2 (261)\n",
      "Jalebi 2 (262)\n",
      "Jalebi 2 (263)\n",
      "Jalebi 2 (264)\n",
      "Jalebi 2 (265)\n",
      "Jalebi 2 (266)\n",
      "Jalebi 2 (267)\n",
      "Jalebi 2 (268)\n",
      "Jalebi 2 (269)\n",
      "Jalebi 2 (27)\n"
     ]
    },
    {
     "name": "stderr",
     "output_type": "stream",
     "text": [
      "\r",
      " 62%|███████████████████████████████████████████████▋                             | 7221/11648 [01:29<00:45, 98.18it/s]"
     ]
    },
    {
     "name": "stdout",
     "output_type": "stream",
     "text": [
      "Jalebi 2 (27)\n",
      "Jalebi 2 (27)\n",
      "Jalebi 2 (270)\n",
      "Jalebi 2 (271)\n",
      "Jalebi 2 (272)\n",
      "Jalebi 2 (273)\n",
      "Jalebi 2 (274)\n",
      "Jalebi 2 (275)\n",
      "Jalebi 2 (276)\n",
      "Jalebi 2 (277)\n",
      "Jalebi 2 (278)\n",
      "Jalebi 2 (279)\n",
      "Jalebi 2 (28)\n",
      "Jalebi 2 (28)\n"
     ]
    },
    {
     "name": "stderr",
     "output_type": "stream",
     "text": [
      "\r",
      " 62%|███████████████████████████████████████████████▏                            | 7235/11648 [01:29<00:41, 107.17it/s]"
     ]
    },
    {
     "name": "stdout",
     "output_type": "stream",
     "text": [
      "Jalebi 2 (28)\n",
      "Jalebi 2 (280)\n",
      "Jalebi 2 (281)\n",
      "Jalebi 2 (282)\n",
      "Jalebi 2 (283)\n",
      "Jalebi 2 (284)\n",
      "Jalebi 2 (285)\n",
      "Jalebi 2 (286)\n",
      "Jalebi 2 (287)\n",
      "Jalebi 2 (288)\n",
      "Jalebi 2 (289)\n",
      "Jalebi 2 (29)\n",
      "Jalebi 2 (29)\n"
     ]
    },
    {
     "name": "stderr",
     "output_type": "stream",
     "text": [
      "\r",
      " 62%|███████████████████████████████████████████████▎                            | 7248/11648 [01:29<00:39, 111.75it/s]"
     ]
    },
    {
     "name": "stdout",
     "output_type": "stream",
     "text": [
      "Jalebi 2 (29)\n",
      "Jalebi 2 (290)\n",
      "Jalebi 2 (291)\n",
      "Jalebi 2 (292)\n",
      "Jalebi 2 (293)\n",
      "Jalebi 2 (294)\n",
      "Jalebi 2 (295)\n",
      "Jalebi 2 (296)\n",
      "Jalebi 2 (297)\n",
      "Jalebi 2 (298)\n",
      "Jalebi 2 (299)\n",
      "Jalebi 2 (3)\n"
     ]
    },
    {
     "name": "stderr",
     "output_type": "stream",
     "text": [
      "\r",
      " 62%|███████████████████████████████████████████████▎                            | 7260/11648 [01:29<00:41, 105.76it/s]"
     ]
    },
    {
     "name": "stdout",
     "output_type": "stream",
     "text": [
      "Jalebi 2 (3)\n",
      "Jalebi 2 (3)\n",
      "Jalebi 2 (30)\n",
      "Jalebi 2 (30)\n",
      "Jalebi 2 (30)\n",
      "Jalebi 2 (300)\n",
      "Jalebi 2 (301)\n",
      "Jalebi 2 (302)\n",
      "Jalebi 2 (303)\n",
      "Jalebi 2 (304)\n",
      "Jalebi 2 (305)\n",
      "Jalebi 2 (306)\n"
     ]
    },
    {
     "name": "stderr",
     "output_type": "stream",
     "text": [
      "\r",
      " 62%|███████████████████████████████████████████████▍                            | 7272/11648 [01:29<00:40, 108.26it/s]"
     ]
    },
    {
     "name": "stdout",
     "output_type": "stream",
     "text": [
      "Jalebi 2 (307)\n",
      "Jalebi 2 (308)\n",
      "Jalebi 2 (309)\n",
      "Jalebi 2 (31)\n",
      "Jalebi 2 (31)\n",
      "Jalebi 2 (31)\n",
      "Jalebi 2 (310)\n",
      "Jalebi 2 (311)\n",
      "Jalebi 2 (312)\n",
      "Jalebi 2 (313)\n",
      "Jalebi 2 (314)\n",
      "Jalebi 2 (315)\n",
      "Jalebi 2 (316)\n",
      "Jalebi 2 (317)\n",
      "Jalebi 2 (318)\n"
     ]
    },
    {
     "name": "stderr",
     "output_type": "stream",
     "text": [
      "\r",
      " 63%|███████████████████████████████████████████████▌                            | 7287/11648 [01:29<00:37, 116.82it/s]"
     ]
    },
    {
     "name": "stdout",
     "output_type": "stream",
     "text": [
      "Jalebi 2 (319)\n",
      "Jalebi 2 (32)\n",
      "Jalebi 2 (32)\n",
      "Jalebi 2 (32)\n",
      "Jalebi 2 (320)\n",
      "Jalebi 2 (321)\n",
      "Jalebi 2 (322)\n",
      "Jalebi 2 (323)\n",
      "Jalebi 2 (324)\n",
      "Jalebi 2 (325)\n",
      "Jalebi 2 (326)\n",
      "Jalebi 2 (327)\n",
      "Jalebi 2 (328)\n"
     ]
    },
    {
     "name": "stderr",
     "output_type": "stream",
     "text": [
      "\r",
      " 63%|███████████████████████████████████████████████▋                            | 7300/11648 [01:29<00:36, 117.64it/s]"
     ]
    },
    {
     "name": "stdout",
     "output_type": "stream",
     "text": [
      "Jalebi 2 (329)\n",
      "Jalebi 2 (33)\n",
      "Jalebi 2 (33)\n",
      "Jalebi 2 (33)\n",
      "Jalebi 2 (330)\n",
      "Jalebi 2 (331)\n",
      "Jalebi 2 (332)\n",
      "Jalebi 2 (333)\n",
      "Jalebi 2 (334)\n",
      "Jalebi 2 (335)\n",
      "Jalebi 2 (336)\n",
      "Jalebi 2 (337)\n",
      "Jalebi 2 (338)\n",
      "Jalebi 2 (339)\n"
     ]
    },
    {
     "name": "stderr",
     "output_type": "stream",
     "text": [
      "\r",
      " 63%|███████████████████████████████████████████████▋                            | 7314/11648 [01:29<00:35, 122.99it/s]"
     ]
    },
    {
     "name": "stdout",
     "output_type": "stream",
     "text": [
      "Jalebi 2 (34)\n",
      "Jalebi 2 (34)\n",
      "Jalebi 2 (34)\n",
      "Jalebi 2 (340)\n",
      "Jalebi 2 (341)\n",
      "Jalebi 2 (342)\n",
      "Jalebi 2 (343)\n",
      "Jalebi 2 (344)\n",
      "Jalebi 2 (345)\n",
      "Jalebi 2 (346)\n",
      "Jalebi 2 (347)\n",
      "Jalebi 2 (348)\n",
      "Jalebi 2 (349)\n"
     ]
    },
    {
     "name": "stderr",
     "output_type": "stream",
     "text": [
      "\r",
      " 63%|███████████████████████████████████████████████▊                            | 7327/11648 [01:30<00:40, 107.47it/s]"
     ]
    },
    {
     "name": "stdout",
     "output_type": "stream",
     "text": [
      "Jalebi 2 (35)\n",
      "Jalebi 2 (35)\n",
      "Jalebi 2 (35)\n",
      "Jalebi 2 (350)\n",
      "Jalebi 2 (351)\n",
      "Jalebi 2 (352)\n",
      "Jalebi 2 (353)\n",
      "Jalebi 2 (354)\n",
      "Jalebi 2 (355)\n",
      "Jalebi 2 (356)\n",
      "Jalebi 2 (357)\n",
      "Jalebi 2 (358)\n"
     ]
    },
    {
     "name": "stderr",
     "output_type": "stream",
     "text": [
      "\r",
      " 63%|████████████████████████████████████████████████▌                            | 7339/11648 [01:30<00:43, 99.22it/s]"
     ]
    },
    {
     "name": "stdout",
     "output_type": "stream",
     "text": [
      "Jalebi 2 (359)\n",
      "Jalebi 2 (36)\n",
      "Jalebi 2 (36)\n",
      "Jalebi 2 (36)\n",
      "Jalebi 2 (360)\n",
      "Jalebi 2 (361)\n",
      "Jalebi 2 (362)\n",
      "Jalebi 2 (363)\n",
      "Jalebi 2 (364)\n",
      "Jalebi 2 (365)\n",
      "Jalebi 2 (366)\n",
      "Jalebi 2 (367)\n",
      "Jalebi 2 (368)\n",
      "Jalebi 2 (369)\n",
      "Jalebi 2 (37)\n",
      "Jalebi 2 (37)\n",
      "Jalebi 2 (37)\n"
     ]
    },
    {
     "name": "stderr",
     "output_type": "stream",
     "text": [
      "\r",
      " 63%|███████████████████████████████████████████████▉                            | 7356/11648 [01:30<00:39, 109.29it/s]"
     ]
    },
    {
     "name": "stdout",
     "output_type": "stream",
     "text": [
      "Jalebi 2 (370)\n",
      "Jalebi 2 (371)\n",
      "Jalebi 2 (372)\n",
      "Jalebi 2 (373)\n",
      "Jalebi 2 (374)\n",
      "Jalebi 2 (375)\n",
      "Jalebi 2 (376)\n",
      "Jalebi 2 (377)\n",
      "Jalebi 2 (378)\n",
      "Jalebi 2 (379)\n",
      "Jalebi 2 (38)\n",
      "Jalebi 2 (38)\n",
      "Jalebi 2 (38)\n",
      "Jalebi 2 (380)\n",
      "Jalebi 2 (381)\n",
      "Jalebi 2 (382)\n"
     ]
    },
    {
     "name": "stderr",
     "output_type": "stream",
     "text": [
      "\r",
      " 63%|████████████████████████████████████████████████                            | 7372/11648 [01:30<00:35, 120.31it/s]"
     ]
    },
    {
     "name": "stdout",
     "output_type": "stream",
     "text": [
      "Jalebi 2 (383)\n",
      "Jalebi 2 (384)\n",
      "Jalebi 2 (385)\n",
      "Jalebi 2 (386)\n",
      "Jalebi 2 (387)\n",
      "Jalebi 2 (388)\n",
      "Jalebi 2 (389)\n",
      "Jalebi 2 (39)\n",
      "Jalebi 2 (39)\n",
      "Jalebi 2 (39)\n",
      "Jalebi 2 (390)\n",
      "Jalebi 2 (391)\n",
      "Jalebi 2 (392)\n"
     ]
    },
    {
     "name": "stderr",
     "output_type": "stream",
     "text": [
      "\r",
      " 63%|████████████████████████████████████████████████▏                           | 7385/11648 [01:30<00:37, 114.40it/s]"
     ]
    },
    {
     "name": "stdout",
     "output_type": "stream",
     "text": [
      "Jalebi 2 (393)\n",
      "Jalebi 2 (394)\n",
      "Jalebi 2 (395)\n",
      "Jalebi 2 (396)\n",
      "Jalebi 2 (397)\n",
      "Jalebi 2 (398)\n",
      "Jalebi 2 (399)\n",
      "Jalebi 2 (4)\n",
      "Jalebi 2 (4)\n",
      "Jalebi 2 (4)\n",
      "Jalebi 2 (40)\n",
      "Jalebi 2 (40)\n",
      "Jalebi 2 (40)\n"
     ]
    },
    {
     "name": "stderr",
     "output_type": "stream",
     "text": [
      "\r",
      " 64%|████████████████████████████████████████████████▎                           | 7398/11648 [01:30<00:38, 111.16it/s]"
     ]
    },
    {
     "name": "stdout",
     "output_type": "stream",
     "text": [
      "Jalebi 2 (400)\n",
      "Jalebi 2 (401)\n",
      "Jalebi 2 (402)\n",
      "Jalebi 2 (403)\n",
      "Jalebi 2 (404)\n",
      "Jalebi 2 (405)\n",
      "Jalebi 2 (406)\n",
      "Jalebi 2 (407)\n",
      "Jalebi 2 (408)\n",
      "Jalebi 2 (409)\n",
      "Jalebi 2 (41)\n",
      "Jalebi 2 (41)\n",
      "Jalebi 2 (41)\n"
     ]
    },
    {
     "name": "stderr",
     "output_type": "stream",
     "text": [
      "\r",
      " 64%|████████████████████████████████████████████████▎                           | 7411/11648 [01:30<00:36, 115.68it/s]"
     ]
    },
    {
     "name": "stdout",
     "output_type": "stream",
     "text": [
      "Jalebi 2 (410)\n",
      "Jalebi 2 (411)\n",
      "Jalebi 2 (412)\n",
      "Jalebi 2 (413)\n",
      "Jalebi 2 (414)\n",
      "Jalebi 2 (415)\n",
      "Jalebi 2 (416)\n",
      "Jalebi 2 (417)\n",
      "Jalebi 2 (418)\n",
      "Jalebi 2 (419)\n",
      "Jalebi 2 (42)\n",
      "Jalebi 2 (42)\n"
     ]
    },
    {
     "name": "stderr",
     "output_type": "stream",
     "text": [
      "\r",
      " 64%|████████████████████████████████████████████████▍                           | 7423/11648 [01:30<00:37, 112.12it/s]"
     ]
    },
    {
     "name": "stdout",
     "output_type": "stream",
     "text": [
      "Jalebi 2 (42)\n",
      "Jalebi 2 (420)\n",
      "Jalebi 2 (421)\n",
      "Jalebi 2 (422)\n",
      "Jalebi 2 (423)\n",
      "Jalebi 2 (424)\n",
      "Jalebi 2 (425)\n",
      "Jalebi 2 (426)\n",
      "Jalebi 2 (427)\n",
      "Jalebi 2 (428)\n",
      "Jalebi 2 (429)\n",
      "Jalebi 2 (43)\n"
     ]
    },
    {
     "name": "stderr",
     "output_type": "stream",
     "text": [
      "\r",
      " 64%|████████████████████████████████████████████████▌                           | 7435/11648 [01:31<00:41, 101.44it/s]"
     ]
    },
    {
     "name": "stdout",
     "output_type": "stream",
     "text": [
      "Jalebi 2 (43)\n",
      "Jalebi 2 (43)\n",
      "Jalebi 2 (430)\n",
      "Jalebi 2 (431)\n",
      "Jalebi 2 (432)\n",
      "Jalebi 2 (433)\n",
      "Jalebi 2 (434)\n",
      "Jalebi 2 (435)\n",
      "Jalebi 2 (436)\n",
      "Jalebi 2 (437)\n",
      "Jalebi 2 (438)\n"
     ]
    },
    {
     "name": "stderr",
     "output_type": "stream",
     "text": [
      "\r",
      " 64%|█████████████████████████████████████████████████▏                           | 7446/11648 [01:31<01:32, 45.57it/s]"
     ]
    },
    {
     "name": "stdout",
     "output_type": "stream",
     "text": [
      "Jalebi 2 (439)\n",
      "Jalebi 2 (44)\n",
      "Jalebi 2 (44)\n",
      "Jalebi 2 (44)\n",
      "Jalebi 2 (440)\n",
      "Jalebi 2 (441)\n",
      "Jalebi 2 (442)\n",
      "Jalebi 2 (443)\n"
     ]
    },
    {
     "name": "stderr",
     "output_type": "stream",
     "text": [
      "\r",
      " 64%|█████████████████████████████████████████████████▎                           | 7454/11648 [01:31<01:38, 42.60it/s]"
     ]
    },
    {
     "name": "stdout",
     "output_type": "stream",
     "text": [
      "Jalebi 2 (444)\n",
      "Jalebi 2 (445)\n",
      "Jalebi 2 (446)\n",
      "Jalebi 2 (447)\n",
      "Jalebi 2 (448)\n",
      "Jalebi 2 (449)\n",
      "Jalebi 2 (45)\n",
      "Jalebi 2 (45)\n",
      "Jalebi 2 (45)\n",
      "Jalebi 2 (450)\n",
      "Jalebi 2 (451)\n",
      "Jalebi 2 (452)\n",
      "Jalebi 2 (453)\n",
      "Jalebi 2 (454)\n",
      "Jalebi 2 (455)\n",
      "Jalebi 2 (456)\n",
      "Jalebi 2 (457)\n"
     ]
    },
    {
     "name": "stderr",
     "output_type": "stream",
     "text": [
      "\r",
      " 64%|█████████████████████████████████████████████████▍                           | 7471/11648 [01:31<01:16, 54.65it/s]"
     ]
    },
    {
     "name": "stdout",
     "output_type": "stream",
     "text": [
      "Jalebi 2 (458)\n",
      "Jalebi 2 (459)\n",
      "Jalebi 2 (46)\n",
      "Jalebi 2 (46)\n",
      "Jalebi 2 (46)\n",
      "Jalebi 2 (460)\n",
      "Jalebi 2 (461)\n",
      "Jalebi 2 (462)\n",
      "Jalebi 2 (463)\n",
      "Jalebi 2 (464)\n",
      "Jalebi 2 (465)\n",
      "Jalebi 2 (466)\n",
      "Jalebi 2 (467)\n"
     ]
    },
    {
     "name": "stderr",
     "output_type": "stream",
     "text": [
      "\r",
      " 64%|█████████████████████████████████████████████████▍                           | 7484/11648 [01:31<01:04, 64.89it/s]"
     ]
    },
    {
     "name": "stdout",
     "output_type": "stream",
     "text": [
      "Jalebi 2 (468)\n",
      "Jalebi 2 (469)\n",
      "Jalebi 2 (47)\n",
      "Jalebi 2 (47)\n",
      "Jalebi 2 (47)\n",
      "Jalebi 2 (470)\n",
      "Jalebi 2 (471)\n",
      "Jalebi 2 (472)\n",
      "Jalebi 2 (473)\n",
      "Jalebi 2 (474)\n",
      "Jalebi 2 (475)\n"
     ]
    },
    {
     "name": "stderr",
     "output_type": "stream",
     "text": [
      "\r",
      " 64%|█████████████████████████████████████████████████▌                           | 7495/11648 [01:32<01:05, 63.76it/s]"
     ]
    },
    {
     "name": "stdout",
     "output_type": "stream",
     "text": [
      "Jalebi 2 (476)\n",
      "Jalebi 2 (477)\n",
      "Jalebi 2 (478)\n",
      "Jalebi 2 (479)\n",
      "Jalebi 2 (48)\n",
      "Jalebi 2 (48)\n",
      "Jalebi 2 (48)\n",
      "Jalebi 2 (480)\n",
      "Jalebi 2 (481)\n"
     ]
    },
    {
     "name": "stderr",
     "output_type": "stream",
     "text": [
      "\r",
      " 64%|█████████████████████████████████████████████████▌                           | 7504/11648 [01:32<01:07, 60.99it/s]"
     ]
    },
    {
     "name": "stdout",
     "output_type": "stream",
     "text": [
      "Jalebi 2 (482)\n",
      "Jalebi 2 (483)\n",
      "Jalebi 2 (484)\n",
      "Jalebi 2 (485)\n",
      "Jalebi 2 (486)\n",
      "Jalebi 2 (487)\n",
      "Jalebi 2 (488)\n",
      "Jalebi 2 (489)\n"
     ]
    },
    {
     "name": "stderr",
     "output_type": "stream",
     "text": [
      "\r",
      " 64%|█████████████████████████████████████████████████▋                           | 7512/11648 [01:32<01:25, 48.62it/s]"
     ]
    },
    {
     "name": "stdout",
     "output_type": "stream",
     "text": [
      "Jalebi 2 (49)\n",
      "Jalebi 2 (49)\n",
      "Jalebi 2 (49)\n",
      "Jalebi 2 (490)\n",
      "Jalebi 2 (491)\n",
      "Jalebi 2 (492)\n",
      "Jalebi 2 (493)\n"
     ]
    },
    {
     "name": "stderr",
     "output_type": "stream",
     "text": [
      "\r",
      " 65%|█████████████████████████████████████████████████▋                           | 7519/11648 [01:32<01:29, 46.16it/s]"
     ]
    },
    {
     "name": "stdout",
     "output_type": "stream",
     "text": [
      "Jalebi 2 (494)\n",
      "Jalebi 2 (495)\n",
      "Jalebi 2 (496)\n",
      "Jalebi 2 (497)\n",
      "Jalebi 2 (498)\n",
      "Jalebi 2 (499)\n"
     ]
    },
    {
     "name": "stderr",
     "output_type": "stream",
     "text": [
      "\r",
      " 65%|█████████████████████████████████████████████████▋                           | 7525/11648 [01:32<01:24, 48.78it/s]"
     ]
    },
    {
     "name": "stdout",
     "output_type": "stream",
     "text": [
      "Jalebi 2 (5)\n",
      "Jalebi 2 (5)\n",
      "Jalebi 2 (5)\n",
      "Jalebi 2 (50)\n",
      "Jalebi 2 (50)\n",
      "Jalebi 2 (50)\n",
      "Jalebi 2 (500)\n",
      "Jalebi 2 (501)\n",
      "Jalebi 2 (502)\n",
      "Jalebi 2 (503)\n",
      "Jalebi 2 (504)\n"
     ]
    },
    {
     "name": "stderr",
     "output_type": "stream",
     "text": [
      "\r",
      " 65%|█████████████████████████████████████████████████▊                           | 7536/11648 [01:32<01:10, 58.40it/s]"
     ]
    },
    {
     "name": "stdout",
     "output_type": "stream",
     "text": [
      "Jalebi 2 (505)\n",
      "Jalebi 2 (506)\n",
      "Jalebi 2 (507)\n",
      "Jalebi 2 (508)\n",
      "Jalebi 2 (509)\n",
      "Jalebi 2 (51)\n",
      "Jalebi 2 (51)\n",
      "Jalebi 2 (510)\n",
      "Jalebi 2 (511)\n",
      "Jalebi 2 (512)\n",
      "Jalebi 2 (513)\n",
      "Jalebi 2 (514)\n",
      "Jalebi 2 (515)\n",
      "Jalebi 2 (516)\n",
      "Jalebi 2 (517)\n",
      "Jalebi 2 (518)\n",
      "Jalebi 2 (519)\n",
      "Jalebi 2 (52)\n",
      "Jalebi 2 (52)\n",
      "Jalebi 2 (520)\n"
     ]
    },
    {
     "name": "stderr",
     "output_type": "stream",
     "text": [
      "\r",
      " 65%|█████████████████████████████████████████████████▉                           | 7556/11648 [01:33<00:55, 73.92it/s]"
     ]
    },
    {
     "name": "stdout",
     "output_type": "stream",
     "text": [
      "Jalebi 2 (521)\n",
      "Jalebi 2 (522)\n",
      "Jalebi 2 (523)\n",
      "Jalebi 2 (524)\n",
      "Jalebi 2 (525)\n",
      "Jalebi 2 (526)\n",
      "Jalebi 2 (527)\n",
      "Jalebi 2 (528)\n",
      "Jalebi 2 (529)\n",
      "Jalebi 2 (53)\n",
      "Jalebi 2 (53)\n"
     ]
    },
    {
     "name": "stderr",
     "output_type": "stream",
     "text": [
      "\r",
      " 65%|██████████████████████████████████████████████████                           | 7567/11648 [01:33<00:52, 77.05it/s]"
     ]
    },
    {
     "name": "stdout",
     "output_type": "stream",
     "text": [
      "Jalebi 2 (530)\n",
      "Jalebi 2 (531)\n",
      "Jalebi 2 (532)\n",
      "Jalebi 2 (533)\n",
      "Jalebi 2 (534)\n",
      "Jalebi 2 (535)\n",
      "Jalebi 2 (536)\n",
      "Jalebi 2 (537)\n",
      "Jalebi 2 (538)\n",
      "Jalebi 2 (539)\n",
      "Jalebi 2 (54)\n"
     ]
    },
    {
     "name": "stderr",
     "output_type": "stream",
     "text": [
      "\r",
      " 65%|██████████████████████████████████████████████████                           | 7578/11648 [01:33<00:50, 79.92it/s]"
     ]
    },
    {
     "name": "stdout",
     "output_type": "stream",
     "text": [
      "Jalebi 2 (54)\n",
      "Jalebi 2 (540)\n",
      "Jalebi 2 (541)\n",
      "Jalebi 2 (542)\n",
      "Jalebi 2 (543)\n",
      "Jalebi 2 (544)\n",
      "Jalebi 2 (545)\n",
      "Jalebi 2 (546)\n",
      "Jalebi 2 (547)\n",
      "Jalebi 2 (548)\n",
      "Jalebi 2 (549)\n",
      "Jalebi 2 (55)\n",
      "Jalebi 2 (55)\n",
      "Jalebi 2 (550)\n",
      "Jalebi 2 (551)\n",
      "Jalebi 2 (552)\n",
      "Jalebi 2 (553)\n",
      "Jalebi 2 (554)\n"
     ]
    },
    {
     "name": "stderr",
     "output_type": "stream",
     "text": [
      "\r",
      " 65%|██████████████████████████████████████████████████▏                          | 7596/11648 [01:33<00:42, 95.81it/s]"
     ]
    },
    {
     "name": "stdout",
     "output_type": "stream",
     "text": [
      "Jalebi 2 (555)\n",
      "Jalebi 2 (556)\n",
      "Jalebi 2 (557)\n",
      "Jalebi 2 (558)\n",
      "Jalebi 2 (559)\n",
      "Jalebi 2 (56)\n",
      "Jalebi 2 (56)\n",
      "Jalebi 2 (560)\n",
      "Jalebi 2 (561)\n",
      "Jalebi 2 (562)\n",
      "Jalebi 2 (563)\n",
      "Jalebi 2 (564)\n",
      "Jalebi 2 (565)\n"
     ]
    },
    {
     "name": "stderr",
     "output_type": "stream",
     "text": [
      "\r",
      " 65%|██████████████████████████████████████████████████▎                          | 7609/11648 [01:33<00:40, 98.65it/s]"
     ]
    },
    {
     "name": "stdout",
     "output_type": "stream",
     "text": [
      "Jalebi 2 (566)\n",
      "Jalebi 2 (567)\n",
      "Jalebi 2 (568)\n",
      "Jalebi 2 (569)\n",
      "Jalebi 2 (57)\n",
      "Jalebi 2 (57)\n",
      "Jalebi 2 (570)\n",
      "Jalebi 2 (571)\n",
      "Jalebi 2 (572)\n",
      "Jalebi 2 (573)\n",
      "Jalebi 2 (574)\n",
      "Jalebi 2 (575)\n",
      "Jalebi 2 (576)\n"
     ]
    },
    {
     "name": "stderr",
     "output_type": "stream",
     "text": [
      "\r",
      " 65%|█████████████████████████████████████████████████▋                          | 7622/11648 [01:33<00:38, 104.12it/s]"
     ]
    },
    {
     "name": "stdout",
     "output_type": "stream",
     "text": [
      "Jalebi 2 (577)\n",
      "Jalebi 2 (578)\n",
      "Jalebi 2 (579)\n",
      "Jalebi 2 (58)\n",
      "Jalebi 2 (58)\n",
      "Jalebi 2 (580)\n",
      "Jalebi 2 (581)\n",
      "Jalebi 2 (582)\n",
      "Jalebi 2 (583)\n",
      "Jalebi 2 (584)\n",
      "Jalebi 2 (585)\n",
      "Jalebi 2 (586)\n",
      "Jalebi 2 (587)\n",
      "Jalebi 2 (588)\n",
      "Jalebi 2 (589)\n",
      "Jalebi 2 (59)\n",
      "Jalebi 2 (59)\n"
     ]
    },
    {
     "name": "stderr",
     "output_type": "stream",
     "text": [
      "\r",
      " 66%|█████████████████████████████████████████████████▊                          | 7639/11648 [01:33<00:34, 117.39it/s]"
     ]
    },
    {
     "name": "stdout",
     "output_type": "stream",
     "text": [
      "Jalebi 2 (590)\n",
      "Jalebi 2 (591)\n",
      "Jalebi 2 (592)\n",
      "Jalebi 2 (593)\n",
      "Jalebi 2 (594)\n",
      "Jalebi 2 (595)\n",
      "Jalebi 2 (596)\n",
      "Jalebi 2 (597)\n",
      "Jalebi 2 (598)\n",
      "Jalebi 2 (599)\n",
      "Jalebi 2 (6)\n",
      "Jalebi 2 (6)\n",
      "Jalebi 2 (6)\n",
      "Jalebi 2 (60)\n",
      "Jalebi 2 (60)\n",
      "Jalebi 2 (600)\n",
      "Jalebi 2 (601)\n",
      "Jalebi 2 (602)\n"
     ]
    },
    {
     "name": "stderr",
     "output_type": "stream",
     "text": [
      "\r",
      " 66%|█████████████████████████████████████████████████▉                          | 7657/11648 [01:33<00:30, 130.86it/s]"
     ]
    },
    {
     "name": "stdout",
     "output_type": "stream",
     "text": [
      "Jalebi 2 (603)\n",
      "Jalebi 2 (604)\n",
      "Jalebi 2 (605)\n",
      "Jalebi 2 (606)\n",
      "Jalebi 2 (607)\n",
      "Jalebi 2 (608)\n",
      "Jalebi 2 (609)\n",
      "Jalebi 2 (61)\n",
      "Jalebi 2 (61)\n",
      "Jalebi 2 (610)\n",
      "Jalebi 2 (611)\n",
      "Jalebi 2 (612)\n",
      "Jalebi 2 (613)\n",
      "Jalebi 2 (614)\n",
      "Jalebi 2 (615)\n",
      "Jalebi 2 (616)\n",
      "Jalebi 2 (617)\n",
      "Jalebi 2 (618)\n",
      "Jalebi 2 (619)\n",
      "Jalebi 2 (62)\n",
      "Jalebi 2 (62)\n",
      "Jalebi 2 (620)\n",
      "Jalebi 2 (621)\n",
      "Jalebi 2 (622)\n"
     ]
    },
    {
     "name": "stderr",
     "output_type": "stream",
     "text": [
      "\r",
      " 66%|██████████████████████████████████████████████████                          | 7681/11648 [01:33<00:26, 151.04it/s]"
     ]
    },
    {
     "name": "stdout",
     "output_type": "stream",
     "text": [
      "Jalebi 2 (623)\n",
      "Jalebi 2 (624)\n",
      "Jalebi 2 (625)\n",
      "Jalebi 2 (626)\n",
      "Jalebi 2 (627)\n",
      "Jalebi 2 (628)\n",
      "Jalebi 2 (629)\n",
      "Jalebi 2 (63)\n",
      "Jalebi 2 (63)\n",
      "Jalebi 2 (630)\n",
      "Jalebi 2 (631)\n",
      "Jalebi 2 (632)\n",
      "Jalebi 2 (633)\n",
      "Jalebi 2 (634)\n",
      "Jalebi 2 (635)\n",
      "Jalebi 2 (636)\n",
      "Jalebi 2 (637)\n",
      "Jalebi 2 (638)\n",
      "Jalebi 2 (639)\n"
     ]
    },
    {
     "name": "stderr",
     "output_type": "stream",
     "text": [
      "\r",
      " 66%|██████████████████████████████████████████████████▏                         | 7700/11648 [01:34<00:24, 158.24it/s]"
     ]
    },
    {
     "name": "stdout",
     "output_type": "stream",
     "text": [
      "Jalebi 2 (64)\n",
      "Jalebi 2 (64)\n",
      "Jalebi 2 (640)\n",
      "Jalebi 2 (641)\n",
      "Jalebi 2 (642)\n",
      "Jalebi 2 (643)\n",
      "Jalebi 2 (644)\n",
      "Jalebi 2 (645)\n",
      "Jalebi 2 (646)\n",
      "Jalebi 2 (647)\n",
      "Jalebi 2 (648)\n",
      "Jalebi 2 (649)\n",
      "Jalebi 2 (65)\n",
      "Jalebi 2 (65)\n",
      "Jalebi 2 (650)\n",
      "Jalebi 2 (651)\n",
      "Jalebi 2 (652)\n",
      "Jalebi 2 (653)\n"
     ]
    },
    {
     "name": "stderr",
     "output_type": "stream",
     "text": [
      "\r",
      " 66%|██████████████████████████████████████████████████▎                         | 7718/11648 [01:34<00:24, 158.68it/s]"
     ]
    },
    {
     "name": "stdout",
     "output_type": "stream",
     "text": [
      "Jalebi 2 (654)\n",
      "Jalebi 2 (655)\n",
      "Jalebi 2 (656)\n",
      "Jalebi 2 (657)\n",
      "Jalebi 2 (658)\n",
      "Jalebi 2 (659)\n",
      "Jalebi 2 (66)\n",
      "Jalebi 2 (66)\n",
      "Jalebi 2 (660)\n",
      "Jalebi 2 (661)\n",
      "Jalebi 2 (662)\n",
      "Jalebi 2 (663)\n",
      "Jalebi 2 (664)\n",
      "Jalebi 2 (665)\n",
      "Jalebi 2 (666)\n",
      "Jalebi 2 (667)\n",
      "Jalebi 2 (668)\n",
      "Jalebi 2 (669)\n"
     ]
    },
    {
     "name": "stderr",
     "output_type": "stream",
     "text": [
      "\r",
      " 66%|██████████████████████████████████████████████████▍                         | 7736/11648 [01:34<00:35, 110.92it/s]"
     ]
    },
    {
     "name": "stdout",
     "output_type": "stream",
     "text": [
      "Jalebi 2 (67)\n",
      "Jalebi 2 (67)\n",
      "Jalebi 2 (670)\n",
      "Jalebi 2 (671)\n",
      "Jalebi 2 (672)\n",
      "Jalebi 2 (673)\n",
      "Jalebi 2 (674)\n",
      "Jalebi 2 (675)\n",
      "Jalebi 2 (676)\n",
      "Jalebi 2 (677)\n",
      "Jalebi 2 (678)\n",
      "Jalebi 2 (679)\n",
      "Jalebi 2 (68)\n",
      "Jalebi 2 (68)\n"
     ]
    },
    {
     "name": "stderr",
     "output_type": "stream",
     "text": [
      "\r",
      " 67%|██████████████████████████████████████████████████▌                         | 7750/11648 [01:34<00:38, 100.13it/s]"
     ]
    },
    {
     "name": "stdout",
     "output_type": "stream",
     "text": [
      "Jalebi 2 (680)\n",
      "Jalebi 2 (681)\n",
      "Jalebi 2 (682)\n",
      "Jalebi 2 (683)\n",
      "Jalebi 2 (684)\n",
      "Jalebi 2 (685)\n",
      "Jalebi 2 (686)\n",
      "Jalebi 2 (687)\n",
      "Jalebi 2 (688)\n",
      "Jalebi 2 (689)\n",
      "Jalebi 2 (69)\n",
      "Jalebi 2 (69)\n",
      "Jalebi 2 (690)\n",
      "Jalebi 2 (691)\n"
     ]
    },
    {
     "name": "stderr",
     "output_type": "stream",
     "text": [
      "\r",
      " 67%|██████████████████████████████████████████████████▋                         | 7764/11648 [01:34<00:35, 109.04it/s]"
     ]
    },
    {
     "name": "stdout",
     "output_type": "stream",
     "text": [
      "Jalebi 2 (692)\n",
      "Jalebi 2 (693)\n",
      "Jalebi 2 (694)\n",
      "Jalebi 2 (695)\n",
      "Jalebi 2 (696)\n",
      "Jalebi 2 (697)\n",
      "Jalebi 2 (698)\n",
      "Jalebi 2 (699)\n",
      "Jalebi 2 (7)\n",
      "Jalebi 2 (7)\n",
      "Jalebi 2 (7)\n",
      "Jalebi 2 (70)\n",
      "Jalebi 2 (70)\n"
     ]
    },
    {
     "name": "stderr",
     "output_type": "stream",
     "text": [
      "\r",
      " 67%|██████████████████████████████████████████████████▋                         | 7777/11648 [01:34<00:35, 108.10it/s]"
     ]
    },
    {
     "name": "stdout",
     "output_type": "stream",
     "text": [
      "Jalebi 2 (700)\n",
      "Jalebi 2 (701)\n",
      "Jalebi 2 (702)\n",
      "Jalebi 2 (703)\n",
      "Jalebi 2 (704)\n",
      "Jalebi 2 (705)\n",
      "Jalebi 2 (706)\n",
      "Jalebi 2 (707)\n",
      "Jalebi 2 (708)\n",
      "Jalebi 2 (709)\n",
      "Jalebi 2 (71)\n",
      "Jalebi 2 (71)\n",
      "Jalebi 2 (710)\n"
     ]
    },
    {
     "name": "stderr",
     "output_type": "stream",
     "text": [
      "\r",
      " 67%|██████████████████████████████████████████████████▊                         | 7790/11648 [01:34<00:38, 100.03it/s]"
     ]
    },
    {
     "name": "stdout",
     "output_type": "stream",
     "text": [
      "Jalebi 2 (711)\n",
      "Jalebi 2 (712)\n",
      "Jalebi 2 (713)\n",
      "Jalebi 2 (714)\n",
      "Jalebi 2 (715)\n",
      "Jalebi 2 (716)\n",
      "Jalebi 2 (717)\n",
      "Jalebi 2 (718)\n",
      "Jalebi 2 (719)\n",
      "Jalebi 2 (72)\n",
      "Jalebi 2 (72)\n"
     ]
    },
    {
     "name": "stderr",
     "output_type": "stream",
     "text": [
      "\r",
      " 67%|███████████████████████████████████████████████████▌                         | 7801/11648 [01:35<00:41, 92.08it/s]"
     ]
    },
    {
     "name": "stdout",
     "output_type": "stream",
     "text": [
      "Jalebi 2 (720)\n",
      "Jalebi 2 (721)\n",
      "Jalebi 2 (722)\n",
      "Jalebi 2 (723)\n",
      "Jalebi 2 (724)\n",
      "Jalebi 2 (725)\n",
      "Jalebi 2 (726)\n",
      "Jalebi 2 (727)\n",
      "Jalebi 2 (728)\n",
      "Jalebi 2 (729)\n",
      "Jalebi 2 (73)\n"
     ]
    },
    {
     "name": "stderr",
     "output_type": "stream",
     "text": [
      "\r",
      " 67%|███████████████████████████████████████████████████▋                         | 7812/11648 [01:35<00:53, 71.04it/s]"
     ]
    },
    {
     "name": "stdout",
     "output_type": "stream",
     "text": [
      "Jalebi 2 (73)\n",
      "Jalebi 2 (730)\n",
      "Jalebi 2 (731)\n",
      "Jalebi 2 (732)\n",
      "Jalebi 2 (733)\n",
      "Jalebi 2 (734)\n",
      "Jalebi 2 (735)\n",
      "Jalebi 2 (736)\n",
      "Jalebi 2 (737)\n",
      "Jalebi 2 (738)\n",
      "Jalebi 2 (739)\n",
      "Jalebi 2 (74)\n",
      "Jalebi 2 (74)\n",
      "Jalebi 2 (740)\n",
      "Jalebi 2 (741)\n",
      "Jalebi 2 (742)\n",
      "Jalebi 2 (743)\n",
      "Jalebi 2 (744)\n",
      "Jalebi 2 (745)\n",
      "Jalebi 2 (746)\n"
     ]
    },
    {
     "name": "stderr",
     "output_type": "stream",
     "text": [
      "\r",
      " 67%|███████████████████████████████████████████████████▊                         | 7832/11648 [01:35<00:43, 87.54it/s]"
     ]
    },
    {
     "name": "stdout",
     "output_type": "stream",
     "text": [
      "Jalebi 2 (747)\n",
      "Jalebi 2 (748)\n",
      "Jalebi 2 (749)\n",
      "Jalebi 2 (75)\n",
      "Jalebi 2 (75)\n",
      "Jalebi 2 (750)\n",
      "Jalebi 2 (751)\n",
      "Jalebi 2 (752)\n",
      "Jalebi 2 (753)\n",
      "Jalebi 2 (754)\n",
      "Jalebi 2 (755)\n",
      "Jalebi 2 (756)\n",
      "Jalebi 2 (757)\n",
      "Jalebi 2 (758)\n",
      "Jalebi 2 (759)\n",
      "Jalebi 2 (76)\n",
      "Jalebi 2 (76)\n",
      "Jalebi 2 (760)\n",
      "Jalebi 2 (761)\n"
     ]
    },
    {
     "name": "stderr",
     "output_type": "stream",
     "text": [
      "\r",
      " 67%|███████████████████████████████████████████████████▏                        | 7851/11648 [01:35<00:36, 103.46it/s]"
     ]
    },
    {
     "name": "stdout",
     "output_type": "stream",
     "text": [
      "Jalebi 2 (762)\n",
      "Jalebi 2 (763)\n",
      "Jalebi 2 (764)\n",
      "Jalebi 2 (765)\n",
      "Jalebi 2 (766)\n",
      "Jalebi 2 (767)\n",
      "Jalebi 2 (768)\n",
      "Jalebi 2 (769)\n",
      "Jalebi 2 (77)\n",
      "Jalebi 2 (770)\n",
      "Jalebi 2 (771)\n",
      "Jalebi 2 (772)\n",
      "Jalebi 2 (773)\n",
      "Jalebi 2 (774)\n",
      "Jalebi 2 (775)\n",
      "Jalebi 2 (776)\n",
      "Jalebi 2 (777)\n",
      "Jalebi 2 (778)\n",
      "Jalebi 2 (779)\n"
     ]
    },
    {
     "name": "stderr",
     "output_type": "stream",
     "text": [
      "\r",
      " 68%|███████████████████████████████████████████████████▎                        | 7870/11648 [01:35<00:31, 119.67it/s]"
     ]
    },
    {
     "name": "stdout",
     "output_type": "stream",
     "text": [
      "Jalebi 2 (78)\n",
      "Jalebi 2 (780)\n",
      "Jalebi 2 (781)\n",
      "Jalebi 2 (782)\n",
      "Jalebi 2 (783)\n",
      "Jalebi 2 (784)\n",
      "Jalebi 2 (785)\n",
      "Jalebi 2 (786)\n",
      "Jalebi 2 (787)\n",
      "Jalebi 2 (788)\n",
      "Jalebi 2 (789)\n",
      "Jalebi 2 (79)\n",
      "Jalebi 2 (790)\n",
      "Jalebi 2 (791)\n",
      "Jalebi 2 (792)\n",
      "Jalebi 2 (793)\n"
     ]
    },
    {
     "name": "stderr",
     "output_type": "stream",
     "text": [
      "\r",
      " 68%|███████████████████████████████████████████████████▍                        | 7886/11648 [01:35<00:30, 125.00it/s]"
     ]
    },
    {
     "name": "stdout",
     "output_type": "stream",
     "text": [
      "Jalebi 2 (794)\n",
      "Jalebi 2 (795)\n",
      "Jalebi 2 (796)\n",
      "Jalebi 2 (797)\n",
      "Jalebi 2 (798)\n",
      "Jalebi 2 (799)\n",
      "Jalebi 2 (8)\n",
      "Jalebi 2 (8)\n",
      "Jalebi 2 (8)\n",
      "Jalebi 2 (80)\n",
      "Jalebi 2 (800)\n",
      "Jalebi 2 (801)\n",
      "Jalebi 2 (802)\n",
      "Jalebi 2 (803)\n",
      "Jalebi 2 (804)\n"
     ]
    },
    {
     "name": "stderr",
     "output_type": "stream",
     "text": [
      "\r",
      " 68%|███████████████████████████████████████████████████▌                        | 7901/11648 [01:35<00:35, 106.50it/s]"
     ]
    },
    {
     "name": "stdout",
     "output_type": "stream",
     "text": [
      "Jalebi 2 (805)\n",
      "Jalebi 2 (806)\n",
      "Jalebi 2 (807)\n",
      "Jalebi 2 (808)\n",
      "Jalebi 2 (809)\n",
      "Jalebi 2 (81)\n",
      "Jalebi 2 (810)\n",
      "Jalebi 2 (811)\n",
      "Jalebi 2 (812)\n",
      "Jalebi 2 (813)\n",
      "Jalebi 2 (814)\n",
      "Jalebi 2 (815)\n",
      "Jalebi 2 (816)\n",
      "Jalebi 2 (817)\n",
      "Jalebi 2 (818)\n",
      "Jalebi 2 (819)\n"
     ]
    },
    {
     "name": "stderr",
     "output_type": "stream",
     "text": [
      "\r",
      " 68%|███████████████████████████████████████████████████▋                        | 7917/11648 [01:36<00:31, 117.14it/s]"
     ]
    },
    {
     "name": "stdout",
     "output_type": "stream",
     "text": [
      "Jalebi 2 (82)\n",
      "Jalebi 2 (820)\n",
      "Jalebi 2 (821)\n",
      "Jalebi 2 (822)\n",
      "Jalebi 2 (823)\n",
      "Jalebi 2 (824)\n",
      "Jalebi 2 (825)\n",
      "Jalebi 2 (826)\n",
      "Jalebi 2 (827)\n",
      "Jalebi 2 (828)\n",
      "Jalebi 2 (829)\n",
      "Jalebi 2 (83)\n",
      "Jalebi 2 (830)\n",
      "Jalebi 2 (831)\n"
     ]
    },
    {
     "name": "stderr",
     "output_type": "stream",
     "text": [
      "\r",
      " 68%|███████████████████████████████████████████████████▋                        | 7931/11648 [01:36<00:31, 119.49it/s]"
     ]
    },
    {
     "name": "stdout",
     "output_type": "stream",
     "text": [
      "Jalebi 2 (832)\n",
      "Jalebi 2 (833)\n",
      "Jalebi 2 (834)\n",
      "Jalebi 2 (835)\n",
      "Jalebi 2 (836)\n",
      "Jalebi 2 (837)\n",
      "Jalebi 2 (838)\n",
      "Jalebi 2 (839)\n",
      "Jalebi 2 (84)\n",
      "Jalebi 2 (840)\n",
      "Jalebi 2 (841)\n",
      "Jalebi 2 (842)\n",
      "Jalebi 2 (843)\n",
      "Jalebi 2 (844)\n"
     ]
    },
    {
     "name": "stderr",
     "output_type": "stream",
     "text": [
      "\r",
      " 68%|███████████████████████████████████████████████████▊                        | 7945/11648 [01:36<00:31, 117.24it/s]"
     ]
    },
    {
     "name": "stdout",
     "output_type": "stream",
     "text": [
      "Jalebi 2 (845)\n",
      "Jalebi 2 (846)\n",
      "Jalebi 2 (847)\n",
      "Jalebi 2 (848)\n",
      "Jalebi 2 (849)\n",
      "Jalebi 2 (85)\n",
      "Jalebi 2 (850)\n",
      "Jalebi 2 (851)\n",
      "Jalebi 2 (852)\n",
      "Jalebi 2 (853)\n",
      "Jalebi 2 (854)\n",
      "Jalebi 2 (855)\n",
      "Jalebi 2 (856)\n"
     ]
    },
    {
     "name": "stderr",
     "output_type": "stream",
     "text": [
      "\r",
      " 68%|████████████████████████████████████████████████████▌                        | 7958/11648 [01:37<01:28, 41.48it/s]"
     ]
    },
    {
     "name": "stdout",
     "output_type": "stream",
     "text": [
      "Jalebi 2 (857)\n",
      "Jalebi 2 (858)\n",
      "Jalebi 2 (859)\n",
      "Jalebi 2 (86)\n",
      "Jalebi 2 (860)\n",
      "Jalebi 2 (861)\n",
      "Jalebi 2 (862)\n",
      "Jalebi 2 (863)\n",
      "Jalebi 2 (864)\n",
      "Jalebi 2 (865)\n"
     ]
    },
    {
     "name": "stderr",
     "output_type": "stream",
     "text": [
      "\r",
      " 68%|████████████████████████████████████████████████████▋                        | 7968/11648 [01:37<02:27, 24.96it/s]"
     ]
    },
    {
     "name": "stdout",
     "output_type": "stream",
     "text": [
      "Jalebi 2 (866)\n",
      "Jalebi 2 (867)\n",
      "Jalebi 2 (868)\n",
      "Jalebi 2 (869)\n",
      "Jalebi 2 (87)\n",
      "Jalebi 2 (870)\n",
      "Jalebi 2 (871)\n"
     ]
    },
    {
     "name": "stderr",
     "output_type": "stream",
     "text": [
      "\r",
      " 68%|████████████████████████████████████████████████████▋                        | 7975/11648 [01:38<02:59, 20.45it/s]"
     ]
    },
    {
     "name": "stdout",
     "output_type": "stream",
     "text": [
      "Jalebi 2 (872)\n",
      "Jalebi 2 (873)\n",
      "Jalebi 2 (874)\n",
      "Jalebi 2 (875)\n",
      "Jalebi 2 (876)\n",
      "Jalebi 2 (877)\n"
     ]
    },
    {
     "name": "stderr",
     "output_type": "stream",
     "text": [
      "\r",
      " 69%|████████████████████████████████████████████████████▊                        | 7981/11648 [01:38<03:01, 20.16it/s]"
     ]
    },
    {
     "name": "stdout",
     "output_type": "stream",
     "text": [
      "Jalebi 2 (878)\n",
      "Jalebi 2 (879)\n",
      "Jalebi 2 (88)\n",
      "Jalebi 2 (880)\n",
      "Jalebi 2 (881)\n",
      "Jalebi 2 (882)\n"
     ]
    },
    {
     "name": "stderr",
     "output_type": "stream",
     "text": [
      "\r",
      " 69%|████████████████████████████████████████████████████▊                        | 7987/11648 [01:38<02:26, 24.97it/s]"
     ]
    },
    {
     "name": "stdout",
     "output_type": "stream",
     "text": [
      "Jalebi 2 (883)\n",
      "Jalebi 2 (884)\n",
      "Jalebi 2 (885)\n",
      "Jalebi 2 (886)\n",
      "Jalebi 2 (887)\n"
     ]
    },
    {
     "name": "stderr",
     "output_type": "stream",
     "text": [
      "\r",
      " 69%|████████████████████████████████████████████████████▊                        | 7992/11648 [01:38<02:05, 29.19it/s]"
     ]
    },
    {
     "name": "stdout",
     "output_type": "stream",
     "text": [
      "Jalebi 2 (888)\n",
      "Jalebi 2 (889)\n",
      "Jalebi 2 (89)\n",
      "Jalebi 2 (890)\n",
      "Jalebi 2 (891)\n",
      "Jalebi 2 (892)\n"
     ]
    },
    {
     "name": "stderr",
     "output_type": "stream",
     "text": [
      "\r",
      " 69%|████████████████████████████████████████████████████▊                        | 7998/11648 [01:39<01:49, 33.43it/s]"
     ]
    },
    {
     "name": "stdout",
     "output_type": "stream",
     "text": [
      "Jalebi 2 (893)\n",
      "Jalebi 2 (894)\n",
      "Jalebi 2 (895)\n",
      "Jalebi 2 (896)\n",
      "Jalebi 2 (897)\n"
     ]
    },
    {
     "name": "stderr",
     "output_type": "stream",
     "text": [
      "\r",
      " 69%|████████████████████████████████████████████████████▉                        | 8003/11648 [01:39<01:41, 35.94it/s]"
     ]
    },
    {
     "name": "stdout",
     "output_type": "stream",
     "text": [
      "Jalebi 2 (898)\n",
      "Jalebi 2 (899)\n",
      "Jalebi 2 (9)\n",
      "Jalebi 2 (9)\n",
      "Jalebi 2 (9)\n"
     ]
    },
    {
     "name": "stderr",
     "output_type": "stream",
     "text": [
      "\r",
      " 69%|████████████████████████████████████████████████████▉                        | 8008/11648 [01:39<01:39, 36.69it/s]"
     ]
    },
    {
     "name": "stdout",
     "output_type": "stream",
     "text": [
      "Jalebi 2 (90)\n",
      "Jalebi 2 (900)\n",
      "Jalebi 2 (901)\n",
      "Jalebi 2 (902)\n",
      "Jalebi 2 (903)\n",
      "Jalebi 2 (904)\n"
     ]
    },
    {
     "name": "stderr",
     "output_type": "stream",
     "text": [
      "\r",
      " 69%|████████████████████████████████████████████████████▉                        | 8014/11648 [01:39<01:31, 39.66it/s]"
     ]
    },
    {
     "name": "stdout",
     "output_type": "stream",
     "text": [
      "Jalebi 2 (905)\n",
      "Jalebi 2 (906)\n",
      "Jalebi 2 (907)\n",
      "Jalebi 2 (908)\n",
      "Jalebi 2 (909)\n",
      "Jalebi 2 (91)\n",
      "Jalebi 2 (910)\n",
      "Jalebi 2 (911)\n",
      "Jalebi 2 (912)\n",
      "Jalebi 2 (913)\n"
     ]
    },
    {
     "name": "stderr",
     "output_type": "stream",
     "text": [
      "\r",
      " 69%|█████████████████████████████████████████████████████                        | 8024/11648 [01:39<01:15, 48.17it/s]"
     ]
    },
    {
     "name": "stdout",
     "output_type": "stream",
     "text": [
      "Jalebi 2 (914)\n",
      "Jalebi 2 (915)\n",
      "Jalebi 2 (916)\n",
      "Jalebi 2 (917)\n",
      "Jalebi 2 (918)\n",
      "Jalebi 2 (919)\n",
      "Jalebi 2 (92)\n",
      "Jalebi 2 (920)\n",
      "Jalebi 2 (921)\n",
      "Jalebi 2 (922)\n",
      "Jalebi 2 (923)\n",
      "Jalebi 2 (924)\n",
      "Jalebi 2 (925)\n",
      "Jalebi 2 (926)\n",
      "Jalebi 2 (927)\n",
      "Jalebi 2 (928)\n",
      "Jalebi 2 (929)\n",
      "Jalebi 2 (93)\n",
      "Jalebi 2 (930)\n",
      "Jalebi 2 (931)\n",
      "Jalebi 2 (932)\n"
     ]
    },
    {
     "name": "stderr",
     "output_type": "stream",
     "text": [
      "\r",
      " 69%|█████████████████████████████████████████████████████▏                       | 8045/11648 [01:39<00:57, 62.50it/s]"
     ]
    },
    {
     "name": "stdout",
     "output_type": "stream",
     "text": [
      "Jalebi 2 (933)\n",
      "Jalebi 2 (934)\n",
      "Jalebi 2 (935)\n",
      "Jalebi 2 (936)\n",
      "Jalebi 2 (937)\n",
      "Jalebi 2 (938)\n",
      "Jalebi 2 (939)\n",
      "Jalebi 2 (94)\n",
      "Jalebi 2 (940)\n",
      "Jalebi 2 (941)\n",
      "Jalebi 2 (942)\n",
      "Jalebi 2 (943)\n",
      "Jalebi 2 (944)\n",
      "Jalebi 2 (945)\n",
      "Jalebi 2 (946)\n",
      "Jalebi 2 (947)\n",
      "Jalebi 2 (948)\n",
      "Jalebi 2 (949)\n",
      "Jalebi 2 (95)\n"
     ]
    },
    {
     "name": "stderr",
     "output_type": "stream",
     "text": [
      "\r",
      " 69%|█████████████████████████████████████████████████████▎                       | 8064/11648 [01:39<00:45, 77.99it/s]"
     ]
    },
    {
     "name": "stdout",
     "output_type": "stream",
     "text": [
      "Jalebi 2 (950)\n",
      "Jalebi 2 (951)\n",
      "Jalebi 2 (952)\n",
      "Jalebi 2 (953)\n",
      "Jalebi 2 (954)\n",
      "Jalebi 2 (955)\n",
      "Jalebi 2 (956)\n",
      "Jalebi 2 (957)\n",
      "Jalebi 2 (958)\n",
      "Jalebi 2 (959)\n",
      "Jalebi 2 (96)\n",
      "Jalebi 2 (960)\n",
      "Jalebi 2 (961)\n",
      "Jalebi 2 (962)\n",
      "Jalebi 2 (963)\n",
      "Jalebi 2 (964)\n",
      "Jalebi 2 (965)\n",
      "Jalebi 2 (966)\n",
      "Jalebi 2 (967)\n",
      "Jalebi 2 (968)\n",
      "Jalebi 2 (969)\n",
      "Jalebi 2 (97)\n"
     ]
    },
    {
     "name": "stderr",
     "output_type": "stream",
     "text": [
      "\r",
      " 69%|█████████████████████████████████████████████████████▍                       | 8086/11648 [01:39<00:36, 96.38it/s]"
     ]
    },
    {
     "name": "stdout",
     "output_type": "stream",
     "text": [
      "Jalebi 2 (970)\n",
      "Jalebi 2 (971)\n",
      "Jalebi 2 (972)\n",
      "Jalebi 2 (973)\n",
      "Jalebi 2 (974)\n",
      "Jalebi 2 (975)\n",
      "Jalebi 2 (976)\n",
      "Jalebi 2 (977)\n",
      "Jalebi 2 (978)\n",
      "Jalebi 2 (979)\n",
      "Jalebi 2 (98)\n",
      "Jalebi 2 (980)\n",
      "Jalebi 2 (981)\n",
      "Jalebi 2 (982)\n",
      "Jalebi 2 (983)\n",
      "Jalebi 2 (984)\n",
      "Jalebi 2 (985)\n",
      "Jalebi 2 (986)\n",
      "Jalebi 2 (987)\n"
     ]
    },
    {
     "name": "stderr",
     "output_type": "stream",
     "text": [
      "\r",
      " 70%|████████████████████████████████████████████████████▉                       | 8105/11648 [01:39<00:31, 112.55it/s]"
     ]
    },
    {
     "name": "stdout",
     "output_type": "stream",
     "text": [
      "Jalebi 2 (988)\n",
      "Jalebi 2 (989)\n",
      "Jalebi 2 (99)\n",
      "Jalebi 2 (990)\n",
      "Jalebi 2 (991)\n",
      "Jalebi 2 (992)\n",
      "Jalebi 2 (993)\n",
      "Jalebi 2 (994)\n",
      "Jalebi 2 (995)\n",
      "Jalebi 2 (996)\n",
      "Jalebi 2 (997)\n",
      "Jalebi 2 (998)\n",
      "Jalebi 2 (999)\n",
      "Jalebi 4 (1)\n",
      "Jalebi 4 (1)\n",
      "Jalebi 4 (1)\n",
      "Jalebi 4 (10)\n"
     ]
    },
    {
     "name": "stderr",
     "output_type": "stream",
     "text": [
      "\r",
      " 70%|████████████████████████████████████████████████████▉                       | 8122/11648 [01:40<00:33, 104.56it/s]"
     ]
    },
    {
     "name": "stdout",
     "output_type": "stream",
     "text": [
      "Jalebi 4 (10)\n",
      "Jalebi 4 (10)\n",
      "Jalebi 4 (100)\n",
      "Jalebi 4 (101)\n",
      "Jalebi 4 (102)\n",
      "Jalebi 4 (103)\n",
      "Jalebi 4 (104)\n",
      "Jalebi 4 (105)\n",
      "Jalebi 4 (106)\n",
      "Jalebi 4 (107)\n",
      "Jalebi 4 (108)\n",
      "Jalebi 4 (109)\n",
      "Jalebi 4 (11)\n",
      "Jalebi 4 (11)\n",
      "Jalebi 4 (11)\n"
     ]
    },
    {
     "name": "stderr",
     "output_type": "stream",
     "text": [
      "\r",
      " 70%|█████████████████████████████████████████████████████▊                       | 8137/11648 [01:40<00:35, 99.35it/s]"
     ]
    },
    {
     "name": "stdout",
     "output_type": "stream",
     "text": [
      "Jalebi 4 (110)\n",
      "Jalebi 4 (111)\n",
      "Jalebi 4 (112)\n",
      "Jalebi 4 (113)\n",
      "Jalebi 4 (114)\n",
      "Jalebi 4 (115)\n",
      "Jalebi 4 (116)\n",
      "Jalebi 4 (117)\n",
      "Jalebi 4 (118)\n",
      "Jalebi 4 (119)\n",
      "Jalebi 4 (12)\n",
      "Jalebi 4 (12)\n",
      "Jalebi 4 (120)\n",
      "Jalebi 4 (121)\n"
     ]
    },
    {
     "name": "stderr",
     "output_type": "stream",
     "text": [
      "\r",
      " 70%|█████████████████████████████████████████████████████▏                      | 8151/11648 [01:40<00:32, 107.40it/s]"
     ]
    },
    {
     "name": "stdout",
     "output_type": "stream",
     "text": [
      "Jalebi 4 (122)\n",
      "Jalebi 4 (123)\n",
      "Jalebi 4 (124)\n",
      "Jalebi 4 (125)\n",
      "Jalebi 4 (126)\n",
      "Jalebi 4 (127)\n",
      "Jalebi 4 (128)\n",
      "Jalebi 4 (129)\n",
      "Jalebi 4 (13)\n",
      "Jalebi 4 (13)\n",
      "Jalebi 4 (130)\n",
      "Jalebi 4 (131)\n",
      "Jalebi 4 (132)\n"
     ]
    },
    {
     "name": "stderr",
     "output_type": "stream",
     "text": [
      "\r",
      " 70%|█████████████████████████████████████████████████████▉                       | 8164/11648 [01:40<00:49, 70.06it/s]"
     ]
    },
    {
     "name": "stdout",
     "output_type": "stream",
     "text": [
      "Jalebi 4 (133)\n",
      "Jalebi 4 (134)\n",
      "Jalebi 4 (135)\n",
      "Jalebi 4 (136)\n",
      "Jalebi 4 (137)\n",
      "Jalebi 4 (138)\n",
      "Jalebi 4 (139)\n",
      "Jalebi 4 (14)\n",
      "Jalebi 4 (14)\n",
      "Jalebi 4 (140)\n",
      "Jalebi 4 (141)\n",
      "Jalebi 4 (142)\n",
      "Jalebi 4 (143)\n",
      "Jalebi 4 (144)\n",
      "Jalebi 4 (145)\n",
      "Jalebi 4 (146)\n"
     ]
    },
    {
     "name": "stderr",
     "output_type": "stream",
     "text": [
      "\r",
      " 70%|██████████████████████████████████████████████████████                       | 8180/11648 [01:40<00:41, 83.90it/s]"
     ]
    },
    {
     "name": "stdout",
     "output_type": "stream",
     "text": [
      "Jalebi 4 (147)\n",
      "Jalebi 4 (148)\n",
      "Jalebi 4 (149)\n",
      "Jalebi 4 (15)\n",
      "Jalebi 4 (15)\n",
      "Jalebi 4 (150)\n",
      "Jalebi 4 (151)\n",
      "Jalebi 4 (152)\n",
      "Jalebi 4 (153)\n",
      "Jalebi 4 (154)\n",
      "Jalebi 4 (155)\n",
      "Jalebi 4 (156)\n",
      "Jalebi 4 (157)\n",
      "Jalebi 4 (158)\n",
      "Jalebi 4 (159)\n"
     ]
    },
    {
     "name": "stderr",
     "output_type": "stream",
     "text": [
      "\r",
      " 70%|██████████████████████████████████████████████████████▏                      | 8195/11648 [01:40<00:35, 96.00it/s]"
     ]
    },
    {
     "name": "stdout",
     "output_type": "stream",
     "text": [
      "Jalebi 4 (16)\n",
      "Jalebi 4 (16)\n",
      "Jalebi 4 (160)\n",
      "Jalebi 4 (161)\n",
      "Jalebi 4 (162)\n",
      "Jalebi 4 (163)\n",
      "Jalebi 4 (164)\n",
      "Jalebi 4 (165)\n",
      "Jalebi 4 (166)\n",
      "Jalebi 4 (167)\n",
      "Jalebi 4 (168)\n",
      "Jalebi 4 (169)\n",
      "Jalebi 4 (17)\n",
      "Jalebi 4 (17)\n",
      "Jalebi 4 (170)\n",
      "Jalebi 4 (171)\n"
     ]
    },
    {
     "name": "stderr",
     "output_type": "stream",
     "text": [
      "\r",
      " 70%|█████████████████████████████████████████████████████▌                      | 8211/11648 [01:40<00:31, 108.93it/s]"
     ]
    },
    {
     "name": "stdout",
     "output_type": "stream",
     "text": [
      "Jalebi 4 (172)\n",
      "Jalebi 4 (173)\n",
      "Jalebi 4 (174)\n",
      "Jalebi 4 (175)\n",
      "Jalebi 4 (176)\n",
      "Jalebi 4 (177)\n",
      "Jalebi 4 (178)\n",
      "Jalebi 4 (179)\n",
      "Jalebi 4 (18)\n",
      "Jalebi 4 (18)\n",
      "Jalebi 4 (180)\n",
      "Jalebi 4 (181)\n",
      "Jalebi 4 (182)\n",
      "Jalebi 4 (183)\n",
      "Jalebi 4 (184)\n",
      "Jalebi 4 (185)\n",
      "Jalebi 4 (186)\n",
      "Jalebi 4 (187)\n"
     ]
    },
    {
     "name": "stderr",
     "output_type": "stream",
     "text": [
      "\r",
      " 71%|█████████████████████████████████████████████████████▋                      | 8229/11648 [01:41<00:27, 122.37it/s]"
     ]
    },
    {
     "name": "stdout",
     "output_type": "stream",
     "text": [
      "Jalebi 4 (188)\n",
      "Jalebi 4 (189)\n",
      "Jalebi 4 (19)\n",
      "Jalebi 4 (19)\n",
      "Jalebi 4 (190)\n",
      "Jalebi 4 (191)\n",
      "Jalebi 4 (192)\n",
      "Jalebi 4 (193)\n",
      "Jalebi 4 (194)\n",
      "Jalebi 4 (195)\n",
      "Jalebi 4 (196)\n",
      "Jalebi 4 (197)\n",
      "Jalebi 4 (198)\n",
      "Jalebi 4 (199)\n",
      "Jalebi 4 (2)\n",
      "Jalebi 4 (2)\n",
      "Jalebi 4 (2)\n"
     ]
    },
    {
     "name": "stderr",
     "output_type": "stream",
     "text": [
      "\r",
      " 71%|█████████████████████████████████████████████████████▊                      | 8246/11648 [01:41<00:26, 127.68it/s]"
     ]
    },
    {
     "name": "stdout",
     "output_type": "stream",
     "text": [
      "Jalebi 4 (20)\n",
      "Jalebi 4 (20)\n",
      "Jalebi 4 (200)\n",
      "Jalebi 4 (201)\n",
      "Jalebi 4 (202)\n",
      "Jalebi 4 (203)\n",
      "Jalebi 4 (204)\n",
      "Jalebi 4 (205)\n",
      "Jalebi 4 (206)\n",
      "Jalebi 4 (207)\n",
      "Jalebi 4 (208)\n",
      "Jalebi 4 (209)\n",
      "Jalebi 4 (21)\n",
      "Jalebi 4 (210)\n",
      "Jalebi 4 (211)\n"
     ]
    },
    {
     "name": "stderr",
     "output_type": "stream",
     "text": [
      "\r",
      " 71%|█████████████████████████████████████████████████████▉                      | 8261/11648 [01:41<00:27, 125.06it/s]"
     ]
    },
    {
     "name": "stdout",
     "output_type": "stream",
     "text": [
      "Jalebi 4 (212)\n",
      "Jalebi 4 (213)\n",
      "Jalebi 4 (214)\n",
      "Jalebi 4 (215)\n",
      "Jalebi 4 (216)\n",
      "Jalebi 4 (217)\n",
      "Jalebi 4 (218)\n",
      "Jalebi 4 (219)\n",
      "Jalebi 4 (22)\n",
      "Jalebi 4 (220)\n",
      "Jalebi 4 (221)\n",
      "Jalebi 4 (222)\n",
      "Jalebi 4 (223)\n",
      "Jalebi 4 (224)\n"
     ]
    },
    {
     "name": "stderr",
     "output_type": "stream",
     "text": [
      "\r",
      " 71%|██████████████████████████████████████████████████████▋                      | 8275/11648 [01:41<00:35, 94.55it/s]"
     ]
    },
    {
     "name": "stdout",
     "output_type": "stream",
     "text": [
      "Jalebi 4 (225)\n",
      "Jalebi 4 (226)\n",
      "Jalebi 4 (227)\n",
      "Jalebi 4 (228)\n",
      "Jalebi 4 (229)\n",
      "Jalebi 4 (23)\n",
      "Jalebi 4 (230)\n",
      "Jalebi 4 (231)\n",
      "Jalebi 4 (232)\n",
      "Jalebi 4 (233)\n",
      "Jalebi 4 (234)\n",
      "Jalebi 4 (235)\n"
     ]
    },
    {
     "name": "stderr",
     "output_type": "stream",
     "text": [
      "\r",
      " 71%|██████████████████████████████████████████████████████▊                      | 8287/11648 [01:41<00:38, 86.26it/s]"
     ]
    },
    {
     "name": "stdout",
     "output_type": "stream",
     "text": [
      "Jalebi 4 (236)\n",
      "Jalebi 4 (237)\n",
      "Jalebi 4 (238)\n",
      "Jalebi 4 (239)\n",
      "Jalebi 4 (24)\n",
      "Jalebi 4 (240)\n",
      "Jalebi 4 (241)\n",
      "Jalebi 4 (242)\n",
      "Jalebi 4 (243)\n",
      "Jalebi 4 (244)\n",
      "Jalebi 4 (245)\n",
      "Jalebi 4 (246)\n",
      "Jalebi 4 (247)\n",
      "Jalebi 4 (248)\n"
     ]
    },
    {
     "name": "stderr",
     "output_type": "stream",
     "text": [
      "\r",
      " 71%|██████████████████████████████████████████████████████▊                      | 8301/11648 [01:41<00:34, 95.75it/s]"
     ]
    },
    {
     "name": "stdout",
     "output_type": "stream",
     "text": [
      "Jalebi 4 (249)\n",
      "Jalebi 4 (25)\n",
      "Jalebi 4 (250)\n",
      "Jalebi 4 (251)\n",
      "Jalebi 4 (252)\n",
      "Jalebi 4 (253)\n",
      "Jalebi 4 (254)\n",
      "Jalebi 4 (255)\n",
      "Jalebi 4 (256)\n",
      "Jalebi 4 (257)\n",
      "Jalebi 4 (258)\n"
     ]
    },
    {
     "name": "stderr",
     "output_type": "stream",
     "text": [
      "\r",
      " 71%|██████████████████████████████████████████████████████▉                      | 8312/11648 [01:41<00:36, 92.19it/s]"
     ]
    },
    {
     "name": "stdout",
     "output_type": "stream",
     "text": [
      "Jalebi 4 (259)\n",
      "Jalebi 4 (26)\n",
      "Jalebi 4 (260)\n",
      "Jalebi 4 (261)\n",
      "Jalebi 4 (262)\n",
      "Jalebi 4 (263)\n",
      "Jalebi 4 (264)\n",
      "Jalebi 4 (265)\n",
      "Jalebi 4 (266)\n",
      "Jalebi 4 (267)\n",
      "Jalebi 4 (268)\n"
     ]
    },
    {
     "name": "stderr",
     "output_type": "stream",
     "text": [
      "\r",
      " 71%|███████████████████████████████████████████████████████                      | 8323/11648 [01:42<00:36, 91.19it/s]"
     ]
    },
    {
     "name": "stdout",
     "output_type": "stream",
     "text": [
      "Jalebi 4 (269)\n",
      "Jalebi 4 (27)\n",
      "Jalebi 4 (270)\n",
      "Jalebi 4 (271)\n",
      "Jalebi 4 (272)\n",
      "Jalebi 4 (273)\n",
      "Jalebi 4 (274)\n",
      "Jalebi 4 (275)\n",
      "Jalebi 4 (276)\n",
      "Jalebi 4 (277)\n"
     ]
    },
    {
     "name": "stderr",
     "output_type": "stream",
     "text": [
      "\r",
      " 72%|███████████████████████████████████████████████████████                      | 8333/11648 [01:42<00:36, 90.69it/s]"
     ]
    },
    {
     "name": "stdout",
     "output_type": "stream",
     "text": [
      "Jalebi 4 (278)\n",
      "Jalebi 4 (279)\n",
      "Jalebi 4 (28)\n",
      "Jalebi 4 (280)\n",
      "Jalebi 4 (281)\n",
      "Jalebi 4 (282)\n",
      "Jalebi 4 (283)\n",
      "Jalebi 4 (284)\n",
      "Jalebi 4 (285)\n",
      "Jalebi 4 (286)\n",
      "Jalebi 4 (287)\n",
      "Jalebi 4 (288)\n",
      "Jalebi 4 (289)\n",
      "Jalebi 4 (29)\n"
     ]
    },
    {
     "name": "stderr",
     "output_type": "stream",
     "text": [
      "\r",
      " 72%|███████████████████████████████████████████████████████▏                     | 8347/11648 [01:42<00:33, 97.65it/s]"
     ]
    },
    {
     "name": "stdout",
     "output_type": "stream",
     "text": [
      "Jalebi 4 (290)\n",
      "Jalebi 4 (291)\n",
      "Jalebi 4 (292)\n",
      "Jalebi 4 (293)\n",
      "Jalebi 4 (294)\n",
      "Jalebi 4 (295)\n",
      "Jalebi 4 (296)\n",
      "Jalebi 4 (297)\n",
      "Jalebi 4 (298)\n",
      "Jalebi 4 (299)\n",
      "Jalebi 4 (3)\n"
     ]
    },
    {
     "name": "stderr",
     "output_type": "stream",
     "text": [
      "\r",
      " 72%|███████████████████████████████████████████████████████▎                     | 8358/11648 [01:42<00:34, 96.11it/s]"
     ]
    },
    {
     "name": "stdout",
     "output_type": "stream",
     "text": [
      "Jalebi 4 (3)\n",
      "Jalebi 4 (3)\n",
      "Jalebi 4 (30)\n",
      "Jalebi 4 (300)\n",
      "Jalebi 4 (301)\n",
      "Jalebi 4 (302)\n",
      "Jalebi 4 (303)\n",
      "Jalebi 4 (304)\n",
      "Jalebi 4 (305)\n",
      "Jalebi 4 (306)\n"
     ]
    },
    {
     "name": "stderr",
     "output_type": "stream",
     "text": [
      "\r",
      " 72%|███████████████████████████████████████████████████████▎                     | 8368/11648 [01:42<00:44, 74.36it/s]"
     ]
    },
    {
     "name": "stdout",
     "output_type": "stream",
     "text": [
      "Jalebi 4 (307)\n",
      "Jalebi 4 (308)\n",
      "Jalebi 4 (309)\n",
      "Jalebi 4 (31)\n",
      "Jalebi 4 (310)\n",
      "Jalebi 4 (311)\n",
      "Jalebi 4 (312)\n",
      "Jalebi 4 (313)\n",
      "Jalebi 4 (314)\n"
     ]
    },
    {
     "name": "stderr",
     "output_type": "stream",
     "text": [
      "\r",
      " 72%|███████████████████████████████████████████████████████▍                     | 8377/11648 [01:42<00:44, 73.34it/s]"
     ]
    },
    {
     "name": "stdout",
     "output_type": "stream",
     "text": [
      "Jalebi 4 (315)\n",
      "Jalebi 4 (316)\n",
      "Jalebi 4 (317)\n",
      "Jalebi 4 (318)\n",
      "Jalebi 4 (319)\n",
      "Jalebi 4 (32)\n",
      "Jalebi 4 (320)\n",
      "Jalebi 4 (321)\n",
      "Jalebi 4 (322)\n",
      "Jalebi 4 (323)\n",
      "Jalebi 4 (324)\n",
      "Jalebi 4 (325)\n"
     ]
    },
    {
     "name": "stderr",
     "output_type": "stream",
     "text": [
      "\r",
      " 72%|███████████████████████████████████████████████████████▍                     | 8389/11648 [01:42<00:41, 79.45it/s]"
     ]
    },
    {
     "name": "stdout",
     "output_type": "stream",
     "text": [
      "Jalebi 4 (326)\n",
      "Jalebi 4 (327)\n",
      "Jalebi 4 (328)\n",
      "Jalebi 4 (329)\n",
      "Jalebi 4 (33)\n",
      "Jalebi 4 (330)\n",
      "Jalebi 4 (331)\n",
      "Jalebi 4 (332)\n",
      "Jalebi 4 (34)\n"
     ]
    },
    {
     "name": "stderr",
     "output_type": "stream",
     "text": [
      "\r",
      " 72%|███████████████████████████████████████████████████████▌                     | 8398/11648 [01:43<00:56, 57.84it/s]"
     ]
    },
    {
     "name": "stdout",
     "output_type": "stream",
     "text": [
      "Jalebi 4 (35)\n",
      "Jalebi 4 (36)\n",
      "Jalebi 4 (37)\n",
      "Jalebi 4 (38)\n",
      "Jalebi 4 (39)\n",
      "Jalebi 4 (4)\n",
      "Jalebi 4 (4)\n",
      "Jalebi 4 (4)\n"
     ]
    },
    {
     "name": "stderr",
     "output_type": "stream",
     "text": [
      "\r",
      " 72%|███████████████████████████████████████████████████████▌                     | 8406/11648 [01:43<00:51, 62.39it/s]"
     ]
    },
    {
     "name": "stdout",
     "output_type": "stream",
     "text": [
      "Jalebi 4 (40)\n",
      "Jalebi 4 (41)\n",
      "Jalebi 4 (42)\n",
      "Jalebi 4 (43)\n",
      "Jalebi 4 (44)\n",
      "Jalebi 4 (45)\n",
      "Jalebi 4 (46)\n",
      "Jalebi 4 (47)\n"
     ]
    },
    {
     "name": "stderr",
     "output_type": "stream",
     "text": [
      "\r",
      " 72%|███████████████████████████████████████████████████████▌                     | 8414/11648 [01:43<00:50, 64.27it/s]"
     ]
    },
    {
     "name": "stdout",
     "output_type": "stream",
     "text": [
      "Jalebi 4 (48)\n",
      "Jalebi 4 (49)\n",
      "Jalebi 4 (5)\n",
      "Jalebi 4 (5)\n",
      "Jalebi 4 (5)\n",
      "Jalebi 4 (50)\n",
      "Jalebi 4 (51)\n",
      "Jalebi 4 (52)\n"
     ]
    },
    {
     "name": "stderr",
     "output_type": "stream",
     "text": [
      "\r",
      " 72%|███████████████████████████████████████████████████████▋                     | 8422/11648 [01:43<00:49, 65.82it/s]"
     ]
    },
    {
     "name": "stdout",
     "output_type": "stream",
     "text": [
      "Jalebi 4 (53)\n",
      "Jalebi 4 (54)\n",
      "Jalebi 4 (55)\n",
      "Jalebi 4 (56)\n",
      "Jalebi 4 (57)\n",
      "Jalebi 4 (58)\n",
      "Jalebi 4 (59)\n",
      "Jalebi 4 (6)\n",
      "Jalebi 4 (6)\n",
      "Jalebi 4 (6)\n"
     ]
    },
    {
     "name": "stderr",
     "output_type": "stream",
     "text": [
      "\r",
      " 72%|███████████████████████████████████████████████████████▋                     | 8432/11648 [01:43<00:45, 70.90it/s]"
     ]
    },
    {
     "name": "stdout",
     "output_type": "stream",
     "text": [
      "Jalebi 4 (60)\n",
      "Jalebi 4 (61)\n",
      "Jalebi 4 (62)\n",
      "Jalebi 4 (63)\n",
      "Jalebi 4 (64)\n",
      "Jalebi 4 (65)\n",
      "Jalebi 4 (66)\n",
      "Jalebi 4 (67)\n",
      "Jalebi 4 (68)\n"
     ]
    },
    {
     "name": "stderr",
     "output_type": "stream",
     "text": [
      "\r",
      " 72%|███████████████████████████████████████████████████████▊                     | 8441/11648 [01:43<00:44, 71.96it/s]"
     ]
    },
    {
     "name": "stdout",
     "output_type": "stream",
     "text": [
      "Jalebi 4 (69)\n",
      "Jalebi 4 (7)\n",
      "Jalebi 4 (7)\n",
      "Jalebi 4 (7)\n",
      "Jalebi 4 (70)\n",
      "Jalebi 4 (71)\n",
      "Jalebi 4 (72)\n",
      "Jalebi 4 (73)\n",
      "Jalebi 4 (74)\n",
      "Jalebi 4 (75)\n",
      "Jalebi 4 (76)\n"
     ]
    },
    {
     "name": "stderr",
     "output_type": "stream",
     "text": [
      "\r",
      " 73%|███████████████████████████████████████████████████████▊                     | 8452/11648 [01:43<00:42, 76.02it/s]"
     ]
    },
    {
     "name": "stdout",
     "output_type": "stream",
     "text": [
      "Jalebi 4 (77)\n",
      "Jalebi 4 (78)\n",
      "Jalebi 4 (79)\n",
      "Jalebi 4 (8)\n",
      "Jalebi 4 (8)\n",
      "Jalebi 4 (8)\n",
      "Jalebi 4 (80)\n",
      "Jalebi 4 (81)\n"
     ]
    },
    {
     "name": "stderr",
     "output_type": "stream",
     "text": [
      "\r",
      " 73%|███████████████████████████████████████████████████████▉                     | 8460/11648 [01:43<00:45, 70.51it/s]"
     ]
    },
    {
     "name": "stdout",
     "output_type": "stream",
     "text": [
      "Jalebi 4 (82)\n",
      "Jalebi 4 (83)\n",
      "Jalebi 4 (84)\n",
      "Jalebi 4 (85)\n",
      "Jalebi 4 (86)\n",
      "Jalebi 4 (87)\n",
      "Jalebi 4 (88)\n",
      "Jalebi 4 (89)\n"
     ]
    },
    {
     "name": "stderr",
     "output_type": "stream",
     "text": [
      "\r",
      " 73%|███████████████████████████████████████████████████████▉                     | 8468/11648 [01:44<00:47, 66.44it/s]"
     ]
    },
    {
     "name": "stdout",
     "output_type": "stream",
     "text": [
      "Jalebi 4 (9)\n",
      "Jalebi 4 (9)\n",
      "Jalebi 4 (9)\n",
      "Jalebi 4 (90)\n",
      "Jalebi 4 (91)\n",
      "Jalebi 4 (92)\n",
      "Jalebi 4 (93)\n",
      "Jalebi 4 (94)\n",
      "Jalebi 4 (95)\n",
      "Jalebi 4 (96)\n"
     ]
    },
    {
     "name": "stderr",
     "output_type": "stream",
     "text": [
      "\r",
      " 73%|████████████████████████████████████████████████████████                     | 8478/11648 [01:44<00:43, 73.43it/s]"
     ]
    },
    {
     "name": "stdout",
     "output_type": "stream",
     "text": [
      "Jalebi 4 (97)\n",
      "Jalebi 4 (98)\n",
      "Jalebi 4 (99)\n",
      "RASMALAI (100)\n",
      "RASMALAI (100)\n",
      "RASMALAI (1000)\n",
      "RASMALAI (1001)\n",
      "RASMALAI (1002)\n",
      "RASMALAI (1003)\n",
      "RASMALAI (1004)\n",
      "RASMALAI (1005)\n",
      "RASMALAI (1006)\n",
      "RASMALAI (1007)\n",
      "RASMALAI (1008)\n",
      "RASMALAI (1009)\n",
      "RASMALAI (101)\n",
      "RASMALAI (101)\n"
     ]
    },
    {
     "name": "stderr",
     "output_type": "stream",
     "text": [
      "\r",
      " 73%|████████████████████████████████████████████████████████▏                    | 8495/11648 [01:44<00:36, 86.66it/s]"
     ]
    },
    {
     "name": "stdout",
     "output_type": "stream",
     "text": [
      "RASMALAI (1010)\n",
      "RASMALAI (1011)\n",
      "RASMALAI (1012)\n",
      "RASMALAI (1013)\n",
      "RASMALAI (1014)\n",
      "RASMALAI (1015)\n",
      "RASMALAI (1016)\n",
      "RASMALAI (1017)\n",
      "RASMALAI (1018)\n",
      "RASMALAI (1019)\n",
      "RASMALAI (102)\n",
      "RASMALAI (102)\n",
      "RASMALAI (1020)\n",
      "RASMALAI (1021)\n",
      "RASMALAI (1022)\n",
      "RASMALAI (1023)\n"
     ]
    },
    {
     "name": "stderr",
     "output_type": "stream",
     "text": [
      "\r",
      " 73%|████████████████████████████████████████████████████████▎                    | 8511/11648 [01:44<00:31, 99.59it/s]"
     ]
    },
    {
     "name": "stdout",
     "output_type": "stream",
     "text": [
      "RASMALAI (1024)\n",
      "RASMALAI (1025)\n",
      "RASMALAI (1026)\n",
      "RASMALAI (1027)\n",
      "RASMALAI (1028)\n",
      "RASMALAI (1029)\n",
      "RASMALAI (103)\n",
      "RASMALAI (103)\n",
      "RASMALAI (1030)\n",
      "RASMALAI (1031)\n",
      "RASMALAI (1032)\n",
      "RASMALAI (1033)\n"
     ]
    },
    {
     "name": "stderr",
     "output_type": "stream",
     "text": [
      "\r",
      " 73%|███████████████████████████████████████████████████████▌                    | 8523/11648 [01:44<00:30, 103.13it/s]"
     ]
    },
    {
     "name": "stdout",
     "output_type": "stream",
     "text": [
      "RASMALAI (1034)\n",
      "RASMALAI (1035)\n",
      "RASMALAI (1036)\n",
      "RASMALAI (1037)\n",
      "RASMALAI (1038)\n",
      "RASMALAI (1039)\n",
      "RASMALAI (104)\n",
      "RASMALAI (104)\n",
      "RASMALAI (1040)\n",
      "RASMALAI (1041)\n",
      "RASMALAI (1042)\n",
      "RASMALAI (1043)\n"
     ]
    },
    {
     "name": "stderr",
     "output_type": "stream",
     "text": [
      "\r",
      " 73%|████████████████████████████████████████████████████████▍                    | 8535/11648 [01:44<00:32, 96.36it/s]"
     ]
    },
    {
     "name": "stdout",
     "output_type": "stream",
     "text": [
      "RASMALAI (1044)\n",
      "RASMALAI (1045)\n",
      "RASMALAI (1046)\n",
      "RASMALAI (1047)\n",
      "RASMALAI (1048)\n",
      "RASMALAI (1049)\n",
      "RASMALAI (105)\n",
      "RASMALAI (105)\n",
      "RASMALAI (1050)\n",
      "RASMALAI (1051)\n",
      "RASMALAI (1052)\n",
      "RASMALAI (1053)\n",
      "RASMALAI (1054)\n",
      "RASMALAI (1055)\n",
      "RASMALAI (1056)\n"
     ]
    },
    {
     "name": "stderr",
     "output_type": "stream",
     "text": [
      "\r",
      " 73%|███████████████████████████████████████████████████████▊                    | 8550/11648 [01:44<00:29, 106.40it/s]"
     ]
    },
    {
     "name": "stdout",
     "output_type": "stream",
     "text": [
      "RASMALAI (1057)\n",
      "RASMALAI (1058)\n",
      "RASMALAI (1059)\n",
      "RASMALAI (106)\n",
      "RASMALAI (106)\n",
      "RASMALAI (1060)\n",
      "RASMALAI (1061)\n",
      "RASMALAI (1062)\n",
      "RASMALAI (1063)\n",
      "RASMALAI (1064)\n",
      "RASMALAI (1065)\n",
      "RASMALAI (1066)\n",
      "RASMALAI (1067)\n",
      "RASMALAI (1068)\n"
     ]
    },
    {
     "name": "stderr",
     "output_type": "stream",
     "text": [
      "\r",
      " 74%|███████████████████████████████████████████████████████▉                    | 8564/11648 [01:44<00:26, 114.45it/s]"
     ]
    },
    {
     "name": "stdout",
     "output_type": "stream",
     "text": [
      "RASMALAI (1069)\n",
      "RASMALAI (107)\n",
      "RASMALAI (107)\n",
      "RASMALAI (1070)\n",
      "RASMALAI (1071)\n",
      "RASMALAI (1072)\n",
      "RASMALAI (1073)\n",
      "RASMALAI (1074)\n",
      "RASMALAI (1075)\n",
      "RASMALAI (1076)\n",
      "RASMALAI (1077)\n",
      "RASMALAI (1078)\n",
      "RASMALAI (1079)\n",
      "RASMALAI (108)\n",
      "RASMALAI (108)\n",
      "RASMALAI (1080)\n",
      "RASMALAI (1081)\n",
      "RASMALAI (1082)\n"
     ]
    },
    {
     "name": "stderr",
     "output_type": "stream",
     "text": [
      "\r",
      " 74%|███████████████████████████████████████████████████████▉                    | 8582/11648 [01:45<00:24, 127.47it/s]"
     ]
    },
    {
     "name": "stdout",
     "output_type": "stream",
     "text": [
      "RASMALAI (1083)\n",
      "RASMALAI (1084)\n",
      "RASMALAI (1085)\n",
      "RASMALAI (1086)\n",
      "RASMALAI (1087)\n",
      "RASMALAI (1088)\n",
      "RASMALAI (1089)\n",
      "RASMALAI (109)\n",
      "RASMALAI (109)\n",
      "RASMALAI (1090)\n",
      "RASMALAI (1091)\n",
      "RASMALAI (1092)\n",
      "RASMALAI (1093)\n",
      "RASMALAI (1094)\n",
      "RASMALAI (1095)\n",
      "RASMALAI (1096)\n",
      "RASMALAI (1097)\n",
      "RASMALAI (1098)\n"
     ]
    },
    {
     "name": "stderr",
     "output_type": "stream",
     "text": [
      "\r",
      " 74%|████████████████████████████████████████████████████████                    | 8600/11648 [01:45<00:21, 139.14it/s]"
     ]
    },
    {
     "name": "stdout",
     "output_type": "stream",
     "text": [
      "RASMALAI (1099)\n",
      "RASMALAI (110)\n",
      "RASMALAI (110)\n",
      "RASMALAI (1100)\n",
      "RASMALAI (1101)\n",
      "RASMALAI (1102)\n",
      "RASMALAI (1103)\n",
      "RASMALAI (1104)\n",
      "RASMALAI (1105)\n",
      "RASMALAI (1106)\n",
      "RASMALAI (1107)\n",
      "RASMALAI (1108)\n",
      "RASMALAI (1109)\n",
      "RASMALAI (111)\n",
      "RASMALAI (111)\n"
     ]
    },
    {
     "name": "stderr",
     "output_type": "stream",
     "text": [
      "\r",
      " 74%|████████████████████████████████████████████████████████▏                   | 8615/11648 [01:45<00:21, 139.95it/s]"
     ]
    },
    {
     "name": "stdout",
     "output_type": "stream",
     "text": [
      "RASMALAI (1110)\n",
      "RASMALAI (1111)\n",
      "RASMALAI (1112)\n",
      "RASMALAI (1113)\n",
      "RASMALAI (1114)\n",
      "RASMALAI (1115)\n",
      "RASMALAI (1116)\n",
      "RASMALAI (1117)\n",
      "RASMALAI (1118)\n",
      "RASMALAI (1119)\n",
      "RASMALAI (112)\n",
      "RASMALAI (112)\n",
      "RASMALAI (1120)\n",
      "RASMALAI (1121)\n",
      "RASMALAI (1122)\n",
      "RASMALAI (1123)\n",
      "RASMALAI (1124)\n",
      "RASMALAI (1125)\n"
     ]
    },
    {
     "name": "stderr",
     "output_type": "stream",
     "text": [
      "\r",
      " 74%|████████████████████████████████████████████████████████▎                   | 8633/11648 [01:45<00:20, 148.95it/s]"
     ]
    },
    {
     "name": "stdout",
     "output_type": "stream",
     "text": [
      "RASMALAI (1126)\n",
      "RASMALAI (1127)\n",
      "RASMALAI (1128)\n",
      "RASMALAI (1129)\n",
      "RASMALAI (113)\n",
      "RASMALAI (113)\n",
      "RASMALAI (1130)\n",
      "RASMALAI (1131)\n",
      "RASMALAI (1132)\n",
      "RASMALAI (1133)\n",
      "RASMALAI (1134)\n",
      "RASMALAI (1135)\n",
      "RASMALAI (1136)\n",
      "RASMALAI (1137)\n",
      "RASMALAI (1138)\n",
      "RASMALAI (1139)\n",
      "RASMALAI (114)\n",
      "RASMALAI (114)\n",
      "RASMALAI (1140)\n",
      "RASMALAI (1141)\n",
      "RASMALAI (1142)\n",
      "RASMALAI (1143)\n",
      "RASMALAI (1144)\n",
      "RASMALAI (1145)\n",
      "RASMALAI (1146)\n",
      "RASMALAI (1147)\n"
     ]
    },
    {
     "name": "stderr",
     "output_type": "stream",
     "text": [
      "\r",
      " 74%|████████████████████████████████████████████████████████▍                   | 8659/11648 [01:45<00:17, 169.26it/s]"
     ]
    },
    {
     "name": "stdout",
     "output_type": "stream",
     "text": [
      "RASMALAI (1148)\n",
      "RASMALAI (1149)\n",
      "RASMALAI (115)\n",
      "RASMALAI (115)\n",
      "RASMALAI (1150)\n",
      "RASMALAI (1151)\n",
      "RASMALAI (1152)\n",
      "RASMALAI (1153)\n",
      "RASMALAI (1154)\n",
      "RASMALAI (1155)\n",
      "RASMALAI (1156)\n",
      "RASMALAI (1157)\n",
      "RASMALAI (1158)\n",
      "RASMALAI (1159)\n",
      "RASMALAI (116)\n",
      "RASMALAI (116)\n",
      "RASMALAI (1160)\n",
      "RASMALAI (1161)\n",
      "RASMALAI (1162)\n"
     ]
    },
    {
     "name": "stderr",
     "output_type": "stream",
     "text": [
      "\r",
      " 75%|████████████████████████████████████████████████████████▌                   | 8678/11648 [01:45<00:17, 172.27it/s]"
     ]
    },
    {
     "name": "stdout",
     "output_type": "stream",
     "text": [
      "RASMALAI (1163)\n",
      "RASMALAI (1164)\n",
      "RASMALAI (1165)\n",
      "RASMALAI (1166)\n",
      "RASMALAI (1167)\n",
      "RASMALAI (1168)\n",
      "RASMALAI (1169)\n",
      "RASMALAI (117)\n",
      "RASMALAI (117)\n",
      "RASMALAI (1170)\n",
      "RASMALAI (1171)\n",
      "RASMALAI (1172)\n",
      "RASMALAI (1173)\n",
      "RASMALAI (1174)\n",
      "RASMALAI (1175)\n",
      "RASMALAI (1176)\n",
      "RASMALAI (1177)\n",
      "RASMALAI (1178)\n",
      "RASMALAI (1179)\n"
     ]
    },
    {
     "name": "stderr",
     "output_type": "stream",
     "text": [
      "\r",
      " 75%|████████████████████████████████████████████████████████▋                   | 8697/11648 [01:45<00:17, 168.43it/s]"
     ]
    },
    {
     "name": "stdout",
     "output_type": "stream",
     "text": [
      "RASMALAI (118)\n",
      "RASMALAI (118)\n",
      "RASMALAI (1180)\n",
      "RASMALAI (1181)\n",
      "RASMALAI (1182)\n",
      "RASMALAI (1183)\n",
      "RASMALAI (1184)\n",
      "RASMALAI (1185)\n",
      "RASMALAI (1186)\n",
      "RASMALAI (1187)\n",
      "RASMALAI (1188)\n",
      "RASMALAI (1189)\n",
      "RASMALAI (119)\n",
      "RASMALAI (119)\n",
      "RASMALAI (1190)\n",
      "RASMALAI (1191)\n",
      "RASMALAI (1192)\n",
      "RASMALAI (1193)\n"
     ]
    },
    {
     "name": "stderr",
     "output_type": "stream",
     "text": [
      "\r",
      " 75%|████████████████████████████████████████████████████████▊                   | 8715/11648 [01:45<00:19, 152.68it/s]"
     ]
    },
    {
     "name": "stdout",
     "output_type": "stream",
     "text": [
      "RASMALAI (1194)\n",
      "RASMALAI (1195)\n",
      "RASMALAI (1196)\n",
      "RASMALAI (1197)\n",
      "RASMALAI (1198)\n",
      "RASMALAI (1199)\n",
      "RASMALAI (120)\n",
      "RASMALAI (120)\n",
      "RASMALAI (1200)\n",
      "RASMALAI (1201)\n",
      "RASMALAI (1202)\n",
      "RASMALAI (1203)\n",
      "RASMALAI (1204)\n",
      "RASMALAI (1205)\n",
      "RASMALAI (1206)\n",
      "RASMALAI (1207)\n",
      "RASMALAI (1208)\n"
     ]
    },
    {
     "name": "stderr",
     "output_type": "stream",
     "text": [
      "\r",
      " 75%|████████████████████████████████████████████████████████▉                   | 8732/11648 [01:45<00:19, 149.32it/s]"
     ]
    },
    {
     "name": "stdout",
     "output_type": "stream",
     "text": [
      "RASMALAI (1209)\n",
      "RASMALAI (121)\n",
      "RASMALAI (121)\n",
      "RASMALAI (1210)\n",
      "RASMALAI (1211)\n",
      "RASMALAI (1212)\n",
      "RASMALAI (1213)\n",
      "RASMALAI (1214)\n",
      "RASMALAI (1215)\n",
      "RASMALAI (1216)\n",
      "RASMALAI (1217)\n",
      "RASMALAI (1218)\n",
      "RASMALAI (1219)\n",
      "RASMALAI (122)\n",
      "RASMALAI (122)\n",
      "RASMALAI (1220)\n",
      "RASMALAI (1221)\n",
      "RASMALAI (1222)\n"
     ]
    },
    {
     "name": "stderr",
     "output_type": "stream",
     "text": [
      "\r",
      " 75%|█████████████████████████████████████████████████████████                   | 8750/11648 [01:46<00:18, 156.66it/s]"
     ]
    },
    {
     "name": "stdout",
     "output_type": "stream",
     "text": [
      "RASMALAI (1223)\n",
      "RASMALAI (1224)\n",
      "RASMALAI (1225)\n",
      "RASMALAI (1226)\n",
      "RASMALAI (1227)\n",
      "RASMALAI (1228)\n",
      "RASMALAI (1229)\n",
      "RASMALAI (123)\n",
      "RASMALAI (123)\n",
      "RASMALAI (1230)\n",
      "RASMALAI (1231)\n",
      "RASMALAI (1232)\n",
      "RASMALAI (1233)\n",
      "RASMALAI (1234)\n",
      "RASMALAI (1235)\n",
      "RASMALAI (1236)\n",
      "RASMALAI (1237)\n",
      "RASMALAI (1238)\n"
     ]
    },
    {
     "name": "stderr",
     "output_type": "stream",
     "text": [
      "\r",
      " 75%|█████████████████████████████████████████████████████████▏                  | 8768/11648 [01:46<00:17, 161.80it/s]"
     ]
    },
    {
     "name": "stdout",
     "output_type": "stream",
     "text": [
      "RASMALAI (1239)\n",
      "RASMALAI (124)\n",
      "RASMALAI (124)\n",
      "RASMALAI (1240)\n",
      "RASMALAI (1241)\n",
      "RASMALAI (1242)\n",
      "RASMALAI (1243)\n",
      "RASMALAI (1244)\n",
      "RASMALAI (1245)\n",
      "RASMALAI (1246)\n",
      "RASMALAI (1247)\n",
      "RASMALAI (1248)\n",
      "RASMALAI (1249)\n",
      "RASMALAI (125)\n",
      "RASMALAI (125)\n",
      "RASMALAI (1250)\n",
      "RASMALAI (1251)\n"
     ]
    },
    {
     "name": "stderr",
     "output_type": "stream",
     "text": [
      "\r",
      " 75%|██████████████████████████████████████████████████████████                   | 8785/11648 [01:46<00:29, 98.50it/s]"
     ]
    },
    {
     "name": "stdout",
     "output_type": "stream",
     "text": [
      "RASMALAI (1252)\n",
      "RASMALAI (1253)\n",
      "RASMALAI (1254)\n",
      "RASMALAI (1255)\n",
      "RASMALAI (1256)\n",
      "RASMALAI (1257)\n",
      "RASMALAI (1258)\n",
      "RASMALAI (1259)\n",
      "RASMALAI (126)\n",
      "RASMALAI (126)\n",
      "RASMALAI (1260)\n",
      "RASMALAI (1261)\n",
      "RASMALAI (1262)\n",
      "RASMALAI (1263)\n"
     ]
    },
    {
     "name": "stderr",
     "output_type": "stream",
     "text": [
      "\r",
      " 76%|██████████████████████████████████████████████████████████▏                  | 8799/11648 [01:46<00:30, 93.49it/s]"
     ]
    },
    {
     "name": "stdout",
     "output_type": "stream",
     "text": [
      "RASMALAI (1264)\n",
      "RASMALAI (1265)\n",
      "RASMALAI (1266)\n",
      "RASMALAI (1267)\n",
      "RASMALAI (1268)\n",
      "RASMALAI (1269)\n",
      "RASMALAI (127)\n",
      "RASMALAI (127)\n",
      "RASMALAI (1270)\n",
      "RASMALAI (1271)\n",
      "RASMALAI (1272)\n",
      "RASMALAI (1273)\n",
      "RASMALAI (1274)\n",
      "RASMALAI (1275)\n"
     ]
    },
    {
     "name": "stderr",
     "output_type": "stream",
     "text": [
      "\r",
      " 76%|█████████████████████████████████████████████████████████▌                  | 8813/11648 [01:46<00:27, 102.98it/s]"
     ]
    },
    {
     "name": "stdout",
     "output_type": "stream",
     "text": [
      "RASMALAI (1276)\n",
      "RASMALAI (1277)\n",
      "RASMALAI (1278)\n",
      "RASMALAI (1279)\n",
      "RASMALAI (128)\n",
      "RASMALAI (128)\n",
      "RASMALAI (1280)\n",
      "RASMALAI (1281)\n",
      "RASMALAI (1282)\n",
      "RASMALAI (1283)\n",
      "RASMALAI (1284)\n",
      "RASMALAI (1285)\n",
      "RASMALAI (1286)\n"
     ]
    },
    {
     "name": "stderr",
     "output_type": "stream",
     "text": [
      "\r",
      " 76%|█████████████████████████████████████████████████████████▌                  | 8826/11648 [01:46<00:26, 105.63it/s]"
     ]
    },
    {
     "name": "stdout",
     "output_type": "stream",
     "text": [
      "RASMALAI (1287)\n",
      "RASMALAI (1288)\n",
      "RASMALAI (1289)\n",
      "RASMALAI (129)\n",
      "RASMALAI (129)\n",
      "RASMALAI (1290)\n",
      "RASMALAI (1291)\n",
      "RASMALAI (1292)\n",
      "RASMALAI (1293)\n",
      "RASMALAI (1294)\n",
      "RASMALAI (1295)\n",
      "RASMALAI (1296)\n",
      "RASMALAI (1297)\n",
      "RASMALAI (1298)\n",
      "RASMALAI (1299)\n",
      "RASMALAI (130)\n",
      "RASMALAI (130)\n"
     ]
    },
    {
     "name": "stderr",
     "output_type": "stream",
     "text": [
      "\r",
      " 76%|█████████████████████████████████████████████████████████▋                  | 8843/11648 [01:46<00:23, 118.24it/s]"
     ]
    },
    {
     "name": "stdout",
     "output_type": "stream",
     "text": [
      "RASMALAI (1300)\n",
      "RASMALAI (1301)\n",
      "RASMALAI (1302)\n",
      "RASMALAI (1303)\n",
      "RASMALAI (1304)\n",
      "RASMALAI (1305)\n",
      "RASMALAI (1306)\n",
      "RASMALAI (1307)\n",
      "RASMALAI (1308)\n",
      "RASMALAI (1309)\n",
      "RASMALAI (131)\n",
      "RASMALAI (131)\n",
      "RASMALAI (1310)\n",
      "RASMALAI (1311)\n"
     ]
    },
    {
     "name": "stderr",
     "output_type": "stream",
     "text": [
      "\r",
      " 76%|█████████████████████████████████████████████████████████▊                  | 8857/11648 [01:47<00:23, 118.76it/s]"
     ]
    },
    {
     "name": "stdout",
     "output_type": "stream",
     "text": [
      "RASMALAI (1312)\n",
      "RASMALAI (1313)\n",
      "RASMALAI (1314)\n",
      "RASMALAI (1315)\n",
      "RASMALAI (1316)\n",
      "RASMALAI (1317)\n",
      "RASMALAI (1318)\n",
      "RASMALAI (1319)\n",
      "RASMALAI (132)\n",
      "RASMALAI (132)\n",
      "RASMALAI (1320)\n",
      "RASMALAI (1321)\n",
      "RASMALAI (1322)\n",
      "RASMALAI (1323)\n",
      "RASMALAI (1324)\n"
     ]
    },
    {
     "name": "stderr",
     "output_type": "stream",
     "text": [
      "\r",
      " 76%|█████████████████████████████████████████████████████████▉                  | 8872/11648 [01:47<00:22, 126.12it/s]"
     ]
    },
    {
     "name": "stdout",
     "output_type": "stream",
     "text": [
      "RASMALAI (1325)\n",
      "RASMALAI (1326)\n",
      "RASMALAI (1327)\n",
      "RASMALAI (1328)\n",
      "RASMALAI (1329)\n",
      "RASMALAI (133)\n",
      "RASMALAI (133)\n",
      "RASMALAI (1330)\n",
      "RASMALAI (1331)\n",
      "RASMALAI (1332)\n",
      "RASMALAI (1333)\n",
      "RASMALAI (1334)\n",
      "RASMALAI (1335)\n",
      "RASMALAI (1336)\n",
      "RASMALAI (1337)\n",
      "RASMALAI (1338)\n"
     ]
    },
    {
     "name": "stderr",
     "output_type": "stream",
     "text": [
      "\r",
      " 76%|█████████████████████████████████████████████████████████▉                  | 8888/11648 [01:47<00:20, 133.75it/s]"
     ]
    },
    {
     "name": "stdout",
     "output_type": "stream",
     "text": [
      "RASMALAI (1339)\n",
      "RASMALAI (134)\n",
      "RASMALAI (134)\n",
      "RASMALAI (1340)\n",
      "RASMALAI (1341)\n",
      "RASMALAI (1342)\n",
      "RASMALAI (1343)\n",
      "RASMALAI (1344)\n",
      "RASMALAI (1345)\n",
      "RASMALAI (1346)\n",
      "RASMALAI (1347)\n",
      "RASMALAI (1348)\n",
      "RASMALAI (1349)\n",
      "RASMALAI (135)\n",
      "RASMALAI (135)\n"
     ]
    },
    {
     "name": "stderr",
     "output_type": "stream",
     "text": [
      "\r",
      " 76%|██████████████████████████████████████████████████████████                  | 8903/11648 [01:47<00:20, 136.09it/s]"
     ]
    },
    {
     "name": "stdout",
     "output_type": "stream",
     "text": [
      "RASMALAI (1350)\n",
      "RASMALAI (1351)\n",
      "RASMALAI (1352)\n",
      "RASMALAI (1353)\n",
      "RASMALAI (1354)\n",
      "RASMALAI (1355)\n",
      "RASMALAI (1356)\n",
      "RASMALAI (1357)\n",
      "RASMALAI (1358)\n",
      "RASMALAI (1359)\n",
      "RASMALAI (136)\n",
      "RASMALAI (136)\n",
      "RASMALAI (1360)\n",
      "RASMALAI (1361)\n",
      "RASMALAI (1362)\n"
     ]
    },
    {
     "name": "stderr",
     "output_type": "stream",
     "text": [
      "\r",
      " 77%|██████████████████████████████████████████████████████████▏                 | 8918/11648 [01:47<00:20, 133.03it/s]"
     ]
    },
    {
     "name": "stdout",
     "output_type": "stream",
     "text": [
      "RASMALAI (1363)\n",
      "RASMALAI (1364)\n",
      "RASMALAI (1365)\n",
      "RASMALAI (1366)\n",
      "RASMALAI (1367)\n",
      "RASMALAI (1368)\n",
      "RASMALAI (1369)\n",
      "RASMALAI (137)\n",
      "RASMALAI (137)\n",
      "RASMALAI (1370)\n",
      "RASMALAI (1371)\n",
      "RASMALAI (1372)\n",
      "RASMALAI (1373)\n",
      "RASMALAI (1374)\n"
     ]
    },
    {
     "name": "stderr",
     "output_type": "stream",
     "text": [
      "\r",
      " 77%|██████████████████████████████████████████████████████████▎                 | 8932/11648 [01:47<00:21, 125.71it/s]"
     ]
    },
    {
     "name": "stdout",
     "output_type": "stream",
     "text": [
      "RASMALAI (1375)\n",
      "RASMALAI (1376)\n",
      "RASMALAI (1377)\n",
      "RASMALAI (1378)\n",
      "RASMALAI (1379)\n",
      "RASMALAI (138)\n",
      "RASMALAI (138)\n",
      "RASMALAI (1380)\n",
      "RASMALAI (1381)\n",
      "RASMALAI (1382)\n",
      "RASMALAI (1383)\n",
      "RASMALAI (1384)\n",
      "RASMALAI (1385)\n",
      "RASMALAI (1386)\n",
      "RASMALAI (1387)\n",
      "RASMALAI (1388)\n",
      "RASMALAI (1389)\n"
     ]
    },
    {
     "name": "stderr",
     "output_type": "stream",
     "text": [
      "\r",
      " 77%|██████████████████████████████████████████████████████████▍                 | 8949/11648 [01:47<00:19, 136.13it/s]"
     ]
    },
    {
     "name": "stdout",
     "output_type": "stream",
     "text": [
      "RASMALAI (139)\n",
      "RASMALAI (139)\n",
      "RASMALAI (1390)\n",
      "RASMALAI (1391)\n",
      "RASMALAI (1392)\n",
      "RASMALAI (1393)\n",
      "RASMALAI (1394)\n",
      "RASMALAI (1395)\n",
      "RASMALAI (1396)\n",
      "RASMALAI (1397)\n",
      "RASMALAI (1398)\n",
      "RASMALAI (1399)\n",
      "RASMALAI (140)\n",
      "RASMALAI (140)\n",
      "RASMALAI (1400)\n"
     ]
    },
    {
     "name": "stderr",
     "output_type": "stream",
     "text": [
      "\r",
      " 77%|███████████████████████████████████████████████████████████▎                 | 8964/11648 [01:48<00:32, 81.55it/s]"
     ]
    },
    {
     "name": "stdout",
     "output_type": "stream",
     "text": [
      "RASMALAI (1401)\n",
      "RASMALAI (1402)\n",
      "RASMALAI (1403)\n",
      "RASMALAI (1404)\n",
      "RASMALAI (1405)\n",
      "RASMALAI (1406)\n",
      "RASMALAI (1407)\n",
      "RASMALAI (1408)\n",
      "RASMALAI (1409)\n",
      "RASMALAI (141)\n",
      "RASMALAI (141)\n",
      "RASMALAI (1410)\n"
     ]
    },
    {
     "name": "stderr",
     "output_type": "stream",
     "text": [
      "\r",
      " 77%|███████████████████████████████████████████████████████████▎                 | 8976/11648 [01:48<00:42, 62.35it/s]"
     ]
    },
    {
     "name": "stdout",
     "output_type": "stream",
     "text": [
      "RASMALAI (1411)\n",
      "RASMALAI (1412)\n",
      "RASMALAI (1413)\n",
      "RASMALAI (1414)\n",
      "RASMALAI (1415)\n",
      "RASMALAI (1416)\n",
      "RASMALAI (1417)\n",
      "RASMALAI (1418)\n",
      "RASMALAI (1419)\n",
      "RASMALAI (142)\n"
     ]
    },
    {
     "name": "stderr",
     "output_type": "stream",
     "text": [
      "\r",
      " 77%|███████████████████████████████████████████████████████████▍                 | 8986/11648 [01:48<00:51, 51.40it/s]"
     ]
    },
    {
     "name": "stdout",
     "output_type": "stream",
     "text": [
      "RASMALAI (142)\n",
      "RASMALAI (1420)\n",
      "RASMALAI (1421)\n",
      "RASMALAI (1422)\n",
      "RASMALAI (1423)\n",
      "RASMALAI (1424)\n",
      "RASMALAI (1425)\n",
      "RASMALAI (1426)\n",
      "RASMALAI (1427)\n",
      "RASMALAI (1428)\n"
     ]
    },
    {
     "name": "stderr",
     "output_type": "stream",
     "text": [
      "\r",
      " 77%|███████████████████████████████████████████████████████████▍                 | 8996/11648 [01:48<00:44, 59.35it/s]"
     ]
    },
    {
     "name": "stdout",
     "output_type": "stream",
     "text": [
      "RASMALAI (1429)\n",
      "RASMALAI (143)\n",
      "RASMALAI (143)\n",
      "RASMALAI (1430)\n",
      "RASMALAI (1431)\n",
      "RASMALAI (1432)\n",
      "RASMALAI (1433)\n",
      "RASMALAI (1434)\n",
      "RASMALAI (1435)\n",
      "RASMALAI (1436)\n",
      "RASMALAI (1437)\n",
      "RASMALAI (1438)\n",
      "RASMALAI (1439)\n",
      "RASMALAI (144)\n",
      "RASMALAI (144)\n",
      "RASMALAI (1440)\n",
      "RASMALAI (1441)\n",
      "RASMALAI (1442)\n",
      "RASMALAI (1443)\n",
      "RASMALAI (1444)\n"
     ]
    },
    {
     "name": "stderr",
     "output_type": "stream",
     "text": [
      "\r",
      " 77%|███████████████████████████████████████████████████████████▌                 | 9016/11648 [01:48<00:35, 74.82it/s]"
     ]
    },
    {
     "name": "stdout",
     "output_type": "stream",
     "text": [
      "RASMALAI (1445)\n",
      "RASMALAI (1446)\n",
      "RASMALAI (1447)\n",
      "RASMALAI (1448)\n",
      "RASMALAI (1449)\n",
      "RASMALAI (145)\n",
      "RASMALAI (145)\n",
      "RASMALAI (1450)\n",
      "RASMALAI (1451)\n",
      "RASMALAI (1452)\n",
      "RASMALAI (1453)\n",
      "RASMALAI (1454)\n",
      "RASMALAI (1455)\n",
      "RASMALAI (1456)\n",
      "RASMALAI (1457)\n",
      "RASMALAI (1458)\n",
      "RASMALAI (1459)\n",
      "RASMALAI (146)\n",
      "RASMALAI (146)\n",
      "RASMALAI (1460)\n"
     ]
    },
    {
     "name": "stderr",
     "output_type": "stream",
     "text": [
      "\r",
      " 78%|███████████████████████████████████████████████████████████▋                 | 9036/11648 [01:48<00:28, 91.64it/s]"
     ]
    },
    {
     "name": "stdout",
     "output_type": "stream",
     "text": [
      "RASMALAI (1461)\n",
      "RASMALAI (1462)\n",
      "RASMALAI (1463)\n",
      "RASMALAI (1464)\n",
      "RASMALAI (1465)\n",
      "RASMALAI (1466)\n",
      "RASMALAI (1467)\n",
      "RASMALAI (1468)\n",
      "RASMALAI (1469)\n",
      "RASMALAI (147)\n",
      "RASMALAI (147)\n",
      "RASMALAI (1470)\n",
      "RASMALAI (1471)\n",
      "RASMALAI (1472)\n"
     ]
    },
    {
     "name": "stderr",
     "output_type": "stream",
     "text": [
      "\r",
      " 78%|███████████████████████████████████████████████████████████▊                 | 9050/11648 [01:49<00:50, 51.23it/s]"
     ]
    },
    {
     "name": "stdout",
     "output_type": "stream",
     "text": [
      "RASMALAI (1473)\n",
      "RASMALAI (1474)\n",
      "RASMALAI (1475)\n",
      "RASMALAI (1476)\n",
      "RASMALAI (1477)\n",
      "RASMALAI (1478)\n",
      "RASMALAI (1479)\n",
      "RASMALAI (148)\n",
      "RASMALAI (148)\n",
      "RASMALAI (1480)\n",
      "RASMALAI (1481)\n",
      "RASMALAI (1482)\n",
      "RASMALAI (1483)\n",
      "RASMALAI (1484)\n",
      "RASMALAI (1485)\n",
      "RASMALAI (1486)\n",
      "RASMALAI (1487)\n",
      "RASMALAI (1488)\n",
      "RASMALAI (1489)\n",
      "RASMALAI (149)\n",
      "RASMALAI (149)\n"
     ]
    },
    {
     "name": "stderr",
     "output_type": "stream",
     "text": [
      "\r",
      " 78%|███████████████████████████████████████████████████████████▉                 | 9071/11648 [01:49<00:39, 65.96it/s]"
     ]
    },
    {
     "name": "stdout",
     "output_type": "stream",
     "text": [
      "RASMALAI (1490)\n",
      "RASMALAI (1491)\n",
      "RASMALAI (1492)\n",
      "RASMALAI (1493)\n",
      "RASMALAI (1494)\n",
      "RASMALAI (1495)\n",
      "RASMALAI (1496)\n",
      "RASMALAI (1497)\n",
      "RASMALAI (1498)\n",
      "RASMALAI (1499)\n",
      "RASMALAI (150)\n",
      "RASMALAI (150)\n",
      "RASMALAI (1500)\n",
      "RASMALAI (1501)\n",
      "RASMALAI (1502)\n",
      "RASMALAI (1503)\n",
      "RASMALAI (1504)\n",
      "RASMALAI (1505)\n",
      "RASMALAI (1506)\n",
      "RASMALAI (1507)\n",
      "RASMALAI (1508)\n",
      "RASMALAI (1509)\n",
      "RASMALAI (151)\n",
      "RASMALAI (151)\n"
     ]
    },
    {
     "name": "stderr",
     "output_type": "stream",
     "text": [
      "\r",
      " 78%|████████████████████████████████████████████████████████████                 | 9095/11648 [01:49<00:30, 82.67it/s]"
     ]
    },
    {
     "name": "stdout",
     "output_type": "stream",
     "text": [
      "RASMALAI (1510)\n",
      "RASMALAI (1511)\n",
      "RASMALAI (1512)\n",
      "RASMALAI (1513)\n",
      "RASMALAI (1514)\n",
      "RASMALAI (1515)\n",
      "RASMALAI (1516)\n",
      "RASMALAI (1517)\n",
      "RASMALAI (1518)\n",
      "RASMALAI (1519)\n",
      "RASMALAI (152)\n",
      "RASMALAI (152)\n",
      "RASMALAI (1520)\n",
      "RASMALAI (1521)\n",
      "RASMALAI (1522)\n",
      "RASMALAI (1523)\n"
     ]
    },
    {
     "name": "stderr",
     "output_type": "stream",
     "text": [
      "\r",
      " 78%|████████████████████████████████████████████████████████████▏                | 9111/11648 [01:49<00:30, 83.71it/s]"
     ]
    },
    {
     "name": "stdout",
     "output_type": "stream",
     "text": [
      "RASMALAI (1524)\n",
      "RASMALAI (1525)\n",
      "RASMALAI (1526)\n",
      "RASMALAI (1527)\n",
      "RASMALAI (1528)\n",
      "RASMALAI (1529)\n",
      "RASMALAI (153)\n",
      "RASMALAI (153)\n",
      "RASMALAI (1530)\n",
      "RASMALAI (1531)\n",
      "RASMALAI (1532)\n",
      "RASMALAI (1533)\n",
      "RASMALAI (1534)\n",
      "RASMALAI (1535)\n"
     ]
    },
    {
     "name": "stderr",
     "output_type": "stream",
     "text": [
      "\r",
      " 78%|████████████████████████████████████████████████████████████▎                | 9125/11648 [01:50<00:28, 89.94it/s]"
     ]
    },
    {
     "name": "stdout",
     "output_type": "stream",
     "text": [
      "RASMALAI (1536)\n",
      "RASMALAI (1537)\n",
      "RASMALAI (1538)\n",
      "RASMALAI (1539)\n",
      "RASMALAI (154)\n",
      "RASMALAI (1540)\n",
      "RASMALAI (1541)\n",
      "RASMALAI (1542)\n",
      "RASMALAI (1543)\n",
      "RASMALAI (1544)\n",
      "RASMALAI (1545)\n",
      "RASMALAI (1546)\n",
      "RASMALAI (1547)\n",
      "RASMALAI (1548)\n",
      "RASMALAI (1549)\n",
      "RASMALAI (155)\n",
      "RASMALAI (1550)\n",
      "RASMALAI (1551)\n"
     ]
    },
    {
     "name": "stderr",
     "output_type": "stream",
     "text": [
      "\r",
      " 78%|███████████████████████████████████████████████████████████▋                | 9143/11648 [01:50<00:23, 105.69it/s]"
     ]
    },
    {
     "name": "stdout",
     "output_type": "stream",
     "text": [
      "RASMALAI (1552)\n",
      "RASMALAI (1553)\n",
      "RASMALAI (1554)\n",
      "RASMALAI (1555)\n",
      "RASMALAI (1556)\n",
      "RASMALAI (1557)\n",
      "RASMALAI (1558)\n",
      "RASMALAI (1559)\n",
      "RASMALAI (156)\n",
      "RASMALAI (1560)\n",
      "RASMALAI (1561)\n",
      "RASMALAI (1562)\n",
      "RASMALAI (1563)\n",
      "RASMALAI (1564)\n",
      "RASMALAI (1565)\n",
      "RASMALAI (1566)\n",
      "RASMALAI (1567)\n",
      "RASMALAI (1568)\n",
      "RASMALAI (1569)\n",
      "RASMALAI (157)\n",
      "RASMALAI (1570)\n",
      "RASMALAI (1571)\n",
      "RASMALAI (1572)\n"
     ]
    },
    {
     "name": "stderr",
     "output_type": "stream",
     "text": [
      "\r",
      " 79%|███████████████████████████████████████████████████████████▊                | 9166/11648 [01:50<00:19, 125.37it/s]"
     ]
    },
    {
     "name": "stdout",
     "output_type": "stream",
     "text": [
      "RASMALAI (1573)\n",
      "RASMALAI (1574)\n",
      "RASMALAI (1575)\n",
      "RASMALAI (1576)\n",
      "RASMALAI (1577)\n",
      "RASMALAI (1578)\n",
      "RASMALAI (1579)\n",
      "RASMALAI (158)\n",
      "RASMALAI (1580)\n",
      "RASMALAI (1581)\n",
      "RASMALAI (1582)\n",
      "RASMALAI (1583)\n",
      "RASMALAI (1584)\n",
      "RASMALAI (1585)\n",
      "RASMALAI (1586)\n",
      "RASMALAI (1587)\n",
      "RASMALAI (1588)\n",
      "RASMALAI (1589)\n",
      "RASMALAI (159)\n",
      "RASMALAI (1590)\n",
      "RASMALAI (1591)\n"
     ]
    },
    {
     "name": "stderr",
     "output_type": "stream",
     "text": [
      "\r",
      " 79%|███████████████████████████████████████████████████████████▉                | 9187/11648 [01:50<00:17, 142.40it/s]"
     ]
    },
    {
     "name": "stdout",
     "output_type": "stream",
     "text": [
      "RASMALAI (1592)\n",
      "RASMALAI (1593)\n",
      "RASMALAI (1594)\n",
      "RASMALAI (1595)\n",
      "RASMALAI (1596)\n",
      "RASMALAI (1597)\n",
      "RASMALAI (1598)\n",
      "RASMALAI (1599)\n",
      "RASMALAI (160)\n",
      "RASMALAI (1600)\n",
      "RASMALAI (1601)\n",
      "RASMALAI (1602)\n",
      "RASMALAI (1603)\n",
      "RASMALAI (1604)\n",
      "RASMALAI (1605)\n",
      "RASMALAI (1606)\n",
      "RASMALAI (1607)\n",
      "RASMALAI (1608)\n",
      "RASMALAI (1609)\n"
     ]
    },
    {
     "name": "stderr",
     "output_type": "stream",
     "text": [
      "\r",
      " 79%|████████████████████████████████████████████████████████████                | 9206/11648 [01:50<00:15, 153.33it/s]"
     ]
    },
    {
     "name": "stdout",
     "output_type": "stream",
     "text": [
      "RASMALAI (161)\n",
      "RASMALAI (1610)\n",
      "RASMALAI (1611)\n",
      "RASMALAI (1612)\n",
      "RASMALAI (1613)\n",
      "RASMALAI (1614)\n",
      "RASMALAI (1615)\n",
      "RASMALAI (1616)\n",
      "RASMALAI (1617)\n",
      "RASMALAI (1618)\n",
      "RASMALAI (1619)\n",
      "RASMALAI (162)\n",
      "RASMALAI (1620)\n",
      "RASMALAI (1621)\n",
      "RASMALAI (1622)\n",
      "RASMALAI (1623)\n",
      "RASMALAI (1624)\n",
      "RASMALAI (1625)\n",
      "RASMALAI (1626)\n"
     ]
    },
    {
     "name": "stderr",
     "output_type": "stream",
     "text": [
      "\r",
      " 79%|████████████████████████████████████████████████████████████▏               | 9225/11648 [01:50<00:16, 149.10it/s]"
     ]
    },
    {
     "name": "stdout",
     "output_type": "stream",
     "text": [
      "RASMALAI (1627)\n",
      "RASMALAI (1628)\n",
      "RASMALAI (1629)\n",
      "RASMALAI (163)\n",
      "RASMALAI (1630)\n",
      "RASMALAI (1631)\n",
      "RASMALAI (1632)\n",
      "RASMALAI (1633)\n",
      "RASMALAI (1634)\n",
      "RASMALAI (1635)\n",
      "RASMALAI (1636)\n",
      "RASMALAI (1637)\n",
      "RASMALAI (1638)\n",
      "RASMALAI (1639)\n",
      "RASMALAI (164)\n",
      "RASMALAI (1640)\n",
      "RASMALAI (1641)\n"
     ]
    },
    {
     "name": "stderr",
     "output_type": "stream",
     "text": [
      "\r",
      " 79%|████████████████████████████████████████████████████████████▎               | 9242/11648 [01:50<00:17, 140.72it/s]"
     ]
    },
    {
     "name": "stdout",
     "output_type": "stream",
     "text": [
      "RASMALAI (1642)\n",
      "RASMALAI (1643)\n",
      "RASMALAI (1644)\n",
      "RASMALAI (1645)\n",
      "RASMALAI (1646)\n",
      "RASMALAI (1647)\n",
      "RASMALAI (1648)\n",
      "RASMALAI (1649)\n",
      "RASMALAI (165)\n",
      "RASMALAI (1650)\n",
      "RASMALAI (1651)\n",
      "RASMALAI (1652)\n",
      "RASMALAI (1653)\n",
      "RASMALAI (1654)\n",
      "RASMALAI (1655)\n",
      "RASMALAI (1656)\n"
     ]
    },
    {
     "name": "stderr",
     "output_type": "stream",
     "text": [
      "\r",
      " 79%|████████████████████████████████████████████████████████████▍               | 9258/11648 [01:50<00:17, 134.36it/s]"
     ]
    },
    {
     "name": "stdout",
     "output_type": "stream",
     "text": [
      "RASMALAI (1657)\n",
      "RASMALAI (1658)\n",
      "RASMALAI (1659)\n",
      "RASMALAI (166)\n",
      "RASMALAI (1660)\n",
      "RASMALAI (1661)\n",
      "RASMALAI (1662)\n",
      "RASMALAI (1663)\n",
      "RASMALAI (1664)\n",
      "RASMALAI (1665)\n",
      "RASMALAI (1666)\n",
      "RASMALAI (1667)\n",
      "RASMALAI (1668)\n",
      "RASMALAI (1669)\n",
      "RASMALAI (167)\n"
     ]
    },
    {
     "name": "stderr",
     "output_type": "stream",
     "text": [
      "\r",
      " 80%|████████████████████████████████████████████████████████████▌               | 9273/11648 [01:50<00:17, 134.70it/s]"
     ]
    },
    {
     "name": "stdout",
     "output_type": "stream",
     "text": [
      "RASMALAI (1670)\n",
      "RASMALAI (1671)\n",
      "RASMALAI (1672)\n",
      "RASMALAI (1673)\n",
      "RASMALAI (1674)\n",
      "RASMALAI (1675)\n",
      "RASMALAI (1676)\n",
      "RASMALAI (1677)\n",
      "RASMALAI (1678)\n",
      "RASMALAI (1679)\n",
      "RASMALAI (168)\n",
      "RASMALAI (1680)\n",
      "RASMALAI (1681)\n",
      "RASMALAI (1682)\n",
      "RASMALAI (1683)\n",
      "RASMALAI (1684)\n",
      "RASMALAI (1685)\n",
      "RASMALAI (1686)\n",
      "RASMALAI (1687)\n",
      "RASMALAI (1688)\n",
      "RASMALAI (1689)\n",
      "RASMALAI (169)\n",
      "RASMALAI (1690)\n",
      "RASMALAI (1691)\n",
      "RASMALAI (1692)\n",
      "RASMALAI (1693)\n"
     ]
    },
    {
     "name": "stderr",
     "output_type": "stream",
     "text": [
      "\r",
      " 80%|████████████████████████████████████████████████████████████▋               | 9299/11648 [01:51<00:14, 157.26it/s]"
     ]
    },
    {
     "name": "stdout",
     "output_type": "stream",
     "text": [
      "RASMALAI (1694)\n",
      "RASMALAI (1695)\n",
      "RASMALAI (1696)\n",
      "RASMALAI (1697)\n",
      "RASMALAI (1698)\n",
      "RASMALAI (1699)\n",
      "RASMALAI (17)\n",
      "RASMALAI (17)\n",
      "RASMALAI (17)\n",
      "RASMALAI (170)\n",
      "RASMALAI (1700)\n",
      "RASMALAI (1701)\n",
      "RASMALAI (1702)\n",
      "RASMALAI (1703)\n",
      "RASMALAI (1704)\n",
      "RASMALAI (1705)\n",
      "RASMALAI (1706)\n",
      "RASMALAI (1707)\n",
      "RASMALAI (1708)\n",
      "RASMALAI (1709)\n",
      "RASMALAI (171)\n"
     ]
    },
    {
     "name": "stderr",
     "output_type": "stream",
     "text": [
      "\r",
      " 80%|████████████████████████████████████████████████████████████▊               | 9320/11648 [01:51<00:13, 168.95it/s]"
     ]
    },
    {
     "name": "stdout",
     "output_type": "stream",
     "text": [
      "RASMALAI (1710)\n",
      "RASMALAI (1711)\n",
      "RASMALAI (1712)\n",
      "RASMALAI (1713)\n",
      "RASMALAI (1714)\n",
      "RASMALAI (1715)\n",
      "RASMALAI (1716)\n",
      "RASMALAI (1717)\n",
      "RASMALAI (1718)\n",
      "RASMALAI (1719)\n",
      "RASMALAI (172)\n",
      "RASMALAI (1720)\n",
      "RASMALAI (1721)\n",
      "RASMALAI (1722)\n",
      "RASMALAI (1723)\n",
      "RASMALAI (1724)\n",
      "RASMALAI (1725)\n",
      "RASMALAI (1726)\n",
      "RASMALAI (1727)\n",
      "RASMALAI (1728)\n",
      "RASMALAI (1729)\n",
      "RASMALAI (173)\n",
      "RASMALAI (1730)\n",
      "RASMALAI (1731)\n",
      "RASMALAI (1732)\n"
     ]
    },
    {
     "name": "stderr",
     "output_type": "stream",
     "text": [
      "\r",
      " 80%|████████████████████████████████████████████████████████████▉               | 9345/11648 [01:51<00:12, 186.43it/s]"
     ]
    },
    {
     "name": "stdout",
     "output_type": "stream",
     "text": [
      "RASMALAI (1733)\n",
      "RASMALAI (1734)\n",
      "RASMALAI (1735)\n",
      "RASMALAI (1736)\n",
      "RASMALAI (1737)\n",
      "RASMALAI (1738)\n",
      "RASMALAI (1739)\n",
      "RASMALAI (174)\n",
      "RASMALAI (1740)\n",
      "RASMALAI (1741)\n",
      "RASMALAI (1742)\n",
      "RASMALAI (1743)\n",
      "RASMALAI (1744)\n",
      "RASMALAI (1745)\n",
      "RASMALAI (1746)\n",
      "RASMALAI (1747)\n",
      "RASMALAI (1748)\n",
      "RASMALAI (1749)\n",
      "RASMALAI (175)\n",
      "RASMALAI (1750)\n",
      "RASMALAI (1751)\n"
     ]
    },
    {
     "name": "stderr",
     "output_type": "stream",
     "text": [
      "\r",
      " 80%|█████████████████████████████████████████████████████████████               | 9366/11648 [01:51<00:15, 143.96it/s]"
     ]
    },
    {
     "name": "stdout",
     "output_type": "stream",
     "text": [
      "RASMALAI (1752)\n",
      "RASMALAI (1753)\n",
      "RASMALAI (1754)\n",
      "RASMALAI (1755)\n",
      "RASMALAI (1756)\n",
      "RASMALAI (1757)\n",
      "RASMALAI (1758)\n",
      "RASMALAI (1759)\n",
      "RASMALAI (176)\n",
      "RASMALAI (1760)\n",
      "RASMALAI (1761)\n",
      "RASMALAI (1762)\n",
      "RASMALAI (1763)\n",
      "RASMALAI (1764)\n",
      "RASMALAI (1765)\n",
      "RASMALAI (1766)\n",
      "RASMALAI (1767)\n",
      "RASMALAI (1768)\n"
     ]
    },
    {
     "name": "stderr",
     "output_type": "stream",
     "text": [
      "\r",
      " 81%|█████████████████████████████████████████████████████████████▏              | 9384/11648 [01:51<00:19, 115.36it/s]"
     ]
    },
    {
     "name": "stdout",
     "output_type": "stream",
     "text": [
      "RASMALAI (1769)\n",
      "RASMALAI (177)\n",
      "RASMALAI (1770)\n",
      "RASMALAI (1771)\n",
      "RASMALAI (1772)\n",
      "RASMALAI (1773)\n",
      "RASMALAI (1774)\n",
      "RASMALAI (1775)\n",
      "RASMALAI (1776)\n",
      "RASMALAI (1777)\n",
      "RASMALAI (1778)\n",
      "RASMALAI (1779)\n",
      "RASMALAI (178)\n",
      "RASMALAI (1780)\n",
      "RASMALAI (1781)\n",
      "RASMALAI (1782)\n",
      "RASMALAI (1783)\n",
      "RASMALAI (1784)\n",
      "RASMALAI (1785)\n",
      "RASMALAI (1786)\n",
      "RASMALAI (1787)\n",
      "RASMALAI (1788)\n",
      "RASMALAI (1789)\n"
     ]
    },
    {
     "name": "stderr",
     "output_type": "stream",
     "text": [
      "\r",
      " 81%|█████████████████████████████████████████████████████████████▍              | 9407/11648 [01:51<00:16, 134.75it/s]"
     ]
    },
    {
     "name": "stdout",
     "output_type": "stream",
     "text": [
      "RASMALAI (179)\n",
      "RASMALAI (1790)\n",
      "RASMALAI (1791)\n",
      "RASMALAI (1792)\n",
      "RASMALAI (1793)\n",
      "RASMALAI (1794)\n",
      "RASMALAI (1795)\n",
      "RASMALAI (1796)\n",
      "RASMALAI (1797)\n",
      "RASMALAI (1798)\n",
      "RASMALAI (1799)\n",
      "RASMALAI (18)\n",
      "RASMALAI (18)\n",
      "RASMALAI (18)\n",
      "RASMALAI (180)\n",
      "RASMALAI (1800)\n",
      "RASMALAI (1801)\n",
      "RASMALAI (1802)\n"
     ]
    },
    {
     "name": "stderr",
     "output_type": "stream",
     "text": [
      "\r",
      " 81%|█████████████████████████████████████████████████████████████▍              | 9425/11648 [01:51<00:15, 144.78it/s]"
     ]
    },
    {
     "name": "stdout",
     "output_type": "stream",
     "text": [
      "RASMALAI (1803)\n",
      "RASMALAI (1804)\n",
      "RASMALAI (1805)\n",
      "RASMALAI (1806)\n",
      "RASMALAI (1807)\n",
      "RASMALAI (1808)\n",
      "RASMALAI (1809)\n",
      "RASMALAI (181)\n",
      "RASMALAI (1810)\n",
      "RASMALAI (1811)\n",
      "RASMALAI (1812)\n",
      "RASMALAI (1813)\n",
      "RASMALAI (1814)\n",
      "RASMALAI (1815)\n",
      "RASMALAI (1816)\n",
      "RASMALAI (1817)\n",
      "RASMALAI (1818)\n",
      "RASMALAI (1819)\n",
      "RASMALAI (182)\n",
      "RASMALAI (1820)\n"
     ]
    },
    {
     "name": "stderr",
     "output_type": "stream",
     "text": [
      "\r",
      " 81%|█████████████████████████████████████████████████████████████▋              | 9445/11648 [01:52<00:14, 156.85it/s]"
     ]
    },
    {
     "name": "stdout",
     "output_type": "stream",
     "text": [
      "RASMALAI (1821)\n",
      "RASMALAI (1822)\n",
      "RASMALAI (1823)\n",
      "RASMALAI (1824)\n",
      "RASMALAI (1825)\n",
      "RASMALAI (1826)\n",
      "RASMALAI (1827)\n",
      "RASMALAI (1828)\n",
      "RASMALAI (1829)\n",
      "RASMALAI (183)\n",
      "RASMALAI (1830)\n",
      "RASMALAI (1831)\n",
      "RASMALAI (1832)\n",
      "RASMALAI (1833)\n",
      "RASMALAI (1834)\n",
      "RASMALAI (1835)\n",
      "RASMALAI (1836)\n",
      "RASMALAI (1837)\n",
      "RASMALAI (1838)\n",
      "RASMALAI (1839)\n",
      "RASMALAI (184)\n",
      "RASMALAI (1840)\n",
      "RASMALAI (1841)\n"
     ]
    },
    {
     "name": "stderr",
     "output_type": "stream",
     "text": [
      "\r",
      " 81%|█████████████████████████████████████████████████████████████▊              | 9468/11648 [01:52<00:12, 173.10it/s]"
     ]
    },
    {
     "name": "stdout",
     "output_type": "stream",
     "text": [
      "RASMALAI (1842)\n",
      "RASMALAI (1843)\n",
      "RASMALAI (1844)\n",
      "RASMALAI (1845)\n",
      "RASMALAI (1846)\n",
      "RASMALAI (1847)\n",
      "RASMALAI (1848)\n",
      "RASMALAI (1849)\n",
      "RASMALAI (185)\n",
      "RASMALAI (1850)\n",
      "RASMALAI (1851)\n",
      "RASMALAI (1852)\n",
      "RASMALAI (1853)\n",
      "RASMALAI (1854)\n",
      "RASMALAI (1855)\n",
      "RASMALAI (1856)\n",
      "RASMALAI (1857)\n",
      "RASMALAI (1858)\n",
      "RASMALAI (1859)\n",
      "RASMALAI (186)\n",
      "RASMALAI (1860)\n",
      "RASMALAI (1861)\n",
      "RASMALAI (1862)\n",
      "RASMALAI (1863)\n"
     ]
    },
    {
     "name": "stderr",
     "output_type": "stream",
     "text": [
      "\r",
      " 81%|█████████████████████████████████████████████████████████████▉              | 9492/11648 [01:52<00:11, 188.13it/s]"
     ]
    },
    {
     "name": "stdout",
     "output_type": "stream",
     "text": [
      "RASMALAI (1864)\n",
      "RASMALAI (1865)\n",
      "RASMALAI (1866)\n",
      "RASMALAI (1867)\n",
      "RASMALAI (1868)\n",
      "RASMALAI (1869)\n",
      "RASMALAI (187)\n",
      "RASMALAI (1870)\n",
      "RASMALAI (1871)\n",
      "RASMALAI (1872)\n",
      "RASMALAI (1873)\n",
      "RASMALAI (1874)\n",
      "RASMALAI (1875)\n",
      "RASMALAI (1876)\n",
      "RASMALAI (1877)\n",
      "RASMALAI (1878)\n",
      "RASMALAI (1879)\n",
      "RASMALAI (188)\n",
      "RASMALAI (1880)\n",
      "RASMALAI (1881)\n",
      "RASMALAI (1882)\n",
      "RASMALAI (1883)\n"
     ]
    },
    {
     "name": "stderr",
     "output_type": "stream",
     "text": [
      "\r",
      " 82%|██████████████████████████████████████████████████████████████              | 9514/11648 [01:52<00:10, 195.25it/s]"
     ]
    },
    {
     "name": "stdout",
     "output_type": "stream",
     "text": [
      "RASMALAI (1884)\n",
      "RASMALAI (1885)\n",
      "RASMALAI (1886)\n",
      "RASMALAI (1887)\n",
      "RASMALAI (1888)\n",
      "RASMALAI (1889)\n",
      "RASMALAI (189)\n",
      "RASMALAI (1890)\n",
      "RASMALAI (1891)\n",
      "RASMALAI (1892)\n",
      "RASMALAI (1893)\n",
      "RASMALAI (1894)\n",
      "RASMALAI (1895)\n",
      "RASMALAI (1896)\n",
      "RASMALAI (1897)\n",
      "RASMALAI (1898)\n",
      "RASMALAI (1899)\n",
      "RASMALAI (19)\n",
      "RASMALAI (19)\n",
      "RASMALAI (19)\n",
      "RASMALAI (190)\n"
     ]
    },
    {
     "name": "stderr",
     "output_type": "stream",
     "text": [
      "\r",
      " 82%|██████████████████████████████████████████████████████████████▏             | 9535/11648 [01:52<00:18, 116.86it/s]"
     ]
    },
    {
     "name": "stdout",
     "output_type": "stream",
     "text": [
      "RASMALAI (1900)\n",
      "RASMALAI (1901)\n",
      "RASMALAI (1902)\n",
      "RASMALAI (1903)\n",
      "RASMALAI (1904)\n",
      "RASMALAI (1905)\n",
      "RASMALAI (1906)\n",
      "RASMALAI (1907)\n",
      "RASMALAI (1908)\n",
      "RASMALAI (1909)\n",
      "RASMALAI (191)\n",
      "RASMALAI (1910)\n",
      "RASMALAI (1911)\n",
      "RASMALAI (1912)\n",
      "RASMALAI (1913)\n",
      "RASMALAI (1914)\n",
      "RASMALAI (1915)\n"
     ]
    },
    {
     "name": "stderr",
     "output_type": "stream",
     "text": [
      "\r",
      " 82%|██████████████████████████████████████████████████████████████▎             | 9552/11648 [01:52<00:19, 109.40it/s]"
     ]
    },
    {
     "name": "stdout",
     "output_type": "stream",
     "text": [
      "RASMALAI (1916)\n",
      "RASMALAI (1917)\n",
      "RASMALAI (1918)\n",
      "RASMALAI (1919)\n",
      "RASMALAI (192)\n",
      "RASMALAI (1920)\n",
      "RASMALAI (1921)\n",
      "RASMALAI (1922)\n",
      "RASMALAI (1923)\n",
      "RASMALAI (1924)\n",
      "RASMALAI (1925)\n",
      "RASMALAI (1926)\n",
      "RASMALAI (1927)\n",
      "RASMALAI (1928)\n",
      "RASMALAI (1929)\n"
     ]
    },
    {
     "name": "stderr",
     "output_type": "stream",
     "text": [
      "\r",
      " 82%|██████████████████████████████████████████████████████████████▍             | 9567/11648 [01:52<00:18, 112.97it/s]"
     ]
    },
    {
     "name": "stdout",
     "output_type": "stream",
     "text": [
      "RASMALAI (193)\n",
      "RASMALAI (1930)\n",
      "RASMALAI (1931)\n",
      "RASMALAI (1932)\n",
      "RASMALAI (1933)\n",
      "RASMALAI (1934)\n",
      "RASMALAI (1935)\n",
      "RASMALAI (1936)\n",
      "RASMALAI (1937)\n",
      "RASMALAI (1938)\n",
      "RASMALAI (1939)\n",
      "RASMALAI (194)\n",
      "RASMALAI (1940)\n",
      "RASMALAI (1941)\n",
      "RASMALAI (1942)\n",
      "RASMALAI (1943)\n",
      "RASMALAI (1944)\n"
     ]
    },
    {
     "name": "stderr",
     "output_type": "stream",
     "text": [
      "\r",
      " 82%|██████████████████████████████████████████████████████████████▌             | 9584/11648 [01:53<00:16, 125.41it/s]"
     ]
    },
    {
     "name": "stdout",
     "output_type": "stream",
     "text": [
      "RASMALAI (1945)\n",
      "RASMALAI (1946)\n",
      "RASMALAI (1947)\n",
      "RASMALAI (1948)\n",
      "RASMALAI (1949)\n",
      "RASMALAI (195)\n",
      "RASMALAI (1950)\n",
      "RASMALAI (1951)\n",
      "RASMALAI (1952)\n",
      "RASMALAI (1953)\n",
      "RASMALAI (1954)\n",
      "RASMALAI (1955)\n",
      "RASMALAI (1956)\n",
      "RASMALAI (1957)\n",
      "RASMALAI (1958)\n",
      "RASMALAI (1959)\n",
      "RASMALAI (196)\n",
      "RASMALAI (1960)\n",
      "RASMALAI (1961)\n",
      "RASMALAI (1962)\n",
      "RASMALAI (1963)\n",
      "RASMALAI (1964)\n",
      "RASMALAI (1965)\n",
      "RASMALAI (1966)\n",
      "RASMALAI (1967)\n",
      "RASMALAI (1968)\n",
      "RASMALAI (1969)\n",
      "RASMALAI (197)\n",
      "RASMALAI (1970)\n",
      "RASMALAI (1971)\n"
     ]
    },
    {
     "name": "stderr",
     "output_type": "stream",
     "text": [
      "\r",
      " 83%|██████████████████████████████████████████████████████████████▋             | 9614/11648 [01:53<00:13, 151.31it/s]"
     ]
    },
    {
     "name": "stdout",
     "output_type": "stream",
     "text": [
      "RASMALAI (1972)\n",
      "RASMALAI (1973)\n",
      "RASMALAI (1974)\n",
      "RASMALAI (1975)\n",
      "RASMALAI (1976)\n",
      "RASMALAI (1977)\n",
      "RASMALAI (1978)\n",
      "RASMALAI (1979)\n",
      "RASMALAI (198)\n",
      "RASMALAI (1980)\n",
      "RASMALAI (1981)\n",
      "RASMALAI (1982)\n",
      "RASMALAI (1983)\n",
      "RASMALAI (1984)\n",
      "RASMALAI (1985)\n",
      "RASMALAI (1986)\n",
      "RASMALAI (1987)\n",
      "RASMALAI (1988)\n",
      "RASMALAI (1989)\n",
      "RASMALAI (199)\n",
      "RASMALAI (1990)\n",
      "RASMALAI (1991)\n",
      "RASMALAI (1992)\n",
      "RASMALAI (1993)\n",
      "RASMALAI (1994)\n",
      "RASMALAI (1995)\n",
      "RASMALAI (1996)\n",
      "RASMALAI (1997)\n",
      "RASMALAI (1998)\n",
      "RASMALAI (1999)\n",
      "RASMALAI (20)\n"
     ]
    },
    {
     "name": "stderr",
     "output_type": "stream",
     "text": [
      "\r",
      " 83%|██████████████████████████████████████████████████████████████▉             | 9645/11648 [01:53<00:11, 177.31it/s]"
     ]
    },
    {
     "name": "stdout",
     "output_type": "stream",
     "text": [
      "RASMALAI (20)\n",
      "RASMALAI (20)\n",
      "RASMALAI (200)\n",
      "RASMALAI (2000)\n",
      "RASMALAI (2001)\n",
      "RASMALAI (2002)\n",
      "RASMALAI (2003)\n",
      "RASMALAI (2004)\n",
      "RASMALAI (2005)\n",
      "RASMALAI (2006)\n",
      "RASMALAI (2007)\n",
      "RASMALAI (2008)\n",
      "RASMALAI (2009)\n",
      "RASMALAI (201)\n",
      "RASMALAI (2010)\n",
      "RASMALAI (2011)\n",
      "RASMALAI (2012)\n",
      "RASMALAI (2013)\n",
      "RASMALAI (2014)\n",
      "RASMALAI (2015)\n",
      "RASMALAI (2016)\n",
      "RASMALAI (2017)\n",
      "RASMALAI (2018)\n",
      "RASMALAI (2019)\n",
      "RASMALAI (202)\n"
     ]
    },
    {
     "name": "stderr",
     "output_type": "stream",
     "text": [
      "\r",
      " 83%|███████████████████████████████████████████████████████████████             | 9670/11648 [01:53<00:10, 191.26it/s]"
     ]
    },
    {
     "name": "stdout",
     "output_type": "stream",
     "text": [
      "RASMALAI (2020)\n",
      "RASMALAI (2021)\n",
      "RASMALAI (2022)\n",
      "RASMALAI (2023)\n",
      "RASMALAI (2024)\n",
      "RASMALAI (2025)\n",
      "RASMALAI (2026)\n",
      "RASMALAI (2027)\n",
      "RASMALAI (2028)\n",
      "RASMALAI (2029)\n",
      "RASMALAI (203)\n",
      "RASMALAI (2030)\n",
      "RASMALAI (2031)\n",
      "RASMALAI (2032)\n",
      "RASMALAI (2033)\n",
      "RASMALAI (2034)\n",
      "RASMALAI (2035)\n",
      "RASMALAI (2036)\n",
      "RASMALAI (2037)\n",
      "RASMALAI (2038)\n",
      "RASMALAI (2039)\n",
      "RASMALAI (204)\n",
      "RASMALAI (2040)\n",
      "RASMALAI (2041)\n",
      "RASMALAI (2042)\n",
      "RASMALAI (2043)\n",
      "RASMALAI (2044)\n",
      "RASMALAI (2045)\n",
      "RASMALAI (2046)\n"
     ]
    },
    {
     "name": "stderr",
     "output_type": "stream",
     "text": [
      "\r",
      " 83%|███████████████████████████████████████████████████████████████▎            | 9699/11648 [01:53<00:09, 212.67it/s]"
     ]
    },
    {
     "name": "stdout",
     "output_type": "stream",
     "text": [
      "RASMALAI (2047)\n",
      "RASMALAI (2048)\n",
      "RASMALAI (2049)\n",
      "RASMALAI (205)\n",
      "RASMALAI (2050)\n",
      "RASMALAI (2051)\n",
      "RASMALAI (2052)\n",
      "RASMALAI (2053)\n",
      "RASMALAI (2054)\n",
      "RASMALAI (2055)\n",
      "RASMALAI (2056)\n",
      "RASMALAI (2057)\n",
      "RASMALAI (2058)\n",
      "RASMALAI (2059)\n",
      "RASMALAI (206)\n",
      "RASMALAI (2060)\n",
      "RASMALAI (2061)\n",
      "RASMALAI (2062)\n",
      "RASMALAI (2063)\n",
      "RASMALAI (2064)\n",
      "RASMALAI (2065)\n",
      "RASMALAI (2066)\n",
      "RASMALAI (2067)\n",
      "RASMALAI (2068)\n",
      "RASMALAI (2069)\n",
      "RASMALAI (207)\n",
      "RASMALAI (2070)\n",
      "RASMALAI (2071)\n",
      "RASMALAI (2072)\n",
      "RASMALAI (2073)\n",
      "RASMALAI (2074)\n"
     ]
    },
    {
     "name": "stderr",
     "output_type": "stream",
     "text": [
      "\r",
      " 84%|███████████████████████████████████████████████████████████████▍            | 9730/11648 [01:53<00:08, 232.30it/s]"
     ]
    },
    {
     "name": "stdout",
     "output_type": "stream",
     "text": [
      "RASMALAI (2075)\n",
      "RASMALAI (2076)\n",
      "RASMALAI (2077)\n",
      "RASMALAI (2078)\n",
      "RASMALAI (2079)\n",
      "RASMALAI (208)\n",
      "RASMALAI (2080)\n",
      "RASMALAI (2081)\n",
      "RASMALAI (2082)\n",
      "RASMALAI (2083)\n",
      "RASMALAI (2084)\n",
      "RASMALAI (2085)\n",
      "RASMALAI (2086)\n",
      "RASMALAI (2087)\n",
      "RASMALAI (2088)\n",
      "RASMALAI (2089)\n",
      "RASMALAI (209)\n",
      "RASMALAI (2090)\n",
      "RASMALAI (2091)\n",
      "RASMALAI (2092)\n",
      "RASMALAI (2093)\n",
      "RASMALAI (2094)\n",
      "RASMALAI (2095)\n",
      "RASMALAI (2096)\n",
      "RASMALAI (2097)\n",
      "RASMALAI (2098)\n"
     ]
    },
    {
     "name": "stderr",
     "output_type": "stream",
     "text": [
      "\r",
      " 84%|███████████████████████████████████████████████████████████████▋            | 9756/11648 [01:53<00:09, 194.03it/s]"
     ]
    },
    {
     "name": "stdout",
     "output_type": "stream",
     "text": [
      "RASMALAI (2099)\n",
      "RASMALAI (21)\n",
      "RASMALAI (21)\n",
      "RASMALAI (21)\n",
      "RASMALAI (210)\n",
      "RASMALAI (2100)\n",
      "RASMALAI (2101)\n",
      "RASMALAI (2102)\n",
      "RASMALAI (2103)\n",
      "RASMALAI (2104)\n",
      "RASMALAI (2105)\n",
      "RASMALAI (2106)\n",
      "RASMALAI (2107)\n",
      "RASMALAI (2108)\n",
      "RASMALAI (2109)\n",
      "RASMALAI (211)\n",
      "RASMALAI (2110)\n",
      "RASMALAI (2111)\n",
      "RASMALAI (2112)\n",
      "RASMALAI (2113)\n",
      "RASMALAI (2114)\n",
      "RASMALAI (2115)\n",
      "RASMALAI (2116)\n"
     ]
    },
    {
     "name": "stderr",
     "output_type": "stream",
     "text": [
      "\r",
      " 84%|███████████████████████████████████████████████████████████████▊            | 9779/11648 [01:53<00:10, 174.18it/s]"
     ]
    },
    {
     "name": "stdout",
     "output_type": "stream",
     "text": [
      "RASMALAI (2117)\n",
      "RASMALAI (2118)\n",
      "RASMALAI (2119)\n",
      "RASMALAI (212)\n",
      "RASMALAI (2120)\n",
      "RASMALAI (2121)\n",
      "RASMALAI (2122)\n",
      "RASMALAI (2123)\n",
      "RASMALAI (2124)\n",
      "RASMALAI (2125)\n",
      "RASMALAI (2126)\n",
      "RASMALAI (2127)\n",
      "RASMALAI (2128)\n",
      "RASMALAI (2129)\n",
      "RASMALAI (213)\n",
      "RASMALAI (2130)\n",
      "RASMALAI (2131)\n",
      "RASMALAI (2132)\n",
      "RASMALAI (2133)\n",
      "RASMALAI (2134)\n"
     ]
    },
    {
     "name": "stderr",
     "output_type": "stream",
     "text": [
      "\r",
      " 84%|███████████████████████████████████████████████████████████████▉            | 9799/11648 [01:54<00:12, 151.36it/s]"
     ]
    },
    {
     "name": "stdout",
     "output_type": "stream",
     "text": [
      "RASMALAI (2135)\n",
      "RASMALAI (2136)\n",
      "RASMALAI (2137)\n",
      "RASMALAI (2138)\n",
      "RASMALAI (2139)\n",
      "RASMALAI (214)\n",
      "RASMALAI (2140)\n",
      "RASMALAI (2141)\n",
      "RASMALAI (2142)\n",
      "RASMALAI (2143)\n",
      "RASMALAI (2144)\n",
      "RASMALAI (2145)\n",
      "RASMALAI (2146)\n",
      "RASMALAI (2147)\n",
      "RASMALAI (2148)\n",
      "RASMALAI (2149)\n",
      "RASMALAI (215)\n",
      "RASMALAI (2150)\n",
      "RASMALAI (2151)\n",
      "RASMALAI (2152)\n",
      "RASMALAI (2153)\n"
     ]
    },
    {
     "name": "stderr",
     "output_type": "stream",
     "text": [
      "\r",
      " 84%|████████████████████████████████████████████████████████████████            | 9820/11648 [01:54<00:11, 163.76it/s]"
     ]
    },
    {
     "name": "stdout",
     "output_type": "stream",
     "text": [
      "RASMALAI (2154)\n",
      "RASMALAI (2155)\n",
      "RASMALAI (2156)\n",
      "RASMALAI (2157)\n",
      "RASMALAI (2158)\n",
      "RASMALAI (2159)\n",
      "RASMALAI (216)\n",
      "RASMALAI (2160)\n",
      "RASMALAI (2161)\n",
      "RASMALAI (2162)\n",
      "RASMALAI (2163)\n",
      "RASMALAI (2164)\n",
      "RASMALAI (2165)\n",
      "RASMALAI (2166)\n",
      "RASMALAI (2167)\n",
      "RASMALAI (2168)\n",
      "RASMALAI (2169)\n",
      "RASMALAI (217)\n",
      "RASMALAI (2170)\n",
      "RASMALAI (2171)\n",
      "RASMALAI (2172)\n",
      "RASMALAI (2173)\n"
     ]
    },
    {
     "name": "stderr",
     "output_type": "stream",
     "text": [
      "\r",
      " 84%|████████████████████████████████████████████████████████████████▏           | 9842/11648 [01:54<00:10, 176.20it/s]"
     ]
    },
    {
     "name": "stdout",
     "output_type": "stream",
     "text": [
      "RASMALAI (2174)\n",
      "RASMALAI (2175)\n",
      "RASMALAI (2176)\n",
      "RASMALAI (2177)\n",
      "RASMALAI (2178)\n",
      "RASMALAI (2179)\n",
      "RASMALAI (218)\n",
      "RASMALAI (2180)\n",
      "RASMALAI (2181)\n",
      "RASMALAI (2182)\n",
      "RASMALAI (2183)\n",
      "RASMALAI (2184)\n",
      "RASMALAI (2185)\n",
      "RASMALAI (2186)\n",
      "RASMALAI (2187)\n",
      "RASMALAI (2188)\n",
      "RASMALAI (2189)\n",
      "RASMALAI (219)\n",
      "RASMALAI (2190)\n",
      "RASMALAI (2191)\n",
      "RASMALAI (2192)\n",
      "RASMALAI (2193)\n",
      "RASMALAI (2194)\n",
      "RASMALAI (2195)\n",
      "RASMALAI (2196)\n",
      "RASMALAI (2197)\n"
     ]
    },
    {
     "name": "stderr",
     "output_type": "stream",
     "text": [
      "\r",
      " 85%|████████████████████████████████████████████████████████████████▍           | 9868/11648 [01:54<00:09, 193.01it/s]"
     ]
    },
    {
     "name": "stdout",
     "output_type": "stream",
     "text": [
      "RASMALAI (2198)\n",
      "RASMALAI (2199)\n",
      "RASMALAI (22)\n",
      "RASMALAI (22)\n",
      "RASMALAI (22)\n",
      "RASMALAI (220)\n",
      "RASMALAI (2200)\n",
      "RASMALAI (2201)\n",
      "RASMALAI (2202)\n",
      "RASMALAI (2203)\n",
      "RASMALAI (2204)\n",
      "RASMALAI (2205)\n",
      "RASMALAI (2206)\n",
      "RASMALAI (2207)\n",
      "RASMALAI (2208)\n",
      "RASMALAI (2209)\n",
      "RASMALAI (221)\n",
      "RASMALAI (2210)\n",
      "RASMALAI (2211)\n",
      "RASMALAI (2212)\n",
      "RASMALAI (2213)\n"
     ]
    },
    {
     "name": "stderr",
     "output_type": "stream",
     "text": [
      "\r",
      " 85%|████████████████████████████████████████████████████████████████▌           | 9889/11648 [01:54<00:09, 192.53it/s]"
     ]
    },
    {
     "name": "stdout",
     "output_type": "stream",
     "text": [
      "RASMALAI (2214)\n",
      "RASMALAI (2215)\n",
      "RASMALAI (2216)\n",
      "RASMALAI (2217)\n",
      "RASMALAI (2218)\n",
      "RASMALAI (2219)\n",
      "RASMALAI (222)\n",
      "RASMALAI (2220)\n",
      "RASMALAI (2221)\n",
      "RASMALAI (2222)\n",
      "RASMALAI (2223)\n",
      "RASMALAI (2224)\n",
      "RASMALAI (2225)\n",
      "RASMALAI (2226)\n",
      "RASMALAI (2227)\n",
      "RASMALAI (2228)\n",
      "RASMALAI (2229)\n",
      "RASMALAI (223)\n",
      "RASMALAI (2230)\n",
      "RASMALAI (2231)\n",
      "RASMALAI (2232)\n"
     ]
    },
    {
     "name": "stderr",
     "output_type": "stream",
     "text": [
      "\r",
      " 85%|████████████████████████████████████████████████████████████████▋           | 9910/11648 [01:54<00:12, 142.03it/s]"
     ]
    },
    {
     "name": "stdout",
     "output_type": "stream",
     "text": [
      "RASMALAI (2233)\n",
      "RASMALAI (2234)\n",
      "RASMALAI (2235)\n",
      "RASMALAI (2236)\n",
      "RASMALAI (2237)\n",
      "RASMALAI (2238)\n",
      "RASMALAI (2239)\n",
      "RASMALAI (224)\n",
      "RASMALAI (2240)\n",
      "RASMALAI (2241)\n",
      "RASMALAI (2242)\n",
      "RASMALAI (2243)\n",
      "RASMALAI (2244)\n",
      "RASMALAI (2245)\n",
      "RASMALAI (2246)\n",
      "RASMALAI (2247)\n",
      "RASMALAI (2248)\n"
     ]
    },
    {
     "name": "stderr",
     "output_type": "stream",
     "text": [
      "\r",
      " 85%|████████████████████████████████████████████████████████████████▊           | 9927/11648 [01:54<00:13, 124.05it/s]"
     ]
    },
    {
     "name": "stdout",
     "output_type": "stream",
     "text": [
      "RASMALAI (2249)\n",
      "RASMALAI (225)\n",
      "RASMALAI (2250)\n",
      "RASMALAI (2251)\n",
      "RASMALAI (2252)\n",
      "RASMALAI (2253)\n",
      "RASMALAI (2254)\n",
      "RASMALAI (2255)\n",
      "RASMALAI (2256)\n",
      "RASMALAI (2257)\n",
      "RASMALAI (2258)\n",
      "RASMALAI (2259)\n",
      "RASMALAI (226)\n",
      "RASMALAI (2260)\n",
      "RASMALAI (2261)\n"
     ]
    },
    {
     "name": "stderr",
     "output_type": "stream",
     "text": [
      "\r",
      " 85%|████████████████████████████████████████████████████████████████▊           | 9942/11648 [01:55<00:15, 110.45it/s]"
     ]
    },
    {
     "name": "stdout",
     "output_type": "stream",
     "text": [
      "RASMALAI (2262)\n",
      "RASMALAI (2263)\n",
      "RASMALAI (2264)\n",
      "RASMALAI (2265)\n",
      "RASMALAI (2266)\n",
      "RASMALAI (2267)\n",
      "RASMALAI (2268)\n",
      "RASMALAI (2269)\n",
      "RASMALAI (227)\n",
      "RASMALAI (2270)\n",
      "RASMALAI (2271)\n",
      "RASMALAI (2272)\n",
      "RASMALAI (2273)\n",
      "RASMALAI (2274)\n",
      "RASMALAI (2275)\n"
     ]
    },
    {
     "name": "stderr",
     "output_type": "stream",
     "text": [
      "\r",
      " 85%|████████████████████████████████████████████████████████████████▉           | 9957/11648 [01:55<00:14, 118.04it/s]"
     ]
    },
    {
     "name": "stdout",
     "output_type": "stream",
     "text": [
      "RASMALAI (2276)\n",
      "RASMALAI (2277)\n",
      "RASMALAI (2278)\n",
      "RASMALAI (2279)\n",
      "RASMALAI (228)\n",
      "RASMALAI (2280)\n",
      "RASMALAI (2281)\n",
      "RASMALAI (2282)\n",
      "RASMALAI (2283)\n",
      "RASMALAI (2284)\n",
      "RASMALAI (2285)\n",
      "RASMALAI (2286)\n",
      "RASMALAI (2287)\n",
      "RASMALAI (2288)\n"
     ]
    },
    {
     "name": "stderr",
     "output_type": "stream",
     "text": [
      "\r",
      " 86%|█████████████████████████████████████████████████████████████████▉           | 9971/11648 [01:55<00:18, 90.42it/s]"
     ]
    },
    {
     "name": "stdout",
     "output_type": "stream",
     "text": [
      "RASMALAI (2289)\n",
      "RASMALAI (229)\n",
      "RASMALAI (2290)\n",
      "RASMALAI (2291)\n",
      "RASMALAI (2292)\n",
      "RASMALAI (2293)\n",
      "RASMALAI (2294)\n",
      "RASMALAI (2295)\n",
      "RASMALAI (2296)\n",
      "RASMALAI (2297)\n",
      "RASMALAI (2298)\n",
      "RASMALAI (2299)\n",
      "RASMALAI (23)\n"
     ]
    },
    {
     "name": "stderr",
     "output_type": "stream",
     "text": [
      "\r",
      " 86%|██████████████████████████████████████████████████████████████████           | 9984/11648 [01:55<00:16, 99.34it/s]"
     ]
    },
    {
     "name": "stdout",
     "output_type": "stream",
     "text": [
      "RASMALAI (23)\n",
      "RASMALAI (23)\n",
      "RASMALAI (230)\n",
      "RASMALAI (2300)\n",
      "RASMALAI (2301)\n",
      "RASMALAI (2302)\n",
      "RASMALAI (2303)\n",
      "RASMALAI (2304)\n",
      "RASMALAI (2305)\n",
      "RASMALAI (2306)\n",
      "RASMALAI (2307)\n",
      "RASMALAI (2308)\n",
      "RASMALAI (2309)\n",
      "RASMALAI (231)\n"
     ]
    },
    {
     "name": "stderr",
     "output_type": "stream",
     "text": [
      "\r",
      " 86%|█████████████████████████████████████████████████████████████████▏          | 9998/11648 [01:55<00:15, 108.39it/s]"
     ]
    },
    {
     "name": "stdout",
     "output_type": "stream",
     "text": [
      "RASMALAI (2310)\n",
      "RASMALAI (2311)\n",
      "RASMALAI (2312)\n",
      "RASMALAI (2313)\n",
      "RASMALAI (2314)\n",
      "RASMALAI (2315)\n",
      "RASMALAI (2316)\n",
      "RASMALAI (2317)\n",
      "RASMALAI (2318)\n",
      "RASMALAI (2319)\n",
      "RASMALAI (232)\n",
      "RASMALAI (2320)\n",
      "RASMALAI (2321)\n",
      "RASMALAI (2322)\n",
      "RASMALAI (2323)\n"
     ]
    },
    {
     "name": "stderr",
     "output_type": "stream",
     "text": [
      "\r",
      " 86%|████████████████████████████████████████████████████████████████▍          | 10013/11648 [01:55<00:13, 117.75it/s]"
     ]
    },
    {
     "name": "stdout",
     "output_type": "stream",
     "text": [
      "RASMALAI (2324)\n",
      "RASMALAI (2325)\n",
      "RASMALAI (2326)\n",
      "RASMALAI (2327)\n",
      "RASMALAI (2328)\n",
      "RASMALAI (2329)\n",
      "RASMALAI (233)\n",
      "RASMALAI (2330)\n",
      "RASMALAI (2331)\n",
      "RASMALAI (2332)\n",
      "RASMALAI (2333)\n",
      "RASMALAI (2334)\n",
      "RASMALAI (2335)\n"
     ]
    },
    {
     "name": "stderr",
     "output_type": "stream",
     "text": [
      "\r",
      " 86%|████████████████████████████████████████████████████████████████▌          | 10026/11648 [01:55<00:14, 109.08it/s]"
     ]
    },
    {
     "name": "stdout",
     "output_type": "stream",
     "text": [
      "RASMALAI (2336)\n",
      "RASMALAI (2337)\n",
      "RASMALAI (2338)\n",
      "RASMALAI (2339)\n",
      "RASMALAI (234)\n",
      "RASMALAI (2340)\n",
      "RASMALAI (2341)\n",
      "RASMALAI (2342)\n",
      "RASMALAI (2343)\n",
      "RASMALAI (2344)\n",
      "RASMALAI (2345)\n",
      "RASMALAI (2346)\n"
     ]
    },
    {
     "name": "stderr",
     "output_type": "stream",
     "text": [
      "\r",
      " 86%|█████████████████████████████████████████████████████████████████▍          | 10038/11648 [01:56<00:21, 76.63it/s]"
     ]
    },
    {
     "name": "stdout",
     "output_type": "stream",
     "text": [
      "RASMALAI (2347)\n",
      "RASMALAI (2348)\n",
      "RASMALAI (2349)\n",
      "RASMALAI (235)\n",
      "RASMALAI (2350)\n",
      "RASMALAI (2351)\n",
      "RASMALAI (2352)\n",
      "RASMALAI (2353)\n",
      "RASMALAI (2354)\n",
      "RASMALAI (2355)\n",
      "RASMALAI (2356)\n",
      "RASMALAI (2357)\n",
      "RASMALAI (2358)\n",
      "RASMALAI (2359)\n",
      "RASMALAI (236)\n",
      "RASMALAI (2360)\n"
     ]
    },
    {
     "name": "stderr",
     "output_type": "stream",
     "text": [
      "\r",
      " 86%|█████████████████████████████████████████████████████████████████▌          | 10054/11648 [01:56<00:17, 89.80it/s]"
     ]
    },
    {
     "name": "stdout",
     "output_type": "stream",
     "text": [
      "RASMALAI (2361)\n",
      "RASMALAI (2362)\n",
      "RASMALAI (2363)\n",
      "RASMALAI (2364)\n",
      "RASMALAI (2365)\n",
      "RASMALAI (2366)\n",
      "RASMALAI (2367)\n",
      "RASMALAI (2368)\n",
      "RASMALAI (2369)\n",
      "RASMALAI (237)\n",
      "RASMALAI (2370)\n",
      "RASMALAI (2371)\n",
      "RASMALAI (2372)\n",
      "RASMALAI (2373)\n",
      "RASMALAI (2374)\n",
      "RASMALAI (2375)\n",
      "RASMALAI (2376)\n",
      "RASMALAI (2377)\n"
     ]
    },
    {
     "name": "stderr",
     "output_type": "stream",
     "text": [
      "\r",
      " 86%|████████████████████████████████████████████████████████████████▊          | 10072/11648 [01:56<00:14, 105.37it/s]"
     ]
    },
    {
     "name": "stdout",
     "output_type": "stream",
     "text": [
      "RASMALAI (2378)\n",
      "RASMALAI (2379)\n",
      "RASMALAI (238)\n",
      "RASMALAI (2380)\n",
      "RASMALAI (2381)\n",
      "RASMALAI (2382)\n",
      "RASMALAI (2383)\n",
      "RASMALAI (2384)\n",
      "RASMALAI (2385)\n",
      "RASMALAI (2386)\n",
      "RASMALAI (2387)\n",
      "RASMALAI (2388)\n",
      "RASMALAI (2389)\n",
      "RASMALAI (239)\n"
     ]
    },
    {
     "name": "stderr",
     "output_type": "stream",
     "text": [
      "\r",
      " 87%|████████████████████████████████████████████████████████████████▉          | 10086/11648 [01:56<00:15, 103.79it/s]"
     ]
    },
    {
     "name": "stdout",
     "output_type": "stream",
     "text": [
      "RASMALAI (2390)\n",
      "RASMALAI (2391)\n",
      "RASMALAI (2392)\n",
      "RASMALAI (2393)\n",
      "RASMALAI (2394)\n",
      "RASMALAI (2395)\n",
      "RASMALAI (2396)\n",
      "RASMALAI (2397)\n",
      "RASMALAI (2398)\n",
      "RASMALAI (2399)\n",
      "RASMALAI (24)\n",
      "RASMALAI (24)\n",
      "RASMALAI (24)\n"
     ]
    },
    {
     "name": "stderr",
     "output_type": "stream",
     "text": [
      "\r",
      " 87%|█████████████████████████████████████████████████████████████████▉          | 10099/11648 [01:56<00:18, 83.55it/s]"
     ]
    },
    {
     "name": "stdout",
     "output_type": "stream",
     "text": [
      "RASMALAI (240)\n",
      "RASMALAI (2400)\n",
      "RASMALAI (2401)\n",
      "RASMALAI (2402)\n",
      "RASMALAI (2403)\n",
      "RASMALAI (2404)\n",
      "RASMALAI (2405)\n",
      "RASMALAI (2406)\n",
      "RASMALAI (2407)\n",
      "RASMALAI (2408)\n",
      "RASMALAI (2409)\n",
      "RASMALAI (241)\n"
     ]
    },
    {
     "name": "stderr",
     "output_type": "stream",
     "text": [
      "\r",
      " 87%|█████████████████████████████████████████████████████████████████▉          | 10111/11648 [01:56<00:18, 84.79it/s]"
     ]
    },
    {
     "name": "stdout",
     "output_type": "stream",
     "text": [
      "RASMALAI (2410)\n",
      "RASMALAI (2411)\n",
      "RASMALAI (2412)\n",
      "RASMALAI (2413)\n",
      "RASMALAI (2414)\n",
      "RASMALAI (2415)\n",
      "RASMALAI (2416)\n",
      "RASMALAI (2417)\n",
      "RASMALAI (2418)\n",
      "RASMALAI (2419)\n",
      "RASMALAI (242)\n"
     ]
    },
    {
     "name": "stderr",
     "output_type": "stream",
     "text": [
      "\r",
      " 87%|██████████████████████████████████████████████████████████████████          | 10122/11648 [01:57<00:18, 80.89it/s]"
     ]
    },
    {
     "name": "stdout",
     "output_type": "stream",
     "text": [
      "RASMALAI (2420)\n",
      "RASMALAI (2421)\n",
      "RASMALAI (2422)\n",
      "RASMALAI (2423)\n",
      "RASMALAI (2424)\n",
      "RASMALAI (2425)\n",
      "RASMALAI (2426)\n",
      "RASMALAI (2427)\n",
      "RASMALAI (2428)\n",
      "RASMALAI (2429)\n",
      "RASMALAI (243)\n"
     ]
    },
    {
     "name": "stderr",
     "output_type": "stream",
     "text": [
      "\r",
      " 87%|██████████████████████████████████████████████████████████████████          | 10133/11648 [01:57<00:18, 83.33it/s]"
     ]
    },
    {
     "name": "stdout",
     "output_type": "stream",
     "text": [
      "RASMALAI (2430)\n",
      "RASMALAI (2431)\n",
      "RASMALAI (2432)\n",
      "RASMALAI (2433)\n",
      "RASMALAI (2434)\n",
      "RASMALAI (2435)\n",
      "RASMALAI (2436)\n",
      "RASMALAI (2437)\n",
      "RASMALAI (2438)\n",
      "RASMALAI (2439)\n",
      "RASMALAI (244)\n",
      "RASMALAI (2440)\n",
      "RASMALAI (2441)\n",
      "RASMALAI (2442)\n",
      "RASMALAI (2443)\n",
      "RASMALAI (2444)\n",
      "RASMALAI (2445)\n",
      "RASMALAI (2446)\n"
     ]
    },
    {
     "name": "stderr",
     "output_type": "stream",
     "text": [
      "\r",
      " 87%|██████████████████████████████████████████████████████████████████▏         | 10151/11648 [01:57<00:15, 98.89it/s]"
     ]
    },
    {
     "name": "stdout",
     "output_type": "stream",
     "text": [
      "RASMALAI (2447)\n",
      "RASMALAI (2448)\n",
      "RASMALAI (2449)\n",
      "RASMALAI (245)\n",
      "RASMALAI (2450)\n",
      "RASMALAI (2451)\n",
      "RASMALAI (2452)\n",
      "RASMALAI (2453)\n",
      "RASMALAI (2454)\n",
      "RASMALAI (2455)\n",
      "RASMALAI (2456)\n",
      "RASMALAI (2457)\n",
      "RASMALAI (2458)\n",
      "RASMALAI (2459)\n",
      "RASMALAI (246)\n",
      "RASMALAI (2460)\n",
      "RASMALAI (2461)\n",
      "RASMALAI (2462)\n",
      "RASMALAI (2463)\n"
     ]
    },
    {
     "name": "stderr",
     "output_type": "stream",
     "text": [
      "\r",
      " 87%|█████████████████████████████████████████████████████████████████▍         | 10170/11648 [01:57<00:12, 114.73it/s]"
     ]
    },
    {
     "name": "stdout",
     "output_type": "stream",
     "text": [
      "RASMALAI (2464)\n",
      "RASMALAI (2465)\n",
      "RASMALAI (2466)\n",
      "RASMALAI (2467)\n",
      "RASMALAI (2468)\n",
      "RASMALAI (2469)\n",
      "RASMALAI (247)\n",
      "RASMALAI (2470)\n",
      "RASMALAI (2471)\n",
      "RASMALAI (2472)\n",
      "RASMALAI (2473)\n",
      "RASMALAI (2474)\n",
      "RASMALAI (2475)\n",
      "RASMALAI (2476)\n"
     ]
    },
    {
     "name": "stderr",
     "output_type": "stream",
     "text": [
      "\r",
      " 87%|█████████████████████████████████████████████████████████████████▌         | 10184/11648 [01:57<00:13, 110.23it/s]"
     ]
    },
    {
     "name": "stdout",
     "output_type": "stream",
     "text": [
      "RASMALAI (2477)\n",
      "RASMALAI (2478)\n",
      "RASMALAI (2479)\n",
      "RASMALAI (248)\n",
      "RASMALAI (2480)\n",
      "RASMALAI (2481)\n",
      "RASMALAI (2482)\n",
      "RASMALAI (2483)\n",
      "RASMALAI (2484)\n",
      "RASMALAI (2485)\n",
      "RASMALAI (2486)\n",
      "RASMALAI (2487)\n",
      "RASMALAI (2488)\n"
     ]
    },
    {
     "name": "stderr",
     "output_type": "stream",
     "text": [
      "\r",
      " 88%|██████████████████████████████████████████████████████████████████▌         | 10197/11648 [01:57<00:16, 88.51it/s]"
     ]
    },
    {
     "name": "stdout",
     "output_type": "stream",
     "text": [
      "RASMALAI (2489)\n",
      "RASMALAI (249)\n",
      "RASMALAI (2490)\n",
      "RASMALAI (2491)\n",
      "RASMALAI (2492)\n",
      "RASMALAI (2493)\n",
      "RASMALAI (2494)\n",
      "RASMALAI (2495)\n",
      "RASMALAI (2496)\n",
      "RASMALAI (2497)\n",
      "RASMALAI (2498)\n",
      "RASMALAI (2499)\n",
      "RASMALAI (25)\n"
     ]
    },
    {
     "name": "stderr",
     "output_type": "stream",
     "text": [
      "\r",
      " 88%|██████████████████████████████████████████████████████████████████▌         | 10210/11648 [01:57<00:14, 97.06it/s]"
     ]
    },
    {
     "name": "stdout",
     "output_type": "stream",
     "text": [
      "RASMALAI (25)\n",
      "RASMALAI (25)\n",
      "RASMALAI (250)\n",
      "RASMALAI (2500)\n",
      "RASMALAI (2501)\n",
      "RASMALAI (2502)\n",
      "RASMALAI (2503)\n",
      "RASMALAI (2504)\n",
      "RASMALAI (2505)\n",
      "RASMALAI (2506)\n",
      "RASMALAI (2507)\n",
      "RASMALAI (2508)\n",
      "RASMALAI (2509)\n",
      "RASMALAI (251)\n",
      "RASMALAI (2510)\n",
      "RASMALAI (2511)\n",
      "RASMALAI (2512)\n"
     ]
    },
    {
     "name": "stderr",
     "output_type": "stream",
     "text": [
      "\r",
      " 88%|█████████████████████████████████████████████████████████████████▊         | 10227/11648 [01:57<00:12, 109.95it/s]"
     ]
    },
    {
     "name": "stdout",
     "output_type": "stream",
     "text": [
      "RASMALAI (2513)\n",
      "RASMALAI (2514)\n",
      "RASMALAI (2515)\n",
      "RASMALAI (2516)\n",
      "RASMALAI (2517)\n",
      "RASMALAI (2518)\n",
      "RASMALAI (2519)\n",
      "RASMALAI (252)\n",
      "RASMALAI (2520)\n",
      "RASMALAI (2521)\n",
      "RASMALAI (2522)\n",
      "RASMALAI (2523)\n",
      "RASMALAI (2524)\n",
      "RASMALAI (2525)\n",
      "RASMALAI (2526)\n",
      "RASMALAI (2527)\n",
      "RASMALAI (2528)\n",
      "RASMALAI (2529)\n"
     ]
    },
    {
     "name": "stderr",
     "output_type": "stream",
     "text": [
      "\r",
      " 88%|█████████████████████████████████████████████████████████████████▉         | 10245/11648 [01:58<00:11, 123.53it/s]"
     ]
    },
    {
     "name": "stdout",
     "output_type": "stream",
     "text": [
      "RASMALAI (253)\n",
      "RASMALAI (2530)\n",
      "RASMALAI (2531)\n",
      "RASMALAI (2532)\n",
      "RASMALAI (2533)\n",
      "RASMALAI (2534)\n",
      "RASMALAI (2535)\n",
      "RASMALAI (2536)\n",
      "RASMALAI (2537)\n",
      "RASMALAI (2538)\n",
      "RASMALAI (2539)\n",
      "RASMALAI (254)\n",
      "RASMALAI (2540)\n",
      "RASMALAI (2541)\n",
      "RASMALAI (2542)\n",
      "RASMALAI (2543)\n",
      "RASMALAI (2544)\n",
      "RASMALAI (2545)\n"
     ]
    },
    {
     "name": "stderr",
     "output_type": "stream",
     "text": [
      "\r",
      " 88%|██████████████████████████████████████████████████████████████████         | 10263/11648 [01:58<00:10, 134.92it/s]"
     ]
    },
    {
     "name": "stdout",
     "output_type": "stream",
     "text": [
      "RASMALAI (2546)\n",
      "RASMALAI (2547)\n",
      "RASMALAI (2548)\n",
      "RASMALAI (2549)\n",
      "RASMALAI (255)\n",
      "RASMALAI (2550)\n",
      "RASMALAI (2551)\n",
      "RASMALAI (2552)\n",
      "RASMALAI (2553)\n",
      "RASMALAI (2554)\n",
      "RASMALAI (2555)\n",
      "RASMALAI (2556)\n",
      "RASMALAI (2557)\n",
      "RASMALAI (2558)\n",
      "RASMALAI (2559)\n",
      "RASMALAI (256)\n",
      "RASMALAI (2560)\n",
      "RASMALAI (2561)\n",
      "RASMALAI (2562)\n",
      "RASMALAI (2563)\n",
      "RASMALAI (2564)\n",
      "RASMALAI (2565)\n",
      "RASMALAI (2566)\n"
     ]
    },
    {
     "name": "stderr",
     "output_type": "stream",
     "text": [
      "\r",
      " 88%|██████████████████████████████████████████████████████████████████▏        | 10286/11648 [01:58<00:08, 152.87it/s]"
     ]
    },
    {
     "name": "stdout",
     "output_type": "stream",
     "text": [
      "RASMALAI (2567)\n",
      "RASMALAI (2568)\n",
      "RASMALAI (2569)\n",
      "RASMALAI (257)\n",
      "RASMALAI (2570)\n",
      "RASMALAI (2571)\n",
      "RASMALAI (2572)\n",
      "RASMALAI (2573)\n",
      "RASMALAI (2574)\n",
      "RASMALAI (2575)\n",
      "RASMALAI (2576)\n",
      "RASMALAI (2577)\n",
      "RASMALAI (2578)\n",
      "RASMALAI (2579)\n",
      "RASMALAI (258)\n",
      "RASMALAI (2580)\n",
      "RASMALAI (2581)\n",
      "RASMALAI (2582)\n",
      "RASMALAI (2583)\n"
     ]
    },
    {
     "name": "stderr",
     "output_type": "stream",
     "text": [
      "\r",
      " 88%|██████████████████████████████████████████████████████████████████▎        | 10305/11648 [01:58<00:08, 160.86it/s]"
     ]
    },
    {
     "name": "stdout",
     "output_type": "stream",
     "text": [
      "RASMALAI (2584)\n",
      "RASMALAI (2585)\n",
      "RASMALAI (2586)\n",
      "RASMALAI (2587)\n",
      "RASMALAI (2588)\n",
      "RASMALAI (2589)\n",
      "RASMALAI (259)\n",
      "RASMALAI (2590)\n",
      "RASMALAI (2591)\n",
      "RASMALAI (2592)\n",
      "RASMALAI (2593)\n",
      "RASMALAI (2594)\n",
      "RASMALAI (2595)\n",
      "RASMALAI (2596)\n",
      "RASMALAI (2597)\n",
      "RASMALAI (2598)\n",
      "RASMALAI (2599)\n",
      "RASMALAI (26)\n"
     ]
    },
    {
     "name": "stderr",
     "output_type": "stream",
     "text": [
      "\r",
      " 89%|██████████████████████████████████████████████████████████████████▍        | 10323/11648 [01:58<00:08, 163.57it/s]"
     ]
    },
    {
     "name": "stdout",
     "output_type": "stream",
     "text": [
      "RASMALAI (26)\n",
      "RASMALAI (26)\n",
      "RASMALAI (260)\n",
      "RASMALAI (2600)\n",
      "RASMALAI (2601)\n",
      "RASMALAI (2602)\n",
      "RASMALAI (2603)\n",
      "RASMALAI (2604)\n",
      "RASMALAI (2605)\n",
      "RASMALAI (2606)\n",
      "RASMALAI (2607)\n",
      "RASMALAI (2608)\n",
      "RASMALAI (2609)\n",
      "RASMALAI (261)\n",
      "RASMALAI (2610)\n",
      "RASMALAI (2611)\n",
      "RASMALAI (2612)\n",
      "RASMALAI (2613)\n"
     ]
    },
    {
     "name": "stderr",
     "output_type": "stream",
     "text": [
      "\r",
      " 89%|██████████████████████████████████████████████████████████████████▌        | 10341/11648 [01:58<00:07, 165.98it/s]"
     ]
    },
    {
     "name": "stdout",
     "output_type": "stream",
     "text": [
      "RASMALAI (2614)\n",
      "RASMALAI (2615)\n",
      "RASMALAI (2616)\n",
      "RASMALAI (2617)\n",
      "RASMALAI (2618)\n",
      "RASMALAI (2619)\n",
      "RASMALAI (262)\n",
      "RASMALAI (2620)\n",
      "RASMALAI (2621)\n",
      "RASMALAI (2622)\n",
      "RASMALAI (2623)\n",
      "RASMALAI (2624)\n",
      "RASMALAI (2625)\n",
      "RASMALAI (2626)\n",
      "RASMALAI (2627)\n",
      "RASMALAI (2628)\n",
      "RASMALAI (2629)\n",
      "RASMALAI (263)\n"
     ]
    },
    {
     "name": "stderr",
     "output_type": "stream",
     "text": [
      "\r",
      " 89%|██████████████████████████████████████████████████████████████████▋        | 10359/11648 [01:58<00:11, 116.65it/s]"
     ]
    },
    {
     "name": "stdout",
     "output_type": "stream",
     "text": [
      "RASMALAI (2630)\n",
      "RASMALAI (2631)\n",
      "RASMALAI (2632)\n",
      "RASMALAI (2633)\n",
      "RASMALAI (2634)\n",
      "RASMALAI (2635)\n",
      "RASMALAI (2636)\n",
      "RASMALAI (2637)\n",
      "RASMALAI (2638)\n",
      "RASMALAI (2639)\n",
      "RASMALAI (264)\n",
      "RASMALAI (2640)\n",
      "RASMALAI (2641)\n",
      "RASMALAI (2642)\n",
      "RASMALAI (2643)\n"
     ]
    },
    {
     "name": "stderr",
     "output_type": "stream",
     "text": [
      "\r",
      " 89%|███████████████████████████████████████████████████████████████████▋        | 10374/11648 [01:59<00:15, 80.23it/s]"
     ]
    },
    {
     "name": "stdout",
     "output_type": "stream",
     "text": [
      "RASMALAI (2644)\n",
      "RASMALAI (2645)\n",
      "RASMALAI (2646)\n",
      "RASMALAI (2647)\n",
      "RASMALAI (2648)\n",
      "RASMALAI (2649)\n",
      "RASMALAI (265)\n",
      "RASMALAI (2650)\n",
      "RASMALAI (2651)\n",
      "RASMALAI (2652)\n",
      "RASMALAI (2653)\n",
      "RASMALAI (2654)\n",
      "RASMALAI (2655)\n",
      "RASMALAI (2656)\n"
     ]
    },
    {
     "name": "stderr",
     "output_type": "stream",
     "text": [
      "\r",
      " 89%|███████████████████████████████████████████████████████████████████▊        | 10388/11648 [01:59<00:13, 91.35it/s]"
     ]
    },
    {
     "name": "stdout",
     "output_type": "stream",
     "text": [
      "RASMALAI (2657)\n",
      "RASMALAI (2658)\n",
      "RASMALAI (2659)\n",
      "RASMALAI (266)\n",
      "RASMALAI (2660)\n",
      "RASMALAI (2661)\n",
      "RASMALAI (2662)\n",
      "RASMALAI (2663)\n",
      "RASMALAI (2664)\n",
      "RASMALAI (2665)\n",
      "RASMALAI (2666)\n",
      "RASMALAI (2667)\n",
      "RASMALAI (2668)\n",
      "RASMALAI (2669)\n",
      "RASMALAI (267)\n",
      "RASMALAI (2670)\n",
      "RASMALAI (2671)\n",
      "RASMALAI (2672)\n",
      "RASMALAI (2673)\n",
      "RASMALAI (2674)\n"
     ]
    },
    {
     "name": "stderr",
     "output_type": "stream",
     "text": [
      "\r",
      " 89%|███████████████████████████████████████████████████████████████████        | 10408/11648 [01:59<00:11, 109.00it/s]"
     ]
    },
    {
     "name": "stdout",
     "output_type": "stream",
     "text": [
      "RASMALAI (2675)\n",
      "RASMALAI (2676)\n",
      "RASMALAI (2677)\n",
      "RASMALAI (2678)\n",
      "RASMALAI (2679)\n",
      "RASMALAI (268)\n",
      "RASMALAI (2680)\n",
      "RASMALAI (2681)\n",
      "RASMALAI (2682)\n",
      "RASMALAI (2683)\n",
      "RASMALAI (2684)\n",
      "RASMALAI (2685)\n",
      "RASMALAI (2686)\n",
      "RASMALAI (2687)\n",
      "RASMALAI (2688)\n"
     ]
    },
    {
     "name": "stderr",
     "output_type": "stream",
     "text": [
      "\r",
      " 89%|███████████████████████████████████████████████████████████████████        | 10423/11648 [01:59<00:10, 116.61it/s]"
     ]
    },
    {
     "name": "stdout",
     "output_type": "stream",
     "text": [
      "RASMALAI (2689)\n",
      "RASMALAI (269)\n",
      "RASMALAI (2690)\n",
      "RASMALAI (2691)\n",
      "RASMALAI (2692)\n",
      "RASMALAI (2693)\n",
      "RASMALAI (2694)\n",
      "RASMALAI (2695)\n",
      "RASMALAI (2696)\n",
      "RASMALAI (2697)\n",
      "RASMALAI (2698)\n",
      "RASMALAI (2699)\n",
      "RASMALAI (27)\n",
      "RASMALAI (27)\n",
      "RASMALAI (27)\n",
      "RASMALAI (270)\n",
      "RASMALAI (2700)\n",
      "RASMALAI (2701)\n"
     ]
    },
    {
     "name": "stderr",
     "output_type": "stream",
     "text": [
      "\r",
      " 90%|███████████████████████████████████████████████████████████████████▏       | 10441/11648 [01:59<00:09, 129.61it/s]"
     ]
    },
    {
     "name": "stdout",
     "output_type": "stream",
     "text": [
      "RASMALAI (2702)\n",
      "RASMALAI (2703)\n",
      "RASMALAI (2704)\n",
      "RASMALAI (2705)\n",
      "RASMALAI (2706)\n",
      "RASMALAI (2707)\n",
      "RASMALAI (2708)\n",
      "RASMALAI (2709)\n",
      "RASMALAI (271)\n",
      "RASMALAI (2710)\n",
      "RASMALAI (2711)\n",
      "RASMALAI (2712)\n",
      "RASMALAI (2713)\n",
      "RASMALAI (2714)\n",
      "RASMALAI (2715)\n",
      "RASMALAI (2716)\n"
     ]
    },
    {
     "name": "stderr",
     "output_type": "stream",
     "text": [
      "\r",
      " 90%|███████████████████████████████████████████████████████████████████▎       | 10457/11648 [01:59<00:09, 130.49it/s]"
     ]
    },
    {
     "name": "stdout",
     "output_type": "stream",
     "text": [
      "RASMALAI (2717)\n",
      "RASMALAI (2718)\n",
      "RASMALAI (2719)\n",
      "RASMALAI (272)\n",
      "RASMALAI (2720)\n",
      "RASMALAI (2721)\n",
      "RASMALAI (2722)\n",
      "RASMALAI (2723)\n",
      "RASMALAI (2724)\n",
      "RASMALAI (2725)\n",
      "RASMALAI (2726)\n",
      "RASMALAI (2727)\n",
      "RASMALAI (2728)\n",
      "RASMALAI (2729)\n",
      "RASMALAI (273)\n",
      "RASMALAI (2730)\n",
      "RASMALAI (2731)\n",
      "RASMALAI (2732)\n",
      "RASMALAI (2733)\n",
      "RASMALAI (2734)\n",
      "RASMALAI (2735)\n",
      "RASMALAI (2736)\n"
     ]
    },
    {
     "name": "stderr",
     "output_type": "stream",
     "text": [
      "\r",
      " 90%|███████████████████████████████████████████████████████████████████▍       | 10479/11648 [01:59<00:07, 148.11it/s]"
     ]
    },
    {
     "name": "stdout",
     "output_type": "stream",
     "text": [
      "RASMALAI (2737)\n",
      "RASMALAI (2738)\n",
      "RASMALAI (2739)\n",
      "RASMALAI (274)\n",
      "RASMALAI (2740)\n",
      "RASMALAI (2741)\n",
      "RASMALAI (2742)\n",
      "RASMALAI (2743)\n",
      "RASMALAI (2744)\n",
      "RASMALAI (2745)\n",
      "RASMALAI (2746)\n",
      "RASMALAI (2747)\n",
      "RASMALAI (2748)\n",
      "RASMALAI (2749)\n",
      "RASMALAI (275)\n",
      "RASMALAI (2750)\n",
      "RASMALAI (2751)\n"
     ]
    },
    {
     "name": "stderr",
     "output_type": "stream",
     "text": [
      "\r",
      " 90%|███████████████████████████████████████████████████████████████████▌       | 10496/11648 [01:59<00:08, 142.57it/s]"
     ]
    },
    {
     "name": "stdout",
     "output_type": "stream",
     "text": [
      "RASMALAI (2752)\n",
      "RASMALAI (2753)\n",
      "RASMALAI (2754)\n",
      "RASMALAI (2755)\n",
      "RASMALAI (2756)\n",
      "RASMALAI (2757)\n",
      "RASMALAI (2758)\n",
      "RASMALAI (2759)\n",
      "RASMALAI (276)\n",
      "RASMALAI (2760)\n",
      "RASMALAI (2761)\n",
      "RASMALAI (2762)\n",
      "RASMALAI (2763)\n",
      "RASMALAI (2764)\n",
      "RASMALAI (2765)\n",
      "RASMALAI (2766)\n",
      "RASMALAI (2767)\n",
      "RASMALAI (2768)\n",
      "RASMALAI (2769)\n"
     ]
    },
    {
     "name": "stderr",
     "output_type": "stream",
     "text": [
      "\r",
      " 90%|███████████████████████████████████████████████████████████████████▋       | 10515/11648 [02:00<00:07, 153.84it/s]"
     ]
    },
    {
     "name": "stdout",
     "output_type": "stream",
     "text": [
      "RASMALAI (277)\n",
      "RASMALAI (2770)\n",
      "RASMALAI (2771)\n",
      "RASMALAI (2772)\n",
      "RASMALAI (2773)\n",
      "RASMALAI (2774)\n",
      "RASMALAI (2775)\n",
      "RASMALAI (2776)\n",
      "RASMALAI (2777)\n",
      "RASMALAI (2778)\n",
      "RASMALAI (2779)\n",
      "RASMALAI (278)\n",
      "RASMALAI (2780)\n",
      "RASMALAI (2781)\n",
      "RASMALAI (2782)\n",
      "RASMALAI (2783)\n",
      "RASMALAI (2784)\n",
      "RASMALAI (2785)\n",
      "RASMALAI (2786)\n",
      "RASMALAI (2787)\n",
      "RASMALAI (2788)\n",
      "RASMALAI (2789)\n",
      "RASMALAI (279)\n",
      "RASMALAI (2790)\n",
      "RASMALAI (2791)\n",
      "RASMALAI (2792)\n",
      "RASMALAI (2793)\n",
      "RASMALAI (2794)\n"
     ]
    },
    {
     "name": "stderr",
     "output_type": "stream",
     "text": [
      "\r",
      " 91%|███████████████████████████████████████████████████████████████████▉       | 10543/11648 [02:00<00:06, 176.96it/s]"
     ]
    },
    {
     "name": "stdout",
     "output_type": "stream",
     "text": [
      "RASMALAI (2795)\n",
      "RASMALAI (2796)\n",
      "RASMALAI (2797)\n",
      "RASMALAI (2798)\n",
      "RASMALAI (2799)\n",
      "RASMALAI (28)\n",
      "RASMALAI (28)\n",
      "RASMALAI (28)\n",
      "RASMALAI (280)\n",
      "RASMALAI (2800)\n",
      "RASMALAI (2801)\n",
      "RASMALAI (2802)\n",
      "RASMALAI (2803)\n",
      "RASMALAI (2804)\n",
      "RASMALAI (2805)\n",
      "RASMALAI (2806)\n",
      "RASMALAI (2807)\n",
      "RASMALAI (2808)\n",
      "RASMALAI (2809)\n",
      "RASMALAI (281)\n"
     ]
    },
    {
     "name": "stderr",
     "output_type": "stream",
     "text": [
      "\r",
      " 91%|████████████████████████████████████████████████████████████████████       | 10563/11648 [02:00<00:06, 170.78it/s]"
     ]
    },
    {
     "name": "stdout",
     "output_type": "stream",
     "text": [
      "RASMALAI (2810)\n",
      "RASMALAI (2811)\n",
      "RASMALAI (2812)\n",
      "RASMALAI (2813)\n",
      "RASMALAI (2814)\n",
      "RASMALAI (2815)\n",
      "RASMALAI (2816)\n",
      "RASMALAI (2817)\n",
      "RASMALAI (2818)\n",
      "RASMALAI (2819)\n",
      "RASMALAI (282)\n",
      "RASMALAI (2820)\n",
      "RASMALAI (2821)\n",
      "RASMALAI (2822)\n",
      "RASMALAI (2823)\n",
      "RASMALAI (2824)\n",
      "RASMALAI (2825)\n",
      "RASMALAI (2826)\n",
      "RASMALAI (2827)\n"
     ]
    },
    {
     "name": "stderr",
     "output_type": "stream",
     "text": [
      "\r",
      " 91%|████████████████████████████████████████████████████████████████████▏      | 10582/11648 [02:00<00:06, 174.80it/s]"
     ]
    },
    {
     "name": "stdout",
     "output_type": "stream",
     "text": [
      "RASMALAI (2828)\n",
      "RASMALAI (2829)\n",
      "RASMALAI (283)\n",
      "RASMALAI (2830)\n",
      "RASMALAI (2831)\n",
      "RASMALAI (2832)\n",
      "RASMALAI (2833)\n",
      "RASMALAI (2834)\n",
      "RASMALAI (2835)\n",
      "RASMALAI (2836)\n",
      "RASMALAI (2837)\n",
      "RASMALAI (2838)\n",
      "RASMALAI (2839)\n",
      "RASMALAI (284)\n",
      "RASMALAI (2840)\n",
      "RASMALAI (2841)\n",
      "RASMALAI (2842)\n",
      "RASMALAI (2843)\n",
      "RASMALAI (2844)\n"
     ]
    },
    {
     "name": "stderr",
     "output_type": "stream",
     "text": [
      "\r",
      " 91%|████████████████████████████████████████████████████████████████████▎      | 10601/11648 [02:00<00:06, 172.89it/s]"
     ]
    },
    {
     "name": "stdout",
     "output_type": "stream",
     "text": [
      "RASMALAI (2845)\n",
      "RASMALAI (2846)\n",
      "RASMALAI (2847)\n",
      "RASMALAI (2848)\n",
      "RASMALAI (2849)\n",
      "RASMALAI (285)\n",
      "RASMALAI (2850)\n",
      "RASMALAI (2851)\n",
      "RASMALAI (2852)\n",
      "RASMALAI (2853)\n",
      "RASMALAI (2854)\n",
      "RASMALAI (2855)\n",
      "RASMALAI (2856)\n",
      "RASMALAI (2857)\n",
      "RASMALAI (2858)\n",
      "RASMALAI (2859)\n",
      "RASMALAI (286)\n",
      "RASMALAI (2860)\n",
      "RASMALAI (2861)\n"
     ]
    },
    {
     "name": "stderr",
     "output_type": "stream",
     "text": [
      "\r",
      " 91%|████████████████████████████████████████████████████████████████████▍      | 10620/11648 [02:00<00:06, 166.19it/s]"
     ]
    },
    {
     "name": "stdout",
     "output_type": "stream",
     "text": [
      "RASMALAI (2862)\n",
      "RASMALAI (2863)\n",
      "RASMALAI (2864)\n",
      "RASMALAI (2865)\n",
      "RASMALAI (2866)\n",
      "RASMALAI (2867)\n",
      "RASMALAI (2868)\n",
      "RASMALAI (2869)\n",
      "RASMALAI (287)\n",
      "RASMALAI (2870)\n",
      "RASMALAI (2871)\n",
      "RASMALAI (2872)\n",
      "RASMALAI (2873)\n",
      "RASMALAI (2874)\n",
      "RASMALAI (2875)\n",
      "RASMALAI (2876)\n",
      "RASMALAI (2877)\n",
      "RASMALAI (2878)\n",
      "RASMALAI (2879)\n",
      "RASMALAI (288)\n"
     ]
    },
    {
     "name": "stderr",
     "output_type": "stream",
     "text": [
      "\r",
      " 91%|████████████████████████████████████████████████████████████████████▌      | 10640/11648 [02:00<00:05, 173.82it/s]"
     ]
    },
    {
     "name": "stdout",
     "output_type": "stream",
     "text": [
      "RASMALAI (2880)\n",
      "RASMALAI (2881)\n",
      "RASMALAI (2882)\n",
      "RASMALAI (2883)\n",
      "RASMALAI (2884)\n",
      "RASMALAI (2885)\n",
      "RASMALAI (2886)\n",
      "RASMALAI (2887)\n",
      "RASMALAI (2888)\n",
      "RASMALAI (2889)\n",
      "RASMALAI (289)\n",
      "RASMALAI (2890)\n",
      "RASMALAI (2891)\n",
      "RASMALAI (2892)\n",
      "RASMALAI (2893)\n",
      "RASMALAI (2894)\n",
      "RASMALAI (2895)\n",
      "RASMALAI (2896)\n"
     ]
    },
    {
     "name": "stderr",
     "output_type": "stream",
     "text": [
      "\r",
      " 92%|████████████████████████████████████████████████████████████████████▋      | 10658/11648 [02:00<00:05, 168.86it/s]"
     ]
    },
    {
     "name": "stdout",
     "output_type": "stream",
     "text": [
      "RASMALAI (2897)\n",
      "RASMALAI (2898)\n",
      "RASMALAI (2899)\n",
      "RASMALAI (29)\n",
      "RASMALAI (29)\n",
      "RASMALAI (29)\n",
      "RASMALAI (290)\n",
      "RASMALAI (2900)\n",
      "RASMALAI (2901)\n",
      "RASMALAI (2902)\n",
      "RASMALAI (2903)\n",
      "RASMALAI (2904)\n",
      "RASMALAI (2905)\n",
      "RASMALAI (2906)\n",
      "RASMALAI (2907)\n",
      "RASMALAI (2908)\n",
      "RASMALAI (2909)\n",
      "RASMALAI (291)\n"
     ]
    },
    {
     "name": "stderr",
     "output_type": "stream",
     "text": [
      "\r",
      " 92%|████████████████████████████████████████████████████████████████████▋      | 10676/11648 [02:00<00:06, 156.92it/s]"
     ]
    },
    {
     "name": "stdout",
     "output_type": "stream",
     "text": [
      "RASMALAI (2910)\n",
      "RASMALAI (2911)\n",
      "RASMALAI (2912)\n",
      "RASMALAI (2913)\n",
      "RASMALAI (2914)\n",
      "RASMALAI (2915)\n",
      "RASMALAI (2916)\n",
      "RASMALAI (2917)\n",
      "RASMALAI (2918)\n",
      "RASMALAI (2919)\n",
      "RASMALAI (292)\n",
      "RASMALAI (2920)\n",
      "RASMALAI (2921)\n",
      "RASMALAI (2922)\n",
      "RASMALAI (2923)\n",
      "RASMALAI (2924)\n",
      "RASMALAI (2925)\n"
     ]
    },
    {
     "name": "stderr",
     "output_type": "stream",
     "text": [
      "\r",
      " 92%|████████████████████████████████████████████████████████████████████▊      | 10693/11648 [02:01<00:05, 159.39it/s]"
     ]
    },
    {
     "name": "stdout",
     "output_type": "stream",
     "text": [
      "RASMALAI (2926)\n",
      "RASMALAI (2927)\n",
      "RASMALAI (2928)\n",
      "RASMALAI (2929)\n",
      "RASMALAI (293)\n",
      "RASMALAI (2930)\n",
      "RASMALAI (2931)\n",
      "RASMALAI (2932)\n",
      "RASMALAI (2933)\n",
      "RASMALAI (2934)\n",
      "RASMALAI (2935)\n",
      "RASMALAI (2936)\n",
      "RASMALAI (2937)\n",
      "RASMALAI (2938)\n",
      "RASMALAI (2939)\n",
      "RASMALAI (294)\n",
      "RASMALAI (2940)\n"
     ]
    },
    {
     "name": "stderr",
     "output_type": "stream",
     "text": [
      "\r",
      " 92%|████████████████████████████████████████████████████████████████████▉      | 10710/11648 [02:01<00:05, 162.09it/s]"
     ]
    },
    {
     "name": "stdout",
     "output_type": "stream",
     "text": [
      "RASMALAI (2941)\n",
      "RASMALAI (2942)\n",
      "RASMALAI (2943)\n",
      "RASMALAI (2944)\n",
      "RASMALAI (2945)\n",
      "RASMALAI (2946)\n",
      "RASMALAI (2947)\n",
      "RASMALAI (2948)\n",
      "RASMALAI (2949)\n",
      "RASMALAI (295)\n",
      "RASMALAI (2950)\n",
      "RASMALAI (2951)\n",
      "RASMALAI (2952)\n",
      "RASMALAI (2953)\n",
      "RASMALAI (2954)\n",
      "RASMALAI (2955)\n",
      "RASMALAI (2956)\n",
      "RASMALAI (2957)\n"
     ]
    },
    {
     "name": "stderr",
     "output_type": "stream",
     "text": [
      "\r",
      " 92%|█████████████████████████████████████████████████████████████████████      | 10728/11648 [02:01<00:05, 165.82it/s]"
     ]
    },
    {
     "name": "stdout",
     "output_type": "stream",
     "text": [
      "RASMALAI (2958)\n",
      "RASMALAI (2959)\n",
      "RASMALAI (296)\n",
      "RASMALAI (2960)\n",
      "RASMALAI (2961)\n",
      "RASMALAI (2962)\n",
      "RASMALAI (2963)\n",
      "RASMALAI (2964)\n",
      "RASMALAI (2965)\n",
      "RASMALAI (2966)\n",
      "RASMALAI (2967)\n",
      "RASMALAI (2968)\n",
      "RASMALAI (2969)\n",
      "RASMALAI (297)\n",
      "RASMALAI (2970)\n",
      "RASMALAI (2971)\n",
      "RASMALAI (2972)\n",
      "RASMALAI (2973)\n",
      "RASMALAI (2974)\n",
      "RASMALAI (2975)\n"
     ]
    },
    {
     "name": "stderr",
     "output_type": "stream",
     "text": [
      "\r",
      " 92%|█████████████████████████████████████████████████████████████████████▏     | 10748/11648 [02:01<00:05, 173.99it/s]"
     ]
    },
    {
     "name": "stdout",
     "output_type": "stream",
     "text": [
      "RASMALAI (2976)\n",
      "RASMALAI (2977)\n",
      "RASMALAI (2978)\n",
      "RASMALAI (2979)\n",
      "RASMALAI (298)\n",
      "RASMALAI (2980)\n",
      "RASMALAI (2981)\n",
      "RASMALAI (2982)\n",
      "RASMALAI (2983)\n",
      "RASMALAI (2984)\n",
      "RASMALAI (2985)\n",
      "RASMALAI (2986)\n",
      "RASMALAI (2987)\n",
      "RASMALAI (2988)\n",
      "RASMALAI (2989)\n",
      "RASMALAI (299)\n",
      "RASMALAI (2990)\n",
      "RASMALAI (2991)\n"
     ]
    },
    {
     "name": "stderr",
     "output_type": "stream",
     "text": [
      "\r",
      " 92%|█████████████████████████████████████████████████████████████████████▎     | 10766/11648 [02:01<00:05, 163.91it/s]"
     ]
    },
    {
     "name": "stdout",
     "output_type": "stream",
     "text": [
      "RASMALAI (2992)\n",
      "RASMALAI (2993)\n",
      "RASMALAI (30)\n",
      "RASMALAI (30)\n",
      "RASMALAI (30)\n",
      "RASMALAI (300)\n",
      "RASMALAI (301)\n",
      "RASMALAI (302)\n",
      "RASMALAI (303)\n",
      "RASMALAI (304)\n",
      "RASMALAI (305)\n",
      "RASMALAI (306)\n",
      "RASMALAI (307)\n",
      "RASMALAI (308)\n",
      "RASMALAI (309)\n",
      "RASMALAI (31)\n",
      "RASMALAI (31)\n",
      "RASMALAI (31)\n"
     ]
    },
    {
     "name": "stderr",
     "output_type": "stream",
     "text": [
      "\r",
      " 93%|█████████████████████████████████████████████████████████████████████▍     | 10784/11648 [02:01<00:05, 164.41it/s]"
     ]
    },
    {
     "name": "stdout",
     "output_type": "stream",
     "text": [
      "RASMALAI (310)\n",
      "RASMALAI (311)\n",
      "RASMALAI (312)\n",
      "RASMALAI (313)\n",
      "RASMALAI (314)\n",
      "RASMALAI (315)\n",
      "RASMALAI (316)\n",
      "RASMALAI (317)\n",
      "RASMALAI (318)\n",
      "RASMALAI (319)\n",
      "RASMALAI (32)\n",
      "RASMALAI (32)\n",
      "RASMALAI (32)\n",
      "RASMALAI (320)\n",
      "RASMALAI (321)\n",
      "RASMALAI (322)\n",
      "RASMALAI (323)\n"
     ]
    },
    {
     "name": "stderr",
     "output_type": "stream",
     "text": [
      "\r",
      " 93%|█████████████████████████████████████████████████████████████████████▌     | 10801/11648 [02:01<00:05, 148.00it/s]"
     ]
    },
    {
     "name": "stdout",
     "output_type": "stream",
     "text": [
      "RASMALAI (324)\n",
      "RASMALAI (325)\n",
      "RASMALAI (326)\n",
      "RASMALAI (327)\n",
      "RASMALAI (328)\n",
      "RASMALAI (329)\n",
      "RASMALAI (33)\n",
      "RASMALAI (33)\n",
      "RASMALAI (33)\n",
      "RASMALAI (330)\n",
      "RASMALAI (331)\n",
      "RASMALAI (332)\n",
      "RASMALAI (333)\n",
      "RASMALAI (334)\n",
      "RASMALAI (335)\n",
      "RASMALAI (336)\n",
      "RASMALAI (337)\n",
      "RASMALAI (338)\n"
     ]
    },
    {
     "name": "stderr",
     "output_type": "stream",
     "text": [
      "\r",
      " 93%|█████████████████████████████████████████████████████████████████████▋     | 10819/11648 [02:01<00:05, 155.63it/s]"
     ]
    },
    {
     "name": "stdout",
     "output_type": "stream",
     "text": [
      "RASMALAI (339)\n",
      "RASMALAI (34)\n",
      "RASMALAI (34)\n",
      "RASMALAI (34)\n",
      "RASMALAI (340)\n",
      "RASMALAI (341)\n",
      "RASMALAI (342)\n",
      "RASMALAI (343)\n",
      "RASMALAI (344)\n",
      "RASMALAI (345)\n",
      "RASMALAI (346)\n",
      "RASMALAI (347)\n",
      "RASMALAI (348)\n",
      "RASMALAI (349)\n",
      "RASMALAI (35)\n",
      "RASMALAI (35)\n",
      "RASMALAI (35)\n",
      "RASMALAI (350)\n"
     ]
    },
    {
     "name": "stderr",
     "output_type": "stream",
     "text": [
      "\r",
      " 93%|█████████████████████████████████████████████████████████████████████▊     | 10837/11648 [02:01<00:05, 161.47it/s]"
     ]
    },
    {
     "name": "stdout",
     "output_type": "stream",
     "text": [
      "RASMALAI (351)\n",
      "RASMALAI (352)\n",
      "RASMALAI (353)\n",
      "RASMALAI (354)\n",
      "RASMALAI (355)\n",
      "RASMALAI (356)\n",
      "RASMALAI (357)\n",
      "RASMALAI (358)\n",
      "RASMALAI (359)\n",
      "RASMALAI (36)\n",
      "RASMALAI (36)\n",
      "RASMALAI (36)\n",
      "RASMALAI (360)\n",
      "RASMALAI (361)\n",
      "RASMALAI (362)\n",
      "RASMALAI (363)\n",
      "RASMALAI (364)\n"
     ]
    },
    {
     "name": "stderr",
     "output_type": "stream",
     "text": [
      "\r",
      " 93%|█████████████████████████████████████████████████████████████████████▉     | 10854/11648 [02:02<00:06, 131.43it/s]"
     ]
    },
    {
     "name": "stdout",
     "output_type": "stream",
     "text": [
      "RASMALAI (365)\n",
      "RASMALAI (366)\n",
      "RASMALAI (367)\n",
      "RASMALAI (368)\n",
      "RASMALAI (369)\n",
      "RASMALAI (37)\n",
      "RASMALAI (37)\n",
      "RASMALAI (37)\n",
      "RASMALAI (370)\n",
      "RASMALAI (371)\n",
      "RASMALAI (372)\n",
      "RASMALAI (373)\n",
      "RASMALAI (374)\n",
      "RASMALAI (375)\n",
      "RASMALAI (376)\n",
      "RASMALAI (377)\n",
      "RASMALAI (378)\n",
      "RASMALAI (379)\n",
      "RASMALAI (38)\n"
     ]
    },
    {
     "name": "stderr",
     "output_type": "stream",
     "text": [
      "\r",
      " 93%|██████████████████████████████████████████████████████████████████████     | 10873/11648 [02:02<00:05, 141.99it/s]"
     ]
    },
    {
     "name": "stdout",
     "output_type": "stream",
     "text": [
      "RASMALAI (38)\n",
      "RASMALAI (38)\n",
      "RASMALAI (380)\n",
      "RASMALAI (381)\n",
      "RASMALAI (382)\n",
      "RASMALAI (383)\n",
      "RASMALAI (384)\n",
      "RASMALAI (385)\n",
      "RASMALAI (386)\n",
      "RASMALAI (387)\n",
      "RASMALAI (388)\n",
      "RASMALAI (389)\n",
      "RASMALAI (39)\n",
      "RASMALAI (39)\n",
      "RASMALAI (39)\n",
      "RASMALAI (390)\n"
     ]
    },
    {
     "name": "stderr",
     "output_type": "stream",
     "text": [
      "\r",
      " 93%|██████████████████████████████████████████████████████████████████████     | 10889/11648 [02:02<00:05, 143.90it/s]"
     ]
    },
    {
     "name": "stdout",
     "output_type": "stream",
     "text": [
      "RASMALAI (391)\n",
      "RASMALAI (392)\n",
      "RASMALAI (393)\n",
      "RASMALAI (394)\n",
      "RASMALAI (395)\n",
      "RASMALAI (396)\n",
      "RASMALAI (397)\n",
      "RASMALAI (398)\n",
      "RASMALAI (399)\n",
      "RASMALAI (4)\n",
      "RASMALAI (4)\n",
      "RASMALAI (4)\n",
      "RASMALAI (40)\n",
      "RASMALAI (40)\n",
      "RASMALAI (40)\n",
      "RASMALAI (400)\n"
     ]
    },
    {
     "name": "stderr",
     "output_type": "stream",
     "text": [
      "\r",
      " 94%|██████████████████████████████████████████████████████████████████████▏    | 10905/11648 [02:02<00:05, 142.17it/s]"
     ]
    },
    {
     "name": "stdout",
     "output_type": "stream",
     "text": [
      "RASMALAI (401)\n",
      "RASMALAI (402)\n",
      "RASMALAI (403)\n",
      "RASMALAI (404)\n",
      "RASMALAI (405)\n",
      "RASMALAI (406)\n",
      "RASMALAI (407)\n",
      "RASMALAI (408)\n",
      "RASMALAI (409)\n",
      "RASMALAI (41)\n",
      "RASMALAI (41)\n",
      "RASMALAI (41)\n",
      "RASMALAI (410)\n",
      "RASMALAI (411)\n",
      "RASMALAI (412)\n"
     ]
    },
    {
     "name": "stderr",
     "output_type": "stream",
     "text": [
      "\r",
      " 94%|██████████████████████████████████████████████████████████████████████▎    | 10920/11648 [02:02<00:05, 127.29it/s]"
     ]
    },
    {
     "name": "stdout",
     "output_type": "stream",
     "text": [
      "RASMALAI (413)\n",
      "RASMALAI (414)\n",
      "RASMALAI (415)\n",
      "RASMALAI (416)\n",
      "RASMALAI (417)\n",
      "RASMALAI (418)\n",
      "RASMALAI (419)\n",
      "RASMALAI (42)\n",
      "RASMALAI (42)\n",
      "RASMALAI (42)\n",
      "RASMALAI (420)\n",
      "RASMALAI (421)\n",
      "RASMALAI (422)\n",
      "RASMALAI (423)\n"
     ]
    },
    {
     "name": "stderr",
     "output_type": "stream",
     "text": [
      "\r",
      " 94%|██████████████████████████████████████████████████████████████████████▍    | 10934/11648 [02:02<00:06, 117.47it/s]"
     ]
    },
    {
     "name": "stdout",
     "output_type": "stream",
     "text": [
      "RASMALAI (424)\n",
      "RASMALAI (425)\n",
      "RASMALAI (426)\n",
      "RASMALAI (427)\n",
      "RASMALAI (428)\n",
      "RASMALAI (429)\n",
      "RASMALAI (43)\n",
      "RASMALAI (43)\n",
      "RASMALAI (43)\n",
      "RASMALAI (430)\n",
      "RASMALAI (431)\n",
      "RASMALAI (432)\n",
      "RASMALAI (433)\n",
      "RASMALAI (434)\n",
      "RASMALAI (435)\n"
     ]
    },
    {
     "name": "stderr",
     "output_type": "stream",
     "text": [
      "\r",
      " 94%|██████████████████████████████████████████████████████████████████████▍    | 10949/11648 [02:02<00:05, 124.79it/s]"
     ]
    },
    {
     "name": "stdout",
     "output_type": "stream",
     "text": [
      "RASMALAI (436)\n",
      "RASMALAI (437)\n",
      "RASMALAI (438)\n",
      "RASMALAI (439)\n",
      "RASMALAI (44)\n",
      "RASMALAI (44)\n",
      "RASMALAI (44)\n",
      "RASMALAI (440)\n",
      "RASMALAI (441)\n",
      "RASMALAI (442)\n",
      "RASMALAI (443)\n",
      "RASMALAI (444)\n",
      "RASMALAI (445)\n",
      "RASMALAI (446)\n"
     ]
    },
    {
     "name": "stderr",
     "output_type": "stream",
     "text": [
      "\r",
      " 94%|██████████████████████████████████████████████████████████████████████▌    | 10963/11648 [02:02<00:05, 121.39it/s]"
     ]
    },
    {
     "name": "stdout",
     "output_type": "stream",
     "text": [
      "RASMALAI (447)\n",
      "RASMALAI (448)\n",
      "RASMALAI (449)\n",
      "RASMALAI (45)\n",
      "RASMALAI (45)\n",
      "RASMALAI (45)\n",
      "RASMALAI (450)\n",
      "RASMALAI (451)\n",
      "RASMALAI (452)\n",
      "RASMALAI (453)\n",
      "RASMALAI (454)\n",
      "RASMALAI (455)\n",
      "RASMALAI (456)\n",
      "RASMALAI (457)\n",
      "RASMALAI (458)\n",
      "RASMALAI (459)\n",
      "RASMALAI (46)\n"
     ]
    },
    {
     "name": "stderr",
     "output_type": "stream",
     "text": [
      "\r",
      " 94%|██████████████████████████████████████████████████████████████████████▋    | 10980/11648 [02:03<00:05, 131.63it/s]"
     ]
    },
    {
     "name": "stdout",
     "output_type": "stream",
     "text": [
      "RASMALAI (46)\n",
      "RASMALAI (46)\n",
      "RASMALAI (460)\n",
      "RASMALAI (461)\n",
      "RASMALAI (462)\n",
      "RASMALAI (463)\n",
      "RASMALAI (464)\n",
      "RASMALAI (465)\n",
      "RASMALAI (466)\n",
      "RASMALAI (467)\n",
      "RASMALAI (468)\n",
      "RASMALAI (469)\n",
      "RASMALAI (47)\n",
      "RASMALAI (47)\n",
      "RASMALAI (47)\n",
      "RASMALAI (470)\n",
      "RASMALAI (471)\n",
      "RASMALAI (472)\n"
     ]
    },
    {
     "name": "stderr",
     "output_type": "stream",
     "text": [
      "\r",
      " 94%|██████████████████████████████████████████████████████████████████████▊    | 10998/11648 [02:03<00:04, 142.59it/s]"
     ]
    },
    {
     "name": "stdout",
     "output_type": "stream",
     "text": [
      "RASMALAI (473)\n",
      "RASMALAI (474)\n",
      "RASMALAI (475)\n",
      "RASMALAI (476)\n",
      "RASMALAI (477)\n",
      "RASMALAI (478)\n",
      "RASMALAI (479)\n",
      "RASMALAI (48)\n",
      "RASMALAI (48)\n",
      "RASMALAI (48)\n",
      "RASMALAI (480)\n",
      "RASMALAI (481)\n",
      "RASMALAI (482)\n",
      "RASMALAI (483)\n",
      "RASMALAI (484)\n"
     ]
    },
    {
     "name": "stderr",
     "output_type": "stream",
     "text": [
      "\r",
      " 95%|██████████████████████████████████████████████████████████████████████▉    | 11013/11648 [02:03<00:04, 135.09it/s]"
     ]
    },
    {
     "name": "stdout",
     "output_type": "stream",
     "text": [
      "RASMALAI (485)\n",
      "RASMALAI (486)\n",
      "RASMALAI (487)\n",
      "RASMALAI (488)\n",
      "RASMALAI (489)\n",
      "RASMALAI (49)\n",
      "RASMALAI (49)\n",
      "RASMALAI (49)\n",
      "RASMALAI (490)\n",
      "RASMALAI (491)\n",
      "RASMALAI (492)\n",
      "RASMALAI (493)\n",
      "RASMALAI (494)\n",
      "RASMALAI (495)\n",
      "RASMALAI (496)\n",
      "RASMALAI (497)\n",
      "RASMALAI (498)\n"
     ]
    },
    {
     "name": "stderr",
     "output_type": "stream",
     "text": [
      "\r",
      " 95%|███████████████████████████████████████████████████████████████████████    | 11030/11648 [02:03<00:04, 141.19it/s]"
     ]
    },
    {
     "name": "stdout",
     "output_type": "stream",
     "text": [
      "RASMALAI (499)\n",
      "RASMALAI (50)\n",
      "RASMALAI (50)\n",
      "RASMALAI (50)\n",
      "RASMALAI (500)\n",
      "RASMALAI (501)\n",
      "RASMALAI (502)\n",
      "RASMALAI (503)\n",
      "RASMALAI (504)\n",
      "RASMALAI (505)\n",
      "RASMALAI (506)\n",
      "RASMALAI (507)\n",
      "RASMALAI (508)\n",
      "RASMALAI (509)\n",
      "RASMALAI (51)\n",
      "RASMALAI (51)\n",
      "RASMALAI (51)\n"
     ]
    },
    {
     "name": "stderr",
     "output_type": "stream",
     "text": [
      "\r",
      " 95%|███████████████████████████████████████████████████████████████████████▏   | 11047/11648 [02:03<00:04, 146.18it/s]"
     ]
    },
    {
     "name": "stdout",
     "output_type": "stream",
     "text": [
      "RASMALAI (510)\n",
      "RASMALAI (511)\n",
      "RASMALAI (512)\n",
      "RASMALAI (513)\n",
      "RASMALAI (514)\n",
      "RASMALAI (515)\n",
      "RASMALAI (516)\n",
      "RASMALAI (517)\n",
      "RASMALAI (518)\n",
      "RASMALAI (519)\n",
      "RASMALAI (52)\n",
      "RASMALAI (52)\n",
      "RASMALAI (52)\n",
      "RASMALAI (520)\n",
      "RASMALAI (521)\n",
      "RASMALAI (522)\n",
      "RASMALAI (523)\n",
      "RASMALAI (524)\n",
      "RASMALAI (525)\n"
     ]
    },
    {
     "name": "stderr",
     "output_type": "stream",
     "text": [
      "\r",
      " 95%|███████████████████████████████████████████████████████████████████████▎   | 11066/11648 [02:03<00:03, 154.10it/s]"
     ]
    },
    {
     "name": "stdout",
     "output_type": "stream",
     "text": [
      "RASMALAI (526)\n",
      "RASMALAI (527)\n",
      "RASMALAI (528)\n",
      "RASMALAI (529)\n",
      "RASMALAI (53)\n",
      "RASMALAI (53)\n",
      "RASMALAI (53)\n",
      "RASMALAI (530)\n",
      "RASMALAI (531)\n",
      "RASMALAI (532)\n",
      "RASMALAI (533)\n",
      "RASMALAI (534)\n",
      "RASMALAI (535)\n",
      "RASMALAI (536)\n",
      "RASMALAI (537)\n",
      "RASMALAI (538)\n"
     ]
    },
    {
     "name": "stderr",
     "output_type": "stream",
     "text": [
      "\r",
      " 95%|███████████████████████████████████████████████████████████████████████▎   | 11082/11648 [02:03<00:03, 142.63it/s]"
     ]
    },
    {
     "name": "stdout",
     "output_type": "stream",
     "text": [
      "RASMALAI (539)\n",
      "RASMALAI (54)\n",
      "RASMALAI (54)\n",
      "RASMALAI (54)\n",
      "RASMALAI (540)\n",
      "RASMALAI (541)\n",
      "RASMALAI (542)\n",
      "RASMALAI (543)\n",
      "RASMALAI (544)\n",
      "RASMALAI (545)\n",
      "RASMALAI (546)\n",
      "RASMALAI (547)\n",
      "RASMALAI (548)\n",
      "RASMALAI (549)\n",
      "RASMALAI (55)\n"
     ]
    },
    {
     "name": "stderr",
     "output_type": "stream",
     "text": [
      "\r",
      " 95%|███████████████████████████████████████████████████████████████████████▍   | 11097/11648 [02:03<00:04, 123.77it/s]"
     ]
    },
    {
     "name": "stdout",
     "output_type": "stream",
     "text": [
      "RASMALAI (55)\n",
      "RASMALAI (55)\n",
      "RASMALAI (550)\n",
      "RASMALAI (551)\n",
      "RASMALAI (552)\n",
      "RASMALAI (553)\n",
      "RASMALAI (554)\n",
      "RASMALAI (555)\n",
      "RASMALAI (556)\n",
      "RASMALAI (557)\n",
      "RASMALAI (558)\n",
      "RASMALAI (559)\n",
      "RASMALAI (56)\n",
      "RASMALAI (56)\n"
     ]
    },
    {
     "name": "stderr",
     "output_type": "stream",
     "text": [
      "\r",
      " 95%|███████████████████████████████████████████████████████████████████████▌   | 11111/11648 [02:04<00:04, 123.26it/s]"
     ]
    },
    {
     "name": "stdout",
     "output_type": "stream",
     "text": [
      "RASMALAI (56)\n",
      "RASMALAI (560)\n",
      "RASMALAI (561)\n",
      "RASMALAI (562)\n",
      "RASMALAI (563)\n",
      "RASMALAI (564)\n",
      "RASMALAI (565)\n",
      "RASMALAI (566)\n",
      "RASMALAI (567)\n",
      "RASMALAI (568)\n",
      "RASMALAI (569)\n",
      "RASMALAI (57)\n",
      "RASMALAI (57)\n",
      "RASMALAI (57)\n",
      "RASMALAI (570)\n",
      "RASMALAI (571)\n",
      "RASMALAI (572)\n"
     ]
    },
    {
     "name": "stderr",
     "output_type": "stream",
     "text": [
      "\r",
      " 96%|███████████████████████████████████████████████████████████████████████▋   | 11128/11648 [02:04<00:03, 133.48it/s]"
     ]
    },
    {
     "name": "stdout",
     "output_type": "stream",
     "text": [
      "RASMALAI (573)\n",
      "RASMALAI (574)\n",
      "RASMALAI (575)\n",
      "RASMALAI (576)\n",
      "RASMALAI (577)\n",
      "RASMALAI (578)\n",
      "RASMALAI (579)\n",
      "RASMALAI (58)\n",
      "RASMALAI (58)\n",
      "RASMALAI (58)\n",
      "RASMALAI (580)\n",
      "RASMALAI (581)\n",
      "RASMALAI (582)\n",
      "RASMALAI (583)\n",
      "RASMALAI (584)\n",
      "RASMALAI (585)\n",
      "RASMALAI (586)\n",
      "RASMALAI (587)\n"
     ]
    },
    {
     "name": "stderr",
     "output_type": "stream",
     "text": [
      "\r",
      " 96%|███████████████████████████████████████████████████████████████████████▊   | 11146/11648 [02:04<00:03, 143.07it/s]"
     ]
    },
    {
     "name": "stdout",
     "output_type": "stream",
     "text": [
      "RASMALAI (588)\n",
      "RASMALAI (589)\n",
      "RASMALAI (59)\n",
      "RASMALAI (59)\n",
      "RASMALAI (59)\n",
      "RASMALAI (590)\n",
      "RASMALAI (591)\n",
      "RASMALAI (592)\n",
      "RASMALAI (593)\n",
      "RASMALAI (594)\n",
      "RASMALAI (595)\n",
      "RASMALAI (596)\n",
      "RASMALAI (597)\n",
      "RASMALAI (598)\n",
      "RASMALAI (599)\n"
     ]
    },
    {
     "name": "stderr",
     "output_type": "stream",
     "text": [
      "\r",
      " 96%|████████████████████████████████████████████████████████████████████████▊   | 11161/11648 [02:04<00:05, 96.36it/s]"
     ]
    },
    {
     "name": "stdout",
     "output_type": "stream",
     "text": [
      "RASMALAI (60)\n",
      "RASMALAI (60)\n",
      "RASMALAI (60)\n",
      "RASMALAI (600)\n",
      "RASMALAI (601)\n",
      "RASMALAI (602)\n",
      "RASMALAI (603)\n",
      "RASMALAI (604)\n",
      "RASMALAI (605)\n",
      "RASMALAI (606)\n",
      "RASMALAI (607)\n",
      "RASMALAI (608)\n",
      "RASMALAI (609)\n"
     ]
    },
    {
     "name": "stderr",
     "output_type": "stream",
     "text": [
      "\r",
      " 96%|████████████████████████████████████████████████████████████████████████▉   | 11174/11648 [02:04<00:08, 58.43it/s]"
     ]
    },
    {
     "name": "stdout",
     "output_type": "stream",
     "text": [
      "RASMALAI (61)\n",
      "RASMALAI (61)\n",
      "RASMALAI (61)\n",
      "RASMALAI (610)\n",
      "RASMALAI (611)\n",
      "RASMALAI (612)\n",
      "RASMALAI (613)\n",
      "RASMALAI (614)\n",
      "RASMALAI (615)\n",
      "RASMALAI (616)\n",
      "RASMALAI (617)\n",
      "RASMALAI (618)\n",
      "RASMALAI (619)\n",
      "RASMALAI (62)\n",
      "RASMALAI (62)\n",
      "RASMALAI (62)\n"
     ]
    },
    {
     "name": "stderr",
     "output_type": "stream",
     "text": [
      "\r",
      " 96%|█████████████████████████████████████████████████████████████████████████   | 11190/11648 [02:05<00:06, 71.71it/s]"
     ]
    },
    {
     "name": "stdout",
     "output_type": "stream",
     "text": [
      "RASMALAI (620)\n",
      "RASMALAI (621)\n",
      "RASMALAI (622)\n",
      "RASMALAI (623)\n",
      "RASMALAI (624)\n",
      "RASMALAI (625)\n",
      "RASMALAI (626)\n",
      "RASMALAI (627)\n",
      "RASMALAI (628)\n",
      "RASMALAI (629)\n",
      "RASMALAI (63)\n",
      "RASMALAI (63)\n",
      "RASMALAI (63)\n",
      "RASMALAI (630)\n",
      "RASMALAI (631)\n",
      "RASMALAI (632)\n",
      "RASMALAI (633)\n",
      "RASMALAI (634)\n"
     ]
    },
    {
     "name": "stderr",
     "output_type": "stream",
     "text": [
      "\r",
      " 96%|█████████████████████████████████████████████████████████████████████████▏  | 11208/11648 [02:05<00:05, 87.03it/s]"
     ]
    },
    {
     "name": "stdout",
     "output_type": "stream",
     "text": [
      "RASMALAI (635)\n",
      "RASMALAI (636)\n",
      "RASMALAI (637)\n",
      "RASMALAI (638)\n",
      "RASMALAI (639)\n",
      "RASMALAI (64)\n",
      "RASMALAI (64)\n",
      "RASMALAI (64)\n",
      "RASMALAI (640)\n",
      "RASMALAI (641)\n",
      "RASMALAI (642)\n",
      "RASMALAI (643)\n",
      "RASMALAI (644)\n",
      "RASMALAI (645)\n",
      "RASMALAI (646)\n",
      "RASMALAI (647)\n",
      "RASMALAI (648)\n",
      "RASMALAI (649)\n"
     ]
    },
    {
     "name": "stderr",
     "output_type": "stream",
     "text": [
      "\r",
      " 96%|████████████████████████████████████████████████████████████████████████▎  | 11226/11648 [02:05<00:04, 102.51it/s]"
     ]
    },
    {
     "name": "stdout",
     "output_type": "stream",
     "text": [
      "RASMALAI (65)\n",
      "RASMALAI (65)\n",
      "RASMALAI (65)\n",
      "RASMALAI (650)\n",
      "RASMALAI (651)\n",
      "RASMALAI (652)\n",
      "RASMALAI (653)\n",
      "RASMALAI (654)\n",
      "RASMALAI (655)\n",
      "RASMALAI (656)\n",
      "RASMALAI (657)\n",
      "RASMALAI (658)\n",
      "RASMALAI (659)\n",
      "RASMALAI (66)\n",
      "RASMALAI (66)\n",
      "RASMALAI (66)\n",
      "RASMALAI (660)\n"
     ]
    },
    {
     "name": "stderr",
     "output_type": "stream",
     "text": [
      "\r",
      " 97%|████████████████████████████████████████████████████████████████████████▍  | 11243/11648 [02:05<00:03, 116.20it/s]"
     ]
    },
    {
     "name": "stdout",
     "output_type": "stream",
     "text": [
      "RASMALAI (661)\n",
      "RASMALAI (662)\n",
      "RASMALAI (663)\n",
      "RASMALAI (664)\n",
      "RASMALAI (665)\n",
      "RASMALAI (666)\n",
      "RASMALAI (667)\n",
      "RASMALAI (668)\n",
      "RASMALAI (669)\n",
      "RASMALAI (67)\n",
      "RASMALAI (67)\n",
      "RASMALAI (670)\n",
      "RASMALAI (671)\n",
      "RASMALAI (672)\n",
      "RASMALAI (673)\n",
      "RASMALAI (674)\n",
      "RASMALAI (675)\n"
     ]
    },
    {
     "name": "stderr",
     "output_type": "stream",
     "text": [
      "\r",
      " 97%|████████████████████████████████████████████████████████████████████████▌  | 11260/11648 [02:05<00:03, 128.18it/s]"
     ]
    },
    {
     "name": "stdout",
     "output_type": "stream",
     "text": [
      "RASMALAI (676)\n",
      "RASMALAI (677)\n",
      "RASMALAI (678)\n",
      "RASMALAI (679)\n",
      "RASMALAI (68)\n",
      "RASMALAI (68)\n",
      "RASMALAI (680)\n",
      "RASMALAI (681)\n",
      "RASMALAI (682)\n",
      "RASMALAI (683)\n",
      "RASMALAI (684)\n",
      "RASMALAI (685)\n",
      "RASMALAI (686)\n",
      "RASMALAI (687)\n",
      "RASMALAI (688)\n",
      "RASMALAI (689)\n"
     ]
    },
    {
     "name": "stderr",
     "output_type": "stream",
     "text": [
      "\r",
      " 97%|████████████████████████████████████████████████████████████████████████▌  | 11276/11648 [02:05<00:02, 134.01it/s]"
     ]
    },
    {
     "name": "stdout",
     "output_type": "stream",
     "text": [
      "RASMALAI (69)\n",
      "RASMALAI (69)\n",
      "RASMALAI (690)\n",
      "RASMALAI (691)\n",
      "RASMALAI (692)\n",
      "RASMALAI (693)\n",
      "RASMALAI (694)\n",
      "RASMALAI (695)\n",
      "RASMALAI (696)\n",
      "RASMALAI (697)\n",
      "RASMALAI (698)\n",
      "RASMALAI (699)\n",
      "RASMALAI (70)\n",
      "RASMALAI (70)\n",
      "RASMALAI (700)\n",
      "RASMALAI (701)\n"
     ]
    },
    {
     "name": "stderr",
     "output_type": "stream",
     "text": [
      "\r",
      " 97%|████████████████████████████████████████████████████████████████████████▋  | 11292/11648 [02:05<00:02, 123.41it/s]"
     ]
    },
    {
     "name": "stdout",
     "output_type": "stream",
     "text": [
      "RASMALAI (702)\n",
      "RASMALAI (703)\n",
      "RASMALAI (704)\n",
      "RASMALAI (705)\n",
      "RASMALAI (706)\n",
      "RASMALAI (707)\n",
      "RASMALAI (708)\n",
      "RASMALAI (709)\n",
      "RASMALAI (71)\n",
      "RASMALAI (71)\n",
      "RASMALAI (710)\n",
      "RASMALAI (711)\n",
      "RASMALAI (712)\n",
      "RASMALAI (713)\n"
     ]
    },
    {
     "name": "stderr",
     "output_type": "stream",
     "text": [
      "\r",
      " 97%|████████████████████████████████████████████████████████████████████████▊  | 11306/11648 [02:05<00:02, 116.28it/s]"
     ]
    },
    {
     "name": "stdout",
     "output_type": "stream",
     "text": [
      "RASMALAI (714)\n",
      "RASMALAI (715)\n",
      "RASMALAI (716)\n",
      "RASMALAI (717)\n",
      "RASMALAI (718)\n",
      "RASMALAI (719)\n",
      "RASMALAI (72)\n",
      "RASMALAI (72)\n",
      "RASMALAI (720)\n",
      "RASMALAI (721)\n",
      "RASMALAI (722)\n",
      "RASMALAI (723)\n",
      "RASMALAI (724)\n",
      "RASMALAI (725)\n",
      "RASMALAI (726)\n",
      "RASMALAI (727)\n",
      "RASMALAI (728)\n",
      "RASMALAI (729)\n",
      "RASMALAI (73)\n",
      "RASMALAI (73)\n",
      "RASMALAI (730)\n",
      "RASMALAI (731)\n",
      "RASMALAI (732)\n"
     ]
    },
    {
     "name": "stderr",
     "output_type": "stream",
     "text": [
      "\r",
      " 97%|████████████████████████████████████████████████████████████████████████▉  | 11329/11648 [02:05<00:02, 136.11it/s]"
     ]
    },
    {
     "name": "stdout",
     "output_type": "stream",
     "text": [
      "RASMALAI (733)\n",
      "RASMALAI (734)\n",
      "RASMALAI (735)\n",
      "RASMALAI (736)\n",
      "RASMALAI (737)\n",
      "RASMALAI (738)\n",
      "RASMALAI (739)\n",
      "RASMALAI (74)\n",
      "RASMALAI (74)\n",
      "RASMALAI (740)\n",
      "RASMALAI (741)\n",
      "RASMALAI (742)\n",
      "RASMALAI (743)\n",
      "RASMALAI (744)\n",
      "RASMALAI (745)\n",
      "RASMALAI (746)\n",
      "RASMALAI (747)\n"
     ]
    },
    {
     "name": "stderr",
     "output_type": "stream",
     "text": [
      "\r",
      " 97%|█████████████████████████████████████████████████████████████████████████  | 11346/11648 [02:06<00:02, 142.68it/s]"
     ]
    },
    {
     "name": "stdout",
     "output_type": "stream",
     "text": [
      "RASMALAI (748)\n",
      "RASMALAI (749)\n",
      "RASMALAI (75)\n",
      "RASMALAI (75)\n",
      "RASMALAI (750)\n",
      "RASMALAI (751)\n",
      "RASMALAI (752)\n",
      "RASMALAI (753)\n",
      "RASMALAI (754)\n",
      "RASMALAI (755)\n",
      "RASMALAI (756)\n",
      "RASMALAI (757)\n",
      "RASMALAI (758)\n",
      "RASMALAI (759)\n",
      "RASMALAI (76)\n",
      "RASMALAI (76)\n"
     ]
    },
    {
     "name": "stderr",
     "output_type": "stream",
     "text": [
      "\r",
      " 98%|█████████████████████████████████████████████████████████████████████████▏ | 11362/11648 [02:06<00:01, 147.17it/s]"
     ]
    },
    {
     "name": "stdout",
     "output_type": "stream",
     "text": [
      "RASMALAI (760)\n",
      "RASMALAI (761)\n",
      "RASMALAI (762)\n",
      "RASMALAI (763)\n",
      "RASMALAI (764)\n",
      "RASMALAI (765)\n",
      "RASMALAI (766)\n",
      "RASMALAI (767)\n",
      "RASMALAI (768)\n",
      "RASMALAI (769)\n",
      "RASMALAI (77)\n",
      "RASMALAI (77)\n",
      "RASMALAI (770)\n",
      "RASMALAI (771)\n",
      "RASMALAI (772)\n",
      "RASMALAI (773)\n",
      "RASMALAI (774)\n"
     ]
    },
    {
     "name": "stderr",
     "output_type": "stream",
     "text": [
      "\r",
      " 98%|█████████████████████████████████████████████████████████████████████████▎ | 11379/11648 [02:06<00:01, 153.05it/s]"
     ]
    },
    {
     "name": "stdout",
     "output_type": "stream",
     "text": [
      "RASMALAI (775)\n",
      "RASMALAI (776)\n",
      "RASMALAI (777)\n",
      "RASMALAI (778)\n",
      "RASMALAI (779)\n",
      "RASMALAI (78)\n",
      "RASMALAI (78)\n",
      "RASMALAI (780)\n",
      "RASMALAI (781)\n",
      "RASMALAI (782)\n",
      "RASMALAI (783)\n",
      "RASMALAI (784)\n",
      "RASMALAI (785)\n",
      "RASMALAI (786)\n",
      "RASMALAI (787)\n",
      "RASMALAI (788)\n",
      "RASMALAI (789)\n",
      "RASMALAI (79)\n"
     ]
    },
    {
     "name": "stderr",
     "output_type": "stream",
     "text": [
      "\r",
      " 98%|█████████████████████████████████████████████████████████████████████████▍ | 11397/11648 [02:06<00:01, 158.67it/s]"
     ]
    },
    {
     "name": "stdout",
     "output_type": "stream",
     "text": [
      "RASMALAI (79)\n",
      "RASMALAI (790)\n",
      "RASMALAI (791)\n",
      "RASMALAI (792)\n",
      "RASMALAI (793)\n",
      "RASMALAI (794)\n",
      "RASMALAI (795)\n",
      "RASMALAI (796)\n",
      "RASMALAI (797)\n",
      "RASMALAI (798)\n",
      "RASMALAI (799)\n",
      "RASMALAI (80)\n",
      "RASMALAI (80)\n",
      "RASMALAI (800)\n",
      "RASMALAI (801)\n",
      "RASMALAI (802)\n",
      "RASMALAI (803)\n",
      "RASMALAI (804)\n"
     ]
    },
    {
     "name": "stderr",
     "output_type": "stream",
     "text": [
      "\r",
      " 98%|█████████████████████████████████████████████████████████████████████████▍ | 11415/11648 [02:06<00:01, 163.30it/s]"
     ]
    },
    {
     "name": "stdout",
     "output_type": "stream",
     "text": [
      "RASMALAI (805)\n",
      "RASMALAI (806)\n",
      "RASMALAI (807)\n",
      "RASMALAI (808)\n",
      "RASMALAI (809)\n",
      "RASMALAI (81)\n",
      "RASMALAI (81)\n",
      "RASMALAI (810)\n",
      "RASMALAI (811)\n",
      "RASMALAI (812)\n",
      "RASMALAI (813)\n",
      "RASMALAI (814)\n",
      "RASMALAI (815)\n",
      "RASMALAI (816)\n",
      "RASMALAI (817)\n",
      "RASMALAI (818)\n",
      "RASMALAI (819)\n",
      "RASMALAI (82)\n"
     ]
    },
    {
     "name": "stderr",
     "output_type": "stream",
     "text": [
      "\r",
      " 98%|█████████████████████████████████████████████████████████████████████████▌ | 11433/11648 [02:06<00:01, 165.33it/s]"
     ]
    },
    {
     "name": "stdout",
     "output_type": "stream",
     "text": [
      "RASMALAI (82)\n",
      "RASMALAI (820)\n",
      "RASMALAI (821)\n",
      "RASMALAI (822)\n",
      "RASMALAI (823)\n",
      "RASMALAI (824)\n",
      "RASMALAI (825)\n",
      "RASMALAI (826)\n",
      "RASMALAI (827)\n",
      "RASMALAI (828)\n",
      "RASMALAI (829)\n",
      "RASMALAI (83)\n",
      "RASMALAI (83)\n",
      "RASMALAI (830)\n",
      "RASMALAI (831)\n",
      "RASMALAI (832)\n",
      "RASMALAI (833)\n"
     ]
    },
    {
     "name": "stderr",
     "output_type": "stream",
     "text": [
      "\r",
      " 98%|█████████████████████████████████████████████████████████████████████████▋ | 11450/11648 [02:06<00:01, 158.02it/s]"
     ]
    },
    {
     "name": "stdout",
     "output_type": "stream",
     "text": [
      "RASMALAI (834)\n",
      "RASMALAI (835)\n",
      "RASMALAI (836)\n",
      "RASMALAI (837)\n",
      "RASMALAI (838)\n",
      "RASMALAI (839)\n",
      "RASMALAI (84)\n",
      "RASMALAI (84)\n",
      "RASMALAI (840)\n",
      "RASMALAI (841)\n",
      "RASMALAI (842)\n",
      "RASMALAI (843)\n",
      "RASMALAI (844)\n",
      "RASMALAI (845)\n",
      "RASMALAI (846)\n",
      "RASMALAI (847)\n",
      "RASMALAI (848)\n",
      "RASMALAI (849)\n"
     ]
    },
    {
     "name": "stderr",
     "output_type": "stream",
     "text": [
      "\r",
      " 98%|█████████████████████████████████████████████████████████████████████████▊ | 11468/11648 [02:06<00:01, 163.70it/s]"
     ]
    },
    {
     "name": "stdout",
     "output_type": "stream",
     "text": [
      "RASMALAI (85)\n",
      "RASMALAI (85)\n",
      "RASMALAI (850)\n",
      "RASMALAI (851)\n",
      "RASMALAI (852)\n",
      "RASMALAI (853)\n",
      "RASMALAI (854)\n",
      "RASMALAI (855)\n",
      "RASMALAI (856)\n",
      "RASMALAI (857)\n",
      "RASMALAI (858)\n",
      "RASMALAI (859)\n",
      "RASMALAI (86)\n",
      "RASMALAI (86)\n",
      "RASMALAI (860)\n",
      "RASMALAI (861)\n",
      "RASMALAI (862)\n"
     ]
    },
    {
     "name": "stderr",
     "output_type": "stream",
     "text": [
      "\r",
      " 99%|█████████████████████████████████████████████████████████████████████████▉ | 11485/11648 [02:06<00:01, 134.65it/s]"
     ]
    },
    {
     "name": "stdout",
     "output_type": "stream",
     "text": [
      "RASMALAI (863)\n",
      "RASMALAI (864)\n",
      "RASMALAI (865)\n",
      "RASMALAI (866)\n",
      "RASMALAI (867)\n",
      "RASMALAI (868)\n",
      "RASMALAI (869)\n",
      "RASMALAI (87)\n",
      "RASMALAI (87)\n",
      "RASMALAI (870)\n",
      "RASMALAI (871)\n",
      "RASMALAI (872)\n",
      "RASMALAI (873)\n",
      "RASMALAI (874)\n",
      "RASMALAI (875)\n"
     ]
    },
    {
     "name": "stderr",
     "output_type": "stream",
     "text": [
      "\r",
      " 99%|██████████████████████████████████████████████████████████████████████████ | 11500/11648 [02:07<00:01, 113.01it/s]"
     ]
    },
    {
     "name": "stdout",
     "output_type": "stream",
     "text": [
      "RASMALAI (876)\n",
      "RASMALAI (877)\n",
      "RASMALAI (878)\n",
      "RASMALAI (879)\n",
      "RASMALAI (88)\n",
      "RASMALAI (88)\n",
      "RASMALAI (880)\n",
      "RASMALAI (881)\n",
      "RASMALAI (882)\n",
      "RASMALAI (883)\n",
      "RASMALAI (884)\n",
      "RASMALAI (885)\n",
      "RASMALAI (886)\n"
     ]
    },
    {
     "name": "stderr",
     "output_type": "stream",
     "text": [
      "\r",
      " 99%|███████████████████████████████████████████████████████████████████████████ | 11513/11648 [02:07<00:01, 96.74it/s]"
     ]
    },
    {
     "name": "stdout",
     "output_type": "stream",
     "text": [
      "RASMALAI (887)\n",
      "RASMALAI (888)\n",
      "RASMALAI (889)\n",
      "RASMALAI (89)\n",
      "RASMALAI (89)\n",
      "RASMALAI (890)\n",
      "RASMALAI (891)\n",
      "RASMALAI (892)\n",
      "RASMALAI (893)\n",
      "RASMALAI (894)\n",
      "RASMALAI (895)\n",
      "RASMALAI (896)\n"
     ]
    },
    {
     "name": "stderr",
     "output_type": "stream",
     "text": [
      "\r",
      " 99%|███████████████████████████████████████████████████████████████████████████▏| 11525/11648 [02:07<00:02, 58.36it/s]"
     ]
    },
    {
     "name": "stdout",
     "output_type": "stream",
     "text": [
      "RASMALAI (897)\n",
      "RASMALAI (898)\n",
      "RASMALAI (899)\n",
      "RASMALAI (90)\n",
      "RASMALAI (90)\n",
      "RASMALAI (900)\n",
      "RASMALAI (901)\n",
      "RASMALAI (902)\n",
      "RASMALAI (903)\n"
     ]
    },
    {
     "name": "stderr",
     "output_type": "stream",
     "text": [
      "\r",
      " 99%|███████████████████████████████████████████████████████████████████████████▎| 11534/11648 [02:07<00:02, 47.54it/s]"
     ]
    },
    {
     "name": "stdout",
     "output_type": "stream",
     "text": [
      "RASMALAI (904)\n",
      "RASMALAI (905)\n",
      "RASMALAI (906)\n",
      "RASMALAI (907)\n",
      "RASMALAI (908)\n",
      "RASMALAI (909)\n",
      "RASMALAI (91)\n",
      "RASMALAI (91)\n"
     ]
    },
    {
     "name": "stderr",
     "output_type": "stream",
     "text": [
      "\r",
      " 99%|███████████████████████████████████████████████████████████████████████████▎| 11542/11648 [02:08<00:02, 51.15it/s]"
     ]
    },
    {
     "name": "stdout",
     "output_type": "stream",
     "text": [
      "RASMALAI (910)\n",
      "RASMALAI (911)\n",
      "RASMALAI (912)\n",
      "RASMALAI (913)\n",
      "RASMALAI (914)\n",
      "RASMALAI (915)\n",
      "RASMALAI (916)\n",
      "RASMALAI (917)\n",
      "RASMALAI (918)\n",
      "RASMALAI (919)\n",
      "RASMALAI (92)\n",
      "RASMALAI (92)\n",
      "RASMALAI (920)\n",
      "RASMALAI (921)\n"
     ]
    },
    {
     "name": "stderr",
     "output_type": "stream",
     "text": [
      "\r",
      " 99%|███████████████████████████████████████████████████████████████████████████▍| 11556/11648 [02:08<00:01, 63.12it/s]"
     ]
    },
    {
     "name": "stdout",
     "output_type": "stream",
     "text": [
      "RASMALAI (922)\n",
      "RASMALAI (923)\n",
      "RASMALAI (924)\n",
      "RASMALAI (925)\n",
      "RASMALAI (926)\n",
      "RASMALAI (927)\n",
      "RASMALAI (928)\n",
      "RASMALAI (929)\n",
      "RASMALAI (93)\n"
     ]
    },
    {
     "name": "stderr",
     "output_type": "stream",
     "text": [
      "\r",
      " 99%|███████████████████████████████████████████████████████████████████████████▍| 11565/11648 [02:08<00:01, 67.20it/s]"
     ]
    },
    {
     "name": "stdout",
     "output_type": "stream",
     "text": [
      "RASMALAI (93)\n",
      "RASMALAI (930)\n",
      "RASMALAI (931)\n",
      "RASMALAI (932)\n",
      "RASMALAI (933)\n",
      "RASMALAI (934)\n",
      "RASMALAI (935)\n",
      "RASMALAI (936)\n",
      "RASMALAI (937)\n"
     ]
    },
    {
     "name": "stderr",
     "output_type": "stream",
     "text": [
      "\r",
      " 99%|███████████████████████████████████████████████████████████████████████████▌| 11574/11648 [02:08<00:01, 65.63it/s]"
     ]
    },
    {
     "name": "stdout",
     "output_type": "stream",
     "text": [
      "RASMALAI (938)\n",
      "RASMALAI (939)\n",
      "RASMALAI (94)\n",
      "RASMALAI (94)\n",
      "RASMALAI (940)\n",
      "RASMALAI (941)\n",
      "RASMALAI (942)\n",
      "RASMALAI (943)\n",
      "RASMALAI (944)\n",
      "RASMALAI (945)\n"
     ]
    },
    {
     "name": "stderr",
     "output_type": "stream",
     "text": [
      "\r",
      " 99%|███████████████████████████████████████████████████████████████████████████▌| 11584/11648 [02:08<00:00, 72.90it/s]"
     ]
    },
    {
     "name": "stdout",
     "output_type": "stream",
     "text": [
      "RASMALAI (946)\n",
      "RASMALAI (947)\n",
      "RASMALAI (948)\n",
      "RASMALAI (949)\n",
      "RASMALAI (95)\n",
      "RASMALAI (95)\n",
      "RASMALAI (950)\n",
      "RASMALAI (951)\n",
      "RASMALAI (952)\n",
      "RASMALAI (953)\n",
      "RASMALAI (954)\n",
      "RASMALAI (955)\n",
      "RASMALAI (956)\n",
      "RASMALAI (957)\n",
      "RASMALAI (958)\n",
      "RASMALAI (959)\n"
     ]
    },
    {
     "name": "stderr",
     "output_type": "stream",
     "text": [
      "\r",
      "100%|███████████████████████████████████████████████████████████████████████████▋| 11600/11648 [02:08<00:00, 86.32it/s]"
     ]
    },
    {
     "name": "stdout",
     "output_type": "stream",
     "text": [
      "RASMALAI (96)\n",
      "RASMALAI (96)\n",
      "RASMALAI (960)\n",
      "RASMALAI (961)\n",
      "RASMALAI (962)\n",
      "RASMALAI (963)\n",
      "RASMALAI (964)\n",
      "RASMALAI (965)\n",
      "RASMALAI (966)\n",
      "RASMALAI (967)\n",
      "RASMALAI (968)\n",
      "RASMALAI (969)\n",
      "RASMALAI (97)\n"
     ]
    },
    {
     "name": "stderr",
     "output_type": "stream",
     "text": [
      "\r",
      "100%|███████████████████████████████████████████████████████████████████████████▊| 11613/11648 [02:08<00:00, 93.17it/s]"
     ]
    },
    {
     "name": "stdout",
     "output_type": "stream",
     "text": [
      "RASMALAI (97)\n",
      "RASMALAI (970)\n",
      "RASMALAI (971)\n",
      "RASMALAI (972)\n",
      "RASMALAI (973)\n",
      "RASMALAI (974)\n",
      "RASMALAI (975)\n",
      "RASMALAI (976)\n",
      "RASMALAI (977)\n",
      "RASMALAI (978)\n",
      "RASMALAI (979)\n",
      "RASMALAI (98)\n"
     ]
    },
    {
     "name": "stderr",
     "output_type": "stream",
     "text": [
      "\r",
      "100%|███████████████████████████████████████████████████████████████████████████▊| 11625/11648 [02:08<00:00, 99.69it/s]"
     ]
    },
    {
     "name": "stdout",
     "output_type": "stream",
     "text": [
      "RASMALAI (98)\n",
      "RASMALAI (980)\n",
      "RASMALAI (981)\n",
      "RASMALAI (982)\n",
      "RASMALAI (983)\n",
      "RASMALAI (984)\n",
      "RASMALAI (985)\n",
      "RASMALAI (986)\n",
      "RASMALAI (987)\n",
      "RASMALAI (988)\n",
      "RASMALAI (989)\n",
      "RASMALAI (99)\n",
      "RASMALAI (99)\n",
      "RASMALAI (990)\n"
     ]
    },
    {
     "name": "stderr",
     "output_type": "stream",
     "text": [
      "\r",
      "100%|██████████████████████████████████████████████████████████████████████████▉| 11639/11648 [02:09<00:00, 108.93it/s]"
     ]
    },
    {
     "name": "stdout",
     "output_type": "stream",
     "text": [
      "RASMALAI (991)\n",
      "RASMALAI (992)\n",
      "RASMALAI (993)\n",
      "RASMALAI (994)\n",
      "RASMALAI (995)\n",
      "RASMALAI (996)\n",
      "RASMALAI (997)\n",
      "RASMALAI (998)\n",
      "RASMALAI (999)\n"
     ]
    },
    {
     "name": "stderr",
     "output_type": "stream",
     "text": [
      "100%|████████████████████████████████████████████████████████████████████████████| 11648/11648 [02:09<00:00, 90.27it/s]\n"
     ]
    }
   ],
   "source": [
    "training_X=[]\n",
    "training_Y=[]\n",
    "for img in tqdm(os.listdir(TRAIN_DIR)):\n",
    "    label=label_img(img)\n",
    "    path=os.path.join(TRAIN_DIR,img)\n",
    "    img=cv2.resize(cv2.imread(path,cv2.IMREAD_GRAYSCALE),(IMG_SIZE,IMG_SIZE),interpolation = cv2.INTER_LINEAR)\n",
    "    training_X.append(np.array(img))\n",
    "    training_Y.append(np.array(label))"
   ]
  },
  {
   "cell_type": "code",
   "execution_count": 5,
   "metadata": {},
   "outputs": [],
   "source": [
    "training_Y=np.array(training_Y)"
   ]
  },
  {
   "cell_type": "code",
   "execution_count": 6,
   "metadata": {},
   "outputs": [],
   "source": [
    "training_X=np.array(training_X)\n",
    "training_X = training_X.astype('float32')"
   ]
  },
  {
   "cell_type": "code",
   "execution_count": 7,
   "metadata": {},
   "outputs": [],
   "source": [
    "training_X = training_X / 255."
   ]
  },
  {
   "cell_type": "code",
   "execution_count": 8,
   "metadata": {},
   "outputs": [],
   "source": [
    "from sklearn.model_selection import train_test_split\n",
    "train_X,valid_X,train_label,valid_label = train_test_split(training_X, training_Y, test_size=0.2, random_state=13)"
   ]
  },
  {
   "cell_type": "code",
   "execution_count": 9,
   "metadata": {},
   "outputs": [],
   "source": [
    "train_X = train_X.reshape(-1, 50,50, 1)"
   ]
  },
  {
   "cell_type": "code",
   "execution_count": 10,
   "metadata": {},
   "outputs": [],
   "source": [
    "valid_X = valid_X.reshape(-1, 50,50, 1)"
   ]
  },
  {
   "cell_type": "code",
   "execution_count": 11,
   "metadata": {},
   "outputs": [],
   "source": [
    "import keras\n",
    "from keras.models import Sequential,Input,Model\n",
    "from keras.layers import Dense, Dropout, Flatten\n",
    "from keras.layers import Conv2D, MaxPooling2D\n",
    "from keras.layers.normalization import BatchNormalization\n",
    "from keras.layers.advanced_activations import LeakyReLU"
   ]
  },
  {
   "cell_type": "code",
   "execution_count": 12,
   "metadata": {},
   "outputs": [],
   "source": [
    "batch_size = 64\n",
    "epochs = 20\n",
    "num_classes = 4"
   ]
  },
  {
   "cell_type": "code",
   "execution_count": 13,
   "metadata": {},
   "outputs": [],
   "source": [
    "fashion_model = Sequential()\n",
    "fashion_model.add(Conv2D(32, kernel_size=(3, 3),activation='linear',input_shape=(50,50,1),padding='same'))\n",
    "fashion_model.add(LeakyReLU(alpha=0.01))\n",
    "fashion_model.add(MaxPooling2D((2, 2),padding='same'))\n",
    "fashion_model.add(Conv2D(64, (3, 3), activation='linear',padding='same'))\n",
    "fashion_model.add(LeakyReLU(alpha=0.01))\n",
    "fashion_model.add(MaxPooling2D(pool_size=(2, 2),padding='same'))\n",
    "fashion_model.add(Conv2D(128, (3, 3), activation='linear',padding='same'))\n",
    "fashion_model.add(LeakyReLU(alpha=0.01))                  \n",
    "fashion_model.add(MaxPooling2D(pool_size=(2, 2),padding='same'))\n",
    "fashion_model.add(Flatten())\n",
    "fashion_model.add(Dense(128, activation='linear'))\n",
    "fashion_model.add(LeakyReLU(alpha=0.01))                  \n",
    "fashion_model.add(Dense(4, activation='softmax'))"
   ]
  },
  {
   "cell_type": "code",
   "execution_count": 14,
   "metadata": {},
   "outputs": [],
   "source": [
    "fashion_model.compile(loss=keras.losses.categorical_crossentropy, optimizer=keras.optimizers.Adam(),metrics=['accuracy'])"
   ]
  },
  {
   "cell_type": "code",
   "execution_count": 15,
   "metadata": {
    "scrolled": true
   },
   "outputs": [
    {
     "name": "stdout",
     "output_type": "stream",
     "text": [
      "Train on 9318 samples, validate on 2330 samples\n",
      "Epoch 1/20\n",
      "9318/9318 [==============================] - ETA: 8:59 - loss: 1.3827 - acc: 0.312 - ETA: 7:51 - loss: 1.3509 - acc: 0.343 - ETA: 7:11 - loss: 1.3663 - acc: 0.322 - ETA: 6:36 - loss: 1.3674 - acc: 0.339 - ETA: 6:29 - loss: 1.3625 - acc: 0.328 - ETA: 6:16 - loss: 1.3645 - acc: 0.315 - ETA: 6:10 - loss: 1.3635 - acc: 0.323 - ETA: 6:01 - loss: 1.3645 - acc: 0.316 - ETA: 5:53 - loss: 1.3601 - acc: 0.336 - ETA: 5:46 - loss: 1.3559 - acc: 0.346 - ETA: 5:40 - loss: 1.3518 - acc: 0.348 - ETA: 5:34 - loss: 1.3471 - acc: 0.347 - ETA: 5:31 - loss: 1.3406 - acc: 0.357 - ETA: 5:27 - loss: 1.3308 - acc: 0.367 - ETA: 5:24 - loss: 1.3198 - acc: 0.383 - ETA: 5:19 - loss: 1.3117 - acc: 0.390 - ETA: 5:14 - loss: 1.2985 - acc: 0.398 - ETA: 5:10 - loss: 1.2922 - acc: 0.401 - ETA: 5:08 - loss: 1.2764 - acc: 0.410 - ETA: 5:03 - loss: 1.2719 - acc: 0.414 - ETA: 5:00 - loss: 1.2658 - acc: 0.419 - ETA: 4:57 - loss: 1.2761 - acc: 0.411 - ETA: 4:55 - loss: 1.2670 - acc: 0.413 - ETA: 4:51 - loss: 1.2604 - acc: 0.415 - ETA: 4:48 - loss: 1.2625 - acc: 0.415 - ETA: 4:46 - loss: 1.2603 - acc: 0.414 - ETA: 4:43 - loss: 1.2553 - acc: 0.416 - ETA: 4:39 - loss: 1.2514 - acc: 0.415 - ETA: 4:36 - loss: 1.2487 - acc: 0.413 - ETA: 4:33 - loss: 1.2446 - acc: 0.415 - ETA: 4:30 - loss: 1.2366 - acc: 0.419 - ETA: 4:26 - loss: 1.2314 - acc: 0.421 - ETA: 4:23 - loss: 1.2273 - acc: 0.424 - ETA: 4:21 - loss: 1.2217 - acc: 0.426 - ETA: 4:18 - loss: 1.2154 - acc: 0.429 - ETA: 4:15 - loss: 1.2080 - acc: 0.433 - ETA: 4:12 - loss: 1.1994 - acc: 0.437 - ETA: 4:10 - loss: 1.1915 - acc: 0.443 - ETA: 4:07 - loss: 1.1900 - acc: 0.446 - ETA: 4:05 - loss: 1.1863 - acc: 0.449 - ETA: 4:03 - loss: 1.1814 - acc: 0.450 - ETA: 4:00 - loss: 1.1772 - acc: 0.453 - ETA: 3:57 - loss: 1.1746 - acc: 0.454 - ETA: 3:55 - loss: 1.1695 - acc: 0.455 - ETA: 3:52 - loss: 1.1662 - acc: 0.457 - ETA: 3:50 - loss: 1.1613 - acc: 0.461 - ETA: 3:48 - loss: 1.1562 - acc: 0.464 - ETA: 3:45 - loss: 1.1529 - acc: 0.466 - ETA: 3:43 - loss: 1.1492 - acc: 0.469 - ETA: 3:41 - loss: 1.1432 - acc: 0.473 - ETA: 3:38 - loss: 1.1432 - acc: 0.474 - ETA: 3:36 - loss: 1.1416 - acc: 0.475 - ETA: 3:34 - loss: 1.1389 - acc: 0.477 - ETA: 3:31 - loss: 1.1332 - acc: 0.480 - ETA: 3:29 - loss: 1.1284 - acc: 0.483 - ETA: 3:27 - loss: 1.1253 - acc: 0.486 - ETA: 3:24 - loss: 1.1221 - acc: 0.487 - ETA: 3:22 - loss: 1.1169 - acc: 0.489 - ETA: 3:19 - loss: 1.1130 - acc: 0.491 - ETA: 3:17 - loss: 1.1100 - acc: 0.492 - ETA: 3:15 - loss: 1.1072 - acc: 0.494 - ETA: 3:12 - loss: 1.1047 - acc: 0.496 - ETA: 3:10 - loss: 1.1016 - acc: 0.497 - ETA: 3:08 - loss: 1.1006 - acc: 0.498 - ETA: 3:05 - loss: 1.1002 - acc: 0.498 - ETA: 3:02 - loss: 1.0970 - acc: 0.501 - ETA: 3:00 - loss: 1.0929 - acc: 0.504 - ETA: 2:58 - loss: 1.0922 - acc: 0.503 - ETA: 2:55 - loss: 1.0908 - acc: 0.504 - ETA: 2:53 - loss: 1.0872 - acc: 0.506 - ETA: 2:51 - loss: 1.0866 - acc: 0.507 - ETA: 2:48 - loss: 1.0847 - acc: 0.508 - ETA: 2:46 - loss: 1.0832 - acc: 0.509 - ETA: 2:43 - loss: 1.0790 - acc: 0.512 - ETA: 2:41 - loss: 1.0775 - acc: 0.513 - ETA: 2:39 - loss: 1.0772 - acc: 0.514 - ETA: 2:37 - loss: 1.0739 - acc: 0.516 - ETA: 2:34 - loss: 1.0699 - acc: 0.518 - ETA: 2:32 - loss: 1.0658 - acc: 0.520 - ETA: 2:30 - loss: 1.0620 - acc: 0.521 - ETA: 2:28 - loss: 1.0612 - acc: 0.522 - ETA: 2:25 - loss: 1.0573 - acc: 0.524 - ETA: 2:23 - loss: 1.0556 - acc: 0.525 - ETA: 2:21 - loss: 1.0526 - acc: 0.527 - ETA: 2:19 - loss: 1.0497 - acc: 0.528 - ETA: 2:16 - loss: 1.0482 - acc: 0.529 - ETA: 2:14 - loss: 1.0450 - acc: 0.532 - ETA: 2:12 - loss: 1.0421 - acc: 0.533 - ETA: 2:09 - loss: 1.0389 - acc: 0.535 - ETA: 2:07 - loss: 1.0382 - acc: 0.534 - ETA: 2:05 - loss: 1.0358 - acc: 0.536 - ETA: 2:03 - loss: 1.0337 - acc: 0.536 - ETA: 2:00 - loss: 1.0292 - acc: 0.538 - ETA: 1:58 - loss: 1.0266 - acc: 0.539 - ETA: 1:55 - loss: 1.0232 - acc: 0.541 - ETA: 1:53 - loss: 1.0212 - acc: 0.542 - ETA: 1:51 - loss: 1.0184 - acc: 0.544 - ETA: 1:49 - loss: 1.0154 - acc: 0.545 - ETA: 1:46 - loss: 1.0124 - acc: 0.547 - ETA: 1:44 - loss: 1.0089 - acc: 0.548 - ETA: 1:42 - loss: 1.0058 - acc: 0.550 - ETA: 1:39 - loss: 1.0032 - acc: 0.550 - ETA: 1:37 - loss: 1.0012 - acc: 0.551 - ETA: 1:35 - loss: 0.9986 - acc: 0.553 - ETA: 1:32 - loss: 0.9958 - acc: 0.554 - ETA: 1:30 - loss: 0.9940 - acc: 0.555 - ETA: 1:28 - loss: 0.9912 - acc: 0.557 - ETA: 1:25 - loss: 0.9873 - acc: 0.559 - ETA: 1:23 - loss: 0.9843 - acc: 0.560 - ETA: 1:21 - loss: 0.9844 - acc: 0.560 - ETA: 1:19 - loss: 0.9820 - acc: 0.562 - ETA: 1:16 - loss: 0.9807 - acc: 0.563 - ETA: 1:14 - loss: 0.9796 - acc: 0.564 - ETA: 1:12 - loss: 0.9783 - acc: 0.565 - ETA: 1:10 - loss: 0.9753 - acc: 0.567 - ETA: 1:07 - loss: 0.9725 - acc: 0.568 - ETA: 1:05 - loss: 0.9697 - acc: 0.570 - ETA: 1:03 - loss: 0.9668 - acc: 0.571 - ETA: 1:00 - loss: 0.9648 - acc: 0.572 - ETA: 58s - loss: 0.9610 - acc: 0.574 - ETA: 56s - loss: 0.9576 - acc: 0.57 - ETA: 53s - loss: 0.9565 - acc: 0.57 - ETA: 51s - loss: 0.9540 - acc: 0.57 - ETA: 49s - loss: 0.9510 - acc: 0.58 - ETA: 47s - loss: 0.9472 - acc: 0.58 - ETA: 44s - loss: 0.9450 - acc: 0.58 - ETA: 42s - loss: 0.9427 - acc: 0.58 - ETA: 40s - loss: 0.9411 - acc: 0.58 - ETA: 38s - loss: 0.9396 - acc: 0.58 - ETA: 35s - loss: 0.9373 - acc: 0.58 - ETA: 33s - loss: 0.9342 - acc: 0.58 - ETA: 31s - loss: 0.9326 - acc: 0.58 - ETA: 28s - loss: 0.9311 - acc: 0.58 - ETA: 26s - loss: 0.9300 - acc: 0.58 - ETA: 24s - loss: 0.9264 - acc: 0.59 - ETA: 21s - loss: 0.9248 - acc: 0.59 - ETA: 19s - loss: 0.9226 - acc: 0.59 - ETA: 17s - loss: 0.9197 - acc: 0.59 - ETA: 15s - loss: 0.9201 - acc: 0.59 - ETA: 12s - loss: 0.9170 - acc: 0.59 - ETA: 10s - loss: 0.9152 - acc: 0.59 - ETA: 8s - loss: 0.9130 - acc: 0.5985 - ETA: 5s - loss: 0.9112 - acc: 0.599 - ETA: 3s - loss: 0.9088 - acc: 0.600 - ETA: 1s - loss: 0.9070 - acc: 0.600 - 339s 36ms/step - loss: 0.9056 - acc: 0.6012 - val_loss: 0.6756 - val_acc: 0.7219\n",
      "Epoch 2/20\n",
      "9318/9318 [==============================] - ETA: 5:31 - loss: 0.6288 - acc: 0.750 - ETA: 5:16 - loss: 0.6571 - acc: 0.718 - ETA: 5:10 - loss: 0.6598 - acc: 0.734 - ETA: 5:11 - loss: 0.6659 - acc: 0.722 - ETA: 5:14 - loss: 0.6716 - acc: 0.718 - ETA: 5:14 - loss: 0.6547 - acc: 0.731 - ETA: 5:11 - loss: 0.6494 - acc: 0.732 - ETA: 5:05 - loss: 0.6442 - acc: 0.736 - ETA: 5:04 - loss: 0.6338 - acc: 0.732 - ETA: 5:04 - loss: 0.6245 - acc: 0.737 - ETA: 5:00 - loss: 0.6234 - acc: 0.742 - ETA: 4:57 - loss: 0.6330 - acc: 0.735 - ETA: 4:56 - loss: 0.6221 - acc: 0.739 - ETA: 4:55 - loss: 0.6473 - acc: 0.729 - ETA: 4:53 - loss: 0.6772 - acc: 0.726 - ETA: 4:49 - loss: 0.6641 - acc: 0.733 - ETA: 4:48 - loss: 0.6663 - acc: 0.727 - ETA: 4:44 - loss: 0.6733 - acc: 0.722 - ETA: 4:42 - loss: 0.6704 - acc: 0.719 - ETA: 4:41 - loss: 0.6675 - acc: 0.720 - ETA: 4:39 - loss: 0.6733 - acc: 0.716 - ETA: 4:38 - loss: 0.6727 - acc: 0.714 - ETA: 4:37 - loss: 0.6714 - acc: 0.715 - ETA: 4:35 - loss: 0.6725 - acc: 0.717 - ETA: 4:33 - loss: 0.6686 - acc: 0.720 - ETA: 4:32 - loss: 0.6667 - acc: 0.721 - ETA: 4:30 - loss: 0.6641 - acc: 0.722 - ETA: 4:29 - loss: 0.6620 - acc: 0.723 - ETA: 4:26 - loss: 0.6600 - acc: 0.724 - ETA: 4:24 - loss: 0.6555 - acc: 0.725 - ETA: 4:22 - loss: 0.6546 - acc: 0.726 - ETA: 4:19 - loss: 0.6500 - acc: 0.727 - ETA: 4:17 - loss: 0.6484 - acc: 0.729 - ETA: 4:15 - loss: 0.6466 - acc: 0.729 - ETA: 4:12 - loss: 0.6451 - acc: 0.730 - ETA: 4:10 - loss: 0.6401 - acc: 0.732 - ETA: 4:07 - loss: 0.6410 - acc: 0.732 - ETA: 4:04 - loss: 0.6356 - acc: 0.735 - ETA: 4:02 - loss: 0.6283 - acc: 0.738 - ETA: 4:00 - loss: 0.6283 - acc: 0.737 - ETA: 3:57 - loss: 0.6239 - acc: 0.738 - ETA: 3:55 - loss: 0.6229 - acc: 0.740 - ETA: 3:53 - loss: 0.6203 - acc: 0.740 - ETA: 3:50 - loss: 0.6168 - acc: 0.743 - ETA: 3:48 - loss: 0.6155 - acc: 0.743 - ETA: 3:46 - loss: 0.6174 - acc: 0.741 - ETA: 3:44 - loss: 0.6189 - acc: 0.739 - ETA: 3:42 - loss: 0.6180 - acc: 0.740 - ETA: 3:39 - loss: 0.6167 - acc: 0.742 - ETA: 3:37 - loss: 0.6157 - acc: 0.741 - ETA: 3:35 - loss: 0.6142 - acc: 0.743 - ETA: 3:33 - loss: 0.6087 - acc: 0.746 - ETA: 3:31 - loss: 0.6112 - acc: 0.746 - ETA: 3:29 - loss: 0.6114 - acc: 0.746 - ETA: 3:26 - loss: 0.6124 - acc: 0.746 - ETA: 3:24 - loss: 0.6142 - acc: 0.744 - ETA: 3:21 - loss: 0.6121 - acc: 0.745 - ETA: 3:19 - loss: 0.6127 - acc: 0.744 - ETA: 3:17 - loss: 0.6142 - acc: 0.744 - ETA: 3:15 - loss: 0.6165 - acc: 0.743 - ETA: 3:12 - loss: 0.6176 - acc: 0.741 - ETA: 3:10 - loss: 0.6149 - acc: 0.742 - ETA: 3:08 - loss: 0.6138 - acc: 0.743 - ETA: 3:06 - loss: 0.6147 - acc: 0.742 - ETA: 3:03 - loss: 0.6136 - acc: 0.742 - ETA: 3:01 - loss: 0.6132 - acc: 0.743 - ETA: 2:59 - loss: 0.6116 - acc: 0.744 - ETA: 2:56 - loss: 0.6098 - acc: 0.745 - ETA: 2:54 - loss: 0.6085 - acc: 0.746 - ETA: 2:52 - loss: 0.6079 - acc: 0.747 - ETA: 2:50 - loss: 0.6049 - acc: 0.748 - ETA: 2:47 - loss: 0.6048 - acc: 0.749 - ETA: 2:45 - loss: 0.6036 - acc: 0.749 - ETA: 2:42 - loss: 0.6030 - acc: 0.749 - ETA: 2:40 - loss: 0.6019 - acc: 0.750 - ETA: 2:38 - loss: 0.6007 - acc: 0.750 - ETA: 2:36 - loss: 0.5982 - acc: 0.752 - ETA: 2:33 - loss: 0.5973 - acc: 0.753 - ETA: 2:31 - loss: 0.5979 - acc: 0.753 - ETA: 2:29 - loss: 0.5975 - acc: 0.754 - ETA: 2:26 - loss: 0.5978 - acc: 0.753 - ETA: 2:24 - loss: 0.5969 - acc: 0.753 - ETA: 2:22 - loss: 0.5955 - acc: 0.753 - ETA: 2:19 - loss: 0.5971 - acc: 0.753 - ETA: 2:17 - loss: 0.5954 - acc: 0.754 - ETA: 2:15 - loss: 0.5932 - acc: 0.755 - ETA: 2:13 - loss: 0.5939 - acc: 0.755 - ETA: 2:11 - loss: 0.5931 - acc: 0.755 - ETA: 2:08 - loss: 0.5920 - acc: 0.756 - ETA: 2:06 - loss: 0.5907 - acc: 0.756 - ETA: 2:04 - loss: 0.5889 - acc: 0.757 - ETA: 2:01 - loss: 0.5873 - acc: 0.758 - ETA: 1:59 - loss: 0.5877 - acc: 0.758 - ETA: 1:57 - loss: 0.5860 - acc: 0.759 - ETA: 1:55 - loss: 0.5836 - acc: 0.760 - ETA: 1:52 - loss: 0.5812 - acc: 0.762 - ETA: 1:50 - loss: 0.5786 - acc: 0.763 - ETA: 1:48 - loss: 0.5757 - acc: 0.765 - ETA: 1:46 - loss: 0.5770 - acc: 0.764 - ETA: 1:44 - loss: 0.5755 - acc: 0.765 - ETA: 1:41 - loss: 0.5749 - acc: 0.765 - ETA: 1:39 - loss: 0.5733 - acc: 0.766 - ETA: 1:37 - loss: 0.5716 - acc: 0.767 - ETA: 1:34 - loss: 0.5713 - acc: 0.767 - ETA: 1:32 - loss: 0.5703 - acc: 0.767 - ETA: 1:30 - loss: 0.5708 - acc: 0.767 - ETA: 1:28 - loss: 0.5701 - acc: 0.767 - ETA: 1:25 - loss: 0.5688 - acc: 0.768 - ETA: 1:23 - loss: 0.5698 - acc: 0.767 - ETA: 1:21 - loss: 0.5690 - acc: 0.768 - ETA: 1:19 - loss: 0.5686 - acc: 0.768 - ETA: 1:16 - loss: 0.5684 - acc: 0.767 - ETA: 1:14 - loss: 0.5671 - acc: 0.768 - ETA: 1:12 - loss: 0.5667 - acc: 0.768 - ETA: 1:09 - loss: 0.5648 - acc: 0.769 - ETA: 1:07 - loss: 0.5642 - acc: 0.769 - ETA: 1:05 - loss: 0.5645 - acc: 0.769 - ETA: 1:02 - loss: 0.5633 - acc: 0.770 - ETA: 1:00 - loss: 0.5620 - acc: 0.771 - ETA: 58s - loss: 0.5610 - acc: 0.771 - ETA: 56s - loss: 0.5610 - acc: 0.77 - ETA: 53s - loss: 0.5594 - acc: 0.77 - ETA: 51s - loss: 0.5583 - acc: 0.77 - ETA: 49s - loss: 0.5577 - acc: 0.77 - ETA: 46s - loss: 0.5568 - acc: 0.77 - ETA: 44s - loss: 0.5578 - acc: 0.77 - ETA: 42s - loss: 0.5583 - acc: 0.77 - ETA: 40s - loss: 0.5570 - acc: 0.77 - ETA: 37s - loss: 0.5573 - acc: 0.77 - ETA: 35s - loss: 0.5567 - acc: 0.77 - ETA: 33s - loss: 0.5557 - acc: 0.77 - ETA: 30s - loss: 0.5546 - acc: 0.77 - ETA: 28s - loss: 0.5556 - acc: 0.77 - ETA: 26s - loss: 0.5543 - acc: 0.77 - ETA: 24s - loss: 0.5540 - acc: 0.77 - ETA: 21s - loss: 0.5534 - acc: 0.77 - ETA: 19s - loss: 0.5521 - acc: 0.77 - ETA: 17s - loss: 0.5525 - acc: 0.77 - ETA: 15s - loss: 0.5511 - acc: 0.77 - ETA: 12s - loss: 0.5502 - acc: 0.77 - ETA: 10s - loss: 0.5490 - acc: 0.77 - ETA: 8s - loss: 0.5481 - acc: 0.7768 - ETA: 5s - loss: 0.5471 - acc: 0.777 - ETA: 3s - loss: 0.5461 - acc: 0.777 - ETA: 1s - loss: 0.5453 - acc: 0.778 - 337s 36ms/step - loss: 0.5444 - acc: 0.7790 - val_loss: 0.4585 - val_acc: 0.8193\n",
      "Epoch 3/20\n"
     ]
    },
    {
     "name": "stdout",
     "output_type": "stream",
     "text": [
      "9318/9318 [==============================] - ETA: 4:58 - loss: 0.4149 - acc: 0.843 - ETA: 4:59 - loss: 0.3484 - acc: 0.890 - ETA: 5:09 - loss: 0.3305 - acc: 0.885 - ETA: 5:10 - loss: 0.3731 - acc: 0.855 - ETA: 4:58 - loss: 0.3676 - acc: 0.862 - ETA: 5:02 - loss: 0.3853 - acc: 0.856 - ETA: 5:04 - loss: 0.3806 - acc: 0.861 - ETA: 5:04 - loss: 0.3780 - acc: 0.861 - ETA: 5:05 - loss: 0.3761 - acc: 0.861 - ETA: 5:04 - loss: 0.3717 - acc: 0.856 - ETA: 5:03 - loss: 0.3693 - acc: 0.859 - ETA: 5:01 - loss: 0.3753 - acc: 0.856 - ETA: 4:59 - loss: 0.3735 - acc: 0.855 - ETA: 4:57 - loss: 0.3782 - acc: 0.850 - ETA: 4:56 - loss: 0.3753 - acc: 0.852 - ETA: 4:56 - loss: 0.3763 - acc: 0.853 - ETA: 4:51 - loss: 0.3739 - acc: 0.854 - ETA: 4:49 - loss: 0.3728 - acc: 0.856 - ETA: 4:48 - loss: 0.3662 - acc: 0.859 - ETA: 4:45 - loss: 0.3693 - acc: 0.860 - ETA: 4:42 - loss: 0.3634 - acc: 0.863 - ETA: 4:40 - loss: 0.3631 - acc: 0.862 - ETA: 4:38 - loss: 0.3654 - acc: 0.863 - ETA: 4:34 - loss: 0.3734 - acc: 0.856 - ETA: 4:32 - loss: 0.3778 - acc: 0.855 - ETA: 4:29 - loss: 0.3772 - acc: 0.855 - ETA: 4:26 - loss: 0.3800 - acc: 0.854 - ETA: 4:23 - loss: 0.3860 - acc: 0.851 - ETA: 4:20 - loss: 0.3913 - acc: 0.848 - ETA: 4:19 - loss: 0.3897 - acc: 0.849 - ETA: 4:17 - loss: 0.3903 - acc: 0.847 - ETA: 4:15 - loss: 0.3910 - acc: 0.847 - ETA: 4:13 - loss: 0.3899 - acc: 0.848 - ETA: 4:11 - loss: 0.3910 - acc: 0.847 - ETA: 4:08 - loss: 0.3874 - acc: 0.849 - ETA: 4:05 - loss: 0.3854 - acc: 0.850 - ETA: 4:03 - loss: 0.3847 - acc: 0.850 - ETA: 4:01 - loss: 0.3833 - acc: 0.851 - ETA: 3:59 - loss: 0.3828 - acc: 0.852 - ETA: 3:56 - loss: 0.3804 - acc: 0.853 - ETA: 3:53 - loss: 0.3830 - acc: 0.852 - ETA: 3:51 - loss: 0.3824 - acc: 0.853 - ETA: 3:49 - loss: 0.3818 - acc: 0.855 - ETA: 3:48 - loss: 0.3821 - acc: 0.855 - ETA: 3:46 - loss: 0.3818 - acc: 0.855 - ETA: 3:44 - loss: 0.3825 - acc: 0.854 - ETA: 3:42 - loss: 0.3825 - acc: 0.854 - ETA: 3:40 - loss: 0.3832 - acc: 0.854 - ETA: 3:37 - loss: 0.3817 - acc: 0.854 - ETA: 3:35 - loss: 0.3837 - acc: 0.855 - ETA: 3:33 - loss: 0.3814 - acc: 0.856 - ETA: 3:31 - loss: 0.3816 - acc: 0.855 - ETA: 3:29 - loss: 0.3838 - acc: 0.855 - ETA: 3:26 - loss: 0.3826 - acc: 0.856 - ETA: 3:24 - loss: 0.3814 - acc: 0.856 - ETA: 3:22 - loss: 0.3819 - acc: 0.856 - ETA: 3:20 - loss: 0.3874 - acc: 0.854 - ETA: 3:17 - loss: 0.3892 - acc: 0.854 - ETA: 3:15 - loss: 0.3880 - acc: 0.853 - ETA: 3:13 - loss: 0.3891 - acc: 0.854 - ETA: 3:11 - loss: 0.3889 - acc: 0.854 - ETA: 3:09 - loss: 0.3888 - acc: 0.854 - ETA: 3:07 - loss: 0.3887 - acc: 0.854 - ETA: 3:04 - loss: 0.3877 - acc: 0.855 - ETA: 3:02 - loss: 0.3860 - acc: 0.856 - ETA: 3:00 - loss: 0.3847 - acc: 0.857 - ETA: 2:58 - loss: 0.3866 - acc: 0.856 - ETA: 2:55 - loss: 0.3874 - acc: 0.855 - ETA: 2:53 - loss: 0.3881 - acc: 0.855 - ETA: 2:51 - loss: 0.3885 - acc: 0.854 - ETA: 2:48 - loss: 0.3867 - acc: 0.855 - ETA: 2:46 - loss: 0.3873 - acc: 0.855 - ETA: 2:44 - loss: 0.3868 - acc: 0.854 - ETA: 2:41 - loss: 0.3894 - acc: 0.852 - ETA: 2:39 - loss: 0.3888 - acc: 0.853 - ETA: 2:37 - loss: 0.3880 - acc: 0.853 - ETA: 2:34 - loss: 0.3873 - acc: 0.854 - ETA: 2:32 - loss: 0.3863 - acc: 0.854 - ETA: 2:30 - loss: 0.3862 - acc: 0.854 - ETA: 2:28 - loss: 0.3859 - acc: 0.854 - ETA: 2:26 - loss: 0.3859 - acc: 0.855 - ETA: 2:23 - loss: 0.3851 - acc: 0.855 - ETA: 2:21 - loss: 0.3845 - acc: 0.855 - ETA: 2:19 - loss: 0.3831 - acc: 0.856 - ETA: 2:16 - loss: 0.3824 - acc: 0.856 - ETA: 2:14 - loss: 0.3820 - acc: 0.856 - ETA: 2:12 - loss: 0.3811 - acc: 0.857 - ETA: 2:09 - loss: 0.3801 - acc: 0.857 - ETA: 2:07 - loss: 0.3794 - acc: 0.857 - ETA: 2:05 - loss: 0.3777 - acc: 0.858 - ETA: 2:03 - loss: 0.3760 - acc: 0.859 - ETA: 2:01 - loss: 0.3747 - acc: 0.859 - ETA: 1:58 - loss: 0.3742 - acc: 0.859 - ETA: 1:56 - loss: 0.3725 - acc: 0.860 - ETA: 1:54 - loss: 0.3725 - acc: 0.860 - ETA: 1:52 - loss: 0.3725 - acc: 0.860 - ETA: 1:50 - loss: 0.3718 - acc: 0.861 - ETA: 1:47 - loss: 0.3706 - acc: 0.861 - ETA: 1:45 - loss: 0.3703 - acc: 0.861 - ETA: 1:43 - loss: 0.3684 - acc: 0.862 - ETA: 1:41 - loss: 0.3679 - acc: 0.862 - ETA: 1:38 - loss: 0.3680 - acc: 0.862 - ETA: 1:36 - loss: 0.3670 - acc: 0.862 - ETA: 1:34 - loss: 0.3656 - acc: 0.863 - ETA: 1:31 - loss: 0.3653 - acc: 0.863 - ETA: 1:29 - loss: 0.3654 - acc: 0.863 - ETA: 1:27 - loss: 0.3654 - acc: 0.863 - ETA: 1:25 - loss: 0.3658 - acc: 0.862 - ETA: 1:22 - loss: 0.3651 - acc: 0.862 - ETA: 1:20 - loss: 0.3629 - acc: 0.863 - ETA: 1:18 - loss: 0.3636 - acc: 0.863 - ETA: 1:16 - loss: 0.3634 - acc: 0.863 - ETA: 1:13 - loss: 0.3636 - acc: 0.863 - ETA: 1:11 - loss: 0.3623 - acc: 0.863 - ETA: 1:09 - loss: 0.3617 - acc: 0.863 - ETA: 1:06 - loss: 0.3619 - acc: 0.863 - ETA: 1:04 - loss: 0.3630 - acc: 0.863 - ETA: 1:02 - loss: 0.3637 - acc: 0.862 - ETA: 1:00 - loss: 0.3639 - acc: 0.862 - ETA: 57s - loss: 0.3627 - acc: 0.862 - ETA: 55s - loss: 0.3630 - acc: 0.86 - ETA: 53s - loss: 0.3628 - acc: 0.86 - ETA: 51s - loss: 0.3619 - acc: 0.86 - ETA: 48s - loss: 0.3607 - acc: 0.86 - ETA: 46s - loss: 0.3606 - acc: 0.86 - ETA: 44s - loss: 0.3605 - acc: 0.86 - ETA: 42s - loss: 0.3599 - acc: 0.86 - ETA: 39s - loss: 0.3588 - acc: 0.86 - ETA: 37s - loss: 0.3582 - acc: 0.86 - ETA: 35s - loss: 0.3591 - acc: 0.86 - ETA: 33s - loss: 0.3586 - acc: 0.86 - ETA: 30s - loss: 0.3573 - acc: 0.86 - ETA: 28s - loss: 0.3566 - acc: 0.86 - ETA: 26s - loss: 0.3572 - acc: 0.86 - ETA: 23s - loss: 0.3568 - acc: 0.86 - ETA: 21s - loss: 0.3571 - acc: 0.86 - ETA: 19s - loss: 0.3574 - acc: 0.86 - ETA: 17s - loss: 0.3580 - acc: 0.86 - ETA: 14s - loss: 0.3574 - acc: 0.86 - ETA: 12s - loss: 0.3562 - acc: 0.86 - ETA: 10s - loss: 0.3551 - acc: 0.86 - ETA: 8s - loss: 0.3561 - acc: 0.8659 - ETA: 5s - loss: 0.3566 - acc: 0.865 - ETA: 3s - loss: 0.3556 - acc: 0.866 - ETA: 1s - loss: 0.3546 - acc: 0.866 - 335s 36ms/step - loss: 0.3540 - acc: 0.8669 - val_loss: 0.3165 - val_acc: 0.8867\n",
      "Epoch 4/20\n",
      "9318/9318 [==============================] - ETA: 6:01 - loss: 0.2494 - acc: 0.906 - ETA: 5:53 - loss: 0.2356 - acc: 0.914 - ETA: 5:40 - loss: 0.2354 - acc: 0.906 - ETA: 5:39 - loss: 0.2253 - acc: 0.914 - ETA: 5:33 - loss: 0.2248 - acc: 0.918 - ETA: 5:26 - loss: 0.2100 - acc: 0.927 - ETA: 5:25 - loss: 0.2094 - acc: 0.928 - ETA: 5:18 - loss: 0.2110 - acc: 0.925 - ETA: 5:16 - loss: 0.2119 - acc: 0.925 - ETA: 5:09 - loss: 0.2205 - acc: 0.918 - ETA: 5:08 - loss: 0.2181 - acc: 0.919 - ETA: 5:06 - loss: 0.2132 - acc: 0.920 - ETA: 5:02 - loss: 0.2185 - acc: 0.921 - ETA: 4:59 - loss: 0.2227 - acc: 0.920 - ETA: 4:56 - loss: 0.2248 - acc: 0.920 - ETA: 4:51 - loss: 0.2208 - acc: 0.921 - ETA: 4:49 - loss: 0.2172 - acc: 0.923 - ETA: 4:45 - loss: 0.2175 - acc: 0.924 - ETA: 4:46 - loss: 0.2166 - acc: 0.926 - ETA: 4:44 - loss: 0.2166 - acc: 0.927 - ETA: 4:43 - loss: 0.2212 - acc: 0.924 - ETA: 4:41 - loss: 0.2220 - acc: 0.923 - ETA: 4:40 - loss: 0.2195 - acc: 0.925 - ETA: 4:37 - loss: 0.2188 - acc: 0.925 - ETA: 4:36 - loss: 0.2181 - acc: 0.925 - ETA: 4:35 - loss: 0.2168 - acc: 0.925 - ETA: 4:34 - loss: 0.2149 - acc: 0.926 - ETA: 4:32 - loss: 0.2188 - acc: 0.924 - ETA: 4:29 - loss: 0.2163 - acc: 0.925 - ETA: 4:27 - loss: 0.2158 - acc: 0.925 - ETA: 4:25 - loss: 0.2174 - acc: 0.923 - ETA: 4:23 - loss: 0.2223 - acc: 0.920 - ETA: 4:20 - loss: 0.2208 - acc: 0.921 - ETA: 4:18 - loss: 0.2219 - acc: 0.921 - ETA: 4:16 - loss: 0.2206 - acc: 0.921 - ETA: 4:13 - loss: 0.2195 - acc: 0.921 - ETA: 4:11 - loss: 0.2229 - acc: 0.920 - ETA: 4:08 - loss: 0.2234 - acc: 0.920 - ETA: 4:06 - loss: 0.2223 - acc: 0.921 - ETA: 4:03 - loss: 0.2225 - acc: 0.921 - ETA: 4:00 - loss: 0.2198 - acc: 0.923 - ETA: 3:58 - loss: 0.2211 - acc: 0.923 - ETA: 3:55 - loss: 0.2212 - acc: 0.922 - ETA: 3:53 - loss: 0.2224 - acc: 0.921 - ETA: 3:51 - loss: 0.2223 - acc: 0.922 - ETA: 3:49 - loss: 0.2231 - acc: 0.922 - ETA: 3:47 - loss: 0.2224 - acc: 0.923 - ETA: 3:45 - loss: 0.2220 - acc: 0.923 - ETA: 3:42 - loss: 0.2205 - acc: 0.923 - ETA: 3:39 - loss: 0.2194 - acc: 0.924 - ETA: 3:37 - loss: 0.2188 - acc: 0.924 - ETA: 3:35 - loss: 0.2193 - acc: 0.924 - ETA: 3:32 - loss: 0.2183 - acc: 0.924 - ETA: 3:30 - loss: 0.2173 - acc: 0.925 - ETA: 3:28 - loss: 0.2172 - acc: 0.925 - ETA: 3:26 - loss: 0.2165 - acc: 0.926 - ETA: 3:23 - loss: 0.2157 - acc: 0.927 - ETA: 3:21 - loss: 0.2146 - acc: 0.927 - ETA: 3:18 - loss: 0.2144 - acc: 0.928 - ETA: 3:16 - loss: 0.2146 - acc: 0.927 - ETA: 3:14 - loss: 0.2132 - acc: 0.928 - ETA: 3:11 - loss: 0.2126 - acc: 0.927 - ETA: 3:09 - loss: 0.2117 - acc: 0.927 - ETA: 3:07 - loss: 0.2142 - acc: 0.926 - ETA: 3:04 - loss: 0.2150 - acc: 0.926 - ETA: 3:02 - loss: 0.2145 - acc: 0.926 - ETA: 3:00 - loss: 0.2139 - acc: 0.927 - ETA: 2:58 - loss: 0.2127 - acc: 0.927 - ETA: 2:55 - loss: 0.2139 - acc: 0.926 - ETA: 2:53 - loss: 0.2128 - acc: 0.926 - ETA: 2:51 - loss: 0.2120 - acc: 0.926 - ETA: 2:49 - loss: 0.2145 - acc: 0.925 - ETA: 2:46 - loss: 0.2137 - acc: 0.925 - ETA: 2:44 - loss: 0.2134 - acc: 0.925 - ETA: 2:42 - loss: 0.2124 - acc: 0.926 - ETA: 2:39 - loss: 0.2116 - acc: 0.926 - ETA: 2:37 - loss: 0.2116 - acc: 0.927 - ETA: 2:35 - loss: 0.2114 - acc: 0.926 - ETA: 2:33 - loss: 0.2121 - acc: 0.926 - ETA: 2:31 - loss: 0.2127 - acc: 0.926 - ETA: 2:28 - loss: 0.2123 - acc: 0.926 - ETA: 2:26 - loss: 0.2119 - acc: 0.926 - ETA: 2:23 - loss: 0.2118 - acc: 0.926 - ETA: 2:21 - loss: 0.2124 - acc: 0.926 - ETA: 2:19 - loss: 0.2134 - acc: 0.925 - ETA: 2:17 - loss: 0.2121 - acc: 0.926 - ETA: 2:15 - loss: 0.2111 - acc: 0.926 - ETA: 2:12 - loss: 0.2126 - acc: 0.925 - ETA: 2:10 - loss: 0.2120 - acc: 0.925 - ETA: 2:08 - loss: 0.2115 - acc: 0.926 - ETA: 2:05 - loss: 0.2126 - acc: 0.925 - ETA: 2:03 - loss: 0.2119 - acc: 0.926 - ETA: 2:01 - loss: 0.2115 - acc: 0.926 - ETA: 1:58 - loss: 0.2114 - acc: 0.926 - ETA: 1:56 - loss: 0.2126 - acc: 0.926 - ETA: 1:53 - loss: 0.2116 - acc: 0.926 - ETA: 1:51 - loss: 0.2111 - acc: 0.927 - ETA: 1:49 - loss: 0.2114 - acc: 0.926 - ETA: 1:46 - loss: 0.2106 - acc: 0.927 - ETA: 1:44 - loss: 0.2097 - acc: 0.927 - ETA: 1:42 - loss: 0.2091 - acc: 0.927 - ETA: 1:39 - loss: 0.2090 - acc: 0.927 - ETA: 1:37 - loss: 0.2095 - acc: 0.927 - ETA: 1:35 - loss: 0.2090 - acc: 0.927 - ETA: 1:32 - loss: 0.2085 - acc: 0.927 - ETA: 1:30 - loss: 0.2079 - acc: 0.927 - ETA: 1:28 - loss: 0.2077 - acc: 0.927 - ETA: 1:25 - loss: 0.2081 - acc: 0.927 - ETA: 1:23 - loss: 0.2079 - acc: 0.927 - ETA: 1:21 - loss: 0.2079 - acc: 0.927 - ETA: 1:19 - loss: 0.2101 - acc: 0.927 - ETA: 1:16 - loss: 0.2094 - acc: 0.927 - ETA: 1:14 - loss: 0.2092 - acc: 0.926 - ETA: 1:12 - loss: 0.2083 - acc: 0.927 - ETA: 1:10 - loss: 0.2081 - acc: 0.927 - ETA: 1:07 - loss: 0.2071 - acc: 0.927 - ETA: 1:05 - loss: 0.2065 - acc: 0.927 - ETA: 1:03 - loss: 0.2062 - acc: 0.928 - ETA: 1:00 - loss: 0.2057 - acc: 0.928 - ETA: 58s - loss: 0.2058 - acc: 0.928 - ETA: 56s - loss: 0.2066 - acc: 0.92 - ETA: 54s - loss: 0.2062 - acc: 0.92 - ETA: 51s - loss: 0.2058 - acc: 0.92 - ETA: 49s - loss: 0.2062 - acc: 0.92 - ETA: 47s - loss: 0.2061 - acc: 0.92 - ETA: 44s - loss: 0.2055 - acc: 0.92 - ETA: 42s - loss: 0.2051 - acc: 0.92 - ETA: 40s - loss: 0.2050 - acc: 0.92 - ETA: 37s - loss: 0.2044 - acc: 0.92 - ETA: 35s - loss: 0.2038 - acc: 0.92 - ETA: 33s - loss: 0.2050 - acc: 0.92 - ETA: 31s - loss: 0.2048 - acc: 0.92 - ETA: 28s - loss: 0.2043 - acc: 0.92 - ETA: 26s - loss: 0.2043 - acc: 0.92 - ETA: 24s - loss: 0.2038 - acc: 0.92 - ETA: 21s - loss: 0.2030 - acc: 0.92 - ETA: 19s - loss: 0.2030 - acc: 0.92 - ETA: 17s - loss: 0.2028 - acc: 0.92 - ETA: 15s - loss: 0.2026 - acc: 0.92 - ETA: 12s - loss: 0.2028 - acc: 0.92 - ETA: 10s - loss: 0.2028 - acc: 0.92 - ETA: 8s - loss: 0.2020 - acc: 0.9287 - ETA: 5s - loss: 0.2030 - acc: 0.928 - ETA: 3s - loss: 0.2034 - acc: 0.928 - ETA: 1s - loss: 0.2034 - acc: 0.928 - 338s 36ms/step - loss: 0.2030 - acc: 0.9284 - val_loss: 0.1941 - val_acc: 0.9369\n",
      "Epoch 5/20\n"
     ]
    },
    {
     "name": "stdout",
     "output_type": "stream",
     "text": [
      "9318/9318 [==============================] - ETA: 6:00 - loss: 0.1246 - acc: 0.984 - ETA: 5:36 - loss: 0.1150 - acc: 0.976 - ETA: 5:37 - loss: 0.1183 - acc: 0.974 - ETA: 5:32 - loss: 0.1124 - acc: 0.976 - ETA: 5:27 - loss: 0.1171 - acc: 0.971 - ETA: 5:23 - loss: 0.1317 - acc: 0.963 - ETA: 5:21 - loss: 0.1278 - acc: 0.966 - ETA: 5:17 - loss: 0.1372 - acc: 0.957 - ETA: 5:13 - loss: 0.1376 - acc: 0.958 - ETA: 5:08 - loss: 0.1301 - acc: 0.962 - ETA: 5:07 - loss: 0.1245 - acc: 0.964 - ETA: 5:06 - loss: 0.1318 - acc: 0.960 - ETA: 5:03 - loss: 0.1328 - acc: 0.959 - ETA: 5:00 - loss: 0.1288 - acc: 0.962 - ETA: 4:56 - loss: 0.1334 - acc: 0.959 - ETA: 4:56 - loss: 0.1315 - acc: 0.959 - ETA: 4:52 - loss: 0.1334 - acc: 0.957 - ETA: 4:51 - loss: 0.1351 - acc: 0.956 - ETA: 4:48 - loss: 0.1311 - acc: 0.958 - ETA: 4:46 - loss: 0.1339 - acc: 0.957 - ETA: 4:45 - loss: 0.1342 - acc: 0.957 - ETA: 4:41 - loss: 0.1357 - acc: 0.956 - ETA: 4:39 - loss: 0.1396 - acc: 0.955 - ETA: 4:37 - loss: 0.1374 - acc: 0.956 - ETA: 4:34 - loss: 0.1384 - acc: 0.955 - ETA: 4:32 - loss: 0.1413 - acc: 0.954 - ETA: 4:29 - loss: 0.1412 - acc: 0.953 - ETA: 4:27 - loss: 0.1389 - acc: 0.954 - ETA: 4:25 - loss: 0.1419 - acc: 0.953 - ETA: 4:24 - loss: 0.1425 - acc: 0.951 - ETA: 4:21 - loss: 0.1454 - acc: 0.950 - ETA: 4:19 - loss: 0.1420 - acc: 0.952 - ETA: 4:17 - loss: 0.1426 - acc: 0.952 - ETA: 4:15 - loss: 0.1418 - acc: 0.952 - ETA: 4:13 - loss: 0.1401 - acc: 0.953 - ETA: 4:11 - loss: 0.1407 - acc: 0.952 - ETA: 4:08 - loss: 0.1386 - acc: 0.954 - ETA: 4:05 - loss: 0.1403 - acc: 0.952 - ETA: 4:02 - loss: 0.1416 - acc: 0.951 - ETA: 4:00 - loss: 0.1393 - acc: 0.953 - ETA: 3:57 - loss: 0.1390 - acc: 0.953 - ETA: 3:55 - loss: 0.1426 - acc: 0.952 - ETA: 3:53 - loss: 0.1421 - acc: 0.952 - ETA: 3:51 - loss: 0.1437 - acc: 0.951 - ETA: 3:49 - loss: 0.1431 - acc: 0.951 - ETA: 3:46 - loss: 0.1427 - acc: 0.951 - ETA: 3:44 - loss: 0.1431 - acc: 0.951 - ETA: 3:41 - loss: 0.1452 - acc: 0.950 - ETA: 3:38 - loss: 0.1439 - acc: 0.950 - ETA: 3:36 - loss: 0.1448 - acc: 0.950 - ETA: 3:34 - loss: 0.1445 - acc: 0.950 - ETA: 3:31 - loss: 0.1433 - acc: 0.950 - ETA: 3:29 - loss: 0.1415 - acc: 0.951 - ETA: 3:27 - loss: 0.1418 - acc: 0.951 - ETA: 3:24 - loss: 0.1422 - acc: 0.951 - ETA: 3:22 - loss: 0.1404 - acc: 0.952 - ETA: 3:19 - loss: 0.1412 - acc: 0.952 - ETA: 3:17 - loss: 0.1405 - acc: 0.952 - ETA: 3:15 - loss: 0.1409 - acc: 0.952 - ETA: 3:12 - loss: 0.1406 - acc: 0.952 - ETA: 3:10 - loss: 0.1400 - acc: 0.952 - ETA: 3:08 - loss: 0.1394 - acc: 0.953 - ETA: 3:06 - loss: 0.1390 - acc: 0.953 - ETA: 3:03 - loss: 0.1387 - acc: 0.953 - ETA: 3:02 - loss: 0.1392 - acc: 0.953 - ETA: 2:59 - loss: 0.1392 - acc: 0.953 - ETA: 2:57 - loss: 0.1391 - acc: 0.953 - ETA: 2:55 - loss: 0.1393 - acc: 0.953 - ETA: 2:52 - loss: 0.1394 - acc: 0.953 - ETA: 2:50 - loss: 0.1390 - acc: 0.953 - ETA: 2:48 - loss: 0.1392 - acc: 0.954 - ETA: 2:46 - loss: 0.1401 - acc: 0.953 - ETA: 2:44 - loss: 0.1392 - acc: 0.954 - ETA: 2:41 - loss: 0.1407 - acc: 0.954 - ETA: 2:39 - loss: 0.1402 - acc: 0.954 - ETA: 2:37 - loss: 0.1395 - acc: 0.955 - ETA: 2:35 - loss: 0.1400 - acc: 0.954 - ETA: 2:33 - loss: 0.1391 - acc: 0.954 - ETA: 2:31 - loss: 0.1386 - acc: 0.955 - ETA: 2:29 - loss: 0.1383 - acc: 0.954 - ETA: 2:26 - loss: 0.1383 - acc: 0.954 - ETA: 2:24 - loss: 0.1390 - acc: 0.954 - ETA: 2:22 - loss: 0.1384 - acc: 0.954 - ETA: 2:19 - loss: 0.1383 - acc: 0.954 - ETA: 2:17 - loss: 0.1373 - acc: 0.955 - ETA: 2:15 - loss: 0.1376 - acc: 0.954 - ETA: 2:12 - loss: 0.1368 - acc: 0.955 - ETA: 2:10 - loss: 0.1375 - acc: 0.955 - ETA: 2:08 - loss: 0.1380 - acc: 0.955 - ETA: 2:05 - loss: 0.1377 - acc: 0.955 - ETA: 2:03 - loss: 0.1380 - acc: 0.955 - ETA: 2:01 - loss: 0.1390 - acc: 0.954 - ETA: 1:59 - loss: 0.1385 - acc: 0.954 - ETA: 1:57 - loss: 0.1378 - acc: 0.955 - ETA: 1:54 - loss: 0.1382 - acc: 0.954 - ETA: 1:52 - loss: 0.1381 - acc: 0.954 - ETA: 1:50 - loss: 0.1382 - acc: 0.954 - ETA: 1:47 - loss: 0.1378 - acc: 0.954 - ETA: 1:45 - loss: 0.1373 - acc: 0.954 - ETA: 1:43 - loss: 0.1366 - acc: 0.954 - ETA: 1:41 - loss: 0.1361 - acc: 0.954 - ETA: 1:39 - loss: 0.1355 - acc: 0.955 - ETA: 1:37 - loss: 0.1355 - acc: 0.955 - ETA: 1:34 - loss: 0.1352 - acc: 0.955 - ETA: 1:32 - loss: 0.1344 - acc: 0.955 - ETA: 1:30 - loss: 0.1336 - acc: 0.955 - ETA: 1:27 - loss: 0.1331 - acc: 0.956 - ETA: 1:25 - loss: 0.1335 - acc: 0.955 - ETA: 1:23 - loss: 0.1348 - acc: 0.955 - ETA: 1:21 - loss: 0.1340 - acc: 0.955 - ETA: 1:18 - loss: 0.1341 - acc: 0.955 - ETA: 1:16 - loss: 0.1340 - acc: 0.955 - ETA: 1:14 - loss: 0.1337 - acc: 0.955 - ETA: 1:12 - loss: 0.1331 - acc: 0.956 - ETA: 1:09 - loss: 0.1333 - acc: 0.955 - ETA: 1:07 - loss: 0.1326 - acc: 0.956 - ETA: 1:05 - loss: 0.1321 - acc: 0.956 - ETA: 1:02 - loss: 0.1333 - acc: 0.956 - ETA: 1:00 - loss: 0.1335 - acc: 0.956 - ETA: 58s - loss: 0.1338 - acc: 0.956 - ETA: 55s - loss: 0.1335 - acc: 0.95 - ETA: 53s - loss: 0.1335 - acc: 0.95 - ETA: 51s - loss: 0.1333 - acc: 0.95 - ETA: 49s - loss: 0.1326 - acc: 0.95 - ETA: 46s - loss: 0.1326 - acc: 0.95 - ETA: 44s - loss: 0.1323 - acc: 0.95 - ETA: 42s - loss: 0.1327 - acc: 0.95 - ETA: 40s - loss: 0.1328 - acc: 0.95 - ETA: 37s - loss: 0.1327 - acc: 0.95 - ETA: 35s - loss: 0.1328 - acc: 0.95 - ETA: 33s - loss: 0.1320 - acc: 0.95 - ETA: 30s - loss: 0.1316 - acc: 0.95 - ETA: 28s - loss: 0.1310 - acc: 0.95 - ETA: 26s - loss: 0.1307 - acc: 0.95 - ETA: 24s - loss: 0.1312 - acc: 0.95 - ETA: 21s - loss: 0.1311 - acc: 0.95 - ETA: 19s - loss: 0.1311 - acc: 0.95 - ETA: 17s - loss: 0.1310 - acc: 0.95 - ETA: 14s - loss: 0.1311 - acc: 0.95 - ETA: 12s - loss: 0.1310 - acc: 0.95 - ETA: 10s - loss: 0.1309 - acc: 0.95 - ETA: 8s - loss: 0.1305 - acc: 0.9579 - ETA: 5s - loss: 0.1301 - acc: 0.958 - ETA: 3s - loss: 0.1298 - acc: 0.958 - ETA: 1s - loss: 0.1295 - acc: 0.958 - 336s 36ms/step - loss: 0.1295 - acc: 0.9583 - val_loss: 0.1762 - val_acc: 0.9451\n",
      "Epoch 6/20\n",
      "9318/9318 [==============================] - ETA: 5:21 - loss: 0.1003 - acc: 0.968 - ETA: 5:24 - loss: 0.0739 - acc: 0.984 - ETA: 5:28 - loss: 0.0841 - acc: 0.979 - ETA: 5:17 - loss: 0.0812 - acc: 0.980 - ETA: 5:25 - loss: 0.1172 - acc: 0.971 - ETA: 5:18 - loss: 0.1092 - acc: 0.971 - ETA: 5:19 - loss: 0.1028 - acc: 0.973 - ETA: 5:13 - loss: 0.1025 - acc: 0.972 - ETA: 5:10 - loss: 0.0986 - acc: 0.972 - ETA: 5:08 - loss: 0.0977 - acc: 0.971 - ETA: 5:06 - loss: 0.1064 - acc: 0.971 - ETA: 5:04 - loss: 0.1071 - acc: 0.970 - ETA: 5:01 - loss: 0.1050 - acc: 0.971 - ETA: 5:00 - loss: 0.1009 - acc: 0.972 - ETA: 4:57 - loss: 0.0959 - acc: 0.974 - ETA: 4:54 - loss: 0.0925 - acc: 0.974 - ETA: 4:52 - loss: 0.0901 - acc: 0.975 - ETA: 4:50 - loss: 0.0894 - acc: 0.974 - ETA: 4:48 - loss: 0.0885 - acc: 0.975 - ETA: 4:46 - loss: 0.0885 - acc: 0.975 - ETA: 4:42 - loss: 0.0896 - acc: 0.974 - ETA: 4:42 - loss: 0.0870 - acc: 0.975 - ETA: 4:40 - loss: 0.0846 - acc: 0.976 - ETA: 4:38 - loss: 0.0819 - acc: 0.977 - ETA: 4:36 - loss: 0.0800 - acc: 0.977 - ETA: 4:33 - loss: 0.0833 - acc: 0.976 - ETA: 4:30 - loss: 0.0811 - acc: 0.976 - ETA: 4:30 - loss: 0.0801 - acc: 0.977 - ETA: 4:28 - loss: 0.0827 - acc: 0.976 - ETA: 4:25 - loss: 0.0832 - acc: 0.976 - ETA: 4:22 - loss: 0.0839 - acc: 0.976 - ETA: 4:21 - loss: 0.0839 - acc: 0.976 - ETA: 4:18 - loss: 0.0849 - acc: 0.975 - ETA: 4:16 - loss: 0.0841 - acc: 0.975 - ETA: 4:13 - loss: 0.0839 - acc: 0.975 - ETA: 4:10 - loss: 0.0824 - acc: 0.976 - ETA: 4:08 - loss: 0.0833 - acc: 0.975 - ETA: 4:06 - loss: 0.0835 - acc: 0.974 - ETA: 4:04 - loss: 0.0827 - acc: 0.975 - ETA: 4:01 - loss: 0.0842 - acc: 0.975 - ETA: 3:58 - loss: 0.0877 - acc: 0.975 - ETA: 3:56 - loss: 0.0874 - acc: 0.974 - ETA: 3:54 - loss: 0.0873 - acc: 0.974 - ETA: 3:51 - loss: 0.0866 - acc: 0.974 - ETA: 3:49 - loss: 0.0861 - acc: 0.975 - ETA: 3:46 - loss: 0.0847 - acc: 0.975 - ETA: 3:44 - loss: 0.0844 - acc: 0.975 - ETA: 3:42 - loss: 0.0838 - acc: 0.975 - ETA: 3:39 - loss: 0.0824 - acc: 0.976 - ETA: 3:37 - loss: 0.0820 - acc: 0.976 - ETA: 3:35 - loss: 0.0812 - acc: 0.976 - ETA: 3:33 - loss: 0.0821 - acc: 0.976 - ETA: 3:31 - loss: 0.0818 - acc: 0.976 - ETA: 3:28 - loss: 0.0809 - acc: 0.977 - ETA: 3:26 - loss: 0.0805 - acc: 0.977 - ETA: 3:24 - loss: 0.0799 - acc: 0.977 - ETA: 3:22 - loss: 0.0802 - acc: 0.977 - ETA: 3:19 - loss: 0.0796 - acc: 0.977 - ETA: 3:17 - loss: 0.0794 - acc: 0.977 - ETA: 3:15 - loss: 0.0797 - acc: 0.977 - ETA: 3:13 - loss: 0.0791 - acc: 0.977 - ETA: 3:10 - loss: 0.0782 - acc: 0.977 - ETA: 3:08 - loss: 0.0779 - acc: 0.977 - ETA: 3:06 - loss: 0.0778 - acc: 0.978 - ETA: 3:04 - loss: 0.0779 - acc: 0.978 - ETA: 3:01 - loss: 0.0778 - acc: 0.978 - ETA: 2:59 - loss: 0.0784 - acc: 0.977 - ETA: 2:57 - loss: 0.0777 - acc: 0.977 - ETA: 2:55 - loss: 0.0772 - acc: 0.978 - ETA: 2:53 - loss: 0.0780 - acc: 0.977 - ETA: 2:50 - loss: 0.0780 - acc: 0.978 - ETA: 2:48 - loss: 0.0777 - acc: 0.977 - ETA: 2:46 - loss: 0.0778 - acc: 0.977 - ETA: 2:44 - loss: 0.0774 - acc: 0.977 - ETA: 2:41 - loss: 0.0769 - acc: 0.977 - ETA: 2:39 - loss: 0.0790 - acc: 0.977 - ETA: 2:37 - loss: 0.0785 - acc: 0.977 - ETA: 2:35 - loss: 0.0788 - acc: 0.977 - ETA: 2:33 - loss: 0.0787 - acc: 0.977 - ETA: 2:30 - loss: 0.0796 - acc: 0.977 - ETA: 2:28 - loss: 0.0806 - acc: 0.976 - ETA: 2:26 - loss: 0.0800 - acc: 0.976 - ETA: 2:24 - loss: 0.0808 - acc: 0.976 - ETA: 2:21 - loss: 0.0807 - acc: 0.976 - ETA: 2:19 - loss: 0.0808 - acc: 0.976 - ETA: 2:17 - loss: 0.0806 - acc: 0.976 - ETA: 2:15 - loss: 0.0813 - acc: 0.975 - ETA: 2:13 - loss: 0.0811 - acc: 0.975 - ETA: 2:10 - loss: 0.0819 - acc: 0.975 - ETA: 2:08 - loss: 0.0816 - acc: 0.975 - ETA: 2:06 - loss: 0.0814 - acc: 0.976 - ETA: 2:03 - loss: 0.0808 - acc: 0.976 - ETA: 2:01 - loss: 0.0816 - acc: 0.975 - ETA: 1:59 - loss: 0.0815 - acc: 0.975 - ETA: 1:56 - loss: 0.0817 - acc: 0.975 - ETA: 1:54 - loss: 0.0816 - acc: 0.975 - ETA: 1:52 - loss: 0.0815 - acc: 0.975 - ETA: 1:50 - loss: 0.0816 - acc: 0.975 - ETA: 1:47 - loss: 0.0813 - acc: 0.975 - ETA: 1:45 - loss: 0.0812 - acc: 0.975 - ETA: 1:43 - loss: 0.0812 - acc: 0.975 - ETA: 1:40 - loss: 0.0807 - acc: 0.975 - ETA: 1:38 - loss: 0.0802 - acc: 0.975 - ETA: 1:36 - loss: 0.0802 - acc: 0.976 - ETA: 1:34 - loss: 0.0802 - acc: 0.976 - ETA: 1:31 - loss: 0.0803 - acc: 0.976 - ETA: 1:29 - loss: 0.0801 - acc: 0.975 - ETA: 1:27 - loss: 0.0795 - acc: 0.976 - ETA: 1:24 - loss: 0.0801 - acc: 0.976 - ETA: 1:22 - loss: 0.0801 - acc: 0.976 - ETA: 1:20 - loss: 0.0813 - acc: 0.975 - ETA: 1:17 - loss: 0.0812 - acc: 0.975 - ETA: 1:15 - loss: 0.0808 - acc: 0.975 - ETA: 1:13 - loss: 0.0807 - acc: 0.976 - ETA: 1:11 - loss: 0.0819 - acc: 0.976 - ETA: 1:08 - loss: 0.0814 - acc: 0.976 - ETA: 1:06 - loss: 0.0817 - acc: 0.975 - ETA: 1:04 - loss: 0.0817 - acc: 0.975 - ETA: 1:01 - loss: 0.0817 - acc: 0.975 - ETA: 59s - loss: 0.0814 - acc: 0.975 - ETA: 57s - loss: 0.0815 - acc: 0.97 - ETA: 54s - loss: 0.0815 - acc: 0.97 - ETA: 52s - loss: 0.0811 - acc: 0.97 - ETA: 50s - loss: 0.0812 - acc: 0.97 - ETA: 47s - loss: 0.0814 - acc: 0.97 - ETA: 45s - loss: 0.0813 - acc: 0.97 - ETA: 43s - loss: 0.0809 - acc: 0.97 - ETA: 40s - loss: 0.0807 - acc: 0.97 - ETA: 38s - loss: 0.0812 - acc: 0.97 - ETA: 36s - loss: 0.0810 - acc: 0.97 - ETA: 33s - loss: 0.0809 - acc: 0.97 - ETA: 31s - loss: 0.0805 - acc: 0.97 - ETA: 29s - loss: 0.0812 - acc: 0.97 - ETA: 26s - loss: 0.0816 - acc: 0.97 - ETA: 24s - loss: 0.0815 - acc: 0.97 - ETA: 22s - loss: 0.0814 - acc: 0.97 - ETA: 19s - loss: 0.0815 - acc: 0.97 - ETA: 17s - loss: 0.0816 - acc: 0.97 - ETA: 15s - loss: 0.0814 - acc: 0.97 - ETA: 12s - loss: 0.0817 - acc: 0.97 - ETA: 10s - loss: 0.0816 - acc: 0.97 - ETA: 8s - loss: 0.0818 - acc: 0.9745 - ETA: 6s - loss: 0.0821 - acc: 0.974 - ETA: 3s - loss: 0.0821 - acc: 0.974 - ETA: 1s - loss: 0.0818 - acc: 0.974 - 343s 37ms/step - loss: 0.0817 - acc: 0.9746 - val_loss: 0.1404 - val_acc: 0.9558\n",
      "Epoch 7/20\n"
     ]
    },
    {
     "name": "stdout",
     "output_type": "stream",
     "text": [
      "9318/9318 [==============================] - ETA: 5:43 - loss: 0.0814 - acc: 0.984 - ETA: 5:51 - loss: 0.1139 - acc: 0.960 - ETA: 5:39 - loss: 0.0924 - acc: 0.974 - ETA: 5:51 - loss: 0.0803 - acc: 0.976 - ETA: 5:48 - loss: 0.0846 - acc: 0.975 - ETA: 5:48 - loss: 0.0765 - acc: 0.979 - ETA: 5:46 - loss: 0.0857 - acc: 0.977 - ETA: 5:43 - loss: 0.0778 - acc: 0.980 - ETA: 5:39 - loss: 0.0796 - acc: 0.975 - ETA: 5:38 - loss: 0.0873 - acc: 0.975 - ETA: 5:36 - loss: 0.0818 - acc: 0.977 - ETA: 5:29 - loss: 0.0839 - acc: 0.976 - ETA: 5:23 - loss: 0.0794 - acc: 0.978 - ETA: 5:20 - loss: 0.0757 - acc: 0.979 - ETA: 5:14 - loss: 0.0746 - acc: 0.980 - ETA: 5:11 - loss: 0.0754 - acc: 0.979 - ETA: 5:08 - loss: 0.0798 - acc: 0.976 - ETA: 5:04 - loss: 0.0821 - acc: 0.976 - ETA: 5:01 - loss: 0.0793 - acc: 0.977 - ETA: 4:57 - loss: 0.0798 - acc: 0.978 - ETA: 4:53 - loss: 0.0796 - acc: 0.977 - ETA: 4:50 - loss: 0.0792 - acc: 0.978 - ETA: 4:48 - loss: 0.0797 - acc: 0.977 - ETA: 4:46 - loss: 0.0860 - acc: 0.974 - ETA: 4:45 - loss: 0.0854 - acc: 0.975 - ETA: 4:43 - loss: 0.0831 - acc: 0.976 - ETA: 4:40 - loss: 0.0821 - acc: 0.976 - ETA: 4:38 - loss: 0.0854 - acc: 0.974 - ETA: 4:35 - loss: 0.0850 - acc: 0.974 - ETA: 4:32 - loss: 0.0869 - acc: 0.972 - ETA: 4:30 - loss: 0.0875 - acc: 0.972 - ETA: 4:27 - loss: 0.0899 - acc: 0.972 - ETA: 4:25 - loss: 0.0954 - acc: 0.970 - ETA: 4:22 - loss: 0.0975 - acc: 0.969 - ETA: 4:21 - loss: 0.0980 - acc: 0.969 - ETA: 4:20 - loss: 0.0990 - acc: 0.969 - ETA: 4:16 - loss: 0.1014 - acc: 0.967 - ETA: 4:14 - loss: 0.1018 - acc: 0.966 - ETA: 4:13 - loss: 0.1041 - acc: 0.966 - ETA: 4:12 - loss: 0.1045 - acc: 0.966 - ETA: 4:10 - loss: 0.1051 - acc: 0.965 - ETA: 4:08 - loss: 0.1075 - acc: 0.963 - ETA: 4:05 - loss: 0.1108 - acc: 0.962 - ETA: 4:03 - loss: 0.1092 - acc: 0.962 - ETA: 4:00 - loss: 0.1077 - acc: 0.963 - ETA: 3:58 - loss: 0.1060 - acc: 0.964 - ETA: 3:55 - loss: 0.1070 - acc: 0.963 - ETA: 3:53 - loss: 0.1091 - acc: 0.962 - ETA: 3:50 - loss: 0.1095 - acc: 0.962 - ETA: 3:48 - loss: 0.1118 - acc: 0.960 - ETA: 3:45 - loss: 0.1106 - acc: 0.961 - ETA: 3:42 - loss: 0.1096 - acc: 0.962 - ETA: 3:40 - loss: 0.1104 - acc: 0.961 - ETA: 3:37 - loss: 0.1091 - acc: 0.962 - ETA: 3:35 - loss: 0.1086 - acc: 0.961 - ETA: 3:31 - loss: 0.1077 - acc: 0.962 - ETA: 3:30 - loss: 0.1073 - acc: 0.962 - ETA: 3:28 - loss: 0.1062 - acc: 0.962 - ETA: 3:26 - loss: 0.1067 - acc: 0.962 - ETA: 3:24 - loss: 0.1053 - acc: 0.963 - ETA: 3:21 - loss: 0.1046 - acc: 0.963 - ETA: 3:19 - loss: 0.1039 - acc: 0.964 - ETA: 3:17 - loss: 0.1033 - acc: 0.964 - ETA: 3:14 - loss: 0.1026 - acc: 0.964 - ETA: 3:12 - loss: 0.1018 - acc: 0.964 - ETA: 3:09 - loss: 0.1007 - acc: 0.965 - ETA: 3:07 - loss: 0.1007 - acc: 0.965 - ETA: 3:04 - loss: 0.0999 - acc: 0.965 - ETA: 3:02 - loss: 0.0994 - acc: 0.965 - ETA: 2:59 - loss: 0.0988 - acc: 0.965 - ETA: 2:57 - loss: 0.0981 - acc: 0.966 - ETA: 2:54 - loss: 0.0971 - acc: 0.966 - ETA: 2:52 - loss: 0.0964 - acc: 0.967 - ETA: 2:49 - loss: 0.0956 - acc: 0.967 - ETA: 2:47 - loss: 0.0949 - acc: 0.967 - ETA: 2:44 - loss: 0.0940 - acc: 0.967 - ETA: 2:42 - loss: 0.0944 - acc: 0.967 - ETA: 2:40 - loss: 0.0933 - acc: 0.968 - ETA: 2:37 - loss: 0.0937 - acc: 0.968 - ETA: 2:35 - loss: 0.0936 - acc: 0.968 - ETA: 2:32 - loss: 0.0925 - acc: 0.968 - ETA: 2:30 - loss: 0.0920 - acc: 0.968 - ETA: 2:28 - loss: 0.0916 - acc: 0.969 - ETA: 2:25 - loss: 0.0907 - acc: 0.969 - ETA: 2:23 - loss: 0.0900 - acc: 0.969 - ETA: 2:21 - loss: 0.0892 - acc: 0.970 - ETA: 2:19 - loss: 0.0886 - acc: 0.970 - ETA: 2:16 - loss: 0.0882 - acc: 0.970 - ETA: 2:14 - loss: 0.0873 - acc: 0.970 - ETA: 2:11 - loss: 0.0867 - acc: 0.971 - ETA: 2:09 - loss: 0.0876 - acc: 0.971 - ETA: 2:07 - loss: 0.0877 - acc: 0.971 - ETA: 2:04 - loss: 0.0878 - acc: 0.971 - ETA: 2:02 - loss: 0.0877 - acc: 0.971 - ETA: 1:59 - loss: 0.0872 - acc: 0.971 - ETA: 1:57 - loss: 0.0874 - acc: 0.971 - ETA: 1:54 - loss: 0.0868 - acc: 0.971 - ETA: 1:52 - loss: 0.0864 - acc: 0.972 - ETA: 1:49 - loss: 0.0859 - acc: 0.972 - ETA: 1:47 - loss: 0.0855 - acc: 0.972 - ETA: 1:45 - loss: 0.0849 - acc: 0.972 - ETA: 1:42 - loss: 0.0864 - acc: 0.972 - ETA: 1:40 - loss: 0.0860 - acc: 0.972 - ETA: 1:37 - loss: 0.0862 - acc: 0.972 - ETA: 1:35 - loss: 0.0858 - acc: 0.972 - ETA: 1:32 - loss: 0.0851 - acc: 0.972 - ETA: 1:30 - loss: 0.0847 - acc: 0.973 - ETA: 1:28 - loss: 0.0841 - acc: 0.973 - ETA: 1:25 - loss: 0.0837 - acc: 0.973 - ETA: 1:23 - loss: 0.0834 - acc: 0.973 - ETA: 1:21 - loss: 0.0830 - acc: 0.973 - ETA: 1:18 - loss: 0.0828 - acc: 0.973 - ETA: 1:16 - loss: 0.0829 - acc: 0.973 - ETA: 1:13 - loss: 0.0826 - acc: 0.973 - ETA: 1:11 - loss: 0.0823 - acc: 0.973 - ETA: 1:09 - loss: 0.0818 - acc: 0.974 - ETA: 1:06 - loss: 0.0813 - acc: 0.974 - ETA: 1:04 - loss: 0.0816 - acc: 0.974 - ETA: 1:02 - loss: 0.0811 - acc: 0.974 - ETA: 59s - loss: 0.0805 - acc: 0.974 - ETA: 57s - loss: 0.0801 - acc: 0.97 - ETA: 55s - loss: 0.0797 - acc: 0.97 - ETA: 52s - loss: 0.0791 - acc: 0.97 - ETA: 50s - loss: 0.0786 - acc: 0.97 - ETA: 48s - loss: 0.0786 - acc: 0.97 - ETA: 45s - loss: 0.0782 - acc: 0.97 - ETA: 43s - loss: 0.0779 - acc: 0.97 - ETA: 41s - loss: 0.0776 - acc: 0.97 - ETA: 38s - loss: 0.0773 - acc: 0.97 - ETA: 36s - loss: 0.0780 - acc: 0.97 - ETA: 34s - loss: 0.0777 - acc: 0.97 - ETA: 31s - loss: 0.0772 - acc: 0.97 - ETA: 29s - loss: 0.0778 - acc: 0.97 - ETA: 27s - loss: 0.0776 - acc: 0.97 - ETA: 24s - loss: 0.0774 - acc: 0.97 - ETA: 22s - loss: 0.0774 - acc: 0.97 - ETA: 20s - loss: 0.0773 - acc: 0.97 - ETA: 17s - loss: 0.0773 - acc: 0.97 - ETA: 15s - loss: 0.0771 - acc: 0.97 - ETA: 13s - loss: 0.0769 - acc: 0.97 - ETA: 10s - loss: 0.0768 - acc: 0.97 - ETA: 8s - loss: 0.0772 - acc: 0.9754 - ETA: 6s - loss: 0.0768 - acc: 0.975 - ETA: 3s - loss: 0.0768 - acc: 0.975 - ETA: 1s - loss: 0.0767 - acc: 0.975 - 345s 37ms/step - loss: 0.0769 - acc: 0.9754 - val_loss: 0.0956 - val_acc: 0.9751\n",
      "Epoch 8/20\n",
      "9318/9318 [==============================] - ETA: 4:43 - loss: 0.0755 - acc: 0.968 - ETA: 5:01 - loss: 0.0464 - acc: 0.984 - ETA: 5:01 - loss: 0.0413 - acc: 0.984 - ETA: 5:10 - loss: 0.0452 - acc: 0.984 - ETA: 5:09 - loss: 0.0495 - acc: 0.981 - ETA: 5:09 - loss: 0.0565 - acc: 0.979 - ETA: 5:23 - loss: 0.0549 - acc: 0.979 - ETA: 5:27 - loss: 0.0530 - acc: 0.980 - ETA: 5:27 - loss: 0.0659 - acc: 0.974 - ETA: 5:23 - loss: 0.0651 - acc: 0.973 - ETA: 5:19 - loss: 0.0642 - acc: 0.973 - ETA: 5:19 - loss: 0.0631 - acc: 0.974 - ETA: 5:15 - loss: 0.0672 - acc: 0.974 - ETA: 5:10 - loss: 0.0662 - acc: 0.975 - ETA: 5:08 - loss: 0.0633 - acc: 0.977 - ETA: 5:03 - loss: 0.0641 - acc: 0.977 - ETA: 4:59 - loss: 0.0620 - acc: 0.978 - ETA: 4:56 - loss: 0.0608 - acc: 0.979 - ETA: 4:55 - loss: 0.0583 - acc: 0.980 - ETA: 4:54 - loss: 0.0589 - acc: 0.980 - ETA: 4:52 - loss: 0.0577 - acc: 0.981 - ETA: 4:49 - loss: 0.0565 - acc: 0.982 - ETA: 4:47 - loss: 0.0558 - acc: 0.982 - ETA: 4:43 - loss: 0.0548 - acc: 0.982 - ETA: 4:41 - loss: 0.0540 - acc: 0.982 - ETA: 4:38 - loss: 0.0536 - acc: 0.982 - ETA: 4:36 - loss: 0.0526 - acc: 0.983 - ETA: 4:34 - loss: 0.0522 - acc: 0.983 - ETA: 4:32 - loss: 0.0506 - acc: 0.983 - ETA: 4:29 - loss: 0.0509 - acc: 0.983 - ETA: 4:26 - loss: 0.0502 - acc: 0.984 - ETA: 4:24 - loss: 0.0496 - acc: 0.984 - ETA: 4:22 - loss: 0.0504 - acc: 0.984 - ETA: 4:20 - loss: 0.0495 - acc: 0.984 - ETA: 4:17 - loss: 0.0494 - acc: 0.984 - ETA: 4:14 - loss: 0.0498 - acc: 0.983 - ETA: 4:11 - loss: 0.0494 - acc: 0.984 - ETA: 4:09 - loss: 0.0486 - acc: 0.984 - ETA: 4:07 - loss: 0.0487 - acc: 0.984 - ETA: 4:04 - loss: 0.0483 - acc: 0.984 - ETA: 4:02 - loss: 0.0483 - acc: 0.984 - ETA: 4:00 - loss: 0.0476 - acc: 0.984 - ETA: 3:57 - loss: 0.0474 - acc: 0.984 - ETA: 3:55 - loss: 0.0475 - acc: 0.984 - ETA: 3:53 - loss: 0.0471 - acc: 0.984 - ETA: 3:51 - loss: 0.0466 - acc: 0.985 - ETA: 3:48 - loss: 0.0470 - acc: 0.984 - ETA: 3:45 - loss: 0.0463 - acc: 0.985 - ETA: 3:42 - loss: 0.0457 - acc: 0.985 - ETA: 3:40 - loss: 0.0451 - acc: 0.985 - ETA: 3:38 - loss: 0.0446 - acc: 0.985 - ETA: 3:36 - loss: 0.0452 - acc: 0.985 - ETA: 3:33 - loss: 0.0448 - acc: 0.986 - ETA: 3:31 - loss: 0.0461 - acc: 0.985 - ETA: 3:28 - loss: 0.0458 - acc: 0.985 - ETA: 3:26 - loss: 0.0458 - acc: 0.985 - ETA: 3:24 - loss: 0.0462 - acc: 0.984 - ETA: 3:22 - loss: 0.0457 - acc: 0.985 - ETA: 3:20 - loss: 0.0455 - acc: 0.985 - ETA: 3:17 - loss: 0.0456 - acc: 0.985 - ETA: 3:15 - loss: 0.0453 - acc: 0.985 - ETA: 3:13 - loss: 0.0452 - acc: 0.985 - ETA: 3:10 - loss: 0.0453 - acc: 0.985 - ETA: 3:08 - loss: 0.0459 - acc: 0.985 - ETA: 3:05 - loss: 0.0459 - acc: 0.985 - ETA: 3:03 - loss: 0.0455 - acc: 0.985 - ETA: 3:01 - loss: 0.0463 - acc: 0.985 - ETA: 2:58 - loss: 0.0465 - acc: 0.985 - ETA: 2:56 - loss: 0.0463 - acc: 0.985 - ETA: 2:54 - loss: 0.0461 - acc: 0.985 - ETA: 2:51 - loss: 0.0457 - acc: 0.985 - ETA: 2:49 - loss: 0.0452 - acc: 0.985 - ETA: 2:47 - loss: 0.0455 - acc: 0.985 - ETA: 2:45 - loss: 0.0456 - acc: 0.985 - ETA: 2:42 - loss: 0.0455 - acc: 0.985 - ETA: 2:40 - loss: 0.0452 - acc: 0.985 - ETA: 2:37 - loss: 0.0450 - acc: 0.985 - ETA: 2:35 - loss: 0.0445 - acc: 0.986 - ETA: 2:33 - loss: 0.0442 - acc: 0.986 - ETA: 2:31 - loss: 0.0445 - acc: 0.985 - ETA: 2:28 - loss: 0.0442 - acc: 0.986 - ETA: 2:26 - loss: 0.0438 - acc: 0.986 - ETA: 2:24 - loss: 0.0440 - acc: 0.986 - ETA: 2:21 - loss: 0.0438 - acc: 0.986 - ETA: 2:19 - loss: 0.0442 - acc: 0.986 - ETA: 2:16 - loss: 0.0442 - acc: 0.986 - ETA: 2:14 - loss: 0.0439 - acc: 0.986 - ETA: 2:12 - loss: 0.0436 - acc: 0.986 - ETA: 2:10 - loss: 0.0433 - acc: 0.986 - ETA: 2:07 - loss: 0.0434 - acc: 0.986 - ETA: 2:05 - loss: 0.0432 - acc: 0.986 - ETA: 2:03 - loss: 0.0429 - acc: 0.986 - ETA: 2:00 - loss: 0.0427 - acc: 0.986 - ETA: 1:58 - loss: 0.0424 - acc: 0.986 - ETA: 1:56 - loss: 0.0425 - acc: 0.986 - ETA: 1:54 - loss: 0.0421 - acc: 0.986 - ETA: 1:52 - loss: 0.0420 - acc: 0.986 - ETA: 1:49 - loss: 0.0419 - acc: 0.986 - ETA: 1:47 - loss: 0.0421 - acc: 0.986 - ETA: 1:45 - loss: 0.0421 - acc: 0.986 - ETA: 1:42 - loss: 0.0418 - acc: 0.986 - ETA: 1:40 - loss: 0.0418 - acc: 0.986 - ETA: 1:38 - loss: 0.0415 - acc: 0.986 - ETA: 1:36 - loss: 0.0412 - acc: 0.986 - ETA: 1:33 - loss: 0.0409 - acc: 0.987 - ETA: 1:31 - loss: 0.0409 - acc: 0.987 - ETA: 1:29 - loss: 0.0406 - acc: 0.987 - ETA: 1:27 - loss: 0.0404 - acc: 0.987 - ETA: 1:25 - loss: 0.0409 - acc: 0.987 - ETA: 1:23 - loss: 0.0411 - acc: 0.987 - ETA: 1:20 - loss: 0.0412 - acc: 0.987 - ETA: 1:18 - loss: 0.0411 - acc: 0.987 - ETA: 1:16 - loss: 0.0418 - acc: 0.987 - ETA: 1:14 - loss: 0.0418 - acc: 0.986 - ETA: 1:11 - loss: 0.0420 - acc: 0.986 - ETA: 1:09 - loss: 0.0421 - acc: 0.986 - ETA: 1:07 - loss: 0.0428 - acc: 0.986 - ETA: 1:04 - loss: 0.0426 - acc: 0.986 - ETA: 1:02 - loss: 0.0427 - acc: 0.986 - ETA: 1:00 - loss: 0.0428 - acc: 0.986 - ETA: 57s - loss: 0.0432 - acc: 0.986 - ETA: 55s - loss: 0.0436 - acc: 0.98 - ETA: 53s - loss: 0.0433 - acc: 0.98 - ETA: 50s - loss: 0.0432 - acc: 0.98 - ETA: 48s - loss: 0.0431 - acc: 0.98 - ETA: 46s - loss: 0.0432 - acc: 0.98 - ETA: 43s - loss: 0.0433 - acc: 0.98 - ETA: 41s - loss: 0.0441 - acc: 0.98 - ETA: 39s - loss: 0.0440 - acc: 0.98 - ETA: 36s - loss: 0.0444 - acc: 0.98 - ETA: 34s - loss: 0.0445 - acc: 0.98 - ETA: 32s - loss: 0.0450 - acc: 0.98 - ETA: 29s - loss: 0.0450 - acc: 0.98 - ETA: 27s - loss: 0.0448 - acc: 0.98 - ETA: 24s - loss: 0.0450 - acc: 0.98 - ETA: 22s - loss: 0.0449 - acc: 0.98 - ETA: 20s - loss: 0.0447 - acc: 0.98 - ETA: 17s - loss: 0.0447 - acc: 0.98 - ETA: 15s - loss: 0.0445 - acc: 0.98 - ETA: 13s - loss: 0.0443 - acc: 0.98 - ETA: 10s - loss: 0.0441 - acc: 0.98 - ETA: 8s - loss: 0.0441 - acc: 0.9856 - ETA: 6s - loss: 0.0438 - acc: 0.985 - ETA: 3s - loss: 0.0436 - acc: 0.985 - ETA: 1s - loss: 0.0437 - acc: 0.985 - 350s 38ms/step - loss: 0.0438 - acc: 0.9856 - val_loss: 0.0850 - val_acc: 0.9760\n",
      "Epoch 9/20\n"
     ]
    },
    {
     "name": "stdout",
     "output_type": "stream",
     "text": [
      "9318/9318 [==============================] - ETA: 6:08 - loss: 0.0147 - acc: 1.000 - ETA: 6:08 - loss: 0.0215 - acc: 1.000 - ETA: 5:54 - loss: 0.0320 - acc: 0.994 - ETA: 5:50 - loss: 0.0291 - acc: 0.996 - ETA: 5:41 - loss: 0.0276 - acc: 0.996 - ETA: 5:35 - loss: 0.0267 - acc: 0.997 - ETA: 5:32 - loss: 0.0250 - acc: 0.997 - ETA: 5:26 - loss: 0.0229 - acc: 0.998 - ETA: 5:24 - loss: 0.0225 - acc: 0.998 - ETA: 5:20 - loss: 0.0254 - acc: 0.998 - ETA: 5:19 - loss: 0.0255 - acc: 0.998 - ETA: 5:16 - loss: 0.0301 - acc: 0.996 - ETA: 5:13 - loss: 0.0285 - acc: 0.996 - ETA: 5:12 - loss: 0.0332 - acc: 0.994 - ETA: 5:06 - loss: 0.0358 - acc: 0.993 - ETA: 5:04 - loss: 0.0360 - acc: 0.992 - ETA: 5:00 - loss: 0.0374 - acc: 0.991 - ETA: 4:58 - loss: 0.0367 - acc: 0.992 - ETA: 4:55 - loss: 0.0352 - acc: 0.992 - ETA: 4:51 - loss: 0.0344 - acc: 0.993 - ETA: 4:48 - loss: 0.0335 - acc: 0.993 - ETA: 4:46 - loss: 0.0370 - acc: 0.992 - ETA: 4:44 - loss: 0.0358 - acc: 0.992 - ETA: 4:43 - loss: 0.0354 - acc: 0.992 - ETA: 4:41 - loss: 0.0366 - acc: 0.991 - ETA: 4:38 - loss: 0.0361 - acc: 0.992 - ETA: 4:35 - loss: 0.0352 - acc: 0.992 - ETA: 4:33 - loss: 0.0378 - acc: 0.992 - ETA: 4:31 - loss: 0.0374 - acc: 0.991 - ETA: 4:28 - loss: 0.0371 - acc: 0.991 - ETA: 4:26 - loss: 0.0365 - acc: 0.991 - ETA: 4:23 - loss: 0.0361 - acc: 0.992 - ETA: 4:20 - loss: 0.0353 - acc: 0.992 - ETA: 4:18 - loss: 0.0355 - acc: 0.992 - ETA: 4:16 - loss: 0.0352 - acc: 0.992 - ETA: 4:13 - loss: 0.0345 - acc: 0.992 - ETA: 4:11 - loss: 0.0356 - acc: 0.991 - ETA: 4:08 - loss: 0.0360 - acc: 0.991 - ETA: 4:06 - loss: 0.0355 - acc: 0.991 - ETA: 4:03 - loss: 0.0372 - acc: 0.991 - ETA: 4:01 - loss: 0.0372 - acc: 0.991 - ETA: 3:59 - loss: 0.0382 - acc: 0.990 - ETA: 3:57 - loss: 0.0377 - acc: 0.990 - ETA: 3:54 - loss: 0.0376 - acc: 0.990 - ETA: 3:52 - loss: 0.0377 - acc: 0.990 - ETA: 3:50 - loss: 0.0373 - acc: 0.990 - ETA: 3:48 - loss: 0.0368 - acc: 0.991 - ETA: 3:45 - loss: 0.0365 - acc: 0.990 - ETA: 3:43 - loss: 0.0359 - acc: 0.991 - ETA: 3:40 - loss: 0.0355 - acc: 0.991 - ETA: 3:38 - loss: 0.0352 - acc: 0.991 - ETA: 3:36 - loss: 0.0351 - acc: 0.991 - ETA: 3:34 - loss: 0.0345 - acc: 0.991 - ETA: 3:32 - loss: 0.0343 - acc: 0.991 - ETA: 3:30 - loss: 0.0341 - acc: 0.991 - ETA: 3:27 - loss: 0.0337 - acc: 0.991 - ETA: 3:25 - loss: 0.0341 - acc: 0.991 - ETA: 3:23 - loss: 0.0338 - acc: 0.991 - ETA: 3:21 - loss: 0.0338 - acc: 0.991 - ETA: 3:19 - loss: 0.0338 - acc: 0.990 - ETA: 3:16 - loss: 0.0346 - acc: 0.990 - ETA: 3:14 - loss: 0.0343 - acc: 0.990 - ETA: 3:12 - loss: 0.0338 - acc: 0.990 - ETA: 3:10 - loss: 0.0337 - acc: 0.990 - ETA: 3:08 - loss: 0.0336 - acc: 0.990 - ETA: 3:06 - loss: 0.0340 - acc: 0.990 - ETA: 3:03 - loss: 0.0336 - acc: 0.990 - ETA: 3:01 - loss: 0.0333 - acc: 0.990 - ETA: 2:59 - loss: 0.0330 - acc: 0.990 - ETA: 2:56 - loss: 0.0331 - acc: 0.991 - ETA: 2:54 - loss: 0.0329 - acc: 0.991 - ETA: 2:52 - loss: 0.0330 - acc: 0.991 - ETA: 2:49 - loss: 0.0329 - acc: 0.991 - ETA: 2:47 - loss: 0.0329 - acc: 0.990 - ETA: 2:45 - loss: 0.0325 - acc: 0.991 - ETA: 2:43 - loss: 0.0326 - acc: 0.991 - ETA: 2:40 - loss: 0.0330 - acc: 0.990 - ETA: 2:38 - loss: 0.0331 - acc: 0.990 - ETA: 2:36 - loss: 0.0328 - acc: 0.990 - ETA: 2:34 - loss: 0.0328 - acc: 0.990 - ETA: 2:31 - loss: 0.0327 - acc: 0.990 - ETA: 2:29 - loss: 0.0329 - acc: 0.990 - ETA: 2:26 - loss: 0.0333 - acc: 0.990 - ETA: 2:24 - loss: 0.0335 - acc: 0.990 - ETA: 2:22 - loss: 0.0331 - acc: 0.990 - ETA: 2:19 - loss: 0.0328 - acc: 0.990 - ETA: 2:17 - loss: 0.0329 - acc: 0.990 - ETA: 2:14 - loss: 0.0336 - acc: 0.990 - ETA: 2:12 - loss: 0.0340 - acc: 0.989 - ETA: 2:09 - loss: 0.0340 - acc: 0.989 - ETA: 2:07 - loss: 0.0340 - acc: 0.989 - ETA: 2:05 - loss: 0.0337 - acc: 0.989 - ETA: 2:02 - loss: 0.0337 - acc: 0.989 - ETA: 2:00 - loss: 0.0345 - acc: 0.989 - ETA: 1:57 - loss: 0.0343 - acc: 0.989 - ETA: 1:55 - loss: 0.0341 - acc: 0.989 - ETA: 1:53 - loss: 0.0342 - acc: 0.989 - ETA: 1:50 - loss: 0.0350 - acc: 0.989 - ETA: 1:48 - loss: 0.0352 - acc: 0.989 - ETA: 1:46 - loss: 0.0353 - acc: 0.989 - ETA: 1:43 - loss: 0.0365 - acc: 0.989 - ETA: 1:41 - loss: 0.0376 - acc: 0.988 - ETA: 1:39 - loss: 0.0378 - acc: 0.988 - ETA: 1:36 - loss: 0.0380 - acc: 0.988 - ETA: 1:34 - loss: 0.0384 - acc: 0.988 - ETA: 1:32 - loss: 0.0422 - acc: 0.987 - ETA: 1:29 - loss: 0.0420 - acc: 0.987 - ETA: 1:27 - loss: 0.0417 - acc: 0.987 - ETA: 1:25 - loss: 0.0434 - acc: 0.986 - ETA: 1:22 - loss: 0.0434 - acc: 0.986 - ETA: 1:20 - loss: 0.0431 - acc: 0.986 - ETA: 1:18 - loss: 0.0434 - acc: 0.986 - ETA: 1:15 - loss: 0.0431 - acc: 0.986 - ETA: 1:13 - loss: 0.0438 - acc: 0.986 - ETA: 1:10 - loss: 0.0442 - acc: 0.986 - ETA: 1:08 - loss: 0.0444 - acc: 0.986 - ETA: 1:06 - loss: 0.0442 - acc: 0.986 - ETA: 1:04 - loss: 0.0443 - acc: 0.986 - ETA: 1:01 - loss: 0.0442 - acc: 0.986 - ETA: 59s - loss: 0.0460 - acc: 0.985 - ETA: 57s - loss: 0.0467 - acc: 0.98 - ETA: 54s - loss: 0.0465 - acc: 0.98 - ETA: 52s - loss: 0.0484 - acc: 0.98 - ETA: 50s - loss: 0.0509 - acc: 0.98 - ETA: 47s - loss: 0.0514 - acc: 0.98 - ETA: 45s - loss: 0.0518 - acc: 0.98 - ETA: 43s - loss: 0.0527 - acc: 0.98 - ETA: 40s - loss: 0.0532 - acc: 0.98 - ETA: 38s - loss: 0.0535 - acc: 0.98 - ETA: 36s - loss: 0.0533 - acc: 0.98 - ETA: 34s - loss: 0.0532 - acc: 0.98 - ETA: 31s - loss: 0.0535 - acc: 0.98 - ETA: 29s - loss: 0.0543 - acc: 0.98 - ETA: 26s - loss: 0.0544 - acc: 0.98 - ETA: 24s - loss: 0.0545 - acc: 0.98 - ETA: 22s - loss: 0.0552 - acc: 0.98 - ETA: 20s - loss: 0.0553 - acc: 0.98 - ETA: 17s - loss: 0.0554 - acc: 0.98 - ETA: 15s - loss: 0.0561 - acc: 0.98 - ETA: 13s - loss: 0.0562 - acc: 0.98 - ETA: 10s - loss: 0.0564 - acc: 0.98 - ETA: 8s - loss: 0.0562 - acc: 0.9814 - ETA: 6s - loss: 0.0564 - acc: 0.981 - ETA: 3s - loss: 0.0563 - acc: 0.981 - ETA: 1s - loss: 0.0564 - acc: 0.981 - 344s 37ms/step - loss: 0.0562 - acc: 0.9812 - val_loss: 0.1368 - val_acc: 0.9614\n",
      "Epoch 10/20\n",
      "9318/9318 [==============================] - ETA: 5:38 - loss: 0.0349 - acc: 1.000 - ETA: 5:37 - loss: 0.0607 - acc: 0.992 - ETA: 5:24 - loss: 0.0910 - acc: 0.984 - ETA: 5:26 - loss: 0.0779 - acc: 0.984 - ETA: 5:41 - loss: 0.0677 - acc: 0.987 - ETA: 5:44 - loss: 0.0585 - acc: 0.989 - ETA: 5:41 - loss: 0.0585 - acc: 0.988 - ETA: 5:42 - loss: 0.0576 - acc: 0.990 - ETA: 5:40 - loss: 0.0566 - acc: 0.989 - ETA: 5:41 - loss: 0.0523 - acc: 0.990 - ETA: 5:38 - loss: 0.0491 - acc: 0.991 - ETA: 5:35 - loss: 0.0478 - acc: 0.990 - ETA: 5:36 - loss: 0.0459 - acc: 0.991 - ETA: 5:31 - loss: 0.0511 - acc: 0.990 - ETA: 5:28 - loss: 0.0499 - acc: 0.990 - ETA: 5:23 - loss: 0.0477 - acc: 0.991 - ETA: 5:19 - loss: 0.0458 - acc: 0.991 - ETA: 5:18 - loss: 0.0440 - acc: 0.992 - ETA: 5:15 - loss: 0.0423 - acc: 0.992 - ETA: 5:13 - loss: 0.0425 - acc: 0.993 - ETA: 5:09 - loss: 0.0428 - acc: 0.992 - ETA: 5:07 - loss: 0.0413 - acc: 0.992 - ETA: 5:03 - loss: 0.0401 - acc: 0.993 - ETA: 4:59 - loss: 0.0388 - acc: 0.993 - ETA: 4:56 - loss: 0.0397 - acc: 0.993 - ETA: 4:54 - loss: 0.0393 - acc: 0.992 - ETA: 4:51 - loss: 0.0386 - acc: 0.993 - ETA: 4:49 - loss: 0.0380 - acc: 0.993 - ETA: 4:47 - loss: 0.0373 - acc: 0.993 - ETA: 4:44 - loss: 0.0364 - acc: 0.993 - ETA: 4:41 - loss: 0.0356 - acc: 0.994 - ETA: 4:38 - loss: 0.0348 - acc: 0.994 - ETA: 4:35 - loss: 0.0348 - acc: 0.993 - ETA: 4:32 - loss: 0.0347 - acc: 0.994 - ETA: 4:30 - loss: 0.0343 - acc: 0.994 - ETA: 4:26 - loss: 0.0335 - acc: 0.994 - ETA: 4:23 - loss: 0.0347 - acc: 0.994 - ETA: 4:21 - loss: 0.0346 - acc: 0.993 - ETA: 4:18 - loss: 0.0346 - acc: 0.994 - ETA: 4:16 - loss: 0.0343 - acc: 0.993 - ETA: 4:13 - loss: 0.0337 - acc: 0.993 - ETA: 4:10 - loss: 0.0338 - acc: 0.993 - ETA: 4:07 - loss: 0.0334 - acc: 0.993 - ETA: 4:04 - loss: 0.0332 - acc: 0.994 - ETA: 4:02 - loss: 0.0327 - acc: 0.994 - ETA: 3:59 - loss: 0.0326 - acc: 0.994 - ETA: 3:57 - loss: 0.0325 - acc: 0.994 - ETA: 3:54 - loss: 0.0319 - acc: 0.994 - ETA: 3:51 - loss: 0.0323 - acc: 0.993 - ETA: 3:49 - loss: 0.0320 - acc: 0.994 - ETA: 3:46 - loss: 0.0329 - acc: 0.993 - ETA: 3:45 - loss: 0.0325 - acc: 0.993 - ETA: 3:43 - loss: 0.0328 - acc: 0.993 - ETA: 3:41 - loss: 0.0323 - acc: 0.993 - ETA: 3:38 - loss: 0.0319 - acc: 0.994 - ETA: 3:36 - loss: 0.0315 - acc: 0.994 - ETA: 3:33 - loss: 0.0311 - acc: 0.994 - ETA: 3:31 - loss: 0.0309 - acc: 0.994 - ETA: 3:28 - loss: 0.0320 - acc: 0.993 - ETA: 3:26 - loss: 0.0316 - acc: 0.993 - ETA: 3:24 - loss: 0.0318 - acc: 0.993 - ETA: 3:21 - loss: 0.0316 - acc: 0.993 - ETA: 3:19 - loss: 0.0316 - acc: 0.993 - ETA: 3:16 - loss: 0.0313 - acc: 0.993 - ETA: 3:14 - loss: 0.0310 - acc: 0.993 - ETA: 3:12 - loss: 0.0315 - acc: 0.993 - ETA: 3:09 - loss: 0.0313 - acc: 0.993 - ETA: 3:07 - loss: 0.0311 - acc: 0.993 - ETA: 3:05 - loss: 0.0306 - acc: 0.993 - ETA: 3:02 - loss: 0.0324 - acc: 0.993 - ETA: 3:00 - loss: 0.0323 - acc: 0.993 - ETA: 2:57 - loss: 0.0320 - acc: 0.993 - ETA: 2:55 - loss: 0.0330 - acc: 0.992 - ETA: 2:53 - loss: 0.0330 - acc: 0.992 - ETA: 2:51 - loss: 0.0327 - acc: 0.992 - ETA: 2:48 - loss: 0.0330 - acc: 0.992 - ETA: 2:46 - loss: 0.0327 - acc: 0.992 - ETA: 2:43 - loss: 0.0327 - acc: 0.993 - ETA: 2:41 - loss: 0.0326 - acc: 0.992 - ETA: 2:38 - loss: 0.0328 - acc: 0.992 - ETA: 2:36 - loss: 0.0328 - acc: 0.992 - ETA: 2:33 - loss: 0.0324 - acc: 0.992 - ETA: 2:31 - loss: 0.0323 - acc: 0.992 - ETA: 2:29 - loss: 0.0320 - acc: 0.992 - ETA: 2:26 - loss: 0.0318 - acc: 0.993 - ETA: 2:24 - loss: 0.0318 - acc: 0.993 - ETA: 2:21 - loss: 0.0319 - acc: 0.993 - ETA: 2:19 - loss: 0.0316 - acc: 0.993 - ETA: 2:16 - loss: 0.0314 - acc: 0.993 - ETA: 2:14 - loss: 0.0311 - acc: 0.993 - ETA: 2:11 - loss: 0.0309 - acc: 0.993 - ETA: 2:09 - loss: 0.0307 - acc: 0.993 - ETA: 2:07 - loss: 0.0305 - acc: 0.993 - ETA: 2:04 - loss: 0.0305 - acc: 0.993 - ETA: 2:02 - loss: 0.0307 - acc: 0.993 - ETA: 1:59 - loss: 0.0305 - acc: 0.993 - ETA: 1:57 - loss: 0.0303 - acc: 0.993 - ETA: 1:54 - loss: 0.0301 - acc: 0.993 - ETA: 1:52 - loss: 0.0302 - acc: 0.993 - ETA: 1:49 - loss: 0.0301 - acc: 0.993 - ETA: 1:47 - loss: 0.0298 - acc: 0.993 - ETA: 1:44 - loss: 0.0297 - acc: 0.993 - ETA: 1:42 - loss: 0.0294 - acc: 0.993 - ETA: 1:40 - loss: 0.0293 - acc: 0.993 - ETA: 1:38 - loss: 0.0291 - acc: 0.993 - ETA: 1:36 - loss: 0.0289 - acc: 0.993 - ETA: 1:33 - loss: 0.0288 - acc: 0.993 - ETA: 1:31 - loss: 0.0287 - acc: 0.993 - ETA: 1:28 - loss: 0.0285 - acc: 0.993 - ETA: 1:26 - loss: 0.0283 - acc: 0.993 - ETA: 1:23 - loss: 0.0285 - acc: 0.993 - ETA: 1:21 - loss: 0.0285 - acc: 0.993 - ETA: 1:18 - loss: 0.0286 - acc: 0.993 - ETA: 1:16 - loss: 0.0284 - acc: 0.993 - ETA: 1:14 - loss: 0.0282 - acc: 0.993 - ETA: 1:11 - loss: 0.0285 - acc: 0.993 - ETA: 1:09 - loss: 0.0286 - acc: 0.993 - ETA: 1:06 - loss: 0.0284 - acc: 0.993 - ETA: 1:04 - loss: 0.0284 - acc: 0.993 - ETA: 1:02 - loss: 0.0282 - acc: 0.993 - ETA: 59s - loss: 0.0284 - acc: 0.993 - ETA: 57s - loss: 0.0283 - acc: 0.99 - ETA: 54s - loss: 0.0281 - acc: 0.99 - ETA: 52s - loss: 0.0280 - acc: 0.99 - ETA: 49s - loss: 0.0279 - acc: 0.99 - ETA: 47s - loss: 0.0278 - acc: 0.99 - ETA: 44s - loss: 0.0277 - acc: 0.99 - ETA: 42s - loss: 0.0282 - acc: 0.99 - ETA: 40s - loss: 0.0280 - acc: 0.99 - ETA: 37s - loss: 0.0278 - acc: 0.99 - ETA: 35s - loss: 0.0276 - acc: 0.99 - ETA: 32s - loss: 0.0275 - acc: 0.99 - ETA: 30s - loss: 0.0275 - acc: 0.99 - ETA: 27s - loss: 0.0275 - acc: 0.99 - ETA: 25s - loss: 0.0274 - acc: 0.99 - ETA: 23s - loss: 0.0273 - acc: 0.99 - ETA: 20s - loss: 0.0271 - acc: 0.99 - ETA: 18s - loss: 0.0270 - acc: 0.99 - ETA: 15s - loss: 0.0278 - acc: 0.99 - ETA: 13s - loss: 0.0279 - acc: 0.99 - ETA: 11s - loss: 0.0277 - acc: 0.99 - ETA: 8s - loss: 0.0276 - acc: 0.9936 - ETA: 6s - loss: 0.0275 - acc: 0.993 - ETA: 3s - loss: 0.0275 - acc: 0.993 - ETA: 1s - loss: 0.0274 - acc: 0.993 - 355s 38ms/step - loss: 0.0275 - acc: 0.9936 - val_loss: 0.0583 - val_acc: 0.9807\n",
      "Epoch 11/20\n"
     ]
    },
    {
     "name": "stdout",
     "output_type": "stream",
     "text": [
      "9318/9318 [==============================] - ETA: 6:05 - loss: 0.0393 - acc: 0.984 - ETA: 5:53 - loss: 0.0260 - acc: 0.992 - ETA: 5:43 - loss: 0.0201 - acc: 0.994 - ETA: 5:39 - loss: 0.0169 - acc: 0.996 - ETA: 5:34 - loss: 0.0326 - acc: 0.990 - ETA: 5:39 - loss: 0.0290 - acc: 0.992 - ETA: 5:35 - loss: 0.0261 - acc: 0.993 - ETA: 5:32 - loss: 0.0245 - acc: 0.994 - ETA: 5:26 - loss: 0.0240 - acc: 0.993 - ETA: 5:21 - loss: 0.0226 - acc: 0.993 - ETA: 5:16 - loss: 0.0214 - acc: 0.994 - ETA: 5:12 - loss: 0.0212 - acc: 0.994 - ETA: 5:12 - loss: 0.0205 - acc: 0.995 - ETA: 5:10 - loss: 0.0196 - acc: 0.995 - ETA: 5:09 - loss: 0.0190 - acc: 0.995 - ETA: 5:09 - loss: 0.0188 - acc: 0.996 - ETA: 5:07 - loss: 0.0180 - acc: 0.996 - ETA: 5:05 - loss: 0.0173 - acc: 0.996 - ETA: 5:03 - loss: 0.0165 - acc: 0.996 - ETA: 5:02 - loss: 0.0163 - acc: 0.996 - ETA: 5:00 - loss: 0.0157 - acc: 0.997 - ETA: 4:57 - loss: 0.0155 - acc: 0.997 - ETA: 4:54 - loss: 0.0184 - acc: 0.996 - ETA: 4:52 - loss: 0.0180 - acc: 0.996 - ETA: 4:49 - loss: 0.0184 - acc: 0.996 - ETA: 4:48 - loss: 0.0180 - acc: 0.996 - ETA: 4:45 - loss: 0.0184 - acc: 0.996 - ETA: 4:43 - loss: 0.0180 - acc: 0.996 - ETA: 4:40 - loss: 0.0182 - acc: 0.996 - ETA: 4:39 - loss: 0.0180 - acc: 0.996 - ETA: 4:37 - loss: 0.0179 - acc: 0.997 - ETA: 4:34 - loss: 0.0175 - acc: 0.997 - ETA: 4:31 - loss: 0.0171 - acc: 0.997 - ETA: 4:28 - loss: 0.0174 - acc: 0.996 - ETA: 4:26 - loss: 0.0169 - acc: 0.996 - ETA: 4:24 - loss: 0.0167 - acc: 0.997 - ETA: 4:21 - loss: 0.0165 - acc: 0.997 - ETA: 4:18 - loss: 0.0181 - acc: 0.996 - ETA: 4:16 - loss: 0.0179 - acc: 0.996 - ETA: 4:13 - loss: 0.0177 - acc: 0.996 - ETA: 4:10 - loss: 0.0175 - acc: 0.996 - ETA: 4:07 - loss: 0.0182 - acc: 0.996 - ETA: 4:05 - loss: 0.0179 - acc: 0.996 - ETA: 4:02 - loss: 0.0175 - acc: 0.996 - ETA: 4:00 - loss: 0.0175 - acc: 0.996 - ETA: 3:57 - loss: 0.0175 - acc: 0.996 - ETA: 3:54 - loss: 0.0173 - acc: 0.996 - ETA: 3:52 - loss: 0.0178 - acc: 0.996 - ETA: 3:50 - loss: 0.0175 - acc: 0.996 - ETA: 3:47 - loss: 0.0172 - acc: 0.996 - ETA: 3:45 - loss: 0.0169 - acc: 0.996 - ETA: 3:42 - loss: 0.0168 - acc: 0.996 - ETA: 3:40 - loss: 0.0166 - acc: 0.996 - ETA: 3:38 - loss: 0.0169 - acc: 0.996 - ETA: 3:36 - loss: 0.0169 - acc: 0.996 - ETA: 3:33 - loss: 0.0166 - acc: 0.996 - ETA: 3:30 - loss: 0.0166 - acc: 0.996 - ETA: 3:28 - loss: 0.0164 - acc: 0.996 - ETA: 3:25 - loss: 0.0163 - acc: 0.996 - ETA: 3:23 - loss: 0.0162 - acc: 0.996 - ETA: 3:21 - loss: 0.0161 - acc: 0.996 - ETA: 3:18 - loss: 0.0159 - acc: 0.997 - ETA: 3:16 - loss: 0.0157 - acc: 0.997 - ETA: 3:13 - loss: 0.0156 - acc: 0.997 - ETA: 3:11 - loss: 0.0155 - acc: 0.997 - ETA: 3:09 - loss: 0.0153 - acc: 0.997 - ETA: 3:06 - loss: 0.0151 - acc: 0.997 - ETA: 3:04 - loss: 0.0149 - acc: 0.997 - ETA: 3:01 - loss: 0.0148 - acc: 0.997 - ETA: 2:59 - loss: 0.0147 - acc: 0.997 - ETA: 2:57 - loss: 0.0146 - acc: 0.997 - ETA: 2:54 - loss: 0.0145 - acc: 0.997 - ETA: 2:52 - loss: 0.0144 - acc: 0.997 - ETA: 2:50 - loss: 0.0142 - acc: 0.997 - ETA: 2:47 - loss: 0.0141 - acc: 0.997 - ETA: 2:45 - loss: 0.0140 - acc: 0.997 - ETA: 2:42 - loss: 0.0140 - acc: 0.997 - ETA: 2:40 - loss: 0.0139 - acc: 0.997 - ETA: 2:38 - loss: 0.0138 - acc: 0.997 - ETA: 2:35 - loss: 0.0137 - acc: 0.997 - ETA: 2:33 - loss: 0.0135 - acc: 0.997 - ETA: 2:31 - loss: 0.0134 - acc: 0.997 - ETA: 2:28 - loss: 0.0133 - acc: 0.997 - ETA: 2:26 - loss: 0.0132 - acc: 0.997 - ETA: 2:23 - loss: 0.0131 - acc: 0.997 - ETA: 2:21 - loss: 0.0131 - acc: 0.997 - ETA: 2:19 - loss: 0.0130 - acc: 0.997 - ETA: 2:16 - loss: 0.0129 - acc: 0.997 - ETA: 2:14 - loss: 0.0128 - acc: 0.997 - ETA: 2:12 - loss: 0.0127 - acc: 0.997 - ETA: 2:10 - loss: 0.0129 - acc: 0.997 - ETA: 2:07 - loss: 0.0128 - acc: 0.997 - ETA: 2:05 - loss: 0.0127 - acc: 0.997 - ETA: 2:02 - loss: 0.0127 - acc: 0.997 - ETA: 2:00 - loss: 0.0126 - acc: 0.997 - ETA: 1:58 - loss: 0.0125 - acc: 0.997 - ETA: 1:55 - loss: 0.0124 - acc: 0.997 - ETA: 1:53 - loss: 0.0123 - acc: 0.997 - ETA: 1:51 - loss: 0.0123 - acc: 0.997 - ETA: 1:48 - loss: 0.0122 - acc: 0.997 - ETA: 1:46 - loss: 0.0121 - acc: 0.997 - ETA: 1:44 - loss: 0.0120 - acc: 0.997 - ETA: 1:42 - loss: 0.0119 - acc: 0.997 - ETA: 1:39 - loss: 0.0120 - acc: 0.997 - ETA: 1:37 - loss: 0.0119 - acc: 0.997 - ETA: 1:35 - loss: 0.0119 - acc: 0.997 - ETA: 1:32 - loss: 0.0119 - acc: 0.997 - ETA: 1:30 - loss: 0.0119 - acc: 0.997 - ETA: 1:28 - loss: 0.0120 - acc: 0.997 - ETA: 1:25 - loss: 0.0119 - acc: 0.997 - ETA: 1:23 - loss: 0.0118 - acc: 0.997 - ETA: 1:21 - loss: 0.0117 - acc: 0.997 - ETA: 1:18 - loss: 0.0117 - acc: 0.997 - ETA: 1:16 - loss: 0.0116 - acc: 0.997 - ETA: 1:13 - loss: 0.0115 - acc: 0.998 - ETA: 1:11 - loss: 0.0121 - acc: 0.997 - ETA: 1:09 - loss: 0.0122 - acc: 0.997 - ETA: 1:06 - loss: 0.0121 - acc: 0.997 - ETA: 1:04 - loss: 0.0121 - acc: 0.997 - ETA: 1:01 - loss: 0.0120 - acc: 0.997 - ETA: 59s - loss: 0.0126 - acc: 0.997 - ETA: 56s - loss: 0.0125 - acc: 0.99 - ETA: 54s - loss: 0.0126 - acc: 0.99 - ETA: 52s - loss: 0.0130 - acc: 0.99 - ETA: 49s - loss: 0.0130 - acc: 0.99 - ETA: 47s - loss: 0.0129 - acc: 0.99 - ETA: 44s - loss: 0.0130 - acc: 0.99 - ETA: 42s - loss: 0.0130 - acc: 0.99 - ETA: 39s - loss: 0.0129 - acc: 0.99 - ETA: 37s - loss: 0.0131 - acc: 0.99 - ETA: 35s - loss: 0.0131 - acc: 0.99 - ETA: 32s - loss: 0.0137 - acc: 0.99 - ETA: 30s - loss: 0.0139 - acc: 0.99 - ETA: 27s - loss: 0.0138 - acc: 0.99 - ETA: 25s - loss: 0.0140 - acc: 0.99 - ETA: 22s - loss: 0.0140 - acc: 0.99 - ETA: 20s - loss: 0.0139 - acc: 0.99 - ETA: 18s - loss: 0.0141 - acc: 0.99 - ETA: 15s - loss: 0.0141 - acc: 0.99 - ETA: 13s - loss: 0.0145 - acc: 0.99 - ETA: 10s - loss: 0.0147 - acc: 0.99 - ETA: 8s - loss: 0.0147 - acc: 0.9961 - ETA: 6s - loss: 0.0148 - acc: 0.996 - ETA: 3s - loss: 0.0154 - acc: 0.996 - ETA: 1s - loss: 0.0155 - acc: 0.996 - 353s 38ms/step - loss: 0.0156 - acc: 0.9961 - val_loss: 0.0592 - val_acc: 0.9824\n",
      "Epoch 12/20\n",
      "9318/9318 [==============================] - ETA: 5:25 - loss: 0.0066 - acc: 1.000 - ETA: 5:06 - loss: 0.0048 - acc: 1.000 - ETA: 5:11 - loss: 0.0060 - acc: 1.000 - ETA: 5:12 - loss: 0.0178 - acc: 0.996 - ETA: 5:15 - loss: 0.0187 - acc: 0.996 - ETA: 5:17 - loss: 0.0192 - acc: 0.994 - ETA: 5:18 - loss: 0.0180 - acc: 0.995 - ETA: 5:16 - loss: 0.0164 - acc: 0.996 - ETA: 5:12 - loss: 0.0157 - acc: 0.996 - ETA: 5:05 - loss: 0.0146 - acc: 0.996 - ETA: 5:01 - loss: 0.0134 - acc: 0.997 - ETA: 4:59 - loss: 0.0125 - acc: 0.997 - ETA: 5:00 - loss: 0.0118 - acc: 0.997 - ETA: 5:00 - loss: 0.0111 - acc: 0.997 - ETA: 5:01 - loss: 0.0114 - acc: 0.996 - ETA: 5:03 - loss: 0.0123 - acc: 0.996 - ETA: 5:03 - loss: 0.0119 - acc: 0.996 - ETA: 5:01 - loss: 0.0114 - acc: 0.996 - ETA: 5:00 - loss: 0.0153 - acc: 0.994 - ETA: 4:58 - loss: 0.0147 - acc: 0.994 - ETA: 4:56 - loss: 0.0148 - acc: 0.994 - ETA: 4:54 - loss: 0.0144 - acc: 0.995 - ETA: 4:51 - loss: 0.0139 - acc: 0.995 - ETA: 4:49 - loss: 0.0142 - acc: 0.994 - ETA: 4:48 - loss: 0.0141 - acc: 0.995 - ETA: 4:47 - loss: 0.0256 - acc: 0.993 - ETA: 4:44 - loss: 0.0251 - acc: 0.993 - ETA: 4:42 - loss: 0.0279 - acc: 0.992 - ETA: 4:40 - loss: 0.0275 - acc: 0.992 - ETA: 4:37 - loss: 0.0272 - acc: 0.992 - ETA: 4:35 - loss: 0.0266 - acc: 0.992 - ETA: 4:33 - loss: 0.0260 - acc: 0.992 - ETA: 4:30 - loss: 0.0256 - acc: 0.992 - ETA: 4:27 - loss: 0.0252 - acc: 0.993 - ETA: 4:26 - loss: 0.0265 - acc: 0.992 - ETA: 4:24 - loss: 0.0261 - acc: 0.993 - ETA: 4:22 - loss: 0.0255 - acc: 0.993 - ETA: 4:19 - loss: 0.0250 - acc: 0.993 - ETA: 4:17 - loss: 0.0248 - acc: 0.993 - ETA: 4:14 - loss: 0.0267 - acc: 0.993 - ETA: 4:11 - loss: 0.0266 - acc: 0.993 - ETA: 4:08 - loss: 0.0263 - acc: 0.993 - ETA: 4:06 - loss: 0.0259 - acc: 0.993 - ETA: 4:04 - loss: 0.0257 - acc: 0.993 - ETA: 4:01 - loss: 0.0254 - acc: 0.993 - ETA: 3:58 - loss: 0.0261 - acc: 0.993 - ETA: 3:56 - loss: 0.0259 - acc: 0.993 - ETA: 3:53 - loss: 0.0255 - acc: 0.993 - ETA: 3:50 - loss: 0.0250 - acc: 0.993 - ETA: 3:48 - loss: 0.0253 - acc: 0.993 - ETA: 3:45 - loss: 0.0249 - acc: 0.993 - ETA: 3:43 - loss: 0.0246 - acc: 0.994 - ETA: 3:40 - loss: 0.0242 - acc: 0.994 - ETA: 3:38 - loss: 0.0238 - acc: 0.994 - ETA: 3:35 - loss: 0.0236 - acc: 0.994 - ETA: 3:33 - loss: 0.0232 - acc: 0.994 - ETA: 3:30 - loss: 0.0231 - acc: 0.994 - ETA: 3:28 - loss: 0.0234 - acc: 0.994 - ETA: 3:25 - loss: 0.0231 - acc: 0.994 - ETA: 3:23 - loss: 0.0231 - acc: 0.994 - ETA: 3:20 - loss: 0.0228 - acc: 0.994 - ETA: 3:18 - loss: 0.0227 - acc: 0.994 - ETA: 3:15 - loss: 0.0242 - acc: 0.994 - ETA: 3:12 - loss: 0.0240 - acc: 0.994 - ETA: 3:10 - loss: 0.0239 - acc: 0.994 - ETA: 3:08 - loss: 0.0236 - acc: 0.994 - ETA: 3:06 - loss: 0.0233 - acc: 0.994 - ETA: 3:04 - loss: 0.0235 - acc: 0.994 - ETA: 3:02 - loss: 0.0232 - acc: 0.994 - ETA: 2:59 - loss: 0.0229 - acc: 0.994 - ETA: 2:57 - loss: 0.0227 - acc: 0.994 - ETA: 2:54 - loss: 0.0224 - acc: 0.995 - ETA: 2:52 - loss: 0.0222 - acc: 0.995 - ETA: 2:50 - loss: 0.0220 - acc: 0.995 - ETA: 2:47 - loss: 0.0218 - acc: 0.995 - ETA: 2:45 - loss: 0.0216 - acc: 0.995 - ETA: 2:43 - loss: 0.0214 - acc: 0.995 - ETA: 2:40 - loss: 0.0211 - acc: 0.995 - ETA: 2:38 - loss: 0.0214 - acc: 0.995 - ETA: 2:35 - loss: 0.0216 - acc: 0.994 - ETA: 2:33 - loss: 0.0215 - acc: 0.995 - ETA: 2:31 - loss: 0.0213 - acc: 0.995 - ETA: 2:28 - loss: 0.0212 - acc: 0.995 - ETA: 2:26 - loss: 0.0210 - acc: 0.995 - ETA: 2:24 - loss: 0.0210 - acc: 0.995 - ETA: 2:21 - loss: 0.0208 - acc: 0.995 - ETA: 2:19 - loss: 0.0207 - acc: 0.995 - ETA: 2:16 - loss: 0.0205 - acc: 0.995 - ETA: 2:14 - loss: 0.0212 - acc: 0.995 - ETA: 2:12 - loss: 0.0210 - acc: 0.995 - ETA: 2:09 - loss: 0.0209 - acc: 0.995 - ETA: 2:07 - loss: 0.0207 - acc: 0.995 - ETA: 2:05 - loss: 0.0207 - acc: 0.995 - ETA: 2:02 - loss: 0.0206 - acc: 0.995 - ETA: 2:00 - loss: 0.0204 - acc: 0.995 - ETA: 1:58 - loss: 0.0202 - acc: 0.995 - ETA: 1:55 - loss: 0.0200 - acc: 0.995 - ETA: 1:53 - loss: 0.0199 - acc: 0.995 - ETA: 1:50 - loss: 0.0197 - acc: 0.995 - ETA: 1:48 - loss: 0.0196 - acc: 0.995 - ETA: 1:46 - loss: 0.0196 - acc: 0.995 - ETA: 1:43 - loss: 0.0195 - acc: 0.995 - ETA: 1:41 - loss: 0.0193 - acc: 0.995 - ETA: 1:38 - loss: 0.0192 - acc: 0.995 - ETA: 1:36 - loss: 0.0190 - acc: 0.995 - ETA: 1:33 - loss: 0.0189 - acc: 0.995 - ETA: 1:31 - loss: 0.0188 - acc: 0.995 - ETA: 1:28 - loss: 0.0187 - acc: 0.995 - ETA: 1:26 - loss: 0.0186 - acc: 0.996 - ETA: 1:23 - loss: 0.0184 - acc: 0.996 - ETA: 1:21 - loss: 0.0184 - acc: 0.996 - ETA: 1:19 - loss: 0.0182 - acc: 0.996 - ETA: 1:16 - loss: 0.0182 - acc: 0.996 - ETA: 1:14 - loss: 0.0181 - acc: 0.996 - ETA: 1:12 - loss: 0.0181 - acc: 0.996 - ETA: 1:09 - loss: 0.0180 - acc: 0.996 - ETA: 1:07 - loss: 0.0181 - acc: 0.996 - ETA: 1:05 - loss: 0.0181 - acc: 0.996 - ETA: 1:02 - loss: 0.0181 - acc: 0.996 - ETA: 1:00 - loss: 0.0180 - acc: 0.996 - ETA: 57s - loss: 0.0179 - acc: 0.996 - ETA: 55s - loss: 0.0177 - acc: 0.99 - ETA: 53s - loss: 0.0176 - acc: 0.99 - ETA: 50s - loss: 0.0176 - acc: 0.99 - ETA: 48s - loss: 0.0175 - acc: 0.99 - ETA: 46s - loss: 0.0174 - acc: 0.99 - ETA: 43s - loss: 0.0175 - acc: 0.99 - ETA: 41s - loss: 0.0175 - acc: 0.99 - ETA: 39s - loss: 0.0173 - acc: 0.99 - ETA: 36s - loss: 0.0173 - acc: 0.99 - ETA: 34s - loss: 0.0172 - acc: 0.99 - ETA: 31s - loss: 0.0171 - acc: 0.99 - ETA: 29s - loss: 0.0170 - acc: 0.99 - ETA: 27s - loss: 0.0169 - acc: 0.99 - ETA: 24s - loss: 0.0169 - acc: 0.99 - ETA: 22s - loss: 0.0168 - acc: 0.99 - ETA: 20s - loss: 0.0168 - acc: 0.99 - ETA: 17s - loss: 0.0167 - acc: 0.99 - ETA: 15s - loss: 0.0166 - acc: 0.99 - ETA: 13s - loss: 0.0166 - acc: 0.99 - ETA: 10s - loss: 0.0165 - acc: 0.99 - ETA: 8s - loss: 0.0164 - acc: 0.9964 - ETA: 6s - loss: 0.0163 - acc: 0.996 - ETA: 3s - loss: 0.0163 - acc: 0.996 - ETA: 1s - loss: 0.0162 - acc: 0.996 - 348s 37ms/step - loss: 0.0161 - acc: 0.9965 - val_loss: 0.0495 - val_acc: 0.9880\n",
      "Epoch 13/20\n"
     ]
    },
    {
     "name": "stdout",
     "output_type": "stream",
     "text": [
      "9318/9318 [==============================] - ETA: 5:19 - loss: 7.8254e-04 - acc: 1.000 - ETA: 5:27 - loss: 0.0065 - acc: 1.0000    - ETA: 5:28 - loss: 0.0050 - acc: 1.000 - ETA: 5:38 - loss: 0.0043 - acc: 1.000 - ETA: 5:41 - loss: 0.0037 - acc: 1.000 - ETA: 5:41 - loss: 0.0034 - acc: 1.000 - ETA: 5:40 - loss: 0.0030 - acc: 1.000 - ETA: 5:32 - loss: 0.0028 - acc: 1.000 - ETA: 5:26 - loss: 0.0028 - acc: 1.000 - ETA: 5:21 - loss: 0.0028 - acc: 1.000 - ETA: 5:15 - loss: 0.0030 - acc: 1.000 - ETA: 5:08 - loss: 0.0031 - acc: 1.000 - ETA: 5:05 - loss: 0.0029 - acc: 1.000 - ETA: 5:02 - loss: 0.0029 - acc: 1.000 - ETA: 5:01 - loss: 0.0031 - acc: 1.000 - ETA: 4:57 - loss: 0.0030 - acc: 1.000 - ETA: 4:55 - loss: 0.0028 - acc: 1.000 - ETA: 4:53 - loss: 0.0033 - acc: 1.000 - ETA: 4:50 - loss: 0.0032 - acc: 1.000 - ETA: 4:46 - loss: 0.0032 - acc: 1.000 - ETA: 4:45 - loss: 0.0032 - acc: 1.000 - ETA: 4:42 - loss: 0.0032 - acc: 1.000 - ETA: 4:40 - loss: 0.0038 - acc: 1.000 - ETA: 4:37 - loss: 0.0039 - acc: 1.000 - ETA: 4:36 - loss: 0.0040 - acc: 1.000 - ETA: 4:36 - loss: 0.0063 - acc: 0.998 - ETA: 4:34 - loss: 0.0061 - acc: 0.998 - ETA: 4:33 - loss: 0.0060 - acc: 0.998 - ETA: 4:31 - loss: 0.0059 - acc: 0.998 - ETA: 4:28 - loss: 0.0061 - acc: 0.999 - ETA: 4:25 - loss: 0.0062 - acc: 0.999 - ETA: 4:23 - loss: 0.0074 - acc: 0.998 - ETA: 4:20 - loss: 0.0072 - acc: 0.998 - ETA: 4:18 - loss: 0.0071 - acc: 0.998 - ETA: 4:15 - loss: 0.0070 - acc: 0.998 - ETA: 4:12 - loss: 0.0068 - acc: 0.998 - ETA: 4:09 - loss: 0.0067 - acc: 0.998 - ETA: 4:07 - loss: 0.0067 - acc: 0.998 - ETA: 4:05 - loss: 0.0074 - acc: 0.998 - ETA: 4:03 - loss: 0.0077 - acc: 0.998 - ETA: 4:01 - loss: 0.0075 - acc: 0.998 - ETA: 3:58 - loss: 0.0075 - acc: 0.998 - ETA: 3:56 - loss: 0.0074 - acc: 0.998 - ETA: 3:53 - loss: 0.0075 - acc: 0.998 - ETA: 3:51 - loss: 0.0074 - acc: 0.998 - ETA: 3:48 - loss: 0.0073 - acc: 0.998 - ETA: 3:45 - loss: 0.0074 - acc: 0.998 - ETA: 3:43 - loss: 0.0078 - acc: 0.998 - ETA: 3:40 - loss: 0.0077 - acc: 0.998 - ETA: 3:38 - loss: 0.0086 - acc: 0.998 - ETA: 3:36 - loss: 0.0090 - acc: 0.997 - ETA: 3:34 - loss: 0.0091 - acc: 0.997 - ETA: 3:31 - loss: 0.0091 - acc: 0.997 - ETA: 3:29 - loss: 0.0120 - acc: 0.996 - ETA: 3:27 - loss: 0.0130 - acc: 0.996 - ETA: 3:25 - loss: 0.0128 - acc: 0.996 - ETA: 3:23 - loss: 0.0128 - acc: 0.996 - ETA: 3:20 - loss: 0.0134 - acc: 0.995 - ETA: 3:18 - loss: 0.0140 - acc: 0.995 - ETA: 3:15 - loss: 0.0143 - acc: 0.995 - ETA: 3:13 - loss: 0.0143 - acc: 0.995 - ETA: 3:11 - loss: 0.0141 - acc: 0.995 - ETA: 3:08 - loss: 0.0140 - acc: 0.995 - ETA: 3:06 - loss: 0.0159 - acc: 0.994 - ETA: 3:04 - loss: 0.0160 - acc: 0.995 - ETA: 3:03 - loss: 0.0167 - acc: 0.994 - ETA: 3:01 - loss: 0.0167 - acc: 0.994 - ETA: 2:59 - loss: 0.0166 - acc: 0.994 - ETA: 2:56 - loss: 0.0165 - acc: 0.995 - ETA: 2:54 - loss: 0.0175 - acc: 0.994 - ETA: 2:52 - loss: 0.0173 - acc: 0.994 - ETA: 2:49 - loss: 0.0180 - acc: 0.994 - ETA: 2:47 - loss: 0.0179 - acc: 0.994 - ETA: 2:45 - loss: 0.0178 - acc: 0.994 - ETA: 2:43 - loss: 0.0176 - acc: 0.994 - ETA: 2:40 - loss: 0.0175 - acc: 0.994 - ETA: 2:38 - loss: 0.0176 - acc: 0.994 - ETA: 2:36 - loss: 0.0176 - acc: 0.994 - ETA: 2:33 - loss: 0.0185 - acc: 0.994 - ETA: 2:31 - loss: 0.0183 - acc: 0.994 - ETA: 2:28 - loss: 0.0181 - acc: 0.994 - ETA: 2:26 - loss: 0.0180 - acc: 0.994 - ETA: 2:24 - loss: 0.0179 - acc: 0.994 - ETA: 2:22 - loss: 0.0180 - acc: 0.994 - ETA: 2:20 - loss: 0.0186 - acc: 0.994 - ETA: 2:18 - loss: 0.0186 - acc: 0.994 - ETA: 2:16 - loss: 0.0186 - acc: 0.994 - ETA: 2:14 - loss: 0.0185 - acc: 0.994 - ETA: 2:11 - loss: 0.0184 - acc: 0.994 - ETA: 2:09 - loss: 0.0184 - acc: 0.995 - ETA: 2:07 - loss: 0.0186 - acc: 0.994 - ETA: 2:05 - loss: 0.0193 - acc: 0.994 - ETA: 2:02 - loss: 0.0192 - acc: 0.994 - ETA: 2:00 - loss: 0.0195 - acc: 0.994 - ETA: 1:58 - loss: 0.0195 - acc: 0.994 - ETA: 1:56 - loss: 0.0197 - acc: 0.994 - ETA: 1:53 - loss: 0.0202 - acc: 0.994 - ETA: 1:51 - loss: 0.0201 - acc: 0.994 - ETA: 1:49 - loss: 0.0205 - acc: 0.994 - ETA: 1:46 - loss: 0.0204 - acc: 0.994 - ETA: 1:44 - loss: 0.0204 - acc: 0.994 - ETA: 1:42 - loss: 0.0203 - acc: 0.994 - ETA: 1:40 - loss: 0.0203 - acc: 0.994 - ETA: 1:37 - loss: 0.0202 - acc: 0.994 - ETA: 1:35 - loss: 0.0215 - acc: 0.994 - ETA: 1:33 - loss: 0.0229 - acc: 0.993 - ETA: 1:30 - loss: 0.0227 - acc: 0.993 - ETA: 1:28 - loss: 0.0247 - acc: 0.992 - ETA: 1:26 - loss: 0.0251 - acc: 0.992 - ETA: 1:23 - loss: 0.0249 - acc: 0.992 - ETA: 1:21 - loss: 0.0253 - acc: 0.992 - ETA: 1:19 - loss: 0.0253 - acc: 0.992 - ETA: 1:16 - loss: 0.0252 - acc: 0.992 - ETA: 1:14 - loss: 0.0252 - acc: 0.993 - ETA: 1:11 - loss: 0.0252 - acc: 0.992 - ETA: 1:09 - loss: 0.0265 - acc: 0.992 - ETA: 1:07 - loss: 0.0268 - acc: 0.992 - ETA: 1:04 - loss: 0.0278 - acc: 0.992 - ETA: 1:02 - loss: 0.0282 - acc: 0.991 - ETA: 1:00 - loss: 0.0281 - acc: 0.991 - ETA: 57s - loss: 0.0281 - acc: 0.991 - ETA: 55s - loss: 0.0281 - acc: 0.99 - ETA: 53s - loss: 0.0284 - acc: 0.99 - ETA: 50s - loss: 0.0285 - acc: 0.99 - ETA: 48s - loss: 0.0284 - acc: 0.99 - ETA: 45s - loss: 0.0285 - acc: 0.99 - ETA: 43s - loss: 0.0286 - acc: 0.99 - ETA: 41s - loss: 0.0284 - acc: 0.99 - ETA: 38s - loss: 0.0283 - acc: 0.99 - ETA: 36s - loss: 0.0282 - acc: 0.99 - ETA: 34s - loss: 0.0282 - acc: 0.99 - ETA: 31s - loss: 0.0282 - acc: 0.99 - ETA: 29s - loss: 0.0285 - acc: 0.99 - ETA: 27s - loss: 0.0286 - acc: 0.99 - ETA: 24s - loss: 0.0284 - acc: 0.99 - ETA: 22s - loss: 0.0284 - acc: 0.99 - ETA: 20s - loss: 0.0285 - acc: 0.99 - ETA: 17s - loss: 0.0285 - acc: 0.99 - ETA: 15s - loss: 0.0284 - acc: 0.99 - ETA: 13s - loss: 0.0297 - acc: 0.99 - ETA: 10s - loss: 0.0300 - acc: 0.99 - ETA: 8s - loss: 0.0299 - acc: 0.9912 - ETA: 6s - loss: 0.0298 - acc: 0.991 - ETA: 3s - loss: 0.0297 - acc: 0.991 - ETA: 1s - loss: 0.0296 - acc: 0.991 - 346s 37ms/step - loss: 0.0296 - acc: 0.9913 - val_loss: 0.1477 - val_acc: 0.9575\n",
      "Epoch 14/20\n",
      "9318/9318 [==============================] - ETA: 5:32 - loss: 0.0216 - acc: 0.984 - ETA: 5:25 - loss: 0.0565 - acc: 0.976 - ETA: 5:08 - loss: 0.0452 - acc: 0.979 - ETA: 5:09 - loss: 0.0358 - acc: 0.984 - ETA: 5:05 - loss: 0.0291 - acc: 0.987 - ETA: 5:05 - loss: 0.0260 - acc: 0.989 - ETA: 5:07 - loss: 0.0301 - acc: 0.988 - ETA: 5:06 - loss: 0.0307 - acc: 0.990 - ETA: 5:06 - loss: 0.0288 - acc: 0.991 - ETA: 5:07 - loss: 0.0340 - acc: 0.990 - ETA: 5:04 - loss: 0.0325 - acc: 0.991 - ETA: 5:01 - loss: 0.0321 - acc: 0.990 - ETA: 4:57 - loss: 0.0309 - acc: 0.991 - ETA: 4:55 - loss: 0.0290 - acc: 0.992 - ETA: 4:56 - loss: 0.0289 - acc: 0.991 - ETA: 4:53 - loss: 0.0301 - acc: 0.991 - ETA: 4:50 - loss: 0.0295 - acc: 0.991 - ETA: 4:47 - loss: 0.0291 - acc: 0.991 - ETA: 4:44 - loss: 0.0282 - acc: 0.991 - ETA: 4:43 - loss: 0.0281 - acc: 0.991 - ETA: 4:41 - loss: 0.0295 - acc: 0.990 - ETA: 4:38 - loss: 0.0295 - acc: 0.990 - ETA: 4:36 - loss: 0.0320 - acc: 0.990 - ETA: 4:35 - loss: 0.0309 - acc: 0.990 - ETA: 4:33 - loss: 0.0306 - acc: 0.990 - ETA: 4:31 - loss: 0.0327 - acc: 0.989 - ETA: 4:29 - loss: 0.0319 - acc: 0.990 - ETA: 4:27 - loss: 0.0313 - acc: 0.990 - ETA: 4:25 - loss: 0.0311 - acc: 0.989 - ETA: 4:22 - loss: 0.0310 - acc: 0.990 - ETA: 4:20 - loss: 0.0330 - acc: 0.989 - ETA: 4:18 - loss: 0.0329 - acc: 0.989 - ETA: 4:15 - loss: 0.0321 - acc: 0.989 - ETA: 4:13 - loss: 0.0315 - acc: 0.989 - ETA: 4:10 - loss: 0.0313 - acc: 0.990 - ETA: 4:08 - loss: 0.0315 - acc: 0.990 - ETA: 4:05 - loss: 0.0311 - acc: 0.990 - ETA: 4:03 - loss: 0.0308 - acc: 0.990 - ETA: 4:01 - loss: 0.0301 - acc: 0.990 - ETA: 3:58 - loss: 0.0297 - acc: 0.991 - ETA: 3:56 - loss: 0.0302 - acc: 0.990 - ETA: 3:53 - loss: 0.0298 - acc: 0.991 - ETA: 3:51 - loss: 0.0304 - acc: 0.990 - ETA: 3:49 - loss: 0.0298 - acc: 0.990 - ETA: 3:47 - loss: 0.0298 - acc: 0.990 - ETA: 3:45 - loss: 0.0293 - acc: 0.990 - ETA: 3:42 - loss: 0.0293 - acc: 0.991 - ETA: 3:40 - loss: 0.0289 - acc: 0.991 - ETA: 3:37 - loss: 0.0284 - acc: 0.991 - ETA: 3:35 - loss: 0.0286 - acc: 0.990 - ETA: 3:33 - loss: 0.0283 - acc: 0.991 - ETA: 3:31 - loss: 0.0283 - acc: 0.991 - ETA: 3:28 - loss: 0.0279 - acc: 0.991 - ETA: 3:26 - loss: 0.0277 - acc: 0.991 - ETA: 3:24 - loss: 0.0277 - acc: 0.991 - ETA: 3:21 - loss: 0.0273 - acc: 0.991 - ETA: 3:19 - loss: 0.0270 - acc: 0.991 - ETA: 3:17 - loss: 0.0267 - acc: 0.991 - ETA: 3:14 - loss: 0.0263 - acc: 0.991 - ETA: 3:12 - loss: 0.0261 - acc: 0.991 - ETA: 3:10 - loss: 0.0259 - acc: 0.992 - ETA: 3:08 - loss: 0.0257 - acc: 0.991 - ETA: 3:05 - loss: 0.0256 - acc: 0.992 - ETA: 3:03 - loss: 0.0254 - acc: 0.992 - ETA: 3:00 - loss: 0.0259 - acc: 0.992 - ETA: 2:59 - loss: 0.0262 - acc: 0.992 - ETA: 2:56 - loss: 0.0259 - acc: 0.992 - ETA: 2:54 - loss: 0.0258 - acc: 0.992 - ETA: 2:52 - loss: 0.0256 - acc: 0.992 - ETA: 2:50 - loss: 0.0265 - acc: 0.991 - ETA: 2:48 - loss: 0.0264 - acc: 0.991 - ETA: 2:45 - loss: 0.0261 - acc: 0.991 - ETA: 2:43 - loss: 0.0258 - acc: 0.991 - ETA: 2:41 - loss: 0.0256 - acc: 0.992 - ETA: 2:39 - loss: 0.0253 - acc: 0.992 - ETA: 2:37 - loss: 0.0260 - acc: 0.991 - ETA: 2:34 - loss: 0.0257 - acc: 0.991 - ETA: 2:32 - loss: 0.0260 - acc: 0.991 - ETA: 2:30 - loss: 0.0260 - acc: 0.991 - ETA: 2:28 - loss: 0.0258 - acc: 0.991 - ETA: 2:26 - loss: 0.0257 - acc: 0.991 - ETA: 2:23 - loss: 0.0255 - acc: 0.992 - ETA: 2:21 - loss: 0.0253 - acc: 0.992 - ETA: 2:19 - loss: 0.0251 - acc: 0.992 - ETA: 2:17 - loss: 0.0248 - acc: 0.992 - ETA: 2:14 - loss: 0.0248 - acc: 0.992 - ETA: 2:12 - loss: 0.0248 - acc: 0.992 - ETA: 2:10 - loss: 0.0246 - acc: 0.992 - ETA: 2:07 - loss: 0.0244 - acc: 0.992 - ETA: 2:05 - loss: 0.0244 - acc: 0.992 - ETA: 2:03 - loss: 0.0246 - acc: 0.992 - ETA: 2:00 - loss: 0.0247 - acc: 0.992 - ETA: 1:58 - loss: 0.0244 - acc: 0.992 - ETA: 1:56 - loss: 0.0242 - acc: 0.992 - ETA: 1:54 - loss: 0.0240 - acc: 0.992 - ETA: 1:51 - loss: 0.0240 - acc: 0.992 - ETA: 1:49 - loss: 0.0239 - acc: 0.992 - ETA: 1:47 - loss: 0.0237 - acc: 0.992 - ETA: 1:45 - loss: 0.0235 - acc: 0.992 - ETA: 1:42 - loss: 0.0235 - acc: 0.992 - ETA: 1:40 - loss: 0.0233 - acc: 0.992 - ETA: 1:38 - loss: 0.0231 - acc: 0.992 - ETA: 1:36 - loss: 0.0229 - acc: 0.992 - ETA: 1:34 - loss: 0.0234 - acc: 0.992 - ETA: 1:31 - loss: 0.0232 - acc: 0.992 - ETA: 1:29 - loss: 0.0230 - acc: 0.992 - ETA: 1:27 - loss: 0.0228 - acc: 0.992 - ETA: 1:25 - loss: 0.0226 - acc: 0.992 - ETA: 1:23 - loss: 0.0225 - acc: 0.993 - ETA: 1:21 - loss: 0.0223 - acc: 0.993 - ETA: 1:18 - loss: 0.0222 - acc: 0.993 - ETA: 1:16 - loss: 0.0224 - acc: 0.993 - ETA: 1:14 - loss: 0.0223 - acc: 0.993 - ETA: 1:11 - loss: 0.0222 - acc: 0.993 - ETA: 1:09 - loss: 0.0224 - acc: 0.993 - ETA: 1:07 - loss: 0.0223 - acc: 0.993 - ETA: 1:05 - loss: 0.0221 - acc: 0.993 - ETA: 1:02 - loss: 0.0219 - acc: 0.993 - ETA: 1:00 - loss: 0.0219 - acc: 0.993 - ETA: 58s - loss: 0.0223 - acc: 0.993 - ETA: 56s - loss: 0.0223 - acc: 0.99 - ETA: 53s - loss: 0.0230 - acc: 0.99 - ETA: 51s - loss: 0.0229 - acc: 0.99 - ETA: 49s - loss: 0.0230 - acc: 0.99 - ETA: 46s - loss: 0.0230 - acc: 0.99 - ETA: 44s - loss: 0.0228 - acc: 0.99 - ETA: 42s - loss: 0.0228 - acc: 0.99 - ETA: 40s - loss: 0.0229 - acc: 0.99 - ETA: 37s - loss: 0.0229 - acc: 0.99 - ETA: 35s - loss: 0.0227 - acc: 0.99 - ETA: 33s - loss: 0.0226 - acc: 0.99 - ETA: 30s - loss: 0.0224 - acc: 0.99 - ETA: 28s - loss: 0.0223 - acc: 0.99 - ETA: 26s - loss: 0.0224 - acc: 0.99 - ETA: 24s - loss: 0.0223 - acc: 0.99 - ETA: 21s - loss: 0.0222 - acc: 0.99 - ETA: 19s - loss: 0.0221 - acc: 0.99 - ETA: 17s - loss: 0.0220 - acc: 0.99 - ETA: 15s - loss: 0.0219 - acc: 0.99 - ETA: 12s - loss: 0.0218 - acc: 0.99 - ETA: 10s - loss: 0.0220 - acc: 0.99 - ETA: 8s - loss: 0.0221 - acc: 0.9934 - ETA: 5s - loss: 0.0219 - acc: 0.993 - ETA: 3s - loss: 0.0218 - acc: 0.993 - ETA: 1s - loss: 0.0217 - acc: 0.993 - 339s 36ms/step - loss: 0.0216 - acc: 0.9936 - val_loss: 0.0814 - val_acc: 0.9773\n",
      "Epoch 15/20\n"
     ]
    },
    {
     "name": "stdout",
     "output_type": "stream",
     "text": [
      "9318/9318 [==============================] - ETA: 4:54 - loss: 0.0011 - acc: 1.000 - ETA: 5:13 - loss: 0.0042 - acc: 1.000 - ETA: 5:19 - loss: 0.0145 - acc: 0.994 - ETA: 5:22 - loss: 0.0115 - acc: 0.996 - ETA: 5:17 - loss: 0.0093 - acc: 0.996 - ETA: 5:23 - loss: 0.0086 - acc: 0.997 - ETA: 5:19 - loss: 0.0078 - acc: 0.997 - ETA: 5:19 - loss: 0.0081 - acc: 0.998 - ETA: 5:20 - loss: 0.0083 - acc: 0.998 - ETA: 5:20 - loss: 0.0076 - acc: 0.998 - ETA: 5:13 - loss: 0.0070 - acc: 0.998 - ETA: 5:09 - loss: 0.0128 - acc: 0.996 - ETA: 5:05 - loss: 0.0125 - acc: 0.996 - ETA: 5:04 - loss: 0.0127 - acc: 0.996 - ETA: 5:00 - loss: 0.0123 - acc: 0.996 - ETA: 4:57 - loss: 0.0131 - acc: 0.997 - ETA: 4:54 - loss: 0.0127 - acc: 0.997 - ETA: 4:52 - loss: 0.0121 - acc: 0.997 - ETA: 4:51 - loss: 0.0125 - acc: 0.997 - ETA: 4:48 - loss: 0.0141 - acc: 0.996 - ETA: 4:48 - loss: 0.0136 - acc: 0.996 - ETA: 4:46 - loss: 0.0132 - acc: 0.996 - ETA: 4:44 - loss: 0.0128 - acc: 0.996 - ETA: 4:41 - loss: 0.0124 - acc: 0.996 - ETA: 4:39 - loss: 0.0125 - acc: 0.996 - ETA: 4:38 - loss: 0.0128 - acc: 0.997 - ETA: 4:36 - loss: 0.0129 - acc: 0.997 - ETA: 4:34 - loss: 0.0140 - acc: 0.996 - ETA: 4:31 - loss: 0.0136 - acc: 0.996 - ETA: 4:28 - loss: 0.0136 - acc: 0.996 - ETA: 4:26 - loss: 0.0134 - acc: 0.996 - ETA: 4:24 - loss: 0.0147 - acc: 0.996 - ETA: 4:22 - loss: 0.0146 - acc: 0.996 - ETA: 4:20 - loss: 0.0143 - acc: 0.996 - ETA: 4:19 - loss: 0.0145 - acc: 0.996 - ETA: 4:17 - loss: 0.0145 - acc: 0.996 - ETA: 4:14 - loss: 0.0166 - acc: 0.995 - ETA: 4:12 - loss: 0.0163 - acc: 0.995 - ETA: 4:09 - loss: 0.0159 - acc: 0.996 - ETA: 4:08 - loss: 0.0156 - acc: 0.996 - ETA: 4:05 - loss: 0.0153 - acc: 0.996 - ETA: 4:02 - loss: 0.0158 - acc: 0.995 - ETA: 4:00 - loss: 0.0158 - acc: 0.995 - ETA: 3:57 - loss: 0.0163 - acc: 0.995 - ETA: 3:54 - loss: 0.0174 - acc: 0.995 - ETA: 3:53 - loss: 0.0171 - acc: 0.995 - ETA: 3:50 - loss: 0.0170 - acc: 0.995 - ETA: 3:48 - loss: 0.0172 - acc: 0.995 - ETA: 3:45 - loss: 0.0172 - acc: 0.995 - ETA: 3:43 - loss: 0.0170 - acc: 0.995 - ETA: 3:41 - loss: 0.0171 - acc: 0.995 - ETA: 3:39 - loss: 0.0169 - acc: 0.995 - ETA: 3:36 - loss: 0.0167 - acc: 0.995 - ETA: 3:34 - loss: 0.0164 - acc: 0.995 - ETA: 3:31 - loss: 0.0165 - acc: 0.995 - ETA: 3:29 - loss: 0.0163 - acc: 0.995 - ETA: 3:27 - loss: 0.0161 - acc: 0.995 - ETA: 3:24 - loss: 0.0158 - acc: 0.995 - ETA: 3:22 - loss: 0.0157 - acc: 0.995 - ETA: 3:19 - loss: 0.0157 - acc: 0.995 - ETA: 3:17 - loss: 0.0156 - acc: 0.995 - ETA: 3:15 - loss: 0.0154 - acc: 0.995 - ETA: 3:13 - loss: 0.0152 - acc: 0.995 - ETA: 3:10 - loss: 0.0151 - acc: 0.995 - ETA: 3:08 - loss: 0.0150 - acc: 0.995 - ETA: 3:05 - loss: 0.0149 - acc: 0.995 - ETA: 3:03 - loss: 0.0150 - acc: 0.995 - ETA: 3:01 - loss: 0.0148 - acc: 0.995 - ETA: 2:59 - loss: 0.0147 - acc: 0.995 - ETA: 2:56 - loss: 0.0145 - acc: 0.996 - ETA: 2:54 - loss: 0.0147 - acc: 0.995 - ETA: 2:52 - loss: 0.0145 - acc: 0.995 - ETA: 2:49 - loss: 0.0143 - acc: 0.995 - ETA: 2:47 - loss: 0.0142 - acc: 0.996 - ETA: 2:45 - loss: 0.0141 - acc: 0.996 - ETA: 2:42 - loss: 0.0141 - acc: 0.996 - ETA: 2:40 - loss: 0.0140 - acc: 0.996 - ETA: 2:37 - loss: 0.0138 - acc: 0.996 - ETA: 2:35 - loss: 0.0137 - acc: 0.996 - ETA: 2:33 - loss: 0.0137 - acc: 0.996 - ETA: 2:30 - loss: 0.0135 - acc: 0.996 - ETA: 2:28 - loss: 0.0134 - acc: 0.996 - ETA: 2:26 - loss: 0.0133 - acc: 0.996 - ETA: 2:24 - loss: 0.0132 - acc: 0.996 - ETA: 2:22 - loss: 0.0130 - acc: 0.996 - ETA: 2:19 - loss: 0.0129 - acc: 0.996 - ETA: 2:17 - loss: 0.0128 - acc: 0.996 - ETA: 2:15 - loss: 0.0127 - acc: 0.996 - ETA: 2:12 - loss: 0.0126 - acc: 0.996 - ETA: 2:10 - loss: 0.0125 - acc: 0.996 - ETA: 2:08 - loss: 0.0124 - acc: 0.996 - ETA: 2:05 - loss: 0.0123 - acc: 0.996 - ETA: 2:03 - loss: 0.0122 - acc: 0.996 - ETA: 2:01 - loss: 0.0121 - acc: 0.996 - ETA: 1:58 - loss: 0.0120 - acc: 0.996 - ETA: 1:56 - loss: 0.0121 - acc: 0.996 - ETA: 1:53 - loss: 0.0121 - acc: 0.996 - ETA: 1:51 - loss: 0.0120 - acc: 0.996 - ETA: 1:49 - loss: 0.0119 - acc: 0.996 - ETA: 1:47 - loss: 0.0118 - acc: 0.996 - ETA: 1:44 - loss: 0.0117 - acc: 0.996 - ETA: 1:42 - loss: 0.0116 - acc: 0.996 - ETA: 1:40 - loss: 0.0115 - acc: 0.997 - ETA: 1:37 - loss: 0.0116 - acc: 0.996 - ETA: 1:35 - loss: 0.0115 - acc: 0.996 - ETA: 1:32 - loss: 0.0114 - acc: 0.996 - ETA: 1:30 - loss: 0.0113 - acc: 0.996 - ETA: 1:28 - loss: 0.0112 - acc: 0.997 - ETA: 1:25 - loss: 0.0112 - acc: 0.997 - ETA: 1:23 - loss: 0.0111 - acc: 0.997 - ETA: 1:20 - loss: 0.0110 - acc: 0.997 - ETA: 1:18 - loss: 0.0110 - acc: 0.997 - ETA: 1:16 - loss: 0.0109 - acc: 0.997 - ETA: 1:13 - loss: 0.0109 - acc: 0.997 - ETA: 1:11 - loss: 0.0109 - acc: 0.997 - ETA: 1:09 - loss: 0.0109 - acc: 0.997 - ETA: 1:06 - loss: 0.0108 - acc: 0.997 - ETA: 1:04 - loss: 0.0108 - acc: 0.997 - ETA: 1:02 - loss: 0.0108 - acc: 0.997 - ETA: 59s - loss: 0.0107 - acc: 0.997 - ETA: 57s - loss: 0.0107 - acc: 0.99 - ETA: 55s - loss: 0.0106 - acc: 0.99 - ETA: 52s - loss: 0.0108 - acc: 0.99 - ETA: 50s - loss: 0.0111 - acc: 0.99 - ETA: 48s - loss: 0.0110 - acc: 0.99 - ETA: 45s - loss: 0.0110 - acc: 0.99 - ETA: 43s - loss: 0.0110 - acc: 0.99 - ETA: 41s - loss: 0.0111 - acc: 0.99 - ETA: 38s - loss: 0.0110 - acc: 0.99 - ETA: 36s - loss: 0.0109 - acc: 0.99 - ETA: 34s - loss: 0.0109 - acc: 0.99 - ETA: 31s - loss: 0.0108 - acc: 0.99 - ETA: 29s - loss: 0.0108 - acc: 0.99 - ETA: 27s - loss: 0.0107 - acc: 0.99 - ETA: 24s - loss: 0.0107 - acc: 0.99 - ETA: 22s - loss: 0.0106 - acc: 0.99 - ETA: 20s - loss: 0.0105 - acc: 0.99 - ETA: 17s - loss: 0.0109 - acc: 0.99 - ETA: 15s - loss: 0.0109 - acc: 0.99 - ETA: 13s - loss: 0.0108 - acc: 0.99 - ETA: 10s - loss: 0.0110 - acc: 0.99 - ETA: 8s - loss: 0.0111 - acc: 0.9968 - ETA: 6s - loss: 0.0111 - acc: 0.996 - ETA: 3s - loss: 0.0111 - acc: 0.996 - ETA: 1s - loss: 0.0110 - acc: 0.996 - 348s 37ms/step - loss: 0.0111 - acc: 0.9967 - val_loss: 0.0759 - val_acc: 0.9845\n",
      "Epoch 16/20\n",
      "9318/9318 [==============================] - ETA: 4:48 - loss: 4.9584e-04 - acc: 1.000 - ETA: 5:13 - loss: 0.0037 - acc: 1.0000    - ETA: 5:25 - loss: 0.0048 - acc: 1.000 - ETA: 5:31 - loss: 0.0046 - acc: 1.000 - ETA: 5:24 - loss: 0.0044 - acc: 1.000 - ETA: 5:21 - loss: 0.0048 - acc: 1.000 - ETA: 5:20 - loss: 0.0046 - acc: 1.000 - ETA: 5:21 - loss: 0.0055 - acc: 1.000 - ETA: 5:24 - loss: 0.0052 - acc: 1.000 - ETA: 5:25 - loss: 0.0058 - acc: 1.000 - ETA: 5:23 - loss: 0.0059 - acc: 1.000 - ETA: 5:20 - loss: 0.0073 - acc: 0.998 - ETA: 5:19 - loss: 0.0070 - acc: 0.998 - ETA: 5:14 - loss: 0.0075 - acc: 0.998 - ETA: 5:15 - loss: 0.0130 - acc: 0.997 - ETA: 5:12 - loss: 0.0123 - acc: 0.998 - ETA: 5:10 - loss: 0.0140 - acc: 0.997 - ETA: 5:09 - loss: 0.0135 - acc: 0.997 - ETA: 5:09 - loss: 0.0130 - acc: 0.997 - ETA: 5:06 - loss: 0.0127 - acc: 0.997 - ETA: 5:04 - loss: 0.0134 - acc: 0.997 - ETA: 5:02 - loss: 0.0135 - acc: 0.997 - ETA: 5:00 - loss: 0.0131 - acc: 0.998 - ETA: 4:56 - loss: 0.0132 - acc: 0.997 - ETA: 4:52 - loss: 0.0134 - acc: 0.997 - ETA: 4:50 - loss: 0.0132 - acc: 0.997 - ETA: 4:47 - loss: 0.0128 - acc: 0.997 - ETA: 4:45 - loss: 0.0124 - acc: 0.997 - ETA: 4:42 - loss: 0.0136 - acc: 0.997 - ETA: 4:39 - loss: 0.0137 - acc: 0.996 - ETA: 4:35 - loss: 0.0133 - acc: 0.997 - ETA: 4:32 - loss: 0.0129 - acc: 0.997 - ETA: 4:29 - loss: 0.0126 - acc: 0.997 - ETA: 4:26 - loss: 0.0135 - acc: 0.996 - ETA: 4:23 - loss: 0.0135 - acc: 0.996 - ETA: 4:22 - loss: 0.0137 - acc: 0.996 - ETA: 4:20 - loss: 0.0136 - acc: 0.996 - ETA: 4:16 - loss: 0.0133 - acc: 0.996 - ETA: 4:14 - loss: 0.0132 - acc: 0.996 - ETA: 4:12 - loss: 0.0137 - acc: 0.996 - ETA: 4:09 - loss: 0.0149 - acc: 0.995 - ETA: 4:06 - loss: 0.0146 - acc: 0.995 - ETA: 4:03 - loss: 0.0143 - acc: 0.996 - ETA: 4:00 - loss: 0.0141 - acc: 0.996 - ETA: 3:58 - loss: 0.0139 - acc: 0.996 - ETA: 3:56 - loss: 0.0137 - acc: 0.996 - ETA: 3:53 - loss: 0.0136 - acc: 0.996 - ETA: 3:51 - loss: 0.0134 - acc: 0.996 - ETA: 3:48 - loss: 0.0161 - acc: 0.996 - ETA: 3:46 - loss: 0.0161 - acc: 0.995 - ETA: 3:44 - loss: 0.0159 - acc: 0.996 - ETA: 3:41 - loss: 0.0156 - acc: 0.996 - ETA: 3:39 - loss: 0.0154 - acc: 0.996 - ETA: 3:36 - loss: 0.0161 - acc: 0.995 - ETA: 3:34 - loss: 0.0161 - acc: 0.995 - ETA: 3:31 - loss: 0.0160 - acc: 0.995 - ETA: 3:29 - loss: 0.0164 - acc: 0.995 - ETA: 3:27 - loss: 0.0163 - acc: 0.995 - ETA: 3:24 - loss: 0.0161 - acc: 0.995 - ETA: 3:21 - loss: 0.0162 - acc: 0.995 - ETA: 3:19 - loss: 0.0160 - acc: 0.995 - ETA: 3:17 - loss: 0.0161 - acc: 0.995 - ETA: 3:14 - loss: 0.0163 - acc: 0.995 - ETA: 3:11 - loss: 0.0161 - acc: 0.995 - ETA: 3:09 - loss: 0.0160 - acc: 0.995 - ETA: 3:06 - loss: 0.0160 - acc: 0.995 - ETA: 3:04 - loss: 0.0158 - acc: 0.995 - ETA: 3:02 - loss: 0.0160 - acc: 0.995 - ETA: 2:59 - loss: 0.0158 - acc: 0.995 - ETA: 2:57 - loss: 0.0156 - acc: 0.995 - ETA: 2:55 - loss: 0.0156 - acc: 0.995 - ETA: 2:52 - loss: 0.0154 - acc: 0.995 - ETA: 2:50 - loss: 0.0161 - acc: 0.995 - ETA: 2:47 - loss: 0.0167 - acc: 0.995 - ETA: 2:45 - loss: 0.0165 - acc: 0.995 - ETA: 2:42 - loss: 0.0164 - acc: 0.995 - ETA: 2:40 - loss: 0.0163 - acc: 0.995 - ETA: 2:38 - loss: 0.0164 - acc: 0.995 - ETA: 2:35 - loss: 0.0162 - acc: 0.995 - ETA: 2:33 - loss: 0.0163 - acc: 0.995 - ETA: 2:31 - loss: 0.0161 - acc: 0.995 - ETA: 2:28 - loss: 0.0171 - acc: 0.995 - ETA: 2:26 - loss: 0.0169 - acc: 0.995 - ETA: 2:24 - loss: 0.0168 - acc: 0.995 - ETA: 2:21 - loss: 0.0167 - acc: 0.995 - ETA: 2:19 - loss: 0.0166 - acc: 0.995 - ETA: 2:16 - loss: 0.0164 - acc: 0.995 - ETA: 2:14 - loss: 0.0165 - acc: 0.995 - ETA: 2:12 - loss: 0.0169 - acc: 0.995 - ETA: 2:09 - loss: 0.0168 - acc: 0.995 - ETA: 2:07 - loss: 0.0173 - acc: 0.994 - ETA: 2:04 - loss: 0.0194 - acc: 0.994 - ETA: 2:02 - loss: 0.0193 - acc: 0.994 - ETA: 2:00 - loss: 0.0193 - acc: 0.994 - ETA: 1:57 - loss: 0.0209 - acc: 0.993 - ETA: 1:55 - loss: 0.0213 - acc: 0.993 - ETA: 1:53 - loss: 0.0211 - acc: 0.993 - ETA: 1:50 - loss: 0.0222 - acc: 0.993 - ETA: 1:48 - loss: 0.0226 - acc: 0.992 - ETA: 1:45 - loss: 0.0225 - acc: 0.993 - ETA: 1:43 - loss: 0.0225 - acc: 0.992 - ETA: 1:41 - loss: 0.0223 - acc: 0.993 - ETA: 1:38 - loss: 0.0233 - acc: 0.992 - ETA: 1:36 - loss: 0.0238 - acc: 0.992 - ETA: 1:34 - loss: 0.0243 - acc: 0.992 - ETA: 1:31 - loss: 0.0243 - acc: 0.992 - ETA: 1:29 - loss: 0.0243 - acc: 0.992 - ETA: 1:27 - loss: 0.0247 - acc: 0.991 - ETA: 1:24 - loss: 0.0247 - acc: 0.992 - ETA: 1:22 - loss: 0.0246 - acc: 0.992 - ETA: 1:20 - loss: 0.0245 - acc: 0.992 - ETA: 1:17 - loss: 0.0260 - acc: 0.991 - ETA: 1:15 - loss: 0.0260 - acc: 0.991 - ETA: 1:13 - loss: 0.0260 - acc: 0.991 - ETA: 1:10 - loss: 0.0264 - acc: 0.991 - ETA: 1:08 - loss: 0.0266 - acc: 0.991 - ETA: 1:06 - loss: 0.0271 - acc: 0.991 - ETA: 1:03 - loss: 0.0269 - acc: 0.991 - ETA: 1:01 - loss: 0.0269 - acc: 0.991 - ETA: 59s - loss: 0.0269 - acc: 0.991 - ETA: 56s - loss: 0.0275 - acc: 0.99 - ETA: 54s - loss: 0.0273 - acc: 0.99 - ETA: 52s - loss: 0.0271 - acc: 0.99 - ETA: 50s - loss: 0.0271 - acc: 0.99 - ETA: 47s - loss: 0.0275 - acc: 0.99 - ETA: 45s - loss: 0.0279 - acc: 0.99 - ETA: 43s - loss: 0.0278 - acc: 0.99 - ETA: 40s - loss: 0.0277 - acc: 0.99 - ETA: 38s - loss: 0.0277 - acc: 0.99 - ETA: 36s - loss: 0.0284 - acc: 0.99 - ETA: 33s - loss: 0.0286 - acc: 0.99 - ETA: 31s - loss: 0.0289 - acc: 0.99 - ETA: 29s - loss: 0.0287 - acc: 0.99 - ETA: 27s - loss: 0.0291 - acc: 0.99 - ETA: 24s - loss: 0.0293 - acc: 0.99 - ETA: 22s - loss: 0.0293 - acc: 0.99 - ETA: 20s - loss: 0.0291 - acc: 0.99 - ETA: 17s - loss: 0.0292 - acc: 0.99 - ETA: 15s - loss: 0.0291 - acc: 0.99 - ETA: 13s - loss: 0.0289 - acc: 0.99 - ETA: 10s - loss: 0.0288 - acc: 0.99 - ETA: 8s - loss: 0.0288 - acc: 0.9905 - ETA: 6s - loss: 0.0286 - acc: 0.990 - ETA: 3s - loss: 0.0285 - acc: 0.990 - ETA: 1s - loss: 0.0284 - acc: 0.990 - 347s 37ms/step - loss: 0.0283 - acc: 0.9908 - val_loss: 0.0922 - val_acc: 0.9760\n",
      "Epoch 17/20\n"
     ]
    },
    {
     "name": "stdout",
     "output_type": "stream",
     "text": [
      "9318/9318 [==============================] - ETA: 5:25 - loss: 0.0261 - acc: 0.984 - ETA: 5:37 - loss: 0.0148 - acc: 0.992 - ETA: 5:36 - loss: 0.0108 - acc: 0.994 - ETA: 5:40 - loss: 0.0276 - acc: 0.988 - ETA: 5:38 - loss: 0.0404 - acc: 0.984 - ETA: 5:30 - loss: 0.0375 - acc: 0.984 - ETA: 5:28 - loss: 0.0333 - acc: 0.986 - ETA: 5:19 - loss: 0.0292 - acc: 0.988 - ETA: 5:18 - loss: 0.0265 - acc: 0.989 - ETA: 5:12 - loss: 0.0266 - acc: 0.989 - ETA: 5:09 - loss: 0.0247 - acc: 0.990 - ETA: 5:08 - loss: 0.0231 - acc: 0.990 - ETA: 5:06 - loss: 0.0218 - acc: 0.991 - ETA: 5:03 - loss: 0.0211 - acc: 0.992 - ETA: 4:58 - loss: 0.0213 - acc: 0.991 - ETA: 4:54 - loss: 0.0201 - acc: 0.992 - ETA: 4:53 - loss: 0.0201 - acc: 0.991 - ETA: 4:51 - loss: 0.0193 - acc: 0.992 - ETA: 4:49 - loss: 0.0200 - acc: 0.991 - ETA: 4:47 - loss: 0.0191 - acc: 0.992 - ETA: 4:46 - loss: 0.0184 - acc: 0.992 - ETA: 4:44 - loss: 0.0180 - acc: 0.992 - ETA: 4:41 - loss: 0.0181 - acc: 0.992 - ETA: 4:39 - loss: 0.0179 - acc: 0.992 - ETA: 4:36 - loss: 0.0174 - acc: 0.992 - ETA: 4:34 - loss: 0.0186 - acc: 0.992 - ETA: 4:31 - loss: 0.0179 - acc: 0.992 - ETA: 4:28 - loss: 0.0175 - acc: 0.992 - ETA: 4:26 - loss: 0.0174 - acc: 0.993 - ETA: 4:25 - loss: 0.0169 - acc: 0.993 - ETA: 4:22 - loss: 0.0166 - acc: 0.993 - ETA: 4:20 - loss: 0.0164 - acc: 0.993 - ETA: 4:17 - loss: 0.0166 - acc: 0.993 - ETA: 4:14 - loss: 0.0164 - acc: 0.993 - ETA: 4:12 - loss: 0.0161 - acc: 0.993 - ETA: 4:10 - loss: 0.0157 - acc: 0.993 - ETA: 4:08 - loss: 0.0153 - acc: 0.994 - ETA: 4:07 - loss: 0.0149 - acc: 0.994 - ETA: 4:05 - loss: 0.0146 - acc: 0.994 - ETA: 4:03 - loss: 0.0146 - acc: 0.994 - ETA: 4:01 - loss: 0.0143 - acc: 0.994 - ETA: 3:58 - loss: 0.0140 - acc: 0.994 - ETA: 3:56 - loss: 0.0137 - acc: 0.994 - ETA: 3:54 - loss: 0.0137 - acc: 0.994 - ETA: 3:51 - loss: 0.0134 - acc: 0.994 - ETA: 3:49 - loss: 0.0134 - acc: 0.994 - ETA: 3:47 - loss: 0.0148 - acc: 0.994 - ETA: 3:45 - loss: 0.0146 - acc: 0.994 - ETA: 3:42 - loss: 0.0144 - acc: 0.994 - ETA: 3:39 - loss: 0.0142 - acc: 0.995 - ETA: 3:37 - loss: 0.0141 - acc: 0.995 - ETA: 3:35 - loss: 0.0139 - acc: 0.995 - ETA: 3:32 - loss: 0.0143 - acc: 0.995 - ETA: 3:30 - loss: 0.0143 - acc: 0.995 - ETA: 3:28 - loss: 0.0141 - acc: 0.995 - ETA: 3:26 - loss: 0.0140 - acc: 0.995 - ETA: 3:23 - loss: 0.0138 - acc: 0.995 - ETA: 3:21 - loss: 0.0137 - acc: 0.995 - ETA: 3:19 - loss: 0.0135 - acc: 0.995 - ETA: 3:16 - loss: 0.0135 - acc: 0.995 - ETA: 3:14 - loss: 0.0134 - acc: 0.995 - ETA: 3:12 - loss: 0.0133 - acc: 0.995 - ETA: 3:09 - loss: 0.0131 - acc: 0.995 - ETA: 3:08 - loss: 0.0132 - acc: 0.995 - ETA: 3:05 - loss: 0.0131 - acc: 0.995 - ETA: 3:03 - loss: 0.0131 - acc: 0.995 - ETA: 3:01 - loss: 0.0130 - acc: 0.995 - ETA: 2:59 - loss: 0.0129 - acc: 0.995 - ETA: 2:56 - loss: 0.0128 - acc: 0.995 - ETA: 2:54 - loss: 0.0131 - acc: 0.995 - ETA: 2:52 - loss: 0.0131 - acc: 0.995 - ETA: 2:50 - loss: 0.0131 - acc: 0.995 - ETA: 2:48 - loss: 0.0130 - acc: 0.995 - ETA: 2:46 - loss: 0.0133 - acc: 0.995 - ETA: 2:44 - loss: 0.0131 - acc: 0.995 - ETA: 2:41 - loss: 0.0132 - acc: 0.995 - ETA: 2:39 - loss: 0.0131 - acc: 0.995 - ETA: 2:37 - loss: 0.0130 - acc: 0.995 - ETA: 2:35 - loss: 0.0129 - acc: 0.995 - ETA: 2:33 - loss: 0.0128 - acc: 0.995 - ETA: 2:31 - loss: 0.0129 - acc: 0.995 - ETA: 2:28 - loss: 0.0128 - acc: 0.995 - ETA: 2:26 - loss: 0.0128 - acc: 0.995 - ETA: 2:24 - loss: 0.0129 - acc: 0.995 - ETA: 2:21 - loss: 0.0128 - acc: 0.995 - ETA: 2:19 - loss: 0.0127 - acc: 0.995 - ETA: 2:17 - loss: 0.0126 - acc: 0.995 - ETA: 2:15 - loss: 0.0125 - acc: 0.995 - ETA: 2:12 - loss: 0.0124 - acc: 0.995 - ETA: 2:10 - loss: 0.0126 - acc: 0.995 - ETA: 2:08 - loss: 0.0125 - acc: 0.995 - ETA: 2:05 - loss: 0.0123 - acc: 0.995 - ETA: 2:03 - loss: 0.0122 - acc: 0.995 - ETA: 2:01 - loss: 0.0121 - acc: 0.995 - ETA: 1:58 - loss: 0.0120 - acc: 0.995 - ETA: 1:56 - loss: 0.0119 - acc: 0.995 - ETA: 1:53 - loss: 0.0119 - acc: 0.996 - ETA: 1:51 - loss: 0.0117 - acc: 0.996 - ETA: 1:49 - loss: 0.0116 - acc: 0.996 - ETA: 1:46 - loss: 0.0116 - acc: 0.996 - ETA: 1:44 - loss: 0.0115 - acc: 0.996 - ETA: 1:42 - loss: 0.0114 - acc: 0.996 - ETA: 1:39 - loss: 0.0113 - acc: 0.996 - ETA: 1:37 - loss: 0.0112 - acc: 0.996 - ETA: 1:35 - loss: 0.0112 - acc: 0.996 - ETA: 1:32 - loss: 0.0111 - acc: 0.996 - ETA: 1:30 - loss: 0.0110 - acc: 0.996 - ETA: 1:28 - loss: 0.0110 - acc: 0.996 - ETA: 1:25 - loss: 0.0110 - acc: 0.996 - ETA: 1:23 - loss: 0.0109 - acc: 0.996 - ETA: 1:21 - loss: 0.0108 - acc: 0.996 - ETA: 1:19 - loss: 0.0108 - acc: 0.996 - ETA: 1:16 - loss: 0.0107 - acc: 0.996 - ETA: 1:14 - loss: 0.0106 - acc: 0.996 - ETA: 1:11 - loss: 0.0106 - acc: 0.996 - ETA: 1:09 - loss: 0.0106 - acc: 0.996 - ETA: 1:07 - loss: 0.0105 - acc: 0.996 - ETA: 1:04 - loss: 0.0105 - acc: 0.996 - ETA: 1:02 - loss: 0.0104 - acc: 0.996 - ETA: 1:00 - loss: 0.0103 - acc: 0.996 - ETA: 57s - loss: 0.0102 - acc: 0.996 - ETA: 55s - loss: 0.0102 - acc: 0.99 - ETA: 53s - loss: 0.0107 - acc: 0.99 - ETA: 50s - loss: 0.0107 - acc: 0.99 - ETA: 48s - loss: 0.0106 - acc: 0.99 - ETA: 46s - loss: 0.0106 - acc: 0.99 - ETA: 43s - loss: 0.0106 - acc: 0.99 - ETA: 41s - loss: 0.0105 - acc: 0.99 - ETA: 39s - loss: 0.0106 - acc: 0.99 - ETA: 36s - loss: 0.0106 - acc: 0.99 - ETA: 34s - loss: 0.0106 - acc: 0.99 - ETA: 31s - loss: 0.0105 - acc: 0.99 - ETA: 29s - loss: 0.0104 - acc: 0.99 - ETA: 27s - loss: 0.0104 - acc: 0.99 - ETA: 24s - loss: 0.0103 - acc: 0.99 - ETA: 22s - loss: 0.0103 - acc: 0.99 - ETA: 20s - loss: 0.0102 - acc: 0.99 - ETA: 17s - loss: 0.0103 - acc: 0.99 - ETA: 15s - loss: 0.0102 - acc: 0.99 - ETA: 13s - loss: 0.0101 - acc: 0.99 - ETA: 10s - loss: 0.0101 - acc: 0.99 - ETA: 8s - loss: 0.0100 - acc: 0.9968 - ETA: 6s - loss: 0.0100 - acc: 0.996 - ETA: 3s - loss: 0.0099 - acc: 0.996 - ETA: 1s - loss: 0.0099 - acc: 0.996 - 345s 37ms/step - loss: 0.0099 - acc: 0.9969 - val_loss: 0.0660 - val_acc: 0.9820\n",
      "Epoch 18/20\n",
      "9318/9318 [==============================] - ETA: 5:53 - loss: 4.9444e-04 - acc: 1.000 - ETA: 5:29 - loss: 5.4868e-04 - acc: 1.000 - ETA: 5:12 - loss: 9.5154e-04 - acc: 1.000 - ETA: 5:14 - loss: 8.0271e-04 - acc: 1.000 - ETA: 5:12 - loss: 7.3145e-04 - acc: 1.000 - ETA: 5:10 - loss: 0.0013 - acc: 1.0000    - ETA: 5:14 - loss: 0.0014 - acc: 1.000 - ETA: 5:11 - loss: 0.0013 - acc: 1.000 - ETA: 5:10 - loss: 0.0015 - acc: 1.000 - ETA: 5:06 - loss: 0.0017 - acc: 1.000 - ETA: 5:04 - loss: 0.0016 - acc: 1.000 - ETA: 5:02 - loss: 0.0015 - acc: 1.000 - ETA: 5:00 - loss: 0.0015 - acc: 1.000 - ETA: 4:57 - loss: 0.0014 - acc: 1.000 - ETA: 4:55 - loss: 0.0014 - acc: 1.000 - ETA: 4:51 - loss: 0.0013 - acc: 1.000 - ETA: 4:48 - loss: 0.0013 - acc: 1.000 - ETA: 4:45 - loss: 0.0018 - acc: 1.000 - ETA: 4:42 - loss: 0.0018 - acc: 1.000 - ETA: 4:40 - loss: 0.0017 - acc: 1.000 - ETA: 4:39 - loss: 0.0018 - acc: 1.000 - ETA: 4:37 - loss: 0.0018 - acc: 1.000 - ETA: 4:35 - loss: 0.0018 - acc: 1.000 - ETA: 4:33 - loss: 0.0018 - acc: 1.000 - ETA: 4:31 - loss: 0.0018 - acc: 1.000 - ETA: 4:29 - loss: 0.0017 - acc: 1.000 - ETA: 4:26 - loss: 0.0017 - acc: 1.000 - ETA: 4:23 - loss: 0.0017 - acc: 1.000 - ETA: 4:22 - loss: 0.0017 - acc: 1.000 - ETA: 4:19 - loss: 0.0016 - acc: 1.000 - ETA: 4:18 - loss: 0.0016 - acc: 1.000 - ETA: 4:15 - loss: 0.0016 - acc: 1.000 - ETA: 4:13 - loss: 0.0015 - acc: 1.000 - ETA: 4:12 - loss: 0.0015 - acc: 1.000 - ETA: 4:10 - loss: 0.0015 - acc: 1.000 - ETA: 4:08 - loss: 0.0015 - acc: 1.000 - ETA: 4:06 - loss: 0.0014 - acc: 1.000 - ETA: 4:03 - loss: 0.0014 - acc: 1.000 - ETA: 4:01 - loss: 0.0014 - acc: 1.000 - ETA: 3:58 - loss: 0.0014 - acc: 1.000 - ETA: 3:55 - loss: 0.0013 - acc: 1.000 - ETA: 3:52 - loss: 0.0013 - acc: 1.000 - ETA: 3:50 - loss: 0.0014 - acc: 1.000 - ETA: 3:48 - loss: 0.0014 - acc: 1.000 - ETA: 3:45 - loss: 0.0014 - acc: 1.000 - ETA: 3:43 - loss: 0.0013 - acc: 1.000 - ETA: 3:41 - loss: 0.0013 - acc: 1.000 - ETA: 3:38 - loss: 0.0013 - acc: 1.000 - ETA: 3:36 - loss: 0.0013 - acc: 1.000 - ETA: 3:34 - loss: 0.0013 - acc: 1.000 - ETA: 3:32 - loss: 0.0013 - acc: 1.000 - ETA: 3:30 - loss: 0.0013 - acc: 1.000 - ETA: 3:28 - loss: 0.0013 - acc: 1.000 - ETA: 3:26 - loss: 0.0012 - acc: 1.000 - ETA: 3:24 - loss: 0.0012 - acc: 1.000 - ETA: 3:22 - loss: 0.0013 - acc: 1.000 - ETA: 3:20 - loss: 0.0013 - acc: 1.000 - ETA: 3:17 - loss: 0.0012 - acc: 1.000 - ETA: 3:15 - loss: 0.0012 - acc: 1.000 - ETA: 3:13 - loss: 0.0012 - acc: 1.000 - ETA: 3:11 - loss: 0.0012 - acc: 1.000 - ETA: 3:08 - loss: 0.0012 - acc: 1.000 - ETA: 3:06 - loss: 0.0012 - acc: 1.000 - ETA: 3:04 - loss: 0.0012 - acc: 1.000 - ETA: 3:02 - loss: 0.0013 - acc: 1.000 - ETA: 3:00 - loss: 0.0013 - acc: 1.000 - ETA: 2:58 - loss: 0.0013 - acc: 1.000 - ETA: 2:56 - loss: 0.0013 - acc: 1.000 - ETA: 2:54 - loss: 0.0013 - acc: 1.000 - ETA: 2:52 - loss: 0.0013 - acc: 1.000 - ETA: 2:50 - loss: 0.0013 - acc: 1.000 - ETA: 2:48 - loss: 0.0013 - acc: 1.000 - ETA: 2:46 - loss: 0.0013 - acc: 1.000 - ETA: 2:43 - loss: 0.0013 - acc: 1.000 - ETA: 2:41 - loss: 0.0014 - acc: 1.000 - ETA: 2:39 - loss: 0.0013 - acc: 1.000 - ETA: 2:36 - loss: 0.0013 - acc: 1.000 - ETA: 2:34 - loss: 0.0013 - acc: 1.000 - ETA: 2:32 - loss: 0.0013 - acc: 1.000 - ETA: 2:30 - loss: 0.0013 - acc: 1.000 - ETA: 2:27 - loss: 0.0013 - acc: 1.000 - ETA: 2:25 - loss: 0.0013 - acc: 1.000 - ETA: 2:23 - loss: 0.0013 - acc: 1.000 - ETA: 2:21 - loss: 0.0013 - acc: 1.000 - ETA: 2:18 - loss: 0.0013 - acc: 1.000 - ETA: 2:16 - loss: 0.0013 - acc: 1.000 - ETA: 2:14 - loss: 0.0013 - acc: 1.000 - ETA: 2:12 - loss: 0.0013 - acc: 1.000 - ETA: 2:09 - loss: 0.0013 - acc: 1.000 - ETA: 2:07 - loss: 0.0013 - acc: 1.000 - ETA: 2:05 - loss: 0.0013 - acc: 1.000 - ETA: 2:02 - loss: 0.0013 - acc: 1.000 - ETA: 2:00 - loss: 0.0013 - acc: 1.000 - ETA: 1:58 - loss: 0.0013 - acc: 1.000 - ETA: 1:56 - loss: 0.0012 - acc: 1.000 - ETA: 1:53 - loss: 0.0012 - acc: 1.000 - ETA: 1:51 - loss: 0.0012 - acc: 1.000 - ETA: 1:49 - loss: 0.0012 - acc: 1.000 - ETA: 1:47 - loss: 0.0012 - acc: 1.000 - ETA: 1:45 - loss: 0.0012 - acc: 1.000 - ETA: 1:42 - loss: 0.0012 - acc: 1.000 - ETA: 1:40 - loss: 0.0012 - acc: 1.000 - ETA: 1:38 - loss: 0.0012 - acc: 1.000 - ETA: 1:35 - loss: 0.0012 - acc: 1.000 - ETA: 1:33 - loss: 0.0012 - acc: 1.000 - ETA: 1:31 - loss: 0.0012 - acc: 1.000 - ETA: 1:29 - loss: 0.0012 - acc: 1.000 - ETA: 1:26 - loss: 0.0012 - acc: 1.000 - ETA: 1:24 - loss: 0.0012 - acc: 1.000 - ETA: 1:22 - loss: 0.0011 - acc: 1.000 - ETA: 1:19 - loss: 0.0012 - acc: 1.000 - ETA: 1:17 - loss: 0.0012 - acc: 1.000 - ETA: 1:15 - loss: 0.0013 - acc: 0.999 - ETA: 1:13 - loss: 0.0013 - acc: 0.999 - ETA: 1:10 - loss: 0.0013 - acc: 0.999 - ETA: 1:08 - loss: 0.0015 - acc: 0.999 - ETA: 1:06 - loss: 0.0015 - acc: 0.999 - ETA: 1:03 - loss: 0.0015 - acc: 0.999 - ETA: 1:01 - loss: 0.0015 - acc: 0.999 - ETA: 59s - loss: 0.0015 - acc: 0.999 - ETA: 56s - loss: 0.0015 - acc: 0.99 - ETA: 54s - loss: 0.0015 - acc: 0.99 - ETA: 52s - loss: 0.0015 - acc: 0.99 - ETA: 49s - loss: 0.0014 - acc: 0.99 - ETA: 47s - loss: 0.0014 - acc: 0.99 - ETA: 45s - loss: 0.0014 - acc: 0.99 - ETA: 42s - loss: 0.0014 - acc: 0.99 - ETA: 40s - loss: 0.0014 - acc: 0.99 - ETA: 38s - loss: 0.0015 - acc: 0.99 - ETA: 35s - loss: 0.0015 - acc: 0.99 - ETA: 33s - loss: 0.0015 - acc: 0.99 - ETA: 31s - loss: 0.0015 - acc: 0.99 - ETA: 29s - loss: 0.0015 - acc: 0.99 - ETA: 26s - loss: 0.0015 - acc: 0.99 - ETA: 24s - loss: 0.0015 - acc: 0.99 - ETA: 22s - loss: 0.0015 - acc: 0.99 - ETA: 19s - loss: 0.0015 - acc: 0.99 - ETA: 17s - loss: 0.0015 - acc: 0.99 - ETA: 15s - loss: 0.0015 - acc: 0.99 - ETA: 12s - loss: 0.0015 - acc: 0.99 - ETA: 10s - loss: 0.0015 - acc: 0.99 - ETA: 8s - loss: 0.0015 - acc: 0.9997 - ETA: 6s - loss: 0.0015 - acc: 0.999 - ETA: 3s - loss: 0.0015 - acc: 0.999 - ETA: 1s - loss: 0.0015 - acc: 0.999 - 342s 37ms/step - loss: 0.0015 - acc: 0.9997 - val_loss: 0.0775 - val_acc: 0.9807\n",
      "Epoch 19/20\n"
     ]
    },
    {
     "name": "stdout",
     "output_type": "stream",
     "text": [
      "9318/9318 [==============================] - ETA: 5:41 - loss: 2.9735e-04 - acc: 1.000 - ETA: 5:47 - loss: 0.0065 - acc: 0.9922    - ETA: 5:53 - loss: 0.0097 - acc: 0.989 - ETA: 5:45 - loss: 0.0074 - acc: 0.992 - ETA: 5:38 - loss: 0.0066 - acc: 0.993 - ETA: 5:42 - loss: 0.0059 - acc: 0.994 - ETA: 5:37 - loss: 0.0051 - acc: 0.995 - ETA: 5:35 - loss: 0.0045 - acc: 0.996 - ETA: 5:37 - loss: 0.0041 - acc: 0.996 - ETA: 5:34 - loss: 0.0038 - acc: 0.996 - ETA: 5:31 - loss: 0.0070 - acc: 0.995 - ETA: 5:26 - loss: 0.0064 - acc: 0.996 - ETA: 5:24 - loss: 0.0060 - acc: 0.996 - ETA: 5:20 - loss: 0.0058 - acc: 0.996 - ETA: 5:18 - loss: 0.0054 - acc: 0.996 - ETA: 5:18 - loss: 0.0051 - acc: 0.997 - ETA: 5:13 - loss: 0.0048 - acc: 0.997 - ETA: 5:11 - loss: 0.0046 - acc: 0.997 - ETA: 5:07 - loss: 0.0044 - acc: 0.997 - ETA: 5:05 - loss: 0.0042 - acc: 0.997 - ETA: 5:04 - loss: 0.0041 - acc: 0.997 - ETA: 5:04 - loss: 0.0040 - acc: 0.997 - ETA: 5:01 - loss: 0.0039 - acc: 0.998 - ETA: 4:57 - loss: 0.0038 - acc: 0.998 - ETA: 4:56 - loss: 0.0037 - acc: 0.998 - ETA: 4:53 - loss: 0.0042 - acc: 0.998 - ETA: 4:49 - loss: 0.0041 - acc: 0.998 - ETA: 4:45 - loss: 0.0040 - acc: 0.998 - ETA: 4:42 - loss: 0.0042 - acc: 0.998 - ETA: 4:39 - loss: 0.0040 - acc: 0.998 - ETA: 4:36 - loss: 0.0040 - acc: 0.998 - ETA: 4:34 - loss: 0.0039 - acc: 0.998 - ETA: 4:31 - loss: 0.0038 - acc: 0.998 - ETA: 4:29 - loss: 0.0037 - acc: 0.998 - ETA: 4:27 - loss: 0.0036 - acc: 0.998 - ETA: 4:25 - loss: 0.0035 - acc: 0.998 - ETA: 4:21 - loss: 0.0034 - acc: 0.998 - ETA: 4:18 - loss: 0.0033 - acc: 0.998 - ETA: 4:15 - loss: 0.0033 - acc: 0.998 - ETA: 4:13 - loss: 0.0032 - acc: 0.998 - ETA: 4:10 - loss: 0.0032 - acc: 0.998 - ETA: 4:07 - loss: 0.0032 - acc: 0.998 - ETA: 4:04 - loss: 0.0032 - acc: 0.998 - ETA: 4:02 - loss: 0.0031 - acc: 0.998 - ETA: 4:00 - loss: 0.0031 - acc: 0.999 - ETA: 3:59 - loss: 0.0030 - acc: 0.999 - ETA: 3:57 - loss: 0.0030 - acc: 0.999 - ETA: 3:55 - loss: 0.0029 - acc: 0.999 - ETA: 3:53 - loss: 0.0028 - acc: 0.999 - ETA: 3:50 - loss: 0.0028 - acc: 0.999 - ETA: 3:48 - loss: 0.0028 - acc: 0.999 - ETA: 3:45 - loss: 0.0027 - acc: 0.999 - ETA: 3:43 - loss: 0.0027 - acc: 0.999 - ETA: 3:40 - loss: 0.0026 - acc: 0.999 - ETA: 3:38 - loss: 0.0026 - acc: 0.999 - ETA: 3:36 - loss: 0.0026 - acc: 0.999 - ETA: 3:33 - loss: 0.0025 - acc: 0.999 - ETA: 3:31 - loss: 0.0025 - acc: 0.999 - ETA: 3:28 - loss: 0.0025 - acc: 0.999 - ETA: 3:26 - loss: 0.0024 - acc: 0.999 - ETA: 3:23 - loss: 0.0024 - acc: 0.999 - ETA: 3:21 - loss: 0.0024 - acc: 0.999 - ETA: 3:18 - loss: 0.0024 - acc: 0.999 - ETA: 3:16 - loss: 0.0023 - acc: 0.999 - ETA: 3:13 - loss: 0.0023 - acc: 0.999 - ETA: 3:11 - loss: 0.0023 - acc: 0.999 - ETA: 3:08 - loss: 0.0023 - acc: 0.999 - ETA: 3:06 - loss: 0.0023 - acc: 0.999 - ETA: 3:03 - loss: 0.0023 - acc: 0.999 - ETA: 3:01 - loss: 0.0022 - acc: 0.999 - ETA: 2:58 - loss: 0.0022 - acc: 0.999 - ETA: 2:56 - loss: 0.0022 - acc: 0.999 - ETA: 2:53 - loss: 0.0022 - acc: 0.999 - ETA: 2:51 - loss: 0.0022 - acc: 0.999 - ETA: 2:49 - loss: 0.0022 - acc: 0.999 - ETA: 2:46 - loss: 0.0022 - acc: 0.999 - ETA: 2:44 - loss: 0.0022 - acc: 0.999 - ETA: 2:41 - loss: 0.0021 - acc: 0.999 - ETA: 2:39 - loss: 0.0021 - acc: 0.999 - ETA: 2:36 - loss: 0.0021 - acc: 0.999 - ETA: 2:34 - loss: 0.0021 - acc: 0.999 - ETA: 2:31 - loss: 0.0020 - acc: 0.999 - ETA: 2:29 - loss: 0.0020 - acc: 0.999 - ETA: 2:27 - loss: 0.0020 - acc: 0.999 - ETA: 2:24 - loss: 0.0020 - acc: 0.999 - ETA: 2:22 - loss: 0.0020 - acc: 0.999 - ETA: 2:19 - loss: 0.0020 - acc: 0.999 - ETA: 2:17 - loss: 0.0020 - acc: 0.999 - ETA: 2:15 - loss: 0.0019 - acc: 0.999 - ETA: 2:12 - loss: 0.0019 - acc: 0.999 - ETA: 2:10 - loss: 0.0019 - acc: 0.999 - ETA: 2:07 - loss: 0.0019 - acc: 0.999 - ETA: 2:05 - loss: 0.0019 - acc: 0.999 - ETA: 2:02 - loss: 0.0019 - acc: 0.999 - ETA: 2:00 - loss: 0.0019 - acc: 0.999 - ETA: 1:57 - loss: 0.0018 - acc: 0.999 - ETA: 1:55 - loss: 0.0018 - acc: 0.999 - ETA: 1:53 - loss: 0.0018 - acc: 0.999 - ETA: 1:50 - loss: 0.0018 - acc: 0.999 - ETA: 1:48 - loss: 0.0018 - acc: 0.999 - ETA: 1:45 - loss: 0.0018 - acc: 0.999 - ETA: 1:43 - loss: 0.0018 - acc: 0.999 - ETA: 1:40 - loss: 0.0017 - acc: 0.999 - ETA: 1:38 - loss: 0.0017 - acc: 0.999 - ETA: 1:35 - loss: 0.0017 - acc: 0.999 - ETA: 1:33 - loss: 0.0017 - acc: 0.999 - ETA: 1:31 - loss: 0.0017 - acc: 0.999 - ETA: 1:28 - loss: 0.0017 - acc: 0.999 - ETA: 1:26 - loss: 0.0017 - acc: 0.999 - ETA: 1:23 - loss: 0.0017 - acc: 0.999 - ETA: 1:21 - loss: 0.0017 - acc: 0.999 - ETA: 1:19 - loss: 0.0017 - acc: 0.999 - ETA: 1:16 - loss: 0.0017 - acc: 0.999 - ETA: 1:14 - loss: 0.0016 - acc: 0.999 - ETA: 1:12 - loss: 0.0017 - acc: 0.999 - ETA: 1:09 - loss: 0.0017 - acc: 0.999 - ETA: 1:07 - loss: 0.0018 - acc: 0.999 - ETA: 1:05 - loss: 0.0018 - acc: 0.999 - ETA: 1:02 - loss: 0.0018 - acc: 0.999 - ETA: 1:00 - loss: 0.0018 - acc: 0.999 - ETA: 57s - loss: 0.0018 - acc: 0.999 - ETA: 55s - loss: 0.0018 - acc: 0.99 - ETA: 53s - loss: 0.0018 - acc: 0.99 - ETA: 50s - loss: 0.0021 - acc: 0.99 - ETA: 48s - loss: 0.0020 - acc: 0.99 - ETA: 46s - loss: 0.0020 - acc: 0.99 - ETA: 43s - loss: 0.0020 - acc: 0.99 - ETA: 41s - loss: 0.0020 - acc: 0.99 - ETA: 39s - loss: 0.0020 - acc: 0.99 - ETA: 36s - loss: 0.0022 - acc: 0.99 - ETA: 34s - loss: 0.0021 - acc: 0.99 - ETA: 32s - loss: 0.0022 - acc: 0.99 - ETA: 29s - loss: 0.0023 - acc: 0.99 - ETA: 27s - loss: 0.0023 - acc: 0.99 - ETA: 24s - loss: 0.0024 - acc: 0.99 - ETA: 22s - loss: 0.0023 - acc: 0.99 - ETA: 20s - loss: 0.0023 - acc: 0.99 - ETA: 17s - loss: 0.0023 - acc: 0.99 - ETA: 15s - loss: 0.0023 - acc: 0.99 - ETA: 13s - loss: 0.0023 - acc: 0.99 - ETA: 10s - loss: 0.0023 - acc: 0.99 - ETA: 8s - loss: 0.0024 - acc: 0.9992 - ETA: 6s - loss: 0.0026 - acc: 0.999 - ETA: 3s - loss: 0.0026 - acc: 0.999 - ETA: 1s - loss: 0.0026 - acc: 0.999 - 349s 37ms/step - loss: 0.0026 - acc: 0.9990 - val_loss: 0.0819 - val_acc: 0.9815\n",
      "Epoch 20/20\n",
      "9318/9318 [==============================] - ETA: 5:46 - loss: 4.5254e-04 - acc: 1.000 - ETA: 5:47 - loss: 0.0055 - acc: 1.0000    - ETA: 5:36 - loss: 0.0041 - acc: 1.000 - ETA: 5:26 - loss: 0.0044 - acc: 1.000 - ETA: 5:24 - loss: 0.0039 - acc: 1.000 - ETA: 5:29 - loss: 0.0039 - acc: 1.000 - ETA: 5:32 - loss: 0.0114 - acc: 0.995 - ETA: 5:29 - loss: 0.0124 - acc: 0.994 - ETA: 5:31 - loss: 0.0131 - acc: 0.993 - ETA: 5:31 - loss: 0.0121 - acc: 0.993 - ETA: 5:32 - loss: 0.0112 - acc: 0.994 - ETA: 5:28 - loss: 0.0146 - acc: 0.993 - ETA: 5:24 - loss: 0.0138 - acc: 0.994 - ETA: 5:23 - loss: 0.0142 - acc: 0.994 - ETA: 5:20 - loss: 0.0139 - acc: 0.994 - ETA: 5:17 - loss: 0.0132 - acc: 0.995 - ETA: 5:13 - loss: 0.0125 - acc: 0.995 - ETA: 5:09 - loss: 0.0118 - acc: 0.995 - ETA: 5:07 - loss: 0.0115 - acc: 0.995 - ETA: 5:04 - loss: 0.0111 - acc: 0.996 - ETA: 5:02 - loss: 0.0106 - acc: 0.996 - ETA: 4:58 - loss: 0.0104 - acc: 0.996 - ETA: 4:57 - loss: 0.0107 - acc: 0.996 - ETA: 4:56 - loss: 0.0103 - acc: 0.996 - ETA: 4:53 - loss: 0.0100 - acc: 0.996 - ETA: 4:50 - loss: 0.0098 - acc: 0.997 - ETA: 4:47 - loss: 0.0095 - acc: 0.997 - ETA: 4:44 - loss: 0.0093 - acc: 0.997 - ETA: 4:40 - loss: 0.0093 - acc: 0.997 - ETA: 4:37 - loss: 0.0091 - acc: 0.997 - ETA: 4:34 - loss: 0.0089 - acc: 0.997 - ETA: 4:31 - loss: 0.0086 - acc: 0.997 - ETA: 4:28 - loss: 0.0084 - acc: 0.997 - ETA: 4:25 - loss: 0.0082 - acc: 0.997 - ETA: 4:23 - loss: 0.0087 - acc: 0.997 - ETA: 4:21 - loss: 0.0085 - acc: 0.997 - ETA: 4:18 - loss: 0.0083 - acc: 0.997 - ETA: 4:14 - loss: 0.0082 - acc: 0.997 - ETA: 4:12 - loss: 0.0082 - acc: 0.997 - ETA: 4:10 - loss: 0.0097 - acc: 0.996 - ETA: 4:07 - loss: 0.0095 - acc: 0.996 - ETA: 4:06 - loss: 0.0093 - acc: 0.996 - ETA: 4:03 - loss: 0.0091 - acc: 0.996 - ETA: 4:01 - loss: 0.0089 - acc: 0.996 - ETA: 3:58 - loss: 0.0088 - acc: 0.996 - ETA: 3:56 - loss: 0.0088 - acc: 0.996 - ETA: 3:53 - loss: 0.0087 - acc: 0.997 - ETA: 3:50 - loss: 0.0094 - acc: 0.996 - ETA: 3:48 - loss: 0.0094 - acc: 0.996 - ETA: 3:45 - loss: 0.0092 - acc: 0.996 - ETA: 3:43 - loss: 0.0091 - acc: 0.996 - ETA: 3:40 - loss: 0.0092 - acc: 0.996 - ETA: 3:37 - loss: 0.0092 - acc: 0.996 - ETA: 3:35 - loss: 0.0095 - acc: 0.996 - ETA: 3:33 - loss: 0.0097 - acc: 0.996 - ETA: 3:30 - loss: 0.0095 - acc: 0.996 - ETA: 3:27 - loss: 0.0096 - acc: 0.996 - ETA: 3:25 - loss: 0.0101 - acc: 0.996 - ETA: 3:22 - loss: 0.0102 - acc: 0.996 - ETA: 3:21 - loss: 0.0104 - acc: 0.996 - ETA: 3:19 - loss: 0.0103 - acc: 0.996 - ETA: 3:16 - loss: 0.0101 - acc: 0.996 - ETA: 3:14 - loss: 0.0100 - acc: 0.996 - ETA: 3:12 - loss: 0.0099 - acc: 0.996 - ETA: 3:10 - loss: 0.0098 - acc: 0.996 - ETA: 3:08 - loss: 0.0097 - acc: 0.996 - ETA: 3:05 - loss: 0.0096 - acc: 0.996 - ETA: 3:03 - loss: 0.0098 - acc: 0.996 - ETA: 3:00 - loss: 0.0099 - acc: 0.996 - ETA: 2:58 - loss: 0.0099 - acc: 0.996 - ETA: 2:55 - loss: 0.0098 - acc: 0.996 - ETA: 2:53 - loss: 0.0097 - acc: 0.996 - ETA: 2:51 - loss: 0.0096 - acc: 0.996 - ETA: 2:49 - loss: 0.0098 - acc: 0.996 - ETA: 2:47 - loss: 0.0098 - acc: 0.996 - ETA: 2:44 - loss: 0.0097 - acc: 0.996 - ETA: 2:42 - loss: 0.0096 - acc: 0.996 - ETA: 2:40 - loss: 0.0095 - acc: 0.996 - ETA: 2:37 - loss: 0.0095 - acc: 0.996 - ETA: 2:35 - loss: 0.0096 - acc: 0.996 - ETA: 2:33 - loss: 0.0095 - acc: 0.996 - ETA: 2:30 - loss: 0.0095 - acc: 0.996 - ETA: 2:27 - loss: 0.0094 - acc: 0.996 - ETA: 2:25 - loss: 0.0093 - acc: 0.996 - ETA: 2:22 - loss: 0.0092 - acc: 0.996 - ETA: 2:20 - loss: 0.0091 - acc: 0.996 - ETA: 2:18 - loss: 0.0090 - acc: 0.996 - ETA: 2:16 - loss: 0.0090 - acc: 0.996 - ETA: 2:13 - loss: 0.0089 - acc: 0.996 - ETA: 2:11 - loss: 0.0091 - acc: 0.996 - ETA: 2:09 - loss: 0.0090 - acc: 0.996 - ETA: 2:06 - loss: 0.0089 - acc: 0.996 - ETA: 2:04 - loss: 0.0089 - acc: 0.996 - ETA: 2:01 - loss: 0.0088 - acc: 0.996 - ETA: 1:59 - loss: 0.0087 - acc: 0.996 - ETA: 1:56 - loss: 0.0086 - acc: 0.996 - ETA: 1:54 - loss: 0.0085 - acc: 0.996 - ETA: 1:52 - loss: 0.0085 - acc: 0.997 - ETA: 1:49 - loss: 0.0085 - acc: 0.997 - ETA: 1:47 - loss: 0.0090 - acc: 0.996 - ETA: 1:45 - loss: 0.0089 - acc: 0.996 - ETA: 1:42 - loss: 0.0088 - acc: 0.996 - ETA: 1:40 - loss: 0.0088 - acc: 0.997 - ETA: 1:38 - loss: 0.0088 - acc: 0.997 - ETA: 1:35 - loss: 0.0087 - acc: 0.997 - ETA: 1:33 - loss: 0.0086 - acc: 0.997 - ETA: 1:31 - loss: 0.0086 - acc: 0.997 - ETA: 1:28 - loss: 0.0093 - acc: 0.997 - ETA: 1:26 - loss: 0.0093 - acc: 0.997 - ETA: 1:23 - loss: 0.0092 - acc: 0.997 - ETA: 1:21 - loss: 0.0092 - acc: 0.997 - ETA: 1:19 - loss: 0.0091 - acc: 0.997 - ETA: 1:16 - loss: 0.0091 - acc: 0.997 - ETA: 1:14 - loss: 0.0092 - acc: 0.997 - ETA: 1:12 - loss: 0.0091 - acc: 0.997 - ETA: 1:09 - loss: 0.0096 - acc: 0.996 - ETA: 1:07 - loss: 0.0095 - acc: 0.996 - ETA: 1:05 - loss: 0.0096 - acc: 0.996 - ETA: 1:02 - loss: 0.0096 - acc: 0.996 - ETA: 1:00 - loss: 0.0095 - acc: 0.996 - ETA: 58s - loss: 0.0097 - acc: 0.996 - ETA: 55s - loss: 0.0099 - acc: 0.99 - ETA: 53s - loss: 0.0098 - acc: 0.99 - ETA: 51s - loss: 0.0097 - acc: 0.99 - ETA: 48s - loss: 0.0101 - acc: 0.99 - ETA: 46s - loss: 0.0101 - acc: 0.99 - ETA: 44s - loss: 0.0101 - acc: 0.99 - ETA: 41s - loss: 0.0101 - acc: 0.99 - ETA: 39s - loss: 0.0101 - acc: 0.99 - ETA: 36s - loss: 0.0101 - acc: 0.99 - ETA: 34s - loss: 0.0101 - acc: 0.99 - ETA: 32s - loss: 0.0100 - acc: 0.99 - ETA: 29s - loss: 0.0100 - acc: 0.99 - ETA: 27s - loss: 0.0099 - acc: 0.99 - ETA: 25s - loss: 0.0099 - acc: 0.99 - ETA: 22s - loss: 0.0099 - acc: 0.99 - ETA: 20s - loss: 0.0099 - acc: 0.99 - ETA: 17s - loss: 0.0098 - acc: 0.99 - ETA: 15s - loss: 0.0098 - acc: 0.99 - ETA: 13s - loss: 0.0101 - acc: 0.99 - ETA: 10s - loss: 0.0100 - acc: 0.99 - ETA: 8s - loss: 0.0100 - acc: 0.9968 - ETA: 6s - loss: 0.0099 - acc: 0.996 - ETA: 3s - loss: 0.0099 - acc: 0.996 - ETA: 1s - loss: 0.0098 - acc: 0.996 - 349s 38ms/step - loss: 0.0099 - acc: 0.9969 - val_loss: 0.0874 - val_acc: 0.9811\n"
     ]
    }
   ],
   "source": [
    "abcd_trained=fashion_model.fit(train_X, train_label, batch_size=batch_size,epochs=epochs,verbose=1,validation_data=(valid_X, valid_label))"
   ]
  },
  {
   "cell_type": "code",
   "execution_count": 20,
   "metadata": {},
   "outputs": [],
   "source": [
    "fashion_model.save('pandeyji.h5')"
   ]
  },
  {
   "cell_type": "code",
   "execution_count": 21,
   "metadata": {},
   "outputs": [],
   "source": [
    "from keras.models import load_model"
   ]
  },
  {
   "cell_type": "code",
   "execution_count": 22,
   "metadata": {},
   "outputs": [],
   "source": [
    "new_model=load_model('pandeyji.h5')"
   ]
  },
  {
   "cell_type": "code",
   "execution_count": 23,
   "metadata": {},
   "outputs": [
    {
     "data": {
      "text/plain": [
       "[array([[[[-0.06362037, -0.03901031, -0.02727143, -0.01663933,\n",
       "            0.05726433, -0.11032622, -0.02150686, -0.01486039,\n",
       "           -0.13918911,  0.13275573, -0.14361756, -0.01570631,\n",
       "           -0.10831413, -0.0174714 ,  0.07923436, -0.06569421,\n",
       "            0.01798649,  0.0297386 ,  0.04909823,  0.10599708,\n",
       "           -0.10303726, -0.12285148,  0.1479142 , -0.06029605,\n",
       "            0.09360404,  0.11788531,  0.07585616, -0.08997155,\n",
       "           -0.02139787,  0.17457283, -0.11829886,  0.10776395]],\n",
       " \n",
       "         [[ 0.12796934,  0.13928275,  0.07061077, -0.06289802,\n",
       "            0.09667455, -0.03177198, -0.04841337,  0.12993573,\n",
       "           -0.15367626, -0.05886037, -0.12735716, -0.04040945,\n",
       "            0.11106958,  0.1975526 ,  0.11558375, -0.11763798,\n",
       "            0.13717142,  0.07912461,  0.14008601,  0.11023796,\n",
       "           -0.12348578,  0.15147132, -0.12602693, -0.00649756,\n",
       "           -0.16191842,  0.02978387, -0.05016026, -0.02722028,\n",
       "           -0.03580908, -0.00283042,  0.1468897 ,  0.00074311]],\n",
       " \n",
       "         [[-0.04134351, -0.13787043,  0.047721  , -0.09297815,\n",
       "            0.11922441, -0.00207629,  0.05155967,  0.03654813,\n",
       "           -0.14508662,  0.07929047,  0.06592362, -0.14423865,\n",
       "            0.18255547,  0.03589268, -0.01212141, -0.05032588,\n",
       "           -0.04537027,  0.05412229,  0.09613796, -0.10834228,\n",
       "           -0.07604685, -0.08368738,  0.04095413, -0.04722249,\n",
       "           -0.10020556,  0.06912701,  0.17616794, -0.03613041,\n",
       "           -0.06536886, -0.01740839, -0.02493004, -0.13487731]]],\n",
       " \n",
       " \n",
       "        [[[ 0.00514301,  0.144321  ,  0.12050352,  0.0583833 ,\n",
       "           -0.00200953, -0.08687187,  0.1372462 ,  0.12090697,\n",
       "           -0.06476366,  0.11060618, -0.10868293,  0.0841189 ,\n",
       "           -0.13068774, -0.20941807,  0.06799512, -0.13159601,\n",
       "           -0.12937891, -0.07664299,  0.09767618,  0.03398392,\n",
       "           -0.14002855, -0.08230376,  0.08444733, -0.02686253,\n",
       "           -0.12707657,  0.05317768, -0.18599677, -0.13153048,\n",
       "           -0.17554417,  0.20625357, -0.04788835,  0.08764782]],\n",
       " \n",
       "         [[-0.15739588,  0.09248622, -0.07067713, -0.03659675,\n",
       "            0.03563311, -0.05677101, -0.13815506, -0.10462587,\n",
       "           -0.0862274 ,  0.13932857,  0.09862293, -0.04505993,\n",
       "           -0.13679881, -0.08532196, -0.02106156,  0.09471471,\n",
       "            0.12792408,  0.05968688, -0.01189677,  0.02186693,\n",
       "            0.09264532, -0.13083471, -0.11907978, -0.13214114,\n",
       "           -0.02047791, -0.12295855, -0.01253213,  0.1171436 ,\n",
       "            0.08083067,  0.01968276,  0.1163019 ,  0.01233298]],\n",
       " \n",
       "         [[ 0.07472975,  0.05156726,  0.05909605, -0.11635101,\n",
       "            0.09974285,  0.09324174, -0.11092151,  0.10215474,\n",
       "           -0.13317305,  0.03587497, -0.13364802, -0.14100043,\n",
       "            0.16748297, -0.07171115,  0.13369843,  0.12043986,\n",
       "           -0.10592078,  0.10339014,  0.11169941, -0.16536665,\n",
       "           -0.17435353,  0.1275323 , -0.03894021, -0.0126968 ,\n",
       "            0.05140933,  0.10604119,  0.02495876,  0.08029621,\n",
       "            0.0918743 , -0.13753021, -0.15688285,  0.02351099]]],\n",
       " \n",
       " \n",
       "        [[[-0.0307998 ,  0.08340213,  0.00363407, -0.08029521,\n",
       "            0.02738635,  0.14657354,  0.06612376, -0.10337716,\n",
       "            0.03429174, -0.02821276,  0.1232782 ,  0.07884492,\n",
       "           -0.00208111, -0.05431201,  0.06012072,  0.04525936,\n",
       "           -0.02937056, -0.00253982,  0.12083691,  0.10982776,\n",
       "            0.04765861, -0.05518235, -0.10192868, -0.01527866,\n",
       "            0.0333916 , -0.01566878, -0.08697589,  0.08264295,\n",
       "            0.05932827,  0.03767908,  0.03522549, -0.10102496]],\n",
       " \n",
       "         [[-0.05684749,  0.1728332 , -0.04185449,  0.14686391,\n",
       "           -0.09794353,  0.14594443, -0.01258266, -0.12147233,\n",
       "           -0.07887894,  0.13936885,  0.02081439,  0.09862596,\n",
       "           -0.071816  , -0.00732676,  0.13884333,  0.04419262,\n",
       "           -0.06887381, -0.09596307,  0.00610982,  0.13231884,\n",
       "           -0.13502836,  0.05727442,  0.09808692, -0.00879523,\n",
       "            0.16698334,  0.11623412,  0.06852277,  0.02162657,\n",
       "           -0.20611005, -0.00258187,  0.09390667, -0.1556667 ]],\n",
       " \n",
       "         [[ 0.08104037,  0.1474669 ,  0.11901458,  0.1452219 ,\n",
       "           -0.11505184, -0.14080064,  0.00088924, -0.03442701,\n",
       "            0.21035267, -0.12563518,  0.11834335,  0.12407628,\n",
       "           -0.01841768, -0.10531093, -0.12423711, -0.02457124,\n",
       "            0.02463242, -0.09831966, -0.08401227,  0.08293458,\n",
       "            0.1411314 ,  0.18250172, -0.05918684, -0.03784596,\n",
       "            0.17334302,  0.01975204,  0.01499318, -0.10040966,\n",
       "            0.1516715 , -0.08989832, -0.02787992,  0.10626514]]]],\n",
       "       dtype=float32),\n",
       " array([ 0.03926441, -0.10065875, -0.12460218,  0.02327918, -0.07127059,\n",
       "         0.01847627,  0.05923465,  0.0121354 ,  0.12747774, -0.0748463 ,\n",
       "        -0.00763249,  0.00505527,  0.02379777,  0.06705994, -0.06405669,\n",
       "         0.05756469,  0.05736199, -0.02332889, -0.11854307, -0.1059652 ,\n",
       "         0.09609382, -0.01958278,  0.06241857,  0.11092371, -0.05552586,\n",
       "        -0.10794717, -0.00532912,  0.05741204, -0.01742605, -0.05516961,\n",
       "        -0.02034822,  0.04058764], dtype=float32),\n",
       " array([[[[-0.08556356,  0.16588962, -0.10835893, ...,  0.00720941,\n",
       "            0.01461612, -0.02728946],\n",
       "          [-0.07182682, -0.04250825,  0.08643514, ..., -0.05846037,\n",
       "           -0.01375946,  0.03362468],\n",
       "          [ 0.00857702,  0.0075082 ,  0.0828371 , ..., -0.05080842,\n",
       "           -0.01316005, -0.04573857],\n",
       "          ...,\n",
       "          [ 0.05654019,  0.07712064,  0.06179995, ..., -0.08556852,\n",
       "            0.05147361, -0.04507529],\n",
       "          [-0.01187147,  0.13884145, -0.08362724, ..., -0.08257725,\n",
       "            0.06818883, -0.1501325 ],\n",
       "          [ 0.05383791,  0.11443134, -0.09370244, ...,  0.02243657,\n",
       "           -0.0612834 , -0.04457143]],\n",
       " \n",
       "         [[-0.07259256,  0.19131215, -0.01209568, ...,  0.03274773,\n",
       "            0.07980727,  0.10543548],\n",
       "          [ 0.01485585, -0.0186071 , -0.05087972, ...,  0.05308592,\n",
       "            0.0051707 , -0.02723837],\n",
       "          [-0.01906743,  0.01979258,  0.00559736, ..., -0.06209474,\n",
       "            0.05441456, -0.02211523],\n",
       "          ...,\n",
       "          [ 0.05843353,  0.04172596,  0.0850289 , ...,  0.02296353,\n",
       "            0.0839833 , -0.06606654],\n",
       "          [ 0.15348576,  0.04322032, -0.05222176, ..., -0.03141657,\n",
       "           -0.06553862,  0.00229538],\n",
       "          [-0.05950038,  0.03204966,  0.05214288, ..., -0.07454146,\n",
       "           -0.03183847, -0.05350737]],\n",
       " \n",
       "         [[-0.06907485,  0.0242964 , -0.14007404, ...,  0.10478342,\n",
       "            0.01441747,  0.03403549],\n",
       "          [-0.03961943, -0.04337091,  0.08984153, ..., -0.0826216 ,\n",
       "           -0.00969744, -0.00710408],\n",
       "          [ 0.07730091, -0.06693756, -0.00152469, ...,  0.0234162 ,\n",
       "           -0.06988603,  0.08474529],\n",
       "          ...,\n",
       "          [ 0.0699863 ,  0.04450636,  0.02936326, ...,  0.01347986,\n",
       "           -0.01343256, -0.01088356],\n",
       "          [-0.02251075, -0.0227177 ,  0.10312172, ...,  0.04226392,\n",
       "           -0.0272042 , -0.06257249],\n",
       "          [-0.00475044,  0.07606387,  0.05541922, ...,  0.06206644,\n",
       "            0.01286533,  0.0643865 ]]],\n",
       " \n",
       " \n",
       "        [[[ 0.07652781,  0.09847548, -0.05701836, ..., -0.00505834,\n",
       "            0.08282388,  0.01663539],\n",
       "          [-0.06856392, -0.00406695, -0.00851437, ...,  0.05056785,\n",
       "            0.06783126, -0.09419869],\n",
       "          [-0.02082507, -0.06901697, -0.00941777, ..., -0.01189754,\n",
       "           -0.02175779,  0.05771741],\n",
       "          ...,\n",
       "          [-0.0662524 ,  0.01230633,  0.00132699, ..., -0.01433304,\n",
       "            0.07493193, -0.04286085],\n",
       "          [-0.14415777,  0.21312976, -0.02904829, ..., -0.03508257,\n",
       "           -0.00770117,  0.01264462],\n",
       "          [-0.04293085,  0.00367531,  0.00925357, ...,  0.00964951,\n",
       "           -0.01520223, -0.08117237]],\n",
       " \n",
       "         [[-0.11205016,  0.00913549,  0.02298734, ...,  0.09090652,\n",
       "            0.09191784,  0.11288852],\n",
       "          [ 0.0187654 ,  0.04189902,  0.05755366, ..., -0.03113036,\n",
       "            0.026128  ,  0.05017849],\n",
       "          [ 0.0899222 , -0.03723539,  0.08614399, ..., -0.07508317,\n",
       "           -0.0346256 , -0.02191345],\n",
       "          ...,\n",
       "          [ 0.02903915, -0.07393359,  0.08000216, ...,  0.00462593,\n",
       "            0.09795742, -0.05493201],\n",
       "          [ 0.12898856,  0.12249156, -0.11983334, ...,  0.06853066,\n",
       "           -0.00149189,  0.03378928],\n",
       "          [-0.09263787, -0.11119347, -0.03927239, ...,  0.03837921,\n",
       "            0.03283877,  0.04013371]],\n",
       " \n",
       "         [[ 0.05246267, -0.00968195,  0.02853118, ...,  0.04250271,\n",
       "            0.01112741, -0.0106726 ],\n",
       "          [ 0.01624663, -0.0588699 , -0.03319165, ...,  0.04919386,\n",
       "           -0.08629663,  0.02177587],\n",
       "          [ 0.04550311, -0.05722375,  0.00642508, ...,  0.05161492,\n",
       "            0.05459967,  0.04840769],\n",
       "          ...,\n",
       "          [ 0.09798846, -0.02881141,  0.08897346, ..., -0.07684531,\n",
       "           -0.07464767,  0.00478396],\n",
       "          [ 0.10107293, -0.00976675,  0.01448741, ...,  0.08151182,\n",
       "           -0.06440292,  0.09256065],\n",
       "          [ 0.00088626, -0.01749665,  0.07111283, ..., -0.01063818,\n",
       "            0.02097435,  0.08233236]]],\n",
       " \n",
       " \n",
       "        [[[-0.02201672, -0.11974277,  0.08595721, ...,  0.09027847,\n",
       "           -0.00945919,  0.08511282],\n",
       "          [-0.03054196,  0.06734535, -0.00757328, ..., -0.02138172,\n",
       "           -0.06563717, -0.02998435],\n",
       "          [ 0.06766679,  0.10468879,  0.0779786 , ...,  0.05975305,\n",
       "           -0.06852485, -0.00516649],\n",
       "          ...,\n",
       "          [-0.06747481, -0.0763854 ,  0.06941317, ...,  0.06719765,\n",
       "            0.0244361 , -0.06485716],\n",
       "          [-0.03712936,  0.07890339, -0.0605352 , ..., -0.01776158,\n",
       "            0.08462895, -0.04494954],\n",
       "          [-0.05906229, -0.10099023, -0.07304338, ...,  0.07277773,\n",
       "           -0.01192803,  0.0380672 ]],\n",
       " \n",
       "         [[-0.07818697, -0.15110539,  0.02335077, ...,  0.02627839,\n",
       "            0.00812411,  0.12665647],\n",
       "          [ 0.0657637 ,  0.07451007, -0.05820084, ...,  0.06818164,\n",
       "            0.0643335 , -0.0083662 ],\n",
       "          [ 0.09470848, -0.02876925, -0.00551618, ...,  0.06825562,\n",
       "            0.03183875,  0.05339475],\n",
       "          ...,\n",
       "          [-0.02012164,  0.10248789,  0.09846923, ..., -0.02776359,\n",
       "           -0.06827582, -0.04064618],\n",
       "          [ 0.17859183,  0.05937595, -0.0724903 , ...,  0.15430623,\n",
       "           -0.09361647,  0.05391648],\n",
       "          [-0.04939632, -0.05904506, -0.04141001, ...,  0.03114034,\n",
       "            0.0538155 ,  0.0057562 ]],\n",
       " \n",
       "         [[-0.05689017, -0.10268232, -0.02750661, ..., -0.0258909 ,\n",
       "            0.0615456 ,  0.03804849],\n",
       "          [ 0.02734134,  0.01280805,  0.06621836, ...,  0.02613512,\n",
       "           -0.00641221, -0.05038268],\n",
       "          [ 0.05904492,  0.07250105, -0.02020439, ...,  0.04755029,\n",
       "           -0.02487145,  0.03112583],\n",
       "          ...,\n",
       "          [-0.02746616,  0.01488857,  0.072562  , ..., -0.01467766,\n",
       "           -0.0740627 ,  0.05625285],\n",
       "          [ 0.12831247, -0.08242355,  0.0418185 , ...,  0.04074046,\n",
       "           -0.00214112,  0.02598336],\n",
       "          [ 0.01472484, -0.08798368,  0.02401008, ...,  0.05473192,\n",
       "           -0.01151527,  0.09247285]]]], dtype=float32),\n",
       " array([-0.05983006, -0.0868589 , -0.05278242,  0.03033139, -0.03601728,\n",
       "        -0.06844591, -0.03602085, -0.03933919,  0.0780014 ,  0.07696383,\n",
       "         0.02422172, -0.04902739, -0.05111788, -0.03531544,  0.0291131 ,\n",
       "        -0.01213273, -0.00588616, -0.00965497, -0.04537128, -0.08216359,\n",
       "         0.07030545, -0.05810195, -0.04148611,  0.04489243, -0.05024532,\n",
       "        -0.04641735,  0.0364807 , -0.08164021,  0.03745134, -0.06069194,\n",
       "        -0.07546715,  0.04691532, -0.04446178,  0.06073518, -0.02946756,\n",
       "        -0.04558964, -0.10295766,  0.00596005,  0.05462804, -0.02906839,\n",
       "        -0.05581777, -0.04620177, -0.05837195, -0.02317822,  0.00779906,\n",
       "         0.05675578, -0.07630129, -0.0376021 , -0.06860697,  0.04790834,\n",
       "        -0.03977459,  0.05850988,  0.05967303,  0.03828497,  0.0431197 ,\n",
       "        -0.00351743,  0.00013917,  0.04728328, -0.04769496,  0.03845229,\n",
       "        -0.03236106,  0.0430058 ,  0.03970671,  0.05017525], dtype=float32),\n",
       " array([[[[ 6.40527457e-02,  1.09748820e-04,  7.31649697e-02, ...,\n",
       "           -6.10458553e-02, -3.62498611e-02, -3.82343829e-02],\n",
       "          [-8.77742469e-02,  3.87836481e-03, -4.20214683e-02, ...,\n",
       "           -1.39471479e-02,  8.70436337e-03, -6.06635697e-02],\n",
       "          [ 1.23929400e-02,  1.02971345e-02,  2.94789625e-03, ...,\n",
       "            5.04793040e-02, -9.07588843e-03,  3.86481211e-02],\n",
       "          ...,\n",
       "          [-6.59097545e-03, -6.55006468e-02, -1.12741748e-02, ...,\n",
       "           -3.68969813e-02,  6.93627968e-02,  1.98837221e-02],\n",
       "          [-1.03145540e-01, -4.56184708e-02, -6.61076605e-02, ...,\n",
       "            2.67908163e-02, -4.17059399e-02,  9.02321339e-02],\n",
       "          [-3.70690338e-02, -3.70940979e-05, -4.38542664e-02, ...,\n",
       "           -3.45074050e-02, -2.71859448e-02, -7.32271420e-03]],\n",
       " \n",
       "         [[ 5.89277223e-03, -6.06566109e-02,  6.63144216e-02, ...,\n",
       "           -5.34035861e-02,  2.37266049e-02, -1.36887031e-02],\n",
       "          [-1.57634318e-01, -6.79506809e-02, -2.44035609e-02, ...,\n",
       "            1.74300298e-02,  2.83462312e-02, -2.93660723e-02],\n",
       "          [ 7.87392929e-02,  2.08405536e-02,  3.62015478e-02, ...,\n",
       "           -4.27624397e-02, -3.21847457e-03, -4.24560346e-03],\n",
       "          ...,\n",
       "          [-4.44865488e-02, -1.18209925e-02, -2.06694962e-03, ...,\n",
       "           -2.40591150e-02,  3.84437926e-02,  4.97186668e-02],\n",
       "          [-8.50135460e-02,  2.98875626e-02,  1.01169450e-02, ...,\n",
       "           -3.40824062e-03,  1.24425068e-03,  2.51542553e-02],\n",
       "          [-1.30824327e-01,  4.71319593e-02, -9.31142494e-02, ...,\n",
       "           -3.99546698e-02, -9.20047089e-02,  5.91948535e-03]],\n",
       " \n",
       "         [[-6.85650902e-03, -5.08692823e-02,  2.84184958e-03, ...,\n",
       "           -6.93306848e-02, -1.01944424e-01, -6.42413124e-02],\n",
       "          [-8.06219354e-02, -1.29187834e-02,  1.69499256e-02, ...,\n",
       "            4.77938205e-02,  8.08049068e-02,  8.26829821e-02],\n",
       "          [ 1.83011629e-02, -6.81046024e-02, -3.61078195e-02, ...,\n",
       "           -1.12481795e-01, -3.23296525e-02, -2.11388748e-02],\n",
       "          ...,\n",
       "          [-3.73107009e-02, -7.65858218e-02,  5.16802706e-02, ...,\n",
       "            1.59923173e-02,  5.88251604e-03, -7.44665340e-02],\n",
       "          [-1.48553597e-02, -3.51130553e-02,  5.72304651e-02, ...,\n",
       "            5.87206632e-02, -6.42723963e-02, -4.76046465e-02],\n",
       "          [-9.80341528e-03,  3.70637365e-02, -4.26558778e-02, ...,\n",
       "            1.53847868e-02, -1.05098337e-02, -4.29883711e-02]]],\n",
       " \n",
       " \n",
       "        [[[ 2.42139045e-02, -4.28536013e-02, -2.62325145e-02, ...,\n",
       "           -1.41961733e-02, -4.08718400e-02,  1.81474853e-02],\n",
       "          [ 2.92045195e-02,  2.77245287e-02, -7.12099373e-02, ...,\n",
       "           -3.09475735e-02, -2.21384373e-02, -3.56111713e-02],\n",
       "          [ 2.37407908e-02, -2.42573824e-02,  1.76320206e-02, ...,\n",
       "           -5.95000722e-02, -8.02756995e-02,  5.39025143e-02],\n",
       "          ...,\n",
       "          [-5.49768209e-02,  2.00446956e-02, -5.23448270e-03, ...,\n",
       "           -4.66020629e-02,  9.84184071e-02,  7.80953392e-02],\n",
       "          [ 4.41045873e-02,  5.17541654e-02, -7.24643171e-02, ...,\n",
       "           -4.36167605e-02, -7.10429810e-03,  4.22190093e-02],\n",
       "          [ 1.16438232e-01, -4.57806103e-02,  1.44829815e-02, ...,\n",
       "           -8.42116177e-02,  9.90090333e-03, -8.56502354e-03]],\n",
       " \n",
       "         [[ 3.45869772e-02, -4.42075804e-02,  6.44592345e-02, ...,\n",
       "           -2.04718020e-02, -8.62685069e-02,  2.76838746e-02],\n",
       "          [-1.13817991e-03,  5.80052752e-03, -1.26025215e-01, ...,\n",
       "           -6.68171644e-02,  9.51134339e-02,  1.45268487e-02],\n",
       "          [-2.23461129e-02,  1.24067022e-02,  6.47635236e-02, ...,\n",
       "           -4.36459929e-02, -5.23280613e-02, -9.57908481e-03],\n",
       "          ...,\n",
       "          [-1.13698617e-01, -7.82390609e-02, -1.00234829e-01, ...,\n",
       "            1.05616525e-01, -2.26958771e-03, -2.17507314e-03],\n",
       "          [-1.36024542e-02,  3.05771325e-02, -6.52442351e-02, ...,\n",
       "            3.49929146e-02, -1.87814496e-02,  4.50550579e-02],\n",
       "          [-5.55408932e-02, -3.01631317e-02, -6.21875152e-02, ...,\n",
       "            5.07882461e-02, -1.58977117e-02, -1.32778287e-02]],\n",
       " \n",
       "         [[-2.70256624e-02, -3.94432023e-02, -2.04623044e-02, ...,\n",
       "            5.31857125e-02, -1.26530766e-01, -2.21941788e-02],\n",
       "          [-5.84243378e-03, -3.11109349e-02, -5.69711113e-03, ...,\n",
       "            7.34192878e-02,  2.76430249e-02,  1.57479141e-02],\n",
       "          [ 5.63107431e-02, -7.39941075e-02,  1.73024330e-02, ...,\n",
       "           -1.43101551e-02, -6.80704936e-02,  4.27603051e-02],\n",
       "          ...,\n",
       "          [-1.36476299e-02, -5.80935627e-02, -2.32851375e-02, ...,\n",
       "            9.63544026e-02, -4.26157601e-02, -1.38072660e-02],\n",
       "          [-1.30692404e-02, -1.54135646e-02,  2.08720043e-02, ...,\n",
       "           -5.27362637e-02, -4.91276868e-02, -4.29285206e-02],\n",
       "          [ 6.60569817e-02,  1.71502177e-02,  1.82420406e-02, ...,\n",
       "            4.10391651e-02, -1.09335899e-01, -2.34052762e-02]]],\n",
       " \n",
       " \n",
       "        [[[-9.31135118e-02, -8.63336306e-03, -6.90379739e-03, ...,\n",
       "           -1.13083627e-02,  4.79213595e-02, -1.74317807e-02],\n",
       "          [ 9.98381749e-02, -3.07755563e-02,  3.64461578e-02, ...,\n",
       "            5.23266122e-02,  5.35656102e-02,  5.47263958e-02],\n",
       "          [-1.04532521e-02, -5.82555048e-02, -6.22897642e-03, ...,\n",
       "           -4.97117788e-02, -3.97335850e-02,  4.69245985e-02],\n",
       "          ...,\n",
       "          [ 5.24677224e-02, -3.20317149e-02,  3.84661667e-02, ...,\n",
       "            7.32261986e-02, -7.38511235e-03,  2.94601005e-02],\n",
       "          [-5.38263321e-02, -4.16546278e-02, -4.99535399e-03, ...,\n",
       "           -4.17849571e-02, -5.80973476e-02,  8.25675949e-02],\n",
       "          [ 6.09372221e-02,  5.56002036e-02,  5.76622374e-02, ...,\n",
       "           -3.97985056e-02, -4.70129922e-02,  9.40063037e-04]],\n",
       " \n",
       "         [[-3.65935043e-02, -5.06013632e-02, -3.36045288e-02, ...,\n",
       "           -4.30369899e-02, -8.23617280e-02, -6.87945411e-02],\n",
       "          [ 5.13974726e-02,  1.98660791e-02,  9.16640274e-03, ...,\n",
       "            6.67601749e-02,  6.22835346e-02,  6.88894885e-03],\n",
       "          [-1.25163728e-02,  3.18260044e-02, -5.91437630e-02, ...,\n",
       "           -3.71466279e-02,  3.21938694e-02, -7.07454458e-02],\n",
       "          ...,\n",
       "          [-4.23308462e-02, -7.76103288e-02,  5.41809201e-02, ...,\n",
       "            3.76392230e-02,  3.09717539e-03,  3.90078463e-02],\n",
       "          [ 4.61474583e-02, -3.43212001e-02,  5.17891347e-03, ...,\n",
       "           -4.32244055e-02, -4.97859158e-02,  1.14207231e-02],\n",
       "          [ 1.35686863e-02, -4.81417738e-02,  3.64600569e-02, ...,\n",
       "            3.82613810e-03, -1.26808926e-01,  5.80898225e-02]],\n",
       " \n",
       "         [[-7.69580454e-02, -1.12946564e-02,  4.66876514e-02, ...,\n",
       "            4.74379286e-02, -1.32340401e-01,  4.15477268e-02],\n",
       "          [ 8.71201679e-02, -3.67851518e-02, -4.65812162e-02, ...,\n",
       "            5.97894788e-02, -1.28628537e-02, -6.74497262e-02],\n",
       "          [-7.63971284e-02, -6.26533255e-02,  5.67935854e-02, ...,\n",
       "            3.88087742e-02, -1.19464532e-01, -9.40637849e-03],\n",
       "          ...,\n",
       "          [ 1.05205588e-02,  2.68331561e-02, -8.88305623e-03, ...,\n",
       "            5.54669760e-02,  6.84764329e-03,  2.63086278e-02],\n",
       "          [-3.71937826e-02, -9.43712983e-03,  1.31630320e-02, ...,\n",
       "           -5.14249541e-02, -5.23308804e-03, -2.05487553e-02],\n",
       "          [ 5.07426150e-02, -7.54702883e-03, -5.19907586e-02, ...,\n",
       "           -5.43919057e-02, -2.46524829e-02,  3.81892435e-02]]]],\n",
       "       dtype=float32),\n",
       " array([-0.0641444 , -0.0191391 , -0.04784756,  0.0133205 ,  0.01552372,\n",
       "        -0.00874464, -0.03454799, -0.04652298,  0.00978156, -0.04188109,\n",
       "        -0.0423782 ,  0.05900417, -0.03444307, -0.01027   ,  0.03310875,\n",
       "         0.02071623,  0.05387774, -0.07600666, -0.00567848, -0.04020802,\n",
       "         0.03962569,  0.01022353, -0.0554629 , -0.02069179, -0.01382558,\n",
       "        -0.0042479 ,  0.06672357,  0.00231646, -0.04941989,  0.02619233,\n",
       "        -0.02041429, -0.10313272,  0.06503814, -0.04890649, -0.03464342,\n",
       "        -0.04887941, -0.03781124,  0.05961446, -0.06488766, -0.06849293,\n",
       "        -0.03755927, -0.03482565, -0.04495169,  0.01803229, -0.04284431,\n",
       "        -0.04972481, -0.05364631,  0.0258123 ,  0.00222297, -0.01551786,\n",
       "        -0.00850253, -0.032761  ,  0.02992574, -0.00349094, -0.01548389,\n",
       "        -0.05763781, -0.04515519, -0.08157883,  0.01643024, -0.06705263,\n",
       "         0.04523461, -0.05629617,  0.01944002, -0.04929266, -0.07716517,\n",
       "        -0.05199437, -0.04580892, -0.05592264, -0.08414635, -0.03075544,\n",
       "        -0.01942572,  0.02031801, -0.02874847, -0.0448988 ,  0.03052197,\n",
       "        -0.03984861, -0.0665369 , -0.08679064, -0.06808135, -0.05162334,\n",
       "         0.01483696, -0.05879783,  0.02613496, -0.06231228, -0.01383746,\n",
       "        -0.04182034,  0.036577  , -0.02590036,  0.05933473, -0.03724632,\n",
       "         0.02766422, -0.02284932,  0.02489807,  0.02517153, -0.02288776,\n",
       "         0.02806127, -0.01511191, -0.03304837,  0.05141855, -0.03767461,\n",
       "        -0.05222435, -0.03407546, -0.03210181, -0.02017705, -0.03548051,\n",
       "        -0.05357367,  0.07511184,  0.05221796,  0.05614962, -0.04509179,\n",
       "         0.02584919,  0.0038002 ,  0.04215572, -0.09165192, -0.08914348,\n",
       "         0.0005134 ,  0.04106175, -0.0560521 , -0.02349567, -0.03701333,\n",
       "        -0.02171282, -0.08521681,  0.01588864,  0.08421127,  0.01178048,\n",
       "        -0.05669196, -0.04352586,  0.00588023], dtype=float32),\n",
       " array([[-0.05954607, -0.01311472,  0.03207823, ..., -0.00359906,\n",
       "          0.01755759,  0.09852024],\n",
       "        [-0.00525909, -0.02734276,  0.00346725, ..., -0.01606868,\n",
       "         -0.02858889, -0.04295895],\n",
       "        [ 0.00068576,  0.01132253,  0.02727224, ...,  0.04728336,\n",
       "         -0.01450979,  0.03337837],\n",
       "        ...,\n",
       "        [-0.03271685,  0.05352665, -0.07835493, ...,  0.02631513,\n",
       "          0.00531551, -0.05591981],\n",
       "        [ 0.01033885,  0.02733819, -0.01130895, ..., -0.04662573,\n",
       "         -0.04200032, -0.03151565],\n",
       "        [-0.03668386, -0.00434943,  0.06915282, ..., -0.01600381,\n",
       "         -0.01161839,  0.00031152]], dtype=float32),\n",
       " array([-0.04986991, -0.01733252, -0.05133279, -0.01735473, -0.02670417,\n",
       "         0.04727626,  0.05612048, -0.05348341, -0.072009  , -0.06296343,\n",
       "        -0.02244365, -0.04998298,  0.02582601,  0.0280204 , -0.02582666,\n",
       "        -0.02516099, -0.02693823,  0.03359349,  0.04823703, -0.00420103,\n",
       "        -0.01244699, -0.02171879,  0.03459444, -0.01420737, -0.02262872,\n",
       "         0.01571777,  0.02071489,  0.07308102, -0.02831306, -0.02260189,\n",
       "        -0.01628311,  0.06741159,  0.02416017, -0.01427541,  0.03559182,\n",
       "        -0.01374864, -0.01629428, -0.03074186,  0.00611628,  0.01852129,\n",
       "         0.06217031, -0.07867248,  0.02053658, -0.00387234, -0.00785593,\n",
       "         0.01797132,  0.02609162, -0.00472012,  0.05684331,  0.05770761,\n",
       "        -0.01852577,  0.05379178, -0.0608956 , -0.01384565,  0.03776287,\n",
       "        -0.03407623, -0.00585267,  0.03001863, -0.06126122, -0.03253108,\n",
       "        -0.00947696,  0.02016767,  0.06804383, -0.02691566,  0.01712291,\n",
       "         0.02778141, -0.02133593, -0.03494424, -0.05661255, -0.01890022,\n",
       "        -0.0152473 ,  0.04537691, -0.01086089, -0.03596819, -0.02223349,\n",
       "         0.0181501 , -0.04714238, -0.06731833, -0.00900476, -0.03295362,\n",
       "        -0.00527562,  0.03859987, -0.03367716, -0.03091094,  0.04952652,\n",
       "         0.05507667, -0.02733317, -0.02800636,  0.00117702, -0.00560487,\n",
       "        -0.01581676,  0.04155531,  0.08181059, -0.0690283 , -0.02014989,\n",
       "        -0.05923592,  0.00064995, -0.00321554,  0.01933807,  0.05932243,\n",
       "         0.00100552, -0.00606785, -0.05289982, -0.03741758,  0.04532908,\n",
       "        -0.02651615,  0.04967719, -0.009162  , -0.00498131,  0.04795551,\n",
       "         0.0235918 , -0.02452196, -0.00447124,  0.06983922, -0.00388579,\n",
       "         0.03825721, -0.04908787,  0.01788405, -0.0072096 , -0.05618536,\n",
       "        -0.04122484, -0.04490437,  0.00034767,  0.05351655,  0.01748217,\n",
       "        -0.07037806, -0.0099915 ,  0.05992262], dtype=float32),\n",
       " array([[ 3.53906117e-02,  3.63978818e-02, -8.20129439e-02,\n",
       "         -5.03148846e-02],\n",
       "        [ 8.85356590e-02,  8.81458297e-02,  1.44355774e-01,\n",
       "         -1.92570299e-01],\n",
       "        [-1.31715506e-01, -2.94490922e-02, -4.30149585e-01,\n",
       "          2.77614780e-02],\n",
       "        [ 3.57201621e-02, -2.56948531e-01,  1.81974421e-04,\n",
       "         -1.80186406e-01],\n",
       "        [-5.01968116e-02, -1.24898590e-01, -2.27330759e-01,\n",
       "         -1.00798002e-02],\n",
       "        [-3.42843920e-01, -2.54009843e-01,  1.46418035e-01,\n",
       "          2.24901453e-01],\n",
       "        [-7.03025609e-02, -2.47663334e-01,  1.20058209e-01,\n",
       "         -2.18858290e-02],\n",
       "        [ 1.19857289e-01,  7.32291788e-02, -8.90422165e-02,\n",
       "          1.03347190e-01],\n",
       "        [ 2.00108528e-01,  8.18241909e-02, -9.96362790e-02,\n",
       "          3.35187018e-02],\n",
       "        [ 1.21089287e-01, -8.29098597e-02, -1.93197936e-01,\n",
       "          1.17964682e-03],\n",
       "        [-5.98782999e-03, -2.68025130e-01, -2.17344910e-01,\n",
       "          2.58892006e-03],\n",
       "        [ 2.95393348e-01, -8.73682871e-02, -2.52225231e-02,\n",
       "         -3.73890139e-02],\n",
       "        [ 1.90817937e-01, -7.42730573e-02,  2.22513989e-01,\n",
       "          1.80131912e-01],\n",
       "        [-3.90914567e-02,  1.61162302e-01,  9.51328948e-02,\n",
       "         -1.84441924e-01],\n",
       "        [ 1.32105440e-01,  3.14577185e-02, -2.32940391e-01,\n",
       "          2.08812520e-01],\n",
       "        [-4.73264940e-02, -2.02744640e-02, -1.02659091e-01,\n",
       "          9.17274058e-02],\n",
       "        [ 2.03510765e-02, -1.28174379e-01, -1.23560980e-01,\n",
       "          3.36295366e-02],\n",
       "        [-3.21474701e-01,  1.65495962e-01, -1.14677653e-01,\n",
       "          1.88488975e-01],\n",
       "        [-4.10588324e-01,  4.74284180e-02, -1.75988123e-01,\n",
       "          7.42708519e-02],\n",
       "        [-9.60040241e-02, -1.80847436e-01, -2.16941029e-01,\n",
       "          1.41865507e-01],\n",
       "        [ 1.82700440e-01, -6.03316054e-02,  5.60793877e-02,\n",
       "          1.89355448e-01],\n",
       "        [ 6.89894482e-02, -5.44498749e-02, -9.41275358e-02,\n",
       "          1.09203078e-01],\n",
       "        [ 3.55228856e-02, -1.20401181e-01,  8.53831992e-02,\n",
       "          2.17030823e-01],\n",
       "        [ 4.45994129e-03, -1.81131512e-01,  7.73655772e-02,\n",
       "         -7.09545985e-02],\n",
       "        [-9.88110453e-02,  5.31506836e-02, -2.39038497e-01,\n",
       "         -9.71642584e-02],\n",
       "        [-2.98169136e-01,  2.62715071e-01, -1.52699530e-01,\n",
       "          1.72619656e-01],\n",
       "        [-1.68274313e-01,  9.46704745e-02,  6.32534968e-03,\n",
       "         -2.54113972e-01],\n",
       "        [ 2.74166409e-02, -8.08291733e-02,  1.28655508e-01,\n",
       "         -2.56081253e-01],\n",
       "        [-3.40080791e-04,  8.24323669e-02, -2.09516600e-01,\n",
       "          1.91079192e-02],\n",
       "        [ 1.84996486e-01, -2.50924796e-01, -3.07169673e-03,\n",
       "          1.42504245e-01],\n",
       "        [ 1.44072607e-01, -1.64508998e-01,  1.20886862e-01,\n",
       "         -7.37413764e-02],\n",
       "        [-1.78064346e-01,  2.18360394e-01,  1.31132513e-01,\n",
       "          3.17318350e-01],\n",
       "        [ 1.25146881e-01,  2.09706619e-01,  1.18484966e-01,\n",
       "         -1.96808755e-01],\n",
       "        [ 1.23220719e-01, -2.41299436e-04,  1.06136866e-01,\n",
       "          9.96228009e-02],\n",
       "        [ 1.15362234e-01,  1.88053951e-01,  1.94018394e-01,\n",
       "         -2.26285309e-01],\n",
       "        [ 1.61052555e-01, -1.12227648e-01,  4.39438522e-02,\n",
       "          1.94622114e-01],\n",
       "        [ 1.62812874e-01, -2.34459154e-02,  5.90961762e-02,\n",
       "         -2.53933579e-01],\n",
       "        [ 6.55903816e-02, -6.76603392e-02, -5.08632548e-02,\n",
       "         -3.62273425e-01],\n",
       "        [-1.09400980e-01,  5.42262197e-02, -6.60588741e-02,\n",
       "         -1.42505422e-01],\n",
       "        [-1.62538335e-01,  1.35656491e-01, -6.63138628e-02,\n",
       "         -2.00962991e-01],\n",
       "        [-4.65279296e-02, -1.61158428e-01,  2.78172076e-01,\n",
       "         -3.69376868e-01],\n",
       "        [ 2.17994362e-01,  1.07295245e-01, -2.21993789e-01,\n",
       "         -3.17944288e-02],\n",
       "        [-2.06390977e-01, -7.62965381e-02,  1.94356084e-01,\n",
       "         -4.36152332e-02],\n",
       "        [-6.06694333e-02,  8.59119669e-02,  8.77616107e-02,\n",
       "         -3.23117562e-02],\n",
       "        [ 2.32346617e-02, -1.78730071e-01,  1.70239583e-01,\n",
       "         -1.96788326e-01],\n",
       "        [-1.31157115e-01,  2.95530148e-02,  2.11587951e-01,\n",
       "          1.63615122e-01],\n",
       "        [-3.35396111e-01, -1.52020827e-01, -1.03761785e-01,\n",
       "          2.73880929e-01],\n",
       "        [-1.45369887e-01,  2.63272095e-02,  2.10557967e-01,\n",
       "          1.46974444e-01],\n",
       "        [-9.44698080e-02, -9.84530523e-02,  2.27316022e-01,\n",
       "          2.03375101e-01],\n",
       "        [-3.85159105e-01, -6.65299967e-02,  2.59135842e-01,\n",
       "          2.38991246e-01],\n",
       "        [ 2.15424076e-02,  2.15329856e-01, -5.82383871e-02,\n",
       "         -3.34829986e-01],\n",
       "        [ 3.92711833e-02,  1.83287024e-01,  1.91318035e-01,\n",
       "          1.39863357e-01],\n",
       "        [ 1.68092728e-01, -6.20332621e-02, -1.74713403e-01,\n",
       "         -1.16391756e-01],\n",
       "        [ 1.81386158e-01,  1.29245907e-01,  1.18360154e-01,\n",
       "         -9.41982567e-02],\n",
       "        [-2.51659285e-02, -2.69740462e-01,  1.10515811e-01,\n",
       "          2.26758599e-01],\n",
       "        [ 1.10095382e-01, -1.15894333e-01,  1.05071895e-01,\n",
       "          1.43836881e-03],\n",
       "        [-1.85256042e-02,  1.71932697e-01,  5.11128753e-02,\n",
       "         -3.23998392e-01],\n",
       "        [-3.05718839e-01, -2.26783127e-01,  6.51292205e-02,\n",
       "          3.03180754e-01],\n",
       "        [ 1.01305507e-01, -2.84736399e-02, -8.22687373e-02,\n",
       "         -1.25861749e-01],\n",
       "        [-4.33085747e-02, -2.13213518e-01, -1.77088410e-01,\n",
       "         -5.82670011e-02],\n",
       "        [ 3.85486744e-02, -2.11027250e-01,  9.42282677e-02,\n",
       "          6.42315373e-02],\n",
       "        [-3.66328925e-01,  1.69346303e-01,  2.53653795e-01,\n",
       "         -2.18405873e-01],\n",
       "        [-1.88667968e-01, -2.22905636e-01,  2.09333137e-01,\n",
       "          1.26634106e-01],\n",
       "        [ 1.11949496e-01, -2.01352194e-01, -4.93491031e-02,\n",
       "         -7.53064379e-02],\n",
       "        [ 2.02024415e-01, -8.15396234e-02,  2.37453058e-01,\n",
       "         -4.15877908e-01],\n",
       "        [ 1.09447949e-01, -1.88325211e-01,  1.41363189e-01,\n",
       "          1.13822892e-01],\n",
       "        [ 2.62628853e-01,  2.41729543e-01, -4.22568411e-01,\n",
       "         -3.44603151e-01],\n",
       "        [ 3.63992937e-02, -2.33684741e-02, -2.88512819e-02,\n",
       "         -1.27307773e-01],\n",
       "        [ 2.93203354e-01, -3.35406423e-01, -1.40222102e-01,\n",
       "         -3.54596339e-02],\n",
       "        [ 1.87727705e-01, -9.58557054e-02,  1.26568913e-01,\n",
       "          5.08368313e-02],\n",
       "        [-6.09295024e-03,  1.46591470e-01, -6.49484321e-02,\n",
       "         -1.93533018e-01],\n",
       "        [-3.48875284e-01,  1.79842785e-01,  2.58518904e-01,\n",
       "          2.16772363e-01],\n",
       "        [ 2.33400706e-02, -1.69005647e-01, -1.17430061e-01,\n",
       "          9.62701365e-02],\n",
       "        [ 5.92302978e-02,  2.07370892e-01, -1.40012398e-01,\n",
       "          4.35561948e-02],\n",
       "        [ 4.88019409e-03,  7.83259422e-03, -8.89794081e-02,\n",
       "          1.89812016e-02],\n",
       "        [-9.93940383e-02,  3.02374005e-01,  2.02501550e-01,\n",
       "         -1.37356579e-01],\n",
       "        [ 1.64288789e-01,  2.12916881e-01, -1.07433617e-01,\n",
       "         -2.68846959e-01],\n",
       "        [ 1.54506117e-01,  1.53778166e-01, -3.39023396e-02,\n",
       "          1.34688824e-01],\n",
       "        [-4.78726104e-02, -1.57871753e-01, -2.64092498e-02,\n",
       "         -2.87725427e-03],\n",
       "        [ 1.57914162e-01, -2.34393194e-01,  8.62640887e-02,\n",
       "         -1.95490316e-01],\n",
       "        [-1.52394503e-01, -1.28396913e-01, -2.82859892e-01,\n",
       "          2.64857382e-01],\n",
       "        [-1.15814388e-01, -3.03825468e-01,  2.11968292e-02,\n",
       "          1.48839459e-01],\n",
       "        [ 5.39701246e-02,  6.62249550e-02,  1.73465128e-03,\n",
       "         -2.64550652e-02],\n",
       "        [ 3.40265818e-02,  1.50917143e-01, -7.92979077e-02,\n",
       "         -4.00584996e-01],\n",
       "        [ 3.29513215e-02,  2.01575577e-01,  2.30094701e-01,\n",
       "          2.05491841e-01],\n",
       "        [-2.09370077e-01, -2.43023738e-01,  1.44103199e-01,\n",
       "         -2.73750961e-01],\n",
       "        [ 1.80292517e-01,  1.19597323e-01,  1.65157825e-01,\n",
       "          1.47209570e-01],\n",
       "        [ 2.78855324e-01, -1.34762883e-01,  1.66579962e-01,\n",
       "         -1.08661763e-01],\n",
       "        [-6.29602447e-02,  1.31571263e-01, -2.20966209e-02,\n",
       "         -1.52108505e-01],\n",
       "        [-3.77801880e-02, -1.74948931e-01,  1.53625757e-01,\n",
       "         -2.00724497e-01],\n",
       "        [ 5.76383248e-02, -1.69306412e-01, -1.21978829e-02,\n",
       "          9.64958370e-02],\n",
       "        [ 1.50890768e-01, -7.28586391e-02,  1.42301336e-01,\n",
       "         -7.19944015e-02],\n",
       "        [ 1.10393450e-01, -6.94109201e-02,  4.93814707e-01,\n",
       "         -2.06580311e-01],\n",
       "        [ 1.57309458e-01,  5.00481389e-03, -1.64607167e-01,\n",
       "         -1.23642106e-02],\n",
       "        [ 1.13647327e-01, -1.21204734e-01, -3.09143905e-02,\n",
       "          1.62272137e-02],\n",
       "        [ 1.75363451e-01, -7.08319098e-02, -1.66073158e-01,\n",
       "         -6.98719844e-02],\n",
       "        [-1.81938887e-01, -1.18771270e-01,  6.42981976e-02,\n",
       "         -2.04324380e-01],\n",
       "        [-1.47438586e-01, -1.75975695e-01, -8.34615305e-02,\n",
       "          1.69993699e-01],\n",
       "        [ 2.56967079e-02, -1.61126733e-01, -2.76543275e-02,\n",
       "          6.21732734e-02],\n",
       "        [-1.87164515e-01,  1.25737026e-01,  1.45847946e-01,\n",
       "          2.56044418e-02],\n",
       "        [-2.68773466e-01,  7.81465471e-02, -2.55657971e-01,\n",
       "          1.80558234e-01],\n",
       "        [ 8.58263746e-02, -2.12309748e-01, -2.43829250e-01,\n",
       "          3.67042452e-01],\n",
       "        [ 8.34757835e-02, -1.13680214e-01, -9.06035826e-02,\n",
       "         -2.12676469e-02],\n",
       "        [ 1.80033669e-01,  6.04116805e-02,  3.51753198e-02,\n",
       "          1.75373405e-01],\n",
       "        [-2.13198233e-02, -1.06262289e-01,  1.44656450e-01,\n",
       "          2.05490485e-01],\n",
       "        [ 1.42706767e-01, -3.57357949e-01, -6.69806078e-02,\n",
       "         -2.76513606e-01],\n",
       "        [-2.07904428e-01,  1.34932417e-02,  8.87407213e-02,\n",
       "         -1.10085927e-01],\n",
       "        [-7.44585097e-02, -1.21047713e-01, -7.01659471e-02,\n",
       "         -1.52516171e-01],\n",
       "        [-4.86040898e-02, -4.60628457e-02,  9.07565281e-02,\n",
       "          1.17966533e-01],\n",
       "        [-5.27261309e-02,  1.23710200e-01,  2.85369247e-01,\n",
       "         -3.02143767e-02],\n",
       "        [ 6.28787950e-02,  1.11844689e-01,  2.03090295e-01,\n",
       "         -2.42546335e-01],\n",
       "        [-6.15038211e-03, -4.49329801e-02, -1.54109403e-01,\n",
       "         -1.68380857e-01],\n",
       "        [-2.13185679e-02, -2.21797198e-01, -2.41473854e-01,\n",
       "          2.00321808e-01],\n",
       "        [-2.15339899e-01, -1.29612267e-01,  3.10144722e-01,\n",
       "          2.17813745e-01],\n",
       "        [-3.48027557e-01, -1.17126435e-01, -2.56510019e-01,\n",
       "          4.57512349e-01],\n",
       "        [-2.39310786e-01, -2.24692151e-01,  1.09795360e-02,\n",
       "          2.51969963e-01],\n",
       "        [ 9.86225605e-02, -1.10416472e-01, -1.99525893e-01,\n",
       "          1.05634540e-01],\n",
       "        [ 1.32519335e-01, -2.65201122e-01,  2.16397539e-01,\n",
       "         -1.05125979e-02],\n",
       "        [ 2.74680294e-02, -1.26934066e-01,  1.15072936e-01,\n",
       "         -9.89445671e-02],\n",
       "        [-6.23465739e-02, -1.80095688e-01, -2.30364576e-01,\n",
       "         -9.77949798e-02],\n",
       "        [ 8.82523432e-02,  9.15567279e-02,  8.11672285e-02,\n",
       "          3.01289302e-03],\n",
       "        [ 3.51210497e-02,  1.02600768e-01, -2.10654959e-01,\n",
       "         -1.66468639e-02],\n",
       "        [-1.14743285e-01,  1.06814571e-01,  6.34597912e-02,\n",
       "          9.35051665e-02],\n",
       "        [-2.21970662e-01, -1.19887717e-01,  2.05524549e-01,\n",
       "         -5.62417805e-02],\n",
       "        [-2.84898318e-02, -2.96552837e-01, -1.99157670e-02,\n",
       "         -3.57286483e-02],\n",
       "        [ 1.44380033e-01,  1.33536130e-01, -2.21394867e-01,\n",
       "         -1.90535843e-01],\n",
       "        [ 8.93747583e-02, -6.41297996e-02,  1.30433828e-01,\n",
       "         -2.72664577e-02],\n",
       "        [-2.24016309e-01,  1.59019187e-01,  1.20399937e-01,\n",
       "          2.94050515e-01]], dtype=float32),\n",
       " array([-0.05821507, -0.00427774,  0.04998961,  0.01176962], dtype=float32)]"
      ]
     },
     "execution_count": 23,
     "metadata": {},
     "output_type": "execute_result"
    }
   ],
   "source": [
    "new_model.get_weights()"
   ]
  },
  {
   "cell_type": "code",
   "execution_count": 24,
   "metadata": {},
   "outputs": [
    {
     "data": {
      "text/plain": [
       "<keras.optimizers.Adam at 0x1937cbb5828>"
      ]
     },
     "execution_count": 24,
     "metadata": {},
     "output_type": "execute_result"
    }
   ],
   "source": [
    "new_model.optimizer"
   ]
  },
  {
   "cell_type": "code",
   "execution_count": null,
   "metadata": {},
   "outputs": [],
   "source": []
  },
  {
   "cell_type": "code",
   "execution_count": null,
   "metadata": {},
   "outputs": [],
   "source": []
  }
 ],
 "metadata": {
  "kernelspec": {
   "display_name": "Python 3",
   "language": "python",
   "name": "python3"
  },
  "language_info": {
   "codemirror_mode": {
    "name": "ipython",
    "version": 3
   },
   "file_extension": ".py",
   "mimetype": "text/x-python",
   "name": "python",
   "nbconvert_exporter": "python",
   "pygments_lexer": "ipython3",
   "version": "3.6.5"
  }
 },
 "nbformat": 4,
 "nbformat_minor": 2
}
