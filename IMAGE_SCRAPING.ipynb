{
 "cells": [
  {
   "cell_type": "code",
   "execution_count": null,
   "metadata": {},
   "outputs": [
    {
     "name": "stdout",
     "output_type": "stream",
     "text": [
      "https://encrypted-tbn0.gstatic.com/images?q=tbn:ANd9GcSX8RH84dxswNx9tjPnD9aNOLVG1QYDwn75AqVfI9KRO-i8ivhbVZsOKks\n",
      "https://encrypted-tbn0.gstatic.com/images?q=tbn:ANd9GcTArS4vT019nHVMkpLKczEcgsMo9lVrQwZ60lwSlnu9BwMJaveBoZkAx5eH\n",
      "https://encrypted-tbn0.gstatic.com/images?q=tbn:ANd9GcT8a6YRRV091xe9s-Jfd8z6p35BjSkZ8tBOTYNO2Iejgzsw80lkYLKd9Oo\n",
      "https://encrypted-tbn0.gstatic.com/images?q=tbn:ANd9GcSSbk4Ur9GZg7xrlzl1Br7UbN5VTp0GOarKYet8-MfHTT3RD5WPBdcRSUm-\n",
      "https://encrypted-tbn0.gstatic.com/images?q=tbn:ANd9GcQIMjcrslpss-C8YvxT8AEolvyhxjqqeIkVkcrmweVMYHVRn3RUww8teqBs\n",
      "https://encrypted-tbn0.gstatic.com/images?q=tbn:ANd9GcSX_-Yt7ptcDwzUOWoxHB4TMZH2AzErstlkoeUq6zuILqX44RpU1Fa0Gw\n",
      "https://encrypted-tbn0.gstatic.com/images?q=tbn:ANd9GcSwh5SKZB5Nu2GdZZs2TvL8QRJc80P7aqruyK-AMKLH_UQVi7ptWCoyfQax\n",
      "https://encrypted-tbn0.gstatic.com/images?q=tbn:ANd9GcSfkCPRfv9LQB-kFhY06AUjS-QPowzzeHhum9DXKJVsyKjLHfhU82P4tR6V\n",
      "https://encrypted-tbn0.gstatic.com/images?q=tbn:ANd9GcRNXI6jfDwV59LM1IpKzCty3WXNtUEkHh4iRuStwhDBTts8LjVhDx2Xf78\n",
      "https://encrypted-tbn0.gstatic.com/images?q=tbn:ANd9GcQgla0xvqam7SwSEfZtNz0_ni0clovBYObuvbxRM5Zg07qGVw-IoA8WjjSkRg\n",
      "https://encrypted-tbn0.gstatic.com/images?q=tbn:ANd9GcQva7w042DiMWDv9-VQgre8cd13_0jsf248bAZE2we1mwp-XmXWwySbSaOLrQ\n",
      "https://encrypted-tbn0.gstatic.com/images?q=tbn:ANd9GcTiLz4ol-gJ0LJ63II14-b-enixo7ZeO4SzL-G9vwYy83lpJQfB70hXiI0v\n",
      "https://encrypted-tbn0.gstatic.com/images?q=tbn:ANd9GcT10V6Ccefadic1wzEMmBFs1OHogxIXYuN9CCUiQ9F-bli8HlVqqe_DCYo\n",
      "https://encrypted-tbn0.gstatic.com/images?q=tbn:ANd9GcShoyXqcz3g0B7Ag2xoQA2Y7TQ2vH-AJZM1Mu3Id04tA5kTdDly_KXpkr6c\n",
      "https://encrypted-tbn0.gstatic.com/images?q=tbn:ANd9GcRVuqFdS3t9HQxUarj49EXh3n6-g7H1WNO9hVL5DXty292gr5td60USobxZCQ\n",
      "https://encrypted-tbn0.gstatic.com/images?q=tbn:ANd9GcQZJuCOWzJsiDMDb_lYzQDueAew5sKV6bhsEUR8y0IoRo9FNTCnHs7cuOA\n",
      "https://encrypted-tbn0.gstatic.com/images?q=tbn:ANd9GcTBS4rAdPKH6avWjca7fFF8BYCFyQHSB3q3MO_wYzFRsdZuR1UaMk_v8Q\n",
      "https://encrypted-tbn0.gstatic.com/images?q=tbn:ANd9GcSp0j9LII3276Bomp3Z5-2X3ruN1DOGugu_k6FbcQ9H00Knh6m9Qf6Pijrlwg\n",
      "https://encrypted-tbn0.gstatic.com/images?q=tbn:ANd9GcS540kmCD1jK_7HHeSk_MyCX-b_tpuFMmF2AfO4XJ0UhjXOk5ZTtnNQsJ5j\n",
      "https://encrypted-tbn0.gstatic.com/images?q=tbn:ANd9GcRh9sDrR4M0Jr5ABc6nU06PAxvOWnL4jFnEDzSkLazSC3OnqRZ3Umno01ev\n",
      "https://encrypted-tbn0.gstatic.com/images?q=tbn:ANd9GcQNGs6HXLMtANTOQIiNdq7atVUBtV2k_H7YeIAR-R_tuDjkuyv8itZ16FE\n",
      "https://encrypted-tbn0.gstatic.com/images?q=tbn:ANd9GcTDffQVjzriNMCRu4iZ5oWSLPYye3i4EoAfOHVqYRAuNhbTzN2SI2TXig\n",
      "https://encrypted-tbn0.gstatic.com/images?q=tbn:ANd9GcTdtS3KqPVFX6HcCye6zDsuyIP2dTwbtUt6e_IPrpierCJEUEtvVaBBz5UR\n",
      "https://encrypted-tbn0.gstatic.com/images?q=tbn:ANd9GcR_WGkC6gMQO2zIpn_Y4ynBH3CJGAnReO7Z7Dw3F3ABqXHOJBXPbfQUwhfG\n",
      "https://encrypted-tbn0.gstatic.com/images?q=tbn:ANd9GcTWbBwNTuQbgQCGonG29zLQ1UYzlyDL2KW4t5ZpfchmNZXBu1t_sxDyC7I\n",
      "https://encrypted-tbn0.gstatic.com/images?q=tbn:ANd9GcQzfzpV9zvioeTIFt388-0immVHDiZN2YxMxbXdMxqN4wPuNSgro7YcwAlD\n",
      "https://encrypted-tbn0.gstatic.com/images?q=tbn:ANd9GcSAN_AYwKu67ZdhhgSsra4M_Vt-CeRYmAAZqV5w6opmNtBTuL5h0hWunL4\n",
      "https://encrypted-tbn0.gstatic.com/images?q=tbn:ANd9GcT948x7BBVsVDSEZZwDE2a4p5lp9-0ec7OIhi8XPR7978HVhq4FSQ3ouNA\n",
      "https://encrypted-tbn0.gstatic.com/images?q=tbn:ANd9GcT5HEdl7_yfloPt5eMUQ2p5vkBhlqamIJlsqcJmJHjJ53h9HDuv5UUAv4Bd\n",
      "https://encrypted-tbn0.gstatic.com/images?q=tbn:ANd9GcR4DTo8aQ8v2zttQPG9qQ9AudZ2wHGokLElnwoWv_eIZ3yApBC09M2dIg\n",
      "https://encrypted-tbn0.gstatic.com/images?q=tbn:ANd9GcRkFGJveydfoZ99BzqiFRbRFIroGQKAPC2zC1Snv2ynwj8zRh9pg3s4ZLo\n",
      "https://encrypted-tbn0.gstatic.com/images?q=tbn:ANd9GcTM-gCO6NHLG-3N3x1KEe7GGxAbX2VIbDDXpumC-zMnLVvaW97Z6vQ4mD4\n",
      "https://encrypted-tbn0.gstatic.com/images?q=tbn:ANd9GcS9SsP9v2744e8cmWhRSduaug3mdAYT6m5rFWHa0c0eI3VY2w3WYwyR0w\n",
      "https://encrypted-tbn0.gstatic.com/images?q=tbn:ANd9GcR7ouuDsq6YO6CzUYnCCqFkJTwBUK2zPD1An0D9qUOQWlrBVSvPs3uMcS34\n",
      "https://encrypted-tbn0.gstatic.com/images?q=tbn:ANd9GcTYtjIQFJBITnPRCKFSzA_SoZ2g_oq86hoLetdACB0W-c482usNjuRP3Pc\n",
      "https://encrypted-tbn0.gstatic.com/images?q=tbn:ANd9GcSbduLN35fGMDXkJqvHUiNt2m9_hl-2CCxX3RO2IgC577eqTkaOqGFERBe1\n",
      "https://encrypted-tbn0.gstatic.com/images?q=tbn:ANd9GcRd7w6bh3hua0wlBFNDH6-4HnevZNipEvi9KBJwj_0CY1HjykCg12Cm_ms-\n",
      "https://encrypted-tbn0.gstatic.com/images?q=tbn:ANd9GcScht9LIEij8NM_ZNvmbYbyfnY7nxCGngqdq7NPXGac0SatmAd2UhJ8YVo\n",
      "https://encrypted-tbn0.gstatic.com/images?q=tbn:ANd9GcTnhOGJRK36bZkt6f4WP15o3zvSVKX2DAbmHYWd-x6CDhQ0NHvwReu--FZN\n",
      "https://encrypted-tbn0.gstatic.com/images?q=tbn:ANd9GcR24mUEjbEidlBGyCUmF3naEkkk7OUawP0yphYBT4hpwIhaJSBo6kpIvg\n",
      "https://encrypted-tbn0.gstatic.com/images?q=tbn:ANd9GcSXfwe3DmZ6hRs56lNzL2wYiYVGXUmQWbMMpbBmE36INnDYo3sHGTRZXJc\n",
      "https://encrypted-tbn0.gstatic.com/images?q=tbn:ANd9GcRvf4jVL0-CDbwkv6BTP-uJ00zrjGtmZJMDc5yEtNcbhCVvl_ZSFZUnQIr0\n",
      "https://encrypted-tbn0.gstatic.com/images?q=tbn:ANd9GcSlRdeF49KqY4NdDries1VGa_fCH7P-SXD3gJEDJTIGJg15EEIjguQBWEOg\n",
      "https://encrypted-tbn0.gstatic.com/images?q=tbn:ANd9GcTGK0a3iKSngGaQIt0wa1lL0ceDRHqxHo1L3jPS--2KV9pKK5Fn-WiMVnf8\n",
      "https://encrypted-tbn0.gstatic.com/images?q=tbn:ANd9GcRy9f-XSS7ugJnoxU-PcyHCb0xBk74zwYCBXn5p3icjwEoUYVn_widOUppn\n",
      "https://encrypted-tbn0.gstatic.com/images?q=tbn:ANd9GcQj13CZh6L-mDR0P3E3oJBkaVjT7OaDI7aGU8lqLv-60lClTFGb6EIRJ4Q\n",
      "https://encrypted-tbn0.gstatic.com/images?q=tbn:ANd9GcQi0N0O4dT3icRIvRIgVvtUrUnIvNEhZ_5hVxaCqs9v9h3gYsjLcjKlrZI\n",
      "https://encrypted-tbn0.gstatic.com/images?q=tbn:ANd9GcSS0FCcm7qsAjK7Q86VCXQiNA5F9sr-jKe_3Z0Dmy6QrKUxaaJkdRqPTE1l\n",
      "https://encrypted-tbn0.gstatic.com/images?q=tbn:ANd9GcQG0v4I5dKvNTpaLcApf2Lc87nM0Z9LOEeX7UWcpDn4I6dDNWd3pKzeOvvg\n",
      "https://encrypted-tbn0.gstatic.com/images?q=tbn:ANd9GcTwYNol7C4Kh2n9uT61Gfgc6m6ktJsG72V9mxXcxzOns-KAEPO5QLSzGIk\n",
      "https://encrypted-tbn0.gstatic.com/images?q=tbn:ANd9GcSnGa1zItUReQYw67aGTPDNrIwZIVl8TglpcqC3okOwDYIDAjhtrM_ZafA\n",
      "https://encrypted-tbn0.gstatic.com/images?q=tbn:ANd9GcSQzAe2a8PNGS3BiaKXtLJW4yvpn_0IWKww9FmNChuEz7Si9uQj7BJmvfKr\n",
      "https://encrypted-tbn0.gstatic.com/images?q=tbn:ANd9GcQ-MlNQtnlN7aLkfGYZ5pXyyuTYKPPZl1Zj0J1xkUQIvvT8XxwRAjOYbe_6\n",
      "https://encrypted-tbn0.gstatic.com/images?q=tbn:ANd9GcTrpXX3ITZcNGtpSTrYk2qp8EB99zE05E6NperWXaAY2t7iMzlqsd75hrE\n",
      "https://encrypted-tbn0.gstatic.com/images?q=tbn:ANd9GcQb2T4WSQQysTQRI8kXM8tQ2e_3b-wljuLSznxOl4X0IgWDN80H9FiyI44o\n",
      "https://encrypted-tbn0.gstatic.com/images?q=tbn:ANd9GcRRU9Y2aAZoUDO7ZZ-BmFg67E--e2ggAxxnFQ5eQDUZgDqZRIJzodjkP7YAcA\n",
      "https://encrypted-tbn0.gstatic.com/images?q=tbn:ANd9GcS0Yv-wiMqQS5N5To_cskM-eRlSkMJqFq53YCDsxf3lY8LYkmtBl9Y1UOFd\n",
      "https://encrypted-tbn0.gstatic.com/images?q=tbn:ANd9GcTT-Dq2TrtNyZ28bp2Spyl_N0vsmWFmXWJTmr2Cte-KPCFFLrNthsdAlxrw\n",
      "https://encrypted-tbn0.gstatic.com/images?q=tbn:ANd9GcRwkEDx6bw0mwPaYeQRODUNi0tOilpcjjpR69cO-h_JNIY_pF-TR6tFvh80\n",
      "https://encrypted-tbn0.gstatic.com/images?q=tbn:ANd9GcT1NaliyhKCWejpGiqqo58VdnoGct0qxDsSUHn_GNtCAk_FO542L583Ag\n",
      "https://encrypted-tbn0.gstatic.com/images?q=tbn:ANd9GcTF9KQPzm4RYvWO2QsNCxt2WRoi-zVsbrAaNpGOf3v8JIVmM_QwzZfxiKY\n",
      "https://encrypted-tbn0.gstatic.com/images?q=tbn:ANd9GcQRqPNX-g-5-9hNVKroZD5OihUImgaBbJOd9RG5mihug78m694BeYsd9Vg\n",
      "https://encrypted-tbn0.gstatic.com/images?q=tbn:ANd9GcQZMZxH7D9LmRRW8cRUGZFDqSDBU2Eg5YntCTutb8nhu8W89XAJKXA6Szg\n",
      "https://encrypted-tbn0.gstatic.com/images?q=tbn:ANd9GcTRlonv4wsir4gw89rdJuAkENHKg_wAgCVndokHhkKP4uzCvdDIZf1OB54H\n",
      "https://encrypted-tbn0.gstatic.com/images?q=tbn:ANd9GcS881QPVFOXfaFXQW71vEhLVGYJANCvJJMe5LzkiMupOfn1DFOs4wP4svJO9g\n",
      "https://encrypted-tbn0.gstatic.com/images?q=tbn:ANd9GcQ9aSpDufiHjZZ7UfaNLq6cnp8m0x2sBEKHjDvTJZ-1hhYQ1F9xdIFDANc\n",
      "https://encrypted-tbn0.gstatic.com/images?q=tbn:ANd9GcQZW0jurbSZiHpOOAlwOFQxz61jrk2xnESal9JUSdKdzAdk9JNGcy1Rlpjw\n",
      "https://encrypted-tbn0.gstatic.com/images?q=tbn:ANd9GcTTP1o-UrFSTmFewwOj7OevtvNw4oTPEhf0mnKNulT6IIt2yNq5NnE2i14\n",
      "https://encrypted-tbn0.gstatic.com/images?q=tbn:ANd9GcTHemU4YZoOI1tC57lCZ4OiOeFNferNTsdLnRHx-28UtBqLmGVvDvFHJ2w\n",
      "https://encrypted-tbn0.gstatic.com/images?q=tbn:ANd9GcQ-qOxqNeA4OvX6xBzOP3U6cALilKWu6jtLHWiy6plC5Hak9R3Hhx0AyZ4\n",
      "https://encrypted-tbn0.gstatic.com/images?q=tbn:ANd9GcQHSvmUVBlN1OMqPuHzVGTdrb1QEFPCQIiw94hUWhvOU_tcc82VF2kUjJV1cQ\n",
      "https://encrypted-tbn0.gstatic.com/images?q=tbn:ANd9GcR9PT9187Pk6xJMfk0O1Vsu3tWCST7s2mRuV5MbsZFSWTU_i9WjQKf4tJc9\n",
      "https://encrypted-tbn0.gstatic.com/images?q=tbn:ANd9GcRdSJDuYCxt0PFnHkYFuEW2LUo6rkiZ9vUFaRyzCc_n4QudaQeTDCEAiQTC\n",
      "https://encrypted-tbn0.gstatic.com/images?q=tbn:ANd9GcTXWt6KxGBF9SPmmLpI0ZTk-4LiWgErh-iWc33YIj0LfhmsRBM_pZonYZs\n"
     ]
    },
    {
     "name": "stdout",
     "output_type": "stream",
     "text": [
      "https://encrypted-tbn0.gstatic.com/images?q=tbn:ANd9GcQvj7yz83gpe7CDZHvcBNQsq0NFlvPYEL-WC0TlVlKjKJQ9jvVh-Hsbrhw\n",
      "https://encrypted-tbn0.gstatic.com/images?q=tbn:ANd9GcQ5hfnzVFX3WDre3zAvuxilzlv5fvYosHORsDVao7yHRnPHJmD_Vtc_fU8\n",
      "https://encrypted-tbn0.gstatic.com/images?q=tbn:ANd9GcQDMYeqI2q_rFEWYP9b27Uwu_decmt-XbygnCG9mNniFPdgXieEww5iPA\n",
      "https://encrypted-tbn0.gstatic.com/images?q=tbn:ANd9GcQKzxjVhsKJEPBtfIvd0tw11DOnjACdBNnU5N9LfE5tSMMM823qnQwC6rk\n",
      "https://encrypted-tbn0.gstatic.com/images?q=tbn:ANd9GcQ_T27cvdtnOzzdbjXkyrJVUf4OhJh8peojttXrsXrVXsMTre1kkQgj1eC2\n",
      "https://encrypted-tbn0.gstatic.com/images?q=tbn:ANd9GcRzJWq5VKTlm8EsTi7uLgsVmhS3TwEKPbaTIPs66IgmDPj8q69JZ1If2JDK\n",
      "https://encrypted-tbn0.gstatic.com/images?q=tbn:ANd9GcT87Wd0c8i-WkLDPyz2u7L0ZJ_JtBbA5NPOKsogHdxCZfCziY3O5w1alvDS\n",
      "https://encrypted-tbn0.gstatic.com/images?q=tbn:ANd9GcQJmTSdaCpmYtB-_uMXXtqqEbqmerkk2IewGGLlcFnkGk7hstjaQKM6BfBT\n",
      "https://encrypted-tbn0.gstatic.com/images?q=tbn:ANd9GcRgssE-aY3pGpHTEkL0yRsT6fjkh70Ku5NiMtC0GGLoWVNf-7IOBKNPzec\n",
      "https://encrypted-tbn0.gstatic.com/images?q=tbn:ANd9GcTqbDUmHsBv3pFqhg5TQaf61E07KGHnxGy4vmoOpwiGQdbo0mxltU2-OAjf\n",
      "https://encrypted-tbn0.gstatic.com/images?q=tbn:ANd9GcTeW_6JQFvAzv2sa3Yiqt43A2beBSu2y6xUuLh-9PFfddoUJ9kXRqynSjY\n",
      "https://encrypted-tbn0.gstatic.com/images?q=tbn:ANd9GcS_bEkURGLqYla-0yhmrkBmTCtk5DJoh69kIbb6Q3kIp-vfTZd4amAkL9c\n",
      "https://encrypted-tbn0.gstatic.com/images?q=tbn:ANd9GcR-xy2vVMBUFZksldgHst-NGBbvUpnq3pO1oQgVqw-UR9vaL4ehNZsj_Q-h\n",
      "https://encrypted-tbn0.gstatic.com/images?q=tbn:ANd9GcSy45wty9Kpret8pS2ft98oXl2g0uG04mrDsYI_hzXfEDdu24--3nRUn68\n",
      "https://encrypted-tbn0.gstatic.com/images?q=tbn:ANd9GcQ2qMEMIqBgNWYyxw6HXOFV2tLq1hj7dGdvtOydu6fIKwCA94ShyCkOeGvI\n",
      "https://encrypted-tbn0.gstatic.com/images?q=tbn:ANd9GcTvvz8-BvH7zjPceD7ggv5-BkiLPH3XVweqsiaMFfZzxACUSy3tIWmp7Opf\n",
      "https://encrypted-tbn0.gstatic.com/images?q=tbn:ANd9GcQHNPz8jy2CAezWXIVuKtFIK-HeGvQGBy1i4kYbjYZ9dD0IYTL3U7_AdBOW\n",
      "https://encrypted-tbn0.gstatic.com/images?q=tbn:ANd9GcQ_Cq_onid-VwO5VtSPRm1B4wiNtUs85PFC2SyFIGxmAxBil9I_l4jQ1uBv\n",
      "https://encrypted-tbn0.gstatic.com/images?q=tbn:ANd9GcSNecBcrZn-sQXUqUOa3G3CjKdTgdsBi2l8OI_4DlvZcBaNox7A1e6RpQ\n",
      "https://encrypted-tbn0.gstatic.com/images?q=tbn:ANd9GcQFNop7fk7kMJdiGy7HYXFz8QCDCRl3ghmPoMdQMz5SZlvxpZ32PPriEsA\n",
      "https://encrypted-tbn0.gstatic.com/images?q=tbn:ANd9GcQ2kjyfQ-6JijCWrsa6euIfW-UMkKq3poF6zxgPPLLRVlrbMQxMlrGY2Kiw\n",
      "https://encrypted-tbn0.gstatic.com/images?q=tbn:ANd9GcSs7paef3LHehS8uL0ppm50Zr4TFW8gPNMq2y-scjCHErY0zxEF02vbIb0\n",
      "https://encrypted-tbn0.gstatic.com/images?q=tbn:ANd9GcRBMKovU8vqKAIpdxqeFKAhVsKqwQLc-AOKNiJ1IR9E2N1Y5R5qETOFTH5h\n",
      "https://encrypted-tbn0.gstatic.com/images?q=tbn:ANd9GcTFgJhjH6AR0VXFXTeHnb2r7yrVQ4VHlmX3jpXSTPZtBNeM74BqVGGs3pT8\n",
      "https://encrypted-tbn0.gstatic.com/images?q=tbn:ANd9GcQMqcNmJmX_Pwitgkz2_YCjhl0Ev7MWkSLyYyHN-rh3Iqy4lhIL050uaGgN\n",
      "https://encrypted-tbn0.gstatic.com/images?q=tbn:ANd9GcTaRtGjDSRaizrHod9j7qlixTq1zJr67YvwFoyKgaLET2uPyINPIYlvLcA\n",
      "https://encrypted-tbn0.gstatic.com/images?q=tbn:ANd9GcRr5uYlcm93X1E6Vyx6w52EYDSEmnEmPhwfnNtCE-JpQqBr1G47J3VaziM-\n",
      "https://encrypted-tbn0.gstatic.com/images?q=tbn:ANd9GcQQYK7-L4Q283cS55ZogUJZgq6pLlcCcrTrpwewQO6VjUNSwDu8NWbZKDA\n",
      "https://encrypted-tbn0.gstatic.com/images?q=tbn:ANd9GcTBoSFTizj4-DtiA-KYwom3XxVnCLpHMWOdbrT2yX9rGs2c4or1zuHOeP6t\n",
      "https://encrypted-tbn0.gstatic.com/images?q=tbn:ANd9GcRr7Gi6oDgLRapp-1IOocwGd-BJiV0C7dorp2yCvKVQ4VFbjNX77rWGvIBG\n",
      "https://encrypted-tbn0.gstatic.com/images?q=tbn:ANd9GcRZW9vPjPZhUjNoz6Lq7Zxypyixx38SjEAX7X1kwqMVPTYTrG126ntvt-r6\n",
      "https://encrypted-tbn0.gstatic.com/images?q=tbn:ANd9GcTGDX35i238nnAg9RVbA0zDN_aG5ptNMxNmbu9AyvGsa6kBbDuLMmjp0NEI\n",
      "https://encrypted-tbn0.gstatic.com/images?q=tbn:ANd9GcQUN0f56JvfMIC6AESZ0RMV5CYZqY28xtGwjwqyQp9oFW5hbesciuMR9kHI\n",
      "https://encrypted-tbn0.gstatic.com/images?q=tbn:ANd9GcQwHHVZJuKZvYPRGjuY95TAN6NaJjWNbnLtMcSbGzFJ55n7P-TQJKz2QUn-\n",
      "https://encrypted-tbn0.gstatic.com/images?q=tbn:ANd9GcQ7e0mnW45ETISWgEO4g4bjF4FSS3X4ke7rS7t2MRmXQImtKUvv6qNbCVyV\n",
      "https://encrypted-tbn0.gstatic.com/images?q=tbn:ANd9GcQY6XdFAlJtE0GfJE8APfBOspB2ywvwg0p_h5sm1ZtikGKVHU2bGla2tBAk\n",
      "https://encrypted-tbn0.gstatic.com/images?q=tbn:ANd9GcQEfwMZ974RGVfyKZXFvHzYcL8Hn3ZY_wR3HoIHFqvqNJ0vlCK8we6y2Ps\n",
      "https://encrypted-tbn0.gstatic.com/images?q=tbn:ANd9GcSk9VwZ7ZBxWWLkq2ElStUzLsCuCvlacIx4_-dcHwYxbFA-9mrSh8N1oig\n",
      "https://encrypted-tbn0.gstatic.com/images?q=tbn:ANd9GcRchxDqN9TaoQd0-LalAD__iAwKAKqblNi76LgNOxqq0qfX2usUuIzK3PY\n",
      "https://encrypted-tbn0.gstatic.com/images?q=tbn:ANd9GcSZTH8n_2zF2GU1Zo2EleWsA3LgnTayE-wkZyJvxCHUIl_Uso-tvh96cLo\n",
      "https://encrypted-tbn0.gstatic.com/images?q=tbn:ANd9GcT4F_7k8Au83KykxWrV_kHvSUx3cMWzPNxCtIadVwTUu-wCz7RT0t0qRsyT\n",
      "https://encrypted-tbn0.gstatic.com/images?q=tbn:ANd9GcSevUOo_uS2eNxf_HBHWfGntWg2JjEExoVtVR8yNLc-wf7LK9ch40skObSx\n",
      "https://encrypted-tbn0.gstatic.com/images?q=tbn:ANd9GcRuO8dgYYYhicap_qJN4EVWh17ZWNdLMX88CfaQTFXwxF9bFTWd7Dgnii7x\n",
      "https://encrypted-tbn0.gstatic.com/images?q=tbn:ANd9GcT9jeoGiRt8gStNLKwQFVf7u16CfaBaV7NiUkLBfmsLVyGVxKVzyuAhWfs\n",
      "https://encrypted-tbn0.gstatic.com/images?q=tbn:ANd9GcTI33j72HMpP2E4Wy23rJuoUVVgxh0PG5W-KWltxMY6aEMeA_tV8_UCA2Bp\n",
      "https://encrypted-tbn0.gstatic.com/images?q=tbn:ANd9GcSSbTkWpeuuI-ClFoY3X56-wAYByH0Y29vv5u70dObpa8vN_Q0qHcFSsxnd\n",
      "https://encrypted-tbn0.gstatic.com/images?q=tbn:ANd9GcSnGZBrWfEZrCKTr2QuBiFKxj6_m3nI-ixL7EMWFWNWRan0YcQFMUdMC_A\n",
      "https://encrypted-tbn0.gstatic.com/images?q=tbn:ANd9GcSBM43s_W68CdIS2r0CSqCxW_jS1gMLqfL8_LNuPKj9MNjc5yk8LqbNkO3A\n",
      "https://encrypted-tbn0.gstatic.com/images?q=tbn:ANd9GcTgaICp51QyVJst-ulxg4bBmfnKTMK-Nachi1UvBpIGeyLNxQ6GoV9NSZ8\n",
      "https://encrypted-tbn0.gstatic.com/images?q=tbn:ANd9GcRc6ZwQG-gUs_vZxSnPc5fAg6-huM_sSP6iq4VelDGnAA_DThJ4WLsHO4_D\n",
      "https://encrypted-tbn0.gstatic.com/images?q=tbn:ANd9GcRu74BLQs2gRFP3xgX-ggmXoAsUlfqyFO5Q2kTsxVKjVGE6Wr66NAM8uVPf\n",
      "https://encrypted-tbn0.gstatic.com/images?q=tbn:ANd9GcR_UI0V2mZUZPV8o0l1oUamGSP-6kIhfIpBDMnT4Ms-aJoyQRy1w82oXQg\n",
      "https://encrypted-tbn0.gstatic.com/images?q=tbn:ANd9GcSkejim0O3T7d9p1enyQBD5DrBhomK7s1iGMPLXC7kTRLtpnzKG_z0rZgg\n",
      "https://encrypted-tbn0.gstatic.com/images?q=tbn:ANd9GcS2K82ky7LSUj4pvZ97WQJUb21dschL_Ec9FOkuPgJPA_dkSLi1O4obJ5g\n",
      "https://encrypted-tbn0.gstatic.com/images?q=tbn:ANd9GcScNhTS5zQ-S3WeJKF3EZ-9D8Es-ulOCiLqpcGVNFBu-rWYwEmtcBtF2FU\n",
      "https://encrypted-tbn0.gstatic.com/images?q=tbn:ANd9GcRpB9oFKJw2GwMKiHYr34HqP77GWcIBSuauEXIVwEcw9R5zOJa3s724LB0\n",
      "https://encrypted-tbn0.gstatic.com/images?q=tbn:ANd9GcSfx8758lz7CEifwBMcdoE9BCELxvNIIHvP3ZrIvRN3J7ii6t0CPOcpioI\n",
      "https://encrypted-tbn0.gstatic.com/images?q=tbn:ANd9GcSaGLmd22aDIoQqzetPTqSlMMfVAo3UylD5eLsjCZlPEOBIWMGfDOhQXA\n",
      "https://encrypted-tbn0.gstatic.com/images?q=tbn:ANd9GcQBP6ZhoYrVE-en2LKE9CUVwGtnVOZVflTcY1i-vrrBbTQ2HYY-tAtu1Ax-\n",
      "https://encrypted-tbn0.gstatic.com/images?q=tbn:ANd9GcT7_bvzTuS5CeX_Dxo5S-nh_Q-akneIR25Ilo4G-4GWiMvt4EE7o6TytlZd\n",
      "https://encrypted-tbn0.gstatic.com/images?q=tbn:ANd9GcSYATGwyuDXe_Hhw9iFFqsXvvZB_nRKleW79BeszHLGOloL2UqIfhwe9vY\n",
      "https://encrypted-tbn0.gstatic.com/images?q=tbn:ANd9GcSb8-xs4ooXCmuYZybomE-LU0BBXu9FGRTHkLw0BjR4SW5DLCLK3-fH7uqs\n",
      "https://encrypted-tbn0.gstatic.com/images?q=tbn:ANd9GcR6FK5kBDRx8RoeZv3IbJuairE82Gn_0qM0G_2xQdph291GYUYHAJul97I\n",
      "https://encrypted-tbn0.gstatic.com/images?q=tbn:ANd9GcTczjHTxJ2CFwjkSaWLJjMrY7jeKA_XEqsEuuXZnjdHv5DyDpl1YDsuAA\n",
      "https://encrypted-tbn0.gstatic.com/images?q=tbn:ANd9GcRdgm_xVlNZovWtF-zTLBlRHkGX7ITFwwcMAq1RsQtGeKwcmQ-9UC43eYs\n",
      "https://encrypted-tbn0.gstatic.com/images?q=tbn:ANd9GcQUrdCTAy7ZcSXRaHlLlRsG_wdgzdrD8AVCb3UlIbecTOqkrEzfMfOBKnjb\n"
     ]
    }
   ],
   "source": [
    "import requests\n",
    "from lxml import html\n",
    "from time import sleep as slp\n",
    "\n",
    "\n",
    "global count\n",
    "def save_img(keyword):\n",
    "    count=0\n",
    "    for q in range(0,6):\n",
    "        if q==0:\n",
    "            abc=10\n",
    "            lmn=300\n",
    "        if q==1:\n",
    "            abc=310\n",
    "            lmn=600\n",
    "        if q==2:\n",
    "            abc=610\n",
    "            lmn=900\n",
    "        if q==3:\n",
    "            abc=910\n",
    "            lmn=1200\n",
    "        if q==4:\n",
    "            abc=1210\n",
    "            lmn=1500\n",
    "        if q==5:\n",
    "            abc=1510\n",
    "            lmn=1800\n",
    "        for page_no in range(abc, lmn, 20):\n",
    "            slp(10)\n",
    "            r = requests.get('https://www.google.co.in/search?q=' + keyword +'&gbv=1&tbm=isch&start=' + str(page_no))\n",
    "            img_urls = html.fromstring(r.content).xpath('//table[@class=\"images_table\"]//img/@src')\n",
    "            for i, img_url in enumerate(img_urls):\n",
    "                print(img_url)\n",
    "                j=count\n",
    "                f = open(\"S:/bollywood/Facial-Expression-Detection-master/images/Sad/\"+ str(j) + \".jpg\", \"wb\")\n",
    "                f.write(requests.get(img_url).content)\n",
    "                j=j+1\n",
    "                count=j\n",
    "    \n",
    "\n",
    "\n",
    "\n",
    "save_img(\"Unhappy Person Faces\")\n"
   ]
  },
  {
   "cell_type": "code",
   "execution_count": null,
   "metadata": {},
   "outputs": [],
   "source": [
    "i=0\n",
    "for filename in os.listdir(\"C:/Users/SHUBHAM PANDEY/GRAFFERSID_PROJECTS/SWEETS_RECOG/New folder/kulfi/\"):\n",
    "    dst =str(query) +str(i) + \".jpg\"\n",
    "    src =\"C:/Users/SHUBHAM PANDEY/GRAFFERSID_PROJECTS/SWEETS_RECOG/New folder/kulfi/\" filename \n",
    "    dst =\"C:/Users/SHUBHAM PANDEY/GRAFFERSID_PROJECTS/SWEETS_RECOG/train/train/\"+ dst \n",
    "\n",
    "    os.rename(src, dst) \n",
    "    i += 1"
   ]
  },
  {
   "cell_type": "code",
   "execution_count": 3,
   "metadata": {},
   "outputs": [
    {
     "name": "stderr",
     "output_type": "stream",
     "text": [
      "S:\\anaconda\\lib\\site-packages\\h5py\\__init__.py:36: FutureWarning: Conversion of the second argument of issubdtype from `float` to `np.floating` is deprecated. In future, it will be treated as `np.float64 == np.dtype(float).type`.\n",
      "  from ._conv import register_converters as _register_converters\n",
      "Using TensorFlow backend.\n"
     ]
    }
   ],
   "source": [
    "import cv2\n",
    "import numpy as np\n",
    "import os\n",
    "from random import shuffle\n",
    "from PIL import Image\n",
    "import sys\n",
    "from tqdm import tqdm\n",
    "import pickle\n",
    "import tensorflow as tf\n",
    "from tensorflow import keras\n",
    "from keras.models import model_from_json"
   ]
  },
  {
   "cell_type": "code",
   "execution_count": 4,
   "metadata": {},
   "outputs": [],
   "source": [
    "TRAIN_DIR=\"C:/Users/SHUBHAM PANDEY/GRAFFERSID_PROJECTS/Smart_Attendance_System/knn_examples/test/Happy/\"\n",
    "IMG_SIZE=100"
   ]
  },
  {
   "cell_type": "code",
   "execution_count": 6,
   "metadata": {},
   "outputs": [],
   "source": [
    "b=['Calm','Happy']"
   ]
  },
  {
   "cell_type": "code",
   "execution_count": 7,
   "metadata": {},
   "outputs": [],
   "source": [
    "def label_img(img):\n",
    "    word_label=img.split('.')[-2]\n",
    "    print(word_label)\n",
    "    a=len(b)\n",
    "    returning_list = [0] *a\n",
    "    for i in b:\n",
    "        if i in word_label:\n",
    "            q=b.index(i)\n",
    "            print(\"q is\",q)\n",
    "            returning_list[q]=1\n",
    "            return returning_list"
   ]
  },
  {
   "cell_type": "code",
   "execution_count": 10,
   "metadata": {},
   "outputs": [
    {
     "name": "stderr",
     "output_type": "stream",
     "text": [
      "\r",
      "  0%|                                                                                         | 0/7496 [00:00<?, ?it/s]"
     ]
    },
    {
     "name": "stdout",
     "output_type": "stream",
     "text": [
      "Calm (1)\n",
      "q is 0\n",
      "Calm (100)\n",
      "q is 0\n",
      "Calm (1002)\n",
      "q is 0\n",
      "Calm (1003)\n",
      "q is 0\n",
      "Calm (1004)\n",
      "q is 0\n",
      "Calm (1005)\n",
      "q is 0\n",
      "Calm (1006)\n",
      "q is 0\n",
      "Calm (1007)\n",
      "q is 0\n",
      "Calm (1008)\n",
      "q is 0\n",
      "Calm (1009)\n",
      "q is 0\n",
      "Calm (101)\n",
      "q is 0\n",
      "Calm (1010)\n",
      "q is 0\n"
     ]
    },
    {
     "name": "stderr",
     "output_type": "stream",
     "text": [
      "\r",
      "  0%|▏                                                                              | 12/7496 [00:00<01:07, 111.44it/s]"
     ]
    },
    {
     "name": "stdout",
     "output_type": "stream",
     "text": [
      "Calm (1011)\n",
      "q is 0\n",
      "Calm (1012)\n",
      "q is 0\n",
      "Calm (1013)\n",
      "q is 0\n",
      "Calm (1014)\n",
      "q is 0\n",
      "Calm (1015)\n",
      "q is 0\n",
      "Calm (1016)\n",
      "q is 0\n",
      "Calm (1017)\n",
      "q is 0\n",
      "Calm (1018)\n",
      "q is 0\n",
      "Calm (1019)\n",
      "q is 0\n",
      "Calm (102)\n",
      "q is 0\n",
      "Calm (1020)\n",
      "q is 0\n",
      "Calm (1021)\n",
      "q is 0\n"
     ]
    },
    {
     "name": "stderr",
     "output_type": "stream",
     "text": [
      "\r",
      "  0%|▎                                                                              | 24/7496 [00:00<01:06, 112.37it/s]"
     ]
    },
    {
     "name": "stdout",
     "output_type": "stream",
     "text": [
      "Calm (1022)\n",
      "q is 0\n",
      "Calm (1023)\n",
      "q is 0\n",
      "Calm (1024)\n",
      "q is 0\n",
      "Calm (1025)\n",
      "q is 0\n",
      "Calm (1026)\n",
      "q is 0\n",
      "Calm (1027)\n",
      "q is 0\n",
      "Calm (1028)\n",
      "q is 0\n",
      "Calm (103)\n",
      "q is 0\n",
      "Calm (1030)\n",
      "q is 0\n",
      "Calm (1034)\n",
      "q is 0\n",
      "Calm (1035)\n",
      "q is 0\n"
     ]
    },
    {
     "name": "stderr",
     "output_type": "stream",
     "text": [
      "\r",
      "  0%|▎                                                                              | 35/7496 [00:00<01:09, 108.12it/s]"
     ]
    },
    {
     "name": "stdout",
     "output_type": "stream",
     "text": [
      "Calm (1036)\n",
      "q is 0\n",
      "Calm (1037)\n",
      "q is 0\n",
      "Calm (1038)\n",
      "q is 0\n",
      "Calm (1039)\n",
      "q is 0\n",
      "Calm (104)\n",
      "q is 0\n",
      "Calm (105)\n",
      "q is 0\n",
      "Calm (106)\n",
      "q is 0\n",
      "Calm (1076)\n",
      "q is 0\n",
      "Calm (1077)\n",
      "q is 0\n",
      "Calm (1078)\n",
      "q is 0\n",
      "Calm (108)\n",
      "q is 0\n"
     ]
    },
    {
     "name": "stderr",
     "output_type": "stream",
     "text": [
      "\r",
      "  1%|▍                                                                              | 46/7496 [00:00<01:09, 106.87it/s]"
     ]
    },
    {
     "name": "stdout",
     "output_type": "stream",
     "text": [
      "Calm (1080)\n",
      "q is 0\n",
      "Calm (1083)\n",
      "q is 0\n",
      "Calm (109)\n",
      "q is 0\n",
      "Calm (111)\n",
      "q is 0\n",
      "Calm (112)\n",
      "q is 0\n",
      "Calm (1146)\n",
      "q is 0\n",
      "Calm (1153)\n",
      "q is 0\n",
      "Calm (1154)\n",
      "q is 0\n",
      "Calm (1155)\n",
      "q is 0\n",
      "Calm (1156)\n",
      "q is 0\n",
      "Calm (1157)\n",
      "q is 0\n"
     ]
    },
    {
     "name": "stderr",
     "output_type": "stream",
     "text": [
      "\r",
      "  1%|▌                                                                              | 57/7496 [00:00<01:10, 105.40it/s]"
     ]
    },
    {
     "name": "stdout",
     "output_type": "stream",
     "text": [
      "Calm (1158)\n",
      "q is 0\n",
      "Calm (1159)\n",
      "q is 0\n",
      "Calm (1160)\n",
      "q is 0\n",
      "Calm (1161)\n",
      "q is 0\n",
      "Calm (1162)\n",
      "q is 0\n",
      "Calm (1209)\n",
      "q is 0\n",
      "Calm (1210)\n",
      "q is 0\n",
      "Calm (1212)\n",
      "q is 0\n",
      "Calm (1213)\n",
      "q is 0\n",
      "Calm (122)\n",
      "q is 0\n",
      "Calm (1220)\n",
      "q is 0\n"
     ]
    },
    {
     "name": "stderr",
     "output_type": "stream",
     "text": [
      "\r",
      "  1%|▋                                                                              | 68/7496 [00:00<01:10, 104.99it/s]"
     ]
    },
    {
     "name": "stdout",
     "output_type": "stream",
     "text": [
      "Calm (1221)\n",
      "q is 0\n",
      "Calm (1239)\n",
      "q is 0\n",
      "Calm (1245)\n",
      "q is 0\n",
      "Calm (1246)\n",
      "q is 0\n",
      "Calm (125)\n",
      "q is 0\n",
      "Calm (126)\n",
      "q is 0\n",
      "Calm (127)\n",
      "q is 0\n",
      "Calm (1277)\n",
      "q is 0\n",
      "Calm (1278)\n",
      "q is 0\n",
      "Calm (1279)\n",
      "q is 0\n",
      "Calm (1280)\n",
      "q is 0\n",
      "Calm (1281)\n",
      "q is 0\n",
      "Calm (1297)\n",
      "q is 0\n"
     ]
    },
    {
     "name": "stderr",
     "output_type": "stream",
     "text": [
      "\r",
      "  1%|▊                                                                              | 81/7496 [00:00<01:09, 106.84it/s]"
     ]
    },
    {
     "name": "stdout",
     "output_type": "stream",
     "text": [
      "Calm (1298)\n",
      "q is 0\n",
      "Calm (1299)\n",
      "q is 0\n",
      "Calm (1300)\n",
      "q is 0\n",
      "Calm (1301)\n",
      "q is 0\n",
      "Calm (1302)\n",
      "q is 0\n",
      "Calm (1303)\n",
      "q is 0\n",
      "Calm (1304)\n",
      "q is 0\n",
      "Calm (1305)\n",
      "q is 0\n",
      "Calm (1306)\n",
      "q is 0\n",
      "Calm (1307)\n",
      "q is 0\n",
      "Calm (133)\n",
      "q is 0\n"
     ]
    },
    {
     "name": "stderr",
     "output_type": "stream",
     "text": [
      "\r",
      "  1%|▉                                                                              | 92/7496 [00:00<01:09, 106.60it/s]"
     ]
    },
    {
     "name": "stdout",
     "output_type": "stream",
     "text": [
      "Calm (1391)\n",
      "q is 0\n",
      "Calm (141)\n",
      "q is 0\n",
      "Calm (1418)\n",
      "q is 0\n",
      "Calm (1419)\n",
      "q is 0\n",
      "Calm (1420)\n",
      "q is 0\n",
      "Calm (1421)\n",
      "q is 0\n",
      "Calm (1422)\n",
      "q is 0\n",
      "Calm (1427)\n",
      "q is 0\n",
      "Calm (1452)\n",
      "q is 0\n",
      "Calm (1460)\n",
      "q is 0\n",
      "Calm (1464)\n",
      "q is 0\n"
     ]
    },
    {
     "name": "stderr",
     "output_type": "stream",
     "text": [
      "\r",
      "  1%|█                                                                             | 103/7496 [00:00<01:08, 107.37it/s]"
     ]
    },
    {
     "name": "stdout",
     "output_type": "stream",
     "text": [
      "Calm (1493)\n",
      "q is 0\n",
      "Calm (1496)\n",
      "q is 0\n",
      "Calm (1500)\n",
      "q is 0\n",
      "Calm (1502)\n",
      "q is 0\n",
      "Calm (1550)\n",
      "q is 0\n",
      "Calm (1567)\n",
      "q is 0\n",
      "Calm (1583)\n",
      "q is 0\n",
      "Calm (1584)\n",
      "q is 0\n",
      "Calm (1585)\n",
      "q is 0\n",
      "Calm (1642)\n",
      "q is 0\n",
      "Calm (1697)\n",
      "q is 0\n"
     ]
    },
    {
     "name": "stderr",
     "output_type": "stream",
     "text": [
      "\r",
      "  2%|█▏                                                                            | 114/7496 [00:01<01:09, 106.97it/s]"
     ]
    },
    {
     "name": "stdout",
     "output_type": "stream",
     "text": [
      "Calm (1699)\n",
      "q is 0\n",
      "Calm (1700)\n",
      "q is 0\n",
      "Calm (1702)\n",
      "q is 0\n",
      "Calm (1703)\n",
      "q is 0\n",
      "Calm (1706)\n",
      "q is 0\n",
      "Calm (1707)\n",
      "q is 0\n",
      "Calm (1715)\n",
      "q is 0\n",
      "Calm (1716)\n",
      "q is 0\n",
      "Calm (1717)\n",
      "q is 0\n",
      "Calm (1719)\n",
      "q is 0\n",
      "Calm (1720)\n",
      "q is 0\n",
      "Calm (1721)\n",
      "q is 0\n"
     ]
    },
    {
     "name": "stderr",
     "output_type": "stream",
     "text": [
      "\r",
      "  2%|█▎                                                                            | 126/7496 [00:01<01:08, 107.97it/s]"
     ]
    },
    {
     "name": "stdout",
     "output_type": "stream",
     "text": [
      "Calm (1722)\n",
      "q is 0\n",
      "Calm (1723)\n",
      "q is 0\n",
      "Calm (1724)\n",
      "q is 0\n",
      "Calm (1725)\n",
      "q is 0\n",
      "Calm (1727)\n",
      "q is 0\n",
      "Calm (1728)\n",
      "q is 0\n",
      "Calm (1729)\n",
      "q is 0\n",
      "Calm (1730)\n",
      "q is 0\n",
      "Calm (1731)\n",
      "q is 0\n",
      "Calm (1732)\n",
      "q is 0\n",
      "Calm (1733)\n",
      "q is 0\n",
      "Calm (1734)\n",
      "q is 0\n"
     ]
    },
    {
     "name": "stderr",
     "output_type": "stream",
     "text": [
      "\r",
      "  2%|█▍                                                                            | 138/7496 [00:01<01:07, 108.98it/s]"
     ]
    },
    {
     "name": "stdout",
     "output_type": "stream",
     "text": [
      "Calm (1735)\n",
      "q is 0\n",
      "Calm (1736)\n",
      "q is 0\n",
      "Calm (1737)\n",
      "q is 0\n",
      "Calm (1738)\n",
      "q is 0\n",
      "Calm (1739)\n",
      "q is 0\n",
      "Calm (1740)\n",
      "q is 0\n",
      "Calm (1741)\n",
      "q is 0\n",
      "Calm (1742)\n",
      "q is 0\n",
      "Calm (1743)\n",
      "q is 0\n",
      "Calm (1744)\n",
      "q is 0\n",
      "Calm (1745)\n",
      "q is 0\n",
      "Calm (1746)\n",
      "q is 0\n"
     ]
    },
    {
     "name": "stderr",
     "output_type": "stream",
     "text": [
      "\r",
      "  2%|█▌                                                                            | 150/7496 [00:01<01:06, 110.30it/s]"
     ]
    },
    {
     "name": "stdout",
     "output_type": "stream",
     "text": [
      "Calm (1747)\n",
      "q is 0\n",
      "Calm (1748)\n",
      "q is 0\n",
      "Calm (1750)\n",
      "q is 0\n",
      "Calm (1753)\n",
      "q is 0\n",
      "Calm (1754)\n",
      "q is 0\n",
      "Calm (1755)\n",
      "q is 0\n",
      "Calm (1758)\n",
      "q is 0\n",
      "Calm (1760)\n",
      "q is 0\n",
      "Calm (1761)\n",
      "q is 0\n",
      "Calm (1762)\n",
      "q is 0\n",
      "Calm (1788)\n",
      "q is 0\n",
      "Calm (1816)\n",
      "q is 0\n"
     ]
    },
    {
     "name": "stderr",
     "output_type": "stream",
     "text": [
      "\r",
      "  2%|█▋                                                                            | 162/7496 [00:01<01:05, 112.81it/s]"
     ]
    },
    {
     "name": "stdout",
     "output_type": "stream",
     "text": [
      "Calm (1820)\n",
      "q is 0\n",
      "Calm (1821)\n",
      "q is 0\n",
      "Calm (1822)\n",
      "q is 0\n",
      "Calm (1823)\n",
      "q is 0\n",
      "Calm (1824)\n",
      "q is 0\n",
      "Calm (1837)\n",
      "q is 0\n",
      "Calm (1838)\n",
      "q is 0\n",
      "Calm (1863)\n",
      "q is 0\n",
      "Calm (1864)\n",
      "q is 0\n",
      "Calm (1865)\n",
      "q is 0\n",
      "Calm (1866)\n",
      "q is 0\n",
      "Calm (1867)\n",
      "q is 0\n",
      "Calm (1940)\n",
      "q is 0\n"
     ]
    },
    {
     "name": "stderr",
     "output_type": "stream",
     "text": [
      "\r",
      "  2%|█▊                                                                            | 175/7496 [00:01<01:03, 115.06it/s]"
     ]
    },
    {
     "name": "stdout",
     "output_type": "stream",
     "text": [
      "Calm (1941)\n",
      "q is 0\n",
      "Calm (1942)\n",
      "q is 0\n",
      "Calm (1943)\n",
      "q is 0\n",
      "Calm (1944)\n",
      "q is 0\n",
      "Calm (1949)\n",
      "q is 0\n",
      "Calm (1950)\n",
      "q is 0\n",
      "Calm (197)\n",
      "q is 0\n",
      "Calm (2022)\n",
      "q is 0\n",
      "Calm (2023)\n",
      "q is 0\n",
      "Calm (2024)\n",
      "q is 0\n",
      "Calm (2025)\n",
      "q is 0\n",
      "Calm (2026)\n",
      "q is 0\n",
      "Calm (2027)\n",
      "q is 0\n"
     ]
    },
    {
     "name": "stderr",
     "output_type": "stream",
     "text": [
      "\r",
      "  3%|█▉                                                                            | 188/7496 [00:01<01:01, 117.97it/s]"
     ]
    },
    {
     "name": "stdout",
     "output_type": "stream",
     "text": [
      "Calm (2028)\n",
      "q is 0\n",
      "Calm (2029)\n",
      "q is 0\n",
      "Calm (2030)\n",
      "q is 0\n",
      "Calm (2031)\n",
      "q is 0\n",
      "Calm (2032)\n",
      "q is 0\n",
      "Calm (2033)\n",
      "q is 0\n",
      "Calm (2034)\n",
      "q is 0\n",
      "Calm (2035)\n",
      "q is 0\n",
      "Calm (2036)\n",
      "q is 0\n",
      "Calm (2037)\n",
      "q is 0\n",
      "Calm (2038)\n",
      "q is 0\n",
      "Calm (2039)\n",
      "q is 0\n",
      "Calm (2040)\n",
      "q is 0\n"
     ]
    },
    {
     "name": "stderr",
     "output_type": "stream",
     "text": [
      "\r",
      "  3%|██                                                                            | 201/7496 [00:01<01:00, 120.08it/s]"
     ]
    },
    {
     "name": "stdout",
     "output_type": "stream",
     "text": [
      "Calm (2041)\n",
      "q is 0\n",
      "Calm (2042)\n",
      "q is 0\n",
      "Calm (2043)\n",
      "q is 0\n",
      "Calm (2044)\n",
      "q is 0\n",
      "Calm (2045)\n",
      "q is 0\n",
      "Calm (2046)\n",
      "q is 0\n",
      "Calm (2047)\n",
      "q is 0\n",
      "Calm (2048)\n",
      "q is 0\n",
      "Calm (2049)\n",
      "q is 0\n",
      "Calm (2050)\n",
      "q is 0\n",
      "Calm (2051)\n",
      "q is 0\n",
      "Calm (2052)\n",
      "q is 0\n",
      "Calm (2053)\n",
      "q is 0\n"
     ]
    },
    {
     "name": "stderr",
     "output_type": "stream",
     "text": [
      "\r",
      "  3%|██▏                                                                           | 214/7496 [00:01<01:01, 117.98it/s]"
     ]
    },
    {
     "name": "stdout",
     "output_type": "stream",
     "text": [
      "Calm (2054)\n",
      "q is 0\n",
      "Calm (2055)\n",
      "q is 0\n",
      "Calm (2056)\n",
      "q is 0\n",
      "Calm (2057)\n",
      "q is 0\n",
      "Calm (2058)\n",
      "q is 0\n",
      "Calm (2059)\n",
      "q is 0\n",
      "Calm (2061)\n",
      "q is 0\n",
      "Calm (2062)\n",
      "q is 0\n",
      "Calm (2125)\n",
      "q is 0\n",
      "Calm (2167)\n",
      "q is 0\n",
      "Calm (2168)\n",
      "q is 0\n",
      "Calm (2233)\n",
      "q is 0\n"
     ]
    },
    {
     "name": "stderr",
     "output_type": "stream",
     "text": [
      "\r",
      "  3%|██▎                                                                           | 226/7496 [00:02<01:01, 117.28it/s]"
     ]
    },
    {
     "name": "stdout",
     "output_type": "stream",
     "text": [
      "Calm (2234)\n",
      "q is 0\n",
      "Calm (2235)\n",
      "q is 0\n",
      "Calm (2236)\n",
      "q is 0\n",
      "Calm (2245)\n",
      "q is 0\n",
      "Calm (2246)\n",
      "q is 0\n",
      "Calm (2327)\n",
      "q is 0\n",
      "Calm (2382)\n",
      "q is 0\n",
      "Calm (2385)\n",
      "q is 0\n",
      "Calm (2413)\n",
      "q is 0\n",
      "Calm (2414)\n",
      "q is 0\n",
      "Calm (2421)\n",
      "q is 0\n",
      "Calm (2423)\n",
      "q is 0\n",
      "Calm (2499)\n",
      "q is 0\n"
     ]
    },
    {
     "name": "stderr",
     "output_type": "stream",
     "text": [
      "\r",
      "  3%|██▍                                                                           | 239/7496 [00:02<01:01, 118.93it/s]"
     ]
    },
    {
     "name": "stdout",
     "output_type": "stream",
     "text": [
      "Calm (2500)\n",
      "q is 0\n",
      "Calm (2501)\n",
      "q is 0\n",
      "Calm (2502)\n",
      "q is 0\n",
      "Calm (2503)\n",
      "q is 0\n",
      "Calm (2504)\n",
      "q is 0\n",
      "Calm (2505)\n",
      "q is 0\n",
      "Calm (2506)\n",
      "q is 0\n",
      "Calm (2507)\n",
      "q is 0\n",
      "Calm (2508)\n",
      "q is 0\n",
      "Calm (2509)\n",
      "q is 0\n",
      "Calm (2510)\n",
      "q is 0\n",
      "Calm (2511)\n",
      "q is 0\n"
     ]
    },
    {
     "name": "stderr",
     "output_type": "stream",
     "text": [
      "\r",
      "  3%|██▌                                                                           | 251/7496 [00:02<01:01, 118.29it/s]"
     ]
    },
    {
     "name": "stdout",
     "output_type": "stream",
     "text": [
      "Calm (2512)\n",
      "q is 0\n",
      "Calm (2513)\n",
      "q is 0\n",
      "Calm (2514)\n",
      "q is 0\n",
      "Calm (2515)\n",
      "q is 0\n",
      "Calm (2516)\n",
      "q is 0\n",
      "Calm (2517)\n",
      "q is 0\n",
      "Calm (2518)\n",
      "q is 0\n",
      "Calm (2519)\n",
      "q is 0\n",
      "Calm (2520)\n",
      "q is 0\n",
      "Calm (2521)\n",
      "q is 0\n",
      "Calm (2522)\n",
      "q is 0\n",
      "Calm (2523)\n",
      "q is 0\n",
      "Calm (2524)\n",
      "q is 0\n"
     ]
    },
    {
     "name": "stderr",
     "output_type": "stream",
     "text": [
      "\r",
      "  4%|██▋                                                                           | 264/7496 [00:02<00:59, 120.99it/s]"
     ]
    },
    {
     "name": "stdout",
     "output_type": "stream",
     "text": [
      "Calm (2525)\n",
      "q is 0\n",
      "Calm (2526)\n",
      "q is 0\n",
      "Calm (2527)\n",
      "q is 0\n",
      "Calm (2528)\n",
      "q is 0\n",
      "Calm (2529)\n",
      "q is 0\n",
      "Calm (2530)\n",
      "q is 0\n",
      "Calm (2531)\n",
      "q is 0\n",
      "Calm (2532)\n",
      "q is 0\n",
      "Calm (2533)\n",
      "q is 0\n",
      "Calm (2534)\n",
      "q is 0\n",
      "Calm (2535)\n",
      "q is 0\n",
      "Calm (2536)\n",
      "q is 0\n",
      "Calm (2537)\n",
      "q is 0\n"
     ]
    },
    {
     "name": "stderr",
     "output_type": "stream",
     "text": [
      "\r",
      "  4%|██▉                                                                           | 277/7496 [00:02<00:59, 122.26it/s]"
     ]
    },
    {
     "name": "stdout",
     "output_type": "stream",
     "text": [
      "Calm (2538)\n",
      "q is 0\n",
      "Calm (2539)\n",
      "q is 0\n",
      "Calm (2540)\n",
      "q is 0\n",
      "Calm (2541)\n",
      "q is 0\n",
      "Calm (2542)\n",
      "q is 0\n",
      "Calm (2543)\n",
      "q is 0\n",
      "Calm (2544)\n",
      "q is 0\n",
      "Calm (2545)\n",
      "q is 0\n",
      "Calm (2546)\n",
      "q is 0\n",
      "Calm (2547)\n",
      "q is 0\n",
      "Calm (2548)\n",
      "q is 0\n",
      "Calm (2549)\n",
      "q is 0\n",
      "Calm (2550)\n",
      "q is 0\n"
     ]
    },
    {
     "name": "stderr",
     "output_type": "stream",
     "text": [
      "\r",
      "  4%|███                                                                           | 290/7496 [00:02<01:00, 118.47it/s]"
     ]
    },
    {
     "name": "stdout",
     "output_type": "stream",
     "text": [
      "Calm (2551)\n",
      "q is 0\n",
      "Calm (2552)\n",
      "q is 0\n",
      "Calm (2553)\n",
      "q is 0\n",
      "Calm (2554)\n",
      "q is 0\n",
      "Calm (2555)\n",
      "q is 0\n",
      "Calm (2556)\n",
      "q is 0\n",
      "Calm (2557)\n",
      "q is 0\n",
      "Calm (2558)\n",
      "q is 0\n",
      "Calm (2559)\n",
      "q is 0\n",
      "Calm (2560)\n",
      "q is 0\n",
      "Calm (2561)\n",
      "q is 0\n",
      "Calm (2562)\n",
      "q is 0\n",
      "Calm (2563)\n",
      "q is 0\n"
     ]
    },
    {
     "name": "stderr",
     "output_type": "stream",
     "text": [
      "\r",
      "  4%|███▏                                                                          | 303/7496 [00:02<00:59, 120.11it/s]"
     ]
    },
    {
     "name": "stdout",
     "output_type": "stream",
     "text": [
      "Calm (2564)\n",
      "q is 0\n",
      "Calm (2565)\n",
      "q is 0\n",
      "Calm (2566)\n",
      "q is 0\n",
      "Calm (2567)\n",
      "q is 0\n",
      "Calm (2568)\n",
      "q is 0\n",
      "Calm (2569)\n",
      "q is 0\n",
      "Calm (2570)\n",
      "q is 0\n",
      "Calm (2571)\n",
      "q is 0\n",
      "Calm (2572)\n",
      "q is 0\n",
      "Calm (2573)\n",
      "q is 0\n",
      "Calm (2574)\n",
      "q is 0\n",
      "Calm (2575)\n",
      "q is 0\n",
      "Calm (2576)\n",
      "q is 0\n"
     ]
    },
    {
     "name": "stderr",
     "output_type": "stream",
     "text": [
      "\r",
      "  4%|███▎                                                                          | 316/7496 [00:02<01:00, 118.64it/s]"
     ]
    },
    {
     "name": "stdout",
     "output_type": "stream",
     "text": [
      "Calm (2577)\n",
      "q is 0\n",
      "Calm (2578)\n",
      "q is 0\n",
      "Calm (2579)\n",
      "q is 0\n",
      "Calm (2580)\n",
      "q is 0\n",
      "Calm (2581)\n",
      "q is 0\n",
      "Calm (2582)\n",
      "q is 0\n",
      "Calm (2583)\n",
      "q is 0\n",
      "Calm (2584)\n",
      "q is 0\n",
      "Calm (2585)\n",
      "q is 0\n",
      "Calm (2586)\n",
      "q is 0\n",
      "Calm (2587)\n",
      "q is 0\n",
      "Calm (2588)\n",
      "q is 0\n"
     ]
    },
    {
     "name": "stderr",
     "output_type": "stream",
     "text": [
      "\r",
      "  4%|███▍                                                                          | 328/7496 [00:02<01:00, 118.79it/s]"
     ]
    },
    {
     "name": "stdout",
     "output_type": "stream",
     "text": [
      "Calm (2589)\n",
      "q is 0\n",
      "Calm (2590)\n",
      "q is 0\n",
      "Calm (2591)\n",
      "q is 0\n",
      "Calm (2592)\n",
      "q is 0\n",
      "Calm (2593)\n",
      "q is 0\n",
      "Calm (2594)\n",
      "q is 0\n",
      "Calm (2595)\n",
      "q is 0\n",
      "Calm (2596)\n",
      "q is 0\n",
      "Calm (2597)\n",
      "q is 0\n",
      "Calm (2598)\n",
      "q is 0\n",
      "Calm (2599)\n",
      "q is 0\n",
      "Calm (2600)\n",
      "q is 0\n",
      "Calm (2601)\n",
      "q is 0\n"
     ]
    },
    {
     "name": "stderr",
     "output_type": "stream",
     "text": [
      "\r",
      "  5%|███▌                                                                          | 341/7496 [00:02<00:59, 120.68it/s]"
     ]
    },
    {
     "name": "stdout",
     "output_type": "stream",
     "text": [
      "Calm (2602)\n",
      "q is 0\n",
      "Calm (2603)\n",
      "q is 0\n",
      "Calm (2604)\n",
      "q is 0\n",
      "Calm (2605)\n",
      "q is 0\n",
      "Calm (2606)\n",
      "q is 0\n",
      "Calm (2607)\n",
      "q is 0\n",
      "Calm (2608)\n",
      "q is 0\n",
      "Calm (2609)\n",
      "q is 0\n",
      "Calm (2610)\n",
      "q is 0\n",
      "Calm (2611)\n",
      "q is 0\n",
      "Calm (2612)\n",
      "q is 0\n",
      "Calm (2613)\n",
      "q is 0\n",
      "Calm (2614)\n",
      "q is 0\n"
     ]
    },
    {
     "name": "stderr",
     "output_type": "stream",
     "text": [
      "\r",
      "  5%|███▋                                                                          | 354/7496 [00:03<01:01, 116.47it/s]"
     ]
    },
    {
     "name": "stdout",
     "output_type": "stream",
     "text": [
      "Calm (2615)\n",
      "q is 0\n",
      "Calm (2616)\n",
      "q is 0\n",
      "Calm (2617)\n",
      "q is 0\n",
      "Calm (2618)\n",
      "q is 0\n",
      "Calm (2619)\n",
      "q is 0\n",
      "Calm (2620)\n",
      "q is 0\n",
      "Calm (2621)\n",
      "q is 0\n",
      "Calm (2622)\n",
      "q is 0\n",
      "Calm (2623)\n",
      "q is 0\n",
      "Calm (2624)\n",
      "q is 0\n",
      "Calm (2625)\n",
      "q is 0\n",
      "Calm (2626)\n",
      "q is 0\n",
      "Calm (2627)\n",
      "q is 0\n"
     ]
    },
    {
     "name": "stderr",
     "output_type": "stream",
     "text": [
      "\r",
      "  5%|███▊                                                                          | 367/7496 [00:03<01:00, 118.35it/s]"
     ]
    },
    {
     "name": "stdout",
     "output_type": "stream",
     "text": [
      "Calm (2628)\n",
      "q is 0\n",
      "Calm (2629)\n",
      "q is 0\n",
      "Calm (2630)\n",
      "q is 0\n",
      "Calm (2631)\n",
      "q is 0\n",
      "Calm (2632)\n",
      "q is 0\n",
      "Calm (2633)\n",
      "q is 0\n",
      "Calm (2634)\n",
      "q is 0\n",
      "Calm (2635)\n",
      "q is 0\n",
      "Calm (2636)\n",
      "q is 0\n",
      "Calm (2637)\n",
      "q is 0\n",
      "Calm (2638)\n",
      "q is 0\n",
      "Calm (2639)\n",
      "q is 0\n",
      "Calm (2640)\n",
      "q is 0\n"
     ]
    },
    {
     "name": "stderr",
     "output_type": "stream",
     "text": [
      "\r",
      "  5%|███▉                                                                          | 380/7496 [00:03<00:58, 120.70it/s]"
     ]
    },
    {
     "name": "stdout",
     "output_type": "stream",
     "text": [
      "Calm (2641)\n",
      "q is 0\n",
      "Calm (2642)\n",
      "q is 0\n",
      "Calm (2643)\n",
      "q is 0\n",
      "Calm (2644)\n",
      "q is 0\n",
      "Calm (2645)\n",
      "q is 0\n",
      "Calm (2646)\n",
      "q is 0\n",
      "Calm (2647)\n",
      "q is 0\n",
      "Calm (2648)\n",
      "q is 0\n",
      "Calm (2649)\n",
      "q is 0\n",
      "Calm (2650)\n",
      "q is 0\n",
      "Calm (2651)\n",
      "q is 0\n",
      "Calm (2652)\n",
      "q is 0\n",
      "Calm (2653)\n",
      "q is 0\n"
     ]
    },
    {
     "name": "stderr",
     "output_type": "stream",
     "text": [
      "\r",
      "  5%|████                                                                          | 393/7496 [00:03<01:10, 100.12it/s]"
     ]
    },
    {
     "name": "stdout",
     "output_type": "stream",
     "text": [
      "Calm (2654)\n",
      "q is 0\n",
      "Calm (2655)\n",
      "q is 0\n",
      "Calm (2656)\n",
      "q is 0\n",
      "Calm (2657)\n",
      "q is 0\n",
      "Calm (2658)\n",
      "q is 0\n",
      "Calm (2659)\n",
      "q is 0\n",
      "Calm (2660)\n",
      "q is 0\n",
      "Calm (2661)\n",
      "q is 0\n",
      "Calm (2662)\n",
      "q is 0\n",
      "Calm (2663)\n",
      "q is 0\n",
      "Calm (2664)\n",
      "q is 0\n",
      "Calm (2665)\n",
      "q is 0\n",
      "Calm (2666)\n",
      "q is 0\n",
      "Calm (2667)\n",
      "q is 0\n"
     ]
    },
    {
     "name": "stderr",
     "output_type": "stream",
     "text": [
      "\r",
      "  5%|████▏                                                                         | 407/7496 [00:03<01:05, 107.53it/s]"
     ]
    },
    {
     "name": "stdout",
     "output_type": "stream",
     "text": [
      "Calm (2668)\n",
      "q is 0\n",
      "Calm (2669)\n",
      "q is 0\n",
      "Calm (2670)\n",
      "q is 0\n",
      "Calm (2671)\n",
      "q is 0\n",
      "Calm (2672)\n",
      "q is 0\n",
      "Calm (2673)\n",
      "q is 0\n",
      "Calm (2674)\n",
      "q is 0\n",
      "Calm (2675)\n",
      "q is 0\n",
      "Calm (2676)\n",
      "q is 0\n",
      "Calm (2677)\n",
      "q is 0\n",
      "Calm (2678)\n",
      "q is 0\n",
      "Calm (2679)\n",
      "q is 0\n",
      "Calm (2680)\n",
      "q is 0\n"
     ]
    },
    {
     "name": "stderr",
     "output_type": "stream",
     "text": [
      "\r",
      "  6%|████▎                                                                         | 420/7496 [00:03<01:03, 112.31it/s]"
     ]
    },
    {
     "name": "stdout",
     "output_type": "stream",
     "text": [
      "Calm (2681)\n",
      "q is 0\n",
      "Calm (2682)\n",
      "q is 0\n",
      "Calm (2683)\n",
      "q is 0\n",
      "Calm (2684)\n",
      "q is 0\n",
      "Calm (2685)\n",
      "q is 0\n",
      "Calm (2686)\n",
      "q is 0\n",
      "Calm (2687)\n",
      "q is 0\n",
      "Calm (2688)\n",
      "q is 0\n",
      "Calm (2689)\n",
      "q is 0\n",
      "Calm (2690)\n",
      "q is 0\n",
      "Calm (2691)\n",
      "q is 0\n",
      "Calm (2692)\n",
      "q is 0\n",
      "Calm (2693)\n",
      "q is 0\n",
      "Calm (2694)\n",
      "q is 0\n"
     ]
    },
    {
     "name": "stderr",
     "output_type": "stream",
     "text": [
      "\r",
      "  6%|████▌                                                                         | 434/7496 [00:03<01:00, 117.38it/s]"
     ]
    },
    {
     "name": "stdout",
     "output_type": "stream",
     "text": [
      "Calm (2695)\n",
      "q is 0\n",
      "Calm (2696)\n",
      "q is 0\n",
      "Calm (2697)\n",
      "q is 0\n",
      "Calm (2698)\n",
      "q is 0\n",
      "Calm (2699)\n",
      "q is 0\n",
      "Calm (2700)\n",
      "q is 0\n",
      "Calm (2701)\n",
      "q is 0\n",
      "Calm (2702)\n",
      "q is 0\n",
      "Calm (2703)\n",
      "q is 0\n",
      "Calm (2704)\n",
      "q is 0\n",
      "Calm (2705)\n",
      "q is 0\n",
      "Calm (2706)\n",
      "q is 0\n",
      "Calm (2707)\n",
      "q is 0\n"
     ]
    },
    {
     "name": "stderr",
     "output_type": "stream",
     "text": [
      "\r",
      "  6%|████▋                                                                         | 447/7496 [00:03<01:00, 116.77it/s]"
     ]
    },
    {
     "name": "stdout",
     "output_type": "stream",
     "text": [
      "Calm (2708)\n",
      "q is 0\n",
      "Calm (2709)\n",
      "q is 0\n",
      "Calm (2710)\n",
      "q is 0\n",
      "Calm (2711)\n",
      "q is 0\n",
      "Calm (2712)\n",
      "q is 0\n",
      "Calm (2713)\n",
      "q is 0\n",
      "Calm (2714)\n",
      "q is 0\n",
      "Calm (2715)\n",
      "q is 0\n",
      "Calm (2716)\n",
      "q is 0\n",
      "Calm (2717)\n",
      "q is 0\n",
      "Calm (2718)\n",
      "q is 0\n",
      "Calm (2719)\n",
      "q is 0\n",
      "Calm (2720)\n",
      "q is 0\n",
      "Calm (2721)\n",
      "q is 0\n"
     ]
    },
    {
     "name": "stderr",
     "output_type": "stream",
     "text": [
      "\r",
      "  6%|████▊                                                                         | 461/7496 [00:04<00:58, 121.06it/s]"
     ]
    },
    {
     "name": "stdout",
     "output_type": "stream",
     "text": [
      "Calm (2722)\n",
      "q is 0\n",
      "Calm (2723)\n",
      "q is 0\n",
      "Calm (2724)\n",
      "q is 0\n",
      "Calm (2725)\n",
      "q is 0\n",
      "Calm (2726)\n",
      "q is 0\n",
      "Calm (2727)\n",
      "q is 0\n",
      "Calm (2728)\n",
      "q is 0\n",
      "Calm (2729)\n",
      "q is 0\n",
      "Calm (2730)\n",
      "q is 0\n",
      "Calm (2731)\n",
      "q is 0\n",
      "Calm (2732)\n",
      "q is 0\n",
      "Calm (2733)\n",
      "q is 0\n",
      "Calm (2734)\n",
      "q is 0\n",
      "Calm (2735)\n",
      "q is 0\n"
     ]
    },
    {
     "name": "stderr",
     "output_type": "stream",
     "text": [
      "\r",
      "  6%|████▉                                                                         | 475/7496 [00:04<00:56, 125.26it/s]"
     ]
    },
    {
     "name": "stdout",
     "output_type": "stream",
     "text": [
      "Calm (2736)\n",
      "q is 0\n",
      "Calm (2737)\n",
      "q is 0\n",
      "Calm (2738)\n",
      "q is 0\n",
      "Calm (2739)\n",
      "q is 0\n",
      "Calm (2740)\n",
      "q is 0\n",
      "Calm (2741)\n",
      "q is 0\n",
      "Calm (2742)\n",
      "q is 0\n",
      "Calm (2743)\n",
      "q is 0\n",
      "Calm (2744)\n",
      "q is 0\n",
      "Calm (2745)\n",
      "q is 0\n",
      "Calm (2746)\n",
      "q is 0\n",
      "Calm (2747)\n",
      "q is 0\n",
      "Calm (2748)\n",
      "q is 0\n"
     ]
    },
    {
     "name": "stderr",
     "output_type": "stream",
     "text": [
      "\r",
      "  7%|█████                                                                         | 488/7496 [00:04<00:56, 123.15it/s]"
     ]
    },
    {
     "name": "stdout",
     "output_type": "stream",
     "text": [
      "Calm (2749)\n",
      "q is 0\n",
      "Calm (2750)\n",
      "q is 0\n",
      "Calm (2751)\n",
      "q is 0\n",
      "Calm (2752)\n",
      "q is 0\n",
      "Calm (2753)\n",
      "q is 0\n",
      "Calm (2754)\n",
      "q is 0\n",
      "Calm (2755)\n",
      "q is 0\n",
      "Calm (2756)\n",
      "q is 0\n",
      "Calm (2757)\n",
      "q is 0\n",
      "Calm (2758)\n",
      "q is 0\n",
      "Calm (2759)\n",
      "q is 0\n",
      "Calm (2760)\n",
      "q is 0\n",
      "Calm (2761)\n",
      "q is 0\n",
      "Calm (2762)\n",
      "q is 0\n"
     ]
    },
    {
     "name": "stderr",
     "output_type": "stream",
     "text": [
      "\r",
      "  7%|█████▏                                                                        | 502/7496 [00:04<00:55, 126.13it/s]"
     ]
    },
    {
     "name": "stdout",
     "output_type": "stream",
     "text": [
      "Calm (2763)\n",
      "q is 0\n",
      "Calm (2764)\n",
      "q is 0\n",
      "Calm (2765)\n",
      "q is 0\n",
      "Calm (2766)\n",
      "q is 0\n",
      "Calm (2767)\n",
      "q is 0\n",
      "Calm (2768)\n",
      "q is 0\n",
      "Calm (2769)\n",
      "q is 0\n",
      "Calm (2770)\n",
      "q is 0\n",
      "Calm (2771)\n",
      "q is 0\n",
      "Calm (2772)\n",
      "q is 0\n",
      "Calm (2773)\n",
      "q is 0\n",
      "Calm (2774)\n",
      "q is 0\n",
      "Calm (2775)\n",
      "q is 0\n",
      "Calm (2776)\n",
      "q is 0\n"
     ]
    },
    {
     "name": "stderr",
     "output_type": "stream",
     "text": [
      "\r",
      "  7%|█████▎                                                                        | 516/7496 [00:04<00:54, 128.66it/s]"
     ]
    },
    {
     "name": "stdout",
     "output_type": "stream",
     "text": [
      "Calm (2777)\n",
      "q is 0\n",
      "Calm (2778)\n",
      "q is 0\n",
      "Calm (2779)\n",
      "q is 0\n",
      "Calm (2780)\n",
      "q is 0\n",
      "Calm (2781)\n",
      "q is 0\n",
      "Calm (2782)\n",
      "q is 0\n",
      "Calm (2783)\n",
      "q is 0\n",
      "Calm (2784)\n",
      "q is 0\n",
      "Calm (2785)\n",
      "q is 0\n",
      "Calm (2786)\n",
      "q is 0\n",
      "Calm (2787)\n",
      "q is 0\n",
      "Calm (2788)\n",
      "q is 0\n",
      "Calm (2789)\n",
      "q is 0\n"
     ]
    },
    {
     "name": "stderr",
     "output_type": "stream",
     "text": [
      "\r",
      "  7%|█████▌                                                                        | 529/7496 [00:04<00:54, 127.27it/s]"
     ]
    },
    {
     "name": "stdout",
     "output_type": "stream",
     "text": [
      "Calm (2790)\n",
      "q is 0\n",
      "Calm (2791)\n",
      "q is 0\n",
      "Calm (2792)\n",
      "q is 0\n",
      "Calm (2793)\n",
      "q is 0\n",
      "Calm (2794)\n",
      "q is 0\n",
      "Calm (2795)\n",
      "q is 0\n",
      "Calm (2796)\n",
      "q is 0\n",
      "Calm (2797)\n",
      "q is 0\n",
      "Calm (2798)\n",
      "q is 0\n",
      "Calm (2799)\n",
      "q is 0\n",
      "Calm (2800)\n",
      "q is 0\n",
      "Calm (2801)\n",
      "q is 0\n",
      "Calm (2802)\n",
      "q is 0\n"
     ]
    },
    {
     "name": "stderr",
     "output_type": "stream",
     "text": [
      "\r",
      "  7%|█████▋                                                                        | 542/7496 [00:04<00:54, 127.43it/s]"
     ]
    },
    {
     "name": "stdout",
     "output_type": "stream",
     "text": [
      "Calm (2803)\n",
      "q is 0\n",
      "Calm (2804)\n",
      "q is 0\n",
      "Calm (2805)\n",
      "q is 0\n",
      "Calm (2806)\n",
      "q is 0\n",
      "Calm (2807)\n",
      "q is 0\n",
      "Calm (2808)\n",
      "q is 0\n",
      "Calm (2809)\n",
      "q is 0\n",
      "Calm (2810)\n",
      "q is 0\n",
      "Calm (2811)\n",
      "q is 0\n",
      "Calm (2812)\n",
      "q is 0\n",
      "Calm (2813)\n",
      "q is 0\n",
      "Calm (2814)\n",
      "q is 0\n",
      "Calm (2815)\n",
      "q is 0\n"
     ]
    },
    {
     "name": "stderr",
     "output_type": "stream",
     "text": [
      "\r",
      "  7%|█████▊                                                                        | 555/7496 [00:04<00:54, 127.16it/s]"
     ]
    },
    {
     "name": "stdout",
     "output_type": "stream",
     "text": [
      "Calm (2816)\n",
      "q is 0\n",
      "Calm (2817)\n",
      "q is 0\n",
      "Calm (2818)\n",
      "q is 0\n",
      "Calm (2819)\n",
      "q is 0\n",
      "Calm (2820)\n",
      "q is 0\n",
      "Calm (2821)\n",
      "q is 0\n",
      "Calm (2822)\n",
      "q is 0\n",
      "Calm (2823)\n",
      "q is 0\n",
      "Calm (2824)\n",
      "q is 0\n",
      "Calm (2825)\n",
      "q is 0\n",
      "Calm (2826)\n",
      "q is 0\n",
      "Calm (2827)\n",
      "q is 0\n",
      "Calm (2828)\n",
      "q is 0\n"
     ]
    },
    {
     "name": "stderr",
     "output_type": "stream",
     "text": [
      "\r",
      "  8%|█████▉                                                                        | 568/7496 [00:04<00:54, 126.61it/s]"
     ]
    },
    {
     "name": "stdout",
     "output_type": "stream",
     "text": [
      "Calm (2829)\n",
      "q is 0\n",
      "Calm (2830)\n",
      "q is 0\n",
      "Calm (2831)\n",
      "q is 0\n",
      "Calm (2832)\n",
      "q is 0\n",
      "Calm (2833)\n",
      "q is 0\n",
      "Calm (2834)\n",
      "q is 0\n",
      "Calm (2835)\n",
      "q is 0\n",
      "Calm (2836)\n",
      "q is 0\n",
      "Calm (2837)\n",
      "q is 0\n",
      "Calm (2838)\n",
      "q is 0\n",
      "Calm (2839)\n",
      "q is 0\n",
      "Calm (2840)\n",
      "q is 0\n",
      "Calm (2841)\n",
      "q is 0\n"
     ]
    },
    {
     "name": "stderr",
     "output_type": "stream",
     "text": [
      "\r",
      "  8%|██████                                                                        | 581/7496 [00:04<00:54, 125.86it/s]"
     ]
    },
    {
     "name": "stdout",
     "output_type": "stream",
     "text": [
      "Calm (2842)\n",
      "q is 0\n",
      "Calm (2843)\n",
      "q is 0\n",
      "Calm (2844)\n",
      "q is 0\n",
      "Calm (2845)\n",
      "q is 0\n",
      "Calm (2846)\n",
      "q is 0\n",
      "Calm (2847)\n",
      "q is 0\n",
      "Calm (2848)\n",
      "q is 0\n",
      "Calm (2849)\n",
      "q is 0\n",
      "Calm (2850)\n",
      "q is 0\n",
      "Calm (2851)\n",
      "q is 0\n",
      "Calm (2852)\n",
      "q is 0\n",
      "Calm (2853)\n",
      "q is 0\n",
      "Calm (2854)\n",
      "q is 0\n"
     ]
    },
    {
     "name": "stderr",
     "output_type": "stream",
     "text": [
      "\r",
      "  8%|██████▏                                                                       | 594/7496 [00:05<00:56, 122.17it/s]"
     ]
    },
    {
     "name": "stdout",
     "output_type": "stream",
     "text": [
      "Calm (2855)\n",
      "q is 0\n",
      "Calm (2856)\n",
      "q is 0\n",
      "Calm (2857)\n",
      "q is 0\n",
      "Calm (2858)\n",
      "q is 0\n",
      "Calm (2859)\n",
      "q is 0\n",
      "Calm (2860)\n",
      "q is 0\n",
      "Calm (2861)\n",
      "q is 0\n",
      "Calm (2862)\n",
      "q is 0\n",
      "Calm (2863)\n",
      "q is 0\n",
      "Calm (2864)\n",
      "q is 0\n",
      "Calm (2865)\n",
      "q is 0\n",
      "Calm (2866)\n",
      "q is 0\n",
      "Calm (2867)\n",
      "q is 0\n",
      "Calm (2868)\n",
      "q is 0\n"
     ]
    },
    {
     "name": "stderr",
     "output_type": "stream",
     "text": [
      "\r",
      "  8%|██████▎                                                                       | 608/7496 [00:05<00:54, 125.41it/s]"
     ]
    },
    {
     "name": "stdout",
     "output_type": "stream",
     "text": [
      "Calm (2869)\n",
      "q is 0\n",
      "Calm (2870)\n",
      "q is 0\n",
      "Calm (2871)\n",
      "q is 0\n",
      "Calm (2872)\n",
      "q is 0\n",
      "Calm (2873)\n",
      "q is 0\n",
      "Calm (2874)\n",
      "q is 0\n",
      "Calm (2875)\n",
      "q is 0\n",
      "Calm (2876)\n",
      "q is 0\n",
      "Calm (2877)\n",
      "q is 0\n",
      "Calm (2878)\n",
      "q is 0\n",
      "Calm (2879)\n",
      "q is 0\n",
      "Calm (2880)\n",
      "q is 0\n",
      "Calm (2881)\n",
      "q is 0\n"
     ]
    },
    {
     "name": "stderr",
     "output_type": "stream",
     "text": [
      "\r",
      "  8%|██████▍                                                                       | 621/7496 [00:05<00:54, 125.39it/s]"
     ]
    },
    {
     "name": "stdout",
     "output_type": "stream",
     "text": [
      "Calm (2882)\n",
      "q is 0\n",
      "Calm (2883)\n",
      "q is 0\n",
      "Calm (2884)\n",
      "q is 0\n",
      "Calm (2885)\n",
      "q is 0\n",
      "Calm (2886)\n",
      "q is 0\n",
      "Calm (2887)\n",
      "q is 0\n",
      "Calm (2888)\n",
      "q is 0\n",
      "Calm (2889)\n",
      "q is 0\n",
      "Calm (2890)\n",
      "q is 0\n",
      "Calm (2891)\n",
      "q is 0\n",
      "Calm (2892)\n",
      "q is 0\n",
      "Calm (2893)\n",
      "q is 0\n",
      "Calm (2894)\n",
      "q is 0\n"
     ]
    },
    {
     "name": "stderr",
     "output_type": "stream",
     "text": [
      "\r",
      "  8%|██████▌                                                                       | 634/7496 [00:05<00:54, 125.01it/s]"
     ]
    },
    {
     "name": "stdout",
     "output_type": "stream",
     "text": [
      "Calm (2895)\n",
      "q is 0\n",
      "Calm (2896)\n",
      "q is 0\n",
      "Calm (2897)\n",
      "q is 0\n",
      "Calm (2898)\n",
      "q is 0\n",
      "Calm (2899)\n",
      "q is 0\n",
      "Calm (2900)\n",
      "q is 0\n",
      "Calm (2901)\n",
      "q is 0\n",
      "Calm (2902)\n",
      "q is 0\n",
      "Calm (2903)\n",
      "q is 0\n",
      "Calm (2904)\n",
      "q is 0\n",
      "Calm (2905)\n",
      "q is 0\n",
      "Calm (2906)\n",
      "q is 0\n",
      "Calm (2907)\n",
      "q is 0\n"
     ]
    },
    {
     "name": "stderr",
     "output_type": "stream",
     "text": [
      "\r",
      "  9%|██████▋                                                                       | 647/7496 [00:05<00:54, 124.75it/s]"
     ]
    },
    {
     "name": "stdout",
     "output_type": "stream",
     "text": [
      "Calm (2908)\n",
      "q is 0\n",
      "Calm (2909)\n",
      "q is 0\n",
      "Calm (2910)\n",
      "q is 0\n",
      "Calm (2911)\n",
      "q is 0\n",
      "Calm (2912)\n",
      "q is 0\n",
      "Calm (2913)\n",
      "q is 0\n",
      "Calm (2914)\n",
      "q is 0\n",
      "Calm (2915)\n",
      "q is 0\n",
      "Calm (2916)\n",
      "q is 0\n",
      "Calm (2917)\n",
      "q is 0\n",
      "Calm (2918)\n",
      "q is 0\n",
      "Calm (2919)\n",
      "q is 0\n",
      "Calm (2920)\n",
      "q is 0\n"
     ]
    },
    {
     "name": "stderr",
     "output_type": "stream",
     "text": [
      "\r",
      "  9%|██████▊                                                                       | 660/7496 [00:05<00:55, 124.21it/s]"
     ]
    },
    {
     "name": "stdout",
     "output_type": "stream",
     "text": [
      "Calm (2921)\n",
      "q is 0\n",
      "Calm (2922)\n",
      "q is 0\n",
      "Calm (2923)\n",
      "q is 0\n",
      "Calm (2924)\n",
      "q is 0\n",
      "Calm (2925)\n",
      "q is 0\n",
      "Calm (2926)\n",
      "q is 0\n",
      "Calm (2927)\n",
      "q is 0\n",
      "Calm (2928)\n",
      "q is 0\n",
      "Calm (2929)\n",
      "q is 0\n",
      "Calm (2930)\n",
      "q is 0\n",
      "Calm (2931)\n",
      "q is 0\n",
      "Calm (2932)\n",
      "q is 0\n",
      "Calm (2933)\n",
      "q is 0\n"
     ]
    },
    {
     "name": "stderr",
     "output_type": "stream",
     "text": [
      "\r",
      "  9%|███████                                                                       | 673/7496 [00:05<00:55, 123.13it/s]"
     ]
    },
    {
     "name": "stdout",
     "output_type": "stream",
     "text": [
      "Calm (2934)\n",
      "q is 0\n",
      "Calm (2935)\n",
      "q is 0\n",
      "Calm (2936)\n",
      "q is 0\n",
      "Calm (2937)\n",
      "q is 0\n",
      "Calm (2938)\n",
      "q is 0\n",
      "Calm (2939)\n",
      "q is 0\n",
      "Calm (2940)\n",
      "q is 0\n",
      "Calm (2941)\n",
      "q is 0\n",
      "Calm (2942)\n",
      "q is 0\n",
      "Calm (2943)\n",
      "q is 0\n",
      "Calm (2944)\n",
      "q is 0\n",
      "Calm (2945)\n",
      "q is 0\n",
      "Calm (2946)\n",
      "q is 0\n"
     ]
    },
    {
     "name": "stderr",
     "output_type": "stream",
     "text": [
      "\r",
      "  9%|███████▏                                                                      | 686/7496 [00:05<00:54, 124.49it/s]"
     ]
    },
    {
     "name": "stdout",
     "output_type": "stream",
     "text": [
      "Calm (2947)\n",
      "q is 0\n",
      "Calm (2948)\n",
      "q is 0\n",
      "Calm (2949)\n",
      "q is 0\n",
      "Calm (2950)\n",
      "q is 0\n",
      "Calm (2951)\n",
      "q is 0\n",
      "Calm (2952)\n",
      "q is 0\n",
      "Calm (2953)\n",
      "q is 0\n",
      "Calm (2954)\n",
      "q is 0\n",
      "Calm (2955)\n",
      "q is 0\n",
      "Calm (2956)\n",
      "q is 0\n",
      "Calm (2957)\n",
      "q is 0\n",
      "Calm (2958)\n",
      "q is 0\n",
      "Calm (2959)\n",
      "q is 0\n"
     ]
    },
    {
     "name": "stderr",
     "output_type": "stream",
     "text": [
      "\r",
      "  9%|███████▎                                                                      | 699/7496 [00:05<00:56, 120.59it/s]"
     ]
    },
    {
     "name": "stdout",
     "output_type": "stream",
     "text": [
      "Calm (2960)\n",
      "q is 0\n",
      "Calm (2961)\n",
      "q is 0\n",
      "Calm (2962)\n",
      "q is 0\n",
      "Calm (2963)\n",
      "q is 0\n",
      "Calm (2964)\n",
      "q is 0\n",
      "Calm (2965)\n",
      "q is 0\n",
      "Calm (2966)\n",
      "q is 0\n",
      "Calm (2967)\n",
      "q is 0\n",
      "Calm (2968)\n",
      "q is 0\n",
      "Calm (2969)\n",
      "q is 0\n",
      "Calm (2970)\n",
      "q is 0\n",
      "Calm (2971)\n",
      "q is 0\n",
      "Calm (2972)\n",
      "q is 0\n"
     ]
    },
    {
     "name": "stderr",
     "output_type": "stream",
     "text": [
      "\r",
      "  9%|███████▍                                                                      | 712/7496 [00:06<00:56, 120.29it/s]"
     ]
    },
    {
     "name": "stdout",
     "output_type": "stream",
     "text": [
      "Calm (2973)\n",
      "q is 0\n",
      "Calm (2974)\n",
      "q is 0\n",
      "Calm (2975)\n",
      "q is 0\n",
      "Calm (2976)\n",
      "q is 0\n",
      "Calm (2977)\n",
      "q is 0\n",
      "Calm (2978)\n",
      "q is 0\n",
      "Calm (2979)\n",
      "q is 0\n",
      "Calm (2980)\n",
      "q is 0\n",
      "Calm (2981)\n",
      "q is 0\n",
      "Calm (2982)\n",
      "q is 0\n",
      "Calm (2983)\n",
      "q is 0\n",
      "Calm (2984)\n",
      "q is 0\n",
      "Calm (2985)\n",
      "q is 0\n"
     ]
    },
    {
     "name": "stderr",
     "output_type": "stream",
     "text": [
      "\r",
      " 10%|███████▌                                                                      | 725/7496 [00:06<00:55, 121.42it/s]"
     ]
    },
    {
     "name": "stdout",
     "output_type": "stream",
     "text": [
      "Calm (2986)\n",
      "q is 0\n",
      "Calm (2987)\n",
      "q is 0\n",
      "Calm (2988)\n",
      "q is 0\n",
      "Calm (2989)\n",
      "q is 0\n",
      "Calm (2990)\n",
      "q is 0\n",
      "Calm (2991)\n",
      "q is 0\n",
      "Calm (2992)\n",
      "q is 0\n",
      "Calm (2993)\n",
      "q is 0\n",
      "Calm (2994)\n",
      "q is 0\n",
      "Calm (2995)\n",
      "q is 0\n",
      "Calm (2996)\n",
      "q is 0\n",
      "Calm (2997)\n",
      "q is 0\n",
      "Calm (2998)\n",
      "q is 0\n"
     ]
    },
    {
     "name": "stderr",
     "output_type": "stream",
     "text": [
      "\r",
      " 10%|███████▋                                                                      | 738/7496 [00:06<00:55, 121.88it/s]"
     ]
    },
    {
     "name": "stdout",
     "output_type": "stream",
     "text": [
      "Calm (2999)\n",
      "q is 0\n",
      "Calm (3000)\n",
      "q is 0\n",
      "Calm (3001)\n",
      "q is 0\n",
      "Calm (3002)\n",
      "q is 0\n",
      "Calm (3003)\n",
      "q is 0\n",
      "Calm (3004)\n",
      "q is 0\n",
      "Calm (3005)\n",
      "q is 0\n",
      "Calm (3006)\n",
      "q is 0\n",
      "Calm (3007)\n",
      "q is 0\n",
      "Calm (3008)\n",
      "q is 0\n",
      "Calm (3009)\n",
      "q is 0\n",
      "Calm (3010)\n",
      "q is 0\n",
      "Calm (3011)\n",
      "q is 0\n"
     ]
    },
    {
     "name": "stderr",
     "output_type": "stream",
     "text": [
      "\r",
      " 10%|███████▊                                                                      | 751/7496 [00:06<00:54, 123.95it/s]"
     ]
    },
    {
     "name": "stdout",
     "output_type": "stream",
     "text": [
      "Calm (3012)\n",
      "q is 0\n",
      "Calm (3013)\n",
      "q is 0\n",
      "Calm (3014)\n",
      "q is 0\n",
      "Calm (3015)\n",
      "q is 0\n",
      "Calm (3016)\n",
      "q is 0\n",
      "Calm (3017)\n",
      "q is 0\n",
      "Calm (3018)\n",
      "q is 0\n",
      "Calm (3019)\n",
      "q is 0\n",
      "Calm (3020)\n",
      "q is 0\n",
      "Calm (3021)\n",
      "q is 0\n",
      "Calm (3022)\n",
      "q is 0\n",
      "Calm (3023)\n",
      "q is 0\n",
      "Calm (3024)\n",
      "q is 0\n",
      "Calm (3025)\n",
      "q is 0\n"
     ]
    },
    {
     "name": "stderr",
     "output_type": "stream",
     "text": [
      "\r",
      " 10%|███████▉                                                                      | 765/7496 [00:06<00:53, 126.38it/s]"
     ]
    },
    {
     "name": "stdout",
     "output_type": "stream",
     "text": [
      "Calm (3026)\n",
      "q is 0\n",
      "Calm (3027)\n",
      "q is 0\n",
      "Calm (3028)\n",
      "q is 0\n",
      "Calm (3029)\n",
      "q is 0\n",
      "Calm (3030)\n",
      "q is 0\n",
      "Calm (3031)\n",
      "q is 0\n",
      "Calm (3032)\n",
      "q is 0\n",
      "Calm (3033)\n",
      "q is 0\n",
      "Calm (3034)\n",
      "q is 0\n",
      "Calm (3035)\n",
      "q is 0\n",
      "Calm (3036)\n",
      "q is 0\n",
      "Calm (3037)\n",
      "q is 0\n",
      "Calm (3038)\n",
      "q is 0\n"
     ]
    },
    {
     "name": "stderr",
     "output_type": "stream",
     "text": [
      "\r",
      " 10%|████████                                                                      | 778/7496 [00:06<00:53, 124.98it/s]"
     ]
    },
    {
     "name": "stdout",
     "output_type": "stream",
     "text": [
      "Calm (3039)\n",
      "q is 0\n",
      "Calm (3040)\n",
      "q is 0\n",
      "Calm (3041)\n",
      "q is 0\n",
      "Calm (3042)\n",
      "q is 0\n",
      "Calm (3043)\n",
      "q is 0\n",
      "Calm (3044)\n",
      "q is 0\n",
      "Calm (3045)\n",
      "q is 0\n",
      "Calm (3046)\n",
      "q is 0\n",
      "Calm (3047)\n",
      "q is 0\n",
      "Calm (3048)\n",
      "q is 0\n",
      "Calm (3049)\n",
      "q is 0\n",
      "Calm (3050)\n",
      "q is 0\n",
      "Calm (3051)\n",
      "q is 0\n"
     ]
    },
    {
     "name": "stderr",
     "output_type": "stream",
     "text": [
      "\r",
      " 11%|████████▏                                                                     | 791/7496 [00:06<00:55, 120.91it/s]"
     ]
    },
    {
     "name": "stdout",
     "output_type": "stream",
     "text": [
      "Calm (3052)\n",
      "q is 0\n",
      "Calm (3053)\n",
      "q is 0\n",
      "Calm (3054)\n",
      "q is 0\n",
      "Calm (3055)\n",
      "q is 0\n",
      "Calm (3056)\n",
      "q is 0\n",
      "Calm (3057)\n",
      "q is 0\n",
      "Calm (3058)\n",
      "q is 0\n",
      "Calm (3059)\n",
      "q is 0\n",
      "Calm (3060)\n",
      "q is 0\n",
      "Calm (3061)\n",
      "q is 0\n",
      "Calm (3062)\n",
      "q is 0\n",
      "Calm (3063)\n",
      "q is 0\n",
      "Calm (3064)\n",
      "q is 0\n"
     ]
    },
    {
     "name": "stderr",
     "output_type": "stream",
     "text": [
      "\r",
      " 11%|████████▎                                                                     | 804/7496 [00:06<00:54, 122.55it/s]"
     ]
    },
    {
     "name": "stdout",
     "output_type": "stream",
     "text": [
      "Calm (3065)\n",
      "q is 0\n",
      "Calm (3066)\n",
      "q is 0\n",
      "Calm (3067)\n",
      "q is 0\n",
      "Calm (3068)\n",
      "q is 0\n",
      "Calm (3069)\n",
      "q is 0\n",
      "Calm (3070)\n",
      "q is 0\n",
      "Calm (3071)\n",
      "q is 0\n",
      "Calm (3072)\n",
      "q is 0\n",
      "Calm (3073)\n",
      "q is 0\n",
      "Calm (3074)\n",
      "q is 0\n",
      "Calm (3075)\n",
      "q is 0\n",
      "Calm (3076)\n",
      "q is 0\n",
      "Calm (3077)\n",
      "q is 0\n"
     ]
    },
    {
     "name": "stderr",
     "output_type": "stream",
     "text": [
      "\r",
      " 11%|████████▌                                                                     | 817/7496 [00:06<00:54, 122.67it/s]"
     ]
    },
    {
     "name": "stdout",
     "output_type": "stream",
     "text": [
      "Calm (3078)\n",
      "q is 0\n",
      "Calm (3079)\n",
      "q is 0\n",
      "Calm (3080)\n",
      "q is 0\n",
      "Calm (3081)\n",
      "q is 0\n",
      "Calm (3082)\n",
      "q is 0\n",
      "Calm (3083)\n",
      "q is 0\n",
      "Calm (3084)\n",
      "q is 0\n",
      "Calm (3085)\n",
      "q is 0\n",
      "Calm (3086)\n",
      "q is 0\n",
      "Calm (3087)\n",
      "q is 0\n",
      "Calm (3088)\n",
      "q is 0\n",
      "Calm (3089)\n",
      "q is 0\n",
      "Calm (3090)\n",
      "q is 0\n"
     ]
    },
    {
     "name": "stderr",
     "output_type": "stream",
     "text": [
      "\r",
      " 11%|████████▋                                                                     | 830/7496 [00:06<00:54, 122.07it/s]"
     ]
    },
    {
     "name": "stdout",
     "output_type": "stream",
     "text": [
      "Calm (3091)\n",
      "q is 0\n",
      "Calm (3092)\n",
      "q is 0\n",
      "Calm (3093)\n",
      "q is 0\n",
      "Calm (3094)\n",
      "q is 0\n",
      "Calm (3095)\n",
      "q is 0\n",
      "Calm (3096)\n",
      "q is 0\n",
      "Calm (3097)\n",
      "q is 0\n",
      "Calm (3098)\n",
      "q is 0\n",
      "Calm (3099)\n",
      "q is 0\n",
      "Calm (3100)\n",
      "q is 0\n",
      "Calm (3101)\n",
      "q is 0\n",
      "Calm (3102)\n",
      "q is 0\n",
      "Calm (3103)\n",
      "q is 0\n"
     ]
    },
    {
     "name": "stderr",
     "output_type": "stream",
     "text": [
      "\r",
      " 11%|████████▊                                                                     | 843/7496 [00:07<00:55, 120.31it/s]"
     ]
    },
    {
     "name": "stdout",
     "output_type": "stream",
     "text": [
      "Calm (3104)\n",
      "q is 0\n",
      "Calm (3105)\n",
      "q is 0\n",
      "Calm (3106)\n",
      "q is 0\n",
      "Calm (3107)\n",
      "q is 0\n",
      "Calm (3108)\n",
      "q is 0\n",
      "Calm (3109)\n",
      "q is 0\n",
      "Calm (3110)\n",
      "q is 0\n",
      "Calm (3111)\n",
      "q is 0\n",
      "Calm (3112)\n",
      "q is 0\n",
      "Calm (3113)\n",
      "q is 0\n",
      "Calm (3114)\n",
      "q is 0\n",
      "Calm (3115)\n",
      "q is 0\n",
      "Calm (3116)\n",
      "q is 0\n"
     ]
    },
    {
     "name": "stderr",
     "output_type": "stream",
     "text": [
      "\r",
      " 11%|████████▉                                                                     | 856/7496 [00:07<00:54, 120.76it/s]"
     ]
    },
    {
     "name": "stdout",
     "output_type": "stream",
     "text": [
      "Calm (3117)\n",
      "q is 0\n",
      "Calm (3118)\n",
      "q is 0\n",
      "Calm (3119)\n",
      "q is 0\n",
      "Calm (3120)\n",
      "q is 0\n",
      "Calm (3121)\n",
      "q is 0\n",
      "Calm (3122)\n",
      "q is 0\n",
      "Calm (3123)\n",
      "q is 0\n",
      "Calm (3124)\n",
      "q is 0\n",
      "Calm (3125)\n",
      "q is 0\n",
      "Calm (3126)\n",
      "q is 0\n",
      "Calm (3127)\n",
      "q is 0\n",
      "Calm (3128)\n",
      "q is 0\n",
      "Calm (3129)\n",
      "q is 0\n"
     ]
    },
    {
     "name": "stderr",
     "output_type": "stream",
     "text": [
      "\r",
      " 12%|█████████                                                                     | 869/7496 [00:07<00:55, 119.08it/s]"
     ]
    },
    {
     "name": "stdout",
     "output_type": "stream",
     "text": [
      "Calm (3130)\n",
      "q is 0\n",
      "Calm (3131)\n",
      "q is 0\n",
      "Calm (3132)\n",
      "q is 0\n",
      "Calm (3133)\n",
      "q is 0\n",
      "Calm (3134)\n",
      "q is 0\n",
      "Calm (3135)\n",
      "q is 0\n",
      "Calm (3136)\n",
      "q is 0\n",
      "Calm (3137)\n",
      "q is 0\n",
      "Calm (3138)\n",
      "q is 0\n",
      "Calm (3139)\n",
      "q is 0\n",
      "Calm (3140)\n",
      "q is 0\n",
      "Calm (3141)\n",
      "q is 0\n",
      "Calm (3142)\n",
      "q is 0\n"
     ]
    },
    {
     "name": "stderr",
     "output_type": "stream",
     "text": [
      "\r",
      " 12%|█████████▏                                                                    | 882/7496 [00:07<00:55, 120.22it/s]"
     ]
    },
    {
     "name": "stdout",
     "output_type": "stream",
     "text": [
      "Calm (3143)\n",
      "q is 0\n",
      "Calm (3144)\n",
      "q is 0\n",
      "Calm (3145)\n",
      "q is 0\n",
      "Calm (3146)\n",
      "q is 0\n",
      "Calm (3147)\n",
      "q is 0\n",
      "Calm (3148)\n",
      "q is 0\n",
      "Calm (3149)\n",
      "q is 0\n",
      "Calm (3150)\n",
      "q is 0\n",
      "Calm (3151)\n",
      "q is 0\n",
      "Calm (3152)\n",
      "q is 0\n",
      "Calm (3153)\n",
      "q is 0\n",
      "Calm (3154)\n",
      "q is 0\n",
      "Calm (3155)\n",
      "q is 0\n"
     ]
    },
    {
     "name": "stderr",
     "output_type": "stream",
     "text": [
      "\r",
      " 12%|█████████▎                                                                    | 895/7496 [00:07<00:55, 119.70it/s]"
     ]
    },
    {
     "name": "stdout",
     "output_type": "stream",
     "text": [
      "Calm (3156)\n",
      "q is 0\n",
      "Calm (3157)\n",
      "q is 0\n",
      "Calm (3158)\n",
      "q is 0\n",
      "Calm (3159)\n",
      "q is 0\n",
      "Calm (3160)\n",
      "q is 0\n",
      "Calm (3161)\n",
      "q is 0\n",
      "Calm (3162)\n",
      "q is 0\n",
      "Calm (3163)\n",
      "q is 0\n",
      "Calm (3164)\n",
      "q is 0\n",
      "Calm (3165)\n",
      "q is 0\n",
      "Calm (3166)\n",
      "q is 0\n",
      "Calm (3167)\n",
      "q is 0\n",
      "Calm (3168)\n",
      "q is 0\n"
     ]
    },
    {
     "name": "stderr",
     "output_type": "stream",
     "text": [
      "\r",
      " 12%|█████████▍                                                                    | 908/7496 [00:07<00:54, 120.33it/s]"
     ]
    },
    {
     "name": "stdout",
     "output_type": "stream",
     "text": [
      "Calm (3169)\n",
      "q is 0\n",
      "Calm (3170)\n",
      "q is 0\n",
      "Calm (3171)\n",
      "q is 0\n",
      "Calm (3172)\n",
      "q is 0\n",
      "Calm (3173)\n",
      "q is 0\n",
      "Calm (3174)\n",
      "q is 0\n",
      "Calm (3175)\n",
      "q is 0\n",
      "Calm (3176)\n",
      "q is 0\n",
      "Calm (3177)\n",
      "q is 0\n",
      "Calm (3178)\n",
      "q is 0\n",
      "Calm (3179)\n",
      "q is 0\n",
      "Calm (3180)\n",
      "q is 0\n",
      "Calm (3181)\n",
      "q is 0\n"
     ]
    },
    {
     "name": "stderr",
     "output_type": "stream",
     "text": [
      "\r",
      " 12%|█████████▌                                                                    | 921/7496 [00:07<00:54, 120.44it/s]"
     ]
    },
    {
     "name": "stdout",
     "output_type": "stream",
     "text": [
      "Calm (3182)\n",
      "q is 0\n",
      "Calm (3183)\n",
      "q is 0\n",
      "Calm (3184)\n",
      "q is 0\n",
      "Calm (3185)\n",
      "q is 0\n",
      "Calm (3186)\n",
      "q is 0\n",
      "Calm (3187)\n",
      "q is 0\n",
      "Calm (3188)\n",
      "q is 0\n",
      "Calm (3189)\n",
      "q is 0\n",
      "Calm (3190)\n",
      "q is 0\n",
      "Calm (3191)\n",
      "q is 0\n",
      "Calm (3192)\n",
      "q is 0\n",
      "Calm (3193)\n",
      "q is 0\n",
      "Calm (3194)\n",
      "q is 0\n"
     ]
    },
    {
     "name": "stderr",
     "output_type": "stream",
     "text": [
      "\r",
      " 12%|█████████▋                                                                    | 934/7496 [00:07<00:55, 119.19it/s]"
     ]
    },
    {
     "name": "stdout",
     "output_type": "stream",
     "text": [
      "Calm (3195)\n",
      "q is 0\n",
      "Calm (3196)\n",
      "q is 0\n",
      "Calm (3197)\n",
      "q is 0\n",
      "Calm (3198)\n",
      "q is 0\n",
      "Calm (3199)\n",
      "q is 0\n",
      "Calm (3200)\n",
      "q is 0\n",
      "Calm (3201)\n",
      "q is 0\n",
      "Calm (3202)\n",
      "q is 0\n",
      "Calm (3203)\n",
      "q is 0\n",
      "Calm (3204)\n",
      "q is 0\n",
      "Calm (3205)\n",
      "q is 0\n",
      "Calm (3206)\n",
      "q is 0\n"
     ]
    },
    {
     "name": "stderr",
     "output_type": "stream",
     "text": [
      "\r",
      " 13%|█████████▊                                                                    | 946/7496 [00:07<00:54, 119.17it/s]"
     ]
    },
    {
     "name": "stdout",
     "output_type": "stream",
     "text": [
      "Calm (3207)\n",
      "q is 0\n",
      "Calm (3208)\n",
      "q is 0\n",
      "Calm (3209)\n",
      "q is 0\n",
      "Calm (3210)\n",
      "q is 0\n",
      "Calm (3211)\n",
      "q is 0\n",
      "Calm (3212)\n",
      "q is 0\n",
      "Calm (3213)\n",
      "q is 0\n",
      "Calm (3214)\n",
      "q is 0\n",
      "Calm (3215)\n",
      "q is 0\n",
      "Calm (3216)\n",
      "q is 0\n",
      "Calm (3217)\n",
      "q is 0\n",
      "Calm (3218)\n",
      "q is 0\n"
     ]
    },
    {
     "name": "stderr",
     "output_type": "stream",
     "text": [
      "\r",
      " 13%|█████████▉                                                                    | 958/7496 [00:08<00:55, 118.46it/s]"
     ]
    },
    {
     "name": "stdout",
     "output_type": "stream",
     "text": [
      "Calm (3219)\n",
      "q is 0\n",
      "Calm (3220)\n",
      "q is 0\n",
      "Calm (3221)\n",
      "q is 0\n",
      "Calm (3222)\n",
      "q is 0\n",
      "Calm (3223)\n",
      "q is 0\n",
      "Calm (3224)\n",
      "q is 0\n",
      "Calm (3225)\n",
      "q is 0\n",
      "Calm (3226)\n",
      "q is 0\n",
      "Calm (3227)\n",
      "q is 0\n",
      "Calm (3228)\n",
      "q is 0\n",
      "Calm (3229)\n",
      "q is 0\n",
      "Calm (3230)\n",
      "q is 0\n"
     ]
    },
    {
     "name": "stderr",
     "output_type": "stream",
     "text": [
      "\r",
      " 13%|██████████                                                                    | 970/7496 [00:08<00:56, 115.58it/s]"
     ]
    },
    {
     "name": "stdout",
     "output_type": "stream",
     "text": [
      "Calm (3231)\n",
      "q is 0\n",
      "Calm (3232)\n",
      "q is 0\n",
      "Calm (3233)\n",
      "q is 0\n",
      "Calm (3234)\n",
      "q is 0\n",
      "Calm (3235)\n",
      "q is 0\n",
      "Calm (3236)\n",
      "q is 0\n",
      "Calm (3237)\n",
      "q is 0\n",
      "Calm (3238)\n",
      "q is 0\n",
      "Calm (3239)\n",
      "q is 0\n",
      "Calm (3240)\n",
      "q is 0\n",
      "Calm (3241)\n",
      "q is 0\n",
      "Calm (3242)\n",
      "q is 0\n"
     ]
    },
    {
     "name": "stderr",
     "output_type": "stream",
     "text": [
      "\r",
      " 13%|██████████▏                                                                   | 982/7496 [00:08<00:56, 115.61it/s]"
     ]
    },
    {
     "name": "stdout",
     "output_type": "stream",
     "text": [
      "Calm (3243)\n",
      "q is 0\n",
      "Calm (3244)\n",
      "q is 0\n",
      "Calm (3245)\n",
      "q is 0\n",
      "Calm (3246)\n",
      "q is 0\n",
      "Calm (3247)\n",
      "q is 0\n",
      "Calm (3248)\n",
      "q is 0\n",
      "Calm (3249)\n",
      "q is 0\n",
      "Calm (3250)\n",
      "q is 0\n",
      "Calm (3251)\n",
      "q is 0\n",
      "Calm (3252)\n",
      "q is 0\n",
      "Calm (3253)\n",
      "q is 0\n",
      "Calm (3254)\n",
      "q is 0\n",
      "Calm (3255)\n",
      "q is 0\n"
     ]
    },
    {
     "name": "stderr",
     "output_type": "stream",
     "text": [
      "\r",
      " 13%|██████████▎                                                                   | 995/7496 [00:08<00:55, 117.41it/s]"
     ]
    },
    {
     "name": "stdout",
     "output_type": "stream",
     "text": [
      "Calm (3256)\n",
      "q is 0\n",
      "Calm (3257)\n",
      "q is 0\n",
      "Calm (3258)\n",
      "q is 0\n",
      "Calm (3259)\n",
      "q is 0\n",
      "Calm (3260)\n",
      "q is 0\n",
      "Calm (3261)\n",
      "q is 0\n",
      "Calm (3262)\n",
      "q is 0\n",
      "Calm (3263)\n",
      "q is 0\n",
      "Calm (3264)\n",
      "q is 0\n",
      "Calm (3265)\n",
      "q is 0\n",
      "Calm (3266)\n",
      "q is 0\n",
      "Calm (3267)\n",
      "q is 0\n",
      "Calm (3268)\n",
      "q is 0\n"
     ]
    },
    {
     "name": "stderr",
     "output_type": "stream",
     "text": [
      "\r",
      " 13%|██████████▎                                                                  | 1008/7496 [00:08<00:54, 118.70it/s]"
     ]
    },
    {
     "name": "stdout",
     "output_type": "stream",
     "text": [
      "Calm (3269)\n",
      "q is 0\n",
      "Calm (3270)\n",
      "q is 0\n",
      "Calm (3271)\n",
      "q is 0\n",
      "Calm (3272)\n",
      "q is 0\n",
      "Calm (3273)\n",
      "q is 0\n",
      "Calm (3274)\n",
      "q is 0\n",
      "Calm (3275)\n",
      "q is 0\n",
      "Calm (3276)\n",
      "q is 0\n",
      "Calm (3277)\n",
      "q is 0\n",
      "Calm (3278)\n",
      "q is 0\n",
      "Calm (3279)\n",
      "q is 0\n",
      "Calm (3280)\n",
      "q is 0\n",
      "Calm (3281)\n",
      "q is 0\n"
     ]
    },
    {
     "name": "stderr",
     "output_type": "stream",
     "text": [
      "\r",
      " 14%|██████████▍                                                                  | 1021/7496 [00:08<00:54, 118.96it/s]"
     ]
    },
    {
     "name": "stdout",
     "output_type": "stream",
     "text": [
      "Calm (3282)\n",
      "q is 0\n",
      "Calm (3283)\n",
      "q is 0\n",
      "Calm (3284)\n",
      "q is 0\n",
      "Calm (3285)\n",
      "q is 0\n",
      "Calm (3286)\n",
      "q is 0\n",
      "Calm (3287)\n",
      "q is 0\n",
      "Calm (3288)\n",
      "q is 0\n",
      "Calm (3289)\n",
      "q is 0\n",
      "Calm (3290)\n",
      "q is 0\n",
      "Calm (3291)\n",
      "q is 0\n",
      "Calm (3292)\n",
      "q is 0\n",
      "Calm (3293)\n",
      "q is 0\n"
     ]
    },
    {
     "name": "stderr",
     "output_type": "stream",
     "text": [
      "\r",
      " 14%|██████████▌                                                                  | 1033/7496 [00:08<00:54, 118.31it/s]"
     ]
    },
    {
     "name": "stdout",
     "output_type": "stream",
     "text": [
      "Calm (3294)\n",
      "q is 0\n",
      "Calm (3295)\n",
      "q is 0\n",
      "Calm (3296)\n",
      "q is 0\n",
      "Calm (3297)\n",
      "q is 0\n",
      "Calm (3298)\n",
      "q is 0\n",
      "Calm (3299)\n",
      "q is 0\n",
      "Calm (3300)\n",
      "q is 0\n",
      "Calm (3301)\n",
      "q is 0\n",
      "Calm (3302)\n",
      "q is 0\n",
      "Calm (3303)\n",
      "q is 0\n",
      "Calm (3304)\n",
      "q is 0\n",
      "Calm (3305)\n",
      "q is 0\n",
      "Calm (3306)\n",
      "q is 0\n"
     ]
    },
    {
     "name": "stderr",
     "output_type": "stream",
     "text": [
      "\r",
      " 14%|██████████▋                                                                  | 1046/7496 [00:08<00:54, 118.69it/s]"
     ]
    },
    {
     "name": "stdout",
     "output_type": "stream",
     "text": [
      "Calm (3307)\n",
      "q is 0\n",
      "Calm (3308)\n",
      "q is 0\n",
      "Calm (3309)\n",
      "q is 0\n",
      "Calm (3310)\n",
      "q is 0\n",
      "Calm (3311)\n",
      "q is 0\n",
      "Calm (3312)\n",
      "q is 0\n",
      "Calm (3313)\n",
      "q is 0\n",
      "Calm (3314)\n",
      "q is 0\n",
      "Calm (3315)\n",
      "q is 0\n",
      "Calm (3316)\n",
      "q is 0\n",
      "Calm (3317)\n",
      "q is 0\n",
      "Calm (3318)\n",
      "q is 0\n",
      "Calm (3319)\n",
      "q is 0\n"
     ]
    },
    {
     "name": "stderr",
     "output_type": "stream",
     "text": [
      "\r",
      " 14%|██████████▉                                                                  | 1059/7496 [00:08<00:53, 120.27it/s]"
     ]
    },
    {
     "name": "stdout",
     "output_type": "stream",
     "text": [
      "Calm (3320)\n",
      "q is 0\n",
      "Calm (3321)\n",
      "q is 0\n",
      "Calm (3322)\n",
      "q is 0\n",
      "Calm (3323)\n",
      "q is 0\n",
      "Calm (3324)\n",
      "q is 0\n",
      "Calm (3325)\n",
      "q is 0\n",
      "Calm (3326)\n",
      "q is 0\n",
      "Calm (3327)\n",
      "q is 0\n",
      "Calm (3328)\n",
      "q is 0\n",
      "Calm (3329)\n",
      "q is 0\n",
      "Calm (3330)\n",
      "q is 0\n",
      "Calm (3331)\n",
      "q is 0\n",
      "Calm (3332)\n",
      "q is 0\n"
     ]
    },
    {
     "name": "stderr",
     "output_type": "stream",
     "text": [
      "\r",
      " 14%|███████████                                                                  | 1072/7496 [00:09<00:56, 114.07it/s]"
     ]
    },
    {
     "name": "stdout",
     "output_type": "stream",
     "text": [
      "Calm (3333)\n",
      "q is 0\n",
      "Calm (3334)\n",
      "q is 0\n",
      "Calm (3335)\n",
      "q is 0\n",
      "Calm (3336)\n",
      "q is 0\n",
      "Calm (3337)\n",
      "q is 0\n",
      "Calm (3338)\n",
      "q is 0\n",
      "Calm (3339)\n",
      "q is 0\n",
      "Calm (3340)\n",
      "q is 0\n",
      "Calm (3341)\n",
      "q is 0\n",
      "Calm (3342)\n",
      "q is 0\n",
      "Calm (3343)\n",
      "q is 0\n",
      "Calm (3344)\n",
      "q is 0\n"
     ]
    },
    {
     "name": "stderr",
     "output_type": "stream",
     "text": [
      "\r",
      " 14%|███████████▏                                                                 | 1084/7496 [00:09<00:56, 112.63it/s]"
     ]
    },
    {
     "name": "stdout",
     "output_type": "stream",
     "text": [
      "Calm (3345)\n",
      "q is 0\n",
      "Calm (3346)\n",
      "q is 0\n",
      "Calm (3347)\n",
      "q is 0\n",
      "Calm (3348)\n",
      "q is 0\n",
      "Calm (3349)\n",
      "q is 0\n",
      "Calm (3350)\n",
      "q is 0\n",
      "Calm (3351)\n",
      "q is 0\n",
      "Calm (3352)\n",
      "q is 0\n",
      "Calm (3353)\n",
      "q is 0\n",
      "Calm (3354)\n",
      "q is 0\n",
      "Calm (3355)\n",
      "q is 0\n",
      "Calm (3356)\n",
      "q is 0\n"
     ]
    },
    {
     "name": "stderr",
     "output_type": "stream",
     "text": [
      "\r",
      " 15%|███████████▎                                                                 | 1096/7496 [00:09<00:56, 113.21it/s]"
     ]
    },
    {
     "name": "stdout",
     "output_type": "stream",
     "text": [
      "Calm (3357)\n",
      "q is 0\n",
      "Calm (3358)\n",
      "q is 0\n",
      "Calm (3359)\n",
      "q is 0\n",
      "Calm (3360)\n",
      "q is 0\n",
      "Calm (3361)\n",
      "q is 0\n",
      "Calm (3362)\n",
      "q is 0\n",
      "Calm (3363)\n",
      "q is 0\n",
      "Calm (3364)\n",
      "q is 0\n",
      "Calm (3365)\n",
      "q is 0\n",
      "Calm (3366)\n",
      "q is 0\n",
      "Calm (3367)\n",
      "q is 0\n",
      "Calm (3368)\n",
      "q is 0\n"
     ]
    },
    {
     "name": "stderr",
     "output_type": "stream",
     "text": [
      "\r",
      " 15%|███████████▍                                                                 | 1108/7496 [00:09<01:00, 105.55it/s]"
     ]
    },
    {
     "name": "stdout",
     "output_type": "stream",
     "text": [
      "Calm (3369)\n",
      "q is 0\n",
      "Calm (3370)\n",
      "q is 0\n",
      "Calm (3371)\n",
      "q is 0\n",
      "Calm (3372)\n",
      "q is 0\n",
      "Calm (3373)\n",
      "q is 0\n",
      "Calm (3374)\n",
      "q is 0\n",
      "Calm (3375)\n",
      "q is 0\n",
      "Calm (3376)\n",
      "q is 0\n",
      "Calm (3377)\n",
      "q is 0\n",
      "Calm (3378)\n",
      "q is 0\n",
      "Calm (3379)\n",
      "q is 0\n",
      "Calm (3380)\n",
      "q is 0\n"
     ]
    },
    {
     "name": "stderr",
     "output_type": "stream",
     "text": [
      "\r",
      " 15%|███████████▌                                                                 | 1120/7496 [00:09<00:58, 108.40it/s]"
     ]
    },
    {
     "name": "stdout",
     "output_type": "stream",
     "text": [
      "Calm (3381)\n",
      "q is 0\n",
      "Calm (3382)\n",
      "q is 0\n",
      "Calm (3383)\n",
      "q is 0\n",
      "Calm (3384)\n",
      "q is 0\n",
      "Calm (3385)\n",
      "q is 0\n",
      "Calm (3386)\n",
      "q is 0\n",
      "Calm (3387)\n",
      "q is 0\n",
      "Calm (3388)\n",
      "q is 0\n",
      "Calm (3389)\n",
      "q is 0\n",
      "Calm (3390)\n",
      "q is 0\n",
      "Calm (3391)\n",
      "q is 0\n",
      "Calm (3392)\n",
      "q is 0\n"
     ]
    },
    {
     "name": "stderr",
     "output_type": "stream",
     "text": [
      "\r",
      " 15%|███████████▋                                                                 | 1132/7496 [00:09<00:57, 111.41it/s]"
     ]
    },
    {
     "name": "stdout",
     "output_type": "stream",
     "text": [
      "Calm (3393)\n",
      "q is 0\n",
      "Calm (3394)\n",
      "q is 0\n",
      "Calm (3395)\n",
      "q is 0\n",
      "Calm (3396)\n",
      "q is 0\n",
      "Calm (3397)\n",
      "q is 0\n",
      "Calm (3398)\n",
      "q is 0\n",
      "Calm (3399)\n",
      "q is 0\n",
      "Calm (3400)\n",
      "q is 0\n",
      "Calm (3401)\n",
      "q is 0\n",
      "Calm (3402)\n",
      "q is 0\n",
      "Calm (3403)\n",
      "q is 0\n",
      "Calm (3404)\n",
      "q is 0\n"
     ]
    },
    {
     "name": "stderr",
     "output_type": "stream",
     "text": [
      "\r",
      " 15%|███████████▊                                                                 | 1144/7496 [00:09<00:57, 111.41it/s]"
     ]
    },
    {
     "name": "stdout",
     "output_type": "stream",
     "text": [
      "Calm (3405)\n",
      "q is 0\n",
      "Calm (3406)\n",
      "q is 0\n",
      "Calm (3407)\n",
      "q is 0\n",
      "Calm (3408)\n",
      "q is 0\n",
      "Calm (3409)\n",
      "q is 0\n",
      "Calm (3410)\n",
      "q is 0\n",
      "Calm (3411)\n",
      "q is 0\n",
      "Calm (3412)\n",
      "q is 0\n",
      "Calm (3413)\n",
      "q is 0\n",
      "Calm (3414)\n",
      "q is 0\n",
      "Calm (3415)\n",
      "q is 0\n",
      "Calm (3416)\n",
      "q is 0\n",
      "Calm (3417)\n",
      "q is 0\n"
     ]
    },
    {
     "name": "stderr",
     "output_type": "stream",
     "text": [
      "\r",
      " 15%|███████████▉                                                                 | 1157/7496 [00:09<00:55, 113.74it/s]"
     ]
    },
    {
     "name": "stdout",
     "output_type": "stream",
     "text": [
      "Calm (3418)\n",
      "q is 0\n",
      "Calm (3419)\n",
      "q is 0\n",
      "Calm (3420)\n",
      "q is 0\n",
      "Calm (3421)\n",
      "q is 0\n",
      "Calm (3422)\n",
      "q is 0\n",
      "Calm (3423)\n",
      "q is 0\n",
      "Calm (3424)\n",
      "q is 0\n",
      "Calm (3425)\n",
      "q is 0\n",
      "Calm (3426)\n",
      "q is 0\n",
      "Calm (3427)\n",
      "q is 0\n",
      "Calm (3428)\n",
      "q is 0\n",
      "Calm (3429)\n",
      "q is 0\n",
      "Calm (3430)\n",
      "q is 0\n"
     ]
    },
    {
     "name": "stderr",
     "output_type": "stream",
     "text": [
      "\r",
      " 16%|████████████                                                                 | 1170/7496 [00:09<00:54, 116.05it/s]"
     ]
    },
    {
     "name": "stdout",
     "output_type": "stream",
     "text": [
      "Calm (3431)\n",
      "q is 0\n",
      "Calm (3432)\n",
      "q is 0\n",
      "Calm (3433)\n",
      "q is 0\n",
      "Calm (3434)\n",
      "q is 0\n",
      "Calm (3435)\n",
      "q is 0\n",
      "Calm (3436)\n",
      "q is 0\n",
      "Calm (3437)\n",
      "q is 0\n",
      "Calm (3438)\n",
      "q is 0\n",
      "Calm (3439)\n",
      "q is 0\n",
      "Calm (3440)\n",
      "q is 0\n",
      "Calm (3441)\n",
      "q is 0\n",
      "Calm (3442)\n",
      "q is 0\n"
     ]
    },
    {
     "name": "stderr",
     "output_type": "stream",
     "text": [
      "\r",
      " 16%|████████████▏                                                                | 1182/7496 [00:10<00:56, 112.37it/s]"
     ]
    },
    {
     "name": "stdout",
     "output_type": "stream",
     "text": [
      "Calm (3443)\n",
      "q is 0\n",
      "Calm (3444)\n",
      "q is 0\n",
      "Calm (3445)\n",
      "q is 0\n",
      "Calm (3446)\n",
      "q is 0\n",
      "Calm (3447)\n",
      "q is 0\n",
      "Calm (3448)\n",
      "q is 0\n",
      "Calm (3449)\n",
      "q is 0\n",
      "Calm (3450)\n",
      "q is 0\n",
      "Calm (3451)\n",
      "q is 0\n",
      "Calm (3452)\n",
      "q is 0\n",
      "Calm (3453)\n",
      "q is 0\n",
      "Calm (3454)\n",
      "q is 0\n"
     ]
    },
    {
     "name": "stderr",
     "output_type": "stream",
     "text": [
      "\r",
      " 16%|████████████▎                                                                | 1194/7496 [00:10<00:55, 113.35it/s]"
     ]
    },
    {
     "name": "stdout",
     "output_type": "stream",
     "text": [
      "Calm (3455)\n",
      "q is 0\n",
      "Calm (3456)\n",
      "q is 0\n",
      "Calm (3457)\n",
      "q is 0\n",
      "Calm (3458)\n",
      "q is 0\n",
      "Calm (3459)\n",
      "q is 0\n",
      "Calm (3460)\n",
      "q is 0\n",
      "Calm (3461)\n",
      "q is 0\n",
      "Calm (3462)\n",
      "q is 0\n",
      "Calm (3463)\n",
      "q is 0\n",
      "Calm (3464)\n",
      "q is 0\n",
      "Calm (3465)\n",
      "q is 0\n",
      "Calm (3466)\n",
      "q is 0\n"
     ]
    },
    {
     "name": "stderr",
     "output_type": "stream",
     "text": [
      "\r",
      " 16%|████████████▍                                                                | 1206/7496 [00:10<00:56, 110.89it/s]"
     ]
    },
    {
     "name": "stdout",
     "output_type": "stream",
     "text": [
      "Calm (3467)\n",
      "q is 0\n",
      "Calm (3468)\n",
      "q is 0\n",
      "Calm (3469)\n",
      "q is 0\n",
      "Calm (3470)\n",
      "q is 0\n",
      "Calm (3471)\n",
      "q is 0\n",
      "Calm (3472)\n",
      "q is 0\n",
      "Calm (3473)\n",
      "q is 0\n",
      "Calm (3474)\n",
      "q is 0\n",
      "Calm (3475)\n",
      "q is 0\n",
      "Calm (3476)\n",
      "q is 0\n",
      "Calm (3477)\n",
      "q is 0\n",
      "Calm (3478)\n",
      "q is 0\n",
      "Calm (3479)\n",
      "q is 0\n"
     ]
    },
    {
     "name": "stderr",
     "output_type": "stream",
     "text": [
      "\r",
      " 16%|████████████▌                                                                | 1219/7496 [00:10<00:54, 115.78it/s]"
     ]
    },
    {
     "name": "stdout",
     "output_type": "stream",
     "text": [
      "Calm (3480)\n",
      "q is 0\n",
      "Calm (3481)\n",
      "q is 0\n",
      "Calm (3482)\n",
      "q is 0\n",
      "Calm (3483)\n",
      "q is 0\n",
      "Calm (3484)\n",
      "q is 0\n",
      "Calm (3485)\n",
      "q is 0\n",
      "Calm (3486)\n",
      "q is 0\n",
      "Calm (3487)\n",
      "q is 0\n",
      "Calm (3488)\n",
      "q is 0\n",
      "Calm (3489)\n",
      "q is 0\n",
      "Calm (3490)\n",
      "q is 0\n",
      "Calm (3491)\n",
      "q is 0\n",
      "Calm (3492)\n",
      "q is 0\n"
     ]
    },
    {
     "name": "stderr",
     "output_type": "stream",
     "text": [
      "\r",
      " 16%|████████████▋                                                                | 1232/7496 [00:10<00:52, 118.49it/s]"
     ]
    },
    {
     "name": "stdout",
     "output_type": "stream",
     "text": [
      "Calm (3493)\n",
      "q is 0\n",
      "Calm (3494)\n",
      "q is 0\n",
      "Calm (3495)\n",
      "q is 0\n",
      "Calm (3496)\n",
      "q is 0\n",
      "Calm (3497)\n",
      "q is 0\n",
      "Calm (3498)\n",
      "q is 0\n",
      "Calm (3499)\n",
      "q is 0\n",
      "Calm (3500)\n",
      "q is 0\n",
      "Calm (3501)\n",
      "q is 0\n",
      "Calm (3502)\n",
      "q is 0\n",
      "Calm (3503)\n",
      "q is 0\n",
      "Calm (3504)\n",
      "q is 0\n",
      "Calm (3505)\n",
      "q is 0\n"
     ]
    },
    {
     "name": "stderr",
     "output_type": "stream",
     "text": [
      "\r",
      " 17%|████████████▊                                                                | 1245/7496 [00:10<00:51, 120.46it/s]"
     ]
    },
    {
     "name": "stdout",
     "output_type": "stream",
     "text": [
      "Calm (3506)\n",
      "q is 0\n",
      "Calm (3507)\n",
      "q is 0\n",
      "Calm (3508)\n",
      "q is 0\n",
      "Calm (3509)\n",
      "q is 0\n",
      "Calm (3510)\n",
      "q is 0\n",
      "Calm (3511)\n",
      "q is 0\n",
      "Calm (3512)\n",
      "q is 0\n",
      "Calm (3513)\n",
      "q is 0\n",
      "Calm (3514)\n",
      "q is 0\n",
      "Calm (3515)\n",
      "q is 0\n",
      "Calm (3516)\n",
      "q is 0\n",
      "Calm (3517)\n",
      "q is 0\n",
      "Calm (3518)\n",
      "q is 0\n"
     ]
    },
    {
     "name": "stderr",
     "output_type": "stream",
     "text": [
      "\r",
      " 17%|████████████▉                                                                | 1258/7496 [00:10<00:51, 122.22it/s]"
     ]
    },
    {
     "name": "stdout",
     "output_type": "stream",
     "text": [
      "Calm (3519)\n",
      "q is 0\n",
      "Calm (3520)\n",
      "q is 0\n",
      "Calm (3521)\n",
      "q is 0\n",
      "Calm (3522)\n",
      "q is 0\n",
      "Calm (3523)\n",
      "q is 0\n",
      "Calm (3524)\n",
      "q is 0\n",
      "Calm (3525)\n",
      "q is 0\n",
      "Calm (3526)\n",
      "q is 0\n",
      "Calm (3527)\n",
      "q is 0\n",
      "Calm (3528)\n",
      "q is 0\n",
      "Calm (3529)\n",
      "q is 0\n",
      "Calm (3530)\n",
      "q is 0\n",
      "Calm (3531)\n",
      "q is 0\n"
     ]
    },
    {
     "name": "stderr",
     "output_type": "stream",
     "text": [
      "\r",
      " 17%|█████████████                                                                | 1271/7496 [00:10<00:50, 122.11it/s]"
     ]
    },
    {
     "name": "stdout",
     "output_type": "stream",
     "text": [
      "Calm (3532)\n",
      "q is 0\n",
      "Calm (3533)\n",
      "q is 0\n",
      "Calm (3534)\n",
      "q is 0\n",
      "Calm (3535)\n",
      "q is 0\n",
      "Calm (3536)\n",
      "q is 0\n",
      "Calm (3537)\n",
      "q is 0\n",
      "Calm (3538)\n",
      "q is 0\n",
      "Calm (3539)\n",
      "q is 0\n",
      "Calm (3540)\n",
      "q is 0\n",
      "Calm (3541)\n",
      "q is 0\n",
      "Calm (3542)\n",
      "q is 0\n",
      "Calm (3543)\n",
      "q is 0\n",
      "Calm (3544)\n",
      "q is 0\n",
      "Calm (3545)\n",
      "q is 0\n"
     ]
    },
    {
     "name": "stderr",
     "output_type": "stream",
     "text": [
      "\r",
      " 17%|█████████████▏                                                               | 1285/7496 [00:10<00:49, 125.70it/s]"
     ]
    },
    {
     "name": "stdout",
     "output_type": "stream",
     "text": [
      "Calm (3546)\n",
      "q is 0\n",
      "Calm (3547)\n",
      "q is 0\n",
      "Calm (3548)\n",
      "q is 0\n",
      "Calm (3549)\n",
      "q is 0\n",
      "Calm (3550)\n",
      "q is 0\n",
      "Calm (3551)\n",
      "q is 0\n",
      "Calm (3552)\n",
      "q is 0\n",
      "Calm (3553)\n",
      "q is 0\n",
      "Calm (3554)\n",
      "q is 0\n",
      "Calm (3555)\n",
      "q is 0\n",
      "Calm (3556)\n",
      "q is 0\n",
      "Calm (3557)\n",
      "q is 0\n",
      "Calm (3558)\n",
      "q is 0\n",
      "Calm (3559)\n",
      "q is 0\n"
     ]
    },
    {
     "name": "stderr",
     "output_type": "stream",
     "text": [
      "\r",
      " 17%|█████████████▎                                                               | 1299/7496 [00:10<00:48, 126.95it/s]"
     ]
    },
    {
     "name": "stdout",
     "output_type": "stream",
     "text": [
      "Calm (3560)\n",
      "q is 0\n",
      "Calm (3561)\n",
      "q is 0\n",
      "Calm (3562)\n",
      "q is 0\n",
      "Calm (3563)\n",
      "q is 0\n",
      "Calm (3564)\n",
      "q is 0\n",
      "Calm (3565)\n",
      "q is 0\n",
      "Calm (3566)\n",
      "q is 0\n",
      "Calm (3567)\n",
      "q is 0\n",
      "Calm (3568)\n",
      "q is 0\n",
      "Calm (3569)\n",
      "q is 0\n",
      "Calm (3570)\n",
      "q is 0\n",
      "Calm (3571)\n",
      "q is 0\n",
      "Calm (3572)\n",
      "q is 0\n"
     ]
    },
    {
     "name": "stderr",
     "output_type": "stream",
     "text": [
      "\r",
      " 18%|█████████████▍                                                               | 1312/7496 [00:11<00:50, 123.59it/s]"
     ]
    },
    {
     "name": "stdout",
     "output_type": "stream",
     "text": [
      "Calm (3573)\n",
      "q is 0\n",
      "Calm (3574)\n",
      "q is 0\n",
      "Calm (3575)\n",
      "q is 0\n",
      "Calm (3576)\n",
      "q is 0\n",
      "Calm (3577)\n",
      "q is 0\n",
      "Calm (3578)\n",
      "q is 0\n",
      "Calm (3579)\n",
      "q is 0\n",
      "Calm (3580)\n",
      "q is 0\n",
      "Calm (3581)\n",
      "q is 0\n",
      "Calm (3582)\n",
      "q is 0\n",
      "Calm (3583)\n",
      "q is 0\n",
      "Calm (3584)\n",
      "q is 0\n",
      "Calm (3585)\n",
      "q is 0\n",
      "Calm (3586)\n",
      "q is 0\n"
     ]
    },
    {
     "name": "stderr",
     "output_type": "stream",
     "text": [
      "\r",
      " 18%|█████████████▌                                                               | 1326/7496 [00:11<00:49, 125.10it/s]"
     ]
    },
    {
     "name": "stdout",
     "output_type": "stream",
     "text": [
      "Calm (3587)\n",
      "q is 0\n",
      "Calm (3588)\n",
      "q is 0\n",
      "Calm (3589)\n",
      "q is 0\n",
      "Calm (3590)\n",
      "q is 0\n",
      "Calm (3591)\n",
      "q is 0\n",
      "Calm (3592)\n",
      "q is 0\n",
      "Calm (3593)\n",
      "q is 0\n",
      "Calm (3594)\n",
      "q is 0\n",
      "Calm (3595)\n",
      "q is 0\n",
      "Calm (3596)\n",
      "q is 0\n",
      "Calm (3597)\n",
      "q is 0\n",
      "Calm (3598)\n",
      "q is 0\n",
      "Calm (3599)\n",
      "q is 0\n"
     ]
    },
    {
     "name": "stderr",
     "output_type": "stream",
     "text": [
      "\r",
      " 18%|█████████████▊                                                               | 1339/7496 [00:11<00:50, 122.35it/s]"
     ]
    },
    {
     "name": "stdout",
     "output_type": "stream",
     "text": [
      "Calm (36)\n",
      "q is 0\n",
      "Calm (360)\n",
      "q is 0\n",
      "Calm (3600)\n",
      "q is 0\n",
      "Calm (3601)\n",
      "q is 0\n",
      "Calm (3602)\n",
      "q is 0\n",
      "Calm (3603)\n",
      "q is 0\n",
      "Calm (3604)\n",
      "q is 0\n",
      "Calm (3605)\n",
      "q is 0\n",
      "Calm (3606)\n",
      "q is 0\n",
      "Calm (3607)\n",
      "q is 0\n",
      "Calm (3608)\n",
      "q is 0\n",
      "Calm (3609)\n",
      "q is 0\n",
      "Calm (3610)\n",
      "q is 0\n",
      "Calm (3611)\n",
      "q is 0\n"
     ]
    },
    {
     "name": "stderr",
     "output_type": "stream",
     "text": [
      "\r",
      " 18%|█████████████▉                                                               | 1353/7496 [00:11<00:48, 125.88it/s]"
     ]
    },
    {
     "name": "stdout",
     "output_type": "stream",
     "text": [
      "Calm (3612)\n",
      "q is 0\n",
      "Calm (3613)\n",
      "q is 0\n",
      "Calm (3614)\n",
      "q is 0\n",
      "Calm (3615)\n",
      "q is 0\n",
      "Calm (3616)\n",
      "q is 0\n",
      "Calm (3617)\n",
      "q is 0\n",
      "Calm (3618)\n",
      "q is 0\n",
      "Calm (3619)\n",
      "q is 0\n",
      "Calm (362)\n",
      "q is 0\n",
      "Calm (3620)\n",
      "q is 0\n",
      "Calm (3621)\n",
      "q is 0\n",
      "Calm (3622)\n",
      "q is 0\n",
      "Calm (3623)\n",
      "q is 0\n"
     ]
    },
    {
     "name": "stderr",
     "output_type": "stream",
     "text": [
      "\r",
      " 18%|██████████████                                                               | 1366/7496 [00:11<00:48, 126.82it/s]"
     ]
    },
    {
     "name": "stdout",
     "output_type": "stream",
     "text": [
      "Calm (3624)\n",
      "q is 0\n",
      "Calm (3625)\n",
      "q is 0\n",
      "Calm (3626)\n",
      "q is 0\n",
      "Calm (3627)\n",
      "q is 0\n",
      "Calm (3628)\n",
      "q is 0\n",
      "Calm (3629)\n",
      "q is 0\n",
      "Calm (3630)\n",
      "q is 0\n",
      "Calm (3631)\n",
      "q is 0\n",
      "Calm (3632)\n",
      "q is 0\n",
      "Calm (3633)\n",
      "q is 0\n",
      "Calm (3634)\n",
      "q is 0\n",
      "Calm (3635)\n",
      "q is 0\n",
      "Calm (3636)\n",
      "q is 0\n"
     ]
    },
    {
     "name": "stderr",
     "output_type": "stream",
     "text": [
      "\r",
      " 18%|██████████████▏                                                              | 1379/7496 [00:11<00:49, 124.20it/s]"
     ]
    },
    {
     "name": "stdout",
     "output_type": "stream",
     "text": [
      "Calm (3637)\n",
      "q is 0\n",
      "Calm (3638)\n",
      "q is 0\n",
      "Calm (3639)\n",
      "q is 0\n",
      "Calm (364)\n",
      "q is 0\n",
      "Calm (3640)\n",
      "q is 0\n",
      "Calm (3641)\n",
      "q is 0\n",
      "Calm (3642)\n",
      "q is 0\n",
      "Calm (3643)\n",
      "q is 0\n",
      "Calm (3644)\n",
      "q is 0\n",
      "Calm (3645)\n",
      "q is 0\n",
      "Calm (3646)\n",
      "q is 0\n",
      "Calm (3647)\n",
      "q is 0\n",
      "Calm (3648)\n",
      "q is 0\n"
     ]
    },
    {
     "name": "stderr",
     "output_type": "stream",
     "text": [
      "\r",
      " 19%|██████████████▎                                                              | 1392/7496 [00:11<00:49, 123.13it/s]"
     ]
    },
    {
     "name": "stdout",
     "output_type": "stream",
     "text": [
      "Calm (3649)\n",
      "q is 0\n",
      "Calm (365)\n",
      "q is 0\n",
      "Calm (3650)\n",
      "q is 0\n",
      "Calm (3651)\n",
      "q is 0\n",
      "Calm (3652)\n",
      "q is 0\n",
      "Calm (3653)\n",
      "q is 0\n",
      "\n",
      "q is 0\n",
      "Calm (3707)\n",
      "q is 0\n"
     ]
    },
    {
     "name": "stderr",
     "output_type": "stream",
     "text": [
      "\r",
      " 19%|██████████████▉                                                              | 1456/7496 [00:12<00:51, 116.52it/s]"
     ]
    },
    {
     "name": "stdout",
     "output_type": "stream",
     "text": [
      "Calm (3708)\n",
      "q is 0\n",
      "Calm (3709)\n",
      "q is 0\n",
      "Calm (3710)\n",
      "q is 0\n",
      "Calm (3711)\n",
      "q is 0\n",
      "Calm (3712)\n",
      "q is 0\n",
      "Calm (3713)\n",
      "q is 0\n",
      "Calm (3714)\n",
      "q is 0\n",
      "Calm (3715)\n",
      "q is 0\n",
      "Calm (3716)\n",
      "q is 0\n",
      "Calm (3717)\n",
      "q is 0\n",
      "Calm (3718)\n",
      "q is 0\n",
      "Calm (3719)\n",
      "q is 0\n"
     ]
    },
    {
     "name": "stderr",
     "output_type": "stream",
     "text": [
      "\r",
      " 20%|███████████████                                                              | 1468/7496 [00:12<00:52, 114.61it/s]"
     ]
    },
    {
     "name": "stdout",
     "output_type": "stream",
     "text": [
      "Calm (3720)\n",
      "q is 0\n",
      "Calm (3721)\n",
      "q is 0\n",
      "Calm (3722)\n",
      "q is 0\n",
      "Calm (3723)\n",
      "q is 0\n",
      "Calm (3724)\n",
      "q is 0\n",
      "Calm (3725)\n",
      "q is 0\n",
      "Calm (3726)\n",
      "q is 0\n",
      "Calm (3727)\n",
      "q is 0\n",
      "Calm (3728)\n",
      "q is 0\n",
      "Calm (3729)\n",
      "q is 0\n",
      "Calm (3730)\n",
      "q is 0\n",
      "Calm (3731)\n",
      "q is 0\n"
     ]
    },
    {
     "name": "stderr",
     "output_type": "stream",
     "text": [
      "\r",
      " 20%|███████████████▏                                                             | 1480/7496 [00:12<00:52, 115.26it/s]"
     ]
    },
    {
     "name": "stdout",
     "output_type": "stream",
     "text": [
      "Calm (3732)\n",
      "q is 0\n",
      "Calm (3733)\n",
      "q is 0\n",
      "Calm (3734)\n",
      "q is 0\n",
      "Calm (3735)\n",
      "q is 0\n",
      "Calm (3736)\n",
      "q is 0\n",
      "Calm (3737)\n",
      "q is 0\n",
      "Calm (3738)\n",
      "q is 0\n",
      "Calm (3739)\n",
      "q is 0\n",
      "Calm (3740)\n",
      "q is 0\n",
      "Calm (3741)\n",
      "q is 0\n",
      "Calm (3742)\n",
      "q is 0\n",
      "Calm (3743)\n",
      "q is 0\n"
     ]
    },
    {
     "name": "stderr",
     "output_type": "stream",
     "text": [
      "\r",
      " 20%|███████████████▎                                                             | 1492/7496 [00:12<00:57, 104.29it/s]"
     ]
    },
    {
     "name": "stdout",
     "output_type": "stream",
     "text": [
      "Calm (3744)\n",
      "q is 0\n",
      "Calm (3745)\n",
      "q is 0\n",
      "Calm (3746)\n",
      "q is 0\n",
      "Calm (3747)\n",
      "q is 0\n",
      "Calm (3748)\n",
      "q is 0\n",
      "Calm (3749)\n",
      "q is 0\n",
      "Calm (3750)\n",
      "q is 0\n",
      "Calm (3751)\n",
      "q is 0\n",
      "Calm (3752)\n",
      "q is 0\n",
      "Calm (3753)\n",
      "q is 0\n",
      "Calm (3754)\n",
      "q is 0\n"
     ]
    },
    {
     "name": "stderr",
     "output_type": "stream",
     "text": [
      "\r",
      " 20%|███████████████▍                                                             | 1503/7496 [00:12<00:57, 104.81it/s]"
     ]
    },
    {
     "name": "stdout",
     "output_type": "stream",
     "text": [
      "Calm (3755)\n",
      "q is 0\n",
      "Calm (3756)\n",
      "q is 0\n",
      "Calm (3757)\n",
      "q is 0\n",
      "Calm (3758)\n",
      "q is 0\n",
      "Calm (3759)\n",
      "q is 0\n",
      "Calm (3760)\n",
      "q is 0\n",
      "Calm (3761)\n",
      "q is 0\n",
      "Calm (3762)\n",
      "q is 0\n",
      "Calm (3763)\n",
      "q is 0\n",
      "Calm (3764)\n",
      "q is 0\n",
      "Calm (3765)\n",
      "q is 0\n"
     ]
    },
    {
     "name": "stderr",
     "output_type": "stream",
     "text": [
      "\r",
      " 20%|███████████████▊                                                              | 1514/7496 [00:12<00:59, 99.76it/s]"
     ]
    },
    {
     "name": "stdout",
     "output_type": "stream",
     "text": [
      "Calm (3766)\n",
      "q is 0\n",
      "Calm (3767)\n",
      "q is 0\n",
      "Calm (3768)\n",
      "q is 0\n",
      "Calm (3769)\n",
      "q is 0\n",
      "Calm (3770)\n",
      "q is 0\n",
      "Calm (3771)\n",
      "q is 0\n",
      "Calm (3772)\n",
      "q is 0\n",
      "Calm (3773)\n",
      "q is 0\n",
      "Calm (3774)\n",
      "q is 0\n",
      "Calm (3775)\n",
      "q is 0\n",
      "Calm (3776)\n",
      "q is 0\n"
     ]
    },
    {
     "name": "stderr",
     "output_type": "stream",
     "text": [
      "\r",
      " 20%|███████████████▊                                                              | 1525/7496 [00:12<01:02, 96.25it/s]"
     ]
    },
    {
     "name": "stdout",
     "output_type": "stream",
     "text": [
      "Calm (3777)\n",
      "q is 0\n",
      "Calm (3778)\n",
      "q is 0\n",
      "Calm (3779)\n",
      "q is 0\n",
      "Calm (3780)\n",
      "q is 0\n",
      "Calm (3781)\n",
      "q is 0\n",
      "Calm (3782)\n",
      "q is 0\n",
      "Calm (3783)\n",
      "q is 0\n",
      "Calm (3784)\n",
      "q is 0\n",
      "Calm (3785)\n",
      "q is 0\n",
      "Calm (3786)\n",
      "q is 0\n"
     ]
    },
    {
     "name": "stderr",
     "output_type": "stream",
     "text": [
      "\r",
      " 20%|███████████████▉                                                              | 1535/7496 [00:13<01:03, 94.13it/s]"
     ]
    },
    {
     "name": "stdout",
     "output_type": "stream",
     "text": [
      "Calm (3787)\n",
      "q is 0\n",
      "Calm (3788)\n",
      "q is 0\n",
      "Calm (3789)\n",
      "q is 0\n",
      "Calm (3790)\n",
      "q is 0\n",
      "Calm (3791)\n",
      "q is 0\n",
      "Calm (3792)\n",
      "q is 0\n",
      "Calm (3793)\n",
      "q is 0\n",
      "Calm (3794)\n",
      "q is 0\n",
      "Calm (3795)\n",
      "q is 0\n",
      "Calm (3796)\n",
      "q is 0\n",
      "Calm (3797)\n",
      "q is 0\n"
     ]
    },
    {
     "name": "stderr",
     "output_type": "stream",
     "text": [
      "\r",
      " 21%|████████████████                                                              | 1546/7496 [00:13<01:01, 97.16it/s]"
     ]
    },
    {
     "name": "stdout",
     "output_type": "stream",
     "text": [
      "Calm (3798)\n",
      "q is 0\n",
      "Calm (3799)\n",
      "q is 0\n",
      "Calm (38)\n",
      "q is 0\n",
      "Calm (3800)\n",
      "q is 0\n",
      "Calm (3801)\n",
      "q is 0\n",
      "Calm (3802)\n",
      "q is 0\n",
      "Calm (3803)\n",
      "q is 0\n",
      "Calm (3804)\n",
      "q is 0\n",
      "Calm (3805)\n",
      "q is 0\n",
      "Calm (3806)\n",
      "q is 0\n",
      "Calm (3807)\n",
      "q is 0\n"
     ]
    },
    {
     "name": "stderr",
     "output_type": "stream",
     "text": [
      "\r",
      " 21%|████████████████▏                                                             | 1557/7496 [00:13<01:00, 97.81it/s]"
     ]
    },
    {
     "name": "stdout",
     "output_type": "stream",
     "text": [
      "Calm (3808)\n",
      "q is 0\n",
      "Calm (3809)\n",
      "q is 0\n",
      "Calm (3810)\n",
      "q is 0\n",
      "Calm (3811)\n",
      "q is 0\n",
      "Calm (3812)\n",
      "q is 0\n",
      "Calm (3813)\n",
      "q is 0\n",
      "Calm (3814)\n",
      "q is 0\n",
      "Calm (3815)\n",
      "q is 0\n",
      "Calm (3816)\n",
      "q is 0\n",
      "Calm (3817)\n",
      "q is 0\n",
      "Calm (3818)\n",
      "q is 0\n",
      "Calm (3819)\n",
      "q is 0\n"
     ]
    },
    {
     "name": "stderr",
     "output_type": "stream",
     "text": [
      "\r",
      " 21%|████████████████                                                             | 1569/7496 [00:13<00:58, 102.04it/s]"
     ]
    },
    {
     "name": "stdout",
     "output_type": "stream",
     "text": [
      "Calm (3820)\n",
      "q is 0\n",
      "Calm (3821)\n",
      "q is 0\n",
      "Calm (3822)\n",
      "q is 0\n",
      "Calm (3823)\n",
      "q is 0\n",
      "Calm (3824)\n",
      "q is 0\n",
      "Calm (3825)\n",
      "q is 0\n",
      "Calm (3826)\n",
      "q is 0\n",
      "Calm (3827)\n",
      "q is 0\n",
      "Calm (3828)\n",
      "q is 0\n",
      "Calm (3829)\n",
      "q is 0\n",
      "Calm (3830)\n",
      "q is 0\n"
     ]
    },
    {
     "name": "stderr",
     "output_type": "stream",
     "text": [
      "\r",
      " 21%|████████████████▏                                                            | 1580/7496 [00:13<00:56, 104.09it/s]"
     ]
    },
    {
     "name": "stdout",
     "output_type": "stream",
     "text": [
      "Calm (3831)\n",
      "q is 0\n",
      "Calm (3832)\n",
      "q is 0\n",
      "Calm (3833)\n",
      "q is 0\n",
      "Calm (3834)\n",
      "q is 0\n",
      "Calm (3835)\n",
      "q is 0\n",
      "Calm (3836)\n",
      "q is 0\n",
      "Calm (3837)\n",
      "q is 0\n",
      "Calm (3838)\n",
      "q is 0\n",
      "Calm (3839)\n",
      "q is 0\n",
      "Calm (3840)\n",
      "q is 0\n",
      "Calm (3841)\n",
      "q is 0\n"
     ]
    },
    {
     "name": "stderr",
     "output_type": "stream",
     "text": [
      "\r",
      " 21%|████████████████▌                                                             | 1591/7496 [00:13<00:59, 99.84it/s]"
     ]
    },
    {
     "name": "stdout",
     "output_type": "stream",
     "text": [
      "Calm (3842)\n",
      "q is 0\n",
      "Calm (3843)\n",
      "q is 0\n",
      "Calm (3844)\n",
      "q is 0\n",
      "Calm (3845)\n",
      "q is 0\n",
      "Calm (3846)\n",
      "q is 0\n",
      "Calm (3847)\n",
      "q is 0\n",
      "Calm (3848)\n",
      "q is 0\n",
      "Calm (3849)\n",
      "q is 0\n",
      "Calm (3850)\n",
      "q is 0\n",
      "Calm (3851)\n",
      "q is 0\n",
      "Calm (3852)\n",
      "q is 0\n"
     ]
    },
    {
     "name": "stderr",
     "output_type": "stream",
     "text": [
      "\r",
      " 21%|████████████████▋                                                             | 1602/7496 [00:13<00:59, 98.89it/s]"
     ]
    },
    {
     "name": "stdout",
     "output_type": "stream",
     "text": [
      "Calm (3853)\n",
      "q is 0\n",
      "Calm (3854)\n",
      "q is 0\n",
      "Calm (3855)\n",
      "q is 0\n",
      "Calm (3856)\n",
      "q is 0\n",
      "Calm (3857)\n",
      "q is 0\n",
      "Calm (3858)\n",
      "q is 0\n",
      "Calm (3859)\n",
      "q is 0\n",
      "Calm (3860)\n",
      "q is 0\n",
      "Calm (3861)\n",
      "q is 0\n",
      "Calm (3862)\n",
      "q is 0\n"
     ]
    },
    {
     "name": "stderr",
     "output_type": "stream",
     "text": [
      "\r",
      " 22%|████████████████▊                                                             | 1612/7496 [00:13<01:00, 97.27it/s]"
     ]
    },
    {
     "name": "stdout",
     "output_type": "stream",
     "text": [
      "Calm (3863)\n",
      "q is 0\n",
      "Calm (3864)\n",
      "q is 0\n",
      "Calm (3865)\n",
      "q is 0\n",
      "Calm (3866)\n",
      "q is 0\n",
      "Calm (3867)\n",
      "q is 0\n",
      "Calm (3868)\n",
      "q is 0\n",
      "Calm (3869)\n",
      "\n",
      "q is 0\n",
      "Calm (4180)\n",
      "q is 0\n",
      "Calm (4181)\n",
      "q is 0\n",
      "Calm (4182)\n",
      "q is 0\n",
      "Calm (4183)\n",
      "q is 0\n",
      "Calm (4184)\n",
      "q is 0\n"
     ]
    },
    {
     "name": "stderr",
     "output_type": "stream",
     "text": [
      "\r",
      " 26%|███████████████████▉                                                         | 1938/7496 [00:16<00:51, 107.28it/s]"
     ]
    },
    {
     "name": "stdout",
     "output_type": "stream",
     "text": [
      "Calm (4185)\n",
      "q is 0\n",
      "Calm (4186)\n",
      "q is 0\n",
      "Calm (4187)\n",
      "q is 0\n",
      "Calm (4188)\n",
      "q is 0\n",
      "Calm (4189)\n",
      "q is 0\n",
      "Calm (4190)\n",
      "q is 0\n",
      "Calm (4191)\n",
      "q is 0\n",
      "Calm (4192)\n",
      "q is 0\n",
      "Calm (4193)\n",
      "q is 0\n",
      "Calm (4194)\n",
      "q is 0\n",
      "Calm (4195)\n",
      "q is 0\n",
      "Calm (4196)\n",
      "q is 0\n"
     ]
    },
    {
     "name": "stderr",
     "output_type": "stream",
     "text": [
      "\r",
      " 26%|████████████████████                                                         | 1950/7496 [00:17<00:50, 109.67it/s]"
     ]
    },
    {
     "name": "stdout",
     "output_type": "stream",
     "text": [
      "Calm (4197)\n",
      "q is 0\n",
      "Calm (4198)\n",
      "q is 0\n",
      "Calm (4199)\n",
      "q is 0\n",
      "Calm (42)\n",
      "q is 0\n",
      "Calm (4200)\n",
      "q is 0\n",
      "Calm (4201)\n",
      "q is 0\n",
      "Calm (4202)\n",
      "q is 0\n",
      "Calm (4203)\n",
      "q is 0\n",
      "Calm (4204)\n",
      "q is 0\n",
      "Calm (4205)\n",
      "q is 0\n",
      "Calm (4206)\n",
      "q is 0\n",
      "Calm (4207)\n",
      "q is 0\n"
     ]
    },
    {
     "name": "stderr",
     "output_type": "stream",
     "text": [
      "\r",
      " 26%|████████████████████▏                                                        | 1962/7496 [00:17<00:49, 111.10it/s]"
     ]
    },
    {
     "name": "stdout",
     "output_type": "stream",
     "text": [
      "Calm (4208)\n",
      "q is 0\n",
      "Calm (4209)\n",
      "q is 0\n",
      "Calm (4210)\n",
      "q is 0\n",
      "Calm (4211)\n",
      "q is 0\n",
      "Calm (4212)\n",
      "q is 0\n",
      "Calm (4213)\n",
      "q is 0\n",
      "Calm (4214)\n",
      "q is 0\n",
      "Calm (4215)\n",
      "q is 0\n",
      "Calm (4216)\n",
      "q is 0\n",
      "Calm (4217)\n",
      "q is 0\n",
      "Calm (4218)\n",
      "q is 0\n",
      "Calm (4219)\n",
      "q is 0\n"
     ]
    },
    {
     "name": "stderr",
     "output_type": "stream",
     "text": [
      "\r",
      " 26%|████████████████████▎                                                        | 1974/7496 [00:17<00:48, 112.76it/s]"
     ]
    },
    {
     "name": "stdout",
     "output_type": "stream",
     "text": [
      "Calm (4220)\n",
      "q is 0\n",
      "Calm (4221)\n",
      "q is 0\n",
      "Calm (4222)\n",
      "q is 0\n",
      "Calm (4223)\n",
      "q is 0\n",
      "Calm (4224)\n",
      "q is 0\n",
      "Calm (4225)\n",
      "q is 0\n",
      "Calm (4226)\n",
      "q is 0\n",
      "Calm (4227)\n",
      "q is 0\n",
      "Calm (4228)\n",
      "q is 0\n",
      "Calm (4229)\n",
      "q is 0\n",
      "Calm (423)\n",
      "q is 0\n",
      "Calm (4230)\n",
      "q is 0\n"
     ]
    },
    {
     "name": "stderr",
     "output_type": "stream",
     "text": [
      "\r",
      " 26%|████████████████████▍                                                        | 1986/7496 [00:17<00:50, 110.18it/s]"
     ]
    },
    {
     "name": "stdout",
     "output_type": "stream",
     "text": [
      "Calm (4231)\n",
      "q is 0\n",
      "Calm (4232)\n",
      "q is 0\n",
      "Calm (4233)\n",
      "q is 0\n",
      "Calm (4234)\n",
      "q is 0\n",
      "Calm (4235)\n",
      "q is 0\n",
      "Calm (4236)\n",
      "q is 0\n",
      "Calm (4237)\n",
      "q is 0\n",
      "Calm (4238)\n",
      "q is 0\n",
      "Calm (4239)\n",
      "q is 0\n",
      "Calm (424)\n",
      "q is 0\n",
      "Calm (4240)\n",
      "q is 0\n",
      "Calm (4241)\n",
      "q is 0\n"
     ]
    },
    {
     "name": "stderr",
     "output_type": "stream",
     "text": [
      "\r",
      " 27%|████████████████████▌                                                        | 1998/7496 [00:17<00:50, 109.95it/s]"
     ]
    },
    {
     "name": "stdout",
     "output_type": "stream",
     "text": [
      "Calm (4242)\n",
      "q is 0\n",
      "Calm (4243)\n",
      "q is 0\n",
      "Calm (4244)\n",
      "q is 0\n",
      "Calm (4245)\n",
      "q is 0\n",
      "Calm (4246)\n",
      "q is 0\n",
      "Calm (4247)\n",
      "q is 0\n",
      "Calm (4248)\n",
      "q is 0\n",
      "Calm (4249)\n",
      "q is 0\n",
      "Calm (4250)\n",
      "q is 0\n",
      "Calm (4251)\n",
      "q is 0\n",
      "Calm (4252)\n",
      "q is 0\n",
      "Calm (4253)\n",
      "q is 0\n"
     ]
    },
    {
     "name": "stderr",
     "output_type": "stream",
     "text": [
      "\r",
      " 27%|████████████████████▋                                                        | 2010/7496 [00:17<00:50, 109.48it/s]"
     ]
    },
    {
     "name": "stdout",
     "output_type": "stream",
     "text": [
      "Calm (4254)\n",
      "q is 0\n",
      "Calm (4255)\n",
      "q is 0\n",
      "Calm (4256)\n",
      "q is 0\n",
      "Calm (4257)\n",
      "q is 0\n",
      "Calm (4258)\n",
      "q is 0\n",
      "Calm (4259)\n",
      "q is 0\n",
      "Calm (4260)\n",
      "q is 0\n",
      "Calm (4261)\n",
      "q is 0\n",
      "Calm (4262)\n",
      "q is 0\n",
      "Calm (4263)\n",
      "q is 0\n",
      "Calm (4264)\n",
      "q is 0\n"
     ]
    },
    {
     "name": "stderr",
     "output_type": "stream",
     "text": [
      "\r",
      " 27%|████████████████████▊                                                        | 2021/7496 [00:17<00:50, 108.11it/s]"
     ]
    },
    {
     "name": "stdout",
     "output_type": "stream",
     "text": [
      "Calm (4265)\n",
      "q is 0\n",
      "Calm (4266)\n",
      "q is 0\n",
      "Calm (4267)\n",
      "q is 0\n",
      "Calm (4268)\n",
      "q is 0\n",
      "Calm (4269)\n",
      "q is 0\n",
      "Calm (4270)\n",
      "q is 0\n",
      "Calm (4271)\n",
      "q is 0\n",
      "Calm (4272)\n",
      "q is 0\n",
      "Calm (4273)\n",
      "q is 0\n",
      "Calm (4274)\n",
      "q is 0\n",
      "Calm (4275)\n",
      "q is 0\n",
      "Calm (4276)\n",
      "q is 0\n"
     ]
    },
    {
     "name": "stderr",
     "output_type": "stream",
     "text": [
      "\r",
      " 27%|████████████████████▉                                                        | 2033/7496 [00:17<00:49, 109.67it/s]"
     ]
    },
    {
     "name": "stdout",
     "output_type": "stream",
     "text": [
      "Calm (4277)\n",
      "q is 0\n",
      "Calm (4278)\n",
      "q is 0\n",
      "Calm (4279)\n",
      "q is 0\n",
      "Calm (4280)\n",
      "q is 0\n",
      "Calm (4281)\n",
      "q is 0\n",
      "Calm (4282)\n",
      "q is 0\n",
      "Calm (4283)\n",
      "q is 0\n",
      "Calm (4284)\n",
      "q is 0\n",
      "Calm (4285)\n",
      "q is 0\n",
      "Calm (4286)\n",
      "q is 0\n",
      "Calm (4287)\n",
      "q is 0\n",
      "Calm (4288)\n",
      "q is 0\n",
      "Calm (4289)\n",
      "q is 0\n"
     ]
    },
    {
     "name": "stderr",
     "output_type": "stream",
     "text": [
      "\r",
      " 27%|█████████████████████                                                        | 2046/7496 [00:17<00:48, 112.47it/s]"
     ]
    },
    {
     "name": "stdout",
     "output_type": "stream",
     "text": [
      "Calm (4290)\n",
      "q is 0\n",
      "Calm (4291)\n",
      "q is 0\n",
      "Calm (4292)\n",
      "q is 0\n",
      "Calm (4293)\n",
      "q is 0\n",
      "Calm (4294)\n",
      "q is 0\n",
      "Calm (4295)\n",
      "q is 0\n",
      "Calm (4296)\n",
      "q is 0\n",
      "Calm (4297)\n",
      "q is 0\n",
      "Calm (4298)\n",
      "q is 0\n",
      "Calm (4299)\n",
      "q is 0\n",
      "Calm (4300)\n",
      "q is 0\n",
      "Calm (4301)\n",
      "q is 0\n"
     ]
    },
    {
     "name": "stderr",
     "output_type": "stream",
     "text": [
      "\r",
      " 27%|█████████████████████▏                                                       | 2058/7496 [00:17<00:49, 110.91it/s]"
     ]
    },
    {
     "name": "stdout",
     "output_type": "stream",
     "text": [
      "Calm (4302)\n",
      "q is 0\n",
      "Calm (4303)\n",
      "q is 0\n",
      "Calm (4304)\n",
      "q is 0\n",
      "Calm (4305)\n",
      "q is 0\n",
      "Calm (4306)\n",
      "q is 0\n",
      "Calm (4307)\n",
      "q is 0\n",
      "Calm (4308)\n",
      "q is 0\n",
      "Calm (4309)\n",
      "q is 0\n",
      "Calm (4310)\n",
      "q is 0\n",
      "Calm (4311)\n",
      "q is 0\n",
      "Calm (4312)\n",
      "q is 0\n",
      "Calm (4313)\n",
      "q is 0\n",
      "Calm (4314)\n",
      "q is 0\n"
     ]
    },
    {
     "name": "stderr",
     "output_type": "stream",
     "text": [
      "\r",
      " 28%|█████████████████████▎                                                       | 2071/7496 [00:18<00:47, 113.97it/s]"
     ]
    },
    {
     "name": "stdout",
     "output_type": "stream",
     "text": [
      "Calm (4315)\n",
      "q is 0\n",
      "Calm (4316)\n",
      "q is 0\n",
      "Calm (4317)\n",
      "q is 0\n",
      "Calm (4318)\n",
      "q is 0\n",
      "Calm (4319)\n",
      "q is 0\n",
      "Calm (4320)\n",
      "q is 0\n",
      "Calm (4321)\n",
      "q is 0\n",
      "Calm (4322)\n",
      "q is 0\n",
      "Calm (4323)\n",
      "q is 0\n",
      "Calm (4324)\n",
      "q is 0\n",
      "Calm (4325)\n",
      "q is 0\n",
      "Calm (4326)\n",
      "q is 0\n",
      "Calm (4327)\n",
      "q is 0\n"
     ]
    },
    {
     "name": "stderr",
     "output_type": "stream",
     "text": [
      "\r",
      " 28%|█████████████████████▍                                                       | 2084/7496 [00:18<00:46, 115.29it/s]"
     ]
    },
    {
     "name": "stdout",
     "output_type": "stream",
     "text": [
      "Calm (4328)\n",
      "q is 0\n",
      "Calm (4329)\n",
      "q is 0\n",
      "Calm (4330)\n",
      "q is 0\n",
      "Calm (4331)\n",
      "q is 0\n",
      "Calm (4332)\n",
      "q is 0\n",
      "Calm (4333)\n",
      "q is 0\n",
      "Calm (4334)\n",
      "q is 0\n",
      "Calm (4335)\n",
      "q is 0\n",
      "Calm (4336)\n",
      "q is 0\n",
      "Calm (4337)\n",
      "q is 0\n",
      "Calm (4338)\n",
      "q is 0\n",
      "Calm (4339)\n",
      "q is 0\n",
      "Calm (434)\n",
      "q is \n",
      "q is 0\n",
      "Calm (4717)\n",
      "q is 0\n",
      "Calm (4718)\n",
      "q is 0\n"
     ]
    },
    {
     "name": "stderr",
     "output_type": "stream",
     "text": [
      "\r",
      " 33%|█████████████████████████▌                                                   | 2484/7496 [00:21<00:39, 127.92it/s]"
     ]
    },
    {
     "name": "stdout",
     "output_type": "stream",
     "text": [
      "Calm (4719)\n",
      "q is 0\n",
      "Calm (472)\n",
      "q is 0\n",
      "Calm (4720)\n",
      "q is 0\n",
      "Calm (4721)\n",
      "q is 0\n",
      "Calm (4722)\n",
      "q is 0\n",
      "Calm (4723)\n",
      "q is 0\n",
      "Calm (4724)\n",
      "q is 0\n",
      "Calm (4725)\n",
      "q is 0\n",
      "Calm (4726)\n",
      "q is 0\n",
      "Calm (4727)\n",
      "q is 0\n",
      "Calm (4728)\n",
      "q is 0\n",
      "Calm (4729)\n",
      "q is 0\n",
      "Calm (4730)\n",
      "q is 0\n"
     ]
    },
    {
     "name": "stderr",
     "output_type": "stream",
     "text": [
      "\r",
      " 33%|█████████████████████████▋                                                   | 2497/7496 [00:22<00:42, 118.15it/s]"
     ]
    },
    {
     "name": "stdout",
     "output_type": "stream",
     "text": [
      "Calm (4731)\n",
      "q is 0\n",
      "Calm (4732)\n",
      "q is 0\n",
      "Calm (4733)\n",
      "q is 0\n",
      "Calm (4734)\n",
      "q is 0\n",
      "Calm (4735)\n",
      "q is 0\n",
      "Calm (4736)\n",
      "q is 0\n",
      "Calm (4737)\n",
      "q is 0\n",
      "Calm (4738)\n",
      "q is 0\n",
      "Calm (4739)\n",
      "q is 0\n",
      "Calm (4740)\n",
      "q is 0\n",
      "Calm (4741)\n",
      "q is 0\n",
      "Calm (4742)\n",
      "q is 0\n",
      "Calm (4743)\n",
      "q is 0\n",
      "Calm (4744)\n",
      "q is 0\n"
     ]
    },
    {
     "name": "stderr",
     "output_type": "stream",
     "text": [
      "\r",
      " 33%|█████████████████████████▊                                                   | 2511/7496 [00:22<00:40, 123.71it/s]"
     ]
    },
    {
     "name": "stdout",
     "output_type": "stream",
     "text": [
      "Calm (4745)\n",
      "q is 0\n",
      "Calm (4746)\n",
      "q is 0\n",
      "Calm (4747)\n",
      "q is 0\n",
      "Calm (4748)\n",
      "q is 0\n",
      "Calm (4749)\n",
      "q is 0\n",
      "Calm (475)\n",
      "q is 0\n",
      "Calm (4750)\n",
      "q is 0\n",
      "Calm (4751)\n",
      "q is 0\n",
      "Calm (4752)\n",
      "q is 0\n",
      "Calm (4753)\n",
      "q is 0\n",
      "Calm (4754)\n",
      "q is 0\n",
      "Calm (4755)\n",
      "q is 0\n",
      "Calm (4756)\n",
      "q is 0\n",
      "Calm (4757)\n",
      "q is 0\n",
      "Calm (4758)\n",
      "q is 0\n"
     ]
    },
    {
     "name": "stderr",
     "output_type": "stream",
     "text": [
      "\r",
      " 34%|█████████████████████████▉                                                   | 2526/7496 [00:22<00:38, 129.99it/s]"
     ]
    },
    {
     "name": "stdout",
     "output_type": "stream",
     "text": [
      "Calm (4759)\n",
      "q is 0\n",
      "Calm (4760)\n",
      "q is 0\n",
      "Calm (4761)\n",
      "q is 0\n",
      "Calm (4762)\n",
      "q is 0\n",
      "Calm (4763)\n",
      "q is 0\n",
      "Calm (4764)\n",
      "q is 0\n",
      "Calm (4765)\n",
      "q is 0\n",
      "Calm (4766)\n",
      "q is 0\n",
      "Calm (4767)\n",
      "q is 0\n",
      "Calm (4768)\n",
      "q is 0\n",
      "Calm (4769)\n",
      "q is 0\n",
      "Calm (4770)\n",
      "q is 0\n",
      "Calm (4771)\n",
      "q is 0\n",
      "Calm (4772)\n",
      "q is 0\n"
     ]
    },
    {
     "name": "stderr",
     "output_type": "stream",
     "text": [
      "\r",
      " 34%|██████████████████████████                                                   | 2540/7496 [00:22<00:41, 120.29it/s]"
     ]
    },
    {
     "name": "stdout",
     "output_type": "stream",
     "text": [
      "Calm (4773)\n",
      "q is 0\n",
      "Calm (4774)\n",
      "q is 0\n",
      "Calm (4775)\n",
      "q is 0\n",
      "Calm (4776)\n",
      "q is 0\n",
      "Calm (4777)\n",
      "q is 0\n",
      "Calm (4778)\n",
      "q is 0\n",
      "Calm (4779)\n",
      "q is 0\n",
      "Calm (4780)\n",
      "q is 0\n",
      "Calm (4781)\n",
      "q is 0\n",
      "Calm (4782)\n",
      "q is 0\n",
      "Calm (4783)\n",
      "q is 0\n",
      "Calm (4784)\n",
      "q is 0\n",
      "Calm (4785)\n",
      "q is 0\n",
      "Calm (4786)\n",
      "q is 0\n",
      "Calm (4787)\n",
      "q is 0\n",
      "Calm (4788)\n",
      "q is 0\n"
     ]
    },
    {
     "name": "stderr",
     "output_type": "stream",
     "text": [
      "\r",
      " 34%|██████████████████████████▎                                                  | 2556/7496 [00:22<00:38, 128.80it/s]"
     ]
    },
    {
     "name": "stdout",
     "output_type": "stream",
     "text": [
      "Calm (4789)\n",
      "q is 0\n",
      "Calm (4790)\n",
      "q is 0\n",
      "Calm (4791)\n",
      "q is 0\n",
      "Calm (4792)\n",
      "q is 0\n",
      "Calm (4793)\n",
      "q is 0\n",
      "Calm (4794)\n",
      "q is 0\n",
      "Calm (4795)\n",
      "q is 0\n",
      "Calm (4796)\n",
      "q is 0\n",
      "Calm (4797)\n",
      "q is 0\n",
      "Calm (4798)\n",
      "q is 0\n",
      "Calm (4799)\n",
      "q is 0\n",
      "Calm (48)\n",
      "q is 0\n",
      "Calm (4800)\n",
      "q is 0\n",
      "Calm (4801)\n",
      "q is 0\n",
      "Calm (4802)\n",
      "q is 0\n"
     ]
    },
    {
     "name": "stderr",
     "output_type": "stream",
     "text": [
      "\r",
      " 34%|██████████████████████████▍                                                  | 2571/7496 [00:22<00:40, 120.96it/s]"
     ]
    },
    {
     "name": "stdout",
     "output_type": "stream",
     "text": [
      "Calm (4803)\n",
      "q is 0\n",
      "Calm (4804)\n",
      "q is 0\n",
      "Calm (4805)\n",
      "q is 0\n",
      "Calm (4806)\n",
      "q is 0\n",
      "Calm (4807)\n",
      "q is 0\n",
      "Calm (4808)\n",
      "q is 0\n",
      "Calm (4809)\n",
      "q is 0\n",
      "Calm (4810)\n",
      "q is 0\n",
      "Calm (4811)\n",
      "q is 0\n",
      "Calm (4812)\n",
      "q is 0\n",
      "Calm (4813)\n",
      "q is 0\n",
      "Calm (4814)\n",
      "q is 0\n",
      "Calm (4815)\n",
      "q is 0\n",
      "Calm (4816)\n",
      "q is 0\n",
      "Calm (4817)\n",
      "q is 0\n",
      "Calm (4818)\n",
      "q is 0\n",
      "Calm (4819)\n",
      "q is 0\n"
     ]
    },
    {
     "name": "stderr",
     "output_type": "stream",
     "text": [
      "\r",
      " 35%|██████████████████████████▌                                                  | 2588/7496 [00:22<00:37, 130.37it/s]"
     ]
    },
    {
     "name": "stdout",
     "output_type": "stream",
     "text": [
      "Calm (4820)\n",
      "q is 0\n",
      "Calm (4821)\n",
      "q is 0\n",
      "Calm (4822)\n",
      "q is 0\n",
      "Calm (4823)\n",
      "q is 0\n",
      "Calm (4824)\n",
      "q is 0\n",
      "Calm (4825)\n",
      "q is 0\n",
      "Calm (4826)\n",
      "q is 0\n",
      "Calm (4827)\n",
      "q is 0\n",
      "Calm (4828)\n",
      "q is 0\n",
      "Calm (4829)\n",
      "q is 0\n",
      "Calm (4830)\n",
      "q is 0\n",
      "Calm (4831)\n",
      "q is 0\n",
      "Calm (4832)\n",
      "q is 0\n",
      "Calm (4833)\n",
      "q is 0\n",
      "Calm (4834)\n",
      "q is 0\n",
      "Calm (4835)\n",
      "q is 0\n"
     ]
    },
    {
     "name": "stderr",
     "output_type": "stream",
     "text": [
      "\r",
      " 35%|██████████████████████████▋                                                  | 2604/7496 [00:22<00:35, 136.73it/s]"
     ]
    },
    {
     "name": "stdout",
     "output_type": "stream",
     "text": [
      "Calm (4836)\n",
      "q is 0\n",
      "Calm (4837)\n",
      "q is 0\n",
      "Calm (4838)\n",
      "q is 0\n",
      "Calm (4839)\n",
      "q is 0\n",
      "Calm (4840)\n",
      "q is 0\n",
      "Calm (4841)\n",
      "q is 0\n",
      "Calm (4842)\n",
      "q is 0\n",
      "Calm (4843)\n",
      "q is 0\n",
      "Calm (4844)\n",
      "q is 0\n",
      "Calm (4845)\n",
      "q is 0\n",
      "Calm (4846)\n",
      "q is 0\n",
      "Calm (4847)\n",
      "q is 0\n",
      "Calm (4848)\n",
      "q is 0\n",
      "Calm (4849)\n",
      "q is 0\n",
      "Calm (4850)\n",
      "q is 0\n"
     ]
    },
    {
     "name": "stderr",
     "output_type": "stream",
     "text": [
      "\r",
      " 35%|██████████████████████████▉                                                  | 2619/7496 [00:23<00:40, 121.78it/s]"
     ]
    },
    {
     "name": "stdout",
     "output_type": "stream",
     "text": [
      "Calm (4851)\n",
      "q is 0\n",
      "Calm (4852)\n",
      "q is 0\n",
      "Calm (4853)\n",
      "q is 0\n",
      "Calm (4854)\n",
      "q is 0\n",
      "Calm (4855)\n",
      "q is 0\n",
      "Calm (4856)\n",
      "q is 0\n",
      "Calm (4857)\n",
      "q is 0\n",
      "Calm (4858)\n",
      "q is 0\n",
      "Calm (4859)\n",
      "q is 0\n",
      "Calm (486)\n",
      "q is 0\n",
      "Calm (4860)\n",
      "q is 0\n",
      "Calm (4861)\n",
      "q is 0\n",
      "Calm (4862)\n",
      "q is 0\n",
      "Calm (4863)\n",
      "q is 0\n",
      "Calm (4864)\n",
      "q is 0\n",
      "Calm (4865)\n",
      "q is 0\n"
     ]
    },
    {
     "name": "stderr",
     "output_type": "stream",
     "text": [
      "\r",
      " 35%|███████████████████████████                                                  | 2635/7496 [00:23<00:37, 130.95it/s]"
     ]
    },
    {
     "name": "stdout",
     "output_type": "stream",
     "text": [
      "Calm (4866)\n",
      "q is 0\n",
      "Calm (4867)\n",
      "q is 0\n",
      "Calm (4868)\n",
      "q is 0\n",
      "Calm (4869)\n",
      "q is 0\n",
      "Calm (487)\n",
      "q is 0\n",
      "Calm (4870)\n",
      "q is 0\n",
      "Calm (4871)\n",
      "q is 0\n",
      "Calm (4872)\n",
      "q is 0\n",
      "Calm (4873)\n",
      "q is 0\n",
      "Calm (4874)\n",
      "q is 0\n",
      "Calm (4875)\n",
      "q is 0\n",
      "\n",
      "Calm (5405)\n",
      "q is 0\n",
      "Calm (5406)\n",
      "q is 0\n",
      "Calm (5407)\n",
      "q is 0\n",
      "Calm (5408)\n",
      "q is 0\n",
      "Calm (5409)\n",
      "q is 0\n",
      "Calm (5410)\n",
      "q is 0\n",
      "Calm (5411)\n",
      "q is 0\n"
     ]
    },
    {
     "name": "stderr",
     "output_type": "stream",
     "text": [
      "\r",
      " 42%|████████████████████████████████▋                                            | 3185/7496 [00:27<00:31, 135.04it/s]"
     ]
    },
    {
     "name": "stdout",
     "output_type": "stream",
     "text": [
      "Calm (5412)\n",
      "q is 0\n",
      "Calm (5413)\n",
      "q is 0\n",
      "Calm (5414)\n",
      "q is 0\n",
      "Calm (5415)\n",
      "q is 0\n",
      "Calm (5416)\n",
      "q is 0\n",
      "Calm (5417)\n",
      "q is 0\n",
      "Calm (5418)\n",
      "q is 0\n",
      "Calm (5419)\n",
      "q is 0\n",
      "Calm (5420)\n",
      "q is 0\n",
      "Calm (5421)\n",
      "q is 0\n",
      "Calm (5422)\n",
      "q is 0\n",
      "Calm (5423)\n",
      "q is 0\n",
      "Calm (5424)\n",
      "q is 0\n",
      "Calm (5425)\n",
      "q is 0\n"
     ]
    },
    {
     "name": "stderr",
     "output_type": "stream",
     "text": [
      "\r",
      " 43%|████████████████████████████████▊                                            | 3199/7496 [00:27<00:35, 122.64it/s]"
     ]
    },
    {
     "name": "stdout",
     "output_type": "stream",
     "text": [
      "Calm (5426)\n",
      "q is 0\n",
      "Calm (5427)\n",
      "q is 0\n",
      "Calm (5428)\n",
      "q is 0\n",
      "Calm (5429)\n",
      "q is 0\n",
      "Calm (5430)\n",
      "q is 0\n",
      "Calm (5431)\n",
      "q is 0\n",
      "Calm (5432)\n",
      "q is 0\n",
      "Calm (5433)\n",
      "q is 0\n",
      "Calm (5434)\n",
      "q is 0\n",
      "Calm (5435)\n",
      "q is 0\n",
      "Calm (5436)\n",
      "q is 0\n",
      "Calm (5437)\n",
      "q is 0\n",
      "Calm (5438)\n",
      "q is 0\n",
      "Calm (5439)\n",
      "q is 0\n",
      "Calm (5440)\n",
      "q is 0\n"
     ]
    },
    {
     "name": "stderr",
     "output_type": "stream",
     "text": [
      "\r",
      " 43%|█████████████████████████████████                                            | 3214/7496 [00:27<00:33, 128.50it/s]"
     ]
    },
    {
     "name": "stdout",
     "output_type": "stream",
     "text": [
      "Calm (5441)\n",
      "q is 0\n",
      "Calm (5442)\n",
      "q is 0\n",
      "Calm (5443)\n",
      "q is 0\n",
      "Calm (5444)\n",
      "q is 0\n",
      "Calm (5445)\n",
      "q is 0\n",
      "Calm (5446)\n",
      "q is 0\n",
      "Calm (5447)\n",
      "q is 0\n",
      "Calm (5448)\n",
      "q is 0\n",
      "Calm (5449)\n",
      "q is 0\n",
      "Calm (5450)\n",
      "q is 0\n",
      "Calm (5451)\n",
      "q is 0\n",
      "Calm (5452)\n",
      "q is 0\n",
      "Calm (5453)\n",
      "q is 0\n",
      "Calm (5454)\n",
      "q is 0\n"
     ]
    },
    {
     "name": "stderr",
     "output_type": "stream",
     "text": [
      "\r",
      " 43%|█████████████████████████████████▏                                           | 3228/7496 [00:27<00:35, 118.79it/s]"
     ]
    },
    {
     "name": "stdout",
     "output_type": "stream",
     "text": [
      "Calm (5455)\n",
      "q is 0\n",
      "Calm (5456)\n",
      "q is 0\n",
      "Calm (5457)\n",
      "q is 0\n",
      "Calm (5458)\n",
      "q is 0\n",
      "Calm (5459)\n",
      "q is 0\n",
      "Calm (5460)\n",
      "q is 0\n",
      "Calm (5461)\n",
      "q is 0\n",
      "Calm (5462)\n",
      "q is 0\n",
      "Calm (5463)\n",
      "q is 0\n",
      "Calm (5464)\n",
      "q is 0\n",
      "Calm (5465)\n",
      "q is 0\n",
      "Calm (5466)\n",
      "q is 0\n",
      "Calm (5467)\n",
      "q is 0\n",
      "Calm (5468)\n",
      "q is 0\n",
      "Calm (5469)\n",
      "q is 0\n",
      "Calm (5470)\n",
      "q is 0\n"
     ]
    },
    {
     "name": "stderr",
     "output_type": "stream",
     "text": [
      "\r",
      " 43%|█████████████████████████████████▎                                           | 3244/7496 [00:27<00:33, 126.99it/s]"
     ]
    },
    {
     "name": "stdout",
     "output_type": "stream",
     "text": [
      "Calm (5471)\n",
      "q is 0\n",
      "Calm (5472)\n",
      "q is 0\n",
      "Calm (5473)\n",
      "q is 0\n",
      "Calm (5474)\n",
      "q is 0\n",
      "Calm (5475)\n",
      "q is 0\n",
      "Calm (5476)\n",
      "q is 0\n",
      "Calm (5477)\n",
      "q is 0\n",
      "Calm (5478)\n",
      "q is 0\n",
      "Calm (5479)\n",
      "q is 0\n",
      "Calm (5480)\n",
      "q is 0\n",
      "Calm (5481)\n",
      "q is 0\n",
      "Calm (5482)\n",
      "q is 0\n",
      "Calm (5483)\n",
      "q is 0\n",
      "Calm (5484)\n",
      "q is 0\n",
      "Calm (5485)\n",
      "q is 0\n",
      "Calm (5486)\n",
      "q is 0\n"
     ]
    },
    {
     "name": "stderr",
     "output_type": "stream",
     "text": [
      "\r",
      " 43%|█████████████████████████████████▍                                           | 3260/7496 [00:27<00:31, 134.77it/s]"
     ]
    },
    {
     "name": "stdout",
     "output_type": "stream",
     "text": [
      "Calm (5487)\n",
      "q is 0\n",
      "Calm (5488)\n",
      "q is 0\n",
      "Calm (5489)\n",
      "q is 0\n",
      "Calm (5490)\n",
      "q is 0\n",
      "Calm (5491)\n",
      "q is 0\n",
      "Calm (5492)\n",
      "q is 0\n",
      "Calm (5493)\n",
      "q is 0\n",
      "Calm (5494)\n",
      "q is 0\n",
      "Calm (5495)\n",
      "q is 0\n",
      "Calm (5496)\n",
      "q is 0\n",
      "Calm (5497)\n",
      "q is 0\n",
      "Calm (5498)\n",
      "q is 0\n",
      "Calm (5499)\n",
      "q is 0\n",
      "Calm (5500)\n",
      "q is 0\n"
     ]
    },
    {
     "name": "stderr",
     "output_type": "stream",
     "text": [
      "\r",
      " 44%|█████████████████████████████████▋                                           | 3274/7496 [00:28<00:33, 124.76it/s]"
     ]
    },
    {
     "name": "stdout",
     "output_type": "stream",
     "text": [
      "Calm (5501)\n",
      "q is 0\n",
      "Calm (5502)\n",
      "q is 0\n",
      "Calm (5503)\n",
      "q is 0\n",
      "Calm (5504)\n",
      "q is 0\n",
      "Calm (5505)\n",
      "q is 0\n",
      "Calm (5506)\n",
      "q is 0\n",
      "Calm (5507)\n",
      "q is 0\n",
      "Calm (5508)\n",
      "q is 0\n",
      "Calm (5509)\n",
      "q is 0\n",
      "Calm (5510)\n",
      "q is 0\n",
      "Calm (5511)\n",
      "q is 0\n",
      "Calm (5512)\n",
      "q is 0\n",
      "Calm (5513)\n",
      "q is 0\n",
      "Calm (5514)\n",
      "q is 0\n",
      "Calm (5515)\n",
      "q is 0\n",
      "Calm (5516)\n",
      "q is 0\n"
     ]
    },
    {
     "name": "stderr",
     "output_type": "stream",
     "text": [
      "\r",
      " 44%|█████████████████████████████████▊                                           | 3290/7496 [00:28<00:31, 133.35it/s]"
     ]
    },
    {
     "name": "stdout",
     "output_type": "stream",
     "text": [
      "Calm (5517)\n",
      "q is 0\n",
      "Calm (5518)\n",
      "q is 0\n",
      "Calm (5519)\n",
      "q is 0\n",
      "Calm (5520)\n",
      "q is 0\n",
      "Calm (5521)\n",
      "q is 0\n",
      "Calm (5522)\n",
      "q is 0\n",
      "Calm (5523)\n",
      "q is 0\n",
      "Calm (5524)\n",
      "q is 0\n",
      "Calm (5525)\n",
      "q is 0\n",
      "Calm (5526)\n",
      "q is 0\n",
      "Calm (5527)\n",
      "q is 0\n",
      "Calm (5528)\n",
      "q is 0\n",
      "Calm (5529)\n",
      "q is 0\n",
      "Calm (5530)\n",
      "q is 0\n"
     ]
    },
    {
     "name": "stderr",
     "output_type": "stream",
     "text": [
      "\r",
      " 44%|█████████████████████████████████▉                                           | 3304/7496 [00:28<00:31, 133.07it/s]"
     ]
    },
    {
     "name": "stdout",
     "output_type": "stream",
     "text": [
      "Calm (5531)\n",
      "q is 0\n",
      "Calm (5532)\n",
      "q is 0\n",
      "Calm (5533)\n",
      "q is 0\n",
      "Calm (5534)\n",
      "q is 0\n",
      "Calm (5535)\n",
      "q is 0\n",
      "Calm (5536)\n",
      "q is 0\n",
      "Calm (5537)\n",
      "q is 0\n",
      "Calm (5538)\n",
      "q is 0\n",
      "Calm (5539)\n",
      "q is 0\n",
      "Calm (5540)\n",
      "q is 0\n",
      "Calm (5541)\n",
      "q is 0\n",
      "Calm (5542)\n",
      "q is 0\n",
      "Calm (5543)\n",
      "q is 0\n",
      "Calm (5544)\n",
      "q is 0\n"
     ]
    },
    {
     "name": "stderr",
     "output_type": "stream",
     "text": [
      "\r",
      " 44%|██████████████████████████████████                                           | 3318/7496 [00:28<00:33, 125.40it/s]"
     ]
    },
    {
     "name": "stdout",
     "output_type": "stream",
     "text": [
      "Calm (5545)\n",
      "q is 0\n",
      "Calm (5546)\n",
      "q is 0\n",
      "Calm (5547)\n",
      "q is 0\n",
      "Calm (5548)\n",
      "q is 0\n",
      "Calm (5549)\n",
      "q is 0\n",
      "Calm (5550)\n",
      "q is 0\n",
      "Calm (5551)\n",
      "q is 0\n",
      "Calm (5552)\n",
      "q is 0\n",
      "Calm (5553)\n",
      "q is 0\n",
      "Calm (5554)\n",
      "q is 0\n",
      "Calm (5555)\n",
      "q is 0\n",
      "Calm (5556)\n",
      "q is 0\n",
      "Calm (5557)\n",
      "q is 0\n",
      "Calm (5558)\n",
      "q is 0\n",
      "Calm (5559)\n",
      "q is 0\n",
      "Calm (5560)\n",
      "q is 0\n"
     ]
    },
    {
     "name": "stderr",
     "output_type": "stream",
     "text": [
      "\r",
      " 44%|██████████████████████████████████▏                                          | 3334/7496 [00:28<00:31, 132.53it/s]"
     ]
    },
    {
     "name": "stdout",
     "output_type": "stream",
     "text": [
      "Calm (5561)\n",
      "q is 0\n",
      "Calm (5562)\n",
      "q is 0\n",
      "Calm (5563)\n",
      "q is 0\n",
      "Calm (5564)\n",
      "q is 0\n",
      "Calm (5565)\n",
      "q is 0\n",
      "Calm (5566)\n",
      "q is 0\n",
      "Calm (5567)\n",
      "q is 0\n",
      "Calm (5568)\n",
      "q is 0\n",
      "Calm (5569)\n",
      "q is \n",
      "Calm (5875)\n",
      "q is 0\n",
      "Calm (5876)\n",
      "q is 0\n",
      "Calm (5877)\n",
      "q is 0\n",
      "Calm (5878)\n",
      "q is 0\n",
      "Calm (5879)\n",
      "q is 0\n"
     ]
    },
    {
     "name": "stderr",
     "output_type": "stream",
     "text": [
      "\r",
      " 49%|█████████████████████████████████████▌                                       | 3653/7496 [00:30<00:29, 132.37it/s]"
     ]
    },
    {
     "name": "stdout",
     "output_type": "stream",
     "text": [
      "Calm (5880)\n",
      "q is 0\n",
      "Calm (5881)\n",
      "q is 0\n",
      "Calm (5882)\n",
      "q is 0\n",
      "Calm (5883)\n",
      "q is 0\n",
      "Calm (5884)\n",
      "q is 0\n",
      "Calm (5885)\n",
      "q is 0\n",
      "Calm (5886)\n",
      "q is 0\n",
      "Calm (5887)\n",
      "q is 0\n",
      "Calm (5888)\n",
      "q is 0\n",
      "Calm (5889)\n",
      "q is 0\n",
      "Calm (5890)\n",
      "q is 0\n",
      "Calm (5891)\n",
      "q is 0\n",
      "Calm (5892)\n",
      "q is 0\n",
      "Calm (5893)\n",
      "q is 0\n",
      "Calm (5894)\n",
      "q is 0\n",
      "Calm (5895)\n",
      "q is 0\n"
     ]
    },
    {
     "name": "stderr",
     "output_type": "stream",
     "text": [
      "\r",
      " 49%|█████████████████████████████████████▋                                       | 3669/7496 [00:30<00:27, 137.54it/s]"
     ]
    },
    {
     "name": "stdout",
     "output_type": "stream",
     "text": [
      "Calm (5896)\n",
      "q is 0\n",
      "Calm (5897)\n",
      "q is 0\n",
      "Calm (5898)\n",
      "q is 0\n",
      "Calm (5899)\n",
      "q is 0\n",
      "Calm (5900)\n",
      "q is 0\n",
      "Calm (5901)\n",
      "q is 0\n",
      "Calm (5902)\n",
      "q is 0\n",
      "Calm (5903)\n",
      "q is 0\n",
      "Calm (5904)\n",
      "q is 0\n",
      "Calm (5905)\n",
      "q is 0\n",
      "Calm (5906)\n",
      "q is 0\n",
      "Calm (5907)\n",
      "q is 0\n",
      "Calm (5908)\n",
      "q is 0\n",
      "Calm (5909)\n",
      "q is 0\n",
      "Calm (5910)\n",
      "q is 0\n"
     ]
    },
    {
     "name": "stderr",
     "output_type": "stream",
     "text": [
      "\r",
      " 49%|█████████████████████████████████████▊                                       | 3684/7496 [00:31<00:30, 125.60it/s]"
     ]
    },
    {
     "name": "stdout",
     "output_type": "stream",
     "text": [
      "Calm (5911)\n",
      "q is 0\n",
      "Calm (5912)\n",
      "q is 0\n",
      "Calm (5913)\n",
      "q is 0\n",
      "Calm (5914)\n",
      "q is 0\n",
      "Calm (5915)\n",
      "q is 0\n",
      "Calm (5916)\n",
      "q is 0\n",
      "Calm (5917)\n",
      "q is 0\n",
      "Calm (5918)\n",
      "q is 0\n",
      "Calm (5919)\n",
      "q is 0\n",
      "Calm (5920)\n",
      "q is 0\n",
      "Calm (603)\n",
      "q is 0\n",
      "Calm (604)\n",
      "q is 0\n",
      "Calm (605)\n",
      "q is 0\n"
     ]
    },
    {
     "name": "stderr",
     "output_type": "stream",
     "text": [
      "\r",
      " 49%|█████████████████████████████████████▉                                       | 3697/7496 [00:31<00:30, 125.52it/s]"
     ]
    },
    {
     "name": "stdout",
     "output_type": "stream",
     "text": [
      "Calm (606)\n",
      "q is 0\n",
      "Calm (607)\n",
      "q is 0\n",
      "Calm (625)\n",
      "q is 0\n",
      "Calm (626)\n",
      "q is 0\n",
      "Calm (633)\n",
      "q is 0\n",
      "Calm (647)\n",
      "q is 0\n",
      "Calm (649)\n",
      "q is 0\n",
      "Calm (651)\n",
      "q is 0\n",
      "Calm (652)\n",
      "q is 0\n",
      "Calm (664)\n",
      "q is 0\n",
      "Calm (698)\n",
      "q is 0\n",
      "Calm (700)\n",
      "q is 0\n",
      "Calm (733)\n",
      "q is 0\n"
     ]
    },
    {
     "name": "stderr",
     "output_type": "stream",
     "text": [
      "\r",
      " 49%|██████████████████████████████████████                                       | 3710/7496 [00:31<00:30, 125.11it/s]"
     ]
    },
    {
     "name": "stdout",
     "output_type": "stream",
     "text": [
      "Calm (734)\n",
      "q is 0\n",
      "Calm (735)\n",
      "q is 0\n",
      "Calm (736)\n",
      "q is 0\n",
      "Calm (737)\n",
      "q is 0\n",
      "Calm (738)\n",
      "q is 0\n",
      "Calm (79)\n",
      "q is 0\n",
      "Calm (802)\n",
      "q is 0\n",
      "Calm (803)\n",
      "q is 0\n",
      "Calm (807)\n",
      "q is 0\n",
      "Calm (82)\n",
      "q is 0\n",
      "Calm (83)\n",
      "q is 0\n",
      "Calm (84)\n",
      "q is 0\n",
      "Calm (86)\n",
      "q is 0\n"
     ]
    },
    {
     "name": "stderr",
     "output_type": "stream",
     "text": [
      "\r",
      " 50%|██████████████████████████████████████▏                                      | 3723/7496 [00:31<00:30, 124.10it/s]"
     ]
    },
    {
     "name": "stdout",
     "output_type": "stream",
     "text": [
      "Calm (87)\n",
      "q is 0\n",
      "Calm (88)\n",
      "q is 0\n",
      "Calm (89)\n",
      "q is 0\n",
      "Calm (90)\n",
      "q is 0\n",
      "Calm (91)\n",
      "q is 0\n",
      "Calm (92)\n",
      "q is 0\n",
      "Calm (93)\n",
      "q is 0\n",
      "Calm (94)\n",
      "q is 0\n",
      "Calm (941)\n",
      "q is 0\n",
      "Calm (943)\n",
      "q is 0\n",
      "Calm (945)\n",
      "q is 0\n",
      "Calm (947)\n",
      "q is 0\n",
      "Calm (948)\n",
      "q is 0\n"
     ]
    },
    {
     "name": "stderr",
     "output_type": "stream",
     "text": [
      "\r",
      " 50%|██████████████████████████████████████▍                                      | 3736/7496 [00:31<00:30, 121.34it/s]"
     ]
    },
    {
     "name": "stdout",
     "output_type": "stream",
     "text": [
      "Calm (949)\n",
      "q is 0\n",
      "Calm (95)\n",
      "q is 0\n",
      "Calm (954)\n",
      "q is 0\n",
      "Calm (96)\n",
      "q is 0\n",
      "Calm (962)\n",
      "q is 0\n",
      "Calm (97)\n",
      "q is 0\n",
      "Calm (98)\n",
      "q is 0\n",
      "Calm (989)\n",
      "q is 0\n",
      "Calm (99)\n",
      "q is 0\n",
      "Calm (990)\n",
      "q is 0\n",
      "Calm (991)\n",
      "q is 0\n",
      "Calm (992)\n",
      "q is 0\n",
      "Calm (993)\n",
      "q is 0\n",
      "Happy (1)\n",
      "q is 1\n"
     ]
    },
    {
     "name": "stderr",
     "output_type": "stream",
     "text": [
      "\r",
      " 50%|██████████████████████████████████████▌                                      | 3750/7496 [00:31<00:30, 124.80it/s]"
     ]
    },
    {
     "name": "stdout",
     "output_type": "stream",
     "text": [
      "Happy (10)\n",
      "q is 1\n",
      "Happy (100)\n",
      "q is 1\n",
      "Happy (1000)\n",
      "q is 1\n",
      "Happy (1001)\n",
      "q is 1\n",
      "Happy (1002)\n",
      "q is 1\n",
      "Happy (1003)\n",
      "q is 1\n",
      "Happy (1004)\n",
      "q is 1\n",
      "Happy (1005)\n",
      "q is 1\n",
      "Happy (1006)\n",
      "q is 1\n",
      "Happy (1007)\n",
      "q is 1\n",
      "Happy (1008)\n",
      "q is 1\n",
      "Happy (1009)\n",
      "q is 1\n",
      "Happy (101)\n",
      "q is 1\n"
     ]
    },
    {
     "name": "stderr",
     "output_type": "stream",
     "text": [
      "\r",
      " 50%|██████████████████████████████████████▋                                      | 3763/7496 [00:31<00:29, 124.60it/s]"
     ]
    },
    {
     "name": "stdout",
     "output_type": "stream",
     "text": [
      "Happy (1010)\n",
      "q is 1\n",
      "Happy (1011)\n",
      "q is 1\n",
      "Happy (1012)\n",
      "q is 1\n",
      "Happy (1013)\n",
      "q is 1\n",
      "Happy (1014)\n",
      "q is 1\n",
      "Happy (1015)\n",
      "q is 1\n",
      "Happy (1016)\n",
      "q is 1\n",
      "Happy (1017)\n",
      "q is 1\n",
      "Happy (1018)\n",
      "q is 1\n",
      "Happy (1019)\n",
      "q is 1\n",
      "Happy (102)\n",
      "q is 1\n",
      "Happy (1020)\n",
      "q is 1\n",
      "Happy (1021)\n",
      "q is 1\n",
      "Happy (1022)\n",
      "q is 1\n"
     ]
    },
    {
     "name": "stderr",
     "output_type": "stream",
     "text": [
      "\r",
      " 50%|██████████████████████████████████████▊                                      | 3777/7496 [00:31<00:29, 126.85it/s]"
     ]
    },
    {
     "name": "stdout",
     "output_type": "stream",
     "text": [
      "Happy (1023)\n",
      "q is 1\n",
      "Happy (1024)\n",
      "q is 1\n",
      "Happy (1025)\n",
      "q is 1\n",
      "Happy (1026)\n",
      "q is 1\n",
      "Happy (1027)\n",
      "q is 1\n",
      "Happy (1028)\n",
      "q is 1\n",
      "Happy (1029)\n",
      "q is 1\n",
      "Happy (103)\n",
      "q is 1\n",
      "Happy (1030)\n",
      "q is 1\n",
      "Happy (1031)\n",
      "q is 1\n",
      "Happy (1032)\n",
      "q is 1\n",
      "Happy (1033)\n",
      "q is 1\n",
      "Happy (1034)\n",
      "q is 1\n"
     ]
    },
    {
     "name": "stderr",
     "output_type": "stream",
     "text": [
      "\r",
      " 51%|██████████████████████████████████████▉                                      | 3790/7496 [00:31<00:29, 126.39it/s]"
     ]
    },
    {
     "name": "stdout",
     "output_type": "stream",
     "text": [
      "Happy (1035)\n",
      "q is 1\n",
      "Happy (1036)\n",
      "q is 1\n",
      "Happy (1037)\n",
      "q is 1\n",
      "Happy (1038)\n",
      "q is 1\n",
      "Happy (1039)\n",
      "q is 1\n",
      "Happy (104)\n",
      "q is 1\n",
      "Happy (1040)\n",
      "q is 1\n",
      "Happy (1041)\n",
      "q is 1\n",
      "Happy (1042)\n",
      "q is 1\n",
      "Happy (1043)\n",
      "q is 1\n",
      "Happy (1044)\n",
      "q is 1\n",
      "Happy (1045)\n",
      "q is 1\n",
      "Happy (1046)\n",
      "q is 1\n"
     ]
    },
    {
     "name": "stderr",
     "output_type": "stream",
     "text": [
      "\r",
      " 51%|███████████████████████████████████████                                      | 3803/7496 [00:32<00:29, 126.44it/s]"
     ]
    },
    {
     "name": "stdout",
     "output_type": "stream",
     "text": [
      "Happy (1047)\n",
      "q is 1\n",
      "Happy (1048)\n",
      "q is 1\n",
      "Happy (1049)\n",
      "q is 1\n",
      "Happy (105)\n",
      "q is 1\n",
      "Happy (1050)\n",
      "q is 1\n",
      "Happy (1051)\n",
      "q is 1\n",
      "Happy (1052)\n",
      "q is 1\n",
      "Happy (1053)\n",
      "q is 1\n",
      "Happy (1054)\n",
      "q is 1\n",
      "Happy (1055)\n",
      "q isHappy (1322)\n",
      "q is 1\n",
      "Happy (1323)\n",
      "q is 1\n",
      "Happy (1324)\n",
      "q is 1\n",
      "Happy (1325)\n",
      "q is 1\n"
     ]
    },
    {
     "name": "stderr",
     "output_type": "stream",
     "text": [
      "\r",
      " 55%|██████████████████████████████████████████▏                                  | 4113/7496 [00:34<00:30, 112.63it/s]"
     ]
    },
    {
     "name": "stdout",
     "output_type": "stream",
     "text": [
      "Happy (1326)\n",
      "q is 1\n",
      "Happy (1327)\n",
      "q is 1\n",
      "Happy (1328)\n",
      "q is 1\n",
      "Happy (1329)\n",
      "q is 1\n",
      "Happy (133)\n",
      "q is 1\n",
      "Happy (1330)\n",
      "q is 1\n",
      "Happy (1331)\n",
      "q is 1\n",
      "Happy (1332)\n",
      "q is 1\n",
      "Happy (1333)\n",
      "q is 1\n",
      "Happy (1334)\n",
      "q is 1\n",
      "Happy (1335)\n",
      "q is 1\n",
      "Happy (1336)\n",
      "q is 1\n"
     ]
    },
    {
     "name": "stderr",
     "output_type": "stream",
     "text": [
      "\r",
      " 55%|██████████████████████████████████████████▎                                  | 4125/7496 [00:34<00:29, 114.18it/s]"
     ]
    },
    {
     "name": "stdout",
     "output_type": "stream",
     "text": [
      "Happy (1337)\n",
      "q is 1\n",
      "Happy (1338)\n",
      "q is 1\n",
      "Happy (1339)\n",
      "q is 1\n",
      "Happy (134)\n",
      "q is 1\n",
      "Happy (1340)\n",
      "q is 1\n",
      "Happy (1341)\n",
      "q is 1\n",
      "Happy (1342)\n",
      "q is 1\n",
      "Happy (1343)\n",
      "q is 1\n",
      "Happy (1344)\n",
      "q is 1\n",
      "Happy (1345)\n",
      "q is 1\n",
      "Happy (1346)\n",
      "q is 1\n",
      "Happy (1347)\n",
      "q is 1\n"
     ]
    },
    {
     "name": "stderr",
     "output_type": "stream",
     "text": [
      "\r",
      " 55%|██████████████████████████████████████████▍                                  | 4137/7496 [00:34<00:29, 113.01it/s]"
     ]
    },
    {
     "name": "stdout",
     "output_type": "stream",
     "text": [
      "Happy (1348)\n",
      "q is 1\n",
      "Happy (1349)\n",
      "q is 1\n",
      "Happy (135)\n",
      "q is 1\n",
      "Happy (1350)\n",
      "q is 1\n",
      "Happy (1351)\n",
      "q is 1\n",
      "Happy (1352)\n",
      "q is 1\n",
      "Happy (1353)\n",
      "q is 1\n",
      "Happy (1354)\n",
      "q is 1\n",
      "Happy (1355)\n",
      "q is 1\n",
      "Happy (1356)\n",
      "q is 1\n",
      "Happy (1357)\n",
      "q is 1\n",
      "Happy (1358)\n",
      "q is 1\n"
     ]
    },
    {
     "name": "stderr",
     "output_type": "stream",
     "text": [
      "\r",
      " 55%|██████████████████████████████████████████▌                                  | 4149/7496 [00:35<00:29, 113.48it/s]"
     ]
    },
    {
     "name": "stdout",
     "output_type": "stream",
     "text": [
      "Happy (1359)\n",
      "q is 1\n",
      "Happy (136)\n",
      "q is 1\n",
      "Happy (1360)\n",
      "q is 1\n",
      "Happy (1361)\n",
      "q is 1\n",
      "Happy (1362)\n",
      "q is 1\n",
      "Happy (1363)\n",
      "q is 1\n",
      "Happy (1364)\n",
      "q is 1\n",
      "Happy (1365)\n",
      "q is 1\n",
      "Happy (1366)\n",
      "q is 1\n",
      "Happy (1367)\n",
      "q is 1\n",
      "Happy (1368)\n",
      "q is 1\n",
      "Happy (1369)\n",
      "q is 1\n"
     ]
    },
    {
     "name": "stderr",
     "output_type": "stream",
     "text": [
      "\r",
      " 56%|██████████████████████████████████████████▋                                  | 4161/7496 [00:35<00:28, 115.12it/s]"
     ]
    },
    {
     "name": "stdout",
     "output_type": "stream",
     "text": [
      "Happy (137)\n",
      "q is 1\n",
      "Happy (1370)\n",
      "q is 1\n",
      "Happy (1371)\n",
      "q is 1\n",
      "Happy (1372)\n",
      "q is 1\n",
      "Happy (1373)\n",
      "q is 1\n",
      "Happy (1374)\n",
      "q is 1\n",
      "Happy (1375)\n",
      "q is 1\n",
      "Happy (1376)\n",
      "q is 1\n",
      "Happy (1377)\n",
      "q is 1\n",
      "Happy (1378)\n",
      "q is 1\n",
      "Happy (1379)\n",
      "q is 1\n",
      "Happy (138)\n",
      "q is 1\n"
     ]
    },
    {
     "name": "stderr",
     "output_type": "stream",
     "text": [
      "\r",
      " 56%|██████████████████████████████████████████▊                                  | 4173/7496 [00:35<00:29, 114.31it/s]"
     ]
    },
    {
     "name": "stdout",
     "output_type": "stream",
     "text": [
      "Happy (1380)\n",
      "q is 1\n",
      "Happy (1381)\n",
      "q is 1\n",
      "Happy (1382)\n",
      "q is 1\n",
      "Happy (1383)\n",
      "q is 1\n",
      "Happy (1384)\n",
      "q is 1\n",
      "Happy (1385)\n",
      "q is 1\n",
      "Happy (1386)\n",
      "q is 1\n",
      "Happy (1387)\n",
      "q is 1\n",
      "Happy (1388)\n",
      "q is 1\n",
      "Happy (1389)\n",
      "q is 1\n",
      "Happy (139)\n",
      "q is 1\n",
      "Happy (1390)\n",
      "q is 1\n",
      "Happy (1391)\n",
      "q is 1\n"
     ]
    },
    {
     "name": "stderr",
     "output_type": "stream",
     "text": [
      "\r",
      " 56%|██████████████████████████████████████████▉                                  | 4186/7496 [00:35<00:28, 116.15it/s]"
     ]
    },
    {
     "name": "stdout",
     "output_type": "stream",
     "text": [
      "Happy (1392)\n",
      "q is 1\n",
      "Happy (1393)\n",
      "q is 1\n",
      "Happy (1394)\n",
      "q is 1\n",
      "Happy (1395)\n",
      "q is 1\n",
      "Happy (1396)\n",
      "q is 1\n",
      "Happy (1397)\n",
      "q is 1\n",
      "Happy (1398)\n",
      "q is 1\n",
      "Happy (1399)\n",
      "q is 1\n",
      "Happy (14)\n",
      "q is 1\n",
      "Happy (140)\n",
      "q is 1\n",
      "Happy (1400)\n",
      "q is 1\n",
      "Happy (1401)\n",
      "q is 1\n"
     ]
    },
    {
     "name": "stderr",
     "output_type": "stream",
     "text": [
      "\r",
      " 56%|███████████████████████████████████████████                                  | 4198/7496 [00:35<00:28, 116.01it/s]"
     ]
    },
    {
     "name": "stdout",
     "output_type": "stream",
     "text": [
      "Happy (1402)\n",
      "q is 1\n",
      "Happy (1403)\n",
      "q is 1\n",
      "Happy (1404)\n",
      "q is 1\n",
      "Happy (1405)\n",
      "q is 1\n",
      "Happy (1406)\n",
      "q is 1\n",
      "Happy (1407)\n",
      "q is 1\n",
      "Happy (1408)\n",
      "q is 1\n",
      "Happy (1409)\n",
      "q is 1\n",
      "Happy (141)\n",
      "q is 1\n",
      "Happy (1410)\n",
      "q is 1\n",
      "Happy (1411)\n",
      "q is 1\n",
      "Happy (1412)\n",
      "q is 1\n"
     ]
    },
    {
     "name": "stderr",
     "output_type": "stream",
     "text": [
      "\r",
      " 56%|███████████████████████████████████████████▏                                 | 4210/7496 [00:35<00:28, 113.94it/s]"
     ]
    },
    {
     "name": "stdout",
     "output_type": "stream",
     "text": [
      "Happy (1413)\n",
      "q is 1\n",
      "Happy (1414)\n",
      "q is 1\n",
      "Happy (1415)\n",
      "q is 1\n",
      "Happy (1416)\n",
      "q is 1\n",
      "Happy (1417)\n",
      "q is 1\n",
      "Happy (1418)\n",
      "q is 1\n",
      "Happy (1419)\n",
      "q is 1\n",
      "Happy (142)\n",
      "q is 1\n",
      "Happy (1420)\n",
      "q is 1\n",
      "Happy (1421)\n",
      "q is 1\n",
      "Happy (1422)\n",
      "q is 1\n",
      "Happy (1423)\n",
      "q is 1\n"
     ]
    },
    {
     "name": "stderr",
     "output_type": "stream",
     "text": [
      "\r",
      " 56%|███████████████████████████████████████████▎                                 | 4222/7496 [00:35<00:28, 113.81it/s]"
     ]
    },
    {
     "name": "stdout",
     "output_type": "stream",
     "text": [
      "Happy (1424)\n",
      "q is 1\n",
      "Happy (1425)\n",
      "q is 1\n",
      "Happy (1426)\n",
      "q is 1\n",
      "Happy (1427)\n",
      "q is 1\n",
      "Happy (1428)\n",
      "q is 1\n",
      "Happy (1429)\n",
      "q is 1\n",
      "Happy (143)\n",
      "q is 1\n",
      "Happy (1430)\n",
      "q is 1\n",
      "Happy (1431)\n",
      "q is 1\n",
      "Happy (1432)\n",
      "q is 1\n",
      "Happy (1433)\n",
      "q is 1\n",
      "Happy (1434)\n",
      "q is 1\n",
      "Happy (1435)\n",
      "q is 1\n"
     ]
    },
    {
     "name": "stderr",
     "output_type": "stream",
     "text": [
      "\r",
      " 56%|███████████████████████████████████████████▌                                 | 4235/7496 [00:35<00:28, 116.10it/s]"
     ]
    },
    {
     "name": "stdout",
     "output_type": "stream",
     "text": [
      "Happy (1436)\n",
      "q is 1\n",
      "Happy (1437)\n",
      "q is 1\n",
      "Happy (1438)\n",
      "q is 1\n",
      "Happy (1439)\n",
      "q is 1\n",
      "Happy (144)\n",
      "q is 1\n",
      "Happy (1440)\n",
      "q is 1\n",
      "Happy (1441)\n",
      "q is 1\n",
      "Happy (1442)\n",
      "q is 1\n",
      "Happy (1443)\n",
      "q is 1\n",
      "Happy (1444)\n",
      "q is 1\n",
      "Happy (1445)\n",
      "q is 1\n",
      "Happy (1446)\n",
      "q is 1\n",
      "Happy (1447)\n",
      "q is 1\n"
     ]
    },
    {
     "name": "stderr",
     "output_type": "stream",
     "text": [
      "\r",
      " 57%|███████████████████████████████████████████▋                                 | 4248/7496 [00:35<00:27, 117.12it/s]"
     ]
    },
    {
     "name": "stdout",
     "output_type": "stream",
     "text": [
      "Happy (1448)\n",
      "q is 1\n",
      "Happy (1449)\n",
      "q is 1\n",
      "Happy (145)\n",
      "q is 1\n",
      "Happy (1450)\n",
      "q is 1\n",
      "Happy (1451)\n",
      "q is 1\n",
      "Happy (1452)\n",
      "q is 1\n",
      "Happy (1453)\n",
      "q is 1\n",
      "Happy (1454)\n",
      "q is 1\n",
      "Happy (1455)\n",
      "q is 1\n",
      "Happy (1456)\n",
      "q is 1\n",
      "Happy (1457)\n",
      "q is 1\n",
      "Happy (1458)\n",
      "q is 1\n",
      "Happy (1459)\n",
      "q is 1\n"
     ]
    },
    {
     "name": "stderr",
     "output_type": "stream",
     "text": [
      "\r",
      " 57%|███████████████████████████████████████████▊                                 | 4261/7496 [00:35<00:26, 120.13it/s]"
     ]
    },
    {
     "name": "stdout",
     "output_type": "stream",
     "text": [
      "Happy (146)\n",
      "q is 1\n",
      "Happy (1460)\n",
      "q is 1\n",
      "Happy (1461)\n",
      "q is 1\n",
      "Happy (1462)\n",
      "q is 1\n",
      "Happy (1463)\n",
      "q is 1\n",
      "Happy (1464)\n",
      "q is 1\n",
      "Happy (1465)\n",
      "q is 1\n",
      "Happy (1466)\n",
      "q is 1\n",
      "Happy (1467)\n",
      "q is 1\n",
      "Happy (1468)\n",
      "q is 1\n",
      "Happy (1469)\n",
      "q is 1\n",
      "Happy (147)\n",
      "q is 1\n",
      "Happy (1470)\n",
      "q is 1\n",
      "Happy (1754)\n",
      "q is 1\n",
      "Happy (1755)\n",
      "q is 1\n",
      "Happy (1756)\n",
      "q is 1\n",
      "Happy (1757)\n",
      "q is 1\n",
      "Happy (1758)\n",
      "q is 1\n",
      "Happy (1759)\n",
      "q is 1\n",
      "Happy (176)\n",
      "q is 1\n",
      "Happy (1760)\n",
      "q is 1\n",
      "Happy (1761)\n",
      "q is 1\n",
      "Happy (1762)\n",
      "q is 1\n"
     ]
    },
    {
     "name": "stderr",
     "output_type": "stream",
     "text": [
      "\r",
      " 61%|███████████████████████████████████████████████▏                             | 4598/7496 [00:38<00:24, 118.86it/s]"
     ]
    },
    {
     "name": "stdout",
     "output_type": "stream",
     "text": [
      "Happy (1763)\n",
      "q is 1\n",
      "Happy (1764)\n",
      "q is 1\n",
      "Happy (1765)\n",
      "q is 1\n",
      "Happy (1766)\n",
      "q is 1\n",
      "Happy (1767)\n",
      "q is 1\n",
      "Happy (1768)\n",
      "q is 1\n",
      "Happy (1769)\n",
      "q is 1\n",
      "Happy (177)\n",
      "q is 1\n",
      "Happy (1770)\n",
      "q is 1\n",
      "Happy (1771)\n",
      "q is 1\n",
      "Happy (1772)\n",
      "q is 1\n",
      "Happy (1773)\n",
      "q is 1\n"
     ]
    },
    {
     "name": "stderr",
     "output_type": "stream",
     "text": [
      "\r",
      " 61%|███████████████████████████████████████████████▎                             | 4610/7496 [00:38<00:24, 115.52it/s]"
     ]
    },
    {
     "name": "stdout",
     "output_type": "stream",
     "text": [
      "Happy (1774)\n",
      "q is 1\n",
      "Happy (1775)\n",
      "q is 1\n",
      "Happy (1776)\n",
      "q is 1\n",
      "Happy (1777)\n",
      "q is 1\n",
      "Happy (1778)\n",
      "q is 1\n",
      "Happy (1779)\n",
      "q is 1\n",
      "Happy (178)\n",
      "q is 1\n",
      "Happy (1780)\n",
      "q is 1\n",
      "Happy (1781)\n",
      "q is 1\n",
      "Happy (1782)\n",
      "q is 1\n",
      "Happy (1783)\n",
      "q is 1\n",
      "Happy (1784)\n",
      "q is 1\n"
     ]
    },
    {
     "name": "stderr",
     "output_type": "stream",
     "text": [
      "\r",
      " 62%|███████████████████████████████████████████████▍                             | 4622/7496 [00:38<00:24, 116.58it/s]"
     ]
    },
    {
     "name": "stdout",
     "output_type": "stream",
     "text": [
      "Happy (1785)\n",
      "q is 1\n",
      "Happy (1786)\n",
      "q is 1\n",
      "Happy (1787)\n",
      "q is 1\n",
      "Happy (1788)\n",
      "q is 1\n",
      "Happy (1789)\n",
      "q is 1\n",
      "Happy (179)\n",
      "q is 1\n",
      "Happy (1790)\n",
      "q is 1\n",
      "Happy (1791)\n",
      "q is 1\n",
      "Happy (1792)\n",
      "q is 1\n",
      "Happy (1793)\n",
      "q is 1\n",
      "Happy (1794)\n",
      "q is 1\n",
      "Happy (1795)\n",
      "q is 1\n"
     ]
    },
    {
     "name": "stderr",
     "output_type": "stream",
     "text": [
      "\r",
      " 62%|███████████████████████████████████████████████▌                             | 4634/7496 [00:39<00:24, 115.98it/s]"
     ]
    },
    {
     "name": "stdout",
     "output_type": "stream",
     "text": [
      "Happy (1796)\n",
      "q is 1\n",
      "Happy (1797)\n",
      "q is 1\n",
      "Happy (1798)\n",
      "q is 1\n",
      "Happy (1799)\n",
      "q is 1\n",
      "Happy (18)\n",
      "q is 1\n",
      "Happy (180)\n",
      "q is 1\n",
      "Happy (1800)\n",
      "q is 1\n",
      "Happy (1801)\n",
      "q is 1\n",
      "Happy (1802)\n",
      "q is 1\n",
      "Happy (1803)\n",
      "q is 1\n",
      "Happy (1804)\n",
      "q is 1\n",
      "Happy (1805)\n",
      "q is 1\n",
      "Happy (1806)\n",
      "q is 1\n",
      "Happy (1807)\n",
      "q is 1\n"
     ]
    },
    {
     "name": "stderr",
     "output_type": "stream",
     "text": [
      "\r",
      " 62%|███████████████████████████████████████████████▋                             | 4648/7496 [00:39<00:23, 119.24it/s]"
     ]
    },
    {
     "name": "stdout",
     "output_type": "stream",
     "text": [
      "Happy (1808)\n",
      "q is 1\n",
      "Happy (1809)\n",
      "q is 1\n",
      "Happy (181)\n",
      "q is 1\n",
      "Happy (1810)\n",
      "q is 1\n",
      "Happy (1811)\n",
      "q is 1\n",
      "Happy (1812)\n",
      "q is 1\n",
      "Happy (1813)\n",
      "q is 1\n",
      "Happy (1814)\n",
      "q is 1\n",
      "Happy (1815)\n",
      "q is 1\n",
      "Happy (1816)\n",
      "q is 1\n",
      "Happy (1817)\n",
      "q is 1\n",
      "Happy (1818)\n",
      "q is 1\n"
     ]
    },
    {
     "name": "stderr",
     "output_type": "stream",
     "text": [
      "\r",
      " 62%|███████████████████████████████████████████████▊                             | 4660/7496 [00:39<00:23, 118.50it/s]"
     ]
    },
    {
     "name": "stdout",
     "output_type": "stream",
     "text": [
      "Happy (1819)\n",
      "q is 1\n",
      "Happy (182)\n",
      "q is 1\n",
      "Happy (1820)\n",
      "q is 1\n",
      "Happy (1821)\n",
      "q is 1\n",
      "Happy (1822)\n",
      "q is 1\n",
      "Happy (1823)\n",
      "q is 1\n",
      "Happy (1824)\n",
      "q is 1\n",
      "Happy (1825)\n",
      "q is 1\n",
      "Happy (1826)\n",
      "q is 1\n",
      "Happy (1827)\n",
      "q is 1\n",
      "Happy (1828)\n",
      "q is 1\n",
      "Happy (1829)\n",
      "q is 1\n",
      "Happy (183)\n",
      "q is 1\n"
     ]
    },
    {
     "name": "stderr",
     "output_type": "stream",
     "text": [
      "\r",
      " 62%|████████████████████████████████████████████████                             | 4673/7496 [00:39<00:23, 120.14it/s]"
     ]
    },
    {
     "name": "stdout",
     "output_type": "stream",
     "text": [
      "Happy (1830)\n",
      "q is 1\n",
      "Happy (1831)\n",
      "q is 1\n",
      "Happy (1832)\n",
      "q is 1\n",
      "Happy (1833)\n",
      "q is 1\n",
      "Happy (1834)\n",
      "q is 1\n",
      "Happy (1835)\n",
      "q is 1\n",
      "Happy (1836)\n",
      "q is 1\n",
      "Happy (1837)\n",
      "q is 1\n",
      "Happy (1838)\n",
      "q is 1\n",
      "Happy (1839)\n",
      "q is 1\n",
      "Happy (184)\n",
      "q is 1\n",
      "Happy (1840)\n",
      "q is 1\n",
      "Happy (1841)\n",
      "q is 1\n"
     ]
    },
    {
     "name": "stderr",
     "output_type": "stream",
     "text": [
      "\r",
      " 63%|████████████████████████████████████████████████▏                            | 4686/7496 [00:39<00:23, 118.66it/s]"
     ]
    },
    {
     "name": "stdout",
     "output_type": "stream",
     "text": [
      "Happy (1842)\n",
      "q is 1\n",
      "Happy (1843)\n",
      "q is 1\n",
      "Happy (1844)\n",
      "q is 1\n",
      "Happy (1845)\n",
      "q is 1\n",
      "Happy (1846)\n",
      "q is 1\n",
      "Happy (1847)\n",
      "q is 1\n",
      "Happy (1848)\n",
      "q is 1\n",
      "Happy (1849)\n",
      "q is 1\n",
      "Happy (185)\n",
      "q is 1\n",
      "Happy (1850)\n",
      "q is 1\n",
      "Happy (1851)\n",
      "q is 1\n",
      "Happy (1852)\n",
      "q is 1\n",
      "Happy (1853)\n",
      "q is 1\n"
     ]
    },
    {
     "name": "stderr",
     "output_type": "stream",
     "text": [
      "\r",
      " 63%|████████████████████████████████████████████████▎                            | 4699/7496 [00:39<00:23, 121.26it/s]"
     ]
    },
    {
     "name": "stdout",
     "output_type": "stream",
     "text": [
      "Happy (1854)\n",
      "q is 1\n",
      "Happy (1855)\n",
      "q is 1\n",
      "Happy (1856)\n",
      "q is 1\n",
      "Happy (1857)\n",
      "q is 1\n",
      "Happy (1858)\n",
      "q is 1\n",
      "Happy (1859)\n",
      "q is 1\n",
      "Happy (186)\n",
      "q is 1\n",
      "Happy (1860)\n",
      "q is 1\n",
      "Happy (1861)\n",
      "q is 1\n",
      "Happy (1862)\n",
      "q is 1\n",
      "Happy (1863)\n",
      "q is 1\n",
      "Happy (1864)\n",
      "q is 1\n",
      "Happy (1865)\n",
      "q is 1\n"
     ]
    },
    {
     "name": "stderr",
     "output_type": "stream",
     "text": [
      "\r",
      " 63%|████████████████████████████████████████████████▍                            | 4712/7496 [00:39<00:23, 120.75it/s]"
     ]
    },
    {
     "name": "stdout",
     "output_type": "stream",
     "text": [
      "Happy (1866)\n",
      "q is 1\n",
      "Happy (1867)\n",
      "q is 1\n",
      "Happy (1868)\n",
      "q is 1\n",
      "Happy (1869)\n",
      "q is 1\n",
      "Happy (187)\n",
      "q is 1\n",
      "Happy (1870)\n",
      "q is 1\n",
      "Happy (1871)\n",
      "q is 1\n",
      "Happy (1872)\n",
      "q is 1\n",
      "Happy (1873)\n",
      "q is 1\n",
      "Happy (1874)\n",
      "q is 1\n",
      "Happy (1875)\n",
      "q is 1\n",
      "Happy (1876)\n",
      "q is 1\n",
      "Happy (1877)\n",
      "q is 1\n"
     ]
    },
    {
     "name": "stderr",
     "output_type": "stream",
     "text": [
      "\r",
      " 63%|████████████████████████████████████████████████▌                            | 4725/7496 [00:39<00:23, 115.60it/s]"
     ]
    },
    {
     "name": "stdout",
     "output_type": "stream",
     "text": [
      "Happy (1878)\n",
      "q is 1\n",
      "Happy (1879)\n",
      "q is 1\n",
      "Happy (188)\n",
      "q is 1\n",
      "Happy (1880)\n",
      "q is 1\n",
      "Happy (1881)\n",
      "q is 1\n",
      "Happy (1882)\n",
      "q is 1\n",
      "Happy (1883)\n",
      "q is 1\n",
      "Happy (1884)\n",
      "q is 1\n",
      "Happy (1885)\n",
      "q is 1\n",
      "Happy (1886)\n",
      "q is 1\n",
      "Happy (1887)\n",
      "q is 1\n",
      "Happy (1888)\n",
      "q is 1\n",
      "Happy (1889)\n",
      "q is 1\n"
     ]
    },
    {
     "name": "stderr",
     "output_type": "stream",
     "text": [
      "\r",
      " 63%|████████████████████████████████████████████████▋                            | 4738/7496 [00:39<00:23, 119.00it/s]"
     ]
    },
    {
     "name": "stdout",
     "output_type": "stream",
     "text": [
      "Happy (189)\n",
      "q is 1\n",
      "Happy (1890)\n",
      "q is 1\n",
      "Happy (1891)\n",
      "q is 1\n",
      "Happy (1892)\n",
      "q is 1\n",
      "Happy (1893)\n",
      "q is 1\n",
      "Happy (1894)\n",
      "q is 1\n",
      "Happy (1895)\n",
      "q is 1\n",
      "Happy (1896)\n",
      "q is 1\n",
      "Happy (1897)\n",
      "q is 1\n",
      "Happy (1898)\n",
      "q is 1\n",
      "Happy (1899)\n",
      "q is 1\n",
      "Happy (19)\n",
      "q is 1\n",
      "Happy (190)\n",
      "q is 1\n"
     ]
    },
    {
     "name": "stderr",
     "output_type": "stream",
     "text": [
      "\r",
      " 63%|████████████████████████████████████████████████▊                            | 4751/7496 [00:40<00:22, 120.49it/s]"
     ]
    },
    {
     "name": "stdout",
     "output_type": "stream",
     "text": [
      "Happy (1900)\n",
      "q is 1\n",
      "Happy (2185)\n",
      "q is 1\n",
      "Happy (2186)\n",
      "q is 1\n",
      "Happy (2187)\n",
      "q is 1\n",
      "Happy (2188)\n",
      "q is 1\n",
      "Happy (2189)\n",
      "q is 1\n",
      "Happy (219)\n",
      "q is 1\n",
      "Happy (2190)\n",
      "q is 1\n",
      "Happy (2191)\n",
      "q is 1\n",
      "Happy (2192)\n",
      "q is 1\n",
      "Happy (2193)\n",
      "q is 1\n",
      "Happy (2194)\n",
      "q is 1\n"
     ]
    },
    {
     "name": "stderr",
     "output_type": "stream",
     "text": [
      "\r",
      " 68%|████████████████████████████████████████████████████▏                        | 5078/7496 [00:42<00:21, 112.81it/s]"
     ]
    },
    {
     "name": "stdout",
     "output_type": "stream",
     "text": [
      "Happy (2195)\n",
      "q is 1\n",
      "Happy (2196)\n",
      "q is 1\n",
      "Happy (2197)\n",
      "q is 1\n",
      "Happy (2198)\n",
      "q is 1\n",
      "Happy (2199)\n",
      "q is 1\n",
      "Happy (22)\n",
      "q is 1\n",
      "Happy (220)\n",
      "q is 1\n",
      "Happy (2200)\n",
      "q is 1\n",
      "Happy (2201)\n",
      "q is 1\n",
      "Happy (2202)\n",
      "q is 1\n",
      "Happy (2203)\n",
      "q is 1\n",
      "Happy (2204)\n",
      "q is 1\n"
     ]
    },
    {
     "name": "stderr",
     "output_type": "stream",
     "text": [
      "\r",
      " 68%|████████████████████████████████████████████████████▎                        | 5090/7496 [00:42<00:21, 114.31it/s]"
     ]
    },
    {
     "name": "stdout",
     "output_type": "stream",
     "text": [
      "Happy (2205)\n",
      "q is 1\n",
      "Happy (2206)\n",
      "q is 1\n",
      "Happy (2207)\n",
      "q is 1\n",
      "Happy (2208)\n",
      "q is 1\n",
      "Happy (2209)\n",
      "q is 1\n",
      "Happy (221)\n",
      "q is 1\n",
      "Happy (2210)\n",
      "q is 1\n",
      "Happy (2211)\n",
      "q is 1\n",
      "Happy (2212)\n",
      "q is 1\n",
      "Happy (2213)\n",
      "q is 1\n",
      "Happy (2214)\n",
      "q is 1\n",
      "Happy (2215)\n",
      "q is 1\n"
     ]
    },
    {
     "name": "stderr",
     "output_type": "stream",
     "text": [
      "\r",
      " 68%|████████████████████████████████████████████████████▍                        | 5102/7496 [00:43<00:21, 110.00it/s]"
     ]
    },
    {
     "name": "stdout",
     "output_type": "stream",
     "text": [
      "Happy (2216)\n",
      "q is 1\n",
      "Happy (2217)\n",
      "q is 1\n",
      "Happy (2218)\n",
      "q is 1\n",
      "Happy (2219)\n",
      "q is 1\n",
      "Happy (222)\n",
      "q is 1\n",
      "Happy (2220)\n",
      "q is 1\n",
      "Happy (2221)\n",
      "q is 1\n",
      "Happy (2222)\n",
      "q is 1\n",
      "Happy (2223)\n",
      "q is 1\n",
      "Happy (2224)\n",
      "q is 1\n",
      "Happy (2225)\n",
      "q is 1\n",
      "Happy (2226)\n",
      "q is 1\n"
     ]
    },
    {
     "name": "stderr",
     "output_type": "stream",
     "text": [
      "\r",
      " 68%|████████████████████████████████████████████████████▌                        | 5114/7496 [00:43<00:21, 108.33it/s]"
     ]
    },
    {
     "name": "stdout",
     "output_type": "stream",
     "text": [
      "Happy (2227)\n",
      "q is 1\n",
      "Happy (2228)\n",
      "q is 1\n",
      "Happy (2229)\n",
      "q is 1\n",
      "Happy (223)\n",
      "q is 1\n",
      "Happy (2230)\n",
      "q is 1\n",
      "Happy (2231)\n",
      "q is 1\n",
      "Happy (2232)\n",
      "q is 1\n",
      "Happy (2233)\n",
      "q is 1\n",
      "Happy (2234)\n",
      "q is 1\n",
      "Happy (2235)\n",
      "q is 1\n",
      "Happy (2236)\n",
      "q is 1\n",
      "Happy (2237)\n",
      "q is 1\n",
      "Happy (2238)\n",
      "q is 1\n"
     ]
    },
    {
     "name": "stderr",
     "output_type": "stream",
     "text": [
      "\r",
      " 68%|████████████████████████████████████████████████████▋                        | 5127/7496 [00:43<00:21, 112.05it/s]"
     ]
    },
    {
     "name": "stdout",
     "output_type": "stream",
     "text": [
      "Happy (2239)\n",
      "q is 1\n",
      "Happy (224)\n",
      "q is 1\n",
      "Happy (2240)\n",
      "q is 1\n",
      "Happy (2241)\n",
      "q is 1\n",
      "Happy (2242)\n",
      "q is 1\n",
      "Happy (2243)\n",
      "q is 1\n",
      "Happy (2244)\n",
      "q is 1\n",
      "Happy (2245)\n",
      "q is 1\n",
      "Happy (2246)\n",
      "q is 1\n",
      "Happy (2247)\n",
      "q is 1\n",
      "Happy (2248)\n",
      "q is 1\n",
      "Happy (2249)\n",
      "q is 1\n",
      "Happy (225)\n",
      "q is 1\n",
      "Happy (2250)\n",
      "q is 1\n"
     ]
    },
    {
     "name": "stderr",
     "output_type": "stream",
     "text": [
      "\r",
      " 69%|████████████████████████████████████████████████████▊                        | 5141/7496 [00:43<00:19, 118.07it/s]"
     ]
    },
    {
     "name": "stdout",
     "output_type": "stream",
     "text": [
      "Happy (2251)\n",
      "q is 1\n",
      "Happy (2252)\n",
      "q is 1\n",
      "Happy (2253)\n",
      "q is 1\n",
      "Happy (2254)\n",
      "q is 1\n",
      "Happy (2255)\n",
      "q is 1\n",
      "Happy (2256)\n",
      "q is 1\n",
      "Happy (2257)\n",
      "q is 1\n",
      "Happy (2258)\n",
      "q is 1\n",
      "Happy (2259)\n",
      "q is 1\n",
      "Happy (226)\n",
      "q is 1\n",
      "Happy (2260)\n",
      "q is 1\n",
      "Happy (2261)\n",
      "q is 1\n"
     ]
    },
    {
     "name": "stderr",
     "output_type": "stream",
     "text": [
      "\r",
      " 69%|████████████████████████████████████████████████████▉                        | 5153/7496 [00:43<00:20, 112.41it/s]"
     ]
    },
    {
     "name": "stdout",
     "output_type": "stream",
     "text": [
      "Happy (2262)\n",
      "q is 1\n",
      "Happy (2263)\n",
      "q is 1\n",
      "Happy (2264)\n",
      "q is 1\n",
      "Happy (2265)\n",
      "q is 1\n",
      "Happy (2266)\n",
      "q is 1\n",
      "Happy (2267)\n",
      "q is 1\n",
      "Happy (2268)\n",
      "q is 1\n",
      "Happy (2269)\n",
      "q is 1\n",
      "Happy (227)\n",
      "q is 1\n",
      "Happy (2270)\n",
      "q is 1\n",
      "Happy (2271)\n",
      "q is 1\n",
      "Happy (2272)\n",
      "q is 1\n",
      "Happy (2273)\n",
      "q is 1\n"
     ]
    },
    {
     "name": "stderr",
     "output_type": "stream",
     "text": [
      "\r",
      " 69%|█████████████████████████████████████████████████████                        | 5166/7496 [00:43<00:20, 114.17it/s]"
     ]
    },
    {
     "name": "stdout",
     "output_type": "stream",
     "text": [
      "Happy (2274)\n",
      "q is 1\n",
      "Happy (2275)\n",
      "q is 1\n",
      "Happy (2276)\n",
      "q is 1\n",
      "Happy (2277)\n",
      "q is 1\n",
      "Happy (2278)\n",
      "q is 1\n",
      "Happy (2279)\n",
      "q is 1\n",
      "Happy (228)\n",
      "q is 1\n",
      "Happy (2280)\n",
      "q is 1\n",
      "Happy (2281)\n",
      "q is 1\n",
      "Happy (2282)\n",
      "q is 1\n",
      "Happy (2283)\n",
      "q is 1\n",
      "Happy (2284)\n",
      "q is 1\n",
      "Happy (2285)\n",
      "q is 1\n"
     ]
    },
    {
     "name": "stderr",
     "output_type": "stream",
     "text": [
      "\r",
      " 69%|█████████████████████████████████████████████████████▏                       | 5179/7496 [00:43<00:19, 117.62it/s]"
     ]
    },
    {
     "name": "stdout",
     "output_type": "stream",
     "text": [
      "Happy (2286)\n",
      "q is 1\n",
      "Happy (2287)\n",
      "q is 1\n",
      "Happy (2288)\n",
      "q is 1\n",
      "Happy (2289)\n",
      "q is 1\n",
      "Happy (229)\n",
      "q is 1\n",
      "Happy (2290)\n",
      "q is 1\n",
      "Happy (2291)\n",
      "q is 1\n",
      "Happy (2292)\n",
      "q is 1\n",
      "Happy (2293)\n",
      "q is 1\n",
      "Happy (2294)\n",
      "q is 1\n",
      "Happy (2295)\n",
      "q is 1\n",
      "Happy (2296)\n",
      "q is 1\n"
     ]
    },
    {
     "name": "stderr",
     "output_type": "stream",
     "text": [
      "\r",
      " 69%|█████████████████████████████████████████████████████▎                       | 5191/7496 [00:43<00:19, 117.04it/s]"
     ]
    },
    {
     "name": "stdout",
     "output_type": "stream",
     "text": [
      "Happy (2297)\n",
      "q is 1\n",
      "Happy (2298)\n",
      "q is 1\n",
      "Happy (2299)\n",
      "q is 1\n",
      "Happy (23)\n",
      "q is 1\n",
      "Happy (230)\n",
      "q is 1\n",
      "Happy (2300)\n",
      "q is 1\n",
      "Happy (2301)\n",
      "q is 1\n",
      "Happy (2302)\n",
      "q is 1\n",
      "Happy (2303)\n",
      "q is 1\n",
      "Happy (2304)\n",
      "q is 1\n",
      "Happy (2305)\n",
      "q is 1\n",
      "Happy (2306)\n",
      "q is 1\n",
      "Happy (2307)\n",
      "q is 1\n"
     ]
    },
    {
     "name": "stderr",
     "output_type": "stream",
     "text": [
      "\r",
      " 69%|█████████████████████████████████████████████████████▍                       | 5204/7496 [00:43<00:19, 120.07it/s]"
     ]
    },
    {
     "name": "stdout",
     "output_type": "stream",
     "text": [
      "Happy (2308)\n",
      "q is 1\n",
      "Happy (2309)\n",
      "q is 1\n",
      "Happy (231)\n",
      "q is 1\n",
      "Happy (2310)\n",
      "q is 1\n",
      "Happy (2311)\n",
      "q is 1\n",
      "Happy (2312)\n",
      "q is 1\n",
      "Happy (2313)\n",
      "q is 1\n",
      "Happy (2314)\n",
      "q is 1\n",
      "Happy (2315)\n",
      "q is 1\n",
      "Happy (2316)\n",
      "q is 1\n",
      "Happy (2317)\n",
      "q is 1\n",
      "Happy (2318)\n",
      "q is 1\n",
      "Happy (2319)\n",
      "q is 1\n"
     ]
    },
    {
     "name": "stderr",
     "output_type": "stream",
     "text": [
      "\r",
      " 70%|█████████████████████████████████████████████████████▌                       | 5217/7496 [00:43<00:18, 122.63it/s]"
     ]
    },
    {
     "name": "stdout",
     "output_type": "stream",
     "text": [
      "Happy (232)\n",
      "q is 1\n",
      "Happy (2320)\n",
      "q is 1\n",
      "Happy (2321)\n",
      "q is 1\n",
      "Happy (2322)\n",
      "q is 1\n",
      "Happy (2323)\n",
      "q is 1\n",
      "Happy (2324)\n",
      "q is 1\n",
      "Happy (2325)\n",
      "q is 1\n",
      "Happy (2326)\n",
      "q is 1\n",
      "Happy (2327)\n",
      "q is 1\n",
      "Happy (2328)\n",
      "q is 1\n",
      "Happy (2329)\n",
      "q is 1\n",
      "Happy (233)\n",
      "q is 1\n",
      "Happy (2330)\n",
      "q is 1\n"
     ]
    },
    {
     "name": "stderr",
     "output_type": "stream",
     "text": [
      "\r",
      " 70%|█████████████████████████████████████████████████████▋                       | 5230/7496 [00:44<00:18, 119.69it/s]"
     ]
    },
    {
     "name": "stdout",
     "output_type": "stream",
     "text": [
      "Happy (2331)\n",
      "q is 1\n",
      "Happy (2332)\n",
      "q isq is 1\n",
      "Happy (2627)\n",
      "q is 1\n",
      "Happy (2628)\n",
      "q is 1\n",
      "Happy (2629)\n",
      "q is 1\n",
      "Happy (263)\n",
      "q is 1\n",
      "Happy (2630)\n",
      "q is 1\n",
      "Happy (2631)\n",
      "q is 1\n",
      "Happy (2632)\n",
      "q is 1\n",
      "Happy (2633)\n",
      "q is 1\n",
      "Happy (2634)\n",
      "q is 1\n",
      "Happy (2635)\n",
      "q is 1\n",
      "Happy (2636)\n",
      "q is 1\n",
      "Happy (2637)\n",
      "q is 1\n",
      "Happy (2638)\n",
      "q is 1\n"
     ]
    },
    {
     "name": "stderr",
     "output_type": "stream",
     "text": [
      "\r",
      " 74%|█████████████████████████████████████████████████████████▏                   | 5571/7496 [00:46<00:15, 120.73it/s]"
     ]
    },
    {
     "name": "stdout",
     "output_type": "stream",
     "text": [
      "Happy (2639)\n",
      "q is 1\n",
      "Happy (264)\n",
      "q is 1\n",
      "Happy (2640)\n",
      "q is 1\n",
      "Happy (2641)\n",
      "q is 1\n",
      "Happy (2642)\n",
      "q is 1\n",
      "Happy (2643)\n",
      "q is 1\n",
      "Happy (2644)\n",
      "q is 1\n",
      "Happy (2645)\n",
      "q is 1\n",
      "Happy (2646)\n",
      "q is 1\n",
      "Happy (2647)\n",
      "q is 1\n",
      "Happy (2648)\n",
      "q is 1\n",
      "Happy (2649)\n",
      "q is 1\n",
      "Happy (265)\n",
      "q is 1\n",
      "Happy (2650)\n",
      "q is 1\n",
      "Happy (2651)\n",
      "q is 1\n"
     ]
    },
    {
     "name": "stderr",
     "output_type": "stream",
     "text": [
      "\r",
      " 75%|█████████████████████████████████████████████████████████▍                   | 5586/7496 [00:46<00:15, 126.70it/s]"
     ]
    },
    {
     "name": "stdout",
     "output_type": "stream",
     "text": [
      "Happy (2652)\n",
      "q is 1\n",
      "Happy (2653)\n",
      "q is 1\n",
      "Happy (2654)\n",
      "q is 1\n",
      "Happy (2655)\n",
      "q is 1\n",
      "Happy (2656)\n",
      "q is 1\n",
      "Happy (2657)\n",
      "q is 1\n",
      "Happy (2658)\n",
      "q is 1\n",
      "Happy (2659)\n",
      "q is 1\n",
      "Happy (266)\n",
      "q is 1\n",
      "Happy (2660)\n",
      "q is 1\n",
      "Happy (2661)\n",
      "q is 1\n",
      "Happy (2662)\n",
      "q is 1\n",
      "Happy (2663)\n",
      "q is 1\n",
      "Happy (2664)\n",
      "q is 1\n"
     ]
    },
    {
     "name": "stderr",
     "output_type": "stream",
     "text": [
      "\r",
      " 75%|█████████████████████████████████████████████████████████▌                   | 5600/7496 [00:47<00:16, 115.39it/s]"
     ]
    },
    {
     "name": "stdout",
     "output_type": "stream",
     "text": [
      "Happy (2665)\n",
      "q is 1\n",
      "Happy (2666)\n",
      "q is 1\n",
      "Happy (2667)\n",
      "q is 1\n",
      "Happy (2668)\n",
      "q is 1\n",
      "Happy (2669)\n",
      "q is 1\n",
      "Happy (267)\n",
      "q is 1\n",
      "Happy (2670)\n",
      "q is 1\n",
      "Happy (2671)\n",
      "q is 1\n",
      "Happy (2672)\n",
      "q is 1\n",
      "Happy (2673)\n",
      "q is 1\n",
      "Happy (2674)\n",
      "q is 1\n",
      "Happy (2675)\n",
      "q is 1\n",
      "Happy (2676)\n",
      "q is 1\n",
      "Happy (2677)\n",
      "q is 1\n",
      "Happy (2678)\n",
      "q is 1\n",
      "Happy (2679)\n",
      "q is 1\n"
     ]
    },
    {
     "name": "stderr",
     "output_type": "stream",
     "text": [
      "\r",
      " 75%|█████████████████████████████████████████████████████████▋                   | 5616/7496 [00:47<00:15, 123.96it/s]"
     ]
    },
    {
     "name": "stdout",
     "output_type": "stream",
     "text": [
      "Happy (268)\n",
      "q is 1\n",
      "Happy (2680)\n",
      "q is 1\n",
      "Happy (2681)\n",
      "q is 1\n",
      "Happy (2682)\n",
      "q is 1\n",
      "Happy (2683)\n",
      "q is 1\n",
      "Happy (2684)\n",
      "q is 1\n",
      "Happy (2685)\n",
      "q is 1\n",
      "Happy (2686)\n",
      "q is 1\n",
      "Happy (2687)\n",
      "q is 1\n",
      "Happy (2688)\n",
      "q is 1\n",
      "Happy (2689)\n",
      "q is 1\n",
      "Happy (269)\n",
      "q is 1\n",
      "Happy (2690)\n",
      "q is 1\n",
      "Happy (2691)\n",
      "q is 1\n"
     ]
    },
    {
     "name": "stderr",
     "output_type": "stream",
     "text": [
      "\r",
      " 75%|█████████████████████████████████████████████████████████▊                   | 5630/7496 [00:47<00:14, 126.38it/s]"
     ]
    },
    {
     "name": "stdout",
     "output_type": "stream",
     "text": [
      "Happy (2692)\n",
      "q is 1\n",
      "Happy (2693)\n",
      "q is 1\n",
      "Happy (2694)\n",
      "q is 1\n",
      "Happy (2695)\n",
      "q is 1\n",
      "Happy (2696)\n",
      "q is 1\n",
      "Happy (2697)\n",
      "q is 1\n",
      "Happy (2698)\n",
      "q is 1\n",
      "Happy (2699)\n",
      "q is 1\n",
      "Happy (27)\n",
      "q is 1\n",
      "Happy (270)\n",
      "q is 1\n",
      "Happy (2700)\n",
      "q is 1\n",
      "Happy (2701)\n",
      "q is 1\n",
      "Happy (2702)\n",
      "q is 1\n",
      "Happy (2703)\n",
      "q is 1\n"
     ]
    },
    {
     "name": "stderr",
     "output_type": "stream",
     "text": [
      "\r",
      " 75%|█████████████████████████████████████████████████████████▉                   | 5644/7496 [00:47<00:15, 116.06it/s]"
     ]
    },
    {
     "name": "stdout",
     "output_type": "stream",
     "text": [
      "Happy (2704)\n",
      "q is 1\n",
      "Happy (2705)\n",
      "q is 1\n",
      "Happy (2706)\n",
      "q is 1\n",
      "Happy (2707)\n",
      "q is 1\n",
      "Happy (2708)\n",
      "q is 1\n",
      "Happy (2709)\n",
      "q is 1\n",
      "Happy (271)\n",
      "q is 1\n",
      "Happy (2710)\n",
      "q is 1\n",
      "Happy (2711)\n",
      "q is 1\n",
      "Happy (2712)\n",
      "q is 1\n",
      "Happy (2713)\n",
      "q is 1\n",
      "Happy (2714)\n",
      "q is 1\n",
      "Happy (2715)\n",
      "q is 1\n",
      "Happy (2716)\n",
      "q is 1\n",
      "Happy (2717)\n",
      "q is 1\n",
      "Happy (2718)\n",
      "q is 1\n"
     ]
    },
    {
     "name": "stderr",
     "output_type": "stream",
     "text": [
      "\r",
      " 76%|██████████████████████████████████████████████████████████▏                  | 5660/7496 [00:47<00:14, 125.37it/s]"
     ]
    },
    {
     "name": "stdout",
     "output_type": "stream",
     "text": [
      "Happy (2719)\n",
      "q is 1\n",
      "Happy (272)\n",
      "q is 1\n",
      "Happy (2720)\n",
      "q is 1\n",
      "Happy (2721)\n",
      "q is 1\n",
      "Happy (2722)\n",
      "q is 1\n",
      "Happy (2723)\n",
      "q is 1\n",
      "Happy (2724)\n",
      "q is 1\n",
      "Happy (2725)\n",
      "q is 1\n",
      "Happy (2726)\n",
      "q is 1\n",
      "Happy (2727)\n",
      "q is 1\n",
      "Happy (2728)\n",
      "q is 1\n",
      "Happy (2729)\n",
      "q is 1\n",
      "Happy (273)\n",
      "q is 1\n",
      "Happy (2730)\n",
      "q is 1\n"
     ]
    },
    {
     "name": "stderr",
     "output_type": "stream",
     "text": [
      "\r",
      " 76%|██████████████████████████████████████████████████████████▎                  | 5674/7496 [00:47<00:14, 127.07it/s]"
     ]
    },
    {
     "name": "stdout",
     "output_type": "stream",
     "text": [
      "Happy (2731)\n",
      "q is 1\n",
      "Happy (2732)\n",
      "q is 1\n",
      "Happy (2733)\n",
      "q is 1\n",
      "Happy (2734)\n",
      "q is 1\n",
      "Happy (2735)\n",
      "q is 1\n",
      "Happy (2736)\n",
      "q is 1\n",
      "Happy (2737)\n",
      "q is 1\n",
      "Happy (2738)\n",
      "q is 1\n",
      "Happy (2739)\n",
      "q is 1\n",
      "Happy (274)\n",
      "q is 1\n",
      "Happy (2740)\n",
      "q is 1\n",
      "Happy (2741)\n",
      "q is 1\n",
      "Happy (2742)\n",
      "q is 1\n",
      "Happy (2743)\n",
      "q is 1\n"
     ]
    },
    {
     "name": "stderr",
     "output_type": "stream",
     "text": [
      "\r",
      " 76%|██████████████████████████████████████████████████████████▍                  | 5688/7496 [00:47<00:15, 117.93it/s]"
     ]
    },
    {
     "name": "stdout",
     "output_type": "stream",
     "text": [
      "Happy (2744)\n",
      "q is 1\n",
      "Happy (2745)\n",
      "q is 1\n",
      "Happy (2746)\n",
      "q is 1\n",
      "Happy (2747)\n",
      "q is 1\n",
      "Happy (2748)\n",
      "q is 1\n",
      "Happy (2749)\n",
      "q is 1\n",
      "Happy (275)\n",
      "q is 1\n",
      "Happy (2750)\n",
      "q is 1\n",
      "Happy (2751)\n",
      "q is 1\n",
      "Happy (2752)\n",
      "q is 1\n",
      "Happy (2753)\n",
      "q is 1\n",
      "Happy (2754)\n",
      "q is 1\n",
      "Happy (2755)\n",
      "q is 1\n",
      "Happy (2756)\n",
      "q is 1\n",
      "Happy (2757)\n",
      "q is 1\n"
     ]
    },
    {
     "name": "stderr",
     "output_type": "stream",
     "text": [
      "\r",
      " 76%|██████████████████████████████████████████████████████████▌                  | 5703/7496 [00:47<00:14, 125.47it/s]"
     ]
    },
    {
     "name": "stdout",
     "output_type": "stream",
     "text": [
      "Happy (2758)\n",
      "q is 1\n",
      "Happy (2759)\n",
      "q is 1\n",
      "Happy (276)\n",
      "q is 1\n",
      "Happy (2760)\n",
      "q is 1\n",
      "Happy (2761)\n",
      "q is 1\n",
      "Happy (2762)\n",
      "q is 1\n",
      "Happy (2763)\n",
      "q is 1\n",
      "Happy (2764)\n",
      "q is 1\n",
      "Happy (2765)\n",
      "q is 1\n",
      "Happy (2766)\n",
      "q is 1\n",
      "Happy (2767)\n",
      "q is 1\n",
      "Happy (2768)\n",
      "q is 1\n",
      "Happy (2769)\n",
      "q is 1\n",
      "Happy (277)\n",
      "q is 1\n",
      "Happy (2770)\n",
      "q is 1\n",
      "Happy (2771)\n",
      "q is 1\n"
     ]
    },
    {
     "name": "stderr",
     "output_type": "stream",
     "text": [
      "\r",
      " 76%|██████████████████████████████████████████████████████████▋                  | 5719/7496 [00:47<00:13, 132.25it/s]"
     ]
    },
    {
     "name": "stdout",
     "output_type": "stream",
     "text": [
      "Happy (2772)\n",
      "q is 1\n",
      "Happy (2773)\n",
      "q is 1\n",
      "Happy (2774)\n",
      "q is 1\n",
      "Happy (2775)Happy (3091)\n",
      "q is 1\n"
     ]
    },
    {
     "name": "stderr",
     "output_type": "stream",
     "text": [
      "\r",
      " 81%|██████████████████████████████████████████████████████████████▍              | 6075/7496 [00:50<00:11, 126.52it/s]"
     ]
    },
    {
     "name": "stdout",
     "output_type": "stream",
     "text": [
      "Happy (3092)\n",
      "q is 1\n",
      "Happy (3093)\n",
      "q is 1\n",
      "Happy (3094)\n",
      "q is 1\n",
      "Happy (3095)\n",
      "q is 1\n",
      "Happy (3096)\n",
      "q is 1\n",
      "Happy (3097)\n",
      "q is 1\n",
      "Happy (3098)\n",
      "q is 1\n",
      "Happy (3099)\n",
      "q is 1\n",
      "Happy (31)\n",
      "q is 1\n",
      "Happy (310)\n",
      "q is 1\n",
      "Happy (3100)\n",
      "q is 1\n",
      "Happy (3101)\n",
      "q is 1\n",
      "Happy (3102)\n",
      "q is 1\n",
      "Happy (3103)\n",
      "q is 1\n",
      "Happy (3104)\n",
      "q is 1\n"
     ]
    },
    {
     "name": "stderr",
     "output_type": "stream",
     "text": [
      "\r",
      " 81%|██████████████████████████████████████████████████████████████▌              | 6090/7496 [00:51<00:10, 132.15it/s]"
     ]
    },
    {
     "name": "stdout",
     "output_type": "stream",
     "text": [
      "Happy (3105)\n",
      "q is 1\n",
      "Happy (3106)\n",
      "q is 1\n",
      "Happy (3107)\n",
      "q is 1\n",
      "Happy (3108)\n",
      "q is 1\n",
      "Happy (3109)\n",
      "q is 1\n",
      "Happy (311)\n",
      "q is 1\n",
      "Happy (3110)\n",
      "q is 1\n",
      "Happy (3111)\n",
      "q is 1\n",
      "Happy (3112)\n",
      "q is 1\n",
      "Happy (3113)\n",
      "q is 1\n",
      "Happy (3114)\n",
      "q is 1\n",
      "Happy (3115)\n",
      "q is 1\n",
      "Happy (3116)\n",
      "q is 1\n",
      "Happy (3117)\n",
      "q is 1\n"
     ]
    },
    {
     "name": "stderr",
     "output_type": "stream",
     "text": [
      "\r",
      " 81%|██████████████████████████████████████████████████████████████▋              | 6104/7496 [00:51<00:11, 126.51it/s]"
     ]
    },
    {
     "name": "stdout",
     "output_type": "stream",
     "text": [
      "Happy (3118)\n",
      "q is 1\n",
      "Happy (3119)\n",
      "q is 1\n",
      "Happy (312)\n",
      "q is 1\n",
      "Happy (3120)\n",
      "q is 1\n",
      "Happy (3121)\n",
      "q is 1\n",
      "Happy (3122)\n",
      "q is 1\n",
      "Happy (3123)\n",
      "q is 1\n",
      "Happy (3124)\n",
      "q is 1\n",
      "Happy (3125)\n",
      "q is 1\n",
      "Happy (3126)\n",
      "q is 1\n",
      "Happy (3127)\n",
      "q is 1\n",
      "Happy (3128)\n",
      "q is 1\n",
      "Happy (3129)\n",
      "q is 1\n"
     ]
    },
    {
     "name": "stderr",
     "output_type": "stream",
     "text": [
      "\r",
      " 82%|██████████████████████████████████████████████████████████████▊              | 6117/7496 [00:51<00:11, 123.29it/s]"
     ]
    },
    {
     "name": "stdout",
     "output_type": "stream",
     "text": [
      "Happy (313)\n",
      "q is 1\n",
      "Happy (3130)\n",
      "q is 1\n",
      "Happy (3131)\n",
      "q is 1\n",
      "Happy (3132)\n",
      "q is 1\n",
      "Happy (3133)\n",
      "q is 1\n",
      "Happy (3134)\n",
      "q is 1\n",
      "Happy (3135)\n",
      "q is 1\n",
      "Happy (3136)\n",
      "q is 1\n",
      "Happy (3137)\n",
      "q is 1\n",
      "Happy (3138)\n",
      "q is 1\n",
      "Happy (3139)\n",
      "q is 1\n",
      "Happy (314)\n",
      "q is 1\n",
      "Happy (3140)\n",
      "q is 1\n"
     ]
    },
    {
     "name": "stderr",
     "output_type": "stream",
     "text": [
      "\r",
      " 82%|██████████████████████████████████████████████████████████████▉              | 6130/7496 [00:51<00:13, 101.83it/s]"
     ]
    },
    {
     "name": "stdout",
     "output_type": "stream",
     "text": [
      "Happy (3141)\n",
      "q is 1\n",
      "Happy (3142)\n",
      "q is 1\n",
      "Happy (3143)\n",
      "q is 1\n",
      "Happy (3144)\n",
      "q is 1\n",
      "Happy (3145)\n",
      "q is 1\n",
      "Happy (3146)\n",
      "q is 1\n",
      "Happy (3147)\n",
      "q is 1\n",
      "Happy (3148)\n",
      "q is 1\n",
      "Happy (3149)\n",
      "q is 1\n",
      "Happy (315)\n",
      "q is 1\n",
      "Happy (3150)\n",
      "q is 1\n"
     ]
    },
    {
     "name": "stderr",
     "output_type": "stream",
     "text": [
      "\r",
      " 82%|███████████████████████████████████████████████████████████████▉              | 6141/7496 [00:51<00:14, 96.06it/s]"
     ]
    },
    {
     "name": "stdout",
     "output_type": "stream",
     "text": [
      "Happy (3151)\n",
      "q is 1\n",
      "Happy (3152)\n",
      "q is 1\n",
      "Happy (3153)\n",
      "q is 1\n",
      "Happy (3154)\n",
      "q is 1\n",
      "Happy (3155)\n",
      "q is 1\n",
      "Happy (3156)\n",
      "q is 1\n",
      "Happy (3157)\n",
      "q is 1\n",
      "Happy (3158)\n",
      "q is 1\n",
      "Happy (3159)\n",
      "q is 1\n",
      "Happy (316)\n",
      "q is 1\n",
      "Happy (3160)\n",
      "q is 1\n"
     ]
    },
    {
     "name": "stderr",
     "output_type": "stream",
     "text": [
      "\r",
      " 82%|████████████████████████████████████████████████████████████████              | 6152/7496 [00:51<00:14, 94.29it/s]"
     ]
    },
    {
     "name": "stdout",
     "output_type": "stream",
     "text": [
      "Happy (3161)\n",
      "q is 1\n",
      "Happy (3162)\n",
      "q is 1\n",
      "Happy (3163)\n",
      "q is 1\n",
      "Happy (3164)\n",
      "q is 1\n",
      "Happy (3165)\n",
      "q is 1\n",
      "Happy (3166)\n",
      "q is 1\n",
      "Happy (3167)\n",
      "q is 1\n",
      "Happy (3168)\n",
      "q is 1\n",
      "Happy (3169)\n",
      "q is 1\n",
      "Happy (317)\n",
      "q is 1\n"
     ]
    },
    {
     "name": "stderr",
     "output_type": "stream",
     "text": [
      "\r",
      " 82%|████████████████████████████████████████████████████████████████              | 6162/7496 [00:51<00:15, 86.78it/s]"
     ]
    },
    {
     "name": "stdout",
     "output_type": "stream",
     "text": [
      "Happy (3170)\n",
      "q is 1\n",
      "Happy (3171)\n",
      "q is 1\n",
      "Happy (3172)\n",
      "q is 1\n",
      "Happy (3173)\n",
      "q is 1\n",
      "Happy (3174)\n",
      "q is 1\n",
      "Happy (3175)\n",
      "q is 1\n",
      "Happy (3176)\n",
      "q is 1\n",
      "Happy (3177)\n",
      "q is 1\n",
      "Happy (3178)\n",
      "q is 1\n",
      "Happy (3179)\n",
      "q is 1\n"
     ]
    },
    {
     "name": "stderr",
     "output_type": "stream",
     "text": [
      "\r",
      " 82%|████████████████████████████████████████████████████████████████▏             | 6172/7496 [00:52<00:17, 74.51it/s]"
     ]
    },
    {
     "name": "stdout",
     "output_type": "stream",
     "text": [
      "Happy (318)\n",
      "q is 1\n",
      "Happy (3180)\n",
      "q is 1\n",
      "Happy (3181)\n",
      "q is 1\n",
      "Happy (3182)\n",
      "q is 1\n",
      "Happy (3183)\n",
      "q is 1\n",
      "Happy (3184)\n",
      "q is 1\n",
      "Happy (3185)\n",
      "q is 1\n",
      "Happy (3186)\n",
      "q is 1\n",
      "Happy (3187)\n",
      "q is 1\n"
     ]
    },
    {
     "name": "stderr",
     "output_type": "stream",
     "text": [
      "\r",
      " 82%|████████████████████████████████████████████████████████████████▎             | 6181/7496 [00:52<00:17, 76.23it/s]"
     ]
    },
    {
     "name": "stdout",
     "output_type": "stream",
     "text": [
      "Happy (3188)\n",
      "q is 1\n",
      "Happy (3189)\n",
      "q is 1\n",
      "Happy (319)\n",
      "q is 1\n",
      "Happy (3190)\n",
      "q is 1\n",
      "Happy (3191)\n",
      "q is 1\n",
      "Happy (3192)\n",
      "q is 1\n",
      "Happy (3193)\n",
      "q is 1\n",
      "Happy (3194)\n",
      "q is 1\n",
      "Happy (3195)\n",
      "q is 1\n"
     ]
    },
    {
     "name": "stderr",
     "output_type": "stream",
     "text": [
      "\r",
      " 83%|████████████████████████████████████████████████████████████████▍             | 6190/7496 [00:52<00:16, 79.53it/s]"
     ]
    },
    {
     "name": "stdout",
     "output_type": "stream",
     "text": [
      "Happy (3196)\n",
      "q is 1\n",
      "Happy (3197)\n",
      "q is 1\n",
      "Happy (3198)\n",
      "q is 1\n",
      "Happy (3199)\n",
      "q is 1\n",
      "Happy (32)\n",
      "q is 1\n",
      "Happy (320)\n",
      "q is 1\n",
      "Happy (3200)\n",
      "q is 1\n",
      "Happy (3201)\n",
      "q is 1\n",
      "Happy (3202)\n",
      "q is 1\n"
     ]
    },
    {
     "name": "stderr",
     "output_type": "stream",
     "text": [
      "\r",
      " 83%|████████████████████████████████████████████████████████████████▌             | 6199/7496 [00:52<00:15, 81.57it/s]"
     ]
    },
    {
     "name": "stdout",
     "output_type": "stream",
     "text": [
      "Happy (3203)\n",
      "q is 1\n",
      "Happy (3204)\n",
      "q is 1\n",
      "Happy (3205)\n",
      "q is 1\n",
      "Happy (3206)\n",
      "q is 1\n",
      "Happy (3207)\n",
      "q is 1\n",
      "Happy (3208)\n",
      "q is 1\n",
      "Happy (3209)\n",
      "q is 1\n",
      "Happy (321)\n",
      "q is 1\n",
      "Happy (3210)\n",
      "q is 1\n"
     ]
    },
    {
     "name": "stderr",
     "output_type": "stream",
     "text": [
      "\r",
      " 83%|████████████████████████████████████████████████████████████████▌             | 6208/7496 [00:52<00:17, 72.63it/s]"
     ]
    },
    {
     "name": "stdout",
     "output_type": "stream",
     "text": [
      "Happy (3211)\n",
      "q is 1\n",
      "Happy (3212)\n",
      "q is 1\n",
      "Happy (3213)\n",
      "q is 1\n",
      "Happy (3214)\n",
      "q is 1\n",
      "Happy (3215)\n",
      "q is 1\n",
      "Happy (3216)\n",
      "q is 1\n",
      "Happy (3217)\n",
      "q is 1\n",
      "Happy (3218)\n",
      "q is 1\n",
      "Happy (3219)\n",
      "q is 1\n"
     ]
    },
    {
     "name": "stderr",
     "output_type": "stream",
     "text": [
      "\r",
      " 83%|████████████████████████████████████████████████████████████████▋             | 6217/7496 [00:52<00:17, 72.68it/s]"
     ]
    },
    {
     "name": "stdout",
     "output_type": "stream",
     "text": [
      "Happy (322)\n",
      "q is 1\n",
      "Happy (3220)\n",
      "q is 1\n",
      "Happy (3221)\n",
      "q is 1\n",
      "Happy (3222)\n",
      "q is 1\n",
      "Happy (3223)\n",
      "q is 1\n",
      "Happy (3224)\n",
      "q is 1\n",
      "Happy (3225)\n",
      "q is 1\n",
      "Happy (3226)\n",
      "q is 1\n",
      "Happy (3227)\n",
      "q is 1\n",
      "Happy (3228)\n",
      "q is 1\n"
     ]
    },
    {
     "name": "stderr",
     "output_type": "stream",
     "text": [
      "\r",
      " 83%|████████████████████████████████████████████████████████████████▊             | 6227/7496 [00:52<00:16, 77.92it/s]"
     ]
    },
    {
     "name": "stdout",
     "output_type": "stream",
     "text": [
      "Happy (3229)\n",
      "q is 1\n",
      "Happy (323)\n",
      "q is 1\n",
      "Happy (3230)\n",
      "q is 1\n",
      "Happy (3231)\n",
      "q is 1\n",
      "Happy (3232)\n",
      "q is 1\n",
      "Happy (3233)\n",
      "q is 1\n",
      "Happy (3234)\n",
      "q is 1\n",
      "Happy (3235)\n",
      "q is 1\n",
      "Happy (3236)\n",
      "q is 1\n",
      "Happy (3237)\n",
      "q is 1\n"
     ]
    },
    {
     "name": "stderr",
     "output_type": "stream",
     "text": [
      "\r",
      " 83%|████████████████████████████████████████████████████████████████▉             | 6237/7496 [00:52<00:15, 82.48it/s]"
     ]
    },
    {
     "name": "stdout",
     "output_type": "stream",
     "text": [
      "Happy (3238)\n",
      "q is 1\n",
      "\n",
      "q is 1\n",
      "Happy (3585)\n",
      "q is 1\n"
     ]
    },
    {
     "name": "stderr",
     "output_type": "stream",
     "text": [
      "\r",
      " 88%|████████████████████████████████████████████████████████████████████         | 6623/7496 [00:56<00:06, 124.95it/s]"
     ]
    },
    {
     "name": "stdout",
     "output_type": "stream",
     "text": [
      "Happy (3586)\n",
      "q is 1\n",
      "Happy (3587)\n",
      "q is 1\n",
      "Happy (3588)\n",
      "q is 1\n",
      "Happy (3589)\n",
      "q is 1\n",
      "Happy (359)\n",
      "q is 1\n",
      "Happy (3590)\n",
      "q is 1\n",
      "Happy (3591)\n",
      "q is 1\n",
      "Happy (3592)\n",
      "q is 1\n",
      "Happy (3593)\n",
      "q is 1\n",
      "Happy (3594)\n",
      "q is 1\n",
      "Happy (3595)\n",
      "q is 1\n",
      "Happy (3596)\n",
      "q is 1\n",
      "Happy (3597)\n",
      "q is 1\n",
      "Happy (3598)\n",
      "q is 1\n"
     ]
    },
    {
     "name": "stderr",
     "output_type": "stream",
     "text": [
      "\r",
      " 89%|████████████████████████████████████████████████████████████████████▏        | 6637/7496 [00:56<00:06, 128.50it/s]"
     ]
    },
    {
     "name": "stdout",
     "output_type": "stream",
     "text": [
      "Happy (3599)\n",
      "q is 1\n",
      "Happy (36)\n",
      "q is 1\n",
      "Happy (360)\n",
      "q is 1\n",
      "Happy (3600)\n",
      "q is 1\n",
      "Happy (3601)\n",
      "q is 1\n",
      "Happy (3602)\n",
      "q is 1\n",
      "Happy (3603)\n",
      "q is 1\n",
      "Happy (3604)\n",
      "q is 1\n",
      "Happy (3605)\n",
      "q is 1\n",
      "Happy (3606)\n",
      "q is 1\n",
      "Happy (3607)\n",
      "q is 1\n",
      "Happy (3608)\n",
      "q is 1\n",
      "Happy (3609)\n",
      "q is 1\n"
     ]
    },
    {
     "name": "stderr",
     "output_type": "stream",
     "text": [
      "\r",
      " 89%|████████████████████████████████████████████████████████████████████▎        | 6650/7496 [00:56<00:06, 128.28it/s]"
     ]
    },
    {
     "name": "stdout",
     "output_type": "stream",
     "text": [
      "Happy (361)\n",
      "q is 1\n",
      "Happy (3610)\n",
      "q is 1\n",
      "Happy (3611)\n",
      "q is 1\n",
      "Happy (3612)\n",
      "q is 1\n",
      "Happy (3613)\n",
      "q is 1\n",
      "Happy (3614)\n",
      "q is 1\n",
      "Happy (3615)\n",
      "q is 1\n",
      "Happy (3616)\n",
      "q is 1\n",
      "Happy (3617)\n",
      "q is 1\n",
      "Happy (3618)\n",
      "q is 1\n",
      "Happy (3619)\n",
      "q is 1\n",
      "Happy (362)\n",
      "q is 1\n",
      "Happy (3620)\n",
      "q is 1\n"
     ]
    },
    {
     "name": "stderr",
     "output_type": "stream",
     "text": [
      "\r",
      " 89%|████████████████████████████████████████████████████████████████████▍        | 6663/7496 [00:56<00:06, 120.33it/s]"
     ]
    },
    {
     "name": "stdout",
     "output_type": "stream",
     "text": [
      "Happy (3621)\n",
      "q is 1\n",
      "Happy (3622)\n",
      "q is 1\n",
      "Happy (3623)\n",
      "q is 1\n",
      "Happy (3624)\n",
      "q is 1\n",
      "Happy (3625)\n",
      "q is 1\n",
      "Happy (3626)\n",
      "q is 1\n",
      "Happy (3627)\n",
      "q is 1\n",
      "Happy (3628)\n",
      "q is 1\n",
      "Happy (3629)\n",
      "q is 1\n",
      "Happy (363)\n",
      "q is 1\n",
      "Happy (3630)\n",
      "q is 1\n",
      "Happy (3631)\n",
      "q is 1\n",
      "Happy (3632)\n",
      "q is 1\n",
      "Happy (3633)\n",
      "q is 1\n",
      "Happy (3634)\n",
      "q is 1\n"
     ]
    },
    {
     "name": "stderr",
     "output_type": "stream",
     "text": [
      "\r",
      " 89%|████████████████████████████████████████████████████████████████████▌        | 6678/7496 [00:56<00:06, 127.68it/s]"
     ]
    },
    {
     "name": "stdout",
     "output_type": "stream",
     "text": [
      "Happy (3635)\n",
      "q is 1\n",
      "Happy (3636)\n",
      "q is 1\n",
      "Happy (3637)\n",
      "q is 1\n",
      "Happy (3638)\n",
      "q is 1\n",
      "Happy (3639)\n",
      "q is 1\n",
      "Happy (364)\n",
      "q is 1\n",
      "Happy (3640)\n",
      "q is 1\n",
      "Happy (3641)\n",
      "q is 1\n",
      "Happy (3642)\n",
      "q is 1\n",
      "Happy (3643)\n",
      "q is 1\n",
      "Happy (3644)\n",
      "q is 1\n",
      "Happy (3645)\n",
      "q is 1\n",
      "Happy (3646)\n",
      "q is 1\n",
      "Happy (3647)\n",
      "q is 1\n",
      "Happy (3648)\n",
      "q is 1\n",
      "Happy (3649)\n",
      "q is 1\n",
      "Happy (365)\n",
      "q is 1\n"
     ]
    },
    {
     "name": "stderr",
     "output_type": "stream",
     "text": [
      "\r",
      " 89%|████████████████████████████████████████████████████████████████████▊        | 6695/7496 [00:56<00:05, 135.77it/s]"
     ]
    },
    {
     "name": "stdout",
     "output_type": "stream",
     "text": [
      "Happy (3650)\n",
      "q is 1\n",
      "Happy (3651)\n",
      "q is 1\n",
      "Happy (3652)\n",
      "q is 1\n",
      "Happy (3653)\n",
      "q is 1\n",
      "Happy (3654)\n",
      "q is 1\n",
      "Happy (3655)\n",
      "q is 1\n",
      "Happy (3656)\n",
      "q is 1\n",
      "Happy (3657)\n",
      "q is 1\n",
      "Happy (3658)\n",
      "q is 1\n",
      "Happy (3659)\n",
      "q is 1\n",
      "Happy (366)\n",
      "q is 1\n",
      "Happy (3660)\n",
      "q is 1\n",
      "Happy (3661)\n",
      "q is 1\n",
      "Happy (3662)\n",
      "q is 1\n"
     ]
    },
    {
     "name": "stderr",
     "output_type": "stream",
     "text": [
      "\r",
      " 90%|████████████████████████████████████████████████████████████████████▉        | 6709/7496 [00:56<00:06, 124.36it/s]"
     ]
    },
    {
     "name": "stdout",
     "output_type": "stream",
     "text": [
      "Happy (3663)\n",
      "q is 1\n",
      "Happy (3664)\n",
      "q is 1\n",
      "Happy (3665)\n",
      "q is 1\n",
      "Happy (3666)\n",
      "q is 1\n",
      "Happy (3667)\n",
      "q is 1\n",
      "Happy (3668)\n",
      "q is 1\n",
      "Happy (3669)\n",
      "q is 1\n",
      "Happy (367)\n",
      "q is 1\n",
      "Happy (3670)\n",
      "q is 1\n",
      "Happy (3671)\n",
      "q is 1\n",
      "Happy (3672)\n",
      "q is 1\n",
      "Happy (3673)\n",
      "q is 1\n",
      "Happy (3674)\n",
      "q is 1\n",
      "Happy (3675)\n",
      "q is 1\n",
      "Happy (3676)\n",
      "q is 1\n"
     ]
    },
    {
     "name": "stderr",
     "output_type": "stream",
     "text": [
      "\r",
      " 90%|█████████████████████████████████████████████████████████████████████        | 6724/7496 [00:56<00:05, 130.83it/s]"
     ]
    },
    {
     "name": "stdout",
     "output_type": "stream",
     "text": [
      "Happy (3677)\n",
      "q is 1\n",
      "Happy (3678)\n",
      "q is 1\n",
      "Happy (3679)\n",
      "q is 1\n",
      "Happy (368)\n",
      "q is 1\n",
      "Happy (3680)\n",
      "q is 1\n",
      "Happy (3681)\n",
      "q is 1\n",
      "Happy (3682)\n",
      "q is 1\n",
      "Happy (3683)\n",
      "q is 1\n",
      "Happy (3684)\n",
      "q is 1\n",
      "Happy (3685)\n",
      "q is 1\n",
      "Happy (3686)\n",
      "q is 1\n",
      "Happy (3687)\n",
      "q is 1\n",
      "Happy (3688)\n",
      "q is 1\n",
      "Happy (3689)\n",
      "q is 1\n"
     ]
    },
    {
     "name": "stderr",
     "output_type": "stream",
     "text": [
      "\r",
      " 90%|█████████████████████████████████████████████████████████████████████▏       | 6738/7496 [00:57<00:06, 125.67it/s]"
     ]
    },
    {
     "name": "stdout",
     "output_type": "stream",
     "text": [
      "Happy (369)\n",
      "q is 1\n",
      "Happy (3690)\n",
      "q is 1\n",
      "Happy (3691)\n",
      "q is 1\n",
      "Happy (3692)\n",
      "q is 1\n",
      "Happy (3693)\n",
      "q is 1\n",
      "Happy (3694)\n",
      "q is 1\n",
      "Happy (3695)\n",
      "q is 1\n",
      "Happy (3696)\n",
      "q is 1\n",
      "Happy (3697)\n",
      "q is 1\n",
      "Happy (3698)\n",
      "q is 1\n",
      "Happy (3699)\n",
      "q is 1\n",
      "Happy (37)\n",
      "q is 1\n",
      "Happy (370)\n",
      "q is 1\n"
     ]
    },
    {
     "name": "stderr",
     "output_type": "stream",
     "text": [
      "\r",
      " 90%|█████████████████████████████████████████████████████████████████████▎       | 6751/7496 [00:57<00:05, 126.30it/s]"
     ]
    },
    {
     "name": "stdout",
     "output_type": "stream",
     "text": [
      "Happy (3700)\n",
      "q is 1\n",
      "Happy (3701)\n",
      "q is 1\n",
      "Happy (3702)\n",
      "q is 1\n",
      "Happy (3703)\n",
      "q is 1\n",
      "Happy (3704)\n",
      "q is 1\n",
      "Happy (3705)\n",
      "q is 1\n",
      "Happy (3706)\n",
      "q is 1\n",
      "Happy (3707)\n",
      "q is 1\n",
      "Happy (3708)\n",
      "q is 1\n",
      "Happy (3709)\n",
      "q is 1\n",
      "Happy (371)\n",
      "q is 1\n",
      "Happy (3710)\n",
      "q is 1\n",
      "Happy (3711)\n",
      "q is 1\n",
      "Happy (3712)\n",
      "q is 1\n",
      "Happy (3713)\n",
      "q is 1\n"
     ]
    },
    {
     "name": "stderr",
     "output_type": "stream",
     "text": [
      "\r",
      " 90%|█████████████████████████████████████████████████████████████████████▌       | 6766/7496 [00:57<00:05, 130.26it/s]"
     ]
    },
    {
     "name": "stdout",
     "output_type": "stream",
     "text": [
      "Happy (3714)\n",
      "q is 1\n",
      "Happy (3715)\n",
      "q is 1\n",
      "Happy (3716)\n",
      "q is 1\n",
      "Happy (3717)\n",
      "q is 1\n",
      "Happy (3718)\n",
      "q is 1\n",
      "Happy (3719)\n",
      "q is 1\n",
      "Happy (372)\n",
      "q is 1\n",
      "Happy (3720)\n",
      "q is 1\n",
      "Happy (3721)\n",
      "q is 1\n",
      "Happy (3722)\n",
      "q is 1\n",
      "Happy (3723)\n",
      "q is 1\n",
      "Happy (3724)\n",
      "q is 1\n",
      "Happy (3725)\n",
      "q is 1\n",
      "Happy (3726)\n",
      "q is 1\n"
     ]
    },
    {
     "name": "stderr",
     "output_type": "stream",
     "text": [
      "\r",
      " 90%|█████████████████████████████████████████████████████████████████████▋       | 6780/7496 [00:57<00:05, 132.01it/s]"
     ]
    },
    {
     "name": "stdout",
     "output_type": "stream",
     "text": [
      "Happy (3727)\n",
      "q is 1\n",
      "Happy (3728)\n",
      "q is 1\n",
      "Happy (3729)\n",
      "q is 1\n",
      "Happy (373)\n",
      "q is 1\n",
      "Happy (3730)\n",
      "q is 1\n",
      "Happy (3731)\n",
      "q is 1 1\n",
      "Happy (646)\n",
      "q is 1\n",
      "Happy (647)\n",
      "q is 1\n",
      "Happy (648)\n",
      "q is 1\n",
      "Happy (649)\n",
      "q is 1\n"
     ]
    },
    {
     "name": "stderr",
     "output_type": "stream",
     "text": [
      "\r",
      " 95%|█████████████████████████████████████████████████████████████████████████    | 7110/7496 [01:00<00:03, 107.22it/s]"
     ]
    },
    {
     "name": "stdout",
     "output_type": "stream",
     "text": [
      "Happy (65)\n",
      "q is 1\n",
      "Happy (650)\n",
      "q is 1\n",
      "Happy (651)\n",
      "q is 1\n",
      "Happy (652)\n",
      "q is 1\n",
      "Happy (653)\n",
      "q is 1\n",
      "Happy (654)\n",
      "q is 1\n",
      "Happy (655)\n",
      "q is 1\n",
      "Happy (656)\n",
      "q is 1\n",
      "Happy (657)\n",
      "q is 1\n",
      "Happy (658)\n",
      "q is 1\n",
      "Happy (659)\n",
      "q is 1\n"
     ]
    },
    {
     "name": "stderr",
     "output_type": "stream",
     "text": [
      "\r",
      " 95%|██████████████████████████████████████████████████████████████████████████    | 7121/7496 [01:00<00:03, 97.77it/s]"
     ]
    },
    {
     "name": "stdout",
     "output_type": "stream",
     "text": [
      "Happy (66)\n",
      "q is 1\n",
      "Happy (660)\n",
      "q is 1\n",
      "Happy (661)\n",
      "q is 1\n",
      "Happy (662)\n",
      "q is 1\n",
      "Happy (663)\n",
      "q is 1\n",
      "Happy (664)\n",
      "q is 1\n",
      "Happy (665)\n",
      "q is 1\n",
      "Happy (666)\n",
      "q is 1\n",
      "Happy (667)\n",
      "q is 1\n",
      "Happy (668)\n",
      "q is 1\n",
      "Happy (669)\n",
      "q is 1\n",
      "Happy (67)\n",
      "q is 1\n"
     ]
    },
    {
     "name": "stderr",
     "output_type": "stream",
     "text": [
      "\r",
      " 95%|█████████████████████████████████████████████████████████████████████████▎   | 7133/7496 [01:00<00:03, 102.80it/s]"
     ]
    },
    {
     "name": "stdout",
     "output_type": "stream",
     "text": [
      "Happy (670)\n",
      "q is 1\n",
      "Happy (671)\n",
      "q is 1\n",
      "Happy (672)\n",
      "q is 1\n",
      "Happy (673)\n",
      "q is 1\n",
      "Happy (674)\n",
      "q is 1\n",
      "Happy (675)\n",
      "q is 1\n",
      "Happy (676)\n",
      "q is 1\n",
      "Happy (677)\n",
      "q is 1\n",
      "Happy (678)\n",
      "q is 1\n",
      "Happy (679)\n",
      "q is 1\n",
      "Happy (68)\n",
      "q is 1\n",
      "Happy (680)\n",
      "q is 1\n",
      "Happy (681)\n",
      "q is 1\n"
     ]
    },
    {
     "name": "stderr",
     "output_type": "stream",
     "text": [
      "\r",
      " 95%|█████████████████████████████████████████████████████████████████████████▍   | 7146/7496 [01:00<00:03, 107.59it/s]"
     ]
    },
    {
     "name": "stdout",
     "output_type": "stream",
     "text": [
      "Happy (682)\n",
      "q is 1\n",
      "Happy (683)\n",
      "q is 1\n",
      "Happy (684)\n",
      "q is 1\n",
      "Happy (685)\n",
      "q is 1\n",
      "Happy (686)\n",
      "q is 1\n",
      "Happy (687)\n",
      "q is 1\n",
      "Happy (688)\n",
      "q is 1\n",
      "Happy (689)\n",
      "q is 1\n",
      "Happy (69)\n",
      "q is 1\n",
      "Happy (690)\n",
      "q is 1\n",
      "Happy (691)\n",
      "q is 1\n",
      "Happy (692)\n",
      "q is 1\n"
     ]
    },
    {
     "name": "stderr",
     "output_type": "stream",
     "text": [
      "\r",
      " 95%|██████████████████████████████████████████████████████████████████████████▍   | 7158/7496 [01:00<00:03, 94.16it/s]"
     ]
    },
    {
     "name": "stdout",
     "output_type": "stream",
     "text": [
      "Happy (693)\n",
      "q is 1\n",
      "Happy (694)\n",
      "q is 1\n",
      "Happy (695)\n",
      "q is 1\n",
      "Happy (696)\n",
      "q is 1\n",
      "Happy (697)\n",
      "q is 1\n",
      "Happy (698)\n",
      "q is 1\n",
      "Happy (699)\n",
      "q is 1\n",
      "Happy (7)\n",
      "q is 1\n",
      "Happy (70)\n",
      "q is 1\n",
      "Happy (700)\n",
      "q is 1\n",
      "Happy (701)\n",
      "q is 1\n",
      "Happy (702)\n",
      "q is 1\n",
      "Happy (703)\n",
      "q is 1\n"
     ]
    },
    {
     "name": "stderr",
     "output_type": "stream",
     "text": [
      "\r",
      " 96%|█████████████████████████████████████████████████████████████████████████▋   | 7171/7496 [01:00<00:03, 101.99it/s]"
     ]
    },
    {
     "name": "stdout",
     "output_type": "stream",
     "text": [
      "Happy (704)\n",
      "q is 1\n",
      "Happy (705)\n",
      "q is 1\n",
      "Happy (706)\n",
      "q is 1\n",
      "Happy (707)\n",
      "q is 1\n",
      "Happy (708)\n",
      "q is 1\n",
      "Happy (709)\n",
      "q is 1\n",
      "Happy (71)\n",
      "q is 1\n",
      "Happy (710)\n",
      "q is 1\n",
      "Happy (711)\n",
      "q is 1\n",
      "Happy (712)\n",
      "q is 1\n",
      "Happy (713)\n",
      "q is 1\n",
      "Happy (714)\n",
      "q is 1\n",
      "Happy (715)\n",
      "q is 1\n"
     ]
    },
    {
     "name": "stderr",
     "output_type": "stream",
     "text": [
      "\r",
      " 96%|█████████████████████████████████████████████████████████████████████████▊   | 7184/7496 [01:00<00:02, 107.49it/s]"
     ]
    },
    {
     "name": "stdout",
     "output_type": "stream",
     "text": [
      "Happy (716)\n",
      "q is 1\n",
      "Happy (717)\n",
      "q is 1\n",
      "Happy (718)\n",
      "q is 1\n",
      "Happy (719)\n",
      "q is 1\n",
      "Happy (72)\n",
      "q is 1\n",
      "Happy (720)\n",
      "q is 1\n",
      "Happy (721)\n",
      "q is 1\n",
      "Happy (722)\n",
      "q is 1\n",
      "Happy (723)\n",
      "q is 1\n",
      "Happy (724)\n",
      "q is 1\n",
      "Happy (725)\n",
      "q is 1\n",
      "Happy (726)\n",
      "q is 1\n"
     ]
    },
    {
     "name": "stderr",
     "output_type": "stream",
     "text": [
      "\r",
      " 96%|█████████████████████████████████████████████████████████████████████████▉   | 7196/7496 [01:00<00:02, 103.05it/s]"
     ]
    },
    {
     "name": "stdout",
     "output_type": "stream",
     "text": [
      "Happy (727)\n",
      "q is 1\n",
      "Happy (728)\n",
      "q is 1\n",
      "Happy (729)\n",
      "q is 1\n",
      "Happy (73)\n",
      "q is 1\n",
      "Happy (730)\n",
      "q is 1\n",
      "Happy (731)\n",
      "q is 1\n",
      "Happy (732)\n",
      "q is 1\n",
      "Happy (733)\n",
      "q is 1\n",
      "Happy (734)\n",
      "q is 1\n",
      "Happy (735)\n",
      "q is 1\n",
      "Happy (736)\n",
      "q is 1\n",
      "Happy (737)\n",
      "q is 1\n",
      "Happy (738)\n",
      "q is 1\n"
     ]
    },
    {
     "name": "stderr",
     "output_type": "stream",
     "text": [
      "\r",
      " 96%|██████████████████████████████████████████████████████████████████████████   | 7209/7496 [01:01<00:02, 108.86it/s]"
     ]
    },
    {
     "name": "stdout",
     "output_type": "stream",
     "text": [
      "Happy (739)\n",
      "q is 1\n",
      "Happy (74)\n",
      "q is 1\n",
      "Happy (740)\n",
      "q is 1\n",
      "Happy (741)\n",
      "q is 1\n",
      "Happy (742)\n",
      "q is 1\n",
      "Happy (743)\n",
      "q is 1\n",
      "Happy (744)\n",
      "q is 1\n",
      "Happy (745)\n",
      "q is 1\n",
      "Happy (746)\n",
      "q is 1\n",
      "Happy (747)\n",
      "q is 1\n",
      "Happy (748)\n",
      "q is 1\n",
      "Happy (749)\n",
      "q is 1\n"
     ]
    },
    {
     "name": "stderr",
     "output_type": "stream",
     "text": [
      "\r",
      " 96%|██████████████████████████████████████████████████████████████████████████▏  | 7221/7496 [01:01<00:02, 107.84it/s]"
     ]
    },
    {
     "name": "stdout",
     "output_type": "stream",
     "text": [
      "Happy (75)\n",
      "q is 1\n",
      "Happy (750)\n",
      "q is 1\n",
      "Happy (751)\n",
      "q is 1\n",
      "Happy (752)\n",
      "q is 1\n",
      "Happy (753)\n",
      "q is 1\n",
      "Happy (754)\n",
      "q is 1\n",
      "Happy (755)\n",
      "q is 1\n",
      "Happy (756)\n",
      "q is 1\n",
      "Happy (757)\n",
      "q is 1\n",
      "Happy (758)\n",
      "q is 1\n",
      "Happy (759)\n",
      "q is 1\n",
      "Happy (76)\n",
      "q is 1\n",
      "Happy (760)\n",
      "q is 1\n"
     ]
    },
    {
     "name": "stderr",
     "output_type": "stream",
     "text": [
      "\r",
      " 97%|██████████████████████████████████████████████████████████████████████████▎  | 7234/7496 [01:01<00:02, 111.12it/s]"
     ]
    },
    {
     "name": "stdout",
     "output_type": "stream",
     "text": [
      "Happy (761)\n",
      "q is 1\n",
      "Happy (762)\n",
      "q is 1\n",
      "Happy (763)\n",
      "q is 1\n",
      "Happy (764)\n",
      "q is 1\n",
      "Happy (765)\n",
      "q is 1\n",
      "Happy (766)\n",
      "q is 1\n",
      "Happy (767)\n",
      "q is 1\n",
      "Happy (768)\n",
      "q is 1\n",
      "Happy (769)\n",
      "q is 1\n",
      "Happy (77)\n",
      "q is 1\n",
      "Happy (770)\n",
      "q is 1\n",
      "Happy (771)\n",
      "q is 1\n"
     ]
    },
    {
     "name": "stderr",
     "output_type": "stream",
     "text": [
      "\r",
      " 97%|██████████████████████████████████████████████████████████████████████████▍  | 7246/7496 [01:01<00:02, 109.68it/s]"
     ]
    },
    {
     "name": "stdout",
     "output_type": "stream",
     "text": [
      "Happy (772)\n",
      "q is 1\n",
      "Happy (773)\n",
      "q is 1\n",
      "Happy (774)\n",
      "q is 1\n",
      "Happy (775)\n",
      "q is 1\n",
      "Happy (776)\n",
      "q is 1\n",
      "Happy (777)\n",
      "q is 1\n",
      "Happy (778)\n",
      "q is 1\n",
      "Happy (779)\n",
      "q is 1\n",
      "Happy (78)\n",
      "q is 1\n",
      "Happy (780)\n",
      "q is 1\n",
      "Happy (781)\n",
      "q is 1\n",
      "Happy (782)\n",
      "q is 1\n",
      "Happy (783)\n",
      "q is 1\n"
     ]
    },
    {
     "name": "stderr",
     "output_type": "stream",
     "text": [
      "\r",
      " 97%|██████████████████████████████████████████████████████████████████████████▌  | 7259/7496 [01:01<00:02, 113.06it/s]"
     ]
    },
    {
     "name": "stdout",
     "output_type": "stream",
     "text": [
      "Happy (784)\n",
      "q is 1\n",
      "Happy (785)\n",
      "q is 1\n",
      "Happy (786)\n",
      "q is 1\n",
      "Happy (787)\n",
      "q is 1\n",
      "Happy (788)\n",
      "q is 1\n",
      "Happy (789)\n",
      "q is 1\n",
      "Happy (79)\n",
      "q is 1\n",
      "Happy (790)\n",
      "q is 1\n",
      "Happy (791)\n",
      "q is 1\n",
      "Happy (792)\n",
      "q is 1\n",
      "Happy (793)\n",
      "q is 1\n"
     ]
    },
    {
     "name": "stdout",
     "output_type": "stream",
     "text": [
      "[array([1, 0]), array([1, 0]), array([1, 0]), array([1, 0]), array([1, 0]), array([1, 0]), array([1, 0]), array([1, 0]), array([1, 0]), array([1, 0]), array([1, 0]), array([1, 0]), array([1, 0]), array([1, 0]), array([1, 0]), array([1, 0]), array([1, 0]), array([1, 0]), array([1, 0]), array([1, 0]), array([1, 0]), array([1, 0]), array([1, 0]), array([1, 0]), array([1, 0]), array([1, 0]), array([1, 0]), array([1, 0]), array([1, 0]), array([1, 0]), array([1, 0]), array([1, 0]), array([1, 0]), array([1, 0]), array([1, 0]), array([1, 0]), array([1, 0]), array([1, 0]), array([1, 0]), array([1, 0]), array([1, 0]), array([1, 0]), array([1, 0]), array([1, 0]), array([1, 0]), array([1, 0]), array([1, 0]), array([1, 0]), array([1, 0]), array([1, 0]), array([1, 0]), array([1, 0]), array([1, 0]), array([1, 0]), array([1, 0]), array([1, 0]), array([1, 0]), array([1, 0]), array([1, 0]), array([1, 0]), array([1, 0]), array([1, 0]), array([1, 0]), array([1, 0]), array([1, 0]), array([1, 0]), array([1, 0]), array([1, 0]), array([1, 0]), array([1, 0]), array([1, 0]), array([1, 0]), array([1, 0]), array([1, 0]), array([1, 0]), array([1, 0]), array([1, 0]), array([1, 0]), array([1, 0]), array([1, 0]), array([1, 0]), array([1, 0]), array([1, 0]), array([1, 0]), array([1, 0]), array([1, 0]), array([1, 0]), array([1, 0]), array([1, 0]), array([1, 0]), array([1, 0]), array([1, 0]), array([1, 0]), array([1, 0]), array([1, 0]), array([1, 0]), array([1, 0]), array([1, 0]), array([1, 0]), array([1, 0]), array([1, 0]), array([1, 0]), array([1, 0]), array([1, 0]), array([1, 0]), array([1, 0]), array([1, 0]), array([1, 0]), array([1, 0]), array([1, 0]), array([1, 0]), array([1, 0]), array([1, 0]), array([1, 0]), array([1, 0]), array([1, 0]), array([1, 0]), array([1, 0]), array([1, 0]), array([1, 0]), array([1, 0]), array([1, 0]), array([1, 0]), array([1, 0]), array([1, 0]), array([1, 0]), array([1, 0]), array([1, 0]), array([1, 0]), array([1, 0]), array([1, 0]), array([1, 0]), array([1, 0]), array([1, 0]), array([1, 0]), array([1, 0]), array([1, 0]), array([1, 0]), array([1, 0]), array([1, 0]), array([1, 0]), array([1, 0]), array([1, 0]), array([1, 0]), array([1, 0]), array([1, 0]), array([1, 0]), array([1, 0]), array([1, 0]), array([1, 0]), array([1, 0]), array([1, 0]), array([1, 0]), array([1, 0]), array([1, 0]), array([1, 0]), array([1, 0]), array([1, 0]), array([1, 0]), array([1, 0]), array([1, 0]), array([1, 0]), array([1, 0]), array([1, 0]), array([1, 0]), array([1, 0]), array([1, 0]), array([1, 0]), array([1, 0]), array([1, 0]), array([1, 0]), array([1, 0]), array([1, 0]), array([1, 0]), array([1, 0]), array([1, 0]), array([1, 0]), array([1, 0]), array([1, 0]), array([1, 0]), array([1, 0]), array([1, 0]), array([1, 0]), array([1, 0]), array([1, 0]), array([1, 0]), array([1, 0]), array([1, 0]), array([1, 0]), array([1, 0]), array([1, 0]), array([1, 0]), array([1, 0]), array([1, 0]), array([1, 0]), array([1, 0]), array([1, 0]), array([1, 0]), array([1, 0]), array([1, 0]), array([1, 0]), array([1, 0]), array([1, 0]), array([1, 0]), array([1, 0]), array([1, 0]), array([1, 0]), array([1, 0]), array([1, 0]), array([1, 0]), array([1, 0]), array([1, 0]), array([1, 0]), array([1, 0]), array([1, 0]), array([1, 0]), array([1, 0]), array([1, 0]), array([1, 0]), array([1, 0]), array([1, 0]), array([1, 0]), array([1, 0]), array([1, 0]), array([1, 0]), array([1, 0]), array([1, 0]), array([1, 0]), array([1, 0]), array([1, 0]), array([1, 0]), array([1, 0]), array([1, 0]), array([1, 0]), array([1, 0]), array([1, 0]), array([1, 0]), array([1, 0]), array([1, 0]), array([1, 0]), array([1, 0]), array([1, 0]), array([1, 0]), array([1, 0]), array([1, 0]), array([1, 0]), array([1, 0]), array([1, 0]), array([1, 0]), array([1, 0]), array([1, 0]), array([1, 0]), array([1, 0]), array([1, 0]), array([1, 0]), array([1, 0]), array([1, 0]), array([1, 0]), array([1, 0]), array([1, 0]), array([1, 0]), array([1, 0]), array([1, 0]), array([1, 0]), array([1, 0]), array([1, 0]), array([1, 0]), array([1, 0]), array([1, 0]), array([1, 0]), array([1, 0]), array([1, 0]), array([1, 0]), array([1, 0]), array([1, 0]), array([1, 0]), array([1, 0]), array([1, 0]), array([1, 0]), array([1, 0]), array([1, 0]), array([1, 0]), array([1, 0]), array([1, 0]), array([1, 0]), array([1, 0]), array([1, 0]), array([1, 0]), array([1, 0]), array([1, 0]), array([1, 0]), array([1, 0]), array([1, 0]), array([1, 0]), array([1, 0]), array([1, 0]), array([1, 0]), array([1, 0]), array([1, 0]), array([1, 0]), array([1, 0]), array([1, 0]), array([1, 0]), array([1, 0]), array([1, 0]), array([1, 0]), array([1, 0]), array([1, 0]), array([1, 0]), array([1, 0]), array([1, 0]), array([1, 0]), array([1, 0]), array([1, 0]), array([1, 0]), array([1, 0]), array([1, 0]), array([1, 0]), array([1, 0]), array([1, 0]), array([1, 0]), array([1, 0]), array([1, 0]), array([1, 0]), array([1, 0]), array([1, 0]), array([1, 0]), array([1, 0]), array([1, 0]), array([1, 0]), array([1, 0]), array([1, 0]), array([1, 0]), array([1, 0]), array([1, 0]), array([1, 0]), array([1, 0]), array([1, 0]), array([1, 0]), array([1, 0]), array([1, 0]), array([1, 0]), array([1, 0]), array([1, 0]), array([1, 0]), array([1, 0]), array([1, 0]), array([1, 0]), array([1, 0]), array([1, 0]), array([1, 0]), array([1, 0]), array([1, 0]), array([1, 0]), array([1, 0]), array([1, 0]), array([1, 0]), array([1, 0]), array([1, 0]), array([1, 0]), array([1, 0]), array([1, 0]), array([1, 0]), array([1, 0]), array([1, 0]), array([1, 0]), array([1, 0]), array([1, 0]), array([1, 0]), array([1, 0]), array([1, 0]), array([1, 0]), array([1, 0]), array([1, 0]), array([1, 0]), array([1, 0]), array([1, 0]), array([1, 0]), array([1, 0]), array([1, 0]), array([1, 0]), array([1, 0]), array([1, 0]), array([1, 0]), array([1, 0]), array([1, 0]), array([1, 0]), array([1, 0]), array([1, 0]), array([1, 0]), array([1, 0]), array([1, 0]), array([1, 0]), array([1, 0]), array([1, 0]), array([1, 0]), array([1, 0]), array([1, 0]), array([1, 0]), array([1, 0]), array([1, 0]), array([1, 0]), array([1, 0]), array([1, 0]), array([1, 0]), array([1, 0]), array([1, 0]), array([1, 0]), array([1, 0]), array([1, 0]), array([1, 0]), array([1, 0]), array([1, 0]), array([1, 0]), array([1, 0]), array([1, 0]), array([1, 0]), array([1, 0]), array([1, 0]), array([1, 0]), array([1, 0]), array([1, 0]), array([1, 0]), array([1, 0]), array([1, 0]), array([1, 0]), array([1, 0]), array([1, 0]), array([1, 0]), array([1, 0]), array([1, 0]), array([1, 0]), array([1, 0]), array([1, 0]), array([1, 0]), array([1, 0]), array([1, 0]), array([1, 0]), array([1, 0]), array([1, 0]), array([1, 0]), array([1, 0]), array([1, 0]), array([1, 0]), array([1, 0]), array([1, 0]), array([1, 0]), array([1, 0]), array([1, 0]), array([1, 0]), array([1, 0]), array([1, 0]), array([1, 0]), array([1, 0]), array([1, 0]), array([1, 0]), array([1, 0]), array([1, 0]), array([1, 0]), array([1, 0]), array([1, 0]), array([1, 0]), array([1, 0]), array([1, 0]), array([1, 0]), array([1, 0]), array([1, 0]), array([1, 0]), array([1, 0]), array([1, 0]), array([1, 0]), array([1, 0]), array([1, 0]), array([1, 0]), array([1, 0]), array([1, 0]), array([1, 0]), array([1, 0]), array([1, 0]), array([1, 0]), array([1, 0]), array([1, 0]), array([1, 0]), array([1, 0]), array([1, 0]), array([1, 0]), array([1, 0]), array([1, 0]), array([1, 0]), array([1, 0]), array([1, 0]), array([1, 0]), array([1, 0]), array([1, 0]), array([1, 0]), array([1, 0]), array([1, 0]), array([1, 0]), array([1, 0]), array([1, 0]), array([1, 0]), array([1, 0]), array([1, 0]), array([1, 0]), array([1, 0]), array([1, 0]), array([1, 0]), array([1, 0]), array([1, 0]), array([1, 0]), array([1, 0]), array([1, 0]), array([1, 0]), array([1, 0]), array([1, 0]), array([1, 0]), array([1, 0]), array([1, 0]), array([1, 0]), array([1, 0]), array([1, 0]), array([1, 0]), array([1, 0]), array([1, 0]), array([1, 0]), array([1, 0]), array([1, 0]), array([1, 0]), array([1, 0]), array([1, 0]), array([1, 0]), array([1, 0]), array([1, 0]), array([1, 0]), array([1, 0]), array([1, 0]), array([1, 0]), array([1, 0]), array([1, 0]), array([1, 0]), array([1, 0]), array([1, 0]), array([1, 0]), array([1, 0]), array([1, 0]), array([1, 0]), array([1, 0]), array([1, 0]), array([1, 0]), array([1, 0]), array([1, 0]), array([1, 0]), array([1, 0]), array([1, 0]), array([1, 0]), array([1, 0]), array([1, 0]), array([1, 0]), array([1, 0]), array([1, 0]), array([1, 0]), array([1, 0]), array([1, 0]), array([1, 0]), array([1, 0]), array([1, 0]), array([1, 0]), array([1, 0]), array([1, 0]), array([1, 0]), array([1, 0]), array([1, 0]), array([1, 0]), array([1, 0]), array([1, 0]), array([1, 0]), array([1, 0]), array([1, 0]), array([1, 0]), array([1, 0]), array([1, 0]), array([1, 0]), array([1, 0]), array([1, 0]), array([1, 0]), array([1, 0]), array([1, 0]), array([1, 0]), array([1, 0]), array([1, 0]), array([1, 0]), array([1, 0]), array([1, 0]), array([1, 0]), array([1, 0]), array([1, 0]), array([1, 0]), array([1, 0]), array([1, 0]), array([1, 0]), array([1, 0]), array([1, 0]), array([1, 0]), array([1, 0]), array([1, 0]), array([1, 0]), array([1, 0]), array([1, 0]), array([1, 0]), array([1, 0]), array([1, 0]), array([1, 0]), array([1, 0]), array([1, 0]), array([1, 0]), array([1, 0]), array([1, 0]), array([1, 0]), array([1, 0]), array([1, 0]), array([1, 0]), array([1, 0]), array([1, 0]), array([1, 0]), array([1, 0]), array([1, 0]), array([1, 0]), array([1, 0]), array([1, 0]), array([1, 0]), array([1, 0]), array([1, 0]), array([1, 0]), array([1, 0]), array([1, 0]), array([1, 0]), array([1, 0]), array([1, 0]), array([1, 0]), array([1, 0]), array([1, 0]), array([1, 0]), array([1, 0]), array([1, 0]), array([1, 0]), array([1, 0]), array([1, 0]), array([1, 0]), array([1, 0]), array([1, 0]), array([1, 0]), array([1, 0]), array([1, 0]), array([1, 0]), array([1, 0]), array([1, 0]), array([1, 0]), array([1, 0]), array([1, 0]), array([1, 0]), array([1, 0]), array([1, 0]), array([1, 0]), array([1, 0]), array([1, 0]), array([1, 0]), array([1, 0]), array([1, 0]), array([1, 0]), array([1, 0]), array([1, 0]), array([1, 0]), array([1, 0]), array([1, 0]), array([1, 0]), array([1, 0]), array([1, 0]), array([1, 0]), array([1, 0]), array([1, 0]), array([1, 0]), array([1, 0]), array([1, 0]), array([1, 0]), array([1, 0]), array([1, 0]), array([1, 0]), array([1, 0]), array([1, 0]), array([1, 0]), array([1, 0]), array([1, 0]), array([1, 0]), array([1, 0]), array([1, 0]), array([1, 0]), array([1, 0]), array([1, 0]), array([1, 0]), array([1, 0]), array([1, 0]), array([1, 0]), array([1, 0]), array([1, 0]), array([1, 0]), array([1, 0]), array([1, 0]), array([1, 0]), array([1, 0]), array([1, 0]), array([1, 0]), array([1, 0]), array([1, 0]), array([1, 0]), array([1, 0]), array([1, 0]), array([1, 0]), array([1, 0]), array([1, 0]), array([1, 0]), array([1, 0]), array([1, 0]), array([1, 0]), array([1, 0]), array([1, 0]), array([1, 0]), array([1, 0]), array([1, 0]), array([1, 0]), array([1, 0]), array([1, 0]), array([1, 0]), array([1, 0]), array([1, 0]), array([1, 0]), array([1, 0]), array([1, 0]), array([1, 0]), array([1, 0]), array([1, 0]), array([1, 0]), array([1, 0]), array([1, 0]), array([1, 0]), array([1, 0]), array([1, 0]), array([1, 0]), array([1, 0]), array([1, 0]), array([1, 0]), array([1, 0]), array([1, 0]), array([1, 0]), array([1, 0]), array([1, 0]), array([1, 0]), array([1, 0]), array([1, 0]), array([1, 0]), array([1, 0]), array([1, 0]), array([1, 0]), array([1, 0]), array([1, 0]), array([1, 0]), array([1, 0]), array([1, 0]), array([1, 0]), array([1, 0]), array([1, 0]), array([1, 0]), array([1, 0]), array([1, 0]), array([1, 0]), array([1, 0]), array([1, 0]), array([1, 0]), array([1, 0]), array([1, 0]), array([1, 0]), array([1, 0]), array([1, 0]), array([1, 0]), array([1, 0]), array([1, 0]), array([1, 0]), array([1, 0]), array([1, 0]), array([1, 0]), array([1, 0]), array([1, 0]), array([1, 0]), array([1, 0]), array([1, 0]), array([1, 0]), array([1, 0]), array([1, 0]), array([1, 0]), array([1, 0]), array([1, 0]), array([1, 0]), array([1, 0]), array([1, 0]), array([1, 0]), array([1, 0]), array([1, 0]), array([1, 0]), array([1, 0]), array([1, 0]), array([1, 0]), array([1, 0]), array([1, 0]), array([1, 0]), array([1, 0]), array([1, 0]), array([1, 0]), array([1, 0]), array([1, 0]), array([1, 0]), array([1, 0]), array([1, 0]), array([1, 0]), array([1, 0]), array([1, 0]), array([1, 0]), array([1, 0]), array([1, 0]), array([1, 0]), array([1, 0]), array([1, 0]), array([1, 0]), array([1, 0]), array([1, 0]), array([1, 0]), array([1, 0]), array([1, 0]), array([1, 0]), array([1, 0]), array([1, 0]), array([1, 0]), array([1, 0]), array([1, 0]), array([1, 0]), array([1, 0]), array([1, 0]), array([1, 0]), array([1, 0]), array([1, 0]), array([1, 0]), array([1, 0]), array([1, 0]), array([1, 0]), array([1, 0]), array([1, 0]), array([1, 0]), array([1, 0]), array([1, 0]), array([1, 0]), array([1, 0]), array([1, 0]), array([1, 0]), array([1, 0]), array([1, 0]), array([1, 0]), array([1, 0]), array([1, 0]), array([1, 0]), array([1, 0]), array([1, 0]), array([1, 0]), array([1, 0]), array([1, 0]), array([1, 0]), array([1, 0]), array([1, 0]), array([1, 0]), array([1, 0]), array([1, 0]), array([1, 0]), array([1, 0]), array([1, 0]), array([1, 0]), array([1, 0]), array([1, 0]), array([1, 0]), array([1, 0]), array([1, 0]), array([1, 0]), array([1, 0]), array([1, 0]), array([1, 0]), array([1, 0]), array([1, 0]), array([1, 0]), array([1, 0]), array([1, 0]), array([1, 0]), array([1, 0]), array([1, 0]), array([1, 0]), array([1, 0]), array([1, 0]), array([1, 0]), array([1, 0]), array([1, 0]), array([1, 0]), array([1, 0]), array([1, 0]), array([1, 0]), array([1, 0]), array([1, 0]), array([1, 0]), array([1, 0]), array([1, 0]), array([1, 0]), array([1, 0]), array([1, 0]), array([1, 0]), array([1, 0]), array([1, 0]), array([1, 0]), array([1, 0]), array([1, 0]), array([1, 0]), array([1, 0]), array([1, 0]), array([1, 0]), array([1, 0]), array([1, 0]), array([1, 0]), array([1, 0]), array([1, 0]), array([1, 0]), array([1, 0]), array([1, 0]), array([1, 0]), array([1, 0]), array([1, 0]), array([1, 0]), array([1, 0]), array([1, 0]), array([1, 0]), array([1, 0]), array([1, 0]), array([1, 0]), array([1, 0]), array([1, 0]), array([1, 0]), array([1, 0]), array([1, 0]), array([1, 0]), array([1, 0]), array([1, 0]), array([1, 0]), array([1, 0]), array([1, 0]), array([1, 0]), array([1, 0]), array([1, 0]), array([1, 0]), array([1, 0]), array([1, 0]), array([1, 0]), array([1, 0]), array([1, 0]), array([1, 0]), array([1, 0]), array([1, 0]), array([1, 0]), array([1, 0]), array([1, 0]), array([1, 0]), array([1, 0]), array([1, 0]), array([1, 0]), array([1, 0]), array([1, 0]), array([1, 0]), array([1, 0]), array([1, 0]), array([1, 0]), array([1, 0]), array([1, 0]), array([1, 0]), array([1, 0]), array([1, 0]), array([1, 0]), array([1, 0]), array([1, 0]), array([1, 0]), array([1, 0]), array([1, 0]), array([1, 0]), array([1, 0]), array([1, 0]), array([1, 0]), array([1, 0]), array([1, 0]), array([1, 0]), array([1, 0]), array([1, 0]), array([1, 0]), array([1, 0]), array([1, 0]), array([1, 0]), array([1, 0]), array([1, 0]), array([1, 0]), array([1, 0]), array([1, 0]), array([1, 0]), array([1, 0]), array([1, 0]), array([1, 0]), array([1, 0]), array([1, 0]), array([1, 0]), array([1, 0]), array([1, 0]), array([1, 0]), array([1, 0]), array([1, 0]), array([1, 0]), array([1, 0]), array([1, 0]), array([1, 0]), array([1, 0]), array([1, 0]), array([1, 0]), array([1, 0]), array([1, 0]), array([1, 0]), array([1, 0]), array([1, 0]), array([1, 0]), array([1, 0]), array([1, 0]), array([1, 0]), array([1, 0]), array([1, 0]), array([1, 0]), array([1, 0]), array([1, 0]), array([1, 0]), array([1, 0]), array([1, 0]), array([1, 0]), array([1, 0]), array([1, 0]), array([1, 0]), array([1, 0]), array([1, 0]), array([1, 0]), array([1, 0]), array([1, 0]), array([1, 0]), array([1, 0]), array([1, 0]), array([1, 0]), array([1, 0]), array([1, 0]), array([1, 0]), array([1, 0]), array([1, 0]), array([1, 0]), array([1, 0]), array([1, 0]), array([1, 0]), array([1, 0]), array([1, 0]), array([1, 0]), array([1, 0]), array([1, 0]), array([1, 0]), array([1, 0]), array([1, 0]), array([1, 0]), array([1, 0]), array([1, 0]), array([1, 0]), array([1, 0]), array([1, 0]), array([1, 0]), array([1, 0]), array([1, 0]), array([1, 0]), array([1, 0]), array([1, 0]), array([1, 0]), array([1, 0]), array([1, 0]), array([1, 0]), array([1, 0]), array([1, 0]), array([1, 0]), array([1, 0]), array([1, 0]), array([1, 0]), array([1, 0]), array([1, 0]), array([1, 0]), array([1, 0]), array([1, 0]), array([1, 0]), array([1, 0]), array([1, 0]), array([1, 0]), array([1, 0]), array([1, 0]), array([1, 0]), array([1, 0]), array([1, 0]), array([1, 0]), array([1, 0]), array([1, 0]), array([1, 0]), array([1, 0]), array([1, 0]), array([1, 0]), array([1, 0]), array([1, 0]), array([1, 0]), array([1, 0]), array([1, 0]), array([1, 0]), array([1, 0]), array([1, 0]), array([1, 0]), array([1, 0]), array([1, 0]), array([1, 0]), array([1, 0]), array([1, 0]), array([1, 0]), array([1, 0]), array([1, 0]), array([1, 0]), array([1, 0]), array([1, 0]), array([1, 0]), array([1, 0]), array([1, 0]), array([1, 0]), array([1, 0]), array([1, 0]), array([1, 0]), array([1, 0]), array([1, 0]), array([1, 0]), array([1, 0]), array([1, 0]), array([1, 0]), array([1, 0]), array([1, 0]), array([1, 0]), array([1, 0]), array([1, 0]), array([1, 0]), array([1, 0]), array([1, 0]), array([1, 0]), array([1, 0]), array([1, 0]), array([1, 0]), array([1, 0]), array([1, 0]), array([1, 0]), array([1, 0]), array([1, 0]), array([1, 0]), array([1, 0]), array([1, 0]), array([1, 0]), array([1, 0]), array([1, 0]), array([1, 0]), array([1, 0]), array([1, 0]), array([1, 0]), array([1, 0]), array([1, 0]), array([1, 0]), array([1, 0]), array([1, 0]), array([1, 0]), array([1, 0]), array([1, 0]), array([1, 0]), array([1, 0]), array([1, 0]), array([1, 0]), array([1, 0]), array([1, 0]), array([1, 0]), array([1, 0]), array([1, 0]), array([1, 0]), array([1, 0]), array([1, 0]), array([1, 0]), array([1, 0]), array([1, 0]), array([1, 0]), array([1, 0]), array([1, 0]), array([1, 0]), array([1, 0]), array([1, 0]), array([1, 0]), array([1, 0]), array([1, 0]), array([1, 0]), array([1, 0]), array([1, 0]), array([1, 0]), array([1, 0]), array([1, 0]), array([1, 0]), array([1, 0]), array([1, 0]), array([1, 0]), array([1, 0]), array([1, 0]), array([1, 0]), array([1, 0]), array([1, 0]), array([1, 0]), array([1, 0]), array([1, 0]), array([1, 0]), array([1, 0]), array([1, 0]), array([1, 0]), array([1, 0]), array([1, 0]), array([1, 0]), array([1, 0]), array([1, 0]), array([1, 0]), array([1, 0]), array([1, 0]), array([1, 0]), array([1, 0]), array([1, 0]), array([1, 0]), array([1, 0]), array([1, 0]), array([1, 0]), array([1, 0]), array([1, 0]), array([1, 0]), array([1, 0]), array([1, 0]), array([1, 0]), array([1, 0]), array([1, 0]), array([1, 0]), array([1, 0]), array([1, 0]), array([1, 0]), array([1, 0]), array([1, 0]), array([1, 0]), array([1, 0]), array([1, 0]), array([1, 0]), array([1, 0]), array([1, 0]), array([1, 0]), array([1, 0]), array([1, 0]), array([1, 0]), array([1, 0]), array([1, 0]), array([1, 0]), array([1, 0]), array([1, 0]), array([1, 0]), array([1, 0]), array([1, 0]), array([1, 0]), array([1, 0]), array([1, 0]), array([1, 0]), array([1, 0]), array([1, 0]), array([1, 0]), array([1, 0]), array([1, 0]), array([1, 0]), array([1, 0]), array([1, 0]), array([1, 0]), array([1, 0]), array([1, 0]), array([1, 0]), array([1, 0]), array([1, 0]), array([1, 0]), array([1, 0]), array([1, 0]), array([1, 0]), array([1, 0]), array([1, 0]), array([1, 0]), array([1, 0]), array([1, 0]), array([1, 0]), array([1, 0]), array([1, 0]), array([1, 0]), array([1, 0]), array([1, 0]), array([1, 0]), array([1, 0]), array([1, 0]), array([1, 0]), array([1, 0]), array([1, 0]), array([1, 0]), array([1, 0]), array([1, 0]), array([1, 0]), array([1, 0]), array([1, 0]), array([1, 0]), array([1, 0]), array([1, 0]), array([1, 0]), array([1, 0]), array([1, 0]), array([1, 0]), array([1, 0]), array([1, 0]), array([1, 0]), array([1, 0]), array([1, 0]), array([1, 0]), array([1, 0]), array([1, 0]), array([1, 0]), array([1, 0]), array([1, 0]), array([1, 0]), array([1, 0]), array([1, 0]), array([1, 0]), array([1, 0]), array([1, 0]), array([1, 0]), array([1, 0]), array([1, 0]), array([1, 0]), array([1, 0]), array([1, 0]), array([1, 0]), array([1, 0]), array([1, 0]), array([1, 0]), array([1, 0]), array([1, 0]), array([1, 0]), array([1, 0]), array([1, 0]), array([1, 0]), array([1, 0]), array([1, 0]), array([1, 0]), array([1, 0]), array([1, 0]), array([1, 0]), array([1, 0]), array([1, 0]), array([1, 0]), array([1, 0]), array([1, 0]), array([1, 0]), array([1, 0]), array([1, 0]), array([1, 0]), array([1, 0]), array([1, 0]), array([1, 0]), array([1, 0]), array([1, 0]), array([1, 0]), array([1, 0]), array([1, 0]), array([1, 0]), array([1, 0]), array([1, 0]), array([1, 0]), array([1, 0]), array([1, 0]), array([1, 0]), array([1, 0]), array([1, 0]), array([1, 0]), array([1, 0]), array([1, 0]), array([1, 0]), array([1, 0]), array([1, 0]), array([1, 0]), array([1, 0]), array([1, 0]), array([1, 0]), array([1, 0]), array([1, 0]), array([1, 0]), array([1, 0]), array([1, 0]), array([1, 0]), array([1, 0]), array([1, 0]), array([1, 0]), array([1, 0]), array([1, 0]), array([1, 0]), array([1, 0]), array([1, 0]), array([1, 0]), array([1, 0]), array([1, 0]), array([1, 0]), array([1, 0]), array([1, 0]), array([1, 0]), array([1, 0]), array([1, 0]), array([1, 0]), array([1, 0]), array([1, 0]), array([1, 0]), array([1, 0]), array([1, 0]), array([1, 0]), array([1, 0]), array([1, 0]), array([1, 0]), array([1, 0]), array([1, 0]), array([1, 0]), array([1, 0]), array([1, 0]), array([1, 0]), array([1, 0]), array([1, 0]), array([1, 0]), array([1, 0]), array([1, 0]), array([1, 0]), array([1, 0]), array([1, 0]), array([1, 0]), array([1, 0]), array([1, 0]), array([1, 0]), array([1, 0]), array([1, 0]), array([1, 0]), array([1, 0]), array([1, 0]), array([1, 0]), array([1, 0]), array([1, 0]), array([1, 0]), array([1, 0]), array([1, 0]), array([1, 0]), array([1, 0]), array([1, 0]), array([1, 0]), array([1, 0]), array([1, 0]), array([1, 0]), array([1, 0]), array([1, 0]), array([1, 0]), array([1, 0]), array([1, 0]), array([1, 0]), array([1, 0]), array([1, 0]), array([1, 0]), array([1, 0]), array([1, 0]), array([1, 0]), array([1, 0]), array([1, 0]), array([1, 0]), array([1, 0]), array([1, 0]), array([1, 0]), array([1, 0]), array([1, 0]), array([1, 0]), array([1, 0]), array([1, 0]), array([1, 0]), array([1, 0]), array([1, 0]), array([1, 0]), array([1, 0]), array([1, 0]), array([1, 0]), array([1, 0]), array([1, 0]), array([1, 0]), array([1, 0]), array([1, 0]), array([1, 0]), array([1, 0]), array([1, 0]), array([1, 0]), array([1, 0]), array([1, 0]), array([1, 0]), array([1, 0]), array([1, 0]), array([1, 0]), array([1, 0]), array([1, 0]), array([1, 0]), array([1, 0]), array([1, 0]), array([1, 0]), array([1, 0]), array([1, 0]), array([1, 0]), array([1, 0]), array([1, 0]), array([1, 0]), array([1, 0]), array([1, 0]), array([1, 0]), array([1, 0]), array([1, 0]), array([1, 0]), array([1, 0]), array([1, 0]), array([1, 0]), array([1, 0]), array([1, 0]), array([1, 0]), array([1, 0]), array([1, 0]), array([1, 0]), array([1, 0]), array([1, 0]), array([1, 0]), array([1, 0]), array([1, 0]), array([1, 0]), array([1, 0]), array([1, 0]), array([1, 0]), array([1, 0]), array([1, 0]), array([1, 0]), array([1, 0]), array([1, 0]), array([1, 0]), array([1, 0]), array([1, 0]), array([1, 0]), array([1, 0]), array([1, 0]), array([1, 0]), array([1, 0]), array([1, 0]), array([1, 0]), array([1, 0]), array([1, 0]), array([1, 0]), array([1, 0]), array([1, 0]), array([1, 0]), array([1, 0]), array([1, 0]), array([1, 0]), array([1, 0]), array([1, 0]), array([1, 0]), array([1, 0]), array([1, 0]), array([1, 0]), array([1, 0]), array([1, 0]), array([1, 0]), array([1, 0]), array([1, 0]), array([1, 0]), array([1, 0]), array([1, 0]), array([1, 0]), array([1, 0]), array([1, 0]), array([1, 0]), array([1, 0]), array([1, 0]), array([1, 0]), array([1, 0]), array([1, 0]), array([1, 0]), array([1, 0]), array([1, 0]), array([1, 0]), array([1, 0]), array([1, 0]), array([1, 0]), array([1, 0]), array([1, 0]), array([1, 0]), array([1, 0]), array([1, 0]), array([1, 0]), array([1, 0]), array([1, 0]), array([1, 0]), array([1, 0]), array([1, 0]), array([1, 0]), array([1, 0]), array([1, 0]), array([1, 0]), array([1, 0]), array([1, 0]), array([1, 0]), array([1, 0]), array([1, 0]), array([1, 0]), array([1, 0]), array([1, 0]), array([1, 0]), array([1, 0]), array([1, 0]), array([1, 0]), array([1, 0]), array([1, 0]), array([1, 0]), array([1, 0]), array([1, 0]), array([1, 0]), array([1, 0]), array([1, 0]), array([1, 0]), array([1, 0]), array([1, 0]), array([1, 0]), array([1, 0]), array([1, 0]), array([1, 0]), array([1, 0]), array([1, 0]), array([1, 0]), array([1, 0]), array([1, 0]), array([1, 0]), array([1, 0]), array([1, 0]), array([1, 0]), array([1, 0]), array([1, 0]), array([1, 0]), array([1, 0]), array([1, 0]), array([1, 0]), array([1, 0]), array([1, 0]), array([1, 0]), array([1, 0]), array([1, 0]), array([1, 0]), array([1, 0]), array([1, 0]), array([1, 0]), array([1, 0]), array([1, 0]), array([1, 0]), array([1, 0]), array([1, 0]), array([1, 0]), array([1, 0]), array([1, 0]), array([1, 0]), array([1, 0]), array([1, 0]), array([1, 0]), array([1, 0]), array([1, 0]), array([1, 0]), array([1, 0]), array([1, 0]), array([1, 0]), array([1, 0]), array([1, 0]), array([1, 0]), array([1, 0]), array([1, 0]), array([1, 0]), array([1, 0]), array([1, 0]), array([1, 0]), array([1, 0]), array([1, 0]), array([1, 0]), array([1, 0]), array([1, 0]), array([1, 0]), array([1, 0]), array([1, 0]), array([1, 0]), array([1, 0]), array([1, 0]), array([1, 0]), array([1, 0]), array([1, 0]), array([1, 0]), array([1, 0]), array([1, 0]), array([1, 0]), array([1, 0]), array([1, 0]), array([1, 0]), array([1, 0]), array([1, 0]), array([1, 0]), array([1, 0]), array([1, 0]), array([1, 0]), array([1, 0]), array([1, 0]), array([1, 0]), array([1, 0]), array([1, 0]), array([1, 0]), array([1, 0]), array([1, 0]), array([1, 0]), array([1, 0]), array([1, 0]), array([1, 0]), array([1, 0]), array([1, 0]), array([1, 0]), array([1, 0]), array([1, 0]), array([1, 0]), array([1, 0]), array([1, 0]), array([1, 0]), array([1, 0]), array([1, 0]), array([1, 0]), array([1, 0]), array([1, 0]), array([1, 0]), array([1, 0]), array([1, 0]), array([1, 0]), array([1, 0]), array([1, 0]), array([1, 0]), array([1, 0]), array([1, 0]), array([1, 0]), array([1, 0]), array([1, 0]), array([1, 0]), array([1, 0]), array([1, 0]), array([1, 0]), array([1, 0]), array([1, 0]), array([1, 0]), array([1, 0]), array([1, 0]), array([1, 0]), array([1, 0]), array([1, 0]), array([1, 0]), array([1, 0]), array([1, 0]), array([1, 0]), array([1, 0]), array([1, 0]), array([1, 0]), array([1, 0]), array([1, 0]), array([1, 0]), array([1, 0]), array([1, 0]), array([1, 0]), array([1, 0]), array([1, 0]), array([1, 0]), array([1, 0]), array([1, 0]), array([1, 0]), array([1, 0]), array([1, 0]), array([1, 0]), array([1, 0]), array([1, 0]), array([1, 0]), array([1, 0]), array([1, 0]), array([1, 0]), array([1, 0]), array([1, 0]), array([1, 0]), array([1, 0]), array([1, 0]), array([1, 0]), array([1, 0]), array([1, 0]), array([1, 0]), array([1, 0]), array([1, 0]), array([1, 0]), array([1, 0]), array([1, 0]), array([1, 0]), array([1, 0]), array([1, 0]), array([1, 0]), array([1, 0]), array([1, 0]), array([1, 0]), array([1, 0]), array([1, 0]), array([1, 0]), array([1, 0]), array([1, 0]), array([1, 0]), array([1, 0]), array([1, 0]), array([1, 0]), array([1, 0]), array([1, 0]), array([1, 0]), array([1, 0]), array([1, 0]), array([1, 0]), array([1, 0]), array([1, 0]), array([1, 0]), array([1, 0]), array([1, 0]), array([1, 0]), array([1, 0]), array([1, 0]), array([1, 0]), array([1, 0]), array([1, 0]), array([1, 0]), array([1, 0]), array([1, 0]), array([1, 0]), array([1, 0]), array([1, 0]), array([1, 0]), array([1, 0]), array([1, 0]), array([1, 0]), array([1, 0]), array([1, 0]), array([1, 0]), array([1, 0]), array([1, 0]), array([1, 0]), array([1, 0]), array([1, 0]), array([1, 0]), array([1, 0]), array([1, 0]), array([1, 0]), array([1, 0]), array([1, 0]), array([1, 0]), array([1, 0]), array([1, 0]), array([1, 0]), array([1, 0]), array([1, 0]), array([1, 0]), array([1, 0]), array([1, 0]), array([1, 0]), array([1, 0]), array([1, 0]), array([1, 0]), array([1, 0]), array([1, 0]), array([1, 0]), array([1, 0]), array([1, 0]), array([1, 0]), array([1, 0]), array([1, 0]), array([1, 0]), array([1, 0]), array([1, 0]), array([1, 0]), array([1, 0]), array([1, 0]), array([1, 0]), array([1, 0]), array([1, 0]), array([1, 0]), array([1, 0]), array([1, 0]), array([1, 0]), array([1, 0]), array([1, 0]), array([1, 0]), array([1, 0]), array([1, 0]), array([1, 0]), array([1, 0]), array([1, 0]), array([1, 0]), array([1, 0]), array([1, 0]), array([1, 0]), array([1, 0]), array([1, 0]), array([1, 0]), array([1, 0]), array([1, 0]), array([1, 0]), array([1, 0]), array([1, 0]), array([1, 0]), array([1, 0]), array([1, 0]), array([1, 0]), array([1, 0]), array([1, 0]), array([1, 0]), array([1, 0]), array([1, 0]), array([1, 0]), array([1, 0]), array([1, 0]), array([1, 0]), array([1, 0]), array([1, 0]), array([1, 0]), array([1, 0]), array([1, 0]), array([1, 0]), array([1, 0]), array([1, 0]), array([1, 0]), array([1, 0]), array([1, 0]), array([1, 0]), array([1, 0]), array([1, 0]), array([1, 0]), array([1, 0]), array([1, 0]), array([1, 0]), array([1, 0]), array([1, 0]), array([1, 0]), array([1, 0]), array([1, 0]), array([1, 0]), array([1, 0]), array([1, 0]), array([1, 0]), array([1, 0]), array([1, 0]), array([1, 0]), array([1, 0]), array([1, 0]), array([1, 0]), array([1, 0]), array([1, 0]), array([1, 0]), array([1, 0]), array([1, 0]), array([1, 0]), array([1, 0]), array([1, 0]), array([1, 0]), array([1, 0]), array([1, 0]), array([1, 0]), array([1, 0]), array([1, 0]), array([1, 0]), array([1, 0]), array([1, 0]), array([1, 0]), array([1, 0]), array([1, 0]), array([1, 0]), array([1, 0]), array([1, 0]), array([1, 0]), array([1, 0]), array([1, 0]), array([1, 0]), array([1, 0]), array([1, 0]), array([1, 0]), array([1, 0]), array([1, 0]), array([1, 0]), array([1, 0]), array([1, 0]), array([1, 0]), array([1, 0]), array([1, 0]), array([1, 0]), array([1, 0]), array([1, 0]), array([1, 0]), array([1, 0]), array([1, 0]), array([1, 0]), array([1, 0]), array([1, 0]), array([1, 0]), array([1, 0]), array([1, 0]), array([1, 0]), array([1, 0]), array([1, 0]), array([1, 0]), array([1, 0]), array([1, 0]), array([1, 0]), array([1, 0]), array([1, 0]), array([1, 0]), array([1, 0]), array([1, 0]), array([1, 0]), array([1, 0]), array([1, 0]), array([1, 0]), array([1, 0]), array([1, 0]), array([1, 0]), array([1, 0]), array([1, 0]), array([1, 0]), array([1, 0]), array([1, 0]), array([1, 0]), array([1, 0]), array([1, 0]), array([1, 0]), array([1, 0]), array([1, 0]), array([1, 0]), array([1, 0]), array([1, 0]), array([1, 0]), array([1, 0]), array([1, 0]), array([1, 0]), array([1, 0]), array([1, 0]), array([1, 0]), array([1, 0]), array([1, 0]), array([1, 0]), array([1, 0]), array([1, 0]), array([1, 0]), array([1, 0]), array([1, 0]), array([1, 0]), array([1, 0]), array([1, 0]), array([1, 0]), array([1, 0]), array([1, 0]), array([1, 0]), array([1, 0]), array([1, 0]), array([1, 0]), array([1, 0]), array([1, 0]), array([1, 0]), array([1, 0]), array([1, 0]), array([1, 0]), array([1, 0]), array([1, 0]), array([1, 0]), array([1, 0]), array([1, 0]), array([1, 0]), array([1, 0]), array([1, 0]), array([1, 0]), array([1, 0]), array([1, 0]), array([1, 0]), array([1, 0]), array([1, 0]), array([1, 0]), array([1, 0]), array([1, 0]), array([1, 0]), array([1, 0]), array([1, 0]), array([1, 0]), array([1, 0]), array([1, 0]), array([1, 0]), array([1, 0]), array([1, 0]), array([1, 0]), array([1, 0]), array([1, 0]), array([1, 0]), array([1, 0]), array([1, 0]), array([1, 0]), array([1, 0]), array([1, 0]), array([1, 0]), array([1, 0]), array([1, 0]), array([1, 0]), array([1, 0]), array([1, 0]), array([1, 0]), array([1, 0]), array([1, 0]), array([1, 0]), array([1, 0]), array([1, 0]), array([1, 0]), array([1, 0]), array([1, 0]), array([1, 0]), array([1, 0]), array([1, 0]), array([1, 0]), array([1, 0]), array([1, 0]), array([1, 0]), array([1, 0]), array([1, 0]), array([1, 0]), array([1, 0]), array([1, 0]), array([1, 0]), array([1, 0]), array([1, 0]), array([1, 0]), array([1, 0]), array([1, 0]), array([1, 0]), array([1, 0]), array([1, 0]), array([1, 0]), array([1, 0]), array([1, 0]), array([1, 0]), array([1, 0]), array([1, 0]), array([1, 0]), array([1, 0]), array([1, 0]), array([1, 0]), array([1, 0]), array([1, 0]), array([1, 0]), array([1, 0]), array([1, 0]), array([1, 0]), array([1, 0]), array([1, 0]), array([1, 0]), array([1, 0]), array([1, 0]), array([1, 0]), array([1, 0]), array([1, 0]), array([1, 0]), array([1, 0]), array([1, 0]), array([1, 0]), array([1, 0]), array([1, 0]), array([1, 0]), array([1, 0]), array([1, 0]), array([1, 0]), array([1, 0]), array([1, 0]), array([1, 0]), array([1, 0]), array([1, 0]), array([1, 0]), array([1, 0]), array([1, 0]), array([1, 0]), array([1, 0]), array([1, 0]), array([1, 0]), array([1, 0]), array([1, 0]), array([1, 0]), array([1, 0]), array([1, 0]), array([1, 0]), array([1, 0]), array([1, 0]), array([1, 0]), array([1, 0]), array([1, 0]), array([1, 0]), array([1, 0]), array([1, 0]), array([1, 0]), array([1, 0]), array([1, 0]), array([1, 0]), array([1, 0]), array([1, 0]), array([1, 0]), array([1, 0]), array([1, 0]), array([1, 0]), array([1, 0]), array([1, 0]), array([1, 0]), array([1, 0]), array([1, 0]), array([1, 0]), array([1, 0]), array([1, 0]), array([1, 0]), array([1, 0]), array([1, 0]), array([1, 0]), array([1, 0]), array([1, 0]), array([1, 0]), array([1, 0]), array([1, 0]), array([1, 0]), array([1, 0]), array([1, 0]), array([1, 0]), array([1, 0]), array([1, 0]), array([1, 0]), array([1, 0]), array([1, 0]), array([1, 0]), array([1, 0]), array([1, 0]), array([1, 0]), array([1, 0]), array([1, 0]), array([1, 0]), array([1, 0]), array([1, 0]), array([1, 0]), array([1, 0]), array([1, 0]), array([1, 0]), array([1, 0]), array([1, 0]), array([1, 0]), array([1, 0]), array([1, 0]), array([1, 0]), array([1, 0]), array([1, 0]), array([1, 0]), array([1, 0]), array([1, 0]), array([1, 0]), array([1, 0]), array([1, 0]), array([1, 0]), array([1, 0]), array([1, 0]), array([1, 0]), array([1, 0]), array([1, 0]), array([1, 0]), array([1, 0]), array([1, 0]), array([1, 0]), array([1, 0]), array([1, 0]), array([1, 0]), array([1, 0]), array([1, 0]), array([1, 0]), array([1, 0]), array([1, 0]), array([1, 0]), array([1, 0]), array([1, 0]), array([1, 0]), array([1, 0]), array([1, 0]), array([1, 0]), array([1, 0]), array([1, 0]), array([1, 0]), array([1, 0]), array([1, 0]), array([1, 0]), array([1, 0]), array([1, 0]), array([1, 0]), array([1, 0]), array([1, 0]), array([1, 0]), array([1, 0]), array([1, 0]), array([1, 0]), array([1, 0]), array([1, 0]), array([1, 0]), array([1, 0]), array([1, 0]), array([1, 0]), array([1, 0]), array([1, 0]), array([1, 0]), array([1, 0]), array([1, 0]), array([1, 0]), array([1, 0]), array([1, 0]), array([1, 0]), array([1, 0]), array([1, 0]), array([1, 0]), array([1, 0]), array([1, 0]), array([1, 0]), array([1, 0]), array([1, 0]), array([1, 0]), array([1, 0]), array([1, 0]), array([1, 0]), array([1, 0]), array([1, 0]), array([1, 0]), array([1, 0]), array([1, 0]), array([1, 0]), array([1, 0]), array([1, 0]), array([1, 0]), array([1, 0]), array([1, 0]), array([1, 0]), array([1, 0]), array([1, 0]), array([1, 0]), array([1, 0]), array([1, 0]), array([1, 0]), array([1, 0]), array([1, 0]), array([1, 0]), array([1, 0]), array([1, 0]), array([1, 0]), array([1, 0]), array([1, 0]), array([1, 0]), array([1, 0]), array([1, 0]), array([1, 0]), array([1, 0]), array([1, 0]), array([1, 0]), array([1, 0]), array([1, 0]), array([1, 0]), array([1, 0]), array([1, 0]), array([1, 0]), array([1, 0]), array([1, 0]), array([1, 0]), array([1, 0]), array([1, 0]), array([1, 0]), array([1, 0]), array([1, 0]), array([1, 0]), array([1, 0]), array([1, 0]), array([1, 0]), array([1, 0]), array([1, 0]), array([1, 0]), array([1, 0]), array([1, 0]), array([1, 0]), array([1, 0]), array([1, 0]), array([1, 0]), array([1, 0]), array([1, 0]), array([1, 0]), array([1, 0]), array([1, 0]), array([1, 0]), array([1, 0]), array([1, 0]), array([1, 0]), array([1, 0]), array([1, 0]), array([1, 0]), array([1, 0]), array([1, 0]), array([1, 0]), array([1, 0]), array([1, 0]), array([1, 0]), array([1, 0]), array([1, 0]), array([1, 0]), array([1, 0]), array([1, 0]), array([1, 0]), array([1, 0]), array([1, 0]), array([1, 0]), array([1, 0]), array([1, 0]), array([1, 0]), array([1, 0]), array([1, 0]), array([1, 0]), array([1, 0]), array([1, 0]), array([1, 0]), array([1, 0]), array([1, 0]), array([1, 0]), array([1, 0]), array([1, 0]), array([1, 0]), array([1, 0]), array([1, 0]), array([1, 0]), array([1, 0]), array([1, 0]), array([1, 0]), array([1, 0]), array([1, 0]), array([1, 0]), array([1, 0]), array([1, 0]), array([1, 0]), array([1, 0]), array([1, 0]), array([1, 0]), array([1, 0]), array([1, 0]), array([1, 0]), array([1, 0]), array([1, 0]), array([1, 0]), array([1, 0]), array([1, 0]), array([1, 0]), array([1, 0]), array([1, 0]), array([1, 0]), array([1, 0]), array([1, 0]), array([1, 0]), array([1, 0]), array([1, 0]), array([1, 0]), array([1, 0]), array([1, 0]), array([1, 0]), array([1, 0]), array([1, 0]), array([1, 0]), array([1, 0]), array([1, 0]), array([1, 0]), array([1, 0]), array([1, 0]), array([1, 0]), array([1, 0]), array([1, 0]), array([1, 0]), array([1, 0]), array([1, 0]), array([1, 0]), array([1, 0]), array([1, 0]), array([1, 0]), array([1, 0]), array([1, 0]), array([1, 0]), array([1, 0]), array([1, 0]), array([1, 0]), array([1, 0]), array([1, 0]), array([1, 0]), array([1, 0]), array([1, 0]), array([1, 0]), array([1, 0]), array([1, 0]), array([1, 0]), array([1, 0]), array([1, 0]), array([1, 0]), array([1, 0]), array([1, 0]), array([1, 0]), array([1, 0]), array([1, 0]), array([1, 0]), array([1, 0]), array([1, 0]), array([1, 0]), array([1, 0]), array([1, 0]), array([1, 0]), array([1, 0]), array([1, 0]), array([1, 0]), array([1, 0]), array([1, 0]), array([1, 0]), array([1, 0]), array([1, 0]), array([1, 0]), array([1, 0]), array([1, 0]), array([1, 0]), array([1, 0]), array([1, 0]), array([1, 0]), array([1, 0]), array([1, 0]), array([1, 0]), array([1, 0]), array([1, 0]), array([1, 0]), array([1, 0]), array([1, 0]), array([1, 0]), array([1, 0]), array([1, 0]), array([1, 0]), array([1, 0]), array([1, 0]), array([1, 0]), array([1, 0]), array([1, 0]), array([1, 0]), array([1, 0]), array([1, 0]), array([1, 0]), array([1, 0]), array([1, 0]), array([1, 0]), array([1, 0]), array([1, 0]), array([1, 0]), array([1, 0]), array([1, 0]), array([1, 0]), array([1, 0]), array([1, 0]), array([1, 0]), array([1, 0]), array([1, 0]), array([1, 0]), array([1, 0]), array([1, 0]), array([1, 0]), array([1, 0]), array([1, 0]), array([1, 0]), array([1, 0]), array([1, 0]), array([1, 0]), array([1, 0]), array([1, 0]), array([1, 0]), array([1, 0]), array([1, 0]), array([1, 0]), array([1, 0]), array([1, 0]), array([1, 0]), array([1, 0]), array([1, 0]), array([1, 0]), array([1, 0]), array([1, 0]), array([1, 0]), array([1, 0]), array([1, 0]), array([1, 0]), array([1, 0]), array([1, 0]), array([1, 0]), array([1, 0]), array([1, 0]), array([1, 0]), array([1, 0]), array([1, 0]), array([1, 0]), array([1, 0]), array([1, 0]), array([1, 0]), array([1, 0]), array([1, 0]), array([1, 0]), array([1, 0]), array([1, 0]), array([1, 0]), array([1, 0]), array([1, 0]), array([1, 0]), array([1, 0]), array([1, 0]), array([1, 0]), array([1, 0]), array([1, 0]), array([1, 0]), array([1, 0]), array([1, 0]), array([1, 0]), array([1, 0]), array([1, 0]), array([1, 0]), array([1, 0]), array([1, 0]), array([1, 0]), array([1, 0]), array([1, 0]), array([1, 0]), array([1, 0]), array([1, 0]), array([1, 0]), array([1, 0]), array([1, 0]), array([1, 0]), array([1, 0]), array([1, 0]), array([1, 0]), array([1, 0]), array([1, 0]), array([1, 0]), array([1, 0]), array([1, 0]), array([1, 0]), array([1, 0]), array([1, 0]), array([1, 0]), array([1, 0]), array([1, 0]), array([1, 0]), array([1, 0]), array([1, 0]), array([1, 0]), array([1, 0]), array([1, 0]), array([1, 0]), array([1, 0]), array([1, 0]), array([1, 0]), array([1, 0]), array([1, 0]), array([1, 0]), array([1, 0]), array([1, 0]), array([1, 0]), array([1, 0]), array([1, 0]), array([1, 0]), array([1, 0]), array([1, 0]), array([1, 0]), array([1, 0]), array([1, 0]), array([1, 0]), array([1, 0]), array([1, 0]), array([1, 0]), array([1, 0]), array([1, 0]), array([1, 0]), array([1, 0]), array([1, 0]), array([1, 0]), array([1, 0]), array([1, 0]), array([1, 0]), array([1, 0]), array([1, 0]), array([1, 0]), array([1, 0]), array([1, 0]), array([1, 0]), array([1, 0]), array([1, 0]), array([1, 0]), array([1, 0]), array([1, 0]), array([1, 0]), array([1, 0]), array([1, 0]), array([1, 0]), array([1, 0]), array([1, 0]), array([1, 0]), array([1, 0]), array([1, 0]), array([1, 0]), array([1, 0]), array([1, 0]), array([1, 0]), array([1, 0]), array([1, 0]), array([1, 0]), array([1, 0]), array([1, 0]), array([1, 0]), array([1, 0]), array([1, 0]), array([1, 0]), array([1, 0]), array([1, 0]), array([1, 0]), array([1, 0]), array([1, 0]), array([1, 0]), array([1, 0]), array([1, 0]), array([1, 0]), array([1, 0]), array([1, 0]), array([1, 0]), array([1, 0]), array([1, 0]), array([1, 0]), array([1, 0]), array([1, 0]), array([1, 0]), array([1, 0]), array([1, 0]), array([1, 0]), array([1, 0]), array([1, 0]), array([1, 0]), array([1, 0]), array([1, 0]), array([1, 0]), array([1, 0]), array([1, 0]), array([1, 0]), array([1, 0]), array([1, 0]), array([1, 0]), array([1, 0]), array([1, 0]), array([1, 0]), array([1, 0]), array([1, 0]), array([1, 0]), array([1, 0]), array([1, 0]), array([1, 0]), array([1, 0]), array([1, 0]), array([1, 0]), array([1, 0]), array([1, 0]), array([1, 0]), array([1, 0]), array([1, 0]), array([1, 0]), array([1, 0]), array([1, 0]), array([1, 0]), array([1, 0]), array([1, 0]), array([1, 0]), array([1, 0]), array([1, 0]), array([1, 0]), array([1, 0]), array([1, 0]), array([1, 0]), array([1, 0]), array([1, 0]), array([1, 0]), array([1, 0]), array([1, 0]), array([1, 0]), array([1, 0]), array([1, 0]), array([1, 0]), array([1, 0]), array([1, 0]), array([1, 0]), array([1, 0]), array([1, 0]), array([1, 0]), array([1, 0]), array([1, 0]), array([1, 0]), array([1, 0]), array([1, 0]), array([1, 0]), array([1, 0]), array([1, 0]), array([1, 0]), array([1, 0]), array([1, 0]), array([1, 0]), array([1, 0]), array([1, 0]), array([1, 0]), array([1, 0]), array([1, 0]), array([1, 0]), array([1, 0]), array([1, 0]), array([1, 0]), array([1, 0]), array([1, 0]), array([1, 0]), array([1, 0]), array([1, 0]), array([1, 0]), array([1, 0]), array([1, 0]), array([1, 0]), array([1, 0]), array([1, 0]), array([1, 0]), array([1, 0]), array([1, 0]), array([1, 0]), array([1, 0]), array([1, 0]), array([1, 0]), array([1, 0]), array([1, 0]), array([1, 0]), array([1, 0]), array([1, 0]), array([1, 0]), array([1, 0]), array([1, 0]), array([1, 0]), array([1, 0]), array([1, 0]), array([1, 0]), array([1, 0]), array([1, 0]), array([1, 0]), array([1, 0]), array([1, 0]), array([1, 0]), array([1, 0]), array([1, 0]), array([1, 0]), array([1, 0]), array([1, 0]), array([1, 0]), array([1, 0]), array([1, 0]), array([1, 0]), array([1, 0]), array([1, 0]), array([1, 0]), array([1, 0]), array([1, 0]), array([1, 0]), array([1, 0]), array([1, 0]), array([1, 0]), array([1, 0]), array([1, 0]), array([1, 0]), array([1, 0]), array([1, 0]), array([1, 0]), array([1, 0]), array([1, 0]), array([1, 0]), array([1, 0]), array([1, 0]), array([1, 0]), array([1, 0]), array([1, 0]), array([1, 0]), array([1, 0]), array([1, 0]), array([1, 0]), array([1, 0]), array([1, 0]), array([1, 0]), array([1, 0]), array([1, 0]), array([1, 0]), array([1, 0]), array([1, 0]), array([1, 0]), array([1, 0]), array([1, 0]), array([1, 0]), array([1, 0]), array([1, 0]), array([1, 0]), array([1, 0]), array([1, 0]), array([1, 0]), array([1, 0]), array([1, 0]), array([1, 0]), array([1, 0]), array([1, 0]), array([1, 0]), array([1, 0]), array([1, 0]), array([1, 0]), array([1, 0]), array([1, 0]), array([1, 0]), array([1, 0]), array([1, 0]), array([1, 0]), array([1, 0]), array([1, 0]), array([1, 0]), array([1, 0]), array([1, 0]), array([1, 0]), array([1, 0]), array([1, 0]), array([1, 0]), array([1, 0]), array([1, 0]), array([1, 0]), array([1, 0]), array([1, 0]), array([1, 0]), array([1, 0]), array([1, 0]), array([1, 0]), array([1, 0]), array([1, 0]), array([1, 0]), array([1, 0]), array([1, 0]), array([1, 0]), array([1, 0]), array([1, 0]), array([1, 0]), array([1, 0]), array([1, 0]), array([1, 0]), array([1, 0]), array([1, 0]), array([1, 0]), array([1, 0]), array([1, 0]), array([1, 0]), array([1, 0]), array([1, 0]), array([1, 0]), array([1, 0]), array([1, 0]), array([1, 0]), array([1, 0]), array([1, 0]), array([1, 0]), array([1, 0]), array([1, 0]), array([1, 0]), array([1, 0]), array([1, 0]), array([1, 0]), array([1, 0]), array([1, 0]), array([1, 0]), array([1, 0]), array([1, 0]), array([1, 0]), array([1, 0]), array([1, 0]), array([1, 0]), array([1, 0]), array([1, 0]), array([1, 0]), array([1, 0]), array([1, 0]), array([1, 0]), array([1, 0]), array([1, 0]), array([1, 0]), array([1, 0]), array([1, 0]), array([1, 0]), array([1, 0]), array([1, 0]), array([1, 0]), array([1, 0]), array([1, 0]), array([1, 0]), array([1, 0]), array([1, 0]), array([1, 0]), array([1, 0]), array([1, 0]), array([1, 0]), array([1, 0]), array([1, 0]), array([1, 0]), array([1, 0]), array([1, 0]), array([1, 0]), array([1, 0]), array([1, 0]), array([1, 0]), array([1, 0]), array([1, 0]), array([1, 0]), array([1, 0]), array([1, 0]), array([1, 0]), array([1, 0]), array([1, 0]), array([1, 0]), array([1, 0]), array([1, 0]), array([1, 0]), array([1, 0]), array([1, 0]), array([1, 0]), array([1, 0]), array([1, 0]), array([1, 0]), array([1, 0]), array([1, 0]), array([1, 0]), array([1, 0]), array([1, 0]), array([1, 0]), array([1, 0]), array([1, 0]), array([1, 0]), array([1, 0]), array([1, 0]), array([1, 0]), array([1, 0]), array([1, 0]), array([1, 0]), array([1, 0]), array([1, 0]), array([1, 0]), array([1, 0]), array([1, 0]), array([1, 0]), array([1, 0]), array([1, 0]), array([1, 0]), array([1, 0]), array([1, 0]), array([1, 0]), array([1, 0]), array([1, 0]), array([1, 0]), array([1, 0]), array([1, 0]), array([1, 0]), array([1, 0]), array([1, 0]), array([1, 0]), array([1, 0]), array([1, 0]), array([1, 0]), array([1, 0]), array([1, 0]), array([1, 0]), array([1, 0]), array([1, 0]), array([1, 0]), array([1, 0]), array([1, 0]), array([1, 0]), array([1, 0]), array([1, 0]), array([1, 0]), array([1, 0]), array([1, 0]), array([1, 0]), array([1, 0]), array([1, 0]), array([1, 0]), array([1, 0]), array([1, 0]), array([1, 0]), array([1, 0]), array([1, 0]), array([1, 0]), array([1, 0]), array([1, 0]), array([1, 0]), array([1, 0]), array([1, 0]), array([1, 0]), array([1, 0]), array([1, 0]), array([1, 0]), array([1, 0]), array([1, 0]), array([1, 0]), array([1, 0]), array([1, 0]), array([1, 0]), array([1, 0]), array([1, 0]), array([1, 0]), array([1, 0]), array([1, 0]), array([1, 0]), array([1, 0]), array([1, 0]), array([1, 0]), array([1, 0]), array([1, 0]), array([1, 0]), array([1, 0]), array([1, 0]), array([1, 0]), array([1, 0]), array([1, 0]), array([1, 0]), array([1, 0]), array([1, 0]), array([1, 0]), array([1, 0]), array([1, 0]), array([1, 0]), array([1, 0]), array([1, 0]), array([1, 0]), array([1, 0]), array([1, 0]), array([1, 0]), array([1, 0]), array([1, 0]), array([1, 0]), array([1, 0]), array([1, 0]), array([1, 0]), array([1, 0]), array([1, 0]), array([1, 0]), array([1, 0]), array([1, 0]), array([1, 0]), array([1, 0]), array([1, 0]), array([1, 0]), array([1, 0]), array([1, 0]), array([1, 0]), array([1, 0]), array([1, 0]), array([1, 0]), array([1, 0]), array([1, 0]), array([1, 0]), array([1, 0]), array([1, 0]), array([1, 0]), array([1, 0]), array([1, 0]), array([1, 0]), array([1, 0]), array([1, 0]), array([1, 0]), array([1, 0]), array([1, 0]), array([1, 0]), array([1, 0]), array([1, 0]), array([1, 0]), array([1, 0]), array([1, 0]), array([1, 0]), array([1, 0]), array([1, 0]), array([1, 0]), array([1, 0]), array([1, 0]), array([1, 0]), array([1, 0]), array([1, 0]), array([1, 0]), array([1, 0]), array([1, 0]), array([1, 0]), array([1, 0]), array([1, 0]), array([1, 0]), array([1, 0]), array([1, 0]), array([1, 0]), array([1, 0]), array([1, 0]), array([1, 0]), array([1, 0]), array([1, 0]), array([1, 0]), array([1, 0]), array([1, 0]), array([1, 0]), array([1, 0]), array([1, 0]), array([1, 0]), array([1, 0]), array([1, 0]), array([1, 0]), array([1, 0]), array([1, 0]), array([1, 0]), array([1, 0]), array([1, 0]), array([1, 0]), array([1, 0]), array([1, 0]), array([1, 0]), array([1, 0]), array([1, 0]), array([1, 0]), array([1, 0]), array([1, 0]), array([1, 0]), array([1, 0]), array([1, 0]), array([1, 0]), array([1, 0]), array([1, 0]), array([1, 0]), array([1, 0]), array([1, 0]), array([1, 0]), array([1, 0]), array([1, 0]), array([1, 0]), array([1, 0]), array([1, 0]), array([1, 0]), array([1, 0]), array([1, 0]), array([1, 0]), array([1, 0]), array([1, 0]), array([1, 0]), array([1, 0]), array([1, 0]), array([1, 0]), array([1, 0]), array([1, 0]), array([1, 0]), array([1, 0]), array([1, 0]), array([1, 0]), array([1, 0]), array([1, 0]), array([1, 0]), array([1, 0]), array([1, 0]), array([1, 0]), array([1, 0]), array([1, 0]), array([1, 0]), array([1, 0]), array([1, 0]), array([1, 0]), array([1, 0]), array([1, 0]), array([1, 0]), array([1, 0]), array([1, 0]), array([1, 0]), array([1, 0]), array([1, 0]), array([1, 0]), array([1, 0]), array([1, 0]), array([1, 0]), array([1, 0]), array([1, 0]), array([1, 0]), array([1, 0]), array([1, 0]), array([1, 0]), array([1, 0]), array([1, 0]), array([1, 0]), array([1, 0]), array([1, 0]), array([1, 0]), array([1, 0]), array([1, 0]), array([1, 0]), array([1, 0]), array([1, 0]), array([1, 0]), array([1, 0]), array([1, 0]), array([1, 0]), array([1, 0]), array([1, 0]), array([1, 0]), array([1, 0]), array([1, 0]), array([1, 0]), array([1, 0]), array([1, 0]), array([1, 0]), array([1, 0]), array([1, 0]), array([1, 0]), array([1, 0]), array([1, 0]), array([1, 0]), array([1, 0]), array([1, 0]), array([1, 0]), array([1, 0]), array([1, 0]), array([1, 0]), array([1, 0]), array([1, 0]), array([1, 0]), array([1, 0]), array([1, 0]), array([1, 0]), array([1, 0]), array([1, 0]), array([1, 0]), array([1, 0]), array([1, 0]), array([1, 0]), array([1, 0]), array([1, 0]), array([1, 0]), array([1, 0]), array([1, 0]), array([1, 0]), array([1, 0]), array([1, 0]), array([1, 0]), array([1, 0]), array([1, 0]), array([1, 0]), array([1, 0]), array([1, 0]), array([1, 0]), array([1, 0]), array([1, 0]), array([1, 0]), array([1, 0]), array([1, 0]), array([1, 0]), array([1, 0]), array([1, 0]), array([1, 0]), array([1, 0]), array([1, 0]), array([1, 0]), array([1, 0]), array([1, 0]), array([1, 0]), array([1, 0]), array([1, 0]), array([1, 0]), array([1, 0]), array([1, 0]), array([1, 0]), array([1, 0]), array([1, 0]), array([1, 0]), array([1, 0]), array([1, 0]), array([1, 0]), array([1, 0]), array([1, 0]), array([1, 0]), array([1, 0]), array([1, 0]), array([1, 0]), array([1, 0]), array([1, 0]), array([1, 0]), array([1, 0]), array([1, 0]), array([1, 0]), array([1, 0]), array([1, 0]), array([1, 0]), array([1, 0]), array([1, 0]), array([1, 0]), array([1, 0]), array([1, 0]), array([1, 0]), array([1, 0]), array([1, 0]), array([1, 0]), array([1, 0]), array([1, 0]), array([1, 0]), array([1, 0]), array([1, 0]), array([1, 0]), array([1, 0]), array([1, 0]), array([1, 0]), array([1, 0]), array([1, 0]), array([1, 0]), array([1, 0]), array([1, 0]), array([1, 0]), array([1, 0]), array([1, 0]), array([1, 0]), array([1, 0]), array([1, 0]), array([1, 0]), array([1, 0]), array([1, 0]), array([1, 0]), array([1, 0]), array([1, 0]), array([1, 0]), array([1, 0]), array([1, 0]), array([1, 0]), array([1, 0]), array([1, 0]), array([1, 0]), array([1, 0]), array([1, 0]), array([1, 0]), array([1, 0]), array([1, 0]), array([1, 0]), array([1, 0]), array([1, 0]), array([1, 0]), array([1, 0]), array([1, 0]), array([1, 0]), array([1, 0]), array([1, 0]), array([1, 0]), array([1, 0]), array([1, 0]), array([1, 0]), array([1, 0]), array([1, 0]), array([1, 0]), array([1, 0]), array([1, 0]), array([1, 0]), array([1, 0]), array([1, 0]), array([1, 0]), array([1, 0]), array([1, 0]), array([1, 0]), array([1, 0]), array([1, 0]), array([1, 0]), array([1, 0]), array([1, 0]), array([1, 0]), array([1, 0]), array([1, 0]), array([1, 0]), array([1, 0]), array([1, 0]), array([1, 0]), array([1, 0]), array([1, 0]), array([1, 0]), array([1, 0]), array([1, 0]), array([1, 0]), array([1, 0]), array([1, 0]), array([1, 0]), array([1, 0]), array([1, 0]), array([1, 0]), array([1, 0]), array([1, 0]), array([1, 0]), array([1, 0]), array([1, 0]), array([1, 0]), array([1, 0]), array([1, 0]), array([1, 0]), array([1, 0]), array([1, 0]), array([1, 0]), array([1, 0]), array([1, 0]), array([1, 0]), array([1, 0]), array([1, 0]), array([1, 0]), array([1, 0]), array([1, 0]), array([1, 0]), array([1, 0]), array([1, 0]), array([1, 0]), array([1, 0]), array([1, 0]), array([1, 0]), array([1, 0]), array([1, 0]), array([1, 0]), array([1, 0]), array([1, 0]), array([1, 0]), array([1, 0]), array([1, 0]), array([1, 0]), array([1, 0]), array([1, 0]), array([1, 0]), array([1, 0]), array([1, 0]), array([1, 0]), array([1, 0]), array([1, 0]), array([1, 0]), array([1, 0]), array([1, 0]), array([1, 0]), array([1, 0]), array([1, 0]), array([1, 0]), array([1, 0]), array([1, 0]), array([1, 0]), array([1, 0]), array([1, 0]), array([1, 0]), array([1, 0]), array([1, 0]), array([1, 0]), array([1, 0]), array([1, 0]), array([1, 0]), array([1, 0]), array([1, 0]), array([1, 0]), array([1, 0]), array([1, 0]), array([1, 0]), array([1, 0]), array([1, 0]), array([1, 0]), array([1, 0]), array([1, 0]), array([1, 0]), array([1, 0]), array([1, 0]), array([1, 0]), array([1, 0]), array([1, 0]), array([1, 0]), array([1, 0]), array([1, 0]), array([1, 0]), array([1, 0]), array([1, 0]), array([1, 0]), array([1, 0]), array([1, 0]), array([1, 0]), array([1, 0]), array([1, 0]), array([1, 0]), array([1, 0]), array([1, 0]), array([1, 0]), array([1, 0]), array([1, 0]), array([1, 0]), array([1, 0]), array([1, 0]), array([1, 0]), array([1, 0]), array([1, 0]), array([1, 0]), array([1, 0]), array([1, 0]), array([1, 0]), array([1, 0]), array([1, 0]), array([1, 0]), array([1, 0]), array([1, 0]), array([1, 0]), array([1, 0]), array([1, 0]), array([1, 0]), array([1, 0]), array([1, 0]), array([1, 0]), array([1, 0]), array([1, 0]), array([1, 0]), array([1, 0]), array([1, 0]), array([1, 0]), array([1, 0]), array([1, 0]), array([1, 0]), array([1, 0]), array([1, 0]), array([1, 0]), array([1, 0]), array([1, 0]), array([1, 0]), array([1, 0]), array([1, 0]), array([1, 0]), array([1, 0]), array([1, 0]), array([1, 0]), array([1, 0]), array([1, 0]), array([1, 0]), array([1, 0]), array([1, 0]), array([1, 0]), array([1, 0]), array([1, 0]), array([1, 0]), array([1, 0]), array([1, 0]), array([1, 0]), array([1, 0]), array([1, 0]), array([1, 0]), array([1, 0]), array([1, 0]), array([1, 0]), array([1, 0]), array([1, 0]), array([1, 0]), array([1, 0]), array([1, 0]), array([1, 0]), array([1, 0]), array([1, 0]), array([1, 0]), array([1, 0]), array([1, 0]), array([1, 0]), array([1, 0]), array([1, 0]), array([1, 0]), array([1, 0]), array([1, 0]), array([1, 0]), array([1, 0]), array([1, 0]), array([1, 0]), array([1, 0]), array([1, 0]), array([1, 0]), array([1, 0]), array([1, 0]), array([1, 0]), array([1, 0]), array([1, 0]), array([1, 0]), array([1, 0]), array([1, 0]), array([1, 0]), array([1, 0]), array([1, 0]), array([1, 0]), array([1, 0]), array([1, 0]), array([1, 0]), array([1, 0]), array([1, 0]), array([1, 0]), array([1, 0]), array([1, 0]), array([1, 0]), array([1, 0]), array([1, 0]), array([1, 0]), array([1, 0]), array([1, 0]), array([1, 0]), array([1, 0]), array([1, 0]), array([1, 0]), array([1, 0]), array([1, 0]), array([1, 0]), array([1, 0]), array([1, 0]), array([1, 0]), array([1, 0]), array([1, 0]), array([1, 0]), array([1, 0]), array([1, 0]), array([1, 0]), array([1, 0]), array([1, 0]), array([0, 1]), array([0, 1]), array([0, 1]), array([0, 1]), array([0, 1]), array([0, 1]), array([0, 1]), array([0, 1]), array([0, 1]), array([0, 1]), array([0, 1]), array([0, 1]), array([0, 1]), array([0, 1]), array([0, 1]), array([0, 1]), array([0, 1]), array([0, 1]), array([0, 1]), array([0, 1]), array([0, 1]), array([0, 1]), array([0, 1]), array([0, 1]), array([0, 1]), array([0, 1]), array([0, 1]), array([0, 1]), array([0, 1]), array([0, 1]), array([0, 1]), array([0, 1]), array([0, 1]), array([0, 1]), array([0, 1]), array([0, 1]), array([0, 1]), array([0, 1]), array([0, 1]), array([0, 1]), array([0, 1]), array([0, 1]), array([0, 1]), array([0, 1]), array([0, 1]), array([0, 1]), array([0, 1]), array([0, 1]), array([0, 1]), array([0, 1]), array([0, 1]), array([0, 1]), array([0, 1]), array([0, 1]), array([0, 1]), array([0, 1]), array([0, 1]), array([0, 1]), array([0, 1]), array([0, 1]), array([0, 1]), array([0, 1]), array([0, 1]), array([0, 1]), array([0, 1]), array([0, 1]), array([0, 1]), array([0, 1]), array([0, 1]), array([0, 1]), array([0, 1]), array([0, 1]), array([0, 1]), array([0, 1]), array([0, 1]), array([0, 1]), array([0, 1]), array([0, 1]), array([0, 1]), array([0, 1]), array([0, 1]), array([0, 1]), array([0, 1]), array([0, 1]), array([0, 1]), array([0, 1]), array([0, 1]), array([0, 1]), array([0, 1]), array([0, 1]), array([0, 1]), array([0, 1]), array([0, 1]), array([0, 1]), array([0, 1]), array([0, 1]), array([0, 1]), array([0, 1]), array([0, 1]), array([0, 1]), array([0, 1]), array([0, 1]), array([0, 1]), array([0, 1]), array([0, 1]), array([0, 1]), array([0, 1]), array([0, 1]), array([0, 1]), array([0, 1]), array([0, 1]), array([0, 1]), array([0, 1]), array([0, 1]), array([0, 1]), array([0, 1]), array([0, 1]), array([0, 1]), array([0, 1]), array([0, 1]), array([0, 1]), array([0, 1]), array([0, 1]), array([0, 1]), array([0, 1]), array([0, 1]), array([0, 1]), array([0, 1]), array([0, 1]), array([0, 1]), array([0, 1]), array([0, 1]), array([0, 1]), array([0, 1]), array([0, 1]), array([0, 1]), array([0, 1]), array([0, 1]), array([0, 1]), array([0, 1]), array([0, 1]), array([0, 1]), array([0, 1]), array([0, 1]), array([0, 1]), array([0, 1]), array([0, 1]), array([0, 1]), array([0, 1]), array([0, 1]), array([0, 1]), array([0, 1]), array([0, 1]), array([0, 1]), array([0, 1]), array([0, 1]), array([0, 1]), array([0, 1]), array([0, 1]), array([0, 1]), array([0, 1]), array([0, 1]), array([0, 1]), array([0, 1]), array([0, 1]), array([0, 1]), array([0, 1]), array([0, 1]), array([0, 1]), array([0, 1]), array([0, 1]), array([0, 1]), array([0, 1]), array([0, 1]), array([0, 1]), array([0, 1]), array([0, 1]), array([0, 1]), array([0, 1]), array([0, 1]), array([0, 1]), array([0, 1]), array([0, 1]), array([0, 1]), array([0, 1]), array([0, 1]), array([0, 1]), array([0, 1]), array([0, 1]), array([0, 1]), array([0, 1]), array([0, 1]), array([0, 1]), array([0, 1]), array([0, 1]), array([0, 1]), array([0, 1]), array([0, 1]), array([0, 1]), array([0, 1]), array([0, 1]), array([0, 1]), array([0, 1]), array([0, 1]), array([0, 1]), array([0, 1]), array([0, 1]), array([0, 1]), array([0, 1]), array([0, 1]), array([0, 1]), array([0, 1]), array([0, 1]), array([0, 1]), array([0, 1]), array([0, 1]), array([0, 1]), array([0, 1]), array([0, 1]), array([0, 1]), array([0, 1]), array([0, 1]), array([0, 1]), array([0, 1]), array([0, 1]), array([0, 1]), array([0, 1]), array([0, 1]), array([0, 1]), array([0, 1]), array([0, 1]), array([0, 1]), array([0, 1]), array([0, 1]), array([0, 1]), array([0, 1]), array([0, 1]), array([0, 1]), array([0, 1]), array([0, 1]), array([0, 1]), array([0, 1]), array([0, 1]), array([0, 1]), array([0, 1]), array([0, 1]), array([0, 1]), array([0, 1]), array([0, 1]), array([0, 1]), array([0, 1]), array([0, 1]), array([0, 1]), array([0, 1]), array([0, 1]), array([0, 1]), array([0, 1]), array([0, 1]), array([0, 1]), array([0, 1]), array([0, 1]), array([0, 1]), array([0, 1]), array([0, 1]), array([0, 1]), array([0, 1]), array([0, 1]), array([0, 1]), array([0, 1]), array([0, 1]), array([0, 1]), array([0, 1]), array([0, 1]), array([0, 1]), array([0, 1]), array([0, 1]), array([0, 1]), array([0, 1]), array([0, 1]), array([0, 1]), array([0, 1]), array([0, 1]), array([0, 1]), array([0, 1]), array([0, 1]), array([0, 1]), array([0, 1]), array([0, 1]), array([0, 1]), array([0, 1]), array([0, 1]), array([0, 1]), array([0, 1]), array([0, 1]), array([0, 1]), array([0, 1]), array([0, 1]), array([0, 1]), array([0, 1]), array([0, 1]), array([0, 1]), array([0, 1]), array([0, 1]), array([0, 1]), array([0, 1]), array([0, 1]), array([0, 1]), array([0, 1]), array([0, 1]), array([0, 1]), array([0, 1]), array([0, 1]), array([0, 1]), array([0, 1]), array([0, 1]), array([0, 1]), array([0, 1]), array([0, 1]), array([0, 1]), array([0, 1]), array([0, 1]), array([0, 1]), array([0, 1]), array([0, 1]), array([0, 1]), array([0, 1]), array([0, 1]), array([0, 1]), array([0, 1]), array([0, 1]), array([0, 1]), array([0, 1]), array([0, 1]), array([0, 1]), array([0, 1]), array([0, 1]), array([0, 1]), array([0, 1]), array([0, 1]), array([0, 1]), array([0, 1]), array([0, 1]), array([0, 1]), array([0, 1]), array([0, 1]), array([0, 1]), array([0, 1]), array([0, 1]), array([0, 1]), array([0, 1]), array([0, 1]), array([0, 1]), array([0, 1]), array([0, 1]), array([0, 1]), array([0, 1]), array([0, 1]), array([0, 1]), array([0, 1]), array([0, 1]), array([0, 1]), array([0, 1]), array([0, 1]), array([0, 1]), array([0, 1]), array([0, 1]), array([0, 1]), array([0, 1]), array([0, 1]), array([0, 1]), array([0, 1]), array([0, 1]), array([0, 1]), array([0, 1]), array([0, 1]), array([0, 1]), array([0, 1]), array([0, 1]), array([0, 1]), array([0, 1]), array([0, 1]), array([0, 1]), array([0, 1]), array([0, 1]), array([0, 1]), array([0, 1]), array([0, 1]), array([0, 1]), array([0, 1]), array([0, 1]), array([0, 1]), array([0, 1]), array([0, 1]), array([0, 1]), array([0, 1]), array([0, 1]), array([0, 1]), array([0, 1]), array([0, 1]), array([0, 1]), array([0, 1]), array([0, 1]), array([0, 1]), array([0, 1]), array([0, 1]), array([0, 1]), array([0, 1]), array([0, 1]), array([0, 1]), array([0, 1]), array([0, 1]), array([0, 1]), array([0, 1]), array([0, 1]), array([0, 1]), array([0, 1]), array([0, 1]), array([0, 1]), array([0, 1]), array([0, 1]), array([0, 1]), array([0, 1]), array([0, 1]), array([0, 1]), array([0, 1]), array([0, 1]), array([0, 1]), array([0, 1]), array([0, 1]), array([0, 1]), array([0, 1]), array([0, 1]), array([0, 1]), array([0, 1]), array([0, 1]), array([0, 1]), array([0, 1]), array([0, 1]), array([0, 1]), array([0, 1]), array([0, 1]), array([0, 1]), array([0, 1]), array([0, 1]), array([0, 1]), array([0, 1]), array([0, 1]), array([0, 1]), array([0, 1]), array([0, 1]), array([0, 1]), array([0, 1]), array([0, 1]), array([0, 1]), array([0, 1]), array([0, 1]), array([0, 1]), array([0, 1]), array([0, 1]), array([0, 1]), array([0, 1]), array([0, 1]), array([0, 1]), array([0, 1]), array([0, 1]), array([0, 1]), array([0, 1]), array([0, 1]), array([0, 1]), array([0, 1]), array([0, 1]), array([0, 1]), array([0, 1]), array([0, 1]), array([0, 1]), array([0, 1]), array([0, 1]), array([0, 1]), array([0, 1]), array([0, 1]), array([0, 1]), array([0, 1]), array([0, 1]), array([0, 1]), array([0, 1]), array([0, 1]), array([0, 1]), array([0, 1]), array([0, 1]), array([0, 1]), array([0, 1]), array([0, 1]), array([0, 1]), array([0, 1]), array([0, 1]), array([0, 1]), array([0, 1]), array([0, 1]), array([0, 1]), array([0, 1]), array([0, 1]), array([0, 1]), array([0, 1]), array([0, 1]), array([0, 1]), array([0, 1]), array([0, 1]), array([0, 1]), array([0, 1]), array([0, 1]), array([0, 1]), array([0, 1]), array([0, 1]), array([0, 1]), array([0, 1]), array([0, 1]), array([0, 1]), array([0, 1]), array([0, 1]), array([0, 1]), array([0, 1]), array([0, 1]), array([0, 1]), array([0, 1]), array([0, 1]), array([0, 1]), array([0, 1]), array([0, 1]), array([0, 1]), array([0, 1]), array([0, 1]), array([0, 1]), array([0, 1]), array([0, 1]), array([0, 1]), array([0, 1]), array([0, 1]), array([0, 1]), array([0, 1]), array([0, 1]), array([0, 1]), array([0, 1]), array([0, 1]), array([0, 1]), array([0, 1]), array([0, 1]), array([0, 1]), array([0, 1]), array([0, 1]), array([0, 1]), array([0, 1]), array([0, 1]), array([0, 1]), array([0, 1]), array([0, 1]), array([0, 1]), array([0, 1]), array([0, 1]), array([0, 1]), array([0, 1]), array([0, 1]), array([0, 1]), array([0, 1]), array([0, 1]), array([0, 1]), array([0, 1]), array([0, 1]), array([0, 1]), array([0, 1]), array([0, 1]), array([0, 1]), array([0, 1]), array([0, 1]), array([0, 1]), array([0, 1]), array([0, 1]), array([0, 1]), array([0, 1]), array([0, 1]), array([0, 1]), array([0, 1]), array([0, 1]), array([0, 1]), array([0, 1]), array([0, 1]), array([0, 1]), array([0, 1]), array([0, 1]), array([0, 1]), array([0, 1]), array([0, 1]), array([0, 1]), array([0, 1]), array([0, 1]), array([0, 1]), array([0, 1]), array([0, 1]), array([0, 1]), array([0, 1]), array([0, 1]), array([0, 1]), array([0, 1]), array([0, 1]), array([0, 1]), array([0, 1]), array([0, 1]), array([0, 1]), array([0, 1]), array([0, 1]), array([0, 1]), array([0, 1]), array([0, 1]), array([0, 1]), array([0, 1]), array([0, 1]), array([0, 1]), array([0, 1]), array([0, 1]), array([0, 1]), array([0, 1]), array([0, 1]), array([0, 1]), array([0, 1]), array([0, 1]), array([0, 1]), array([0, 1]), array([0, 1]), array([0, 1]), array([0, 1]), array([0, 1]), array([0, 1]), array([0, 1]), array([0, 1]), array([0, 1]), array([0, 1]), array([0, 1]), array([0, 1]), array([0, 1]), array([0, 1]), array([0, 1]), array([0, 1]), array([0, 1]), array([0, 1]), array([0, 1]), array([0, 1]), array([0, 1]), array([0, 1]), array([0, 1]), array([0, 1]), array([0, 1]), array([0, 1]), array([0, 1]), array([0, 1]), array([0, 1]), array([0, 1]), array([0, 1]), array([0, 1]), array([0, 1]), array([0, 1]), array([0, 1]), array([0, 1]), array([0, 1]), array([0, 1]), array([0, 1]), array([0, 1]), array([0, 1]), array([0, 1]), array([0, 1]), array([0, 1]), array([0, 1]), array([0, 1]), array([0, 1]), array([0, 1]), array([0, 1]), array([0, 1]), array([0, 1]), array([0, 1]), array([0, 1]), array([0, 1]), array([0, 1]), array([0, 1]), array([0, 1]), array([0, 1]), array([0, 1]), array([0, 1]), array([0, 1]), array([0, 1]), array([0, 1]), array([0, 1]), array([0, 1]), array([0, 1]), array([0, 1]), array([0, 1]), array([0, 1]), array([0, 1]), array([0, 1]), array([0, 1]), array([0, 1]), array([0, 1]), array([0, 1]), array([0, 1]), array([0, 1]), array([0, 1]), array([0, 1]), array([0, 1]), array([0, 1]), array([0, 1]), array([0, 1]), array([0, 1]), array([0, 1]), array([0, 1]), array([0, 1]), array([0, 1]), array([0, 1]), array([0, 1]), array([0, 1]), array([0, 1]), array([0, 1]), array([0, 1]), array([0, 1]), array([0, 1]), array([0, 1]), array([0, 1]), array([0, 1]), array([0, 1]), array([0, 1]), array([0, 1]), array([0, 1]), array([0, 1]), array([0, 1]), array([0, 1]), array([0, 1]), array([0, 1]), array([0, 1]), array([0, 1]), array([0, 1]), array([0, 1]), array([0, 1]), array([0, 1]), array([0, 1]), array([0, 1]), array([0, 1]), array([0, 1]), array([0, 1]), array([0, 1]), array([0, 1]), array([0, 1]), array([0, 1]), array([0, 1]), array([0, 1]), array([0, 1]), array([0, 1]), array([0, 1]), array([0, 1]), array([0, 1]), array([0, 1]), array([0, 1]), array([0, 1]), array([0, 1]), array([0, 1]), array([0, 1]), array([0, 1]), array([0, 1]), array([0, 1]), array([0, 1]), array([0, 1]), array([0, 1]), array([0, 1]), array([0, 1]), array([0, 1]), array([0, 1]), array([0, 1]), array([0, 1]), array([0, 1]), array([0, 1]), array([0, 1]), array([0, 1]), array([0, 1]), array([0, 1]), array([0, 1]), array([0, 1]), array([0, 1]), array([0, 1]), array([0, 1]), array([0, 1]), array([0, 1]), array([0, 1]), array([0, 1]), array([0, 1]), array([0, 1]), array([0, 1]), array([0, 1]), array([0, 1]), array([0, 1]), array([0, 1]), array([0, 1]), array([0, 1]), array([0, 1]), array([0, 1]), array([0, 1]), array([0, 1]), array([0, 1]), array([0, 1]), array([0, 1]), array([0, 1]), array([0, 1]), array([0, 1]), array([0, 1]), array([0, 1]), array([0, 1]), array([0, 1]), array([0, 1]), array([0, 1]), array([0, 1]), array([0, 1]), array([0, 1]), array([0, 1]), array([0, 1]), array([0, 1]), array([0, 1]), array([0, 1]), array([0, 1]), array([0, 1]), array([0, 1]), array([0, 1]), array([0, 1]), array([0, 1]), array([0, 1]), array([0, 1]), array([0, 1]), array([0, 1]), array([0, 1]), array([0, 1]), array([0, 1]), array([0, 1]), array([0, 1]), array([0, 1]), array([0, 1]), array([0, 1]), array([0, 1]), array([0, 1]), array([0, 1]), array([0, 1]), array([0, 1]), array([0, 1]), array([0, 1]), array([0, 1]), array([0, 1]), array([0, 1]), array([0, 1]), array([0, 1]), array([0, 1]), array([0, 1]), array([0, 1]), array([0, 1]), array([0, 1]), array([0, 1]), array([0, 1]), array([0, 1]), array([0, 1]), array([0, 1]), array([0, 1]), array([0, 1]), array([0, 1]), array([0, 1]), array([0, 1]), array([0, 1]), array([0, 1]), array([0, 1]), array([0, 1]), array([0, 1]), array([0, 1]), array([0, 1]), array([0, 1]), array([0, 1]), array([0, 1]), array([0, 1]), array([0, 1]), array([0, 1]), array([0, 1]), array([0, 1]), array([0, 1]), array([0, 1]), array([0, 1]), array([0, 1]), array([0, 1]), array([0, 1]), array([0, 1]), array([0, 1]), array([0, 1]), array([0, 1]), array([0, 1]), array([0, 1]), array([0, 1]), array([0, 1]), array([0, 1]), array([0, 1]), array([0, 1]), array([0, 1]), array([0, 1]), array([0, 1]), array([0, 1]), array([0, 1]), array([0, 1]), array([0, 1]), array([0, 1]), array([0, 1]), array([0, 1]), array([0, 1]), array([0, 1]), array([0, 1]), array([0, 1]), array([0, 1]), array([0, 1]), array([0, 1]), array([0, 1]), array([0, 1]), array([0, 1]), array([0, 1]), array([0, 1]), array([0, 1]), array([0, 1]), array([0, 1]), array([0, 1]), array([0, 1]), array([0, 1]), array([0, 1]), array([0, 1]), array([0, 1]), array([0, 1]), array([0, 1]), array([0, 1]), array([0, 1]), array([0, 1]), array([0, 1]), array([0, 1]), array([0, 1]), array([0, 1]), array([0, 1]), array([0, 1]), array([0, 1]), array([0, 1]), array([0, 1]), array([0, 1]), array([0, 1]), array([0, 1]), array([0, 1]), array([0, 1]), array([0, 1]), array([0, 1]), array([0, 1]), array([0, 1]), array([0, 1]), array([0, 1]), array([0, 1]), array([0, 1]), array([0, 1]), array([0, 1]), array([0, 1]), array([0, 1]), array([0, 1]), array([0, 1]), array([0, 1]), array([0, 1]), array([0, 1]), array([0, 1]), array([0, 1]), array([0, 1]), array([0, 1]), array([0, 1]), array([0, 1]), array([0, 1]), array([0, 1]), array([0, 1]), array([0, 1]), array([0, 1]), array([0, 1]), array([0, 1]), array([0, 1]), array([0, 1]), array([0, 1]), array([0, 1]), array([0, 1]), array([0, 1]), array([0, 1]), array([0, 1]), array([0, 1]), array([0, 1]), array([0, 1]), array([0, 1]), array([0, 1]), array([0, 1]), array([0, 1]), array([0, 1]), array([0, 1]), array([0, 1]), array([0, 1]), array([0, 1]), array([0, 1]), array([0, 1]), array([0, 1]), array([0, 1]), array([0, 1]), array([0, 1]), array([0, 1]), array([0, 1]), array([0, 1]), array([0, 1]), array([0, 1]), array([0, 1]), array([0, 1]), array([0, 1]), array([0, 1]), array([0, 1]), array([0, 1]), array([0, 1]), array([0, 1]), array([0, 1]), array([0, 1]), array([0, 1]), array([0, 1]), array([0, 1]), array([0, 1]), array([0, 1]), array([0, 1]), array([0, 1]), array([0, 1]), array([0, 1]), array([0, 1]), array([0, 1]), array([0, 1]), array([0, 1]), array([0, 1]), array([0, 1]), array([0, 1]), array([0, 1]), array([0, 1]), array([0, 1]), array([0, 1]), array([0, 1]), array([0, 1]), array([0, 1]), array([0, 1]), array([0, 1]), array([0, 1]), array([0, 1]), array([0, 1]), array([0, 1]), array([0, 1]), array([0, 1]), array([0, 1]), array([0, 1]), array([0, 1]), array([0, 1]), array([0, 1]), array([0, 1]), array([0, 1]), array([0, 1]), array([0, 1]), array([0, 1]), array([0, 1]), array([0, 1]), array([0, 1]), array([0, 1]), array([0, 1]), array([0, 1]), array([0, 1]), array([0, 1]), array([0, 1]), array([0, 1]), array([0, 1]), array([0, 1]), array([0, 1]), array([0, 1]), array([0, 1]), array([0, 1]), array([0, 1]), array([0, 1]), array([0, 1]), array([0, 1]), array([0, 1]), array([0, 1]), array([0, 1]), array([0, 1]), array([0, 1]), array([0, 1]), array([0, 1]), array([0, 1]), array([0, 1]), array([0, 1]), array([0, 1]), array([0, 1]), array([0, 1]), array([0, 1]), array([0, 1]), array([0, 1]), array([0, 1]), array([0, 1]), array([0, 1]), array([0, 1]), array([0, 1]), array([0, 1]), array([0, 1]), array([0, 1]), array([0, 1]), array([0, 1]), array([0, 1]), array([0, 1]), array([0, 1]), array([0, 1]), array([0, 1]), array([0, 1]), array([0, 1]), array([0, 1]), array([0, 1]), array([0, 1]), array([0, 1]), array([0, 1]), array([0, 1]), array([0, 1]), array([0, 1]), array([0, 1]), array([0, 1]), array([0, 1]), array([0, 1]), array([0, 1]), array([0, 1]), array([0, 1]), array([0, 1]), array([0, 1]), array([0, 1]), array([0, 1]), array([0, 1]), array([0, 1]), array([0, 1]), array([0, 1]), array([0, 1]), array([0, 1]), array([0, 1]), array([0, 1]), array([0, 1]), array([0, 1]), array([0, 1]), array([0, 1]), array([0, 1]), array([0, 1]), array([0, 1]), array([0, 1]), array([0, 1]), array([0, 1]), array([0, 1]), array([0, 1]), array([0, 1]), array([0, 1]), array([0, 1]), array([0, 1]), array([0, 1]), array([0, 1]), array([0, 1]), array([0, 1]), array([0, 1]), array([0, 1]), array([0, 1]), array([0, 1]), array([0, 1]), array([0, 1]), array([0, 1]), array([0, 1]), array([0, 1]), array([0, 1]), array([0, 1]), array([0, 1]), array([0, 1]), array([0, 1]), array([0, 1]), array([0, 1]), array([0, 1]), array([0, 1]), array([0, 1]), array([0, 1]), array([0, 1]), array([0, 1]), array([0, 1]), array([0, 1]), array([0, 1]), array([0, 1]), array([0, 1]), array([0, 1]), array([0, 1]), array([0, 1]), array([0, 1]), array([0, 1]), array([0, 1]), array([0, 1]), array([0, 1]), array([0, 1]), array([0, 1]), array([0, 1]), array([0, 1]), array([0, 1]), array([0, 1]), array([0, 1]), array([0, 1]), array([0, 1]), array([0, 1]), array([0, 1]), array([0, 1]), array([0, 1]), array([0, 1]), array([0, 1]), array([0, 1]), array([0, 1]), array([0, 1]), array([0, 1]), array([0, 1]), array([0, 1]), array([0, 1]), array([0, 1]), array([0, 1]), array([0, 1]), array([0, 1]), array([0, 1]), array([0, 1]), array([0, 1]), array([0, 1]), array([0, 1]), array([0, 1]), array([0, 1]), array([0, 1]), array([0, 1]), array([0, 1]), array([0, 1]), array([0, 1]), array([0, 1]), array([0, 1]), array([0, 1]), array([0, 1]), array([0, 1]), array([0, 1]), array([0, 1]), array([0, 1]), array([0, 1]), array([0, 1]), array([0, 1]), array([0, 1]), array([0, 1]), array([0, 1]), array([0, 1]), array([0, 1]), array([0, 1]), array([0, 1]), array([0, 1]), array([0, 1]), array([0, 1]), array([0, 1]), array([0, 1]), array([0, 1]), array([0, 1]), array([0, 1]), array([0, 1]), array([0, 1]), array([0, 1]), array([0, 1]), array([0, 1]), array([0, 1]), array([0, 1]), array([0, 1]), array([0, 1]), array([0, 1]), array([0, 1]), array([0, 1]), array([0, 1]), array([0, 1]), array([0, 1]), array([0, 1]), array([0, 1]), array([0, 1]), array([0, 1]), array([0, 1]), array([0, 1]), array([0, 1]), array([0, 1]), array([0, 1]), array([0, 1]), array([0, 1]), array([0, 1]), array([0, 1]), array([0, 1]), array([0, 1]), array([0, 1]), array([0, 1]), array([0, 1]), array([0, 1]), array([0, 1]), array([0, 1]), array([0, 1]), array([0, 1]), array([0, 1]), array([0, 1]), array([0, 1]), array([0, 1]), array([0, 1]), array([0, 1]), array([0, 1]), array([0, 1]), array([0, 1]), array([0, 1]), array([0, 1]), array([0, 1]), array([0, 1]), array([0, 1]), array([0, 1]), array([0, 1]), array([0, 1]), array([0, 1]), array([0, 1]), array([0, 1]), array([0, 1]), array([0, 1]), array([0, 1]), array([0, 1]), array([0, 1]), array([0, 1]), array([0, 1]), array([0, 1]), array([0, 1]), array([0, 1]), array([0, 1]), array([0, 1]), array([0, 1]), array([0, 1]), array([0, 1]), array([0, 1]), array([0, 1]), array([0, 1]), array([0, 1]), array([0, 1]), array([0, 1]), array([0, 1]), array([0, 1]), array([0, 1]), array([0, 1]), array([0, 1]), array([0, 1]), array([0, 1]), array([0, 1]), array([0, 1]), array([0, 1]), array([0, 1]), array([0, 1]), array([0, 1]), array([0, 1]), array([0, 1]), array([0, 1]), array([0, 1]), array([0, 1]), array([0, 1]), array([0, 1]), array([0, 1]), array([0, 1]), array([0, 1]), array([0, 1]), array([0, 1]), array([0, 1]), array([0, 1]), array([0, 1]), array([0, 1]), array([0, 1]), array([0, 1]), array([0, 1]), array([0, 1]), array([0, 1]), array([0, 1]), array([0, 1]), array([0, 1]), array([0, 1]), array([0, 1]), array([0, 1]), array([0, 1]), array([0, 1]), array([0, 1]), array([0, 1]), array([0, 1]), array([0, 1]), array([0, 1]), array([0, 1]), array([0, 1]), array([0, 1]), array([0, 1]), array([0, 1]), array([0, 1]), array([0, 1]), array([0, 1]), array([0, 1]), array([0, 1]), array([0, 1]), array([0, 1]), array([0, 1]), array([0, 1]), array([0, 1]), array([0, 1]), array([0, 1]), array([0, 1]), array([0, 1]), array([0, 1]), array([0, 1]), array([0, 1]), array([0, 1]), array([0, 1]), array([0, 1]), array([0, 1]), array([0, 1]), array([0, 1]), array([0, 1]), array([0, 1]), array([0, 1]), array([0, 1]), array([0, 1]), array([0, 1]), array([0, 1]), array([0, 1]), array([0, 1]), array([0, 1]), array([0, 1]), array([0, 1]), array([0, 1]), array([0, 1]), array([0, 1]), array([0, 1]), array([0, 1]), array([0, 1]), array([0, 1]), array([0, 1]), array([0, 1]), array([0, 1]), array([0, 1]), array([0, 1]), array([0, 1]), array([0, 1]), array([0, 1]), array([0, 1]), array([0, 1]), array([0, 1]), array([0, 1]), array([0, 1]), array([0, 1]), array([0, 1]), array([0, 1]), array([0, 1]), array([0, 1]), array([0, 1]), array([0, 1]), array([0, 1]), array([0, 1]), array([0, 1]), array([0, 1]), array([0, 1]), array([0, 1]), array([0, 1]), array([0, 1]), array([0, 1]), array([0, 1]), array([0, 1]), array([0, 1]), array([0, 1]), array([0, 1]), array([0, 1]), array([0, 1]), array([0, 1]), array([0, 1]), array([0, 1]), array([0, 1]), array([0, 1]), array([0, 1]), array([0, 1]), array([0, 1]), array([0, 1]), array([0, 1]), array([0, 1]), array([0, 1]), array([0, 1]), array([0, 1]), array([0, 1]), array([0, 1]), array([0, 1]), array([0, 1]), array([0, 1]), array([0, 1]), array([0, 1]), array([0, 1]), array([0, 1]), array([0, 1]), array([0, 1]), array([0, 1]), array([0, 1]), array([0, 1]), array([0, 1]), array([0, 1]), array([0, 1]), array([0, 1]), array([0, 1]), array([0, 1]), array([0, 1]), array([0, 1]), array([0, 1]), array([0, 1]), array([0, 1]), array([0, 1]), array([0, 1]), array([0, 1]), array([0, 1]), array([0, 1]), array([0, 1]), array([0, 1]), array([0, 1]), array([0, 1]), array([0, 1]), array([0, 1]), array([0, 1]), array([0, 1]), array([0, 1]), array([0, 1]), array([0, 1]), array([0, 1]), array([0, 1]), array([0, 1]), array([0, 1]), array([0, 1]), array([0, 1]), array([0, 1]), array([0, 1]), array([0, 1]), array([0, 1]), array([0, 1]), array([0, 1]), array([0, 1]), array([0, 1]), array([0, 1]), array([0, 1]), array([0, 1]), array([0, 1]), array([0, 1]), array([0, 1]), array([0, 1]), array([0, 1]), array([0, 1]), array([0, 1]), array([0, 1]), array([0, 1]), array([0, 1]), array([0, 1]), array([0, 1]), array([0, 1]), array([0, 1]), array([0, 1]), array([0, 1]), array([0, 1]), array([0, 1]), array([0, 1]), array([0, 1]), array([0, 1]), array([0, 1]), array([0, 1]), array([0, 1]), array([0, 1]), array([0, 1]), array([0, 1]), array([0, 1]), array([0, 1]), array([0, 1]), array([0, 1]), array([0, 1]), array([0, 1]), array([0, 1]), array([0, 1]), array([0, 1]), array([0, 1]), array([0, 1]), array([0, 1]), array([0, 1]), array([0, 1]), array([0, 1]), array([0, 1]), array([0, 1]), array([0, 1]), array([0, 1]), array([0, 1]), array([0, 1]), array([0, 1]), array([0, 1]), array([0, 1]), array([0, 1]), array([0, 1]), array([0, 1]), array([0, 1]), array([0, 1]), array([0, 1]), array([0, 1]), array([0, 1]), array([0, 1]), array([0, 1]), array([0, 1]), array([0, 1]), array([0, 1]), array([0, 1]), array([0, 1]), array([0, 1]), array([0, 1]), array([0, 1]), array([0, 1]), array([0, 1]), array([0, 1]), array([0, 1]), array([0, 1]), array([0, 1]), array([0, 1]), array([0, 1]), array([0, 1]), array([0, 1]), array([0, 1]), array([0, 1]), array([0, 1]), array([0, 1]), array([0, 1]), array([0, 1]), array([0, 1]), array([0, 1]), array([0, 1]), array([0, 1]), array([0, 1]), array([0, 1]), array([0, 1]), array([0, 1]), array([0, 1]), array([0, 1]), array([0, 1]), array([0, 1]), array([0, 1]), array([0, 1]), array([0, 1]), array([0, 1]), array([0, 1]), array([0, 1]), array([0, 1]), array([0, 1]), array([0, 1]), array([0, 1]), array([0, 1]), array([0, 1]), array([0, 1]), array([0, 1]), array([0, 1]), array([0, 1]), array([0, 1]), array([0, 1]), array([0, 1]), array([0, 1]), array([0, 1]), array([0, 1]), array([0, 1]), array([0, 1]), array([0, 1]), array([0, 1]), array([0, 1]), array([0, 1]), array([0, 1]), array([0, 1]), array([0, 1]), array([0, 1]), array([0, 1]), array([0, 1]), array([0, 1]), array([0, 1]), array([0, 1]), array([0, 1]), array([0, 1]), array([0, 1]), array([0, 1]), array([0, 1]), array([0, 1]), array([0, 1]), array([0, 1]), array([0, 1]), array([0, 1]), array([0, 1]), array([0, 1]), array([0, 1]), array([0, 1]), array([0, 1]), array([0, 1]), array([0, 1]), array([0, 1]), array([0, 1]), array([0, 1]), array([0, 1]), array([0, 1]), array([0, 1]), array([0, 1]), array([0, 1]), array([0, 1]), array([0, 1]), array([0, 1]), array([0, 1]), array([0, 1]), array([0, 1]), array([0, 1]), array([0, 1]), array([0, 1]), array([0, 1]), array([0, 1]), array([0, 1]), array([0, 1]), array([0, 1]), array([0, 1]), array([0, 1]), array([0, 1]), array([0, 1]), array([0, 1]), array([0, 1]), array([0, 1]), array([0, 1]), array([0, 1]), array([0, 1]), array([0, 1]), array([0, 1]), array([0, 1]), array([0, 1]), array([0, 1]), array([0, 1]), array([0, 1]), array([0, 1]), array([0, 1]), array([0, 1]), array([0, 1]), array([0, 1]), array([0, 1]), array([0, 1]), array([0, 1]), array([0, 1]), array([0, 1]), array([0, 1]), array([0, 1]), array([0, 1]), array([0, 1]), array([0, 1]), array([0, 1]), array([0, 1]), array([0, 1]), array([0, 1]), array([0, 1]), array([0, 1]), array([0, 1]), array([0, 1]), array([0, 1]), array([0, 1]), array([0, 1]), array([0, 1]), array([0, 1]), array([0, 1]), array([0, 1]), array([0, 1]), array([0, 1]), array([0, 1]), array([0, 1]), array([0, 1]), array([0, 1]), array([0, 1]), array([0, 1]), array([0, 1]), array([0, 1]), array([0, 1]), array([0, 1]), array([0, 1]), array([0, 1]), array([0, 1]), array([0, 1]), array([0, 1]), array([0, 1]), array([0, 1]), array([0, 1]), array([0, 1]), array([0, 1]), array([0, 1]), array([0, 1]), array([0, 1]), array([0, 1]), array([0, 1]), array([0, 1]), array([0, 1]), array([0, 1]), array([0, 1]), array([0, 1]), array([0, 1]), array([0, 1]), array([0, 1]), array([0, 1]), array([0, 1]), array([0, 1]), array([0, 1]), array([0, 1]), array([0, 1]), array([0, 1]), array([0, 1]), array([0, 1]), array([0, 1]), array([0, 1]), array([0, 1]), array([0, 1]), array([0, 1]), array([0, 1]), array([0, 1]), array([0, 1]), array([0, 1]), array([0, 1]), array([0, 1]), array([0, 1]), array([0, 1]), array([0, 1]), array([0, 1]), array([0, 1]), array([0, 1]), array([0, 1]), array([0, 1]), array([0, 1]), array([0, 1]), array([0, 1]), array([0, 1]), array([0, 1]), array([0, 1]), array([0, 1]), array([0, 1]), array([0, 1]), array([0, 1]), array([0, 1]), array([0, 1]), array([0, 1]), array([0, 1]), array([0, 1]), array([0, 1]), array([0, 1]), array([0, 1]), array([0, 1]), array([0, 1]), array([0, 1]), array([0, 1]), array([0, 1]), array([0, 1]), array([0, 1]), array([0, 1]), array([0, 1]), array([0, 1]), array([0, 1]), array([0, 1]), array([0, 1]), array([0, 1]), array([0, 1]), array([0, 1]), array([0, 1]), array([0, 1]), array([0, 1]), array([0, 1]), array([0, 1]), array([0, 1]), array([0, 1]), array([0, 1]), array([0, 1]), array([0, 1]), array([0, 1]), array([0, 1]), array([0, 1]), array([0, 1]), array([0, 1]), array([0, 1]), array([0, 1]), array([0, 1]), array([0, 1]), array([0, 1]), array([0, 1]), array([0, 1]), array([0, 1]), array([0, 1]), array([0, 1]), array([0, 1]), array([0, 1]), array([0, 1]), array([0, 1]), array([0, 1]), array([0, 1]), array([0, 1]), array([0, 1]), array([0, 1]), array([0, 1]), array([0, 1]), array([0, 1]), array([0, 1]), array([0, 1]), array([0, 1]), array([0, 1]), array([0, 1]), array([0, 1]), array([0, 1]), array([0, 1]), array([0, 1]), array([0, 1]), array([0, 1]), array([0, 1]), array([0, 1]), array([0, 1]), array([0, 1]), array([0, 1]), array([0, 1]), array([0, 1]), array([0, 1]), array([0, 1]), array([0, 1]), array([0, 1]), array([0, 1]), array([0, 1]), array([0, 1]), array([0, 1]), array([0, 1]), array([0, 1]), array([0, 1]), array([0, 1]), array([0, 1]), array([0, 1]), array([0, 1]), array([0, 1]), array([0, 1]), array([0, 1]), array([0, 1]), array([0, 1]), array([0, 1]), array([0, 1]), array([0, 1]), array([0, 1]), array([0, 1]), array([0, 1]), array([0, 1]), array([0, 1]), array([0, 1]), array([0, 1]), array([0, 1]), array([0, 1]), array([0, 1]), array([0, 1]), array([0, 1]), array([0, 1]), array([0, 1]), array([0, 1]), array([0, 1]), array([0, 1]), array([0, 1]), array([0, 1]), array([0, 1]), array([0, 1]), array([0, 1]), array([0, 1]), array([0, 1]), array([0, 1]), array([0, 1]), array([0, 1]), array([0, 1]), array([0, 1]), array([0, 1]), array([0, 1]), array([0, 1]), array([0, 1]), array([0, 1]), array([0, 1]), array([0, 1]), array([0, 1]), array([0, 1]), array([0, 1]), array([0, 1]), array([0, 1]), array([0, 1]), array([0, 1]), array([0, 1]), array([0, 1]), array([0, 1]), array([0, 1]), array([0, 1]), array([0, 1]), array([0, 1]), array([0, 1]), array([0, 1]), array([0, 1]), array([0, 1]), array([0, 1]), array([0, 1]), array([0, 1]), array([0, 1]), array([0, 1]), array([0, 1]), array([0, 1]), array([0, 1]), array([0, 1]), array([0, 1]), array([0, 1]), array([0, 1]), array([0, 1]), array([0, 1]), array([0, 1]), array([0, 1]), array([0, 1]), array([0, 1]), array([0, 1]), array([0, 1]), array([0, 1]), array([0, 1]), array([0, 1]), array([0, 1]), array([0, 1]), array([0, 1]), array([0, 1]), array([0, 1]), array([0, 1]), array([0, 1]), array([0, 1]), array([0, 1]), array([0, 1]), array([0, 1]), array([0, 1]), array([0, 1]), array([0, 1]), array([0, 1]), array([0, 1]), array([0, 1]), array([0, 1]), array([0, 1]), array([0, 1]), array([0, 1]), array([0, 1]), array([0, 1]), array([0, 1]), array([0, 1]), array([0, 1]), array([0, 1]), array([0, 1]), array([0, 1]), array([0, 1]), array([0, 1]), array([0, 1]), array([0, 1]), array([0, 1]), array([0, 1]), array([0, 1]), array([0, 1]), array([0, 1]), array([0, 1]), array([0, 1]), array([0, 1]), array([0, 1]), array([0, 1]), array([0, 1]), array([0, 1]), array([0, 1]), array([0, 1]), array([0, 1]), array([0, 1]), array([0, 1]), array([0, 1]), array([0, 1]), array([0, 1]), array([0, 1]), array([0, 1]), array([0, 1]), array([0, 1]), array([0, 1]), array([0, 1]), array([0, 1]), array([0, 1]), array([0, 1]), array([0, 1]), array([0, 1]), array([0, 1]), array([0, 1]), array([0, 1]), array([0, 1]), array([0, 1]), array([0, 1]), array([0, 1]), array([0, 1]), array([0, 1]), array([0, 1]), array([0, 1]), array([0, 1]), array([0, 1]), array([0, 1]), array([0, 1]), array([0, 1]), array([0, 1]), array([0, 1]), array([0, 1]), array([0, 1]), array([0, 1]), array([0, 1]), array([0, 1]), array([0, 1]), array([0, 1]), array([0, 1]), array([0, 1]), array([0, 1]), array([0, 1]), array([0, 1]), array([0, 1]), array([0, 1]), array([0, 1]), array([0, 1]), array([0, 1]), array([0, 1]), array([0, 1]), array([0, 1]), array([0, 1]), array([0, 1]), array([0, 1]), array([0, 1]), array([0, 1]), array([0, 1]), array([0, 1]), array([0, 1]), array([0, 1]), array([0, 1]), array([0, 1]), array([0, 1]), array([0, 1]), array([0, 1]), array([0, 1]), array([0, 1]), array([0, 1]), array([0, 1]), array([0, 1]), array([0, 1]), array([0, 1]), array([0, 1]), array([0, 1]), array([0, 1]), array([0, 1]), array([0, 1]), array([0, 1]), array([0, 1]), array([0, 1]), array([0, 1]), array([0, 1]), array([0, 1]), array([0, 1]), array([0, 1]), array([0, 1]), array([0, 1]), array([0, 1]), array([0, 1]), array([0, 1]), array([0, 1]), array([0, 1]), array([0, 1]), array([0, 1]), array([0, 1]), array([0, 1]), array([0, 1]), array([0, 1]), array([0, 1]), array([0, 1]), array([0, 1]), array([0, 1]), array([0, 1]), array([0, 1]), array([0, 1]), array([0, 1]), array([0, 1]), array([0, 1]), array([0, 1]), array([0, 1]), array([0, 1]), array([0, 1]), array([0, 1]), array([0, 1]), array([0, 1]), array([0, 1]), array([0, 1]), array([0, 1]), array([0, 1]), array([0, 1]), array([0, 1]), array([0, 1]), array([0, 1]), array([0, 1]), array([0, 1]), array([0, 1]), array([0, 1]), array([0, 1]), array([0, 1]), array([0, 1]), array([0, 1]), array([0, 1]), array([0, 1]), array([0, 1]), array([0, 1]), array([0, 1]), array([0, 1]), array([0, 1]), array([0, 1]), array([0, 1]), array([0, 1]), array([0, 1]), array([0, 1]), array([0, 1]), array([0, 1]), array([0, 1]), array([0, 1]), array([0, 1]), array([0, 1]), array([0, 1]), array([0, 1]), array([0, 1]), array([0, 1]), array([0, 1]), array([0, 1]), array([0, 1]), array([0, 1]), array([0, 1]), array([0, 1]), array([0, 1]), array([0, 1]), array([0, 1]), array([0, 1]), array([0, 1]), array([0, 1]), array([0, 1]), array([0, 1]), array([0, 1]), array([0, 1]), array([0, 1]), array([0, 1]), array([0, 1]), array([0, 1]), array([0, 1]), array([0, 1]), array([0, 1]), array([0, 1]), array([0, 1]), array([0, 1]), array([0, 1]), array([0, 1]), array([0, 1]), array([0, 1]), array([0, 1]), array([0, 1]), array([0, 1]), array([0, 1]), array([0, 1]), array([0, 1]), array([0, 1]), array([0, 1]), array([0, 1]), array([0, 1]), array([0, 1]), array([0, 1]), array([0, 1]), array([0, 1]), array([0, 1]), array([0, 1]), array([0, 1]), array([0, 1]), array([0, 1]), array([0, 1]), array([0, 1]), array([0, 1]), array([0, 1]), array([0, 1]), array([0, 1]), array([0, 1]), array([0, 1]), array([0, 1]), array([0, 1]), array([0, 1]), array([0, 1]), array([0, 1]), array([0, 1]), array([0, 1]), array([0, 1]), array([0, 1]), array([0, 1]), array([0, 1]), array([0, 1]), array([0, 1]), array([0, 1]), array([0, 1]), array([0, 1]), array([0, 1]), array([0, 1]), array([0, 1]), array([0, 1]), array([0, 1]), array([0, 1]), array([0, 1]), array([0, 1]), array([0, 1]), array([0, 1]), array([0, 1]), array([0, 1]), array([0, 1]), array([0, 1]), array([0, 1]), array([0, 1]), array([0, 1]), array([0, 1]), array([0, 1]), array([0, 1]), array([0, 1]), array([0, 1]), array([0, 1]), array([0, 1]), array([0, 1]), array([0, 1]), array([0, 1]), array([0, 1]), array([0, 1]), array([0, 1]), array([0, 1]), array([0, 1]), array([0, 1]), array([0, 1]), array([0, 1]), array([0, 1]), array([0, 1]), array([0, 1]), array([0, 1]), array([0, 1]), array([0, 1]), array([0, 1]), array([0, 1]), array([0, 1]), array([0, 1]), array([0, 1]), array([0, 1]), array([0, 1]), array([0, 1]), array([0, 1]), array([0, 1]), array([0, 1]), array([0, 1]), array([0, 1]), array([0, 1]), array([0, 1]), array([0, 1]), array([0, 1]), array([0, 1]), array([0, 1]), array([0, 1]), array([0, 1]), array([0, 1]), array([0, 1]), array([0, 1]), array([0, 1]), array([0, 1]), array([0, 1]), array([0, 1]), array([0, 1]), array([0, 1]), array([0, 1]), array([0, 1]), array([0, 1]), array([0, 1]), array([0, 1]), array([0, 1]), array([0, 1]), array([0, 1]), array([0, 1]), array([0, 1]), array([0, 1]), array([0, 1]), array([0, 1]), array([0, 1]), array([0, 1]), array([0, 1]), array([0, 1]), array([0, 1]), array([0, 1]), array([0, 1]), array([0, 1]), array([0, 1]), array([0, 1]), array([0, 1]), array([0, 1]), array([0, 1]), array([0, 1]), array([0, 1]), array([0, 1]), array([0, 1]), array([0, 1]), array([0, 1]), array([0, 1]), array([0, 1]), array([0, 1]), array([0, 1]), array([0, 1]), array([0, 1]), array([0, 1]), array([0, 1]), array([0, 1]), array([0, 1]), array([0, 1]), array([0, 1]), array([0, 1]), array([0, 1]), array([0, 1]), array([0, 1]), array([0, 1]), array([0, 1]), array([0, 1]), array([0, 1]), array([0, 1]), array([0, 1]), array([0, 1]), array([0, 1]), array([0, 1]), array([0, 1]), array([0, 1]), array([0, 1]), array([0, 1]), array([0, 1]), array([0, 1]), array([0, 1]), array([0, 1]), array([0, 1]), array([0, 1]), array([0, 1]), array([0, 1]), array([0, 1]), array([0, 1]), array([0, 1]), array([0, 1]), array([0, 1]), array([0, 1]), array([0, 1]), array([0, 1]), array([0, 1]), array([0, 1]), array([0, 1]), array([0, 1]), array([0, 1]), array([0, 1]), array([0, 1]), array([0, 1]), array([0, 1]), array([0, 1]), array([0, 1]), array([0, 1]), array([0, 1]), array([0, 1]), array([0, 1]), array([0, 1]), array([0, 1]), array([0, 1]), array([0, 1]), array([0, 1]), array([0, 1]), array([0, 1]), array([0, 1]), array([0, 1]), array([0, 1]), array([0, 1]), array([0, 1]), array([0, 1]), array([0, 1]), array([0, 1]), array([0, 1]), array([0, 1]), array([0, 1]), array([0, 1]), array([0, 1]), array([0, 1]), array([0, 1]), array([0, 1]), array([0, 1]), array([0, 1]), array([0, 1]), array([0, 1]), array([0, 1]), array([0, 1]), array([0, 1]), array([0, 1]), array([0, 1]), array([0, 1]), array([0, 1]), array([0, 1]), array([0, 1]), array([0, 1]), array([0, 1]), array([0, 1]), array([0, 1]), array([0, 1]), array([0, 1]), array([0, 1]), array([0, 1]), array([0, 1]), array([0, 1]), array([0, 1]), array([0, 1]), array([0, 1]), array([0, 1]), array([0, 1]), array([0, 1]), array([0, 1]), array([0, 1]), array([0, 1]), array([0, 1]), array([0, 1]), array([0, 1]), array([0, 1]), array([0, 1]), array([0, 1]), array([0, 1]), array([0, 1]), array([0, 1]), array([0, 1]), array([0, 1]), array([0, 1]), array([0, 1]), array([0, 1]), array([0, 1]), array([0, 1]), array([0, 1]), array([0, 1]), array([0, 1]), array([0, 1]), array([0, 1]), array([0, 1]), array([0, 1]), array([0, 1]), array([0, 1]), array([0, 1]), array([0, 1]), array([0, 1]), array([0, 1]), array([0, 1]), array([0, 1]), array([0, 1]), array([0, 1]), array([0, 1]), array([0, 1]), array([0, 1]), array([0, 1]), array([0, 1]), array([0, 1]), array([0, 1]), array([0, 1]), array([0, 1]), array([0, 1]), array([0, 1]), array([0, 1]), array([0, 1]), array([0, 1]), array([0, 1]), array([0, 1]), array([0, 1]), array([0, 1]), array([0, 1]), array([0, 1]), array([0, 1]), array([0, 1]), array([0, 1]), array([0, 1]), array([0, 1]), array([0, 1]), array([0, 1]), array([0, 1]), array([0, 1]), array([0, 1]), array([0, 1]), array([0, 1]), array([0, 1]), array([0, 1]), array([0, 1]), array([0, 1]), array([0, 1]), array([0, 1]), array([0, 1]), array([0, 1]), array([0, 1]), array([0, 1]), array([0, 1]), array([0, 1]), array([0, 1]), array([0, 1]), array([0, 1]), array([0, 1]), array([0, 1]), array([0, 1]), array([0, 1]), array([0, 1]), array([0, 1]), array([0, 1]), array([0, 1]), array([0, 1]), array([0, 1]), array([0, 1]), array([0, 1]), array([0, 1]), array([0, 1]), array([0, 1]), array([0, 1]), array([0, 1]), array([0, 1]), array([0, 1]), array([0, 1]), array([0, 1]), array([0, 1]), array([0, 1]), array([0, 1]), array([0, 1]), array([0, 1]), array([0, 1]), array([0, 1]), array([0, 1]), array([0, 1]), array([0, 1]), array([0, 1]), array([0, 1]), array([0, 1]), array([0, 1]), array([0, 1]), array([0, 1]), array([0, 1]), array([0, 1]), array([0, 1]), array([0, 1]), array([0, 1]), array([0, 1]), array([0, 1]), array([0, 1]), array([0, 1]), array([0, 1]), array([0, 1]), array([0, 1]), array([0, 1]), array([0, 1]), array([0, 1]), array([0, 1]), array([0, 1]), array([0, 1]), array([0, 1]), array([0, 1]), array([0, 1]), array([0, 1]), array([0, 1]), array([0, 1]), array([0, 1]), array([0, 1]), array([0, 1]), array([0, 1]), array([0, 1]), array([0, 1]), array([0, 1]), array([0, 1]), array([0, 1]), array([0, 1]), array([0, 1]), array([0, 1]), array([0, 1]), array([0, 1]), array([0, 1]), array([0, 1]), array([0, 1]), array([0, 1]), array([0, 1]), array([0, 1]), array([0, 1]), array([0, 1]), array([0, 1]), array([0, 1]), array([0, 1]), array([0, 1]), array([0, 1]), array([0, 1]), array([0, 1]), array([0, 1]), array([0, 1]), array([0, 1]), array([0, 1]), array([0, 1]), array([0, 1]), array([0, 1]), array([0, 1]), array([0, 1]), array([0, 1]), array([0, 1]), array([0, 1]), array([0, 1]), array([0, 1]), array([0, 1]), array([0, 1]), array([0, 1]), array([0, 1]), array([0, 1]), array([0, 1]), array([0, 1]), array([0, 1]), array([0, 1]), array([0, 1]), array([0, 1]), array([0, 1]), array([0, 1]), array([0, 1]), array([0, 1]), array([0, 1]), array([0, 1]), array([0, 1]), array([0, 1]), array([0, 1]), array([0, 1]), array([0, 1]), array([0, 1]), array([0, 1]), array([0, 1]), array([0, 1]), array([0, 1]), array([0, 1]), array([0, 1]), array([0, 1]), array([0, 1]), array([0, 1]), array([0, 1]), array([0, 1]), array([0, 1]), array([0, 1]), array([0, 1]), array([0, 1]), array([0, 1]), array([0, 1]), array([0, 1]), array([0, 1]), array([0, 1]), array([0, 1]), array([0, 1]), array([0, 1]), array([0, 1]), array([0, 1]), array([0, 1]), array([0, 1]), array([0, 1]), array([0, 1]), array([0, 1]), array([0, 1]), array([0, 1]), array([0, 1]), array([0, 1]), array([0, 1]), array([0, 1]), array([0, 1]), array([0, 1]), array([0, 1]), array([0, 1]), array([0, 1]), array([0, 1]), array([0, 1]), array([0, 1]), array([0, 1]), array([0, 1]), array([0, 1]), array([0, 1]), array([0, 1]), array([0, 1]), array([0, 1]), array([0, 1]), array([0, 1]), array([0, 1]), array([0, 1]), array([0, 1]), array([0, 1]), array([0, 1]), array([0, 1]), array([0, 1]), array([0, 1]), array([0, 1]), array([0, 1]), array([0, 1]), array([0, 1]), array([0, 1]), array([0, 1]), array([0, 1]), array([0, 1]), array([0, 1]), array([0, 1]), array([0, 1]), array([0, 1]), array([0, 1]), array([0, 1]), array([0, 1]), array([0, 1]), array([0, 1]), array([0, 1]), array([0, 1]), array([0, 1]), array([0, 1]), array([0, 1]), array([0, 1]), array([0, 1]), array([0, 1]), array([0, 1]), array([0, 1]), array([0, 1]), array([0, 1]), array([0, 1]), array([0, 1]), array([0, 1]), array([0, 1]), array([0, 1]), array([0, 1]), array([0, 1]), array([0, 1]), array([0, 1]), array([0, 1]), array([0, 1]), array([0, 1]), array([0, 1]), array([0, 1]), array([0, 1]), array([0, 1]), array([0, 1]), array([0, 1]), array([0, 1]), array([0, 1]), array([0, 1]), array([0, 1]), array([0, 1]), array([0, 1]), array([0, 1]), array([0, 1]), array([0, 1]), array([0, 1]), array([0, 1]), array([0, 1]), array([0, 1]), array([0, 1]), array([0, 1]), array([0, 1]), array([0, 1]), array([0, 1]), array([0, 1]), array([0, 1]), array([0, 1]), array([0, 1]), array([0, 1]), array([0, 1]), array([0, 1]), array([0, 1]), array([0, 1]), array([0, 1]), array([0, 1]), array([0, 1]), array([0, 1]), array([0, 1]), array([0, 1]), array([0, 1]), array([0, 1]), array([0, 1]), array([0, 1]), array([0, 1]), array([0, 1]), array([0, 1]), array([0, 1]), array([0, 1]), array([0, 1]), array([0, 1]), array([0, 1]), array([0, 1]), array([0, 1]), array([0, 1]), array([0, 1]), array([0, 1]), array([0, 1]), array([0, 1]), array([0, 1]), array([0, 1]), array([0, 1]), array([0, 1]), array([0, 1]), array([0, 1]), array([0, 1]), array([0, 1]), array([0, 1]), array([0, 1]), array([0, 1]), array([0, 1]), array([0, 1]), array([0, 1]), array([0, 1]), array([0, 1]), array([0, 1]), array([0, 1]), array([0, 1]), array([0, 1]), array([0, 1]), array([0, 1]), array([0, 1]), array([0, 1]), array([0, 1]), array([0, 1]), array([0, 1]), array([0, 1]), array([0, 1]), array([0, 1]), array([0, 1]), array([0, 1]), array([0, 1]), array([0, 1]), array([0, 1]), array([0, 1]), array([0, 1]), array([0, 1]), array([0, 1]), array([0, 1]), array([0, 1]), array([0, 1]), array([0, 1]), array([0, 1]), array([0, 1]), array([0, 1]), array([0, 1]), array([0, 1]), array([0, 1]), array([0, 1]), array([0, 1]), array([0, 1]), array([0, 1]), array([0, 1]), array([0, 1]), array([0, 1]), array([0, 1]), array([0, 1]), array([0, 1]), array([0, 1]), array([0, 1]), array([0, 1]), array([0, 1]), array([0, 1]), array([0, 1]), array([0, 1]), array([0, 1]), array([0, 1]), array([0, 1]), array([0, 1]), array([0, 1]), array([0, 1]), array([0, 1]), array([0, 1]), array([0, 1]), array([0, 1]), array([0, 1]), array([0, 1]), array([0, 1]), array([0, 1]), array([0, 1]), array([0, 1]), array([0, 1]), array([0, 1]), array([0, 1]), array([0, 1]), array([0, 1]), array([0, 1]), array([0, 1]), array([0, 1]), array([0, 1]), array([0, 1]), array([0, 1]), array([0, 1]), array([0, 1]), array([0, 1]), array([0, 1]), array([0, 1]), array([0, 1]), array([0, 1]), array([0, 1]), array([0, 1]), array([0, 1]), array([0, 1]), array([0, 1]), array([0, 1]), array([0, 1]), array([0, 1]), array([0, 1]), array([0, 1]), array([0, 1]), array([0, 1]), array([0, 1]), array([0, 1]), array([0, 1]), array([0, 1]), array([0, 1]), array([0, 1]), array([0, 1]), array([0, 1]), array([0, 1]), array([0, 1]), array([0, 1]), array([0, 1]), array([0, 1]), array([0, 1]), array([0, 1]), array([0, 1]), array([0, 1]), array([0, 1]), array([0, 1]), array([0, 1]), array([0, 1]), array([0, 1]), array([0, 1]), array([0, 1]), array([0, 1]), array([0, 1]), array([0, 1]), array([0, 1]), array([0, 1]), array([0, 1]), array([0, 1]), array([0, 1]), array([0, 1]), array([0, 1]), array([0, 1]), array([0, 1]), array([0, 1]), array([0, 1]), array([0, 1]), array([0, 1]), array([0, 1]), array([0, 1]), array([0, 1]), array([0, 1]), array([0, 1]), array([0, 1]), array([0, 1]), array([0, 1]), array([0, 1]), array([0, 1]), array([0, 1]), array([0, 1]), array([0, 1]), array([0, 1]), array([0, 1]), array([0, 1]), array([0, 1]), array([0, 1]), array([0, 1]), array([0, 1]), array([0, 1]), array([0, 1]), array([0, 1]), array([0, 1]), array([0, 1]), array([0, 1]), array([0, 1]), array([0, 1]), array([0, 1]), array([0, 1]), array([0, 1]), array([0, 1]), array([0, 1]), array([0, 1]), array([0, 1]), array([0, 1]), array([0, 1]), array([0, 1]), array([0, 1]), array([0, 1]), array([0, 1]), array([0, 1]), array([0, 1]), array([0, 1]), array([0, 1]), array([0, 1]), array([0, 1]), array([0, 1]), array([0, 1]), array([0, 1]), array([0, 1]), array([0, 1]), array([0, 1]), array([0, 1]), array([0, 1]), array([0, 1]), array([0, 1]), array([0, 1]), array([0, 1]), array([0, 1]), array([0, 1]), array([0, 1]), array([0, 1]), array([0, 1]), array([0, 1]), array([0, 1]), array([0, 1]), array([0, 1]), array([0, 1]), array([0, 1]), array([0, 1]), array([0, 1]), array([0, 1]), array([0, 1]), array([0, 1]), array([0, 1]), array([0, 1]), array([0, 1]), array([0, 1]), array([0, 1]), array([0, 1]), array([0, 1]), array([0, 1]), array([0, 1]), array([0, 1]), array([0, 1]), array([0, 1]), array([0, 1]), array([0, 1]), array([0, 1]), array([0, 1]), array([0, 1]), array([0, 1]), array([0, 1]), array([0, 1]), array([0, 1]), array([0, 1]), array([0, 1]), array([0, 1]), array([0, 1]), array([0, 1]), array([0, 1]), array([0, 1]), array([0, 1]), array([0, 1]), array([0, 1]), array([0, 1]), array([0, 1]), array([0, 1]), array([0, 1]), array([0, 1]), array([0, 1]), array([0, 1]), array([0, 1]), array([0, 1]), array([0, 1]), array([0, 1]), array([0, 1]), array([0, 1]), array([0, 1]), array([0, 1]), array([0, 1]), array([0, 1]), array([0, 1]), array([0, 1]), array([0, 1]), array([0, 1]), array([0, 1]), array([0, 1]), array([0, 1]), array([0, 1]), array([0, 1]), array([0, 1]), array([0, 1]), array([0, 1]), array([0, 1]), array([0, 1]), array([0, 1]), array([0, 1]), array([0, 1]), array([0, 1]), array([0, 1]), array([0, 1]), array([0, 1]), array([0, 1]), array([0, 1]), array([0, 1]), array([0, 1]), array([0, 1]), array([0, 1]), array([0, 1]), array([0, 1]), array([0, 1]), array([0, 1]), array([0, 1]), array([0, 1]), array([0, 1]), array([0, 1]), array([0, 1]), array([0, 1]), array([0, 1]), array([0, 1]), array([0, 1]), array([0, 1]), array([0, 1]), array([0, 1]), array([0, 1]), array([0, 1]), array([0, 1]), array([0, 1]), array([0, 1]), array([0, 1]), array([0, 1]), array([0, 1]), array([0, 1]), array([0, 1]), array([0, 1]), array([0, 1]), array([0, 1]), array([0, 1]), array([0, 1]), array([0, 1]), array([0, 1]), array([0, 1]), array([0, 1]), array([0, 1]), array([0, 1]), array([0, 1]), array([0, 1]), array([0, 1]), array([0, 1]), array([0, 1]), array([0, 1]), array([0, 1]), array([0, 1]), array([0, 1]), array([0, 1]), array([0, 1]), array([0, 1]), array([0, 1]), array([0, 1]), array([0, 1]), array([0, 1]), array([0, 1]), array([0, 1]), array([0, 1]), array([0, 1]), array([0, 1]), array([0, 1]), array([0, 1]), array([0, 1]), array([0, 1]), array([0, 1]), array([0, 1]), array([0, 1]), array([0, 1]), array([0, 1]), array([0, 1]), array([0, 1]), array([0, 1]), array([0, 1]), array([0, 1]), array([0, 1]), array([0, 1]), array([0, 1]), array([0, 1]), array([0, 1]), array([0, 1]), array([0, 1]), array([0, 1]), array([0, 1]), array([0, 1]), array([0, 1]), array([0, 1]), array([0, 1]), array([0, 1]), array([0, 1]), array([0, 1]), array([0, 1]), array([0, 1]), array([0, 1]), array([0, 1]), array([0, 1]), array([0, 1]), array([0, 1]), array([0, 1]), array([0, 1]), array([0, 1]), array([0, 1]), array([0, 1]), array([0, 1]), array([0, 1]), array([0, 1]), array([0, 1]), array([0, 1]), array([0, 1]), array([0, 1]), array([0, 1]), array([0, 1]), array([0, 1]), array([0, 1]), array([0, 1]), array([0, 1]), array([0, 1]), array([0, 1]), array([0, 1]), array([0, 1]), array([0, 1]), array([0, 1]), array([0, 1]), array([0, 1]), array([0, 1]), array([0, 1]), array([0, 1]), array([0, 1]), array([0, 1]), array([0, 1]), array([0, 1]), array([0, 1]), array([0, 1]), array([0, 1]), array([0, 1]), array([0, 1]), array([0, 1]), array([0, 1]), array([0, 1]), array([0, 1]), array([0, 1]), array([0, 1]), array([0, 1]), array([0, 1]), array([0, 1]), array([0, 1]), array([0, 1]), array([0, 1]), array([0, 1]), array([0, 1]), array([0, 1]), array([0, 1]), array([0, 1]), array([0, 1]), array([0, 1]), array([0, 1]), array([0, 1]), array([0, 1]), array([0, 1]), array([0, 1]), array([0, 1]), array([0, 1]), array([0, 1]), array([0, 1]), array([0, 1]), array([0, 1]), array([0, 1]), array([0, 1]), array([0, 1]), array([0, 1]), array([0, 1]), array([0, 1]), array([0, 1]), array([0, 1]), array([0, 1]), array([0, 1]), array([0, 1]), array([0, 1]), array([0, 1]), array([0, 1]), array([0, 1]), array([0, 1]), array([0, 1]), array([0, 1]), array([0, 1]), array([0, 1]), array([0, 1]), array([0, 1]), array([0, 1]), array([0, 1]), array([0, 1]), array([0, 1]), array([0, 1]), array([0, 1]), array([0, 1]), array([0, 1]), array([0, 1]), array([0, 1]), array([0, 1]), array([0, 1]), array([0, 1]), array([0, 1]), array([0, 1]), array([0, 1]), array([0, 1]), array([0, 1]), array([0, 1]), array([0, 1]), array([0, 1]), array([0, 1]), array([0, 1]), array([0, 1]), array([0, 1]), array([0, 1]), array([0, 1]), array([0, 1]), array([0, 1]), array([0, 1]), array([0, 1]), array([0, 1]), array([0, 1]), array([0, 1]), array([0, 1]), array([0, 1]), array([0, 1]), array([0, 1]), array([0, 1]), array([0, 1]), array([0, 1]), array([0, 1]), array([0, 1]), array([0, 1]), array([0, 1]), array([0, 1]), array([0, 1]), array([0, 1]), array([0, 1]), array([0, 1]), array([0, 1]), array([0, 1]), array([0, 1]), array([0, 1]), array([0, 1]), array([0, 1]), array([0, 1]), array([0, 1]), array([0, 1]), array([0, 1]), array([0, 1]), array([0, 1]), array([0, 1]), array([0, 1]), array([0, 1]), array([0, 1]), array([0, 1]), array([0, 1]), array([0, 1]), array([0, 1]), array([0, 1]), array([0, 1]), array([0, 1]), array([0, 1]), array([0, 1]), array([0, 1]), array([0, 1]), array([0, 1]), array([0, 1]), array([0, 1]), array([0, 1]), array([0, 1]), array([0, 1]), array([0, 1]), array([0, 1]), array([0, 1]), array([0, 1]), array([0, 1]), array([0, 1]), array([0, 1]), array([0, 1]), array([0, 1]), array([0, 1]), array([0, 1]), array([0, 1]), array([0, 1]), array([0, 1]), array([0, 1]), array([0, 1]), array([0, 1]), array([0, 1]), array([0, 1]), array([0, 1]), array([0, 1]), array([0, 1]), array([0, 1]), array([0, 1]), array([0, 1]), array([0, 1]), array([0, 1]), array([0, 1]), array([0, 1]), array([0, 1]), array([0, 1]), array([0, 1]), array([0, 1]), array([0, 1]), array([0, 1]), array([0, 1]), array([0, 1]), array([0, 1]), array([0, 1]), array([0, 1]), array([0, 1]), array([0, 1]), array([0, 1]), array([0, 1]), array([0, 1]), array([0, 1]), array([0, 1]), array([0, 1]), array([0, 1]), array([0, 1]), array([0, 1]), array([0, 1]), array([0, 1]), array([0, 1]), array([0, 1]), array([0, 1]), array([0, 1]), array([0, 1]), array([0, 1]), array([0, 1]), array([0, 1]), array([0, 1]), array([0, 1]), array([0, 1]), array([0, 1]), array([0, 1]), array([0, 1]), array([0, 1]), array([0, 1]), array([0, 1]), array([0, 1]), array([0, 1]), array([0, 1]), array([0, 1]), array([0, 1]), array([0, 1]), array([0, 1]), array([0, 1]), array([0, 1]), array([0, 1]), array([0, 1]), array([0, 1]), array([0, 1]), array([0, 1]), array([0, 1]), array([0, 1]), array([0, 1]), array([0, 1]), array([0, 1]), array([0, 1]), array([0, 1]), array([0, 1]), array([0, 1]), array([0, 1]), array([0, 1]), array([0, 1]), array([0, 1]), array([0, 1]), array([0, 1]), array([0, 1]), array([0, 1]), array([0, 1]), array([0, 1]), array([0, 1]), array([0, 1]), array([0, 1]), array([0, 1]), array([0, 1]), array([0, 1]), array([0, 1]), array([0, 1]), array([0, 1]), array([0, 1]), array([0, 1]), array([0, 1]), array([0, 1]), array([0, 1]), array([0, 1]), array([0, 1]), array([0, 1]), array([0, 1]), array([0, 1]), array([0, 1]), array([0, 1]), array([0, 1]), array([0, 1]), array([0, 1]), array([0, 1]), array([0, 1]), array([0, 1]), array([0, 1]), array([0, 1]), array([0, 1]), array([0, 1]), array([0, 1]), array([0, 1]), array([0, 1]), array([0, 1]), array([0, 1]), array([0, 1]), array([0, 1]), array([0, 1]), array([0, 1]), array([0, 1]), array([0, 1]), array([0, 1]), array([0, 1]), array([0, 1]), array([0, 1]), array([0, 1]), array([0, 1]), array([0, 1]), array([0, 1]), array([0, 1]), array([0, 1]), array([0, 1]), array([0, 1]), array([0, 1]), array([0, 1]), array([0, 1]), array([0, 1]), array([0, 1]), array([0, 1]), array([0, 1]), array([0, 1]), array([0, 1]), array([0, 1]), array([0, 1]), array([0, 1]), array([0, 1]), array([0, 1]), array([0, 1]), array([0, 1]), array([0, 1]), array([0, 1]), array([0, 1]), array([0, 1]), array([0, 1]), array([0, 1]), array([0, 1]), array([0, 1]), array([0, 1]), array([0, 1]), array([0, 1]), array([0, 1]), array([0, 1]), array([0, 1]), array([0, 1]), array([0, 1]), array([0, 1]), array([0, 1]), array([0, 1]), array([0, 1]), array([0, 1]), array([0, 1]), array([0, 1]), array([0, 1]), array([0, 1]), array([0, 1]), array([0, 1]), array([0, 1]), array([0, 1]), array([0, 1]), array([0, 1]), array([0, 1]), array([0, 1]), array([0, 1]), array([0, 1]), array([0, 1]), array([0, 1]), array([0, 1]), array([0, 1]), array([0, 1]), array([0, 1]), array([0, 1]), array([0, 1]), array([0, 1]), array([0, 1]), array([0, 1]), array([0, 1]), array([0, 1]), array([0, 1]), array([0, 1]), array([0, 1]), array([0, 1]), array([0, 1]), array([0, 1]), array([0, 1]), array([0, 1]), array([0, 1]), array([0, 1]), array([0, 1]), array([0, 1]), array([0, 1]), array([0, 1]), array([0, 1]), array([0, 1]), array([0, 1]), array([0, 1]), array([0, 1]), array([0, 1]), array([0, 1]), array([0, 1]), array([0, 1]), array([0, 1]), array([0, 1]), array([0, 1]), array([0, 1]), array([0, 1]), array([0, 1]), array([0, 1]), array([0, 1]), array([0, 1]), array([0, 1]), array([0, 1]), array([0, 1]), array([0, 1]), array([0, 1]), array([0, 1]), array([0, 1]), array([0, 1]), array([0, 1]), array([0, 1]), array([0, 1]), array([0, 1]), array([0, 1]), array([0, 1]), array([0, 1]), array([0, 1]), array([0, 1]), array([0, 1]), array([0, 1]), array([0, 1]), array([0, 1]), array([0, 1]), array([0, 1]), array([0, 1]), array([0, 1]), array([0, 1]), array([0, 1]), array([0, 1]), array([0, 1]), array([0, 1]), array([0, 1]), array([0, 1]), array([0, 1]), array([0, 1]), array([0, 1]), array([0, 1]), array([0, 1]), array([0, 1]), array([0, 1]), array([0, 1]), array([0, 1]), array([0, 1]), array([0, 1]), array([0, 1]), array([0, 1]), array([0, 1]), array([0, 1]), array([0, 1]), array([0, 1]), array([0, 1])]\n"
     ]
    }
   ],
   "source": [
    "training_X=[]\n",
    "training_Y=[]\n",
    "for img in tqdm(os.listdir(TRAIN_DIR)):\n",
    "    label=label_img(img)\n",
    "    path=os.path.join(TRAIN_DIR,img)\n",
    "    img=cv2.resize(cv2.imread(path,cv2.IMREAD_GRAYSCALE),(IMG_SIZE,IMG_SIZE),interpolation = cv2.INTER_LINEAR)\n",
    "    training_X.append(np.array(img))\n",
    "    training_Y.append(np.array(label))\n",
    "    \n",
    "\n",
    "print(training_Y)"
   ]
  },
  {
   "cell_type": "code",
   "execution_count": 11,
   "metadata": {},
   "outputs": [],
   "source": [
    "training_Y=np.array(training_Y)"
   ]
  },
  {
   "cell_type": "code",
   "execution_count": 12,
   "metadata": {},
   "outputs": [],
   "source": [
    "training_X=np.array(training_X)\n",
    "training_X = training_X.astype('float32')"
   ]
  },
  {
   "cell_type": "code",
   "execution_count": 13,
   "metadata": {},
   "outputs": [],
   "source": [
    "training_X = training_X / 255."
   ]
  },
  {
   "cell_type": "code",
   "execution_count": 14,
   "metadata": {},
   "outputs": [],
   "source": [
    "from sklearn.model_selection import train_test_split\n",
    "train_X,valid_X,train_label,valid_label = train_test_split(training_X, training_Y, test_size=0.2, random_state=13)"
   ]
  },
  {
   "cell_type": "code",
   "execution_count": 15,
   "metadata": {},
   "outputs": [],
   "source": [
    "train_X = train_X.reshape(-1, 100,100, 1)"
   ]
  },
  {
   "cell_type": "code",
   "execution_count": 16,
   "metadata": {},
   "outputs": [],
   "source": [
    "valid_X = valid_X.reshape(-1, 100,100, 1)"
   ]
  },
  {
   "cell_type": "code",
   "execution_count": 17,
   "metadata": {},
   "outputs": [],
   "source": [
    "import keras\n",
    "from keras.models import Sequential,Input,Model\n",
    "from keras.layers import Dense, Dropout, Flatten\n",
    "from keras.layers import Conv2D, MaxPooling2D\n",
    "from keras.layers.normalization import BatchNormalization\n",
    "from keras.layers.advanced_activations import LeakyReLU"
   ]
  },
  {
   "cell_type": "code",
   "execution_count": 18,
   "metadata": {},
   "outputs": [],
   "source": [
    "batch_size = 64\n",
    "epochs = 20\n",
    "a=len(b)"
   ]
  },
  {
   "cell_type": "code",
   "execution_count": 19,
   "metadata": {},
   "outputs": [],
   "source": [
    "fashion_model = Sequential()\n",
    "fashion_model.add(Conv2D(64, kernel_size=(3, 3),activation='linear',input_shape=(100,100,1),padding='same'))\n",
    "fashion_model.add(LeakyReLU(alpha=0.01))\n",
    "fashion_model.add(MaxPooling2D((2, 2),padding='same'))\n",
    "fashion_model.add(Dropout(0.15))\n",
    "fashion_model.add(Conv2D(128, (3, 3), activation='linear',padding='same'))\n",
    "fashion_model.add(LeakyReLU(alpha=0.01))\n",
    "fashion_model.add(MaxPooling2D(pool_size=(2, 2),padding='same'))\n",
    "fashion_model.add(Dropout(0.15))\n",
    "fashion_model.add(Conv2D(128, (3, 3), activation='linear',padding='same'))\n",
    "fashion_model.add(LeakyReLU(alpha=0.01))                  \n",
    "fashion_model.add(MaxPooling2D(pool_size=(2, 2),padding='same'))\n",
    "fashion_model.add(Dropout(0.2))\n",
    "fashion_model.add(Flatten())\n",
    "fashion_model.add(Dense(128, activation='linear'))\n",
    "fashion_model.add(LeakyReLU(alpha=0.01)) \n",
    "fashion_model.add(Dropout(0.20))\n",
    "fashion_model.add(Dense(a, activation='softmax'))"
   ]
  },
  {
   "cell_type": "code",
   "execution_count": 20,
   "metadata": {},
   "outputs": [],
   "source": [
    "fashion_model.compile(loss=keras.losses.categorical_crossentropy, optimizer=keras.optimizers.Adam(),metrics=['accuracy'])"
   ]
  },
  {
   "cell_type": "code",
   "execution_count": 21,
   "metadata": {
    "scrolled": true
   },
   "outputs": [
    {
     "name": "stdout",
     "output_type": "stream",
     "text": [
      "Train on 5996 samples, validate on 1500 samples\n",
      "Epoch 1/20\n",
      "5996/5996 [==============================] - ETA: 10:23 - loss: 0.6949 - acc: 0.53 - ETA: 9:04 - loss: 1.4358 - acc: 0.5078 - ETA: 8:25 - loss: 1.1914 - acc: 0.515 - ETA: 7:59 - loss: 1.0939 - acc: 0.496 - ETA: 7:50 - loss: 1.0124 - acc: 0.506 - ETA: 7:38 - loss: 0.9585 - acc: 0.518 - ETA: 7:28 - loss: 0.9201 - acc: 0.533 - ETA: 7:20 - loss: 0.8933 - acc: 0.517 - ETA: 7:11 - loss: 0.8708 - acc: 0.524 - ETA: 7:02 - loss: 0.8534 - acc: 0.521 - ETA: 6:55 - loss: 0.8383 - acc: 0.522 - ETA: 6:47 - loss: 0.8276 - acc: 0.518 - ETA: 6:39 - loss: 0.8174 - acc: 0.512 - ETA: 6:31 - loss: 0.8082 - acc: 0.515 - ETA: 6:25 - loss: 0.8007 - acc: 0.513 - ETA: 6:19 - loss: 0.7933 - acc: 0.520 - ETA: 6:12 - loss: 0.7867 - acc: 0.524 - ETA: 6:06 - loss: 0.7829 - acc: 0.519 - ETA: 6:00 - loss: 0.7785 - acc: 0.518 - ETA: 5:53 - loss: 0.7744 - acc: 0.516 - ETA: 5:48 - loss: 0.7705 - acc: 0.516 - ETA: 5:42 - loss: 0.7668 - acc: 0.515 - ETA: 5:39 - loss: 0.7636 - acc: 0.514 - ETA: 5:34 - loss: 0.7606 - acc: 0.513 - ETA: 5:28 - loss: 0.7578 - acc: 0.513 - ETA: 5:23 - loss: 0.7552 - acc: 0.513 - ETA: 5:17 - loss: 0.7529 - acc: 0.516 - ETA: 5:12 - loss: 0.7507 - acc: 0.516 - ETA: 5:07 - loss: 0.7486 - acc: 0.518 - ETA: 5:01 - loss: 0.7467 - acc: 0.519 - ETA: 4:56 - loss: 0.7449 - acc: 0.521 - ETA: 4:51 - loss: 0.7433 - acc: 0.520 - ETA: 4:46 - loss: 0.7416 - acc: 0.520 - ETA: 4:40 - loss: 0.7402 - acc: 0.519 - ETA: 4:35 - loss: 0.7390 - acc: 0.517 - ETA: 4:30 - loss: 0.7376 - acc: 0.518 - ETA: 4:26 - loss: 0.7363 - acc: 0.517 - ETA: 4:21 - loss: 0.7351 - acc: 0.516 - ETA: 4:16 - loss: 0.7339 - acc: 0.518 - ETA: 4:11 - loss: 0.7325 - acc: 0.520 - ETA: 4:06 - loss: 0.7317 - acc: 0.517 - ETA: 4:01 - loss: 0.7302 - acc: 0.521 - ETA: 3:56 - loss: 0.7295 - acc: 0.519 - ETA: 3:51 - loss: 0.7281 - acc: 0.521 - ETA: 3:46 - loss: 0.7273 - acc: 0.519 - ETA: 3:41 - loss: 0.7262 - acc: 0.522 - ETA: 3:37 - loss: 0.7256 - acc: 0.521 - ETA: 3:32 - loss: 0.7245 - acc: 0.523 - ETA: 3:27 - loss: 0.7234 - acc: 0.525 - ETA: 3:22 - loss: 0.7223 - acc: 0.526 - ETA: 3:18 - loss: 0.7213 - acc: 0.527 - ETA: 3:13 - loss: 0.7205 - acc: 0.527 - ETA: 3:08 - loss: 0.7197 - acc: 0.529 - ETA: 3:03 - loss: 0.7193 - acc: 0.528 - ETA: 2:59 - loss: 0.7187 - acc: 0.528 - ETA: 2:54 - loss: 0.7179 - acc: 0.528 - ETA: 2:49 - loss: 0.7167 - acc: 0.532 - ETA: 2:44 - loss: 0.7161 - acc: 0.531 - ETA: 2:40 - loss: 0.7153 - acc: 0.531 - ETA: 2:35 - loss: 0.7145 - acc: 0.531 - ETA: 2:30 - loss: 0.7139 - acc: 0.533 - ETA: 2:26 - loss: 0.7129 - acc: 0.535 - ETA: 2:21 - loss: 0.7120 - acc: 0.537 - ETA: 2:16 - loss: 0.7110 - acc: 0.537 - ETA: 2:12 - loss: 0.7102 - acc: 0.537 - ETA: 2:07 - loss: 0.7087 - acc: 0.540 - ETA: 2:02 - loss: 0.7064 - acc: 0.543 - ETA: 1:58 - loss: 0.7041 - acc: 0.547 - ETA: 1:53 - loss: 0.7057 - acc: 0.546 - ETA: 1:48 - loss: 0.7051 - acc: 0.547 - ETA: 1:44 - loss: 0.7070 - acc: 0.546 - ETA: 1:39 - loss: 0.7061 - acc: 0.547 - ETA: 1:35 - loss: 0.7049 - acc: 0.548 - ETA: 1:30 - loss: 0.7037 - acc: 0.549 - ETA: 1:25 - loss: 0.7043 - acc: 0.548 - ETA: 1:21 - loss: 0.7042 - acc: 0.548 - ETA: 1:16 - loss: 0.7041 - acc: 0.547 - ETA: 1:12 - loss: 0.7040 - acc: 0.545 - ETA: 1:07 - loss: 0.7032 - acc: 0.547 - ETA: 1:02 - loss: 0.7027 - acc: 0.548 - ETA: 58s - loss: 0.7020 - acc: 0.549 - ETA: 53s - loss: 0.7014 - acc: 0.55 - ETA: 49s - loss: 0.7007 - acc: 0.55 - ETA: 44s - loss: 0.6999 - acc: 0.55 - ETA: 39s - loss: 0.6992 - acc: 0.55 - ETA: 35s - loss: 0.6987 - acc: 0.55 - ETA: 30s - loss: 0.6975 - acc: 0.56 - ETA: 26s - loss: 0.6965 - acc: 0.56 - ETA: 21s - loss: 0.6956 - acc: 0.56 - ETA: 16s - loss: 0.6945 - acc: 0.56 - ETA: 12s - loss: 0.6931 - acc: 0.56 - ETA: 7s - loss: 0.6922 - acc: 0.5688 - ETA: 3s - loss: 0.6906 - acc: 0.570 - 456s 76ms/step - loss: 0.6901 - acc: 0.5714 - val_loss: 0.5648 - val_acc: 0.7267\n",
      "Epoch 2/20\n",
      "5996/5996 [==============================] - ETA: 6:58 - loss: 0.5271 - acc: 0.765 - ETA: 6:51 - loss: 0.5444 - acc: 0.726 - ETA: 7:13 - loss: 0.5380 - acc: 0.734 - ETA: 7:13 - loss: 0.5682 - acc: 0.718 - ETA: 7:31 - loss: 0.5882 - acc: 0.693 - ETA: 7:34 - loss: 0.6159 - acc: 0.674 - ETA: 7:31 - loss: 0.6129 - acc: 0.680 - ETA: 7:24 - loss: 0.5978 - acc: 0.691 - ETA: 7:20 - loss: 0.6122 - acc: 0.678 - ETA: 7:21 - loss: 0.6165 - acc: 0.679 - ETA: 7:24 - loss: 0.6164 - acc: 0.680 - ETA: 7:24 - loss: 0.6142 - acc: 0.684 - ETA: 7:22 - loss: 0.6255 - acc: 0.671 - ETA: 7:13 - loss: 0.6303 - acc: 0.662 - ETA: 7:06 - loss: 0.6301 - acc: 0.662 - ETA: 6:58 - loss: 0.6276 - acc: 0.668 - ETA: 6:52 - loss: 0.6244 - acc: 0.674 - ETA: 6:45 - loss: 0.6186 - acc: 0.684 - ETA: 6:40 - loss: 0.6153 - acc: 0.689 - ETA: 6:33 - loss: 0.6116 - acc: 0.693 - ETA: 6:26 - loss: 0.6082 - acc: 0.694 - ETA: 6:20 - loss: 0.6063 - acc: 0.697 - ETA: 6:13 - loss: 0.6032 - acc: 0.699 - ETA: 6:07 - loss: 0.5999 - acc: 0.703 - ETA: 6:01 - loss: 0.6047 - acc: 0.697 - ETA: 5:56 - loss: 0.6012 - acc: 0.700 - ETA: 5:50 - loss: 0.5984 - acc: 0.700 - ETA: 5:44 - loss: 0.5954 - acc: 0.702 - ETA: 5:38 - loss: 0.5923 - acc: 0.705 - ETA: 5:32 - loss: 0.5888 - acc: 0.707 - ETA: 5:27 - loss: 0.5833 - acc: 0.712 - ETA: 5:21 - loss: 0.5800 - acc: 0.712 - ETA: 5:15 - loss: 0.5747 - acc: 0.715 - ETA: 5:09 - loss: 0.5690 - acc: 0.720 - ETA: 5:04 - loss: 0.5675 - acc: 0.719 - ETA: 4:58 - loss: 0.5641 - acc: 0.720 - ETA: 4:52 - loss: 0.5611 - acc: 0.721 - ETA: 4:46 - loss: 0.5599 - acc: 0.721 - ETA: 4:40 - loss: 0.5568 - acc: 0.724 - ETA: 4:34 - loss: 0.5524 - acc: 0.727 - ETA: 4:28 - loss: 0.5491 - acc: 0.728 - ETA: 4:23 - loss: 0.5453 - acc: 0.730 - ETA: 4:17 - loss: 0.5411 - acc: 0.732 - ETA: 4:12 - loss: 0.5379 - acc: 0.734 - ETA: 4:07 - loss: 0.5351 - acc: 0.735 - ETA: 4:02 - loss: 0.5319 - acc: 0.737 - ETA: 3:57 - loss: 0.5294 - acc: 0.738 - ETA: 3:51 - loss: 0.5277 - acc: 0.739 - ETA: 3:46 - loss: 0.5266 - acc: 0.741 - ETA: 3:41 - loss: 0.5260 - acc: 0.741 - ETA: 3:36 - loss: 0.5240 - acc: 0.743 - ETA: 3:31 - loss: 0.5211 - acc: 0.745 - ETA: 3:26 - loss: 0.5190 - acc: 0.747 - ETA: 3:21 - loss: 0.5162 - acc: 0.750 - ETA: 3:16 - loss: 0.5155 - acc: 0.750 - ETA: 3:10 - loss: 0.5140 - acc: 0.751 - ETA: 3:05 - loss: 0.5115 - acc: 0.752 - ETA: 3:00 - loss: 0.5108 - acc: 0.753 - ETA: 2:55 - loss: 0.5078 - acc: 0.755 - ETA: 2:50 - loss: 0.5067 - acc: 0.756 - ETA: 2:45 - loss: 0.5052 - acc: 0.757 - ETA: 2:40 - loss: 0.5013 - acc: 0.760 - ETA: 2:35 - loss: 0.5001 - acc: 0.761 - ETA: 2:30 - loss: 0.4981 - acc: 0.762 - ETA: 2:24 - loss: 0.4958 - acc: 0.763 - ETA: 2:19 - loss: 0.4956 - acc: 0.763 - ETA: 2:14 - loss: 0.4954 - acc: 0.764 - ETA: 2:09 - loss: 0.4963 - acc: 0.764 - ETA: 2:04 - loss: 0.4955 - acc: 0.764 - ETA: 1:59 - loss: 0.4931 - acc: 0.766 - ETA: 1:54 - loss: 0.4911 - acc: 0.768 - ETA: 1:49 - loss: 0.4887 - acc: 0.770 - ETA: 1:44 - loss: 0.4868 - acc: 0.771 - ETA: 1:39 - loss: 0.4855 - acc: 0.772 - ETA: 1:34 - loss: 0.4848 - acc: 0.773 - ETA: 1:29 - loss: 0.4822 - acc: 0.774 - ETA: 1:24 - loss: 0.4805 - acc: 0.775 - ETA: 1:19 - loss: 0.4771 - acc: 0.777 - ETA: 1:14 - loss: 0.4754 - acc: 0.778 - ETA: 1:09 - loss: 0.4728 - acc: 0.779 - ETA: 1:03 - loss: 0.4709 - acc: 0.779 - ETA: 58s - loss: 0.4682 - acc: 0.781 - ETA: 53s - loss: 0.4676 - acc: 0.78 - ETA: 48s - loss: 0.4659 - acc: 0.78 - ETA: 43s - loss: 0.4639 - acc: 0.78 - ETA: 38s - loss: 0.4630 - acc: 0.78 - ETA: 33s - loss: 0.4616 - acc: 0.78 - ETA: 28s - loss: 0.4607 - acc: 0.78 - ETA: 23s - loss: 0.4589 - acc: 0.78 - ETA: 18s - loss: 0.4585 - acc: 0.78 - ETA: 13s - loss: 0.4569 - acc: 0.78 - ETA: 8s - loss: 0.4547 - acc: 0.7886 - ETA: 3s - loss: 0.4530 - acc: 0.789 - 517s 86ms/step - loss: 0.4525 - acc: 0.7899 - val_loss: 0.2624 - val_acc: 0.9040\n",
      "Epoch 3/20\n"
     ]
    },
    {
     "name": "stdout",
     "output_type": "stream",
     "text": [
      "5996/5996 [==============================] - ETA: 9:24 - loss: 0.2884 - acc: 0.859 - ETA: 9:23 - loss: 0.3009 - acc: 0.843 - ETA: 9:33 - loss: 0.3236 - acc: 0.822 - ETA: 9:26 - loss: 0.3106 - acc: 0.843 - ETA: 9:01 - loss: 0.3147 - acc: 0.846 - ETA: 8:43 - loss: 0.3220 - acc: 0.846 - ETA: 8:28 - loss: 0.3240 - acc: 0.854 - ETA: 8:15 - loss: 0.3182 - acc: 0.859 - ETA: 8:04 - loss: 0.3163 - acc: 0.861 - ETA: 7:54 - loss: 0.3129 - acc: 0.864 - ETA: 7:46 - loss: 0.3092 - acc: 0.866 - ETA: 7:37 - loss: 0.3038 - acc: 0.869 - ETA: 7:29 - loss: 0.3013 - acc: 0.870 - ETA: 7:21 - loss: 0.3014 - acc: 0.871 - ETA: 7:14 - loss: 0.3059 - acc: 0.867 - ETA: 7:07 - loss: 0.2990 - acc: 0.872 - ETA: 6:59 - loss: 0.2933 - acc: 0.875 - ETA: 6:53 - loss: 0.2861 - acc: 0.879 - ETA: 6:46 - loss: 0.2867 - acc: 0.880 - ETA: 6:40 - loss: 0.2824 - acc: 0.882 - ETA: 6:33 - loss: 0.2822 - acc: 0.881 - ETA: 6:28 - loss: 0.2834 - acc: 0.879 - ETA: 6:22 - loss: 0.2831 - acc: 0.878 - ETA: 6:16 - loss: 0.2813 - acc: 0.879 - ETA: 6:10 - loss: 0.2795 - acc: 0.881 - ETA: 6:04 - loss: 0.2826 - acc: 0.879 - ETA: 5:57 - loss: 0.2786 - acc: 0.882 - ETA: 5:51 - loss: 0.2807 - acc: 0.882 - ETA: 5:45 - loss: 0.2821 - acc: 0.881 - ETA: 5:40 - loss: 0.2840 - acc: 0.880 - ETA: 5:34 - loss: 0.2836 - acc: 0.880 - ETA: 5:28 - loss: 0.2836 - acc: 0.880 - ETA: 5:23 - loss: 0.2807 - acc: 0.881 - ETA: 5:17 - loss: 0.2783 - acc: 0.883 - ETA: 5:11 - loss: 0.2762 - acc: 0.883 - ETA: 5:06 - loss: 0.2753 - acc: 0.884 - ETA: 5:00 - loss: 0.2734 - acc: 0.885 - ETA: 4:54 - loss: 0.2756 - acc: 0.885 - ETA: 4:49 - loss: 0.2747 - acc: 0.885 - ETA: 4:44 - loss: 0.2735 - acc: 0.885 - ETA: 4:40 - loss: 0.2741 - acc: 0.884 - ETA: 4:35 - loss: 0.2717 - acc: 0.884 - ETA: 4:29 - loss: 0.2741 - acc: 0.883 - ETA: 4:23 - loss: 0.2739 - acc: 0.884 - ETA: 4:17 - loss: 0.2729 - acc: 0.884 - ETA: 4:12 - loss: 0.2742 - acc: 0.883 - ETA: 4:08 - loss: 0.2738 - acc: 0.885 - ETA: 4:04 - loss: 0.2728 - acc: 0.886 - ETA: 3:59 - loss: 0.2726 - acc: 0.886 - ETA: 3:54 - loss: 0.2737 - acc: 0.885 - ETA: 3:48 - loss: 0.2732 - acc: 0.886 - ETA: 3:42 - loss: 0.2731 - acc: 0.887 - ETA: 3:36 - loss: 0.2723 - acc: 0.887 - ETA: 3:31 - loss: 0.2712 - acc: 0.888 - ETA: 3:25 - loss: 0.2695 - acc: 0.889 - ETA: 3:19 - loss: 0.2706 - acc: 0.889 - ETA: 3:14 - loss: 0.2695 - acc: 0.889 - ETA: 3:08 - loss: 0.2699 - acc: 0.889 - ETA: 3:03 - loss: 0.2680 - acc: 0.889 - ETA: 2:57 - loss: 0.2680 - acc: 0.889 - ETA: 2:52 - loss: 0.2675 - acc: 0.889 - ETA: 2:46 - loss: 0.2661 - acc: 0.890 - ETA: 2:41 - loss: 0.2665 - acc: 0.890 - ETA: 2:35 - loss: 0.2663 - acc: 0.890 - ETA: 2:30 - loss: 0.2670 - acc: 0.890 - ETA: 2:24 - loss: 0.2670 - acc: 0.890 - ETA: 2:19 - loss: 0.2660 - acc: 0.890 - ETA: 2:14 - loss: 0.2656 - acc: 0.890 - ETA: 2:08 - loss: 0.2647 - acc: 0.892 - ETA: 2:03 - loss: 0.2647 - acc: 0.891 - ETA: 1:58 - loss: 0.2637 - acc: 0.892 - ETA: 1:52 - loss: 0.2650 - acc: 0.892 - ETA: 1:47 - loss: 0.2645 - acc: 0.892 - ETA: 1:42 - loss: 0.2622 - acc: 0.893 - ETA: 1:36 - loss: 0.2626 - acc: 0.893 - ETA: 1:31 - loss: 0.2618 - acc: 0.893 - ETA: 1:26 - loss: 0.2610 - acc: 0.893 - ETA: 1:21 - loss: 0.2610 - acc: 0.893 - ETA: 1:15 - loss: 0.2613 - acc: 0.893 - ETA: 1:10 - loss: 0.2602 - acc: 0.893 - ETA: 1:05 - loss: 0.2608 - acc: 0.893 - ETA: 1:00 - loss: 0.2608 - acc: 0.892 - ETA: 55s - loss: 0.2601 - acc: 0.893 - ETA: 49s - loss: 0.2606 - acc: 0.89 - ETA: 44s - loss: 0.2611 - acc: 0.89 - ETA: 39s - loss: 0.2599 - acc: 0.89 - ETA: 34s - loss: 0.2609 - acc: 0.89 - ETA: 29s - loss: 0.2611 - acc: 0.89 - ETA: 24s - loss: 0.2601 - acc: 0.89 - ETA: 18s - loss: 0.2605 - acc: 0.89 - ETA: 13s - loss: 0.2598 - acc: 0.89 - ETA: 8s - loss: 0.2601 - acc: 0.8922 - ETA: 3s - loss: 0.2595 - acc: 0.892 - 508s 85ms/step - loss: 0.2596 - acc: 0.8919 - val_loss: 0.2022 - val_acc: 0.9253\n",
      "Epoch 4/20\n",
      "5996/5996 [==============================] - ETA: 7:23 - loss: 0.2187 - acc: 0.890 - ETA: 7:18 - loss: 0.2386 - acc: 0.875 - ETA: 7:17 - loss: 0.2328 - acc: 0.885 - ETA: 7:12 - loss: 0.2533 - acc: 0.886 - ETA: 7:07 - loss: 0.2464 - acc: 0.896 - ETA: 7:03 - loss: 0.2582 - acc: 0.888 - ETA: 6:57 - loss: 0.2624 - acc: 0.883 - ETA: 6:49 - loss: 0.2612 - acc: 0.888 - ETA: 6:42 - loss: 0.2461 - acc: 0.899 - ETA: 6:35 - loss: 0.2474 - acc: 0.900 - ETA: 6:28 - loss: 0.2430 - acc: 0.900 - ETA: 6:22 - loss: 0.2445 - acc: 0.901 - ETA: 6:16 - loss: 0.2491 - acc: 0.899 - ETA: 6:10 - loss: 0.2399 - acc: 0.901 - ETA: 6:05 - loss: 0.2398 - acc: 0.901 - ETA: 5:59 - loss: 0.2468 - acc: 0.899 - ETA: 5:54 - loss: 0.2476 - acc: 0.896 - ETA: 5:49 - loss: 0.2406 - acc: 0.900 - ETA: 5:44 - loss: 0.2352 - acc: 0.902 - ETA: 5:38 - loss: 0.2335 - acc: 0.902 - ETA: 5:33 - loss: 0.2346 - acc: 0.901 - ETA: 5:28 - loss: 0.2307 - acc: 0.902 - ETA: 5:23 - loss: 0.2310 - acc: 0.901 - ETA: 5:19 - loss: 0.2366 - acc: 0.899 - ETA: 5:14 - loss: 0.2406 - acc: 0.897 - ETA: 5:09 - loss: 0.2413 - acc: 0.897 - ETA: 5:04 - loss: 0.2401 - acc: 0.899 - ETA: 5:00 - loss: 0.2369 - acc: 0.902 - ETA: 4:55 - loss: 0.2384 - acc: 0.901 - ETA: 4:50 - loss: 0.2437 - acc: 0.897 - ETA: 4:45 - loss: 0.2421 - acc: 0.898 - ETA: 4:41 - loss: 0.2420 - acc: 0.898 - ETA: 4:36 - loss: 0.2377 - acc: 0.901 - ETA: 4:31 - loss: 0.2360 - acc: 0.901 - ETA: 4:26 - loss: 0.2383 - acc: 0.901 - ETA: 4:22 - loss: 0.2389 - acc: 0.901 - ETA: 4:17 - loss: 0.2379 - acc: 0.901 - ETA: 4:12 - loss: 0.2404 - acc: 0.900 - ETA: 4:08 - loss: 0.2432 - acc: 0.899 - ETA: 4:03 - loss: 0.2422 - acc: 0.900 - ETA: 3:59 - loss: 0.2426 - acc: 0.899 - ETA: 3:56 - loss: 0.2438 - acc: 0.898 - ETA: 3:51 - loss: 0.2444 - acc: 0.898 - ETA: 3:47 - loss: 0.2451 - acc: 0.898 - ETA: 3:43 - loss: 0.2437 - acc: 0.899 - ETA: 3:38 - loss: 0.2450 - acc: 0.898 - ETA: 3:34 - loss: 0.2447 - acc: 0.899 - ETA: 3:29 - loss: 0.2456 - acc: 0.899 - ETA: 3:25 - loss: 0.2450 - acc: 0.899 - ETA: 3:20 - loss: 0.2458 - acc: 0.898 - ETA: 3:16 - loss: 0.2443 - acc: 0.898 - ETA: 3:11 - loss: 0.2437 - acc: 0.899 - ETA: 3:06 - loss: 0.2425 - acc: 0.899 - ETA: 3:02 - loss: 0.2423 - acc: 0.899 - ETA: 2:57 - loss: 0.2405 - acc: 0.900 - ETA: 2:53 - loss: 0.2393 - acc: 0.901 - ETA: 2:49 - loss: 0.2374 - acc: 0.902 - ETA: 2:45 - loss: 0.2364 - acc: 0.902 - ETA: 2:40 - loss: 0.2364 - acc: 0.902 - ETA: 2:36 - loss: 0.2351 - acc: 0.902 - ETA: 2:32 - loss: 0.2344 - acc: 0.903 - ETA: 2:27 - loss: 0.2350 - acc: 0.902 - ETA: 2:22 - loss: 0.2333 - acc: 0.903 - ETA: 2:18 - loss: 0.2319 - acc: 0.903 - ETA: 2:13 - loss: 0.2338 - acc: 0.903 - ETA: 2:08 - loss: 0.2319 - acc: 0.903 - ETA: 2:04 - loss: 0.2315 - acc: 0.904 - ETA: 1:59 - loss: 0.2308 - acc: 0.904 - ETA: 1:54 - loss: 0.2300 - acc: 0.904 - ETA: 1:49 - loss: 0.2302 - acc: 0.903 - ETA: 1:45 - loss: 0.2299 - acc: 0.903 - ETA: 1:40 - loss: 0.2305 - acc: 0.903 - ETA: 1:35 - loss: 0.2314 - acc: 0.903 - ETA: 1:31 - loss: 0.2307 - acc: 0.903 - ETA: 1:26 - loss: 0.2305 - acc: 0.903 - ETA: 1:21 - loss: 0.2291 - acc: 0.903 - ETA: 1:17 - loss: 0.2287 - acc: 0.904 - ETA: 1:12 - loss: 0.2283 - acc: 0.904 - ETA: 1:07 - loss: 0.2274 - acc: 0.904 - ETA: 1:03 - loss: 0.2267 - acc: 0.905 - ETA: 58s - loss: 0.2266 - acc: 0.905 - ETA: 53s - loss: 0.2262 - acc: 0.90 - ETA: 49s - loss: 0.2265 - acc: 0.90 - ETA: 44s - loss: 0.2271 - acc: 0.90 - ETA: 40s - loss: 0.2273 - acc: 0.90 - ETA: 35s - loss: 0.2289 - acc: 0.90 - ETA: 30s - loss: 0.2284 - acc: 0.90 - ETA: 26s - loss: 0.2277 - acc: 0.90 - ETA: 21s - loss: 0.2265 - acc: 0.90 - ETA: 17s - loss: 0.2262 - acc: 0.90 - ETA: 12s - loss: 0.2262 - acc: 0.90 - ETA: 7s - loss: 0.2267 - acc: 0.9047 - ETA: 3s - loss: 0.2261 - acc: 0.905 - 461s 77ms/step - loss: 0.2252 - acc: 0.9056 - val_loss: 0.1683 - val_acc: 0.9347\n",
      "Epoch 5/20\n"
     ]
    },
    {
     "name": "stdout",
     "output_type": "stream",
     "text": [
      "5996/5996 [==============================] - ETA: 7:09 - loss: 0.1820 - acc: 0.906 - ETA: 7:07 - loss: 0.1992 - acc: 0.914 - ETA: 6:55 - loss: 0.2105 - acc: 0.906 - ETA: 6:59 - loss: 0.2109 - acc: 0.898 - ETA: 7:06 - loss: 0.2117 - acc: 0.903 - ETA: 7:20 - loss: 0.2216 - acc: 0.895 - ETA: 7:28 - loss: 0.2349 - acc: 0.897 - ETA: 7:32 - loss: 0.2192 - acc: 0.908 - ETA: 7:32 - loss: 0.2246 - acc: 0.902 - ETA: 7:32 - loss: 0.2225 - acc: 0.903 - ETA: 7:35 - loss: 0.2232 - acc: 0.902 - ETA: 7:32 - loss: 0.2286 - acc: 0.903 - ETA: 7:25 - loss: 0.2192 - acc: 0.908 - ETA: 7:18 - loss: 0.2144 - acc: 0.911 - ETA: 7:08 - loss: 0.2111 - acc: 0.914 - ETA: 7:00 - loss: 0.2105 - acc: 0.914 - ETA: 6:52 - loss: 0.2111 - acc: 0.913 - ETA: 6:43 - loss: 0.2115 - acc: 0.914 - ETA: 6:36 - loss: 0.2090 - acc: 0.915 - ETA: 6:28 - loss: 0.2117 - acc: 0.913 - ETA: 6:21 - loss: 0.2097 - acc: 0.914 - ETA: 6:14 - loss: 0.2035 - acc: 0.917 - ETA: 6:07 - loss: 0.2028 - acc: 0.919 - ETA: 6:00 - loss: 0.2012 - acc: 0.919 - ETA: 5:54 - loss: 0.1999 - acc: 0.920 - ETA: 5:47 - loss: 0.1950 - acc: 0.923 - ETA: 5:41 - loss: 0.2000 - acc: 0.921 - ETA: 5:35 - loss: 0.1991 - acc: 0.922 - ETA: 5:29 - loss: 0.1967 - acc: 0.923 - ETA: 5:24 - loss: 0.1996 - acc: 0.923 - ETA: 5:18 - loss: 0.2003 - acc: 0.923 - ETA: 5:12 - loss: 0.1997 - acc: 0.923 - ETA: 5:07 - loss: 0.1985 - acc: 0.924 - ETA: 5:01 - loss: 0.1994 - acc: 0.922 - ETA: 4:55 - loss: 0.1991 - acc: 0.921 - ETA: 4:50 - loss: 0.1976 - acc: 0.922 - ETA: 4:44 - loss: 0.1965 - acc: 0.922 - ETA: 4:39 - loss: 0.1955 - acc: 0.922 - ETA: 4:33 - loss: 0.1950 - acc: 0.922 - ETA: 4:28 - loss: 0.1934 - acc: 0.923 - ETA: 4:22 - loss: 0.1927 - acc: 0.923 - ETA: 4:17 - loss: 0.1921 - acc: 0.923 - ETA: 4:12 - loss: 0.1929 - acc: 0.923 - ETA: 4:07 - loss: 0.1961 - acc: 0.924 - ETA: 4:01 - loss: 0.1954 - acc: 0.924 - ETA: 3:56 - loss: 0.1975 - acc: 0.923 - ETA: 3:51 - loss: 0.1978 - acc: 0.923 - ETA: 3:46 - loss: 0.1958 - acc: 0.923 - ETA: 3:40 - loss: 0.1953 - acc: 0.923 - ETA: 3:35 - loss: 0.1946 - acc: 0.924 - ETA: 3:30 - loss: 0.1955 - acc: 0.924 - ETA: 3:25 - loss: 0.1953 - acc: 0.923 - ETA: 3:20 - loss: 0.1950 - acc: 0.924 - ETA: 3:15 - loss: 0.1933 - acc: 0.925 - ETA: 3:10 - loss: 0.1951 - acc: 0.923 - ETA: 3:04 - loss: 0.1951 - acc: 0.923 - ETA: 2:59 - loss: 0.1951 - acc: 0.923 - ETA: 2:54 - loss: 0.1952 - acc: 0.922 - ETA: 2:49 - loss: 0.1955 - acc: 0.922 - ETA: 2:44 - loss: 0.1961 - acc: 0.921 - ETA: 2:39 - loss: 0.1956 - acc: 0.922 - ETA: 2:34 - loss: 0.1950 - acc: 0.922 - ETA: 2:29 - loss: 0.1934 - acc: 0.923 - ETA: 2:24 - loss: 0.1936 - acc: 0.923 - ETA: 2:19 - loss: 0.1927 - acc: 0.923 - ETA: 2:14 - loss: 0.1923 - acc: 0.923 - ETA: 2:09 - loss: 0.1926 - acc: 0.923 - ETA: 2:04 - loss: 0.1917 - acc: 0.923 - ETA: 1:59 - loss: 0.1914 - acc: 0.923 - ETA: 1:54 - loss: 0.1919 - acc: 0.923 - ETA: 1:49 - loss: 0.1906 - acc: 0.924 - ETA: 1:44 - loss: 0.1916 - acc: 0.923 - ETA: 1:39 - loss: 0.1914 - acc: 0.923 - ETA: 1:35 - loss: 0.1902 - acc: 0.924 - ETA: 1:30 - loss: 0.1906 - acc: 0.924 - ETA: 1:25 - loss: 0.1895 - acc: 0.924 - ETA: 1:20 - loss: 0.1886 - acc: 0.925 - ETA: 1:15 - loss: 0.1879 - acc: 0.925 - ETA: 1:10 - loss: 0.1881 - acc: 0.924 - ETA: 1:05 - loss: 0.1891 - acc: 0.924 - ETA: 1:00 - loss: 0.1893 - acc: 0.924 - ETA: 56s - loss: 0.1896 - acc: 0.924 - ETA: 51s - loss: 0.1896 - acc: 0.92 - ETA: 46s - loss: 0.1893 - acc: 0.92 - ETA: 41s - loss: 0.1883 - acc: 0.92 - ETA: 36s - loss: 0.1888 - acc: 0.92 - ETA: 31s - loss: 0.1879 - acc: 0.92 - ETA: 27s - loss: 0.1875 - acc: 0.92 - ETA: 22s - loss: 0.1881 - acc: 0.92 - ETA: 17s - loss: 0.1874 - acc: 0.92 - ETA: 12s - loss: 0.1866 - acc: 0.92 - ETA: 8s - loss: 0.1857 - acc: 0.9251 - ETA: 3s - loss: 0.1858 - acc: 0.925 - 473s 79ms/step - loss: 0.1859 - acc: 0.9255 - val_loss: 0.1453 - val_acc: 0.9380\n",
      "Epoch 6/20\n",
      "5996/5996 [==============================] - ETA: 6:58 - loss: 0.1478 - acc: 0.953 - ETA: 6:53 - loss: 0.1894 - acc: 0.921 - ETA: 6:47 - loss: 0.1914 - acc: 0.911 - ETA: 6:46 - loss: 0.1804 - acc: 0.921 - ETA: 6:41 - loss: 0.1920 - acc: 0.918 - ETA: 6:37 - loss: 0.1904 - acc: 0.919 - ETA: 6:32 - loss: 0.1829 - acc: 0.919 - ETA: 6:27 - loss: 0.1686 - acc: 0.927 - ETA: 6:22 - loss: 0.1707 - acc: 0.927 - ETA: 6:17 - loss: 0.1823 - acc: 0.923 - ETA: 6:13 - loss: 0.1749 - acc: 0.927 - ETA: 6:08 - loss: 0.1736 - acc: 0.927 - ETA: 6:04 - loss: 0.1791 - acc: 0.924 - ETA: 5:59 - loss: 0.1764 - acc: 0.927 - ETA: 5:54 - loss: 0.1731 - acc: 0.928 - ETA: 5:50 - loss: 0.1668 - acc: 0.932 - ETA: 5:45 - loss: 0.1675 - acc: 0.932 - ETA: 5:41 - loss: 0.1633 - acc: 0.934 - ETA: 5:36 - loss: 0.1641 - acc: 0.935 - ETA: 5:32 - loss: 0.1619 - acc: 0.937 - ETA: 5:28 - loss: 0.1609 - acc: 0.938 - ETA: 5:23 - loss: 0.1574 - acc: 0.940 - ETA: 5:18 - loss: 0.1545 - acc: 0.942 - ETA: 5:14 - loss: 0.1541 - acc: 0.942 - ETA: 5:10 - loss: 0.1522 - acc: 0.943 - ETA: 5:05 - loss: 0.1531 - acc: 0.941 - ETA: 5:01 - loss: 0.1512 - acc: 0.941 - ETA: 4:56 - loss: 0.1561 - acc: 0.939 - ETA: 4:52 - loss: 0.1528 - acc: 0.940 - ETA: 4:47 - loss: 0.1542 - acc: 0.941 - ETA: 4:43 - loss: 0.1515 - acc: 0.943 - ETA: 4:38 - loss: 0.1534 - acc: 0.940 - ETA: 4:34 - loss: 0.1515 - acc: 0.941 - ETA: 4:29 - loss: 0.1553 - acc: 0.939 - ETA: 4:25 - loss: 0.1551 - acc: 0.940 - ETA: 4:20 - loss: 0.1550 - acc: 0.940 - ETA: 4:16 - loss: 0.1584 - acc: 0.938 - ETA: 4:14 - loss: 0.1601 - acc: 0.937 - ETA: 4:09 - loss: 0.1584 - acc: 0.938 - ETA: 4:05 - loss: 0.1593 - acc: 0.938 - ETA: 4:00 - loss: 0.1611 - acc: 0.937 - ETA: 3:55 - loss: 0.1611 - acc: 0.937 - ETA: 3:51 - loss: 0.1615 - acc: 0.936 - ETA: 3:46 - loss: 0.1605 - acc: 0.937 - ETA: 3:42 - loss: 0.1596 - acc: 0.938 - ETA: 3:37 - loss: 0.1596 - acc: 0.938 - ETA: 3:33 - loss: 0.1607 - acc: 0.937 - ETA: 3:28 - loss: 0.1604 - acc: 0.936 - ETA: 3:24 - loss: 0.1603 - acc: 0.936 - ETA: 3:19 - loss: 0.1587 - acc: 0.937 - ETA: 3:14 - loss: 0.1585 - acc: 0.937 - ETA: 3:10 - loss: 0.1583 - acc: 0.937 - ETA: 3:05 - loss: 0.1577 - acc: 0.937 - ETA: 3:01 - loss: 0.1582 - acc: 0.937 - ETA: 2:57 - loss: 0.1579 - acc: 0.936 - ETA: 2:53 - loss: 0.1589 - acc: 0.936 - ETA: 2:48 - loss: 0.1589 - acc: 0.936 - ETA: 2:44 - loss: 0.1582 - acc: 0.936 - ETA: 2:39 - loss: 0.1601 - acc: 0.935 - ETA: 2:35 - loss: 0.1611 - acc: 0.934 - ETA: 2:31 - loss: 0.1609 - acc: 0.934 - ETA: 2:26 - loss: 0.1605 - acc: 0.934 - ETA: 2:22 - loss: 0.1618 - acc: 0.933 - ETA: 2:17 - loss: 0.1613 - acc: 0.933 - ETA: 2:12 - loss: 0.1606 - acc: 0.933 - ETA: 2:07 - loss: 0.1601 - acc: 0.934 - ETA: 2:03 - loss: 0.1592 - acc: 0.934 - ETA: 1:59 - loss: 0.1593 - acc: 0.934 - ETA: 1:55 - loss: 0.1594 - acc: 0.934 - ETA: 1:50 - loss: 0.1597 - acc: 0.934 - ETA: 1:45 - loss: 0.1589 - acc: 0.934 - ETA: 1:41 - loss: 0.1574 - acc: 0.935 - ETA: 1:36 - loss: 0.1567 - acc: 0.935 - ETA: 1:31 - loss: 0.1562 - acc: 0.936 - ETA: 1:26 - loss: 0.1549 - acc: 0.936 - ETA: 1:22 - loss: 0.1560 - acc: 0.935 - ETA: 1:17 - loss: 0.1557 - acc: 0.935 - ETA: 1:12 - loss: 0.1560 - acc: 0.935 - ETA: 1:08 - loss: 0.1553 - acc: 0.936 - ETA: 1:03 - loss: 0.1561 - acc: 0.936 - ETA: 59s - loss: 0.1558 - acc: 0.936 - ETA: 54s - loss: 0.1565 - acc: 0.93 - ETA: 49s - loss: 0.1561 - acc: 0.93 - ETA: 45s - loss: 0.1564 - acc: 0.93 - ETA: 40s - loss: 0.1565 - acc: 0.93 - ETA: 35s - loss: 0.1553 - acc: 0.93 - ETA: 31s - loss: 0.1563 - acc: 0.93 - ETA: 26s - loss: 0.1556 - acc: 0.93 - ETA: 21s - loss: 0.1554 - acc: 0.93 - ETA: 17s - loss: 0.1579 - acc: 0.93 - ETA: 12s - loss: 0.1586 - acc: 0.93 - ETA: 7s - loss: 0.1595 - acc: 0.9348 - ETA: 3s - loss: 0.1586 - acc: 0.935 - 468s 78ms/step - loss: 0.1580 - acc: 0.9355 - val_loss: 0.1383 - val_acc: 0.9507\n",
      "Epoch 7/20\n"
     ]
    },
    {
     "name": "stdout",
     "output_type": "stream",
     "text": [
      "5996/5996 [==============================] - ETA: 6:56 - loss: 0.0678 - acc: 1.000 - ETA: 6:52 - loss: 0.0988 - acc: 0.953 - ETA: 6:46 - loss: 0.1004 - acc: 0.947 - ETA: 6:42 - loss: 0.1104 - acc: 0.949 - ETA: 6:39 - loss: 0.1313 - acc: 0.943 - ETA: 6:34 - loss: 0.1422 - acc: 0.940 - ETA: 6:31 - loss: 0.1440 - acc: 0.939 - ETA: 6:27 - loss: 0.1364 - acc: 0.945 - ETA: 6:22 - loss: 0.1364 - acc: 0.944 - ETA: 6:21 - loss: 0.1328 - acc: 0.946 - ETA: 6:24 - loss: 0.1334 - acc: 0.944 - ETA: 6:25 - loss: 0.1322 - acc: 0.946 - ETA: 6:22 - loss: 0.1368 - acc: 0.944 - ETA: 6:16 - loss: 0.1335 - acc: 0.946 - ETA: 6:11 - loss: 0.1294 - acc: 0.949 - ETA: 6:06 - loss: 0.1319 - acc: 0.946 - ETA: 6:00 - loss: 0.1389 - acc: 0.942 - ETA: 5:54 - loss: 0.1357 - acc: 0.944 - ETA: 5:49 - loss: 0.1373 - acc: 0.944 - ETA: 5:43 - loss: 0.1368 - acc: 0.943 - ETA: 5:38 - loss: 0.1385 - acc: 0.942 - ETA: 5:32 - loss: 0.1409 - acc: 0.943 - ETA: 5:28 - loss: 0.1379 - acc: 0.945 - ETA: 5:23 - loss: 0.1372 - acc: 0.946 - ETA: 5:18 - loss: 0.1353 - acc: 0.946 - ETA: 5:13 - loss: 0.1354 - acc: 0.946 - ETA: 5:08 - loss: 0.1350 - acc: 0.946 - ETA: 5:03 - loss: 0.1350 - acc: 0.947 - ETA: 4:58 - loss: 0.1345 - acc: 0.947 - ETA: 4:54 - loss: 0.1318 - acc: 0.948 - ETA: 4:49 - loss: 0.1321 - acc: 0.947 - ETA: 4:44 - loss: 0.1332 - acc: 0.946 - ETA: 4:39 - loss: 0.1363 - acc: 0.945 - ETA: 4:35 - loss: 0.1364 - acc: 0.945 - ETA: 4:30 - loss: 0.1358 - acc: 0.945 - ETA: 4:25 - loss: 0.1364 - acc: 0.945 - ETA: 4:21 - loss: 0.1362 - acc: 0.945 - ETA: 4:16 - loss: 0.1362 - acc: 0.944 - ETA: 4:11 - loss: 0.1349 - acc: 0.945 - ETA: 4:06 - loss: 0.1336 - acc: 0.946 - ETA: 4:02 - loss: 0.1331 - acc: 0.946 - ETA: 3:57 - loss: 0.1327 - acc: 0.946 - ETA: 3:52 - loss: 0.1323 - acc: 0.946 - ETA: 3:48 - loss: 0.1309 - acc: 0.946 - ETA: 3:43 - loss: 0.1334 - acc: 0.945 - ETA: 3:38 - loss: 0.1335 - acc: 0.945 - ETA: 3:34 - loss: 0.1323 - acc: 0.946 - ETA: 3:29 - loss: 0.1313 - acc: 0.946 - ETA: 3:24 - loss: 0.1297 - acc: 0.947 - ETA: 3:20 - loss: 0.1302 - acc: 0.947 - ETA: 3:15 - loss: 0.1288 - acc: 0.947 - ETA: 3:10 - loss: 0.1282 - acc: 0.948 - ETA: 3:06 - loss: 0.1271 - acc: 0.949 - ETA: 3:01 - loss: 0.1263 - acc: 0.949 - ETA: 2:57 - loss: 0.1260 - acc: 0.949 - ETA: 2:53 - loss: 0.1253 - acc: 0.950 - ETA: 2:48 - loss: 0.1264 - acc: 0.949 - ETA: 2:44 - loss: 0.1253 - acc: 0.950 - ETA: 2:39 - loss: 0.1252 - acc: 0.950 - ETA: 2:34 - loss: 0.1249 - acc: 0.950 - ETA: 2:30 - loss: 0.1246 - acc: 0.950 - ETA: 2:25 - loss: 0.1256 - acc: 0.950 - ETA: 2:20 - loss: 0.1257 - acc: 0.949 - ETA: 2:16 - loss: 0.1251 - acc: 0.950 - ETA: 2:11 - loss: 0.1257 - acc: 0.949 - ETA: 2:06 - loss: 0.1269 - acc: 0.949 - ETA: 2:02 - loss: 0.1271 - acc: 0.949 - ETA: 1:57 - loss: 0.1270 - acc: 0.949 - ETA: 1:53 - loss: 0.1268 - acc: 0.949 - ETA: 1:48 - loss: 0.1262 - acc: 0.950 - ETA: 1:43 - loss: 0.1276 - acc: 0.949 - ETA: 1:39 - loss: 0.1278 - acc: 0.949 - ETA: 1:34 - loss: 0.1277 - acc: 0.949 - ETA: 1:30 - loss: 0.1276 - acc: 0.949 - ETA: 1:25 - loss: 0.1270 - acc: 0.950 - ETA: 1:20 - loss: 0.1278 - acc: 0.949 - ETA: 1:16 - loss: 0.1289 - acc: 0.949 - ETA: 1:11 - loss: 0.1285 - acc: 0.949 - ETA: 1:07 - loss: 0.1283 - acc: 0.949 - ETA: 1:02 - loss: 0.1284 - acc: 0.949 - ETA: 57s - loss: 0.1286 - acc: 0.949 - ETA: 53s - loss: 0.1287 - acc: 0.94 - ETA: 48s - loss: 0.1288 - acc: 0.94 - ETA: 44s - loss: 0.1283 - acc: 0.94 - ETA: 39s - loss: 0.1281 - acc: 0.94 - ETA: 35s - loss: 0.1276 - acc: 0.94 - ETA: 30s - loss: 0.1275 - acc: 0.94 - ETA: 25s - loss: 0.1277 - acc: 0.94 - ETA: 21s - loss: 0.1274 - acc: 0.94 - ETA: 16s - loss: 0.1278 - acc: 0.94 - ETA: 12s - loss: 0.1291 - acc: 0.94 - ETA: 7s - loss: 0.1287 - acc: 0.9490 - ETA: 3s - loss: 0.1282 - acc: 0.949 - 453s 76ms/step - loss: 0.1278 - acc: 0.9493 - val_loss: 0.1155 - val_acc: 0.9560\n",
      "Epoch 8/20\n",
      "5996/5996 [==============================] - ETA: 6:55 - loss: 0.1723 - acc: 0.890 - ETA: 6:51 - loss: 0.1289 - acc: 0.921 - ETA: 6:51 - loss: 0.1339 - acc: 0.927 - ETA: 6:46 - loss: 0.1340 - acc: 0.933 - ETA: 6:40 - loss: 0.1163 - acc: 0.946 - ETA: 6:35 - loss: 0.1135 - acc: 0.953 - ETA: 6:30 - loss: 0.1110 - acc: 0.953 - ETA: 6:26 - loss: 0.1047 - acc: 0.957 - ETA: 6:21 - loss: 0.1054 - acc: 0.954 - ETA: 6:17 - loss: 0.1143 - acc: 0.953 - ETA: 6:12 - loss: 0.1054 - acc: 0.957 - ETA: 6:07 - loss: 0.1007 - acc: 0.958 - ETA: 6:03 - loss: 0.1051 - acc: 0.957 - ETA: 5:58 - loss: 0.1031 - acc: 0.957 - ETA: 5:53 - loss: 0.1103 - acc: 0.955 - ETA: 5:49 - loss: 0.1105 - acc: 0.956 - ETA: 5:44 - loss: 0.1076 - acc: 0.956 - ETA: 5:40 - loss: 0.1085 - acc: 0.955 - ETA: 5:35 - loss: 0.1089 - acc: 0.956 - ETA: 5:31 - loss: 0.1079 - acc: 0.956 - ETA: 5:26 - loss: 0.1056 - acc: 0.957 - ETA: 5:22 - loss: 0.1036 - acc: 0.957 - ETA: 5:17 - loss: 0.1060 - acc: 0.955 - ETA: 5:13 - loss: 0.1089 - acc: 0.954 - ETA: 5:08 - loss: 0.1074 - acc: 0.955 - ETA: 5:04 - loss: 0.1067 - acc: 0.955 - ETA: 4:59 - loss: 0.1061 - acc: 0.955 - ETA: 4:54 - loss: 0.1049 - acc: 0.955 - ETA: 4:50 - loss: 0.1070 - acc: 0.954 - ETA: 4:46 - loss: 0.1090 - acc: 0.953 - ETA: 4:41 - loss: 0.1072 - acc: 0.954 - ETA: 4:37 - loss: 0.1056 - acc: 0.955 - ETA: 4:32 - loss: 0.1046 - acc: 0.956 - ETA: 4:28 - loss: 0.1039 - acc: 0.956 - ETA: 4:23 - loss: 0.1043 - acc: 0.956 - ETA: 4:18 - loss: 0.1056 - acc: 0.955 - ETA: 4:14 - loss: 0.1040 - acc: 0.956 - ETA: 4:09 - loss: 0.1044 - acc: 0.956 - ETA: 4:05 - loss: 0.1048 - acc: 0.956 - ETA: 4:02 - loss: 0.1061 - acc: 0.955 - ETA: 3:57 - loss: 0.1060 - acc: 0.955 - ETA: 3:53 - loss: 0.1060 - acc: 0.955 - ETA: 3:48 - loss: 0.1065 - acc: 0.956 - ETA: 3:44 - loss: 0.1095 - acc: 0.955 - ETA: 3:39 - loss: 0.1079 - acc: 0.956 - ETA: 3:35 - loss: 0.1075 - acc: 0.956 - ETA: 3:30 - loss: 0.1082 - acc: 0.955 - ETA: 3:25 - loss: 0.1104 - acc: 0.954 - ETA: 3:21 - loss: 0.1121 - acc: 0.954 - ETA: 3:16 - loss: 0.1120 - acc: 0.954 - ETA: 3:12 - loss: 0.1143 - acc: 0.952 - ETA: 3:07 - loss: 0.1149 - acc: 0.952 - ETA: 3:03 - loss: 0.1170 - acc: 0.951 - ETA: 2:58 - loss: 0.1181 - acc: 0.952 - ETA: 2:54 - loss: 0.1196 - acc: 0.951 - ETA: 2:50 - loss: 0.1196 - acc: 0.952 - ETA: 2:45 - loss: 0.1204 - acc: 0.952 - ETA: 2:41 - loss: 0.1196 - acc: 0.952 - ETA: 2:36 - loss: 0.1184 - acc: 0.952 - ETA: 2:32 - loss: 0.1177 - acc: 0.952 - ETA: 2:27 - loss: 0.1170 - acc: 0.953 - ETA: 2:23 - loss: 0.1168 - acc: 0.952 - ETA: 2:18 - loss: 0.1169 - acc: 0.952 - ETA: 2:13 - loss: 0.1165 - acc: 0.953 - ETA: 2:09 - loss: 0.1164 - acc: 0.953 - ETA: 2:04 - loss: 0.1153 - acc: 0.954 - ETA: 2:00 - loss: 0.1140 - acc: 0.954 - ETA: 1:55 - loss: 0.1134 - acc: 0.954 - ETA: 1:51 - loss: 0.1132 - acc: 0.954 - ETA: 1:46 - loss: 0.1134 - acc: 0.954 - ETA: 1:42 - loss: 0.1129 - acc: 0.955 - ETA: 1:38 - loss: 0.1140 - acc: 0.954 - ETA: 1:33 - loss: 0.1143 - acc: 0.954 - ETA: 1:29 - loss: 0.1146 - acc: 0.954 - ETA: 1:24 - loss: 0.1157 - acc: 0.953 - ETA: 1:20 - loss: 0.1155 - acc: 0.953 - ETA: 1:15 - loss: 0.1144 - acc: 0.953 - ETA: 1:11 - loss: 0.1142 - acc: 0.954 - ETA: 1:06 - loss: 0.1135 - acc: 0.954 - ETA: 1:02 - loss: 0.1135 - acc: 0.954 - ETA: 57s - loss: 0.1138 - acc: 0.954 - ETA: 53s - loss: 0.1148 - acc: 0.95 - ETA: 48s - loss: 0.1143 - acc: 0.95 - ETA: 44s - loss: 0.1142 - acc: 0.95 - ETA: 39s - loss: 0.1140 - acc: 0.95 - ETA: 34s - loss: 0.1147 - acc: 0.95 - ETA: 30s - loss: 0.1148 - acc: 0.95 - ETA: 25s - loss: 0.1158 - acc: 0.95 - ETA: 21s - loss: 0.1154 - acc: 0.95 - ETA: 16s - loss: 0.1156 - acc: 0.95 - ETA: 12s - loss: 0.1158 - acc: 0.95 - ETA: 7s - loss: 0.1158 - acc: 0.9528 - ETA: 3s - loss: 0.1153 - acc: 0.953 - 451s 75ms/step - loss: 0.1151 - acc: 0.9531 - val_loss: 0.1078 - val_acc: 0.9567\n",
      "Epoch 9/20\n"
     ]
    },
    {
     "name": "stdout",
     "output_type": "stream",
     "text": [
      "5996/5996 [==============================] - ETA: 6:58 - loss: 0.0435 - acc: 0.984 - ETA: 6:50 - loss: 0.0677 - acc: 0.968 - ETA: 6:46 - loss: 0.0594 - acc: 0.979 - ETA: 6:41 - loss: 0.0890 - acc: 0.964 - ETA: 6:36 - loss: 0.1041 - acc: 0.953 - ETA: 6:32 - loss: 0.1035 - acc: 0.953 - ETA: 6:27 - loss: 0.1044 - acc: 0.955 - ETA: 6:23 - loss: 0.1007 - acc: 0.959 - ETA: 6:19 - loss: 0.0948 - acc: 0.961 - ETA: 6:15 - loss: 0.0917 - acc: 0.964 - ETA: 6:10 - loss: 0.0958 - acc: 0.964 - ETA: 6:06 - loss: 0.0926 - acc: 0.963 - ETA: 6:01 - loss: 0.0880 - acc: 0.966 - ETA: 5:57 - loss: 0.0924 - acc: 0.965 - ETA: 5:52 - loss: 0.0915 - acc: 0.964 - ETA: 5:48 - loss: 0.0880 - acc: 0.965 - ETA: 5:43 - loss: 0.0928 - acc: 0.965 - ETA: 5:38 - loss: 0.0917 - acc: 0.964 - ETA: 5:34 - loss: 0.0895 - acc: 0.966 - ETA: 5:29 - loss: 0.0865 - acc: 0.968 - ETA: 5:25 - loss: 0.0869 - acc: 0.967 - ETA: 5:20 - loss: 0.0872 - acc: 0.967 - ETA: 5:16 - loss: 0.0860 - acc: 0.967 - ETA: 5:11 - loss: 0.0848 - acc: 0.967 - ETA: 5:07 - loss: 0.0852 - acc: 0.966 - ETA: 5:02 - loss: 0.0851 - acc: 0.966 - ETA: 4:58 - loss: 0.0836 - acc: 0.967 - ETA: 4:53 - loss: 0.0827 - acc: 0.967 - ETA: 4:49 - loss: 0.0803 - acc: 0.968 - ETA: 4:45 - loss: 0.0788 - acc: 0.969 - ETA: 4:40 - loss: 0.0779 - acc: 0.969 - ETA: 4:36 - loss: 0.0821 - acc: 0.968 - ETA: 4:32 - loss: 0.0834 - acc: 0.968 - ETA: 4:27 - loss: 0.0820 - acc: 0.968 - ETA: 4:22 - loss: 0.0822 - acc: 0.968 - ETA: 4:18 - loss: 0.0839 - acc: 0.967 - ETA: 4:14 - loss: 0.0868 - acc: 0.965 - ETA: 4:09 - loss: 0.0882 - acc: 0.965 - ETA: 4:05 - loss: 0.0880 - acc: 0.965 - ETA: 4:00 - loss: 0.0878 - acc: 0.965 - ETA: 3:56 - loss: 0.0878 - acc: 0.965 - ETA: 3:51 - loss: 0.0866 - acc: 0.966 - ETA: 3:47 - loss: 0.0877 - acc: 0.965 - ETA: 3:42 - loss: 0.0880 - acc: 0.965 - ETA: 3:38 - loss: 0.0890 - acc: 0.965 - ETA: 3:33 - loss: 0.0882 - acc: 0.966 - ETA: 3:29 - loss: 0.0890 - acc: 0.965 - ETA: 3:24 - loss: 0.0883 - acc: 0.966 - ETA: 3:20 - loss: 0.0895 - acc: 0.966 - ETA: 3:15 - loss: 0.0892 - acc: 0.966 - ETA: 3:11 - loss: 0.0884 - acc: 0.966 - ETA: 3:06 - loss: 0.0886 - acc: 0.966 - ETA: 3:02 - loss: 0.0890 - acc: 0.966 - ETA: 2:57 - loss: 0.0893 - acc: 0.965 - ETA: 2:53 - loss: 0.0907 - acc: 0.965 - ETA: 2:48 - loss: 0.0921 - acc: 0.964 - ETA: 2:44 - loss: 0.0921 - acc: 0.964 - ETA: 2:39 - loss: 0.0921 - acc: 0.963 - ETA: 2:35 - loss: 0.0920 - acc: 0.963 - ETA: 2:31 - loss: 0.0931 - acc: 0.963 - ETA: 2:26 - loss: 0.0921 - acc: 0.963 - ETA: 2:22 - loss: 0.0922 - acc: 0.963 - ETA: 2:17 - loss: 0.0919 - acc: 0.963 - ETA: 2:13 - loss: 0.0913 - acc: 0.963 - ETA: 2:08 - loss: 0.0921 - acc: 0.963 - ETA: 2:04 - loss: 0.0932 - acc: 0.962 - ETA: 1:59 - loss: 0.0935 - acc: 0.962 - ETA: 1:55 - loss: 0.0952 - acc: 0.962 - ETA: 1:50 - loss: 0.0948 - acc: 0.962 - ETA: 1:46 - loss: 0.0944 - acc: 0.962 - ETA: 1:41 - loss: 0.0935 - acc: 0.963 - ETA: 1:37 - loss: 0.0936 - acc: 0.963 - ETA: 1:32 - loss: 0.0933 - acc: 0.963 - ETA: 1:28 - loss: 0.0935 - acc: 0.963 - ETA: 1:23 - loss: 0.0946 - acc: 0.962 - ETA: 1:19 - loss: 0.0953 - acc: 0.962 - ETA: 1:14 - loss: 0.0949 - acc: 0.962 - ETA: 1:10 - loss: 0.0946 - acc: 0.962 - ETA: 1:05 - loss: 0.0947 - acc: 0.962 - ETA: 1:01 - loss: 0.0942 - acc: 0.963 - ETA: 56s - loss: 0.0937 - acc: 0.963 - ETA: 52s - loss: 0.0933 - acc: 0.96 - ETA: 47s - loss: 0.0931 - acc: 0.96 - ETA: 43s - loss: 0.0936 - acc: 0.96 - ETA: 38s - loss: 0.0938 - acc: 0.96 - ETA: 34s - loss: 0.0936 - acc: 0.96 - ETA: 29s - loss: 0.0938 - acc: 0.96 - ETA: 25s - loss: 0.0935 - acc: 0.96 - ETA: 21s - loss: 0.0935 - acc: 0.96 - ETA: 16s - loss: 0.0930 - acc: 0.96 - ETA: 12s - loss: 0.0929 - acc: 0.96 - ETA: 7s - loss: 0.0926 - acc: 0.9638 - ETA: 3s - loss: 0.0919 - acc: 0.964 - 446s 74ms/step - loss: 0.0922 - acc: 0.9641 - val_loss: 0.1077 - val_acc: 0.9593\n",
      "Epoch 10/20\n",
      "5996/5996 [==============================] - ETA: 6:56 - loss: 0.0547 - acc: 0.968 - ETA: 6:48 - loss: 0.0733 - acc: 0.968 - ETA: 6:45 - loss: 0.0681 - acc: 0.974 - ETA: 6:40 - loss: 0.0634 - acc: 0.976 - ETA: 6:35 - loss: 0.0601 - acc: 0.975 - ETA: 6:31 - loss: 0.0803 - acc: 0.968 - ETA: 6:26 - loss: 0.0829 - acc: 0.964 - ETA: 6:22 - loss: 0.0791 - acc: 0.964 - ETA: 6:18 - loss: 0.0742 - acc: 0.968 - ETA: 6:14 - loss: 0.0763 - acc: 0.967 - ETA: 6:10 - loss: 0.0718 - acc: 0.970 - ETA: 6:05 - loss: 0.0706 - acc: 0.970 - ETA: 6:01 - loss: 0.0715 - acc: 0.968 - ETA: 5:56 - loss: 0.0715 - acc: 0.968 - ETA: 5:51 - loss: 0.0738 - acc: 0.968 - ETA: 5:47 - loss: 0.0790 - acc: 0.968 - ETA: 5:44 - loss: 0.0804 - acc: 0.968 - ETA: 5:39 - loss: 0.0783 - acc: 0.969 - ETA: 5:35 - loss: 0.0755 - acc: 0.971 - ETA: 5:30 - loss: 0.0741 - acc: 0.971 - ETA: 5:26 - loss: 0.0742 - acc: 0.971 - ETA: 5:21 - loss: 0.0721 - acc: 0.973 - ETA: 5:17 - loss: 0.0721 - acc: 0.972 - ETA: 5:13 - loss: 0.0717 - acc: 0.972 - ETA: 5:08 - loss: 0.0705 - acc: 0.973 - ETA: 5:03 - loss: 0.0699 - acc: 0.973 - ETA: 4:59 - loss: 0.0711 - acc: 0.973 - ETA: 4:54 - loss: 0.0723 - acc: 0.973 - ETA: 4:50 - loss: 0.0754 - acc: 0.972 - ETA: 4:45 - loss: 0.0754 - acc: 0.972 - ETA: 4:41 - loss: 0.0770 - acc: 0.972 - ETA: 4:36 - loss: 0.0765 - acc: 0.972 - ETA: 4:32 - loss: 0.0766 - acc: 0.972 - ETA: 4:27 - loss: 0.0762 - acc: 0.972 - ETA: 4:23 - loss: 0.0763 - acc: 0.971 - ETA: 4:18 - loss: 0.0756 - acc: 0.972 - ETA: 4:13 - loss: 0.0761 - acc: 0.971 - ETA: 4:09 - loss: 0.0745 - acc: 0.972 - ETA: 4:04 - loss: 0.0735 - acc: 0.973 - ETA: 4:00 - loss: 0.0735 - acc: 0.973 - ETA: 3:55 - loss: 0.0743 - acc: 0.972 - ETA: 3:51 - loss: 0.0738 - acc: 0.973 - ETA: 3:46 - loss: 0.0750 - acc: 0.972 - ETA: 3:42 - loss: 0.0746 - acc: 0.972 - ETA: 3:38 - loss: 0.0741 - acc: 0.972 - ETA: 3:33 - loss: 0.0740 - acc: 0.972 - ETA: 3:29 - loss: 0.0758 - acc: 0.972 - ETA: 3:24 - loss: 0.0753 - acc: 0.971 - ETA: 3:20 - loss: 0.0749 - acc: 0.971 - ETA: 3:15 - loss: 0.0741 - acc: 0.971 - ETA: 3:11 - loss: 0.0741 - acc: 0.971 - ETA: 3:06 - loss: 0.0748 - acc: 0.971 - ETA: 3:02 - loss: 0.0756 - acc: 0.971 - ETA: 2:57 - loss: 0.0765 - acc: 0.971 - ETA: 2:53 - loss: 0.0763 - acc: 0.971 - ETA: 2:48 - loss: 0.0790 - acc: 0.970 - ETA: 2:44 - loss: 0.0790 - acc: 0.970 - ETA: 2:39 - loss: 0.0787 - acc: 0.970 - ETA: 2:35 - loss: 0.0777 - acc: 0.971 - ETA: 2:30 - loss: 0.0776 - acc: 0.970 - ETA: 2:26 - loss: 0.0778 - acc: 0.970 - ETA: 2:22 - loss: 0.0770 - acc: 0.971 - ETA: 2:17 - loss: 0.0771 - acc: 0.971 - ETA: 2:13 - loss: 0.0774 - acc: 0.971 - ETA: 2:08 - loss: 0.0776 - acc: 0.971 - ETA: 2:04 - loss: 0.0777 - acc: 0.971 - ETA: 1:59 - loss: 0.0775 - acc: 0.971 - ETA: 1:55 - loss: 0.0772 - acc: 0.971 - ETA: 1:50 - loss: 0.0768 - acc: 0.971 - ETA: 1:46 - loss: 0.0771 - acc: 0.971 - ETA: 1:41 - loss: 0.0772 - acc: 0.971 - ETA: 1:37 - loss: 0.0768 - acc: 0.971 - ETA: 1:32 - loss: 0.0771 - acc: 0.971 - ETA: 1:28 - loss: 0.0772 - acc: 0.971 - ETA: 1:23 - loss: 0.0766 - acc: 0.971 - ETA: 1:19 - loss: 0.0761 - acc: 0.971 - ETA: 1:14 - loss: 0.0770 - acc: 0.972 - ETA: 1:10 - loss: 0.0764 - acc: 0.972 - ETA: 1:05 - loss: 0.0763 - acc: 0.972 - ETA: 1:01 - loss: 0.0757 - acc: 0.972 - ETA: 56s - loss: 0.0757 - acc: 0.972 - ETA: 52s - loss: 0.0752 - acc: 0.97 - ETA: 47s - loss: 0.0746 - acc: 0.97 - ETA: 43s - loss: 0.0758 - acc: 0.97 - ETA: 38s - loss: 0.0763 - acc: 0.97 - ETA: 34s - loss: 0.0767 - acc: 0.97 - ETA: 29s - loss: 0.0777 - acc: 0.97 - ETA: 25s - loss: 0.0773 - acc: 0.97 - ETA: 21s - loss: 0.0777 - acc: 0.97 - ETA: 16s - loss: 0.0779 - acc: 0.97 - ETA: 12s - loss: 0.0780 - acc: 0.97 - ETA: 7s - loss: 0.0782 - acc: 0.9713 - ETA: 3s - loss: 0.0782 - acc: 0.971 - 447s 74ms/step - loss: 0.0782 - acc: 0.9713 - val_loss: 0.0912 - val_acc: 0.9673\n",
      "Epoch 11/20\n"
     ]
    },
    {
     "name": "stdout",
     "output_type": "stream",
     "text": [
      "5996/5996 [==============================] - ETA: 6:53 - loss: 0.0676 - acc: 0.984 - ETA: 6:53 - loss: 0.0687 - acc: 0.984 - ETA: 6:48 - loss: 0.0587 - acc: 0.984 - ETA: 6:43 - loss: 0.0588 - acc: 0.988 - ETA: 6:38 - loss: 0.0605 - acc: 0.984 - ETA: 6:33 - loss: 0.0594 - acc: 0.981 - ETA: 6:28 - loss: 0.0576 - acc: 0.982 - ETA: 6:24 - loss: 0.0598 - acc: 0.980 - ETA: 6:19 - loss: 0.0577 - acc: 0.980 - ETA: 6:14 - loss: 0.0536 - acc: 0.982 - ETA: 6:10 - loss: 0.0607 - acc: 0.980 - ETA: 6:06 - loss: 0.0605 - acc: 0.977 - ETA: 6:01 - loss: 0.0603 - acc: 0.977 - ETA: 5:56 - loss: 0.0591 - acc: 0.976 - ETA: 5:52 - loss: 0.0601 - acc: 0.975 - ETA: 5:48 - loss: 0.0602 - acc: 0.975 - ETA: 5:43 - loss: 0.0589 - acc: 0.975 - ETA: 5:39 - loss: 0.0575 - acc: 0.975 - ETA: 5:34 - loss: 0.0580 - acc: 0.974 - ETA: 5:29 - loss: 0.0591 - acc: 0.975 - ETA: 5:25 - loss: 0.0606 - acc: 0.975 - ETA: 5:20 - loss: 0.0639 - acc: 0.975 - ETA: 5:16 - loss: 0.0627 - acc: 0.975 - ETA: 5:12 - loss: 0.0623 - acc: 0.975 - ETA: 5:07 - loss: 0.0610 - acc: 0.976 - ETA: 5:03 - loss: 0.0623 - acc: 0.976 - ETA: 4:58 - loss: 0.0641 - acc: 0.975 - ETA: 4:54 - loss: 0.0632 - acc: 0.975 - ETA: 4:49 - loss: 0.0650 - acc: 0.975 - ETA: 4:45 - loss: 0.0645 - acc: 0.976 - ETA: 4:41 - loss: 0.0679 - acc: 0.974 - ETA: 4:36 - loss: 0.0672 - acc: 0.975 - ETA: 4:31 - loss: 0.0659 - acc: 0.975 - ETA: 4:27 - loss: 0.0644 - acc: 0.976 - ETA: 4:22 - loss: 0.0659 - acc: 0.975 - ETA: 4:18 - loss: 0.0681 - acc: 0.975 - ETA: 4:13 - loss: 0.0684 - acc: 0.975 - ETA: 4:09 - loss: 0.0681 - acc: 0.974 - ETA: 4:04 - loss: 0.0673 - acc: 0.975 - ETA: 4:00 - loss: 0.0671 - acc: 0.975 - ETA: 3:55 - loss: 0.0674 - acc: 0.974 - ETA: 3:51 - loss: 0.0665 - acc: 0.975 - ETA: 3:46 - loss: 0.0674 - acc: 0.974 - ETA: 3:42 - loss: 0.0679 - acc: 0.973 - ETA: 3:37 - loss: 0.0672 - acc: 0.973 - ETA: 3:33 - loss: 0.0691 - acc: 0.972 - ETA: 3:28 - loss: 0.0708 - acc: 0.971 - ETA: 3:24 - loss: 0.0710 - acc: 0.971 - ETA: 3:19 - loss: 0.0717 - acc: 0.971 - ETA: 3:15 - loss: 0.0729 - acc: 0.970 - ETA: 3:11 - loss: 0.0723 - acc: 0.970 - ETA: 3:06 - loss: 0.0715 - acc: 0.971 - ETA: 3:02 - loss: 0.0734 - acc: 0.970 - ETA: 2:57 - loss: 0.0727 - acc: 0.971 - ETA: 2:53 - loss: 0.0723 - acc: 0.971 - ETA: 2:48 - loss: 0.0719 - acc: 0.971 - ETA: 2:44 - loss: 0.0725 - acc: 0.970 - ETA: 2:39 - loss: 0.0721 - acc: 0.971 - ETA: 2:35 - loss: 0.0728 - acc: 0.970 - ETA: 2:30 - loss: 0.0717 - acc: 0.971 - ETA: 2:26 - loss: 0.0719 - acc: 0.971 - ETA: 2:21 - loss: 0.0715 - acc: 0.972 - ETA: 2:17 - loss: 0.0710 - acc: 0.972 - ETA: 2:12 - loss: 0.0705 - acc: 0.972 - ETA: 2:08 - loss: 0.0708 - acc: 0.972 - ETA: 2:03 - loss: 0.0704 - acc: 0.973 - ETA: 1:59 - loss: 0.0706 - acc: 0.973 - ETA: 1:54 - loss: 0.0703 - acc: 0.973 - ETA: 1:50 - loss: 0.0701 - acc: 0.973 - ETA: 1:45 - loss: 0.0708 - acc: 0.973 - ETA: 1:41 - loss: 0.0703 - acc: 0.973 - ETA: 1:37 - loss: 0.0702 - acc: 0.973 - ETA: 1:32 - loss: 0.0699 - acc: 0.973 - ETA: 1:28 - loss: 0.0698 - acc: 0.973 - ETA: 1:23 - loss: 0.0703 - acc: 0.973 - ETA: 1:19 - loss: 0.0702 - acc: 0.973 - ETA: 1:14 - loss: 0.0698 - acc: 0.974 - ETA: 1:10 - loss: 0.0692 - acc: 0.974 - ETA: 1:05 - loss: 0.0687 - acc: 0.974 - ETA: 1:01 - loss: 0.0684 - acc: 0.974 - ETA: 56s - loss: 0.0684 - acc: 0.974 - ETA: 52s - loss: 0.0681 - acc: 0.97 - ETA: 47s - loss: 0.0676 - acc: 0.97 - ETA: 43s - loss: 0.0675 - acc: 0.97 - ETA: 38s - loss: 0.0672 - acc: 0.97 - ETA: 34s - loss: 0.0691 - acc: 0.97 - ETA: 29s - loss: 0.0685 - acc: 0.97 - ETA: 25s - loss: 0.0690 - acc: 0.97 - ETA: 20s - loss: 0.0693 - acc: 0.97 - ETA: 16s - loss: 0.0690 - acc: 0.97 - ETA: 12s - loss: 0.0688 - acc: 0.97 - ETA: 7s - loss: 0.0683 - acc: 0.9747 - ETA: 3s - loss: 0.0698 - acc: 0.974 - 446s 74ms/step - loss: 0.0697 - acc: 0.9745 - val_loss: 0.0947 - val_acc: 0.9667\n",
      "Epoch 12/20\n",
      "5996/5996 [==============================] - ETA: 6:55 - loss: 0.0335 - acc: 0.984 - ETA: 6:51 - loss: 0.0397 - acc: 0.984 - ETA: 6:46 - loss: 0.0592 - acc: 0.968 - ETA: 6:42 - loss: 0.0582 - acc: 0.972 - ETA: 6:41 - loss: 0.0547 - acc: 0.978 - ETA: 6:35 - loss: 0.0558 - acc: 0.979 - ETA: 6:30 - loss: 0.0505 - acc: 0.982 - ETA: 6:26 - loss: 0.0505 - acc: 0.982 - ETA: 6:21 - loss: 0.0510 - acc: 0.982 - ETA: 6:17 - loss: 0.0594 - acc: 0.982 - ETA: 6:12 - loss: 0.0618 - acc: 0.981 - ETA: 6:07 - loss: 0.0618 - acc: 0.981 - ETA: 6:02 - loss: 0.0606 - acc: 0.980 - ETA: 5:58 - loss: 0.0578 - acc: 0.982 - ETA: 5:53 - loss: 0.0551 - acc: 0.983 - ETA: 5:49 - loss: 0.0539 - acc: 0.983 - ETA: 5:44 - loss: 0.0538 - acc: 0.982 - ETA: 5:40 - loss: 0.0537 - acc: 0.982 - ETA: 5:35 - loss: 0.0522 - acc: 0.983 - ETA: 5:30 - loss: 0.0538 - acc: 0.982 - ETA: 5:26 - loss: 0.0597 - acc: 0.981 - ETA: 5:21 - loss: 0.0600 - acc: 0.980 - ETA: 5:17 - loss: 0.0595 - acc: 0.981 - ETA: 5:12 - loss: 0.0578 - acc: 0.981 - ETA: 5:07 - loss: 0.0600 - acc: 0.981 - ETA: 5:03 - loss: 0.0590 - acc: 0.981 - ETA: 4:58 - loss: 0.0645 - acc: 0.979 - ETA: 4:54 - loss: 0.0646 - acc: 0.978 - ETA: 4:49 - loss: 0.0640 - acc: 0.978 - ETA: 4:45 - loss: 0.0630 - acc: 0.978 - ETA: 4:40 - loss: 0.0622 - acc: 0.978 - ETA: 4:36 - loss: 0.0612 - acc: 0.979 - ETA: 4:32 - loss: 0.0602 - acc: 0.979 - ETA: 4:27 - loss: 0.0597 - acc: 0.979 - ETA: 4:23 - loss: 0.0590 - acc: 0.979 - ETA: 4:18 - loss: 0.0582 - acc: 0.980 - ETA: 4:14 - loss: 0.0581 - acc: 0.980 - ETA: 4:09 - loss: 0.0582 - acc: 0.979 - ETA: 4:05 - loss: 0.0586 - acc: 0.980 - ETA: 4:00 - loss: 0.0586 - acc: 0.979 - ETA: 3:56 - loss: 0.0592 - acc: 0.979 - ETA: 3:51 - loss: 0.0596 - acc: 0.978 - ETA: 3:47 - loss: 0.0598 - acc: 0.978 - ETA: 3:42 - loss: 0.0590 - acc: 0.979 - ETA: 3:38 - loss: 0.0579 - acc: 0.979 - ETA: 3:33 - loss: 0.0585 - acc: 0.979 - ETA: 3:29 - loss: 0.0595 - acc: 0.979 - ETA: 3:24 - loss: 0.0600 - acc: 0.979 - ETA: 3:20 - loss: 0.0594 - acc: 0.979 - ETA: 3:15 - loss: 0.0585 - acc: 0.979 - ETA: 3:11 - loss: 0.0584 - acc: 0.979 - ETA: 3:06 - loss: 0.0584 - acc: 0.979 - ETA: 3:02 - loss: 0.0582 - acc: 0.978 - ETA: 2:57 - loss: 0.0579 - acc: 0.978 - ETA: 2:53 - loss: 0.0573 - acc: 0.978 - ETA: 2:48 - loss: 0.0572 - acc: 0.978 - ETA: 2:44 - loss: 0.0573 - acc: 0.978 - ETA: 2:39 - loss: 0.0572 - acc: 0.978 - ETA: 2:35 - loss: 0.0576 - acc: 0.978 - ETA: 2:30 - loss: 0.0568 - acc: 0.978 - ETA: 2:26 - loss: 0.0570 - acc: 0.978 - ETA: 2:22 - loss: 0.0577 - acc: 0.977 - ETA: 2:17 - loss: 0.0581 - acc: 0.977 - ETA: 2:13 - loss: 0.0579 - acc: 0.977 - ETA: 2:08 - loss: 0.0572 - acc: 0.978 - ETA: 2:04 - loss: 0.0566 - acc: 0.978 - ETA: 1:59 - loss: 0.0567 - acc: 0.978 - ETA: 1:55 - loss: 0.0567 - acc: 0.978 - ETA: 1:50 - loss: 0.0562 - acc: 0.978 - ETA: 1:46 - loss: 0.0557 - acc: 0.978 - ETA: 1:41 - loss: 0.0551 - acc: 0.978 - ETA: 1:37 - loss: 0.0557 - acc: 0.978 - ETA: 1:32 - loss: 0.0562 - acc: 0.978 - ETA: 1:28 - loss: 0.0564 - acc: 0.978 - ETA: 1:23 - loss: 0.0557 - acc: 0.979 - ETA: 1:19 - loss: 0.0554 - acc: 0.979 - ETA: 1:14 - loss: 0.0549 - acc: 0.979 - ETA: 1:10 - loss: 0.0546 - acc: 0.979 - ETA: 1:05 - loss: 0.0552 - acc: 0.979 - ETA: 1:01 - loss: 0.0552 - acc: 0.979 - ETA: 56s - loss: 0.0547 - acc: 0.979 - ETA: 52s - loss: 0.0541 - acc: 0.97 - ETA: 47s - loss: 0.0544 - acc: 0.97 - ETA: 43s - loss: 0.0539 - acc: 0.97 - ETA: 38s - loss: 0.0535 - acc: 0.98 - ETA: 34s - loss: 0.0534 - acc: 0.98 - ETA: 29s - loss: 0.0531 - acc: 0.98 - ETA: 25s - loss: 0.0537 - acc: 0.97 - ETA: 20s - loss: 0.0534 - acc: 0.98 - ETA: 16s - loss: 0.0530 - acc: 0.98 - ETA: 12s - loss: 0.0529 - acc: 0.98 - ETA: 7s - loss: 0.0528 - acc: 0.9805 - ETA: 3s - loss: 0.0525 - acc: 0.980 - 446s 74ms/step - loss: 0.0524 - acc: 0.9807 - val_loss: 0.0917 - val_acc: 0.9740\n",
      "Epoch 13/20\n"
     ]
    },
    {
     "name": "stdout",
     "output_type": "stream",
     "text": [
      "5996/5996 [==============================] - ETA: 6:52 - loss: 0.0559 - acc: 0.968 - ETA: 6:47 - loss: 0.0417 - acc: 0.984 - ETA: 6:43 - loss: 0.0342 - acc: 0.989 - ETA: 6:39 - loss: 0.0453 - acc: 0.988 - ETA: 6:34 - loss: 0.0394 - acc: 0.990 - ETA: 6:30 - loss: 0.0414 - acc: 0.989 - ETA: 6:25 - loss: 0.0395 - acc: 0.988 - ETA: 6:21 - loss: 0.0473 - acc: 0.984 - ETA: 6:16 - loss: 0.0453 - acc: 0.986 - ETA: 6:12 - loss: 0.0439 - acc: 0.985 - ETA: 6:08 - loss: 0.0434 - acc: 0.985 - ETA: 6:03 - loss: 0.0472 - acc: 0.984 - ETA: 6:00 - loss: 0.0487 - acc: 0.982 - ETA: 5:55 - loss: 0.0508 - acc: 0.982 - ETA: 5:51 - loss: 0.0496 - acc: 0.982 - ETA: 5:47 - loss: 0.0524 - acc: 0.980 - ETA: 5:42 - loss: 0.0497 - acc: 0.981 - ETA: 5:38 - loss: 0.0512 - acc: 0.981 - ETA: 5:34 - loss: 0.0513 - acc: 0.981 - ETA: 5:29 - loss: 0.0503 - acc: 0.982 - ETA: 5:25 - loss: 0.0506 - acc: 0.982 - ETA: 5:20 - loss: 0.0487 - acc: 0.983 - ETA: 5:16 - loss: 0.0496 - acc: 0.983 - ETA: 5:11 - loss: 0.0526 - acc: 0.981 - ETA: 5:07 - loss: 0.0510 - acc: 0.982 - ETA: 5:02 - loss: 0.0512 - acc: 0.981 - ETA: 4:58 - loss: 0.0508 - acc: 0.981 - ETA: 4:53 - loss: 0.0527 - acc: 0.979 - ETA: 4:49 - loss: 0.0522 - acc: 0.980 - ETA: 4:44 - loss: 0.0530 - acc: 0.980 - ETA: 4:40 - loss: 0.0528 - acc: 0.979 - ETA: 4:35 - loss: 0.0523 - acc: 0.980 - ETA: 4:31 - loss: 0.0519 - acc: 0.980 - ETA: 4:26 - loss: 0.0514 - acc: 0.980 - ETA: 4:22 - loss: 0.0517 - acc: 0.980 - ETA: 4:18 - loss: 0.0515 - acc: 0.980 - ETA: 4:13 - loss: 0.0503 - acc: 0.980 - ETA: 4:09 - loss: 0.0496 - acc: 0.981 - ETA: 4:04 - loss: 0.0494 - acc: 0.981 - ETA: 4:00 - loss: 0.0493 - acc: 0.981 - ETA: 3:55 - loss: 0.0488 - acc: 0.981 - ETA: 3:51 - loss: 0.0503 - acc: 0.980 - ETA: 3:46 - loss: 0.0493 - acc: 0.981 - ETA: 3:42 - loss: 0.0485 - acc: 0.981 - ETA: 3:39 - loss: 0.0476 - acc: 0.981 - ETA: 3:35 - loss: 0.0471 - acc: 0.982 - ETA: 3:31 - loss: 0.0466 - acc: 0.982 - ETA: 3:27 - loss: 0.0462 - acc: 0.983 - ETA: 3:22 - loss: 0.0468 - acc: 0.982 - ETA: 3:18 - loss: 0.0469 - acc: 0.982 - ETA: 3:13 - loss: 0.0471 - acc: 0.982 - ETA: 3:09 - loss: 0.0467 - acc: 0.982 - ETA: 3:04 - loss: 0.0471 - acc: 0.982 - ETA: 3:00 - loss: 0.0472 - acc: 0.982 - ETA: 2:55 - loss: 0.0476 - acc: 0.981 - ETA: 2:50 - loss: 0.0482 - acc: 0.981 - ETA: 2:46 - loss: 0.0482 - acc: 0.981 - ETA: 2:42 - loss: 0.0485 - acc: 0.981 - ETA: 2:38 - loss: 0.0488 - acc: 0.980 - ETA: 2:34 - loss: 0.0488 - acc: 0.980 - ETA: 2:30 - loss: 0.0496 - acc: 0.980 - ETA: 2:25 - loss: 0.0500 - acc: 0.979 - ETA: 2:20 - loss: 0.0495 - acc: 0.979 - ETA: 2:16 - loss: 0.0494 - acc: 0.980 - ETA: 2:11 - loss: 0.0487 - acc: 0.980 - ETA: 2:07 - loss: 0.0487 - acc: 0.980 - ETA: 2:02 - loss: 0.0483 - acc: 0.980 - ETA: 1:57 - loss: 0.0480 - acc: 0.980 - ETA: 1:53 - loss: 0.0478 - acc: 0.981 - ETA: 1:48 - loss: 0.0478 - acc: 0.981 - ETA: 1:44 - loss: 0.0487 - acc: 0.980 - ETA: 1:39 - loss: 0.0491 - acc: 0.980 - ETA: 1:35 - loss: 0.0490 - acc: 0.980 - ETA: 1:30 - loss: 0.0485 - acc: 0.980 - ETA: 1:26 - loss: 0.0481 - acc: 0.980 - ETA: 1:21 - loss: 0.0476 - acc: 0.981 - ETA: 1:17 - loss: 0.0472 - acc: 0.981 - ETA: 1:12 - loss: 0.0469 - acc: 0.981 - ETA: 1:07 - loss: 0.0470 - acc: 0.981 - ETA: 1:03 - loss: 0.0469 - acc: 0.981 - ETA: 58s - loss: 0.0470 - acc: 0.981 - ETA: 53s - loss: 0.0465 - acc: 0.98 - ETA: 49s - loss: 0.0468 - acc: 0.98 - ETA: 44s - loss: 0.0469 - acc: 0.98 - ETA: 40s - loss: 0.0469 - acc: 0.98 - ETA: 35s - loss: 0.0474 - acc: 0.98 - ETA: 30s - loss: 0.0469 - acc: 0.98 - ETA: 26s - loss: 0.0467 - acc: 0.98 - ETA: 21s - loss: 0.0465 - acc: 0.98 - ETA: 16s - loss: 0.0463 - acc: 0.98 - ETA: 12s - loss: 0.0459 - acc: 0.98 - ETA: 7s - loss: 0.0456 - acc: 0.9817 - ETA: 3s - loss: 0.0455 - acc: 0.981 - 458s 76ms/step - loss: 0.0463 - acc: 0.9817 - val_loss: 0.0970 - val_acc: 0.9713\n",
      "Epoch 14/20\n",
      "5996/5996 [==============================] - ETA: 6:54 - loss: 0.0035 - acc: 1.000 - ETA: 6:50 - loss: 0.0113 - acc: 1.000 - ETA: 6:45 - loss: 0.0148 - acc: 0.994 - ETA: 6:40 - loss: 0.0209 - acc: 0.988 - ETA: 6:37 - loss: 0.0367 - acc: 0.981 - ETA: 6:32 - loss: 0.0419 - acc: 0.979 - ETA: 6:27 - loss: 0.0410 - acc: 0.979 - ETA: 6:22 - loss: 0.0401 - acc: 0.980 - ETA: 6:18 - loss: 0.0371 - acc: 0.982 - ETA: 6:13 - loss: 0.0341 - acc: 0.984 - ETA: 6:09 - loss: 0.0324 - acc: 0.985 - ETA: 6:04 - loss: 0.0325 - acc: 0.984 - ETA: 6:06 - loss: 0.0319 - acc: 0.984 - ETA: 6:05 - loss: 0.0400 - acc: 0.982 - ETA: 6:05 - loss: 0.0410 - acc: 0.981 - ETA: 6:01 - loss: 0.0398 - acc: 0.981 - ETA: 6:01 - loss: 0.0412 - acc: 0.980 - ETA: 5:58 - loss: 0.0408 - acc: 0.981 - ETA: 5:54 - loss: 0.0477 - acc: 0.981 - ETA: 5:51 - loss: 0.0458 - acc: 0.982 - ETA: 5:45 - loss: 0.0447 - acc: 0.983 - ETA: 5:39 - loss: 0.0432 - acc: 0.984 - ETA: 5:34 - loss: 0.0429 - acc: 0.984 - ETA: 5:28 - loss: 0.0439 - acc: 0.983 - ETA: 5:23 - loss: 0.0436 - acc: 0.983 - ETA: 5:17 - loss: 0.0430 - acc: 0.983 - ETA: 5:12 - loss: 0.0427 - acc: 0.983 - ETA: 5:08 - loss: 0.0418 - acc: 0.984 - ETA: 5:04 - loss: 0.0417 - acc: 0.984 - ETA: 4:59 - loss: 0.0409 - acc: 0.985 - ETA: 4:54 - loss: 0.0421 - acc: 0.984 - ETA: 4:48 - loss: 0.0421 - acc: 0.984 - ETA: 4:43 - loss: 0.0433 - acc: 0.983 - ETA: 4:38 - loss: 0.0423 - acc: 0.983 - ETA: 4:33 - loss: 0.0416 - acc: 0.984 - ETA: 4:28 - loss: 0.0420 - acc: 0.983 - ETA: 4:24 - loss: 0.0413 - acc: 0.984 - ETA: 4:19 - loss: 0.0410 - acc: 0.984 - ETA: 4:14 - loss: 0.0402 - acc: 0.984 - ETA: 4:09 - loss: 0.0401 - acc: 0.984 - ETA: 4:04 - loss: 0.0404 - acc: 0.984 - ETA: 3:59 - loss: 0.0405 - acc: 0.984 - ETA: 3:54 - loss: 0.0405 - acc: 0.984 - ETA: 3:50 - loss: 0.0410 - acc: 0.984 - ETA: 3:45 - loss: 0.0420 - acc: 0.984 - ETA: 3:40 - loss: 0.0421 - acc: 0.983 - ETA: 3:35 - loss: 0.0417 - acc: 0.984 - ETA: 3:31 - loss: 0.0417 - acc: 0.983 - ETA: 3:26 - loss: 0.0411 - acc: 0.984 - ETA: 3:21 - loss: 0.0411 - acc: 0.983 - ETA: 3:16 - loss: 0.0407 - acc: 0.983 - ETA: 3:13 - loss: 0.0408 - acc: 0.983 - ETA: 3:08 - loss: 0.0409 - acc: 0.983 - ETA: 3:04 - loss: 0.0409 - acc: 0.983 - ETA: 2:59 - loss: 0.0405 - acc: 0.984 - ETA: 2:55 - loss: 0.0400 - acc: 0.984 - ETA: 2:50 - loss: 0.0396 - acc: 0.984 - ETA: 2:45 - loss: 0.0395 - acc: 0.984 - ETA: 2:40 - loss: 0.0402 - acc: 0.984 - ETA: 2:36 - loss: 0.0401 - acc: 0.984 - ETA: 2:31 - loss: 0.0420 - acc: 0.984 - ETA: 2:26 - loss: 0.0419 - acc: 0.984 - ETA: 2:22 - loss: 0.0416 - acc: 0.984 - ETA: 2:17 - loss: 0.0413 - acc: 0.984 - ETA: 2:12 - loss: 0.0410 - acc: 0.985 - ETA: 2:07 - loss: 0.0406 - acc: 0.985 - ETA: 2:03 - loss: 0.0403 - acc: 0.985 - ETA: 1:58 - loss: 0.0399 - acc: 0.985 - ETA: 1:53 - loss: 0.0398 - acc: 0.985 - ETA: 1:49 - loss: 0.0394 - acc: 0.985 - ETA: 1:44 - loss: 0.0389 - acc: 0.985 - ETA: 1:40 - loss: 0.0385 - acc: 0.986 - ETA: 1:35 - loss: 0.0388 - acc: 0.986 - ETA: 1:30 - loss: 0.0389 - acc: 0.985 - ETA: 1:26 - loss: 0.0387 - acc: 0.986 - ETA: 1:21 - loss: 0.0383 - acc: 0.986 - ETA: 1:16 - loss: 0.0383 - acc: 0.986 - ETA: 1:12 - loss: 0.0382 - acc: 0.986 - ETA: 1:07 - loss: 0.0383 - acc: 0.986 - ETA: 1:02 - loss: 0.0380 - acc: 0.986 - ETA: 58s - loss: 0.0377 - acc: 0.986 - ETA: 53s - loss: 0.0378 - acc: 0.98 - ETA: 49s - loss: 0.0375 - acc: 0.98 - ETA: 44s - loss: 0.0371 - acc: 0.98 - ETA: 39s - loss: 0.0370 - acc: 0.98 - ETA: 35s - loss: 0.0368 - acc: 0.98 - ETA: 30s - loss: 0.0371 - acc: 0.98 - ETA: 26s - loss: 0.0371 - acc: 0.98 - ETA: 21s - loss: 0.0374 - acc: 0.98 - ETA: 16s - loss: 0.0382 - acc: 0.98 - ETA: 12s - loss: 0.0385 - acc: 0.98 - ETA: 7s - loss: 0.0394 - acc: 0.9857 - ETA: 3s - loss: 0.0392 - acc: 0.985 - 456s 76ms/step - loss: 0.0395 - acc: 0.9855 - val_loss: 0.0978 - val_acc: 0.9740\n",
      "Epoch 15/20\n"
     ]
    },
    {
     "name": "stdout",
     "output_type": "stream",
     "text": [
      "5996/5996 [==============================] - ETA: 6:54 - loss: 0.0479 - acc: 0.968 - ETA: 6:56 - loss: 0.0383 - acc: 0.976 - ETA: 6:49 - loss: 0.0321 - acc: 0.984 - ETA: 6:45 - loss: 0.0481 - acc: 0.980 - ETA: 6:38 - loss: 0.0469 - acc: 0.981 - ETA: 6:34 - loss: 0.0447 - acc: 0.984 - ETA: 6:30 - loss: 0.0413 - acc: 0.986 - ETA: 6:26 - loss: 0.0392 - acc: 0.988 - ETA: 6:21 - loss: 0.0359 - acc: 0.989 - ETA: 6:16 - loss: 0.0347 - acc: 0.990 - ETA: 6:12 - loss: 0.0341 - acc: 0.990 - ETA: 6:07 - loss: 0.0337 - acc: 0.990 - ETA: 6:02 - loss: 0.0315 - acc: 0.991 - ETA: 5:58 - loss: 0.0303 - acc: 0.992 - ETA: 5:53 - loss: 0.0316 - acc: 0.990 - ETA: 5:48 - loss: 0.0306 - acc: 0.991 - ETA: 5:44 - loss: 0.0289 - acc: 0.991 - ETA: 5:39 - loss: 0.0280 - acc: 0.992 - ETA: 5:35 - loss: 0.0317 - acc: 0.991 - ETA: 5:30 - loss: 0.0304 - acc: 0.991 - ETA: 5:25 - loss: 0.0334 - acc: 0.990 - ETA: 5:21 - loss: 0.0324 - acc: 0.990 - ETA: 5:17 - loss: 0.0311 - acc: 0.991 - ETA: 5:12 - loss: 0.0310 - acc: 0.990 - ETA: 5:08 - loss: 0.0303 - acc: 0.991 - ETA: 5:03 - loss: 0.0313 - acc: 0.990 - ETA: 4:59 - loss: 0.0322 - acc: 0.989 - ETA: 4:56 - loss: 0.0313 - acc: 0.990 - ETA: 4:52 - loss: 0.0306 - acc: 0.990 - ETA: 4:50 - loss: 0.0297 - acc: 0.990 - ETA: 4:47 - loss: 0.0291 - acc: 0.990 - ETA: 4:42 - loss: 0.0297 - acc: 0.990 - ETA: 4:37 - loss: 0.0296 - acc: 0.990 - ETA: 4:33 - loss: 0.0327 - acc: 0.989 - ETA: 4:28 - loss: 0.0319 - acc: 0.990 - ETA: 4:23 - loss: 0.0312 - acc: 0.990 - ETA: 4:19 - loss: 0.0304 - acc: 0.990 - ETA: 4:14 - loss: 0.0299 - acc: 0.991 - ETA: 4:09 - loss: 0.0306 - acc: 0.990 - ETA: 4:04 - loss: 0.0300 - acc: 0.990 - ETA: 4:00 - loss: 0.0295 - acc: 0.990 - ETA: 3:55 - loss: 0.0307 - acc: 0.990 - ETA: 3:50 - loss: 0.0302 - acc: 0.990 - ETA: 3:46 - loss: 0.0309 - acc: 0.990 - ETA: 3:41 - loss: 0.0303 - acc: 0.990 - ETA: 3:37 - loss: 0.0301 - acc: 0.990 - ETA: 3:32 - loss: 0.0303 - acc: 0.990 - ETA: 3:27 - loss: 0.0304 - acc: 0.990 - ETA: 3:23 - loss: 0.0305 - acc: 0.990 - ETA: 3:18 - loss: 0.0304 - acc: 0.990 - ETA: 3:14 - loss: 0.0305 - acc: 0.990 - ETA: 3:09 - loss: 0.0302 - acc: 0.990 - ETA: 3:04 - loss: 0.0299 - acc: 0.990 - ETA: 3:00 - loss: 0.0297 - acc: 0.990 - ETA: 2:55 - loss: 0.0306 - acc: 0.990 - ETA: 2:51 - loss: 0.0301 - acc: 0.990 - ETA: 2:46 - loss: 0.0298 - acc: 0.990 - ETA: 2:41 - loss: 0.0296 - acc: 0.990 - ETA: 2:37 - loss: 0.0310 - acc: 0.990 - ETA: 2:32 - loss: 0.0308 - acc: 0.990 - ETA: 2:28 - loss: 0.0306 - acc: 0.990 - ETA: 2:23 - loss: 0.0307 - acc: 0.990 - ETA: 2:19 - loss: 0.0317 - acc: 0.990 - ETA: 2:14 - loss: 0.0313 - acc: 0.990 - ETA: 2:10 - loss: 0.0312 - acc: 0.990 - ETA: 2:05 - loss: 0.0312 - acc: 0.990 - ETA: 2:00 - loss: 0.0309 - acc: 0.990 - ETA: 1:56 - loss: 0.0307 - acc: 0.991 - ETA: 1:51 - loss: 0.0307 - acc: 0.990 - ETA: 1:47 - loss: 0.0310 - acc: 0.990 - ETA: 1:42 - loss: 0.0317 - acc: 0.990 - ETA: 1:38 - loss: 0.0322 - acc: 0.990 - ETA: 1:33 - loss: 0.0318 - acc: 0.990 - ETA: 1:29 - loss: 0.0319 - acc: 0.990 - ETA: 1:24 - loss: 0.0316 - acc: 0.990 - ETA: 1:20 - loss: 0.0323 - acc: 0.990 - ETA: 1:15 - loss: 0.0328 - acc: 0.990 - ETA: 1:11 - loss: 0.0332 - acc: 0.990 - ETA: 1:06 - loss: 0.0335 - acc: 0.990 - ETA: 1:01 - loss: 0.0333 - acc: 0.990 - ETA: 57s - loss: 0.0331 - acc: 0.990 - ETA: 52s - loss: 0.0329 - acc: 0.99 - ETA: 48s - loss: 0.0328 - acc: 0.99 - ETA: 43s - loss: 0.0326 - acc: 0.99 - ETA: 39s - loss: 0.0325 - acc: 0.99 - ETA: 34s - loss: 0.0327 - acc: 0.99 - ETA: 30s - loss: 0.0324 - acc: 0.99 - ETA: 25s - loss: 0.0325 - acc: 0.99 - ETA: 21s - loss: 0.0322 - acc: 0.99 - ETA: 16s - loss: 0.0322 - acc: 0.99 - ETA: 12s - loss: 0.0330 - acc: 0.99 - ETA: 7s - loss: 0.0339 - acc: 0.9896 - ETA: 3s - loss: 0.0339 - acc: 0.989 - 451s 75ms/step - loss: 0.0342 - acc: 0.9893 - val_loss: 0.0883 - val_acc: 0.9753\n",
      "Epoch 16/20\n",
      "5996/5996 [==============================] - ETA: 7:03 - loss: 0.0127 - acc: 1.000 - ETA: 6:56 - loss: 0.0243 - acc: 1.000 - ETA: 6:54 - loss: 0.0270 - acc: 0.994 - ETA: 6:47 - loss: 0.0242 - acc: 0.996 - ETA: 6:42 - loss: 0.0384 - acc: 0.993 - ETA: 6:37 - loss: 0.0406 - acc: 0.989 - ETA: 6:32 - loss: 0.0365 - acc: 0.991 - ETA: 6:27 - loss: 0.0338 - acc: 0.992 - ETA: 6:24 - loss: 0.0384 - acc: 0.989 - ETA: 6:20 - loss: 0.0376 - acc: 0.989 - ETA: 6:15 - loss: 0.0351 - acc: 0.990 - ETA: 6:10 - loss: 0.0344 - acc: 0.989 - ETA: 6:05 - loss: 0.0338 - acc: 0.989 - ETA: 6:00 - loss: 0.0321 - acc: 0.990 - ETA: 5:56 - loss: 0.0327 - acc: 0.989 - ETA: 5:51 - loss: 0.0322 - acc: 0.990 - ETA: 5:46 - loss: 0.0313 - acc: 0.990 - ETA: 5:42 - loss: 0.0312 - acc: 0.990 - ETA: 5:37 - loss: 0.0297 - acc: 0.991 - ETA: 5:32 - loss: 0.0294 - acc: 0.991 - ETA: 5:28 - loss: 0.0281 - acc: 0.991 - ETA: 5:24 - loss: 0.0282 - acc: 0.991 - ETA: 5:19 - loss: 0.0305 - acc: 0.990 - ETA: 5:14 - loss: 0.0298 - acc: 0.990 - ETA: 5:10 - loss: 0.0289 - acc: 0.991 - ETA: 5:05 - loss: 0.0298 - acc: 0.991 - ETA: 5:00 - loss: 0.0295 - acc: 0.991 - ETA: 4:56 - loss: 0.0294 - acc: 0.991 - ETA: 4:51 - loss: 0.0288 - acc: 0.991 - ETA: 4:47 - loss: 0.0312 - acc: 0.990 - ETA: 4:42 - loss: 0.0314 - acc: 0.990 - ETA: 4:38 - loss: 0.0315 - acc: 0.990 - ETA: 4:33 - loss: 0.0309 - acc: 0.990 - ETA: 4:29 - loss: 0.0319 - acc: 0.989 - ETA: 4:24 - loss: 0.0314 - acc: 0.989 - ETA: 4:20 - loss: 0.0309 - acc: 0.990 - ETA: 4:15 - loss: 0.0301 - acc: 0.990 - ETA: 4:12 - loss: 0.0297 - acc: 0.990 - ETA: 4:08 - loss: 0.0305 - acc: 0.990 - ETA: 4:04 - loss: 0.0298 - acc: 0.990 - ETA: 4:00 - loss: 0.0294 - acc: 0.990 - ETA: 3:55 - loss: 0.0304 - acc: 0.990 - ETA: 3:51 - loss: 0.0307 - acc: 0.989 - ETA: 3:46 - loss: 0.0307 - acc: 0.989 - ETA: 3:42 - loss: 0.0303 - acc: 0.989 - ETA: 3:38 - loss: 0.0298 - acc: 0.990 - ETA: 3:33 - loss: 0.0295 - acc: 0.990 - ETA: 3:28 - loss: 0.0308 - acc: 0.990 - ETA: 3:24 - loss: 0.0307 - acc: 0.990 - ETA: 3:19 - loss: 0.0304 - acc: 0.990 - ETA: 3:14 - loss: 0.0301 - acc: 0.990 - ETA: 3:10 - loss: 0.0316 - acc: 0.990 - ETA: 3:05 - loss: 0.0313 - acc: 0.990 - ETA: 3:01 - loss: 0.0309 - acc: 0.990 - ETA: 2:56 - loss: 0.0305 - acc: 0.990 - ETA: 2:51 - loss: 0.0305 - acc: 0.990 - ETA: 2:47 - loss: 0.0311 - acc: 0.989 - ETA: 2:42 - loss: 0.0313 - acc: 0.989 - ETA: 2:38 - loss: 0.0311 - acc: 0.989 - ETA: 2:33 - loss: 0.0312 - acc: 0.989 - ETA: 2:29 - loss: 0.0311 - acc: 0.989 - ETA: 2:24 - loss: 0.0321 - acc: 0.988 - ETA: 2:20 - loss: 0.0322 - acc: 0.988 - ETA: 2:15 - loss: 0.0336 - acc: 0.988 - ETA: 2:10 - loss: 0.0343 - acc: 0.988 - ETA: 2:06 - loss: 0.0345 - acc: 0.987 - ETA: 2:01 - loss: 0.0341 - acc: 0.988 - ETA: 1:57 - loss: 0.0342 - acc: 0.988 - ETA: 1:52 - loss: 0.0339 - acc: 0.988 - ETA: 1:48 - loss: 0.0336 - acc: 0.988 - ETA: 1:43 - loss: 0.0331 - acc: 0.988 - ETA: 1:39 - loss: 0.0327 - acc: 0.988 - ETA: 1:34 - loss: 0.0325 - acc: 0.988 - ETA: 1:29 - loss: 0.0323 - acc: 0.989 - ETA: 1:25 - loss: 0.0327 - acc: 0.989 - ETA: 1:20 - loss: 0.0341 - acc: 0.988 - ETA: 1:16 - loss: 0.0339 - acc: 0.988 - ETA: 1:11 - loss: 0.0337 - acc: 0.989 - ETA: 1:07 - loss: 0.0333 - acc: 0.989 - ETA: 1:02 - loss: 0.0333 - acc: 0.989 - ETA: 57s - loss: 0.0331 - acc: 0.989 - ETA: 53s - loss: 0.0329 - acc: 0.98 - ETA: 48s - loss: 0.0326 - acc: 0.98 - ETA: 44s - loss: 0.0338 - acc: 0.98 - ETA: 39s - loss: 0.0337 - acc: 0.98 - ETA: 35s - loss: 0.0336 - acc: 0.98 - ETA: 30s - loss: 0.0334 - acc: 0.98 - ETA: 25s - loss: 0.0331 - acc: 0.98 - ETA: 21s - loss: 0.0328 - acc: 0.98 - ETA: 16s - loss: 0.0325 - acc: 0.98 - ETA: 12s - loss: 0.0323 - acc: 0.98 - ETA: 7s - loss: 0.0322 - acc: 0.9898 - ETA: 3s - loss: 0.0323 - acc: 0.989 - 454s 76ms/step - loss: 0.0322 - acc: 0.9898 - val_loss: 0.0927 - val_acc: 0.9733\n",
      "Epoch 17/20\n"
     ]
    },
    {
     "name": "stdout",
     "output_type": "stream",
     "text": [
      "5996/5996 [==============================] - ETA: 7:11 - loss: 0.0053 - acc: 1.000 - ETA: 7:30 - loss: 0.0057 - acc: 1.000 - ETA: 7:16 - loss: 0.0099 - acc: 1.000 - ETA: 7:05 - loss: 0.0189 - acc: 0.992 - ETA: 7:07 - loss: 0.0175 - acc: 0.993 - ETA: 7:01 - loss: 0.0182 - acc: 0.994 - ETA: 6:52 - loss: 0.0161 - acc: 0.995 - ETA: 6:51 - loss: 0.0161 - acc: 0.996 - ETA: 6:48 - loss: 0.0155 - acc: 0.996 - ETA: 6:42 - loss: 0.0157 - acc: 0.995 - ETA: 6:40 - loss: 0.0159 - acc: 0.994 - ETA: 6:33 - loss: 0.0153 - acc: 0.994 - ETA: 6:27 - loss: 0.0170 - acc: 0.994 - ETA: 6:20 - loss: 0.0162 - acc: 0.994 - ETA: 6:14 - loss: 0.0159 - acc: 0.994 - ETA: 6:08 - loss: 0.0158 - acc: 0.995 - ETA: 6:02 - loss: 0.0164 - acc: 0.994 - ETA: 5:56 - loss: 0.0174 - acc: 0.993 - ETA: 5:51 - loss: 0.0169 - acc: 0.993 - ETA: 5:45 - loss: 0.0167 - acc: 0.993 - ETA: 5:40 - loss: 0.0164 - acc: 0.994 - ETA: 5:34 - loss: 0.0159 - acc: 0.994 - ETA: 5:29 - loss: 0.0160 - acc: 0.994 - ETA: 5:23 - loss: 0.0164 - acc: 0.994 - ETA: 5:18 - loss: 0.0181 - acc: 0.994 - ETA: 5:13 - loss: 0.0181 - acc: 0.994 - ETA: 5:08 - loss: 0.0182 - acc: 0.994 - ETA: 5:03 - loss: 0.0176 - acc: 0.994 - ETA: 4:58 - loss: 0.0174 - acc: 0.994 - ETA: 4:54 - loss: 0.0172 - acc: 0.994 - ETA: 4:49 - loss: 0.0168 - acc: 0.995 - ETA: 4:45 - loss: 0.0175 - acc: 0.994 - ETA: 4:40 - loss: 0.0179 - acc: 0.994 - ETA: 4:37 - loss: 0.0175 - acc: 0.994 - ETA: 4:32 - loss: 0.0180 - acc: 0.994 - ETA: 4:28 - loss: 0.0177 - acc: 0.994 - ETA: 4:23 - loss: 0.0175 - acc: 0.994 - ETA: 4:18 - loss: 0.0177 - acc: 0.994 - ETA: 4:13 - loss: 0.0175 - acc: 0.994 - ETA: 4:09 - loss: 0.0176 - acc: 0.994 - ETA: 4:04 - loss: 0.0173 - acc: 0.994 - ETA: 3:59 - loss: 0.0171 - acc: 0.994 - ETA: 3:54 - loss: 0.0177 - acc: 0.994 - ETA: 3:50 - loss: 0.0175 - acc: 0.994 - ETA: 3:45 - loss: 0.0185 - acc: 0.993 - ETA: 3:40 - loss: 0.0182 - acc: 0.993 - ETA: 3:36 - loss: 0.0189 - acc: 0.993 - ETA: 3:31 - loss: 0.0193 - acc: 0.993 - ETA: 3:26 - loss: 0.0195 - acc: 0.993 - ETA: 3:21 - loss: 0.0192 - acc: 0.993 - ETA: 3:17 - loss: 0.0190 - acc: 0.993 - ETA: 3:12 - loss: 0.0186 - acc: 0.993 - ETA: 3:08 - loss: 0.0186 - acc: 0.993 - ETA: 3:03 - loss: 0.0183 - acc: 0.993 - ETA: 2:59 - loss: 0.0183 - acc: 0.993 - ETA: 2:54 - loss: 0.0180 - acc: 0.993 - ETA: 2:50 - loss: 0.0187 - acc: 0.993 - ETA: 2:45 - loss: 0.0192 - acc: 0.993 - ETA: 2:41 - loss: 0.0196 - acc: 0.993 - ETA: 2:37 - loss: 0.0194 - acc: 0.993 - ETA: 2:32 - loss: 0.0196 - acc: 0.993 - ETA: 2:28 - loss: 0.0195 - acc: 0.993 - ETA: 2:24 - loss: 0.0193 - acc: 0.993 - ETA: 2:19 - loss: 0.0194 - acc: 0.993 - ETA: 2:14 - loss: 0.0192 - acc: 0.993 - ETA: 2:10 - loss: 0.0192 - acc: 0.993 - ETA: 2:05 - loss: 0.0192 - acc: 0.993 - ETA: 2:00 - loss: 0.0197 - acc: 0.992 - ETA: 1:55 - loss: 0.0196 - acc: 0.992 - ETA: 1:51 - loss: 0.0217 - acc: 0.992 - ETA: 1:46 - loss: 0.0216 - acc: 0.992 - ETA: 1:41 - loss: 0.0214 - acc: 0.992 - ETA: 1:36 - loss: 0.0214 - acc: 0.992 - ETA: 1:32 - loss: 0.0213 - acc: 0.992 - ETA: 1:27 - loss: 0.0212 - acc: 0.992 - ETA: 1:22 - loss: 0.0214 - acc: 0.991 - ETA: 1:17 - loss: 0.0212 - acc: 0.991 - ETA: 1:13 - loss: 0.0211 - acc: 0.992 - ETA: 1:08 - loss: 0.0213 - acc: 0.991 - ETA: 1:03 - loss: 0.0214 - acc: 0.991 - ETA: 59s - loss: 0.0215 - acc: 0.991 - ETA: 54s - loss: 0.0214 - acc: 0.99 - ETA: 49s - loss: 0.0223 - acc: 0.99 - ETA: 45s - loss: 0.0222 - acc: 0.99 - ETA: 40s - loss: 0.0220 - acc: 0.99 - ETA: 35s - loss: 0.0236 - acc: 0.99 - ETA: 31s - loss: 0.0236 - acc: 0.99 - ETA: 26s - loss: 0.0234 - acc: 0.99 - ETA: 21s - loss: 0.0233 - acc: 0.99 - ETA: 17s - loss: 0.0234 - acc: 0.99 - ETA: 12s - loss: 0.0237 - acc: 0.99 - ETA: 7s - loss: 0.0238 - acc: 0.9912 - ETA: 3s - loss: 0.0250 - acc: 0.990 - 461s 77ms/step - loss: 0.0251 - acc: 0.9910 - val_loss: 0.1450 - val_acc: 0.9573\n",
      "Epoch 18/20\n",
      "5996/5996 [==============================] - ETA: 6:54 - loss: 0.1489 - acc: 0.968 - ETA: 6:51 - loss: 0.1079 - acc: 0.960 - ETA: 6:49 - loss: 0.0831 - acc: 0.968 - ETA: 6:44 - loss: 0.1133 - acc: 0.968 - ETA: 6:40 - loss: 0.0918 - acc: 0.975 - ETA: 6:35 - loss: 0.0868 - acc: 0.974 - ETA: 6:29 - loss: 0.0797 - acc: 0.973 - ETA: 6:25 - loss: 0.0828 - acc: 0.974 - ETA: 6:19 - loss: 0.0791 - acc: 0.974 - ETA: 6:16 - loss: 0.0731 - acc: 0.975 - ETA: 6:12 - loss: 0.0676 - acc: 0.977 - ETA: 6:07 - loss: 0.0699 - acc: 0.977 - ETA: 6:03 - loss: 0.0698 - acc: 0.978 - ETA: 5:59 - loss: 0.0679 - acc: 0.978 - ETA: 5:54 - loss: 0.0668 - acc: 0.978 - ETA: 5:49 - loss: 0.0652 - acc: 0.978 - ETA: 5:44 - loss: 0.0661 - acc: 0.977 - ETA: 5:40 - loss: 0.0644 - acc: 0.978 - ETA: 5:35 - loss: 0.0683 - acc: 0.976 - ETA: 5:30 - loss: 0.0670 - acc: 0.975 - ETA: 5:25 - loss: 0.0644 - acc: 0.976 - ETA: 5:21 - loss: 0.0619 - acc: 0.978 - ETA: 5:16 - loss: 0.0603 - acc: 0.978 - ETA: 5:12 - loss: 0.0581 - acc: 0.979 - ETA: 5:07 - loss: 0.0559 - acc: 0.980 - ETA: 5:03 - loss: 0.0540 - acc: 0.980 - ETA: 4:58 - loss: 0.0528 - acc: 0.980 - ETA: 4:53 - loss: 0.0521 - acc: 0.981 - ETA: 4:49 - loss: 0.0506 - acc: 0.981 - ETA: 4:44 - loss: 0.0495 - acc: 0.981 - ETA: 4:40 - loss: 0.0489 - acc: 0.981 - ETA: 4:35 - loss: 0.0485 - acc: 0.981 - ETA: 4:31 - loss: 0.0484 - acc: 0.981 - ETA: 4:26 - loss: 0.0482 - acc: 0.981 - ETA: 4:22 - loss: 0.0475 - acc: 0.982 - ETA: 4:17 - loss: 0.0479 - acc: 0.981 - ETA: 4:13 - loss: 0.0470 - acc: 0.981 - ETA: 4:08 - loss: 0.0461 - acc: 0.981 - ETA: 4:04 - loss: 0.0451 - acc: 0.982 - ETA: 3:59 - loss: 0.0449 - acc: 0.982 - ETA: 3:55 - loss: 0.0441 - acc: 0.982 - ETA: 3:50 - loss: 0.0436 - acc: 0.982 - ETA: 3:46 - loss: 0.0428 - acc: 0.982 - ETA: 3:41 - loss: 0.0429 - acc: 0.982 - ETA: 3:37 - loss: 0.0422 - acc: 0.983 - ETA: 3:32 - loss: 0.0414 - acc: 0.983 - ETA: 3:28 - loss: 0.0408 - acc: 0.983 - ETA: 3:24 - loss: 0.0402 - acc: 0.984 - ETA: 3:19 - loss: 0.0396 - acc: 0.984 - ETA: 3:15 - loss: 0.0388 - acc: 0.984 - ETA: 3:10 - loss: 0.0383 - acc: 0.985 - ETA: 3:06 - loss: 0.0381 - acc: 0.985 - ETA: 3:01 - loss: 0.0380 - acc: 0.985 - ETA: 2:57 - loss: 0.0373 - acc: 0.985 - ETA: 2:52 - loss: 0.0370 - acc: 0.985 - ETA: 2:48 - loss: 0.0369 - acc: 0.985 - ETA: 2:43 - loss: 0.0364 - acc: 0.985 - ETA: 2:39 - loss: 0.0359 - acc: 0.985 - ETA: 2:34 - loss: 0.0355 - acc: 0.986 - ETA: 2:30 - loss: 0.0349 - acc: 0.986 - ETA: 2:25 - loss: 0.0344 - acc: 0.986 - ETA: 2:21 - loss: 0.0344 - acc: 0.986 - ETA: 2:16 - loss: 0.0344 - acc: 0.986 - ETA: 2:12 - loss: 0.0339 - acc: 0.986 - ETA: 2:08 - loss: 0.0344 - acc: 0.986 - ETA: 2:03 - loss: 0.0339 - acc: 0.986 - ETA: 1:59 - loss: 0.0334 - acc: 0.986 - ETA: 1:54 - loss: 0.0335 - acc: 0.986 - ETA: 1:50 - loss: 0.0331 - acc: 0.986 - ETA: 1:45 - loss: 0.0329 - acc: 0.986 - ETA: 1:41 - loss: 0.0325 - acc: 0.987 - ETA: 1:36 - loss: 0.0322 - acc: 0.987 - ETA: 1:32 - loss: 0.0324 - acc: 0.987 - ETA: 1:27 - loss: 0.0323 - acc: 0.987 - ETA: 1:23 - loss: 0.0328 - acc: 0.986 - ETA: 1:18 - loss: 0.0335 - acc: 0.986 - ETA: 1:14 - loss: 0.0340 - acc: 0.985 - ETA: 1:10 - loss: 0.0340 - acc: 0.985 - ETA: 1:05 - loss: 0.0336 - acc: 0.986 - ETA: 1:01 - loss: 0.0332 - acc: 0.986 - ETA: 56s - loss: 0.0336 - acc: 0.985 - ETA: 52s - loss: 0.0333 - acc: 0.98 - ETA: 47s - loss: 0.0329 - acc: 0.98 - ETA: 43s - loss: 0.0326 - acc: 0.98 - ETA: 38s - loss: 0.0324 - acc: 0.98 - ETA: 34s - loss: 0.0322 - acc: 0.98 - ETA: 29s - loss: 0.0321 - acc: 0.98 - ETA: 25s - loss: 0.0326 - acc: 0.98 - ETA: 20s - loss: 0.0323 - acc: 0.98 - ETA: 16s - loss: 0.0321 - acc: 0.98 - ETA: 11s - loss: 0.0325 - acc: 0.98 - ETA: 7s - loss: 0.0322 - acc: 0.9866 - ETA: 3s - loss: 0.0319 - acc: 0.986 - 444s 74ms/step - loss: 0.0317 - acc: 0.9868 - val_loss: 0.1120 - val_acc: 0.9773\n",
      "Epoch 19/20\n"
     ]
    },
    {
     "name": "stdout",
     "output_type": "stream",
     "text": [
      "5996/5996 [==============================] - ETA: 6:55 - loss: 0.0514 - acc: 0.968 - ETA: 6:50 - loss: 0.0344 - acc: 0.984 - ETA: 6:45 - loss: 0.0300 - acc: 0.984 - ETA: 6:41 - loss: 0.0366 - acc: 0.984 - ETA: 6:36 - loss: 0.0305 - acc: 0.987 - ETA: 6:34 - loss: 0.0315 - acc: 0.987 - ETA: 6:42 - loss: 0.0313 - acc: 0.986 - ETA: 6:37 - loss: 0.0304 - acc: 0.986 - ETA: 6:32 - loss: 0.0275 - acc: 0.987 - ETA: 6:30 - loss: 0.0263 - acc: 0.989 - ETA: 6:24 - loss: 0.0245 - acc: 0.990 - ETA: 6:18 - loss: 0.0231 - acc: 0.990 - ETA: 6:12 - loss: 0.0229 - acc: 0.991 - ETA: 6:07 - loss: 0.0231 - acc: 0.992 - ETA: 6:02 - loss: 0.0221 - acc: 0.992 - ETA: 5:56 - loss: 0.0295 - acc: 0.991 - ETA: 5:52 - loss: 0.0281 - acc: 0.991 - ETA: 5:47 - loss: 0.0287 - acc: 0.991 - ETA: 5:42 - loss: 0.0275 - acc: 0.991 - ETA: 5:38 - loss: 0.0266 - acc: 0.992 - ETA: 5:34 - loss: 0.0278 - acc: 0.991 - ETA: 5:29 - loss: 0.0276 - acc: 0.991 - ETA: 5:25 - loss: 0.0294 - acc: 0.991 - ETA: 5:22 - loss: 0.0337 - acc: 0.990 - ETA: 5:20 - loss: 0.0332 - acc: 0.990 - ETA: 5:16 - loss: 0.0322 - acc: 0.991 - ETA: 5:13 - loss: 0.0318 - acc: 0.990 - ETA: 5:09 - loss: 0.0326 - acc: 0.990 - ETA: 5:04 - loss: 0.0319 - acc: 0.990 - ETA: 4:59 - loss: 0.0316 - acc: 0.991 - ETA: 4:54 - loss: 0.0308 - acc: 0.991 - ETA: 4:49 - loss: 0.0306 - acc: 0.991 - ETA: 4:44 - loss: 0.0328 - acc: 0.991 - ETA: 4:39 - loss: 0.0322 - acc: 0.991 - ETA: 4:34 - loss: 0.0316 - acc: 0.991 - ETA: 4:29 - loss: 0.0323 - acc: 0.990 - ETA: 4:24 - loss: 0.0324 - acc: 0.990 - ETA: 4:19 - loss: 0.0323 - acc: 0.990 - ETA: 4:15 - loss: 0.0324 - acc: 0.990 - ETA: 4:10 - loss: 0.0330 - acc: 0.989 - ETA: 4:05 - loss: 0.0328 - acc: 0.989 - ETA: 4:00 - loss: 0.0335 - acc: 0.988 - ETA: 3:56 - loss: 0.0331 - acc: 0.988 - ETA: 3:51 - loss: 0.0326 - acc: 0.989 - ETA: 3:46 - loss: 0.0325 - acc: 0.989 - ETA: 3:41 - loss: 0.0335 - acc: 0.988 - ETA: 3:37 - loss: 0.0332 - acc: 0.989 - ETA: 3:32 - loss: 0.0329 - acc: 0.988 - ETA: 3:27 - loss: 0.0325 - acc: 0.989 - ETA: 3:22 - loss: 0.0320 - acc: 0.989 - ETA: 3:17 - loss: 0.0322 - acc: 0.989 - ETA: 3:13 - loss: 0.0316 - acc: 0.989 - ETA: 3:08 - loss: 0.0350 - acc: 0.989 - ETA: 3:04 - loss: 0.0345 - acc: 0.989 - ETA: 2:59 - loss: 0.0347 - acc: 0.989 - ETA: 2:55 - loss: 0.0342 - acc: 0.989 - ETA: 2:50 - loss: 0.0340 - acc: 0.989 - ETA: 2:46 - loss: 0.0335 - acc: 0.990 - ETA: 2:41 - loss: 0.0336 - acc: 0.989 - ETA: 2:36 - loss: 0.0333 - acc: 0.989 - ETA: 2:32 - loss: 0.0333 - acc: 0.989 - ETA: 2:27 - loss: 0.0331 - acc: 0.989 - ETA: 2:22 - loss: 0.0328 - acc: 0.990 - ETA: 2:18 - loss: 0.0324 - acc: 0.990 - ETA: 2:13 - loss: 0.0323 - acc: 0.990 - ETA: 2:08 - loss: 0.0320 - acc: 0.990 - ETA: 2:03 - loss: 0.0325 - acc: 0.990 - ETA: 1:59 - loss: 0.0323 - acc: 0.990 - ETA: 1:54 - loss: 0.0319 - acc: 0.990 - ETA: 1:49 - loss: 0.0316 - acc: 0.990 - ETA: 1:45 - loss: 0.0315 - acc: 0.990 - ETA: 1:40 - loss: 0.0314 - acc: 0.990 - ETA: 1:35 - loss: 0.0317 - acc: 0.990 - ETA: 1:31 - loss: 0.0314 - acc: 0.990 - ETA: 1:26 - loss: 0.0315 - acc: 0.990 - ETA: 1:21 - loss: 0.0312 - acc: 0.990 - ETA: 1:17 - loss: 0.0311 - acc: 0.990 - ETA: 1:12 - loss: 0.0314 - acc: 0.990 - ETA: 1:07 - loss: 0.0311 - acc: 0.990 - ETA: 1:03 - loss: 0.0311 - acc: 0.990 - ETA: 58s - loss: 0.0308 - acc: 0.990 - ETA: 53s - loss: 0.0305 - acc: 0.99 - ETA: 49s - loss: 0.0302 - acc: 0.99 - ETA: 44s - loss: 0.0300 - acc: 0.99 - ETA: 40s - loss: 0.0303 - acc: 0.99 - ETA: 35s - loss: 0.0301 - acc: 0.99 - ETA: 30s - loss: 0.0299 - acc: 0.99 - ETA: 26s - loss: 0.0296 - acc: 0.99 - ETA: 21s - loss: 0.0294 - acc: 0.99 - ETA: 16s - loss: 0.0299 - acc: 0.99 - ETA: 12s - loss: 0.0298 - acc: 0.99 - ETA: 7s - loss: 0.0295 - acc: 0.9908 - ETA: 3s - loss: 0.0302 - acc: 0.990 - 457s 76ms/step - loss: 0.0302 - acc: 0.9908 - val_loss: 0.0863 - val_acc: 0.9780\n",
      "Epoch 20/20\n",
      "5996/5996 [==============================] - ETA: 6:56 - loss: 0.0275 - acc: 0.984 - ETA: 6:52 - loss: 0.0168 - acc: 0.992 - ETA: 6:48 - loss: 0.0169 - acc: 0.989 - ETA: 6:43 - loss: 0.0150 - acc: 0.992 - ETA: 6:40 - loss: 0.0140 - acc: 0.993 - ETA: 6:36 - loss: 0.0125 - acc: 0.994 - ETA: 6:31 - loss: 0.0108 - acc: 0.995 - ETA: 6:27 - loss: 0.0142 - acc: 0.994 - ETA: 6:22 - loss: 0.0142 - acc: 0.994 - ETA: 6:17 - loss: 0.0164 - acc: 0.993 - ETA: 6:12 - loss: 0.0163 - acc: 0.994 - ETA: 6:08 - loss: 0.0170 - acc: 0.993 - ETA: 6:03 - loss: 0.0163 - acc: 0.994 - ETA: 5:59 - loss: 0.0156 - acc: 0.994 - ETA: 5:54 - loss: 0.0244 - acc: 0.992 - ETA: 5:49 - loss: 0.0231 - acc: 0.993 - ETA: 5:44 - loss: 0.0228 - acc: 0.993 - ETA: 5:40 - loss: 0.0232 - acc: 0.993 - ETA: 5:35 - loss: 0.0225 - acc: 0.993 - ETA: 5:31 - loss: 0.0214 - acc: 0.993 - ETA: 5:26 - loss: 0.0205 - acc: 0.994 - ETA: 5:22 - loss: 0.0199 - acc: 0.994 - ETA: 5:18 - loss: 0.0190 - acc: 0.994 - ETA: 5:13 - loss: 0.0189 - acc: 0.994 - ETA: 5:09 - loss: 0.0183 - acc: 0.994 - ETA: 5:05 - loss: 0.0177 - acc: 0.994 - ETA: 5:00 - loss: 0.0181 - acc: 0.994 - ETA: 4:55 - loss: 0.0190 - acc: 0.993 - ETA: 4:51 - loss: 0.0202 - acc: 0.993 - ETA: 4:47 - loss: 0.0202 - acc: 0.993 - ETA: 4:42 - loss: 0.0199 - acc: 0.993 - ETA: 4:37 - loss: 0.0197 - acc: 0.993 - ETA: 4:33 - loss: 0.0203 - acc: 0.993 - ETA: 4:28 - loss: 0.0204 - acc: 0.993 - ETA: 4:24 - loss: 0.0199 - acc: 0.993 - ETA: 4:20 - loss: 0.0197 - acc: 0.993 - ETA: 4:15 - loss: 0.0194 - acc: 0.994 - ETA: 4:11 - loss: 0.0198 - acc: 0.993 - ETA: 4:07 - loss: 0.0193 - acc: 0.994 - ETA: 4:02 - loss: 0.0188 - acc: 0.994 - ETA: 3:58 - loss: 0.0192 - acc: 0.993 - ETA: 3:53 - loss: 0.0189 - acc: 0.994 - ETA: 3:49 - loss: 0.0192 - acc: 0.993 - ETA: 3:44 - loss: 0.0189 - acc: 0.993 - ETA: 3:40 - loss: 0.0190 - acc: 0.993 - ETA: 3:35 - loss: 0.0187 - acc: 0.993 - ETA: 3:31 - loss: 0.0186 - acc: 0.993 - ETA: 3:27 - loss: 0.0186 - acc: 0.993 - ETA: 3:23 - loss: 0.0193 - acc: 0.993 - ETA: 3:19 - loss: 0.0191 - acc: 0.993 - ETA: 3:15 - loss: 0.0193 - acc: 0.993 - ETA: 3:11 - loss: 0.0189 - acc: 0.993 - ETA: 3:07 - loss: 0.0188 - acc: 0.993 - ETA: 3:02 - loss: 0.0187 - acc: 0.993 - ETA: 2:58 - loss: 0.0189 - acc: 0.993 - ETA: 2:54 - loss: 0.0189 - acc: 0.993 - ETA: 2:49 - loss: 0.0188 - acc: 0.993 - ETA: 2:45 - loss: 0.0185 - acc: 0.993 - ETA: 2:40 - loss: 0.0184 - acc: 0.993 - ETA: 2:35 - loss: 0.0184 - acc: 0.993 - ETA: 2:31 - loss: 0.0183 - acc: 0.993 - ETA: 2:26 - loss: 0.0182 - acc: 0.993 - ETA: 2:21 - loss: 0.0183 - acc: 0.993 - ETA: 2:17 - loss: 0.0188 - acc: 0.993 - ETA: 2:12 - loss: 0.0194 - acc: 0.993 - ETA: 2:08 - loss: 0.0201 - acc: 0.992 - ETA: 2:03 - loss: 0.0198 - acc: 0.993 - ETA: 1:59 - loss: 0.0196 - acc: 0.993 - ETA: 1:54 - loss: 0.0194 - acc: 0.993 - ETA: 1:50 - loss: 0.0195 - acc: 0.992 - ETA: 1:45 - loss: 0.0205 - acc: 0.992 - ETA: 1:40 - loss: 0.0210 - acc: 0.992 - ETA: 1:36 - loss: 0.0208 - acc: 0.992 - ETA: 1:31 - loss: 0.0206 - acc: 0.992 - ETA: 1:27 - loss: 0.0206 - acc: 0.992 - ETA: 1:22 - loss: 0.0204 - acc: 0.992 - ETA: 1:17 - loss: 0.0202 - acc: 0.992 - ETA: 1:13 - loss: 0.0199 - acc: 0.993 - ETA: 1:08 - loss: 0.0198 - acc: 0.993 - ETA: 1:03 - loss: 0.0196 - acc: 0.993 - ETA: 59s - loss: 0.0194 - acc: 0.993 - ETA: 54s - loss: 0.0201 - acc: 0.99 - ETA: 50s - loss: 0.0202 - acc: 0.99 - ETA: 45s - loss: 0.0202 - acc: 0.99 - ETA: 40s - loss: 0.0202 - acc: 0.99 - ETA: 35s - loss: 0.0202 - acc: 0.99 - ETA: 31s - loss: 0.0200 - acc: 0.99 - ETA: 26s - loss: 0.0215 - acc: 0.99 - ETA: 21s - loss: 0.0214 - acc: 0.99 - ETA: 17s - loss: 0.0212 - acc: 0.99 - ETA: 12s - loss: 0.0215 - acc: 0.99 - ETA: 7s - loss: 0.0213 - acc: 0.9924 - ETA: 3s - loss: 0.0213 - acc: 0.992 - 464s 77ms/step - loss: 0.0212 - acc: 0.9925 - val_loss: 0.0917 - val_acc: 0.9753\n"
     ]
    }
   ],
   "source": [
    "abcd_trained=fashion_model.fit(train_X, train_label, batch_size=batch_size,epochs=epochs,verbose=1,validation_data=(valid_X, valid_label))"
   ]
  },
  {
   "cell_type": "code",
   "execution_count": 8,
   "metadata": {},
   "outputs": [],
   "source": [
    "import cv2\n",
    "IMG_SIZE=100\n",
    "\n",
    "camera = cv2.VideoCapture(0)\n",
    "for i in range(22):\n",
    "    return_value, image = camera.read()\n",
    "    cv2.imshow('frame',image)\n",
    "    cv2.imwrite('C:/Users/SHUBHAM PANDEY/GRAFFERSID_PROJECTS/Smart_Attendance_System/knn_examples/test/abcd/'+str(i)+'.jpg', image)\n",
    "    key = cv2.waitKey(100)\n",
    "# Stop video\n",
    "camera.release()\n",
    "\n",
    "# Close all started windows\n",
    "cv2.destroyAllWindows()"
   ]
  },
  {
   "cell_type": "code",
   "execution_count": 9,
   "metadata": {},
   "outputs": [
    {
     "name": "stderr",
     "output_type": "stream",
     "text": [
      "100%|█████████████████████████████████████████████████████████████████████████████████| 22/22 [00:00<00:00, 290.12it/s]\n"
     ]
    },
    {
     "name": "stdout",
     "output_type": "stream",
     "text": [
      "(22, 100, 100, 1)\n"
     ]
    }
   ],
   "source": [
    "path = ('C:/Users/SHUBHAM PANDEY/GRAFFERSID_PROJECTS/Smart_Attendance_System/knn_examples/test/abcd/')\n",
    "testing_X=[]\n",
    "IMG_SIZE=100\n",
    "\n",
    "for img in tqdm(os.listdir(path)):\n",
    "    abcd=os.path.join(path,img)\n",
    "    img=cv2.resize(cv2.imread(abcd,cv2.IMREAD_GRAYSCALE),(IMG_SIZE,IMG_SIZE),interpolation = cv2.INTER_LINEAR)\n",
    "    testing_X.append(np.array(img))\n",
    "    \n",
    "testing_X=np.array(testing_X)\n",
    "testing_X=testing_X.astype('float32')\n",
    "testing_X=testing_X/ 255\n",
    "testing_X=testing_X.reshape(-1,100,100,1)\n",
    "print(testing_X.shape)"
   ]
  },
  {
   "cell_type": "code",
   "execution_count": 5,
   "metadata": {},
   "outputs": [],
   "source": [
    "from keras.models import load_model\n",
    "new_model=load_model('expression.h5')"
   ]
  },
  {
   "cell_type": "code",
   "execution_count": 26,
   "metadata": {
    "scrolled": true
   },
   "outputs": [
    {
     "name": "stdout",
     "output_type": "stream",
     "text": [
      "(0, 100, 100, 1)\n",
      "[[]]\n",
      "(0, 100, 100, 1)\n",
      "[[]]\n",
      "(0, 100, 100, 1)\n",
      "[[]]\n",
      "(0, 100, 100, 1)\n",
      "[[]]\n",
      "(0, 100, 100, 1)\n",
      "[[]]\n",
      "(0, 100, 100, 1)\n",
      "[[]]\n",
      "(0, 100, 100, 1)\n",
      "[[]]\n",
      "(0, 100, 100, 1)\n",
      "[[]]\n",
      "(0, 100, 100, 1)\n",
      "[[]]\n",
      "(0, 100, 100, 1)\n",
      "[[]]\n",
      "(0, 100, 100, 1)\n",
      "[[]]\n",
      "(0, 100, 100, 1)\n",
      "[[]]\n",
      "(0, 100, 100, 1)\n",
      "[[]]\n",
      "(0, 100, 100, 1)\n",
      "[[]]\n"
     ]
    },
    {
     "ename": "AttributeError",
     "evalue": "'numpy.ndarray' object has no attribute 'append'",
     "output_type": "error",
     "traceback": [
      "\u001b[1;31m---------------------------------------------------------------------------\u001b[0m",
      "\u001b[1;31mAttributeError\u001b[0m                            Traceback (most recent call last)",
      "\u001b[1;32m<ipython-input-26-f9042f208102>\u001b[0m in \u001b[0;36m<module>\u001b[1;34m()\u001b[0m\n\u001b[0;32m     23\u001b[0m         \u001b[1;31m#Save just the rectangle faces in SubRecFaces\u001b[0m\u001b[1;33m\u001b[0m\u001b[1;33m\u001b[0m\u001b[0m\n\u001b[0;32m     24\u001b[0m         \u001b[0msub_face\u001b[0m \u001b[1;33m=\u001b[0m \u001b[0mframe\u001b[0m\u001b[1;33m[\u001b[0m\u001b[0my\u001b[0m\u001b[1;33m:\u001b[0m\u001b[0my\u001b[0m\u001b[1;33m+\u001b[0m\u001b[0mh\u001b[0m\u001b[1;33m,\u001b[0m \u001b[0mx\u001b[0m\u001b[1;33m:\u001b[0m\u001b[0mx\u001b[0m\u001b[1;33m+\u001b[0m\u001b[0mw\u001b[0m\u001b[1;33m]\u001b[0m\u001b[1;33m\u001b[0m\u001b[0m\n\u001b[1;32m---> 25\u001b[1;33m         \u001b[0mtesting_X\u001b[0m\u001b[1;33m.\u001b[0m\u001b[0mappend\u001b[0m\u001b[1;33m(\u001b[0m\u001b[0mnp\u001b[0m\u001b[1;33m.\u001b[0m\u001b[0marray\u001b[0m\u001b[1;33m(\u001b[0m\u001b[0mimg\u001b[0m\u001b[1;33m)\u001b[0m\u001b[1;33m)\u001b[0m\u001b[1;33m\u001b[0m\u001b[0m\n\u001b[0m\u001b[0;32m     26\u001b[0m \u001b[1;33m\u001b[0m\u001b[0m\n\u001b[0;32m     27\u001b[0m     \u001b[0mtesting_X\u001b[0m\u001b[1;33m=\u001b[0m\u001b[0mnp\u001b[0m\u001b[1;33m.\u001b[0m\u001b[0marray\u001b[0m\u001b[1;33m(\u001b[0m\u001b[0mtesting_X\u001b[0m\u001b[1;33m)\u001b[0m\u001b[1;33m\u001b[0m\u001b[0m\n",
      "\u001b[1;31mAttributeError\u001b[0m: 'numpy.ndarray' object has no attribute 'append'"
     ]
    }
   ],
   "source": [
    "classifier = cv2.CascadeClassifier('haarcascade_frontalface_alt.xml')    \n",
    "video_capture = cv2.VideoCapture(0)\n",
    "IMG_SIZE=100\n",
    "size = 4\n",
    "testing_X=[]\n",
    "l=0\n",
    "\n",
    "while True:\n",
    "    (rval, frame) = video_capture.read()\n",
    "    frame=cv2.flip(frame,1,0) #Flip to act as a mirror\n",
    "\n",
    "    # Resize the image to speed up detection\n",
    "    mini = cv2.resize(frame, (int(frame.shape[1]/size), int(frame.shape[0]/size)),interpolation = cv2.INTER_LINEAR)\n",
    "\n",
    "    # detect MultiScale / faces \n",
    "    faces = classifier.detectMultiScale(mini)\n",
    "\n",
    "    # Draw rectangles around each face\n",
    "    for f in faces:\n",
    "        (x, y, w, h) = [v * size for v in f] #Scale the shapesize backup\n",
    "        #cv2.rectangle(frame, (x,y), (x+w,y+h), (0,255,0), 4)\n",
    "\n",
    "        #Save just the rectangle faces in SubRecFaces\n",
    "        sub_face = frame[y:y+h, x:x+w]\n",
    "        testing_X.append(np.array(img))\n",
    "    \n",
    "    testing_X=np.array(testing_X)\n",
    "    testing_X=testing_X.astype('float32')\n",
    "    testing_X=testing_X/ 255\n",
    "    testing_X=testing_X.reshape(-1,100,100,1)\n",
    "    print(testing_X.shape)\n",
    "\n",
    "    predicted_classes=[]\n",
    "    predicted_classes.append(new_model.predict(testing_X))\n",
    "    print(predicted_classes)\n",
    "    \n",
    "    if cv2.waitKey(1) & 0xFF == ord('q'):\n",
    "        break\n",
    "\n",
    "video_capture.release()\n",
    "cv2.destroyAllWindows()\n",
    "        \n",
    "        "
   ]
  },
  {
   "cell_type": "code",
   "execution_count": null,
   "metadata": {},
   "outputs": [],
   "source": []
  },
  {
   "cell_type": "code",
   "execution_count": 10,
   "metadata": {},
   "outputs": [],
   "source": [
    "#b=['Pizza','Rasmalai','Samosa']"
   ]
  },
  {
   "cell_type": "code",
   "execution_count": 22,
   "metadata": {},
   "outputs": [],
   "source": [
    "fashion_model.save('expression.h5')"
   ]
  },
  {
   "cell_type": "code",
   "execution_count": null,
   "metadata": {},
   "outputs": [],
   "source": []
  },
  {
   "cell_type": "code",
   "execution_count": 23,
   "metadata": {},
   "outputs": [],
   "source": [
    "from keras.models import load_model"
   ]
  },
  {
   "cell_type": "code",
   "execution_count": 10,
   "metadata": {},
   "outputs": [
    {
     "name": "stdout",
     "output_type": "stream",
     "text": [
      "[array([[9.8776895e-01, 1.2231080e-02],\n",
      "       [4.4525668e-01, 5.5474329e-01],\n",
      "       [6.9412220e-01, 3.0587783e-01],\n",
      "       [7.6049465e-01, 2.3950534e-01],\n",
      "       [9.5560932e-01, 4.4390708e-02],\n",
      "       [9.6299565e-01, 3.7004292e-02],\n",
      "       [8.4560740e-01, 1.5439266e-01],\n",
      "       [2.1499994e-01, 7.8500009e-01],\n",
      "       [9.8864116e-02, 9.0113586e-01],\n",
      "       [2.2915887e-02, 9.7708410e-01],\n",
      "       [8.2387077e-03, 9.9176133e-01],\n",
      "       [8.8677257e-03, 9.9113232e-01],\n",
      "       [8.2718652e-01, 1.7281340e-01],\n",
      "       [4.7864300e-01, 5.2135700e-01],\n",
      "       [9.9947661e-01, 5.2343908e-04],\n",
      "       [7.9384434e-01, 2.0615563e-01],\n",
      "       [7.3524886e-01, 2.6475114e-01],\n",
      "       [7.5114280e-01, 2.4885723e-01],\n",
      "       [6.0702455e-01, 3.9297548e-01],\n",
      "       [4.8135760e-01, 5.1864243e-01],\n",
      "       [6.2150371e-01, 3.7849626e-01],\n",
      "       [6.7313874e-01, 3.2686123e-01]], dtype=float32)]\n"
     ]
    }
   ],
   "source": [
    "#new_model=load_model('expression.h5')\n",
    "\n",
    "predicted_classes=[]\n",
    "predicted_classes.append(new_model.predict(testing_X))\n",
    "print(predicted_classes)"
   ]
  },
  {
   "cell_type": "code",
   "execution_count": 11,
   "metadata": {},
   "outputs": [
    {
     "name": "stdout",
     "output_type": "stream",
     "text": [
      "(array([0], dtype=int64),)\n",
      "(array([1], dtype=int64),)\n",
      "(array([0], dtype=int64),)\n",
      "(array([0], dtype=int64),)\n",
      "(array([0], dtype=int64),)\n",
      "(array([0], dtype=int64),)\n",
      "(array([0], dtype=int64),)\n",
      "(array([1], dtype=int64),)\n",
      "(array([1], dtype=int64),)\n",
      "(array([1], dtype=int64),)\n",
      "(array([1], dtype=int64),)\n",
      "(array([1], dtype=int64),)\n",
      "(array([0], dtype=int64),)\n",
      "(array([1], dtype=int64),)\n",
      "(array([0], dtype=int64),)\n",
      "(array([0], dtype=int64),)\n",
      "(array([0], dtype=int64),)\n",
      "(array([0], dtype=int64),)\n",
      "(array([0], dtype=int64),)\n",
      "(array([1], dtype=int64),)\n",
      "(array([0], dtype=int64),)\n",
      "(array([0], dtype=int64),)\n",
      "[0 1]\n",
      "2\n",
      "[14, 8]\n",
      "0\n"
     ]
    },
    {
     "ename": "NameError",
     "evalue": "name 'b' is not defined",
     "output_type": "error",
     "traceback": [
      "\u001b[1;31m---------------------------------------------------------------------------\u001b[0m",
      "\u001b[1;31mNameError\u001b[0m                                 Traceback (most recent call last)",
      "\u001b[1;32m<ipython-input-11-8f52ca855e7b>\u001b[0m in \u001b[0;36m<module>\u001b[1;34m()\u001b[0m\n\u001b[0;32m     27\u001b[0m \u001b[1;33m\u001b[0m\u001b[0m\n\u001b[0;32m     28\u001b[0m \u001b[1;33m\u001b[0m\u001b[0m\n\u001b[1;32m---> 29\u001b[1;33m \u001b[0mfinal\u001b[0m\u001b[1;33m=\u001b[0m\u001b[0mb\u001b[0m\u001b[1;33m[\u001b[0m\u001b[0mt\u001b[0m\u001b[1;33m]\u001b[0m\u001b[1;33m\u001b[0m\u001b[0m\n\u001b[0m\u001b[0;32m     30\u001b[0m \u001b[1;33m\u001b[0m\u001b[0m\n\u001b[0;32m     31\u001b[0m \u001b[0mprint\u001b[0m\u001b[1;33m(\u001b[0m\u001b[0mfinal\u001b[0m\u001b[1;33m)\u001b[0m\u001b[1;33m\u001b[0m\u001b[0m\n",
      "\u001b[1;31mNameError\u001b[0m: name 'b' is not defined"
     ]
    }
   ],
   "source": [
    "w=[]\n",
    "for i in range(0,22):\n",
    "    abcd=predicted_classes[0][i]\n",
    "    result=np.where(abcd == np.amax(abcd))\n",
    "    print(result)\n",
    "    w.append(result[0])\n",
    "\n",
    "newSet = np.unique(w)\n",
    "print(newSet)\n",
    "s=len(newSet)\n",
    "print(s)\n",
    "count = [0]*s\n",
    "i = 0\n",
    "for y in newSet:\n",
    "    for x in w:\n",
    "        if x==y:\n",
    "            count[i] = count[i] +1\n",
    "    i = i + 1\n",
    "    \n",
    "print(count)\n",
    "\n",
    "maxpos=count.index(max(count))\n",
    "\n",
    "t=newSet[maxpos]\n",
    "\n",
    "print(t)\n",
    "\n",
    "\n",
    "final=b[t]\n",
    "\n",
    "print(final)"
   ]
  },
  {
   "cell_type": "code",
   "execution_count": null,
   "metadata": {},
   "outputs": [],
   "source": []
  },
  {
   "cell_type": "code",
   "execution_count": null,
   "metadata": {},
   "outputs": [],
   "source": []
  }
 ],
 "metadata": {
  "kernelspec": {
   "display_name": "Python 3",
   "language": "python",
   "name": "python3"
  },
  "language_info": {
   "codemirror_mode": {
    "name": "ipython",
    "version": 3
   },
   "file_extension": ".py",
   "mimetype": "text/x-python",
   "name": "python",
   "nbconvert_exporter": "python",
   "pygments_lexer": "ipython3",
   "version": "3.6.5"
  }
 },
 "nbformat": 4,
 "nbformat_minor": 2
}
